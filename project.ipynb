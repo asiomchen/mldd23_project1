{
 "cells": [
  {
   "cell_type": "code",
   "execution_count": 3,
   "id": "3ac739a6",
   "metadata": {},
   "outputs": [],
   "source": [
    "import csv\n",
    "import numpy as np\n",
    "import pandas as pd\n",
    "\n",
    "# featurizer class definition\n",
    "\n",
    "class Featurizer():\n",
    "    \n",
    "    def __init__(self, fp_len, fp_type):\n",
    "        self.fp_len = fp_len\n",
    "        self.fp_type = fp_type\n",
    "    \n",
    "    def __call__(self, df):\n",
    "        fingerprints = []\n",
    "        labels = []\n",
    "        \n",
    "        labels = df['Ki']\n",
    "        fp = []\n",
    "        for index, row in df.iterrows():\n",
    "            fp = row[1:self.fp_len+1]\n",
    "            fingerprints.append(fp)\n",
    "            \n",
    "        fingerprints = np.array(fingerprints)\n",
    "        labels = np.array(labels)\n",
    "        return fingerprints, labels\n",
    "        \n",
    "class KlekFeaturizer(Featurizer):\n",
    "    def __init__(self, fp_len=4860, fp_type='Klek'):\n",
    "        super().__init__(fp_len, fp_type)\n",
    "    \n",
    "class MACCSFeaturizer(Featurizer):\n",
    "    def __init__(self, fp_len=166, fp_type='MACCS'):\n",
    "        super().__init__(fp_len, fp_type)\n",
    "        \n",
    "class SubFeaturizer(Featurizer):\n",
    "    def __init__(self, fp_len=307, fp_type='Sub'):\n",
    "        super().__init__(fp_len, fp_type)"
   ]
  },
  {
   "cell_type": "code",
   "execution_count": 11,
   "id": "4d8c8b3f",
   "metadata": {},
   "outputs": [],
   "source": [
    "#file to DataFrame object\n",
    "\n",
    "filename = 'ready_datasets/5ht1a_KlekFP_final_file.csv'\n",
    "df = pd.read_csv(filename)\n",
    "df = df.dropna()\n",
    "\n",
    "featurizer = KlekFeaturizer()\n",
    "X_train, y_train = featurizer(df)\n",
    "\n",
    "assert X_train.shape[0] == y_train.shape[0], 'X_train and y_train rows do not match'"
   ]
  }
 ],
 "metadata": {
  "kernelspec": {
   "display_name": "Python 3 (ipykernel)",
   "language": "python",
   "name": "python3"
  },
  "language_info": {
   "codemirror_mode": {
    "name": "ipython",
    "version": 3
   },
   "file_extension": ".py",
   "mimetype": "text/x-python",
   "name": "python",
   "nbconvert_exporter": "python",
   "pygments_lexer": "ipython3",
   "version": "3.9.16"
  }
 },
 "nbformat": 4,
 "nbformat_minor": 5
}
