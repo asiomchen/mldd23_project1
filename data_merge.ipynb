{
 "cells": [
  {
   "cell_type": "code",
   "execution_count": 76,
   "id": "3ac739a6",
   "metadata": {},
   "outputs": [],
   "source": [
    "import csv\n",
    "import numpy as np\n",
    "import pandas as pd\n",
    "import torch\n",
    "import torch.nn as nn\n",
    "from tqdm.notebook import tqdm\n",
    "import selfies as sf"
   ]
  },
  {
   "cell_type": "code",
   "execution_count": 77,
   "id": "2dd40b3b",
   "metadata": {},
   "outputs": [],
   "source": [
    "klek1 = pd.read_csv('./GRU_data/chembl_klek.csv')\n",
    "klek2 = pd.read_csv('./GRU_data/250k_klek.csv')\n",
    "klek = pd.concat([klek1, klek2], ignore_index=True)\n",
    "\n",
    "selfies1 = pd.read_csv('./GRU_data/chembl_selfies.csv')\n",
    "selfies2 = pd.read_csv('./GRU_data/250k_selfies.csv')\n",
    "selfies = pd.concat([selfies1, selfies2], ignore_index=True)\n"
   ]
  },
  {
   "cell_type": "code",
   "execution_count": 78,
   "id": "234ae11c",
   "metadata": {},
   "outputs": [
    {
     "name": "stdout",
     "output_type": "stream",
     "text": [
      "Chembl:\n",
      "fp size: (218984, 2) selfies size: (218984, 1)\n",
      "Zinc 250k:\n",
      "fp size: (183879, 2) selfies size: (183879, 1)\n"
     ]
    }
   ],
   "source": [
    "print('Chembl:')\n",
    "print('fp size:', klek1.shape, 'selfies size:', selfies1.shape)\n",
    "print('Zinc 250k:')\n",
    "print('fp size:', klek2.shape, 'selfies size:', selfies2.shape)"
   ]
  },
  {
   "cell_type": "code",
   "execution_count": 79,
   "id": "3e4dd4f6",
   "metadata": {},
   "outputs": [],
   "source": [
    "data = pd.concat([klek, selfies], axis=1)"
   ]
  },
  {
   "cell_type": "code",
   "execution_count": 80,
   "id": "8d77d7c0",
   "metadata": {},
   "outputs": [
    {
     "data": {
      "text/html": [
       "<div>\n",
       "<style scoped>\n",
       "    .dataframe tbody tr th:only-of-type {\n",
       "        vertical-align: middle;\n",
       "    }\n",
       "\n",
       "    .dataframe tbody tr th {\n",
       "        vertical-align: top;\n",
       "    }\n",
       "\n",
       "    .dataframe thead th {\n",
       "        text-align: right;\n",
       "    }\n",
       "</style>\n",
       "<table border=\"1\" class=\"dataframe\">\n",
       "  <thead>\n",
       "    <tr style=\"text-align: right;\">\n",
       "      <th></th>\n",
       "      <th>smiles</th>\n",
       "      <th>fps</th>\n",
       "      <th>selfies</th>\n",
       "    </tr>\n",
       "  </thead>\n",
       "  <tbody>\n",
       "    <tr>\n",
       "      <th>0</th>\n",
       "      <td>Cc1ccc(C(=O)Nc2ccc(S(=O)(=O)N=C(N)N)cc2)cc1</td>\n",
       "      <td>[668, 676, 838, 1012, 1023, 1145, 1192, 1317, ...</td>\n",
       "      <td>[C][C][=C][C][=C][Branch2][Ring1][=N][C][=Bran...</td>\n",
       "    </tr>\n",
       "    <tr>\n",
       "      <th>1</th>\n",
       "      <td>COc1ccc(/C=C/C(C)=O)c(OCC=C(C)C)c1</td>\n",
       "      <td>[125, 132, 296, 646, 668, 1192, 1262, 1644, 25...</td>\n",
       "      <td>[C][O][C][=C][C][=C][Branch1][Branch2][/C][=C]...</td>\n",
       "    </tr>\n",
       "    <tr>\n",
       "      <th>2</th>\n",
       "      <td>O=C(O)/C=C\\CCCCCn1ccnc1</td>\n",
       "      <td>[125, 132, 135, 296, 337, 340, 343, 345, 346, ...</td>\n",
       "      <td>[O][=C][Branch1][C][O][/C][=C][\\C][C][C][C][C]...</td>\n",
       "    </tr>\n",
       "    <tr>\n",
       "      <th>3</th>\n",
       "      <td>CC(C(=O)NO)N(Cc1ccccc1[N+](=O)[O-])C(=O)Nc1ccc...</td>\n",
       "      <td>[0, 13, 19, 97, 101, 296, 609, 668, 671, 676, ...</td>\n",
       "      <td>[C][C][Branch1][#Branch1][C][=Branch1][C][=O][...</td>\n",
       "    </tr>\n",
       "    <tr>\n",
       "      <th>4</th>\n",
       "      <td>O=C(Cc1ccncc1)NCCNC1c2ccc(Cl)cc2CCc2cccnc21</td>\n",
       "      <td>[0, 296, 340, 382, 386, 389, 466, 479, 482, 50...</td>\n",
       "      <td>[O][=C][Branch1][#Branch2][C][C][=C][C][=N][C]...</td>\n",
       "    </tr>\n",
       "    <tr>\n",
       "      <th>...</th>\n",
       "      <td>...</td>\n",
       "      <td>...</td>\n",
       "      <td>...</td>\n",
       "    </tr>\n",
       "    <tr>\n",
       "      <th>402858</th>\n",
       "      <td>CC1(C)CC[C@H](CNC(=O)Cn2ncc3ccccc3c2=O)c2ccccc21</td>\n",
       "      <td>[0, 7, 33, 296, 297, 340, 466, 479, 482, 503, ...</td>\n",
       "      <td>[C][C][Branch1][C][C][C][C][C@H1][Branch2][Rin...</td>\n",
       "    </tr>\n",
       "    <tr>\n",
       "      <th>402859</th>\n",
       "      <td>Cn1ccnc1C(=O)c1ccc(NC(=O)C2CCN(C(=O)C(C)(C)C)C...</td>\n",
       "      <td>[0, 19, 231, 296, 297, 301, 302, 340, 604, 609...</td>\n",
       "      <td>[C][N][C][=C][N][=C][Ring1][Branch1][C][=Branc...</td>\n",
       "    </tr>\n",
       "    <tr>\n",
       "      <th>402860</th>\n",
       "      <td>Cc1ccc(NC(=O)C(=O)N(C)Cc2ccccc2)c(C)c1</td>\n",
       "      <td>[296, 565, 607, 609, 629, 668, 676, 838, 1013,...</td>\n",
       "      <td>[C][C][=C][C][=C][Branch2][Ring1][#Branch1][N]...</td>\n",
       "    </tr>\n",
       "    <tr>\n",
       "      <th>402861</th>\n",
       "      <td>Cc1cc(C(=O)Nc2ccc(OCC(N)=O)cc2)c(C)n1C1CC1</td>\n",
       "      <td>[0, 227, 296, 503, 546, 646, 668, 676, 838, 10...</td>\n",
       "      <td>[C][C][=C][C][Branch2][Ring1][#Branch1][C][=Br...</td>\n",
       "    </tr>\n",
       "    <tr>\n",
       "      <th>402862</th>\n",
       "      <td>O=C(CC(c1ccccc1)c1ccccc1)N1CCN(S(=O)(=O)c2cccc...</td>\n",
       "      <td>[0, 9, 32, 296, 297, 340, 503, 604, 609, 620, ...</td>\n",
       "      <td>[O][=C][Branch2][Ring1][Branch1][C][C][Branch1...</td>\n",
       "    </tr>\n",
       "  </tbody>\n",
       "</table>\n",
       "<p>402863 rows × 3 columns</p>\n",
       "</div>"
      ],
      "text/plain": [
       "                                                   smiles  \\\n",
       "0             Cc1ccc(C(=O)Nc2ccc(S(=O)(=O)N=C(N)N)cc2)cc1   \n",
       "1                      COc1ccc(/C=C/C(C)=O)c(OCC=C(C)C)c1   \n",
       "2                                 O=C(O)/C=C\\CCCCCn1ccnc1   \n",
       "3       CC(C(=O)NO)N(Cc1ccccc1[N+](=O)[O-])C(=O)Nc1ccc...   \n",
       "4             O=C(Cc1ccncc1)NCCNC1c2ccc(Cl)cc2CCc2cccnc21   \n",
       "...                                                   ...   \n",
       "402858   CC1(C)CC[C@H](CNC(=O)Cn2ncc3ccccc3c2=O)c2ccccc21   \n",
       "402859  Cn1ccnc1C(=O)c1ccc(NC(=O)C2CCN(C(=O)C(C)(C)C)C...   \n",
       "402860             Cc1ccc(NC(=O)C(=O)N(C)Cc2ccccc2)c(C)c1   \n",
       "402861         Cc1cc(C(=O)Nc2ccc(OCC(N)=O)cc2)c(C)n1C1CC1   \n",
       "402862  O=C(CC(c1ccccc1)c1ccccc1)N1CCN(S(=O)(=O)c2cccc...   \n",
       "\n",
       "                                                      fps  \\\n",
       "0       [668, 676, 838, 1012, 1023, 1145, 1192, 1317, ...   \n",
       "1       [125, 132, 296, 646, 668, 1192, 1262, 1644, 25...   \n",
       "2       [125, 132, 135, 296, 337, 340, 343, 345, 346, ...   \n",
       "3       [0, 13, 19, 97, 101, 296, 609, 668, 671, 676, ...   \n",
       "4       [0, 296, 340, 382, 386, 389, 466, 479, 482, 50...   \n",
       "...                                                   ...   \n",
       "402858  [0, 7, 33, 296, 297, 340, 466, 479, 482, 503, ...   \n",
       "402859  [0, 19, 231, 296, 297, 301, 302, 340, 604, 609...   \n",
       "402860  [296, 565, 607, 609, 629, 668, 676, 838, 1013,...   \n",
       "402861  [0, 227, 296, 503, 546, 646, 668, 676, 838, 10...   \n",
       "402862  [0, 9, 32, 296, 297, 340, 503, 604, 609, 620, ...   \n",
       "\n",
       "                                                  selfies  \n",
       "0       [C][C][=C][C][=C][Branch2][Ring1][=N][C][=Bran...  \n",
       "1       [C][O][C][=C][C][=C][Branch1][Branch2][/C][=C]...  \n",
       "2       [O][=C][Branch1][C][O][/C][=C][\\C][C][C][C][C]...  \n",
       "3       [C][C][Branch1][#Branch1][C][=Branch1][C][=O][...  \n",
       "4       [O][=C][Branch1][#Branch2][C][C][=C][C][=N][C]...  \n",
       "...                                                   ...  \n",
       "402858  [C][C][Branch1][C][C][C][C][C@H1][Branch2][Rin...  \n",
       "402859  [C][N][C][=C][N][=C][Ring1][Branch1][C][=Branc...  \n",
       "402860  [C][C][=C][C][=C][Branch2][Ring1][#Branch1][N]...  \n",
       "402861  [C][C][=C][C][Branch2][Ring1][#Branch1][C][=Br...  \n",
       "402862  [O][=C][Branch2][Ring1][Branch1][C][C][Branch1...  \n",
       "\n",
       "[402863 rows x 3 columns]"
      ]
     },
     "execution_count": 80,
     "metadata": {},
     "output_type": "execute_result"
    }
   ],
   "source": [
    "data"
   ]
  },
  {
   "cell_type": "code",
   "execution_count": 81,
   "id": "1d79a77c",
   "metadata": {},
   "outputs": [],
   "source": [
    "data = data.drop_duplicates(subset=['smiles'])"
   ]
  },
  {
   "cell_type": "code",
   "execution_count": 82,
   "id": "a36bea51",
   "metadata": {},
   "outputs": [
    {
     "data": {
      "text/html": [
       "<div>\n",
       "<style scoped>\n",
       "    .dataframe tbody tr th:only-of-type {\n",
       "        vertical-align: middle;\n",
       "    }\n",
       "\n",
       "    .dataframe tbody tr th {\n",
       "        vertical-align: top;\n",
       "    }\n",
       "\n",
       "    .dataframe thead th {\n",
       "        text-align: right;\n",
       "    }\n",
       "</style>\n",
       "<table border=\"1\" class=\"dataframe\">\n",
       "  <thead>\n",
       "    <tr style=\"text-align: right;\">\n",
       "      <th></th>\n",
       "      <th>smiles</th>\n",
       "      <th>fps</th>\n",
       "      <th>selfies</th>\n",
       "    </tr>\n",
       "  </thead>\n",
       "  <tbody>\n",
       "    <tr>\n",
       "      <th>0</th>\n",
       "      <td>Cc1ccc(C(=O)Nc2ccc(S(=O)(=O)N=C(N)N)cc2)cc1</td>\n",
       "      <td>[668, 676, 838, 1012, 1023, 1145, 1192, 1317, ...</td>\n",
       "      <td>[C][C][=C][C][=C][Branch2][Ring1][=N][C][=Bran...</td>\n",
       "    </tr>\n",
       "    <tr>\n",
       "      <th>1</th>\n",
       "      <td>COc1ccc(/C=C/C(C)=O)c(OCC=C(C)C)c1</td>\n",
       "      <td>[125, 132, 296, 646, 668, 1192, 1262, 1644, 25...</td>\n",
       "      <td>[C][O][C][=C][C][=C][Branch1][Branch2][/C][=C]...</td>\n",
       "    </tr>\n",
       "    <tr>\n",
       "      <th>2</th>\n",
       "      <td>O=C(O)/C=C\\CCCCCn1ccnc1</td>\n",
       "      <td>[125, 132, 135, 296, 337, 340, 343, 345, 346, ...</td>\n",
       "      <td>[O][=C][Branch1][C][O][/C][=C][\\C][C][C][C][C]...</td>\n",
       "    </tr>\n",
       "    <tr>\n",
       "      <th>3</th>\n",
       "      <td>CC(C(=O)NO)N(Cc1ccccc1[N+](=O)[O-])C(=O)Nc1ccc...</td>\n",
       "      <td>[0, 13, 19, 97, 101, 296, 609, 668, 671, 676, ...</td>\n",
       "      <td>[C][C][Branch1][#Branch1][C][=Branch1][C][=O][...</td>\n",
       "    </tr>\n",
       "    <tr>\n",
       "      <th>4</th>\n",
       "      <td>O=C(Cc1ccncc1)NCCNC1c2ccc(Cl)cc2CCc2cccnc21</td>\n",
       "      <td>[0, 296, 340, 382, 386, 389, 466, 479, 482, 50...</td>\n",
       "      <td>[O][=C][Branch1][#Branch2][C][C][=C][C][=N][C]...</td>\n",
       "    </tr>\n",
       "    <tr>\n",
       "      <th>...</th>\n",
       "      <td>...</td>\n",
       "      <td>...</td>\n",
       "      <td>...</td>\n",
       "    </tr>\n",
       "    <tr>\n",
       "      <th>402858</th>\n",
       "      <td>CC1(C)CC[C@H](CNC(=O)Cn2ncc3ccccc3c2=O)c2ccccc21</td>\n",
       "      <td>[0, 7, 33, 296, 297, 340, 466, 479, 482, 503, ...</td>\n",
       "      <td>[C][C][Branch1][C][C][C][C][C@H1][Branch2][Rin...</td>\n",
       "    </tr>\n",
       "    <tr>\n",
       "      <th>402859</th>\n",
       "      <td>Cn1ccnc1C(=O)c1ccc(NC(=O)C2CCN(C(=O)C(C)(C)C)C...</td>\n",
       "      <td>[0, 19, 231, 296, 297, 301, 302, 340, 604, 609...</td>\n",
       "      <td>[C][N][C][=C][N][=C][Ring1][Branch1][C][=Branc...</td>\n",
       "    </tr>\n",
       "    <tr>\n",
       "      <th>402860</th>\n",
       "      <td>Cc1ccc(NC(=O)C(=O)N(C)Cc2ccccc2)c(C)c1</td>\n",
       "      <td>[296, 565, 607, 609, 629, 668, 676, 838, 1013,...</td>\n",
       "      <td>[C][C][=C][C][=C][Branch2][Ring1][#Branch1][N]...</td>\n",
       "    </tr>\n",
       "    <tr>\n",
       "      <th>402861</th>\n",
       "      <td>Cc1cc(C(=O)Nc2ccc(OCC(N)=O)cc2)c(C)n1C1CC1</td>\n",
       "      <td>[0, 227, 296, 503, 546, 646, 668, 676, 838, 10...</td>\n",
       "      <td>[C][C][=C][C][Branch2][Ring1][#Branch1][C][=Br...</td>\n",
       "    </tr>\n",
       "    <tr>\n",
       "      <th>402862</th>\n",
       "      <td>O=C(CC(c1ccccc1)c1ccccc1)N1CCN(S(=O)(=O)c2cccc...</td>\n",
       "      <td>[0, 9, 32, 296, 297, 340, 503, 604, 609, 620, ...</td>\n",
       "      <td>[O][=C][Branch2][Ring1][Branch1][C][C][Branch1...</td>\n",
       "    </tr>\n",
       "  </tbody>\n",
       "</table>\n",
       "<p>397701 rows × 3 columns</p>\n",
       "</div>"
      ],
      "text/plain": [
       "                                                   smiles  \\\n",
       "0             Cc1ccc(C(=O)Nc2ccc(S(=O)(=O)N=C(N)N)cc2)cc1   \n",
       "1                      COc1ccc(/C=C/C(C)=O)c(OCC=C(C)C)c1   \n",
       "2                                 O=C(O)/C=C\\CCCCCn1ccnc1   \n",
       "3       CC(C(=O)NO)N(Cc1ccccc1[N+](=O)[O-])C(=O)Nc1ccc...   \n",
       "4             O=C(Cc1ccncc1)NCCNC1c2ccc(Cl)cc2CCc2cccnc21   \n",
       "...                                                   ...   \n",
       "402858   CC1(C)CC[C@H](CNC(=O)Cn2ncc3ccccc3c2=O)c2ccccc21   \n",
       "402859  Cn1ccnc1C(=O)c1ccc(NC(=O)C2CCN(C(=O)C(C)(C)C)C...   \n",
       "402860             Cc1ccc(NC(=O)C(=O)N(C)Cc2ccccc2)c(C)c1   \n",
       "402861         Cc1cc(C(=O)Nc2ccc(OCC(N)=O)cc2)c(C)n1C1CC1   \n",
       "402862  O=C(CC(c1ccccc1)c1ccccc1)N1CCN(S(=O)(=O)c2cccc...   \n",
       "\n",
       "                                                      fps  \\\n",
       "0       [668, 676, 838, 1012, 1023, 1145, 1192, 1317, ...   \n",
       "1       [125, 132, 296, 646, 668, 1192, 1262, 1644, 25...   \n",
       "2       [125, 132, 135, 296, 337, 340, 343, 345, 346, ...   \n",
       "3       [0, 13, 19, 97, 101, 296, 609, 668, 671, 676, ...   \n",
       "4       [0, 296, 340, 382, 386, 389, 466, 479, 482, 50...   \n",
       "...                                                   ...   \n",
       "402858  [0, 7, 33, 296, 297, 340, 466, 479, 482, 503, ...   \n",
       "402859  [0, 19, 231, 296, 297, 301, 302, 340, 604, 609...   \n",
       "402860  [296, 565, 607, 609, 629, 668, 676, 838, 1013,...   \n",
       "402861  [0, 227, 296, 503, 546, 646, 668, 676, 838, 10...   \n",
       "402862  [0, 9, 32, 296, 297, 340, 503, 604, 609, 620, ...   \n",
       "\n",
       "                                                  selfies  \n",
       "0       [C][C][=C][C][=C][Branch2][Ring1][=N][C][=Bran...  \n",
       "1       [C][O][C][=C][C][=C][Branch1][Branch2][/C][=C]...  \n",
       "2       [O][=C][Branch1][C][O][/C][=C][\\C][C][C][C][C]...  \n",
       "3       [C][C][Branch1][#Branch1][C][=Branch1][C][=O][...  \n",
       "4       [O][=C][Branch1][#Branch2][C][C][=C][C][=N][C]...  \n",
       "...                                                   ...  \n",
       "402858  [C][C][Branch1][C][C][C][C][C@H1][Branch2][Rin...  \n",
       "402859  [C][N][C][=C][N][=C][Ring1][Branch1][C][=Branc...  \n",
       "402860  [C][C][=C][C][=C][Branch2][Ring1][#Branch1][N]...  \n",
       "402861  [C][C][=C][C][Branch2][Ring1][#Branch1][C][=Br...  \n",
       "402862  [O][=C][Branch2][Ring1][Branch1][C][C][Branch1...  \n",
       "\n",
       "[397701 rows x 3 columns]"
      ]
     },
     "execution_count": 82,
     "metadata": {},
     "output_type": "execute_result"
    }
   ],
   "source": [
    "data"
   ]
  },
  {
   "cell_type": "code",
   "execution_count": 83,
   "id": "7850ca49",
   "metadata": {},
   "outputs": [],
   "source": [
    "out_df = pd.DataFrame()\n",
    "out_df['smiles'] = data['smiles']\n",
    "out_df['fps'] = data['fps']\n",
    "out_df.to_csv('GRU_data/combined_klek.csv', sep=',', index=False)"
   ]
  },
  {
   "cell_type": "code",
   "execution_count": 84,
   "id": "d35cbd2c",
   "metadata": {},
   "outputs": [],
   "source": [
    "data['selfies'].to_csv('GRU_data/combined_selfies.csv', sep=',', index=False)"
   ]
  },
  {
   "cell_type": "markdown",
   "id": "56b09b5c",
   "metadata": {},
   "source": [
    "# Smiles augmentation"
   ]
  },
  {
   "cell_type": "code",
   "execution_count": 117,
   "id": "c2ad94bd",
   "metadata": {},
   "outputs": [
    {
     "data": {
      "text/plain": [
       "smiles                        CN1CN=C(NCc2ccccc2)c2[nH]cnc21\n",
       "fps        [296, 466, 565, 607, 668, 676, 801, 1563, 2131...\n",
       "selfies    [C][N][C][N][=C][Branch1][O][N][C][C][=C][C][=...\n",
       "Name: 10001, dtype: object"
      ]
     },
     "execution_count": 117,
     "metadata": {},
     "output_type": "execute_result"
    }
   ],
   "source": [
    "data = data.reindex()\n",
    "data.iloc[5001]"
   ]
  },
  {
   "cell_type": "code",
   "execution_count": 135,
   "id": "f137743e",
   "metadata": {},
   "outputs": [
    {
     "data": {
      "application/vnd.jupyter.widget-view+json": {
       "model_id": "577b5566c7c1497091fcade088b7c2af",
       "version_major": 2,
       "version_minor": 0
      },
      "text/plain": [
       "  0%|          | 0/397701 [00:00<?, ?it/s]"
      ]
     },
     "metadata": {},
     "output_type": "display_data"
    }
   ],
   "source": [
    "import os\n",
    "\n",
    "os.remove('./GRU_data/augmented.csv') \n",
    "for n, smile in enumerate(tqdm(data['smiles'])):\n",
    "    break_out_flag = False\n",
    "    smiles_batch = []\n",
    "    selfies_batch = []\n",
    "    temp_df = pd.DataFrame()\n",
    "    \n",
    "    for i in range(6):\n",
    "        if i == 0:\n",
    "            temp = smile\n",
    "        else:\n",
    "            temp = sme.randomize_smiles(smile)\n",
    "        smiles_batch.append(temp)\n",
    "        \n",
    "    for j in range(6):\n",
    "        if j == 0:\n",
    "            selfies_batch.append(data.iloc[n][2])\n",
    "        else:\n",
    "            try:\n",
    "                selfie = sf.encoder(smiles_batch[j])\n",
    "                selfies_batch.append(selfie)\n",
    "            except:\n",
    "                break_out_flag = True\n",
    "                break\n",
    "    \n",
    "    if break_out_flag == True:\n",
    "        continue\n",
    "    \n",
    "    temp_df['smiles'] = smiles_batch\n",
    "    temp_df['fps'] = [data.iloc[n][1]]*len(smiles_batch)\n",
    "    temp_df['selfies'] = selfies_batch\n",
    "    \n",
    "    temp_df.to_csv('./GRU_data/augmented.csv', mode='a', index=False, header=False)"
   ]
  },
  {
   "cell_type": "code",
   "execution_count": null,
   "id": "741aa8d9",
   "metadata": {},
   "outputs": [],
   "source": []
  }
 ],
 "metadata": {
  "kernelspec": {
   "display_name": "Python 3 (ipykernel)",
   "language": "python",
   "name": "python3"
  },
  "language_info": {
   "codemirror_mode": {
    "name": "ipython",
    "version": 3
   },
   "file_extension": ".py",
   "mimetype": "text/x-python",
   "name": "python",
   "nbconvert_exporter": "python",
   "pygments_lexer": "ipython3",
   "version": "3.9.16"
  }
 },
 "nbformat": 4,
 "nbformat_minor": 5
}
