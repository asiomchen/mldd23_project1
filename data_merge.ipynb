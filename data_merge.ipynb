{
 "cells": [
  {
   "cell_type": "code",
   "execution_count": 110,
   "id": "3ac739a6",
   "metadata": {},
   "outputs": [],
   "source": [
    "import csv\n",
    "import numpy as np\n",
    "import pandas as pd\n",
    "import torch\n",
    "import torch.nn as nn\n",
    "from tqdm.notebook import tqdm"
   ]
  },
  {
   "cell_type": "code",
   "execution_count": 111,
   "id": "d2463c77",
   "metadata": {},
   "outputs": [],
   "source": [
    "klek1 = pd.read_csv('./GRU_data/chembl_klek.csv')\n",
    "klek2 = pd.read_csv('./GRU_data/250k_klek.csv')\n",
    "klek = pd.concat([klek1, klek2])\n",
    "\n",
    "selfies1 = pd.read_csv('./GRU_data/chembl_selfies.csv', names=['selfies'])\n",
    "selfies2 = pd.read_csv('./GRU_data/250k_selfies.csv', names=['selfies'])\n",
    "selfies = pd.concat([selfies1, selfies2])"
   ]
  },
  {
   "cell_type": "code",
   "execution_count": 125,
   "id": "babf17f1",
   "metadata": {},
   "outputs": [
    {
     "data": {
      "text/plain": [
       "(183879, 2)"
      ]
     },
     "execution_count": 125,
     "metadata": {},
     "output_type": "execute_result"
    }
   ],
   "source": [
    "klek2.shape"
   ]
  },
  {
   "cell_type": "code",
   "execution_count": 124,
   "id": "a22a6673",
   "metadata": {},
   "outputs": [
    {
     "data": {
      "text/plain": [
       "(183880, 1)"
      ]
     },
     "execution_count": 124,
     "metadata": {},
     "output_type": "execute_result"
    }
   ],
   "source": [
    "selfies2.shape"
   ]
  },
  {
   "cell_type": "code",
   "execution_count": null,
   "id": "14ab752d",
   "metadata": {},
   "outputs": [],
   "source": []
  }
 ],
 "metadata": {
  "kernelspec": {
   "display_name": "Python 3 (ipykernel)",
   "language": "python",
   "name": "python3"
  },
  "language_info": {
   "codemirror_mode": {
    "name": "ipython",
    "version": 3
   },
   "file_extension": ".py",
   "mimetype": "text/x-python",
   "name": "python",
   "nbconvert_exporter": "python",
   "pygments_lexer": "ipython3",
   "version": "3.9.16"
  }
 },
 "nbformat": 4,
 "nbformat_minor": 5
}
