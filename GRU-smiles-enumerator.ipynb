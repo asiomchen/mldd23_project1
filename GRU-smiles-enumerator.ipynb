{
 "cells": [
  {
   "cell_type": "code",
   "execution_count": 1,
   "id": "6ef6f3f5",
   "metadata": {
    "id": "6ef6f3f5"
   },
   "outputs": [],
   "source": [
    "# import packages\n",
    "from gru import example_printer\n",
    "from gru.dataset import GRUDataset_v2\n",
    "from gru.gru_v2 import EncoderNet, DecoderNet, EncoderDecoder\n",
    "from gru.cce import CCE, ConsciousCrossEntropy\n",
    "import torch\n",
    "import wandb\n",
    "import pandas as pd\n",
    "from selfies_tools import SELFIESVectorizer, determine_alphabet\n",
    "import random"
   ]
  },
  {
   "cell_type": "code",
   "execution_count": 2,
   "id": "N3BCODbh2PhC",
   "metadata": {
    "id": "N3BCODbh2PhC"
   },
   "outputs": [
    {
     "name": "stdout",
     "output_type": "stream",
     "text": [
      "cuda\n"
     ]
    }
   ],
   "source": [
    "device = torch.device('cuda' if torch.cuda.is_available() else 'cpu')\n",
    "print(device)"
   ]
  },
  {
   "cell_type": "code",
   "execution_count": 3,
   "id": "a846df51",
   "metadata": {
    "id": "a846df51"
   },
   "outputs": [
    {
     "name": "stdout",
     "output_type": "stream",
     "text": [
      "\u001b[34m\u001b[1mwandb\u001b[0m: Currently logged in as: \u001b[33mhubertrybka1\u001b[0m (\u001b[33mmldd23\u001b[0m). Use \u001b[1m`wandb login --relogin`\u001b[0m to force relogin\r\n"
     ]
    }
   ],
   "source": [
    "# weights and biases\n",
    "!wandb login"
   ]
  },
  {
   "cell_type": "markdown",
   "id": "f16dfcb1",
   "metadata": {
    "id": "f16dfcb1"
   },
   "source": [
    "# Data prep"
   ]
  },
  {
   "cell_type": "code",
   "execution_count": 4,
   "id": "6b30b9b4",
   "metadata": {},
   "outputs": [],
   "source": [
    "alphabet = ['[#Branch1]',\n",
    " '[#Branch2]',\n",
    " '[#C]',\n",
    " '[#N]',\n",
    " '[/C]',\n",
    " '[/N]',\n",
    " '[/O]',\n",
    " '[=Branch1]',\n",
    " '[=Branch2]',\n",
    " '[=C]',\n",
    " '[=N+1]',\n",
    " '[=N]',\n",
    " '[=O]',\n",
    " '[=Ring1]',\n",
    " '[=Ring2]',\n",
    " '[=S]',\n",
    " '[Br]',\n",
    " '[Branch1]',\n",
    " '[Branch2]',\n",
    " '[C@@H1]',\n",
    " '[C@@]',\n",
    " '[C@H1]',\n",
    " '[C@]',\n",
    " '[C]',\n",
    " '[Cl]',\n",
    " '[F]',\n",
    " '[I]',\n",
    " '[N+1]',\n",
    " '[NH1]',\n",
    " '[N]',\n",
    " '[O-1]',\n",
    " '[O]',\n",
    " '[P]',\n",
    " '[Ring1]',\n",
    " '[Ring2]',\n",
    " '[S]',\n",
    " '[\\\\C]',\n",
    " '[\\\\N]',\n",
    " '[\\\\O]',\n",
    " '[end]',\n",
    " '[nop]',\n",
    " '[start]']"
   ]
  },
  {
   "cell_type": "code",
   "execution_count": 5,
   "id": "69823bd2",
   "metadata": {},
   "outputs": [
    {
     "name": "stdout",
     "output_type": "stream",
     "text": [
      "Dataset size: 402863\n",
      "Train size: 362576\n",
      "Test size: 40287\n"
     ]
    }
   ],
   "source": [
    "data_path = './GRU_data/Combined.parquet'\n",
    "vectorizer = SELFIESVectorizer(alphabet)\n",
    "\n",
    "dataset = GRUDataset_v2(data_path, vectorizer)\n",
    "train_size = int(0.9 * len(dataset))\n",
    "test_size = len(dataset) - train_size\n",
    "train_dataset, test_dataset = torch.utils.data.random_split(dataset, [train_size, test_size])\n",
    "\n",
    "print(\"Dataset size:\", len(dataset))\n",
    "print(\"Train size:\", len(train_dataset))\n",
    "print(\"Test size:\", len(test_dataset))"
   ]
  },
  {
   "cell_type": "code",
   "execution_count": 6,
   "id": "da4f014e",
   "metadata": {
    "id": "da4f014e"
   },
   "outputs": [],
   "source": [
    "from torch.utils.data import DataLoader\n",
    "batch_size = 256\n",
    "train_loader = DataLoader(train_dataset, shuffle=True, batch_size=batch_size, drop_last=True)\n",
    "test_loader = DataLoader(test_dataset, shuffle=False, batch_size=batch_size, drop_last=True)"
   ]
  },
  {
   "cell_type": "markdown",
   "id": "02f39daf",
   "metadata": {
    "id": "02f39daf"
   },
   "source": [
    "# NN architecture"
   ]
  },
  {
   "cell_type": "code",
   "execution_count": 7,
   "id": "f598e58d",
   "metadata": {},
   "outputs": [
    {
     "ename": "RuntimeError",
     "evalue": "CUDA error: out of memory\nCUDA kernel errors might be asynchronously reported at some other API call,so the stacktrace below might be incorrect.\nFor debugging consider passing CUDA_LAUNCH_BLOCKING=1.",
     "output_type": "error",
     "traceback": [
      "\u001b[0;31m---------------------------------------------------------------------------\u001b[0m",
      "\u001b[0;31mRuntimeError\u001b[0m                              Traceback (most recent call last)",
      "Cell \u001b[0;32mIn[7], line 10\u001b[0m\n\u001b[1;32m      7\u001b[0m teacher_ratio \u001b[38;5;241m=\u001b[39m \u001b[38;5;241m0.5\u001b[39m\n\u001b[1;32m      9\u001b[0m \u001b[38;5;66;03m# Init model\u001b[39;00m\n\u001b[0;32m---> 10\u001b[0m model \u001b[38;5;241m=\u001b[39m \u001b[43mEncoderDecoder\u001b[49m\u001b[43m(\u001b[49m\n\u001b[1;32m     11\u001b[0m \u001b[43m    \u001b[49m\u001b[43mfp_size\u001b[49m\u001b[38;5;241;43m=\u001b[39;49m\u001b[38;5;241;43m4860\u001b[39;49m\u001b[43m,\u001b[49m\n\u001b[1;32m     12\u001b[0m \u001b[43m    \u001b[49m\u001b[43mencoding_size\u001b[49m\u001b[38;5;241;43m=\u001b[39;49m\u001b[43mencoding_size\u001b[49m\u001b[43m,\u001b[49m\n\u001b[1;32m     13\u001b[0m \u001b[43m    \u001b[49m\u001b[43mhidden_size\u001b[49m\u001b[38;5;241;43m=\u001b[39;49m\u001b[43mhidden_size\u001b[49m\u001b[43m,\u001b[49m\n\u001b[1;32m     14\u001b[0m \u001b[43m    \u001b[49m\u001b[43mnum_layers\u001b[49m\u001b[38;5;241;43m=\u001b[39;49m\u001b[43mnum_layers\u001b[49m\u001b[43m,\u001b[49m\n\u001b[1;32m     15\u001b[0m \u001b[43m    \u001b[49m\u001b[43mdropout\u001b[49m\u001b[38;5;241;43m=\u001b[39;49m\u001b[43mdropout\u001b[49m\u001b[43m,\u001b[49m\n\u001b[1;32m     16\u001b[0m \u001b[43m    \u001b[49m\u001b[43mteacher_ratio\u001b[49m\u001b[43m \u001b[49m\u001b[38;5;241;43m=\u001b[39;49m\u001b[43m \u001b[49m\u001b[43mteacher_ratio\u001b[49m\u001b[43m)\u001b[49m\u001b[38;5;241;43m.\u001b[39;49m\u001b[43mto\u001b[49m\u001b[43m(\u001b[49m\u001b[43mdevice\u001b[49m\u001b[43m)\u001b[49m\n",
      "File \u001b[0;32m~/miniconda3/envs/mldd23/lib/python3.9/site-packages/torch/nn/modules/module.py:989\u001b[0m, in \u001b[0;36mModule.to\u001b[0;34m(self, *args, **kwargs)\u001b[0m\n\u001b[1;32m    985\u001b[0m         \u001b[38;5;28;01mreturn\u001b[39;00m t\u001b[38;5;241m.\u001b[39mto(device, dtype \u001b[38;5;28;01mif\u001b[39;00m t\u001b[38;5;241m.\u001b[39mis_floating_point() \u001b[38;5;129;01mor\u001b[39;00m t\u001b[38;5;241m.\u001b[39mis_complex() \u001b[38;5;28;01melse\u001b[39;00m \u001b[38;5;28;01mNone\u001b[39;00m,\n\u001b[1;32m    986\u001b[0m                     non_blocking, memory_format\u001b[38;5;241m=\u001b[39mconvert_to_format)\n\u001b[1;32m    987\u001b[0m     \u001b[38;5;28;01mreturn\u001b[39;00m t\u001b[38;5;241m.\u001b[39mto(device, dtype \u001b[38;5;28;01mif\u001b[39;00m t\u001b[38;5;241m.\u001b[39mis_floating_point() \u001b[38;5;129;01mor\u001b[39;00m t\u001b[38;5;241m.\u001b[39mis_complex() \u001b[38;5;28;01melse\u001b[39;00m \u001b[38;5;28;01mNone\u001b[39;00m, non_blocking)\n\u001b[0;32m--> 989\u001b[0m \u001b[38;5;28;01mreturn\u001b[39;00m \u001b[38;5;28;43mself\u001b[39;49m\u001b[38;5;241;43m.\u001b[39;49m\u001b[43m_apply\u001b[49m\u001b[43m(\u001b[49m\u001b[43mconvert\u001b[49m\u001b[43m)\u001b[49m\n",
      "File \u001b[0;32m~/miniconda3/envs/mldd23/lib/python3.9/site-packages/torch/nn/modules/module.py:641\u001b[0m, in \u001b[0;36mModule._apply\u001b[0;34m(self, fn)\u001b[0m\n\u001b[1;32m    639\u001b[0m \u001b[38;5;28;01mdef\u001b[39;00m \u001b[38;5;21m_apply\u001b[39m(\u001b[38;5;28mself\u001b[39m, fn):\n\u001b[1;32m    640\u001b[0m     \u001b[38;5;28;01mfor\u001b[39;00m module \u001b[38;5;129;01min\u001b[39;00m \u001b[38;5;28mself\u001b[39m\u001b[38;5;241m.\u001b[39mchildren():\n\u001b[0;32m--> 641\u001b[0m         \u001b[43mmodule\u001b[49m\u001b[38;5;241;43m.\u001b[39;49m\u001b[43m_apply\u001b[49m\u001b[43m(\u001b[49m\u001b[43mfn\u001b[49m\u001b[43m)\u001b[49m\n\u001b[1;32m    643\u001b[0m     \u001b[38;5;28;01mdef\u001b[39;00m \u001b[38;5;21mcompute_should_use_set_data\u001b[39m(tensor, tensor_applied):\n\u001b[1;32m    644\u001b[0m         \u001b[38;5;28;01mif\u001b[39;00m torch\u001b[38;5;241m.\u001b[39m_has_compatible_shallow_copy_type(tensor, tensor_applied):\n\u001b[1;32m    645\u001b[0m             \u001b[38;5;66;03m# If the new tensor has compatible tensor type as the existing tensor,\u001b[39;00m\n\u001b[1;32m    646\u001b[0m             \u001b[38;5;66;03m# the current behavior is to change the tensor in-place using `.data =`,\u001b[39;00m\n\u001b[0;32m   (...)\u001b[0m\n\u001b[1;32m    651\u001b[0m             \u001b[38;5;66;03m# global flag to let the user control whether they want the future\u001b[39;00m\n\u001b[1;32m    652\u001b[0m             \u001b[38;5;66;03m# behavior of overwriting the existing tensor or not.\u001b[39;00m\n",
      "File \u001b[0;32m~/miniconda3/envs/mldd23/lib/python3.9/site-packages/torch/nn/modules/module.py:641\u001b[0m, in \u001b[0;36mModule._apply\u001b[0;34m(self, fn)\u001b[0m\n\u001b[1;32m    639\u001b[0m \u001b[38;5;28;01mdef\u001b[39;00m \u001b[38;5;21m_apply\u001b[39m(\u001b[38;5;28mself\u001b[39m, fn):\n\u001b[1;32m    640\u001b[0m     \u001b[38;5;28;01mfor\u001b[39;00m module \u001b[38;5;129;01min\u001b[39;00m \u001b[38;5;28mself\u001b[39m\u001b[38;5;241m.\u001b[39mchildren():\n\u001b[0;32m--> 641\u001b[0m         \u001b[43mmodule\u001b[49m\u001b[38;5;241;43m.\u001b[39;49m\u001b[43m_apply\u001b[49m\u001b[43m(\u001b[49m\u001b[43mfn\u001b[49m\u001b[43m)\u001b[49m\n\u001b[1;32m    643\u001b[0m     \u001b[38;5;28;01mdef\u001b[39;00m \u001b[38;5;21mcompute_should_use_set_data\u001b[39m(tensor, tensor_applied):\n\u001b[1;32m    644\u001b[0m         \u001b[38;5;28;01mif\u001b[39;00m torch\u001b[38;5;241m.\u001b[39m_has_compatible_shallow_copy_type(tensor, tensor_applied):\n\u001b[1;32m    645\u001b[0m             \u001b[38;5;66;03m# If the new tensor has compatible tensor type as the existing tensor,\u001b[39;00m\n\u001b[1;32m    646\u001b[0m             \u001b[38;5;66;03m# the current behavior is to change the tensor in-place using `.data =`,\u001b[39;00m\n\u001b[0;32m   (...)\u001b[0m\n\u001b[1;32m    651\u001b[0m             \u001b[38;5;66;03m# global flag to let the user control whether they want the future\u001b[39;00m\n\u001b[1;32m    652\u001b[0m             \u001b[38;5;66;03m# behavior of overwriting the existing tensor or not.\u001b[39;00m\n",
      "File \u001b[0;32m~/miniconda3/envs/mldd23/lib/python3.9/site-packages/torch/nn/modules/module.py:664\u001b[0m, in \u001b[0;36mModule._apply\u001b[0;34m(self, fn)\u001b[0m\n\u001b[1;32m    660\u001b[0m \u001b[38;5;66;03m# Tensors stored in modules are graph leaves, and we don't want to\u001b[39;00m\n\u001b[1;32m    661\u001b[0m \u001b[38;5;66;03m# track autograd history of `param_applied`, so we have to use\u001b[39;00m\n\u001b[1;32m    662\u001b[0m \u001b[38;5;66;03m# `with torch.no_grad():`\u001b[39;00m\n\u001b[1;32m    663\u001b[0m \u001b[38;5;28;01mwith\u001b[39;00m torch\u001b[38;5;241m.\u001b[39mno_grad():\n\u001b[0;32m--> 664\u001b[0m     param_applied \u001b[38;5;241m=\u001b[39m \u001b[43mfn\u001b[49m\u001b[43m(\u001b[49m\u001b[43mparam\u001b[49m\u001b[43m)\u001b[49m\n\u001b[1;32m    665\u001b[0m should_use_set_data \u001b[38;5;241m=\u001b[39m compute_should_use_set_data(param, param_applied)\n\u001b[1;32m    666\u001b[0m \u001b[38;5;28;01mif\u001b[39;00m should_use_set_data:\n",
      "File \u001b[0;32m~/miniconda3/envs/mldd23/lib/python3.9/site-packages/torch/nn/modules/module.py:987\u001b[0m, in \u001b[0;36mModule.to.<locals>.convert\u001b[0;34m(t)\u001b[0m\n\u001b[1;32m    984\u001b[0m \u001b[38;5;28;01mif\u001b[39;00m convert_to_format \u001b[38;5;129;01mis\u001b[39;00m \u001b[38;5;129;01mnot\u001b[39;00m \u001b[38;5;28;01mNone\u001b[39;00m \u001b[38;5;129;01mand\u001b[39;00m t\u001b[38;5;241m.\u001b[39mdim() \u001b[38;5;129;01min\u001b[39;00m (\u001b[38;5;241m4\u001b[39m, \u001b[38;5;241m5\u001b[39m):\n\u001b[1;32m    985\u001b[0m     \u001b[38;5;28;01mreturn\u001b[39;00m t\u001b[38;5;241m.\u001b[39mto(device, dtype \u001b[38;5;28;01mif\u001b[39;00m t\u001b[38;5;241m.\u001b[39mis_floating_point() \u001b[38;5;129;01mor\u001b[39;00m t\u001b[38;5;241m.\u001b[39mis_complex() \u001b[38;5;28;01melse\u001b[39;00m \u001b[38;5;28;01mNone\u001b[39;00m,\n\u001b[1;32m    986\u001b[0m                 non_blocking, memory_format\u001b[38;5;241m=\u001b[39mconvert_to_format)\n\u001b[0;32m--> 987\u001b[0m \u001b[38;5;28;01mreturn\u001b[39;00m \u001b[43mt\u001b[49m\u001b[38;5;241;43m.\u001b[39;49m\u001b[43mto\u001b[49m\u001b[43m(\u001b[49m\u001b[43mdevice\u001b[49m\u001b[43m,\u001b[49m\u001b[43m \u001b[49m\u001b[43mdtype\u001b[49m\u001b[43m \u001b[49m\u001b[38;5;28;43;01mif\u001b[39;49;00m\u001b[43m \u001b[49m\u001b[43mt\u001b[49m\u001b[38;5;241;43m.\u001b[39;49m\u001b[43mis_floating_point\u001b[49m\u001b[43m(\u001b[49m\u001b[43m)\u001b[49m\u001b[43m \u001b[49m\u001b[38;5;129;43;01mor\u001b[39;49;00m\u001b[43m \u001b[49m\u001b[43mt\u001b[49m\u001b[38;5;241;43m.\u001b[39;49m\u001b[43mis_complex\u001b[49m\u001b[43m(\u001b[49m\u001b[43m)\u001b[49m\u001b[43m \u001b[49m\u001b[38;5;28;43;01melse\u001b[39;49;00m\u001b[43m \u001b[49m\u001b[38;5;28;43;01mNone\u001b[39;49;00m\u001b[43m,\u001b[49m\u001b[43m \u001b[49m\u001b[43mnon_blocking\u001b[49m\u001b[43m)\u001b[49m\n",
      "\u001b[0;31mRuntimeError\u001b[0m: CUDA error: out of memory\nCUDA kernel errors might be asynchronously reported at some other API call,so the stacktrace below might be incorrect.\nFor debugging consider passing CUDA_LAUNCH_BLOCKING=1."
     ]
    }
   ],
   "source": [
    "# Set hyperparameters\n",
    "encoding_size = 256\n",
    "hidden_size = 256\n",
    "num_layers = 1\n",
    "learn_rate = 0.0002\n",
    "dropout = 0 # dropout must be equal 0 if num_layers = 1\n",
    "teacher_ratio = 0.5\n",
    "\n",
    "# Init model\n",
    "model = EncoderDecoder(\n",
    "    fp_size=4860,\n",
    "    encoding_size=encoding_size,\n",
    "    hidden_size=hidden_size,\n",
    "    num_layers=num_layers,\n",
    "    dropout=dropout,\n",
    "    teacher_ratio = teacher_ratio).to(device)"
   ]
  },
  {
   "cell_type": "markdown",
   "id": "c3f697df",
   "metadata": {
    "id": "c3f697df"
   },
   "source": [
    "# Training loop"
   ]
  },
  {
   "cell_type": "code",
   "execution_count": 9,
   "id": "f7b00cca",
   "metadata": {
    "id": "f7b00cca"
   },
   "outputs": [],
   "source": [
    "import matplotlib.pyplot as plt\n",
    "from tqdm import tqdm\n",
    "\n",
    "def train(model, train_loader, test_loader, vectorizer, device):\n",
    "\n",
    "    EPOCHS = 20\n",
    "\n",
    "    # Define dataframe for training progess display\n",
    "    epochs_range = range(1,EPOCHS+1)\n",
    "    metrics = pd.DataFrame(columns=['epoch', 'train_loss', 'val_loss']);\n",
    "    metrics['epoch'] = epochs_range\n",
    "    \n",
    "    # Init example printer\n",
    "    printer = example_printer.ExamplePrinter(test_loader, num_examples=5)\n",
    "\n",
    "    # Define pyplot for plotting metrics\n",
    "    fig, ax = plt.subplots(ncols=2, figsize=(7, 3), layout=\"constrained\")\n",
    "    dh = display(fig, display_id=True)\n",
    "\n",
    "    # Define loss function and optimizer\n",
    "    optimizer = torch.optim.Adam(model.parameters(), lr=learn_rate)\n",
    "    criterion = CCE()\n",
    "\n",
    "    # wandb config and init\n",
    "    config = dict()\n",
    "    config['learning rate'] = learn_rate\n",
    "    config['encoding size'] = model.encoding_size\n",
    "    config['criterion'] = criterion\n",
    "    config['optimizer'] = optimizer\n",
    "    config['num epochs'] = EPOCHS\n",
    "    config['Trainable parameters'] = sum(p.numel() for p in model.parameters() if p.requires_grad)\n",
    "    config['hidden size'] = model.hidden_size\n",
    "    config['Number of layers'] = num_layers\n",
    "    config['Dropout'] = model.decoder.dropout\n",
    "    config['Batch size'] = batch_size\n",
    "    config['teacher_ratio'] = teacher_ratio\n",
    "    wandb.init(project=\"encoded-token-concat\", config=config)\n",
    "\n",
    "    print(\"Starting Training of GRU\")\n",
    "    print(f\"Device: {device}\")\n",
    "    \n",
    "    samples = []\n",
    "    \n",
    "    # Start training loop\n",
    "    for epoch in epochs_range:\n",
    "        print(f'Epoch: {epoch}')\n",
    "        epoch_loss = 0\n",
    "        model.train()\n",
    "        for batch_idx, (X,y) in enumerate(tqdm(train_loader)):\n",
    "            X = X.to(device)\n",
    "            y = y.to(device)\n",
    "            optimizer.zero_grad()\n",
    "            output = model(X, y, teacher_forcing=True).to(device)\n",
    "            loss = criterion(y, output)\n",
    "            loss.backward()\n",
    "            optimizer.step()\n",
    "            epoch_loss += loss.item()\n",
    "\n",
    "        # calculate loss and log to wandb\n",
    "        avg_loss = epoch_loss / len(train_loader)\n",
    "        val_loss = evaluate(model, test_loader)\n",
    "        metrics_dict = {'epoch': epoch,\n",
    "                        'train_loss': avg_loss,\n",
    "                        'val_loss': val_loss}\n",
    "        wandb.log(metrics_dict)\n",
    "\n",
    "        # Update metrics df\n",
    "        metrics.loc[len(metrics)] = metrics_dict\n",
    "\n",
    "        # Display metrics\n",
    "        ax[0].clear()\n",
    "        ax[0].plot(metrics.epoch, metrics.train_loss)\n",
    "        ax[0].set_title('training loss')\n",
    "        ax[0].set_xlabel('epoch')\n",
    "        ax[0].set_ylabel('CrossEntropy')\n",
    "        ax[1].clear()\n",
    "        ax[1].plot(metrics.epoch, metrics.val_loss)\n",
    "        ax[1].set_title('validation loss')\n",
    "        ax[1].set_xlabel('epoch')\n",
    "        ax[1].set_ylabel('CrossEntropy')\n",
    "        dh.update(fig)\n",
    "        \n",
    "        new_samples = printer(model)\n",
    "        samples.append(new_samples)\n",
    "        \n",
    "    plt.close()\n",
    "    wandb.finish()\n",
    "    return model, samples\n",
    "\n",
    "def evaluate(model, test_loader):\n",
    "    model.eval()\n",
    "    criterion = ConsciousCrossEntropy()\n",
    "    epoch_loss = 0\n",
    "    for batch_idx, (X, y) in enumerate(test_loader):\n",
    "        X = X.to(device)\n",
    "        y = y.to(device)\n",
    "        output = model(X, y, teacher_forcing=False).to(device)\n",
    "        loss = criterion(y, output)\n",
    "        epoch_loss += loss.item()\n",
    "    avg_loss = epoch_loss / len(test_loader)\n",
    "    return avg_loss"
   ]
  },
  {
   "cell_type": "markdown",
   "id": "c874519b",
   "metadata": {
    "id": "c874519b"
   },
   "source": [
    "# Train the model"
   ]
  },
  {
   "cell_type": "code",
   "execution_count": 10,
   "id": "0839d044",
   "metadata": {
    "id": "0839d044"
   },
   "outputs": [
    {
     "data": {
      "image/png": "[encoded data removed]",
      "text/plain": [
       "<Figure size 700x300 with 2 Axes>"
      ]
     },
     "metadata": {},
     "output_type": "display_data"
    },
    {
     "name": "stderr",
     "output_type": "stream",
     "text": [
      "\u001b[34m\u001b[1mwandb\u001b[0m: Currently logged in as: \u001b[33mhubertrybka1\u001b[0m (\u001b[33mmldd23\u001b[0m). Use \u001b[1m`wandb login --relogin`\u001b[0m to force relogin\n"
     ]
    },
    {
     "data": {
      "text/html": [
       "Tracking run with wandb version 0.15.4"
      ],
      "text/plain": [
       "<IPython.core.display.HTML object>"
      ]
     },
     "metadata": {},
     "output_type": "display_data"
    },
    {
     "data": {
      "text/html": [
       "Run data is saved locally in <code>/home/hubert/github/mldd23_project1/wandb/run-20230618_140348-wh6opmh7</code>"
      ],
      "text/plain": [
       "<IPython.core.display.HTML object>"
      ]
     },
     "metadata": {},
     "output_type": "display_data"
    },
    {
     "data": {
      "text/html": [
       "Syncing run <strong><a href='https://wandb.ai/mldd23/encoded-token-concat/runs/wh6opmh7' target=\"_blank\">likely-frog-22</a></strong> to <a href='https://wandb.ai/mldd23/encoded-token-concat' target=\"_blank\">Weights & Biases</a> (<a href='https://wandb.me/run' target=\"_blank\">docs</a>)<br/>"
      ],
      "text/plain": [
       "<IPython.core.display.HTML object>"
      ]
     },
     "metadata": {},
     "output_type": "display_data"
    },
    {
     "data": {
      "text/html": [
       " View project at <a href='https://wandb.ai/mldd23/encoded-token-concat' target=\"_blank\">https://wandb.ai/mldd23/encoded-token-concat</a>"
      ],
      "text/plain": [
       "<IPython.core.display.HTML object>"
      ]
     },
     "metadata": {},
     "output_type": "display_data"
    },
    {
     "data": {
      "text/html": [
       " View run at <a href='https://wandb.ai/mldd23/encoded-token-concat/runs/wh6opmh7' target=\"_blank\">https://wandb.ai/mldd23/encoded-token-concat/runs/wh6opmh7</a>"
      ],
      "text/plain": [
       "<IPython.core.display.HTML object>"
      ]
     },
     "metadata": {},
     "output_type": "display_data"
    },
    {
     "name": "stdout",
     "output_type": "stream",
     "text": [
      "Starting Training of GRU\n",
      "Device: cuda\n",
      "Epoch: 1\n"
     ]
    },
    {
     "name": "stderr",
     "output_type": "stream",
     "text": [
      "100%|███████████████████████████████████████| 1416/1416 [17:02<00:00,  1.38it/s]\n"
     ]
    },
    {
     "name": "stdout",
     "output_type": "stream",
     "text": [
      "Predicted SELFIE:\n",
      "[C][C][C][C][C][C][C][C][C][C][C][C][C][C][C][C][C][C][C][C][C][C][C][C][C][C][C][C][C][C][C][C][C][C][C][C][C][C][C][C][C][C][C][C][C][C][C][C][C][Ring1][Ring1][Ring1][C][C][C][C][C][C][C][C][C][C][C][C][C][C][C][C][C] \n",
      "\n",
      "True SELFIE:\n",
      "[C][C][O][C][=Branch1][C][=O][C][C][C][C][Branch1][C][C][=N][C][=C][C][Branch1][P][C][=C][C][Branch1][Ring1][O][C][=C][C][Branch1][Ring1][O][C][=C][Ring1][#Branch2][=N][N][Ring1][#C][C][=Ring2][Ring1][Ring2][O]\n",
      "------------------------------------------------------------\n",
      "Predicted SELFIE:\n",
      "[C][O][C][=C][C][=C][Ring1][Ring1][C][C][C][C][C][C][C][C][C][C][C][C][C][C][C][C][C][C][C][C][C][C][C][C][C][C][C][C][C][C][C][C][C][C][C][C][C][C][C][C][C][C][C][Ring1][Ring1][Ring1][Ring1][Ring1][Ring1][Ring1][Ring1][Ring1][Ring1][Ring1][Ring1][Ring1][Ring1][Ring1][Ring1][Ring1][Ring1][Ring1][Ring1][Ring1][Ring1][Ring1][Ring1][Ring1][Ring1][Ring1][Ring1][Ring1][Ring1] \n",
      "\n",
      "True SELFIE:\n",
      "[C][O][C][=C][C][=C][Branch2][Ring2][=Branch1][C@H1][C][C@@H1][Ring1][Ring1][C][O][C][=N][C][Branch1][C][C][=N][C][=C][Ring1][#Branch1][C][C][=C][N][Branch1][#Branch1][C][C][=Branch1][C][=O][O][C][=Branch1][C][=O][C][=Ring1][O][N][=C][Ring2][Ring1][=N]\n",
      "------------------------------------------------------------\n",
      "Predicted SELFIE:\n",
      "[O][=C][Branch1][C][=O][C][C][C][=C][C][C][C][C][C][C][C][C][C][C][C][C][C][C][C][C][C][C][C][C][C][C][C][C][C][C][=C][=C][=C][=C][Ring1][Ring1][Ring1][Ring1][Ring1][Ring1] \n",
      "\n",
      "True SELFIE:\n",
      "[O][=C][Branch1][=N][C][C][=C][C][=C][Branch1][C][O][C][=C][Ring1][#Branch1][N][/N][=C][\\C][=Branch1][C][=O][N][C][=C][Branch1][C][Cl][C][=C][C][=C][Ring1][#Branch1][Ring1][O]\n",
      "------------------------------------------------------------\n",
      "Predicted SELFIE:\n",
      "[C][C][C][C][C][C][C][C][C][C][C][C][C][C][C][C][C][C][C][C][C][C][C][C][C][C][C][C][C][C][C][C][C][C][C][C][C][C][C][C][C][C][C][C][C][C][C] \n",
      "\n",
      "True SELFIE:\n",
      "[C][C][Branch1][C][C][C][O][C][=C][N][=C][C][Branch1][#Branch2][N][C][C][C][N][C][C][Ring1][#Branch1][=C][Ring1][=N]\n",
      "------------------------------------------------------------\n",
      "Predicted SELFIE:\n",
      "[O][=C][Branch1][C][C][C][C][C][C][C][C][C][C][C][C][C][C][C][C][C][C][C][C][C][C][C][C][C][C][C][C][C][C][C][C][C][C][C][C][C][C][C][C][C][C][C][C][C] \n",
      "\n",
      "True SELFIE:\n",
      "[O][=C][Branch1][C][O][C][C][C][C][O][C][=C][C][Branch1][=Branch2][C][=C][C][=C][C][=C][Ring1][=Branch1][=C][C][=C][C][=C][C][Ring1][=Branch1][=N][Ring1][S]\n",
      "------------------------------------------------------------\n",
      "Epoch: 2\n"
     ]
    },
    {
     "name": "stderr",
     "output_type": "stream",
     "text": [
      "100%|███████████████████████████████████████| 1416/1416 [17:51<00:00,  1.32it/s]\n"
     ]
    },
    {
     "name": "stdout",
     "output_type": "stream",
     "text": [
      "Predicted SELFIE:\n",
      "[C][C][O][C][=Branch1][C][=O][C][C][C][C][C][C][C][C][C][C][C][C][C][C][C][C][C][C][C][C][C][C][C][C][C][C][C][C][C][C][C][C][C][C][C][C][C][C][C][C][C][C][C][C][C][C][C][C][C] \n",
      "\n",
      "True SELFIE:\n",
      "[C][C][O][C][=Branch1][C][=O][C][C][C][C][Branch1][C][C][=N][C][=C][C][Branch1][P][C][=C][C][Branch1][Ring1][O][C][=C][C][Branch1][Ring1][O][C][=C][Ring1][#Branch2][=N][N][Ring1][#C][C][=Ring2][Ring1][Ring2][O]\n",
      "------------------------------------------------------------\n",
      "Predicted SELFIE:\n",
      "[C][O][C][=C][C][=C][Branch1][Ring1][C][C][C][C][C][C][C][C][C][C][C][C][C][C][C][C][C][C][C][C][C][C][C][C][C][C][C][C][C][C][C][C][C][C][C][C][C][C][C][C][C][Ring1][Ring1][Ring1][Ring1][Ring1][Ring1][Ring1][Ring1][Ring1] \n",
      "\n",
      "True SELFIE:\n",
      "[C][O][C][=C][C][=C][Branch2][Ring2][=Branch1][C@H1][C][C@@H1][Ring1][Ring1][C][O][C][=N][C][Branch1][C][C][=N][C][=C][Ring1][#Branch1][C][C][=C][N][Branch1][#Branch1][C][C][=Branch1][C][=O][O][C][=Branch1][C][=O][C][=Ring1][O][N][=C][Ring2][Ring1][=N]\n",
      "------------------------------------------------------------\n",
      "Predicted SELFIE:\n",
      "[O][=C][Branch1][C][C][C][=C][C][C][C][C][C][C][C][C][C][C][C][C][C][C][C][C][C][C][C][C][C][C][=C][C][C][C][C][C][C][C][C][C][Ring1][Ring1] \n",
      "\n",
      "True SELFIE:\n",
      "[O][=C][Branch1][=N][C][C][=C][C][=C][Branch1][C][O][C][=C][Ring1][#Branch1][N][/N][=C][\\C][=Branch1][C][=O][N][C][=C][Branch1][C][Cl][C][=C][C][=C][Ring1][#Branch1][Ring1][O]\n",
      "------------------------------------------------------------\n",
      "Predicted SELFIE:\n",
      "[C][C][Branch1][C][C][C][C][C][C][C][C][C][C][C][C][C][C][C][C][C][C][C][C][C][C][C][C][C][C][C][C][C][C][C][C][C][C][C][C][C][C][C][C] \n",
      "\n",
      "True SELFIE:\n",
      "[C][C][Branch1][C][C][C][O][C][=C][N][=C][C][Branch1][#Branch2][N][C][C][C][N][C][C][Ring1][#Branch1][=C][Ring1][=N]\n",
      "------------------------------------------------------------\n",
      "Predicted SELFIE:\n",
      "[O][=C][Branch1][C][C][C][C][C][C][C][C][C][C][C][C][C][C][C][C][C][C][C][C][C][C][C][C][C][C][C][C][C][C][C][C][C][C] \n",
      "\n",
      "True SELFIE:\n",
      "[O][=C][Branch1][C][O][C][C][C][C][O][C][=C][C][Branch1][=Branch2][C][=C][C][=C][C][=C][Ring1][=Branch1][=C][C][=C][C][=C][C][Ring1][=Branch1][=N][Ring1][S]\n",
      "------------------------------------------------------------\n",
      "Epoch: 3\n"
     ]
    },
    {
     "name": "stderr",
     "output_type": "stream",
     "text": [
      "100%|███████████████████████████████████████| 1416/1416 [17:17<00:00,  1.37it/s]\n"
     ]
    },
    {
     "name": "stdout",
     "output_type": "stream",
     "text": [
      "Predicted SELFIE:\n",
      "[C][C][O][C][=Branch1][C][=O][C][C][C][C][C][C][C][C][C][C][C][C][C][C][C][C][C][C][C][C][C][C][C][C][C][C][C][C][C][Ring1][Ring1][Ring1][Ring1][Ring1][Ring1][Ring1][Ring1][Ring1][Ring1][Ring1][Ring1][Ring1][Ring1][Ring1][Ring1][Ring1][Ring1][Ring1][Ring1][Ring1][Ring1][Ring1] \n",
      "\n",
      "True SELFIE:\n",
      "[C][C][O][C][=Branch1][C][=O][C][C][C][C][Branch1][C][C][=N][C][=C][C][Branch1][P][C][=C][C][Branch1][Ring1][O][C][=C][C][Branch1][Ring1][O][C][=C][Ring1][#Branch2][=N][N][Ring1][#C][C][=Ring2][Ring1][Ring2][O]\n",
      "------------------------------------------------------------\n",
      "Predicted SELFIE:\n",
      "[C][O][C][=C][C][=C][Branch1][Ring1][Ring1][C][C][C][C][C][C][C][C][C][C][C][C][C][C][C][C][C][C][C][C][C][C][C][C][C][C][C][C][C][C][C][C][C][C][C][C][C][C][C][C][C][C][C][C][C][C][C][C][C][C][C][C][C][C] \n",
      "\n",
      "True SELFIE:\n",
      "[C][O][C][=C][C][=C][Branch2][Ring2][=Branch1][C@H1][C][C@@H1][Ring1][Ring1][C][O][C][=N][C][Branch1][C][C][=N][C][=C][Ring1][#Branch1][C][C][=C][N][Branch1][#Branch1][C][C][=Branch1][C][=O][O][C][=Branch1][C][=O][C][=Ring1][O][N][=C][Ring2][Ring1][=N]\n",
      "------------------------------------------------------------\n",
      "Predicted SELFIE:\n",
      "[O][=C][Branch1][C][O][C][=C][C][=C][C][C][=C][C][=C][Ring1][#Branch1][C][C][=C][C][C][C][C][=C][=C][=C][=C][=C][=C][=C][=C][=C][Ring1][Ring1][Ring1][Ring1][Ring1][Ring1][Ring1][Ring1] \n",
      "\n",
      "True SELFIE:\n",
      "[O][=C][Branch1][=N][C][C][=C][C][=C][Branch1][C][O][C][=C][Ring1][#Branch1][N][/N][=C][\\C][=Branch1][C][=O][N][C][=C][Branch1][C][Cl][C][=C][C][=C][Ring1][#Branch1][Ring1][O]\n",
      "------------------------------------------------------------\n",
      "Predicted SELFIE:\n",
      "[C][C][Branch1][C][C][C][C][C][C][C][C][C][C][C][C][C][C][C][C][C][C][C][C][C][C][C][C][C][C][C][C][C][C][C][C][C][C][C][C][C][C][C][C][C][C][C][C][C] \n",
      "\n",
      "True SELFIE:\n",
      "[C][C][Branch1][C][C][C][O][C][=C][N][=C][C][Branch1][#Branch2][N][C][C][C][N][C][C][Ring1][#Branch1][=C][Ring1][=N]\n",
      "------------------------------------------------------------\n",
      "Predicted SELFIE:\n",
      "[O][=C][Branch1][C][O][C][C][C][C][C][=C][C][=C][C][=C][C][=C][C][C][C][C][C][C][C][C][C][C][C][C][C][C][C][C][C][C][C] \n",
      "\n",
      "True SELFIE:\n",
      "[O][=C][Branch1][C][O][C][C][C][C][O][C][=C][C][Branch1][=Branch2][C][=C][C][=C][C][=C][Ring1][=Branch1][=C][C][=C][C][=C][C][Ring1][=Branch1][=N][Ring1][S]\n",
      "------------------------------------------------------------\n",
      "Epoch: 4\n"
     ]
    },
    {
     "name": "stderr",
     "output_type": "stream",
     "text": [
      "100%|███████████████████████████████████████| 1416/1416 [17:21<00:00,  1.36it/s]\n"
     ]
    },
    {
     "name": "stdout",
     "output_type": "stream",
     "text": [
      "Predicted SELFIE:\n",
      "[C][C][O][C][=Branch1][C][=O][C][C][C][C][C][C][C][C][C][C][C][C][C][C][C][C][C][C][C][C][C][C][C][C][C][C][C][C][C][C][Ring1][Ring1][Ring1][Ring1][Ring1][Ring1][Ring1][Ring1][Ring1][Ring1][Ring1][Ring1][Ring1][Ring1][Ring1] \n",
      "\n",
      "True SELFIE:\n",
      "[C][C][O][C][=Branch1][C][=O][C][C][C][C][Branch1][C][C][=N][C][=C][C][Branch1][P][C][=C][C][Branch1][Ring1][O][C][=C][C][Branch1][Ring1][O][C][=C][Ring1][#Branch2][=N][N][Ring1][#C][C][=Ring2][Ring1][Ring2][O]\n",
      "------------------------------------------------------------\n",
      "Predicted SELFIE:\n",
      "[C][O][C][=C][C][=C][Ring2][Ring1][C][C][C][C][C][C][C][C][C][C][C][C][C][C][C][C][C][C][C][C][C][C][C][C][C][C][C][C][C][C][C][C][C][C][C][C][C][C][C][C][C][C][C][C] \n",
      "\n",
      "True SELFIE:\n",
      "[C][O][C][=C][C][=C][Branch2][Ring2][=Branch1][C@H1][C][C@@H1][Ring1][Ring1][C][O][C][=N][C][Branch1][C][C][=N][C][=C][Ring1][#Branch1][C][C][=C][N][Branch1][#Branch1][C][C][=Branch1][C][=O][O][C][=Branch1][C][=O][C][=Ring1][O][N][=C][Ring2][Ring1][=N]\n",
      "------------------------------------------------------------\n",
      "Predicted SELFIE:\n",
      "[O][=C][Branch1][C][C][C][=C][C][=C][C][C][=C][C][=C][Ring1][#Branch1][=C][C][=C][C][=C][C][C][C][C][C][C][C][C][C][Ring1][Ring1][Ring1] \n",
      "\n",
      "True SELFIE:\n",
      "[O][=C][Branch1][=N][C][C][=C][C][=C][Branch1][C][O][C][=C][Ring1][#Branch1][N][/N][=C][\\C][=Branch1][C][=O][N][C][=C][Branch1][C][Cl][C][=C][C][=C][Ring1][#Branch1][Ring1][O]\n",
      "------------------------------------------------------------\n",
      "Predicted SELFIE:\n",
      "[C][C][Branch1][C][C][C][C][C][C][C][C][C][C][C][C][C][C][C][C][C][C][C][C][C][C][C][C][C][C][C][Ring1][Ring1][Ring1][Ring1][Ring1][Ring1][Ring1][Ring1] \n",
      "\n",
      "True SELFIE:\n",
      "[C][C][Branch1][C][C][C][O][C][=C][N][=C][C][Branch1][#Branch2][N][C][C][C][N][C][C][Ring1][#Branch1][=C][Ring1][=N]\n",
      "------------------------------------------------------------\n",
      "Predicted SELFIE:\n",
      "[O][=C][Branch1][C][O][C][C][C][C][C][C][C][C][C][C][C][C][C][C][C][C][C][C][C][C][C][C][Ring1][Ring1][Ring1] \n",
      "\n",
      "True SELFIE:\n",
      "[O][=C][Branch1][C][O][C][C][C][C][O][C][=C][C][Branch1][=Branch2][C][=C][C][=C][C][=C][Ring1][=Branch1][=C][C][=C][C][=C][C][Ring1][=Branch1][=N][Ring1][S]\n",
      "------------------------------------------------------------\n",
      "Epoch: 5\n"
     ]
    },
    {
     "name": "stderr",
     "output_type": "stream",
     "text": [
      "100%|███████████████████████████████████████| 1416/1416 [17:12<00:00,  1.37it/s]\n"
     ]
    },
    {
     "name": "stdout",
     "output_type": "stream",
     "text": [
      "Predicted SELFIE:\n",
      "[C][C][O][C][=Branch1][C][=O][C][C][C][C][C][C][C][C][C][C][C][C][C][C][C][C][C][C][C][C][C][C][C][C][C][C][C][C][C][C][C][Ring1][Ring1][Ring1][Ring1][Ring1][Ring1][Ring1][Ring1][Ring1][Ring1][Ring1][Ring1][Ring1][Ring1][Ring1][Ring1] \n",
      "\n",
      "True SELFIE:\n",
      "[C][C][O][C][=Branch1][C][=O][C][C][C][C][Branch1][C][C][=N][C][=C][C][Branch1][P][C][=C][C][Branch1][Ring1][O][C][=C][C][Branch1][Ring1][O][C][=C][Ring1][#Branch2][=N][N][Ring1][#C][C][=Ring2][Ring1][Ring2][O]\n",
      "------------------------------------------------------------\n",
      "Predicted SELFIE:\n",
      "[C][O][C][=C][C][=C][Ring2][Ring1][C][C][C][C][C][C][C][C][C][C][C][C][C][C][C][C][C][C][C][C][C][C][C][C][C][C][C][C][C][C][C][C][C][C][C][C][C][C][C][C][C][Ring1][Ring1][Ring1] \n",
      "\n",
      "True SELFIE:\n",
      "[C][O][C][=C][C][=C][Branch2][Ring2][=Branch1][C@H1][C][C@@H1][Ring1][Ring1][C][O][C][=N][C][Branch1][C][C][=N][C][=C][Ring1][#Branch1][C][C][=C][N][Branch1][#Branch1][C][C][=Branch1][C][=O][O][C][=Branch1][C][=O][C][=Ring1][O][N][=C][Ring2][Ring1][=N]\n",
      "------------------------------------------------------------\n",
      "Predicted SELFIE:\n",
      "[O][=C][Branch1][Ring1][C][C][=C][C][=C][C][C][=C][C][=C][Ring1][#Branch1][=C][C][C][=C][C][C][C][C][=C][C][C][=C][C][C][C][C][C][C][C][C][Ring1][Ring1][Ring1][Ring1] \n",
      "\n",
      "True SELFIE:\n",
      "[O][=C][Branch1][=N][C][C][=C][C][=C][Branch1][C][O][C][=C][Ring1][#Branch1][N][/N][=C][\\C][=Branch1][C][=O][N][C][=C][Branch1][C][Cl][C][=C][C][=C][Ring1][#Branch1][Ring1][O]\n",
      "------------------------------------------------------------\n",
      "Predicted SELFIE:\n",
      "[C][C][Branch1][C][C][C][C][C][C][C][C][C][C][C][C][C][C][C][C][C][C][C][C][C][C][C][C][C][Ring1][Ring1][Ring1][Ring1][Ring1][Ring1][Ring1][Ring1][Ring1][Ring1] \n",
      "\n",
      "True SELFIE:\n",
      "[C][C][Branch1][C][C][C][O][C][=C][N][=C][C][Branch1][#Branch2][N][C][C][C][N][C][C][Ring1][#Branch1][=C][Ring1][=N]\n",
      "------------------------------------------------------------\n",
      "Predicted SELFIE:\n",
      "[O][=C][Branch1][C][O][C][C][C][C][C][C][C][C][C][C][C][C][C][C][C][C][C][C][C][C][C][C][C][Ring1][Ring1][Ring1][Ring1][Ring1][Ring1][Ring1] \n",
      "\n",
      "True SELFIE:\n",
      "[O][=C][Branch1][C][O][C][C][C][C][O][C][=C][C][Branch1][=Branch2][C][=C][C][=C][C][=C][Ring1][=Branch1][=C][C][=C][C][=C][C][Ring1][=Branch1][=N][Ring1][S]\n",
      "------------------------------------------------------------\n",
      "Epoch: 6\n"
     ]
    },
    {
     "name": "stderr",
     "output_type": "stream",
     "text": [
      "100%|███████████████████████████████████████| 1416/1416 [16:40<00:00,  1.42it/s]\n"
     ]
    },
    {
     "name": "stdout",
     "output_type": "stream",
     "text": [
      "Predicted SELFIE:\n",
      "[C][C][O][C][=Branch1][C][=O][C][C][C][C][C][C][C][C][C][C][C][C][C][C][C][C][C][C][C][C][C][C][C][C][C][C][C][C][C][C][C][C][C][C][C][Ring1][Ring1][Ring1][Ring1][Ring1][Ring1][Ring1][Ring1][Ring1][Ring1][Ring1][Ring1][Ring1] \n",
      "\n",
      "True SELFIE:\n",
      "[C][C][O][C][=Branch1][C][=O][C][C][C][C][Branch1][C][C][=N][C][=C][C][Branch1][P][C][=C][C][Branch1][Ring1][O][C][=C][C][Branch1][Ring1][O][C][=C][Ring1][#Branch2][=N][N][Ring1][#C][C][=Ring2][Ring1][Ring2][O]\n",
      "------------------------------------------------------------\n",
      "Predicted SELFIE:\n",
      "[C][O][C][=C][C][=C][Branch1][Ring1][O][C][C][C][C][C][C][C][C][C][C][C][C][C][C][C][C][C][C][C][C][C][C][C][C][C][C][C][C][C][C][C][C][C][C][C][C][C][C][C][C][C][C][C][C][C] \n",
      "\n",
      "True SELFIE:\n",
      "[C][O][C][=C][C][=C][Branch2][Ring2][=Branch1][C@H1][C][C@@H1][Ring1][Ring1][C][O][C][=N][C][Branch1][C][C][=N][C][=C][Ring1][#Branch1][C][C][=C][N][Branch1][#Branch1][C][C][=Branch1][C][=O][O][C][=Branch1][C][=O][C][=Ring1][O][N][=C][Ring2][Ring1][=N]\n",
      "------------------------------------------------------------\n",
      "Predicted SELFIE:\n",
      "[O][=C][Branch1][Ring1][C][C][=C][C][=C][C][C][=C][C][=C][Ring1][#Branch1][=C][C][C][C][C][C][C][C][C][C][C][C][C][C][C][C][C][C][C][C] \n",
      "\n",
      "True SELFIE:\n",
      "[O][=C][Branch1][=N][C][C][=C][C][=C][Branch1][C][O][C][=C][Ring1][#Branch1][N][/N][=C][\\C][=Branch1][C][=O][N][C][=C][Branch1][C][Cl][C][=C][C][=C][Ring1][#Branch1][Ring1][O]\n",
      "------------------------------------------------------------\n",
      "Predicted SELFIE:\n",
      "[C][C][Branch1][C][C][C][C][C][C][C][C][C][C][C][C][C][C][C][C][C][C][C][C][C][C][C][C][C][C][C][C][Ring1][Ring1][Ring1][C][C][C][C][C][C][C][C] \n",
      "\n",
      "True SELFIE:\n",
      "[C][C][Branch1][C][C][C][O][C][=C][N][=C][C][Branch1][#Branch2][N][C][C][C][N][C][C][Ring1][#Branch1][=C][Ring1][=N]\n",
      "------------------------------------------------------------\n",
      "Predicted SELFIE:\n",
      "[O][=C][Branch1][C][O][C][C][C][C][C][C][C][C][C][C][C][C][C][C][C][C][C][C][C][C][C][C][C][C][C][Ring1][Ring1][Ring1][Ring1][Ring1][Ring1][Ring1] \n",
      "\n",
      "True SELFIE:\n",
      "[O][=C][Branch1][C][O][C][C][C][C][O][C][=C][C][Branch1][=Branch2][C][=C][C][=C][C][=C][Ring1][=Branch1][=C][C][=C][C][=C][C][Ring1][=Branch1][=N][Ring1][S]\n",
      "------------------------------------------------------------\n",
      "Epoch: 7\n"
     ]
    },
    {
     "name": "stderr",
     "output_type": "stream",
     "text": [
      "100%|███████████████████████████████████████| 1416/1416 [16:32<00:00,  1.43it/s]\n"
     ]
    },
    {
     "name": "stdout",
     "output_type": "stream",
     "text": [
      "Predicted SELFIE:\n",
      "[C][C][O][C][=Branch1][C][=O][C][C][C][Branch1][C][C][C][C][C][C][C][C][C][C][C][C][C][C][C][=C][=C][=C][=C][=C][=C][=C][=C][=C][=C][=C][Ring1][Ring1][Ring1][Ring1][Ring1][Ring1][Ring1][Ring1][Ring1][Ring1][Ring1][Ring1][Ring1][Ring1][Ring1] \n",
      "\n",
      "True SELFIE:\n",
      "[C][C][O][C][=Branch1][C][=O][C][C][C][C][Branch1][C][C][=N][C][=C][C][Branch1][P][C][=C][C][Branch1][Ring1][O][C][=C][C][Branch1][Ring1][O][C][=C][Ring1][#Branch2][=N][N][Ring1][#C][C][=Ring2][Ring1][Ring2][O]\n",
      "------------------------------------------------------------\n",
      "Predicted SELFIE:\n",
      "[C][O][C][=C][C][=C][Branch1][Ring1][O][C][C][C][C][C][C][C][C][C][C][C][C][C][C][C][C][C][C][C][C][C][C][C][C][C][C][C][C][C][C][C][C][C][C][C][C][C][C][C][C] \n",
      "\n",
      "True SELFIE:\n",
      "[C][O][C][=C][C][=C][Branch2][Ring2][=Branch1][C@H1][C][C@@H1][Ring1][Ring1][C][O][C][=N][C][Branch1][C][C][=N][C][=C][Ring1][#Branch1][C][C][=C][N][Branch1][#Branch1][C][C][=Branch1][C][=O][O][C][=Branch1][C][=O][C][=Ring1][O][N][=C][Ring2][Ring1][=N]\n",
      "------------------------------------------------------------\n",
      "Predicted SELFIE:\n",
      "[O][=C][Branch1][Ring1][N][C][=C][C][=C][C][C][=C][C][=C][Ring1][#Branch1][N][C][C][C][C][C][C][C][C][C][C][C][C][C][C][C] \n",
      "\n",
      "True SELFIE:\n",
      "[O][=C][Branch1][=N][C][C][=C][C][=C][Branch1][C][O][C][=C][Ring1][#Branch1][N][/N][=C][\\C][=Branch1][C][=O][N][C][=C][Branch1][C][Cl][C][=C][C][=C][Ring1][#Branch1][Ring1][O]\n",
      "------------------------------------------------------------\n",
      "Predicted SELFIE:\n",
      "[C][C][Branch1][C][C][C][C][C][C][C][C][C][C][C][C][C][C][C][C][C][C][C][C][C][C][C][C][C][C][C][C][C][Ring1][Ring1][Ring1][Ring1][Ring1][Ring1][Ring1][Ring1][Ring1] \n",
      "\n",
      "True SELFIE:\n",
      "[C][C][Branch1][C][C][C][O][C][=C][N][=C][C][Branch1][#Branch2][N][C][C][C][N][C][C][Ring1][#Branch1][=C][Ring1][=N]\n",
      "------------------------------------------------------------\n",
      "Predicted SELFIE:\n",
      "[O][=C][Branch1][C][O][C][C][C][C][C][C][C][C][C][C][C][C][C][C][C][C][C][C][C][C][C][=C][=C][=C][Ring1][Ring1][Ring1][Ring1][Ring1][Ring1][Ring1] \n",
      "\n",
      "True SELFIE:\n",
      "[O][=C][Branch1][C][O][C][C][C][C][O][C][=C][C][Branch1][=Branch2][C][=C][C][=C][C][=C][Ring1][=Branch1][=C][C][=C][C][=C][C][Ring1][=Branch1][=N][Ring1][S]\n",
      "------------------------------------------------------------\n",
      "Epoch: 8\n"
     ]
    },
    {
     "name": "stderr",
     "output_type": "stream",
     "text": [
      "100%|███████████████████████████████████████| 1416/1416 [16:49<00:00,  1.40it/s]\n"
     ]
    },
    {
     "name": "stdout",
     "output_type": "stream",
     "text": [
      "Predicted SELFIE:\n",
      "[C][C][O][C][=Branch1][C][=O][C][C][C][Branch1][C][C][C][C][C][C][C][C][C][C][C][C][C][C][C][=C][C][C][C][C][=C][C][C][C][C][C][C][C][C][C][C][Ring1][Ring1][Ring1][Ring1][Ring1][Ring1][Ring1][Ring1] \n",
      "\n",
      "True SELFIE:\n",
      "[C][C][O][C][=Branch1][C][=O][C][C][C][C][Branch1][C][C][=N][C][=C][C][Branch1][P][C][=C][C][Branch1][Ring1][O][C][=C][C][Branch1][Ring1][O][C][=C][Ring1][#Branch2][=N][N][Ring1][#C][C][=Ring2][Ring1][Ring2][O]\n",
      "------------------------------------------------------------\n",
      "Predicted SELFIE:\n",
      "[C][O][C][=C][C][=C][Branch1][Ring1][O][C][C][Branch1][Ring1][C][C][C][C][C][C][C][C][C][C][C][C][C][C][C][C][C][C][C][C][C][C][C][C][C][C][C][C][C][C][C][C] \n",
      "\n",
      "True SELFIE:\n",
      "[C][O][C][=C][C][=C][Branch2][Ring2][=Branch1][C@H1][C][C@@H1][Ring1][Ring1][C][O][C][=N][C][Branch1][C][C][=N][C][=C][Ring1][#Branch1][C][C][=C][N][Branch1][#Branch1][C][C][=Branch1][C][=O][O][C][=Branch1][C][=O][C][=Ring1][O][N][=C][Ring2][Ring1][=N]\n",
      "------------------------------------------------------------\n",
      "Predicted SELFIE:\n",
      "[O][=C][Branch1][C][C][C][=C][C][=C][C][C][=C][C][=C][Ring1][#Branch1][N][C][=C][C][C][C][C][C][C][C][C][C][C][C][=C][=C][C][=C] \n",
      "\n",
      "True SELFIE:\n",
      "[O][=C][Branch1][=N][C][C][=C][C][=C][Branch1][C][O][C][=C][Ring1][#Branch1][N][/N][=C][\\C][=Branch1][C][=O][N][C][=C][Branch1][C][Cl][C][=C][C][=C][Ring1][#Branch1][Ring1][O]\n",
      "------------------------------------------------------------\n",
      "Predicted SELFIE:\n",
      "[C][C][Branch1][C][C][C][C][C][C][C][C][Ring1][C][C][C][C][C][C][C][C][C][C][C][C][C][C][C][C][C][Ring1][Ring1][Ring1][Ring1][Ring1][Ring1][Ring1][Ring1] \n",
      "\n",
      "True SELFIE:\n",
      "[C][C][Branch1][C][C][C][O][C][=C][N][=C][C][Branch1][#Branch2][N][C][C][C][N][C][C][Ring1][#Branch1][=C][Ring1][=N]\n",
      "------------------------------------------------------------\n",
      "Predicted SELFIE:\n",
      "[O][=C][Branch1][C][O][C][C][C][C][C][C][C][C][C][C][C][C][C][C][C][C][=C][C][C][C][C][=C][Ring1][Ring1][Ring1][Ring1][Ring1][Ring1][Ring1] \n",
      "\n",
      "True SELFIE:\n",
      "[O][=C][Branch1][C][O][C][C][C][C][O][C][=C][C][Branch1][=Branch2][C][=C][C][=C][C][=C][Ring1][=Branch1][=C][C][=C][C][=C][C][Ring1][=Branch1][=N][Ring1][S]\n",
      "------------------------------------------------------------\n",
      "Epoch: 9\n"
     ]
    },
    {
     "name": "stderr",
     "output_type": "stream",
     "text": [
      "100%|███████████████████████████████████████| 1416/1416 [16:32<00:00,  1.43it/s]\n"
     ]
    },
    {
     "name": "stdout",
     "output_type": "stream",
     "text": [
      "Predicted SELFIE:\n",
      "[C][C][O][C][=Branch1][C][=O][C][C][C][C][C][C][C][C][C][C][C][C][C][C][C][C][C][C][C][C][C][C][C][C][C][C][C][C][C][C][C][C][C][C][Ring1][Ring1][Ring1][Ring1][Ring1][Ring1][Ring1][Ring1][Ring1][Ring1][Ring1][Ring1] \n",
      "\n",
      "True SELFIE:\n",
      "[C][C][O][C][=Branch1][C][=O][C][C][C][C][Branch1][C][C][=N][C][=C][C][Branch1][P][C][=C][C][Branch1][Ring1][O][C][=C][C][Branch1][Ring1][O][C][=C][Ring1][#Branch2][=N][N][Ring1][#C][C][=Ring2][Ring1][Ring2][O]\n",
      "------------------------------------------------------------\n",
      "Predicted SELFIE:\n",
      "[C][O][C][=C][C][=C][Branch1][Ring1][O][C][C][C][C][C][C][C][C][C][C][C][C][C][C][C][C][C][C][C][C][C][C][C][C][C][C][C][C][C][C][C][C][C][C][C][C][Ring1][Ring1] \n",
      "\n",
      "True SELFIE:\n",
      "[C][O][C][=C][C][=C][Branch2][Ring2][=Branch1][C@H1][C][C@@H1][Ring1][Ring1][C][O][C][=N][C][Branch1][C][C][=N][C][=C][Ring1][#Branch1][C][C][=C][N][Branch1][#Branch1][C][C][=Branch1][C][=O][O][C][=Branch1][C][=O][C][=Ring1][O][N][=C][Ring2][Ring1][=N]\n",
      "------------------------------------------------------------\n",
      "Predicted SELFIE:\n",
      "[O][=C][Branch1][C][C][C][=C][C][=C][C][C][=C][C][=C][C][#Branch1][Ring1][#Branch1][N][C][C][C][C][C][C][=C][=C][C][=C][C][=C][=C][C][=C][Ring1][#Branch1][Ring1][#Branch1] \n",
      "\n",
      "True SELFIE:\n",
      "[O][=C][Branch1][=N][C][C][=C][C][=C][Branch1][C][O][C][=C][Ring1][#Branch1][N][/N][=C][\\C][=Branch1][C][=O][N][C][=C][Branch1][C][Cl][C][=C][C][=C][Ring1][#Branch1][Ring1][O]\n",
      "------------------------------------------------------------\n",
      "Predicted SELFIE:\n",
      "[C][C][Branch1][C][C][C][C][C][C][C][C][C][C][C][C][C][C][C][C][C][C][C][C][C][C][C][C][C][C][C][C][Ring1][Ring1][Ring1][Ring1][Ring1][Ring1] \n",
      "\n",
      "True SELFIE:\n",
      "[C][C][Branch1][C][C][C][O][C][=C][N][=C][C][Branch1][#Branch2][N][C][C][C][N][C][C][Ring1][#Branch1][=C][Ring1][=N]\n",
      "------------------------------------------------------------\n",
      "Predicted SELFIE:\n",
      "[O][=C][Branch1][C][O][C][C][C][C][C][C][C][C][C][C][C][C][C][C][C][C][C][C][C][C][C][C][C][C][C][C][Ring1][Ring1][Ring1][Ring1][Ring1][Ring1][Ring1][Ring1][Ring1] \n",
      "\n",
      "True SELFIE:\n",
      "[O][=C][Branch1][C][O][C][C][C][C][O][C][=C][C][Branch1][=Branch2][C][=C][C][=C][C][=C][Ring1][=Branch1][=C][C][=C][C][=C][C][Ring1][=Branch1][=N][Ring1][S]\n",
      "------------------------------------------------------------\n",
      "Epoch: 10\n"
     ]
    },
    {
     "name": "stderr",
     "output_type": "stream",
     "text": [
      "100%|███████████████████████████████████████| 1416/1416 [16:14<00:00,  1.45it/s]\n"
     ]
    },
    {
     "name": "stdout",
     "output_type": "stream",
     "text": [
      "Predicted SELFIE:\n",
      "[C][C][O][C][=Branch1][C][=O][C][N][C][C][C][C][C][C][C][C][C][C][C][C][C][C][C][C][C][C][C][C][C][C][C][C][C][C][C][C][C][C][C][C][C][C][C][Ring1][Ring1][Ring1][Ring1][Ring1][Ring1][Ring1][Ring1] \n",
      "\n",
      "True SELFIE:\n",
      "[C][C][O][C][=Branch1][C][=O][C][C][C][C][Branch1][C][C][=N][C][=C][C][Branch1][P][C][=C][C][Branch1][Ring1][O][C][=C][C][Branch1][Ring1][O][C][=C][Ring1][#Branch2][=N][N][Ring1][#C][C][=Ring2][Ring1][Ring2][O]\n",
      "------------------------------------------------------------\n",
      "Predicted SELFIE:\n",
      "[C][O][C][=C][C][=C][Branch1][Ring1][C][C][=C][Branch1][#Branch1][C][C][C][C][C][C][C][C][C][C][C][C][C][C][C][C][C][C][C][C][C][C][C][C][C][C][C][C][C][C][C][C][C][C][=O][=O][=O][=O] \n",
      "\n",
      "True SELFIE:\n",
      "[C][O][C][=C][C][=C][Branch2][Ring2][=Branch1][C@H1][C][C@@H1][Ring1][Ring1][C][O][C][=N][C][Branch1][C][C][=N][C][=C][Ring1][#Branch1][C][C][=C][N][Branch1][#Branch1][C][C][=Branch1][C][=O][O][C][=Branch1][C][=O][C][=Ring1][O][N][=C][Ring2][Ring1][=N]\n",
      "------------------------------------------------------------\n",
      "Predicted SELFIE:\n",
      "[O][=C][Branch1][C][C][C][=C][C][=C][C][C][=C][C][=C][Ring1][#Branch1][O][C][C][C][C][C][C][C][C][C][C][C][=C][=C][=C][=C][=C][Ring1][Ring1] \n",
      "\n",
      "True SELFIE:\n",
      "[O][=C][Branch1][=N][C][C][=C][C][=C][Branch1][C][O][C][=C][Ring1][#Branch1][N][/N][=C][\\C][=Branch1][C][=O][N][C][=C][Branch1][C][Cl][C][=C][C][=C][Ring1][#Branch1][Ring1][O]\n",
      "------------------------------------------------------------\n",
      "Predicted SELFIE:\n",
      "[C][C][Branch1][C][C][C][C][C][C][C][C][C][C][C][C][C][C][C][C][C][C][C][C][C][C][C][C][C][C][C][C][C][C][C][Ring1][Ring1][Ring1][Ring1][Ring1][Ring1][Ring1] \n",
      "\n",
      "True SELFIE:\n",
      "[C][C][Branch1][C][C][C][O][C][=C][N][=C][C][Branch1][#Branch2][N][C][C][C][N][C][C][Ring1][#Branch1][=C][Ring1][=N]\n",
      "------------------------------------------------------------\n",
      "Predicted SELFIE:\n",
      "[O][=C][Branch1][C][O][C][C][C][C][C][C][C][C][C][C][C][C][C][=C][=C][=C][=C][=C][C][C][C][C][C][C][C][Ring1][Ring1][Ring1][Ring1][Ring1][Ring1][Ring1][Ring1] \n",
      "\n",
      "True SELFIE:\n",
      "[O][=C][Branch1][C][O][C][C][C][C][O][C][=C][C][Branch1][=Branch2][C][=C][C][=C][C][=C][Ring1][=Branch1][=C][C][=C][C][=C][C][Ring1][=Branch1][=N][Ring1][S]\n",
      "------------------------------------------------------------\n",
      "Epoch: 11\n"
     ]
    },
    {
     "name": "stderr",
     "output_type": "stream",
     "text": [
      "100%|███████████████████████████████████████| 1416/1416 [16:44<00:00,  1.41it/s]\n"
     ]
    },
    {
     "name": "stdout",
     "output_type": "stream",
     "text": [
      "Predicted SELFIE:\n",
      "[C][C][O][C][=Branch1][C][=O][C][C][C][=C][C][C][C][C][C][C][C][C][C][C][C][C][C][C][C][C][C][C][C][C][Ring1][C][C][C][C][C][C][C][C][C][C][C][C][C][C][C][C][Ring1][Ring1][Ring1][Ring1][Ring1][Ring1][Ring1] \n",
      "\n",
      "True SELFIE:\n",
      "[C][C][O][C][=Branch1][C][=O][C][C][C][C][Branch1][C][C][=N][C][=C][C][Branch1][P][C][=C][C][Branch1][Ring1][O][C][=C][C][Branch1][Ring1][O][C][=C][Ring1][#Branch2][=N][N][Ring1][#C][C][=Ring2][Ring1][Ring2][O]\n",
      "------------------------------------------------------------\n",
      "Predicted SELFIE:\n",
      "[C][O][C][=C][C][=C][Branch1][Ring1][O][C][=C][C][Ring1][C][C][C][C][C][C][C][C][C][C][C][C][C][C][C][C][C][C][C][C][C][C][C][C][C][C][C][C][C][C][C][C][C] \n",
      "\n",
      "True SELFIE:\n",
      "[C][O][C][=C][C][=C][Branch2][Ring2][=Branch1][C@H1][C][C@@H1][Ring1][Ring1][C][O][C][=N][C][Branch1][C][C][=N][C][=C][Ring1][#Branch1][C][C][=C][N][Branch1][#Branch1][C][C][=Branch1][C][=O][O][C][=Branch1][C][=O][C][=Ring1][O][N][=C][Ring2][Ring1][=N]\n",
      "------------------------------------------------------------\n",
      "Predicted SELFIE:\n",
      "[O][=C][Branch1][Ring1][C][C][=C][C][=C][Branch1][C][Cl][C][=C][Ring1][#Branch1][N][C][C][C][C][C][C][C][C][C][C][C][C][C][=C][=C][C][Ring1][#Branch1][#Branch1][Ring1] \n",
      "\n",
      "True SELFIE:\n",
      "[O][=C][Branch1][=N][C][C][=C][C][=C][Branch1][C][O][C][=C][Ring1][#Branch1][N][/N][=C][\\C][=Branch1][C][=O][N][C][=C][Branch1][C][Cl][C][=C][C][=C][Ring1][#Branch1][Ring1][O]\n",
      "------------------------------------------------------------\n",
      "Predicted SELFIE:\n",
      "[C][C][Branch1][C][C][C][C][C][C][C][C][C][Branch1][C][C][C][C][C][C][C][C][C][C][C][C][C][C][C][C][C][Ring1][Ring1][Ring1][Ring1][Ring1][C] \n",
      "\n",
      "True SELFIE:\n",
      "[C][C][Branch1][C][C][C][O][C][=C][N][=C][C][Branch1][#Branch2][N][C][C][C][N][C][C][Ring1][#Branch1][=C][Ring1][=N]\n",
      "------------------------------------------------------------\n",
      "Predicted SELFIE:\n",
      "[O][=C][Branch1][C][O][C][C][C][C][C][C][C][C][C][C][C][C][=C][=C][=C][=C][=C][=C][=C][=C][=C][=C][=C][=C][Ring1][Ring1][Ring1][Ring1][Ring1][Ring1][Ring1][Ring1] \n",
      "\n",
      "True SELFIE:\n",
      "[O][=C][Branch1][C][O][C][C][C][C][O][C][=C][C][Branch1][=Branch2][C][=C][C][=C][C][=C][Ring1][=Branch1][=C][C][=C][C][=C][C][Ring1][=Branch1][=N][Ring1][S]\n",
      "------------------------------------------------------------\n",
      "Epoch: 12\n"
     ]
    },
    {
     "name": "stderr",
     "output_type": "stream",
     "text": [
      "100%|███████████████████████████████████████| 1416/1416 [16:32<00:00,  1.43it/s]\n"
     ]
    },
    {
     "name": "stdout",
     "output_type": "stream",
     "text": [
      "Predicted SELFIE:\n",
      "[C][C][O][C][=Branch1][C][=O][C][C][C][=C][C][=C][C][C][C][C][C][C][C][C][C][C][C][C][C][C][C][C][=C][Ring1][Ring1][C][C][=C][=C][Ring1][C][C][C][C][Ring1][Ring1][C][C][Ring1][Ring1][Ring1][Ring1][Ring1][Ring1][Ring1] \n",
      "\n",
      "True SELFIE:\n",
      "[C][C][O][C][=Branch1][C][=O][C][C][C][C][Branch1][C][C][=N][C][=C][C][Branch1][P][C][=C][C][Branch1][Ring1][O][C][=C][C][Branch1][Ring1][O][C][=C][Ring1][#Branch2][=N][N][Ring1][#C][C][=Ring2][Ring1][Ring2][O]\n",
      "------------------------------------------------------------\n",
      "Predicted SELFIE:\n",
      "[C][O][C][=C][C][=C][Branch1][Ring2][O][C][=C][C][Ring1][#Branch1][C][C][C][C][C][C][C][C][C][C][C][C][C][C][C][C][C][C][C][C][C][C][C][C][C][C][C][C][C][C][C][C] \n",
      "\n",
      "True SELFIE:\n",
      "[C][O][C][=C][C][=C][Branch2][Ring2][=Branch1][C@H1][C][C@@H1][Ring1][Ring1][C][O][C][=N][C][Branch1][C][C][=N][C][=C][Ring1][#Branch1][C][C][=C][N][Branch1][#Branch1][C][C][=Branch1][C][=O][O][C][=Branch1][C][=O][C][=Ring1][O][N][=C][Ring2][Ring1][=N]\n",
      "------------------------------------------------------------\n",
      "Predicted SELFIE:\n",
      "[O][=C][Branch1][C][C][C][=C][C][=C][C][C][=C][C][=C][Ring1][#Branch1][N][C][=C][C][C][C][C][C][C][C][C][C][C][C][=C][=C][=C][=C][C][#Branch1][#Branch1][#Branch1][#Branch1][Ring1] \n",
      "\n",
      "True SELFIE:\n",
      "[O][=C][Branch1][=N][C][C][=C][C][=C][Branch1][C][O][C][=C][Ring1][#Branch1][N][/N][=C][\\C][=Branch1][C][=O][N][C][=C][Branch1][C][Cl][C][=C][C][=C][Ring1][#Branch1][Ring1][O]\n",
      "------------------------------------------------------------\n",
      "Predicted SELFIE:\n",
      "[C][C][Branch1][C][C][C][C][C][C][C][C][C][Branch1][Branch1][C][C][C][C][C][C][C][C][C][C][C][C][C][C][C][C][Ring1][Ring1][Ring1][C][C][C][C][C] \n",
      "\n",
      "True SELFIE:\n",
      "[C][C][Branch1][C][C][C][O][C][=C][N][=C][C][Branch1][#Branch2][N][C][C][C][N][C][C][Ring1][#Branch1][=C][Ring1][=N]\n",
      "------------------------------------------------------------\n",
      "Predicted SELFIE:\n",
      "[O][=C][Branch1][C][O][C][C][C][C][C][C][C][C][C][C][=C][=C][=C][=C][=C][=C][=C][=C][=C][=C][=C][=C][=C][=C][=C][=C][Ring1][Ring1][Ring1][Ring1][Ring1][Ring1][Ring1][Ring1] \n",
      "\n",
      "True SELFIE:\n",
      "[O][=C][Branch1][C][O][C][C][C][C][O][C][=C][C][Branch1][=Branch2][C][=C][C][=C][C][=C][Ring1][=Branch1][=C][C][=C][C][=C][C][Ring1][=Branch1][=N][Ring1][S]\n",
      "------------------------------------------------------------\n",
      "Epoch: 13\n"
     ]
    },
    {
     "name": "stderr",
     "output_type": "stream",
     "text": [
      "100%|███████████████████████████████████████| 1416/1416 [16:24<00:00,  1.44it/s]\n"
     ]
    },
    {
     "name": "stdout",
     "output_type": "stream",
     "text": [
      "Predicted SELFIE:\n",
      "[C][C][O][C][=Branch1][C][=O][C][C][C][C][C][=C][Ring1][C][C][C][C][=C][Branch1][Branch1][C][C][C][=C][Branch1][Branch1][C][C][=C][=C][Ring1][C][C][=C][=C][Ring1][Ring1][C][C][Ring1][Ring1][Ring1][Ring1][C][C][Ring1][Ring1][Ring1][Ring1] \n",
      "\n",
      "True SELFIE:\n",
      "[C][C][O][C][=Branch1][C][=O][C][C][C][C][Branch1][C][C][=N][C][=C][C][Branch1][P][C][=C][C][Branch1][Ring1][O][C][=C][C][Branch1][Ring1][O][C][=C][Ring1][#Branch2][=N][N][Ring1][#C][C][=Ring2][Ring1][Ring2][O]\n",
      "------------------------------------------------------------\n",
      "Predicted SELFIE:\n",
      "[C][O][C][=C][C][=C][Branch1][Ring2][O][C][C][=C][Ring1][#Branch1][C][C][C][Branch1][C][C][C][C][C][Ring1][#Branch1][C][C][C][C][C][C][C][C][C][C][C][C][C][C][C][C][C][C][C][C][C][C][C][=O][=O] \n",
      "\n",
      "True SELFIE:\n",
      "[C][O][C][=C][C][=C][Branch2][Ring2][=Branch1][C@H1][C][C@@H1][Ring1][Ring1][C][O][C][=N][C][Branch1][C][C][=N][C][=C][Ring1][#Branch1][C][C][=C][N][Branch1][#Branch1][C][C][=Branch1][C][=O][O][C][=Branch1][C][=O][C][=Ring1][O][N][=C][Ring2][Ring1][=N]\n",
      "------------------------------------------------------------\n",
      "Predicted SELFIE:\n",
      "[O][=C][Branch1][C][C][C][=C][C][=C][C][C][Cl][C][=C][Ring1][#Branch1][=C][C][=C][C][C][C][C][=C][C][C][C][C][=C][C][=C][=C][C][=C][#Branch1] \n",
      "\n",
      "True SELFIE:\n",
      "[O][=C][Branch1][=N][C][C][=C][C][=C][Branch1][C][O][C][=C][Ring1][#Branch1][N][/N][=C][\\C][=Branch1][C][=O][N][C][=C][Branch1][C][Cl][C][=C][C][=C][Ring1][#Branch1][Ring1][O]\n",
      "------------------------------------------------------------\n",
      "Predicted SELFIE:\n",
      "[C][N][Branch1][C][C][C][C][C][C][C][C][C][Branch1][Branch1][C][C][C][C][C][C][C][C][C][C][C][C][C][C][C][C][Ring1][Ring1][Ring1] \n",
      "\n",
      "True SELFIE:\n",
      "[C][C][Branch1][C][C][C][O][C][=C][N][=C][C][Branch1][#Branch2][N][C][C][C][N][C][C][Ring1][#Branch1][=C][Ring1][=N]\n",
      "------------------------------------------------------------\n",
      "Predicted SELFIE:\n",
      "[O][=C][Branch1][C][O][C][C][C][C][C][C][C][C][C][C][C][=C][=C][=C][=C][=C][=C][=C][=C][=C][=C][=C][=C][=C][Ring1][Ring1][Ring1][Ring1][Ring1][Ring1][Ring1][Ring1][Ring1] \n",
      "\n",
      "True SELFIE:\n",
      "[O][=C][Branch1][C][O][C][C][C][C][O][C][=C][C][Branch1][=Branch2][C][=C][C][=C][C][=C][Ring1][=Branch1][=C][C][=C][C][=C][C][Ring1][=Branch1][=N][Ring1][S]\n",
      "------------------------------------------------------------\n",
      "Epoch: 14\n"
     ]
    },
    {
     "name": "stderr",
     "output_type": "stream",
     "text": [
      "100%|███████████████████████████████████████| 1416/1416 [19:37<00:00,  1.20it/s]\n"
     ]
    },
    {
     "name": "stdout",
     "output_type": "stream",
     "text": [
      "Predicted SELFIE:\n",
      "[C][C][O][C][=Branch1][C][=O][C][C][C][C][C][=C][C][C][C][C][C][C][C][C][C][C][C][C][C][C][C][=C][=C][Ring1][C][C][=C][=C][Ring1][C][C][C][C][C][C][C][C][Ring1][Ring1][Ring1][Ring1][Ring1][Ring1] \n",
      "\n",
      "True SELFIE:\n",
      "[C][C][O][C][=Branch1][C][=O][C][C][C][C][Branch1][C][C][=N][C][=C][C][Branch1][P][C][=C][C][Branch1][Ring1][O][C][=C][C][Branch1][Ring1][O][C][=C][Ring1][#Branch2][=N][N][Ring1][#C][C][=Ring2][Ring1][Ring2][O]\n",
      "------------------------------------------------------------\n",
      "Predicted SELFIE:\n",
      "[C][O][C][=C][C][=C][Branch1][Ring2][O][C][C][C][Ring1][Ring1][C][C][C][C][C][C][C][C][C][C][C][C][C][C][C][C][C][C][C][C][C][C][C][C][C][C][C][C][C][C][C][C][C][C][C][=C][Ring1] \n",
      "\n",
      "True SELFIE:\n",
      "[C][O][C][=C][C][=C][Branch2][Ring2][=Branch1][C@H1][C][C@@H1][Ring1][Ring1][C][O][C][=N][C][Branch1][C][C][=N][C][=C][Ring1][#Branch1][C][C][=C][N][Branch1][#Branch1][C][C][=Branch1][C][=O][O][C][=Branch1][C][=O][C][=Ring1][O][N][=C][Ring2][Ring1][=N]\n",
      "------------------------------------------------------------\n",
      "Predicted SELFIE:\n",
      "[O][=C][Branch1][C][C][C][=C][C][=C][Branch1][C][Cl][C][=C][Ring1][#Branch1][N][C][=Branch1][C][=O][C][C][C][C][=C][C][C][=C][C][C][C][=C][=C][#Branch1][#Branch1][Ring1][#Branch1][Ring1] \n",
      "\n",
      "True SELFIE:\n",
      "[O][=C][Branch1][=N][C][C][=C][C][=C][Branch1][C][O][C][=C][Ring1][#Branch1][N][/N][=C][\\C][=Branch1][C][=O][N][C][=C][Branch1][C][Cl][C][=C][C][=C][Ring1][#Branch1][Ring1][O]\n",
      "------------------------------------------------------------\n",
      "Predicted SELFIE:\n",
      "[C][C][Branch1][C][C][C][C][C][C][C][C][C][C][Branch1][C][C][C][C][C][C][C][C][C][C][C][C][C][C][C][=C][=C][Ring1][Ring1][Ring1] \n",
      "\n",
      "True SELFIE:\n",
      "[C][C][Branch1][C][C][C][O][C][=C][N][=C][C][Branch1][#Branch2][N][C][C][C][N][C][C][Ring1][#Branch1][=C][Ring1][=N]\n",
      "------------------------------------------------------------\n",
      "Predicted SELFIE:\n",
      "[O][=C][Branch1][C][O][C][C][C][C][C][C][C][C][Branch1][C][C][=C][=C][=C][=C][=C][=C][=C][=C][=C][=C][=C][=C][=C][=C][=C][Ring1][Ring1][Ring1][Ring1][Ring1][Ring1][Ring1][Ring1][Ring1][Ring1] \n",
      "\n",
      "True SELFIE:\n",
      "[O][=C][Branch1][C][O][C][C][C][C][O][C][=C][C][Branch1][=Branch2][C][=C][C][=C][C][=C][Ring1][=Branch1][=C][C][=C][C][=C][C][Ring1][=Branch1][=N][Ring1][S]\n",
      "------------------------------------------------------------\n",
      "Epoch: 15\n"
     ]
    },
    {
     "name": "stderr",
     "output_type": "stream",
     "text": [
      "100%|███████████████████████████████████████| 1416/1416 [17:55<00:00,  1.32it/s]\n"
     ]
    },
    {
     "name": "stdout",
     "output_type": "stream",
     "text": [
      "Predicted SELFIE:\n",
      "[C][C][O][C][=Branch1][C][=O][C][C][C][=C][C][=C][C][C][C][C][C][=C][C][Branch1][C][C][C][=C][=C][Ring1][O][C][C][=C][Ring1][O][O][C][=C][Ring1][O][C][C][=C][Ring1][C][C][C][Ring2][Ring1][Ring1][Ring1][Ring1] \n",
      "\n",
      "True SELFIE:\n",
      "[C][C][O][C][=Branch1][C][=O][C][C][C][C][Branch1][C][C][=N][C][=C][C][Branch1][P][C][=C][C][Branch1][Ring1][O][C][=C][C][Branch1][Ring1][O][C][=C][Ring1][#Branch2][=N][N][Ring1][#C][C][=Ring2][Ring1][Ring2][O]\n",
      "------------------------------------------------------------\n",
      "Predicted SELFIE:\n",
      "[C][O][C][=C][C][=C][Branch1][Ring1][O][C][C][=C][Ring1][#Branch1][C][C][C][C][C][C][C][C][C][=C][Ring1][#Branch1][C][C][C][C][C][C][C][C][C][C][C][C][C][C][C][C][C][C][C][C] \n",
      "\n",
      "True SELFIE:\n",
      "[C][O][C][=C][C][=C][Branch2][Ring2][=Branch1][C@H1][C][C@@H1][Ring1][Ring1][C][O][C][=N][C][Branch1][C][C][=N][C][=C][Ring1][#Branch1][C][C][=C][N][Branch1][#Branch1][C][C][=Branch1][C][=O][O][C][=Branch1][C][=O][C][=Ring1][O][N][=C][Ring2][Ring1][=N]\n",
      "------------------------------------------------------------\n",
      "Predicted SELFIE:\n",
      "[O][=C][Branch1][C][O][C][=C][C][=C][Branch1][C][Cl][C][=C][Ring1][#Branch1][N][C][=Branch1][C][=O][C][C][C][C][=C][=C][C][C][C][C][C][C][C][=C][#Branch1][#Branch1][#Branch1][Ring1][Ring1] \n",
      "\n",
      "True SELFIE:\n",
      "[O][=C][Branch1][=N][C][C][=C][C][=C][Branch1][C][O][C][=C][Ring1][#Branch1][N][/N][=C][\\C][=Branch1][C][=O][N][C][=C][Branch1][C][Cl][C][=C][C][=C][Ring1][#Branch1][Ring1][O]\n",
      "------------------------------------------------------------\n",
      "Predicted SELFIE:\n",
      "[C][C][Branch1][C][C][C][C][C][C][C][C][C][Branch1][Branch1][C][C][C][C][C][C][C][C][C][C][C][C][C][C][C][C][C][Ring1][Ring1] \n",
      "\n",
      "True SELFIE:\n",
      "[C][C][Branch1][C][C][C][O][C][=C][N][=C][C][Branch1][#Branch2][N][C][C][C][N][C][C][Ring1][#Branch1][=C][Ring1][=N]\n",
      "------------------------------------------------------------\n",
      "Predicted SELFIE:\n",
      "[O][=C][Branch1][C][O][C][C][C][C][C][C][C][C][C][C][C][=C][=C][=C][=C][=C][=C][=C][=C][=C][=C][=C][=C][=C][=C][=C][=C][Ring1][Ring1][Ring1][Ring1][Ring1][Ring1][Ring1][Ring1] \n",
      "\n",
      "True SELFIE:\n",
      "[O][=C][Branch1][C][O][C][C][C][C][O][C][=C][C][Branch1][=Branch2][C][=C][C][=C][C][=C][Ring1][=Branch1][=C][C][=C][C][=C][C][Ring1][=Branch1][=N][Ring1][S]\n",
      "------------------------------------------------------------\n",
      "Epoch: 16\n"
     ]
    },
    {
     "name": "stderr",
     "output_type": "stream",
     "text": [
      "100%|███████████████████████████████████████| 1416/1416 [16:29<00:00,  1.43it/s]\n"
     ]
    },
    {
     "name": "stdout",
     "output_type": "stream",
     "text": [
      "Predicted SELFIE:\n",
      "[C][C][O][C][=Branch1][C][=O][C][C][C][C][C][=C][C][Ring1][C][C][C][=C][C][Branch1][C][C][C][=C][Ring1][Ring1][O][C][=C][Ring1][Ring1][O][C][=C][=C][C][C][C][C][Ring1][Ring1][Ring1][Ring1][Ring1][Ring1][Ring1] \n",
      "\n",
      "True SELFIE:\n",
      "[C][C][O][C][=Branch1][C][=O][C][C][C][C][Branch1][C][C][=N][C][=C][C][Branch1][P][C][=C][C][Branch1][Ring1][O][C][=C][C][Branch1][Ring1][O][C][=C][Ring1][#Branch2][=N][N][Ring1][#C][C][=Ring2][Ring1][Ring2][O]\n",
      "------------------------------------------------------------\n",
      "Predicted SELFIE:\n",
      "[C][O][C][=C][C][=C][Branch1][Ring1][O][C][C][=C][Ring1][#Branch1][C][C][C][C][C][C][C][C][C][C][#Branch1][C][C][C][C][C][C][C][C][C][C][C][C][C][C][C][C][C][C][C][C] \n",
      "\n",
      "True SELFIE:\n",
      "[C][O][C][=C][C][=C][Branch2][Ring2][=Branch1][C@H1][C][C@@H1][Ring1][Ring1][C][O][C][=N][C][Branch1][C][C][=N][C][=C][Ring1][#Branch1][C][C][=C][N][Branch1][#Branch1][C][C][=Branch1][C][=O][O][C][=Branch1][C][=O][C][=Ring1][O][N][=C][Ring2][Ring1][=N]\n",
      "------------------------------------------------------------\n",
      "Predicted SELFIE:\n",
      "[O][=C][Branch1][C][C][C][=C][C][=C][C][C][Cl][C][=C][Ring1][#Branch1][N][C][=C][C][C][C][C][C][C][=C][C][C][C][C][=C][=C][=C][Ring1][Ring1][Ring1][Ring1] \n",
      "\n",
      "True SELFIE:\n",
      "[O][=C][Branch1][=N][C][C][=C][C][=C][Branch1][C][O][C][=C][Ring1][#Branch1][N][/N][=C][\\C][=Branch1][C][=O][N][C][=C][Branch1][C][Cl][C][=C][C][=C][Ring1][#Branch1][Ring1][O]\n",
      "------------------------------------------------------------\n",
      "Predicted SELFIE:\n",
      "[C][C][Branch1][C][C][C][C][C][C][C][C][C][=C][Branch1][Branch1][C][C][C][C][C][C][C][C][C][C][C][C][C][Ring1][Ring1][Ring1][Ring1][Ring1] \n",
      "\n",
      "True SELFIE:\n",
      "[C][C][Branch1][C][C][C][O][C][=C][N][=C][C][Branch1][#Branch2][N][C][C][C][N][C][C][Ring1][#Branch1][=C][Ring1][=N]\n",
      "------------------------------------------------------------\n",
      "Predicted SELFIE:\n",
      "[O][=C][Branch1][C][O][C][C][C][C][C][C][=C][C][C][C][C][=C][C][=C][=C][=C][=C][=C][=C][=C][=C][=C][=C][=C][Ring1][Ring1][Ring1][Ring1][Ring1][Ring1][Ring1][Ring1] \n",
      "\n",
      "True SELFIE:\n",
      "[O][=C][Branch1][C][O][C][C][C][C][O][C][=C][C][Branch1][=Branch2][C][=C][C][=C][C][=C][Ring1][=Branch1][=C][C][=C][C][=C][C][Ring1][=Branch1][=N][Ring1][S]\n",
      "------------------------------------------------------------\n",
      "Epoch: 17\n"
     ]
    },
    {
     "name": "stderr",
     "output_type": "stream",
     "text": [
      "100%|███████████████████████████████████████| 1416/1416 [16:03<00:00,  1.47it/s]\n"
     ]
    },
    {
     "name": "stdout",
     "output_type": "stream",
     "text": [
      "Predicted SELFIE:\n",
      "[C][C][O][C][=Branch1][C][=O][C][C][C][C][C][=C][Ring1][C][C][C][C][C][C][Branch1][C][C][C][=C][C][Branch1][C][C][=C][=C][Ring1][O][O][C][=C][Ring1][C][C][C][C][Ring1][Ring1][Ring1][Ring1][Ring1][Ring1][Ring1][Ring1] \n",
      "\n",
      "True SELFIE:\n",
      "[C][C][O][C][=Branch1][C][=O][C][C][C][C][Branch1][C][C][=N][C][=C][C][Branch1][P][C][=C][C][Branch1][Ring1][O][C][=C][C][Branch1][Ring1][O][C][=C][Ring1][#Branch2][=N][N][Ring1][#C][C][=Ring2][Ring1][Ring2][O]\n",
      "------------------------------------------------------------\n",
      "Predicted SELFIE:\n",
      "[C][O][C][=C][C][=C][Branch1][Ring1][#Branch1][C][C][=C][Ring1][#Branch1][C][C][C][C][C][C][C][C][C][C][C][C][C][C][C][C][C][C][C][C][C][C][C][C][C][C][C][C][C][C][C][C][C][C] \n",
      "\n",
      "True SELFIE:\n",
      "[C][O][C][=C][C][=C][Branch2][Ring2][=Branch1][C@H1][C][C@@H1][Ring1][Ring1][C][O][C][=N][C][Branch1][C][C][=N][C][=C][Ring1][#Branch1][C][C][=C][N][Branch1][#Branch1][C][C][=Branch1][C][=O][O][C][=Branch1][C][=O][C][=Ring1][O][N][=C][Ring2][Ring1][=N]\n",
      "------------------------------------------------------------\n",
      "Predicted SELFIE:\n",
      "[O][=C][Branch1][C][C][C][=C][C][=C][C][C][C][C][=C][Ring1][#Branch1][N][C][=Branch1][C][=O][C][C][C][C][=C][C][C][C][C][C][C][=C][Ring1][#Branch1][#Branch1][Ring1][Ring1][Ring1][=C][=C] \n",
      "\n",
      "True SELFIE:\n",
      "[O][=C][Branch1][=N][C][C][=C][C][=C][Branch1][C][O][C][=C][Ring1][#Branch1][N][/N][=C][\\C][=Branch1][C][=O][N][C][=C][Branch1][C][Cl][C][=C][C][=C][Ring1][#Branch1][Ring1][O]\n",
      "------------------------------------------------------------\n",
      "Predicted SELFIE:\n",
      "[C][C][Branch1][C][C][C][C][C][C][C][C][C][C][C][C][C][C][C][C][C][C][C][C][C][C][C][C][C][C][C][C][C][C][C][C][Ring1][C][C][C][C][C][C][C][C][C][C][C][C][C] \n",
      "\n",
      "True SELFIE:\n",
      "[C][C][Branch1][C][C][C][O][C][=C][N][=C][C][Branch1][#Branch2][N][C][C][C][N][C][C][Ring1][#Branch1][=C][Ring1][=N]\n",
      "------------------------------------------------------------\n",
      "Predicted SELFIE:\n",
      "[O][=C][Branch1][C][O][C][C][C][C][C][C][C][C][C][C][C][=C][=C][=C][=C][=C][=C][=C][=C][=C][=C][=C][=C][=C][=C][=C][Ring1][Ring1][Ring1][Ring1][Ring1][Ring1][Ring1][Ring1][=C][=C][=C][=C][=C][=C][=C][=C][=C][=C][=C][=C][=C][=C][=C][=C][=C][=C][=C][=C][=C][=C][=C][=C] \n",
      "\n",
      "True SELFIE:\n",
      "[O][=C][Branch1][C][O][C][C][C][C][O][C][=C][C][Branch1][=Branch2][C][=C][C][=C][C][=C][Ring1][=Branch1][=C][C][=C][C][=C][C][Ring1][=Branch1][=N][Ring1][S]\n",
      "------------------------------------------------------------\n",
      "Epoch: 18\n"
     ]
    },
    {
     "name": "stderr",
     "output_type": "stream",
     "text": [
      "100%|███████████████████████████████████████| 1416/1416 [15:52<00:00,  1.49it/s]\n"
     ]
    },
    {
     "name": "stdout",
     "output_type": "stream",
     "text": [
      "Predicted SELFIE:\n",
      "[C][C][O][C][=Branch1][C][=O][C][C][C][C][C][Branch1][Ring1][C][C][C][C][C][Branch1][C][O][C][=C][=C][Branch1][O][O][C][=C][Ring1][Ring1][O][C][=C][=C][Ring1][C][C][C][C][C][C][C][Ring2][Ring2][Ring2][Ring1][Ring1][Ring1] \n",
      "\n",
      "True SELFIE:\n",
      "[C][C][O][C][=Branch1][C][=O][C][C][C][C][Branch1][C][C][=N][C][=C][C][Branch1][P][C][=C][C][Branch1][Ring1][O][C][=C][C][Branch1][Ring1][O][C][=C][Ring1][#Branch2][=N][N][Ring1][#C][C][=Ring2][Ring1][Ring2][O]\n",
      "------------------------------------------------------------\n",
      "Predicted SELFIE:\n",
      "[C][O][C][=C][C][=C][Branch1][Ring1][O][C][C][=C][Ring1][C][C][C][=C][C][C][C][C][C][=C][=C][Ring1][#Branch1][C][C][C][C][C][C][C][C][C][C][C][C][C][C][C][C][C][C][Ring1] \n",
      "\n",
      "True SELFIE:\n",
      "[C][O][C][=C][C][=C][Branch2][Ring2][=Branch1][C@H1][C][C@@H1][Ring1][Ring1][C][O][C][=N][C][Branch1][C][C][=N][C][=C][Ring1][#Branch1][C][C][=C][N][Branch1][#Branch1][C][C][=Branch1][C][=O][O][C][=Branch1][C][=O][C][=Ring1][O][N][=C][Ring2][Ring1][=N]\n",
      "------------------------------------------------------------\n",
      "Predicted SELFIE:\n",
      "[O][=C][Branch1][C][N][C][=C][C][=C][Branch1][C][Cl][C][=C][Ring1][#Branch1][N][C][=Branch1][C][=O][C][C][=C][C][=C][Branch1][C][=C][C][=C][Ring1][#Branch1][Ring1][#Branch1][Ring1][Ring1] \n",
      "\n",
      "True SELFIE:\n",
      "[O][=C][Branch1][=N][C][C][=C][C][=C][Branch1][C][O][C][=C][Ring1][#Branch1][N][/N][=C][\\C][=Branch1][C][=O][N][C][=C][Branch1][C][Cl][C][=C][C][=C][Ring1][#Branch1][Ring1][O]\n",
      "------------------------------------------------------------\n",
      "Predicted SELFIE:\n",
      "[C][C][Branch1][C][C][C][C][C][C][C][C][C][C][Branch1][C][C][C][C][C][C][C][C][C][C][C][C][C][C][C][Ring1][Ring1][Ring1][Ring1][Ring1][Ring1] \n",
      "\n",
      "True SELFIE:\n",
      "[C][C][Branch1][C][C][C][O][C][=C][N][=C][C][Branch1][#Branch2][N][C][C][C][N][C][C][Ring1][#Branch1][=C][Ring1][=N]\n",
      "------------------------------------------------------------\n",
      "Predicted SELFIE:\n",
      "[O][=C][Branch1][C][O][C][C][C][C][C][C][C][C][C][C][C][=C][C][=C][=C][=C][=C][=C][=C][=C][=C][=C][=C][=C][=C][=C][Ring1][Ring1][Ring1][Ring1][Ring1][Ring1][Ring1] \n",
      "\n",
      "True SELFIE:\n",
      "[O][=C][Branch1][C][O][C][C][C][C][O][C][=C][C][Branch1][=Branch2][C][=C][C][=C][C][=C][Ring1][=Branch1][=C][C][=C][C][=C][C][Ring1][=Branch1][=N][Ring1][S]\n",
      "------------------------------------------------------------\n",
      "Epoch: 19\n"
     ]
    },
    {
     "name": "stderr",
     "output_type": "stream",
     "text": [
      "100%|███████████████████████████████████████| 1416/1416 [15:21<00:00,  1.54it/s]\n"
     ]
    },
    {
     "name": "stdout",
     "output_type": "stream",
     "text": [
      "Predicted SELFIE:\n",
      "[C][C][O][C][=Branch1][C][=O][C][C][C][=C][C][Branch1][Ring1][C][C][C][C][C][Branch1][C][O][C][=C][Branch1][Branch1][O][C][C][=C][Ring1][O][O][C][=C][Ring1][O][O][C][=C][Ring1][Ring1][Ring1][Ring2][Ring2][Ring1][Ring1] \n",
      "\n",
      "True SELFIE:\n",
      "[C][C][O][C][=Branch1][C][=O][C][C][C][C][Branch1][C][C][=N][C][=C][C][Branch1][P][C][=C][C][Branch1][Ring1][O][C][=C][C][Branch1][Ring1][O][C][=C][Ring1][#Branch2][=N][N][Ring1][#C][C][=Ring2][Ring1][Ring2][O]\n",
      "------------------------------------------------------------\n",
      "Predicted SELFIE:\n",
      "[C][O][C][=C][C][=C][Branch1][Ring1][O][C][C][=C][Ring1][#Branch1][C][O][C][C][C][C][C][C][C][=C][C][#Branch1][C][C][C][C][C][C][C][C][C][C][C][C][C][C][C][C][C][C][C][=C][=C][Ring1][Ring1] \n",
      "\n",
      "True SELFIE:\n",
      "[C][O][C][=C][C][=C][Branch2][Ring2][=Branch1][C@H1][C][C@@H1][Ring1][Ring1][C][O][C][=N][C][Branch1][C][C][=N][C][=C][Ring1][#Branch1][C][C][=C][N][Branch1][#Branch1][C][C][=Branch1][C][=O][O][C][=Branch1][C][=O][C][=Ring1][O][N][=C][Ring2][Ring1][=N]\n",
      "------------------------------------------------------------\n",
      "Predicted SELFIE:\n",
      "[O][=C][Branch1][C][C][C][=C][C][=C][Branch1][C][Cl][C][=C][Ring1][#Branch1][N][C][=Branch1][C][=O][C][C][=C][C][=C][C][C][=C][C][=C][C][#Branch1][Ring1][#Branch1][Ring1][Ring1][Ring1] \n",
      "\n",
      "True SELFIE:\n",
      "[O][=C][Branch1][=N][C][C][=C][C][=C][Branch1][C][O][C][=C][Ring1][#Branch1][N][/N][=C][\\C][=Branch1][C][=O][N][C][=C][Branch1][C][Cl][C][=C][C][=C][Ring1][#Branch1][Ring1][O]\n",
      "------------------------------------------------------------\n",
      "Predicted SELFIE:\n",
      "[C][C][Branch1][C][C][C][C][C][C][C][=C][C][=C][Ring1][Ring1][C][C][C][C][C][Branch1][Branch1][C][C][C][C][C][C][C][C][Ring1][C][=C][Ring1][Ring1][Ring1] \n",
      "\n",
      "True SELFIE:\n",
      "[C][C][Branch1][C][C][C][O][C][=C][N][=C][C][Branch1][#Branch2][N][C][C][C][N][C][C][Ring1][#Branch1][=C][Ring1][=N]\n",
      "------------------------------------------------------------\n",
      "Predicted SELFIE:\n",
      "[O][=C][Branch1][C][O][C][C][C][C][C][C][C][C][C][=Branch2][C][C][C][C][=C][C][=C][=Branch1][=C][=C][=C][=C][=C][=C][=C][=C][=C][Ring1][Ring1][Ring1][Ring1][Ring1][Ring1] \n",
      "\n",
      "True SELFIE:\n",
      "[O][=C][Branch1][C][O][C][C][C][C][O][C][=C][C][Branch1][=Branch2][C][=C][C][=C][C][=C][Ring1][=Branch1][=C][C][=C][C][=C][C][Ring1][=Branch1][=N][Ring1][S]\n",
      "------------------------------------------------------------\n",
      "Epoch: 20\n"
     ]
    },
    {
     "name": "stderr",
     "output_type": "stream",
     "text": [
      "100%|███████████████████████████████████████| 1416/1416 [15:44<00:00,  1.50it/s]\n"
     ]
    },
    {
     "name": "stdout",
     "output_type": "stream",
     "text": [
      "Predicted SELFIE:\n",
      "[C][C][O][C][=Branch1][C][=O][C][C][C][C][C][Branch1][Ring1][C][C][C][C][C][Branch1][C][O][C][=C][Branch1][Branch1][O][O][C][=C][Ring1][Ring1][O][C][=C][Branch1][Ring1][O][C][C][Branch1][Branch1][C][C][C][C][Ring2][Ring1][Ring1][Ring1][Ring1][Ring1][Ring1] \n",
      "\n",
      "True SELFIE:\n",
      "[C][C][O][C][=Branch1][C][=O][C][C][C][C][Branch1][C][C][=N][C][=C][C][Branch1][P][C][=C][C][Branch1][Ring1][O][C][=C][C][Branch1][Ring1][O][C][=C][Ring1][#Branch2][=N][N][Ring1][#C][C][=Ring2][Ring1][Ring2][O]\n",
      "------------------------------------------------------------\n",
      "Predicted SELFIE:\n",
      "[C][O][C][=C][C][=C][Branch1][Ring1][O][C][C][=C][Ring1][#Branch1][C][C][C][Branch1][C][C][C][C][=C][Ring1][#Branch1][C][C][C][C][C][C][C][C][C][C][C][C][C][C][C][C][C][C][C][C][Ring1][Ring1] \n",
      "\n",
      "True SELFIE:\n",
      "[C][O][C][=C][C][=C][Branch2][Ring2][=Branch1][C@H1][C][C@@H1][Ring1][Ring1][C][O][C][=N][C][Branch1][C][C][=N][C][=C][Ring1][#Branch1][C][C][=C][N][Branch1][#Branch1][C][C][=Branch1][C][=O][O][C][=Branch1][C][=O][C][=Ring1][O][N][=C][Ring2][Ring1][=N]\n",
      "------------------------------------------------------------\n",
      "Predicted SELFIE:\n",
      "[O][=C][Branch1][C][C][C][=C][C][=C][Branch1][C][Cl][C][=C][Ring1][#Branch1][N][C][=C][C][=Branch1][=Branch1][C][N][C][=C][=C][C][C][C][C][C][C][C][=C][=C][Ring1][#Branch1][Ring1][Ring1][Ring1][=C][=C][=C][=C][=C][=C][=C][=C][=C][=C][=C][=C][=C][=C][=C][=C][=C][=C][=C][=C][=C][=C][=C][=C][=C][=C][=C][=C] \n",
      "\n",
      "True SELFIE:\n",
      "[O][=C][Branch1][=N][C][C][=C][C][=C][Branch1][C][O][C][=C][Ring1][#Branch1][N][/N][=C][\\C][=Branch1][C][=O][N][C][=C][Branch1][C][Cl][C][=C][C][=C][Ring1][#Branch1][Ring1][O]\n",
      "------------------------------------------------------------\n",
      "Predicted SELFIE:\n",
      "[C][C][Branch1][C][C][C][N][C][C][C][C][C][Branch1][C][C][C][C][C][C][C][C][C][C][C][C][C][C][C][C][C][C][C][Ring1][C][C][C][C][C][C][C] \n",
      "\n",
      "True SELFIE:\n",
      "[C][C][Branch1][C][C][C][O][C][=C][N][=C][C][Branch1][#Branch2][N][C][C][C][N][C][C][Ring1][#Branch1][=C][Ring1][=N]\n",
      "------------------------------------------------------------\n",
      "Predicted SELFIE:\n",
      "[O][=C][Branch1][C][O][C][C][C][C][C][C][Branch1][=Branch2][C][C][C][C][C][C][=C][=Branch1][=C][=C][=C][=C][C][=C][=C][=C][=C][Ring1][Ring1][Ring1][Ring1][Ring1][Ring1][Ring1] \n",
      "\n",
      "True SELFIE:\n",
      "[O][=C][Branch1][C][O][C][C][C][C][O][C][=C][C][Branch1][=Branch2][C][=C][C][=C][C][=C][Ring1][=Branch1][=C][C][=C][C][=C][C][Ring1][=Branch1][=N][Ring1][S]\n",
      "------------------------------------------------------------\n"
     ]
    },
    {
     "data": {
      "text/html": [
       "Waiting for W&B process to finish... <strong style=\"color:green\">(success).</strong>"
      ],
      "text/plain": [
       "<IPython.core.display.HTML object>"
      ]
     },
     "metadata": {},
     "output_type": "display_data"
    },
    {
     "data": {
      "text/html": [
       "<style>\n",
       "    table.wandb td:nth-child(1) { padding: 0 10px; text-align: left ; width: auto;} td:nth-child(2) {text-align: left ; width: 100%}\n",
       "    .wandb-row { display: flex; flex-direction: row; flex-wrap: wrap; justify-content: flex-start; width: 100% }\n",
       "    .wandb-col { display: flex; flex-direction: column; flex-basis: 100%; flex: 1; padding: 10px; }\n",
       "    </style>\n",
       "<div class=\"wandb-row\"><div class=\"wandb-col\"><h3>Run history:</h3><br/><table class=\"wandb\"><tr><td>epoch</td><td>▁▁▂▂▂▃▃▄▄▄▅▅▅▆▆▇▇▇██</td></tr><tr><td>train_loss</td><td>█▅▄▄▃▃▃▃▂▂▂▂▂▂▂▁▁▁▁▁</td></tr><tr><td>val_loss</td><td>█▆▅▅▄▄▃▃▃▂▂▂▂▁▂▁▁▁▁▁</td></tr></table><br/></div><div class=\"wandb-col\"><h3>Run summary:</h3><br/><table class=\"wandb\"><tr><td>epoch</td><td>20</td></tr><tr><td>train_loss</td><td>0.60544</td></tr><tr><td>val_loss</td><td>1.02619</td></tr></table><br/></div></div>"
      ],
      "text/plain": [
       "<IPython.core.display.HTML object>"
      ]
     },
     "metadata": {},
     "output_type": "display_data"
    },
    {
     "data": {
      "text/html": [
       " View run <strong style=\"color:#cdcd00\">likely-frog-22</strong> at: <a href='https://wandb.ai/mldd23/encoded-token-concat/runs/wh6opmh7' target=\"_blank\">https://wandb.ai/mldd23/encoded-token-concat/runs/wh6opmh7</a><br/>Synced 6 W&B file(s), 0 media file(s), 2 artifact file(s) and 0 other file(s)"
      ],
      "text/plain": [
       "<IPython.core.display.HTML object>"
      ]
     },
     "metadata": {},
     "output_type": "display_data"
    },
    {
     "data": {
      "text/html": [
       "Find logs at: <code>./wandb/run-20230618_140348-wh6opmh7/logs</code>"
      ],
      "text/plain": [
       "<IPython.core.display.HTML object>"
      ]
     },
     "metadata": {},
     "output_type": "display_data"
    }
   ],
   "source": [
    "model, samples = train(model, train_loader, test_loader, vectorizer, device)"
   ]
  },
  {
   "cell_type": "code",
   "execution_count": 12,
   "id": "f8614d46",
   "metadata": {
    "id": "f8614d46"
   },
   "outputs": [],
   "source": [
    "# save model\n",
    "torch.save(model.state_dict(), './GRU_data/params/v2_w-teacher-0')"
   ]
  },
  {
   "cell_type": "code",
   "execution_count": null,
   "id": "ae18f08d",
   "metadata": {},
   "outputs": [],
   "source": []
  }
 ],
 "metadata": {
  "accelerator": "GPU",
  "colab": {
   "gpuType": "T4",
   "provenance": []
  },
  "kernelspec": {
   "display_name": "Python 3 (ipykernel)",
   "language": "python",
   "name": "python3"
  },
  "language_info": {
   "codemirror_mode": {
    "name": "ipython",
    "version": 3
   },
   "file_extension": ".py",
   "mimetype": "text/x-python",
   "name": "python",
   "nbconvert_exporter": "python",
   "pygments_lexer": "ipython3",
   "version": "3.9.16"
  }
 },
 "nbformat": 4,
 "nbformat_minor": 5
}
