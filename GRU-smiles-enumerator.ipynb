{
 "cells": [
  {
   "cell_type": "code",
   "execution_count": 10,
   "id": "6ef6f3f5",
   "metadata": {
    "id": "6ef6f3f5"
   },
   "outputs": [],
   "source": [
    "# import packages\n",
    "from gru import example_printer\n",
    "from gru.dataset import GRUDataset_v2\n",
    "from gru.gru_v3 import EncoderNet, DecoderNet, EncoderDecoder\n",
    "from gru.cce import CCE, ConsciousCrossEntropy\n",
    "import torch\n",
    "import wandb\n",
    "import pandas as pd\n",
    "from selfies_tools import SELFIESVectorizer, determine_alphabet\n",
    "import random"
   ]
  },
  {
   "cell_type": "code",
   "execution_count": 11,
   "id": "N3BCODbh2PhC",
   "metadata": {
    "id": "N3BCODbh2PhC"
   },
   "outputs": [
    {
     "name": "stdout",
     "output_type": "stream",
     "text": [
      "cpu\n"
     ]
    }
   ],
   "source": [
    "device = torch.device('cuda' if torch.cuda.is_available() else 'cpu')\n",
    "print(device)"
   ]
  },
  {
   "cell_type": "code",
   "execution_count": 12,
   "id": "a846df51",
   "metadata": {
    "id": "a846df51"
   },
   "outputs": [
    {
     "name": "stdout",
     "output_type": "stream",
     "text": [
      "\u001b[34m\u001b[1mwandb\u001b[0m: Appending key for api.wandb.ai to your netrc file: /home/hubert/.netrc\r\n"
     ]
    }
   ],
   "source": [
    "# weights and biases\n",
    "!wandb login 505ce3ad45fdf9309c3d8ec1d9764262ae6929c1"
   ]
  },
  {
   "cell_type": "markdown",
   "id": "f16dfcb1",
   "metadata": {
    "id": "f16dfcb1"
   },
   "source": [
    "# Data prep"
   ]
  },
  {
   "cell_type": "code",
   "execution_count": 4,
   "id": "6b30b9b4",
   "metadata": {},
   "outputs": [],
   "source": [
    "alphabet = pd.read_csv('./GRU_data/alphabet.txt', header=None).values.flatten()"
   ]
  },
  {
   "cell_type": "code",
   "execution_count": 6,
   "id": "1556b56c",
   "metadata": {},
   "outputs": [
    {
     "data": {
      "text/plain": [
       "index\n",
       "0                               Cc1ccc(C)n1-c1cccc(C(=O)O)c1\n",
       "1                 Cc1nc2c(c(C)c1CC(=O)NCc1ccco1)c(=O)[nH]n2C\n",
       "2                 O=C(c1csnn1)N1CCC[C@@]2(CCN(c3ncccn3)C2)C1\n",
       "3          CCC(C(=O)NCc1ccco1)n1nc(C)c2c(C)n(-c3ccc(C)cc3...\n",
       "4                       O=S(=O)(NCc1ccc2c(c1)OCO2)c1c[nH]cn1\n",
       "                                 ...                        \n",
       "1229321     CC1(C)CC[C@H](CNC(=O)Cn2ncc3ccccc3c2=O)c2ccccc21\n",
       "1229322    Cn1ccnc1C(=O)c1ccc(NC(=O)C2CCN(C(=O)C(C)(C)C)C...\n",
       "1229323               Cc1ccc(NC(=O)C(=O)N(C)Cc2ccccc2)c(C)c1\n",
       "1229324           Cc1cc(C(=O)Nc2ccc(OCC(N)=O)cc2)c(C)n1C1CC1\n",
       "1229325    O=C(CC(c1ccccc1)c1ccccc1)N1CCN(S(=O)(=O)c2cccc...\n",
       "Name: smiles, Length: 1222179, dtype: object"
      ]
     },
     "execution_count": 6,
     "metadata": {},
     "output_type": "execute_result"
    }
   ],
   "source": [
    "data_path = './GRU_data/combned_dataset.parquet'\n",
    "dataset = pd.read_parquet(data_path)\n",
    "dataset['smiles'"
   ]
  },
  {
   "cell_type": "code",
   "execution_count": 7,
   "id": "69823bd2",
   "metadata": {},
   "outputs": [
    {
     "name": "stdout",
     "output_type": "stream",
     "text": [
      "Dataset size: 1222179\n",
      "Train size: 1099961\n",
      "Test size: 122218\n"
     ]
    }
   ],
   "source": [
    "data_path = './GRU_data/combned_dataset.parquet'\n",
    "vectorizer = SELFIESVectorizer(alphabet, pad_to_len=128)\n",
    "\n",
    "dataset = GRUDataset_v2(data_path, vectorizer)\n",
    "train_size = int(0.9 * len(dataset))\n",
    "test_size = len(dataset) - train_size\n",
    "train_dataset, test_dataset = torch.utils.data.random_split(dataset, [train_size, test_size])\n",
    "\n",
    "print(\"Dataset size:\", len(dataset))\n",
    "print(\"Train size:\", len(train_dataset))\n",
    "print(\"Test size:\", len(test_dataset))"
   ]
  },
  {
   "cell_type": "code",
   "execution_count": 8,
   "id": "da4f014e",
   "metadata": {
    "id": "da4f014e"
   },
   "outputs": [],
   "source": [
    "from torch.utils.data import DataLoader\n",
    "batch_size = 256\n",
    "train_loader = DataLoader(train_dataset, shuffle=True, batch_size=batch_size, drop_last=True)\n",
    "test_loader = DataLoader(test_dataset, shuffle=False, batch_size=batch_size, drop_last=True)"
   ]
  },
  {
   "cell_type": "markdown",
   "id": "02f39daf",
   "metadata": {
    "id": "02f39daf"
   },
   "source": [
    "# NN architecture"
   ]
  },
  {
   "cell_type": "code",
   "execution_count": 8,
   "id": "f598e58d",
   "metadata": {},
   "outputs": [],
   "source": [
    "# Set hyperparameters\n",
    "encoding_size = 512\n",
    "hidden_size = 512\n",
    "num_layers = 1\n",
    "learn_rate = 0.0003\n",
    "dropout = 0 # dropout must be equal 0 if num_layers = 1\n",
    "teacher_ratio = 0.5\n",
    "\n",
    "# Init model\n",
    "model = EncoderDecoder(\n",
    "    fp_size=4860,\n",
    "    encoding_size=encoding_size,\n",
    "    hidden_size=hidden_size,\n",
    "    num_layers=num_layers,\n",
    "    dropout=dropout,\n",
    "    teacher_ratio = teacher_ratio).to(device)"
   ]
  },
  {
   "cell_type": "markdown",
   "id": "c3f697df",
   "metadata": {
    "id": "c3f697df"
   },
   "source": [
    "# Training loop"
   ]
  },
  {
   "cell_type": "code",
   "execution_count": 9,
   "id": "f7b00cca",
   "metadata": {
    "id": "f7b00cca"
   },
   "outputs": [],
   "source": [
    "import matplotlib.pyplot as plt\n",
    "from tqdm import tqdm\n",
    "\n",
    "def train(model, train_loader, test_loader, vectorizer, device):\n",
    "\n",
    "    EPOCHS = 20\n",
    "\n",
    "    # Define dataframe for training progess display\n",
    "    epochs_range = range(1,EPOCHS+1)\n",
    "    metrics = pd.DataFrame(columns=['epoch', 'train_loss', 'val_loss']);\n",
    "    metrics['epoch'] = epochs_range\n",
    "    \n",
    "    # Init example printer\n",
    "    printer = example_printer.ExamplePrinter(test_loader, num_examples=5)\n",
    "\n",
    "    # Define pyplot for plotting metrics\n",
    "    fig, ax = plt.subplots(ncols=2, figsize=(7, 3), layout=\"constrained\")\n",
    "    dh = display(fig, display_id=True)\n",
    "\n",
    "    # Define loss function and optimizer\n",
    "    optimizer = torch.optim.Adam(model.parameters(), lr=learn_rate)\n",
    "    criterion = CCE()\n",
    "\n",
    "    # wandb config and init\n",
    "    config = dict()\n",
    "    config['learning rate'] = learn_rate\n",
    "    config['encoding size'] = model.encoding_size\n",
    "    config['criterion'] = criterion\n",
    "    config['optimizer'] = optimizer\n",
    "    config['num epochs'] = EPOCHS\n",
    "    config['Trainable parameters'] = sum(p.numel() for p in model.parameters() if p.requires_grad)\n",
    "    config['hidden size'] = model.hidden_size\n",
    "    config['Number of layers'] = num_layers\n",
    "    config['Dropout'] = model.decoder.dropout\n",
    "    config['Batch size'] = batch_size\n",
    "    config['teacher_ratio'] = teacher_ratio\n",
    "    wandb.init(project=\"encoded-token-concat\", config=config)\n",
    "\n",
    "    print(\"Starting Training of GRU\")\n",
    "    print(f\"Device: {device}\")\n",
    "    \n",
    "    samples = []\n",
    "    \n",
    "    # Start training loop\n",
    "    for epoch in epochs_range:\n",
    "        print(f'Epoch: {epoch}')\n",
    "        epoch_loss = 0\n",
    "        model.train()\n",
    "        for batch_idx, (X,y) in enumerate(tqdm(train_loader)):\n",
    "            X = X.to(device)\n",
    "            y = y.to(device)\n",
    "            optimizer.zero_grad()\n",
    "            output = model(X, y, teacher_forcing=True).to(device)\n",
    "            loss = criterion(y, output)\n",
    "            loss.backward()\n",
    "            optimizer.step()\n",
    "            epoch_loss += loss.item()\n",
    "\n",
    "        # calculate loss and log to wandb\n",
    "        avg_loss = epoch_loss / len(train_loader)\n",
    "        val_loss = evaluate(model, test_loader)\n",
    "        metrics_dict = {'epoch': epoch,\n",
    "                        'train_loss': avg_loss,\n",
    "                        'val_loss': val_loss}\n",
    "        wandb.log(metrics_dict)\n",
    "\n",
    "        # Update metrics df\n",
    "        metrics.loc[len(metrics)] = metrics_dict\n",
    "\n",
    "        # Display metrics\n",
    "        ax[0].clear()\n",
    "        ax[0].plot(metrics.epoch, metrics.train_loss)\n",
    "        ax[0].set_title('training loss')\n",
    "        ax[0].set_xlabel('epoch')\n",
    "        ax[0].set_ylabel('CrossEntropy')\n",
    "        ax[1].clear()\n",
    "        ax[1].plot(metrics.epoch, metrics.val_loss)\n",
    "        ax[1].set_title('validation loss')\n",
    "        ax[1].set_xlabel('epoch')\n",
    "        ax[1].set_ylabel('CrossEntropy')\n",
    "        dh.update(fig)\n",
    "        \n",
    "        new_samples = printer(model)\n",
    "        samples.append(new_samples)\n",
    "        \n",
    "    plt.close()\n",
    "    wandb.finish()\n",
    "    return model, samples\n",
    "\n",
    "def evaluate(model, test_loader):\n",
    "    model.eval()\n",
    "    criterion = ConsciousCrossEntropy()\n",
    "    epoch_loss = 0\n",
    "    for batch_idx, (X, y) in enumerate(test_loader):\n",
    "        X = X.to(device)\n",
    "        y = y.to(device)\n",
    "        output = model(X, y, teacher_forcing=False).to(device)\n",
    "        loss = criterion(y, output)\n",
    "        epoch_loss += loss.item()\n",
    "    avg_loss = epoch_loss / len(test_loader)\n",
    "    return avg_loss"
   ]
  },
  {
   "cell_type": "markdown",
   "id": "c874519b",
   "metadata": {
    "id": "c874519b"
   },
   "source": [
    "# Train the model"
   ]
  },
  {
   "cell_type": "code",
   "execution_count": 10,
   "id": "0839d044",
   "metadata": {
    "id": "0839d044"
   },
   "outputs": [
    {
     "data": {
      "image/png": "[encoded data removed]",
      "text/plain": [
       "<Figure size 700x300 with 2 Axes>"
      ]
     },
     "metadata": {},
     "output_type": "display_data"
    },
    {
     "name": "stderr",
     "output_type": "stream",
     "text": [
      "\u001b[34m\u001b[1mwandb\u001b[0m: Currently logged in as: \u001b[33mhubertrybka1\u001b[0m (\u001b[33mmldd23\u001b[0m). Use \u001b[1m`wandb login --relogin`\u001b[0m to force relogin\n"
     ]
    },
    {
     "data": {
      "text/html": [
       "Tracking run with wandb version 0.15.4"
      ],
      "text/plain": [
       "<IPython.core.display.HTML object>"
      ]
     },
     "metadata": {},
     "output_type": "display_data"
    },
    {
     "data": {
      "text/html": [
       "Run data is saved locally in <code>/home/hubert/github/mldd23_project1/wandb/run-20230620_094743-bf3m1ibz</code>"
      ],
      "text/plain": [
       "<IPython.core.display.HTML object>"
      ]
     },
     "metadata": {},
     "output_type": "display_data"
    },
    {
     "data": {
      "text/html": [
       "Syncing run <strong><a href='https://wandb.ai/mldd23/encoded-token-concat/runs/bf3m1ibz' target=\"_blank\">jumping-wind-35</a></strong> to <a href='https://wandb.ai/mldd23/encoded-token-concat' target=\"_blank\">Weights & Biases</a> (<a href='https://wandb.me/run' target=\"_blank\">docs</a>)<br/>"
      ],
      "text/plain": [
       "<IPython.core.display.HTML object>"
      ]
     },
     "metadata": {},
     "output_type": "display_data"
    },
    {
     "data": {
      "text/html": [
       " View project at <a href='https://wandb.ai/mldd23/encoded-token-concat' target=\"_blank\">https://wandb.ai/mldd23/encoded-token-concat</a>"
      ],
      "text/plain": [
       "<IPython.core.display.HTML object>"
      ]
     },
     "metadata": {},
     "output_type": "display_data"
    },
    {
     "data": {
      "text/html": [
       " View run at <a href='https://wandb.ai/mldd23/encoded-token-concat/runs/bf3m1ibz' target=\"_blank\">https://wandb.ai/mldd23/encoded-token-concat/runs/bf3m1ibz</a>"
      ],
      "text/plain": [
       "<IPython.core.display.HTML object>"
      ]
     },
     "metadata": {},
     "output_type": "display_data"
    },
    {
     "name": "stdout",
     "output_type": "stream",
     "text": [
      "Starting Training of GRU\n",
      "Device: cuda\n",
      "Epoch: 1\n"
     ]
    },
    {
     "name": "stderr",
     "output_type": "stream",
     "text": [
      "100%|███████████████████████████████████████| 1354/1354 [31:11<00:00,  1.38s/it]\n"
     ]
    },
    {
     "name": "stdout",
     "output_type": "stream",
     "text": [
      "Predicted SELFIE:\n",
      "[C][C][C][C][=C][C][C][C][C][C][C][C][C][C][C][C][C][C][C][C][C][C][C][C][C][C][C][C][C][C][C][C][C][C][C][C][C][C][C][C][C][C][C][C][C][C][C][C][C][C][C][C][C][C][C][C][C][C][C][C][C][C][C][C][C][C][C][C][C][C][C][C][C][C][C][C][C][C][C][C][C][C][C][C][C] \n",
      "\n",
      "True SELFIE:\n",
      "[C][C][=C][C][=C][C][Branch2][Ring2][Branch1][C][O][C][C][C][Branch2][Ring1][#Branch1][N][C][=C][Branch1][=Branch2][C][Branch1][C][F][Branch1][C][F][F][C][=Branch1][C][=O][NH1][C][Ring1][O][=O][O][C][Ring1][P][C][O][=C][Ring2][Ring1][O]\n",
      "------------------------------------------------------------\n",
      "Predicted SELFIE:\n",
      "[C][C][=C][C][=C][C][C][C][C][C][C][C][C][C][C][C][C][C][C][C][C][C][C][C][C][C][C][C][C][C][C][C][C][C][C][C][C][C][C][C][C][Ring1][Ring1][Ring1][Ring1][Ring1][Ring1][Ring1][Ring1][Ring1][Ring1][Ring1][Ring1][Ring1][Ring1] \n",
      "\n",
      "True SELFIE:\n",
      "[C][C][=N][NH1][C][=N][C][=C][Branch2][Ring1][Ring2][N][C][=Branch1][C][=O][N][C][C][C][C][C][O][C][C][C][Ring1][=Branch2][Ring1][Branch1][C][=C][Ring2][Ring1][=Branch1][Ring2][Ring1][Ring1]\n",
      "------------------------------------------------------------\n",
      "Predicted SELFIE:\n",
      "[C][C][C][C][C][C][C][C][C][C][C][C][C][C][C][C][C][C][C][C][C][C][C][C][C][C][C][C][C][C][C][C][C][C][C][C][C][C][C][C][C][C][C][C][C][C][C][C][C][C][C][C][C][C][C][C][C][C][C][C][C][Ring1][Ring1][Ring1][Ring1][Ring1][Ring1][Ring1][Ring1][Ring1][Ring1][Ring1] \n",
      "\n",
      "True SELFIE:\n",
      "[C][C][C][S][C][=N][C][=C][C][=C][Ring1][=Branch1][C][=Branch1][C][=O][N][C][C][C][C][C][C][Ring1][=Branch1][C][C][Branch1][C][O][Branch1][Ring2][C][Ring1][#Branch1][C][Ring1][#Branch2]\n",
      "------------------------------------------------------------\n",
      "Predicted SELFIE:\n",
      "[C][C][C][C][C][C][C][C][C][C][C][C][C][C][C][C][C][C][C][C][C][C][C][C][C][C][C][C][C][C][C][C][C][C][C][C][C][C][C][C][C][C][C] \n",
      "\n",
      "True SELFIE:\n",
      "[C][C][O][C][=Branch1][C][=O][C][Branch1][C][C][S][C][=N][N][=C][N][Ring1][Branch1][C][C][N][Ring1][Branch1][C][=C][C][=C][Branch1][C][F][C][=C][Ring1][#Branch1]\n",
      "------------------------------------------------------------\n",
      "Predicted SELFIE:\n",
      "[C][C][=C][C][=C][Branch2][Ring1][C][C][C][C][C][C][C][C][C][C][C][C][C][C][C][C][C][C][C][C][C][C][C][C][C][C][C][C][Ring1][Ring1][Ring1][Ring1][Ring1][Ring1][Ring1][Ring1][Ring1][Ring1][Ring1][Ring1][Ring1][Ring1][Ring1][Ring1][Ring1][Ring1][Ring1][Ring1][Ring1][Ring1][Ring1][Ring1][Ring1][Ring1][Ring1][Ring1][Ring1][Ring1][Ring1] \n",
      "\n",
      "True SELFIE:\n",
      "[C][C][Branch1][C][C][Branch1][C][C][C][=C][C][=C][Branch2][Ring1][Branch1][C][=N][N][C][Branch1][C][S][=N][N][=C][Ring1][=Branch1][C][=C][C][=C][N][=C][Ring1][=Branch1][C][=C][Ring2][Ring1][Ring2]\n",
      "------------------------------------------------------------\n",
      "Epoch: 2\n"
     ]
    },
    {
     "name": "stderr",
     "output_type": "stream",
     "text": [
      "100%|███████████████████████████████████████| 1354/1354 [31:59<00:00,  1.42s/it]\n"
     ]
    },
    {
     "name": "stdout",
     "output_type": "stream",
     "text": [
      "Predicted SELFIE:\n",
      "[C][C][=C][C][C][C][C][C][C][C][C][C][C][C][C][C][C][C][C][C][C][C][C][C][C][C][C][C][C][C][C][C][C][C][C][C][C][C][C][C][C][C][C][C][C][C][C][C][C][C][C][C][C][C][C][C][Ring1][Ring1][Ring1][Ring1][Ring1][Ring1] \n",
      "\n",
      "True SELFIE:\n",
      "[C][C][=C][C][=C][C][Branch2][Ring2][Branch1][C][O][C][C][C][Branch2][Ring1][#Branch1][N][C][=C][Branch1][=Branch2][C][Branch1][C][F][Branch1][C][F][F][C][=Branch1][C][=O][NH1][C][Ring1][O][=O][O][C][Ring1][P][C][O][=C][Ring2][Ring1][O]\n",
      "------------------------------------------------------------\n",
      "Predicted SELFIE:\n",
      "[C][C][=C][C][C][C][C][C][C][C][C][C][C][C][C][C][C][C][C][C][C][C][C][C][C][C][C][C][C][C][C][C][C][C][C][C][Ring1][Ring1][Ring1][Ring1][Ring1][Ring1][Ring1][Ring1] \n",
      "\n",
      "True SELFIE:\n",
      "[C][C][=N][NH1][C][=N][C][=C][Branch2][Ring1][Ring2][N][C][=Branch1][C][=O][N][C][C][C][C][C][O][C][C][C][Ring1][=Branch2][Ring1][Branch1][C][=C][Ring2][Ring1][=Branch1][Ring2][Ring1][Ring1]\n",
      "------------------------------------------------------------\n",
      "Predicted SELFIE:\n",
      "[C][C][C][C][C][C][C][C][C][C][C][C][C][C][C][C][C][C][C][C][C][C][C][C][C][C][C][C][C][C][C][C][C][C][C][C][C][C][C][C][C][Ring1][Ring1][Ring1][Ring1][Ring1][Ring1][Ring1][Ring1][Ring1][Ring1][Ring1][Ring1][Ring1][Ring1][Ring1][Ring1][Ring1][Ring1][Ring1][Ring1][Ring1][Ring1][Ring1][Ring1][Ring1][Ring1][Ring1] \n",
      "\n",
      "True SELFIE:\n",
      "[C][C][C][S][C][=N][C][=C][C][=C][Ring1][=Branch1][C][=Branch1][C][=O][N][C][C][C][C][C][C][Ring1][=Branch1][C][C][Branch1][C][O][Branch1][Ring2][C][Ring1][#Branch1][C][Ring1][#Branch2]\n",
      "------------------------------------------------------------\n",
      "Predicted SELFIE:\n",
      "[C][C][O][C][=Branch1][C][=O][C][=C][C][=C][C][C][C][C][C][C][C][C][C][C][C][C][C][C][C][C][C][C][C][C][C][Ring1][Ring1][Ring1][Ring1][Ring1][Ring1][Ring1][Ring1][Ring1][Ring1][Ring1][Ring1] \n",
      "\n",
      "True SELFIE:\n",
      "[C][C][O][C][=Branch1][C][=O][C][Branch1][C][C][S][C][=N][N][=C][N][Ring1][Branch1][C][C][N][Ring1][Branch1][C][=C][C][=C][Branch1][C][F][C][=C][Ring1][#Branch1]\n",
      "------------------------------------------------------------\n",
      "Predicted SELFIE:\n",
      "[C][C][Branch1][C][C][C][C][C][C][C][C][C][C][C][C][C][C][C][C][C][C][C][C][C][C][=C][=C][=C][=C][=C][=C][=C][=C][=C][Ring1][Ring1][Ring1][Ring1][Ring1][Ring1][Ring1][Ring1][Ring1][Ring1][Ring1][Ring1][Ring1][Ring1] \n",
      "\n",
      "True SELFIE:\n",
      "[C][C][Branch1][C][C][Branch1][C][C][C][=C][C][=C][Branch2][Ring1][Branch1][C][=N][N][C][Branch1][C][S][=N][N][=C][Ring1][=Branch1][C][=C][C][=C][N][=C][Ring1][=Branch1][C][=C][Ring2][Ring1][Ring2]\n",
      "------------------------------------------------------------\n",
      "Epoch: 3\n"
     ]
    },
    {
     "name": "stderr",
     "output_type": "stream",
     "text": [
      "100%|███████████████████████████████████████| 1354/1354 [32:15<00:00,  1.43s/it]\n"
     ]
    },
    {
     "name": "stdout",
     "output_type": "stream",
     "text": [
      "Predicted SELFIE:\n",
      "[C][C][=C][C][=C][Branch2][Ring2][=Branch2][C][C][C][C][C][C][C][C][C][C][C][C][C][C][C][C][C][C][C][C][C][C][C][C][C][C][C][C][C][C][C][C][C][C][C][C][C][C][C][C][C][C][C][C][Ring1][Ring1][Ring1][Ring1][Ring1][Ring1][Ring1][Ring1][Ring1][Ring1] \n",
      "\n",
      "True SELFIE:\n",
      "[C][C][=C][C][=C][C][Branch2][Ring2][Branch1][C][O][C][C][C][Branch2][Ring1][#Branch1][N][C][=C][Branch1][=Branch2][C][Branch1][C][F][Branch1][C][F][F][C][=Branch1][C][=O][NH1][C][Ring1][O][=O][O][C][Ring1][P][C][O][=C][Ring2][Ring1][O]\n",
      "------------------------------------------------------------\n",
      "Predicted SELFIE:\n",
      "[C][C][C][C][C][C][Ring1][C][C][C][C][C][C][C][C][C][C][C][C][C][C][C][C][C][C][C][C][C][C][C][C][C][C][Ring1][Ring1][Ring1][Ring1][Ring1][Ring1][Ring1][Ring1][Ring1][Ring1][Ring1][Ring1][Ring1][Ring1] \n",
      "\n",
      "True SELFIE:\n",
      "[C][C][=N][NH1][C][=N][C][=C][Branch2][Ring1][Ring2][N][C][=Branch1][C][=O][N][C][C][C][C][C][O][C][C][C][Ring1][=Branch2][Ring1][Branch1][C][=C][Ring2][Ring1][=Branch1][Ring2][Ring1][Ring1]\n",
      "------------------------------------------------------------\n",
      "Predicted SELFIE:\n",
      "[C][C][C][C][C][C][C][C][C][C][C][C][C][C][C][C][C][C][C][C][C][C][C][C][C][C][C][C][C][C][C][C][C][C][C][C][C][C][C][C][C][C][C][C][C][C][C][C][C][C][C][C][C][C][C][C][C][C][C][C][C][C][C][C][C][C][C][C][C][C][C][C][C][C][C][C][C][C][C][C][C][C][C][C][C][C][C][C][C][C][C][C][C][C][C][C][C][C][C][C][C][C][C][C][C][C][C][C][C][C][C][C][C][C][C][C][C][C][C] \n",
      "\n",
      "True SELFIE:\n",
      "[C][C][C][S][C][=N][C][=C][C][=C][Ring1][=Branch1][C][=Branch1][C][=O][N][C][C][C][C][C][C][Ring1][=Branch1][C][C][Branch1][C][O][Branch1][Ring2][C][Ring1][#Branch1][C][Ring1][#Branch2]\n",
      "------------------------------------------------------------\n",
      "Predicted SELFIE:\n",
      "[C][C][O][C][=Branch1][C][=O][C][C][C][C][C][C][C][C][C][C][C][C][C][C][C][C][C][C][C][C][C][C][C][C][C][C][C][C][C][C][Ring1][Ring1][Ring1][Ring1][Ring1][Ring1][Ring1][Ring1][Ring1][Ring1][Ring1][Ring1][Ring1][Ring1][Ring1][Ring1][Ring1][Ring1][Ring1][Ring1][Ring1][Ring1][Ring1][Ring1][Ring1] \n",
      "\n",
      "True SELFIE:\n",
      "[C][C][O][C][=Branch1][C][=O][C][Branch1][C][C][S][C][=N][N][=C][N][Ring1][Branch1][C][C][N][Ring1][Branch1][C][=C][C][=C][Branch1][C][F][C][=C][Ring1][#Branch1]\n",
      "------------------------------------------------------------\n",
      "Predicted SELFIE:\n",
      "[C][C][Branch1][C][C][C][C][C][C][=C][C][C][C][C][C][C][C][C][C][C][C][C][C][C][C][C][C][C][=C][=C][=C][=C][=C][=C][=C][=C][=C][=C][=C][Ring1][Ring1][Ring1][Ring1][Ring1][Ring1][Ring1][Ring1][Ring1][Ring1][Ring1][Ring1] \n",
      "\n",
      "True SELFIE:\n",
      "[C][C][Branch1][C][C][Branch1][C][C][C][=C][C][=C][Branch2][Ring1][Branch1][C][=N][N][C][Branch1][C][S][=N][N][=C][Ring1][=Branch1][C][=C][C][=C][N][=C][Ring1][=Branch1][C][=C][Ring2][Ring1][Ring2]\n",
      "------------------------------------------------------------\n",
      "Epoch: 4\n"
     ]
    },
    {
     "name": "stderr",
     "output_type": "stream",
     "text": [
      "100%|███████████████████████████████████████| 1354/1354 [32:29<00:00,  1.44s/it]\n"
     ]
    },
    {
     "name": "stdout",
     "output_type": "stream",
     "text": [
      "Predicted SELFIE:\n",
      "[C][C][=C][C][=C][C][Branch2][Ring2][C][C][C][C][C][C][C][C][C][C][C][C][C][C][C][C][C][C][C][C][C][C][C][C][C][C][C][C][C][C][C][C][C][C][C][C][C][C][C][C][C][C][C][C][C][C][Ring1][Ring1][Ring1][Ring1][Ring1][Ring1] \n",
      "\n",
      "True SELFIE:\n",
      "[C][C][=C][C][=C][C][Branch2][Ring2][Branch1][C][O][C][C][C][Branch2][Ring1][#Branch1][N][C][=C][Branch1][=Branch2][C][Branch1][C][F][Branch1][C][F][F][C][=Branch1][C][=O][NH1][C][Ring1][O][=O][O][C][Ring1][P][C][O][=C][Ring2][Ring1][O]\n",
      "------------------------------------------------------------\n",
      "Predicted SELFIE:\n",
      "[C][C][=C][C][=C][C][Branch2][C][C][C][C][C][C][C][C][C][C][C][C][C][C][C][C][C][C][C][C][C][C][C][C][C][Ring1][Ring1][Ring1][Ring1][Ring1][Ring1][Ring1] \n",
      "\n",
      "True SELFIE:\n",
      "[C][C][=N][NH1][C][=N][C][=C][Branch2][Ring1][Ring2][N][C][=Branch1][C][=O][N][C][C][C][C][C][O][C][C][C][Ring1][=Branch2][Ring1][Branch1][C][=C][Ring2][Ring1][=Branch1][Ring2][Ring1][Ring1]\n",
      "------------------------------------------------------------\n",
      "Predicted SELFIE:\n",
      "[C][C][C][C][C][C][C][C][C][C][C][C][C][C][C][C][C][C][C][C][C][C][C][C][C][C][C][C][C][C][C][C][C][C][C][C][C][C][C][C][C][C][C][C][C][Ring1][Ring1][Ring1][Ring1][Ring1][Ring1][Ring1] \n",
      "\n",
      "True SELFIE:\n",
      "[C][C][C][S][C][=N][C][=C][C][=C][Ring1][=Branch1][C][=Branch1][C][=O][N][C][C][C][C][C][C][Ring1][=Branch1][C][C][Branch1][C][O][Branch1][Ring2][C][Ring1][#Branch1][C][Ring1][#Branch2]\n",
      "------------------------------------------------------------\n",
      "Predicted SELFIE:\n",
      "[C][C][O][C][=Branch1][C][=O][C][C][C][C][C][C][C][C][C][C][C][C][C][C][C][C][C][C][C][C][C][C][C][C][C][C][C][C][C][C][C][C][C][C][C][C][C][C][Ring1][Ring1][Ring1][Ring1][Ring1][Ring1] \n",
      "\n",
      "True SELFIE:\n",
      "[C][C][O][C][=Branch1][C][=O][C][Branch1][C][C][S][C][=N][N][=C][N][Ring1][Branch1][C][C][N][Ring1][Branch1][C][=C][C][=C][Branch1][C][F][C][=C][Ring1][#Branch1]\n",
      "------------------------------------------------------------\n",
      "Predicted SELFIE:\n",
      "[C][C][Branch1][C][C][Branch1][C][C][C][=C][C][=C][Branch2][Ring1][C][C][C][C][C][C][C][C][C][C][=C][=C][=C][=C][=C][=C][=C][=C][=C][=C][=C][=C][=C][=C][=C][=C][=C][=C][=C][Ring1][Ring1][Ring1] \n",
      "\n",
      "True SELFIE:\n",
      "[C][C][Branch1][C][C][Branch1][C][C][C][=C][C][=C][Branch2][Ring1][Branch1][C][=N][N][C][Branch1][C][S][=N][N][=C][Ring1][=Branch1][C][=C][C][=C][N][=C][Ring1][=Branch1][C][=C][Ring2][Ring1][Ring2]\n",
      "------------------------------------------------------------\n",
      "Epoch: 5\n"
     ]
    },
    {
     "name": "stderr",
     "output_type": "stream",
     "text": [
      "100%|███████████████████████████████████████| 1354/1354 [32:03<00:00,  1.42s/it]\n"
     ]
    },
    {
     "name": "stdout",
     "output_type": "stream",
     "text": [
      "Predicted SELFIE:\n",
      "[C][C][=C][C][=C][C][Branch2][Ring2][C][C][C][C][C][C][C][C][C][C][C][C][C][C][C][C][C][C][C][C][C][C][C][C][C][C][C][C][C][C][C][C][C][C][C][C][C][C][C][C][C][C][C][C][C][C][C][C][Ring1][Ring1] \n",
      "\n",
      "True SELFIE:\n",
      "[C][C][=C][C][=C][C][Branch2][Ring2][Branch1][C][O][C][C][C][Branch2][Ring1][#Branch1][N][C][=C][Branch1][=Branch2][C][Branch1][C][F][Branch1][C][F][F][C][=Branch1][C][=O][NH1][C][Ring1][O][=O][O][C][Ring1][P][C][O][=C][Ring2][Ring1][O]\n",
      "------------------------------------------------------------\n",
      "Predicted SELFIE:\n",
      "[C][C][C][C][C][C][C][C][C][C][C][C][C][C][C][C][C][C][C][C][C][C][C][C][C][C][C][C][C][C][C][C][C][C][C][C][Ring1][Ring1][Ring1][Ring1][Ring1][Ring1][Ring1][Ring1][Ring1] \n",
      "\n",
      "True SELFIE:\n",
      "[C][C][=N][NH1][C][=N][C][=C][Branch2][Ring1][Ring2][N][C][=Branch1][C][=O][N][C][C][C][C][C][O][C][C][C][Ring1][=Branch2][Ring1][Branch1][C][=C][Ring2][Ring1][=Branch1][Ring2][Ring1][Ring1]\n",
      "------------------------------------------------------------\n",
      "Predicted SELFIE:\n",
      "[C][C][C][N][C][C][C][=O][C][C][C][C][C][C][C][C][C][C][C][C][C][C][C][C][C][C][C][C][C][C][C][C][C][C][C][C][C][C][C][C][C][C][C][C][C][C][C][C][C][Ring1][Ring1][Ring1] \n",
      "\n",
      "True SELFIE:\n",
      "[C][C][C][S][C][=N][C][=C][C][=C][Ring1][=Branch1][C][=Branch1][C][=O][N][C][C][C][C][C][C][Ring1][=Branch1][C][C][Branch1][C][O][Branch1][Ring2][C][Ring1][#Branch1][C][Ring1][#Branch2]\n",
      "------------------------------------------------------------\n",
      "Predicted SELFIE:\n",
      "[C][C][O][C][=Branch1][C][=O][C][C][C][C][C][C][C][C][C][C][C][C][C][C][C][C][C][C][C][C][C][C][C][C][C][C][C][C][C][C][C][C][C][C][C][C][C][Ring1][Ring1][Ring1][Ring1][Ring1][Ring1][Ring1][Ring1][Ring1] \n",
      "\n",
      "True SELFIE:\n",
      "[C][C][O][C][=Branch1][C][=O][C][Branch1][C][C][S][C][=N][N][=C][N][Ring1][Branch1][C][C][N][Ring1][Branch1][C][=C][C][=C][Branch1][C][F][C][=C][Ring1][#Branch1]\n",
      "------------------------------------------------------------\n",
      "Predicted SELFIE:\n",
      "[C][C][Branch1][C][C][Branch1][C][C][C][=C][C][=C][Branch2][Ring1][Ring1][C][C][C][C][C][C][C][C][C][C][C][C][=C][=C][C][C][C][C][C][C][=C][C][C][=C][Ring1][Ring1][Ring1][Ring1][Ring1] \n",
      "\n",
      "True SELFIE:\n",
      "[C][C][Branch1][C][C][Branch1][C][C][C][=C][C][=C][Branch2][Ring1][Branch1][C][=N][N][C][Branch1][C][S][=N][N][=C][Ring1][=Branch1][C][=C][C][=C][N][=C][Ring1][=Branch1][C][=C][Ring2][Ring1][Ring2]\n",
      "------------------------------------------------------------\n",
      "Epoch: 6\n"
     ]
    },
    {
     "name": "stderr",
     "output_type": "stream",
     "text": [
      "100%|███████████████████████████████████████| 1354/1354 [32:18<00:00,  1.43s/it]\n"
     ]
    },
    {
     "name": "stdout",
     "output_type": "stream",
     "text": [
      "Predicted SELFIE:\n",
      "[C][C][=C][C][=C][C][Branch2][Ring2][P][C][C][C][C][C][C][C][C][C][C][C][C][C][C][C][C][C][C][C][C][C][C][C][C][C][C][C][C][C][C][C][C][C][C][C][C][C][C][C][C][C][C][C][Ring1][Ring1][Ring1] \n",
      "\n",
      "True SELFIE:\n",
      "[C][C][=C][C][=C][C][Branch2][Ring2][Branch1][C][O][C][C][C][Branch2][Ring1][#Branch1][N][C][=C][Branch1][=Branch2][C][Branch1][C][F][Branch1][C][F][F][C][=Branch1][C][=O][NH1][C][Ring1][O][=O][O][C][Ring1][P][C][O][=C][Ring2][Ring1][O]\n",
      "------------------------------------------------------------\n",
      "Predicted SELFIE:\n",
      "[C][C][=C][C][=C][C][Branch2][Ring1][Ring1][C][C][C][C][C][C][C][C][C][C][C][C][C][C][C][C][C][C][C][C][C][C][C][C][Ring1][Ring1][Ring1][Ring1][Ring1][Ring1][Ring1][Ring1] \n",
      "\n",
      "True SELFIE:\n",
      "[C][C][=N][NH1][C][=N][C][=C][Branch2][Ring1][Ring2][N][C][=Branch1][C][=O][N][C][C][C][C][C][O][C][C][C][Ring1][=Branch2][Ring1][Branch1][C][=C][Ring2][Ring1][=Branch1][Ring2][Ring1][Ring1]\n",
      "------------------------------------------------------------\n",
      "Predicted SELFIE:\n",
      "[C][C][C][N][C][C][C][C][C][C][C][C][C][C][C][C][C][C][C][C][C][C][C][C][C][C][C][C][C][C][C][C][C][C][C][C][C][C][C][C][C][C][C][C][C][C][C][Ring1][Ring1][Ring1][Ring1] \n",
      "\n",
      "True SELFIE:\n",
      "[C][C][C][S][C][=N][C][=C][C][=C][Ring1][=Branch1][C][=Branch1][C][=O][N][C][C][C][C][C][C][Ring1][=Branch1][C][C][Branch1][C][O][Branch1][Ring2][C][Ring1][#Branch1][C][Ring1][#Branch2]\n",
      "------------------------------------------------------------\n",
      "Predicted SELFIE:\n",
      "[C][C][O][C][=Branch1][C][=O][C][Branch1][C][C][C][C][C][C][C][C][C][C][C][C][C][C][C][C][C][C][C][C][C][C][C][C][C][C][C][C][C][Ring1] \n",
      "\n",
      "True SELFIE:\n",
      "[C][C][O][C][=Branch1][C][=O][C][Branch1][C][C][S][C][=N][N][=C][N][Ring1][Branch1][C][C][N][Ring1][Branch1][C][=C][C][=C][Branch1][C][F][C][=C][Ring1][#Branch1]\n",
      "------------------------------------------------------------\n",
      "Predicted SELFIE:\n",
      "[C][C][Branch1][C][C][Branch1][C][C][C][=C][C][=C][Branch2][Ring1][=Branch2][N][C][C][C][=C][Branch1][=Branch2][C][C][C][C][C][C][C][C][=C][C][C][C][C][=C][C][C][Ring1][Ring1][Ring1] \n",
      "\n",
      "True SELFIE:\n",
      "[C][C][Branch1][C][C][Branch1][C][C][C][=C][C][=C][Branch2][Ring1][Branch1][C][=N][N][C][Branch1][C][S][=N][N][=C][Ring1][=Branch1][C][=C][C][=C][N][=C][Ring1][=Branch1][C][=C][Ring2][Ring1][Ring2]\n",
      "------------------------------------------------------------\n",
      "Epoch: 7\n"
     ]
    },
    {
     "name": "stderr",
     "output_type": "stream",
     "text": [
      "100%|███████████████████████████████████████| 1354/1354 [33:29<00:00,  1.48s/it]\n"
     ]
    },
    {
     "name": "stdout",
     "output_type": "stream",
     "text": [
      "Predicted SELFIE:\n",
      "[C][C][=C][C][=C][C][Branch2][Ring2][C][C][C][C][C][C][C][C][C][C][C][C][C][C][C][C][C][C][C][C][C][C][C][C][C][C][C][C][C][C][C][C][C][C][C][C][C][C][C][C][C][C][C][C][Ring1][Ring1][Ring1][F][F][F][F][F][F][F][F][F][F][F][F][F][F][F][F][F][F][F][F][F][F][F][F][F][F][F][F][F][F][F][F][F][F][F][F][F][F][F][F][F][F][F][F][F][F][F][F][F][F][F][F][F][F][F] \n",
      "\n",
      "True SELFIE:\n",
      "[C][C][=C][C][=C][C][Branch2][Ring2][Branch1][C][O][C][C][C][Branch2][Ring1][#Branch1][N][C][=C][Branch1][=Branch2][C][Branch1][C][F][Branch1][C][F][F][C][=Branch1][C][=O][NH1][C][Ring1][O][=O][O][C][Ring1][P][C][O][=C][Ring2][Ring1][O]\n",
      "------------------------------------------------------------\n",
      "Predicted SELFIE:\n",
      "[C][C][=C][C][C][C][Branch2][Branch2][Ring1][C][C][C][C][C][C][C][C][C][C][C][C][C][C][C][C][C][C][C][C][C][C][Ring1][Ring1][Ring1][Ring1][Ring1][Ring1][Ring1][Ring1][Ring1] \n",
      "\n",
      "True SELFIE:\n",
      "[C][C][=N][NH1][C][=N][C][=C][Branch2][Ring1][Ring2][N][C][=Branch1][C][=O][N][C][C][C][C][C][O][C][C][C][Ring1][=Branch2][Ring1][Branch1][C][=C][Ring2][Ring1][=Branch1][Ring2][Ring1][Ring1]\n",
      "------------------------------------------------------------\n",
      "Predicted SELFIE:\n",
      "[C][C][C][N][C][C][C][C][C][C][C][C][C][C][C][C][C][C][C][C][C][C][C][C][C][C][C][C][C][C][C][C][C][C][C][C][C][C][C][C][C][C][C][C][C][C][C][C][Ring1][Ring1][Ring1][Ring1] \n",
      "\n",
      "True SELFIE:\n",
      "[C][C][C][S][C][=N][C][=C][C][=C][Ring1][=Branch1][C][=Branch1][C][=O][N][C][C][C][C][C][C][Ring1][=Branch1][C][C][Branch1][C][O][Branch1][Ring2][C][Ring1][#Branch1][C][Ring1][#Branch2]\n",
      "------------------------------------------------------------\n",
      "Predicted SELFIE:\n",
      "[C][C][O][C][=Branch1][C][=O][C][Branch1][Branch1][C][C][C][C][C][C][C][C][C][C][C][C][C][C][C][C][C][C][C][C][C][C][C][C][C][C][C][C][C][C][C][C] \n",
      "\n",
      "True SELFIE:\n",
      "[C][C][O][C][=Branch1][C][=O][C][Branch1][C][C][S][C][=N][N][=C][N][Ring1][Branch1][C][C][N][Ring1][Branch1][C][=C][C][=C][Branch1][C][F][C][=C][Ring1][#Branch1]\n",
      "------------------------------------------------------------\n",
      "Predicted SELFIE:\n",
      "[C][C][Branch1][C][C][Branch1][C][C][C][=C][C][=C][Branch2][Ring1][Ring2][C][C][C][C][C][C][C][C][C][C][C][C][=C][=C][=C][=Branch1][Ring1][Ring1][Ring1][C][C][C][Ring1][Ring1] \n",
      "\n",
      "True SELFIE:\n",
      "[C][C][Branch1][C][C][Branch1][C][C][C][=C][C][=C][Branch2][Ring1][Branch1][C][=N][N][C][Branch1][C][S][=N][N][=C][Ring1][=Branch1][C][=C][C][=C][N][=C][Ring1][=Branch1][C][=C][Ring2][Ring1][Ring2]\n",
      "------------------------------------------------------------\n",
      "Epoch: 8\n"
     ]
    },
    {
     "name": "stderr",
     "output_type": "stream",
     "text": [
      "100%|███████████████████████████████████████| 1354/1354 [35:10<00:00,  1.56s/it]\n"
     ]
    },
    {
     "name": "stdout",
     "output_type": "stream",
     "text": [
      "Predicted SELFIE:\n",
      "[C][C][=C][C][=C][C][Branch2][Ring2][C][C][=C][C][C][C][C][C][C][C][C][C][C][C][C][C][C][C][C][C][C][C][C][C][C][C][C][C][C][C][C][C][C][C][C][C][C][C][C][C][Ring1][Ring1][Ring1][F][F][F][F][F][F][F][F][F][F][F][F][F][F][F][F][F][F][F][F][F][F][F][F][F][F][F][F][F][F][F][F][F][F][F][F][F][F][F][F][F][F][F][F][F][F][F] \n",
      "\n",
      "True SELFIE:\n",
      "[C][C][=C][C][=C][C][Branch2][Ring2][Branch1][C][O][C][C][C][Branch2][Ring1][#Branch1][N][C][=C][Branch1][=Branch2][C][Branch1][C][F][Branch1][C][F][F][C][=Branch1][C][=O][NH1][C][Ring1][O][=O][O][C][Ring1][P][C][O][=C][Ring2][Ring1][O]\n",
      "------------------------------------------------------------\n",
      "Predicted SELFIE:\n",
      "[C][C][=C][C][C][=C][C][Branch2][Ring1][Ring1][C][C][C][C][C][C][C][C][C][C][C][C][C][C][C][C][C][C][C][C][C][C][C][C][Ring1][Ring1][Ring1][Ring1][Ring1][Ring1][Ring1] \n",
      "\n",
      "True SELFIE:\n",
      "[C][C][=N][NH1][C][=N][C][=C][Branch2][Ring1][Ring2][N][C][=Branch1][C][=O][N][C][C][C][C][C][O][C][C][C][Ring1][=Branch2][Ring1][Branch1][C][=C][Ring2][Ring1][=Branch1][Ring2][Ring1][Ring1]\n",
      "------------------------------------------------------------\n",
      "Predicted SELFIE:\n",
      "[C][C][C][N][C][C][C][C][C][C][C][C][C][C][C][C][C][C][C][C][C][C][C][C][C][C][C][C][C][C][C][C][C][C][C][C][C][C][C][C][C][C][C][C][C][C][Ring1][Ring1][Ring1] \n",
      "\n",
      "True SELFIE:\n",
      "[C][C][C][S][C][=N][C][=C][C][=C][Ring1][=Branch1][C][=Branch1][C][=O][N][C][C][C][C][C][C][Ring1][=Branch1][C][C][Branch1][C][O][Branch1][Ring2][C][Ring1][#Branch1][C][Ring1][#Branch2]\n",
      "------------------------------------------------------------\n",
      "Predicted SELFIE:\n",
      "[C][C][O][C][=Branch1][C][=O][C][Branch1][C][C][C][C][C][C][C][C][C][C][C][C][C][C][C][C][C][C][C][C][C][C][C][C][C][C][C][C][C] \n",
      "\n",
      "True SELFIE:\n",
      "[C][C][O][C][=Branch1][C][=O][C][Branch1][C][C][S][C][=N][N][=C][N][Ring1][Branch1][C][C][N][Ring1][Branch1][C][=C][C][=C][Branch1][C][F][C][=C][Ring1][#Branch1]\n",
      "------------------------------------------------------------\n",
      "Predicted SELFIE:\n",
      "[C][C][Branch1][C][C][Branch1][C][C][C][=C][C][=C][Branch2][Ring1][Ring2][C][C][C][C][C][C][C][C][C][=C][=C][=C][=C][=C][=C][Ring1][Ring1][Ring1][Ring1][Ring1][Ring1][Ring1][Ring1][Ring1] \n",
      "\n",
      "True SELFIE:\n",
      "[C][C][Branch1][C][C][Branch1][C][C][C][=C][C][=C][Branch2][Ring1][Branch1][C][=N][N][C][Branch1][C][S][=N][N][=C][Ring1][=Branch1][C][=C][C][=C][N][=C][Ring1][=Branch1][C][=C][Ring2][Ring1][Ring2]\n",
      "------------------------------------------------------------\n",
      "Epoch: 9\n"
     ]
    },
    {
     "name": "stderr",
     "output_type": "stream",
     "text": [
      "100%|███████████████████████████████████████| 1354/1354 [36:20<00:00,  1.61s/it]\n"
     ]
    },
    {
     "name": "stdout",
     "output_type": "stream",
     "text": [
      "Predicted SELFIE:\n",
      "[C][C][=C][C][=C][C][Branch2][Ring2][#C][C][=C][C][Branch1][C][C][C][C][C][C][O][C][C][C][C][C][C][C][C][C][C][C][C][C][C][C][C][C][C][C][C][C][C][C][C][C][Ring1][Ring1][Ring1][Ring1][Ring1][Ring1][Ring1][Ring2][Ring2][Branch1][Branch1][Branch1][F][F][F][F][F][F][F][F][F][F][F][F][F][F][F][F][F][F][F][F] \n",
      "\n",
      "True SELFIE:\n",
      "[C][C][=C][C][=C][C][Branch2][Ring2][Branch1][C][O][C][C][C][Branch2][Ring1][#Branch1][N][C][=C][Branch1][=Branch2][C][Branch1][C][F][Branch1][C][F][F][C][=Branch1][C][=O][NH1][C][Ring1][O][=O][O][C][Ring1][P][C][O][=C][Ring2][Ring1][O]\n",
      "------------------------------------------------------------\n",
      "Predicted SELFIE:\n",
      "[C][C][=C][C][=C][C][C][Branch2][Branch2][Ring1][C][C][C][C][C][=O][C][C][C][C][C][C][Branch1][C][C][C][C][C][C][Ring1][=Branch2][Ring1][C][C][C][Ring1][Ring1][Ring1][Ring1][Ring1][Ring1][Ring1] \n",
      "\n",
      "True SELFIE:\n",
      "[C][C][=N][NH1][C][=N][C][=C][Branch2][Ring1][Ring2][N][C][=Branch1][C][=O][N][C][C][C][C][C][O][C][C][C][Ring1][=Branch2][Ring1][Branch1][C][=C][Ring2][Ring1][=Branch1][Ring2][Ring1][Ring1]\n",
      "------------------------------------------------------------\n",
      "Predicted SELFIE:\n",
      "[C][C][C][S][C][C][C][C][C][Ring1][C][=Branch1][C][C][C][C][C][C][C][C][C][C][C][C][C][C][C][C][C][C][C][C][C][C][C][C][C][C][C][Ring1][Ring1][Ring1][Ring1][Ring1][Ring1][Ring1][Ring1][Ring1] \n",
      "\n",
      "True SELFIE:\n",
      "[C][C][C][S][C][=N][C][=C][C][=C][Ring1][=Branch1][C][=Branch1][C][=O][N][C][C][C][C][C][C][Ring1][=Branch1][C][C][Branch1][C][O][Branch1][Ring2][C][Ring1][#Branch1][C][Ring1][#Branch2]\n",
      "------------------------------------------------------------\n",
      "Predicted SELFIE:\n",
      "[C][C][O][C][=Branch1][C][=O][C][Branch1][C][C][C][C][C][C][C][C][C][C][C][C][C][C][C][C][C][C][C][C][C][C][C][C][C][C][Ring1][Ring1] \n",
      "\n",
      "True SELFIE:\n",
      "[C][C][O][C][=Branch1][C][=O][C][Branch1][C][C][S][C][=N][N][=C][N][Ring1][Branch1][C][C][N][Ring1][Branch1][C][=C][C][=C][Branch1][C][F][C][=C][Ring1][#Branch1]\n",
      "------------------------------------------------------------\n",
      "Predicted SELFIE:\n",
      "[C][C][Branch1][C][C][Branch1][C][C][C][=C][C][=C][Branch2][Ring1][C][C][C][=N][=N][=C][Branch1][Branch1][C][C][C][C][=C][=C][Ring1][Ring1][=Branch1][Ring1][Ring1][Ring1][Ring1][Ring1] \n",
      "\n",
      "True SELFIE:\n",
      "[C][C][Branch1][C][C][Branch1][C][C][C][=C][C][=C][Branch2][Ring1][Branch1][C][=N][N][C][Branch1][C][S][=N][N][=C][Ring1][=Branch1][C][=C][C][=C][N][=C][Ring1][=Branch1][C][=C][Ring2][Ring1][Ring2]\n",
      "------------------------------------------------------------\n",
      "Epoch: 10\n"
     ]
    },
    {
     "name": "stderr",
     "output_type": "stream",
     "text": [
      "100%|███████████████████████████████████████| 1354/1354 [33:52<00:00,  1.50s/it]\n"
     ]
    },
    {
     "name": "stdout",
     "output_type": "stream",
     "text": [
      "Predicted SELFIE:\n",
      "[C][C][O][C][=C][C][Branch2][Ring2][C][C][C][C][C][C][C][C][C][C][C][C][C][C][C][C][C][C][C][C][C][C][C][C][C][C][C][C][C][C][C][C][C][C][C][C][C][Ring1][Ring1][Ring1][Ring1][Ring1][Ring1][Ring1][Branch1][Branch1][Branch1][Branch1][Branch1][Branch1][Branch1][Branch1][Branch1][Branch1][Branch1][Branch1][Branch1][Branch1][Branch1][Branch1][Branch1][Branch1][Branch1][Branch1][Branch1][Branch1][Branch1][Branch1][Branch1][Branch1][Branch1][Branch1][Branch1][Branch1] \n",
      "\n",
      "True SELFIE:\n",
      "[C][C][=C][C][=C][C][Branch2][Ring2][Branch1][C][O][C][C][C][Branch2][Ring1][#Branch1][N][C][=C][Branch1][=Branch2][C][Branch1][C][F][Branch1][C][F][F][C][=Branch1][C][=O][NH1][C][Ring1][O][=O][O][C][Ring1][P][C][O][=C][Ring2][Ring1][O]\n",
      "------------------------------------------------------------\n",
      "Predicted SELFIE:\n",
      "[C][C][C][C][C][=C][C][=C][Branch2][Ring1][Ring1][N][C][=Branch1][C][=O][N][C][C][C][C][C][C][C][C][C][C][C][C][C][C][C][Ring1][Ring1][Ring1][Ring1][Ring1][Ring1][Ring1][Ring1][Ring1] \n",
      "\n",
      "True SELFIE:\n",
      "[C][C][=N][NH1][C][=N][C][=C][Branch2][Ring1][Ring2][N][C][=Branch1][C][=O][N][C][C][C][C][C][O][C][C][C][Ring1][=Branch2][Ring1][Branch1][C][=C][Ring2][Ring1][=Branch1][Ring2][Ring1][Ring1]\n",
      "------------------------------------------------------------\n",
      "Predicted SELFIE:\n",
      "[C][C][C][S][C][C][C][C][C][C][C][=Branch1][C][C][C][C][C][C][C][C][C][C][C][C][C][C][C][C][C][C][C][C][C][C][C][C][C][C][C][Ring1][Ring1][Ring1][Ring1][Ring1][Ring1][Ring1] \n",
      "\n",
      "True SELFIE:\n",
      "[C][C][C][S][C][=N][C][=C][C][=C][Ring1][=Branch1][C][=Branch1][C][=O][N][C][C][C][C][C][C][Ring1][=Branch1][C][C][Branch1][C][O][Branch1][Ring2][C][Ring1][#Branch1][C][Ring1][#Branch2]\n",
      "------------------------------------------------------------\n",
      "Predicted SELFIE:\n",
      "[C][C][O][C][=Branch1][C][=O][C][Branch1][C][C][C][C][C][C][C][C][C][C][C][C][C][C][C][C][C][C][C][C][C][C][C][C][C][C][C][C][C][Ring1] \n",
      "\n",
      "True SELFIE:\n",
      "[C][C][O][C][=Branch1][C][=O][C][Branch1][C][C][S][C][=N][N][=C][N][Ring1][Branch1][C][C][N][Ring1][Branch1][C][=C][C][=C][Branch1][C][F][C][=C][Ring1][#Branch1]\n",
      "------------------------------------------------------------\n",
      "Predicted SELFIE:\n",
      "[C][C][Branch1][C][C][Branch1][C][C][C][=C][C][=C][Branch2][Ring1][Ring2][C][=N][C][=N][C][=C][Branch1][C][C][C][C][=C][C][C][C][C][C][Ring1][Ring1][Ring1][=C][=C][Ring1][Ring1][Ring1][Ring1] \n",
      "\n",
      "True SELFIE:\n",
      "[C][C][Branch1][C][C][Branch1][C][C][C][=C][C][=C][Branch2][Ring1][Branch1][C][=N][N][C][Branch1][C][S][=N][N][=C][Ring1][=Branch1][C][=C][C][=C][N][=C][Ring1][=Branch1][C][=C][Ring2][Ring1][Ring2]\n",
      "------------------------------------------------------------\n",
      "Epoch: 11\n"
     ]
    },
    {
     "name": "stderr",
     "output_type": "stream",
     "text": [
      "100%|███████████████████████████████████████| 1354/1354 [33:15<00:00,  1.47s/it]\n"
     ]
    },
    {
     "name": "stdout",
     "output_type": "stream",
     "text": [
      "Predicted SELFIE:\n",
      "[C][C][=C][C][=C][C][Branch2][Ring2][#Branch2][C][=C][C][C][C][C][C][C][C][C][C][C][C][C][C][C][C][C][C][C][C][C][C][C][C][C][C][C][C][C][C][C][C][C][C][C][Ring2][Ring1][Ring2][Ring2][Ring2][Ring1][Ring1][Ring2][Ring1][Branch1][F][F][F][F][F][F][F][F][F][F][F][F][F][F][F][F][F][F][F][F][F][F][F][F][F][F][F][F][F][F][F][F][F][F][F][F][F][F][F][F][F][F][F][F][F][F][F][F][F][F][F][F][F] \n",
      "\n",
      "True SELFIE:\n",
      "[C][C][=C][C][=C][C][Branch2][Ring2][Branch1][C][O][C][C][C][Branch2][Ring1][#Branch1][N][C][=C][Branch1][=Branch2][C][Branch1][C][F][Branch1][C][F][F][C][=Branch1][C][=O][NH1][C][Ring1][O][=O][O][C][Ring1][P][C][O][=C][Ring2][Ring1][O]\n",
      "------------------------------------------------------------\n",
      "Predicted SELFIE:\n",
      "[C][C][=C][C][C][=C][C][=C][Branch2][Ring1][Ring1][N][C][=Branch1][C][=O][N][C][C][C][C][C][C][C][C][C][C][C][=Branch1][C][Ring1][=Branch2][C][C][C][Ring1][Ring1][Ring1][Ring1][Ring1][Ring1][Ring1] \n",
      "\n",
      "True SELFIE:\n",
      "[C][C][=N][NH1][C][=N][C][=C][Branch2][Ring1][Ring2][N][C][=Branch1][C][=O][N][C][C][C][C][C][O][C][C][C][Ring1][=Branch2][Ring1][Branch1][C][=C][Ring2][Ring1][=Branch1][Ring2][Ring1][Ring1]\n",
      "------------------------------------------------------------\n",
      "Predicted SELFIE:\n",
      "[C][C][C][S][C][C][C][=C][C][=C][Ring1][=Branch1][C][=Branch1][C][C][C][C][C][C][C][C][C][C][C][C][C][C][C][C][C][C][C][C][C][C][C][C][C][C][C][C][Ring1][Ring1][Ring1][Ring1][Ring1][Ring1][Ring1] \n",
      "\n",
      "True SELFIE:\n",
      "[C][C][C][S][C][=N][C][=C][C][=C][Ring1][=Branch1][C][=Branch1][C][=O][N][C][C][C][C][C][C][Ring1][=Branch1][C][C][Branch1][C][O][Branch1][Ring2][C][Ring1][#Branch1][C][Ring1][#Branch2]\n",
      "------------------------------------------------------------\n",
      "Predicted SELFIE:\n",
      "[C][C][O][C][=Branch1][C][=O][C][Branch1][C][C][C][C][C][C][C][C][C][C][C][C][C][C][C][C][C][C][C][C][C][C][C][C][C][C][C][C] \n",
      "\n",
      "True SELFIE:\n",
      "[C][C][O][C][=Branch1][C][=O][C][Branch1][C][C][S][C][=N][N][=C][N][Ring1][Branch1][C][C][N][Ring1][Branch1][C][=C][C][=C][Branch1][C][F][C][=C][Ring1][#Branch1]\n",
      "------------------------------------------------------------\n",
      "Predicted SELFIE:\n",
      "[C][C][Branch1][C][C][Branch1][C][C][C][=C][C][=C][C][Ring1][C][C][C][C][C][C][C][=Branch2][=Branch2][C][C][C][C][C][C][C][C][C][C][Ring1][Ring1][Ring1][=C][Ring1][Ring1][Ring1] \n",
      "\n",
      "True SELFIE:\n",
      "[C][C][Branch1][C][C][Branch1][C][C][C][=C][C][=C][Branch2][Ring1][Branch1][C][=N][N][C][Branch1][C][S][=N][N][=C][Ring1][=Branch1][C][=C][C][=C][N][=C][Ring1][=Branch1][C][=C][Ring2][Ring1][Ring2]\n",
      "------------------------------------------------------------\n",
      "Epoch: 12\n"
     ]
    },
    {
     "name": "stderr",
     "output_type": "stream",
     "text": [
      "100%|███████████████████████████████████████| 1354/1354 [32:51<00:00,  1.46s/it]\n"
     ]
    },
    {
     "name": "stdout",
     "output_type": "stream",
     "text": [
      "Predicted SELFIE:\n",
      "[C][C][=C][C][=C][C][Branch2][Ring2][#Branch1][C][=C][C][C][C][C][C][C][C][C][C][C][C][C][C][C][C][C][C][C][C][C][C][C][C][C][C][C][C][C][C][C][C][C][C][C][C][C][C][Ring1][Ring1][Ring1][Ring2][Ring2][Ring1][Ring1] \n",
      "\n",
      "True SELFIE:\n",
      "[C][C][=C][C][=C][C][Branch2][Ring2][Branch1][C][O][C][C][C][Branch2][Ring1][#Branch1][N][C][=C][Branch1][=Branch2][C][Branch1][C][F][Branch1][C][F][F][C][=Branch1][C][=O][NH1][C][Ring1][O][=O][O][C][Ring1][P][C][O][=C][Ring2][Ring1][O]\n",
      "------------------------------------------------------------\n",
      "Predicted SELFIE:\n",
      "[C][C][=C][C][C][=C][C][=C][Branch2][Ring1][#Branch1][N][C][=Branch1][C][=O][N][C][C][C][C][C][C][C][C][C][C][=Branch1][C][C][Ring1][C][C][C][C][C][=C][Ring1][Ring1][Ring1][Ring1][Ring1] \n",
      "\n",
      "True SELFIE:\n",
      "[C][C][=N][NH1][C][=N][C][=C][Branch2][Ring1][Ring2][N][C][=Branch1][C][=O][N][C][C][C][C][C][O][C][C][C][Ring1][=Branch2][Ring1][Branch1][C][=C][Ring2][Ring1][=Branch1][Ring2][Ring1][Ring1]\n",
      "------------------------------------------------------------\n",
      "Predicted SELFIE:\n",
      "[C][C][N][S][=Branch1][C][=O][=Branch1][C][C][C][C][C][Ring1][C][C][C][C][C][C][C][C][C][C][C][C][C][C][C][C][C][C][C][C][C][C][C][C][C][C][C][C][Ring1][Ring1][Ring1][Ring1][Ring1][Ring1][Ring1] \n",
      "\n",
      "True SELFIE:\n",
      "[C][C][C][S][C][=N][C][=C][C][=C][Ring1][=Branch1][C][=Branch1][C][=O][N][C][C][C][C][C][C][Ring1][=Branch1][C][C][Branch1][C][O][Branch1][Ring2][C][Ring1][#Branch1][C][Ring1][#Branch2]\n",
      "------------------------------------------------------------\n",
      "Predicted SELFIE:\n",
      "[C][C][O][C][=Branch1][C][=O][C][Branch1][C][C][C][C][C][C][C][C][C][C][C][C][C][C][C][C][C][C][C][C][C][C][C][C][C][C][C][C][C][Ring1] \n",
      "\n",
      "True SELFIE:\n",
      "[C][C][O][C][=Branch1][C][=O][C][Branch1][C][C][S][C][=N][N][=C][N][Ring1][Branch1][C][C][N][Ring1][Branch1][C][=C][C][=C][Branch1][C][F][C][=C][Ring1][#Branch1]\n",
      "------------------------------------------------------------\n",
      "Predicted SELFIE:\n",
      "[C][C][Branch1][C][C][Branch1][C][C][C][=C][C][=C][Branch2][Ring1][C][C][C][C][=N][C][C][C][C][C][=C][C][=C][=C][=C][=C][=C][Ring1][Ring1][Ring1][Ring1][Ring1][Ring1][Ring1][Ring1] \n",
      "\n",
      "True SELFIE:\n",
      "[C][C][Branch1][C][C][Branch1][C][C][C][=C][C][=C][Branch2][Ring1][Branch1][C][=N][N][C][Branch1][C][S][=N][N][=C][Ring1][=Branch1][C][=C][C][=C][N][=C][Ring1][=Branch1][C][=C][Ring2][Ring1][Ring2]\n",
      "------------------------------------------------------------\n",
      "Epoch: 13\n"
     ]
    },
    {
     "name": "stderr",
     "output_type": "stream",
     "text": [
      "100%|███████████████████████████████████████| 1354/1354 [33:12<00:00,  1.47s/it]\n"
     ]
    },
    {
     "name": "stdout",
     "output_type": "stream",
     "text": [
      "Predicted SELFIE:\n",
      "[C][C][=C][C][=C][C][Branch2][Ring2][P][C][C][C][C][C][C][C][C][C][C][C][C][C][C][C][C][C][C][C][C][C][C][C][C][C][C][C][C][C][C][C][C][C][F][F][F][Ring2][Ring2][Ring2][Ring2][Ring2][Ring2][Ring2] \n",
      "\n",
      "True SELFIE:\n",
      "[C][C][=C][C][=C][C][Branch2][Ring2][Branch1][C][O][C][C][C][Branch2][Ring1][#Branch1][N][C][=C][Branch1][=Branch2][C][Branch1][C][F][Branch1][C][F][F][C][=Branch1][C][=O][NH1][C][Ring1][O][=O][O][C][Ring1][P][C][O][=C][Ring2][Ring1][O]\n",
      "------------------------------------------------------------\n",
      "Predicted SELFIE:\n",
      "[C][C][=C][C][=C][C][C][=C][Branch2][Ring1][Ring1][N][C][=Branch1][C][=O][N][C][C][C][C][C][C][C][C][C][C][C][=Branch1][C][Ring1][=Branch2][C][C][=C][Ring2][Ring1][Ring2][Ring1][Ring1] \n",
      "\n",
      "True SELFIE:\n",
      "[C][C][=N][NH1][C][=N][C][=C][Branch2][Ring1][Ring2][N][C][=Branch1][C][=O][N][C][C][C][C][C][O][C][C][C][Ring1][=Branch2][Ring1][Branch1][C][=C][Ring2][Ring1][=Branch1][Ring2][Ring1][Ring1]\n",
      "------------------------------------------------------------\n",
      "Predicted SELFIE:\n",
      "[C][C][C][S][C][=C][C][=C][C][=C][Ring1][=Branch1][C][C][C][C][C][C][C][C][C][C][C][C][C][C][C][C][C][C][C][C][C][C][C][C][C][C][C][C][C][Ring1][Ring1][Ring1][Ring1][Ring1][Ring1][Ring1] \n",
      "\n",
      "True SELFIE:\n",
      "[C][C][C][S][C][=N][C][=C][C][=C][Ring1][=Branch1][C][=Branch1][C][=O][N][C][C][C][C][C][C][Ring1][=Branch1][C][C][Branch1][C][O][Branch1][Ring2][C][Ring1][#Branch1][C][Ring1][#Branch2]\n",
      "------------------------------------------------------------\n",
      "Predicted SELFIE:\n",
      "[C][C][O][C][=Branch1][C][=O][C][Branch1][C][C][C][C][=N][C][C][C][C][C][C][C][C][C][C][C][C][C][C][C][C][C][C][=C][=C][C][C][C][=C] \n",
      "\n",
      "True SELFIE:\n",
      "[C][C][O][C][=Branch1][C][=O][C][Branch1][C][C][S][C][=N][N][=C][N][Ring1][Branch1][C][C][N][Ring1][Branch1][C][=C][C][=C][Branch1][C][F][C][=C][Ring1][#Branch1]\n",
      "------------------------------------------------------------\n",
      "Predicted SELFIE:\n",
      "[C][C][Branch1][C][C][Branch1][C][C][C][=C][C][=C][Branch2][Ring1][=Branch2][C][C][N][C][=N][=C][Branch1][Branch1][=Branch2][C][=C][=C][=C][=C][=C][=C][Ring1][Ring1][Ring1][Ring1][C][=C][=C][Ring1][Ring1][=C][=C][=C][=C][=C][=C][=C][=C][=C][=C][=C][=C][=C][=C][=C][=C][=C][=C][=C][=C][=C][=C][=C] \n",
      "\n",
      "True SELFIE:\n",
      "[C][C][Branch1][C][C][Branch1][C][C][C][=C][C][=C][Branch2][Ring1][Branch1][C][=N][N][C][Branch1][C][S][=N][N][=C][Ring1][=Branch1][C][=C][C][=C][N][=C][Ring1][=Branch1][C][=C][Ring2][Ring1][Ring2]\n",
      "------------------------------------------------------------\n",
      "Epoch: 14\n"
     ]
    },
    {
     "name": "stderr",
     "output_type": "stream",
     "text": [
      "100%|███████████████████████████████████████| 1354/1354 [33:33<00:00,  1.49s/it]\n"
     ]
    },
    {
     "name": "stdout",
     "output_type": "stream",
     "text": [
      "Predicted SELFIE:\n",
      "[C][C][=C][C][=C][C][Branch2][Ring2][P][C][C][C][C][C][C][C][C][C][C][C][C][C][C][C][C][C][C][C][C][C][C][C][C][C][C][C][C][C][C][C][C][C][C][C][C][Ring1][Ring2][Ring2][Ring2][Ring2][Ring1][C][C][C][C][C][C][C][C][C][C][C][C][C][C][C][C][C][C][C][C][C][C][C][C][C] \n",
      "\n",
      "True SELFIE:\n",
      "[C][C][=C][C][=C][C][Branch2][Ring2][Branch1][C][O][C][C][C][Branch2][Ring1][#Branch1][N][C][=C][Branch1][=Branch2][C][Branch1][C][F][Branch1][C][F][F][C][=Branch1][C][=O][NH1][C][Ring1][O][=O][O][C][Ring1][P][C][O][=C][Ring2][Ring1][O]\n",
      "------------------------------------------------------------\n",
      "Predicted SELFIE:\n",
      "[C][C][C][NH1][C][=C][C][=C][Branch2][Ring1][Ring1][N][C][=Branch1][C][=O][N][C][C][C][C][C][C][C][C][C][C][C][C][C][Ring1][C][C][C][C][C][Ring1][Ring1][Ring1][Ring1][Ring1] \n",
      "\n",
      "True SELFIE:\n",
      "[C][C][=N][NH1][C][=N][C][=C][Branch2][Ring1][Ring2][N][C][=Branch1][C][=O][N][C][C][C][C][C][O][C][C][C][Ring1][=Branch2][Ring1][Branch1][C][=C][Ring2][Ring1][=Branch1][Ring2][Ring1][Ring1]\n",
      "------------------------------------------------------------\n",
      "Predicted SELFIE:\n",
      "[C][C][C][O][C][C][C][=C][C][=C][Ring1][=Branch1][C][=Branch1][C][C][N][C][C][C][C][C][C][C][C][C][C][C][C][C][C][C][C][C][C][C][C][C][C][Ring1][Ring1][Ring1][Ring1][Ring1] \n",
      "\n",
      "True SELFIE:\n",
      "[C][C][C][S][C][=N][C][=C][C][=C][Ring1][=Branch1][C][=Branch1][C][=O][N][C][C][C][C][C][C][Ring1][=Branch1][C][C][Branch1][C][O][Branch1][Ring2][C][Ring1][#Branch1][C][Ring1][#Branch2]\n",
      "------------------------------------------------------------\n",
      "Predicted SELFIE:\n",
      "[C][C][O][C][=Branch1][C][=O][C][Branch1][C][C][N][C][C][C][C][C][C][C][C][C][C][C][C][C][C][C][C][C][C][C][C][C][C][C][C][C][C][C][Ring1] \n",
      "\n",
      "True SELFIE:\n",
      "[C][C][O][C][=Branch1][C][=O][C][Branch1][C][C][S][C][=N][N][=C][N][Ring1][Branch1][C][C][N][Ring1][Branch1][C][=C][C][=C][Branch1][C][F][C][=C][Ring1][#Branch1]\n",
      "------------------------------------------------------------\n",
      "Predicted SELFIE:\n",
      "[C][C][Branch1][C][C][Branch1][C][C][C][=C][C][=C][Branch2][Ring1][Ring2][C][=N][N][=N][=N][=C][Branch1][Branch1][C][C][C][=C][C][=C][=C][=C][Ring1][Ring1][Ring1][Ring1][C][Ring1][Ring1][Ring1] \n",
      "\n",
      "True SELFIE:\n",
      "[C][C][Branch1][C][C][Branch1][C][C][C][=C][C][=C][Branch2][Ring1][Branch1][C][=N][N][C][Branch1][C][S][=N][N][=C][Ring1][=Branch1][C][=C][C][=C][N][=C][Ring1][=Branch1][C][=C][Ring2][Ring1][Ring2]\n",
      "------------------------------------------------------------\n",
      "Epoch: 15\n"
     ]
    },
    {
     "name": "stderr",
     "output_type": "stream",
     "text": [
      "100%|███████████████████████████████████████| 1354/1354 [33:01<00:00,  1.46s/it]\n"
     ]
    },
    {
     "name": "stdout",
     "output_type": "stream",
     "text": [
      "Predicted SELFIE:\n",
      "[C][C][=C][C][=C][C][Branch2][Ring2][P][C][O][C][C][C][C][C][C][C][C][C][C][C][C][C][C][C][C][C][C][C][C][C][C][C][C][C][C][C][C][C][C][C][C][C][Ring1][Ring1][Ring1][Ring1][Ring2][Ring2][Ring2][Ring2][Ring1][Ring1][Ring1][Ring1][Ring1] \n",
      "\n",
      "True SELFIE:\n",
      "[C][C][=C][C][=C][C][Branch2][Ring2][Branch1][C][O][C][C][C][Branch2][Ring1][#Branch1][N][C][=C][Branch1][=Branch2][C][Branch1][C][F][Branch1][C][F][F][C][=Branch1][C][=O][NH1][C][Ring1][O][=O][O][C][Ring1][P][C][O][=C][Ring2][Ring1][O]\n",
      "------------------------------------------------------------\n",
      "Predicted SELFIE:\n",
      "[C][C][=N][NH1][C][=C][C][=C][Branch2][Ring1][Branch1][N][C][=Branch1][C][=O][N][C][C][C][C][C][C][C][C][C][C][Ring1][=Branch1][C][Ring1][=Branch2][C][C][C][Ring2][Ring1][Ring1][Ring1][Ring1] \n",
      "\n",
      "True SELFIE:\n",
      "[C][C][=N][NH1][C][=N][C][=C][Branch2][Ring1][Ring2][N][C][=Branch1][C][=O][N][C][C][C][C][C][O][C][C][C][Ring1][=Branch2][Ring1][Branch1][C][=C][Ring2][Ring1][=Branch1][Ring2][Ring1][Ring1]\n",
      "------------------------------------------------------------\n",
      "Predicted SELFIE:\n",
      "[C][C][N][C][C][C][C][C][C][C][C][C][C][C][C][C][C][C][C][C][C][C][C][C][C][C][C][C][C][C][C][C][C][C][C][C][C][C][C][C][C][Ring1][Ring1][Ring1][Ring1][Ring1][Ring1][Ring1] \n",
      "\n",
      "True SELFIE:\n",
      "[C][C][C][S][C][=N][C][=C][C][=C][Ring1][=Branch1][C][=Branch1][C][=O][N][C][C][C][C][C][C][Ring1][=Branch1][C][C][Branch1][C][O][Branch1][Ring2][C][Ring1][#Branch1][C][Ring1][#Branch2]\n",
      "------------------------------------------------------------\n",
      "Predicted SELFIE:\n",
      "[C][C][O][C][=Branch1][C][=O][C][Branch1][C][C][N][C][=N][C][=C][C][C][C][C][C][C][C][C][C][C][C][C][C][C][C][C][C][C][C][C][=C][=C][=C][Ring1][Ring1][Ring1][Ring1][Ring1][Ring1][Ring1][Ring1][Ring1][Ring1][Ring1][Ring1][Ring1][Ring1][Ring1][Ring1][Ring1][Ring1][Ring1][Ring1][Ring1][Ring1][Ring1][Ring1][Ring1][Ring1][Ring1][Ring1] \n",
      "\n",
      "True SELFIE:\n",
      "[C][C][O][C][=Branch1][C][=O][C][Branch1][C][C][S][C][=N][N][=C][N][Ring1][Branch1][C][C][N][Ring1][Branch1][C][=C][C][=C][Branch1][C][F][C][=C][Ring1][#Branch1]\n",
      "------------------------------------------------------------\n",
      "Predicted SELFIE:\n",
      "[C][C][Branch1][C][C][Branch1][C][C][C][=C][C][=C][Branch2][Ring1][Ring2][C][=N][N][=N][N][=C][Branch1][=Branch2][C][=C][C][=C][C][=C][Ring1][Ring1][Ring1][Ring1][Ring1][Ring1][Ring1][=C][Ring1][Ring1][Ring1][Ring1][Ring1][Ring1][Ring1][Ring1][Ring1][Ring1][Ring1][Ring1][Ring1][Ring1][Ring1][Ring1][Ring1][Ring1][Ring1][Ring1][Ring1][Ring1][Ring1][Ring1][Ring1][Ring1][Ring1][Ring1][Ring1][Ring1][Ring1][Ring1][Ring1][Ring1][Ring1][Ring1][Ring1][Ring1][Ring1] \n",
      "\n",
      "True SELFIE:\n",
      "[C][C][Branch1][C][C][Branch1][C][C][C][=C][C][=C][Branch2][Ring1][Branch1][C][=N][N][C][Branch1][C][S][=N][N][=C][Ring1][=Branch1][C][=C][C][=C][N][=C][Ring1][=Branch1][C][=C][Ring2][Ring1][Ring2]\n",
      "------------------------------------------------------------\n",
      "Epoch: 16\n"
     ]
    },
    {
     "name": "stderr",
     "output_type": "stream",
     "text": [
      "100%|███████████████████████████████████████| 1354/1354 [34:25<00:00,  1.53s/it]\n"
     ]
    },
    {
     "name": "stdout",
     "output_type": "stream",
     "text": [
      "Predicted SELFIE:\n",
      "[C][C][=C][C][=C][C][Branch2][Ring2][C][C][C][C][C][Ring1][C][C][C][C][C][C][C][C][C][C][C][C][C][C][C][C][C][C][C][C][C][C][C][C][C][C][C][C][C][C][C][C][C][C][Ring1][Ring1][Ring1][Ring1][Ring1][Ring1][Ring1][Ring1][Ring1][C][C][C][C][C][C][C][C][C][C][C][C][C][C][C][C][C][C][C][C][C][C][C][C][C][C][C][C][C][C][C][C][C][C][C][C][C][C][C][C][C][C][C][C][C] \n",
      "\n",
      "True SELFIE:\n",
      "[C][C][=C][C][=C][C][Branch2][Ring2][Branch1][C][O][C][C][C][Branch2][Ring1][#Branch1][N][C][=C][Branch1][=Branch2][C][Branch1][C][F][Branch1][C][F][F][C][=Branch1][C][=O][NH1][C][Ring1][O][=O][O][C][Ring1][P][C][O][=C][Ring2][Ring1][O]\n",
      "------------------------------------------------------------\n",
      "Predicted SELFIE:\n",
      "[C][C][=C][C][C][=C][C][=C][Branch2][Ring1][Ring1][N][C][=Branch1][C][=O][N][C][C][C][C][C][C][C][C][C][C][Ring1][=Branch1][C][C][C][C][C][Ring2][Ring1][Ring1][Ring1][Ring1] \n",
      "\n",
      "True SELFIE:\n",
      "[C][C][=N][NH1][C][=N][C][=C][Branch2][Ring1][Ring2][N][C][=Branch1][C][=O][N][C][C][C][C][C][O][C][C][C][Ring1][=Branch2][Ring1][Branch1][C][=C][Ring2][Ring1][=Branch1][Ring2][Ring1][Ring1]\n",
      "------------------------------------------------------------\n",
      "Predicted SELFIE:\n",
      "[C][C][C][S][C][=C][C][=C][C][=C][Ring1][=Branch1][C][=Branch1][C][C][N][C][C][C][C][C][C][C][C][C][C][C][C][C][C][C][C][C][C][C][C][C][C][C][C][C][C][C][C][Ring1][Ring1][Ring1] \n",
      "\n",
      "True SELFIE:\n",
      "[C][C][C][S][C][=N][C][=C][C][=C][Ring1][=Branch1][C][=Branch1][C][=O][N][C][C][C][C][C][C][Ring1][=Branch1][C][C][Branch1][C][O][Branch1][Ring2][C][Ring1][#Branch1][C][Ring1][#Branch2]\n",
      "------------------------------------------------------------\n",
      "Predicted SELFIE:\n",
      "[C][C][O][C][=Branch1][C][=O][C][Branch1][C][C][C][C][=N][C][C][C][C][C][C][C][C][C][C][C][C][C][C][C][C][C][C][C][C][C][C][C][Ring1][Ring1][Ring1][Ring1][Ring1][Ring1][Ring1][Ring1][Ring1][Ring1][Ring1][Ring1][Ring1][Ring1][Ring1][Ring1][Ring1][Ring1][Ring1][Ring1][Ring1] \n",
      "\n",
      "True SELFIE:\n",
      "[C][C][O][C][=Branch1][C][=O][C][Branch1][C][C][S][C][=N][N][=C][N][Ring1][Branch1][C][C][N][Ring1][Branch1][C][=C][C][=C][Branch1][C][F][C][=C][Ring1][#Branch1]\n",
      "------------------------------------------------------------\n",
      "Predicted SELFIE:\n",
      "[C][C][Branch1][C][C][C][=C][C][=C][Branch2][Ring1][Branch1][C][=N][C][=N][N][=C][N][Branch1][Branch1][C][C][C][C][=C][C][=C][Ring1][=Branch1][C][=C][Ring1][C][=C][=C][Ring1][Ring1][Ring1][Ring1][Ring1] \n",
      "\n",
      "True SELFIE:\n",
      "[C][C][Branch1][C][C][Branch1][C][C][C][=C][C][=C][Branch2][Ring1][Branch1][C][=N][N][C][Branch1][C][S][=N][N][=C][Ring1][=Branch1][C][=C][C][=C][N][=C][Ring1][=Branch1][C][=C][Ring2][Ring1][Ring2]\n",
      "------------------------------------------------------------\n",
      "Epoch: 17\n"
     ]
    },
    {
     "name": "stderr",
     "output_type": "stream",
     "text": [
      "100%|███████████████████████████████████████| 1354/1354 [33:14<00:00,  1.47s/it]\n"
     ]
    },
    {
     "name": "stdout",
     "output_type": "stream",
     "text": [
      "Predicted SELFIE:\n",
      "[C][C][=C][C][=C][C][Branch2][Ring2][C][C][=C][C][C][Ring1][C][C][C][C][C][C][C][C][C][C][C][C][C][C][C][C][C][C][C][C][C][C][C][C][C][C][C][C][C][C][Ring1][Ring1][=C][=C][Ring2][Ring2][Ring2][C][C][C][C][Branch1][Branch1][Branch1][Branch1][Branch1][Branch1][Branch1][Branch1][C][F][Branch1][C][F][F][C][F][F][C][F][F][F][C][F][F][C][F][F][C][C][F][Branch1][C][F][F][C][F][F][Branch1][C][F][Branch1][C][F][F][F][F][C][F][Branch1] \n",
      "\n",
      "True SELFIE:\n",
      "[C][C][=C][C][=C][C][Branch2][Ring2][Branch1][C][O][C][C][C][Branch2][Ring1][#Branch1][N][C][=C][Branch1][=Branch2][C][Branch1][C][F][Branch1][C][F][F][C][=Branch1][C][=O][NH1][C][Ring1][O][=O][O][C][Ring1][P][C][O][=C][Ring2][Ring1][O]\n",
      "------------------------------------------------------------\n",
      "Predicted SELFIE:\n",
      "[C][C][=C][C][=C][C][C][=C][Branch2][Ring1][Branch1][N][C][=Branch1][C][=O][N][C][C][C][C][C][C][C][Ring1][C][C][Ring1][=Branch2][C][=C][Ring2][Ring2][Ring1][Ring2][Ring1][Ring1] \n",
      "\n",
      "True SELFIE:\n",
      "[C][C][=N][NH1][C][=N][C][=C][Branch2][Ring1][Ring2][N][C][=Branch1][C][=O][N][C][C][C][C][C][O][C][C][C][Ring1][=Branch2][Ring1][Branch1][C][=C][Ring2][Ring1][=Branch1][Ring2][Ring1][Ring1]\n",
      "------------------------------------------------------------\n",
      "Predicted SELFIE:\n",
      "[C][C][C][O][C][=C][C][=C][C][=C][Ring1][=Branch1][C][=Branch1][C][=O][N][C][C][C][C][C][C][C][C][C][C][C][C][C][C][C][C][C][C][C][C][C][C][Ring1][Ring1][Ring1][Ring1] \n",
      "\n",
      "True SELFIE:\n",
      "[C][C][C][S][C][=N][C][=C][C][=C][Ring1][=Branch1][C][=Branch1][C][=O][N][C][C][C][C][C][C][Ring1][=Branch1][C][C][Branch1][C][O][Branch1][Ring2][C][Ring1][#Branch1][C][Ring1][#Branch2]\n",
      "------------------------------------------------------------\n",
      "Predicted SELFIE:\n",
      "[C][C][O][C][=Branch1][C][=O][C][Branch1][C][C][N][C][=N][C][=C][Branch1][C][Branch1][C][C][C][C][C][C][C][C][C][C][C][C][C][#Branch1][C][C] \n",
      "\n",
      "True SELFIE:\n",
      "[C][C][O][C][=Branch1][C][=O][C][Branch1][C][C][S][C][=N][N][=C][N][Ring1][Branch1][C][C][N][Ring1][Branch1][C][=C][C][=C][Branch1][C][F][C][=C][Ring1][#Branch1]\n",
      "------------------------------------------------------------\n",
      "Predicted SELFIE:\n",
      "[C][C][Branch1][C][C][Branch1][C][C][C][=C][C][=C][Branch2][Ring1][Branch1][C][=N][N][=N][N][N][Branch1][C][C][C][C][=C][=C][=C][=C][C][C][C][=C][Ring1][Ring1][Ring1][C][=C][=C][=C][C][C][C][C][C] \n",
      "\n",
      "True SELFIE:\n",
      "[C][C][Branch1][C][C][Branch1][C][C][C][=C][C][=C][Branch2][Ring1][Branch1][C][=N][N][C][Branch1][C][S][=N][N][=C][Ring1][=Branch1][C][=C][C][=C][N][=C][Ring1][=Branch1][C][=C][Ring2][Ring1][Ring2]\n",
      "------------------------------------------------------------\n",
      "Epoch: 18\n"
     ]
    },
    {
     "name": "stderr",
     "output_type": "stream",
     "text": [
      "100%|███████████████████████████████████████| 1354/1354 [34:25<00:00,  1.53s/it]\n"
     ]
    },
    {
     "name": "stdout",
     "output_type": "stream",
     "text": [
      "Predicted SELFIE:\n",
      "[C][C][=C][C][=C][C][Branch2][Ring2][P][C][O][C][C][C][C][C][C][C][C][C][C][C][C][C][C][C][C][C][C][C][C][C][C][C][C][C][C][C][C][C][C][C][C][C][Ring1][Ring1][Ring1][Ring1][Ring1][Ring1][Ring1][Ring1][Ring1][Branch1][Branch1][C][C][C][C][C][C][C][C][C][C][C][C][C][C][C][C][C][C][C][C][C][C][C][C][C][C][C][C][C][C][C][C][C][C][C][C][C][Ring1][Ring1] \n",
      "\n",
      "True SELFIE:\n",
      "[C][C][=C][C][=C][C][Branch2][Ring2][Branch1][C][O][C][C][C][Branch2][Ring1][#Branch1][N][C][=C][Branch1][=Branch2][C][Branch1][C][F][Branch1][C][F][F][C][=Branch1][C][=O][NH1][C][Ring1][O][=O][O][C][Ring1][P][C][O][=C][Ring2][Ring1][O]\n",
      "------------------------------------------------------------\n",
      "Predicted SELFIE:\n",
      "[C][C][=N][NH1][C][=C][C][=C][Branch2][Ring1][Ring1][N][C][=Branch1][C][=O][N][C][C][C][C][C][C][C][C][C][C][Ring1][=Branch1][C][C][C][C][Ring2][Ring2][Ring1][Ring1][Ring1][Ring1] \n",
      "\n",
      "True SELFIE:\n",
      "[C][C][=N][NH1][C][=N][C][=C][Branch2][Ring1][Ring2][N][C][=Branch1][C][=O][N][C][C][C][C][C][O][C][C][C][Ring1][=Branch2][Ring1][Branch1][C][=C][Ring2][Ring1][=Branch1][Ring2][Ring1][Ring1]\n",
      "------------------------------------------------------------\n",
      "Predicted SELFIE:\n",
      "[C][C][C][N][C][=C][C][=C][C][=C][Ring1][=Branch1][C][=Branch1][C][=O][N][C][C][C][C][C][C][C][C][C][C][C][C][C][C][C][C][C][C][C][C][C][C][C][C][Ring1][Ring1][Ring1] \n",
      "\n",
      "True SELFIE:\n",
      "[C][C][C][S][C][=N][C][=C][C][=C][Ring1][=Branch1][C][=Branch1][C][=O][N][C][C][C][C][C][C][Ring1][=Branch1][C][C][Branch1][C][O][Branch1][Ring2][C][Ring1][#Branch1][C][Ring1][#Branch2]\n",
      "------------------------------------------------------------\n",
      "Predicted SELFIE:\n",
      "[C][C][O][C][=Branch1][C][=O][C][Branch1][C][C][N][C][=N][C][C][C][C][C][C][C][C][C][C][C][C][C][C][C][C][C][C][C][C][C][C] \n",
      "\n",
      "True SELFIE:\n",
      "[C][C][O][C][=Branch1][C][=O][C][Branch1][C][C][S][C][=N][N][=C][N][Ring1][Branch1][C][C][N][Ring1][Branch1][C][=C][C][=C][Branch1][C][F][C][=C][Ring1][#Branch1]\n",
      "------------------------------------------------------------\n",
      "Predicted SELFIE:\n",
      "[C][C][Branch1][C][C][Branch1][C][C][C][=C][C][=C][Branch2][Ring1][C][C][=N][N][=C][N][=C][Branch1][Branch1][C][C][C][=C][=C][=C][=C][Ring1][Ring1][Ring1][Ring1][Ring1][Ring1][=C][Ring1][Ring1] \n",
      "\n",
      "True SELFIE:\n",
      "[C][C][Branch1][C][C][Branch1][C][C][C][=C][C][=C][Branch2][Ring1][Branch1][C][=N][N][C][Branch1][C][S][=N][N][=C][Ring1][=Branch1][C][=C][C][=C][N][=C][Ring1][=Branch1][C][=C][Ring2][Ring1][Ring2]\n",
      "------------------------------------------------------------\n",
      "Epoch: 19\n"
     ]
    },
    {
     "name": "stderr",
     "output_type": "stream",
     "text": [
      "100%|███████████████████████████████████████| 1354/1354 [35:21<00:00,  1.57s/it]\n"
     ]
    },
    {
     "name": "stdout",
     "output_type": "stream",
     "text": [
      "Predicted SELFIE:\n",
      "[C][C][=C][C][=C][C][Branch2][Ring2][P][C][C][C][C][C][C][C][C][C][C][C][C][C][C][C][C][C][C][C][C][C][C][C][C][C][C][C][C][C][C][C][C][C][C][C][C][Ring1][Ring1][Ring1][Ring1][Ring1][Ring1][Ring1][Ring1][F][F][F][F][F][F][F][F][F][O][O][O][O][Ring1][Ring1][Ring1] \n",
      "\n",
      "True SELFIE:\n",
      "[C][C][=C][C][=C][C][Branch2][Ring2][Branch1][C][O][C][C][C][Branch2][Ring1][#Branch1][N][C][=C][Branch1][=Branch2][C][Branch1][C][F][Branch1][C][F][F][C][=Branch1][C][=O][NH1][C][Ring1][O][=O][O][C][Ring1][P][C][O][=C][Ring2][Ring1][O]\n",
      "------------------------------------------------------------\n",
      "Predicted SELFIE:\n",
      "[C][C][=N][NH1][C][=C][C][Branch2][Branch2][Ring1][N][N][C][=Branch1][C][=O][N][C][C][C][C][C][C][C][C][C][C][=Branch1][C][C][C][C][C][C][Ring2][Ring2][Ring1][Ring1][Ring1][Ring1] \n",
      "\n",
      "True SELFIE:\n",
      "[C][C][=N][NH1][C][=N][C][=C][Branch2][Ring1][Ring2][N][C][=Branch1][C][=O][N][C][C][C][C][C][O][C][C][C][Ring1][=Branch2][Ring1][Branch1][C][=C][Ring2][Ring1][=Branch1][Ring2][Ring1][Ring1]\n",
      "------------------------------------------------------------\n",
      "Predicted SELFIE:\n",
      "[C][C][C][S][C][=C][C][=C][C][=C][Ring1][=Branch1][C][=Branch1][C][=O][C][C][C][C][C][C][C][C][C][C][C][C][C][C][C][C][C][C][C][C][C][C][C][C][C][Ring1][Ring1][Ring1][Ring1] \n",
      "\n",
      "True SELFIE:\n",
      "[C][C][C][S][C][=N][C][=C][C][=C][Ring1][=Branch1][C][=Branch1][C][=O][N][C][C][C][C][C][C][Ring1][=Branch1][C][C][Branch1][C][O][Branch1][Ring2][C][Ring1][#Branch1][C][Ring1][#Branch2]\n",
      "------------------------------------------------------------\n",
      "Predicted SELFIE:\n",
      "[C][C][O][C][=Branch1][C][=O][C][Branch1][C][C][N][C][=N][C][C][C][C][C][C][C][C][C][C][C][C][C][C][C][C][C][C][C][C][C][C][Ring1][Ring1][Ring1][Ring1][Ring1][Ring1][Ring1][Ring1][Ring1][Ring1][Ring1][Ring1][Ring1][Ring1][Ring1][Ring1][Ring1][Ring1][Ring1][Ring1][Ring1][Ring1][Ring1][Ring1][Ring1][Ring1][Ring1][Ring1][Ring1][Ring1][Ring1][Ring1][Ring1][Ring1][Ring1][Ring1][Ring1][Ring1][Ring1][Ring1][Ring1][Ring1][Ring1][Ring1][Ring1][Ring1][Ring1][Ring1][Ring1][Ring1][Ring1][Ring1][Ring1][Ring1][Ring1][Ring1][Ring1][Ring1][Ring1][Ring1][Ring1][Ring1][Ring1][Ring1][Ring1][Ring1][Ring1][Ring1][Ring1][Ring1][Ring1] \n",
      "\n",
      "True SELFIE:\n",
      "[C][C][O][C][=Branch1][C][=O][C][Branch1][C][C][S][C][=N][N][=C][N][Ring1][Branch1][C][C][N][Ring1][Branch1][C][=C][C][=C][Branch1][C][F][C][=C][Ring1][#Branch1]\n",
      "------------------------------------------------------------\n",
      "Predicted SELFIE:\n",
      "[C][C][Branch1][C][C][Branch1][C][C][C][=C][C][=C][Branch2][Ring1][Ring2][C][=N][N][=C][N][C][=N][C][C][C][C][C][=C][=C][=C][=C][=C][Ring1][Ring1][Ring1][Ring1][Ring1][Ring1][Ring1][Ring1][=C][=C][Ring1][Ring1][C][C][C][C][C][C][C][C] \n",
      "\n",
      "True SELFIE:\n",
      "[C][C][Branch1][C][C][Branch1][C][C][C][=C][C][=C][Branch2][Ring1][Branch1][C][=N][N][C][Branch1][C][S][=N][N][=C][Ring1][=Branch1][C][=C][C][=C][N][=C][Ring1][=Branch1][C][=C][Ring2][Ring1][Ring2]\n",
      "------------------------------------------------------------\n",
      "Epoch: 20\n"
     ]
    },
    {
     "name": "stderr",
     "output_type": "stream",
     "text": [
      "100%|███████████████████████████████████████| 1354/1354 [33:41<00:00,  1.49s/it]\n"
     ]
    },
    {
     "name": "stdout",
     "output_type": "stream",
     "text": [
      "Predicted SELFIE:\n",
      "[C][C][=C][C][=C][C][Branch2][Ring2][Ring2][C][C][C][C][C][C][C][C][C][C][C][C][C][C][C][C][C][C][C][C][C][C][C][C][C][C][C][C][C][C][C][C][C][C][C][Ring1][C][=C][=C][=C][Ring1][Ring1][Ring1][Ring1][Ring1][Ring1][C][O][O][O][O][O][O][O][O][Ring1][Ring1][Ring1][Ring1][Ring1][Ring1][Ring1][Ring1] \n",
      "\n",
      "True SELFIE:\n",
      "[C][C][=C][C][=C][C][Branch2][Ring2][Branch1][C][O][C][C][C][Branch2][Ring1][#Branch1][N][C][=C][Branch1][=Branch2][C][Branch1][C][F][Branch1][C][F][F][C][=Branch1][C][=O][NH1][C][Ring1][O][=O][O][C][Ring1][P][C][O][=C][Ring2][Ring1][O]\n",
      "------------------------------------------------------------\n",
      "Predicted SELFIE:\n",
      "[C][C][=C][C][Branch1][C][C][=C][C][C][C][C][N][C][C][C][=O][C][C][C][C][C][C][C][C][C][C][C][C][C][C][C][C][C][C][Ring1][Ring1][Ring1][Ring1][Ring1] \n",
      "\n",
      "True SELFIE:\n",
      "[C][C][=N][NH1][C][=N][C][=C][Branch2][Ring1][Ring2][N][C][=Branch1][C][=O][N][C][C][C][C][C][O][C][C][C][Ring1][=Branch2][Ring1][Branch1][C][=C][Ring2][Ring1][=Branch1][Ring2][Ring1][Ring1]\n",
      "------------------------------------------------------------\n",
      "Predicted SELFIE:\n",
      "[C][C][C][S][C][=C][C][=C][C][=C][Ring1][=Branch1][C][=Branch1][C][=O][N][C][C][C][C][C][C][C][C][C][C][C][C][C][C][C][C][C][C][C][C][C][Ring1][Ring1][Ring1] \n",
      "\n",
      "True SELFIE:\n",
      "[C][C][C][S][C][=N][C][=C][C][=C][Ring1][=Branch1][C][=Branch1][C][=O][N][C][C][C][C][C][C][Ring1][=Branch1][C][C][Branch1][C][O][Branch1][Ring2][C][Ring1][#Branch1][C][Ring1][#Branch2]\n",
      "------------------------------------------------------------\n",
      "Predicted SELFIE:\n",
      "[C][C][O][C][=Branch1][C][=O][C][Branch1][C][C][N][C][=N][C][C][Branch1][C][Branch1][C][C][C][C][C][C][C][C][C][C][C][C][C][C][C][C][C][C][C][Ring1][Ring1][Ring1][Ring1][Ring1][Ring1][Ring1][Ring1][Ring1][Ring1][Ring1][Ring1][Ring1][Ring1][Ring1][Ring1][Ring1][Ring1][Ring1][Ring1][Ring1][Ring1][Ring1][Ring1][Ring1][Ring1][Ring1][Ring1][Ring1][Ring1][Ring1][Ring1][Ring1][Ring1][Ring1][Ring1][Ring1][Ring1][Ring1][Ring1][Ring1][Ring1][Ring1][Ring1][Ring1][Ring1][Ring1][Ring1][Ring1][Ring1][Ring1][Ring1] \n",
      "\n",
      "True SELFIE:\n",
      "[C][C][O][C][=Branch1][C][=O][C][Branch1][C][C][S][C][=N][N][=C][N][Ring1][Branch1][C][C][N][Ring1][Branch1][C][=C][C][=C][Branch1][C][F][C][=C][Ring1][#Branch1]\n",
      "------------------------------------------------------------\n",
      "Predicted SELFIE:\n",
      "[C][C][Branch1][C][C][Branch1][C][C][C][=C][C][=C][Branch2][Ring1][Branch1][C][=N][N][C][=N][C][=C][Branch1][=Branch2][C][=C][C][=C][=C][=C][=C][=C][Ring1][Ring1][Ring1][Ring1][Ring1][Ring1][Ring1][Ring1][Ring1][Ring1][Ring1][Ring1][C][Ring1][C][C][C][C][C][C][C][C][C][C][C][C][C][C][C][C][C][C][C][C][C][C][C][C][C] \n",
      "\n",
      "True SELFIE:\n",
      "[C][C][Branch1][C][C][Branch1][C][C][C][=C][C][=C][Branch2][Ring1][Branch1][C][=N][N][C][Branch1][C][S][=N][N][=C][Ring1][=Branch1][C][=C][C][=C][N][=C][Ring1][=Branch1][C][=C][Ring2][Ring1][Ring2]\n",
      "------------------------------------------------------------\n"
     ]
    },
    {
     "data": {
      "text/html": [
       "Waiting for W&B process to finish... <strong style=\"color:green\">(success).</strong>"
      ],
      "text/plain": [
       "<IPython.core.display.HTML object>"
      ]
     },
     "metadata": {},
     "output_type": "display_data"
    },
    {
     "data": {
      "text/html": [
       "<style>\n",
       "    table.wandb td:nth-child(1) { padding: 0 10px; text-align: left ; width: auto;} td:nth-child(2) {text-align: left ; width: 100%}\n",
       "    .wandb-row { display: flex; flex-direction: row; flex-wrap: wrap; justify-content: flex-start; width: 100% }\n",
       "    .wandb-col { display: flex; flex-direction: column; flex-basis: 100%; flex: 1; padding: 10px; }\n",
       "    </style>\n",
       "<div class=\"wandb-row\"><div class=\"wandb-col\"><h3>Run history:</h3><br/><table class=\"wandb\"><tr><td>epoch</td><td>▁▁▂▂▂▃▃▄▄▄▅▅▅▆▆▇▇▇██</td></tr><tr><td>train_loss</td><td>█▆▅▄▄▃▃▃▃▂▂▂▂▂▂▁▁▁▁▁</td></tr><tr><td>val_loss</td><td>█▇▆▅▅▄▄▃▃▃▃▂▂▂▂▂▂▁▁▁</td></tr></table><br/></div><div class=\"wandb-col\"><h3>Run summary:</h3><br/><table class=\"wandb\"><tr><td>epoch</td><td>20</td></tr><tr><td>train_loss</td><td>0.37396</td></tr><tr><td>val_loss</td><td>0.87634</td></tr></table><br/></div></div>"
      ],
      "text/plain": [
       "<IPython.core.display.HTML object>"
      ]
     },
     "metadata": {},
     "output_type": "display_data"
    },
    {
     "data": {
      "text/html": [
       " View run <strong style=\"color:#cdcd00\">jumping-wind-35</strong> at: <a href='https://wandb.ai/mldd23/encoded-token-concat/runs/bf3m1ibz' target=\"_blank\">https://wandb.ai/mldd23/encoded-token-concat/runs/bf3m1ibz</a><br/>Synced 6 W&B file(s), 0 media file(s), 2 artifact file(s) and 0 other file(s)"
      ],
      "text/plain": [
       "<IPython.core.display.HTML object>"
      ]
     },
     "metadata": {},
     "output_type": "display_data"
    },
    {
     "data": {
      "text/html": [
       "Find logs at: <code>./wandb/run-20230620_094743-bf3m1ibz/logs</code>"
      ],
      "text/plain": [
       "<IPython.core.display.HTML object>"
      ]
     },
     "metadata": {},
     "output_type": "display_data"
    }
   ],
   "source": [
    "model, samples = train(model, train_loader, test_loader, vectorizer, device)"
   ]
  },
  {
   "cell_type": "code",
   "execution_count": 12,
   "id": "f8614d46",
   "metadata": {
    "id": "f8614d46"
   },
   "outputs": [],
   "source": [
    "# save model\n",
    "torch.save(model.state_dict(), './GRU_data/params/v3_w-teacher-w-enumeration-0')"
   ]
  },
  {
   "cell_type": "code",
   "execution_count": null,
   "id": "ae18f08d",
   "metadata": {},
   "outputs": [],
   "source": []
  }
 ],
 "metadata": {
  "accelerator": "GPU",
  "colab": {
   "gpuType": "T4",
   "provenance": []
  },
  "kernelspec": {
   "display_name": "Python 3 (ipykernel)",
   "language": "python",
   "name": "python3"
  },
  "language_info": {
   "codemirror_mode": {
    "name": "ipython",
    "version": 3
   },
   "file_extension": ".py",
   "mimetype": "text/x-python",
   "name": "python",
   "nbconvert_exporter": "python",
   "pygments_lexer": "ipython3",
   "version": "3.9.16"
  }
 },
 "nbformat": 4,
 "nbformat_minor": 5
}
