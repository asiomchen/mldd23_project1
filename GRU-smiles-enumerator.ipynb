{
 "cells": [
  {
   "cell_type": "code",
   "execution_count": 1,
   "id": "6ef6f3f5",
   "metadata": {
    "id": "6ef6f3f5"
   },
   "outputs": [],
   "source": [
    "# import packages\n",
    "from gru import example_printer\n",
    "from gru.dataset import GRUDataset_v2\n",
    "from gru.gru_v3 import EncoderNet, DecoderNet, EncoderDecoder\n",
    "from gru.cce import CCE, ConsciousCrossEntropy\n",
    "import torch\n",
    "import wandb\n",
    "import pandas as pd\n",
    "from selfies_tools import SELFIESVectorizer, determine_alphabet\n",
    "import random"
   ]
  },
  {
   "cell_type": "code",
   "execution_count": 2,
   "id": "N3BCODbh2PhC",
   "metadata": {
    "id": "N3BCODbh2PhC"
   },
   "outputs": [
    {
     "name": "stdout",
     "output_type": "stream",
     "text": [
      "cuda\n"
     ]
    }
   ],
   "source": [
    "device = torch.device('cuda' if torch.cuda.is_available() else 'cpu')\n",
    "print(device)"
   ]
  },
  {
   "cell_type": "code",
   "execution_count": 3,
   "id": "a846df51",
   "metadata": {
    "id": "a846df51"
   },
   "outputs": [
    {
     "name": "stdout",
     "output_type": "stream",
     "text": [
      "\u001b[34m\u001b[1mwandb\u001b[0m: Currently logged in as: \u001b[33mhubertrybka1\u001b[0m (\u001b[33mmldd23\u001b[0m). Use \u001b[1m`wandb login --relogin`\u001b[0m to force relogin\r\n"
     ]
    }
   ],
   "source": [
    "# weights and biases\n",
    "!wandb login"
   ]
  },
  {
   "cell_type": "markdown",
   "id": "f16dfcb1",
   "metadata": {
    "id": "f16dfcb1"
   },
   "source": [
    "# Data prep"
   ]
  },
  {
   "cell_type": "code",
   "execution_count": 4,
   "id": "6b30b9b4",
   "metadata": {},
   "outputs": [],
   "source": [
    "alphabet = ['[#Branch1]',\n",
    " '[#Branch2]',\n",
    " '[#C]',\n",
    " '[#N]',\n",
    " '[/C]',\n",
    " '[/N]',\n",
    " '[/O]',\n",
    " '[=Branch1]',\n",
    " '[=Branch2]',\n",
    " '[=C]',\n",
    " '[=N+1]',\n",
    " '[=N]',\n",
    " '[=O]',\n",
    " '[=Ring1]',\n",
    " '[=Ring2]',\n",
    " '[=S]',\n",
    " '[Br]',\n",
    " '[Branch1]',\n",
    " '[Branch2]',\n",
    " '[C@@H1]',\n",
    " '[C@@]',\n",
    " '[C@H1]',\n",
    " '[C@]',\n",
    " '[C]',\n",
    " '[Cl]',\n",
    " '[F]',\n",
    " '[I]',\n",
    " '[N+1]',\n",
    " '[NH1]',\n",
    " '[N]',\n",
    " '[O-1]',\n",
    " '[O]',\n",
    " '[P]',\n",
    " '[Ring1]',\n",
    " '[Ring2]',\n",
    " '[S]',\n",
    " '[\\\\C]',\n",
    " '[\\\\N]',\n",
    " '[\\\\O]',\n",
    " '[end]',\n",
    " '[nop]',\n",
    " '[start]']"
   ]
  },
  {
   "cell_type": "code",
   "execution_count": 5,
   "id": "69823bd2",
   "metadata": {},
   "outputs": [
    {
     "name": "stdout",
     "output_type": "stream",
     "text": [
      "Dataset size: 385165\n",
      "Train size: 346648\n",
      "Test size: 38517\n"
     ]
    }
   ],
   "source": [
    "data_path = './GRU_data/combined_smiles_fp.parquet'\n",
    "vectorizer = SELFIESVectorizer(alphabet, pad_to_len=128)\n",
    "\n",
    "dataset = GRUDataset_v2(data_path, vectorizer)\n",
    "train_size = int(0.9 * len(dataset))\n",
    "test_size = len(dataset) - train_size\n",
    "train_dataset, test_dataset = torch.utils.data.random_split(dataset, [train_size, test_size])\n",
    "\n",
    "print(\"Dataset size:\", len(dataset))\n",
    "print(\"Train size:\", len(train_dataset))\n",
    "print(\"Test size:\", len(test_dataset))"
   ]
  },
  {
   "cell_type": "code",
   "execution_count": 6,
   "id": "da4f014e",
   "metadata": {
    "id": "da4f014e"
   },
   "outputs": [],
   "source": [
    "from torch.utils.data import DataLoader\n",
    "batch_size = 256\n",
    "train_loader = DataLoader(train_dataset, shuffle=True, batch_size=batch_size, drop_last=True)\n",
    "test_loader = DataLoader(test_dataset, shuffle=False, batch_size=batch_size, drop_last=True)"
   ]
  },
  {
   "cell_type": "code",
   "execution_count": 7,
   "id": "f43224fc",
   "metadata": {},
   "outputs": [],
   "source": [
    "x, y = next(iter(train_loader))"
   ]
  },
  {
   "cell_type": "markdown",
   "id": "02f39daf",
   "metadata": {
    "id": "02f39daf"
   },
   "source": [
    "# NN architecture"
   ]
  },
  {
   "cell_type": "code",
   "execution_count": 8,
   "id": "f598e58d",
   "metadata": {},
   "outputs": [],
   "source": [
    "# Set hyperparameters\n",
    "encoding_size = 512\n",
    "hidden_size = 512\n",
    "num_layers = 1\n",
    "learn_rate = 0.0003\n",
    "dropout = 0 # dropout must be equal 0 if num_layers = 1\n",
    "teacher_ratio = 0.5\n",
    "\n",
    "# Init model\n",
    "model = EncoderDecoder(\n",
    "    fp_size=4860,\n",
    "    encoding_size=encoding_size,\n",
    "    hidden_size=hidden_size,\n",
    "    num_layers=num_layers,\n",
    "    dropout=dropout,\n",
    "    teacher_ratio = teacher_ratio).to(device)"
   ]
  },
  {
   "cell_type": "markdown",
   "id": "c3f697df",
   "metadata": {
    "id": "c3f697df"
   },
   "source": [
    "# Training loop"
   ]
  },
  {
   "cell_type": "code",
   "execution_count": 9,
   "id": "f7b00cca",
   "metadata": {
    "id": "f7b00cca"
   },
   "outputs": [],
   "source": [
    "import matplotlib.pyplot as plt\n",
    "from tqdm import tqdm\n",
    "\n",
    "def train(model, train_loader, test_loader, vectorizer, device):\n",
    "\n",
    "    EPOCHS = 20\n",
    "\n",
    "    # Define dataframe for training progess display\n",
    "    epochs_range = range(1,EPOCHS+1)\n",
    "    metrics = pd.DataFrame(columns=['epoch', 'train_loss', 'val_loss']);\n",
    "    metrics['epoch'] = epochs_range\n",
    "    \n",
    "    # Init example printer\n",
    "    printer = example_printer.ExamplePrinter(test_loader, num_examples=5)\n",
    "\n",
    "    # Define pyplot for plotting metrics\n",
    "    fig, ax = plt.subplots(ncols=2, figsize=(7, 3), layout=\"constrained\")\n",
    "    dh = display(fig, display_id=True)\n",
    "\n",
    "    # Define loss function and optimizer\n",
    "    optimizer = torch.optim.Adam(model.parameters(), lr=learn_rate)\n",
    "    criterion = CCE()\n",
    "\n",
    "    # wandb config and init\n",
    "    config = dict()\n",
    "    config['learning rate'] = learn_rate\n",
    "    config['encoding size'] = model.encoding_size\n",
    "    config['criterion'] = criterion\n",
    "    config['optimizer'] = optimizer\n",
    "    config['num epochs'] = EPOCHS\n",
    "    config['Trainable parameters'] = sum(p.numel() for p in model.parameters() if p.requires_grad)\n",
    "    config['hidden size'] = model.hidden_size\n",
    "    config['Number of layers'] = num_layers\n",
    "    config['Dropout'] = model.decoder.dropout\n",
    "    config['Batch size'] = batch_size\n",
    "    config['teacher_ratio'] = teacher_ratio\n",
    "    wandb.init(project=\"encoded-token-concat\", config=config)\n",
    "\n",
    "    print(\"Starting Training of GRU\")\n",
    "    print(f\"Device: {device}\")\n",
    "    \n",
    "    samples = []\n",
    "    \n",
    "    # Start training loop\n",
    "    for epoch in epochs_range:\n",
    "        print(f'Epoch: {epoch}')\n",
    "        epoch_loss = 0\n",
    "        model.train()\n",
    "        for batch_idx, (X,y) in enumerate(tqdm(train_loader)):\n",
    "            X = X.to(device)\n",
    "            y = y.to(device)\n",
    "            optimizer.zero_grad()\n",
    "            output = model(X, y, teacher_forcing=True).to(device)\n",
    "            loss = criterion(y, output)\n",
    "            loss.backward()\n",
    "            optimizer.step()\n",
    "            epoch_loss += loss.item()\n",
    "\n",
    "        # calculate loss and log to wandb\n",
    "        avg_loss = epoch_loss / len(train_loader)\n",
    "        val_loss = evaluate(model, test_loader)\n",
    "        metrics_dict = {'epoch': epoch,\n",
    "                        'train_loss': avg_loss,\n",
    "                        'val_loss': val_loss}\n",
    "        wandb.log(metrics_dict)\n",
    "\n",
    "        # Update metrics df\n",
    "        metrics.loc[len(metrics)] = metrics_dict\n",
    "\n",
    "        # Display metrics\n",
    "        ax[0].clear()\n",
    "        ax[0].plot(metrics.epoch, metrics.train_loss)\n",
    "        ax[0].set_title('training loss')\n",
    "        ax[0].set_xlabel('epoch')\n",
    "        ax[0].set_ylabel('CrossEntropy')\n",
    "        ax[1].clear()\n",
    "        ax[1].plot(metrics.epoch, metrics.val_loss)\n",
    "        ax[1].set_title('validation loss')\n",
    "        ax[1].set_xlabel('epoch')\n",
    "        ax[1].set_ylabel('CrossEntropy')\n",
    "        dh.update(fig)\n",
    "        \n",
    "        new_samples = printer(model)\n",
    "        samples.append(new_samples)\n",
    "        \n",
    "    plt.close()\n",
    "    wandb.finish()\n",
    "    return model, samples\n",
    "\n",
    "def evaluate(model, test_loader):\n",
    "    model.eval()\n",
    "    criterion = ConsciousCrossEntropy()\n",
    "    epoch_loss = 0\n",
    "    for batch_idx, (X, y) in enumerate(test_loader):\n",
    "        X = X.to(device)\n",
    "        y = y.to(device)\n",
    "        output = model(X, y, teacher_forcing=False).to(device)\n",
    "        loss = criterion(y, output)\n",
    "        epoch_loss += loss.item()\n",
    "    avg_loss = epoch_loss / len(test_loader)\n",
    "    return avg_loss"
   ]
  },
  {
   "cell_type": "markdown",
   "id": "c874519b",
   "metadata": {
    "id": "c874519b"
   },
   "source": [
    "# Train the model"
   ]
  },
  {
   "cell_type": "code",
   "execution_count": null,
   "id": "0839d044",
   "metadata": {
    "id": "0839d044"
   },
   "outputs": [
    {
     "data": {
      "image/png": "[encoded data removed]",
      "text/plain": [
       "<Figure size 700x300 with 2 Axes>"
      ]
     },
     "metadata": {},
     "output_type": "display_data"
    },
    {
     "name": "stderr",
     "output_type": "stream",
     "text": [
      "\u001b[34m\u001b[1mwandb\u001b[0m: Currently logged in as: \u001b[33mhubertrybka1\u001b[0m (\u001b[33mmldd23\u001b[0m). Use \u001b[1m`wandb login --relogin`\u001b[0m to force relogin\n"
     ]
    },
    {
     "data": {
      "text/html": [
       "Tracking run with wandb version 0.15.4"
      ],
      "text/plain": [
       "<IPython.core.display.HTML object>"
      ]
     },
     "metadata": {},
     "output_type": "display_data"
    },
    {
     "data": {
      "text/html": [
       "Run data is saved locally in <code>/home/hubert/github/mldd23_project1/wandb/run-20230620_094743-bf3m1ibz</code>"
      ],
      "text/plain": [
       "<IPython.core.display.HTML object>"
      ]
     },
     "metadata": {},
     "output_type": "display_data"
    },
    {
     "data": {
      "text/html": [
       "Syncing run <strong><a href='https://wandb.ai/mldd23/encoded-token-concat/runs/bf3m1ibz' target=\"_blank\">jumping-wind-35</a></strong> to <a href='https://wandb.ai/mldd23/encoded-token-concat' target=\"_blank\">Weights & Biases</a> (<a href='https://wandb.me/run' target=\"_blank\">docs</a>)<br/>"
      ],
      "text/plain": [
       "<IPython.core.display.HTML object>"
      ]
     },
     "metadata": {},
     "output_type": "display_data"
    },
    {
     "data": {
      "text/html": [
       " View project at <a href='https://wandb.ai/mldd23/encoded-token-concat' target=\"_blank\">https://wandb.ai/mldd23/encoded-token-concat</a>"
      ],
      "text/plain": [
       "<IPython.core.display.HTML object>"
      ]
     },
     "metadata": {},
     "output_type": "display_data"
    },
    {
     "data": {
      "text/html": [
       " View run at <a href='https://wandb.ai/mldd23/encoded-token-concat/runs/bf3m1ibz' target=\"_blank\">https://wandb.ai/mldd23/encoded-token-concat/runs/bf3m1ibz</a>"
      ],
      "text/plain": [
       "<IPython.core.display.HTML object>"
      ]
     },
     "metadata": {},
     "output_type": "display_data"
    },
    {
     "name": "stdout",
     "output_type": "stream",
     "text": [
      "Starting Training of GRU\n",
      "Device: cuda\n",
      "Epoch: 1\n"
     ]
    },
    {
     "name": "stderr",
     "output_type": "stream",
     "text": [
      "100%|███████████████████████████████████████| 1354/1354 [31:11<00:00,  1.38s/it]\n"
     ]
    },
    {
     "name": "stdout",
     "output_type": "stream",
     "text": [
      "Predicted SELFIE:\n",
      "[C][C][C][C][=C][C][C][C][C][C][C][C][C][C][C][C][C][C][C][C][C][C][C][C][C][C][C][C][C][C][C][C][C][C][C][C][C][C][C][C][C][C][C][C][C][C][C][C][C][C][C][C][C][C][C][C][C][C][C][C][C][C][C][C][C][C][C][C][C][C][C][C][C][C][C][C][C][C][C][C][C][C][C][C][C] \n",
      "\n",
      "True SELFIE:\n",
      "[C][C][=C][C][=C][C][Branch2][Ring2][Branch1][C][O][C][C][C][Branch2][Ring1][#Branch1][N][C][=C][Branch1][=Branch2][C][Branch1][C][F][Branch1][C][F][F][C][=Branch1][C][=O][NH1][C][Ring1][O][=O][O][C][Ring1][P][C][O][=C][Ring2][Ring1][O]\n",
      "------------------------------------------------------------\n",
      "Predicted SELFIE:\n",
      "[C][C][=C][C][=C][C][C][C][C][C][C][C][C][C][C][C][C][C][C][C][C][C][C][C][C][C][C][C][C][C][C][C][C][C][C][C][C][C][C][C][C][Ring1][Ring1][Ring1][Ring1][Ring1][Ring1][Ring1][Ring1][Ring1][Ring1][Ring1][Ring1][Ring1][Ring1] \n",
      "\n",
      "True SELFIE:\n",
      "[C][C][=N][NH1][C][=N][C][=C][Branch2][Ring1][Ring2][N][C][=Branch1][C][=O][N][C][C][C][C][C][O][C][C][C][Ring1][=Branch2][Ring1][Branch1][C][=C][Ring2][Ring1][=Branch1][Ring2][Ring1][Ring1]\n",
      "------------------------------------------------------------\n",
      "Predicted SELFIE:\n",
      "[C][C][C][C][C][C][C][C][C][C][C][C][C][C][C][C][C][C][C][C][C][C][C][C][C][C][C][C][C][C][C][C][C][C][C][C][C][C][C][C][C][C][C][C][C][C][C][C][C][C][C][C][C][C][C][C][C][C][C][C][C][Ring1][Ring1][Ring1][Ring1][Ring1][Ring1][Ring1][Ring1][Ring1][Ring1][Ring1] \n",
      "\n",
      "True SELFIE:\n",
      "[C][C][C][S][C][=N][C][=C][C][=C][Ring1][=Branch1][C][=Branch1][C][=O][N][C][C][C][C][C][C][Ring1][=Branch1][C][C][Branch1][C][O][Branch1][Ring2][C][Ring1][#Branch1][C][Ring1][#Branch2]\n",
      "------------------------------------------------------------\n",
      "Predicted SELFIE:\n",
      "[C][C][C][C][C][C][C][C][C][C][C][C][C][C][C][C][C][C][C][C][C][C][C][C][C][C][C][C][C][C][C][C][C][C][C][C][C][C][C][C][C][C][C] \n",
      "\n",
      "True SELFIE:\n",
      "[C][C][O][C][=Branch1][C][=O][C][Branch1][C][C][S][C][=N][N][=C][N][Ring1][Branch1][C][C][N][Ring1][Branch1][C][=C][C][=C][Branch1][C][F][C][=C][Ring1][#Branch1]\n",
      "------------------------------------------------------------\n",
      "Predicted SELFIE:\n",
      "[C][C][=C][C][=C][Branch2][Ring1][C][C][C][C][C][C][C][C][C][C][C][C][C][C][C][C][C][C][C][C][C][C][C][C][C][C][C][C][Ring1][Ring1][Ring1][Ring1][Ring1][Ring1][Ring1][Ring1][Ring1][Ring1][Ring1][Ring1][Ring1][Ring1][Ring1][Ring1][Ring1][Ring1][Ring1][Ring1][Ring1][Ring1][Ring1][Ring1][Ring1][Ring1][Ring1][Ring1][Ring1][Ring1][Ring1] \n",
      "\n",
      "True SELFIE:\n",
      "[C][C][Branch1][C][C][Branch1][C][C][C][=C][C][=C][Branch2][Ring1][Branch1][C][=N][N][C][Branch1][C][S][=N][N][=C][Ring1][=Branch1][C][=C][C][=C][N][=C][Ring1][=Branch1][C][=C][Ring2][Ring1][Ring2]\n",
      "------------------------------------------------------------\n",
      "Epoch: 2\n"
     ]
    },
    {
     "name": "stderr",
     "output_type": "stream",
     "text": [
      "100%|███████████████████████████████████████| 1354/1354 [31:59<00:00,  1.42s/it]\n"
     ]
    },
    {
     "name": "stdout",
     "output_type": "stream",
     "text": [
      "Predicted SELFIE:\n",
      "[C][C][=C][C][C][C][C][C][C][C][C][C][C][C][C][C][C][C][C][C][C][C][C][C][C][C][C][C][C][C][C][C][C][C][C][C][C][C][C][C][C][C][C][C][C][C][C][C][C][C][C][C][C][C][C][C][Ring1][Ring1][Ring1][Ring1][Ring1][Ring1] \n",
      "\n",
      "True SELFIE:\n",
      "[C][C][=C][C][=C][C][Branch2][Ring2][Branch1][C][O][C][C][C][Branch2][Ring1][#Branch1][N][C][=C][Branch1][=Branch2][C][Branch1][C][F][Branch1][C][F][F][C][=Branch1][C][=O][NH1][C][Ring1][O][=O][O][C][Ring1][P][C][O][=C][Ring2][Ring1][O]\n",
      "------------------------------------------------------------\n",
      "Predicted SELFIE:\n",
      "[C][C][=C][C][C][C][C][C][C][C][C][C][C][C][C][C][C][C][C][C][C][C][C][C][C][C][C][C][C][C][C][C][C][C][C][C][Ring1][Ring1][Ring1][Ring1][Ring1][Ring1][Ring1][Ring1] \n",
      "\n",
      "True SELFIE:\n",
      "[C][C][=N][NH1][C][=N][C][=C][Branch2][Ring1][Ring2][N][C][=Branch1][C][=O][N][C][C][C][C][C][O][C][C][C][Ring1][=Branch2][Ring1][Branch1][C][=C][Ring2][Ring1][=Branch1][Ring2][Ring1][Ring1]\n",
      "------------------------------------------------------------\n",
      "Predicted SELFIE:\n",
      "[C][C][C][C][C][C][C][C][C][C][C][C][C][C][C][C][C][C][C][C][C][C][C][C][C][C][C][C][C][C][C][C][C][C][C][C][C][C][C][C][C][Ring1][Ring1][Ring1][Ring1][Ring1][Ring1][Ring1][Ring1][Ring1][Ring1][Ring1][Ring1][Ring1][Ring1][Ring1][Ring1][Ring1][Ring1][Ring1][Ring1][Ring1][Ring1][Ring1][Ring1][Ring1][Ring1][Ring1] \n",
      "\n",
      "True SELFIE:\n",
      "[C][C][C][S][C][=N][C][=C][C][=C][Ring1][=Branch1][C][=Branch1][C][=O][N][C][C][C][C][C][C][Ring1][=Branch1][C][C][Branch1][C][O][Branch1][Ring2][C][Ring1][#Branch1][C][Ring1][#Branch2]\n",
      "------------------------------------------------------------\n",
      "Predicted SELFIE:\n",
      "[C][C][O][C][=Branch1][C][=O][C][=C][C][=C][C][C][C][C][C][C][C][C][C][C][C][C][C][C][C][C][C][C][C][C][C][Ring1][Ring1][Ring1][Ring1][Ring1][Ring1][Ring1][Ring1][Ring1][Ring1][Ring1][Ring1] \n",
      "\n",
      "True SELFIE:\n",
      "[C][C][O][C][=Branch1][C][=O][C][Branch1][C][C][S][C][=N][N][=C][N][Ring1][Branch1][C][C][N][Ring1][Branch1][C][=C][C][=C][Branch1][C][F][C][=C][Ring1][#Branch1]\n",
      "------------------------------------------------------------\n",
      "Predicted SELFIE:\n",
      "[C][C][Branch1][C][C][C][C][C][C][C][C][C][C][C][C][C][C][C][C][C][C][C][C][C][C][=C][=C][=C][=C][=C][=C][=C][=C][=C][Ring1][Ring1][Ring1][Ring1][Ring1][Ring1][Ring1][Ring1][Ring1][Ring1][Ring1][Ring1][Ring1][Ring1] \n",
      "\n",
      "True SELFIE:\n",
      "[C][C][Branch1][C][C][Branch1][C][C][C][=C][C][=C][Branch2][Ring1][Branch1][C][=N][N][C][Branch1][C][S][=N][N][=C][Ring1][=Branch1][C][=C][C][=C][N][=C][Ring1][=Branch1][C][=C][Ring2][Ring1][Ring2]\n",
      "------------------------------------------------------------\n",
      "Epoch: 3\n"
     ]
    },
    {
     "name": "stderr",
     "output_type": "stream",
     "text": [
      "100%|███████████████████████████████████████| 1354/1354 [32:15<00:00,  1.43s/it]\n"
     ]
    },
    {
     "name": "stdout",
     "output_type": "stream",
     "text": [
      "Predicted SELFIE:\n",
      "[C][C][=C][C][=C][Branch2][Ring2][=Branch2][C][C][C][C][C][C][C][C][C][C][C][C][C][C][C][C][C][C][C][C][C][C][C][C][C][C][C][C][C][C][C][C][C][C][C][C][C][C][C][C][C][C][C][C][Ring1][Ring1][Ring1][Ring1][Ring1][Ring1][Ring1][Ring1][Ring1][Ring1] \n",
      "\n",
      "True SELFIE:\n",
      "[C][C][=C][C][=C][C][Branch2][Ring2][Branch1][C][O][C][C][C][Branch2][Ring1][#Branch1][N][C][=C][Branch1][=Branch2][C][Branch1][C][F][Branch1][C][F][F][C][=Branch1][C][=O][NH1][C][Ring1][O][=O][O][C][Ring1][P][C][O][=C][Ring2][Ring1][O]\n",
      "------------------------------------------------------------\n",
      "Predicted SELFIE:\n",
      "[C][C][C][C][C][C][Ring1][C][C][C][C][C][C][C][C][C][C][C][C][C][C][C][C][C][C][C][C][C][C][C][C][C][C][Ring1][Ring1][Ring1][Ring1][Ring1][Ring1][Ring1][Ring1][Ring1][Ring1][Ring1][Ring1][Ring1][Ring1] \n",
      "\n",
      "True SELFIE:\n",
      "[C][C][=N][NH1][C][=N][C][=C][Branch2][Ring1][Ring2][N][C][=Branch1][C][=O][N][C][C][C][C][C][O][C][C][C][Ring1][=Branch2][Ring1][Branch1][C][=C][Ring2][Ring1][=Branch1][Ring2][Ring1][Ring1]\n",
      "------------------------------------------------------------\n",
      "Predicted SELFIE:\n",
      "[C][C][C][C][C][C][C][C][C][C][C][C][C][C][C][C][C][C][C][C][C][C][C][C][C][C][C][C][C][C][C][C][C][C][C][C][C][C][C][C][C][C][C][C][C][C][C][C][C][C][C][C][C][C][C][C][C][C][C][C][C][C][C][C][C][C][C][C][C][C][C][C][C][C][C][C][C][C][C][C][C][C][C][C][C][C][C][C][C][C][C][C][C][C][C][C][C][C][C][C][C][C][C][C][C][C][C][C][C][C][C][C][C][C][C][C][C][C][C] \n",
      "\n",
      "True SELFIE:\n",
      "[C][C][C][S][C][=N][C][=C][C][=C][Ring1][=Branch1][C][=Branch1][C][=O][N][C][C][C][C][C][C][Ring1][=Branch1][C][C][Branch1][C][O][Branch1][Ring2][C][Ring1][#Branch1][C][Ring1][#Branch2]\n",
      "------------------------------------------------------------\n",
      "Predicted SELFIE:\n",
      "[C][C][O][C][=Branch1][C][=O][C][C][C][C][C][C][C][C][C][C][C][C][C][C][C][C][C][C][C][C][C][C][C][C][C][C][C][C][C][C][Ring1][Ring1][Ring1][Ring1][Ring1][Ring1][Ring1][Ring1][Ring1][Ring1][Ring1][Ring1][Ring1][Ring1][Ring1][Ring1][Ring1][Ring1][Ring1][Ring1][Ring1][Ring1][Ring1][Ring1][Ring1] \n",
      "\n",
      "True SELFIE:\n",
      "[C][C][O][C][=Branch1][C][=O][C][Branch1][C][C][S][C][=N][N][=C][N][Ring1][Branch1][C][C][N][Ring1][Branch1][C][=C][C][=C][Branch1][C][F][C][=C][Ring1][#Branch1]\n",
      "------------------------------------------------------------\n",
      "Predicted SELFIE:\n",
      "[C][C][Branch1][C][C][C][C][C][C][=C][C][C][C][C][C][C][C][C][C][C][C][C][C][C][C][C][C][C][=C][=C][=C][=C][=C][=C][=C][=C][=C][=C][=C][Ring1][Ring1][Ring1][Ring1][Ring1][Ring1][Ring1][Ring1][Ring1][Ring1][Ring1][Ring1] \n",
      "\n",
      "True SELFIE:\n",
      "[C][C][Branch1][C][C][Branch1][C][C][C][=C][C][=C][Branch2][Ring1][Branch1][C][=N][N][C][Branch1][C][S][=N][N][=C][Ring1][=Branch1][C][=C][C][=C][N][=C][Ring1][=Branch1][C][=C][Ring2][Ring1][Ring2]\n",
      "------------------------------------------------------------\n",
      "Epoch: 4\n"
     ]
    },
    {
     "name": "stderr",
     "output_type": "stream",
     "text": [
      "100%|███████████████████████████████████████| 1354/1354 [32:29<00:00,  1.44s/it]\n"
     ]
    },
    {
     "name": "stdout",
     "output_type": "stream",
     "text": [
      "Predicted SELFIE:\n",
      "[C][C][=C][C][=C][C][Branch2][Ring2][C][C][C][C][C][C][C][C][C][C][C][C][C][C][C][C][C][C][C][C][C][C][C][C][C][C][C][C][C][C][C][C][C][C][C][C][C][C][C][C][C][C][C][C][C][C][Ring1][Ring1][Ring1][Ring1][Ring1][Ring1] \n",
      "\n",
      "True SELFIE:\n",
      "[C][C][=C][C][=C][C][Branch2][Ring2][Branch1][C][O][C][C][C][Branch2][Ring1][#Branch1][N][C][=C][Branch1][=Branch2][C][Branch1][C][F][Branch1][C][F][F][C][=Branch1][C][=O][NH1][C][Ring1][O][=O][O][C][Ring1][P][C][O][=C][Ring2][Ring1][O]\n",
      "------------------------------------------------------------\n",
      "Predicted SELFIE:\n",
      "[C][C][=C][C][=C][C][Branch2][C][C][C][C][C][C][C][C][C][C][C][C][C][C][C][C][C][C][C][C][C][C][C][C][C][Ring1][Ring1][Ring1][Ring1][Ring1][Ring1][Ring1] \n",
      "\n",
      "True SELFIE:\n",
      "[C][C][=N][NH1][C][=N][C][=C][Branch2][Ring1][Ring2][N][C][=Branch1][C][=O][N][C][C][C][C][C][O][C][C][C][Ring1][=Branch2][Ring1][Branch1][C][=C][Ring2][Ring1][=Branch1][Ring2][Ring1][Ring1]\n",
      "------------------------------------------------------------\n",
      "Predicted SELFIE:\n",
      "[C][C][C][C][C][C][C][C][C][C][C][C][C][C][C][C][C][C][C][C][C][C][C][C][C][C][C][C][C][C][C][C][C][C][C][C][C][C][C][C][C][C][C][C][C][Ring1][Ring1][Ring1][Ring1][Ring1][Ring1][Ring1] \n",
      "\n",
      "True SELFIE:\n",
      "[C][C][C][S][C][=N][C][=C][C][=C][Ring1][=Branch1][C][=Branch1][C][=O][N][C][C][C][C][C][C][Ring1][=Branch1][C][C][Branch1][C][O][Branch1][Ring2][C][Ring1][#Branch1][C][Ring1][#Branch2]\n",
      "------------------------------------------------------------\n",
      "Predicted SELFIE:\n",
      "[C][C][O][C][=Branch1][C][=O][C][C][C][C][C][C][C][C][C][C][C][C][C][C][C][C][C][C][C][C][C][C][C][C][C][C][C][C][C][C][C][C][C][C][C][C][C][C][Ring1][Ring1][Ring1][Ring1][Ring1][Ring1] \n",
      "\n",
      "True SELFIE:\n",
      "[C][C][O][C][=Branch1][C][=O][C][Branch1][C][C][S][C][=N][N][=C][N][Ring1][Branch1][C][C][N][Ring1][Branch1][C][=C][C][=C][Branch1][C][F][C][=C][Ring1][#Branch1]\n",
      "------------------------------------------------------------\n",
      "Predicted SELFIE:\n",
      "[C][C][Branch1][C][C][Branch1][C][C][C][=C][C][=C][Branch2][Ring1][C][C][C][C][C][C][C][C][C][C][=C][=C][=C][=C][=C][=C][=C][=C][=C][=C][=C][=C][=C][=C][=C][=C][=C][=C][=C][Ring1][Ring1][Ring1] \n",
      "\n",
      "True SELFIE:\n",
      "[C][C][Branch1][C][C][Branch1][C][C][C][=C][C][=C][Branch2][Ring1][Branch1][C][=N][N][C][Branch1][C][S][=N][N][=C][Ring1][=Branch1][C][=C][C][=C][N][=C][Ring1][=Branch1][C][=C][Ring2][Ring1][Ring2]\n",
      "------------------------------------------------------------\n",
      "Epoch: 5\n"
     ]
    },
    {
     "name": "stderr",
     "output_type": "stream",
     "text": [
      "100%|███████████████████████████████████████| 1354/1354 [32:03<00:00,  1.42s/it]\n"
     ]
    },
    {
     "name": "stdout",
     "output_type": "stream",
     "text": [
      "Predicted SELFIE:\n",
      "[C][C][=C][C][=C][C][Branch2][Ring2][C][C][C][C][C][C][C][C][C][C][C][C][C][C][C][C][C][C][C][C][C][C][C][C][C][C][C][C][C][C][C][C][C][C][C][C][C][C][C][C][C][C][C][C][C][C][C][C][Ring1][Ring1] \n",
      "\n",
      "True SELFIE:\n",
      "[C][C][=C][C][=C][C][Branch2][Ring2][Branch1][C][O][C][C][C][Branch2][Ring1][#Branch1][N][C][=C][Branch1][=Branch2][C][Branch1][C][F][Branch1][C][F][F][C][=Branch1][C][=O][NH1][C][Ring1][O][=O][O][C][Ring1][P][C][O][=C][Ring2][Ring1][O]\n",
      "------------------------------------------------------------\n",
      "Predicted SELFIE:\n",
      "[C][C][C][C][C][C][C][C][C][C][C][C][C][C][C][C][C][C][C][C][C][C][C][C][C][C][C][C][C][C][C][C][C][C][C][C][Ring1][Ring1][Ring1][Ring1][Ring1][Ring1][Ring1][Ring1][Ring1] \n",
      "\n",
      "True SELFIE:\n",
      "[C][C][=N][NH1][C][=N][C][=C][Branch2][Ring1][Ring2][N][C][=Branch1][C][=O][N][C][C][C][C][C][O][C][C][C][Ring1][=Branch2][Ring1][Branch1][C][=C][Ring2][Ring1][=Branch1][Ring2][Ring1][Ring1]\n",
      "------------------------------------------------------------\n",
      "Predicted SELFIE:\n",
      "[C][C][C][N][C][C][C][=O][C][C][C][C][C][C][C][C][C][C][C][C][C][C][C][C][C][C][C][C][C][C][C][C][C][C][C][C][C][C][C][C][C][C][C][C][C][C][C][C][C][Ring1][Ring1][Ring1] \n",
      "\n",
      "True SELFIE:\n",
      "[C][C][C][S][C][=N][C][=C][C][=C][Ring1][=Branch1][C][=Branch1][C][=O][N][C][C][C][C][C][C][Ring1][=Branch1][C][C][Branch1][C][O][Branch1][Ring2][C][Ring1][#Branch1][C][Ring1][#Branch2]\n",
      "------------------------------------------------------------\n",
      "Predicted SELFIE:\n",
      "[C][C][O][C][=Branch1][C][=O][C][C][C][C][C][C][C][C][C][C][C][C][C][C][C][C][C][C][C][C][C][C][C][C][C][C][C][C][C][C][C][C][C][C][C][C][C][Ring1][Ring1][Ring1][Ring1][Ring1][Ring1][Ring1][Ring1][Ring1] \n",
      "\n",
      "True SELFIE:\n",
      "[C][C][O][C][=Branch1][C][=O][C][Branch1][C][C][S][C][=N][N][=C][N][Ring1][Branch1][C][C][N][Ring1][Branch1][C][=C][C][=C][Branch1][C][F][C][=C][Ring1][#Branch1]\n",
      "------------------------------------------------------------\n",
      "Predicted SELFIE:\n",
      "[C][C][Branch1][C][C][Branch1][C][C][C][=C][C][=C][Branch2][Ring1][Ring1][C][C][C][C][C][C][C][C][C][C][C][C][=C][=C][C][C][C][C][C][C][=C][C][C][=C][Ring1][Ring1][Ring1][Ring1][Ring1] \n",
      "\n",
      "True SELFIE:\n",
      "[C][C][Branch1][C][C][Branch1][C][C][C][=C][C][=C][Branch2][Ring1][Branch1][C][=N][N][C][Branch1][C][S][=N][N][=C][Ring1][=Branch1][C][=C][C][=C][N][=C][Ring1][=Branch1][C][=C][Ring2][Ring1][Ring2]\n",
      "------------------------------------------------------------\n",
      "Epoch: 6\n"
     ]
    },
    {
     "name": "stderr",
     "output_type": "stream",
     "text": [
      "100%|███████████████████████████████████████| 1354/1354 [32:18<00:00,  1.43s/it]\n"
     ]
    },
    {
     "name": "stdout",
     "output_type": "stream",
     "text": [
      "Predicted SELFIE:\n",
      "[C][C][=C][C][=C][C][Branch2][Ring2][P][C][C][C][C][C][C][C][C][C][C][C][C][C][C][C][C][C][C][C][C][C][C][C][C][C][C][C][C][C][C][C][C][C][C][C][C][C][C][C][C][C][C][C][Ring1][Ring1][Ring1] \n",
      "\n",
      "True SELFIE:\n",
      "[C][C][=C][C][=C][C][Branch2][Ring2][Branch1][C][O][C][C][C][Branch2][Ring1][#Branch1][N][C][=C][Branch1][=Branch2][C][Branch1][C][F][Branch1][C][F][F][C][=Branch1][C][=O][NH1][C][Ring1][O][=O][O][C][Ring1][P][C][O][=C][Ring2][Ring1][O]\n",
      "------------------------------------------------------------\n",
      "Predicted SELFIE:\n",
      "[C][C][=C][C][=C][C][Branch2][Ring1][Ring1][C][C][C][C][C][C][C][C][C][C][C][C][C][C][C][C][C][C][C][C][C][C][C][C][Ring1][Ring1][Ring1][Ring1][Ring1][Ring1][Ring1][Ring1] \n",
      "\n",
      "True SELFIE:\n",
      "[C][C][=N][NH1][C][=N][C][=C][Branch2][Ring1][Ring2][N][C][=Branch1][C][=O][N][C][C][C][C][C][O][C][C][C][Ring1][=Branch2][Ring1][Branch1][C][=C][Ring2][Ring1][=Branch1][Ring2][Ring1][Ring1]\n",
      "------------------------------------------------------------\n",
      "Predicted SELFIE:\n",
      "[C][C][C][N][C][C][C][C][C][C][C][C][C][C][C][C][C][C][C][C][C][C][C][C][C][C][C][C][C][C][C][C][C][C][C][C][C][C][C][C][C][C][C][C][C][C][C][Ring1][Ring1][Ring1][Ring1] \n",
      "\n",
      "True SELFIE:\n",
      "[C][C][C][S][C][=N][C][=C][C][=C][Ring1][=Branch1][C][=Branch1][C][=O][N][C][C][C][C][C][C][Ring1][=Branch1][C][C][Branch1][C][O][Branch1][Ring2][C][Ring1][#Branch1][C][Ring1][#Branch2]\n",
      "------------------------------------------------------------\n",
      "Predicted SELFIE:\n",
      "[C][C][O][C][=Branch1][C][=O][C][Branch1][C][C][C][C][C][C][C][C][C][C][C][C][C][C][C][C][C][C][C][C][C][C][C][C][C][C][C][C][C][Ring1] \n",
      "\n",
      "True SELFIE:\n",
      "[C][C][O][C][=Branch1][C][=O][C][Branch1][C][C][S][C][=N][N][=C][N][Ring1][Branch1][C][C][N][Ring1][Branch1][C][=C][C][=C][Branch1][C][F][C][=C][Ring1][#Branch1]\n",
      "------------------------------------------------------------\n",
      "Predicted SELFIE:\n",
      "[C][C][Branch1][C][C][Branch1][C][C][C][=C][C][=C][Branch2][Ring1][=Branch2][N][C][C][C][=C][Branch1][=Branch2][C][C][C][C][C][C][C][C][=C][C][C][C][C][=C][C][C][Ring1][Ring1][Ring1] \n",
      "\n",
      "True SELFIE:\n",
      "[C][C][Branch1][C][C][Branch1][C][C][C][=C][C][=C][Branch2][Ring1][Branch1][C][=N][N][C][Branch1][C][S][=N][N][=C][Ring1][=Branch1][C][=C][C][=C][N][=C][Ring1][=Branch1][C][=C][Ring2][Ring1][Ring2]\n",
      "------------------------------------------------------------\n",
      "Epoch: 7\n"
     ]
    },
    {
     "name": "stderr",
     "output_type": "stream",
     "text": [
      " 99%|██████████████████████████████████████▊| 1346/1354 [33:14<00:15,  1.96s/it]"
     ]
    }
   ],
   "source": [
    "model, samples = train(model, train_loader, test_loader, vectorizer, device)"
   ]
  },
  {
   "cell_type": "code",
   "execution_count": null,
   "id": "f8614d46",
   "metadata": {
    "id": "f8614d46"
   },
   "outputs": [],
   "source": [
    "# save model\n",
    "torch.save(model.state_dict(), './GRU_data/params/v3_w-teacher-w-enumeration-0')"
   ]
  },
  {
   "cell_type": "code",
   "execution_count": null,
   "id": "ae18f08d",
   "metadata": {},
   "outputs": [],
   "source": []
  }
 ],
 "metadata": {
  "accelerator": "GPU",
  "colab": {
   "gpuType": "T4",
   "provenance": []
  },
  "kernelspec": {
   "display_name": "Python 3 (ipykernel)",
   "language": "python",
   "name": "python3"
  },
  "language_info": {
   "codemirror_mode": {
    "name": "ipython",
    "version": 3
   },
   "file_extension": ".py",
   "mimetype": "text/x-python",
   "name": "python",
   "nbconvert_exporter": "python",
   "pygments_lexer": "ipython3",
   "version": "3.9.16"
  }
 },
 "nbformat": 4,
 "nbformat_minor": 5
}
