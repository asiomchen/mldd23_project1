{
 "cells": [
  {
   "cell_type": "code",
   "execution_count": 1,
   "id": "6ef6f3f5",
   "metadata": {},
   "outputs": [],
   "source": [
    "import torch\n",
    "import torch.nn as nn\n",
    "import torch.optim as optim\n",
    "import torch.utils.data as data_utils\n",
    "import torch.functional as F\n",
    "import numpy as np\n",
    "import pandas as pd\n",
    "from tqdm import tqdm_notebook\n",
    "import time\n",
    "\n",
    "device = torch.device('cuda' if torch.cuda.is_available() else 'cpu')"
   ]
  },
  {
   "cell_type": "markdown",
   "id": "f16dfcb1",
   "metadata": {},
   "source": [
    "# Data prep"
   ]
  },
  {
   "cell_type": "code",
   "execution_count": 2,
   "id": "8a3fbcdb",
   "metadata": {},
   "outputs": [],
   "source": [
    "import selfies as sf\n",
    "data = pd.read_csv('./GRU_data/selfies.csv', header=None, names=['selfies'])\n",
    "alphabet = sf.get_alphabet_from_selfies(data.selfies)\n",
    "alphabet.add(\"[nop]\") # [nop] is a special padding symbol\n",
    "alphabet.add(\"[start]\")\n",
    "alphabet.add(\"[end]\")\n",
    "alphabet = list(sorted(alphabet))\n",
    "#pad_to_len = max(sf.len_selfies(s) for s in data.selfies) + 5\n",
    "pad_to_len = 128\n",
    "symbol_to_idx = {s: i for i, s in enumerate(alphabet)}\n",
    "idx2char = {i: s for i, s in enumerate(alphabet)}"
   ]
  },
  {
   "cell_type": "code",
   "execution_count": 3,
   "id": "72177872",
   "metadata": {},
   "outputs": [
    {
     "data": {
      "text/plain": [
       "42"
      ]
     },
     "execution_count": 3,
     "metadata": {},
     "output_type": "execute_result"
    }
   ],
   "source": [
    "len(alphabet)"
   ]
  },
  {
   "cell_type": "code",
   "execution_count": 4,
   "id": "f3ca0a18",
   "metadata": {},
   "outputs": [],
   "source": [
    "from torch.utils.data import Dataset, DataLoader\n",
    "\n",
    "class GRUDataset(Dataset):\n",
    "    def __init__(self, smiles_fp, selfies, vectorizer):\n",
    "        self.smiles_fp = pd.read_csv(smiles_fp, sep=',', nrows=10000)\n",
    "        self.selfies = pd.read_csv(selfies, nrows=10000)\n",
    "        self.X = self.prepare_X(self.smiles_fp)\n",
    "        self.X = np.array([self.reconstruct_fp(fp) for fp in self.X])\n",
    "        self.y = self.prepare_y(self.selfies)\n",
    "    def __len__(self):\n",
    "        return len(self.smiles_fp)\n",
    "    def __getitem__(self, idx):\n",
    "        raw_selfie = self.y[idx][0]\n",
    "        vectorized_selfie = vectorizer.vectorize(raw_selfie)\n",
    "        return torch.from_numpy(self.X[idx]).float(), torch.from_numpy(vectorized_selfie).float()\n",
    "\n",
    "    @staticmethod\n",
    "    def prepare_X(smiles_fp):\n",
    "        fps = smiles_fp.fps.apply(eval).apply(lambda x: np.array(x, dtype=int))\n",
    "        return fps\n",
    "    @staticmethod\n",
    "    def prepare_y(selfies):\n",
    "        return selfies.values\n",
    "    @staticmethod\n",
    "    def reconstruct_fp(fp, length=4860):\n",
    "        fp_rec = np.zeros(length)\n",
    "        fp_rec[fp] = 1\n",
    "        return fp_rec"
   ]
  },
  {
   "cell_type": "code",
   "execution_count": 5,
   "id": "f55a6d94",
   "metadata": {},
   "outputs": [],
   "source": [
    "import re\n",
    "class SELFIESVectorizer:\n",
    "    def __init__(self, alphabet, pad_to_len):\n",
    "        self.alphabet = alphabet\n",
    "        self.pad_to_len = pad_to_len\n",
    "        self.char2idx = {s: i for i, s in enumerate(alphabet)}\n",
    "        self.idx2char = {i: s for i, s in enumerate(alphabet)}\n",
    "    def vectorize(self, selfie):\n",
    "        ''' Vectorize a list of SMILES strings to a numpy array of shape (len(smiles), embed, len(charset))'''\n",
    "        X = np.zeros((self.pad_to_len, len(self.alphabet)))\n",
    "        splited = ['[start]'] + self.split_selfi(selfie) + ['[end]'] + ['[nop]'] * (self.pad_to_len - len(self.split_selfi(selfie)) - 2)\n",
    "        for i, char in enumerate(splited):\n",
    "            X[i, self.char2idx[char]] = 1\n",
    "        return X\n",
    "    def devectorize(self, ohe):\n",
    "        ''' Devectorize a numpy array of shape (len(smiles), embed, len(charset)) to a list of SMILES strings'''\n",
    "        selfie_str = ''\n",
    "        for j in range(self.pad_to_len):\n",
    "            char = self.idx2char[np.argmax(ohe[j])]\n",
    "            if char == '[start]':\n",
    "                continue\n",
    "            elif char == '[end]':\n",
    "                break\n",
    "            else:\n",
    "                selfie_str += char\n",
    "        return selfie_str\n",
    "\n",
    "    def split_selfi(self, selfie):\n",
    "        pattern = r'(\\[[^\\[\\]]*\\])'\n",
    "        return re.findall(pattern, selfie)"
   ]
  },
  {
   "cell_type": "code",
   "execution_count": 6,
   "id": "70924816",
   "metadata": {},
   "outputs": [],
   "source": [
    "vectorizer = SELFIESVectorizer(alphabet, pad_to_len)\n",
    "dataset = GRUDataset('GRU_data/chembl_klek.csv', 'GRU_data/selfies.csv', vectorizer)"
   ]
  },
  {
   "cell_type": "code",
   "execution_count": 7,
   "id": "062168b4",
   "metadata": {},
   "outputs": [],
   "source": [
    "train_size = int(0.9 * len(dataset))\n",
    "test_size = len(dataset) - train_size\n",
    "train_dataset, test_dataset = torch.utils.data.random_split(dataset, [train_size, test_size])"
   ]
  },
  {
   "cell_type": "code",
   "execution_count": 8,
   "id": "da4f014e",
   "metadata": {},
   "outputs": [
    {
     "data": {
      "text/plain": [
       "torch.Size([64, 4860])"
      ]
     },
     "execution_count": 8,
     "metadata": {},
     "output_type": "execute_result"
    }
   ],
   "source": [
    "batch_size = 64\n",
    "train_loader = DataLoader(train_dataset, shuffle=True, batch_size=batch_size, drop_last=True)\n",
    "test_loader = DataLoader(test_dataset, shuffle=False, batch_size=batch_size, drop_last=True)\n",
    "next(iter(train_loader))[0].shape"
   ]
  },
  {
   "cell_type": "markdown",
   "id": "02f39daf",
   "metadata": {},
   "source": [
    "# NN architecture"
   ]
  },
  {
   "cell_type": "code",
   "execution_count": 9,
   "id": "bb44e845",
   "metadata": {},
   "outputs": [],
   "source": [
    "class EncoderNet(nn.Module):\n",
    "    def __init__(self, fp_size, hidden_size):\n",
    "        super(EncoderNet, self).__init__()\n",
    "        self.relu = nn.ReLU()\n",
    "        self.fc1 = nn.Linear(fp_size, 2048)\n",
    "        self.fc2 = nn.Linear(2048, 1024)\n",
    "        self.fc3 = nn.Linear(1024, 512)\n",
    "        self.fc4 = nn.Linear(512, 256)\n",
    "        self.fc5 = nn.Linear(256, hidden_size)\n",
    "\n",
    "    def forward(self, x):\n",
    "        out = self.relu(self.fc1(x))\n",
    "        out = self.relu(self.fc2(out))\n",
    "        out = self.relu(self.fc3(out))\n",
    "        out = self.relu(self.fc4(out))\n",
    "        out = self.relu(self.fc5(out))\n",
    "        return out\n",
    "\n",
    "class DecoderNet(nn.Module):\n",
    "    def __init__(self, input_size, hidden_size, output_size, num_layers, drop_prob):\n",
    "        super(DecoderNet, self).__init__()\n",
    "        self.hidden_size = hidden_size\n",
    "        self.num_layers = num_layers\n",
    "        self.gru = nn.GRU(input_size, hidden_size, num_layers, dropout=drop_prob)\n",
    "        self.fc = nn.Linear(hidden_size, output_size)\n",
    "        self.softmax = nn.Softmax(dim=2)\n",
    "\n",
    "    def forward(self, input, hidden):\n",
    "        input = input.unsqueeze(0)  # Add a time step dimension\n",
    "        output, hidden = self.gru(input, hidden)\n",
    "        output = self.fc(output)\n",
    "        output = self.softmax(output)\n",
    "        return output.squeeze(0), hidden\n",
    "\n",
    "    def init_hidden(self, batch_size):\n",
    "        return torch.zeros(self.num_layers, batch_size, self.hidden_size)\n",
    "\n",
    "class Autoencoder(nn.Module):\n",
    "    def __init__(self, fp_size, hidden_size, output_size, num_layers, input_size, drop_prob):\n",
    "        super(Autoencoder, self).__init__()\n",
    "        self.encoder = EncoderNet(fp_size=fp_size, hidden_size=hidden_size)\n",
    "        self.decoder = DecoderNet(hidden_size=hidden_size, output_size=output_size, \n",
    "                                  num_layers=num_layers, input_size=input_size, drop_prob=drop_prob)\n",
    "\n",
    "    def forward(self, x):\n",
    "        encoded = self.encoder(x)\n",
    "        hidden = self.decoder.init_hidden(x.size(0))\n",
    "        decoded_sequences = []\n",
    "        for _ in range(encoded.size(1)):\n",
    "            output, hidden = self.decoder(encoded, hidden)\n",
    "            decoded_sequences.append(output)\n",
    "        decoded_sequences = torch.stack(decoded_sequences, dim=1)\n",
    "        return encoded, decoded_sequences"
   ]
  },
  {
   "cell_type": "markdown",
   "id": "c3f697df",
   "metadata": {},
   "source": [
    "# Training"
   ]
  },
  {
   "cell_type": "code",
   "execution_count": 13,
   "id": "36f20c92",
   "metadata": {},
   "outputs": [],
   "source": [
    "def train(autoencoder, dataloader):\n",
    "    num_epochs = 4\n",
    "    learning_rate = 0.001\n",
    "\n",
    "    criterion = nn.BCELoss()\n",
    "    optimizer = optim.Adam(autoencoder.parameters(), lr=learning_rate)\n",
    "\n",
    "    # Training loop\n",
    "    print('Training started')\n",
    "    for epoch in range(num_epochs):\n",
    "        start_time = time.time()\n",
    "        avg_loss = 0.\n",
    "        counter = 0\n",
    "        \n",
    "        for x, y in dataloader:\n",
    "            optimizer.zero_grad()\n",
    "            encoded, decoded = autoencoder(x)\n",
    "            loss = criterion(decoded, y)\n",
    "            loss.backward()\n",
    "            optimizer.step()\n",
    "            \n",
    "        print(f\"Epoch [{epoch+1}/{num_epochs}], Loss: {loss.item():.4f}\")\n",
    "        \n",
    "    return autoencoder"
   ]
  },
  {
   "cell_type": "code",
   "execution_count": 14,
   "id": "8ce62391",
   "metadata": {
    "scrolled": true
   },
   "outputs": [
    {
     "name": "stdout",
     "output_type": "stream",
     "text": [
      "Encoded sequence shape: torch.Size([64, 128])\n",
      "Decoded sequences shape: torch.Size([64, 128, 42])\n"
     ]
    }
   ],
   "source": [
    "fp_size = 4860\n",
    "input_size = 128\n",
    "hidden_size = 128\n",
    "output_size = 42\n",
    "num_layers = 2\n",
    "\n",
    "model = Autoencoder(fp_size=fp_size, hidden_size=hidden_size, output_size=output_size, \n",
    "                    num_layers=num_layers, input_size=input_size, drop_prob=0.2)\n",
    "\n",
    "x, _ = next(iter(train_loader))\n",
    "encoded, decoded = model(x)\n",
    "\n",
    "# Print the encoded and decoded sequences\n",
    "print(\"Encoded sequence shape:\", encoded.shape)\n",
    "print(\"Decoded sequences shape:\", decoded.shape)"
   ]
  },
  {
   "cell_type": "code",
   "execution_count": 15,
   "id": "8650a0db",
   "metadata": {},
   "outputs": [
    {
     "name": "stdout",
     "output_type": "stream",
     "text": [
      "Training started\n",
      "Epoch [1/4], Loss: 0.0337\n",
      "Epoch [2/4], Loss: 0.0314\n",
      "Epoch [3/4], Loss: 0.0306\n",
      "Epoch [4/4], Loss: 0.0328\n"
     ]
    }
   ],
   "source": [
    "model = train(autoencoder=model, dataloader=train_loader)"
   ]
  },
  {
   "cell_type": "code",
   "execution_count": 34,
   "id": "2e768d4a",
   "metadata": {},
   "outputs": [
    {
     "data": {
      "text/plain": [
       "torch.Size([128, 42])"
      ]
     },
     "execution_count": 34,
     "metadata": {},
     "output_type": "execute_result"
    }
   ],
   "source": [
    "x, y = next(iter(test_loader))"
   ]
  },
  {
   "cell_type": "code",
   "execution_count": 28,
   "id": "9dbdfd19",
   "metadata": {},
   "outputs": [],
   "source": [
    "encoded, decoded = model(x)"
   ]
  },
  {
   "cell_type": "markdown",
   "id": "bfe6bfa9",
   "metadata": {},
   "source": [
    "# GRU output to SELFIES"
   ]
  },
  {
   "cell_type": "code",
   "execution_count": 47,
   "id": "2aab1202",
   "metadata": {},
   "outputs": [
    {
     "data": {
      "text/plain": [
       "array([41, 23, 23, 23, 23, 23, 23, 23, 23, 23, 23, 23, 23, 23, 23, 23, 23,\n",
       "       23, 23, 23, 23, 23, 23, 23, 23, 23, 23, 23, 23, 23, 23, 23, 23, 23,\n",
       "       23, 23, 23, 23, 40, 40, 40, 40, 40, 40, 40, 40, 40, 40, 40, 40, 40,\n",
       "       40, 40, 40, 40, 40, 40, 40, 40, 40, 40, 40, 40, 40, 40, 40, 40, 40,\n",
       "       40, 40, 40, 40, 40, 40, 40, 40, 40, 40, 40, 40, 40, 40, 40, 40, 40,\n",
       "       40, 40, 40, 40, 40, 40, 40, 40, 40, 40, 40, 40, 40, 40, 40, 40, 40,\n",
       "       40, 40, 40, 40, 40, 40, 40, 40, 40, 40, 40, 40, 40, 40, 40, 40, 40,\n",
       "       40, 40, 40, 40, 40, 40, 40, 40, 40])"
      ]
     },
     "execution_count": 47,
     "metadata": {},
     "output_type": "execute_result"
    }
   ],
   "source": [
    "decoded_indices = torch.argmax(decoded, dim=2)\n",
    "decoded_indices = decoded_indices.numpy()\n",
    "decoded_indices"
   ]
  },
  {
   "cell_type": "code",
   "execution_count": 50,
   "id": "ba9c451c",
   "metadata": {},
   "outputs": [
    {
     "name": "stdout",
     "output_type": "stream",
     "text": [
      "Decoded SELFIES:\n"
     ]
    },
    {
     "ename": "TypeError",
     "evalue": "list indices must be integers or slices, not str",
     "output_type": "error",
     "traceback": [
      "\u001b[0;31m---------------------------------------------------------------------------\u001b[0m",
      "\u001b[0;31mTypeError\u001b[0m                                 Traceback (most recent call last)",
      "Cell \u001b[0;32mIn[50], line 13\u001b[0m\n\u001b[1;32m     11\u001b[0m \u001b[38;5;28;01mfor\u001b[39;00m n \u001b[38;5;129;01min\u001b[39;00m selfies:\n\u001b[1;32m     12\u001b[0m     \u001b[38;5;28mprint\u001b[39m(\u001b[38;5;124m'\u001b[39m\u001b[38;5;124mDecoded SELFIES:\u001b[39m\u001b[38;5;124m'\u001b[39m)\n\u001b[0;32m---> 13\u001b[0m     \u001b[38;5;28mprint\u001b[39m(\u001b[43mselfies\u001b[49m\u001b[43m[\u001b[49m\u001b[43mn\u001b[49m\u001b[43m]\u001b[49m, \u001b[38;5;124m'\u001b[39m\u001b[38;5;130;01m\\n\u001b[39;00m\u001b[38;5;124m'\u001b[39m)\n\u001b[1;32m     14\u001b[0m     \u001b[38;5;28mprint\u001b[39m(\u001b[38;5;124m'\u001b[39m\u001b[38;5;124mOriginal SELFIES\u001b[39m\u001b[38;5;124m'\u001b[39m)\n\u001b[1;32m     15\u001b[0m     \u001b[38;5;28mprint\u001b[39m(vectorizer\u001b[38;5;241m.\u001b[39mdevectorize(y[n]\u001b[38;5;241m.\u001b[39mnumpy()))\n",
      "\u001b[0;31mTypeError\u001b[0m: list indices must be integers or slices, not str"
     ]
    }
   ],
   "source": [
    "selfies = []\n",
    "for i in decoded_indices:\n",
    "    vectorized = []\n",
    "    for number in decoded_indices[0]:\n",
    "        v = np.zeros(128)\n",
    "        v[number] = 1\n",
    "        vectorized.append(v)\n",
    "    devectorized = vectorizer.devectorize(vectorized)\n",
    "    selfies.append(devectorized)\n",
    "    \n",
    "for n in selfies:\n",
    "    print('Decoded SELFIES:')\n",
    "    print(selfies[n], '\\n')\n",
    "    print('Original SELFIES')\n",
    "    print(vectorizer.devectorize(y[n].numpy()))"
   ]
  },
  {
   "cell_type": "markdown",
   "id": "6519d063",
   "metadata": {},
   "source": [
    "# New model\n",
    "## The initial hidden state = encoded fp\n",
    "## Each GRU cell takes the output of previous cell as input + hidden state"
   ]
  },
  {
   "cell_type": "code",
   "execution_count": null,
   "id": "7d55d05c",
   "metadata": {},
   "outputs": [],
   "source": [
    "#new NN\n",
    "\n",
    "import torch\n",
    "import torch.nn as nn\n",
    "\n",
    "class Fp2Selfies(nn.Module):\n",
    "    def __init__(self, input_size, hidden_size, output_size):\n",
    "        super(Fp2Selfies, self).__init__()\n",
    "        self.hidden_size = hidden_size\n",
    "        \n",
    "        self.encoder = nn.Sequential(\n",
    "            nn.Linear(input_size, 1024),\n",
    "            nn.ReLU(),\n",
    "            nn.Linear(1024, 256),\n",
    "            nn.ReLU(),\n",
    "            nn.Linear(256, 128),\n",
    "            nn.ReLU()\n",
    "        )\n",
    "        \n",
    "        self.gru = nn.GRU(hidden_size, hidden_size)\n",
    "        self.decoder = nn.Linear(hidden_size, output_size)\n",
    "\n",
    "    def forward(self, input, start_token):\n",
    "\n",
    "        encoded = self.encoder(input)\n",
    "        encoded = encoded.view(1, 1, -1)\n",
    "        hidden = encoded\n",
    "\n",
    "        output = torch.zeros(1, 1, self.hidden_size) # Output placeholder\n",
    "        _, hidden = self.gru(start_token.view(1, 1, 128), hidden)  # Pass start token through t\n",
    "        for _ in range(input.size(0)): # Pass output of each GRU cell to the next cell\n",
    "            output, hidden = self.gru(output, hidden)\n",
    "        \n",
    "        output = self.decoder(output)  # Apply the decoding fully connected layer\n",
    "\n",
    "        return output, hidden"
   ]
  },
  {
   "cell_type": "code",
   "execution_count": null,
   "id": "e88878e2",
   "metadata": {},
   "outputs": [],
   "source": [
    "input_size = 4860\n",
    "hidden_size = 128\n",
    "output_size = 10\n",
    "\n",
    "model = Fp2Selfies(input_size=input_size, hidden_size=hidden_size, output_size=output_size)"
   ]
  },
  {
   "cell_type": "code",
   "execution_count": null,
   "id": "fa9bbe7f",
   "metadata": {},
   "outputs": [],
   "source": [
    "# Create input tensor and start token\n",
    "input_tensor = torch.randn(input_size)\n",
    "start_token = torch.tensor([[0.5]])  # Example start token\n",
    "\n",
    "# Forward pass through the network\n",
    "output, hidden = model(input_tensor, start_token)\n",
    "\n",
    "print(\"Output shape:\", output.shape)\n",
    "print(\"Hidden state shape:\", hidden.shape)"
   ]
  }
 ],
 "metadata": {
  "kernelspec": {
   "display_name": "Python 3 (ipykernel)",
   "language": "python",
   "name": "python3"
  },
  "language_info": {
   "codemirror_mode": {
    "name": "ipython",
    "version": 3
   },
   "file_extension": ".py",
   "mimetype": "text/x-python",
   "name": "python",
   "nbconvert_exporter": "python",
   "pygments_lexer": "ipython3",
   "version": "3.9.16"
  }
 },
 "nbformat": 4,
 "nbformat_minor": 5
}
