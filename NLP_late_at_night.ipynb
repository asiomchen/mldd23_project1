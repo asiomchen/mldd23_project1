{
 "cells": [
  {
   "cell_type": "code",
   "execution_count": 256,
   "id": "6ef6f3f5",
   "metadata": {},
   "outputs": [],
   "source": [
    "import torch\n",
    "import torch.nn as nn\n",
    "import torch.optim as optim\n",
    "import torch.utils.data as data_utils\n",
    "import torch.functional as F\n",
    "import numpy as np\n",
    "import pandas as pd\n",
    "from tqdm import tqdm_notebook\n",
    "import time\n",
    "\n",
    "device = torch.device('cuda' if torch.cuda.is_available() else 'cpu')"
   ]
  },
  {
   "cell_type": "markdown",
   "id": "f16dfcb1",
   "metadata": {},
   "source": [
    "# Data prep"
   ]
  },
  {
   "cell_type": "code",
   "execution_count": 399,
   "id": "8a3fbcdb",
   "metadata": {},
   "outputs": [],
   "source": [
    "import selfies as sf\n",
    "data = pd.read_csv('./GRU_data/selfies.csv', header=None, names=['selfies'])\n",
    "alphabet = sf.get_alphabet_from_selfies(data.selfies)\n",
    "alphabet.add(\"[nop]\") # [nop] is a special padding symbol\n",
    "alphabet.add(\"[start]\")\n",
    "alphabet.add(\"[end]\")\n",
    "alphabet = list(sorted(alphabet))\n",
    "#pad_to_len = max(sf.len_selfies(s) for s in data.selfies) + 5\n",
    "pad_to_len = 128\n",
    "symbol_to_idx = {s: i for i, s in enumerate(alphabet)}\n",
    "idx2char = {i: s for i, s in enumerate(alphabet)}"
   ]
  },
  {
   "cell_type": "code",
   "execution_count": 400,
   "id": "72177872",
   "metadata": {},
   "outputs": [
    {
     "data": {
      "text/plain": [
       "42"
      ]
     },
     "execution_count": 400,
     "metadata": {},
     "output_type": "execute_result"
    }
   ],
   "source": [
    "len(alphabet)"
   ]
  },
  {
   "cell_type": "code",
   "execution_count": 401,
   "id": "f3ca0a18",
   "metadata": {},
   "outputs": [],
   "source": [
    "from torch.utils.data import Dataset, DataLoader\n",
    "\n",
    "class GRUDataset(Dataset):\n",
    "    def __init__(self, smiles_fp, selfies, vectorizer):\n",
    "        self.smiles_fp = pd.read_csv(smiles_fp, sep=',', nrows=1000)\n",
    "        self.selfies = pd.read_csv(selfies, nrows=1000)\n",
    "        self.X = self.prepare_X(self.smiles_fp)\n",
    "        self.X = np.array([self.reconstruct_fp(fp) for fp in self.X])\n",
    "        self.y = self.prepare_y(self.selfies)\n",
    "    def __len__(self):\n",
    "        return len(self.smiles_fp)\n",
    "    def __getitem__(self, idx):\n",
    "        raw_selfie = self.y[idx][0]\n",
    "        vectorized_selfie = vectorizer.vectorize(raw_selfie)\n",
    "        return torch.from_numpy(self.X[idx]).float(), torch.from_numpy(vectorized_selfie).float()\n",
    "\n",
    "    @staticmethod\n",
    "    def prepare_X(smiles_fp):\n",
    "        fps = smiles_fp.fps.apply(eval).apply(lambda x: np.array(x, dtype=int))\n",
    "        return fps\n",
    "    @staticmethod\n",
    "    def prepare_y(selfies):\n",
    "        return selfies.values\n",
    "    @staticmethod\n",
    "    def reconstruct_fp(fp, length=4860):\n",
    "        fp_rec = np.zeros(length)\n",
    "        fp_rec[fp] = 1\n",
    "        return fp_rec"
   ]
  },
  {
   "cell_type": "code",
   "execution_count": 402,
   "id": "f55a6d94",
   "metadata": {},
   "outputs": [],
   "source": [
    "import re\n",
    "class SELFIESVectorizer:\n",
    "    def __init__(self, alphabet, pad_to_len):\n",
    "        self.alphabet = alphabet\n",
    "        self.pad_to_len = pad_to_len\n",
    "        self.char2idx = {s: i for i, s in enumerate(alphabet)}\n",
    "        self.idx2char = {i: s for i, s in enumerate(alphabet)}\n",
    "    def vectorize(self, selfie):\n",
    "        ''' Vectorize a list of SMILES strings to a numpy array of shape (len(smiles), embed, len(charset))'''\n",
    "        X = np.zeros((self.pad_to_len, len(self.alphabet)))\n",
    "        splited = ['[start]'] + self.split_selfi(selfie) + ['[end]'] + ['[nop]'] * (self.pad_to_len - len(self.split_selfi(selfie)) - 2)\n",
    "        for i, char in enumerate(splited):\n",
    "            X[i, self.char2idx[char]] = 1\n",
    "        return X\n",
    "    def devectorize(self, ohe):\n",
    "        ''' Devectorize a numpy array of shape (len(smiles), embed, len(charset)) to a list of SMILES strings'''\n",
    "        selfie_str = ''\n",
    "        for j in range(self.pad_to_len):\n",
    "            char = self.idx2char[np.argmax(ohe[j])]\n",
    "            if char == '[start]':\n",
    "                continue\n",
    "            elif char == '[end]':\n",
    "                break\n",
    "            else:\n",
    "                selfie_str += char\n",
    "        return selfie_str\n",
    "\n",
    "    def split_selfi(self, selfie):\n",
    "        pattern = r'(\\[[^\\[\\]]*\\])'\n",
    "        return re.findall(pattern, selfie)"
   ]
  },
  {
   "cell_type": "code",
   "execution_count": 403,
   "id": "70924816",
   "metadata": {},
   "outputs": [],
   "source": [
    "vectorizer = SELFIESVectorizer(alphabet, pad_to_len)\n",
    "dataset = GRUDataset('GRU_data/chembl_klek.csv', 'GRU_data/selfies.csv', vectorizer)"
   ]
  },
  {
   "cell_type": "code",
   "execution_count": 404,
   "id": "062168b4",
   "metadata": {},
   "outputs": [],
   "source": [
    "train_size = int(0.9 * len(dataset))\n",
    "test_size = len(dataset) - train_size\n",
    "train_dataset, test_dataset = torch.utils.data.random_split(dataset, [train_size, test_size])"
   ]
  },
  {
   "cell_type": "code",
   "execution_count": 405,
   "id": "da4f014e",
   "metadata": {},
   "outputs": [
    {
     "data": {
      "text/plain": [
       "torch.Size([64, 4860])"
      ]
     },
     "execution_count": 405,
     "metadata": {},
     "output_type": "execute_result"
    }
   ],
   "source": [
    "batch_size = 64\n",
    "train_loader = DataLoader(train_dataset, shuffle=True, batch_size=batch_size, drop_last=True)\n",
    "test_loader = DataLoader(test_dataset, shuffle=False, batch_size=batch_size, drop_last=True)\n",
    "next(iter(train_loader))[0].shape"
   ]
  },
  {
   "cell_type": "markdown",
   "id": "02f39daf",
   "metadata": {},
   "source": [
    "# NN architecture"
   ]
  },
  {
   "cell_type": "code",
   "execution_count": 406,
   "id": "8248e95c",
   "metadata": {},
   "outputs": [],
   "source": [
    "class EncoderNet(nn.Module):\n",
    "    def __init__(self, fp_size, encoding_size):\n",
    "        super(EncoderNet, self).__init__()\n",
    "        self.relu = nn.ReLU()\n",
    "        self.fc1 = nn.Linear(fp_size, 2048)\n",
    "        self.fc2 = nn.Linear(2048, 1024)\n",
    "        self.fc3 = nn.Linear(1024, 512)\n",
    "        self.fc4 = nn.Linear(512, 256)\n",
    "        self.fc5 = nn.Linear(256, encoding_size)\n",
    "\n",
    "    def forward(self, x):\n",
    "        out = self.relu(self.fc1(x))\n",
    "        out = self.relu(self.fc2(out))\n",
    "        out = self.relu(self.fc3(out))\n",
    "        out = self.relu(self.fc4(out))\n",
    "        out = self.relu(self.fc5(out))\n",
    "        return out\n",
    "\n",
    "class DecoderNet(nn.Module):\n",
    "    def __init__(self, input_size, hidden_size, output_size, drop_prob):\n",
    "        super(DecoderNet, self).__init__()\n",
    "        self.hidden_size = hidden_size\n",
    "        self.gru = nn.GRU(input_size, hidden_size)\n",
    "        self.fc = nn.Linear(hidden_size, output_size)\n",
    "        self.dropout = nn.Dropout(drop_prob)\n",
    "        self.softmax = nn.Softmax(dim=2)\n",
    "\n",
    "    def forward(self, input, hidden):\n",
    "        input = input.unsqueeze(0)  # Add a time step dimension\n",
    "        output, hidden = self.gru(input, hidden)\n",
    "        output = self.fc(output)\n",
    "        output = self.dropout(output)\n",
    "        output = self.softmax(output)\n",
    "        return output.squeeze(0), hidden\n",
    "\n",
    "    def init_hidden(self, batch_size):\n",
    "        return torch.zeros(1, batch_size, self.hidden_size)\n",
    "\n",
    "class Autoencoder(nn.Module):\n",
    "    def __init__(self, input_size, encoding_size, decoding_size, output_size, drop_prob=0.2):\n",
    "        super(Autoencoder, self).__init__()\n",
    "        self.encoder = EncoderNet(input_size, encoding_size)\n",
    "        self.decoder = DecoderNet(encoding_size, decoding_size, output_size, drop_prob)\n",
    "\n",
    "    def forward(self, x):\n",
    "        encoded = self.encoder(x)\n",
    "        hidden = self.decoder.init_hidden(x.size(0))\n",
    "        decoded_sequences = []\n",
    "        for _ in range(encoded.size(1)):\n",
    "            output, hidden = self.decoder(encoded, hidden)\n",
    "            decoded_sequences.append(output)\n",
    "        decoded_sequences = torch.stack(decoded_sequences, dim=1)\n",
    "        return encoded, decoded_sequences"
   ]
  },
  {
   "cell_type": "markdown",
   "id": "c3f697df",
   "metadata": {},
   "source": [
    "# Training"
   ]
  },
  {
   "cell_type": "code",
   "execution_count": 414,
   "id": "36f20c92",
   "metadata": {},
   "outputs": [],
   "source": [
    "def train(autoencoder, dataloader):\n",
    "    num_epochs = 40\n",
    "    learning_rate = 0.01\n",
    "\n",
    "    criterion = nn.BCELoss()\n",
    "    optimizer = optim.Adam(autoencoder.parameters(), lr=learning_rate)\n",
    "\n",
    "    # Training loop\n",
    "    print('Training started')\n",
    "    for epoch in range(num_epochs):\n",
    "        start_time = time.time()\n",
    "        avg_loss = 0.\n",
    "        counter = 0\n",
    "        \n",
    "        for x, y in dataloader:\n",
    "            optimizer.zero_grad()\n",
    "            encoded, decoded = autoencoder(x)\n",
    "            loss = criterion(decoded, y)\n",
    "            loss.backward()\n",
    "            optimizer.step()\n",
    "            \n",
    "        print(f\"Epoch [{epoch+1}/{num_epochs}], Loss: {loss.item():.4f}\")\n",
    "        \n",
    "    return autoencoder"
   ]
  },
  {
   "cell_type": "code",
   "execution_count": 415,
   "id": "8ce62391",
   "metadata": {
    "scrolled": true
   },
   "outputs": [
    {
     "name": "stdout",
     "output_type": "stream",
     "text": [
      "Encoded sequence shape: torch.Size([64, 128])\n",
      "Decoded sequences shape: torch.Size([64, 128, 42])\n"
     ]
    }
   ],
   "source": [
    "input_size = 4860\n",
    "encoding_size = 128\n",
    "decoding_size = 128\n",
    "output_size = 42\n",
    "\n",
    "model = Autoencoder(input_size=input_size, encoding_size=encoding_size, decoding_size=decoding_size,\n",
    "                    output_size=output_size)\n",
    "\n",
    "x, _ = next(iter(train_loader))\n",
    "encoded, decoded = autoencoder(x)\n",
    "\n",
    "# Print the encoded and decoded sequences\n",
    "print(\"Encoded sequence shape:\", encoded.shape)\n",
    "print(\"Decoded sequences shape:\", decoded.shape)"
   ]
  },
  {
   "cell_type": "code",
   "execution_count": 416,
   "id": "8650a0db",
   "metadata": {},
   "outputs": [
    {
     "name": "stdout",
     "output_type": "stream",
     "text": [
      "Training started\n",
      "Epoch [1/40], Loss: 0.0566\n",
      "Epoch [2/40], Loss: 0.0530\n",
      "Epoch [3/40], Loss: 0.0457\n",
      "Epoch [4/40], Loss: 0.0448\n",
      "Epoch [5/40], Loss: 0.0450\n",
      "Epoch [6/40], Loss: 0.0424\n",
      "Epoch [7/40], Loss: 0.0416\n",
      "Epoch [8/40], Loss: 0.0424\n",
      "Epoch [9/40], Loss: 0.0422\n",
      "Epoch [10/40], Loss: 0.0423\n",
      "Epoch [11/40], Loss: 0.0400\n",
      "Epoch [12/40], Loss: 0.0409\n",
      "Epoch [13/40], Loss: 0.0420\n",
      "Epoch [14/40], Loss: 0.0416\n",
      "Epoch [15/40], Loss: 0.0410\n",
      "Epoch [16/40], Loss: 0.0394\n",
      "Epoch [17/40], Loss: 0.0399\n",
      "Epoch [18/40], Loss: 0.0415\n",
      "Epoch [19/40], Loss: 0.0402\n",
      "Epoch [20/40], Loss: 0.0409\n",
      "Epoch [21/40], Loss: 0.0387\n",
      "Epoch [22/40], Loss: 0.0416\n",
      "Epoch [23/40], Loss: 0.0402\n",
      "Epoch [24/40], Loss: 0.0403\n",
      "Epoch [25/40], Loss: 0.0412\n",
      "Epoch [26/40], Loss: 0.0371\n",
      "Epoch [27/40], Loss: 0.0393\n",
      "Epoch [28/40], Loss: 0.0382\n",
      "Epoch [29/40], Loss: 0.0395\n",
      "Epoch [30/40], Loss: 0.0393\n",
      "Epoch [31/40], Loss: 0.0407\n",
      "Epoch [32/40], Loss: 0.0415\n",
      "Epoch [33/40], Loss: 0.0390\n",
      "Epoch [34/40], Loss: 0.0376\n",
      "Epoch [35/40], Loss: 0.0400\n",
      "Epoch [36/40], Loss: 0.0393\n",
      "Epoch [37/40], Loss: 0.0393\n",
      "Epoch [38/40], Loss: 0.0387\n",
      "Epoch [39/40], Loss: 0.0399\n",
      "Epoch [40/40], Loss: 0.0390\n"
     ]
    }
   ],
   "source": [
    "model = train(autoencoder=model, dataloader=train_loader)"
   ]
  },
  {
   "cell_type": "code",
   "execution_count": 417,
   "id": "2e768d4a",
   "metadata": {},
   "outputs": [],
   "source": [
    "def random_fp():\n",
    "    fp = np.random.rand(4860)\n",
    "    fp = fp > 0.5\n",
    "    fp = torch.from_numpy(fp)\n",
    "    fp = torch.unsqueeze(fp, 0).to(device)\n",
    "    fp = fp.float()\n",
    "    return(fp)"
   ]
  },
  {
   "cell_type": "code",
   "execution_count": 418,
   "id": "9dbdfd19",
   "metadata": {},
   "outputs": [],
   "source": [
    "encoded, decoded = model(random_fp())"
   ]
  },
  {
   "cell_type": "markdown",
   "id": "bfe6bfa9",
   "metadata": {},
   "source": [
    "# GRU output to SELFIES"
   ]
  },
  {
   "cell_type": "code",
   "execution_count": 422,
   "id": "2aab1202",
   "metadata": {},
   "outputs": [],
   "source": [
    "decoded_indices = torch.argmax(decoded, dim=2)\n",
    "decoded_indices = decoded_indices.numpy()"
   ]
  },
  {
   "cell_type": "code",
   "execution_count": 423,
   "id": "ba9c451c",
   "metadata": {},
   "outputs": [
    {
     "data": {
      "text/plain": [
       "['[\\\\O][\\\\O][\\\\O][\\\\O][\\\\O][\\\\O][\\\\O][Ring1][Ring1][Ring1][Ring1][Ring1][Ring1][Ring1][Ring1][Ring1][Ring1][Ring1][Ring1][Ring1][Ring1][Ring1][Ring1][Ring1][Ring1][Ring1][Ring1][Ring1][Ring1][Ring1][Ring1][Ring1][Ring1][Ring1][Ring1][Ring1][Ring1][Ring1][Ring1][Ring1][Ring1][Ring1][Ring1][Ring1][Ring1][Ring1][Ring1][Ring1][Ring1][Ring1][Ring1][Ring1][Ring1][Ring1][Ring1][Ring1][Ring1][Ring1][Ring1][Ring1][Ring1][Ring1][Ring1][Ring1][Ring1][Ring1][Ring1][Ring1][Ring1][Ring1][Ring1][Ring1][Ring1][Ring1][Ring1][Ring1][Ring1][Ring1][Ring1][Ring1][Ring1][Ring1][Ring1][Ring1][Ring1][Ring1][Ring1][Ring1][Ring1][Ring1][Ring1][Ring1][Ring1][Ring1][Ring1][Ring1][Ring1][Ring1][Ring1][Ring1][Ring1][Ring1][Ring1][Ring1][Ring1][Ring1][Ring1][Ring1][Ring1][Ring1][Ring1][Ring1][Ring1][Ring1][Ring1][Ring1][Ring1][Ring1][Ring1][Ring1][Ring1][Ring1][Ring1][Ring1][Ring1][Ring1][Ring1][Ring1]']"
      ]
     },
     "execution_count": 423,
     "metadata": {},
     "output_type": "execute_result"
    }
   ],
   "source": [
    "selfies = []\n",
    "for i in decoded_indices:\n",
    "    vectorized = []\n",
    "    for number in decoded_indices[0]:\n",
    "        v = np.zeros(128)\n",
    "        v[number] = 1\n",
    "        selfies_vectorized.append(v)\n",
    "    devectorized = vectorizer.devectorize(selfies_vectorized)\n",
    "    selfies.append(devectorized)\n",
    "selfies"
   ]
  },
  {
   "cell_type": "code",
   "execution_count": null,
   "id": "4409e5ef",
   "metadata": {},
   "outputs": [],
   "source": []
  }
 ],
 "metadata": {
  "kernelspec": {
   "display_name": "Python 3 (ipykernel)",
   "language": "python",
   "name": "python3"
  },
  "language_info": {
   "codemirror_mode": {
    "name": "ipython",
    "version": 3
   },
   "file_extension": ".py",
   "mimetype": "text/x-python",
   "name": "python",
   "nbconvert_exporter": "python",
   "pygments_lexer": "ipython3",
   "version": "3.9.16"
  }
 },
 "nbformat": 4,
 "nbformat_minor": 5
}
