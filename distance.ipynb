{
 "cells": [
  {
   "cell_type": "code",
   "execution_count": 27,
   "id": "initial_id",
   "metadata": {
    "collapsed": true,
    "ExecuteTime": {
     "end_time": "2023-09-27T17:44:42.967886793Z",
     "start_time": "2023-09-27T17:44:42.924097602Z"
    }
   },
   "outputs": [],
   "source": [
    "import pandas as pd\n",
    "import torch\n",
    "import numpy as np\n",
    "from src.utils.finger import encode, dense2sparse\n",
    "from src.utils.modelinit import initialize_model"
   ]
  },
  {
   "cell_type": "code",
   "execution_count": 33,
   "outputs": [],
   "source": [
    "# load validation det for klek\n",
    "df_klek = pd.read_parquet('data/train_data/big_dataset_std_val_10.parquet').sample(10000)\n",
    "\n",
    "# load validation set for ECFP\n",
    "df_ECFP = pd.read_parquet('data/train_data/big_dataset_ECFP_val_10.parquet').sample(10000)\n",
    "\n",
    "# path to klek model weights\n",
    "klek_path = 'models/GRUv3_klek_sonic/epoch_200.pt'\n",
    "klek_config_path = 'models/GRUv3_klek_sonic/hyperparameters.ini'\n",
    "\n",
    "# path to ECFP model weights\n",
    "ECFP_path = 'models/GRUv3_ECFP_tola/epoch_150.pt'\n",
    "ECFP_config_path = 'models/GRUv3_ECFP_tola/hyperparameters.ini'"
   ],
   "metadata": {
    "collapsed": false,
    "ExecuteTime": {
     "end_time": "2023-09-27T17:45:24.833495173Z",
     "start_time": "2023-09-27T17:45:23.369891838Z"
    }
   },
   "id": "1b639987c94f4efa"
  },
  {
   "cell_type": "code",
   "execution_count": 34,
   "outputs": [
    {
     "data": {
      "text/plain": "<All keys matched successfully>"
     },
     "execution_count": 34,
     "metadata": {},
     "output_type": "execute_result"
    }
   ],
   "source": [
    "# initialize models and load weights\n",
    "device = torch.device('cuda' if torch.cuda.is_available() else 'cpu')\n",
    "\n",
    "klek_model = initialize_model(klek_config_path, dropout=False, device=device)\n",
    "klek_model.load_state_dict(torch.load(klek_path, map_location=device))\n",
    "\n",
    "ECFP_model = initialize_model(ECFP_config_path, dropout=False, device=device)\n",
    "ECFP_model.load_state_dict(torch.load(ECFP_path, map_location=device))"
   ],
   "metadata": {
    "collapsed": false,
    "ExecuteTime": {
     "end_time": "2023-09-27T17:45:25.230572471Z",
     "start_time": "2023-09-27T17:45:24.826666066Z"
    }
   },
   "id": "6fe9ac80ee22cea"
  },
  {
   "cell_type": "code",
   "execution_count": 35,
   "outputs": [
    {
     "name": "stderr",
     "output_type": "stream",
     "text": [
      "100%|██████████| 10/10 [00:07<00:00,  1.39it/s]\n",
      "100%|██████████| 10/10 [00:05<00:00,  1.87it/s]"
     ]
    },
    {
     "name": "stdout",
     "output_type": "stream",
     "text": [
      "(10000, 32)\n",
      "(10000, 32)\n"
     ]
    },
    {
     "name": "stderr",
     "output_type": "stream",
     "text": [
      "\n"
     ]
    }
   ],
   "source": [
    "# encode fingerprints\n",
    "klek_encoded, _ = encode(df_klek, klek_model, device)\n",
    "ECFP_encoded, _ = encode(df_ECFP, ECFP_model, device)\n",
    "\n",
    "print(klek_encoded.shape) # (10000, 32)\n",
    "print(ECFP_encoded.shape) # (10000, 32)"
   ],
   "metadata": {
    "collapsed": false,
    "ExecuteTime": {
     "end_time": "2023-09-27T17:45:37.788750320Z",
     "start_time": "2023-09-27T17:45:25.228397707Z"
    }
   },
   "id": "f0ce35cc72dc9b12"
  },
  {
   "cell_type": "code",
   "execution_count": 52,
   "outputs": [
    {
     "name": "stdout",
     "output_type": "stream",
     "text": [
      "(10000, 4860)\n",
      "(10000, 2048)\n"
     ]
    }
   ],
   "source": [
    "# original fingerprints to numpy\n",
    "klek_original = df_klek['fps'].apply(lambda x: dense2sparse(x, fp_len=4860)).to_numpy()\n",
    "klek_original = np.stack(klek_original)\n",
    "\n",
    "ECFP_original = df_ECFP['fps'].apply(lambda x: dense2sparse(x, fp_len=2048)).to_numpy()\n",
    "ECFP_original = np.stack(ECFP_original)\n",
    "\n",
    "print(klek_original.shape) # (10000, 4860)\n",
    "print(ECFP_original.shape) # (10000, 2048)"
   ],
   "metadata": {
    "collapsed": false,
    "ExecuteTime": {
     "end_time": "2023-09-27T17:49:09.759851003Z",
     "start_time": "2023-09-27T17:49:09.512825705Z"
    }
   },
   "id": "86e9b52ed57c196a"
  }
 ],
 "metadata": {
  "kernelspec": {
   "display_name": "Python 3",
   "language": "python",
   "name": "python3"
  },
  "language_info": {
   "codemirror_mode": {
    "name": "ipython",
    "version": 2
   },
   "file_extension": ".py",
   "mimetype": "text/x-python",
   "name": "python",
   "nbconvert_exporter": "python",
   "pygments_lexer": "ipython2",
   "version": "2.7.6"
  }
 },
 "nbformat": 4,
 "nbformat_minor": 5
}
