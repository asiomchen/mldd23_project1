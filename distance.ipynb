{
 "cells": [
  {
   "cell_type": "code",
   "execution_count": 3,
   "id": "initial_id",
   "metadata": {
    "collapsed": true,
    "ExecuteTime": {
     "end_time": "2023-09-27T17:09:46.407416315Z",
     "start_time": "2023-09-27T17:09:44.627876182Z"
    }
   },
   "outputs": [],
   "source": [
    "import pandas as pd\n",
    "import numpy as np\n",
    "import rdkit.Chem as Chem\n",
    "from src.utils.finger import encode"
   ]
  },
  {
   "cell_type": "code",
   "execution_count": 7,
   "outputs": [
    {
     "data": {
      "text/plain": "                                                  smiles  \\\nindex                                                      \n0                           Cc1ccc(C)n1-c1cccc(C(=O)O)c1   \n6                                 OCCNCCCOc1ccc(Cl)cc1Br   \n9            NC(C(=O)O)C(NS(=O)(=O)c1ccc(F)c(F)c1)C(=O)O   \n11     Cc1nc2cc(-c3ccc(F)cc3)nn2c(N2CCN(C(=O)c3ccco3)...   \n37     COC(=O)CN1C(=O)CSc2ccc(S(=O)(=O)Nc3ccc(C(C)=O)...   \n\n                                                     fps  \nindex                                                     \n0      [668, 1147, 1192, 1405, 1437, 1590, 1598, 2458...  \n6      [296, 340, 343, 362, 374, 382, 397, 443, 466, ...  \n9      [0, 1, 19, 24, 110, 676, 677, 1138, 1143, 1144...  \n11     [296, 340, 604, 609, 620, 668, 1192, 1448, 163...  \n37     [296, 503, 556, 561, 609, 664, 668, 676, 1012,...  ",
      "text/html": "<div>\n<style scoped>\n    .dataframe tbody tr th:only-of-type {\n        vertical-align: middle;\n    }\n\n    .dataframe tbody tr th {\n        vertical-align: top;\n    }\n\n    .dataframe thead th {\n        text-align: right;\n    }\n</style>\n<table border=\"1\" class=\"dataframe\">\n  <thead>\n    <tr style=\"text-align: right;\">\n      <th></th>\n      <th>smiles</th>\n      <th>fps</th>\n    </tr>\n    <tr>\n      <th>index</th>\n      <th></th>\n      <th></th>\n    </tr>\n  </thead>\n  <tbody>\n    <tr>\n      <th>0</th>\n      <td>Cc1ccc(C)n1-c1cccc(C(=O)O)c1</td>\n      <td>[668, 1147, 1192, 1405, 1437, 1590, 1598, 2458...</td>\n    </tr>\n    <tr>\n      <th>6</th>\n      <td>OCCNCCCOc1ccc(Cl)cc1Br</td>\n      <td>[296, 340, 343, 362, 374, 382, 397, 443, 466, ...</td>\n    </tr>\n    <tr>\n      <th>9</th>\n      <td>NC(C(=O)O)C(NS(=O)(=O)c1ccc(F)c(F)c1)C(=O)O</td>\n      <td>[0, 1, 19, 24, 110, 676, 677, 1138, 1143, 1144...</td>\n    </tr>\n    <tr>\n      <th>11</th>\n      <td>Cc1nc2cc(-c3ccc(F)cc3)nn2c(N2CCN(C(=O)c3ccco3)...</td>\n      <td>[296, 340, 604, 609, 620, 668, 1192, 1448, 163...</td>\n    </tr>\n    <tr>\n      <th>37</th>\n      <td>COC(=O)CN1C(=O)CSc2ccc(S(=O)(=O)Nc3ccc(C(C)=O)...</td>\n      <td>[296, 503, 556, 561, 609, 664, 668, 676, 1012,...</td>\n    </tr>\n  </tbody>\n</table>\n</div>"
     },
     "execution_count": 7,
     "metadata": {},
     "output_type": "execute_result"
    }
   ],
   "source": [
    "df = pd.read_parquet('data/train_data/big_dataset_std_val_10.parquet')\n",
    "df.head()"
   ],
   "metadata": {
    "collapsed": false,
    "ExecuteTime": {
     "end_time": "2023-09-27T17:10:01.972140278Z",
     "start_time": "2023-09-27T17:10:00.663308986Z"
    }
   },
   "id": "1b639987c94f4efa"
  },
  {
   "cell_type": "code",
   "execution_count": null,
   "outputs": [],
   "source": [],
   "metadata": {
    "collapsed": false
   },
   "id": "32e189becc244934"
  }
 ],
 "metadata": {
  "kernelspec": {
   "display_name": "Python 3",
   "language": "python",
   "name": "python3"
  },
  "language_info": {
   "codemirror_mode": {
    "name": "ipython",
    "version": 2
   },
   "file_extension": ".py",
   "mimetype": "text/x-python",
   "name": "python",
   "nbconvert_exporter": "python",
   "pygments_lexer": "ipython2",
   "version": "2.7.6"
  }
 },
 "nbformat": 4,
 "nbformat_minor": 5
}
