{
  "cells": [
    {
      "cell_type": "markdown",
      "metadata": {
        "id": "view-in-github",
        "colab_type": "text"
      },
      "source": [
        "<a href=\"https://colab.research.google.com/github/asiomchen/mldd23_project1/blob/colab_setup/train_colab_v2.ipynb\" target=\"_parent\"><img src=\"https://colab.research.google.com/assets/colab-badge.svg\" alt=\"Open In Colab\"/></a>"
      ]
    },
    {
      "cell_type": "code",
      "execution_count": 2,
      "id": "6ef6f3f5",
      "metadata": {
        "colab": {
          "base_uri": "https://localhost:8080/"
        },
        "id": "6ef6f3f5",
        "outputId": "b5c207c9-1b0a-4b48-ada8-3b09abb7f4ae"
      },
      "outputs": [
        {
          "output_type": "stream",
          "name": "stdout",
          "text": [
            "cuda\n"
          ]
        }
      ],
      "source": [
        "import torch\n",
        "import torch.nn as nn\n",
        "import torch.optim as optim\n",
        "import torch.utils.data as data_utils\n",
        "import torch.functional as F\n",
        "import numpy as np\n",
        "import pandas as pd\n",
        "import random\n",
        "from tqdm import tqdm_notebook\n",
        "\n",
        "device = torch.device('cuda' if torch.cuda.is_available() else 'cpu')\n",
        "print(device)"
      ]
    },
    {
      "cell_type": "markdown",
      "id": "f16dfcb1",
      "metadata": {
        "id": "f16dfcb1"
      },
      "source": [
        "# Data prep"
      ]
    },
    {
      "cell_type": "code",
      "execution_count": 3,
      "id": "57c855d2",
      "metadata": {
        "colab": {
          "base_uri": "https://localhost:8080/"
        },
        "id": "57c855d2",
        "outputId": "f4905fab-3b60-4699-d7f0-47a8abbca91a"
      },
      "outputs": [
        {
          "output_type": "stream",
          "name": "stdout",
          "text": [
            "Mounted at /content/drive\n"
          ]
        }
      ],
      "source": [
        "#somehow load two parquet files into colab - drive?\n",
        "from google.colab import drive\n",
        "\n",
        "drive.mount('/content/drive', force_remount=True)"
      ]
    },
    {
      "cell_type": "code",
      "source": [
        "!ls '/content/drive/My Drive/GRU_data'"
      ],
      "metadata": {
        "colab": {
          "base_uri": "https://localhost:8080/"
        },
        "id": "01XDncKE3fuj",
        "outputId": "c60f11a2-21ea-467e-d29b-3228923e8b82"
      },
      "id": "01XDncKE3fuj",
      "execution_count": 5,
      "outputs": [
        {
          "output_type": "stream",
          "name": "stdout",
          "text": [
            "combined_klek.parquet  combined_selfies.parquet\n"
          ]
        }
      ]
    },
    {
      "cell_type": "code",
      "execution_count": 6,
      "id": "a3f411b7",
      "metadata": {
        "colab": {
          "base_uri": "https://localhost:8080/"
        },
        "id": "a3f411b7",
        "outputId": "63a1e790-9095-4cbf-b50d-64e9d822755d"
      },
      "outputs": [
        {
          "output_type": "stream",
          "name": "stdout",
          "text": [
            "Looking in indexes: https://pypi.org/simple, https://us-python.pkg.dev/colab-wheels/public/simple/\n",
            "Collecting fastparquet\n",
            "  Downloading fastparquet-2023.4.0-cp310-cp310-manylinux_2_17_x86_64.manylinux2014_x86_64.whl (1.5 MB)\n",
            "\u001b[2K     \u001b[90m━━━━━━━━━━━━━━━━━━━━━━━━━━━━━━━━━━━━━━━━\u001b[0m \u001b[32m1.5/1.5 MB\u001b[0m \u001b[31m33.3 MB/s\u001b[0m eta \u001b[36m0:00:00\u001b[0m\n",
            "\u001b[?25hRequirement already satisfied: pandas>=1.5.0 in /usr/local/lib/python3.10/dist-packages (from fastparquet) (1.5.3)\n",
            "Requirement already satisfied: numpy>=1.20.3 in /usr/local/lib/python3.10/dist-packages (from fastparquet) (1.22.4)\n",
            "Collecting cramjam>=2.3 (from fastparquet)\n",
            "  Downloading cramjam-2.6.2-cp310-cp310-manylinux_2_17_x86_64.manylinux2014_x86_64.whl (2.0 MB)\n",
            "\u001b[2K     \u001b[90m━━━━━━━━━━━━━━━━━━━━━━━━━━━━━━━━━━━━━━━━\u001b[0m \u001b[32m2.0/2.0 MB\u001b[0m \u001b[31m96.9 MB/s\u001b[0m eta \u001b[36m0:00:00\u001b[0m\n",
            "\u001b[?25hRequirement already satisfied: fsspec in /usr/local/lib/python3.10/dist-packages (from fastparquet) (2023.4.0)\n",
            "Requirement already satisfied: packaging in /usr/local/lib/python3.10/dist-packages (from fastparquet) (23.1)\n",
            "Requirement already satisfied: python-dateutil>=2.8.1 in /usr/local/lib/python3.10/dist-packages (from pandas>=1.5.0->fastparquet) (2.8.2)\n",
            "Requirement already satisfied: pytz>=2020.1 in /usr/local/lib/python3.10/dist-packages (from pandas>=1.5.0->fastparquet) (2022.7.1)\n",
            "Requirement already satisfied: six>=1.5 in /usr/local/lib/python3.10/dist-packages (from python-dateutil>=2.8.1->pandas>=1.5.0->fastparquet) (1.16.0)\n",
            "Installing collected packages: cramjam, fastparquet\n",
            "Successfully installed cramjam-2.6.2 fastparquet-2023.4.0\n",
            "Looking in indexes: https://pypi.org/simple, https://us-python.pkg.dev/colab-wheels/public/simple/\n",
            "Collecting selfies\n",
            "  Downloading selfies-2.1.1-py3-none-any.whl (35 kB)\n",
            "Installing collected packages: selfies\n",
            "Successfully installed selfies-2.1.1\n"
          ]
        }
      ],
      "source": [
        "!pip install fastparquet\n",
        "!pip install selfies\n",
        "!pip install wandb"
      ]
    },
    {
      "cell_type": "code",
      "source": [
        "import wandb\n",
        "wandb.login()"
      ],
      "metadata": {
        "id": "zB9NXU9E61IK"
      },
      "id": "zB9NXU9E61IK",
      "execution_count": null,
      "outputs": []
    },
    {
      "cell_type": "code",
      "execution_count": 7,
      "id": "8a3fbcdb",
      "metadata": {
        "colab": {
          "base_uri": "https://localhost:8080/"
        },
        "id": "8a3fbcdb",
        "outputId": "523787e0-1a7f-4baf-c68e-30b8c32cb347"
      },
      "outputs": [
        {
          "output_type": "stream",
          "name": "stdout",
          "text": [
            "Pad to len: 119\n"
          ]
        }
      ],
      "source": [
        "import selfies as sf\n",
        "data = pd.read_parquet('/content/drive/My Drive/GRU_data/combined_selfies.parquet')\n",
        "alphabet = sf.get_alphabet_from_selfies(data.selfies)\n",
        "#alphabet.add(\"[nop]\") # [nop] is a special padding symbol\n",
        "alphabet.add(\"[start]\")\n",
        "alphabet.add(\"[end]\")\n",
        "alphabet.add(\"[nop]\")\n",
        "alphabet = list(sorted(alphabet))\n",
        "pad_to_len = max(sf.len_selfies(s) for s in data.selfies) + 10\n",
        "print(\"Pad to len:\", pad_to_len)\n",
        "symbol_to_idx = {s: i for i, s in enumerate(alphabet)}\n",
        "idx2char = {i: s for i, s in enumerate(alphabet)}"
      ]
    },
    {
      "cell_type": "code",
      "execution_count": 8,
      "id": "f55a6d94",
      "metadata": {
        "id": "f55a6d94"
      },
      "outputs": [],
      "source": [
        "import re\n",
        "class SELFIESVectorizer:\n",
        "    def __init__(self, alphabet, pad_to_len=None):\n",
        "        self.alphabet = alphabet\n",
        "        self.char2idx = {s: i for i, s in enumerate(alphabet)}\n",
        "        self.idx2char = {i: s for i, s in enumerate(alphabet)}\n",
        "        self.pad_to_len = pad_to_len\n",
        "    def vectorize(self, selfie, no_special=False):\n",
        "        ''' Vectorize a list of SMILES strings to a numpy array of shape (len(smiles), embed, len(charset))'''\n",
        "        if no_special:\n",
        "            splited = self.split_selfi(selfie)\n",
        "        elif self.pad_to_len is None:\n",
        "            splited = ['[start]'] + self.split_selfi(selfie) + ['[end]']\n",
        "        else:\n",
        "            splited = ['[start]'] + self.split_selfi(selfie) + ['[end]'] + ['[nop]'] * (self.pad_to_len - len(self.split_selfi(selfie)) - 2)\n",
        "        X = np.zeros((len(splited), len(self.alphabet)))\n",
        "        for i in range(len(splited)):\n",
        "            X[i, self.char2idx[splited[i]]] = 1\n",
        "        return X\n",
        "    def devectorize(self, ohe, remove_special=False):\n",
        "        ''' Devectorize a numpy array of shape (len(smiles), embed, len(charset)) to a list of SMILES strings'''\n",
        "        selfie_str = ''\n",
        "        for j in range(ohe.shape[0]):\n",
        "            idx = np.argmax(ohe[j, :])\n",
        "            if remove_special and (self.idx2char[idx] == '[start]' or self.idx2char[idx] == '[end]'):\n",
        "                continue\n",
        "            selfie_str += self.idx2char[idx]\n",
        "        return selfie_str\n",
        "    def idxize(self, selfie, no_special=False):\n",
        "        if no_special:\n",
        "            splited = self.split_selfi(selfie)\n",
        "        else:\n",
        "            splited = ['[start]'] + self.split_selfi(selfie) + ['[end]'] + ['[nop]'] * (self.pad_to_len - len(self.split_selfi(selfie)) - 2)\n",
        "        return np.array([self.char2idx[s] for s in splited])\n",
        "    def deidxize(self, idx):\n",
        "        return \"\".join([self.idx2char[i] for i in idx])\n",
        "    def split_selfi(self, selfie):\n",
        "        pattern = r'(\\[[^\\[\\]]*\\])'\n",
        "        return re.findall(pattern, selfie)"
      ]
    },
    {
      "cell_type": "code",
      "execution_count": 9,
      "id": "70924816",
      "metadata": {
        "id": "70924816"
      },
      "outputs": [],
      "source": [
        "vectorizer = SELFIESVectorizer(alphabet, pad_to_len=pad_to_len)"
      ]
    },
    {
      "cell_type": "code",
      "execution_count": 23,
      "id": "6538d564",
      "metadata": {
        "id": "6538d564"
      },
      "outputs": [],
      "source": [
        "from torch.utils.data import Dataset, DataLoader\n",
        "class GRUDatasetv2(Dataset):\n",
        "    def __init__(self, smiles_fp, selfies, vectorizer):\n",
        "        self.smiles_fp = pd.read_parquet(smiles_fp)\n",
        "        self.selfies = pd.read_parquet(selfies)\n",
        "        # self.X = self.prepare_X(self.smiles_fp)\n",
        "        # self.X = np.array([self.reconstruct_fp(fp) for fp in self.X])\n",
        "        self.selfies= self.prepare_y(self.selfies)\n",
        "        self.vectorizer = vectorizer\n",
        "    def __len__(self):\n",
        "        return len(self.smiles_fp)\n",
        "    def __getitem__(self, idx):\n",
        "        raw_selfie = self.selfies[idx][0]\n",
        "        vectorized_selfie = self.vectorizer.idxize(raw_selfie)\n",
        "        # esentially, we want to predict the next symbol in the SELFIE and offset the target by one makes teaching forcing implicit\n",
        "        vectorized_selfie = vectorized_selfie\n",
        "        raw_X = self.smiles_fp.fps[idx]\n",
        "        X = np.array(eval(raw_X), dtype=int)\n",
        "        X_reconstructed = self.reconstruct_fp(X)\n",
        "\n",
        "        return torch.from_numpy(X_reconstructed).float(), torch.from_numpy(vectorized_selfie).long()\n",
        "\n",
        "    @staticmethod\n",
        "    def prepare_X(smiles_fp):\n",
        "        fps = smiles_fp.fps.apply(eval).apply(lambda x: np.array(x, dtype=int))\n",
        "        return fps\n",
        "    @staticmethod\n",
        "    def prepare_y(selfies):\n",
        "        return selfies.values\n",
        "    @staticmethod\n",
        "    def reconstruct_fp(fp, length=4860):\n",
        "        fp_rec = np.zeros(length)\n",
        "        fp_rec[fp] = 1\n",
        "        return fp_rec"
      ]
    },
    {
      "cell_type": "code",
      "execution_count": 24,
      "id": "062168b4",
      "metadata": {
        "colab": {
          "base_uri": "https://localhost:8080/"
        },
        "id": "062168b4",
        "outputId": "f6882a0f-f439-4738-cba9-6b5ef663f11d"
      },
      "outputs": [
        {
          "output_type": "stream",
          "name": "stdout",
          "text": [
            "Dataset size: 402863\n",
            "Train size: 362576\n",
            "Test size: 40287\n"
          ]
        }
      ],
      "source": [
        "dataset = GRUDatasetv2('/content/drive/My Drive/GRU_data/combined_klek.parquet', '/content/drive/My Drive/GRU_data/combined_selfies.parquet', vectorizer)\n",
        "train_size = int(0.9 * len(dataset))\n",
        "test_size = len(dataset) - train_size\n",
        "train_dataset, test_dataset = torch.utils.data.random_split(dataset, [train_size, test_size])\n",
        "print(\"Dataset size:\", len(dataset))\n",
        "print(\"Train size:\", len(train_dataset))\n",
        "print(\"Test size:\", len(test_dataset))"
      ]
    },
    {
      "cell_type": "code",
      "source": [
        "dataset[0]"
      ],
      "metadata": {
        "colab": {
          "base_uri": "https://localhost:8080/"
        },
        "id": "d-eDoZ0Z5s-_",
        "outputId": "a197b730-e9b3-4fd9-b281-15deecf14a92"
      },
      "id": "d-eDoZ0Z5s-_",
      "execution_count": 25,
      "outputs": [
        {
          "output_type": "execute_result",
          "data": {
            "text/plain": [
              "(tensor([0., 0., 0.,  ..., 0., 0., 0.]),\n",
              " tensor([41, 23, 23,  9, 23,  9, 18, 33, 11, 23,  7, 23, 12, 29, 23,  9, 23,  9,\n",
              "         17,  9, 35,  7, 23, 12,  7, 23, 12, 29,  9, 17, 23, 29, 29, 23,  9, 33,\n",
              "         11, 23,  9, 34, 33,  7, 39, 40, 40, 40, 40, 40, 40, 40, 40, 40, 40, 40,\n",
              "         40, 40, 40, 40, 40, 40, 40, 40, 40, 40, 40, 40, 40, 40, 40, 40, 40, 40,\n",
              "         40, 40, 40, 40, 40, 40, 40, 40, 40, 40, 40, 40, 40, 40, 40, 40, 40, 40,\n",
              "         40, 40, 40, 40, 40, 40, 40, 40, 40, 40, 40, 40, 40, 40, 40, 40, 40, 40,\n",
              "         40, 40, 40, 40, 40, 40, 40, 40, 40, 40, 40]))"
            ]
          },
          "metadata": {},
          "execution_count": 25
        }
      ]
    },
    {
      "cell_type": "markdown",
      "id": "02f39daf",
      "metadata": {
        "id": "02f39daf"
      },
      "source": [
        "# NN architecture"
      ]
    },
    {
      "cell_type": "code",
      "execution_count": 26,
      "id": "8248e95c",
      "metadata": {
        "id": "8248e95c"
      },
      "outputs": [],
      "source": [
        "class EncoderNet(nn.Module):\n",
        "    def __init__(self, fp_size, encoding_size):\n",
        "        super(EncoderNet, self).__init__()\n",
        "        self.relu = nn.ReLU()\n",
        "        self.fc1 = nn.Linear(fp_size, 2048)\n",
        "        self.fc2 = nn.Linear(2048, 1024)\n",
        "        self.fc3 = nn.Linear(1024, 512)\n",
        "        self.fc4 = nn.Linear(512, 256)\n",
        "        self.fc5 = nn.Linear(256, encoding_size)\n",
        "    def forward(self, x):\n",
        "        out = self.relu(self.fc1(x))\n",
        "        out = self.relu(self.fc2(out))\n",
        "        out = self.relu(self.fc3(out))\n",
        "        out = self.relu(self.fc4(out))\n",
        "        out = self.relu(self.fc5(out))\n",
        "        return out\n",
        "\n",
        "\n",
        "class DecoderNet(nn.Module):\n",
        "    def __init__(self, dictionary_size, emb_size, hidden_size, num_layers, drop_prob):\n",
        "        super(DecoderNet, self).__init__()\n",
        "        self.hidden_size = hidden_size\n",
        "        self.num_layers = num_layers\n",
        "        self.drop_prob = drop_prob\n",
        "        # embedding layer [batch_size, seq_len] -> [batch_size, seq_len, emb_size]\n",
        "        self.embedding = nn.Embedding(dictionary_size, emb_size)\n",
        "        # gru layer [batch_size, seq_len, emb_size] -> [batch_size, seq_len, hidden_size]\n",
        "        self.gru = nn.GRU(emb_size, hidden_size, num_layers, dropout=drop_prob, batch_first=True)\n",
        "        # fully connected layer [batch_size, seq_len, hidden_size] -> [batch_size, seq_len, dictionary_size]\n",
        "        self.fc = nn.Linear(hidden_size, dictionary_size)\n",
        "        self.max_len = vectorizer.pad_to_len\n",
        "\n",
        "    def forward(self, input, hidden):\n",
        "        emdedded = self.embedding(input)\n",
        "        prediction, hidden = self.gru(emdedded, hidden)\n",
        "        prediction = self.fc(prediction)\n",
        "        return prediction, hidden\n",
        "\n",
        "\n",
        "    def init_hidden(self, encoded):\n",
        "        return encoded.unsqueeze(0).repeat(self.num_layers, 1, 1).to(device)\n",
        "    \n",
        "class Autoencoder(nn.Module):\n",
        "    def __init__(self, input_size=4860, \n",
        "                 encoding_size=256, \n",
        "                 dictionary_size=len(alphabet), \n",
        "                 emb_size=256, \n",
        "                 hidden_size=256, \n",
        "                 num_layers=2, \n",
        "                 teacher_forcing_ratio=0.5,\n",
        "                 drop_prob=0.2):\n",
        "        super(Autoencoder, self).__init__()\n",
        "        self.encoder = EncoderNet(input_size, encoding_size)\n",
        "        self.decoder = DecoderNet(dictionary_size, emb_size, hidden_size, num_layers, drop_prob)\n",
        "        self.teacher_forcing_ratio = teacher_forcing_ratio\n",
        "\n",
        "    def forward(self, src,trg, teacher_forcing_ratio=None):\n",
        "        teacher_forcing_ratio = self.teacher_forcing_ratio if teacher_forcing_ratio is None else teacher_forcing_ratio\n",
        "        # if in evaluation mode we don't use teacher forcing\n",
        "        if not self.training:\n",
        "            teacher_forcing_ratio = 0\n",
        "        batch_size = src.shape[0]\n",
        "        trg_len = trg.shape[1]\n",
        "        trg_vocab_size = self.decoder.fc.out_features\n",
        "        outputs = []\n",
        "        hidden = self.encoder(src)\n",
        "        hidden = hidden.unsqueeze(0).repeat(self.decoder.num_layers, 1, 1)\n",
        "        input = trg[:, 0].unsqueeze(1)\n",
        "        for t in range(1, trg_len):\n",
        "            output, hidden = self.decoder(input, hidden)\n",
        "            outputs.append(output)\n",
        "            teacher_force = random.random() < teacher_forcing_ratio\n",
        "            top1 = torch.argmax(output, dim=2)\n",
        "            input = trg[:, t].unsqueeze(1) if teacher_force else top1\n",
        "        outputs = torch.cat(outputs, dim=1)\n",
        "        return outputs"
      ]
    },
    {
      "cell_type": "markdown",
      "id": "c3f697df",
      "metadata": {
        "id": "c3f697df"
      },
      "source": [
        "# Training"
      ]
    },
    {
      "cell_type": "markdown",
      "id": "db232dc2",
      "metadata": {
        "id": "db232dc2"
      },
      "source": [
        "## Sweep config"
      ]
    },
    {
      "cell_type": "code",
      "execution_count": 29,
      "id": "e8eabc1b",
      "metadata": {
        "colab": {
          "base_uri": "https://localhost:8080/"
        },
        "id": "e8eabc1b",
        "outputId": "eba2985c-70ff-4289-e883-692bf98e3ed0"
      },
      "outputs": [
        {
          "output_type": "stream",
          "name": "stdout",
          "text": [
            "{'method': 'bayes',\n",
            " 'metric': {'goal': 'minimize', 'name': 'val_loss'},\n",
            " 'parameters': {'batch_size': {'value': 256},\n",
            "                'drop_prob': {'values': [0.0, 0.1, 0.2, 0.3, 0.4, 0.5]},\n",
            "                'emb_size': {'values': [32, 64, 128, 256, 512, 1024]},\n",
            "                'encoding_size': {'values': [32, 64, 128, 256, 512, 1024]},\n",
            "                'epochs': {'value': 20},\n",
            "                'learning_rate': {'distribution': 'uniform',\n",
            "                                  'max': 0.01,\n",
            "                                  'min': 0.0},\n",
            "                'num_layers': {'values': [1, 2, 3, 4, 5]},\n",
            "                'teacher_forcing_ratio': {'values': [0.0,\n",
            "                                                     0.1,\n",
            "                                                     0.2,\n",
            "                                                     0.3,\n",
            "                                                     0.4,\n",
            "                                                     0.5,\n",
            "                                                     0.6,\n",
            "                                                     0.7,\n",
            "                                                     0.8,\n",
            "                                                     0.9,\n",
            "                                                     1.0]}}}\n"
          ]
        }
      ],
      "source": [
        "import pprint\n",
        "sweep_config = {\n",
        "    'method': 'bayes',\n",
        "    }\n",
        "metric = {\n",
        "    'name': 'val_loss',\n",
        "    'goal': 'minimize'   \n",
        "    }\n",
        "\n",
        "sweep_config['metric'] = metric\n",
        "parameters_dict = {\n",
        "    'encoding_size': { 'values': [32, 64, 128, 256, 512, 1024] },\n",
        "    'emb_size': { 'values': [32, 64, 128, 256, 512, 1024] }, \n",
        "    'num_layers': { 'values': [1, 2, 3, 4, 5] },\n",
        "    'teacher_forcing_ratio': { 'values': [0.0, 0.1, 0.2, 0.3, 0.4, 0.5, 0.6, 0.7, 0.8, 0.9, 1.0] }, # 'min': 0.0, 'max': 0.5, 'step': 0.1 },\n",
        "    'drop_prob': { 'values': [0.0, 0.1, 0.2, 0.3, 0.4, 0.5] },\n",
        "    'epochs': { 'value': 20}\n",
        "    }\n",
        "\n",
        "\n",
        "sweep_config['parameters'] = parameters_dict\n",
        "parameters_dict.update({\n",
        "    'learning_rate': {\n",
        "        # a flat distribution between 0 and 0.01\n",
        "        'distribution': 'uniform',\n",
        "        'min': 0.0,\n",
        "        'max': 0.01\n",
        "      },\n",
        "    'batch_size': {\n",
        "        'value': 256\n",
        "      }\n",
        "    })\n",
        "pprint.pprint(sweep_config)"
      ]
    },
    {
      "cell_type": "code",
      "execution_count": 30,
      "id": "2f3ad4d4",
      "metadata": {
        "id": "2f3ad4d4"
      },
      "outputs": [],
      "source": [
        "# sweep id is created only once, then string is used to run the sweep\n",
        "#sweep_id = wandb.sweep(sweep_config, project=\"selfie-autoencoder_v2\")\n",
        "sweep_id = 'jjgazi3d'"
      ]
    },
    {
      "cell_type": "code",
      "execution_count": 33,
      "id": "d61e3a97",
      "metadata": {
        "id": "d61e3a97"
      },
      "outputs": [],
      "source": [
        "from tqdm.notebook import tqdm\n",
        "\n",
        "def train_hyper(config=None):\n",
        "    # Initialize a new wandb run\n",
        "    with wandb.init(config=config):\n",
        "        # Config is a variable that holds and saves hyperparameters and inputs\n",
        "        config = wandb.config\n",
        "        # Define model, optimizer, and loss function\n",
        "        autoencoder = Autoencoder(encoding_size=config.encoding_size, \n",
        "                                  emb_size=config.emb_size, \n",
        "                                  hidden_size=config.encoding_size,\n",
        "                                  num_layers=config.num_layers, \n",
        "                                    teacher_forcing_ratio=config.teacher_forcing_ratio,\n",
        "                                  drop_prob=config.drop_prob).to(device)\n",
        "        dataloader = DataLoader(train_dataset, shuffle=True, batch_size=config.batch_size, drop_last=True)\n",
        "        val_dataloader = DataLoader(test_dataset, shuffle=False, batch_size=config.batch_size, drop_last=True)\n",
        "        for i in tqdm(range(config.epochs)):\n",
        "            avg_loss = train_epoch(autoencoder, dataloader, config.learning_rate)\n",
        "            val_loss, table = evaluate(autoencoder, val_dataloader)\n",
        "            wandb.log({'epoch': i, 'loss': avg_loss})\n",
        "            wandb.log({'epoch': i, 'val_loss': val_loss})\n",
        "            wandb.log({'epoch': i, 'table': table})\n",
        "\n",
        "\n",
        "def train_epoch(autoencoder, dataloader, learning_rate):\n",
        "    autoencoder.train()\n",
        "    criterion = nn.CrossEntropyLoss(ignore_index=vectorizer.char2idx['[nop]'])\n",
        "    optimizer = optim.Adam(autoencoder.parameters(), lr=learning_rate)\n",
        "    epoch_loss = 0\n",
        "    for batch_idx, (src, trg) in enumerate(tqdm(dataloader)):\n",
        "        src = src.to(device)\n",
        "        trg = trg.to(device)\n",
        "        optimizer.zero_grad()\n",
        "        output = autoencoder(src, trg)\n",
        "        trg = trg[:, 1:]\n",
        "        output = output.permute(0, 2, 1)\n",
        "        loss = criterion(output, trg)\n",
        "        loss.backward()\n",
        "        optimizer.step()\n",
        "        epoch_loss += loss.item()\n",
        "        wandb.log({'batch_loss': loss.item()})\n",
        "    avg_loss = epoch_loss / len(dataloader)\n",
        "\n",
        "    return avg_loss\n",
        "\n",
        "def evaluate(autoencoder, dataloader):\n",
        "    autoencoder.eval()\n",
        "    criterion = nn.CrossEntropyLoss(ignore_index=vectorizer.char2idx['[nop]'])\n",
        "    epoch_loss = 0\n",
        "    for batch_idx, (src, trg) in enumerate(tqdm(dataloader)):\n",
        "        src = src.to(device)\n",
        "        trg = trg.to(device)\n",
        "        output = autoencoder(src, trg)\n",
        "        trg = trg[:, 1:]\n",
        "        output = output.permute(0, 2, 1)\n",
        "        loss = criterion(output, trg)\n",
        "        epoch_loss += loss.item()\n",
        "    avg_loss = epoch_loss / len(dataloader)\n",
        "    with torch.no_grad():\n",
        "                visual_examples_src, visual_examples_trg = next(iter(dataloader))\n",
        "                visual_examples_src = visual_examples_src.to(device)[:5]\n",
        "                visual_examples_trg = visual_examples_trg.to(device)[:5]\n",
        "                visual_examples_outputs = autoencoder(visual_examples_src, visual_examples_trg)\n",
        "                visual_examples_outputs = visual_examples_outputs.permute(0, 2, 1)\n",
        "                visual_examples_outputs = torch.argmax(visual_examples_outputs, dim=1)\n",
        "                visual_examples_outputs = visual_examples_outputs.cpu().numpy()\n",
        "                visual_examples_outputs = np.array([vectorizer.deidxize(o) for o in visual_examples_outputs])\n",
        "                visual_examples_trg = visual_examples_trg.cpu().numpy()\n",
        "                visual_examples_trg = np.array([vectorizer.deidxize(o) for o in visual_examples_trg])\n",
        "                #log visual examples as table to wandb\n",
        "                data = [[src, trg] for src, trg in zip(visual_examples_trg, visual_examples_outputs)]\n",
        "                table = wandb.Table(data=data, columns = [\"Target\", \"Output\"])\n",
        "                     \n",
        "    return avg_loss, table\n"
      ]
    },
    {
      "cell_type": "code",
      "execution_count": null,
      "id": "6092af90",
      "metadata": {
        "colab": {
          "base_uri": "https://localhost:8080/",
          "height": 359,
          "referenced_widgets": [
            "a7900edb5f5e43a0bad4895a0816a260",
            "d5d32ff896a34f4090b91d47c6364bab",
            "bba3b949fd904f5c897eb77a8ab10a47",
            "31d1d79a812a4d59ac8f98166ce6f6ba",
            "884b7d1fe0e04ab28c201499365f4d57",
            "7942696fc6664c938bd467787a2d9157",
            "5f1d98d9005b41129db9c5d8dd9dd02d",
            "bb2cbbb1988a4bbdbab93e2927115779",
            "787701f8b6e34807833150d7177b7d0d",
            "01c36c6b98384e959524fd813a95a5dc",
            "4dde89a875324d18ab9d3a351539cd36",
            "fbd8791881ba4823969e80aefaf3028a",
            "cc79b5d5eee2450db4ba4bb41b0fb630",
            "a4950d85cd344a6893d4dbc5b6e55a1e",
            "533fba49bb2346a0abcd1cd31b9f076f",
            "3936272dd6c34b77b6ef07472b212d5e",
            "72c8f4c389c14d6bbe936b113cca424c",
            "7202b9dd8b2643fc8d575f4f54932f2b",
            "2c38bdd8a790407b90f33d6be4271d52",
            "59724c2d734c41c3bf8a337be5584e18",
            "af93720749d24a3a936ad39ae3826c05",
            "e479f923023c4fde88fd769b8a9ef993"
          ]
        },
        "id": "6092af90",
        "outputId": "ad5d7f50-5e0c-4e97-e1a3-19bd2bf3e223"
      },
      "outputs": [
        {
          "output_type": "stream",
          "name": "stderr",
          "text": [
            "\u001b[34m\u001b[1mwandb\u001b[0m: Agent Starting Run: w0ckgr95 with config:\n",
            "\u001b[34m\u001b[1mwandb\u001b[0m: \tbatch_size: 256\n",
            "\u001b[34m\u001b[1mwandb\u001b[0m: \tdrop_prob: 0.2\n",
            "\u001b[34m\u001b[1mwandb\u001b[0m: \temb_size: 1024\n",
            "\u001b[34m\u001b[1mwandb\u001b[0m: \tencoding_size: 256\n",
            "\u001b[34m\u001b[1mwandb\u001b[0m: \tepochs: 20\n",
            "\u001b[34m\u001b[1mwandb\u001b[0m: \tlearning_rate: 0.0016753022544623631\n",
            "\u001b[34m\u001b[1mwandb\u001b[0m: \tnum_layers: 2\n",
            "\u001b[34m\u001b[1mwandb\u001b[0m: \tteacher_forcing_ratio: 0.7\n"
          ]
        },
        {
          "output_type": "display_data",
          "data": {
            "text/plain": [
              "<IPython.core.display.HTML object>"
            ],
            "text/html": [
              "Tracking run with wandb version 0.15.3"
            ]
          },
          "metadata": {}
        },
        {
          "output_type": "display_data",
          "data": {
            "text/plain": [
              "<IPython.core.display.HTML object>"
            ],
            "text/html": [
              "Run data is saved locally in <code>/content/wandb/run-20230602_163146-w0ckgr95</code>"
            ]
          },
          "metadata": {}
        },
        {
          "output_type": "display_data",
          "data": {
            "text/plain": [
              "<IPython.core.display.HTML object>"
            ],
            "text/html": [
              "Syncing run <strong><a href='https://wandb.ai/mldd23/selfie-autoencoder_v2/runs/w0ckgr95' target=\"_blank\">curious-sweep-6</a></strong> to <a href='https://wandb.ai/mldd23/selfie-autoencoder_v2' target=\"_blank\">Weights & Biases</a> (<a href='https://wandb.me/run' target=\"_blank\">docs</a>)<br/>Sweep page: <a href='https://wandb.ai/mldd23/selfie-autoencoder_v2/sweeps/jjgazi3d' target=\"_blank\">https://wandb.ai/mldd23/selfie-autoencoder_v2/sweeps/jjgazi3d</a>"
            ]
          },
          "metadata": {}
        },
        {
          "output_type": "display_data",
          "data": {
            "text/plain": [
              "<IPython.core.display.HTML object>"
            ],
            "text/html": [
              " View project at <a href='https://wandb.ai/mldd23/selfie-autoencoder_v2' target=\"_blank\">https://wandb.ai/mldd23/selfie-autoencoder_v2</a>"
            ]
          },
          "metadata": {}
        },
        {
          "output_type": "display_data",
          "data": {
            "text/plain": [
              "<IPython.core.display.HTML object>"
            ],
            "text/html": [
              " View sweep at <a href='https://wandb.ai/mldd23/selfie-autoencoder_v2/sweeps/jjgazi3d' target=\"_blank\">https://wandb.ai/mldd23/selfie-autoencoder_v2/sweeps/jjgazi3d</a>"
            ]
          },
          "metadata": {}
        },
        {
          "output_type": "display_data",
          "data": {
            "text/plain": [
              "<IPython.core.display.HTML object>"
            ],
            "text/html": [
              " View run at <a href='https://wandb.ai/mldd23/selfie-autoencoder_v2/runs/w0ckgr95' target=\"_blank\">https://wandb.ai/mldd23/selfie-autoencoder_v2/runs/w0ckgr95</a>"
            ]
          },
          "metadata": {}
        },
        {
          "output_type": "display_data",
          "data": {
            "text/plain": [
              "  0%|          | 0/20 [00:00<?, ?it/s]"
            ],
            "application/vnd.jupyter.widget-view+json": {
              "version_major": 2,
              "version_minor": 0,
              "model_id": "a7900edb5f5e43a0bad4895a0816a260"
            }
          },
          "metadata": {}
        },
        {
          "output_type": "display_data",
          "data": {
            "text/plain": [
              "  0%|          | 0/1416 [00:00<?, ?it/s]"
            ],
            "application/vnd.jupyter.widget-view+json": {
              "version_major": 2,
              "version_minor": 0,
              "model_id": "fbd8791881ba4823969e80aefaf3028a"
            }
          },
          "metadata": {}
        }
      ],
      "source": [
        "wandb.agent(sweep_id,project=\"selfie-autoencoder_v2\", function=train_hyper, count=2)"
      ]
    }
  ],
  "metadata": {
    "kernelspec": {
      "display_name": "Python 3",
      "name": "python3"
    },
    "language_info": {
      "codemirror_mode": {
        "name": "ipython",
        "version": 3
      },
      "file_extension": ".py",
      "mimetype": "text/x-python",
      "name": "python",
      "nbconvert_exporter": "python",
      "pygments_lexer": "ipython3",
      "version": "3.8.16"
    },
    "colab": {
      "provenance": [],
      "gpuType": "T4",
      "include_colab_link": true
    },
    "accelerator": "GPU",
    "widgets": {
      "application/vnd.jupyter.widget-state+json": {
        "a7900edb5f5e43a0bad4895a0816a260": {
          "model_module": "@jupyter-widgets/controls",
          "model_name": "HBoxModel",
          "model_module_version": "1.5.0",
          "state": {
            "_dom_classes": [],
            "_model_module": "@jupyter-widgets/controls",
            "_model_module_version": "1.5.0",
            "_model_name": "HBoxModel",
            "_view_count": null,
            "_view_module": "@jupyter-widgets/controls",
            "_view_module_version": "1.5.0",
            "_view_name": "HBoxView",
            "box_style": "",
            "children": [
              "IPY_MODEL_d5d32ff896a34f4090b91d47c6364bab",
              "IPY_MODEL_bba3b949fd904f5c897eb77a8ab10a47",
              "IPY_MODEL_31d1d79a812a4d59ac8f98166ce6f6ba"
            ],
            "layout": "IPY_MODEL_884b7d1fe0e04ab28c201499365f4d57"
          }
        },
        "d5d32ff896a34f4090b91d47c6364bab": {
          "model_module": "@jupyter-widgets/controls",
          "model_name": "HTMLModel",
          "model_module_version": "1.5.0",
          "state": {
            "_dom_classes": [],
            "_model_module": "@jupyter-widgets/controls",
            "_model_module_version": "1.5.0",
            "_model_name": "HTMLModel",
            "_view_count": null,
            "_view_module": "@jupyter-widgets/controls",
            "_view_module_version": "1.5.0",
            "_view_name": "HTMLView",
            "description": "",
            "description_tooltip": null,
            "layout": "IPY_MODEL_7942696fc6664c938bd467787a2d9157",
            "placeholder": "​",
            "style": "IPY_MODEL_5f1d98d9005b41129db9c5d8dd9dd02d",
            "value": "  0%"
          }
        },
        "bba3b949fd904f5c897eb77a8ab10a47": {
          "model_module": "@jupyter-widgets/controls",
          "model_name": "FloatProgressModel",
          "model_module_version": "1.5.0",
          "state": {
            "_dom_classes": [],
            "_model_module": "@jupyter-widgets/controls",
            "_model_module_version": "1.5.0",
            "_model_name": "FloatProgressModel",
            "_view_count": null,
            "_view_module": "@jupyter-widgets/controls",
            "_view_module_version": "1.5.0",
            "_view_name": "ProgressView",
            "bar_style": "",
            "description": "",
            "description_tooltip": null,
            "layout": "IPY_MODEL_bb2cbbb1988a4bbdbab93e2927115779",
            "max": 20,
            "min": 0,
            "orientation": "horizontal",
            "style": "IPY_MODEL_787701f8b6e34807833150d7177b7d0d",
            "value": 0
          }
        },
        "31d1d79a812a4d59ac8f98166ce6f6ba": {
          "model_module": "@jupyter-widgets/controls",
          "model_name": "HTMLModel",
          "model_module_version": "1.5.0",
          "state": {
            "_dom_classes": [],
            "_model_module": "@jupyter-widgets/controls",
            "_model_module_version": "1.5.0",
            "_model_name": "HTMLModel",
            "_view_count": null,
            "_view_module": "@jupyter-widgets/controls",
            "_view_module_version": "1.5.0",
            "_view_name": "HTMLView",
            "description": "",
            "description_tooltip": null,
            "layout": "IPY_MODEL_01c36c6b98384e959524fd813a95a5dc",
            "placeholder": "​",
            "style": "IPY_MODEL_4dde89a875324d18ab9d3a351539cd36",
            "value": " 0/20 [00:00&lt;?, ?it/s]"
          }
        },
        "884b7d1fe0e04ab28c201499365f4d57": {
          "model_module": "@jupyter-widgets/base",
          "model_name": "LayoutModel",
          "model_module_version": "1.2.0",
          "state": {
            "_model_module": "@jupyter-widgets/base",
            "_model_module_version": "1.2.0",
            "_model_name": "LayoutModel",
            "_view_count": null,
            "_view_module": "@jupyter-widgets/base",
            "_view_module_version": "1.2.0",
            "_view_name": "LayoutView",
            "align_content": null,
            "align_items": null,
            "align_self": null,
            "border": null,
            "bottom": null,
            "display": null,
            "flex": null,
            "flex_flow": null,
            "grid_area": null,
            "grid_auto_columns": null,
            "grid_auto_flow": null,
            "grid_auto_rows": null,
            "grid_column": null,
            "grid_gap": null,
            "grid_row": null,
            "grid_template_areas": null,
            "grid_template_columns": null,
            "grid_template_rows": null,
            "height": null,
            "justify_content": null,
            "justify_items": null,
            "left": null,
            "margin": null,
            "max_height": null,
            "max_width": null,
            "min_height": null,
            "min_width": null,
            "object_fit": null,
            "object_position": null,
            "order": null,
            "overflow": null,
            "overflow_x": null,
            "overflow_y": null,
            "padding": null,
            "right": null,
            "top": null,
            "visibility": null,
            "width": null
          }
        },
        "7942696fc6664c938bd467787a2d9157": {
          "model_module": "@jupyter-widgets/base",
          "model_name": "LayoutModel",
          "model_module_version": "1.2.0",
          "state": {
            "_model_module": "@jupyter-widgets/base",
            "_model_module_version": "1.2.0",
            "_model_name": "LayoutModel",
            "_view_count": null,
            "_view_module": "@jupyter-widgets/base",
            "_view_module_version": "1.2.0",
            "_view_name": "LayoutView",
            "align_content": null,
            "align_items": null,
            "align_self": null,
            "border": null,
            "bottom": null,
            "display": null,
            "flex": null,
            "flex_flow": null,
            "grid_area": null,
            "grid_auto_columns": null,
            "grid_auto_flow": null,
            "grid_auto_rows": null,
            "grid_column": null,
            "grid_gap": null,
            "grid_row": null,
            "grid_template_areas": null,
            "grid_template_columns": null,
            "grid_template_rows": null,
            "height": null,
            "justify_content": null,
            "justify_items": null,
            "left": null,
            "margin": null,
            "max_height": null,
            "max_width": null,
            "min_height": null,
            "min_width": null,
            "object_fit": null,
            "object_position": null,
            "order": null,
            "overflow": null,
            "overflow_x": null,
            "overflow_y": null,
            "padding": null,
            "right": null,
            "top": null,
            "visibility": null,
            "width": null
          }
        },
        "5f1d98d9005b41129db9c5d8dd9dd02d": {
          "model_module": "@jupyter-widgets/controls",
          "model_name": "DescriptionStyleModel",
          "model_module_version": "1.5.0",
          "state": {
            "_model_module": "@jupyter-widgets/controls",
            "_model_module_version": "1.5.0",
            "_model_name": "DescriptionStyleModel",
            "_view_count": null,
            "_view_module": "@jupyter-widgets/base",
            "_view_module_version": "1.2.0",
            "_view_name": "StyleView",
            "description_width": ""
          }
        },
        "bb2cbbb1988a4bbdbab93e2927115779": {
          "model_module": "@jupyter-widgets/base",
          "model_name": "LayoutModel",
          "model_module_version": "1.2.0",
          "state": {
            "_model_module": "@jupyter-widgets/base",
            "_model_module_version": "1.2.0",
            "_model_name": "LayoutModel",
            "_view_count": null,
            "_view_module": "@jupyter-widgets/base",
            "_view_module_version": "1.2.0",
            "_view_name": "LayoutView",
            "align_content": null,
            "align_items": null,
            "align_self": null,
            "border": null,
            "bottom": null,
            "display": null,
            "flex": null,
            "flex_flow": null,
            "grid_area": null,
            "grid_auto_columns": null,
            "grid_auto_flow": null,
            "grid_auto_rows": null,
            "grid_column": null,
            "grid_gap": null,
            "grid_row": null,
            "grid_template_areas": null,
            "grid_template_columns": null,
            "grid_template_rows": null,
            "height": null,
            "justify_content": null,
            "justify_items": null,
            "left": null,
            "margin": null,
            "max_height": null,
            "max_width": null,
            "min_height": null,
            "min_width": null,
            "object_fit": null,
            "object_position": null,
            "order": null,
            "overflow": null,
            "overflow_x": null,
            "overflow_y": null,
            "padding": null,
            "right": null,
            "top": null,
            "visibility": null,
            "width": null
          }
        },
        "787701f8b6e34807833150d7177b7d0d": {
          "model_module": "@jupyter-widgets/controls",
          "model_name": "ProgressStyleModel",
          "model_module_version": "1.5.0",
          "state": {
            "_model_module": "@jupyter-widgets/controls",
            "_model_module_version": "1.5.0",
            "_model_name": "ProgressStyleModel",
            "_view_count": null,
            "_view_module": "@jupyter-widgets/base",
            "_view_module_version": "1.2.0",
            "_view_name": "StyleView",
            "bar_color": null,
            "description_width": ""
          }
        },
        "01c36c6b98384e959524fd813a95a5dc": {
          "model_module": "@jupyter-widgets/base",
          "model_name": "LayoutModel",
          "model_module_version": "1.2.0",
          "state": {
            "_model_module": "@jupyter-widgets/base",
            "_model_module_version": "1.2.0",
            "_model_name": "LayoutModel",
            "_view_count": null,
            "_view_module": "@jupyter-widgets/base",
            "_view_module_version": "1.2.0",
            "_view_name": "LayoutView",
            "align_content": null,
            "align_items": null,
            "align_self": null,
            "border": null,
            "bottom": null,
            "display": null,
            "flex": null,
            "flex_flow": null,
            "grid_area": null,
            "grid_auto_columns": null,
            "grid_auto_flow": null,
            "grid_auto_rows": null,
            "grid_column": null,
            "grid_gap": null,
            "grid_row": null,
            "grid_template_areas": null,
            "grid_template_columns": null,
            "grid_template_rows": null,
            "height": null,
            "justify_content": null,
            "justify_items": null,
            "left": null,
            "margin": null,
            "max_height": null,
            "max_width": null,
            "min_height": null,
            "min_width": null,
            "object_fit": null,
            "object_position": null,
            "order": null,
            "overflow": null,
            "overflow_x": null,
            "overflow_y": null,
            "padding": null,
            "right": null,
            "top": null,
            "visibility": null,
            "width": null
          }
        },
        "4dde89a875324d18ab9d3a351539cd36": {
          "model_module": "@jupyter-widgets/controls",
          "model_name": "DescriptionStyleModel",
          "model_module_version": "1.5.0",
          "state": {
            "_model_module": "@jupyter-widgets/controls",
            "_model_module_version": "1.5.0",
            "_model_name": "DescriptionStyleModel",
            "_view_count": null,
            "_view_module": "@jupyter-widgets/base",
            "_view_module_version": "1.2.0",
            "_view_name": "StyleView",
            "description_width": ""
          }
        },
        "fbd8791881ba4823969e80aefaf3028a": {
          "model_module": "@jupyter-widgets/controls",
          "model_name": "HBoxModel",
          "model_module_version": "1.5.0",
          "state": {
            "_dom_classes": [],
            "_model_module": "@jupyter-widgets/controls",
            "_model_module_version": "1.5.0",
            "_model_name": "HBoxModel",
            "_view_count": null,
            "_view_module": "@jupyter-widgets/controls",
            "_view_module_version": "1.5.0",
            "_view_name": "HBoxView",
            "box_style": "",
            "children": [
              "IPY_MODEL_cc79b5d5eee2450db4ba4bb41b0fb630",
              "IPY_MODEL_a4950d85cd344a6893d4dbc5b6e55a1e",
              "IPY_MODEL_533fba49bb2346a0abcd1cd31b9f076f"
            ],
            "layout": "IPY_MODEL_3936272dd6c34b77b6ef07472b212d5e"
          }
        },
        "cc79b5d5eee2450db4ba4bb41b0fb630": {
          "model_module": "@jupyter-widgets/controls",
          "model_name": "HTMLModel",
          "model_module_version": "1.5.0",
          "state": {
            "_dom_classes": [],
            "_model_module": "@jupyter-widgets/controls",
            "_model_module_version": "1.5.0",
            "_model_name": "HTMLModel",
            "_view_count": null,
            "_view_module": "@jupyter-widgets/controls",
            "_view_module_version": "1.5.0",
            "_view_name": "HTMLView",
            "description": "",
            "description_tooltip": null,
            "layout": "IPY_MODEL_72c8f4c389c14d6bbe936b113cca424c",
            "placeholder": "​",
            "style": "IPY_MODEL_7202b9dd8b2643fc8d575f4f54932f2b",
            "value": " 97%"
          }
        },
        "a4950d85cd344a6893d4dbc5b6e55a1e": {
          "model_module": "@jupyter-widgets/controls",
          "model_name": "FloatProgressModel",
          "model_module_version": "1.5.0",
          "state": {
            "_dom_classes": [],
            "_model_module": "@jupyter-widgets/controls",
            "_model_module_version": "1.5.0",
            "_model_name": "FloatProgressModel",
            "_view_count": null,
            "_view_module": "@jupyter-widgets/controls",
            "_view_module_version": "1.5.0",
            "_view_name": "ProgressView",
            "bar_style": "",
            "description": "",
            "description_tooltip": null,
            "layout": "IPY_MODEL_2c38bdd8a790407b90f33d6be4271d52",
            "max": 1416,
            "min": 0,
            "orientation": "horizontal",
            "style": "IPY_MODEL_59724c2d734c41c3bf8a337be5584e18",
            "value": 1376
          }
        },
        "533fba49bb2346a0abcd1cd31b9f076f": {
          "model_module": "@jupyter-widgets/controls",
          "model_name": "HTMLModel",
          "model_module_version": "1.5.0",
          "state": {
            "_dom_classes": [],
            "_model_module": "@jupyter-widgets/controls",
            "_model_module_version": "1.5.0",
            "_model_name": "HTMLModel",
            "_view_count": null,
            "_view_module": "@jupyter-widgets/controls",
            "_view_module_version": "1.5.0",
            "_view_name": "HTMLView",
            "description": "",
            "description_tooltip": null,
            "layout": "IPY_MODEL_af93720749d24a3a936ad39ae3826c05",
            "placeholder": "​",
            "style": "IPY_MODEL_e479f923023c4fde88fd769b8a9ef993",
            "value": " 1376/1416 [04:52&lt;00:07,  5.27it/s]"
          }
        },
        "3936272dd6c34b77b6ef07472b212d5e": {
          "model_module": "@jupyter-widgets/base",
          "model_name": "LayoutModel",
          "model_module_version": "1.2.0",
          "state": {
            "_model_module": "@jupyter-widgets/base",
            "_model_module_version": "1.2.0",
            "_model_name": "LayoutModel",
            "_view_count": null,
            "_view_module": "@jupyter-widgets/base",
            "_view_module_version": "1.2.0",
            "_view_name": "LayoutView",
            "align_content": null,
            "align_items": null,
            "align_self": null,
            "border": null,
            "bottom": null,
            "display": null,
            "flex": null,
            "flex_flow": null,
            "grid_area": null,
            "grid_auto_columns": null,
            "grid_auto_flow": null,
            "grid_auto_rows": null,
            "grid_column": null,
            "grid_gap": null,
            "grid_row": null,
            "grid_template_areas": null,
            "grid_template_columns": null,
            "grid_template_rows": null,
            "height": null,
            "justify_content": null,
            "justify_items": null,
            "left": null,
            "margin": null,
            "max_height": null,
            "max_width": null,
            "min_height": null,
            "min_width": null,
            "object_fit": null,
            "object_position": null,
            "order": null,
            "overflow": null,
            "overflow_x": null,
            "overflow_y": null,
            "padding": null,
            "right": null,
            "top": null,
            "visibility": null,
            "width": null
          }
        },
        "72c8f4c389c14d6bbe936b113cca424c": {
          "model_module": "@jupyter-widgets/base",
          "model_name": "LayoutModel",
          "model_module_version": "1.2.0",
          "state": {
            "_model_module": "@jupyter-widgets/base",
            "_model_module_version": "1.2.0",
            "_model_name": "LayoutModel",
            "_view_count": null,
            "_view_module": "@jupyter-widgets/base",
            "_view_module_version": "1.2.0",
            "_view_name": "LayoutView",
            "align_content": null,
            "align_items": null,
            "align_self": null,
            "border": null,
            "bottom": null,
            "display": null,
            "flex": null,
            "flex_flow": null,
            "grid_area": null,
            "grid_auto_columns": null,
            "grid_auto_flow": null,
            "grid_auto_rows": null,
            "grid_column": null,
            "grid_gap": null,
            "grid_row": null,
            "grid_template_areas": null,
            "grid_template_columns": null,
            "grid_template_rows": null,
            "height": null,
            "justify_content": null,
            "justify_items": null,
            "left": null,
            "margin": null,
            "max_height": null,
            "max_width": null,
            "min_height": null,
            "min_width": null,
            "object_fit": null,
            "object_position": null,
            "order": null,
            "overflow": null,
            "overflow_x": null,
            "overflow_y": null,
            "padding": null,
            "right": null,
            "top": null,
            "visibility": null,
            "width": null
          }
        },
        "7202b9dd8b2643fc8d575f4f54932f2b": {
          "model_module": "@jupyter-widgets/controls",
          "model_name": "DescriptionStyleModel",
          "model_module_version": "1.5.0",
          "state": {
            "_model_module": "@jupyter-widgets/controls",
            "_model_module_version": "1.5.0",
            "_model_name": "DescriptionStyleModel",
            "_view_count": null,
            "_view_module": "@jupyter-widgets/base",
            "_view_module_version": "1.2.0",
            "_view_name": "StyleView",
            "description_width": ""
          }
        },
        "2c38bdd8a790407b90f33d6be4271d52": {
          "model_module": "@jupyter-widgets/base",
          "model_name": "LayoutModel",
          "model_module_version": "1.2.0",
          "state": {
            "_model_module": "@jupyter-widgets/base",
            "_model_module_version": "1.2.0",
            "_model_name": "LayoutModel",
            "_view_count": null,
            "_view_module": "@jupyter-widgets/base",
            "_view_module_version": "1.2.0",
            "_view_name": "LayoutView",
            "align_content": null,
            "align_items": null,
            "align_self": null,
            "border": null,
            "bottom": null,
            "display": null,
            "flex": null,
            "flex_flow": null,
            "grid_area": null,
            "grid_auto_columns": null,
            "grid_auto_flow": null,
            "grid_auto_rows": null,
            "grid_column": null,
            "grid_gap": null,
            "grid_row": null,
            "grid_template_areas": null,
            "grid_template_columns": null,
            "grid_template_rows": null,
            "height": null,
            "justify_content": null,
            "justify_items": null,
            "left": null,
            "margin": null,
            "max_height": null,
            "max_width": null,
            "min_height": null,
            "min_width": null,
            "object_fit": null,
            "object_position": null,
            "order": null,
            "overflow": null,
            "overflow_x": null,
            "overflow_y": null,
            "padding": null,
            "right": null,
            "top": null,
            "visibility": null,
            "width": null
          }
        },
        "59724c2d734c41c3bf8a337be5584e18": {
          "model_module": "@jupyter-widgets/controls",
          "model_name": "ProgressStyleModel",
          "model_module_version": "1.5.0",
          "state": {
            "_model_module": "@jupyter-widgets/controls",
            "_model_module_version": "1.5.0",
            "_model_name": "ProgressStyleModel",
            "_view_count": null,
            "_view_module": "@jupyter-widgets/base",
            "_view_module_version": "1.2.0",
            "_view_name": "StyleView",
            "bar_color": null,
            "description_width": ""
          }
        },
        "af93720749d24a3a936ad39ae3826c05": {
          "model_module": "@jupyter-widgets/base",
          "model_name": "LayoutModel",
          "model_module_version": "1.2.0",
          "state": {
            "_model_module": "@jupyter-widgets/base",
            "_model_module_version": "1.2.0",
            "_model_name": "LayoutModel",
            "_view_count": null,
            "_view_module": "@jupyter-widgets/base",
            "_view_module_version": "1.2.0",
            "_view_name": "LayoutView",
            "align_content": null,
            "align_items": null,
            "align_self": null,
            "border": null,
            "bottom": null,
            "display": null,
            "flex": null,
            "flex_flow": null,
            "grid_area": null,
            "grid_auto_columns": null,
            "grid_auto_flow": null,
            "grid_auto_rows": null,
            "grid_column": null,
            "grid_gap": null,
            "grid_row": null,
            "grid_template_areas": null,
            "grid_template_columns": null,
            "grid_template_rows": null,
            "height": null,
            "justify_content": null,
            "justify_items": null,
            "left": null,
            "margin": null,
            "max_height": null,
            "max_width": null,
            "min_height": null,
            "min_width": null,
            "object_fit": null,
            "object_position": null,
            "order": null,
            "overflow": null,
            "overflow_x": null,
            "overflow_y": null,
            "padding": null,
            "right": null,
            "top": null,
            "visibility": null,
            "width": null
          }
        },
        "e479f923023c4fde88fd769b8a9ef993": {
          "model_module": "@jupyter-widgets/controls",
          "model_name": "DescriptionStyleModel",
          "model_module_version": "1.5.0",
          "state": {
            "_model_module": "@jupyter-widgets/controls",
            "_model_module_version": "1.5.0",
            "_model_name": "DescriptionStyleModel",
            "_view_count": null,
            "_view_module": "@jupyter-widgets/base",
            "_view_module_version": "1.2.0",
            "_view_name": "StyleView",
            "description_width": ""
          }
        }
      }
    }
  },
  "nbformat": 4,
  "nbformat_minor": 5
}