{
  "cells": [
    {
      "cell_type": "markdown",
      "metadata": {
        "id": "view-in-github",
        "colab_type": "text"
      },
      "source": [
        "<a href=\"https://colab.research.google.com/github/asiomchen/mldd23_project1/blob/colab_setup/train_colab_v2.ipynb\" target=\"_parent\"><img src=\"https://colab.research.google.com/assets/colab-badge.svg\" alt=\"Open In Colab\"/></a>"
      ]
    },
    {
      "cell_type": "code",
      "execution_count": 2,
      "id": "6ef6f3f5",
      "metadata": {
        "colab": {
          "base_uri": "https://localhost:8080/"
        },
        "id": "6ef6f3f5",
        "outputId": "b5c207c9-1b0a-4b48-ada8-3b09abb7f4ae"
      },
      "outputs": [
        {
          "output_type": "stream",
          "name": "stdout",
          "text": [
            "cuda\n"
          ]
        }
      ],
      "source": [
        "import torch\n",
        "import torch.nn as nn\n",
        "import torch.optim as optim\n",
        "import torch.utils.data as data_utils\n",
        "import torch.functional as F\n",
        "import numpy as np\n",
        "import pandas as pd\n",
        "import random\n",
        "from tqdm import tqdm_notebook\n",
        "\n",
        "device = torch.device('cuda' if torch.cuda.is_available() else 'cpu')\n",
        "print(device)"
      ]
    },
    {
      "cell_type": "markdown",
      "id": "f16dfcb1",
      "metadata": {
        "id": "f16dfcb1"
      },
      "source": [
        "# Data prep"
      ]
    },
    {
      "cell_type": "code",
      "execution_count": 3,
      "id": "57c855d2",
      "metadata": {
        "colab": {
          "base_uri": "https://localhost:8080/"
        },
        "id": "57c855d2",
        "outputId": "f4905fab-3b60-4699-d7f0-47a8abbca91a"
      },
      "outputs": [
        {
          "output_type": "stream",
          "name": "stdout",
          "text": [
            "Mounted at /content/drive\n"
          ]
        }
      ],
      "source": [
        "#somehow load two parquet files into colab - drive?\n",
        "from google.colab import drive\n",
        "\n",
        "drive.mount('/content/drive', force_remount=True)"
      ]
    },
    {
      "cell_type": "code",
      "source": [
        "!ls '/content/drive/My Drive/GRU_data'"
      ],
      "metadata": {
        "colab": {
          "base_uri": "https://localhost:8080/"
        },
        "id": "01XDncKE3fuj",
        "outputId": "c60f11a2-21ea-467e-d29b-3228923e8b82"
      },
      "id": "01XDncKE3fuj",
      "execution_count": 5,
      "outputs": [
        {
          "output_type": "stream",
          "name": "stdout",
          "text": [
            "combined_klek.parquet  combined_selfies.parquet\n"
          ]
        }
      ]
    },
    {
      "cell_type": "code",
      "execution_count": 6,
      "id": "a3f411b7",
      "metadata": {
        "colab": {
          "base_uri": "https://localhost:8080/"
        },
        "id": "a3f411b7",
        "outputId": "63a1e790-9095-4cbf-b50d-64e9d822755d"
      },
      "outputs": [
        {
          "output_type": "stream",
          "name": "stdout",
          "text": [
            "Looking in indexes: https://pypi.org/simple, https://us-python.pkg.dev/colab-wheels/public/simple/\n",
            "Collecting fastparquet\n",
            "  Downloading fastparquet-2023.4.0-cp310-cp310-manylinux_2_17_x86_64.manylinux2014_x86_64.whl (1.5 MB)\n",
            "\u001b[2K     \u001b[90m━━━━━━━━━━━━━━━━━━━━━━━━━━━━━━━━━━━━━━━━\u001b[0m \u001b[32m1.5/1.5 MB\u001b[0m \u001b[31m33.3 MB/s\u001b[0m eta \u001b[36m0:00:00\u001b[0m\n",
            "\u001b[?25hRequirement already satisfied: pandas>=1.5.0 in /usr/local/lib/python3.10/dist-packages (from fastparquet) (1.5.3)\n",
            "Requirement already satisfied: numpy>=1.20.3 in /usr/local/lib/python3.10/dist-packages (from fastparquet) (1.22.4)\n",
            "Collecting cramjam>=2.3 (from fastparquet)\n",
            "  Downloading cramjam-2.6.2-cp310-cp310-manylinux_2_17_x86_64.manylinux2014_x86_64.whl (2.0 MB)\n",
            "\u001b[2K     \u001b[90m━━━━━━━━━━━━━━━━━━━━━━━━━━━━━━━━━━━━━━━━\u001b[0m \u001b[32m2.0/2.0 MB\u001b[0m \u001b[31m96.9 MB/s\u001b[0m eta \u001b[36m0:00:00\u001b[0m\n",
            "\u001b[?25hRequirement already satisfied: fsspec in /usr/local/lib/python3.10/dist-packages (from fastparquet) (2023.4.0)\n",
            "Requirement already satisfied: packaging in /usr/local/lib/python3.10/dist-packages (from fastparquet) (23.1)\n",
            "Requirement already satisfied: python-dateutil>=2.8.1 in /usr/local/lib/python3.10/dist-packages (from pandas>=1.5.0->fastparquet) (2.8.2)\n",
            "Requirement already satisfied: pytz>=2020.1 in /usr/local/lib/python3.10/dist-packages (from pandas>=1.5.0->fastparquet) (2022.7.1)\n",
            "Requirement already satisfied: six>=1.5 in /usr/local/lib/python3.10/dist-packages (from python-dateutil>=2.8.1->pandas>=1.5.0->fastparquet) (1.16.0)\n",
            "Installing collected packages: cramjam, fastparquet\n",
            "Successfully installed cramjam-2.6.2 fastparquet-2023.4.0\n",
            "Looking in indexes: https://pypi.org/simple, https://us-python.pkg.dev/colab-wheels/public/simple/\n",
            "Collecting selfies\n",
            "  Downloading selfies-2.1.1-py3-none-any.whl (35 kB)\n",
            "Installing collected packages: selfies\n",
            "Successfully installed selfies-2.1.1\n"
          ]
        }
      ],
      "source": [
        "!pip install fastparquet\n",
        "!pip install selfies\n",
        "!pip install wandb"
      ]
    },
    {
      "cell_type": "code",
      "source": [
        "import wandb\n",
        "wandb.login()"
      ],
      "metadata": {
        "id": "zB9NXU9E61IK"
      },
      "id": "zB9NXU9E61IK",
      "execution_count": null,
      "outputs": []
    },
    {
      "cell_type": "code",
      "execution_count": 7,
      "id": "8a3fbcdb",
      "metadata": {
        "colab": {
          "base_uri": "https://localhost:8080/"
        },
        "id": "8a3fbcdb",
        "outputId": "523787e0-1a7f-4baf-c68e-30b8c32cb347"
      },
      "outputs": [
        {
          "output_type": "stream",
          "name": "stdout",
          "text": [
            "Pad to len: 119\n"
          ]
        }
      ],
      "source": [
        "import selfies as sf\n",
        "data = pd.read_parquet('/content/drive/My Drive/GRU_data/combined_selfies.parquet')\n",
        "alphabet = sf.get_alphabet_from_selfies(data.selfies)\n",
        "#alphabet.add(\"[nop]\") # [nop] is a special padding symbol\n",
        "alphabet.add(\"[start]\")\n",
        "alphabet.add(\"[end]\")\n",
        "alphabet.add(\"[nop]\")\n",
        "alphabet = list(sorted(alphabet))\n",
        "pad_to_len = max(sf.len_selfies(s) for s in data.selfies) + 10\n",
        "print(\"Pad to len:\", pad_to_len)\n",
        "symbol_to_idx = {s: i for i, s in enumerate(alphabet)}\n",
        "idx2char = {i: s for i, s in enumerate(alphabet)}"
      ]
    },
    {
      "cell_type": "code",
      "execution_count": 8,
      "id": "f55a6d94",
      "metadata": {
        "id": "f55a6d94"
      },
      "outputs": [],
      "source": [
        "import re\n",
        "class SELFIESVectorizer:\n",
        "    def __init__(self, alphabet, pad_to_len=None):\n",
        "        self.alphabet = alphabet\n",
        "        self.char2idx = {s: i for i, s in enumerate(alphabet)}\n",
        "        self.idx2char = {i: s for i, s in enumerate(alphabet)}\n",
        "        self.pad_to_len = pad_to_len\n",
        "    def vectorize(self, selfie, no_special=False):\n",
        "        ''' Vectorize a list of SMILES strings to a numpy array of shape (len(smiles), embed, len(charset))'''\n",
        "        if no_special:\n",
        "            splited = self.split_selfi(selfie)\n",
        "        elif self.pad_to_len is None:\n",
        "            splited = ['[start]'] + self.split_selfi(selfie) + ['[end]']\n",
        "        else:\n",
        "            splited = ['[start]'] + self.split_selfi(selfie) + ['[end]'] + ['[nop]'] * (self.pad_to_len - len(self.split_selfi(selfie)) - 2)\n",
        "        X = np.zeros((len(splited), len(self.alphabet)))\n",
        "        for i in range(len(splited)):\n",
        "            X[i, self.char2idx[splited[i]]] = 1\n",
        "        return X\n",
        "    def devectorize(self, ohe, remove_special=False):\n",
        "        ''' Devectorize a numpy array of shape (len(smiles), embed, len(charset)) to a list of SMILES strings'''\n",
        "        selfie_str = ''\n",
        "        for j in range(ohe.shape[0]):\n",
        "            idx = np.argmax(ohe[j, :])\n",
        "            if remove_special and (self.idx2char[idx] == '[start]' or self.idx2char[idx] == '[end]'):\n",
        "                continue\n",
        "            selfie_str += self.idx2char[idx]\n",
        "        return selfie_str\n",
        "    def idxize(self, selfie, no_special=False):\n",
        "        if no_special:\n",
        "            splited = self.split_selfi(selfie)\n",
        "        else:\n",
        "            splited = ['[start]'] + self.split_selfi(selfie) + ['[end]'] + ['[nop]'] * (self.pad_to_len - len(self.split_selfi(selfie)) - 2)\n",
        "        return np.array([self.char2idx[s] for s in splited])\n",
        "    def deidxize(self, idx):\n",
        "        return \"\".join([self.idx2char[i] for i in idx])\n",
        "    def split_selfi(self, selfie):\n",
        "        pattern = r'(\\[[^\\[\\]]*\\])'\n",
        "        return re.findall(pattern, selfie)"
      ]
    },
    {
      "cell_type": "code",
      "execution_count": 9,
      "id": "70924816",
      "metadata": {
        "id": "70924816"
      },
      "outputs": [],
      "source": [
        "vectorizer = SELFIESVectorizer(alphabet, pad_to_len=pad_to_len)"
      ]
    },
    {
      "cell_type": "code",
      "execution_count": 23,
      "id": "6538d564",
      "metadata": {
        "id": "6538d564"
      },
      "outputs": [],
      "source": [
        "from torch.utils.data import Dataset, DataLoader\n",
        "class GRUDatasetv2(Dataset):\n",
        "    def __init__(self, smiles_fp, selfies, vectorizer):\n",
        "        self.smiles_fp = pd.read_parquet(smiles_fp)\n",
        "        self.selfies = pd.read_parquet(selfies)\n",
        "        # self.X = self.prepare_X(self.smiles_fp)\n",
        "        # self.X = np.array([self.reconstruct_fp(fp) for fp in self.X])\n",
        "        self.selfies= self.prepare_y(self.selfies)\n",
        "        self.vectorizer = vectorizer\n",
        "    def __len__(self):\n",
        "        return len(self.smiles_fp)\n",
        "    def __getitem__(self, idx):\n",
        "        raw_selfie = self.selfies[idx][0]\n",
        "        vectorized_selfie = self.vectorizer.idxize(raw_selfie)\n",
        "        # esentially, we want to predict the next symbol in the SELFIE and offset the target by one makes teaching forcing implicit\n",
        "        vectorized_selfie = vectorized_selfie\n",
        "        raw_X = self.smiles_fp.fps[idx]\n",
        "        X = np.array(eval(raw_X), dtype=int)\n",
        "        X_reconstructed = self.reconstruct_fp(X)\n",
        "\n",
        "        return torch.from_numpy(X_reconstructed).float(), torch.from_numpy(vectorized_selfie).long()\n",
        "\n",
        "    @staticmethod\n",
        "    def prepare_X(smiles_fp):\n",
        "        fps = smiles_fp.fps.apply(eval).apply(lambda x: np.array(x, dtype=int))\n",
        "        return fps\n",
        "    @staticmethod\n",
        "    def prepare_y(selfies):\n",
        "        return selfies.values\n",
        "    @staticmethod\n",
        "    def reconstruct_fp(fp, length=4860):\n",
        "        fp_rec = np.zeros(length)\n",
        "        fp_rec[fp] = 1\n",
        "        return fp_rec"
      ]
    },
    {
      "cell_type": "code",
      "execution_count": 24,
      "id": "062168b4",
      "metadata": {
        "colab": {
          "base_uri": "https://localhost:8080/"
        },
        "id": "062168b4",
        "outputId": "f6882a0f-f439-4738-cba9-6b5ef663f11d"
      },
      "outputs": [
        {
          "output_type": "stream",
          "name": "stdout",
          "text": [
            "Dataset size: 402863\n",
            "Train size: 362576\n",
            "Test size: 40287\n"
          ]
        }
      ],
      "source": [
        "dataset = GRUDatasetv2('/content/drive/My Drive/GRU_data/combined_klek.parquet', '/content/drive/My Drive/GRU_data/combined_selfies.parquet', vectorizer)\n",
        "train_size = int(0.9 * len(dataset))\n",
        "test_size = len(dataset) - train_size\n",
        "train_dataset, test_dataset = torch.utils.data.random_split(dataset, [train_size, test_size])\n",
        "print(\"Dataset size:\", len(dataset))\n",
        "print(\"Train size:\", len(train_dataset))\n",
        "print(\"Test size:\", len(test_dataset))"
      ]
    },
    {
      "cell_type": "code",
      "source": [
        "dataset[0]"
      ],
      "metadata": {
        "colab": {
          "base_uri": "https://localhost:8080/"
        },
        "id": "d-eDoZ0Z5s-_",
        "outputId": "a197b730-e9b3-4fd9-b281-15deecf14a92"
      },
      "id": "d-eDoZ0Z5s-_",
      "execution_count": 25,
      "outputs": [
        {
          "output_type": "execute_result",
          "data": {
            "text/plain": [
              "(tensor([0., 0., 0.,  ..., 0., 0., 0.]),\n",
              " tensor([41, 23, 23,  9, 23,  9, 18, 33, 11, 23,  7, 23, 12, 29, 23,  9, 23,  9,\n",
              "         17,  9, 35,  7, 23, 12,  7, 23, 12, 29,  9, 17, 23, 29, 29, 23,  9, 33,\n",
              "         11, 23,  9, 34, 33,  7, 39, 40, 40, 40, 40, 40, 40, 40, 40, 40, 40, 40,\n",
              "         40, 40, 40, 40, 40, 40, 40, 40, 40, 40, 40, 40, 40, 40, 40, 40, 40, 40,\n",
              "         40, 40, 40, 40, 40, 40, 40, 40, 40, 40, 40, 40, 40, 40, 40, 40, 40, 40,\n",
              "         40, 40, 40, 40, 40, 40, 40, 40, 40, 40, 40, 40, 40, 40, 40, 40, 40, 40,\n",
              "         40, 40, 40, 40, 40, 40, 40, 40, 40, 40, 40]))"
            ]
          },
          "metadata": {},
          "execution_count": 25
        }
      ]
    },
    {
      "cell_type": "markdown",
      "id": "02f39daf",
      "metadata": {
        "id": "02f39daf"
      },
      "source": [
        "# NN architecture"
      ]
    },
    {
      "cell_type": "code",
      "execution_count": 26,
      "id": "8248e95c",
      "metadata": {
        "id": "8248e95c"
      },
      "outputs": [],
      "source": [
        "class EncoderNet(nn.Module):\n",
        "    def __init__(self, fp_size, encoding_size):\n",
        "        super(EncoderNet, self).__init__()\n",
        "        self.relu = nn.ReLU()\n",
        "        self.fc1 = nn.Linear(fp_size, 2048)\n",
        "        self.fc2 = nn.Linear(2048, 1024)\n",
        "        self.fc3 = nn.Linear(1024, 512)\n",
        "        self.fc4 = nn.Linear(512, 256)\n",
        "        self.fc5 = nn.Linear(256, encoding_size)\n",
        "    def forward(self, x):\n",
        "        out = self.relu(self.fc1(x))\n",
        "        out = self.relu(self.fc2(out))\n",
        "        out = self.relu(self.fc3(out))\n",
        "        out = self.relu(self.fc4(out))\n",
        "        out = self.relu(self.fc5(out))\n",
        "        return out\n",
        "\n",
        "\n",
        "class DecoderNet(nn.Module):\n",
        "    def __init__(self, dictionary_size, emb_size, hidden_size, num_layers, drop_prob):\n",
        "        super(DecoderNet, self).__init__()\n",
        "        self.hidden_size = hidden_size\n",
        "        self.num_layers = num_layers\n",
        "        self.drop_prob = drop_prob\n",
        "        # embedding layer [batch_size, seq_len] -> [batch_size, seq_len, emb_size]\n",
        "        self.embedding = nn.Embedding(dictionary_size, emb_size)\n",
        "        # gru layer [batch_size, seq_len, emb_size] -> [batch_size, seq_len, hidden_size]\n",
        "        self.gru = nn.GRU(emb_size, hidden_size, num_layers, dropout=drop_prob, batch_first=True)\n",
        "        # fully connected layer [batch_size, seq_len, hidden_size] -> [batch_size, seq_len, dictionary_size]\n",
        "        self.fc = nn.Linear(hidden_size, dictionary_size)\n",
        "        self.max_len = vectorizer.pad_to_len\n",
        "\n",
        "    def forward(self, input, hidden):\n",
        "        emdedded = self.embedding(input)\n",
        "        prediction, hidden = self.gru(emdedded, hidden)\n",
        "        prediction = self.fc(prediction)\n",
        "        return prediction, hidden\n",
        "\n",
        "\n",
        "    def init_hidden(self, encoded):\n",
        "        return encoded.unsqueeze(0).repeat(self.num_layers, 1, 1).to(device)\n",
        "    \n",
        "class Autoencoder(nn.Module):\n",
        "    def __init__(self, input_size=4860, \n",
        "                 encoding_size=256, \n",
        "                 dictionary_size=len(alphabet), \n",
        "                 emb_size=256, \n",
        "                 hidden_size=256, \n",
        "                 num_layers=2, \n",
        "                 teacher_forcing_ratio=0.5,\n",
        "                 drop_prob=0.2):\n",
        "        super(Autoencoder, self).__init__()\n",
        "        self.encoder = EncoderNet(input_size, encoding_size)\n",
        "        self.decoder = DecoderNet(dictionary_size, emb_size, hidden_size, num_layers, drop_prob)\n",
        "        self.teacher_forcing_ratio = teacher_forcing_ratio\n",
        "\n",
        "    def forward(self, src,trg, teacher_forcing_ratio=None):\n",
        "        teacher_forcing_ratio = self.teacher_forcing_ratio if teacher_forcing_ratio is None else teacher_forcing_ratio\n",
        "        # if in evaluation mode we don't use teacher forcing\n",
        "        if not self.training:\n",
        "            teacher_forcing_ratio = 0\n",
        "        batch_size = src.shape[0]\n",
        "        trg_len = trg.shape[1]\n",
        "        trg_vocab_size = self.decoder.fc.out_features\n",
        "        outputs = []\n",
        "        hidden = self.encoder(src)\n",
        "        hidden = hidden.unsqueeze(0).repeat(self.decoder.num_layers, 1, 1)\n",
        "        input = trg[:, 0].unsqueeze(1)\n",
        "        for t in range(1, trg_len):\n",
        "            output, hidden = self.decoder(input, hidden)\n",
        "            outputs.append(output)\n",
        "            teacher_force = random.random() < teacher_forcing_ratio\n",
        "            top1 = torch.argmax(output, dim=2)\n",
        "            input = trg[:, t].unsqueeze(1) if teacher_force else top1\n",
        "        outputs = torch.cat(outputs, dim=1)\n",
        "        return outputs"
      ]
    },
    {
      "cell_type": "markdown",
      "id": "c3f697df",
      "metadata": {
        "id": "c3f697df"
      },
      "source": [
        "# Training"
      ]
    },
    {
      "cell_type": "code",
      "source": [
        "!pip install wandb"
      ],
      "metadata": {
        "colab": {
          "base_uri": "https://localhost:8080/"
        },
        "id": "RtdMltSQ5BlR",
        "outputId": "9298b006-dbee-45bb-e2c1-5f75d4485a74"
      },
      "id": "RtdMltSQ5BlR",
      "execution_count": 14,
      "outputs": [
        {
          "output_type": "stream",
          "name": "stdout",
          "text": [
            "Looking in indexes: https://pypi.org/simple, https://us-python.pkg.dev/colab-wheels/public/simple/\n",
            "Collecting wandb\n",
            "  Downloading wandb-0.15.3-py3-none-any.whl (2.0 MB)\n",
            "\u001b[2K     \u001b[90m━━━━━━━━━━━━━━━━━━━━━━━━━━━━━━━━━━━━━━━━\u001b[0m \u001b[32m2.0/2.0 MB\u001b[0m \u001b[31m35.4 MB/s\u001b[0m eta \u001b[36m0:00:00\u001b[0m\n",
            "\u001b[?25hRequirement already satisfied: Click!=8.0.0,>=7.0 in /usr/local/lib/python3.10/dist-packages (from wandb) (8.1.3)\n",
            "Collecting GitPython!=3.1.29,>=1.0.0 (from wandb)\n",
            "  Downloading GitPython-3.1.31-py3-none-any.whl (184 kB)\n",
            "\u001b[2K     \u001b[90m━━━━━━━━━━━━━━━━━━━━━━━━━━━━━━━━━━━━━━\u001b[0m \u001b[32m184.3/184.3 kB\u001b[0m \u001b[31m20.5 MB/s\u001b[0m eta \u001b[36m0:00:00\u001b[0m\n",
            "\u001b[?25hRequirement already satisfied: requests<3,>=2.0.0 in /usr/local/lib/python3.10/dist-packages (from wandb) (2.27.1)\n",
            "Requirement already satisfied: psutil>=5.0.0 in /usr/local/lib/python3.10/dist-packages (from wandb) (5.9.5)\n",
            "Collecting sentry-sdk>=1.0.0 (from wandb)\n",
            "  Downloading sentry_sdk-1.25.0-py2.py3-none-any.whl (206 kB)\n",
            "\u001b[2K     \u001b[90m━━━━━━━━━━━━━━━━━━━━━━━━━━━━━━━━━━━━━━\u001b[0m \u001b[32m206.5/206.5 kB\u001b[0m \u001b[31m27.4 MB/s\u001b[0m eta \u001b[36m0:00:00\u001b[0m\n",
            "\u001b[?25hCollecting docker-pycreds>=0.4.0 (from wandb)\n",
            "  Downloading docker_pycreds-0.4.0-py2.py3-none-any.whl (9.0 kB)\n",
            "Requirement already satisfied: PyYAML in /usr/local/lib/python3.10/dist-packages (from wandb) (6.0)\n",
            "Collecting pathtools (from wandb)\n",
            "  Downloading pathtools-0.1.2.tar.gz (11 kB)\n",
            "  Preparing metadata (setup.py) ... \u001b[?25l\u001b[?25hdone\n",
            "Collecting setproctitle (from wandb)\n",
            "  Downloading setproctitle-1.3.2-cp310-cp310-manylinux_2_5_x86_64.manylinux1_x86_64.manylinux_2_17_x86_64.manylinux2014_x86_64.whl (30 kB)\n",
            "Requirement already satisfied: setuptools in /usr/local/lib/python3.10/dist-packages (from wandb) (67.7.2)\n",
            "Requirement already satisfied: appdirs>=1.4.3 in /usr/local/lib/python3.10/dist-packages (from wandb) (1.4.4)\n",
            "Requirement already satisfied: protobuf!=4.21.0,<5,>=3.19.0 in /usr/local/lib/python3.10/dist-packages (from wandb) (3.20.3)\n",
            "Requirement already satisfied: six>=1.4.0 in /usr/local/lib/python3.10/dist-packages (from docker-pycreds>=0.4.0->wandb) (1.16.0)\n",
            "Collecting gitdb<5,>=4.0.1 (from GitPython!=3.1.29,>=1.0.0->wandb)\n",
            "  Downloading gitdb-4.0.10-py3-none-any.whl (62 kB)\n",
            "\u001b[2K     \u001b[90m━━━━━━━━━━━━━━━━━━━━━━━━━━━━━━━━━━━━━━━━\u001b[0m \u001b[32m62.7/62.7 kB\u001b[0m \u001b[31m8.3 MB/s\u001b[0m eta \u001b[36m0:00:00\u001b[0m\n",
            "\u001b[?25hRequirement already satisfied: urllib3<1.27,>=1.21.1 in /usr/local/lib/python3.10/dist-packages (from requests<3,>=2.0.0->wandb) (1.26.15)\n",
            "Requirement already satisfied: certifi>=2017.4.17 in /usr/local/lib/python3.10/dist-packages (from requests<3,>=2.0.0->wandb) (2022.12.7)\n",
            "Requirement already satisfied: charset-normalizer~=2.0.0 in /usr/local/lib/python3.10/dist-packages (from requests<3,>=2.0.0->wandb) (2.0.12)\n",
            "Requirement already satisfied: idna<4,>=2.5 in /usr/local/lib/python3.10/dist-packages (from requests<3,>=2.0.0->wandb) (3.4)\n",
            "Collecting smmap<6,>=3.0.1 (from gitdb<5,>=4.0.1->GitPython!=3.1.29,>=1.0.0->wandb)\n",
            "  Downloading smmap-5.0.0-py3-none-any.whl (24 kB)\n",
            "Building wheels for collected packages: pathtools\n",
            "  Building wheel for pathtools (setup.py) ... \u001b[?25l\u001b[?25hdone\n",
            "  Created wheel for pathtools: filename=pathtools-0.1.2-py3-none-any.whl size=8791 sha256=4e7406b2ffb008a8b5820e81cc01b2142816704aee5103d5976ae4d7a83db6e4\n",
            "  Stored in directory: /root/.cache/pip/wheels/e7/f3/22/152153d6eb222ee7a56ff8617d80ee5207207a8c00a7aab794\n",
            "Successfully built pathtools\n",
            "Installing collected packages: pathtools, smmap, setproctitle, sentry-sdk, docker-pycreds, gitdb, GitPython, wandb\n",
            "Successfully installed GitPython-3.1.31 docker-pycreds-0.4.0 gitdb-4.0.10 pathtools-0.1.2 sentry-sdk-1.25.0 setproctitle-1.3.2 smmap-5.0.0 wandb-0.15.3\n"
          ]
        }
      ]
    },
    {
      "cell_type": "code",
      "execution_count": 28,
      "id": "ce412c1f",
      "metadata": {
        "id": "ce412c1f"
      },
      "outputs": [],
      "source": [
        "from tqdm.notebook import tqdm\n",
        "\n",
        "def pretty_str_compare(str, str_pred, color=True):\n",
        "    if len(str_pred) > len(str):\n",
        "        str += '-' * (len(str_pred) - len(str))\n",
        "    elif len(str_pred) < len(str):\n",
        "        str_pred += '-' * (len(str) - len(str_pred))\n",
        "    print(f'Target:  {str}', end='\\n')\n",
        "    # print difference in red color\n",
        "    print('Output:  ', end='')\n",
        "    for act, pred in zip(str, str_pred):\n",
        "        if act != pred:\n",
        "            if color:\n",
        "                print('\\033[91m', end='')\n",
        "            print(pred, end='')\n",
        "            if color:\n",
        "                print('\\033[0m', end='')\n",
        "        else:\n",
        "            print(pred, end='')\n",
        "\n",
        "def train(autoencoder, dataloader, val_dataloader, num_epochs=10, device=device):\n",
        "    \n",
        "    learning_rate = 0.001\n",
        "    teacher_forcing_ratio = 0.5\n",
        "    criterion = nn.CrossEntropyLoss(ignore_index=vectorizer.char2idx['[nop]'])\n",
        "    optimizer = optim.Adam(autoencoder.parameters(), lr=learning_rate)\n",
        "    autoencoder.train()\n",
        "    config = dict()\n",
        "    config['learning_rate'] = learning_rate\n",
        "    config['teacher_forcing_ratio'] = teacher_forcing_ratio\n",
        "    config['criterion'] = criterion\n",
        "    config['optimizer'] = optimizer\n",
        "    config['num_epochs'] = num_epochs\n",
        "    config['Trainable parameters'] = sum(p.numel() for p in autoencoder.parameters() if p.requires_grad)\n",
        "    config['Embedding size'] = autoencoder.decoder.embedding.embedding_dim\n",
        "    config['Hidden size'] = autoencoder.decoder.hidden_size\n",
        "    config['Number of layers'] = autoencoder.decoder.num_layers\n",
        "    config['Dropout'] = autoencoder.decoder.gru.dropout\n",
        "    config['Batch size'] = batch_size\n",
        "    config['Dataset size'] = len(dataloader.dataset) * batch_size\n",
        "\n",
        "    \n",
        "\n",
        "    wandb.init(project=\"selfie-autoencoder_v2\", config=config)\n",
        "    for epoch in range(num_epochs):\n",
        "        epoch_loss = 0\n",
        "        for batch_idx, (src, trg) in enumerate(tqdm(dataloader)):\n",
        "            src = src.to(device)\n",
        "            trg = trg.to(device)\n",
        "            optimizer.zero_grad()\n",
        "            output = autoencoder(src, trg, teacher_forcing_ratio)\n",
        "            trg = trg[:, 1:]\n",
        "            # print(f'Output shape: {output.shape}')\n",
        "            # print(f'Target shape: {trg.shape}')\n",
        "            # print('Target:', trg)\n",
        "            #replace 1 and 2 dimension\n",
        "            output = output.permute(0, 2, 1)\n",
        "            # print(f'Output shape after view: {output.shape}')\n",
        "            # print(f'Target shape after view: {trg.shape}')\n",
        "            loss = criterion(output, trg)\n",
        "            loss.backward()\n",
        "            optimizer.step()\n",
        "            epoch_loss += loss.item()\n",
        "        if epoch % 2 == 0:\n",
        "            autoencoder.eval()\n",
        "            with torch.no_grad():\n",
        "                visual_examples_src, visual_examples_trg = next(iter(dataloader))\n",
        "                visual_examples_src = visual_examples_src.to(device)[:5]\n",
        "                visual_examples_trg = visual_examples_trg.to(device)[:5]\n",
        "                visual_examples_outputs = autoencoder(visual_examples_src, visual_examples_trg, teacher_forcing_ratio)\n",
        "                visual_examples_outputs = visual_examples_outputs.permute(0, 2, 1)\n",
        "                visual_examples_outputs = torch.argmax(visual_examples_outputs, dim=1)\n",
        "                visual_examples_outputs = visual_examples_outputs.cpu().numpy()\n",
        "                visual_examples_outputs = np.array([vectorizer.deidxize(o) for o in visual_examples_outputs])\n",
        "                visual_examples_trg = visual_examples_trg.cpu().numpy()\n",
        "                visual_examples_trg = np.array([vectorizer.deidxize(o) for o in visual_examples_trg])\n",
        "                print(f'Epoch {epoch} loss: {epoch_loss / len(dataloader)}')\n",
        "                for i in range(len(visual_examples_outputs)):\n",
        "                    pretty_str_compare(visual_examples_trg[i][7:], visual_examples_outputs[i])\n",
        "                    print('\\n-------------------\\n')\n",
        "        # evaluate on validation set\n",
        "        autoencoder.eval()\n",
        "        with torch.no_grad():\n",
        "            val_loss = 0\n",
        "            for batch_idx, (src, trg) in enumerate(tqdm(val_dataloader)):\n",
        "                src = src.to(device)\n",
        "                trg = trg.to(device)\n",
        "                output = autoencoder(src, trg, teacher_forcing_ratio)\n",
        "                trg = trg[:, 1:]\n",
        "                output = output.permute(0, 2, 1)\n",
        "                loss = criterion(output, trg)\n",
        "                val_loss += loss.item()\n",
        "            wandb.log({'val_loss': val_loss / len(val_dataloader)})\n",
        "            autoencoder.train()\n",
        "        print(f'Epoch {epoch} loss: {epoch_loss / len(dataloader)}')\n",
        "        wandb.log({'loss': epoch_loss / len(dataloader)})\n",
        "    wandb.finish()\n",
        "    return autoencoder"
      ]
    },
    {
      "cell_type": "markdown",
      "id": "db232dc2",
      "metadata": {
        "id": "db232dc2"
      },
      "source": [
        "## Sweep config"
      ]
    },
    {
      "cell_type": "code",
      "execution_count": 29,
      "id": "e8eabc1b",
      "metadata": {
        "colab": {
          "base_uri": "https://localhost:8080/"
        },
        "id": "e8eabc1b",
        "outputId": "eba2985c-70ff-4289-e883-692bf98e3ed0"
      },
      "outputs": [
        {
          "output_type": "stream",
          "name": "stdout",
          "text": [
            "{'method': 'bayes',\n",
            " 'metric': {'goal': 'minimize', 'name': 'val_loss'},\n",
            " 'parameters': {'batch_size': {'value': 256},\n",
            "                'drop_prob': {'values': [0.0, 0.1, 0.2, 0.3, 0.4, 0.5]},\n",
            "                'emb_size': {'values': [32, 64, 128, 256, 512, 1024]},\n",
            "                'encoding_size': {'values': [32, 64, 128, 256, 512, 1024]},\n",
            "                'epochs': {'value': 20},\n",
            "                'learning_rate': {'distribution': 'uniform',\n",
            "                                  'max': 0.01,\n",
            "                                  'min': 0.0},\n",
            "                'num_layers': {'values': [1, 2, 3, 4, 5]},\n",
            "                'teacher_forcing_ratio': {'values': [0.0,\n",
            "                                                     0.1,\n",
            "                                                     0.2,\n",
            "                                                     0.3,\n",
            "                                                     0.4,\n",
            "                                                     0.5,\n",
            "                                                     0.6,\n",
            "                                                     0.7,\n",
            "                                                     0.8,\n",
            "                                                     0.9,\n",
            "                                                     1.0]}}}\n"
          ]
        }
      ],
      "source": [
        "import pprint\n",
        "sweep_config = {\n",
        "    'method': 'bayes',\n",
        "    }\n",
        "metric = {\n",
        "    'name': 'val_loss',\n",
        "    'goal': 'minimize'   \n",
        "    }\n",
        "\n",
        "sweep_config['metric'] = metric\n",
        "parameters_dict = {\n",
        "    'encoding_size': { 'values': [32, 64, 128, 256, 512, 1024] },\n",
        "    'emb_size': { 'values': [32, 64, 128, 256, 512, 1024] }, \n",
        "    'num_layers': { 'values': [1, 2, 3, 4, 5] },\n",
        "    'teacher_forcing_ratio': { 'values': [0.0, 0.1, 0.2, 0.3, 0.4, 0.5, 0.6, 0.7, 0.8, 0.9, 1.0] }, # 'min': 0.0, 'max': 0.5, 'step': 0.1 },\n",
        "    'drop_prob': { 'values': [0.0, 0.1, 0.2, 0.3, 0.4, 0.5] },\n",
        "    'epochs': { 'value': 20}\n",
        "    }\n",
        "\n",
        "\n",
        "sweep_config['parameters'] = parameters_dict\n",
        "parameters_dict.update({\n",
        "    'learning_rate': {\n",
        "        # a flat distribution between 0 and 0.01\n",
        "        'distribution': 'uniform',\n",
        "        'min': 0.0,\n",
        "        'max': 0.01\n",
        "      },\n",
        "    'batch_size': {\n",
        "        'value': 256\n",
        "      }\n",
        "    })\n",
        "pprint.pprint(sweep_config)"
      ]
    },
    {
      "cell_type": "code",
      "execution_count": 30,
      "id": "2f3ad4d4",
      "metadata": {
        "id": "2f3ad4d4"
      },
      "outputs": [],
      "source": [
        "# sweep id is created only once, then string is used to run the sweep\n",
        "#sweep_id = wandb.sweep(sweep_config, project=\"selfie-autoencoder_v2\")\n",
        "sweep_id = 'jjgazi3d'"
      ]
    },
    {
      "cell_type": "code",
      "execution_count": 31,
      "id": "d61e3a97",
      "metadata": {
        "id": "d61e3a97"
      },
      "outputs": [],
      "source": [
        "def train_hyper(config=None):\n",
        "    # Initialize a new wandb run\n",
        "    with wandb.init(config=config):\n",
        "        # Config is a variable that holds and saves hyperparameters and inputs\n",
        "        config = wandb.config\n",
        "        # Define model, optimizer, and loss function\n",
        "        autoencoder = Autoencoder(encoding_size=config.encoding_size, \n",
        "                                  emb_size=config.emb_size, \n",
        "                                  hidden_size=config.encoding_size,\n",
        "                                  num_layers=config.num_layers, \n",
        "                                    teacher_forcing_ratio=config.teacher_forcing_ratio,\n",
        "                                  drop_prob=config.drop_prob).to(device)\n",
        "        dataloader = DataLoader(train_dataset, shuffle=True, batch_size=config.batch_size, drop_last=True)\n",
        "        val_dataloader = DataLoader(test_dataset, shuffle=False, batch_size=config.batch_size, drop_last=True)\n",
        "        for i in tqdm(range(config.epochs)):\n",
        "            avg_loss = train_epoch(autoencoder, dataloader, config.learning_rate)\n",
        "            val_loss, table = evaluate(autoencoder, val_dataloader)\n",
        "            wandb.log({'epoch': i, 'loss': avg_loss})\n",
        "            wandb.log({'epoch': i, 'val_loss': val_loss})\n",
        "            wandb.log({'epoch': i, 'table': table})\n",
        "\n",
        "\n",
        "def train_epoch(autoencoder, dataloader, learning_rate):\n",
        "    autoencoder.train()\n",
        "    criterion = nn.CrossEntropyLoss(ignore_index=vectorizer.char2idx['[nop]'])\n",
        "    optimizer = optim.Adam(autoencoder.parameters(), lr=learning_rate)\n",
        "    epoch_loss = 0\n",
        "    for batch_idx, (src, trg) in enumerate(tqdm(dataloader)):\n",
        "        src = src.to(device)\n",
        "        trg = trg.to(device)\n",
        "        optimizer.zero_grad()\n",
        "        output = autoencoder(src, trg)\n",
        "        trg = trg[:, 1:]\n",
        "        output = output.permute(0, 2, 1)\n",
        "        loss = criterion(output, trg)\n",
        "        loss.backward()\n",
        "        optimizer.step()\n",
        "        epoch_loss += loss.item()\n",
        "        wandb.log({'batch_loss': loss.item()})\n",
        "    avg_loss = epoch_loss / len(dataloader)\n",
        "\n",
        "    return avg_loss\n",
        "\n",
        "def evaluate(autoencoder, dataloader):\n",
        "    autoencoder.eval()\n",
        "    criterion = nn.CrossEntropyLoss(ignore_index=vectorizer.char2idx['[nop]'])\n",
        "    epoch_loss = 0\n",
        "    for batch_idx, (src, trg) in enumerate(tqdm(dataloader)):\n",
        "        src = src.to(device)\n",
        "        trg = trg.to(device)\n",
        "        output = autoencoder(src, trg)\n",
        "        trg = trg[:, 1:]\n",
        "        output = output.permute(0, 2, 1)\n",
        "        loss = criterion(output, trg)\n",
        "        epoch_loss += loss.item()\n",
        "    avg_loss = epoch_loss / len(dataloader)\n",
        "    with torch.no_grad():\n",
        "                visual_examples_src, visual_examples_trg = next(iter(dataloader))\n",
        "                visual_examples_src = visual_examples_src.to(device)[:5]\n",
        "                visual_examples_trg = visual_examples_trg.to(device)[:5]\n",
        "                visual_examples_outputs = autoencoder(visual_examples_src, visual_examples_trg, teacher_forcing_ratio)\n",
        "                visual_examples_outputs = visual_examples_outputs.permute(0, 2, 1)\n",
        "                visual_examples_outputs = torch.argmax(visual_examples_outputs, dim=1)\n",
        "                visual_examples_outputs = visual_examples_outputs.cpu().numpy()\n",
        "                visual_examples_outputs = np.array([vectorizer.deidxize(o) for o in visual_examples_outputs])\n",
        "                visual_examples_trg = visual_examples_trg.cpu().numpy()\n",
        "                visual_examples_trg = np.array([vectorizer.deidxize(o) for o in visual_examples_trg])\n",
        "                #log visual examples as table to wandb\n",
        "                data = [[src, trg] for src, trg in zip(visual_examples_trg, visual_examples_outputs)]\n",
        "                table = wandb.Table(data=data, columns = [\"Target\", \"Output\"])\n",
        "                     \n",
        "    return avg_loss, table\n"
      ]
    },
    {
      "cell_type": "code",
      "execution_count": null,
      "id": "6092af90",
      "metadata": {
        "colab": {
          "base_uri": "https://localhost:8080/",
          "height": 413,
          "referenced_widgets": [
            "273bbe80a0cc4a7687954faa5bef62df",
            "80ded7a1804c43a0bb62eb131745bb48",
            "180482c55c8a4da9994e72f5b93f9294",
            "1e41b635a4004f77a135c76c40c4b563",
            "e76b65c965a240e89980963314b48e29",
            "ec80dae2f68b41feaa3067137c33da8b",
            "ca29e60bc9eb40f5b4cfc3bbba70e0b5",
            "3fe6634896ed4dadb9738ff8175a0d82",
            "25de31417fc1419196e1eab62b938edc",
            "6fdbbc9383e14e10907c209c00673910",
            "db7b58211a3d41b08f4f7a2bc511a4da",
            "1b8d451210874a08a05c65be91b16331",
            "a8bac2f3033b4c0985c377380bcae7df",
            "516ec374b83349378a1eceaa407cd581",
            "96f78b0d8c974b2781b8f84496061f9b",
            "2d7d7600e57b4945acd8fdefea58d015",
            "80fb657853a7406b9db408dd0d5cddbe",
            "84d27668d01445b886bbac16439fc0c1",
            "a03c7a8d6ab243f394f63e284d903eed",
            "35e42eb381fa4c55bbb736caf6ddbe1e",
            "ee1c8a0205d34769ac4894be70a4c8cc",
            "0733e744a5d744e88cebe2c7fd390f03"
          ]
        },
        "id": "6092af90",
        "outputId": "f41c85f6-16ca-4253-e343-5e50afe463ea"
      },
      "outputs": [
        {
          "output_type": "stream",
          "name": "stderr",
          "text": [
            "\u001b[34m\u001b[1mwandb\u001b[0m: Agent Starting Run: fezzp3fb with config:\n",
            "\u001b[34m\u001b[1mwandb\u001b[0m: \tbatch_size: 256\n",
            "\u001b[34m\u001b[1mwandb\u001b[0m: \tdrop_prob: 0.3\n",
            "\u001b[34m\u001b[1mwandb\u001b[0m: \temb_size: 256\n",
            "\u001b[34m\u001b[1mwandb\u001b[0m: \tencoding_size: 1024\n",
            "\u001b[34m\u001b[1mwandb\u001b[0m: \tepochs: 20\n",
            "\u001b[34m\u001b[1mwandb\u001b[0m: \tlearning_rate: 0.0005666226399107366\n",
            "\u001b[34m\u001b[1mwandb\u001b[0m: \tnum_layers: 1\n",
            "\u001b[34m\u001b[1mwandb\u001b[0m: \tteacher_forcing_ratio: 0.8\n"
          ]
        },
        {
          "output_type": "display_data",
          "data": {
            "text/plain": [
              "<IPython.core.display.HTML object>"
            ],
            "text/html": [
              "Tracking run with wandb version 0.15.3"
            ]
          },
          "metadata": {}
        },
        {
          "output_type": "display_data",
          "data": {
            "text/plain": [
              "<IPython.core.display.HTML object>"
            ],
            "text/html": [
              "Run data is saved locally in <code>/content/wandb/run-20230602_161923-fezzp3fb</code>"
            ]
          },
          "metadata": {}
        },
        {
          "output_type": "display_data",
          "data": {
            "text/plain": [
              "<IPython.core.display.HTML object>"
            ],
            "text/html": [
              "Syncing run <strong><a href='https://wandb.ai/mldd23/selfie-autoencoder_v2/runs/fezzp3fb' target=\"_blank\">vague-sweep-5</a></strong> to <a href='https://wandb.ai/mldd23/selfie-autoencoder_v2' target=\"_blank\">Weights & Biases</a> (<a href='https://wandb.me/run' target=\"_blank\">docs</a>)<br/>Sweep page: <a href='https://wandb.ai/mldd23/selfie-autoencoder_v2/sweeps/jjgazi3d' target=\"_blank\">https://wandb.ai/mldd23/selfie-autoencoder_v2/sweeps/jjgazi3d</a>"
            ]
          },
          "metadata": {}
        },
        {
          "output_type": "display_data",
          "data": {
            "text/plain": [
              "<IPython.core.display.HTML object>"
            ],
            "text/html": [
              " View project at <a href='https://wandb.ai/mldd23/selfie-autoencoder_v2' target=\"_blank\">https://wandb.ai/mldd23/selfie-autoencoder_v2</a>"
            ]
          },
          "metadata": {}
        },
        {
          "output_type": "display_data",
          "data": {
            "text/plain": [
              "<IPython.core.display.HTML object>"
            ],
            "text/html": [
              " View sweep at <a href='https://wandb.ai/mldd23/selfie-autoencoder_v2/sweeps/jjgazi3d' target=\"_blank\">https://wandb.ai/mldd23/selfie-autoencoder_v2/sweeps/jjgazi3d</a>"
            ]
          },
          "metadata": {}
        },
        {
          "output_type": "display_data",
          "data": {
            "text/plain": [
              "<IPython.core.display.HTML object>"
            ],
            "text/html": [
              " View run at <a href='https://wandb.ai/mldd23/selfie-autoencoder_v2/runs/fezzp3fb' target=\"_blank\">https://wandb.ai/mldd23/selfie-autoencoder_v2/runs/fezzp3fb</a>"
            ]
          },
          "metadata": {}
        },
        {
          "output_type": "stream",
          "name": "stderr",
          "text": [
            "/usr/local/lib/python3.10/dist-packages/torch/nn/modules/rnn.py:71: UserWarning: dropout option adds dropout after all but last recurrent layer, so non-zero dropout expects num_layers greater than 1, but got dropout=0.3 and num_layers=1\n",
            "  warnings.warn(\"dropout option adds dropout after all but last \"\n"
          ]
        },
        {
          "output_type": "display_data",
          "data": {
            "text/plain": [
              "  0%|          | 0/20 [00:00<?, ?it/s]"
            ],
            "application/vnd.jupyter.widget-view+json": {
              "version_major": 2,
              "version_minor": 0,
              "model_id": "273bbe80a0cc4a7687954faa5bef62df"
            }
          },
          "metadata": {}
        },
        {
          "output_type": "display_data",
          "data": {
            "text/plain": [
              "  0%|          | 0/1416 [00:00<?, ?it/s]"
            ],
            "application/vnd.jupyter.widget-view+json": {
              "version_major": 2,
              "version_minor": 0,
              "model_id": "1b8d451210874a08a05c65be91b16331"
            }
          },
          "metadata": {}
        }
      ],
      "source": [
        "wandb.agent(sweep_id,project=\"selfie-autoencoder_v2\", function=train_hyper, count=1)"
      ]
    },
    {
      "cell_type": "code",
      "execution_count": null,
      "id": "2bad90c0",
      "metadata": {
        "id": "2bad90c0",
        "outputId": "d4c0ee41-48c1-438b-f382-784b17660d3d"
      },
      "outputs": [
        {
          "data": {
            "text/plain": [
              "<All keys matched successfully>"
            ]
          },
          "execution_count": 38,
          "metadata": {},
          "output_type": "execute_result"
        }
      ],
      "source": [
        "# Hubert jakby co, to możesz wczytać model z pliku, \n",
        "# żeby nie trzeba było czekać 200 epok\n",
        "loaded_model = Autoencoder(4860, 300, 300, 42, 2, 0.0).to(device)\n",
        "loaded_model.load_state_dict(torch.load('./GRU_data/model_h300_e500_teacher_forcing.pt'))"
      ]
    },
    {
      "cell_type": "code",
      "execution_count": null,
      "id": "2e768d4a",
      "metadata": {
        "id": "2e768d4a",
        "outputId": "b248ee63-ade3-41f2-de22-27e9753fe030"
      },
      "outputs": [
        {
          "data": {
            "text/plain": [
              "torch.Size([64, 4860])"
            ]
          },
          "execution_count": 39,
          "metadata": {},
          "output_type": "execute_result"
        }
      ],
      "source": [
        "x, y = next(iter(test_loader))\n",
        "x = x.to(device)\n",
        "x.size()"
      ]
    },
    {
      "cell_type": "code",
      "execution_count": null,
      "id": "9dbdfd19",
      "metadata": {
        "id": "9dbdfd19"
      },
      "outputs": [],
      "source": [
        "encoded, decoded = loaded_model(x)"
      ]
    },
    {
      "cell_type": "markdown",
      "id": "bfe6bfa9",
      "metadata": {
        "id": "bfe6bfa9"
      },
      "source": [
        "# GRU output to SELFIES"
      ]
    },
    {
      "cell_type": "code",
      "execution_count": null,
      "id": "2aab1202",
      "metadata": {
        "id": "2aab1202"
      },
      "outputs": [],
      "source": [
        "decoded_indices = torch.argmax(decoded.cpu(), dim=2)\n",
        "decoded_indices = decoded_indices.numpy()"
      ]
    },
    {
      "cell_type": "code",
      "execution_count": null,
      "id": "c4a1d92f",
      "metadata": {
        "id": "c4a1d92f",
        "outputId": "be300586-65e5-4dad-8f1b-e7b07d28adfb"
      },
      "outputs": [
        {
          "name": "stdout",
          "output_type": "stream",
          "text": [
            "Original: [C][C][Branch2][Ring1][=Branch1][C][=Branch1][C][=O][N][S][=Branch1][C][=O][=Branch1][C][=O][C][=C][C][=C][C][=C][Ring1][=Branch1][Cl][C][C][N][Ring1][P][C][=Branch1][C][=O][C][C][C][C][C][C][Ring1][=Branch1][end][nop][nop][nop][nop][nop][nop][nop][nop][nop][nop][nop][nop][nop][nop][nop][nop][nop][nop][nop][nop][nop][nop][nop][nop][nop][nop][nop][nop][nop][nop][nop][nop][nop][nop][nop][nop][nop][nop][nop][nop][nop][nop][nop][nop][nop][nop][nop][nop][nop][nop][nop][nop][nop][nop][nop][nop][nop][nop][nop][nop][nop][nop][nop][nop][nop][nop][nop][nop][nop] \n",
            "\n",
            "Decoded:  [O-1][#C][=N][\\O][=N][NH1][Branch2][I][#N][#N][=O][#N][=S][/O][#N][=O][=S][=S][/O][\\O][=S][\\O][=Ring1][#N][P][#N][#N][#N][#Branch2][#Branch2][#N][#N][=Ring2][=Ring2][#Branch2][end][end][nop][nop][nop][nop][nop][nop][nop][nop][nop][nop][nop][nop][nop][nop][nop][nop][nop][nop][nop][nop][nop][nop][nop][nop][nop][nop][nop][nop][nop][nop][nop][nop][nop][nop][nop][nop][nop][nop][nop][nop][nop][nop][nop][nop][nop][nop][nop][nop][nop][nop][nop][nop][nop][nop][nop][nop][nop][nop][nop][nop][nop][nop][nop][nop][nop][nop][nop][nop][nop][nop][nop][nop][nop][nop][nop][nop]\n",
            "------------------\n",
            "Original: [C][O][C][=Branch1][C][=O][C][=C][C][=C][C][=Branch1][N][=C][C][Branch1][C][O][=C][Ring1][#Branch1][NH1][Ring1][#Branch2][N][Branch2][Ring1][#Branch2][C][=Branch1][C][=O][C][=C][C][=C][C][Branch1][#Branch1][N][C][Branch1][C][C][=O][=C][C][=C][Ring1][#Branch2][NH1][Ring1][=N][C][C@H1][Ring2][Ring1][=Branch2][C][Cl][end][nop][nop][nop][nop][nop][nop][nop][nop][nop][nop][nop][nop][nop][nop][nop][nop][nop][nop][nop][nop][nop][nop][nop][nop][nop][nop][nop][nop][nop][nop][nop][nop][nop][nop][nop][nop][nop][nop][nop][nop][nop][nop][nop][nop][nop][nop][nop][nop][nop][nop][nop][nop] \n",
            "\n",
            "Decoded:  [=N+1][=N+1][Branch2][Ring2][=N+1][=N+1][=N+1][=N+1][=N+1][=N+1][C@@][=Ring1][=N+1][=N+1][=N+1][C@@][=Ring2][=Ring2][O-1][=Ring2][O-1][O-1][O-1][O-1][=Ring2][=Ring2][=Ring2][=Ring2][=Ring2][=Ring2][=Ring2][=Ring2][=Ring2][=Ring2][=Ring2][=Ring2][=Ring2][=Ring2][=Ring2][=Ring2][=Ring2][=Ring2][=Ring2][=Ring2][=Ring2][=Ring2][=Ring2][=Ring2][=Ring2][=Ring2][=Ring2][=Ring2][=Ring2][=Ring2][end][end][end][end][end][end][end][end][end][end][end][end][end][nop][nop][nop][nop][nop][nop][nop][nop][nop][nop][nop][nop][nop][nop][nop][nop][nop][nop][nop][nop][nop][nop][nop][nop][nop][nop][nop][nop][nop][nop][nop][nop][nop][nop][nop][nop][nop][nop][nop][nop][nop][nop][nop][nop][nop][nop]\n",
            "------------------\n",
            "Original: [O][C][=C][Branch1][#Branch1][C][C][C][C][Ring1][Ring2][C][=C][C][Branch1][=C][C][=C][N][=C][NH1][C][=C][C][Ring1][Branch1][=N][Ring1][=Branch2][=C][Ring2][Ring1][Ring1][F][end][nop][nop][nop][nop][nop][nop][nop][nop][nop][nop][nop][nop][nop][nop][nop][nop][nop][nop][nop][nop][nop][nop][nop][nop][nop][nop][nop][nop][nop][nop][nop][nop][nop][nop][nop][nop][nop][nop][nop][nop][nop][nop][nop][nop][nop][nop][nop][nop][nop][nop][nop][nop][nop][nop][nop][nop][nop][nop][nop][nop][nop][nop][nop][nop][nop][nop][nop][nop][nop][nop][nop][nop][nop][nop][nop][nop][nop][nop] \n",
            "\n",
            "Decoded:  [=N+1][=N+1][NH1][Branch2][=Ring2][Ring2][=Ring1][=N+1][=N+1][=N+1][=Ring1][=Ring2][=Ring1][=Ring2][=Ring1][=Ring2][=Ring2][=Ring2][=O][=O][/O][=O][=O][/O][=Ring2][=Ring2][=Ring2][=Ring2][=Ring2][=Ring2][=Ring2][=Ring2][=Ring2][=Ring2][=Ring2][=Ring2][=Ring2][=Ring2][=Ring2][=Ring2][=Ring2][=Ring2][=Ring2][=Ring2][=Ring2][=Ring2][=Ring2][=Ring2][=Ring2][=Ring2][=Ring2][=Ring2][=Ring2][end][end][end][end][nop][nop][nop][nop][nop][nop][nop][nop][nop][nop][nop][nop][nop][nop][nop][nop][nop][nop][nop][nop][nop][nop][nop][nop][nop][nop][nop][nop][nop][nop][nop][nop][nop][nop][nop][nop][nop][nop][nop][nop][nop][nop][nop][nop][nop][nop][nop][nop][nop][nop][nop][nop][nop][nop][nop][nop]\n",
            "------------------\n",
            "Original: [C][C][C][Branch1][#C][C][=C][C][Branch1][C][Cl][=C][C][Branch1][C][Cl][=C][Ring1][Branch2][N][C][Branch1][#Branch1][C][=Branch1][C][=O][O][C][=C][N][=C][Ring1][=Branch2][S][end][nop][nop][nop][nop][nop][nop][nop][nop][nop][nop][nop][nop][nop][nop][nop][nop][nop][nop][nop][nop][nop][nop][nop][nop][nop][nop][nop][nop][nop][nop][nop][nop][nop][nop][nop][nop][nop][nop][nop][nop][nop][nop][nop][nop][nop][nop][nop][nop][nop][nop][nop][nop][nop][nop][nop][nop][nop][nop][nop][nop][nop][nop][nop][nop][nop][nop][nop][nop][nop][nop][nop][nop][nop][nop][nop][nop][nop] \n",
            "\n",
            "Decoded:  [Cl][=N+1][/N][/N][=Ring2][=S][\\C][/N][#N][\\C][#N][N+1][#Branch1][/N][/N][/N][/N][/N][#N][#N][#N][#N][#N][=Ring2][#N][#N][=Ring2][=Ring2][=Ring2][=Ring2][=Ring2][=Ring2][=Ring2][=Ring2][=Ring2][=Ring2][=Ring2][=Ring2][=Ring2][=Ring2][=Ring2][=Ring2][=Ring2][=Ring2][=Ring2][=Ring2][=Ring2][#N][#N][end][end][nop][nop][nop][nop][nop][nop][nop][nop][nop][nop][nop][nop][nop][nop][nop][nop][nop][nop][nop][nop][nop][nop][nop][nop][nop][nop][nop][nop][nop][nop][nop][nop][nop][nop][nop][nop][nop][nop][nop][nop][nop][nop][nop][nop][nop][nop][nop][nop][nop][nop][nop][nop][nop][nop][nop][nop][nop][nop][nop][nop][nop][nop]\n",
            "------------------\n",
            "Original: [C][O][C][=C][C][=C][Branch1][C][O][C][Branch2][Ring2][=Branch1][/C][=N][/N][C][=Branch1][C][=O][C][=C][C][=C][Branch2][Ring1][Ring1][C][=N][N][=C][Branch1][#Branch2][C][=C][C][=C][C][=C][Ring1][=Branch1][O][O][Ring1][N][C][=C][Ring2][Ring1][C][=C][Ring2][Ring1][=C][end][nop][nop][nop][nop][nop][nop][nop][nop][nop][nop][nop][nop][nop][nop][nop][nop][nop][nop][nop][nop][nop][nop][nop][nop][nop][nop][nop][nop][nop][nop][nop][nop][nop][nop][nop][nop][nop][nop][nop][nop][nop][nop][nop][nop][nop][nop][nop][nop][nop][nop][nop][nop][nop][nop][nop][nop][nop][nop] \n",
            "\n",
            "Decoded:  [=N+1][=N+1][=N+1][=N+1][O-1][=N+1][=Ring1][=N+1][=N+1][=N+1][=Ring1][=Ring1][=Ring1][=Ring1][=Ring1][=Ring1][=Ring1][=Ring1][=Ring1][=Ring1][=Ring1][=Ring1][=Ring1][=Ring1][=Ring2][=Ring2][=Ring2][=Ring2][=Ring2][=Ring2][=Ring2][=Ring2][=Ring2][=Ring2][=Ring2][=Ring2][=Ring2][=Ring2][=Ring2][=Ring2][=Ring2][=Ring2][=Ring2][=Ring2][=Ring2][=Ring2][=Ring2][=Ring2][=Ring2][=Ring2][=Ring2][=Ring2][=Ring2][=Ring2][=Ring2][end][end][nop][nop][nop][nop][nop][nop][nop][nop][nop][nop][nop][nop][nop][nop][nop][nop][nop][nop][nop][nop][nop][nop][nop][nop][nop][nop][nop][nop][nop][nop][nop][nop][nop][nop][nop][nop][nop][nop][nop][nop][nop][nop][nop][nop][nop][nop][nop][nop][nop][nop][nop][nop][nop][nop][nop][nop]\n",
            "------------------\n",
            "Original: [C][C][Branch1][C][C][C][N][C][=Branch1][C][=O][C][=C][C][=C][C][C][Branch1][=Branch2][C][=C][C][=C][N][=C][Ring1][=Branch1][=C][O][C][Ring1][#C][=Ring1][O][end][nop][nop][nop][nop][nop][nop][nop][nop][nop][nop][nop][nop][nop][nop][nop][nop][nop][nop][nop][nop][nop][nop][nop][nop][nop][nop][nop][nop][nop][nop][nop][nop][nop][nop][nop][nop][nop][nop][nop][nop][nop][nop][nop][nop][nop][nop][nop][nop][nop][nop][nop][nop][nop][nop][nop][nop][nop][nop][nop][nop][nop][nop][nop][nop][nop][nop][nop][nop][nop][nop][nop][nop][nop][nop][nop][nop][nop][nop] \n",
            "\n",
            "Decoded:  [\\O][C@H1][C@H1][C@H1][#N][/O][C@@][\\O][\\O][\\N][NH1][#N][=Ring1][\\O][\\O][=Ring1][#N][#N][=Ring1][=Ring2][=Ring2][=Ring2][#Branch2][end][end][end][end][nop][nop][nop][nop][nop][nop][nop][nop][nop][nop][nop][nop][nop][nop][nop][nop][nop][nop][nop][nop][nop][nop][nop][nop][nop][nop][nop][nop][nop][nop][nop][nop][nop][nop][nop][nop][nop][nop][nop][nop][nop][nop][nop][nop][nop][nop][nop][nop][nop][nop][nop][nop][nop][nop][nop][nop][nop][nop][nop][nop][nop][nop][nop][nop][nop][nop][nop][nop][nop][nop][nop][nop][nop][nop][nop][nop][nop][nop][nop][nop][nop][nop][nop][nop][nop][nop]\n",
            "------------------\n",
            "Original: [C][O][C][=C][C][=C][Branch2][Ring2][C][C][=N][C][Branch2][Ring1][#Branch1][C][N][Branch1][#Branch2][C][C][=C][C][=C][C][=N][Ring1][=Branch1][C][C][=C][C][=C][C][=N][Ring1][=Branch1][=C][O][Ring2][Ring1][Branch1][C][=C][Ring2][Ring1][O][end][nop][nop][nop][nop][nop][nop][nop][nop][nop][nop][nop][nop][nop][nop][nop][nop][nop][nop][nop][nop][nop][nop][nop][nop][nop][nop][nop][nop][nop][nop][nop][nop][nop][nop][nop][nop][nop][nop][nop][nop][nop][nop][nop][nop][nop][nop][nop][nop][nop][nop][nop][nop][nop][nop][nop][nop][nop][nop][nop][nop][nop][nop][nop][nop][nop] \n",
            "\n",
            "Decoded:  [=N+1][=N+1][=N+1][/O][=O][=N+1][=O][=N+1][=N+1][=N+1][\\N][/O][\\O][=N+1][\\O][\\O][\\O][\\O][\\O][/O][=N+1][/O][/O][/O][=Ring2][=Ring2][=Ring2][=Ring2][=Ring2][=Ring2][=Ring2][=Ring2][=Ring2][=Ring2][=Ring2][=Ring2][=Ring2][=Ring2][=Ring2][=Ring2][=Ring2][=Ring2][=Ring2][=Ring2][=Ring2][=Ring2][=Ring2][=Ring2][=Ring2][=Ring1][end][end][end][end][nop][nop][nop][nop][nop][nop][nop][nop][nop][nop][nop][nop][nop][nop][nop][nop][nop][nop][nop][nop][nop][nop][nop][nop][nop][nop][nop][nop][nop][nop][nop][nop][nop][nop][nop][nop][nop][nop][nop][nop][nop][nop][nop][nop][nop][nop][nop][nop][nop][nop][nop][nop][nop][nop][nop][nop][nop][nop][nop]\n",
            "------------------\n",
            "Original: [C][O][C][C][=Branch1][C][=O][N][C][=C][C][=C][C][Branch2][Ring1][Branch1][C][=N][NH1][C][=C][C][=C][Branch1][=Branch1][C][Branch1][C][N][=O][C][=C][Ring1][N][Ring1][=Branch2][=C][Ring2][Ring1][C][end][nop][nop][nop][nop][nop][nop][nop][nop][nop][nop][nop][nop][nop][nop][nop][nop][nop][nop][nop][nop][nop][nop][nop][nop][nop][nop][nop][nop][nop][nop][nop][nop][nop][nop][nop][nop][nop][nop][nop][nop][nop][nop][nop][nop][nop][nop][nop][nop][nop][nop][nop][nop][nop][nop][nop][nop][nop][nop][nop][nop][nop][nop][nop][nop][nop][nop][nop][nop][nop][nop][nop][nop] \n",
            "\n",
            "Decoded:  [=N+1][=N+1][=S][\\C][=O][=O][=Ring1][=Ring1][=N+1][=S][=Ring1][/O][=Ring1][=Ring1][=Ring1][=Ring1][=Ring1][=Ring1][=Ring1][\\O][=Ring1][=Ring1][=Ring1][=Ring1][=Ring1][=Ring1][=Ring1][=Ring1][=Ring1][=Ring1][=Ring1][=Ring1][=Ring1][=Ring1][=Ring1][=Ring1][=Ring1][=Ring1][=Ring1][=Ring1][=Ring1][=Ring2][=Ring2][=Ring2][=Ring1][=Ring1][=Ring1][end][end][end][nop][nop][nop][nop][nop][nop][nop][nop][nop][nop][nop][nop][nop][nop][nop][nop][nop][nop][nop][nop][nop][nop][nop][nop][nop][nop][nop][nop][nop][nop][nop][nop][nop][nop][nop][nop][nop][nop][nop][nop][nop][nop][nop][nop][nop][nop][nop][nop][nop][nop][nop][nop][nop][nop][nop][nop][nop][nop][nop][nop][nop][nop][nop]\n",
            "------------------\n",
            "Original: [C][C][C][C][C][C][=Branch1][C][=O][N][C][C][C][N][C][C][C][C@H1][Ring1][Branch1][C][C][=Branch1][C][=O][O][end][nop][nop][nop][nop][nop][nop][nop][nop][nop][nop][nop][nop][nop][nop][nop][nop][nop][nop][nop][nop][nop][nop][nop][nop][nop][nop][nop][nop][nop][nop][nop][nop][nop][nop][nop][nop][nop][nop][nop][nop][nop][nop][nop][nop][nop][nop][nop][nop][nop][nop][nop][nop][nop][nop][nop][nop][nop][nop][nop][nop][nop][nop][nop][nop][nop][nop][nop][nop][nop][nop][nop][nop][nop][nop][nop][nop][nop][nop][nop][nop][nop][nop][nop][nop][nop][nop] \n",
            "\n",
            "Decoded:  [=N+1][=N+1][=N+1][/N][=O][/N][#N][/N][=N+1][/N][/N][=Ring2][=Ring2][=Ring1][/N][=Ring1][=Ring1][=Ring1][=Ring1][=Ring1][=Ring1][=Ring1][/O][/O][=Ring2][=Ring2][=Ring2][=Ring2][=Ring2][=Ring2][=Ring2][=Ring2][=Ring2][=Ring2][=Ring2][=Ring2][=Ring2][=Ring2][=Ring2][=Ring2][=Ring2][=Ring2][=Ring2][=Ring2][=Ring2][=Ring2][=Ring2][=Ring2][=Ring2][=Ring2][=Ring2][end][end][end][nop][nop][nop][nop][nop][nop][nop][nop][nop][nop][nop][nop][nop][nop][nop][nop][nop][nop][nop][nop][nop][nop][nop][nop][nop][nop][nop][nop][nop][nop][nop][nop][nop][nop][nop][nop][nop][nop][nop][nop][nop][nop][nop][nop][nop][nop][nop][nop][nop][nop][nop][nop][nop][nop][nop][nop][nop][nop][nop]\n",
            "------------------\n",
            "Original: [C][/C][=Branch1][P][=N][\\C][C][/N][=C][Branch1][C][\\C][C][=C][C][=C][C][=C][Ring1][=Branch1][C][=C][C][=C][C][=C][Ring1][=Branch1][end][nop][nop][nop][nop][nop][nop][nop][nop][nop][nop][nop][nop][nop][nop][nop][nop][nop][nop][nop][nop][nop][nop][nop][nop][nop][nop][nop][nop][nop][nop][nop][nop][nop][nop][nop][nop][nop][nop][nop][nop][nop][nop][nop][nop][nop][nop][nop][nop][nop][nop][nop][nop][nop][nop][nop][nop][nop][nop][nop][nop][nop][nop][nop][nop][nop][nop][nop][nop][nop][nop][nop][nop][nop][nop][nop][nop][nop][nop][nop][nop][nop][nop][nop][nop] \n",
            "\n",
            "Decoded:  [I][=N+1][Branch2][/N][Branch2][/N][#N][/N][\\O][\\N][I][I][\\O][/N][#N][#N][/N][\\C][\\C][#N][=S][#N][#N][\\N][\\N][#N][#N][#N][#N][#N][#N][#N][#N][#N][#N][#N][=Ring2][Branch2][#N][#N][end][nop][nop][nop][nop][nop][nop][nop][nop][nop][nop][nop][nop][nop][nop][nop][nop][nop][nop][nop][nop][nop][nop][nop][nop][nop][nop][nop][nop][nop][nop][nop][nop][nop][nop][nop][nop][nop][nop][nop][nop][nop][nop][nop][nop][nop][nop][nop][nop][nop][nop][nop][nop][nop][nop][nop][nop][nop][nop][nop][nop][nop][nop][nop][nop][nop][nop][nop][nop][nop][nop][nop][nop]\n",
            "------------------\n",
            "Original: [O][=C][Branch1][C][O][C][=C][C][Branch1][C][F][=C][C][Branch2][Ring1][Branch1][C][C][=C][C][Branch1][C][F][=C][C][Branch1][=Branch1][C][=Branch1][C][=O][O][=C][Ring1][#Branch2][O][=C][Ring2][Ring1][Ring1][O][end][nop][nop][nop][nop][nop][nop][nop][nop][nop][nop][nop][nop][nop][nop][nop][nop][nop][nop][nop][nop][nop][nop][nop][nop][nop][nop][nop][nop][nop][nop][nop][nop][nop][nop][nop][nop][nop][nop][nop][nop][nop][nop][nop][nop][nop][nop][nop][nop][nop][nop][nop][nop][nop][nop][nop][nop][nop][nop][nop][nop][nop][nop][nop][nop][nop][nop][nop][nop][nop][nop][nop] \n",
            "\n",
            "Decoded:  [=N+1][=N+1][/N][/N][=O][/N][\\N][/N][/N][\\N][/N][/O][\\O][=Ring2][\\O][\\O][/N][\\O][\\O][\\N][\\O][\\O][#Branch2][=Ring1][=Ring1][=Ring2][=Ring2][=Ring1][=Ring2][=Ring2][=Ring2][=Ring2][=Ring2][=Ring2][=Ring2][=Ring2][=Ring2][=Ring2][=Ring2][=Ring2][end][end][nop][nop][nop][nop][nop][nop][nop][nop][nop][nop][nop][nop][nop][nop][nop][nop][nop][nop][nop][nop][nop][nop][nop][nop][nop][nop][nop][nop][nop][nop][nop][nop][nop][nop][nop][nop][nop][nop][nop][nop][nop][nop][nop][nop][nop][nop][nop][nop][nop][nop][nop][nop][nop][nop][nop][nop][nop][nop][nop][nop][nop][nop][nop][nop][nop][nop][nop][nop][nop][nop][nop]\n",
            "------------------\n",
            "Original: [C][C][=N][C][=C][Branch1][=Branch1][N+1][=Branch1][C][=O][O-1][N][Ring1][Branch2][C][C][N][C][=C][Branch1][O][C][N][C][=C][C][=C][C][=C][Ring1][=Branch1][N][=N][Ring1][=N][end][nop][nop][nop][nop][nop][nop][nop][nop][nop][nop][nop][nop][nop][nop][nop][nop][nop][nop][nop][nop][nop][nop][nop][nop][nop][nop][nop][nop][nop][nop][nop][nop][nop][nop][nop][nop][nop][nop][nop][nop][nop][nop][nop][nop][nop][nop][nop][nop][nop][nop][nop][nop][nop][nop][nop][nop][nop][nop][nop][nop][nop][nop][nop][nop][nop][nop][nop][nop][nop][nop][nop][nop][nop][nop][nop][nop] \n",
            "\n",
            "Decoded:  [=N+1][=N+1][/N][\\C][#Branch1][/N][/N][/N][=N+1][=S][/N][/N][#Branch1][#Branch1][/N][#Branch1][/N][/N][N+1][#Branch1][=Ring2][/N][/N][/N][=Ring2][=Ring2][#N][\\N][=Ring2][\\N][#N][#N][#N][=Ring2][=Ring2][=Ring2][=Ring2][=Ring2][=Ring2][=Ring2][=Ring2][=Ring2][=Ring2][end][end][end][nop][nop][nop][nop][nop][nop][nop][nop][nop][nop][nop][nop][nop][nop][nop][nop][nop][nop][nop][nop][nop][nop][nop][nop][nop][nop][nop][nop][nop][nop][nop][nop][nop][nop][nop][nop][nop][nop][nop][nop][nop][nop][nop][nop][nop][nop][nop][nop][nop][nop][nop][nop][nop][nop][nop][nop][nop][nop][nop][nop][nop][nop][nop][nop][nop][nop][nop]\n",
            "------------------\n",
            "Original: [C][C][N][Branch1][=Branch1][C][Branch1][C][C][=O][C][C][C][N][Branch2][Ring2][Ring1][C][C][C@@H1][Branch2][Ring1][Branch1][C][N][Branch1][C][C][S][=Branch1][C][=O][=Branch1][C][=O][C][=C][C][=C][C][=C][Ring1][=Branch1][C][=C][C][=C][C][=C][Ring1][=Branch1][C][C][Ring2][Ring1][O][end][nop][nop][nop][nop][nop][nop][nop][nop][nop][nop][nop][nop][nop][nop][nop][nop][nop][nop][nop][nop][nop][nop][nop][nop][nop][nop][nop][nop][nop][nop][nop][nop][nop][nop][nop][nop][nop][nop][nop][nop][nop][nop][nop][nop][nop][nop][nop][nop][nop][nop][nop][nop][nop][nop][nop][nop] \n",
            "\n",
            "Decoded:  [Cl][O][=S][=Branch1][Branch2][=N+1][=N+1][=N+1][=N+1][=N+1][\\C][=Ring1][=N+1][=N+1][=Ring1][=N+1][=N+1][=Ring2][=Ring1][=N+1][=Ring2][=Ring1][=N+1][=N+1][=N+1][=N+1][=Ring2][=Ring2][=Ring2][=Ring2][=Ring2][=Ring2][=Ring2][=Ring2][=Ring2][=Ring2][=Ring2][=Ring2][=Ring2][=Ring2][=Ring2][=Ring2][=Ring2][=Ring2][=Ring2][=Ring2][=Ring2][=Ring2][=Ring2][=Ring2][=Ring2][=Ring2][=Ring2][=Ring2][=Ring2][=Ring2][=Ring2][end][end][end][nop][nop][nop][nop][nop][nop][nop][nop][nop][nop][nop][nop][nop][nop][nop][nop][nop][nop][nop][nop][nop][nop][nop][nop][nop][nop][nop][nop][nop][nop][nop][nop][nop][nop][nop][nop][nop][nop][nop][nop][nop][nop][nop][nop][nop][nop][nop][nop][nop][nop][nop][nop][nop]\n",
            "------------------\n",
            "Original: [O][=C][Branch1][C][O][C][C@H1][Branch2][Ring1][=Branch2][N][C][=Branch1][C][=O][C][=C][C][=C][C][Branch1][#Branch2][C][=C][C][=C][C][=C][Ring1][=Branch1][F][=N][Ring1][=N][C][=C][C][=C][C][=C][Ring1][=Branch1][F][end][nop][nop][nop][nop][nop][nop][nop][nop][nop][nop][nop][nop][nop][nop][nop][nop][nop][nop][nop][nop][nop][nop][nop][nop][nop][nop][nop][nop][nop][nop][nop][nop][nop][nop][nop][nop][nop][nop][nop][nop][nop][nop][nop][nop][nop][nop][nop][nop][nop][nop][nop][nop][nop][nop][nop][nop][nop][nop][nop][nop][nop][nop][nop][nop][nop][nop][nop][nop][nop] \n",
            "\n",
            "Decoded:  [=N+1][=N+1][/N][#Branch2][F][#Branch1][/N][/N][#N][Branch2][/N][\\O][=Ring1][/N][/N][/N][\\C][#N][#N][#Branch1][=Ring1][=Ring2][=Ring1][=Ring1][=Ring2][=Ring2][=Ring2][=Ring2][=Ring2][=Ring2][=Ring2][=Ring2][=Ring2][=Ring2][=Ring2][=Ring2][=Ring2][end][end][P][nop][nop][nop][nop][nop][nop][nop][nop][nop][nop][nop][nop][nop][nop][nop][nop][nop][nop][nop][nop][nop][nop][nop][nop][nop][nop][nop][nop][nop][nop][nop][nop][nop][nop][nop][nop][nop][nop][nop][nop][nop][nop][nop][nop][nop][nop][nop][nop][nop][nop][nop][nop][nop][nop][nop][nop][nop][nop][nop][nop][nop][nop][nop][nop][nop][nop][nop][nop][nop][nop][nop][nop][nop]\n",
            "------------------\n",
            "Original: [O][C][Branch1][N][C][N][C][C][=C][C][=C][C][=C][Ring1][=Branch1][C][=C][C][=C][Branch1][C][Cl][C][Branch1][C][Cl][=C][Ring1][Branch2][end][nop][nop][nop][nop][nop][nop][nop][nop][nop][nop][nop][nop][nop][nop][nop][nop][nop][nop][nop][nop][nop][nop][nop][nop][nop][nop][nop][nop][nop][nop][nop][nop][nop][nop][nop][nop][nop][nop][nop][nop][nop][nop][nop][nop][nop][nop][nop][nop][nop][nop][nop][nop][nop][nop][nop][nop][nop][nop][nop][nop][nop][nop][nop][nop][nop][nop][nop][nop][nop][nop][nop][nop][nop][nop][nop][nop][nop][nop][nop][nop][nop][nop][nop] \n",
            "\n",
            "Decoded:  [O][/N][/N][=Branch1][=Ring2][=O][\\C][\\C][\\C][\\O][\\O][\\O][\\O][\\O][/N][\\O][=Ring2][\\C][=Ring1][\\O][=Ring2][\\C][\\C][=Ring2][=Ring2][=Ring2][=Ring2][=Ring2][=Ring2][=Ring2][=Ring2][=Ring2][=Ring2][=Ring2][=Ring2][=Ring2][=Ring2][=Ring2][=Ring2][=Ring2][=Ring2][=Ring2][=Ring2][=Ring2][end][end][end][end][nop][nop][nop][nop][nop][nop][nop][nop][nop][nop][nop][nop][nop][nop][nop][nop][nop][nop][nop][nop][nop][nop][nop][nop][nop][nop][nop][nop][nop][nop][nop][nop][nop][nop][nop][nop][nop][nop][nop][nop][nop][nop][nop][nop][nop][nop][nop][nop][nop][nop][nop][nop][nop][nop][nop][nop][nop][nop][nop][nop][nop][nop][nop][nop][nop]\n",
            "------------------\n",
            "Original: [C][O][C][=C][C][=C][Branch2][Ring1][Branch1][O][C][C][=C][N][Branch1][#Branch2][C][C][=C][C][=C][C][=C][Ring1][=Branch1][N][=N][Ring1][N][C][=C][Ring2][Ring1][Ring2][end][nop][nop][nop][nop][nop][nop][nop][nop][nop][nop][nop][nop][nop][nop][nop][nop][nop][nop][nop][nop][nop][nop][nop][nop][nop][nop][nop][nop][nop][nop][nop][nop][nop][nop][nop][nop][nop][nop][nop][nop][nop][nop][nop][nop][nop][nop][nop][nop][nop][nop][nop][nop][nop][nop][nop][nop][nop][nop][nop][nop][nop][nop][nop][nop][nop][nop][nop][nop][nop][nop][nop][nop][nop][nop][nop][nop][nop][nop] \n",
            "\n",
            "Decoded:  [Cl][=N+1][/N][\\O][=Ring2][=O][#Branch1][=O][=N+1][\\O][\\O][\\O][\\O][\\O][\\O][#N][\\O][#N][=Ring1][#N][#N][#N][=Ring1][=Ring1][=Ring1][\\O][=Ring1][\\O][=Ring2][\\O][=Ring1][=Ring2][=Ring2][=Ring2][=Ring2][=Ring2][=Ring2][=Ring2][=Ring2][=Ring2][=Ring2][end][#N][end][end][nop][nop][nop][nop][nop][nop][nop][nop][nop][nop][nop][nop][nop][nop][nop][nop][nop][nop][nop][nop][nop][nop][nop][nop][nop][nop][nop][nop][nop][nop][nop][nop][nop][nop][nop][nop][nop][nop][nop][nop][nop][nop][nop][nop][nop][nop][nop][nop][nop][nop][nop][nop][nop][nop][nop][nop][nop][nop][nop][nop][nop][nop][nop][nop][nop][nop][nop][nop]\n",
            "------------------\n",
            "Original: [O][=C][Branch1][#Branch2][C][C][=C][C][=C][C][=C][Ring1][=Branch1][N][C][C][=Branch1][C][=O][N][C][C][C][=Branch2][Ring1][=Branch2][=C][C][=C][C][=C][Branch1][C][Cl][C][=C][Ring1][#Branch1][C][C][C][=C][C][=C][N][=C][Ring1][=Branch1][Ring1][S][C][C][Ring2][Ring1][=Branch1][end][nop][nop][nop][nop][nop][nop][nop][nop][nop][nop][nop][nop][nop][nop][nop][nop][nop][nop][nop][nop][nop][nop][nop][nop][nop][nop][nop][nop][nop][nop][nop][nop][nop][nop][nop][nop][nop][nop][nop][nop][nop][nop][nop][nop][nop][nop][nop][nop][nop][nop][nop][nop][nop][nop][nop][nop][nop] \n",
            "\n",
            "Decoded:  [Branch1][C@][Branch1][Branch1][Branch1][Branch1][Branch1][Branch1][Branch1][Branch1][Branch1][Branch1][Branch1][Branch1][Branch1][Branch1][Branch1][Branch1][Branch1][Branch1][Branch1][Branch1][Branch1][Branch1][Branch1][Branch1][Branch1][Branch1][Branch1][Branch1][Branch1][Branch1][Branch1][Branch1][Branch1][Branch1][Branch1][Branch1][Branch1][Branch1][Branch1][Branch1][Branch1][Branch1][Branch1][Branch1][Branch1][Branch1][Branch1][Branch1][Branch1][Branch1][Branch1][Branch1][Branch1][Branch1][Branch1][Branch1][Branch1][Branch1][Branch1][Branch1][Branch1][Branch1][Branch1][Branch1][Branch1][Branch1][Branch1][Branch1][Branch1][Branch1][Branch1][Branch1][Branch1][Branch1][Branch1][Branch1][Branch1][Branch1][Branch1][Branch1][Branch1][Branch1][Branch1][Branch1][Branch1][Branch1][Branch1][Branch1][Branch1][Branch1][Branch1][Branch1][Branch1][Branch1][Branch1][Branch1][Branch1][Branch1][Branch1][Branch1][Branch1][Branch1][Branch1][Branch1][Branch1][Branch1][Branch1][Branch1][Branch1][Branch1][Branch1]\n",
            "------------------\n",
            "Original: [C][O][C][=C][C][Branch2][Ring1][S][C][=N][C][Branch1][N][C][=C][C][=N][C][Branch1][C][C][=C][Ring1][#Branch1][=C][N][Ring1][N][C][C@@H1][Branch1][Ring1][C][F][O][C][C][Ring1][=Branch2][=C][C][=C][Ring2][Ring1][=Branch2][C][Branch1][C][F][F][end][nop][nop][nop][nop][nop][nop][nop][nop][nop][nop][nop][nop][nop][nop][nop][nop][nop][nop][nop][nop][nop][nop][nop][nop][nop][nop][nop][nop][nop][nop][nop][nop][nop][nop][nop][nop][nop][nop][nop][nop][nop][nop][nop][nop][nop][nop][nop][nop][nop][nop][nop][nop][nop][nop][nop][nop][nop][nop][nop][nop][nop][nop] \n",
            "\n",
            "Decoded:  [Br][#C][C@@H1][\\O][=Ring2][=O][#Branch1][=Ring1][=Ring1][\\O][\\O][\\O][\\O][\\O][=Ring1][#N][\\O][=Ring1][=Ring1][\\C][=Ring1][=Ring1][=Ring1][=Ring1][/O][=Ring2][=Ring2][=Ring1][=Ring2][=Ring2][=Ring1][=Ring1][=Ring2][=Ring2][=Ring2][=Ring2][=Ring2][=Ring2][=Ring2][=Ring2][=Ring2][=Ring2][end][end][end][end][end][end][end][end][end][end][end][end][end][end][end][end][end][end][end][end][end][end][end][end][end][end][end][end][end][end][end][end][end][end][end][end][end][end][end][end][end][end][end][end][end][end][end][end][end][end][end][end][end][end][end][end][end][end][end][end][end][end][end][end][end][end][end][end][end][end][end]\n",
            "------------------\n",
            "Original: [C][O][C][=C][C][Branch1][O][O][C][=Branch1][C][=O][N][Branch1][C][C][C][=C][C][O][C][=Branch1][C][=O][C][Branch1][#Branch2][C][C][=C][C][=C][C][=C][Ring1][=Branch1][=C][Branch1][C][C][C][Ring2][Ring1][=Branch2][=Ring1][#C][end][nop][nop][nop][nop][nop][nop][nop][nop][nop][nop][nop][nop][nop][nop][nop][nop][nop][nop][nop][nop][nop][nop][nop][nop][nop][nop][nop][nop][nop][nop][nop][nop][nop][nop][nop][nop][nop][nop][nop][nop][nop][nop][nop][nop][nop][nop][nop][nop][nop][nop][nop][nop][nop][nop][nop][nop][nop][nop][nop][nop][nop][nop][nop][nop][nop][nop] \n",
            "\n",
            "Decoded:  [=N+1][=N+1][/O][\\C][=O][/N][\\C][\\C][=N+1][\\O][\\O][\\O][\\O][=N+1][\\O][=Ring1][=N+1][\\O][=Ring1][\\N][=N+1][=N+1][=Ring1][#N][C@][/O][#N][#N][=N+1][=N+1][=N+1][=N+1][=N+1][=N+1][=N+1][=N+1][=N+1][=Ring2][=Ring2][=N+1][=Ring2][=Ring2][=Ring1][=Ring1][end][end][nop][nop][nop][nop][nop][nop][nop][nop][nop][nop][nop][nop][nop][nop][nop][nop][nop][nop][nop][nop][nop][nop][nop][nop][nop][nop][nop][nop][nop][nop][nop][nop][nop][nop][nop][nop][nop][nop][nop][nop][nop][nop][nop][nop][nop][nop][nop][nop][nop][nop][nop][nop][nop][nop][nop][nop][nop][nop][nop][nop][nop][nop][nop][nop][nop][nop][nop]\n",
            "------------------\n",
            "Original: [N][C@H1][C][C][C@H1][Branch2][Ring2][Branch2][N][C][=N][C][=C][N][C][Branch2][Ring1][Branch1][C][=C][C][=C][C][Branch1][O][N][C][C][=C][C][=C][C][=C][Ring1][=Branch1][=N][Ring1][=C][=C][N][=C][Ring2][Ring1][#Branch1][Ring2][Ring1][Ring1][C][C][Ring2][Ring1][=C][end][nop][nop][nop][nop][nop][nop][nop][nop][nop][nop][nop][nop][nop][nop][nop][nop][nop][nop][nop][nop][nop][nop][nop][nop][nop][nop][nop][nop][nop][nop][nop][nop][nop][nop][nop][nop][nop][nop][nop][nop][nop][nop][nop][nop][nop][nop][nop][nop][nop][nop][nop][nop][nop][nop][nop][nop][nop][nop][nop][nop] \n",
            "\n",
            "Decoded:  [F][O][C@][Branch1][Branch1][NH1][NH1][Branch1][=N+1][=N+1][\\O][#N][=S][\\O][\\O][\\O][=N+1][\\O][=S][=Ring1][=N+1][/O][=N+1][=N+1][=N+1][=N+1][=N+1][=N+1][=N+1][=N+1][=N+1][=N+1][#N][=N+1][#N][#N][=N+1][=N+1][=Ring2][=Ring2][=Ring1][=O][#N][#N][#N][nop][nop][nop][nop][nop][nop][nop][nop][nop][nop][nop][nop][nop][nop][nop][nop][nop][nop][nop][nop][nop][nop][nop][nop][nop][nop][nop][nop][nop][nop][nop][nop][nop][nop][nop][nop][nop][nop][nop][nop][nop][nop][nop][nop][nop][nop][nop][nop][nop][nop][nop][nop][nop][nop][nop][nop][nop][nop][nop][nop][nop][nop][nop][nop][nop][nop][nop][nop]\n",
            "------------------\n",
            "Original: [C][O][C][=C][C][=C][Branch2][Ring1][Ring2][C][=Branch1][=Branch1][=C][Branch1][C][Cl][Cl][C][=C][C][=C][Branch1][C][O][C][=C][Ring1][#Branch1][C][=C][Ring1][P][end][nop][nop][nop][nop][nop][nop][nop][nop][nop][nop][nop][nop][nop][nop][nop][nop][nop][nop][nop][nop][nop][nop][nop][nop][nop][nop][nop][nop][nop][nop][nop][nop][nop][nop][nop][nop][nop][nop][nop][nop][nop][nop][nop][nop][nop][nop][nop][nop][nop][nop][nop][nop][nop][nop][nop][nop][nop][nop][nop][nop][nop][nop][nop][nop][nop][nop][nop][nop][nop][nop][nop][nop][nop][nop][nop][nop][nop][nop][nop][nop] \n",
            "\n",
            "Decoded:  [F][O][C@][Branch1][Branch1][=O][Branch2][Branch2][=N+1][=N+1][\\O][#N][=S][/O][#N][#N][/O][=S][=Ring1][=Ring1][/O][=N+1][=N+1][=N+1][=N+1][=N+1][=N+1][=N+1][=N+1][=N+1][#N][#N][=Ring1][=Ring1][=Ring1][#N][=Ring2][=Ring2][=Ring1][=Ring1][end][end][nop][nop][nop][nop][nop][nop][nop][nop][nop][nop][nop][nop][nop][nop][nop][nop][nop][nop][nop][nop][nop][nop][nop][nop][nop][nop][nop][nop][nop][nop][nop][nop][nop][nop][nop][nop][nop][nop][nop][nop][nop][nop][nop][nop][nop][nop][nop][nop][nop][nop][nop][nop][nop][nop][nop][nop][nop][nop][nop][nop][nop][nop][nop][nop][nop][nop][nop][nop][nop][nop][nop]\n",
            "------------------\n",
            "Original: [O][=C][Branch1][C][O][C][C][=C][N][Branch2][Ring2][C][C][=C][N][=C][C][Branch2][Ring1][=Branch1][N][C][=C][Branch1][#Branch1][C][C][=Branch1][C][=O][O][C][=C][C][=C][C][=C][Ring1][=Branch1][Ring1][=N][=N][Ring2][Ring1][Ring1][C][=C][C][=C][C][=C][Ring2][Ring1][N][Ring1][=Branch1][end][nop][nop][nop][nop][nop][nop][nop][nop][nop][nop][nop][nop][nop][nop][nop][nop][nop][nop][nop][nop][nop][nop][nop][nop][nop][nop][nop][nop][nop][nop][nop][nop][nop][nop][nop][nop][nop][nop][nop][nop][nop][nop][nop][nop][nop][nop][nop][nop][nop][nop][nop][nop][nop][nop][nop][nop] \n",
            "\n",
            "Decoded:  [=N+1][=N+1][=N+1][/O][=O][=N+1][=N+1][=N+1][=N+1][/N][=Ring1][=Ring1][=Ring2][=Ring1][=Ring2][=Ring1][=Ring1][=Ring1][=Ring1][=Ring1][=Ring1][=Ring1][=Ring1][=Ring1][=Ring1][=Ring2][=Ring2][=Ring2][=Ring2][=Ring2][=Ring2][=Ring2][=Ring2][=Ring2][=Ring2][=Ring2][=Ring2][=Ring2][=Ring2][=Ring2][=Ring2][=Ring2][=Ring2][=Ring2][=Ring2][=Ring2][=Ring2][=Ring2][=Ring2][=Ring2][=Ring2][end][end][end][nop][nop][nop][nop][nop][nop][nop][nop][nop][nop][nop][nop][nop][nop][nop][nop][nop][nop][nop][nop][nop][nop][nop][nop][nop][nop][nop][nop][nop][nop][nop][nop][nop][nop][nop][nop][nop][nop][nop][nop][nop][nop][nop][nop][nop][nop][nop][nop][nop][nop][nop][nop][nop][nop][nop][nop][nop][nop][nop]\n",
            "------------------\n",
            "Original: [C][S][=Branch1][C][=O][=Branch1][C][=O][O][C][C][Branch1][=Branch2][C][=C][C][=C][C][=C][Ring1][=Branch1][=C][Branch1][=Branch2][C][=C][C][=C][C][=C][Ring1][=Branch1][N][C][=C][C][Branch1][Ring1][C][#N][=C][C][=Ring2][Ring1][#Branch1][Ring1][Branch2][end][nop][nop][nop][nop][nop][nop][nop][nop][nop][nop][nop][nop][nop][nop][nop][nop][nop][nop][nop][nop][nop][nop][nop][nop][nop][nop][nop][nop][nop][nop][nop][nop][nop][nop][nop][nop][nop][nop][nop][nop][nop][nop][nop][nop][nop][nop][nop][nop][nop][nop][nop][nop][nop][nop][nop][nop][nop][nop][nop][nop][nop][nop][nop][nop][nop] \n",
            "\n",
            "Decoded:  [O][O][=S][NH1][Branch2][=N+1][=N+1][=N+1][=N+1][=N+1][=Ring1][\\C][=N+1][=N+1][=N+1][=Ring1][=N+1][=N+1][=Ring1][=N+1][=N+1][=N+1][=N+1][=N+1][=N+1][=N+1][=N+1][=N+1][=N+1][=Ring2][=Ring2][=Ring2][=Ring2][=Ring2][=Ring2][=Ring2][=Ring2][=Ring2][=Ring2][=Ring2][=Ring2][=Ring2][=Ring2][=Ring2][=Ring2][=Ring2][=Ring2][=Ring2][=Ring2][=Ring2][=Ring2][=Ring2][=Ring2][=Ring2][=Ring2][=Ring2][=Ring2][end][end][end][nop][nop][nop][nop][nop][nop][nop][nop][nop][nop][nop][nop][nop][nop][nop][nop][nop][nop][nop][nop][nop][nop][nop][nop][nop][nop][nop][nop][nop][nop][nop][nop][nop][nop][nop][nop][nop][nop][nop][nop][nop][nop][nop][nop][nop][nop][nop][nop][nop][nop][nop][nop][nop]\n",
            "------------------\n",
            "Original: [C][O][C][=C][C][=C][Branch2][Ring1][Ring1][S][=Branch1][C][=O][=Branch1][C][=O][C][C][Branch1][C][C][=N][O][N+1][=Ring1][=Branch1][O-1][C][=C][Ring1][S][end][nop][nop][nop][nop][nop][nop][nop][nop][nop][nop][nop][nop][nop][nop][nop][nop][nop][nop][nop][nop][nop][nop][nop][nop][nop][nop][nop][nop][nop][nop][nop][nop][nop][nop][nop][nop][nop][nop][nop][nop][nop][nop][nop][nop][nop][nop][nop][nop][nop][nop][nop][nop][nop][nop][nop][nop][nop][nop][nop][nop][nop][nop][nop][nop][nop][nop][nop][nop][nop][nop][nop][nop][nop][nop][nop][nop][nop][nop][nop][nop][nop] \n",
            "\n",
            "Decoded:  [O][=N+1][/N][/N][=S][=S][#N][/N][/N][#N][#N][/N][/N][/N][/N][/N][/N][/N][#N][/N][#N][#N][#N][#N][/N][/N][#N][/N][=Ring2][=Ring2][=Ring2][=Ring2][=Ring2][=Ring2][\\O][\\O][#N][#N][#N][#N][#N][#N][=Ring2][=Ring2][=Ring2][=Ring2][#N][#N][#N][end][#N][#N][#N][#N][#N][#N][#N][#N][#N][#N][nop][nop][nop][nop][nop][nop][nop][nop][nop][nop][nop][nop][nop][nop][nop][nop][nop][nop][nop][nop][nop][nop][nop][nop][nop][nop][nop][nop][nop][nop][nop][nop][nop][nop][nop][nop][nop][nop][nop][nop][nop][nop][nop][nop][nop][nop][nop][nop][nop][nop][nop][nop][nop]\n",
            "------------------\n",
            "Original: [C][C][N][Branch1][Ring1][C][C][S][=Branch1][C][=O][=Branch1][C][=O][C][=C][C][=C][C][=Branch1][Ring2][=C][Ring1][=Branch1][N][Branch1][=N][C][C][=Branch1][C][=O][N][C][C][C][C][Ring1][Branch1][C][=Branch1][C][=O][C][O][Ring1][S][end][nop][nop][nop][nop][nop][nop][nop][nop][nop][nop][nop][nop][nop][nop][nop][nop][nop][nop][nop][nop][nop][nop][nop][nop][nop][nop][nop][nop][nop][nop][nop][nop][nop][nop][nop][nop][nop][nop][nop][nop][nop][nop][nop][nop][nop][nop][nop][nop][nop][nop][nop][nop][nop][nop][nop][nop][nop][nop][nop][nop][nop][nop][nop][nop][nop] \n",
            "\n",
            "Decoded:  [=N+1][=N+1][=S][Branch1][=O][=S][=S][=S][#N][=S][Branch1][=S][=N+1][=N+1][=S][=N+1][=N+1][=N+1][=N+1][=N+1][=N+1][=N+1][=N+1][=N+1][=S][=N+1][=N+1][=S][#N][#N][=N+1][=N+1][#N][#N][#N][#N][=N+1][=Ring2][=N+1][=S][=Ring2][=Ring2][=Ring2][=Ring2][=Ring2][=Ring2][=Ring2][=Ring2][#N][#N][#N][end][nop][nop][nop][nop][nop][nop][nop][nop][nop][nop][nop][nop][nop][nop][nop][nop][nop][nop][nop][nop][nop][nop][nop][nop][nop][nop][nop][nop][nop][nop][nop][nop][nop][nop][nop][nop][nop][nop][nop][nop][nop][nop][nop][nop][nop][nop][nop][nop][nop][nop][nop][nop][nop][nop][nop][nop][nop][nop][nop][nop][nop]\n",
            "------------------\n",
            "Original: [C][C][Branch1][C][C][Branch1][C][C][O][C][=Branch1][C][=O][C][C][=N][N][=C][Branch1][=C][C][=C][C][=C][C][=C][C][=C][Ring1][=Branch1][NH1][Ring1][=Branch2][S][Ring1][=C][end][nop][nop][nop][nop][nop][nop][nop][nop][nop][nop][nop][nop][nop][nop][nop][nop][nop][nop][nop][nop][nop][nop][nop][nop][nop][nop][nop][nop][nop][nop][nop][nop][nop][nop][nop][nop][nop][nop][nop][nop][nop][nop][nop][nop][nop][nop][nop][nop][nop][nop][nop][nop][nop][nop][nop][nop][nop][nop][nop][nop][nop][nop][nop][nop][nop][nop][nop][nop][nop][nop][nop][nop][nop][nop][nop][nop] \n",
            "\n",
            "Decoded:  [=N+1][=N+1][=N+1][Branch2][=N+1][=N+1][\\C][=N+1][=N+1][=O][=Ring2][=Ring2][=Ring2][=Ring2][=Ring2][=Ring2][=Ring2][=Ring2][=Ring1][=Ring2][=Ring1][=Ring2][=Ring1][=Ring2][=Ring2][=Ring2][=Ring2][=Ring2][=Ring2][=Ring2][=Ring2][=Ring2][=Ring2][=Ring2][=Ring2][=Ring2][=Ring2][=Ring2][=Ring2][=Ring2][=Ring2][=Ring2][=Ring2][=Ring2][=Ring2][=Ring2][=Ring2][=Ring2][=Ring2][=Ring2][=Ring2][=Ring2][=Ring2][=Ring2][end][end][end][nop][nop][nop][nop][nop][nop][nop][nop][nop][nop][nop][nop][nop][nop][nop][nop][nop][nop][nop][nop][nop][nop][nop][nop][nop][nop][nop][nop][nop][nop][nop][nop][nop][nop][nop][nop][nop][nop][nop][nop][nop][nop][nop][nop][nop][nop][nop][nop][nop][nop][nop][nop][nop][nop][nop][nop]\n",
            "------------------\n",
            "Original: [C][N][C][=C][C][C][Branch2][Ring2][#C][C][=Branch1][C][=O][N][C][C][C][=C][C][=C][Branch1][=C][O][C][=Branch1][C][=O][C][Branch1][C][C][Branch1][C][C][C][C][Branch1][=C][O][C][=Branch1][C][=O][C][Branch1][C][C][Branch1][C][C][C][=C][Ring2][Ring1][Ring2][=C][Ring2][Ring1][#C][end][nop][nop][nop][nop][nop][nop][nop][nop][nop][nop][nop][nop][nop][nop][nop][nop][nop][nop][nop][nop][nop][nop][nop][nop][nop][nop][nop][nop][nop][nop][nop][nop][nop][nop][nop][nop][nop][nop][nop][nop][nop][nop][nop][nop][nop][nop][nop][nop][nop][nop][nop][nop][nop] \n",
            "\n",
            "Decoded:  [=Ring2][#C][Br][C@@H1][Br][Branch2][Ring2][I][=O][C@@H1][C@@H1][=O][O-1][Br][=Ring1][#Branch2][Br][Br][=Ring1][\\C][/O][/O][/O][/O][/O][/O][/O][/O][/O][/O][/O][/O][=Ring2][=Ring2][=Ring2][=Ring2][=Ring2][=Ring2][=Ring2][=Ring2][=Ring2][=Ring2][=Ring2][end][#N][end][end][nop][nop][nop][nop][nop][nop][nop][nop][nop][nop][nop][nop][nop][nop][nop][nop][nop][nop][nop][nop][nop][nop][nop][nop][nop][nop][nop][nop][nop][nop][nop][nop][nop][nop][nop][nop][nop][nop][nop][nop][nop][nop][nop][nop][nop][nop][nop][nop][nop][nop][nop][nop][nop][nop][nop][nop][nop][nop][nop][nop][nop][nop][nop][nop][nop][nop]\n",
            "------------------\n",
            "Original: [C][N][C][=Branch1][C][=O][C][=C][C][=C][Branch2][Ring1][#C][N][C][=Branch1][C][=O][N][C@@H1][C][C@][Branch1][C][C][Branch1][Ring1][C][F][O][C][=C][C][Branch1][C][Cl][=C][C][=C][Ring1][#Branch1][Ring1][=C][C][=C][C][=C][Ring2][Ring1][Branch2][Ring2][Ring1][=N][end][nop][nop][nop][nop][nop][nop][nop][nop][nop][nop][nop][nop][nop][nop][nop][nop][nop][nop][nop][nop][nop][nop][nop][nop][nop][nop][nop][nop][nop][nop][nop][nop][nop][nop][nop][nop][nop][nop][nop][nop][nop][nop][nop][nop][nop][nop][nop][nop][nop][nop][nop][nop][nop][nop][nop][nop][nop][nop][nop] \n",
            "\n",
            "Decoded:  [=N+1][=N+1][=N+1][Branch2][\\O][\\O][\\O][\\O][\\O][\\O][\\O][\\O][\\O][/O][Branch2][\\O][\\O][\\O][\\O][\\N][=O][/O][=Ring2][\\N][\\N][#N][=Ring2][N+1][#N][=Ring2][=Ring2][=Ring2][=Ring2][=Ring2][=Ring2][=Ring2][=Ring2][=Ring2][=Ring2][end][end][nop][nop][nop][nop][nop][nop][nop][nop][nop][nop][nop][nop][nop][nop][nop][nop][nop][nop][nop][nop][nop][nop][nop][nop][nop][nop][nop][nop][nop][nop][nop][nop][nop][nop][nop][nop][nop][nop][nop][nop][nop][nop][nop][nop][nop][nop][nop][nop][nop][nop][nop][nop][nop][nop][nop][nop][nop][nop][nop][nop][nop][nop][nop][nop][nop][nop][nop][nop][nop][nop][nop][nop]\n",
            "------------------\n",
            "Original: [C][C][=N][C][Branch1][=N][C][=Branch1][C][=O][N][C][C][C][=Branch1][C][=O][O][=C][Branch1][C][O][C][C][=C][Branch1][=Branch2][C][=C][C][=C][C][=C][Ring1][=Branch1][C][=Branch1][C][=O][N][Branch1][#Branch2][C][C][=C][C][=C][C][=C][Ring1][=Branch1][C][Ring2][Ring1][P][=Ring2][Ring1][Ring2][end][nop][nop][nop][nop][nop][nop][nop][nop][nop][nop][nop][nop][nop][nop][nop][nop][nop][nop][nop][nop][nop][nop][nop][nop][nop][nop][nop][nop][nop][nop][nop][nop][nop][nop][nop][nop][nop][nop][nop][nop][nop][nop][nop][nop][nop][nop][nop][nop][nop][nop][nop][nop][nop][nop] \n",
            "\n",
            "Decoded:  [F][C@][/N][/N][=Ring2][/N][\\C][#N][/N][\\O][/N][\\O][\\O][\\O][#N][/N][/N][#N][=Ring1][/N][/N][/N][=Ring1][/N][=Ring2][=Ring2][\\N][\\O][=Ring2][#N][#N][=Ring2][=Ring2][#N][=Ring2][=Ring2][=Ring2][=Ring2][=Ring2][=Ring2][=Ring2][=Ring2][end][end][end][end][nop][nop][nop][nop][nop][nop][nop][nop][nop][nop][nop][nop][nop][nop][nop][nop][nop][nop][nop][nop][nop][nop][nop][nop][nop][nop][nop][nop][nop][nop][nop][nop][nop][nop][nop][nop][nop][nop][nop][nop][nop][nop][nop][nop][nop][nop][nop][nop][nop][nop][nop][nop][nop][nop][nop][nop][nop][nop][nop][nop][nop][nop][nop][nop][nop][nop][nop]\n",
            "------------------\n",
            "Original: [C][O][C][=C][C][=C][Branch2][Ring1][=N][N][C][=Branch1][C][=O][O][C][Branch1][S][C][C][=C][C][=C][Branch1][C][O][C][Branch1][C][Br][=C][Ring1][Branch2][C][Ring1][#C][=O][C][=C][Ring2][Ring1][=Branch1][end][nop][nop][nop][nop][nop][nop][nop][nop][nop][nop][nop][nop][nop][nop][nop][nop][nop][nop][nop][nop][nop][nop][nop][nop][nop][nop][nop][nop][nop][nop][nop][nop][nop][nop][nop][nop][nop][nop][nop][nop][nop][nop][nop][nop][nop][nop][nop][nop][nop][nop][nop][nop][nop][nop][nop][nop][nop][nop][nop][nop][nop][nop][nop][nop][nop][nop][nop][nop][nop][nop] \n",
            "\n",
            "Decoded:  [=N+1][=N+1][=N+1][/O][=O][=N+1][=Ring1][=Ring1][=N+1][=Ring1][=Ring1][=Ring1][=Ring1][=Ring1][=Ring1][=Ring1][=Ring1][=Ring1][=Ring1][=Ring1][=Ring1][=Ring1][=Ring1][=Ring1][=Ring1][=Ring1][=Ring2][=Ring1][=Ring1][=Ring2][=Ring2][=Ring2][=Ring2][=Ring2][=Ring2][=Ring2][=Ring2][=Ring2][=Ring2][=Ring2][=Ring2][=Ring2][=Ring2][=Ring2][=Ring2][=Ring2][=Ring2][=Ring2][=Ring1][=Ring1][end][end][end][end][nop][nop][nop][nop][nop][nop][nop][nop][nop][nop][nop][nop][nop][nop][nop][nop][nop][nop][nop][nop][nop][nop][nop][nop][nop][nop][nop][nop][nop][nop][nop][nop][nop][nop][nop][nop][nop][nop][nop][nop][nop][nop][nop][nop][nop][nop][nop][nop][nop][nop][nop][nop][nop][nop][nop][nop][nop][nop][nop]\n",
            "------------------\n",
            "Original: [C][C][C@H1][Branch2][Ring1][=Branch2][C][N][N][=N][C][=C][Ring1][Branch1][C][C][C][C][N][C][=C][C][=Branch1][C][=O][NH1][C][Ring1][#Branch1][=O][C][=C][C][=C][C][Branch1][Branch2][O][C][C][C][C][Ring1][Ring1][=C][Ring1][O][end][nop][nop][nop][nop][nop][nop][nop][nop][nop][nop][nop][nop][nop][nop][nop][nop][nop][nop][nop][nop][nop][nop][nop][nop][nop][nop][nop][nop][nop][nop][nop][nop][nop][nop][nop][nop][nop][nop][nop][nop][nop][nop][nop][nop][nop][nop][nop][nop][nop][nop][nop][nop][nop][nop][nop][nop][nop][nop][nop][nop][nop][nop][nop][nop][nop] \n",
            "\n",
            "Decoded:  [=N+1][=N+1][\\O][#Branch2][\\O][\\C][\\O][\\O][\\O][\\O][\\N][\\N][\\O][/O][/O][#N][\\C][=N+1][#N][#N][=Ring1][=Ring1][=Ring1][=Ring1][=Ring1][#N][=Ring2][=Ring2][=Ring2][=Ring2][=Ring2][=Ring2][=Ring2][=Ring2][#N][end][end][nop][nop][nop][nop][nop][nop][nop][nop][nop][nop][nop][nop][nop][nop][nop][nop][nop][nop][nop][nop][nop][nop][nop][nop][nop][nop][nop][nop][nop][nop][nop][nop][nop][nop][nop][nop][nop][nop][nop][nop][nop][nop][nop][nop][nop][nop][nop][nop][nop][nop][nop][nop][nop][nop][nop][nop][nop][nop][nop][nop][nop][nop][nop][nop][nop][nop][nop][nop][nop][nop][nop][nop][nop][nop][nop][nop]\n",
            "------------------\n",
            "Original: [O][=C][C][C@H1][Branch2][Ring2][P][C][=Branch1][C][=O][N][C][C][=C][Branch2][Ring1][#Branch1][C][=C][C][=C][C][Branch1][=N][O][C][C][C][C][Branch1][C][F][Branch1][C][F][F][=C][Ring1][=C][N][Branch1][=Branch2][C][=C][C][=C][C][=C][Ring1][=Branch1][N][=Ring2][Ring1][=Branch2][C][N][Ring2][Ring1][P][end][nop][nop][nop][nop][nop][nop][nop][nop][nop][nop][nop][nop][nop][nop][nop][nop][nop][nop][nop][nop][nop][nop][nop][nop][nop][nop][nop][nop][nop][nop][nop][nop][nop][nop][nop][nop][nop][nop][nop][nop][nop][nop][nop][nop][nop][nop][nop][nop][nop][nop][nop][nop] \n",
            "\n",
            "Decoded:  [=Ring2][#C][Br][Br][Br][Branch2][Ring2][I][I][\\C][=Ring1][=Ring1][O-1][=Ring1][=Ring1][=Ring1][=Ring1][=Ring1][=Ring1][=Ring1][=Ring1][=Ring1][=Ring1][/O][/O][/O][/O][/O][/O][/O][/O][/O][/O][/O][/O][=Ring2][=Ring2][=Ring2][=Ring2][=Ring2][=Ring2][=Ring2][=Ring2][=Ring2][=Ring2][=Ring2][=Ring2][end][#N][end][end][end][#N][#N][#N][#N][#N][#N][#N][#N][#N][#N][#N][#N][#N][#N][#N][#N][#N][#N][#N][#N][#N][#N][#N][#N][#N][#N][#N][#N][#N][#N][#N][#N][#N][#N][#N][#N][#N][#N][#N][#N][#N][#N][#N][#N][#N][#N][#N][#N][#N][#N][#N][#N][#N][#N][#N][#N][#N][#N][#N][#N][#N]\n",
            "------------------\n",
            "Original: [C][C][Branch1][C][C][Branch1][C][C][C][=C][C][=C][Branch1][P][C][N][C][=N][C][=N][C][=C][C][=C][C][=C][Ring1][#Branch2][Ring1][=Branch1][C][=C][Ring2][Ring1][C][end][nop][nop][nop][nop][nop][nop][nop][nop][nop][nop][nop][nop][nop][nop][nop][nop][nop][nop][nop][nop][nop][nop][nop][nop][nop][nop][nop][nop][nop][nop][nop][nop][nop][nop][nop][nop][nop][nop][nop][nop][nop][nop][nop][nop][nop][nop][nop][nop][nop][nop][nop][nop][nop][nop][nop][nop][nop][nop][nop][nop][nop][nop][nop][nop][nop][nop][nop][nop][nop][nop][nop][nop][nop][nop][nop][nop][nop] \n",
            "\n",
            "Decoded:  [=N+1][=N+1][=N+1][=N+1][=O][=N+1][=Ring1][=N+1][=N+1][=Ring1][=Ring1][=Ring1][=Ring1][=Ring1][=Ring1][=Ring1][=Ring1][=Ring1][=Ring1][=Ring1][=Ring1][=Ring1][=Ring1][=Ring1][=Ring1][=Ring1][=Ring1][=Ring1][=Ring1][=Ring1][=Ring1][=Ring1][=Ring1][=Ring1][=Ring1][=Ring2][=Ring2][=Ring2][=Ring2][=Ring2][=Ring2][=Ring2][=Ring2][=Ring2][=Ring2][=Ring2][=Ring2][=Ring2][=Ring2][=Ring2][=Ring2][=Ring2][=Ring2][=Ring2][=Ring2][=Ring1][=Ring1][end][end][end][=Ring1][nop][nop][nop][nop][nop][nop][nop][nop][nop][nop][nop][nop][nop][nop][nop][nop][nop][nop][nop][nop][nop][nop][nop][nop][nop][nop][nop][nop][nop][nop][nop][nop][nop][nop][nop][nop][nop][nop][nop][nop][nop][nop][nop][nop][nop][nop][nop][nop][nop][nop][nop][nop]\n",
            "------------------\n",
            "Original: [C][C][=Branch1][C][=O][N][C][=N][C][=C][C][=C][Branch1][#C][C][=C][N][=C][N][=C][C][=N][C][Ring1][=Branch1][=C][Ring1][#Branch2][C][=C][Ring1][S][S][Ring2][Ring1][Ring1][end][nop][nop][nop][nop][nop][nop][nop][nop][nop][nop][nop][nop][nop][nop][nop][nop][nop][nop][nop][nop][nop][nop][nop][nop][nop][nop][nop][nop][nop][nop][nop][nop][nop][nop][nop][nop][nop][nop][nop][nop][nop][nop][nop][nop][nop][nop][nop][nop][nop][nop][nop][nop][nop][nop][nop][nop][nop][nop][nop][nop][nop][nop][nop][nop][nop][nop][nop][nop][nop][nop][nop][nop][nop][nop][nop][nop] \n",
            "\n",
            "Decoded:  [O][=N+1][=S][\\O][=O][=N+1][=O][=S][=N+1][\\O][=O][/O][/O][=N+1][=N+1][=N+1][=N+1][=N+1][/O][=N+1][=N+1][/O][=O][=N+1][=N+1][=N+1][=N+1][=N+1][=N+1][=N+1][=N+1][=N+1][=Ring2][=N+1][=N+1][=N+1][=N+1][=Ring2][=Ring2][=N+1][=N+1][=Ring2][=Ring2][=Ring2][=Ring2][=O][=O][end][end][end][nop][nop][nop][nop][nop][nop][nop][nop][nop][nop][nop][nop][nop][nop][nop][nop][nop][nop][nop][nop][nop][nop][nop][nop][nop][nop][nop][nop][nop][nop][nop][nop][nop][nop][nop][nop][nop][nop][nop][nop][nop][nop][nop][nop][nop][nop][nop][nop][nop][nop][nop][nop][nop][nop][nop][nop][nop][nop][nop][nop][nop][nop][nop]\n",
            "------------------\n",
            "Original: [C][C][N][C][C][N][C][Branch1][C][O][=N][C][=C][C][=C][C][Ring1][=N][=C][Ring1][=Branch1][Ring1][#Branch2][end][nop][nop][nop][nop][nop][nop][nop][nop][nop][nop][nop][nop][nop][nop][nop][nop][nop][nop][nop][nop][nop][nop][nop][nop][nop][nop][nop][nop][nop][nop][nop][nop][nop][nop][nop][nop][nop][nop][nop][nop][nop][nop][nop][nop][nop][nop][nop][nop][nop][nop][nop][nop][nop][nop][nop][nop][nop][nop][nop][nop][nop][nop][nop][nop][nop][nop][nop][nop][nop][nop][nop][nop][nop][nop][nop][nop][nop][nop][nop][nop][nop][nop][nop][nop][nop][nop][nop][nop][nop] \n",
            "\n",
            "Decoded:  [F][C@][Branch1][Branch1][Branch1][Branch1][Branch1][Branch1][Branch1][Branch1][Branch1][Branch1][Branch1][Branch1][Branch1][Branch1][Branch1][Branch1][Branch1][Branch1][Branch1][Branch1][Branch1][Branch1][Branch1][Branch1][Branch1][Branch1][Branch1][Branch1][Branch1][Branch1][Branch1][Branch1][Branch1][Branch1][Branch1][Branch1][Branch1][Branch1][Branch1][Branch1][Branch1][Branch1][Branch1][Branch1][Branch1][Branch1][Branch1][Branch1][Branch1][Branch1][Branch1][=Ring1][Branch1][Branch1][Branch1][Branch1][Branch1][Branch1][Branch1][Branch1][Branch1][Branch1][Branch1][Branch1][Branch1][Branch1][Branch1][Branch1][Branch1][Branch1][Branch1][Branch1][Branch1][Branch1][Branch1][Branch1][Branch1][Branch1][Branch1][Branch1][Branch1][Branch1][Branch1][Branch1][Branch1][Branch1][Branch1][Branch1][Branch1][Branch1][Branch1][Branch1][Branch1][Branch1][Branch1][Branch1][Branch1][Branch1][Branch1][Branch1][Branch1][Branch1][Branch1][Branch1][Branch1][Branch1][Branch1][Branch1][Branch1][Branch1][Branch1]\n",
            "------------------\n",
            "Original: [C][C][=N][C][Branch2][Ring1][Ring2][C@@H1][C][C@H1][Ring1][Ring1][C][=N][C][=C][C][=C][C][=C][Ring1][=Branch1][N][Ring1][=Branch2][C][=C][C][Branch1][O][N][C][=N][C][Branch1][C][C][=N][Ring1][=Branch1][=N][Ring2][Ring1][=Branch2][end][nop][nop][nop][nop][nop][nop][nop][nop][nop][nop][nop][nop][nop][nop][nop][nop][nop][nop][nop][nop][nop][nop][nop][nop][nop][nop][nop][nop][nop][nop][nop][nop][nop][nop][nop][nop][nop][nop][nop][nop][nop][nop][nop][nop][nop][nop][nop][nop][nop][nop][nop][nop][nop][nop][nop][nop][nop][nop][nop][nop][nop][nop][nop][nop][nop][nop][nop][nop] \n",
            "\n",
            "Decoded:  [=N+1][=N+1][=S][\\C][=O][=S][=Ring1][=Ring1][=N+1][=N+1][=O][=Ring1][=Ring1][=Ring1][=Ring1][=Ring1][=Ring1][=Ring1][=Ring1][=N+1][=Ring1][=Ring1][=Ring1][=Ring1][=Ring1][=Ring1][=Ring1][=Ring1][=Ring1][=Ring1][=Ring1][=Ring1][=Ring1][=Ring1][=Ring1][=Ring1][=Ring1][=Ring1][=Ring1][=Ring1][=Ring1][=Ring1][=Ring1][=Ring1][=Ring1][=N+1][=Ring2][=Ring2][=Ring2][=Ring1][=Ring1][end][#N][#N][#N][nop][nop][nop][nop][nop][nop][nop][nop][nop][nop][nop][nop][nop][nop][nop][nop][nop][nop][nop][nop][nop][nop][nop][nop][nop][nop][nop][nop][nop][nop][nop][nop][nop][nop][nop][nop][nop][nop][nop][nop][nop][nop][nop][nop][nop][nop][nop][nop][nop][nop][nop][nop][nop][nop][nop][nop][nop][nop]\n",
            "------------------\n",
            "Original: [C][C][C][C][C][Branch1][Ring1][C][C][C][N][C][=Branch1][C][=O][C][=C][C][=C][C][Branch1][=N][N][N][=C][C][=Branch1][C][=O][NH1][C][Ring1][#Branch1][=O][=C][Ring1][=C][end][nop][nop][nop][nop][nop][nop][nop][nop][nop][nop][nop][nop][nop][nop][nop][nop][nop][nop][nop][nop][nop][nop][nop][nop][nop][nop][nop][nop][nop][nop][nop][nop][nop][nop][nop][nop][nop][nop][nop][nop][nop][nop][nop][nop][nop][nop][nop][nop][nop][nop][nop][nop][nop][nop][nop][nop][nop][nop][nop][nop][nop][nop][nop][nop][nop][nop][nop][nop][nop][nop][nop][nop][nop][nop][nop] \n",
            "\n",
            "Decoded:  [=N+1][=N+1][=N+1][=N+1][=N+1][=N+1][\\C][=N+1][=N+1][=N+1][=Ring1][=Ring1][=N+1][=Ring1][=Ring1][=Ring1][=Ring2][=N+1][=Ring2][=Ring2][=Ring2][=Ring2][=Ring2][=Ring1][=Ring1][=Ring1][=Ring1][=Ring1][=Ring2][=Ring2][=Ring2][=Ring2][=Ring2][=Ring2][=Ring2][=Ring2][=Ring2][=Ring2][=Ring2][=Ring2][=Ring2][=Ring2][=Ring2][=Ring2][=Ring2][=Ring2][=Ring2][=Ring2][=Ring2][=Ring2][=Ring2][=Ring2][=Ring2][=Ring2][=Ring2][=Ring2][=Ring2][=Ring2][end][end][end][nop][nop][nop][nop][nop][nop][nop][nop][nop][nop][nop][nop][nop][nop][nop][nop][nop][nop][nop][nop][nop][nop][nop][nop][nop][nop][nop][nop][nop][nop][nop][nop][nop][nop][nop][nop][nop][nop][nop][nop][nop][nop][nop][nop][nop][nop][nop][nop][nop][nop][nop][nop]\n",
            "------------------\n",
            "Original: [C][C][C][=Branch1][C][=O][N][Branch1][C][C][C][=C][C][=C][Branch1][=C][C][=Branch1][C][=O][N][C][=C][C][=C][C][=C][Ring1][=Branch1][C][=C][Ring1][#C][N][Ring2][Ring1][Branch1][C][C][C][Ring1][Ring1][end][nop][nop][nop][nop][nop][nop][nop][nop][nop][nop][nop][nop][nop][nop][nop][nop][nop][nop][nop][nop][nop][nop][nop][nop][nop][nop][nop][nop][nop][nop][nop][nop][nop][nop][nop][nop][nop][nop][nop][nop][nop][nop][nop][nop][nop][nop][nop][nop][nop][nop][nop][nop][nop][nop][nop][nop][nop][nop][nop][nop][nop][nop][nop][nop][nop][nop][nop][nop][nop][nop] \n",
            "\n",
            "Decoded:  [=N+1][=N+1][=S][Branch1][=O][=S][=S][=S][#N][=S][Branch1][=S][=N+1][=N+1][=S][=N+1][=N+1][=N+1][=N+1][=N+1][=N+1][=N+1][=N+1][=N+1][=S][=N+1][=N+1][=S][#N][#N][=N+1][=N+1][#N][#N][#N][#N][=N+1][=Ring2][=N+1][=S][=Ring2][=Ring2][=Ring2][=Ring2][=Ring2][=Ring2][=Ring2][=Ring2][#N][#N][#N][end][nop][nop][nop][nop][nop][nop][nop][nop][nop][nop][nop][nop][nop][nop][nop][nop][nop][nop][nop][nop][nop][nop][nop][nop][nop][nop][nop][nop][nop][nop][nop][nop][nop][nop][nop][nop][nop][nop][nop][nop][nop][nop][nop][nop][nop][nop][nop][nop][nop][nop][nop][nop][nop][nop][nop][nop][nop][nop][nop][nop][nop]\n",
            "------------------\n",
            "Original: [C][C][N][C][=C][C][Branch1][Branch2][C][C][=N][NH1][C][=Ring1][Branch1][=C][C][=C][Ring1][O][C][=Branch1][C][=O][N][C][Ring1][S][Branch1][C][C][C][end][nop][nop][nop][nop][nop][nop][nop][nop][nop][nop][nop][nop][nop][nop][nop][nop][nop][nop][nop][nop][nop][nop][nop][nop][nop][nop][nop][nop][nop][nop][nop][nop][nop][nop][nop][nop][nop][nop][nop][nop][nop][nop][nop][nop][nop][nop][nop][nop][nop][nop][nop][nop][nop][nop][nop][nop][nop][nop][nop][nop][nop][nop][nop][nop][nop][nop][nop][nop][nop][nop][nop][nop][nop][nop][nop][nop][nop][nop][nop][nop] \n",
            "\n",
            "Decoded:  [=N+1][=N+1][C@][\\O][C@][C@][\\O][\\O][=N+1][\\O][\\O][\\O][\\O][\\O][\\O][\\O][\\O][\\O][\\O][\\O][/O][=N+1][/O][=N+1][=N+1][=N+1][=N+1][=N+1][=N+1][=N+1][=N+1][=N+1][=N+1][=N+1][=N+1][=Ring1][=Ring1][=Ring1][=Ring1][=Ring2][=Ring1][=Ring1][=Ring1][end][end][nop][nop][nop][nop][nop][nop][nop][nop][nop][nop][nop][nop][nop][nop][nop][nop][nop][nop][nop][nop][nop][nop][nop][nop][nop][nop][nop][nop][nop][nop][nop][nop][nop][nop][nop][nop][nop][nop][nop][nop][nop][nop][nop][nop][nop][nop][nop][nop][nop][nop][nop][nop][nop][nop][nop][nop][nop][nop][nop][nop][nop][nop][nop][nop][nop][nop][nop][nop]\n",
            "------------------\n",
            "Original: [C][O][C@H1][O][C@][Branch1][C][C][C][C][C@H1][C][C][C][C@@H1][Branch1][Ring2][C][C][O][C][Ring1][=Branch2][Ring1][#C][O][O][Ring1][#C][end][nop][nop][nop][nop][nop][nop][nop][nop][nop][nop][nop][nop][nop][nop][nop][nop][nop][nop][nop][nop][nop][nop][nop][nop][nop][nop][nop][nop][nop][nop][nop][nop][nop][nop][nop][nop][nop][nop][nop][nop][nop][nop][nop][nop][nop][nop][nop][nop][nop][nop][nop][nop][nop][nop][nop][nop][nop][nop][nop][nop][nop][nop][nop][nop][nop][nop][nop][nop][nop][nop][nop][nop][nop][nop][nop][nop][nop][nop][nop][nop][nop][nop][nop] \n",
            "\n",
            "Decoded:  [=N+1][=N+1][=Ring2][=Ring2][=N+1][=Ring2][\\C][=N+1][=N+1][=Ring2][=Ring2][=Ring2][=Ring2][=Ring2][=Ring2][=Ring2][=Ring2][=Ring2][=Ring2][=Ring2][=Ring2][=Ring2][=Ring2][=Ring2][=Ring2][=Ring2][=Ring2][=Ring2][=Ring2][=Ring2][=Ring2][=Ring2][=Ring2][=Ring2][=Ring2][=Ring2][=Ring2][=Ring2][=Ring2][=Ring2][=Ring2][=Ring2][=Ring2][=Ring2][=Ring2][=Ring2][=Ring2][=Ring2][=Ring2][=Ring2][=Ring2][=Ring2][=Ring2][=Ring2][=Ring2][=Ring2][end][end][end][end][end][nop][nop][nop][nop][nop][nop][nop][nop][nop][nop][nop][nop][nop][nop][nop][nop][nop][nop][nop][nop][nop][nop][nop][nop][nop][nop][nop][nop][nop][nop][nop][nop][nop][nop][nop][nop][nop][nop][nop][nop][nop][nop][nop][nop][nop][nop][nop][nop][nop][nop][nop][nop]\n",
            "------------------\n",
            "Original: [O][=C][Branch2][Ring2][C][N][C][=C][C][=C][Branch2][Ring1][Branch1][C][=Branch1][C][=O][N][C][C][C][Branch1][#Branch1][C][C][C][N][Ring1][Branch1][C][C][Ring1][#Branch2][C][=C][Ring2][Ring1][C][N][C][C][=C][C][=N][C][=C][Ring1][=Branch1][C][Ring1][=Branch2][end][nop][nop][nop][nop][nop][nop][nop][nop][nop][nop][nop][nop][nop][nop][nop][nop][nop][nop][nop][nop][nop][nop][nop][nop][nop][nop][nop][nop][nop][nop][nop][nop][nop][nop][nop][nop][nop][nop][nop][nop][nop][nop][nop][nop][nop][nop][nop][nop][nop][nop][nop][nop][nop][nop][nop][nop][nop][nop][nop][nop][nop] \n",
            "\n",
            "Decoded:  [F][=N+1][Branch1][Branch1][Branch1][\\O][\\O][\\O][\\O][\\O][Branch1][=S][C@][C@][Branch1][Branch1][=N+1][=N+1][=N+1][=N+1][=N+1][=N+1][=Ring1][Branch1][C@][C@][C@][C@][C@][C@][Branch1][C@][F][Branch1][#N][end][nop][nop][nop][nop][nop][nop][nop][nop][nop][nop][nop][nop][nop][nop][nop][nop][nop][nop][nop][nop][nop][nop][nop][nop][nop][nop][nop][nop][nop][nop][nop][nop][nop][nop][nop][nop][nop][nop][nop][nop][nop][nop][nop][nop][nop][nop][nop][nop][nop][nop][nop][nop][nop][nop][nop][nop][nop][nop][nop][nop][nop][nop][nop][nop][nop][nop][nop][nop][nop][nop][nop][nop][nop][nop][nop][nop][nop]\n",
            "------------------\n",
            "Original: [O][=C][Branch2][Ring2][=Branch1][C][C][C][C][C][N][C][=Branch1][C][=O][N][C][=C][C][=C][C][Branch1][P][C][=N][C][=C][C][Branch1][C][F][=C][C][=C][Ring1][#Branch1][O][Ring1][#Branch2][=C][Ring1][S][N][O][end][nop][nop][nop][nop][nop][nop][nop][nop][nop][nop][nop][nop][nop][nop][nop][nop][nop][nop][nop][nop][nop][nop][nop][nop][nop][nop][nop][nop][nop][nop][nop][nop][nop][nop][nop][nop][nop][nop][nop][nop][nop][nop][nop][nop][nop][nop][nop][nop][nop][nop][nop][nop][nop][nop][nop][nop][nop][nop][nop][nop][nop][nop][nop][nop][nop][nop][nop][nop] \n",
            "\n",
            "Decoded:  [=N+1][#C][/N][/N][Branch2][/N][I][/N][\\O][\\O][#N][#N][I][C@@][C@@][#N][#N][\\O][#N][#N][\\N][#N][#N][#N][#N][#N][#N][#N][C@@][#N][C@@][#N][#N][=Ring1][#N][end][end][end][end][end][#N][nop][nop][nop][nop][nop][nop][nop][nop][nop][nop][nop][nop][nop][nop][nop][nop][nop][nop][nop][nop][nop][nop][nop][nop][nop][nop][nop][nop][nop][nop][nop][nop][nop][nop][nop][nop][nop][nop][nop][nop][nop][nop][nop][nop][nop][nop][nop][nop][nop][nop][nop][nop][nop][nop][nop][nop][nop][nop][nop][nop][nop][nop][nop][nop][nop][nop][nop][nop][nop][nop][nop][nop]\n",
            "------------------\n",
            "Original: [O][=C][C][=C][Branch1][Branch2][C][C][C][C][C][Ring1][Branch1][C][=C][C][=C][C][=C][Ring1][=Branch1][C][Ring1][#C][=O][end][nop][nop][nop][nop][nop][nop][nop][nop][nop][nop][nop][nop][nop][nop][nop][nop][nop][nop][nop][nop][nop][nop][nop][nop][nop][nop][nop][nop][nop][nop][nop][nop][nop][nop][nop][nop][nop][nop][nop][nop][nop][nop][nop][nop][nop][nop][nop][nop][nop][nop][nop][nop][nop][nop][nop][nop][nop][nop][nop][nop][nop][nop][nop][nop][nop][nop][nop][nop][nop][nop][nop][nop][nop][nop][nop][nop][nop][nop][nop][nop][nop][nop][nop][nop][nop][nop][nop] \n",
            "\n",
            "Decoded:  [\\O][/N][=S][=S][=S][=S][=S][=S][=S][=S][=S][=S][=S][=S][=S][I][I][I][I][F][F][F][F][=Ring2][=Ring2][=Ring2][end][end][end][end][end][end][end][end][end][end][end][end][end][end][end][end][end][end][end][end][end][end][end][end][end][end][end][end][end][end][end][end][end][end][end][end][end][end][end][end][end][end][end][end][end][end][end][end][end][end][end][end][end][end][end][end][end][end][end][end][end][end][end][end][end][end][end][end][end][end][end][end][end][end][end][end][end][end][end][end][end][end][end][end][end][end][end]\n",
            "------------------\n",
            "Original: [C][C][N][C][=Branch1][C][=O][C][=C][C][Branch1][Ring1][O][C][=C][C][=C][Ring1][Branch2][N][C][Branch1][Ring1][C][Cl][=N][N][=C][Ring2][Ring1][C][Ring1][#Branch1][end][nop][nop][nop][nop][nop][nop][nop][nop][nop][nop][nop][nop][nop][nop][nop][nop][nop][nop][nop][nop][nop][nop][nop][nop][nop][nop][nop][nop][nop][nop][nop][nop][nop][nop][nop][nop][nop][nop][nop][nop][nop][nop][nop][nop][nop][nop][nop][nop][nop][nop][nop][nop][nop][nop][nop][nop][nop][nop][nop][nop][nop][nop][nop][nop][nop][nop][nop][nop][nop][nop][nop][nop][nop][nop][nop][nop][nop][nop][nop] \n",
            "\n",
            "Decoded:  [=N+1][=N+1][\\O][#Branch2][=O][\\O][\\O][\\C][=N+1][C@][C@][\\O][\\O][=Ring2][=Ring1][/O][\\O][\\O][\\O][#Branch2][\\O][/O][=Ring2][#N][#Branch2][=Ring2][=Ring2][=Ring1][=Ring1][=Ring2][=Ring2][=Ring2][=Ring2][=Ring2][=Ring2][=Ring2][=Ring2][=Ring2][=Ring2][end][end][end][nop][nop][nop][nop][nop][nop][nop][nop][nop][nop][nop][nop][nop][nop][nop][nop][nop][nop][nop][nop][nop][nop][nop][nop][nop][nop][nop][nop][nop][nop][nop][nop][nop][nop][nop][nop][nop][nop][nop][nop][nop][nop][nop][nop][nop][nop][nop][nop][nop][nop][nop][nop][nop][nop][nop][nop][nop][nop][nop][nop][nop][nop][nop][nop][nop][nop][nop][nop][nop][nop][nop]\n",
            "------------------\n",
            "Original: [C][C][Branch1][C][C][Branch2][Ring1][Branch1][C][N][C][=Branch1][C][=O][C][=C][N][=C][C][=C][C][=C][C][Ring1][=Branch1][=N][Ring1][#Branch2][C][=C][C][=C][C][=N][Ring1][=Branch1][end][nop][nop][nop][nop][nop][nop][nop][nop][nop][nop][nop][nop][nop][nop][nop][nop][nop][nop][nop][nop][nop][nop][nop][nop][nop][nop][nop][nop][nop][nop][nop][nop][nop][nop][nop][nop][nop][nop][nop][nop][nop][nop][nop][nop][nop][nop][nop][nop][nop][nop][nop][nop][nop][nop][nop][nop][nop][nop][nop][nop][nop][nop][nop][nop][nop][nop][nop][nop][nop][nop][nop][nop][nop][nop][nop][nop] \n",
            "\n",
            "Decoded:  [=N+1][=N+1][=N+1][=N+1][=O][/N][/N][=N+1][=N+1][/N][=Ring2][=Ring2][=Ring2][=Ring2][=Ring2][=Ring2][=Ring2][=Ring2][=Ring2][=Ring2][=Ring2][=Ring2][#N][=Ring2][=Ring2][=Ring2][=Ring2][=Ring2][=Ring2][=Ring2][=Ring2][=Ring2][=Ring2][=Ring2][=Ring2][=Ring2][=Ring2][=Ring2][=Ring2][=Ring2][=Ring2][=Ring2][=Ring2][=Ring2][=Ring2][=Ring2][=Ring2][=Ring2][=Ring2][=Ring2][=Ring2][=Ring2][=Ring2][end][end][nop][nop][nop][nop][nop][nop][nop][nop][nop][nop][nop][nop][nop][nop][nop][nop][nop][nop][nop][nop][nop][nop][nop][nop][nop][nop][nop][nop][nop][nop][nop][nop][nop][nop][nop][nop][nop][nop][nop][nop][nop][nop][nop][nop][nop][nop][nop][nop][nop][nop][nop][nop][nop][nop][nop][nop][nop][nop]\n",
            "------------------\n",
            "Original: [N][#C][C][=C][C][=C][Branch2][Ring1][O][N][C][=Branch1][C][=O][N][C][C][C][Branch1][C][O][C][=C][C][=C][Branch1][Ring1][C][=O][N][=C][Ring1][Branch2][Ring1][=N][N][=C][Ring2][Ring1][=Branch1][end][nop][nop][nop][nop][nop][nop][nop][nop][nop][nop][nop][nop][nop][nop][nop][nop][nop][nop][nop][nop][nop][nop][nop][nop][nop][nop][nop][nop][nop][nop][nop][nop][nop][nop][nop][nop][nop][nop][nop][nop][nop][nop][nop][nop][nop][nop][nop][nop][nop][nop][nop][nop][nop][nop][nop][nop][nop][nop][nop][nop][nop][nop][nop][nop][nop][nop][nop][nop][nop][nop][nop][nop] \n",
            "\n",
            "Decoded:  [O][=N+1][=S][NH1][NH1][=N+1][=Ring1][=N+1][=N+1][=N+1][=Ring1][=Ring1][=Ring1][=Ring1][=Ring1][=Ring1][=Ring1][=Ring1][=Ring1][=Ring1][=Ring1][=Ring1][=Ring1][=Ring1][=Ring1][=Ring1][=Ring1][=Ring1][=Ring1][=Ring1][=Ring1][=Ring1][=Ring1][=Ring1][=Ring1][=Ring1][=Ring1][=Ring1][=Ring1][=Ring1][=Ring1][=Ring2][=Ring2][=Ring1][=Ring1][=Ring1][=Ring2][=Ring1][=Ring1][=Ring1][=Ring2][=Ring2][=Ring1][=Ring1][end][end][end][end][nop][nop][nop][nop][nop][nop][nop][nop][nop][nop][nop][nop][nop][nop][nop][nop][nop][nop][nop][nop][nop][nop][nop][nop][nop][nop][nop][nop][nop][nop][nop][nop][nop][nop][nop][nop][nop][nop][nop][nop][nop][nop][nop][nop][nop][nop][nop][nop][nop][nop][nop][nop][nop][nop][nop]\n",
            "------------------\n",
            "Original: [C][O][C][=C][C][=C][C][=C][Branch2][Ring1][#Branch2][C][Branch1][C][O][Branch1][N][C][=C][C][=C][Branch1][C][Cl][C][=C][Ring1][#Branch1][C][=C][C][=C][N][=C][Ring1][=Branch1][O][C][Ring2][Ring1][Ring2][=C][Ring2][Ring1][Branch2][end][nop][nop][nop][nop][nop][nop][nop][nop][nop][nop][nop][nop][nop][nop][nop][nop][nop][nop][nop][nop][nop][nop][nop][nop][nop][nop][nop][nop][nop][nop][nop][nop][nop][nop][nop][nop][nop][nop][nop][nop][nop][nop][nop][nop][nop][nop][nop][nop][nop][nop][nop][nop][nop][nop][nop][nop][nop][nop][nop][nop][nop][nop][nop][nop][nop][nop][nop] \n",
            "\n",
            "Decoded:  [=N+1][=N+1][=N+1][\\C][=O][/N][/N][=N+1][=N+1][=N+1][#N][#N][=N+1][=N+1][#N][#N][=N+1][=N+1][#N][=N+1][=N+1][=N+1][/N][=N+1][=N+1][/N][=N+1][=N+1][=N+1][=Ring2][=Ring2][=Ring2][=Ring2][=Ring2][=Ring2][=Ring2][=Ring2][=Ring2][=Ring2][=Ring2][=Ring2][=Ring2][=Ring2][=Ring2][=Ring2][=Ring2][=Ring2][end][end][end][nop][nop][nop][nop][nop][nop][nop][nop][nop][nop][nop][nop][nop][nop][nop][nop][nop][nop][nop][nop][nop][nop][nop][nop][nop][nop][nop][nop][nop][nop][nop][nop][nop][nop][nop][nop][nop][nop][nop][nop][nop][nop][nop][nop][nop][nop][nop][nop][nop][nop][nop][nop][nop][nop][nop][nop][nop][nop][nop][nop][nop][nop][nop]\n",
            "------------------\n",
            "Original: [C][C][O][C][=Branch1][C][=O][C][=C][N][=C][N][Branch1][Branch1][C][Ring1][=Branch1][=O][C][C][C][C][/C][Ring1][=Branch2][=N][\\N][C][=C][C][=C][C][=C][Ring1][=Branch1][end][nop][nop][nop][nop][nop][nop][nop][nop][nop][nop][nop][nop][nop][nop][nop][nop][nop][nop][nop][nop][nop][nop][nop][nop][nop][nop][nop][nop][nop][nop][nop][nop][nop][nop][nop][nop][nop][nop][nop][nop][nop][nop][nop][nop][nop][nop][nop][nop][nop][nop][nop][nop][nop][nop][nop][nop][nop][nop][nop][nop][nop][nop][nop][nop][nop][nop][nop][nop][nop][nop][nop][nop][nop][nop][nop][nop][nop] \n",
            "\n",
            "Decoded:  [F][/N][C@][/C][C@H1][=Ring2][C@][#N][\\O][\\C][C@][C@H1][=Ring1][=Branch2][=Ring2][#N][\\O][\\O][#N][C@@][\\O][=Ring2][=Ring2][#N][#N][=Ring2][=Ring2][=Ring2][=Ring2][=Ring2][end][#N][#N][nop][nop][nop][nop][nop][nop][nop][nop][nop][nop][nop][nop][nop][nop][nop][nop][nop][nop][nop][nop][nop][nop][nop][nop][nop][nop][nop][nop][nop][nop][nop][nop][nop][nop][nop][nop][nop][nop][nop][nop][nop][nop][nop][nop][nop][nop][nop][nop][nop][nop][nop][nop][nop][nop][nop][nop][nop][nop][nop][nop][nop][nop][nop][nop][nop][nop][nop][nop][nop][nop][nop][nop][nop][nop][nop][nop][nop][nop][nop][nop]\n",
            "------------------\n",
            "Original: [C][C][=Branch1][C][=O][C][=C][C][=C][Branch1][=Branch1][C][Branch1][C][C][=O][C][C][Branch1][C][C][=C][Branch2][Ring1][S][C][=Branch1][C][=O][N][C][=C][C][Branch1][O][C][N][C][C][Branch1][C][O][C][Ring1][Branch1][=C][C][=C][C][=C][C][Ring1][=Branch1][=N][Ring1][S][S][C][Ring2][Ring1][S][=Ring2][Ring1][=Branch2][end][nop][nop][nop][nop][nop][nop][nop][nop][nop][nop][nop][nop][nop][nop][nop][nop][nop][nop][nop][nop][nop][nop][nop][nop][nop][nop][nop][nop][nop][nop][nop][nop][nop][nop][nop][nop][nop][nop][nop][nop][nop][nop][nop][nop][nop][nop][nop][nop] \n",
            "\n",
            "Decoded:  [=N+1][=N+1][Branch2][Ring2][=N+1][=N+1][=Ring1][=N+1][=N+1][=N+1][=Ring1][#N][=N+1][=N+1][C@@][=Ring1][=Ring1][=N+1][=Ring1][=Ring1][=Ring1][=N+1][=Ring1][=Ring1][=Ring2][=Ring1][=Ring1][=Ring1][=Ring1][=Ring1][=Ring1][=Ring1][=Ring2][=Ring2][=Ring2][=Ring2][=Ring2][=Ring2][=Ring2][=Ring2][=Ring2][=Ring2][=Ring2][=Ring2][=Ring2][=Ring2][=Ring2][=Ring2][=Ring2][=Ring2][=Ring2][=Ring2][=Ring2][=Ring2][=Ring2][=Ring2][=Ring2][=Ring2][=Ring2][=Ring2][=Ring2][=Ring2][=Ring2][=Ring2][=Ring2][end][end][end][nop][nop][nop][nop][nop][nop][nop][nop][nop][nop][nop][nop][nop][nop][nop][nop][nop][nop][nop][nop][nop][nop][nop][nop][nop][nop][nop][nop][nop][nop][nop][nop][nop][nop][nop][nop][nop][nop][nop][nop][nop][nop][nop][nop][nop]\n",
            "------------------\n",
            "Original: [C][O][C][=C][C][=C][C][Branch2][Ring1][#C][C][N][C][C][N][Branch2][Ring1][Ring1][C][=C][C][=C][Branch1][Branch2][C][C][=N][NH1][C][=Ring1][Branch1][C][=C][Ring1][O][F][C][Ring1][P][=O][=C][Ring2][Ring1][=Branch2][end][nop][nop][nop][nop][nop][nop][nop][nop][nop][nop][nop][nop][nop][nop][nop][nop][nop][nop][nop][nop][nop][nop][nop][nop][nop][nop][nop][nop][nop][nop][nop][nop][nop][nop][nop][nop][nop][nop][nop][nop][nop][nop][nop][nop][nop][nop][nop][nop][nop][nop][nop][nop][nop][nop][nop][nop][nop][nop][nop][nop][nop][nop][nop][nop][nop][nop][nop][nop] \n",
            "\n",
            "Decoded:  [O][=N+1][/N][C@@H1][=Ring2][=O][\\C][\\C][\\C][\\O][\\O][\\O][\\O][\\O][\\O][\\O][\\O][\\C][=Ring1][\\O][\\C][=Ring1][=Ring1][=Ring1][=Ring1][#N][=Ring2][=Ring2][=Ring2][=Ring2][=Ring2][=Ring2][=Ring2][=Ring2][=Ring2][=Ring2][=Ring2][=Ring2][=Ring2][=Ring2][=Ring2][=Ring2][=Ring2][=Ring2][end][end][end][end][end][end][end][end][end][end][nop][nop][nop][nop][nop][nop][nop][nop][nop][nop][nop][nop][nop][nop][nop][nop][nop][nop][nop][nop][nop][nop][nop][nop][nop][nop][nop][nop][nop][nop][nop][nop][nop][nop][nop][nop][nop][nop][nop][nop][nop][nop][nop][nop][nop][nop][nop][nop][nop][nop][nop][nop][nop][nop][nop][nop][nop][nop][nop]\n",
            "------------------\n",
            "Original: [O][=C][Branch1][=N][O][C][=C][C][=C][C][Branch1][C][I][=C][Ring1][#Branch1][C][=C][C][=C][C][Branch1][=Branch1][N+1][=Branch1][C][=O][O-1][=C][C][=C][Ring1][=Branch2][O][C][Ring1][=N][=O][end][nop][nop][nop][nop][nop][nop][nop][nop][nop][nop][nop][nop][nop][nop][nop][nop][nop][nop][nop][nop][nop][nop][nop][nop][nop][nop][nop][nop][nop][nop][nop][nop][nop][nop][nop][nop][nop][nop][nop][nop][nop][nop][nop][nop][nop][nop][nop][nop][nop][nop][nop][nop][nop][nop][nop][nop][nop][nop][nop][nop][nop][nop][nop][nop][nop][nop][nop][nop][nop][nop][nop][nop][nop][nop] \n",
            "\n",
            "Decoded:  [=N+1][=N+1][/N][/N][=Ring2][/N][=O][/N][=N+1][\\O][\\O][\\O][\\O][\\O][\\O][\\O][\\O][\\O][\\O][#N][\\O][\\O][=Ring1][=Ring1][=N+1][=N+1][\\O][=Ring1][=N+1][\\O][\\O][\\O][=Ring2][=Ring2][=Ring2][=Ring2][=Ring2][=Ring2][=Ring2][=Ring2][=Ring2][=Ring2][end][#N][#N][end][end][nop][nop][nop][nop][nop][nop][nop][nop][nop][nop][nop][nop][nop][nop][nop][nop][nop][nop][nop][nop][nop][nop][nop][nop][nop][nop][nop][nop][nop][nop][nop][nop][nop][nop][nop][nop][nop][nop][nop][nop][nop][nop][nop][nop][nop][nop][nop][nop][nop][nop][nop][nop][nop][nop][nop][nop][nop][nop][nop][nop][nop][nop][nop][nop][nop][nop]\n",
            "------------------\n",
            "Original: [C][C][=C][C][Branch2][Ring2][=N][N][S][=Branch1][C][=O][=Branch1][C][=O][C][=C][C][=C][Branch2][Ring1][=Branch2][N][/C][=N][/C][=N][C][=C][Branch1][#Branch2][C][Branch1][C][C][=C][Ring1][#Branch1][C][#N][C][C][C][C][Ring1][O][C][=C][Ring2][Ring1][=Branch1][=N][O][Ring2][Ring1][#C][end][nop][nop][nop][nop][nop][nop][nop][nop][nop][nop][nop][nop][nop][nop][nop][nop][nop][nop][nop][nop][nop][nop][nop][nop][nop][nop][nop][nop][nop][nop][nop][nop][nop][nop][nop][nop][nop][nop][nop][nop][nop][nop][nop][nop][nop][nop][nop][nop][nop][nop][nop][nop][nop][nop][nop][nop] \n",
            "\n",
            "Decoded:  [=Ring2][#C][C@@H1][Br][Br][Branch2][Ring2][I][=Ring1][=Ring1][=Ring1][=Ring1][=Ring1][=Ring1][=Ring1][=Ring1][=Ring1][=Ring1][=Ring1][=Ring1][=Ring1][Br][=Ring1][Br][=Ring1][#N][/O][/O][/O][/O][/O][#N][/O][/O][=Ring2][=Ring2][=Ring2][=Ring2][=Ring2][=Ring2][=Ring2][=Ring2][=Ring2][=Ring2][=Ring2][end][end][end][end][end][end][#N][#N][#N][#N][#N][#N][#N][#N][#N][#N][#N][#N][#N][#N][#N][#N][#N][#N][#N][#N][#N][#N][#N][#N][#N][#N][#N][#N][#N][#N][#N][#N][#N][#N][#N][#N][#N][#N][#N][#N][#N][#N][#N][#N][nop][nop][nop][nop][nop][nop][nop][nop][nop][nop][nop][nop][nop][nop][nop][nop][nop][nop]\n",
            "------------------\n",
            "Original: [C][O][C][=Branch1][C][=O][C][C][N][C][=Branch1][C][=O][C][=C][Branch1][C][C][N][=C][C][=C][C][=C][C][Ring1][=Branch1][=C][Ring1][O][C][Ring1][#C][=O][end][nop][nop][nop][nop][nop][nop][nop][nop][nop][nop][nop][nop][nop][nop][nop][nop][nop][nop][nop][nop][nop][nop][nop][nop][nop][nop][nop][nop][nop][nop][nop][nop][nop][nop][nop][nop][nop][nop][nop][nop][nop][nop][nop][nop][nop][nop][nop][nop][nop][nop][nop][nop][nop][nop][nop][nop][nop][nop][nop][nop][nop][nop][nop][nop][nop][nop][nop][nop][nop][nop][nop][nop][nop][nop][nop][nop][nop][nop] \n",
            "\n",
            "Decoded:  [=N+1][=N+1][=N+1][#Branch1][=O][=O][=Ring1][=N+1][=N+1][=N+1][=Ring1][=Ring1][=Ring2][=Ring2][=Ring1][=Ring1][=Ring2][=Ring1][=Ring1][=Ring2][=Ring2][=Ring2][=Ring2][=Ring2][=Ring1][=Ring2][=Ring2][=Ring2][=Ring2][=Ring2][=Ring2][=Ring2][=Ring2][=Ring2][=Ring2][=Ring2][=Ring2][=Ring2][=Ring2][=Ring2][=Ring2][=Ring2][=Ring2][=Ring2][=Ring2][=Ring2][=Ring2][=Ring2][=Ring2][=Ring2][=Ring2][=Ring2][=Ring2][=Ring2][=Ring2][=Ring2][=Ring2][end][end][end][end][nop][nop][nop][nop][nop][nop][nop][nop][nop][nop][nop][nop][nop][nop][nop][nop][nop][nop][nop][nop][nop][nop][nop][nop][nop][nop][nop][nop][nop][nop][nop][nop][nop][nop][nop][nop][nop][nop][nop][nop][nop][nop][nop][nop][nop][nop][nop][nop][nop][nop][nop][nop]\n",
            "------------------\n",
            "Original: [C][C][=N][C][Branch1][=C][C][#C][C][=C][C][=C][Branch1][C][F][N][=C][Ring1][#Branch1][=C][S][Ring1][=C][end][nop][nop][nop][nop][nop][nop][nop][nop][nop][nop][nop][nop][nop][nop][nop][nop][nop][nop][nop][nop][nop][nop][nop][nop][nop][nop][nop][nop][nop][nop][nop][nop][nop][nop][nop][nop][nop][nop][nop][nop][nop][nop][nop][nop][nop][nop][nop][nop][nop][nop][nop][nop][nop][nop][nop][nop][nop][nop][nop][nop][nop][nop][nop][nop][nop][nop][nop][nop][nop][nop][nop][nop][nop][nop][nop][nop][nop][nop][nop][nop][nop][nop][nop][nop][nop][nop][nop][nop][nop] \n",
            "\n",
            "Decoded:  [=N+1][=N+1][=S][/O][=O][=N+1][=O][=Ring1][=N+1][#N][\\O][\\O][=N+1][=N+1][=Ring1][\\O][=N+1][=N+1][/O][=N+1][=N+1][=N+1][=O][=O][=N+1][=S][=O][=N+1][=N+1][=N+1][=N+1][=Ring2][=Ring2][=Ring2][=Ring2][=Ring2][=Ring2][=N+1][=Ring2][=Ring2][=Ring2][=N+1][=N+1][=Ring2][=Ring2][=O][end][end][end][nop][nop][nop][nop][nop][nop][nop][nop][nop][nop][nop][nop][nop][nop][nop][nop][nop][nop][nop][nop][nop][nop][nop][nop][nop][nop][nop][nop][nop][nop][nop][nop][nop][nop][nop][nop][nop][nop][nop][nop][nop][nop][nop][nop][nop][nop][nop][nop][nop][nop][nop][nop][nop][nop][nop][nop][nop][nop][nop][nop][nop][nop][nop][nop]\n",
            "------------------\n",
            "Original: [C][/C][=Branch1][=Branch1][=N][\\O][C][C][#N][C][=C][C][=C][Branch2][Ring1][O][S][C][=N][C][=C][Branch1][P][C@@][Branch1][C][C][C][O][C][Branch1][C][C][Branch1][C][C][O][Ring1][Branch2][S][Ring1][=N][C][=C][Ring2][Ring1][Ring2][end][nop][nop][nop][nop][nop][nop][nop][nop][nop][nop][nop][nop][nop][nop][nop][nop][nop][nop][nop][nop][nop][nop][nop][nop][nop][nop][nop][nop][nop][nop][nop][nop][nop][nop][nop][nop][nop][nop][nop][nop][nop][nop][nop][nop][nop][nop][nop][nop][nop][nop][nop][nop][nop][nop][nop][nop][nop][nop][nop][nop][nop][nop][nop][nop][nop] \n",
            "\n",
            "Decoded:  [=Ring2][#C][/N][C@@H1][Branch2][=N+1][#Branch1][Ring2][Ring2][=Ring1][=Ring1][#N][\\O][=N+1][#N][#N][=Ring1][=Ring2][#N][=Ring2][=Ring2][=Ring1][=Ring2][=Ring2][=Ring2][=Ring2][=Ring2][=Ring2][=Ring2][=Ring2][=Ring2][=Ring2][=Ring2][=Ring2][=Ring2][=Ring2][=Ring2][=Ring2][=Ring2][=Ring2][=Ring2][=Ring2][=Ring2][=Ring2][=Ring2][=Ring2][=Ring2][=Ring2][end][end][end][end][nop][nop][nop][nop][nop][nop][nop][nop][nop][nop][nop][nop][nop][nop][nop][nop][nop][nop][nop][nop][nop][nop][nop][nop][nop][nop][nop][nop][nop][nop][nop][nop][nop][nop][nop][nop][nop][nop][nop][nop][nop][nop][nop][nop][nop][nop][nop][nop][nop][nop][nop][nop][nop][nop][nop][nop][nop][nop][nop][nop][nop]\n",
            "------------------\n",
            "Original: [C][C][Branch1][C][C][C][N][C][C][=C][Ring1][#Branch1][C][=C][C][NH1][C][Branch1][=C][N][C][=C][Branch1][C][Cl][C][=C][C][=C][Ring1][#Branch1][Cl][=N][C][Ring2][Ring1][C][=Ring1][=C][end][nop][nop][nop][nop][nop][nop][nop][nop][nop][nop][nop][nop][nop][nop][nop][nop][nop][nop][nop][nop][nop][nop][nop][nop][nop][nop][nop][nop][nop][nop][nop][nop][nop][nop][nop][nop][nop][nop][nop][nop][nop][nop][nop][nop][nop][nop][nop][nop][nop][nop][nop][nop][nop][nop][nop][nop][nop][nop][nop][nop][nop][nop][nop][nop][nop][nop][nop][nop][nop][nop][nop][nop][nop] \n",
            "\n",
            "Decoded:  [Cl][=N+1][=N+1][\\O][=O][=N+1][=Ring1][=Ring1][=N+1][=Ring1][=Ring1][=Ring1][=Ring1][=Ring1][=Ring1][=Ring1][=Ring1][=Ring1][=Ring1][=Ring1][=Ring1][=Ring1][=Ring1][=Ring1][=Ring1][=Ring1][=Ring2][=Ring2][=Ring2][=Ring2][=Ring2][=Ring2][=Ring2][=Ring2][=Ring2][=Ring2][=Ring2][=Ring2][=Ring2][=Ring2][=Ring2][=Ring2][=Ring2][=Ring2][=Ring2][=Ring2][=Ring2][=Ring2][=Ring2][=Ring2][=Ring2][=Ring2][=Ring1][end][end][end][nop][nop][nop][nop][nop][nop][nop][nop][nop][nop][nop][nop][nop][nop][nop][nop][nop][nop][nop][nop][nop][nop][nop][nop][nop][nop][nop][nop][nop][nop][nop][nop][nop][nop][nop][nop][nop][nop][nop][nop][nop][nop][nop][nop][nop][nop][nop][nop][nop][nop][nop][nop][nop][nop][nop][nop][nop]\n",
            "------------------\n",
            "Original: [O][=C][Branch2][Ring2][=Branch2][C][N][C][=N][C][Branch1][N][N][C][C@@H1][C][C@H1][Ring1][Branch1][C][O][Ring1][Branch1][=C][C][=Branch1][C][=O][N][Ring1][=C][C][C][C@H1][Ring2][Ring1][C][C][Branch1][C][F][Branch1][C][F][F][C][=C][C][=C][Branch1][#Branch1][N][C][C][C][Ring1][Ring1][N][=C][Ring1][#Branch2][end][nop][nop][nop][nop][nop][nop][nop][nop][nop][nop][nop][nop][nop][nop][nop][nop][nop][nop][nop][nop][nop][nop][nop][nop][nop][nop][nop][nop][nop][nop][nop][nop][nop][nop][nop][nop][nop][nop][nop][nop][nop][nop][nop][nop][nop][nop][nop][nop][nop][nop][nop] \n",
            "\n",
            "Decoded:  [Branch1][=N+1][Branch1][Branch1][Branch1][Branch1][Branch1][Branch1][Branch1][Branch1][Branch1][Branch1][Branch1][Branch1][Branch1][Branch1][Branch1][Branch1][Branch1][Branch1][Branch1][Branch1][Branch1][Branch1][Branch1][Branch1][Branch1][Branch1][Branch1][Branch1][Branch1][Branch1][Branch1][Branch1][Branch1][Branch1][Branch1][Branch1][Branch1][Branch1][Branch1][Branch1][Branch1][Branch1][Branch1][Branch1][Branch1][Branch1][Branch1][Branch1][Branch1][Branch1][Branch1][Branch1][Branch1][Branch1][Branch1][Branch1][Branch1][Branch1][Branch1][Branch1][Branch1][Branch1][Branch1][Branch1][Branch1][Branch1][Branch1][Branch1][Branch1][Branch1][Branch1][Branch1][Branch1][Branch1][Branch1][Branch1][Branch1][Branch1][Branch1][Branch1][Branch1][Branch1][Branch1][Branch1][Branch1][Branch1][Branch1][Branch1][Branch1][Branch1][Branch1][Branch1][Branch1][Branch1][Branch1][Branch1][Branch1][Branch1][Branch1][Branch1][Branch1][Branch1][Branch1][Branch1][Branch1][Branch1][Branch1][Branch1][Branch1][Branch1][Branch1]\n",
            "------------------\n",
            "Original: [C][N][N][=C][N][=C][Ring1][Branch1][C][=C][C][Branch1][C][Cl][=C][C][=C][Ring1][#Branch1][O][C][=C][C][=C][Branch1][S][S][=Branch1][C][=O][=Branch1][C][=O][N][C][=N][C][=C][S][Ring1][Branch1][C][=C][Ring1][#C][C][#N][end][nop][nop][nop][nop][nop][nop][nop][nop][nop][nop][nop][nop][nop][nop][nop][nop][nop][nop][nop][nop][nop][nop][nop][nop][nop][nop][nop][nop][nop][nop][nop][nop][nop][nop][nop][nop][nop][nop][nop][nop][nop][nop][nop][nop][nop][nop][nop][nop][nop][nop][nop][nop][nop][nop][nop][nop][nop][nop][nop][nop][nop][nop][nop][nop][nop] \n",
            "\n",
            "Decoded:  [=N+1][=N+1][/N][/N][=O][/N][=Ring1][=Ring1][=N+1][/N][=Ring1][=Ring1][=Ring1][=Ring1][=Ring1][=Ring1][=Ring1][=Ring1][=Ring1][=Ring1][=Ring1][=Ring1][=Ring1][=Ring1][=Ring1][=Ring2][=Ring1][=Ring2][=Ring2][=Ring2][=Ring2][=Ring2][=Ring2][=Ring2][=Ring2][=Ring2][=Ring2][=Ring2][=Ring2][=Ring2][=Ring2][=Ring2][=Ring2][=Ring2][=Ring2][=Ring2][=Ring2][=Ring2][end][end][end][end][nop][nop][nop][nop][nop][nop][nop][nop][nop][nop][nop][nop][nop][nop][nop][nop][nop][nop][nop][nop][nop][nop][nop][nop][nop][nop][nop][nop][nop][nop][nop][nop][nop][nop][nop][nop][nop][nop][nop][nop][nop][nop][nop][nop][nop][nop][nop][nop][nop][nop][nop][nop][nop][nop][nop][nop][nop][nop][nop][nop][nop]\n",
            "------------------\n",
            "Original: [O][=C][Branch2][Ring1][P][C@@H1][C][C][C][=C][Branch1][C][Cl][C][=C][Branch1][O][N][C][C][=C][C][=C][C][=C][Ring1][=Branch1][C][=Branch1][C][=O][N][Ring1][S][Ring2][Ring1][Ring1][N][C][C][C][C][Ring1][Branch1][end][nop][nop][nop][nop][nop][nop][nop][nop][nop][nop][nop][nop][nop][nop][nop][nop][nop][nop][nop][nop][nop][nop][nop][nop][nop][nop][nop][nop][nop][nop][nop][nop][nop][nop][nop][nop][nop][nop][nop][nop][nop][nop][nop][nop][nop][nop][nop][nop][nop][nop][nop][nop][nop][nop][nop][nop][nop][nop][nop][nop][nop][nop][nop][nop][nop][nop][nop][nop] \n",
            "\n",
            "Decoded:  [\\C][=N+1][=N+1][=N+1][=O][=N+1][=Ring1][=N+1][=N+1][=N+1][=Ring1][=Ring1][=Ring1][=Ring2][=Ring2][=Ring2][=Ring2][=Ring2][=Ring2][=Ring2][=Ring2][=Ring2][=Ring2][=Ring1][=Ring1][=Ring1][=Ring1][=Ring1][=Ring2][=Ring2][=Ring2][=Ring2][=Ring2][=Ring2][=Ring2][=Ring2][=Ring2][=Ring2][=Ring2][=Ring2][=Ring2][=Ring2][=Ring2][=Ring2][=Ring2][=Ring2][=Ring2][=Ring2][=Ring2][=Ring2][=Ring2][=Ring2][=Ring2][=Ring2][=Ring2][=Ring2][=Ring2][=Ring2][end][end][end][end][nop][nop][nop][nop][nop][nop][nop][nop][nop][nop][nop][nop][nop][nop][nop][nop][nop][nop][nop][nop][nop][nop][nop][nop][nop][nop][nop][nop][nop][nop][nop][nop][nop][nop][nop][nop][nop][nop][nop][nop][nop][nop][nop][nop][nop][nop][nop][nop][nop][nop][nop]\n",
            "------------------\n",
            "Original: [O][=C][Branch1][#C][C][=C][N][=C][C][=C][C][=C][C][Ring1][=Branch1][=C][Ring1][#Branch2][N][C][C][C][C@H1][Ring1][Branch1][C][N][C][C][C][C][Ring1][Branch1][end][nop][nop][nop][nop][nop][nop][nop][nop][nop][nop][nop][nop][nop][nop][nop][nop][nop][nop][nop][nop][nop][nop][nop][nop][nop][nop][nop][nop][nop][nop][nop][nop][nop][nop][nop][nop][nop][nop][nop][nop][nop][nop][nop][nop][nop][nop][nop][nop][nop][nop][nop][nop][nop][nop][nop][nop][nop][nop][nop][nop][nop][nop][nop][nop][nop][nop][nop][nop][nop][nop][nop][nop][nop][nop][nop][nop][nop][nop][nop] \n",
            "\n",
            "Decoded:  [O][=N+1][NH1][NH1][NH1][Ring2][=Ring1][=N+1][=N+1][=N+1][=Ring1][=Ring2][=Ring1][=Ring2][=Ring2][=Ring2][=Ring2][=Ring2][=Ring2][=Ring2][=Ring2][=Ring2][=Ring2][=Ring2][=Ring2][=Ring2][=Ring2][=Ring2][=Ring2][=Ring2][=Ring2][=Ring2][=Ring2][=Ring2][=Ring2][=Ring2][=Ring2][=Ring2][=Ring2][=Ring2][=Ring2][=Ring2][=Ring2][=Ring2][=Ring2][=Ring2][=Ring2][=Ring2][=Ring2][=Ring2][=Ring2][=Ring2][=Ring2][=Ring2][=Ring2][=Ring2][end][end][end][nop][nop][nop][nop][nop][nop][nop][nop][nop][nop][nop][nop][nop][nop][nop][nop][nop][nop][nop][nop][nop][nop][nop][nop][nop][nop][nop][nop][nop][nop][nop][nop][nop][nop][nop][nop][nop][nop][nop][nop][nop][nop][nop][nop][nop][nop][nop][nop][nop][nop][nop][nop][nop][nop]\n",
            "------------------\n",
            "Original: [C][C][S][C][Branch2][Ring1][=C][N][C][=Branch1][C][=O][C][N][N][=C][Branch1][=Branch2][C][Branch1][C][F][Branch1][C][F][F][C][=C][Ring1][=Branch2][C][C][C][C][Ring1][=Branch1][=C][Branch1][=Branch1][C][Branch1][C][N][=O][C][=Ring2][Ring1][=Branch2][C][end][nop][nop][nop][nop][nop][nop][nop][nop][nop][nop][nop][nop][nop][nop][nop][nop][nop][nop][nop][nop][nop][nop][nop][nop][nop][nop][nop][nop][nop][nop][nop][nop][nop][nop][nop][nop][nop][nop][nop][nop][nop][nop][nop][nop][nop][nop][nop][nop][nop][nop][nop][nop][nop][nop][nop][nop][nop][nop][nop][nop][nop][nop][nop] \n",
            "\n",
            "Decoded:  [\\C][=N+1][=N+1][N+1][=O][=N+1][=Ring1][=N+1][=N+1][=O][=Ring1][=Ring1][=Ring1][=Ring1][=Ring1][=Ring1][=N+1][=Ring1][=Ring1][=Ring1][=Ring1][=Ring1][=Ring1][=Ring1][=Ring1][=Ring1][=Ring1][=Ring1][=Ring1][=Ring1][=Ring1][=Ring1][=Ring2][=Ring2][=Ring2][=Ring2][=Ring2][=Ring2][=Ring2][=Ring2][=Ring2][=Ring2][=Ring2][=Ring2][=Ring2][=Ring2][=Ring2][=Ring2][=Ring2][=Ring2][=Ring2][=Ring2][=Ring2][=Ring2][=Ring2][=Ring2][=Ring2][=Ring2][=Ring2][end][end][end][end][nop][nop][nop][nop][nop][nop][nop][nop][nop][nop][nop][nop][nop][nop][nop][nop][nop][nop][nop][nop][nop][nop][nop][nop][nop][nop][nop][nop][nop][nop][nop][nop][nop][nop][nop][nop][nop][nop][nop][nop][nop][nop][nop][nop][nop][nop][nop][nop][nop][nop]\n",
            "------------------\n",
            "Original: [N][C][=N][C][Branch1][C][Cl][=N][C][=C][Ring1][#Branch1][N][=C][N][Ring1][Branch1][C@@H1][O][C@H1][Branch1][P][C][O][C][C][=C][C][=C][C][=C][Ring1][=Branch1][N+1][=Branch1][C][=O][O-1][C@@H1][Branch1][C][O][C@@H1][Ring2][Ring1][C][F][end][nop][nop][nop][nop][nop][nop][nop][nop][nop][nop][nop][nop][nop][nop][nop][nop][nop][nop][nop][nop][nop][nop][nop][nop][nop][nop][nop][nop][nop][nop][nop][nop][nop][nop][nop][nop][nop][nop][nop][nop][nop][nop][nop][nop][nop][nop][nop][nop][nop][nop][nop][nop][nop][nop][nop][nop][nop][nop][nop][nop][nop][nop][nop][nop][nop] \n",
            "\n",
            "Decoded:  [=N+1][=N+1][/N][/N][=O][#Branch1][/N][#Branch1][C@][C@][\\O][/O][\\O][=Ring2][\\O][\\O][\\O][\\O][\\O][\\N][/O][/O][=Ring2][\\N][C@][=Ring2][=Ring2][#N][=O][=Ring2][=Ring2][=Ring2][=Ring2][=Ring2][=Ring2][=Ring2][=Ring2][=Ring2][=Ring2][end][end][end][nop][nop][nop][nop][nop][nop][nop][nop][nop][nop][nop][nop][nop][nop][nop][nop][nop][nop][nop][nop][nop][nop][nop][nop][nop][nop][nop][nop][nop][nop][nop][nop][nop][nop][nop][nop][nop][nop][nop][nop][nop][nop][nop][nop][nop][nop][nop][nop][nop][nop][nop][nop][nop][nop][nop][nop][nop][nop][nop][nop][nop][nop][nop][nop][nop][nop][nop][nop][nop][nop][nop]\n",
            "------------------\n",
            "Original: [C][C][C][Branch1][S][C][=Branch1][C][=O][C][=C][C][=C][Branch1][C][C][C][=C][Ring1][#Branch1][C][C][=C][C][=C][C][=C][Ring1][=Branch1][O][C][=Branch1][C][=O][C][Ring1][O][Ring2][Ring1][Branch1][C][=Branch1][C][=O][O][end][nop][nop][nop][nop][nop][nop][nop][nop][nop][nop][nop][nop][nop][nop][nop][nop][nop][nop][nop][nop][nop][nop][nop][nop][nop][nop][nop][nop][nop][nop][nop][nop][nop][nop][nop][nop][nop][nop][nop][nop][nop][nop][nop][nop][nop][nop][nop][nop][nop][nop][nop][nop][nop][nop][nop][nop][nop][nop][nop][nop][nop][nop][nop][nop][nop][nop][nop] \n",
            "\n",
            "Decoded:  [O][/N][/N][/N][=Ring2][=S][\\C][/N][/N][\\C][#N][#Branch1][#Branch1][/N][/N][/N][N+1][\\C][#N][=Ring2][#N][#N][#N][=Ring2][/N][#N][=Ring2][#N][=Ring2][=Ring2][=Ring2][=Ring2][=Ring2][=Ring2][F][/N][/N][=Ring2][=Ring2][#N][#N][=Ring2][=Ring2][=Ring2][=Ring2][=Ring2][#N][#N][#N][end][end][#N][#N][#N][#N][#N][#N][#N][#N][#N][#N][#N][#N][#N][#N][#N][#N][#N][#N][#N][#N][#N][#N][#N][#N][#N][#N][#N][#N][#N][#N][#N][#N][#N][#N][#N][#N][#N][#N][#N][#N][#N][#N][#N][#N][#N][#N][#N][#N][#N][#N][#N][#N][#N][#N][#N][#N][#N][#N][#N][#N][#N][#N]\n",
            "------------------\n",
            "Original: [C][O][C][=C][C][=C][C][Branch2][Ring1][S][S][=Branch1][C][=O][=Branch1][C][=O][C][=C][C][Branch1][C][Cl][=C][O][C][=C][Branch1][#Branch1][C][Ring1][Branch1][=C][Ring1][#Branch2][C][N][C][C][Ring1][Branch2][=C][Ring2][Ring1][#Branch1][end][nop][nop][nop][nop][nop][nop][nop][nop][nop][nop][nop][nop][nop][nop][nop][nop][nop][nop][nop][nop][nop][nop][nop][nop][nop][nop][nop][nop][nop][nop][nop][nop][nop][nop][nop][nop][nop][nop][nop][nop][nop][nop][nop][nop][nop][nop][nop][nop][nop][nop][nop][nop][nop][nop][nop][nop][nop][nop][nop][nop][nop][nop][nop][nop][nop][nop][nop] \n",
            "\n",
            "Decoded:  [=N+1][=N+1][NH1][\\C][#Branch1][=S][\\C][\\C][\\O][=S][\\O][\\O][\\O][=S][\\O][\\O][\\O][=S][#N][\\O][\\O][\\C][#N][=N+1][=N+1][=N+1][#N][=N+1][=N+1][=N+1][=N+1][=N+1][=N+1][=N+1][=Ring2][=Ring2][=Ring2][=Ring2][=Ring2][=Ring2][=Ring2][end][end][end][nop][nop][nop][nop][nop][nop][nop][nop][nop][nop][nop][nop][nop][nop][nop][nop][nop][nop][nop][nop][nop][nop][nop][nop][nop][nop][nop][nop][nop][nop][nop][nop][nop][nop][nop][nop][nop][nop][nop][nop][nop][nop][nop][nop][nop][nop][nop][nop][nop][nop][nop][nop][nop][nop][nop][nop][nop][nop][nop][nop][nop][nop][nop][nop][nop][nop][nop][nop][nop]\n",
            "------------------\n"
          ]
        }
      ],
      "source": [
        "# set largers value to 1 and others to 0\n",
        "decoded_indices = torch.argmax(decoded.cpu(), dim=2)\n",
        "decoded_indices = decoded_indices.numpy()\n",
        "selfies_out = []\n",
        "for i, original in zip(decoded_indices, y):\n",
        "    vectorized = []\n",
        "    #print(f'Decoded: {i}')\n",
        "    #convert to one-hot\n",
        "    for number in i:\n",
        "        v = np.zeros(42)\n",
        "        v[number] = 1\n",
        "        vectorized.append(v)\n",
        "    vectorized = np.array(vectorized)\n",
        "    selfies_out.append(vectorizer.devectorize(vectorized, remove_special=True))\n",
        "    print(f'Original: {vectorizer.devectorize(original.cpu().numpy())} \\n')\n",
        "    print(f'Decoded:  {vectorizer.devectorize(vectorized)}')\n",
        "    print('------------------')"
      ]
    },
    {
      "cell_type": "code",
      "execution_count": null,
      "id": "1efcd595",
      "metadata": {
        "id": "1efcd595",
        "outputId": "e10ebc57-dbcb-451c-e444-142d270c2ae5"
      },
      "outputs": [
        {
          "data": {
            "image/png": "[encoded data removed]",
            "text/plain": [
              "<PIL.PngImagePlugin.PngImageFile image mode=RGB size=800x800>"
            ]
          },
          "execution_count": 46,
          "metadata": {},
          "output_type": "execute_result"
        }
      ],
      "source": [
        "from rdkit import Chem\n",
        "from rdkit.Chem import Draw\n",
        "\n",
        "smiles = []\n",
        "for selfie in selfies_out:\n",
        "    smile = sf.decoder(selfie, attribute=False)\n",
        "    smiles.append(smile)\n",
        "\n",
        "ms = []\n",
        "for smile in smiles:\n",
        "    ms.append(Chem.MolFromSmiles(smile))\n",
        "Draw.MolToImage(ms[5], size=(800, 800), kekulize=True)"
      ]
    }
  ],
  "metadata": {
    "kernelspec": {
      "display_name": "Python 3",
      "name": "python3"
    },
    "language_info": {
      "codemirror_mode": {
        "name": "ipython",
        "version": 3
      },
      "file_extension": ".py",
      "mimetype": "text/x-python",
      "name": "python",
      "nbconvert_exporter": "python",
      "pygments_lexer": "ipython3",
      "version": "3.8.16"
    },
    "colab": {
      "provenance": [],
      "gpuType": "T4",
      "include_colab_link": true
    },
    "accelerator": "GPU",
    "widgets": {
      "application/vnd.jupyter.widget-state+json": {
        "273bbe80a0cc4a7687954faa5bef62df": {
          "model_module": "@jupyter-widgets/controls",
          "model_name": "HBoxModel",
          "model_module_version": "1.5.0",
          "state": {
            "_dom_classes": [],
            "_model_module": "@jupyter-widgets/controls",
            "_model_module_version": "1.5.0",
            "_model_name": "HBoxModel",
            "_view_count": null,
            "_view_module": "@jupyter-widgets/controls",
            "_view_module_version": "1.5.0",
            "_view_name": "HBoxView",
            "box_style": "",
            "children": [
              "IPY_MODEL_80ded7a1804c43a0bb62eb131745bb48",
              "IPY_MODEL_180482c55c8a4da9994e72f5b93f9294",
              "IPY_MODEL_1e41b635a4004f77a135c76c40c4b563"
            ],
            "layout": "IPY_MODEL_e76b65c965a240e89980963314b48e29"
          }
        },
        "80ded7a1804c43a0bb62eb131745bb48": {
          "model_module": "@jupyter-widgets/controls",
          "model_name": "HTMLModel",
          "model_module_version": "1.5.0",
          "state": {
            "_dom_classes": [],
            "_model_module": "@jupyter-widgets/controls",
            "_model_module_version": "1.5.0",
            "_model_name": "HTMLModel",
            "_view_count": null,
            "_view_module": "@jupyter-widgets/controls",
            "_view_module_version": "1.5.0",
            "_view_name": "HTMLView",
            "description": "",
            "description_tooltip": null,
            "layout": "IPY_MODEL_ec80dae2f68b41feaa3067137c33da8b",
            "placeholder": "​",
            "style": "IPY_MODEL_ca29e60bc9eb40f5b4cfc3bbba70e0b5",
            "value": "  0%"
          }
        },
        "180482c55c8a4da9994e72f5b93f9294": {
          "model_module": "@jupyter-widgets/controls",
          "model_name": "FloatProgressModel",
          "model_module_version": "1.5.0",
          "state": {
            "_dom_classes": [],
            "_model_module": "@jupyter-widgets/controls",
            "_model_module_version": "1.5.0",
            "_model_name": "FloatProgressModel",
            "_view_count": null,
            "_view_module": "@jupyter-widgets/controls",
            "_view_module_version": "1.5.0",
            "_view_name": "ProgressView",
            "bar_style": "",
            "description": "",
            "description_tooltip": null,
            "layout": "IPY_MODEL_3fe6634896ed4dadb9738ff8175a0d82",
            "max": 20,
            "min": 0,
            "orientation": "horizontal",
            "style": "IPY_MODEL_25de31417fc1419196e1eab62b938edc",
            "value": 0
          }
        },
        "1e41b635a4004f77a135c76c40c4b563": {
          "model_module": "@jupyter-widgets/controls",
          "model_name": "HTMLModel",
          "model_module_version": "1.5.0",
          "state": {
            "_dom_classes": [],
            "_model_module": "@jupyter-widgets/controls",
            "_model_module_version": "1.5.0",
            "_model_name": "HTMLModel",
            "_view_count": null,
            "_view_module": "@jupyter-widgets/controls",
            "_view_module_version": "1.5.0",
            "_view_name": "HTMLView",
            "description": "",
            "description_tooltip": null,
            "layout": "IPY_MODEL_6fdbbc9383e14e10907c209c00673910",
            "placeholder": "​",
            "style": "IPY_MODEL_db7b58211a3d41b08f4f7a2bc511a4da",
            "value": " 0/20 [00:00&lt;?, ?it/s]"
          }
        },
        "e76b65c965a240e89980963314b48e29": {
          "model_module": "@jupyter-widgets/base",
          "model_name": "LayoutModel",
          "model_module_version": "1.2.0",
          "state": {
            "_model_module": "@jupyter-widgets/base",
            "_model_module_version": "1.2.0",
            "_model_name": "LayoutModel",
            "_view_count": null,
            "_view_module": "@jupyter-widgets/base",
            "_view_module_version": "1.2.0",
            "_view_name": "LayoutView",
            "align_content": null,
            "align_items": null,
            "align_self": null,
            "border": null,
            "bottom": null,
            "display": null,
            "flex": null,
            "flex_flow": null,
            "grid_area": null,
            "grid_auto_columns": null,
            "grid_auto_flow": null,
            "grid_auto_rows": null,
            "grid_column": null,
            "grid_gap": null,
            "grid_row": null,
            "grid_template_areas": null,
            "grid_template_columns": null,
            "grid_template_rows": null,
            "height": null,
            "justify_content": null,
            "justify_items": null,
            "left": null,
            "margin": null,
            "max_height": null,
            "max_width": null,
            "min_height": null,
            "min_width": null,
            "object_fit": null,
            "object_position": null,
            "order": null,
            "overflow": null,
            "overflow_x": null,
            "overflow_y": null,
            "padding": null,
            "right": null,
            "top": null,
            "visibility": null,
            "width": null
          }
        },
        "ec80dae2f68b41feaa3067137c33da8b": {
          "model_module": "@jupyter-widgets/base",
          "model_name": "LayoutModel",
          "model_module_version": "1.2.0",
          "state": {
            "_model_module": "@jupyter-widgets/base",
            "_model_module_version": "1.2.0",
            "_model_name": "LayoutModel",
            "_view_count": null,
            "_view_module": "@jupyter-widgets/base",
            "_view_module_version": "1.2.0",
            "_view_name": "LayoutView",
            "align_content": null,
            "align_items": null,
            "align_self": null,
            "border": null,
            "bottom": null,
            "display": null,
            "flex": null,
            "flex_flow": null,
            "grid_area": null,
            "grid_auto_columns": null,
            "grid_auto_flow": null,
            "grid_auto_rows": null,
            "grid_column": null,
            "grid_gap": null,
            "grid_row": null,
            "grid_template_areas": null,
            "grid_template_columns": null,
            "grid_template_rows": null,
            "height": null,
            "justify_content": null,
            "justify_items": null,
            "left": null,
            "margin": null,
            "max_height": null,
            "max_width": null,
            "min_height": null,
            "min_width": null,
            "object_fit": null,
            "object_position": null,
            "order": null,
            "overflow": null,
            "overflow_x": null,
            "overflow_y": null,
            "padding": null,
            "right": null,
            "top": null,
            "visibility": null,
            "width": null
          }
        },
        "ca29e60bc9eb40f5b4cfc3bbba70e0b5": {
          "model_module": "@jupyter-widgets/controls",
          "model_name": "DescriptionStyleModel",
          "model_module_version": "1.5.0",
          "state": {
            "_model_module": "@jupyter-widgets/controls",
            "_model_module_version": "1.5.0",
            "_model_name": "DescriptionStyleModel",
            "_view_count": null,
            "_view_module": "@jupyter-widgets/base",
            "_view_module_version": "1.2.0",
            "_view_name": "StyleView",
            "description_width": ""
          }
        },
        "3fe6634896ed4dadb9738ff8175a0d82": {
          "model_module": "@jupyter-widgets/base",
          "model_name": "LayoutModel",
          "model_module_version": "1.2.0",
          "state": {
            "_model_module": "@jupyter-widgets/base",
            "_model_module_version": "1.2.0",
            "_model_name": "LayoutModel",
            "_view_count": null,
            "_view_module": "@jupyter-widgets/base",
            "_view_module_version": "1.2.0",
            "_view_name": "LayoutView",
            "align_content": null,
            "align_items": null,
            "align_self": null,
            "border": null,
            "bottom": null,
            "display": null,
            "flex": null,
            "flex_flow": null,
            "grid_area": null,
            "grid_auto_columns": null,
            "grid_auto_flow": null,
            "grid_auto_rows": null,
            "grid_column": null,
            "grid_gap": null,
            "grid_row": null,
            "grid_template_areas": null,
            "grid_template_columns": null,
            "grid_template_rows": null,
            "height": null,
            "justify_content": null,
            "justify_items": null,
            "left": null,
            "margin": null,
            "max_height": null,
            "max_width": null,
            "min_height": null,
            "min_width": null,
            "object_fit": null,
            "object_position": null,
            "order": null,
            "overflow": null,
            "overflow_x": null,
            "overflow_y": null,
            "padding": null,
            "right": null,
            "top": null,
            "visibility": null,
            "width": null
          }
        },
        "25de31417fc1419196e1eab62b938edc": {
          "model_module": "@jupyter-widgets/controls",
          "model_name": "ProgressStyleModel",
          "model_module_version": "1.5.0",
          "state": {
            "_model_module": "@jupyter-widgets/controls",
            "_model_module_version": "1.5.0",
            "_model_name": "ProgressStyleModel",
            "_view_count": null,
            "_view_module": "@jupyter-widgets/base",
            "_view_module_version": "1.2.0",
            "_view_name": "StyleView",
            "bar_color": null,
            "description_width": ""
          }
        },
        "6fdbbc9383e14e10907c209c00673910": {
          "model_module": "@jupyter-widgets/base",
          "model_name": "LayoutModel",
          "model_module_version": "1.2.0",
          "state": {
            "_model_module": "@jupyter-widgets/base",
            "_model_module_version": "1.2.0",
            "_model_name": "LayoutModel",
            "_view_count": null,
            "_view_module": "@jupyter-widgets/base",
            "_view_module_version": "1.2.0",
            "_view_name": "LayoutView",
            "align_content": null,
            "align_items": null,
            "align_self": null,
            "border": null,
            "bottom": null,
            "display": null,
            "flex": null,
            "flex_flow": null,
            "grid_area": null,
            "grid_auto_columns": null,
            "grid_auto_flow": null,
            "grid_auto_rows": null,
            "grid_column": null,
            "grid_gap": null,
            "grid_row": null,
            "grid_template_areas": null,
            "grid_template_columns": null,
            "grid_template_rows": null,
            "height": null,
            "justify_content": null,
            "justify_items": null,
            "left": null,
            "margin": null,
            "max_height": null,
            "max_width": null,
            "min_height": null,
            "min_width": null,
            "object_fit": null,
            "object_position": null,
            "order": null,
            "overflow": null,
            "overflow_x": null,
            "overflow_y": null,
            "padding": null,
            "right": null,
            "top": null,
            "visibility": null,
            "width": null
          }
        },
        "db7b58211a3d41b08f4f7a2bc511a4da": {
          "model_module": "@jupyter-widgets/controls",
          "model_name": "DescriptionStyleModel",
          "model_module_version": "1.5.0",
          "state": {
            "_model_module": "@jupyter-widgets/controls",
            "_model_module_version": "1.5.0",
            "_model_name": "DescriptionStyleModel",
            "_view_count": null,
            "_view_module": "@jupyter-widgets/base",
            "_view_module_version": "1.2.0",
            "_view_name": "StyleView",
            "description_width": ""
          }
        },
        "1b8d451210874a08a05c65be91b16331": {
          "model_module": "@jupyter-widgets/controls",
          "model_name": "HBoxModel",
          "model_module_version": "1.5.0",
          "state": {
            "_dom_classes": [],
            "_model_module": "@jupyter-widgets/controls",
            "_model_module_version": "1.5.0",
            "_model_name": "HBoxModel",
            "_view_count": null,
            "_view_module": "@jupyter-widgets/controls",
            "_view_module_version": "1.5.0",
            "_view_name": "HBoxView",
            "box_style": "",
            "children": [
              "IPY_MODEL_a8bac2f3033b4c0985c377380bcae7df",
              "IPY_MODEL_516ec374b83349378a1eceaa407cd581",
              "IPY_MODEL_96f78b0d8c974b2781b8f84496061f9b"
            ],
            "layout": "IPY_MODEL_2d7d7600e57b4945acd8fdefea58d015"
          }
        },
        "a8bac2f3033b4c0985c377380bcae7df": {
          "model_module": "@jupyter-widgets/controls",
          "model_name": "HTMLModel",
          "model_module_version": "1.5.0",
          "state": {
            "_dom_classes": [],
            "_model_module": "@jupyter-widgets/controls",
            "_model_module_version": "1.5.0",
            "_model_name": "HTMLModel",
            "_view_count": null,
            "_view_module": "@jupyter-widgets/controls",
            "_view_module_version": "1.5.0",
            "_view_name": "HTMLView",
            "description": "",
            "description_tooltip": null,
            "layout": "IPY_MODEL_80fb657853a7406b9db408dd0d5cddbe",
            "placeholder": "​",
            "style": "IPY_MODEL_84d27668d01445b886bbac16439fc0c1",
            "value": " 80%"
          }
        },
        "516ec374b83349378a1eceaa407cd581": {
          "model_module": "@jupyter-widgets/controls",
          "model_name": "FloatProgressModel",
          "model_module_version": "1.5.0",
          "state": {
            "_dom_classes": [],
            "_model_module": "@jupyter-widgets/controls",
            "_model_module_version": "1.5.0",
            "_model_name": "FloatProgressModel",
            "_view_count": null,
            "_view_module": "@jupyter-widgets/controls",
            "_view_module_version": "1.5.0",
            "_view_name": "ProgressView",
            "bar_style": "",
            "description": "",
            "description_tooltip": null,
            "layout": "IPY_MODEL_a03c7a8d6ab243f394f63e284d903eed",
            "max": 1416,
            "min": 0,
            "orientation": "horizontal",
            "style": "IPY_MODEL_35e42eb381fa4c55bbb736caf6ddbe1e",
            "value": 1126
          }
        },
        "96f78b0d8c974b2781b8f84496061f9b": {
          "model_module": "@jupyter-widgets/controls",
          "model_name": "HTMLModel",
          "model_module_version": "1.5.0",
          "state": {
            "_dom_classes": [],
            "_model_module": "@jupyter-widgets/controls",
            "_model_module_version": "1.5.0",
            "_model_name": "HTMLModel",
            "_view_count": null,
            "_view_module": "@jupyter-widgets/controls",
            "_view_module_version": "1.5.0",
            "_view_name": "HTMLView",
            "description": "",
            "description_tooltip": null,
            "layout": "IPY_MODEL_ee1c8a0205d34769ac4894be70a4c8cc",
            "placeholder": "​",
            "style": "IPY_MODEL_0733e744a5d744e88cebe2c7fd390f03",
            "value": " 1126/1416 [06:28&lt;01:36,  3.00it/s]"
          }
        },
        "2d7d7600e57b4945acd8fdefea58d015": {
          "model_module": "@jupyter-widgets/base",
          "model_name": "LayoutModel",
          "model_module_version": "1.2.0",
          "state": {
            "_model_module": "@jupyter-widgets/base",
            "_model_module_version": "1.2.0",
            "_model_name": "LayoutModel",
            "_view_count": null,
            "_view_module": "@jupyter-widgets/base",
            "_view_module_version": "1.2.0",
            "_view_name": "LayoutView",
            "align_content": null,
            "align_items": null,
            "align_self": null,
            "border": null,
            "bottom": null,
            "display": null,
            "flex": null,
            "flex_flow": null,
            "grid_area": null,
            "grid_auto_columns": null,
            "grid_auto_flow": null,
            "grid_auto_rows": null,
            "grid_column": null,
            "grid_gap": null,
            "grid_row": null,
            "grid_template_areas": null,
            "grid_template_columns": null,
            "grid_template_rows": null,
            "height": null,
            "justify_content": null,
            "justify_items": null,
            "left": null,
            "margin": null,
            "max_height": null,
            "max_width": null,
            "min_height": null,
            "min_width": null,
            "object_fit": null,
            "object_position": null,
            "order": null,
            "overflow": null,
            "overflow_x": null,
            "overflow_y": null,
            "padding": null,
            "right": null,
            "top": null,
            "visibility": null,
            "width": null
          }
        },
        "80fb657853a7406b9db408dd0d5cddbe": {
          "model_module": "@jupyter-widgets/base",
          "model_name": "LayoutModel",
          "model_module_version": "1.2.0",
          "state": {
            "_model_module": "@jupyter-widgets/base",
            "_model_module_version": "1.2.0",
            "_model_name": "LayoutModel",
            "_view_count": null,
            "_view_module": "@jupyter-widgets/base",
            "_view_module_version": "1.2.0",
            "_view_name": "LayoutView",
            "align_content": null,
            "align_items": null,
            "align_self": null,
            "border": null,
            "bottom": null,
            "display": null,
            "flex": null,
            "flex_flow": null,
            "grid_area": null,
            "grid_auto_columns": null,
            "grid_auto_flow": null,
            "grid_auto_rows": null,
            "grid_column": null,
            "grid_gap": null,
            "grid_row": null,
            "grid_template_areas": null,
            "grid_template_columns": null,
            "grid_template_rows": null,
            "height": null,
            "justify_content": null,
            "justify_items": null,
            "left": null,
            "margin": null,
            "max_height": null,
            "max_width": null,
            "min_height": null,
            "min_width": null,
            "object_fit": null,
            "object_position": null,
            "order": null,
            "overflow": null,
            "overflow_x": null,
            "overflow_y": null,
            "padding": null,
            "right": null,
            "top": null,
            "visibility": null,
            "width": null
          }
        },
        "84d27668d01445b886bbac16439fc0c1": {
          "model_module": "@jupyter-widgets/controls",
          "model_name": "DescriptionStyleModel",
          "model_module_version": "1.5.0",
          "state": {
            "_model_module": "@jupyter-widgets/controls",
            "_model_module_version": "1.5.0",
            "_model_name": "DescriptionStyleModel",
            "_view_count": null,
            "_view_module": "@jupyter-widgets/base",
            "_view_module_version": "1.2.0",
            "_view_name": "StyleView",
            "description_width": ""
          }
        },
        "a03c7a8d6ab243f394f63e284d903eed": {
          "model_module": "@jupyter-widgets/base",
          "model_name": "LayoutModel",
          "model_module_version": "1.2.0",
          "state": {
            "_model_module": "@jupyter-widgets/base",
            "_model_module_version": "1.2.0",
            "_model_name": "LayoutModel",
            "_view_count": null,
            "_view_module": "@jupyter-widgets/base",
            "_view_module_version": "1.2.0",
            "_view_name": "LayoutView",
            "align_content": null,
            "align_items": null,
            "align_self": null,
            "border": null,
            "bottom": null,
            "display": null,
            "flex": null,
            "flex_flow": null,
            "grid_area": null,
            "grid_auto_columns": null,
            "grid_auto_flow": null,
            "grid_auto_rows": null,
            "grid_column": null,
            "grid_gap": null,
            "grid_row": null,
            "grid_template_areas": null,
            "grid_template_columns": null,
            "grid_template_rows": null,
            "height": null,
            "justify_content": null,
            "justify_items": null,
            "left": null,
            "margin": null,
            "max_height": null,
            "max_width": null,
            "min_height": null,
            "min_width": null,
            "object_fit": null,
            "object_position": null,
            "order": null,
            "overflow": null,
            "overflow_x": null,
            "overflow_y": null,
            "padding": null,
            "right": null,
            "top": null,
            "visibility": null,
            "width": null
          }
        },
        "35e42eb381fa4c55bbb736caf6ddbe1e": {
          "model_module": "@jupyter-widgets/controls",
          "model_name": "ProgressStyleModel",
          "model_module_version": "1.5.0",
          "state": {
            "_model_module": "@jupyter-widgets/controls",
            "_model_module_version": "1.5.0",
            "_model_name": "ProgressStyleModel",
            "_view_count": null,
            "_view_module": "@jupyter-widgets/base",
            "_view_module_version": "1.2.0",
            "_view_name": "StyleView",
            "bar_color": null,
            "description_width": ""
          }
        },
        "ee1c8a0205d34769ac4894be70a4c8cc": {
          "model_module": "@jupyter-widgets/base",
          "model_name": "LayoutModel",
          "model_module_version": "1.2.0",
          "state": {
            "_model_module": "@jupyter-widgets/base",
            "_model_module_version": "1.2.0",
            "_model_name": "LayoutModel",
            "_view_count": null,
            "_view_module": "@jupyter-widgets/base",
            "_view_module_version": "1.2.0",
            "_view_name": "LayoutView",
            "align_content": null,
            "align_items": null,
            "align_self": null,
            "border": null,
            "bottom": null,
            "display": null,
            "flex": null,
            "flex_flow": null,
            "grid_area": null,
            "grid_auto_columns": null,
            "grid_auto_flow": null,
            "grid_auto_rows": null,
            "grid_column": null,
            "grid_gap": null,
            "grid_row": null,
            "grid_template_areas": null,
            "grid_template_columns": null,
            "grid_template_rows": null,
            "height": null,
            "justify_content": null,
            "justify_items": null,
            "left": null,
            "margin": null,
            "max_height": null,
            "max_width": null,
            "min_height": null,
            "min_width": null,
            "object_fit": null,
            "object_position": null,
            "order": null,
            "overflow": null,
            "overflow_x": null,
            "overflow_y": null,
            "padding": null,
            "right": null,
            "top": null,
            "visibility": null,
            "width": null
          }
        },
        "0733e744a5d744e88cebe2c7fd390f03": {
          "model_module": "@jupyter-widgets/controls",
          "model_name": "DescriptionStyleModel",
          "model_module_version": "1.5.0",
          "state": {
            "_model_module": "@jupyter-widgets/controls",
            "_model_module_version": "1.5.0",
            "_model_name": "DescriptionStyleModel",
            "_view_count": null,
            "_view_module": "@jupyter-widgets/base",
            "_view_module_version": "1.2.0",
            "_view_name": "StyleView",
            "description_width": ""
          }
        }
      }
    }
  },
  "nbformat": 4,
  "nbformat_minor": 5
}