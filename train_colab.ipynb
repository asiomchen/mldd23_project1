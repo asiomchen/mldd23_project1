{
 "cells": [
  {
   "cell_type": "code",
   "execution_count": 1,
   "id": "6ef6f3f5",
   "metadata": {},
   "outputs": [],
   "source": [
    "import torch\n",
    "import torch.nn as nn\n",
    "import torch.optim as optim\n",
    "import torch.utils.data as data_utils\n",
    "import torch.functional as F\n",
    "import numpy as np\n",
    "import pandas as pd\n",
    "import random\n",
    "from tqdm import tqdm_notebook\n",
    "\n",
    "device = torch.device('cuda' if torch.cuda.is_available() else 'cpu')"
   ]
  },
  {
   "cell_type": "markdown",
   "id": "f16dfcb1",
   "metadata": {},
   "source": [
    "# Data prep"
   ]
  },
  {
   "cell_type": "code",
   "execution_count": 2,
   "id": "57c855d2",
   "metadata": {},
   "outputs": [],
   "source": [
    "#somehow load two parquet files into colab - drive?"
   ]
  },
  {
   "cell_type": "code",
   "execution_count": 3,
   "id": "a3f411b7",
   "metadata": {},
   "outputs": [],
   "source": [
    "# !pip install fastparquet\n",
    "# !pip install selfies"
   ]
  },
  {
   "cell_type": "code",
   "execution_count": 4,
   "id": "8a3fbcdb",
   "metadata": {},
   "outputs": [
    {
     "name": "stdout",
     "output_type": "stream",
     "text": [
      "Pad to len: 119\n"
     ]
    }
   ],
   "source": [
    "import selfies as sf\n",
    "data = pd.read_parquet('./GRU_data/combined_selfies.parquet')\n",
    "alphabet = sf.get_alphabet_from_selfies(data.selfies)\n",
    "#alphabet.add(\"[nop]\") # [nop] is a special padding symbol\n",
    "alphabet.add(\"[start]\")\n",
    "alphabet.add(\"[end]\")\n",
    "alphabet.add(\"[nop]\")\n",
    "alphabet = list(sorted(alphabet))\n",
    "pad_to_len = max(sf.len_selfies(s) for s in data.selfies) + 10\n",
    "print(\"Pad to len:\", pad_to_len)\n",
    "symbol_to_idx = {s: i for i, s in enumerate(alphabet)}\n",
    "idx2char = {i: s for i, s in enumerate(alphabet)}"
   ]
  },
  {
   "cell_type": "code",
   "execution_count": 5,
   "id": "f55a6d94",
   "metadata": {},
   "outputs": [],
   "source": [
    "import re\n",
    "class SELFIESVectorizer:\n",
    "    def __init__(self, alphabet, pad_to_len=None):\n",
    "        self.alphabet = alphabet\n",
    "        self.char2idx = {s: i for i, s in enumerate(alphabet)}\n",
    "        self.idx2char = {i: s for i, s in enumerate(alphabet)}\n",
    "        self.pad_to_len = pad_to_len\n",
    "    def vectorize(self, selfie, no_special=False):\n",
    "        ''' Vectorize a list of SMILES strings to a numpy array of shape (len(smiles), embed, len(charset))'''\n",
    "        if no_special:\n",
    "            splited = self.split_selfi(selfie)\n",
    "        elif self.pad_to_len is None:\n",
    "            splited = ['[start]'] + self.split_selfi(selfie) + ['[end]']\n",
    "        else:\n",
    "            splited = ['[start]'] + self.split_selfi(selfie) + ['[end]'] + ['[nop]'] * (self.pad_to_len - len(self.split_selfi(selfie)) - 2)\n",
    "        X = np.zeros((len(splited), len(self.alphabet)))\n",
    "        for i in range(len(splited)):\n",
    "            X[i, self.char2idx[splited[i]]] = 1\n",
    "        return X\n",
    "    def devectorize(self, ohe, remove_special=False):\n",
    "        ''' Devectorize a numpy array of shape (len(smiles), embed, len(charset)) to a list of SMILES strings'''\n",
    "        selfie_str = ''\n",
    "        for j in range(ohe.shape[0]):\n",
    "            idx = np.argmax(ohe[j, :])\n",
    "            if remove_special and (self.idx2char[idx] == '[start]' or self.idx2char[idx] == '[end]'):\n",
    "                continue\n",
    "            selfie_str += self.idx2char[idx]\n",
    "        return selfie_str\n",
    "    def idxize(self, selfie, no_special=False):\n",
    "        if no_special:\n",
    "            splited = self.split_selfi(selfie)\n",
    "        else:\n",
    "            splited = ['[start]'] + self.split_selfi(selfie) + ['[end]'] + ['[nop]'] * (self.pad_to_len - len(self.split_selfi(selfie)) - 2)\n",
    "        return np.array([self.char2idx[s] for s in splited])\n",
    "    def deidxize(self, idx):\n",
    "        return \"\".join([self.idx2char[i] for i in idx])\n",
    "    def split_selfi(self, selfie):\n",
    "        pattern = r'(\\[[^\\[\\]]*\\])'\n",
    "        return re.findall(pattern, selfie)"
   ]
  },
  {
   "cell_type": "code",
   "execution_count": 6,
   "id": "70924816",
   "metadata": {},
   "outputs": [],
   "source": [
    "vectorizer = SELFIESVectorizer(alphabet, pad_to_len=pad_to_len)"
   ]
  },
  {
   "cell_type": "code",
   "execution_count": 7,
   "id": "6538d564",
   "metadata": {},
   "outputs": [],
   "source": [
    "from torch.utils.data import Dataset, DataLoader\n",
    "class GRUDatasetv2(Dataset):\n",
    "    def __init__(self, smiles_fp, selfies, vectorizer):\n",
    "        self.smiles_fp = pd.read_parquet(smiles_fp)\n",
    "        self.selfies = pd.read_parquet(selfies)\n",
    "        # self.X = self.prepare_X(self.smiles_fp)\n",
    "        # self.X = np.array([self.reconstruct_fp(fp) for fp in self.X])\n",
    "        self.selfies= self.prepare_y(self.selfies)\n",
    "        self.vectorizer = vectorizer\n",
    "    def __len__(self):\n",
    "        return len(self.smiles_fp)\n",
    "    def __getitem__(self, idx):\n",
    "        raw_selfie = self.selfies[idx][0]\n",
    "        vectorized_selfie = self.vectorizer.idxize(raw_selfie)\n",
    "        # esentially, we want to predict the next symbol in the SELFIE and offset the target by one makes teaching forcing implicit\n",
    "        vectorized_selfie = vectorized_selfie\n",
    "        raw_X = self.smiles_fp.fps[idx]\n",
    "        X = np.array(raw_X, dtype=int)\n",
    "        X_reconstructed = self.reconstruct_fp(X)\n",
    "\n",
    "        return torch.from_numpy(X_reconstructed).float(), torch.from_numpy(vectorized_selfie).long()\n",
    "\n",
    "    @staticmethod\n",
    "    def prepare_X(smiles_fp):\n",
    "        fps = smiles_fp.fps.apply(eval).apply(lambda x: np.array(x, dtype=int))\n",
    "        return fps\n",
    "    @staticmethod\n",
    "    def prepare_y(selfies):\n",
    "        return selfies.values\n",
    "    @staticmethod\n",
    "    def reconstruct_fp(fp, length=4860):\n",
    "        fp_rec = np.zeros(length)\n",
    "        fp_rec[fp] = 1\n",
    "        return fp_rec"
   ]
  },
  {
   "cell_type": "code",
   "execution_count": 8,
   "id": "062168b4",
   "metadata": {},
   "outputs": [
    {
     "name": "stdout",
     "output_type": "stream",
     "text": [
      "Dataset size: 402863\n",
      "Train size: 362576\n",
      "Test size: 40287\n"
     ]
    }
   ],
   "source": [
    "dataset = GRUDatasetv2('GRU_data/combined_klek.parquet', 'GRU_data/combined_selfies.parquet', vectorizer)\n",
    "train_size = int(0.9 * len(dataset))\n",
    "test_size = len(dataset) - train_size\n",
    "train_dataset, test_dataset = torch.utils.data.random_split(dataset, [train_size, test_size])\n",
    "print(\"Dataset size:\", len(dataset))\n",
    "print(\"Train size:\", len(train_dataset))\n",
    "print(\"Test size:\", len(test_dataset))"
   ]
  },
  {
   "cell_type": "markdown",
   "id": "02f39daf",
   "metadata": {},
   "source": [
    "# NN architecture"
   ]
  },
  {
   "cell_type": "code",
   "execution_count": 9,
   "id": "8248e95c",
   "metadata": {},
   "outputs": [],
   "source": [
    "class EncoderNet(nn.Module):\n",
    "    def __init__(self, fp_size, encoding_size):\n",
    "        super(EncoderNet, self).__init__()\n",
    "        self.relu = nn.ReLU()\n",
    "        self.fc1 = nn.Linear(fp_size, 2048)\n",
    "        self.fc2 = nn.Linear(2048, 1024)\n",
    "        self.fc3 = nn.Linear(1024, 512)\n",
    "        self.fc4 = nn.Linear(512, 256)\n",
    "        self.fc5 = nn.Linear(256, encoding_size)\n",
    "    def forward(self, x):\n",
    "        out = self.relu(self.fc1(x))\n",
    "        out = self.relu(self.fc2(out))\n",
    "        out = self.relu(self.fc3(out))\n",
    "        out = self.relu(self.fc4(out))\n",
    "        out = self.relu(self.fc5(out))\n",
    "        return out\n",
    "\n",
    "\n",
    "class DecoderNet(nn.Module):\n",
    "    def __init__(self, dictionary_size, emb_size, hidden_size, num_layers, drop_prob):\n",
    "        super(DecoderNet, self).__init__()\n",
    "        self.hidden_size = hidden_size\n",
    "        self.num_layers = num_layers\n",
    "        self.drop_prob = drop_prob\n",
    "        # embedding layer [batch_size, seq_len] -> [batch_size, seq_len, emb_size]\n",
    "        self.embedding = nn.Embedding(dictionary_size, emb_size)\n",
    "        # gru layer [batch_size, seq_len, emb_size] -> [batch_size, seq_len, hidden_size]\n",
    "        self.gru = nn.GRU(emb_size, hidden_size, num_layers, dropout=drop_prob, batch_first=True)\n",
    "        # fully connected layer [batch_size, seq_len, hidden_size] -> [batch_size, seq_len, dictionary_size]\n",
    "        self.fc = nn.Linear(hidden_size, dictionary_size)\n",
    "        self.max_len = vectorizer.pad_to_len\n",
    "\n",
    "    def forward(self, input, hidden):\n",
    "        emdedded = self.embedding(input)\n",
    "        prediction, hidden = self.gru(emdedded, hidden)\n",
    "        prediction = self.fc(prediction)\n",
    "        return prediction, hidden\n",
    "\n",
    "\n",
    "    def init_hidden(self, encoded):\n",
    "        return encoded.unsqueeze(0).repeat(self.num_layers, 1, 1).to(device)\n",
    "    \n",
    "class Autoencoder(nn.Module):\n",
    "    def __init__(self, input_size=4860, \n",
    "                 encoding_size=256, \n",
    "                 dictionary_size=len(alphabet), \n",
    "                 emb_size=256, \n",
    "                 hidden_size=256, \n",
    "                 num_layers=2, \n",
    "                 teacher_forcing_ratio=0.5,\n",
    "                 drop_prob=0.2):\n",
    "        super(Autoencoder, self).__init__()\n",
    "        self.encoder = EncoderNet(input_size, encoding_size)\n",
    "        self.decoder = DecoderNet(dictionary_size, emb_size, hidden_size, num_layers, drop_prob)\n",
    "        self.teacher_forcing_ratio = teacher_forcing_ratio\n",
    "\n",
    "    def forward(self, src,trg, teacher_forcing_ratio=None):\n",
    "        teacher_forcing_ratio = self.teacher_forcing_ratio if teacher_forcing_ratio is None else teacher_forcing_ratio\n",
    "        # if in evaluation mode we don't use teacher forcing\n",
    "        if not self.training:\n",
    "            teacher_forcing_ratio = 0\n",
    "        batch_size = src.shape[0]\n",
    "        trg_len = trg.shape[1]\n",
    "        trg_vocab_size = self.decoder.fc.out_features\n",
    "        outputs = []\n",
    "        hidden = self.encoder(src)\n",
    "        hidden = hidden.unsqueeze(0).repeat(self.decoder.num_layers, 1, 1)\n",
    "        input = trg[:, 0].unsqueeze(1)\n",
    "        for t in range(1, trg_len):\n",
    "            output, hidden = self.decoder(input, hidden)\n",
    "            outputs.append(output)\n",
    "            teacher_force = random.random() < teacher_forcing_ratio\n",
    "            top1 = torch.argmax(output, dim=2)\n",
    "            input = trg[:, t].unsqueeze(1) if teacher_force else top1\n",
    "        outputs = torch.cat(outputs, dim=1)\n",
    "        return outputs"
   ]
  },
  {
   "cell_type": "markdown",
   "id": "c3f697df",
   "metadata": {},
   "source": [
    "# Training"
   ]
  },
  {
   "cell_type": "code",
   "execution_count": 10,
   "id": "ce412c1f",
   "metadata": {},
   "outputs": [],
   "source": [
    "from tqdm.notebook import tqdm\n",
    "import wandb\n",
    "\n",
    "def pretty_str_compare(str, str_pred, color=True):\n",
    "    if len(str_pred) > len(str):\n",
    "        str += '-' * (len(str_pred) - len(str))\n",
    "    elif len(str_pred) < len(str):\n",
    "        str_pred += '-' * (len(str) - len(str_pred))\n",
    "    print(f'Target:  {str}', end='\\n')\n",
    "    # print difference in red color\n",
    "    print('Output:  ', end='')\n",
    "    for act, pred in zip(str, str_pred):\n",
    "        if act != pred:\n",
    "            if color:\n",
    "                print('\\033[91m', end='')\n",
    "            print(pred, end='')\n",
    "            if color:\n",
    "                print('\\033[0m', end='')\n",
    "        else:\n",
    "            print(pred, end='')\n",
    "\n",
    "def train(autoencoder, dataloader, val_dataloader, num_epochs=10, device=device):\n",
    "    \n",
    "    learning_rate = 0.001\n",
    "    teacher_forcing_ratio = 0.5\n",
    "    criterion = nn.CrossEntropyLoss(ignore_index=vectorizer.char2idx['[nop]'])\n",
    "    optimizer = optim.Adam(autoencoder.parameters(), lr=learning_rate)\n",
    "    autoencoder.train()\n",
    "    config = dict()\n",
    "    config['learning_rate'] = learning_rate\n",
    "    config['teacher_forcing_ratio'] = teacher_forcing_ratio\n",
    "    config['criterion'] = criterion\n",
    "    config['optimizer'] = optimizer\n",
    "    config['num_epochs'] = num_epochs\n",
    "    config['Trainable parameters'] = sum(p.numel() for p in autoencoder.parameters() if p.requires_grad)\n",
    "    config['Embedding size'] = autoencoder.decoder.embedding.embedding_dim\n",
    "    config['Hidden size'] = autoencoder.decoder.hidden_size\n",
    "    config['Number of layers'] = autoencoder.decoder.num_layers\n",
    "    config['Dropout'] = autoencoder.decoder.gru.dropout\n",
    "    config['Batch size'] = batch_size\n",
    "    config['Dataset size'] = len(dataloader.dataset) * batch_size\n",
    "\n",
    "    \n",
    "\n",
    "    wandb.init(project=\"selfie-autoencoder_v2\", config=config)\n",
    "    for epoch in range(num_epochs):\n",
    "        epoch_loss = 0\n",
    "        for batch_idx, (src, trg) in enumerate(tqdm(dataloader)):\n",
    "            src = src.to(device)\n",
    "            trg = trg.to(device)\n",
    "            optimizer.zero_grad()\n",
    "            output = autoencoder(src, trg, teacher_forcing_ratio)\n",
    "            trg = trg[:, 1:]\n",
    "            # print(f'Output shape: {output.shape}')\n",
    "            # print(f'Target shape: {trg.shape}')\n",
    "            # print('Target:', trg)\n",
    "            #replace 1 and 2 dimension\n",
    "            output = output.permute(0, 2, 1)\n",
    "            # print(f'Output shape after view: {output.shape}')\n",
    "            # print(f'Target shape after view: {trg.shape}')\n",
    "            loss = criterion(output, trg)\n",
    "            loss.backward()\n",
    "            optimizer.step()\n",
    "            epoch_loss += loss.item()\n",
    "        if epoch % 2 == 0:\n",
    "            autoencoder.eval()\n",
    "            with torch.no_grad():\n",
    "                visual_examples_src, visual_examples_trg = next(iter(dataloader))\n",
    "                visual_examples_src = visual_examples_src.to(device)[:5]\n",
    "                visual_examples_trg = visual_examples_trg.to(device)[:5]\n",
    "                visual_examples_outputs = autoencoder(visual_examples_src, visual_examples_trg, teacher_forcing_ratio)\n",
    "                visual_examples_outputs = visual_examples_outputs.permute(0, 2, 1)\n",
    "                visual_examples_outputs = torch.argmax(visual_examples_outputs, dim=1)\n",
    "                visual_examples_outputs = visual_examples_outputs.cpu().numpy()\n",
    "                visual_examples_outputs = np.array([vectorizer.deidxize(o) for o in visual_examples_outputs])\n",
    "                visual_examples_trg = visual_examples_trg.cpu().numpy()\n",
    "                visual_examples_trg = np.array([vectorizer.deidxize(o) for o in visual_examples_trg])\n",
    "                print(f'Epoch {epoch} loss: {epoch_loss / len(dataloader)}')\n",
    "                for i in range(len(visual_examples_outputs)):\n",
    "                    pretty_str_compare(visual_examples_trg[i][7:], visual_examples_outputs[i])\n",
    "                    print('\\n-------------------\\n')\n",
    "        # evaluate on validation set\n",
    "        autoencoder.eval()\n",
    "        with torch.no_grad():\n",
    "            val_loss = 0\n",
    "            for batch_idx, (src, trg) in enumerate(tqdm(val_dataloader)):\n",
    "                src = src.to(device)\n",
    "                trg = trg.to(device)\n",
    "                output = autoencoder(src, trg, teacher_forcing_ratio)\n",
    "                trg = trg[:, 1:]\n",
    "                output = output.permute(0, 2, 1)\n",
    "                loss = criterion(output, trg)\n",
    "                val_loss += loss.item()\n",
    "            wandb.log({'val_loss': val_loss / len(val_dataloader)})\n",
    "            autoencoder.train()\n",
    "        print(f'Epoch {epoch} loss: {epoch_loss / len(dataloader)}')\n",
    "        wandb.log({'loss': epoch_loss / len(dataloader)})\n",
    "    wandb.finish()\n",
    "    return autoencoder"
   ]
  },
  {
   "attachments": {},
   "cell_type": "markdown",
   "id": "db232dc2",
   "metadata": {},
   "source": [
    "## Sweep config"
   ]
  },
  {
   "cell_type": "code",
   "execution_count": 11,
   "id": "e8eabc1b",
   "metadata": {},
   "outputs": [
    {
     "name": "stdout",
     "output_type": "stream",
     "text": [
      "{'method': 'bayes',\n",
      " 'metric': {'goal': 'minimize', 'name': 'val_loss'},\n",
      " 'parameters': {'batch_size': {'value': 256},\n",
      "                'drop_prob': {'values': [0.0, 0.1, 0.2, 0.3, 0.4, 0.5]},\n",
      "                'emb_size': {'values': [32, 64, 128, 256, 512, 1024]},\n",
      "                'encoding_size': {'values': [32, 64, 128, 256, 512, 1024]},\n",
      "                'epochs': {'value': 20},\n",
      "                'learning_rate': {'distribution': 'uniform',\n",
      "                                  'max': 0.01,\n",
      "                                  'min': 0.0},\n",
      "                'num_layers': {'values': [1, 2, 3, 4, 5]},\n",
      "                'teacher_forcing_ratio': {'values': [0.0,\n",
      "                                                     0.1,\n",
      "                                                     0.2,\n",
      "                                                     0.3,\n",
      "                                                     0.4,\n",
      "                                                     0.5,\n",
      "                                                     0.6,\n",
      "                                                     0.7,\n",
      "                                                     0.8,\n",
      "                                                     0.9,\n",
      "                                                     1.0]}}}\n"
     ]
    }
   ],
   "source": [
    "import pprint\n",
    "sweep_config = {\n",
    "    'method': 'bayes',\n",
    "    }\n",
    "metric = {\n",
    "    'name': 'val_loss',\n",
    "    'goal': 'minimize'   \n",
    "    }\n",
    "\n",
    "sweep_config['metric'] = metric\n",
    "parameters_dict = {\n",
    "    'encoding_size': { 'values': [32, 64, 128, 256, 512, 1024] },\n",
    "    'emb_size': { 'values': [32, 64, 128, 256, 512, 1024] }, \n",
    "    'num_layers': { 'values': [1, 2, 3, 4, 5] },\n",
    "    'teacher_forcing_ratio': { 'values': [0.0, 0.1, 0.2, 0.3, 0.4, 0.5, 0.6, 0.7, 0.8, 0.9, 1.0] }, # 'min': 0.0, 'max': 0.5, 'step': 0.1 },\n",
    "    'drop_prob': { 'values': [0.0, 0.1, 0.2, 0.3, 0.4, 0.5] },\n",
    "    'epochs': { 'value': 20}\n",
    "    }\n",
    "\n",
    "\n",
    "sweep_config['parameters'] = parameters_dict\n",
    "parameters_dict.update({\n",
    "    'learning_rate': {\n",
    "        # a flat distribution between 0 and 0.01\n",
    "        'distribution': 'uniform',\n",
    "        'min': 0.0,\n",
    "        'max': 0.01\n",
    "      },\n",
    "    'batch_size': {\n",
    "        'value': 256\n",
    "      }\n",
    "    })\n",
    "pprint.pprint(sweep_config)"
   ]
  },
  {
   "cell_type": "code",
   "execution_count": 12,
   "id": "2f3ad4d4",
   "metadata": {},
   "outputs": [],
   "source": [
    "# sweep id is created only once, then string is used to run the sweep\n",
    "#sweep_id = wandb.sweep(sweep_config, project=\"selfie-autoencoder_v2\")\n",
    "sweep_id = 'jjgazi3d'"
   ]
  },
  {
   "cell_type": "code",
   "execution_count": 13,
   "id": "d61e3a97",
   "metadata": {},
   "outputs": [],
   "source": [
    "device = torch.device(\"cuda\" if torch.cuda.is_available() else \"cpu\")\n",
    "\n",
    "def train_hyper(config=None):\n",
    "    # Initialize a new wandb run\n",
    "    with wandb.init(config=config):\n",
    "        # Config is a variable that holds and saves hyperparameters and inputs\n",
    "        config = wandb.config\n",
    "        # Define model, optimizer, and loss function\n",
    "        autoencoder = Autoencoder(encoding_size=config.encoding_size, \n",
    "                                  emb_size=config.emb_size, \n",
    "                                  hidden_size=config.encoding_size,\n",
    "                                  num_layers=config.num_layers, \n",
    "                                    teacher_forcing_ratio=config.teacher_forcing_ratio,\n",
    "                                  drop_prob=config.drop_prob).to(device)\n",
    "        dataloader = DataLoader(train_dataset, shuffle=True, batch_size=config.batch_size, drop_last=True)\n",
    "        val_dataloader = DataLoader(test_dataset, shuffle=False, batch_size=config.batch_size, drop_last=True)\n",
    "        for i in tqdm(range(config.epochs)):\n",
    "            avg_loss = train_epoch(autoencoder, dataloader, config.learning_rate)\n",
    "            val_loss, table = evaluate(autoencoder, val_dataloader)\n",
    "            wandb.log({'epoch': i, 'loss': avg_loss})\n",
    "            wandb.log({'epoch': i, 'val_loss': val_loss})\n",
    "            wandb.log({'epoch': i, 'table': table})\n",
    "\n",
    "\n",
    "def train_epoch(autoencoder, dataloader, learning_rate):\n",
    "    autoencoder.train()\n",
    "    criterion = nn.CrossEntropyLoss(ignore_index=vectorizer.char2idx['[nop]'])\n",
    "    optimizer = optim.Adam(autoencoder.parameters(), lr=learning_rate)\n",
    "    epoch_loss = 0\n",
    "    for batch_idx, (src, trg) in enumerate(tqdm(dataloader)):\n",
    "        src = src.to(device)\n",
    "        trg = trg.to(device)\n",
    "        optimizer.zero_grad()\n",
    "        output = autoencoder(src, trg)\n",
    "        trg = trg[:, 1:]\n",
    "        output = output.permute(0, 2, 1)\n",
    "        loss = criterion(output, trg)\n",
    "        loss.backward()\n",
    "        optimizer.step()\n",
    "        epoch_loss += loss.item()\n",
    "        wandb.log({'batch_loss': loss.item()})\n",
    "    avg_loss = epoch_loss / len(dataloader)\n",
    "\n",
    "    return avg_loss\n",
    "\n",
    "def evaluate(autoencoder, dataloader):\n",
    "    autoencoder.eval()\n",
    "    criterion = nn.CrossEntropyLoss(ignore_index=vectorizer.char2idx['[nop]'])\n",
    "    epoch_loss = 0\n",
    "    for batch_idx, (src, trg) in enumerate(tqdm(dataloader)):\n",
    "        src = src.to(device)\n",
    "        trg = trg.to(device)\n",
    "        output = autoencoder(src, trg)\n",
    "        trg = trg[:, 1:]\n",
    "        output = output.permute(0, 2, 1)\n",
    "        loss = criterion(output, trg)\n",
    "        epoch_loss += loss.item()\n",
    "    avg_loss = epoch_loss / len(dataloader)\n",
    "    with torch.no_grad():\n",
    "                visual_examples_src, visual_examples_trg = next(iter(dataloader))\n",
    "                visual_examples_src = visual_examples_src.to(device)[:5]\n",
    "                visual_examples_trg = visual_examples_trg.to(device)[:5]\n",
    "                visual_examples_outputs = autoencoder(visual_examples_src, visual_examples_trg, teacher_forcing_ratio)\n",
    "                visual_examples_outputs = visual_examples_outputs.permute(0, 2, 1)\n",
    "                visual_examples_outputs = torch.argmax(visual_examples_outputs, dim=1)\n",
    "                visual_examples_outputs = visual_examples_outputs.cpu().numpy()\n",
    "                visual_examples_outputs = np.array([vectorizer.deidxize(o) for o in visual_examples_outputs])\n",
    "                visual_examples_trg = visual_examples_trg.cpu().numpy()\n",
    "                visual_examples_trg = np.array([vectorizer.deidxize(o) for o in visual_examples_trg])\n",
    "                #log visual examples as table to wandb\n",
    "                data = [[src, trg] for src, trg in zip(visual_examples_trg, visual_examples_outputs)]\n",
    "                table = wandb.Table(data=data, columns = [\"Target\", \"Output\"])\n",
    "                     \n",
    "    return avg_loss, table\n"
   ]
  },
  {
   "cell_type": "code",
   "execution_count": 15,
   "id": "6092af90",
   "metadata": {},
   "outputs": [
    {
     "name": "stderr",
     "output_type": "stream",
     "text": [
      "\u001b[34m\u001b[1mwandb\u001b[0m: Agent Starting Run: 56n82juf with config:\n",
      "\u001b[34m\u001b[1mwandb\u001b[0m: \tbatch_size: 256\n",
      "\u001b[34m\u001b[1mwandb\u001b[0m: \tdrop_prob: 0\n",
      "\u001b[34m\u001b[1mwandb\u001b[0m: \temb_size: 32\n",
      "\u001b[34m\u001b[1mwandb\u001b[0m: \tencoding_size: 64\n",
      "\u001b[34m\u001b[1mwandb\u001b[0m: \tepochs: 20\n",
      "\u001b[34m\u001b[1mwandb\u001b[0m: \tlearning_rate: 0.00045079172714391217\n",
      "\u001b[34m\u001b[1mwandb\u001b[0m: \tnum_layers: 5\n",
      "\u001b[34m\u001b[1mwandb\u001b[0m: \tteacher_forcing_ratio: 0\n",
      "Failed to detect the name of this notebook, you can set it manually with the WANDB_NOTEBOOK_NAME environment variable to enable code saving.\n",
      "\u001b[34m\u001b[1mwandb\u001b[0m: Currently logged in as: \u001b[33manton-siomchen\u001b[0m (\u001b[33mmldd23\u001b[0m). Use \u001b[1m`wandb login --relogin`\u001b[0m to force relogin\n"
     ]
    },
    {
     "data": {
      "text/html": [
       "Tracking run with wandb version 0.15.3"
      ],
      "text/plain": [
       "<IPython.core.display.HTML object>"
      ]
     },
     "metadata": {},
     "output_type": "display_data"
    },
    {
     "data": {
      "text/html": [
       "Run data is saved locally in <code>/home/anton/mldd23_project1/wandb/run-20230602_175715-56n82juf</code>"
      ],
      "text/plain": [
       "<IPython.core.display.HTML object>"
      ]
     },
     "metadata": {},
     "output_type": "display_data"
    },
    {
     "data": {
      "text/html": [
       "Syncing run <strong><a href='https://wandb.ai/mldd23/selfie-autoencoder_v2/runs/56n82juf' target=\"_blank\">honest-sweep-2</a></strong> to <a href='https://wandb.ai/mldd23/selfie-autoencoder_v2' target=\"_blank\">Weights & Biases</a> (<a href='https://wandb.me/run' target=\"_blank\">docs</a>)<br/>Sweep page: <a href='https://wandb.ai/mldd23/selfie-autoencoder_v2/sweeps/jjgazi3d' target=\"_blank\">https://wandb.ai/mldd23/selfie-autoencoder_v2/sweeps/jjgazi3d</a>"
      ],
      "text/plain": [
       "<IPython.core.display.HTML object>"
      ]
     },
     "metadata": {},
     "output_type": "display_data"
    },
    {
     "data": {
      "text/html": [
       " View project at <a href='https://wandb.ai/mldd23/selfie-autoencoder_v2' target=\"_blank\">https://wandb.ai/mldd23/selfie-autoencoder_v2</a>"
      ],
      "text/plain": [
       "<IPython.core.display.HTML object>"
      ]
     },
     "metadata": {},
     "output_type": "display_data"
    },
    {
     "data": {
      "text/html": [
       " View sweep at <a href='https://wandb.ai/mldd23/selfie-autoencoder_v2/sweeps/jjgazi3d' target=\"_blank\">https://wandb.ai/mldd23/selfie-autoencoder_v2/sweeps/jjgazi3d</a>"
      ],
      "text/plain": [
       "<IPython.core.display.HTML object>"
      ]
     },
     "metadata": {},
     "output_type": "display_data"
    },
    {
     "data": {
      "text/html": [
       " View run at <a href='https://wandb.ai/mldd23/selfie-autoencoder_v2/runs/56n82juf' target=\"_blank\">https://wandb.ai/mldd23/selfie-autoencoder_v2/runs/56n82juf</a>"
      ],
      "text/plain": [
       "<IPython.core.display.HTML object>"
      ]
     },
     "metadata": {},
     "output_type": "display_data"
    },
    {
     "data": {
      "application/vnd.jupyter.widget-view+json": {
       "model_id": "8fd231c9f8c84a32a25b574dd70f2925",
       "version_major": 2,
       "version_minor": 0
      },
      "text/plain": [
       "  0%|          | 0/20 [00:00<?, ?it/s]"
      ]
     },
     "metadata": {},
     "output_type": "display_data"
    },
    {
     "data": {
      "application/vnd.jupyter.widget-view+json": {
       "model_id": "02f3dc2cc6364c7fadc5962af8b6427c",
       "version_major": 2,
       "version_minor": 0
      },
      "text/plain": [
       "  0%|          | 0/1416 [00:00<?, ?it/s]"
      ]
     },
     "metadata": {},
     "output_type": "display_data"
    }
   ],
   "source": [
    "wandb.agent(sweep_id,project=\"selfie-autoencoder_v2\", function=train_hyper, count=1)"
   ]
  },
  {
   "cell_type": "code",
   "execution_count": 38,
   "id": "2bad90c0",
   "metadata": {},
   "outputs": [
    {
     "data": {
      "text/plain": [
       "<All keys matched successfully>"
      ]
     },
     "execution_count": 38,
     "metadata": {},
     "output_type": "execute_result"
    }
   ],
   "source": [
    "# Hubert jakby co, to możesz wczytać model z pliku, \n",
    "# żeby nie trzeba było czekać 200 epok\n",
    "loaded_model = Autoencoder(4860, 300, 300, 42, 2, 0.0).to(device)\n",
    "loaded_model.load_state_dict(torch.load('./GRU_data/model_h300_e500_teacher_forcing.pt'))"
   ]
  },
  {
   "cell_type": "code",
   "execution_count": 39,
   "id": "2e768d4a",
   "metadata": {},
   "outputs": [
    {
     "data": {
      "text/plain": [
       "torch.Size([64, 4860])"
      ]
     },
     "execution_count": 39,
     "metadata": {},
     "output_type": "execute_result"
    }
   ],
   "source": [
    "x, y = next(iter(test_loader))\n",
    "x = x.to(device)\n",
    "x.size()"
   ]
  },
  {
   "cell_type": "code",
   "execution_count": 40,
   "id": "9dbdfd19",
   "metadata": {},
   "outputs": [],
   "source": [
    "encoded, decoded = loaded_model(x)"
   ]
  },
  {
   "cell_type": "markdown",
   "id": "bfe6bfa9",
   "metadata": {},
   "source": [
    "# GRU output to SELFIES"
   ]
  },
  {
   "cell_type": "code",
   "execution_count": 41,
   "id": "2aab1202",
   "metadata": {},
   "outputs": [],
   "source": [
    "decoded_indices = torch.argmax(decoded.cpu(), dim=2)\n",
    "decoded_indices = decoded_indices.numpy()"
   ]
  },
  {
   "cell_type": "code",
   "execution_count": 42,
   "id": "c4a1d92f",
   "metadata": {},
   "outputs": [
    {
     "name": "stdout",
     "output_type": "stream",
     "text": [
      "Original: [C][C][Branch2][Ring1][=Branch1][C][=Branch1][C][=O][N][S][=Branch1][C][=O][=Branch1][C][=O][C][=C][C][=C][C][=C][Ring1][=Branch1][Cl][C][C][N][Ring1][P][C][=Branch1][C][=O][C][C][C][C][C][C][Ring1][=Branch1][end][nop][nop][nop][nop][nop][nop][nop][nop][nop][nop][nop][nop][nop][nop][nop][nop][nop][nop][nop][nop][nop][nop][nop][nop][nop][nop][nop][nop][nop][nop][nop][nop][nop][nop][nop][nop][nop][nop][nop][nop][nop][nop][nop][nop][nop][nop][nop][nop][nop][nop][nop][nop][nop][nop][nop][nop][nop][nop][nop][nop][nop][nop][nop][nop][nop][nop][nop][nop][nop] \n",
      "\n",
      "Decoded:  [O-1][#C][=N][\\O][=N][NH1][Branch2][I][#N][#N][=O][#N][=S][/O][#N][=O][=S][=S][/O][\\O][=S][\\O][=Ring1][#N][P][#N][#N][#N][#Branch2][#Branch2][#N][#N][=Ring2][=Ring2][#Branch2][end][end][nop][nop][nop][nop][nop][nop][nop][nop][nop][nop][nop][nop][nop][nop][nop][nop][nop][nop][nop][nop][nop][nop][nop][nop][nop][nop][nop][nop][nop][nop][nop][nop][nop][nop][nop][nop][nop][nop][nop][nop][nop][nop][nop][nop][nop][nop][nop][nop][nop][nop][nop][nop][nop][nop][nop][nop][nop][nop][nop][nop][nop][nop][nop][nop][nop][nop][nop][nop][nop][nop][nop][nop][nop][nop][nop][nop]\n",
      "------------------\n",
      "Original: [C][O][C][=Branch1][C][=O][C][=C][C][=C][C][=Branch1][N][=C][C][Branch1][C][O][=C][Ring1][#Branch1][NH1][Ring1][#Branch2][N][Branch2][Ring1][#Branch2][C][=Branch1][C][=O][C][=C][C][=C][C][Branch1][#Branch1][N][C][Branch1][C][C][=O][=C][C][=C][Ring1][#Branch2][NH1][Ring1][=N][C][C@H1][Ring2][Ring1][=Branch2][C][Cl][end][nop][nop][nop][nop][nop][nop][nop][nop][nop][nop][nop][nop][nop][nop][nop][nop][nop][nop][nop][nop][nop][nop][nop][nop][nop][nop][nop][nop][nop][nop][nop][nop][nop][nop][nop][nop][nop][nop][nop][nop][nop][nop][nop][nop][nop][nop][nop][nop][nop][nop][nop][nop] \n",
      "\n",
      "Decoded:  [=N+1][=N+1][Branch2][Ring2][=N+1][=N+1][=N+1][=N+1][=N+1][=N+1][C@@][=Ring1][=N+1][=N+1][=N+1][C@@][=Ring2][=Ring2][O-1][=Ring2][O-1][O-1][O-1][O-1][=Ring2][=Ring2][=Ring2][=Ring2][=Ring2][=Ring2][=Ring2][=Ring2][=Ring2][=Ring2][=Ring2][=Ring2][=Ring2][=Ring2][=Ring2][=Ring2][=Ring2][=Ring2][=Ring2][=Ring2][=Ring2][=Ring2][=Ring2][=Ring2][=Ring2][=Ring2][=Ring2][=Ring2][=Ring2][=Ring2][end][end][end][end][end][end][end][end][end][end][end][end][end][nop][nop][nop][nop][nop][nop][nop][nop][nop][nop][nop][nop][nop][nop][nop][nop][nop][nop][nop][nop][nop][nop][nop][nop][nop][nop][nop][nop][nop][nop][nop][nop][nop][nop][nop][nop][nop][nop][nop][nop][nop][nop][nop][nop][nop][nop]\n",
      "------------------\n",
      "Original: [O][C][=C][Branch1][#Branch1][C][C][C][C][Ring1][Ring2][C][=C][C][Branch1][=C][C][=C][N][=C][NH1][C][=C][C][Ring1][Branch1][=N][Ring1][=Branch2][=C][Ring2][Ring1][Ring1][F][end][nop][nop][nop][nop][nop][nop][nop][nop][nop][nop][nop][nop][nop][nop][nop][nop][nop][nop][nop][nop][nop][nop][nop][nop][nop][nop][nop][nop][nop][nop][nop][nop][nop][nop][nop][nop][nop][nop][nop][nop][nop][nop][nop][nop][nop][nop][nop][nop][nop][nop][nop][nop][nop][nop][nop][nop][nop][nop][nop][nop][nop][nop][nop][nop][nop][nop][nop][nop][nop][nop][nop][nop][nop][nop][nop][nop][nop][nop] \n",
      "\n",
      "Decoded:  [=N+1][=N+1][NH1][Branch2][=Ring2][Ring2][=Ring1][=N+1][=N+1][=N+1][=Ring1][=Ring2][=Ring1][=Ring2][=Ring1][=Ring2][=Ring2][=Ring2][=O][=O][/O][=O][=O][/O][=Ring2][=Ring2][=Ring2][=Ring2][=Ring2][=Ring2][=Ring2][=Ring2][=Ring2][=Ring2][=Ring2][=Ring2][=Ring2][=Ring2][=Ring2][=Ring2][=Ring2][=Ring2][=Ring2][=Ring2][=Ring2][=Ring2][=Ring2][=Ring2][=Ring2][=Ring2][=Ring2][=Ring2][=Ring2][end][end][end][end][nop][nop][nop][nop][nop][nop][nop][nop][nop][nop][nop][nop][nop][nop][nop][nop][nop][nop][nop][nop][nop][nop][nop][nop][nop][nop][nop][nop][nop][nop][nop][nop][nop][nop][nop][nop][nop][nop][nop][nop][nop][nop][nop][nop][nop][nop][nop][nop][nop][nop][nop][nop][nop][nop][nop][nop]\n",
      "------------------\n",
      "Original: [C][C][C][Branch1][#C][C][=C][C][Branch1][C][Cl][=C][C][Branch1][C][Cl][=C][Ring1][Branch2][N][C][Branch1][#Branch1][C][=Branch1][C][=O][O][C][=C][N][=C][Ring1][=Branch2][S][end][nop][nop][nop][nop][nop][nop][nop][nop][nop][nop][nop][nop][nop][nop][nop][nop][nop][nop][nop][nop][nop][nop][nop][nop][nop][nop][nop][nop][nop][nop][nop][nop][nop][nop][nop][nop][nop][nop][nop][nop][nop][nop][nop][nop][nop][nop][nop][nop][nop][nop][nop][nop][nop][nop][nop][nop][nop][nop][nop][nop][nop][nop][nop][nop][nop][nop][nop][nop][nop][nop][nop][nop][nop][nop][nop][nop][nop] \n",
      "\n",
      "Decoded:  [Cl][=N+1][/N][/N][=Ring2][=S][\\C][/N][#N][\\C][#N][N+1][#Branch1][/N][/N][/N][/N][/N][#N][#N][#N][#N][#N][=Ring2][#N][#N][=Ring2][=Ring2][=Ring2][=Ring2][=Ring2][=Ring2][=Ring2][=Ring2][=Ring2][=Ring2][=Ring2][=Ring2][=Ring2][=Ring2][=Ring2][=Ring2][=Ring2][=Ring2][=Ring2][=Ring2][=Ring2][#N][#N][end][end][nop][nop][nop][nop][nop][nop][nop][nop][nop][nop][nop][nop][nop][nop][nop][nop][nop][nop][nop][nop][nop][nop][nop][nop][nop][nop][nop][nop][nop][nop][nop][nop][nop][nop][nop][nop][nop][nop][nop][nop][nop][nop][nop][nop][nop][nop][nop][nop][nop][nop][nop][nop][nop][nop][nop][nop][nop][nop][nop][nop][nop][nop]\n",
      "------------------\n",
      "Original: [C][O][C][=C][C][=C][Branch1][C][O][C][Branch2][Ring2][=Branch1][/C][=N][/N][C][=Branch1][C][=O][C][=C][C][=C][Branch2][Ring1][Ring1][C][=N][N][=C][Branch1][#Branch2][C][=C][C][=C][C][=C][Ring1][=Branch1][O][O][Ring1][N][C][=C][Ring2][Ring1][C][=C][Ring2][Ring1][=C][end][nop][nop][nop][nop][nop][nop][nop][nop][nop][nop][nop][nop][nop][nop][nop][nop][nop][nop][nop][nop][nop][nop][nop][nop][nop][nop][nop][nop][nop][nop][nop][nop][nop][nop][nop][nop][nop][nop][nop][nop][nop][nop][nop][nop][nop][nop][nop][nop][nop][nop][nop][nop][nop][nop][nop][nop][nop][nop] \n",
      "\n",
      "Decoded:  [=N+1][=N+1][=N+1][=N+1][O-1][=N+1][=Ring1][=N+1][=N+1][=N+1][=Ring1][=Ring1][=Ring1][=Ring1][=Ring1][=Ring1][=Ring1][=Ring1][=Ring1][=Ring1][=Ring1][=Ring1][=Ring1][=Ring1][=Ring2][=Ring2][=Ring2][=Ring2][=Ring2][=Ring2][=Ring2][=Ring2][=Ring2][=Ring2][=Ring2][=Ring2][=Ring2][=Ring2][=Ring2][=Ring2][=Ring2][=Ring2][=Ring2][=Ring2][=Ring2][=Ring2][=Ring2][=Ring2][=Ring2][=Ring2][=Ring2][=Ring2][=Ring2][=Ring2][=Ring2][end][end][nop][nop][nop][nop][nop][nop][nop][nop][nop][nop][nop][nop][nop][nop][nop][nop][nop][nop][nop][nop][nop][nop][nop][nop][nop][nop][nop][nop][nop][nop][nop][nop][nop][nop][nop][nop][nop][nop][nop][nop][nop][nop][nop][nop][nop][nop][nop][nop][nop][nop][nop][nop][nop][nop][nop][nop]\n",
      "------------------\n",
      "Original: [C][C][Branch1][C][C][C][N][C][=Branch1][C][=O][C][=C][C][=C][C][C][Branch1][=Branch2][C][=C][C][=C][N][=C][Ring1][=Branch1][=C][O][C][Ring1][#C][=Ring1][O][end][nop][nop][nop][nop][nop][nop][nop][nop][nop][nop][nop][nop][nop][nop][nop][nop][nop][nop][nop][nop][nop][nop][nop][nop][nop][nop][nop][nop][nop][nop][nop][nop][nop][nop][nop][nop][nop][nop][nop][nop][nop][nop][nop][nop][nop][nop][nop][nop][nop][nop][nop][nop][nop][nop][nop][nop][nop][nop][nop][nop][nop][nop][nop][nop][nop][nop][nop][nop][nop][nop][nop][nop][nop][nop][nop][nop][nop][nop] \n",
      "\n",
      "Decoded:  [\\O][C@H1][C@H1][C@H1][#N][/O][C@@][\\O][\\O][\\N][NH1][#N][=Ring1][\\O][\\O][=Ring1][#N][#N][=Ring1][=Ring2][=Ring2][=Ring2][#Branch2][end][end][end][end][nop][nop][nop][nop][nop][nop][nop][nop][nop][nop][nop][nop][nop][nop][nop][nop][nop][nop][nop][nop][nop][nop][nop][nop][nop][nop][nop][nop][nop][nop][nop][nop][nop][nop][nop][nop][nop][nop][nop][nop][nop][nop][nop][nop][nop][nop][nop][nop][nop][nop][nop][nop][nop][nop][nop][nop][nop][nop][nop][nop][nop][nop][nop][nop][nop][nop][nop][nop][nop][nop][nop][nop][nop][nop][nop][nop][nop][nop][nop][nop][nop][nop][nop][nop][nop][nop]\n",
      "------------------\n",
      "Original: [C][O][C][=C][C][=C][Branch2][Ring2][C][C][=N][C][Branch2][Ring1][#Branch1][C][N][Branch1][#Branch2][C][C][=C][C][=C][C][=N][Ring1][=Branch1][C][C][=C][C][=C][C][=N][Ring1][=Branch1][=C][O][Ring2][Ring1][Branch1][C][=C][Ring2][Ring1][O][end][nop][nop][nop][nop][nop][nop][nop][nop][nop][nop][nop][nop][nop][nop][nop][nop][nop][nop][nop][nop][nop][nop][nop][nop][nop][nop][nop][nop][nop][nop][nop][nop][nop][nop][nop][nop][nop][nop][nop][nop][nop][nop][nop][nop][nop][nop][nop][nop][nop][nop][nop][nop][nop][nop][nop][nop][nop][nop][nop][nop][nop][nop][nop][nop][nop] \n",
      "\n",
      "Decoded:  [=N+1][=N+1][=N+1][/O][=O][=N+1][=O][=N+1][=N+1][=N+1][\\N][/O][\\O][=N+1][\\O][\\O][\\O][\\O][\\O][/O][=N+1][/O][/O][/O][=Ring2][=Ring2][=Ring2][=Ring2][=Ring2][=Ring2][=Ring2][=Ring2][=Ring2][=Ring2][=Ring2][=Ring2][=Ring2][=Ring2][=Ring2][=Ring2][=Ring2][=Ring2][=Ring2][=Ring2][=Ring2][=Ring2][=Ring2][=Ring2][=Ring2][=Ring1][end][end][end][end][nop][nop][nop][nop][nop][nop][nop][nop][nop][nop][nop][nop][nop][nop][nop][nop][nop][nop][nop][nop][nop][nop][nop][nop][nop][nop][nop][nop][nop][nop][nop][nop][nop][nop][nop][nop][nop][nop][nop][nop][nop][nop][nop][nop][nop][nop][nop][nop][nop][nop][nop][nop][nop][nop][nop][nop][nop][nop][nop]\n",
      "------------------\n",
      "Original: [C][O][C][C][=Branch1][C][=O][N][C][=C][C][=C][C][Branch2][Ring1][Branch1][C][=N][NH1][C][=C][C][=C][Branch1][=Branch1][C][Branch1][C][N][=O][C][=C][Ring1][N][Ring1][=Branch2][=C][Ring2][Ring1][C][end][nop][nop][nop][nop][nop][nop][nop][nop][nop][nop][nop][nop][nop][nop][nop][nop][nop][nop][nop][nop][nop][nop][nop][nop][nop][nop][nop][nop][nop][nop][nop][nop][nop][nop][nop][nop][nop][nop][nop][nop][nop][nop][nop][nop][nop][nop][nop][nop][nop][nop][nop][nop][nop][nop][nop][nop][nop][nop][nop][nop][nop][nop][nop][nop][nop][nop][nop][nop][nop][nop][nop][nop] \n",
      "\n",
      "Decoded:  [=N+1][=N+1][=S][\\C][=O][=O][=Ring1][=Ring1][=N+1][=S][=Ring1][/O][=Ring1][=Ring1][=Ring1][=Ring1][=Ring1][=Ring1][=Ring1][\\O][=Ring1][=Ring1][=Ring1][=Ring1][=Ring1][=Ring1][=Ring1][=Ring1][=Ring1][=Ring1][=Ring1][=Ring1][=Ring1][=Ring1][=Ring1][=Ring1][=Ring1][=Ring1][=Ring1][=Ring1][=Ring1][=Ring2][=Ring2][=Ring2][=Ring1][=Ring1][=Ring1][end][end][end][nop][nop][nop][nop][nop][nop][nop][nop][nop][nop][nop][nop][nop][nop][nop][nop][nop][nop][nop][nop][nop][nop][nop][nop][nop][nop][nop][nop][nop][nop][nop][nop][nop][nop][nop][nop][nop][nop][nop][nop][nop][nop][nop][nop][nop][nop][nop][nop][nop][nop][nop][nop][nop][nop][nop][nop][nop][nop][nop][nop][nop][nop][nop]\n",
      "------------------\n",
      "Original: [C][C][C][C][C][C][=Branch1][C][=O][N][C][C][C][N][C][C][C][C@H1][Ring1][Branch1][C][C][=Branch1][C][=O][O][end][nop][nop][nop][nop][nop][nop][nop][nop][nop][nop][nop][nop][nop][nop][nop][nop][nop][nop][nop][nop][nop][nop][nop][nop][nop][nop][nop][nop][nop][nop][nop][nop][nop][nop][nop][nop][nop][nop][nop][nop][nop][nop][nop][nop][nop][nop][nop][nop][nop][nop][nop][nop][nop][nop][nop][nop][nop][nop][nop][nop][nop][nop][nop][nop][nop][nop][nop][nop][nop][nop][nop][nop][nop][nop][nop][nop][nop][nop][nop][nop][nop][nop][nop][nop][nop][nop] \n",
      "\n",
      "Decoded:  [=N+1][=N+1][=N+1][/N][=O][/N][#N][/N][=N+1][/N][/N][=Ring2][=Ring2][=Ring1][/N][=Ring1][=Ring1][=Ring1][=Ring1][=Ring1][=Ring1][=Ring1][/O][/O][=Ring2][=Ring2][=Ring2][=Ring2][=Ring2][=Ring2][=Ring2][=Ring2][=Ring2][=Ring2][=Ring2][=Ring2][=Ring2][=Ring2][=Ring2][=Ring2][=Ring2][=Ring2][=Ring2][=Ring2][=Ring2][=Ring2][=Ring2][=Ring2][=Ring2][=Ring2][=Ring2][end][end][end][nop][nop][nop][nop][nop][nop][nop][nop][nop][nop][nop][nop][nop][nop][nop][nop][nop][nop][nop][nop][nop][nop][nop][nop][nop][nop][nop][nop][nop][nop][nop][nop][nop][nop][nop][nop][nop][nop][nop][nop][nop][nop][nop][nop][nop][nop][nop][nop][nop][nop][nop][nop][nop][nop][nop][nop][nop][nop][nop]\n",
      "------------------\n",
      "Original: [C][/C][=Branch1][P][=N][\\C][C][/N][=C][Branch1][C][\\C][C][=C][C][=C][C][=C][Ring1][=Branch1][C][=C][C][=C][C][=C][Ring1][=Branch1][end][nop][nop][nop][nop][nop][nop][nop][nop][nop][nop][nop][nop][nop][nop][nop][nop][nop][nop][nop][nop][nop][nop][nop][nop][nop][nop][nop][nop][nop][nop][nop][nop][nop][nop][nop][nop][nop][nop][nop][nop][nop][nop][nop][nop][nop][nop][nop][nop][nop][nop][nop][nop][nop][nop][nop][nop][nop][nop][nop][nop][nop][nop][nop][nop][nop][nop][nop][nop][nop][nop][nop][nop][nop][nop][nop][nop][nop][nop][nop][nop][nop][nop][nop][nop] \n",
      "\n",
      "Decoded:  [I][=N+1][Branch2][/N][Branch2][/N][#N][/N][\\O][\\N][I][I][\\O][/N][#N][#N][/N][\\C][\\C][#N][=S][#N][#N][\\N][\\N][#N][#N][#N][#N][#N][#N][#N][#N][#N][#N][#N][=Ring2][Branch2][#N][#N][end][nop][nop][nop][nop][nop][nop][nop][nop][nop][nop][nop][nop][nop][nop][nop][nop][nop][nop][nop][nop][nop][nop][nop][nop][nop][nop][nop][nop][nop][nop][nop][nop][nop][nop][nop][nop][nop][nop][nop][nop][nop][nop][nop][nop][nop][nop][nop][nop][nop][nop][nop][nop][nop][nop][nop][nop][nop][nop][nop][nop][nop][nop][nop][nop][nop][nop][nop][nop][nop][nop][nop][nop]\n",
      "------------------\n",
      "Original: [O][=C][Branch1][C][O][C][=C][C][Branch1][C][F][=C][C][Branch2][Ring1][Branch1][C][C][=C][C][Branch1][C][F][=C][C][Branch1][=Branch1][C][=Branch1][C][=O][O][=C][Ring1][#Branch2][O][=C][Ring2][Ring1][Ring1][O][end][nop][nop][nop][nop][nop][nop][nop][nop][nop][nop][nop][nop][nop][nop][nop][nop][nop][nop][nop][nop][nop][nop][nop][nop][nop][nop][nop][nop][nop][nop][nop][nop][nop][nop][nop][nop][nop][nop][nop][nop][nop][nop][nop][nop][nop][nop][nop][nop][nop][nop][nop][nop][nop][nop][nop][nop][nop][nop][nop][nop][nop][nop][nop][nop][nop][nop][nop][nop][nop][nop][nop] \n",
      "\n",
      "Decoded:  [=N+1][=N+1][/N][/N][=O][/N][\\N][/N][/N][\\N][/N][/O][\\O][=Ring2][\\O][\\O][/N][\\O][\\O][\\N][\\O][\\O][#Branch2][=Ring1][=Ring1][=Ring2][=Ring2][=Ring1][=Ring2][=Ring2][=Ring2][=Ring2][=Ring2][=Ring2][=Ring2][=Ring2][=Ring2][=Ring2][=Ring2][=Ring2][end][end][nop][nop][nop][nop][nop][nop][nop][nop][nop][nop][nop][nop][nop][nop][nop][nop][nop][nop][nop][nop][nop][nop][nop][nop][nop][nop][nop][nop][nop][nop][nop][nop][nop][nop][nop][nop][nop][nop][nop][nop][nop][nop][nop][nop][nop][nop][nop][nop][nop][nop][nop][nop][nop][nop][nop][nop][nop][nop][nop][nop][nop][nop][nop][nop][nop][nop][nop][nop][nop][nop][nop]\n",
      "------------------\n",
      "Original: [C][C][=N][C][=C][Branch1][=Branch1][N+1][=Branch1][C][=O][O-1][N][Ring1][Branch2][C][C][N][C][=C][Branch1][O][C][N][C][=C][C][=C][C][=C][Ring1][=Branch1][N][=N][Ring1][=N][end][nop][nop][nop][nop][nop][nop][nop][nop][nop][nop][nop][nop][nop][nop][nop][nop][nop][nop][nop][nop][nop][nop][nop][nop][nop][nop][nop][nop][nop][nop][nop][nop][nop][nop][nop][nop][nop][nop][nop][nop][nop][nop][nop][nop][nop][nop][nop][nop][nop][nop][nop][nop][nop][nop][nop][nop][nop][nop][nop][nop][nop][nop][nop][nop][nop][nop][nop][nop][nop][nop][nop][nop][nop][nop][nop][nop] \n",
      "\n",
      "Decoded:  [=N+1][=N+1][/N][\\C][#Branch1][/N][/N][/N][=N+1][=S][/N][/N][#Branch1][#Branch1][/N][#Branch1][/N][/N][N+1][#Branch1][=Ring2][/N][/N][/N][=Ring2][=Ring2][#N][\\N][=Ring2][\\N][#N][#N][#N][=Ring2][=Ring2][=Ring2][=Ring2][=Ring2][=Ring2][=Ring2][=Ring2][=Ring2][=Ring2][end][end][end][nop][nop][nop][nop][nop][nop][nop][nop][nop][nop][nop][nop][nop][nop][nop][nop][nop][nop][nop][nop][nop][nop][nop][nop][nop][nop][nop][nop][nop][nop][nop][nop][nop][nop][nop][nop][nop][nop][nop][nop][nop][nop][nop][nop][nop][nop][nop][nop][nop][nop][nop][nop][nop][nop][nop][nop][nop][nop][nop][nop][nop][nop][nop][nop][nop][nop][nop]\n",
      "------------------\n",
      "Original: [C][C][N][Branch1][=Branch1][C][Branch1][C][C][=O][C][C][C][N][Branch2][Ring2][Ring1][C][C][C@@H1][Branch2][Ring1][Branch1][C][N][Branch1][C][C][S][=Branch1][C][=O][=Branch1][C][=O][C][=C][C][=C][C][=C][Ring1][=Branch1][C][=C][C][=C][C][=C][Ring1][=Branch1][C][C][Ring2][Ring1][O][end][nop][nop][nop][nop][nop][nop][nop][nop][nop][nop][nop][nop][nop][nop][nop][nop][nop][nop][nop][nop][nop][nop][nop][nop][nop][nop][nop][nop][nop][nop][nop][nop][nop][nop][nop][nop][nop][nop][nop][nop][nop][nop][nop][nop][nop][nop][nop][nop][nop][nop][nop][nop][nop][nop][nop][nop] \n",
      "\n",
      "Decoded:  [Cl][O][=S][=Branch1][Branch2][=N+1][=N+1][=N+1][=N+1][=N+1][\\C][=Ring1][=N+1][=N+1][=Ring1][=N+1][=N+1][=Ring2][=Ring1][=N+1][=Ring2][=Ring1][=N+1][=N+1][=N+1][=N+1][=Ring2][=Ring2][=Ring2][=Ring2][=Ring2][=Ring2][=Ring2][=Ring2][=Ring2][=Ring2][=Ring2][=Ring2][=Ring2][=Ring2][=Ring2][=Ring2][=Ring2][=Ring2][=Ring2][=Ring2][=Ring2][=Ring2][=Ring2][=Ring2][=Ring2][=Ring2][=Ring2][=Ring2][=Ring2][=Ring2][=Ring2][end][end][end][nop][nop][nop][nop][nop][nop][nop][nop][nop][nop][nop][nop][nop][nop][nop][nop][nop][nop][nop][nop][nop][nop][nop][nop][nop][nop][nop][nop][nop][nop][nop][nop][nop][nop][nop][nop][nop][nop][nop][nop][nop][nop][nop][nop][nop][nop][nop][nop][nop][nop][nop][nop][nop]\n",
      "------------------\n",
      "Original: [O][=C][Branch1][C][O][C][C@H1][Branch2][Ring1][=Branch2][N][C][=Branch1][C][=O][C][=C][C][=C][C][Branch1][#Branch2][C][=C][C][=C][C][=C][Ring1][=Branch1][F][=N][Ring1][=N][C][=C][C][=C][C][=C][Ring1][=Branch1][F][end][nop][nop][nop][nop][nop][nop][nop][nop][nop][nop][nop][nop][nop][nop][nop][nop][nop][nop][nop][nop][nop][nop][nop][nop][nop][nop][nop][nop][nop][nop][nop][nop][nop][nop][nop][nop][nop][nop][nop][nop][nop][nop][nop][nop][nop][nop][nop][nop][nop][nop][nop][nop][nop][nop][nop][nop][nop][nop][nop][nop][nop][nop][nop][nop][nop][nop][nop][nop][nop] \n",
      "\n",
      "Decoded:  [=N+1][=N+1][/N][#Branch2][F][#Branch1][/N][/N][#N][Branch2][/N][\\O][=Ring1][/N][/N][/N][\\C][#N][#N][#Branch1][=Ring1][=Ring2][=Ring1][=Ring1][=Ring2][=Ring2][=Ring2][=Ring2][=Ring2][=Ring2][=Ring2][=Ring2][=Ring2][=Ring2][=Ring2][=Ring2][=Ring2][end][end][P][nop][nop][nop][nop][nop][nop][nop][nop][nop][nop][nop][nop][nop][nop][nop][nop][nop][nop][nop][nop][nop][nop][nop][nop][nop][nop][nop][nop][nop][nop][nop][nop][nop][nop][nop][nop][nop][nop][nop][nop][nop][nop][nop][nop][nop][nop][nop][nop][nop][nop][nop][nop][nop][nop][nop][nop][nop][nop][nop][nop][nop][nop][nop][nop][nop][nop][nop][nop][nop][nop][nop][nop][nop]\n",
      "------------------\n",
      "Original: [O][C][Branch1][N][C][N][C][C][=C][C][=C][C][=C][Ring1][=Branch1][C][=C][C][=C][Branch1][C][Cl][C][Branch1][C][Cl][=C][Ring1][Branch2][end][nop][nop][nop][nop][nop][nop][nop][nop][nop][nop][nop][nop][nop][nop][nop][nop][nop][nop][nop][nop][nop][nop][nop][nop][nop][nop][nop][nop][nop][nop][nop][nop][nop][nop][nop][nop][nop][nop][nop][nop][nop][nop][nop][nop][nop][nop][nop][nop][nop][nop][nop][nop][nop][nop][nop][nop][nop][nop][nop][nop][nop][nop][nop][nop][nop][nop][nop][nop][nop][nop][nop][nop][nop][nop][nop][nop][nop][nop][nop][nop][nop][nop][nop] \n",
      "\n",
      "Decoded:  [O][/N][/N][=Branch1][=Ring2][=O][\\C][\\C][\\C][\\O][\\O][\\O][\\O][\\O][/N][\\O][=Ring2][\\C][=Ring1][\\O][=Ring2][\\C][\\C][=Ring2][=Ring2][=Ring2][=Ring2][=Ring2][=Ring2][=Ring2][=Ring2][=Ring2][=Ring2][=Ring2][=Ring2][=Ring2][=Ring2][=Ring2][=Ring2][=Ring2][=Ring2][=Ring2][=Ring2][=Ring2][end][end][end][end][nop][nop][nop][nop][nop][nop][nop][nop][nop][nop][nop][nop][nop][nop][nop][nop][nop][nop][nop][nop][nop][nop][nop][nop][nop][nop][nop][nop][nop][nop][nop][nop][nop][nop][nop][nop][nop][nop][nop][nop][nop][nop][nop][nop][nop][nop][nop][nop][nop][nop][nop][nop][nop][nop][nop][nop][nop][nop][nop][nop][nop][nop][nop][nop][nop]\n",
      "------------------\n",
      "Original: [C][O][C][=C][C][=C][Branch2][Ring1][Branch1][O][C][C][=C][N][Branch1][#Branch2][C][C][=C][C][=C][C][=C][Ring1][=Branch1][N][=N][Ring1][N][C][=C][Ring2][Ring1][Ring2][end][nop][nop][nop][nop][nop][nop][nop][nop][nop][nop][nop][nop][nop][nop][nop][nop][nop][nop][nop][nop][nop][nop][nop][nop][nop][nop][nop][nop][nop][nop][nop][nop][nop][nop][nop][nop][nop][nop][nop][nop][nop][nop][nop][nop][nop][nop][nop][nop][nop][nop][nop][nop][nop][nop][nop][nop][nop][nop][nop][nop][nop][nop][nop][nop][nop][nop][nop][nop][nop][nop][nop][nop][nop][nop][nop][nop][nop][nop] \n",
      "\n",
      "Decoded:  [Cl][=N+1][/N][\\O][=Ring2][=O][#Branch1][=O][=N+1][\\O][\\O][\\O][\\O][\\O][\\O][#N][\\O][#N][=Ring1][#N][#N][#N][=Ring1][=Ring1][=Ring1][\\O][=Ring1][\\O][=Ring2][\\O][=Ring1][=Ring2][=Ring2][=Ring2][=Ring2][=Ring2][=Ring2][=Ring2][=Ring2][=Ring2][=Ring2][end][#N][end][end][nop][nop][nop][nop][nop][nop][nop][nop][nop][nop][nop][nop][nop][nop][nop][nop][nop][nop][nop][nop][nop][nop][nop][nop][nop][nop][nop][nop][nop][nop][nop][nop][nop][nop][nop][nop][nop][nop][nop][nop][nop][nop][nop][nop][nop][nop][nop][nop][nop][nop][nop][nop][nop][nop][nop][nop][nop][nop][nop][nop][nop][nop][nop][nop][nop][nop][nop][nop]\n",
      "------------------\n",
      "Original: [O][=C][Branch1][#Branch2][C][C][=C][C][=C][C][=C][Ring1][=Branch1][N][C][C][=Branch1][C][=O][N][C][C][C][=Branch2][Ring1][=Branch2][=C][C][=C][C][=C][Branch1][C][Cl][C][=C][Ring1][#Branch1][C][C][C][=C][C][=C][N][=C][Ring1][=Branch1][Ring1][S][C][C][Ring2][Ring1][=Branch1][end][nop][nop][nop][nop][nop][nop][nop][nop][nop][nop][nop][nop][nop][nop][nop][nop][nop][nop][nop][nop][nop][nop][nop][nop][nop][nop][nop][nop][nop][nop][nop][nop][nop][nop][nop][nop][nop][nop][nop][nop][nop][nop][nop][nop][nop][nop][nop][nop][nop][nop][nop][nop][nop][nop][nop][nop][nop] \n",
      "\n",
      "Decoded:  [Branch1][C@][Branch1][Branch1][Branch1][Branch1][Branch1][Branch1][Branch1][Branch1][Branch1][Branch1][Branch1][Branch1][Branch1][Branch1][Branch1][Branch1][Branch1][Branch1][Branch1][Branch1][Branch1][Branch1][Branch1][Branch1][Branch1][Branch1][Branch1][Branch1][Branch1][Branch1][Branch1][Branch1][Branch1][Branch1][Branch1][Branch1][Branch1][Branch1][Branch1][Branch1][Branch1][Branch1][Branch1][Branch1][Branch1][Branch1][Branch1][Branch1][Branch1][Branch1][Branch1][Branch1][Branch1][Branch1][Branch1][Branch1][Branch1][Branch1][Branch1][Branch1][Branch1][Branch1][Branch1][Branch1][Branch1][Branch1][Branch1][Branch1][Branch1][Branch1][Branch1][Branch1][Branch1][Branch1][Branch1][Branch1][Branch1][Branch1][Branch1][Branch1][Branch1][Branch1][Branch1][Branch1][Branch1][Branch1][Branch1][Branch1][Branch1][Branch1][Branch1][Branch1][Branch1][Branch1][Branch1][Branch1][Branch1][Branch1][Branch1][Branch1][Branch1][Branch1][Branch1][Branch1][Branch1][Branch1][Branch1][Branch1][Branch1][Branch1][Branch1]\n",
      "------------------\n",
      "Original: [C][O][C][=C][C][Branch2][Ring1][S][C][=N][C][Branch1][N][C][=C][C][=N][C][Branch1][C][C][=C][Ring1][#Branch1][=C][N][Ring1][N][C][C@@H1][Branch1][Ring1][C][F][O][C][C][Ring1][=Branch2][=C][C][=C][Ring2][Ring1][=Branch2][C][Branch1][C][F][F][end][nop][nop][nop][nop][nop][nop][nop][nop][nop][nop][nop][nop][nop][nop][nop][nop][nop][nop][nop][nop][nop][nop][nop][nop][nop][nop][nop][nop][nop][nop][nop][nop][nop][nop][nop][nop][nop][nop][nop][nop][nop][nop][nop][nop][nop][nop][nop][nop][nop][nop][nop][nop][nop][nop][nop][nop][nop][nop][nop][nop][nop][nop] \n",
      "\n",
      "Decoded:  [Br][#C][C@@H1][\\O][=Ring2][=O][#Branch1][=Ring1][=Ring1][\\O][\\O][\\O][\\O][\\O][=Ring1][#N][\\O][=Ring1][=Ring1][\\C][=Ring1][=Ring1][=Ring1][=Ring1][/O][=Ring2][=Ring2][=Ring1][=Ring2][=Ring2][=Ring1][=Ring1][=Ring2][=Ring2][=Ring2][=Ring2][=Ring2][=Ring2][=Ring2][=Ring2][=Ring2][=Ring2][end][end][end][end][end][end][end][end][end][end][end][end][end][end][end][end][end][end][end][end][end][end][end][end][end][end][end][end][end][end][end][end][end][end][end][end][end][end][end][end][end][end][end][end][end][end][end][end][end][end][end][end][end][end][end][end][end][end][end][end][end][end][end][end][end][end][end][end][end][end][end]\n",
      "------------------\n",
      "Original: [C][O][C][=C][C][Branch1][O][O][C][=Branch1][C][=O][N][Branch1][C][C][C][=C][C][O][C][=Branch1][C][=O][C][Branch1][#Branch2][C][C][=C][C][=C][C][=C][Ring1][=Branch1][=C][Branch1][C][C][C][Ring2][Ring1][=Branch2][=Ring1][#C][end][nop][nop][nop][nop][nop][nop][nop][nop][nop][nop][nop][nop][nop][nop][nop][nop][nop][nop][nop][nop][nop][nop][nop][nop][nop][nop][nop][nop][nop][nop][nop][nop][nop][nop][nop][nop][nop][nop][nop][nop][nop][nop][nop][nop][nop][nop][nop][nop][nop][nop][nop][nop][nop][nop][nop][nop][nop][nop][nop][nop][nop][nop][nop][nop][nop][nop] \n",
      "\n",
      "Decoded:  [=N+1][=N+1][/O][\\C][=O][/N][\\C][\\C][=N+1][\\O][\\O][\\O][\\O][=N+1][\\O][=Ring1][=N+1][\\O][=Ring1][\\N][=N+1][=N+1][=Ring1][#N][C@][/O][#N][#N][=N+1][=N+1][=N+1][=N+1][=N+1][=N+1][=N+1][=N+1][=N+1][=Ring2][=Ring2][=N+1][=Ring2][=Ring2][=Ring1][=Ring1][end][end][nop][nop][nop][nop][nop][nop][nop][nop][nop][nop][nop][nop][nop][nop][nop][nop][nop][nop][nop][nop][nop][nop][nop][nop][nop][nop][nop][nop][nop][nop][nop][nop][nop][nop][nop][nop][nop][nop][nop][nop][nop][nop][nop][nop][nop][nop][nop][nop][nop][nop][nop][nop][nop][nop][nop][nop][nop][nop][nop][nop][nop][nop][nop][nop][nop][nop][nop]\n",
      "------------------\n",
      "Original: [N][C@H1][C][C][C@H1][Branch2][Ring2][Branch2][N][C][=N][C][=C][N][C][Branch2][Ring1][Branch1][C][=C][C][=C][C][Branch1][O][N][C][C][=C][C][=C][C][=C][Ring1][=Branch1][=N][Ring1][=C][=C][N][=C][Ring2][Ring1][#Branch1][Ring2][Ring1][Ring1][C][C][Ring2][Ring1][=C][end][nop][nop][nop][nop][nop][nop][nop][nop][nop][nop][nop][nop][nop][nop][nop][nop][nop][nop][nop][nop][nop][nop][nop][nop][nop][nop][nop][nop][nop][nop][nop][nop][nop][nop][nop][nop][nop][nop][nop][nop][nop][nop][nop][nop][nop][nop][nop][nop][nop][nop][nop][nop][nop][nop][nop][nop][nop][nop][nop][nop] \n",
      "\n",
      "Decoded:  [F][O][C@][Branch1][Branch1][NH1][NH1][Branch1][=N+1][=N+1][\\O][#N][=S][\\O][\\O][\\O][=N+1][\\O][=S][=Ring1][=N+1][/O][=N+1][=N+1][=N+1][=N+1][=N+1][=N+1][=N+1][=N+1][=N+1][=N+1][#N][=N+1][#N][#N][=N+1][=N+1][=Ring2][=Ring2][=Ring1][=O][#N][#N][#N][nop][nop][nop][nop][nop][nop][nop][nop][nop][nop][nop][nop][nop][nop][nop][nop][nop][nop][nop][nop][nop][nop][nop][nop][nop][nop][nop][nop][nop][nop][nop][nop][nop][nop][nop][nop][nop][nop][nop][nop][nop][nop][nop][nop][nop][nop][nop][nop][nop][nop][nop][nop][nop][nop][nop][nop][nop][nop][nop][nop][nop][nop][nop][nop][nop][nop][nop][nop]\n",
      "------------------\n",
      "Original: [C][O][C][=C][C][=C][Branch2][Ring1][Ring2][C][=Branch1][=Branch1][=C][Branch1][C][Cl][Cl][C][=C][C][=C][Branch1][C][O][C][=C][Ring1][#Branch1][C][=C][Ring1][P][end][nop][nop][nop][nop][nop][nop][nop][nop][nop][nop][nop][nop][nop][nop][nop][nop][nop][nop][nop][nop][nop][nop][nop][nop][nop][nop][nop][nop][nop][nop][nop][nop][nop][nop][nop][nop][nop][nop][nop][nop][nop][nop][nop][nop][nop][nop][nop][nop][nop][nop][nop][nop][nop][nop][nop][nop][nop][nop][nop][nop][nop][nop][nop][nop][nop][nop][nop][nop][nop][nop][nop][nop][nop][nop][nop][nop][nop][nop][nop][nop] \n",
      "\n",
      "Decoded:  [F][O][C@][Branch1][Branch1][=O][Branch2][Branch2][=N+1][=N+1][\\O][#N][=S][/O][#N][#N][/O][=S][=Ring1][=Ring1][/O][=N+1][=N+1][=N+1][=N+1][=N+1][=N+1][=N+1][=N+1][=N+1][#N][#N][=Ring1][=Ring1][=Ring1][#N][=Ring2][=Ring2][=Ring1][=Ring1][end][end][nop][nop][nop][nop][nop][nop][nop][nop][nop][nop][nop][nop][nop][nop][nop][nop][nop][nop][nop][nop][nop][nop][nop][nop][nop][nop][nop][nop][nop][nop][nop][nop][nop][nop][nop][nop][nop][nop][nop][nop][nop][nop][nop][nop][nop][nop][nop][nop][nop][nop][nop][nop][nop][nop][nop][nop][nop][nop][nop][nop][nop][nop][nop][nop][nop][nop][nop][nop][nop][nop][nop]\n",
      "------------------\n",
      "Original: [O][=C][Branch1][C][O][C][C][=C][N][Branch2][Ring2][C][C][=C][N][=C][C][Branch2][Ring1][=Branch1][N][C][=C][Branch1][#Branch1][C][C][=Branch1][C][=O][O][C][=C][C][=C][C][=C][Ring1][=Branch1][Ring1][=N][=N][Ring2][Ring1][Ring1][C][=C][C][=C][C][=C][Ring2][Ring1][N][Ring1][=Branch1][end][nop][nop][nop][nop][nop][nop][nop][nop][nop][nop][nop][nop][nop][nop][nop][nop][nop][nop][nop][nop][nop][nop][nop][nop][nop][nop][nop][nop][nop][nop][nop][nop][nop][nop][nop][nop][nop][nop][nop][nop][nop][nop][nop][nop][nop][nop][nop][nop][nop][nop][nop][nop][nop][nop][nop][nop] \n",
      "\n",
      "Decoded:  [=N+1][=N+1][=N+1][/O][=O][=N+1][=N+1][=N+1][=N+1][/N][=Ring1][=Ring1][=Ring2][=Ring1][=Ring2][=Ring1][=Ring1][=Ring1][=Ring1][=Ring1][=Ring1][=Ring1][=Ring1][=Ring1][=Ring1][=Ring2][=Ring2][=Ring2][=Ring2][=Ring2][=Ring2][=Ring2][=Ring2][=Ring2][=Ring2][=Ring2][=Ring2][=Ring2][=Ring2][=Ring2][=Ring2][=Ring2][=Ring2][=Ring2][=Ring2][=Ring2][=Ring2][=Ring2][=Ring2][=Ring2][=Ring2][end][end][end][nop][nop][nop][nop][nop][nop][nop][nop][nop][nop][nop][nop][nop][nop][nop][nop][nop][nop][nop][nop][nop][nop][nop][nop][nop][nop][nop][nop][nop][nop][nop][nop][nop][nop][nop][nop][nop][nop][nop][nop][nop][nop][nop][nop][nop][nop][nop][nop][nop][nop][nop][nop][nop][nop][nop][nop][nop][nop][nop]\n",
      "------------------\n",
      "Original: [C][S][=Branch1][C][=O][=Branch1][C][=O][O][C][C][Branch1][=Branch2][C][=C][C][=C][C][=C][Ring1][=Branch1][=C][Branch1][=Branch2][C][=C][C][=C][C][=C][Ring1][=Branch1][N][C][=C][C][Branch1][Ring1][C][#N][=C][C][=Ring2][Ring1][#Branch1][Ring1][Branch2][end][nop][nop][nop][nop][nop][nop][nop][nop][nop][nop][nop][nop][nop][nop][nop][nop][nop][nop][nop][nop][nop][nop][nop][nop][nop][nop][nop][nop][nop][nop][nop][nop][nop][nop][nop][nop][nop][nop][nop][nop][nop][nop][nop][nop][nop][nop][nop][nop][nop][nop][nop][nop][nop][nop][nop][nop][nop][nop][nop][nop][nop][nop][nop][nop][nop] \n",
      "\n",
      "Decoded:  [O][O][=S][NH1][Branch2][=N+1][=N+1][=N+1][=N+1][=N+1][=Ring1][\\C][=N+1][=N+1][=N+1][=Ring1][=N+1][=N+1][=Ring1][=N+1][=N+1][=N+1][=N+1][=N+1][=N+1][=N+1][=N+1][=N+1][=N+1][=Ring2][=Ring2][=Ring2][=Ring2][=Ring2][=Ring2][=Ring2][=Ring2][=Ring2][=Ring2][=Ring2][=Ring2][=Ring2][=Ring2][=Ring2][=Ring2][=Ring2][=Ring2][=Ring2][=Ring2][=Ring2][=Ring2][=Ring2][=Ring2][=Ring2][=Ring2][=Ring2][=Ring2][end][end][end][nop][nop][nop][nop][nop][nop][nop][nop][nop][nop][nop][nop][nop][nop][nop][nop][nop][nop][nop][nop][nop][nop][nop][nop][nop][nop][nop][nop][nop][nop][nop][nop][nop][nop][nop][nop][nop][nop][nop][nop][nop][nop][nop][nop][nop][nop][nop][nop][nop][nop][nop][nop][nop]\n",
      "------------------\n",
      "Original: [C][O][C][=C][C][=C][Branch2][Ring1][Ring1][S][=Branch1][C][=O][=Branch1][C][=O][C][C][Branch1][C][C][=N][O][N+1][=Ring1][=Branch1][O-1][C][=C][Ring1][S][end][nop][nop][nop][nop][nop][nop][nop][nop][nop][nop][nop][nop][nop][nop][nop][nop][nop][nop][nop][nop][nop][nop][nop][nop][nop][nop][nop][nop][nop][nop][nop][nop][nop][nop][nop][nop][nop][nop][nop][nop][nop][nop][nop][nop][nop][nop][nop][nop][nop][nop][nop][nop][nop][nop][nop][nop][nop][nop][nop][nop][nop][nop][nop][nop][nop][nop][nop][nop][nop][nop][nop][nop][nop][nop][nop][nop][nop][nop][nop][nop][nop] \n",
      "\n",
      "Decoded:  [O][=N+1][/N][/N][=S][=S][#N][/N][/N][#N][#N][/N][/N][/N][/N][/N][/N][/N][#N][/N][#N][#N][#N][#N][/N][/N][#N][/N][=Ring2][=Ring2][=Ring2][=Ring2][=Ring2][=Ring2][\\O][\\O][#N][#N][#N][#N][#N][#N][=Ring2][=Ring2][=Ring2][=Ring2][#N][#N][#N][end][#N][#N][#N][#N][#N][#N][#N][#N][#N][#N][nop][nop][nop][nop][nop][nop][nop][nop][nop][nop][nop][nop][nop][nop][nop][nop][nop][nop][nop][nop][nop][nop][nop][nop][nop][nop][nop][nop][nop][nop][nop][nop][nop][nop][nop][nop][nop][nop][nop][nop][nop][nop][nop][nop][nop][nop][nop][nop][nop][nop][nop][nop][nop]\n",
      "------------------\n",
      "Original: [C][C][N][Branch1][Ring1][C][C][S][=Branch1][C][=O][=Branch1][C][=O][C][=C][C][=C][C][=Branch1][Ring2][=C][Ring1][=Branch1][N][Branch1][=N][C][C][=Branch1][C][=O][N][C][C][C][C][Ring1][Branch1][C][=Branch1][C][=O][C][O][Ring1][S][end][nop][nop][nop][nop][nop][nop][nop][nop][nop][nop][nop][nop][nop][nop][nop][nop][nop][nop][nop][nop][nop][nop][nop][nop][nop][nop][nop][nop][nop][nop][nop][nop][nop][nop][nop][nop][nop][nop][nop][nop][nop][nop][nop][nop][nop][nop][nop][nop][nop][nop][nop][nop][nop][nop][nop][nop][nop][nop][nop][nop][nop][nop][nop][nop][nop] \n",
      "\n",
      "Decoded:  [=N+1][=N+1][=S][Branch1][=O][=S][=S][=S][#N][=S][Branch1][=S][=N+1][=N+1][=S][=N+1][=N+1][=N+1][=N+1][=N+1][=N+1][=N+1][=N+1][=N+1][=S][=N+1][=N+1][=S][#N][#N][=N+1][=N+1][#N][#N][#N][#N][=N+1][=Ring2][=N+1][=S][=Ring2][=Ring2][=Ring2][=Ring2][=Ring2][=Ring2][=Ring2][=Ring2][#N][#N][#N][end][nop][nop][nop][nop][nop][nop][nop][nop][nop][nop][nop][nop][nop][nop][nop][nop][nop][nop][nop][nop][nop][nop][nop][nop][nop][nop][nop][nop][nop][nop][nop][nop][nop][nop][nop][nop][nop][nop][nop][nop][nop][nop][nop][nop][nop][nop][nop][nop][nop][nop][nop][nop][nop][nop][nop][nop][nop][nop][nop][nop][nop]\n",
      "------------------\n",
      "Original: [C][C][Branch1][C][C][Branch1][C][C][O][C][=Branch1][C][=O][C][C][=N][N][=C][Branch1][=C][C][=C][C][=C][C][=C][C][=C][Ring1][=Branch1][NH1][Ring1][=Branch2][S][Ring1][=C][end][nop][nop][nop][nop][nop][nop][nop][nop][nop][nop][nop][nop][nop][nop][nop][nop][nop][nop][nop][nop][nop][nop][nop][nop][nop][nop][nop][nop][nop][nop][nop][nop][nop][nop][nop][nop][nop][nop][nop][nop][nop][nop][nop][nop][nop][nop][nop][nop][nop][nop][nop][nop][nop][nop][nop][nop][nop][nop][nop][nop][nop][nop][nop][nop][nop][nop][nop][nop][nop][nop][nop][nop][nop][nop][nop][nop] \n",
      "\n",
      "Decoded:  [=N+1][=N+1][=N+1][Branch2][=N+1][=N+1][\\C][=N+1][=N+1][=O][=Ring2][=Ring2][=Ring2][=Ring2][=Ring2][=Ring2][=Ring2][=Ring2][=Ring1][=Ring2][=Ring1][=Ring2][=Ring1][=Ring2][=Ring2][=Ring2][=Ring2][=Ring2][=Ring2][=Ring2][=Ring2][=Ring2][=Ring2][=Ring2][=Ring2][=Ring2][=Ring2][=Ring2][=Ring2][=Ring2][=Ring2][=Ring2][=Ring2][=Ring2][=Ring2][=Ring2][=Ring2][=Ring2][=Ring2][=Ring2][=Ring2][=Ring2][=Ring2][=Ring2][end][end][end][nop][nop][nop][nop][nop][nop][nop][nop][nop][nop][nop][nop][nop][nop][nop][nop][nop][nop][nop][nop][nop][nop][nop][nop][nop][nop][nop][nop][nop][nop][nop][nop][nop][nop][nop][nop][nop][nop][nop][nop][nop][nop][nop][nop][nop][nop][nop][nop][nop][nop][nop][nop][nop][nop][nop][nop]\n",
      "------------------\n",
      "Original: [C][N][C][=C][C][C][Branch2][Ring2][#C][C][=Branch1][C][=O][N][C][C][C][=C][C][=C][Branch1][=C][O][C][=Branch1][C][=O][C][Branch1][C][C][Branch1][C][C][C][C][Branch1][=C][O][C][=Branch1][C][=O][C][Branch1][C][C][Branch1][C][C][C][=C][Ring2][Ring1][Ring2][=C][Ring2][Ring1][#C][end][nop][nop][nop][nop][nop][nop][nop][nop][nop][nop][nop][nop][nop][nop][nop][nop][nop][nop][nop][nop][nop][nop][nop][nop][nop][nop][nop][nop][nop][nop][nop][nop][nop][nop][nop][nop][nop][nop][nop][nop][nop][nop][nop][nop][nop][nop][nop][nop][nop][nop][nop][nop][nop] \n",
      "\n",
      "Decoded:  [=Ring2][#C][Br][C@@H1][Br][Branch2][Ring2][I][=O][C@@H1][C@@H1][=O][O-1][Br][=Ring1][#Branch2][Br][Br][=Ring1][\\C][/O][/O][/O][/O][/O][/O][/O][/O][/O][/O][/O][/O][=Ring2][=Ring2][=Ring2][=Ring2][=Ring2][=Ring2][=Ring2][=Ring2][=Ring2][=Ring2][=Ring2][end][#N][end][end][nop][nop][nop][nop][nop][nop][nop][nop][nop][nop][nop][nop][nop][nop][nop][nop][nop][nop][nop][nop][nop][nop][nop][nop][nop][nop][nop][nop][nop][nop][nop][nop][nop][nop][nop][nop][nop][nop][nop][nop][nop][nop][nop][nop][nop][nop][nop][nop][nop][nop][nop][nop][nop][nop][nop][nop][nop][nop][nop][nop][nop][nop][nop][nop][nop][nop]\n",
      "------------------\n",
      "Original: [C][N][C][=Branch1][C][=O][C][=C][C][=C][Branch2][Ring1][#C][N][C][=Branch1][C][=O][N][C@@H1][C][C@][Branch1][C][C][Branch1][Ring1][C][F][O][C][=C][C][Branch1][C][Cl][=C][C][=C][Ring1][#Branch1][Ring1][=C][C][=C][C][=C][Ring2][Ring1][Branch2][Ring2][Ring1][=N][end][nop][nop][nop][nop][nop][nop][nop][nop][nop][nop][nop][nop][nop][nop][nop][nop][nop][nop][nop][nop][nop][nop][nop][nop][nop][nop][nop][nop][nop][nop][nop][nop][nop][nop][nop][nop][nop][nop][nop][nop][nop][nop][nop][nop][nop][nop][nop][nop][nop][nop][nop][nop][nop][nop][nop][nop][nop][nop][nop] \n",
      "\n",
      "Decoded:  [=N+1][=N+1][=N+1][Branch2][\\O][\\O][\\O][\\O][\\O][\\O][\\O][\\O][\\O][/O][Branch2][\\O][\\O][\\O][\\O][\\N][=O][/O][=Ring2][\\N][\\N][#N][=Ring2][N+1][#N][=Ring2][=Ring2][=Ring2][=Ring2][=Ring2][=Ring2][=Ring2][=Ring2][=Ring2][=Ring2][end][end][nop][nop][nop][nop][nop][nop][nop][nop][nop][nop][nop][nop][nop][nop][nop][nop][nop][nop][nop][nop][nop][nop][nop][nop][nop][nop][nop][nop][nop][nop][nop][nop][nop][nop][nop][nop][nop][nop][nop][nop][nop][nop][nop][nop][nop][nop][nop][nop][nop][nop][nop][nop][nop][nop][nop][nop][nop][nop][nop][nop][nop][nop][nop][nop][nop][nop][nop][nop][nop][nop][nop][nop]\n",
      "------------------\n",
      "Original: [C][C][=N][C][Branch1][=N][C][=Branch1][C][=O][N][C][C][C][=Branch1][C][=O][O][=C][Branch1][C][O][C][C][=C][Branch1][=Branch2][C][=C][C][=C][C][=C][Ring1][=Branch1][C][=Branch1][C][=O][N][Branch1][#Branch2][C][C][=C][C][=C][C][=C][Ring1][=Branch1][C][Ring2][Ring1][P][=Ring2][Ring1][Ring2][end][nop][nop][nop][nop][nop][nop][nop][nop][nop][nop][nop][nop][nop][nop][nop][nop][nop][nop][nop][nop][nop][nop][nop][nop][nop][nop][nop][nop][nop][nop][nop][nop][nop][nop][nop][nop][nop][nop][nop][nop][nop][nop][nop][nop][nop][nop][nop][nop][nop][nop][nop][nop][nop][nop] \n",
      "\n",
      "Decoded:  [F][C@][/N][/N][=Ring2][/N][\\C][#N][/N][\\O][/N][\\O][\\O][\\O][#N][/N][/N][#N][=Ring1][/N][/N][/N][=Ring1][/N][=Ring2][=Ring2][\\N][\\O][=Ring2][#N][#N][=Ring2][=Ring2][#N][=Ring2][=Ring2][=Ring2][=Ring2][=Ring2][=Ring2][=Ring2][=Ring2][end][end][end][end][nop][nop][nop][nop][nop][nop][nop][nop][nop][nop][nop][nop][nop][nop][nop][nop][nop][nop][nop][nop][nop][nop][nop][nop][nop][nop][nop][nop][nop][nop][nop][nop][nop][nop][nop][nop][nop][nop][nop][nop][nop][nop][nop][nop][nop][nop][nop][nop][nop][nop][nop][nop][nop][nop][nop][nop][nop][nop][nop][nop][nop][nop][nop][nop][nop][nop][nop]\n",
      "------------------\n",
      "Original: [C][O][C][=C][C][=C][Branch2][Ring1][=N][N][C][=Branch1][C][=O][O][C][Branch1][S][C][C][=C][C][=C][Branch1][C][O][C][Branch1][C][Br][=C][Ring1][Branch2][C][Ring1][#C][=O][C][=C][Ring2][Ring1][=Branch1][end][nop][nop][nop][nop][nop][nop][nop][nop][nop][nop][nop][nop][nop][nop][nop][nop][nop][nop][nop][nop][nop][nop][nop][nop][nop][nop][nop][nop][nop][nop][nop][nop][nop][nop][nop][nop][nop][nop][nop][nop][nop][nop][nop][nop][nop][nop][nop][nop][nop][nop][nop][nop][nop][nop][nop][nop][nop][nop][nop][nop][nop][nop][nop][nop][nop][nop][nop][nop][nop][nop] \n",
      "\n",
      "Decoded:  [=N+1][=N+1][=N+1][/O][=O][=N+1][=Ring1][=Ring1][=N+1][=Ring1][=Ring1][=Ring1][=Ring1][=Ring1][=Ring1][=Ring1][=Ring1][=Ring1][=Ring1][=Ring1][=Ring1][=Ring1][=Ring1][=Ring1][=Ring1][=Ring1][=Ring2][=Ring1][=Ring1][=Ring2][=Ring2][=Ring2][=Ring2][=Ring2][=Ring2][=Ring2][=Ring2][=Ring2][=Ring2][=Ring2][=Ring2][=Ring2][=Ring2][=Ring2][=Ring2][=Ring2][=Ring2][=Ring2][=Ring1][=Ring1][end][end][end][end][nop][nop][nop][nop][nop][nop][nop][nop][nop][nop][nop][nop][nop][nop][nop][nop][nop][nop][nop][nop][nop][nop][nop][nop][nop][nop][nop][nop][nop][nop][nop][nop][nop][nop][nop][nop][nop][nop][nop][nop][nop][nop][nop][nop][nop][nop][nop][nop][nop][nop][nop][nop][nop][nop][nop][nop][nop][nop][nop]\n",
      "------------------\n",
      "Original: [C][C][C@H1][Branch2][Ring1][=Branch2][C][N][N][=N][C][=C][Ring1][Branch1][C][C][C][C][N][C][=C][C][=Branch1][C][=O][NH1][C][Ring1][#Branch1][=O][C][=C][C][=C][C][Branch1][Branch2][O][C][C][C][C][Ring1][Ring1][=C][Ring1][O][end][nop][nop][nop][nop][nop][nop][nop][nop][nop][nop][nop][nop][nop][nop][nop][nop][nop][nop][nop][nop][nop][nop][nop][nop][nop][nop][nop][nop][nop][nop][nop][nop][nop][nop][nop][nop][nop][nop][nop][nop][nop][nop][nop][nop][nop][nop][nop][nop][nop][nop][nop][nop][nop][nop][nop][nop][nop][nop][nop][nop][nop][nop][nop][nop][nop] \n",
      "\n",
      "Decoded:  [=N+1][=N+1][\\O][#Branch2][\\O][\\C][\\O][\\O][\\O][\\O][\\N][\\N][\\O][/O][/O][#N][\\C][=N+1][#N][#N][=Ring1][=Ring1][=Ring1][=Ring1][=Ring1][#N][=Ring2][=Ring2][=Ring2][=Ring2][=Ring2][=Ring2][=Ring2][=Ring2][#N][end][end][nop][nop][nop][nop][nop][nop][nop][nop][nop][nop][nop][nop][nop][nop][nop][nop][nop][nop][nop][nop][nop][nop][nop][nop][nop][nop][nop][nop][nop][nop][nop][nop][nop][nop][nop][nop][nop][nop][nop][nop][nop][nop][nop][nop][nop][nop][nop][nop][nop][nop][nop][nop][nop][nop][nop][nop][nop][nop][nop][nop][nop][nop][nop][nop][nop][nop][nop][nop][nop][nop][nop][nop][nop][nop][nop][nop]\n",
      "------------------\n",
      "Original: [O][=C][C][C@H1][Branch2][Ring2][P][C][=Branch1][C][=O][N][C][C][=C][Branch2][Ring1][#Branch1][C][=C][C][=C][C][Branch1][=N][O][C][C][C][C][Branch1][C][F][Branch1][C][F][F][=C][Ring1][=C][N][Branch1][=Branch2][C][=C][C][=C][C][=C][Ring1][=Branch1][N][=Ring2][Ring1][=Branch2][C][N][Ring2][Ring1][P][end][nop][nop][nop][nop][nop][nop][nop][nop][nop][nop][nop][nop][nop][nop][nop][nop][nop][nop][nop][nop][nop][nop][nop][nop][nop][nop][nop][nop][nop][nop][nop][nop][nop][nop][nop][nop][nop][nop][nop][nop][nop][nop][nop][nop][nop][nop][nop][nop][nop][nop][nop][nop] \n",
      "\n",
      "Decoded:  [=Ring2][#C][Br][Br][Br][Branch2][Ring2][I][I][\\C][=Ring1][=Ring1][O-1][=Ring1][=Ring1][=Ring1][=Ring1][=Ring1][=Ring1][=Ring1][=Ring1][=Ring1][=Ring1][/O][/O][/O][/O][/O][/O][/O][/O][/O][/O][/O][/O][=Ring2][=Ring2][=Ring2][=Ring2][=Ring2][=Ring2][=Ring2][=Ring2][=Ring2][=Ring2][=Ring2][=Ring2][end][#N][end][end][end][#N][#N][#N][#N][#N][#N][#N][#N][#N][#N][#N][#N][#N][#N][#N][#N][#N][#N][#N][#N][#N][#N][#N][#N][#N][#N][#N][#N][#N][#N][#N][#N][#N][#N][#N][#N][#N][#N][#N][#N][#N][#N][#N][#N][#N][#N][#N][#N][#N][#N][#N][#N][#N][#N][#N][#N][#N][#N][#N][#N][#N]\n",
      "------------------\n",
      "Original: [C][C][Branch1][C][C][Branch1][C][C][C][=C][C][=C][Branch1][P][C][N][C][=N][C][=N][C][=C][C][=C][C][=C][Ring1][#Branch2][Ring1][=Branch1][C][=C][Ring2][Ring1][C][end][nop][nop][nop][nop][nop][nop][nop][nop][nop][nop][nop][nop][nop][nop][nop][nop][nop][nop][nop][nop][nop][nop][nop][nop][nop][nop][nop][nop][nop][nop][nop][nop][nop][nop][nop][nop][nop][nop][nop][nop][nop][nop][nop][nop][nop][nop][nop][nop][nop][nop][nop][nop][nop][nop][nop][nop][nop][nop][nop][nop][nop][nop][nop][nop][nop][nop][nop][nop][nop][nop][nop][nop][nop][nop][nop][nop][nop] \n",
      "\n",
      "Decoded:  [=N+1][=N+1][=N+1][=N+1][=O][=N+1][=Ring1][=N+1][=N+1][=Ring1][=Ring1][=Ring1][=Ring1][=Ring1][=Ring1][=Ring1][=Ring1][=Ring1][=Ring1][=Ring1][=Ring1][=Ring1][=Ring1][=Ring1][=Ring1][=Ring1][=Ring1][=Ring1][=Ring1][=Ring1][=Ring1][=Ring1][=Ring1][=Ring1][=Ring1][=Ring2][=Ring2][=Ring2][=Ring2][=Ring2][=Ring2][=Ring2][=Ring2][=Ring2][=Ring2][=Ring2][=Ring2][=Ring2][=Ring2][=Ring2][=Ring2][=Ring2][=Ring2][=Ring2][=Ring2][=Ring1][=Ring1][end][end][end][=Ring1][nop][nop][nop][nop][nop][nop][nop][nop][nop][nop][nop][nop][nop][nop][nop][nop][nop][nop][nop][nop][nop][nop][nop][nop][nop][nop][nop][nop][nop][nop][nop][nop][nop][nop][nop][nop][nop][nop][nop][nop][nop][nop][nop][nop][nop][nop][nop][nop][nop][nop][nop][nop]\n",
      "------------------\n",
      "Original: [C][C][=Branch1][C][=O][N][C][=N][C][=C][C][=C][Branch1][#C][C][=C][N][=C][N][=C][C][=N][C][Ring1][=Branch1][=C][Ring1][#Branch2][C][=C][Ring1][S][S][Ring2][Ring1][Ring1][end][nop][nop][nop][nop][nop][nop][nop][nop][nop][nop][nop][nop][nop][nop][nop][nop][nop][nop][nop][nop][nop][nop][nop][nop][nop][nop][nop][nop][nop][nop][nop][nop][nop][nop][nop][nop][nop][nop][nop][nop][nop][nop][nop][nop][nop][nop][nop][nop][nop][nop][nop][nop][nop][nop][nop][nop][nop][nop][nop][nop][nop][nop][nop][nop][nop][nop][nop][nop][nop][nop][nop][nop][nop][nop][nop][nop] \n",
      "\n",
      "Decoded:  [O][=N+1][=S][\\O][=O][=N+1][=O][=S][=N+1][\\O][=O][/O][/O][=N+1][=N+1][=N+1][=N+1][=N+1][/O][=N+1][=N+1][/O][=O][=N+1][=N+1][=N+1][=N+1][=N+1][=N+1][=N+1][=N+1][=N+1][=Ring2][=N+1][=N+1][=N+1][=N+1][=Ring2][=Ring2][=N+1][=N+1][=Ring2][=Ring2][=Ring2][=Ring2][=O][=O][end][end][end][nop][nop][nop][nop][nop][nop][nop][nop][nop][nop][nop][nop][nop][nop][nop][nop][nop][nop][nop][nop][nop][nop][nop][nop][nop][nop][nop][nop][nop][nop][nop][nop][nop][nop][nop][nop][nop][nop][nop][nop][nop][nop][nop][nop][nop][nop][nop][nop][nop][nop][nop][nop][nop][nop][nop][nop][nop][nop][nop][nop][nop][nop][nop]\n",
      "------------------\n",
      "Original: [C][C][N][C][C][N][C][Branch1][C][O][=N][C][=C][C][=C][C][Ring1][=N][=C][Ring1][=Branch1][Ring1][#Branch2][end][nop][nop][nop][nop][nop][nop][nop][nop][nop][nop][nop][nop][nop][nop][nop][nop][nop][nop][nop][nop][nop][nop][nop][nop][nop][nop][nop][nop][nop][nop][nop][nop][nop][nop][nop][nop][nop][nop][nop][nop][nop][nop][nop][nop][nop][nop][nop][nop][nop][nop][nop][nop][nop][nop][nop][nop][nop][nop][nop][nop][nop][nop][nop][nop][nop][nop][nop][nop][nop][nop][nop][nop][nop][nop][nop][nop][nop][nop][nop][nop][nop][nop][nop][nop][nop][nop][nop][nop][nop] \n",
      "\n",
      "Decoded:  [F][C@][Branch1][Branch1][Branch1][Branch1][Branch1][Branch1][Branch1][Branch1][Branch1][Branch1][Branch1][Branch1][Branch1][Branch1][Branch1][Branch1][Branch1][Branch1][Branch1][Branch1][Branch1][Branch1][Branch1][Branch1][Branch1][Branch1][Branch1][Branch1][Branch1][Branch1][Branch1][Branch1][Branch1][Branch1][Branch1][Branch1][Branch1][Branch1][Branch1][Branch1][Branch1][Branch1][Branch1][Branch1][Branch1][Branch1][Branch1][Branch1][Branch1][Branch1][Branch1][=Ring1][Branch1][Branch1][Branch1][Branch1][Branch1][Branch1][Branch1][Branch1][Branch1][Branch1][Branch1][Branch1][Branch1][Branch1][Branch1][Branch1][Branch1][Branch1][Branch1][Branch1][Branch1][Branch1][Branch1][Branch1][Branch1][Branch1][Branch1][Branch1][Branch1][Branch1][Branch1][Branch1][Branch1][Branch1][Branch1][Branch1][Branch1][Branch1][Branch1][Branch1][Branch1][Branch1][Branch1][Branch1][Branch1][Branch1][Branch1][Branch1][Branch1][Branch1][Branch1][Branch1][Branch1][Branch1][Branch1][Branch1][Branch1][Branch1][Branch1]\n",
      "------------------\n",
      "Original: [C][C][=N][C][Branch2][Ring1][Ring2][C@@H1][C][C@H1][Ring1][Ring1][C][=N][C][=C][C][=C][C][=C][Ring1][=Branch1][N][Ring1][=Branch2][C][=C][C][Branch1][O][N][C][=N][C][Branch1][C][C][=N][Ring1][=Branch1][=N][Ring2][Ring1][=Branch2][end][nop][nop][nop][nop][nop][nop][nop][nop][nop][nop][nop][nop][nop][nop][nop][nop][nop][nop][nop][nop][nop][nop][nop][nop][nop][nop][nop][nop][nop][nop][nop][nop][nop][nop][nop][nop][nop][nop][nop][nop][nop][nop][nop][nop][nop][nop][nop][nop][nop][nop][nop][nop][nop][nop][nop][nop][nop][nop][nop][nop][nop][nop][nop][nop][nop][nop][nop][nop] \n",
      "\n",
      "Decoded:  [=N+1][=N+1][=S][\\C][=O][=S][=Ring1][=Ring1][=N+1][=N+1][=O][=Ring1][=Ring1][=Ring1][=Ring1][=Ring1][=Ring1][=Ring1][=Ring1][=N+1][=Ring1][=Ring1][=Ring1][=Ring1][=Ring1][=Ring1][=Ring1][=Ring1][=Ring1][=Ring1][=Ring1][=Ring1][=Ring1][=Ring1][=Ring1][=Ring1][=Ring1][=Ring1][=Ring1][=Ring1][=Ring1][=Ring1][=Ring1][=Ring1][=Ring1][=N+1][=Ring2][=Ring2][=Ring2][=Ring1][=Ring1][end][#N][#N][#N][nop][nop][nop][nop][nop][nop][nop][nop][nop][nop][nop][nop][nop][nop][nop][nop][nop][nop][nop][nop][nop][nop][nop][nop][nop][nop][nop][nop][nop][nop][nop][nop][nop][nop][nop][nop][nop][nop][nop][nop][nop][nop][nop][nop][nop][nop][nop][nop][nop][nop][nop][nop][nop][nop][nop][nop][nop][nop]\n",
      "------------------\n",
      "Original: [C][C][C][C][C][Branch1][Ring1][C][C][C][N][C][=Branch1][C][=O][C][=C][C][=C][C][Branch1][=N][N][N][=C][C][=Branch1][C][=O][NH1][C][Ring1][#Branch1][=O][=C][Ring1][=C][end][nop][nop][nop][nop][nop][nop][nop][nop][nop][nop][nop][nop][nop][nop][nop][nop][nop][nop][nop][nop][nop][nop][nop][nop][nop][nop][nop][nop][nop][nop][nop][nop][nop][nop][nop][nop][nop][nop][nop][nop][nop][nop][nop][nop][nop][nop][nop][nop][nop][nop][nop][nop][nop][nop][nop][nop][nop][nop][nop][nop][nop][nop][nop][nop][nop][nop][nop][nop][nop][nop][nop][nop][nop][nop][nop] \n",
      "\n",
      "Decoded:  [=N+1][=N+1][=N+1][=N+1][=N+1][=N+1][\\C][=N+1][=N+1][=N+1][=Ring1][=Ring1][=N+1][=Ring1][=Ring1][=Ring1][=Ring2][=N+1][=Ring2][=Ring2][=Ring2][=Ring2][=Ring2][=Ring1][=Ring1][=Ring1][=Ring1][=Ring1][=Ring2][=Ring2][=Ring2][=Ring2][=Ring2][=Ring2][=Ring2][=Ring2][=Ring2][=Ring2][=Ring2][=Ring2][=Ring2][=Ring2][=Ring2][=Ring2][=Ring2][=Ring2][=Ring2][=Ring2][=Ring2][=Ring2][=Ring2][=Ring2][=Ring2][=Ring2][=Ring2][=Ring2][=Ring2][=Ring2][end][end][end][nop][nop][nop][nop][nop][nop][nop][nop][nop][nop][nop][nop][nop][nop][nop][nop][nop][nop][nop][nop][nop][nop][nop][nop][nop][nop][nop][nop][nop][nop][nop][nop][nop][nop][nop][nop][nop][nop][nop][nop][nop][nop][nop][nop][nop][nop][nop][nop][nop][nop][nop][nop]\n",
      "------------------\n",
      "Original: [C][C][C][=Branch1][C][=O][N][Branch1][C][C][C][=C][C][=C][Branch1][=C][C][=Branch1][C][=O][N][C][=C][C][=C][C][=C][Ring1][=Branch1][C][=C][Ring1][#C][N][Ring2][Ring1][Branch1][C][C][C][Ring1][Ring1][end][nop][nop][nop][nop][nop][nop][nop][nop][nop][nop][nop][nop][nop][nop][nop][nop][nop][nop][nop][nop][nop][nop][nop][nop][nop][nop][nop][nop][nop][nop][nop][nop][nop][nop][nop][nop][nop][nop][nop][nop][nop][nop][nop][nop][nop][nop][nop][nop][nop][nop][nop][nop][nop][nop][nop][nop][nop][nop][nop][nop][nop][nop][nop][nop][nop][nop][nop][nop][nop][nop] \n",
      "\n",
      "Decoded:  [=N+1][=N+1][=S][Branch1][=O][=S][=S][=S][#N][=S][Branch1][=S][=N+1][=N+1][=S][=N+1][=N+1][=N+1][=N+1][=N+1][=N+1][=N+1][=N+1][=N+1][=S][=N+1][=N+1][=S][#N][#N][=N+1][=N+1][#N][#N][#N][#N][=N+1][=Ring2][=N+1][=S][=Ring2][=Ring2][=Ring2][=Ring2][=Ring2][=Ring2][=Ring2][=Ring2][#N][#N][#N][end][nop][nop][nop][nop][nop][nop][nop][nop][nop][nop][nop][nop][nop][nop][nop][nop][nop][nop][nop][nop][nop][nop][nop][nop][nop][nop][nop][nop][nop][nop][nop][nop][nop][nop][nop][nop][nop][nop][nop][nop][nop][nop][nop][nop][nop][nop][nop][nop][nop][nop][nop][nop][nop][nop][nop][nop][nop][nop][nop][nop][nop]\n",
      "------------------\n",
      "Original: [C][C][N][C][=C][C][Branch1][Branch2][C][C][=N][NH1][C][=Ring1][Branch1][=C][C][=C][Ring1][O][C][=Branch1][C][=O][N][C][Ring1][S][Branch1][C][C][C][end][nop][nop][nop][nop][nop][nop][nop][nop][nop][nop][nop][nop][nop][nop][nop][nop][nop][nop][nop][nop][nop][nop][nop][nop][nop][nop][nop][nop][nop][nop][nop][nop][nop][nop][nop][nop][nop][nop][nop][nop][nop][nop][nop][nop][nop][nop][nop][nop][nop][nop][nop][nop][nop][nop][nop][nop][nop][nop][nop][nop][nop][nop][nop][nop][nop][nop][nop][nop][nop][nop][nop][nop][nop][nop][nop][nop][nop][nop][nop][nop] \n",
      "\n",
      "Decoded:  [=N+1][=N+1][C@][\\O][C@][C@][\\O][\\O][=N+1][\\O][\\O][\\O][\\O][\\O][\\O][\\O][\\O][\\O][\\O][\\O][/O][=N+1][/O][=N+1][=N+1][=N+1][=N+1][=N+1][=N+1][=N+1][=N+1][=N+1][=N+1][=N+1][=N+1][=Ring1][=Ring1][=Ring1][=Ring1][=Ring2][=Ring1][=Ring1][=Ring1][end][end][nop][nop][nop][nop][nop][nop][nop][nop][nop][nop][nop][nop][nop][nop][nop][nop][nop][nop][nop][nop][nop][nop][nop][nop][nop][nop][nop][nop][nop][nop][nop][nop][nop][nop][nop][nop][nop][nop][nop][nop][nop][nop][nop][nop][nop][nop][nop][nop][nop][nop][nop][nop][nop][nop][nop][nop][nop][nop][nop][nop][nop][nop][nop][nop][nop][nop][nop][nop]\n",
      "------------------\n",
      "Original: [C][O][C@H1][O][C@][Branch1][C][C][C][C][C@H1][C][C][C][C@@H1][Branch1][Ring2][C][C][O][C][Ring1][=Branch2][Ring1][#C][O][O][Ring1][#C][end][nop][nop][nop][nop][nop][nop][nop][nop][nop][nop][nop][nop][nop][nop][nop][nop][nop][nop][nop][nop][nop][nop][nop][nop][nop][nop][nop][nop][nop][nop][nop][nop][nop][nop][nop][nop][nop][nop][nop][nop][nop][nop][nop][nop][nop][nop][nop][nop][nop][nop][nop][nop][nop][nop][nop][nop][nop][nop][nop][nop][nop][nop][nop][nop][nop][nop][nop][nop][nop][nop][nop][nop][nop][nop][nop][nop][nop][nop][nop][nop][nop][nop][nop] \n",
      "\n",
      "Decoded:  [=N+1][=N+1][=Ring2][=Ring2][=N+1][=Ring2][\\C][=N+1][=N+1][=Ring2][=Ring2][=Ring2][=Ring2][=Ring2][=Ring2][=Ring2][=Ring2][=Ring2][=Ring2][=Ring2][=Ring2][=Ring2][=Ring2][=Ring2][=Ring2][=Ring2][=Ring2][=Ring2][=Ring2][=Ring2][=Ring2][=Ring2][=Ring2][=Ring2][=Ring2][=Ring2][=Ring2][=Ring2][=Ring2][=Ring2][=Ring2][=Ring2][=Ring2][=Ring2][=Ring2][=Ring2][=Ring2][=Ring2][=Ring2][=Ring2][=Ring2][=Ring2][=Ring2][=Ring2][=Ring2][=Ring2][end][end][end][end][end][nop][nop][nop][nop][nop][nop][nop][nop][nop][nop][nop][nop][nop][nop][nop][nop][nop][nop][nop][nop][nop][nop][nop][nop][nop][nop][nop][nop][nop][nop][nop][nop][nop][nop][nop][nop][nop][nop][nop][nop][nop][nop][nop][nop][nop][nop][nop][nop][nop][nop][nop][nop]\n",
      "------------------\n",
      "Original: [O][=C][Branch2][Ring2][C][N][C][=C][C][=C][Branch2][Ring1][Branch1][C][=Branch1][C][=O][N][C][C][C][Branch1][#Branch1][C][C][C][N][Ring1][Branch1][C][C][Ring1][#Branch2][C][=C][Ring2][Ring1][C][N][C][C][=C][C][=N][C][=C][Ring1][=Branch1][C][Ring1][=Branch2][end][nop][nop][nop][nop][nop][nop][nop][nop][nop][nop][nop][nop][nop][nop][nop][nop][nop][nop][nop][nop][nop][nop][nop][nop][nop][nop][nop][nop][nop][nop][nop][nop][nop][nop][nop][nop][nop][nop][nop][nop][nop][nop][nop][nop][nop][nop][nop][nop][nop][nop][nop][nop][nop][nop][nop][nop][nop][nop][nop][nop][nop] \n",
      "\n",
      "Decoded:  [F][=N+1][Branch1][Branch1][Branch1][\\O][\\O][\\O][\\O][\\O][Branch1][=S][C@][C@][Branch1][Branch1][=N+1][=N+1][=N+1][=N+1][=N+1][=N+1][=Ring1][Branch1][C@][C@][C@][C@][C@][C@][Branch1][C@][F][Branch1][#N][end][nop][nop][nop][nop][nop][nop][nop][nop][nop][nop][nop][nop][nop][nop][nop][nop][nop][nop][nop][nop][nop][nop][nop][nop][nop][nop][nop][nop][nop][nop][nop][nop][nop][nop][nop][nop][nop][nop][nop][nop][nop][nop][nop][nop][nop][nop][nop][nop][nop][nop][nop][nop][nop][nop][nop][nop][nop][nop][nop][nop][nop][nop][nop][nop][nop][nop][nop][nop][nop][nop][nop][nop][nop][nop][nop][nop][nop]\n",
      "------------------\n",
      "Original: [O][=C][Branch2][Ring2][=Branch1][C][C][C][C][C][N][C][=Branch1][C][=O][N][C][=C][C][=C][C][Branch1][P][C][=N][C][=C][C][Branch1][C][F][=C][C][=C][Ring1][#Branch1][O][Ring1][#Branch2][=C][Ring1][S][N][O][end][nop][nop][nop][nop][nop][nop][nop][nop][nop][nop][nop][nop][nop][nop][nop][nop][nop][nop][nop][nop][nop][nop][nop][nop][nop][nop][nop][nop][nop][nop][nop][nop][nop][nop][nop][nop][nop][nop][nop][nop][nop][nop][nop][nop][nop][nop][nop][nop][nop][nop][nop][nop][nop][nop][nop][nop][nop][nop][nop][nop][nop][nop][nop][nop][nop][nop][nop][nop] \n",
      "\n",
      "Decoded:  [=N+1][#C][/N][/N][Branch2][/N][I][/N][\\O][\\O][#N][#N][I][C@@][C@@][#N][#N][\\O][#N][#N][\\N][#N][#N][#N][#N][#N][#N][#N][C@@][#N][C@@][#N][#N][=Ring1][#N][end][end][end][end][end][#N][nop][nop][nop][nop][nop][nop][nop][nop][nop][nop][nop][nop][nop][nop][nop][nop][nop][nop][nop][nop][nop][nop][nop][nop][nop][nop][nop][nop][nop][nop][nop][nop][nop][nop][nop][nop][nop][nop][nop][nop][nop][nop][nop][nop][nop][nop][nop][nop][nop][nop][nop][nop][nop][nop][nop][nop][nop][nop][nop][nop][nop][nop][nop][nop][nop][nop][nop][nop][nop][nop][nop][nop]\n",
      "------------------\n",
      "Original: [O][=C][C][=C][Branch1][Branch2][C][C][C][C][C][Ring1][Branch1][C][=C][C][=C][C][=C][Ring1][=Branch1][C][Ring1][#C][=O][end][nop][nop][nop][nop][nop][nop][nop][nop][nop][nop][nop][nop][nop][nop][nop][nop][nop][nop][nop][nop][nop][nop][nop][nop][nop][nop][nop][nop][nop][nop][nop][nop][nop][nop][nop][nop][nop][nop][nop][nop][nop][nop][nop][nop][nop][nop][nop][nop][nop][nop][nop][nop][nop][nop][nop][nop][nop][nop][nop][nop][nop][nop][nop][nop][nop][nop][nop][nop][nop][nop][nop][nop][nop][nop][nop][nop][nop][nop][nop][nop][nop][nop][nop][nop][nop][nop][nop] \n",
      "\n",
      "Decoded:  [\\O][/N][=S][=S][=S][=S][=S][=S][=S][=S][=S][=S][=S][=S][=S][I][I][I][I][F][F][F][F][=Ring2][=Ring2][=Ring2][end][end][end][end][end][end][end][end][end][end][end][end][end][end][end][end][end][end][end][end][end][end][end][end][end][end][end][end][end][end][end][end][end][end][end][end][end][end][end][end][end][end][end][end][end][end][end][end][end][end][end][end][end][end][end][end][end][end][end][end][end][end][end][end][end][end][end][end][end][end][end][end][end][end][end][end][end][end][end][end][end][end][end][end][end][end][end]\n",
      "------------------\n",
      "Original: [C][C][N][C][=Branch1][C][=O][C][=C][C][Branch1][Ring1][O][C][=C][C][=C][Ring1][Branch2][N][C][Branch1][Ring1][C][Cl][=N][N][=C][Ring2][Ring1][C][Ring1][#Branch1][end][nop][nop][nop][nop][nop][nop][nop][nop][nop][nop][nop][nop][nop][nop][nop][nop][nop][nop][nop][nop][nop][nop][nop][nop][nop][nop][nop][nop][nop][nop][nop][nop][nop][nop][nop][nop][nop][nop][nop][nop][nop][nop][nop][nop][nop][nop][nop][nop][nop][nop][nop][nop][nop][nop][nop][nop][nop][nop][nop][nop][nop][nop][nop][nop][nop][nop][nop][nop][nop][nop][nop][nop][nop][nop][nop][nop][nop][nop][nop] \n",
      "\n",
      "Decoded:  [=N+1][=N+1][\\O][#Branch2][=O][\\O][\\O][\\C][=N+1][C@][C@][\\O][\\O][=Ring2][=Ring1][/O][\\O][\\O][\\O][#Branch2][\\O][/O][=Ring2][#N][#Branch2][=Ring2][=Ring2][=Ring1][=Ring1][=Ring2][=Ring2][=Ring2][=Ring2][=Ring2][=Ring2][=Ring2][=Ring2][=Ring2][=Ring2][end][end][end][nop][nop][nop][nop][nop][nop][nop][nop][nop][nop][nop][nop][nop][nop][nop][nop][nop][nop][nop][nop][nop][nop][nop][nop][nop][nop][nop][nop][nop][nop][nop][nop][nop][nop][nop][nop][nop][nop][nop][nop][nop][nop][nop][nop][nop][nop][nop][nop][nop][nop][nop][nop][nop][nop][nop][nop][nop][nop][nop][nop][nop][nop][nop][nop][nop][nop][nop][nop][nop][nop][nop]\n",
      "------------------\n",
      "Original: [C][C][Branch1][C][C][Branch2][Ring1][Branch1][C][N][C][=Branch1][C][=O][C][=C][N][=C][C][=C][C][=C][C][Ring1][=Branch1][=N][Ring1][#Branch2][C][=C][C][=C][C][=N][Ring1][=Branch1][end][nop][nop][nop][nop][nop][nop][nop][nop][nop][nop][nop][nop][nop][nop][nop][nop][nop][nop][nop][nop][nop][nop][nop][nop][nop][nop][nop][nop][nop][nop][nop][nop][nop][nop][nop][nop][nop][nop][nop][nop][nop][nop][nop][nop][nop][nop][nop][nop][nop][nop][nop][nop][nop][nop][nop][nop][nop][nop][nop][nop][nop][nop][nop][nop][nop][nop][nop][nop][nop][nop][nop][nop][nop][nop][nop][nop] \n",
      "\n",
      "Decoded:  [=N+1][=N+1][=N+1][=N+1][=O][/N][/N][=N+1][=N+1][/N][=Ring2][=Ring2][=Ring2][=Ring2][=Ring2][=Ring2][=Ring2][=Ring2][=Ring2][=Ring2][=Ring2][=Ring2][#N][=Ring2][=Ring2][=Ring2][=Ring2][=Ring2][=Ring2][=Ring2][=Ring2][=Ring2][=Ring2][=Ring2][=Ring2][=Ring2][=Ring2][=Ring2][=Ring2][=Ring2][=Ring2][=Ring2][=Ring2][=Ring2][=Ring2][=Ring2][=Ring2][=Ring2][=Ring2][=Ring2][=Ring2][=Ring2][=Ring2][end][end][nop][nop][nop][nop][nop][nop][nop][nop][nop][nop][nop][nop][nop][nop][nop][nop][nop][nop][nop][nop][nop][nop][nop][nop][nop][nop][nop][nop][nop][nop][nop][nop][nop][nop][nop][nop][nop][nop][nop][nop][nop][nop][nop][nop][nop][nop][nop][nop][nop][nop][nop][nop][nop][nop][nop][nop][nop][nop]\n",
      "------------------\n",
      "Original: [N][#C][C][=C][C][=C][Branch2][Ring1][O][N][C][=Branch1][C][=O][N][C][C][C][Branch1][C][O][C][=C][C][=C][Branch1][Ring1][C][=O][N][=C][Ring1][Branch2][Ring1][=N][N][=C][Ring2][Ring1][=Branch1][end][nop][nop][nop][nop][nop][nop][nop][nop][nop][nop][nop][nop][nop][nop][nop][nop][nop][nop][nop][nop][nop][nop][nop][nop][nop][nop][nop][nop][nop][nop][nop][nop][nop][nop][nop][nop][nop][nop][nop][nop][nop][nop][nop][nop][nop][nop][nop][nop][nop][nop][nop][nop][nop][nop][nop][nop][nop][nop][nop][nop][nop][nop][nop][nop][nop][nop][nop][nop][nop][nop][nop][nop] \n",
      "\n",
      "Decoded:  [O][=N+1][=S][NH1][NH1][=N+1][=Ring1][=N+1][=N+1][=N+1][=Ring1][=Ring1][=Ring1][=Ring1][=Ring1][=Ring1][=Ring1][=Ring1][=Ring1][=Ring1][=Ring1][=Ring1][=Ring1][=Ring1][=Ring1][=Ring1][=Ring1][=Ring1][=Ring1][=Ring1][=Ring1][=Ring1][=Ring1][=Ring1][=Ring1][=Ring1][=Ring1][=Ring1][=Ring1][=Ring1][=Ring1][=Ring2][=Ring2][=Ring1][=Ring1][=Ring1][=Ring2][=Ring1][=Ring1][=Ring1][=Ring2][=Ring2][=Ring1][=Ring1][end][end][end][end][nop][nop][nop][nop][nop][nop][nop][nop][nop][nop][nop][nop][nop][nop][nop][nop][nop][nop][nop][nop][nop][nop][nop][nop][nop][nop][nop][nop][nop][nop][nop][nop][nop][nop][nop][nop][nop][nop][nop][nop][nop][nop][nop][nop][nop][nop][nop][nop][nop][nop][nop][nop][nop][nop][nop]\n",
      "------------------\n",
      "Original: [C][O][C][=C][C][=C][C][=C][Branch2][Ring1][#Branch2][C][Branch1][C][O][Branch1][N][C][=C][C][=C][Branch1][C][Cl][C][=C][Ring1][#Branch1][C][=C][C][=C][N][=C][Ring1][=Branch1][O][C][Ring2][Ring1][Ring2][=C][Ring2][Ring1][Branch2][end][nop][nop][nop][nop][nop][nop][nop][nop][nop][nop][nop][nop][nop][nop][nop][nop][nop][nop][nop][nop][nop][nop][nop][nop][nop][nop][nop][nop][nop][nop][nop][nop][nop][nop][nop][nop][nop][nop][nop][nop][nop][nop][nop][nop][nop][nop][nop][nop][nop][nop][nop][nop][nop][nop][nop][nop][nop][nop][nop][nop][nop][nop][nop][nop][nop][nop][nop] \n",
      "\n",
      "Decoded:  [=N+1][=N+1][=N+1][\\C][=O][/N][/N][=N+1][=N+1][=N+1][#N][#N][=N+1][=N+1][#N][#N][=N+1][=N+1][#N][=N+1][=N+1][=N+1][/N][=N+1][=N+1][/N][=N+1][=N+1][=N+1][=Ring2][=Ring2][=Ring2][=Ring2][=Ring2][=Ring2][=Ring2][=Ring2][=Ring2][=Ring2][=Ring2][=Ring2][=Ring2][=Ring2][=Ring2][=Ring2][=Ring2][=Ring2][end][end][end][nop][nop][nop][nop][nop][nop][nop][nop][nop][nop][nop][nop][nop][nop][nop][nop][nop][nop][nop][nop][nop][nop][nop][nop][nop][nop][nop][nop][nop][nop][nop][nop][nop][nop][nop][nop][nop][nop][nop][nop][nop][nop][nop][nop][nop][nop][nop][nop][nop][nop][nop][nop][nop][nop][nop][nop][nop][nop][nop][nop][nop][nop][nop]\n",
      "------------------\n",
      "Original: [C][C][O][C][=Branch1][C][=O][C][=C][N][=C][N][Branch1][Branch1][C][Ring1][=Branch1][=O][C][C][C][C][/C][Ring1][=Branch2][=N][\\N][C][=C][C][=C][C][=C][Ring1][=Branch1][end][nop][nop][nop][nop][nop][nop][nop][nop][nop][nop][nop][nop][nop][nop][nop][nop][nop][nop][nop][nop][nop][nop][nop][nop][nop][nop][nop][nop][nop][nop][nop][nop][nop][nop][nop][nop][nop][nop][nop][nop][nop][nop][nop][nop][nop][nop][nop][nop][nop][nop][nop][nop][nop][nop][nop][nop][nop][nop][nop][nop][nop][nop][nop][nop][nop][nop][nop][nop][nop][nop][nop][nop][nop][nop][nop][nop][nop] \n",
      "\n",
      "Decoded:  [F][/N][C@][/C][C@H1][=Ring2][C@][#N][\\O][\\C][C@][C@H1][=Ring1][=Branch2][=Ring2][#N][\\O][\\O][#N][C@@][\\O][=Ring2][=Ring2][#N][#N][=Ring2][=Ring2][=Ring2][=Ring2][=Ring2][end][#N][#N][nop][nop][nop][nop][nop][nop][nop][nop][nop][nop][nop][nop][nop][nop][nop][nop][nop][nop][nop][nop][nop][nop][nop][nop][nop][nop][nop][nop][nop][nop][nop][nop][nop][nop][nop][nop][nop][nop][nop][nop][nop][nop][nop][nop][nop][nop][nop][nop][nop][nop][nop][nop][nop][nop][nop][nop][nop][nop][nop][nop][nop][nop][nop][nop][nop][nop][nop][nop][nop][nop][nop][nop][nop][nop][nop][nop][nop][nop][nop][nop]\n",
      "------------------\n",
      "Original: [C][C][=Branch1][C][=O][C][=C][C][=C][Branch1][=Branch1][C][Branch1][C][C][=O][C][C][Branch1][C][C][=C][Branch2][Ring1][S][C][=Branch1][C][=O][N][C][=C][C][Branch1][O][C][N][C][C][Branch1][C][O][C][Ring1][Branch1][=C][C][=C][C][=C][C][Ring1][=Branch1][=N][Ring1][S][S][C][Ring2][Ring1][S][=Ring2][Ring1][=Branch2][end][nop][nop][nop][nop][nop][nop][nop][nop][nop][nop][nop][nop][nop][nop][nop][nop][nop][nop][nop][nop][nop][nop][nop][nop][nop][nop][nop][nop][nop][nop][nop][nop][nop][nop][nop][nop][nop][nop][nop][nop][nop][nop][nop][nop][nop][nop][nop][nop] \n",
      "\n",
      "Decoded:  [=N+1][=N+1][Branch2][Ring2][=N+1][=N+1][=Ring1][=N+1][=N+1][=N+1][=Ring1][#N][=N+1][=N+1][C@@][=Ring1][=Ring1][=N+1][=Ring1][=Ring1][=Ring1][=N+1][=Ring1][=Ring1][=Ring2][=Ring1][=Ring1][=Ring1][=Ring1][=Ring1][=Ring1][=Ring1][=Ring2][=Ring2][=Ring2][=Ring2][=Ring2][=Ring2][=Ring2][=Ring2][=Ring2][=Ring2][=Ring2][=Ring2][=Ring2][=Ring2][=Ring2][=Ring2][=Ring2][=Ring2][=Ring2][=Ring2][=Ring2][=Ring2][=Ring2][=Ring2][=Ring2][=Ring2][=Ring2][=Ring2][=Ring2][=Ring2][=Ring2][=Ring2][=Ring2][end][end][end][nop][nop][nop][nop][nop][nop][nop][nop][nop][nop][nop][nop][nop][nop][nop][nop][nop][nop][nop][nop][nop][nop][nop][nop][nop][nop][nop][nop][nop][nop][nop][nop][nop][nop][nop][nop][nop][nop][nop][nop][nop][nop][nop][nop][nop]\n",
      "------------------\n",
      "Original: [C][O][C][=C][C][=C][C][Branch2][Ring1][#C][C][N][C][C][N][Branch2][Ring1][Ring1][C][=C][C][=C][Branch1][Branch2][C][C][=N][NH1][C][=Ring1][Branch1][C][=C][Ring1][O][F][C][Ring1][P][=O][=C][Ring2][Ring1][=Branch2][end][nop][nop][nop][nop][nop][nop][nop][nop][nop][nop][nop][nop][nop][nop][nop][nop][nop][nop][nop][nop][nop][nop][nop][nop][nop][nop][nop][nop][nop][nop][nop][nop][nop][nop][nop][nop][nop][nop][nop][nop][nop][nop][nop][nop][nop][nop][nop][nop][nop][nop][nop][nop][nop][nop][nop][nop][nop][nop][nop][nop][nop][nop][nop][nop][nop][nop][nop][nop] \n",
      "\n",
      "Decoded:  [O][=N+1][/N][C@@H1][=Ring2][=O][\\C][\\C][\\C][\\O][\\O][\\O][\\O][\\O][\\O][\\O][\\O][\\C][=Ring1][\\O][\\C][=Ring1][=Ring1][=Ring1][=Ring1][#N][=Ring2][=Ring2][=Ring2][=Ring2][=Ring2][=Ring2][=Ring2][=Ring2][=Ring2][=Ring2][=Ring2][=Ring2][=Ring2][=Ring2][=Ring2][=Ring2][=Ring2][=Ring2][end][end][end][end][end][end][end][end][end][end][nop][nop][nop][nop][nop][nop][nop][nop][nop][nop][nop][nop][nop][nop][nop][nop][nop][nop][nop][nop][nop][nop][nop][nop][nop][nop][nop][nop][nop][nop][nop][nop][nop][nop][nop][nop][nop][nop][nop][nop][nop][nop][nop][nop][nop][nop][nop][nop][nop][nop][nop][nop][nop][nop][nop][nop][nop][nop][nop]\n",
      "------------------\n",
      "Original: [O][=C][Branch1][=N][O][C][=C][C][=C][C][Branch1][C][I][=C][Ring1][#Branch1][C][=C][C][=C][C][Branch1][=Branch1][N+1][=Branch1][C][=O][O-1][=C][C][=C][Ring1][=Branch2][O][C][Ring1][=N][=O][end][nop][nop][nop][nop][nop][nop][nop][nop][nop][nop][nop][nop][nop][nop][nop][nop][nop][nop][nop][nop][nop][nop][nop][nop][nop][nop][nop][nop][nop][nop][nop][nop][nop][nop][nop][nop][nop][nop][nop][nop][nop][nop][nop][nop][nop][nop][nop][nop][nop][nop][nop][nop][nop][nop][nop][nop][nop][nop][nop][nop][nop][nop][nop][nop][nop][nop][nop][nop][nop][nop][nop][nop][nop][nop] \n",
      "\n",
      "Decoded:  [=N+1][=N+1][/N][/N][=Ring2][/N][=O][/N][=N+1][\\O][\\O][\\O][\\O][\\O][\\O][\\O][\\O][\\O][\\O][#N][\\O][\\O][=Ring1][=Ring1][=N+1][=N+1][\\O][=Ring1][=N+1][\\O][\\O][\\O][=Ring2][=Ring2][=Ring2][=Ring2][=Ring2][=Ring2][=Ring2][=Ring2][=Ring2][=Ring2][end][#N][#N][end][end][nop][nop][nop][nop][nop][nop][nop][nop][nop][nop][nop][nop][nop][nop][nop][nop][nop][nop][nop][nop][nop][nop][nop][nop][nop][nop][nop][nop][nop][nop][nop][nop][nop][nop][nop][nop][nop][nop][nop][nop][nop][nop][nop][nop][nop][nop][nop][nop][nop][nop][nop][nop][nop][nop][nop][nop][nop][nop][nop][nop][nop][nop][nop][nop][nop][nop]\n",
      "------------------\n",
      "Original: [C][C][=C][C][Branch2][Ring2][=N][N][S][=Branch1][C][=O][=Branch1][C][=O][C][=C][C][=C][Branch2][Ring1][=Branch2][N][/C][=N][/C][=N][C][=C][Branch1][#Branch2][C][Branch1][C][C][=C][Ring1][#Branch1][C][#N][C][C][C][C][Ring1][O][C][=C][Ring2][Ring1][=Branch1][=N][O][Ring2][Ring1][#C][end][nop][nop][nop][nop][nop][nop][nop][nop][nop][nop][nop][nop][nop][nop][nop][nop][nop][nop][nop][nop][nop][nop][nop][nop][nop][nop][nop][nop][nop][nop][nop][nop][nop][nop][nop][nop][nop][nop][nop][nop][nop][nop][nop][nop][nop][nop][nop][nop][nop][nop][nop][nop][nop][nop][nop][nop] \n",
      "\n",
      "Decoded:  [=Ring2][#C][C@@H1][Br][Br][Branch2][Ring2][I][=Ring1][=Ring1][=Ring1][=Ring1][=Ring1][=Ring1][=Ring1][=Ring1][=Ring1][=Ring1][=Ring1][=Ring1][=Ring1][Br][=Ring1][Br][=Ring1][#N][/O][/O][/O][/O][/O][#N][/O][/O][=Ring2][=Ring2][=Ring2][=Ring2][=Ring2][=Ring2][=Ring2][=Ring2][=Ring2][=Ring2][=Ring2][end][end][end][end][end][end][#N][#N][#N][#N][#N][#N][#N][#N][#N][#N][#N][#N][#N][#N][#N][#N][#N][#N][#N][#N][#N][#N][#N][#N][#N][#N][#N][#N][#N][#N][#N][#N][#N][#N][#N][#N][#N][#N][#N][#N][#N][#N][#N][#N][nop][nop][nop][nop][nop][nop][nop][nop][nop][nop][nop][nop][nop][nop][nop][nop][nop][nop]\n",
      "------------------\n",
      "Original: [C][O][C][=Branch1][C][=O][C][C][N][C][=Branch1][C][=O][C][=C][Branch1][C][C][N][=C][C][=C][C][=C][C][Ring1][=Branch1][=C][Ring1][O][C][Ring1][#C][=O][end][nop][nop][nop][nop][nop][nop][nop][nop][nop][nop][nop][nop][nop][nop][nop][nop][nop][nop][nop][nop][nop][nop][nop][nop][nop][nop][nop][nop][nop][nop][nop][nop][nop][nop][nop][nop][nop][nop][nop][nop][nop][nop][nop][nop][nop][nop][nop][nop][nop][nop][nop][nop][nop][nop][nop][nop][nop][nop][nop][nop][nop][nop][nop][nop][nop][nop][nop][nop][nop][nop][nop][nop][nop][nop][nop][nop][nop][nop] \n",
      "\n",
      "Decoded:  [=N+1][=N+1][=N+1][#Branch1][=O][=O][=Ring1][=N+1][=N+1][=N+1][=Ring1][=Ring1][=Ring2][=Ring2][=Ring1][=Ring1][=Ring2][=Ring1][=Ring1][=Ring2][=Ring2][=Ring2][=Ring2][=Ring2][=Ring1][=Ring2][=Ring2][=Ring2][=Ring2][=Ring2][=Ring2][=Ring2][=Ring2][=Ring2][=Ring2][=Ring2][=Ring2][=Ring2][=Ring2][=Ring2][=Ring2][=Ring2][=Ring2][=Ring2][=Ring2][=Ring2][=Ring2][=Ring2][=Ring2][=Ring2][=Ring2][=Ring2][=Ring2][=Ring2][=Ring2][=Ring2][=Ring2][end][end][end][end][nop][nop][nop][nop][nop][nop][nop][nop][nop][nop][nop][nop][nop][nop][nop][nop][nop][nop][nop][nop][nop][nop][nop][nop][nop][nop][nop][nop][nop][nop][nop][nop][nop][nop][nop][nop][nop][nop][nop][nop][nop][nop][nop][nop][nop][nop][nop][nop][nop][nop][nop][nop]\n",
      "------------------\n",
      "Original: [C][C][=N][C][Branch1][=C][C][#C][C][=C][C][=C][Branch1][C][F][N][=C][Ring1][#Branch1][=C][S][Ring1][=C][end][nop][nop][nop][nop][nop][nop][nop][nop][nop][nop][nop][nop][nop][nop][nop][nop][nop][nop][nop][nop][nop][nop][nop][nop][nop][nop][nop][nop][nop][nop][nop][nop][nop][nop][nop][nop][nop][nop][nop][nop][nop][nop][nop][nop][nop][nop][nop][nop][nop][nop][nop][nop][nop][nop][nop][nop][nop][nop][nop][nop][nop][nop][nop][nop][nop][nop][nop][nop][nop][nop][nop][nop][nop][nop][nop][nop][nop][nop][nop][nop][nop][nop][nop][nop][nop][nop][nop][nop][nop] \n",
      "\n",
      "Decoded:  [=N+1][=N+1][=S][/O][=O][=N+1][=O][=Ring1][=N+1][#N][\\O][\\O][=N+1][=N+1][=Ring1][\\O][=N+1][=N+1][/O][=N+1][=N+1][=N+1][=O][=O][=N+1][=S][=O][=N+1][=N+1][=N+1][=N+1][=Ring2][=Ring2][=Ring2][=Ring2][=Ring2][=Ring2][=N+1][=Ring2][=Ring2][=Ring2][=N+1][=N+1][=Ring2][=Ring2][=O][end][end][end][nop][nop][nop][nop][nop][nop][nop][nop][nop][nop][nop][nop][nop][nop][nop][nop][nop][nop][nop][nop][nop][nop][nop][nop][nop][nop][nop][nop][nop][nop][nop][nop][nop][nop][nop][nop][nop][nop][nop][nop][nop][nop][nop][nop][nop][nop][nop][nop][nop][nop][nop][nop][nop][nop][nop][nop][nop][nop][nop][nop][nop][nop][nop][nop]\n",
      "------------------\n",
      "Original: [C][/C][=Branch1][=Branch1][=N][\\O][C][C][#N][C][=C][C][=C][Branch2][Ring1][O][S][C][=N][C][=C][Branch1][P][C@@][Branch1][C][C][C][O][C][Branch1][C][C][Branch1][C][C][O][Ring1][Branch2][S][Ring1][=N][C][=C][Ring2][Ring1][Ring2][end][nop][nop][nop][nop][nop][nop][nop][nop][nop][nop][nop][nop][nop][nop][nop][nop][nop][nop][nop][nop][nop][nop][nop][nop][nop][nop][nop][nop][nop][nop][nop][nop][nop][nop][nop][nop][nop][nop][nop][nop][nop][nop][nop][nop][nop][nop][nop][nop][nop][nop][nop][nop][nop][nop][nop][nop][nop][nop][nop][nop][nop][nop][nop][nop][nop] \n",
      "\n",
      "Decoded:  [=Ring2][#C][/N][C@@H1][Branch2][=N+1][#Branch1][Ring2][Ring2][=Ring1][=Ring1][#N][\\O][=N+1][#N][#N][=Ring1][=Ring2][#N][=Ring2][=Ring2][=Ring1][=Ring2][=Ring2][=Ring2][=Ring2][=Ring2][=Ring2][=Ring2][=Ring2][=Ring2][=Ring2][=Ring2][=Ring2][=Ring2][=Ring2][=Ring2][=Ring2][=Ring2][=Ring2][=Ring2][=Ring2][=Ring2][=Ring2][=Ring2][=Ring2][=Ring2][=Ring2][end][end][end][end][nop][nop][nop][nop][nop][nop][nop][nop][nop][nop][nop][nop][nop][nop][nop][nop][nop][nop][nop][nop][nop][nop][nop][nop][nop][nop][nop][nop][nop][nop][nop][nop][nop][nop][nop][nop][nop][nop][nop][nop][nop][nop][nop][nop][nop][nop][nop][nop][nop][nop][nop][nop][nop][nop][nop][nop][nop][nop][nop][nop][nop]\n",
      "------------------\n",
      "Original: [C][C][Branch1][C][C][C][N][C][C][=C][Ring1][#Branch1][C][=C][C][NH1][C][Branch1][=C][N][C][=C][Branch1][C][Cl][C][=C][C][=C][Ring1][#Branch1][Cl][=N][C][Ring2][Ring1][C][=Ring1][=C][end][nop][nop][nop][nop][nop][nop][nop][nop][nop][nop][nop][nop][nop][nop][nop][nop][nop][nop][nop][nop][nop][nop][nop][nop][nop][nop][nop][nop][nop][nop][nop][nop][nop][nop][nop][nop][nop][nop][nop][nop][nop][nop][nop][nop][nop][nop][nop][nop][nop][nop][nop][nop][nop][nop][nop][nop][nop][nop][nop][nop][nop][nop][nop][nop][nop][nop][nop][nop][nop][nop][nop][nop][nop] \n",
      "\n",
      "Decoded:  [Cl][=N+1][=N+1][\\O][=O][=N+1][=Ring1][=Ring1][=N+1][=Ring1][=Ring1][=Ring1][=Ring1][=Ring1][=Ring1][=Ring1][=Ring1][=Ring1][=Ring1][=Ring1][=Ring1][=Ring1][=Ring1][=Ring1][=Ring1][=Ring1][=Ring2][=Ring2][=Ring2][=Ring2][=Ring2][=Ring2][=Ring2][=Ring2][=Ring2][=Ring2][=Ring2][=Ring2][=Ring2][=Ring2][=Ring2][=Ring2][=Ring2][=Ring2][=Ring2][=Ring2][=Ring2][=Ring2][=Ring2][=Ring2][=Ring2][=Ring2][=Ring1][end][end][end][nop][nop][nop][nop][nop][nop][nop][nop][nop][nop][nop][nop][nop][nop][nop][nop][nop][nop][nop][nop][nop][nop][nop][nop][nop][nop][nop][nop][nop][nop][nop][nop][nop][nop][nop][nop][nop][nop][nop][nop][nop][nop][nop][nop][nop][nop][nop][nop][nop][nop][nop][nop][nop][nop][nop][nop][nop]\n",
      "------------------\n",
      "Original: [O][=C][Branch2][Ring2][=Branch2][C][N][C][=N][C][Branch1][N][N][C][C@@H1][C][C@H1][Ring1][Branch1][C][O][Ring1][Branch1][=C][C][=Branch1][C][=O][N][Ring1][=C][C][C][C@H1][Ring2][Ring1][C][C][Branch1][C][F][Branch1][C][F][F][C][=C][C][=C][Branch1][#Branch1][N][C][C][C][Ring1][Ring1][N][=C][Ring1][#Branch2][end][nop][nop][nop][nop][nop][nop][nop][nop][nop][nop][nop][nop][nop][nop][nop][nop][nop][nop][nop][nop][nop][nop][nop][nop][nop][nop][nop][nop][nop][nop][nop][nop][nop][nop][nop][nop][nop][nop][nop][nop][nop][nop][nop][nop][nop][nop][nop][nop][nop][nop][nop] \n",
      "\n",
      "Decoded:  [Branch1][=N+1][Branch1][Branch1][Branch1][Branch1][Branch1][Branch1][Branch1][Branch1][Branch1][Branch1][Branch1][Branch1][Branch1][Branch1][Branch1][Branch1][Branch1][Branch1][Branch1][Branch1][Branch1][Branch1][Branch1][Branch1][Branch1][Branch1][Branch1][Branch1][Branch1][Branch1][Branch1][Branch1][Branch1][Branch1][Branch1][Branch1][Branch1][Branch1][Branch1][Branch1][Branch1][Branch1][Branch1][Branch1][Branch1][Branch1][Branch1][Branch1][Branch1][Branch1][Branch1][Branch1][Branch1][Branch1][Branch1][Branch1][Branch1][Branch1][Branch1][Branch1][Branch1][Branch1][Branch1][Branch1][Branch1][Branch1][Branch1][Branch1][Branch1][Branch1][Branch1][Branch1][Branch1][Branch1][Branch1][Branch1][Branch1][Branch1][Branch1][Branch1][Branch1][Branch1][Branch1][Branch1][Branch1][Branch1][Branch1][Branch1][Branch1][Branch1][Branch1][Branch1][Branch1][Branch1][Branch1][Branch1][Branch1][Branch1][Branch1][Branch1][Branch1][Branch1][Branch1][Branch1][Branch1][Branch1][Branch1][Branch1][Branch1][Branch1][Branch1]\n",
      "------------------\n",
      "Original: [C][N][N][=C][N][=C][Ring1][Branch1][C][=C][C][Branch1][C][Cl][=C][C][=C][Ring1][#Branch1][O][C][=C][C][=C][Branch1][S][S][=Branch1][C][=O][=Branch1][C][=O][N][C][=N][C][=C][S][Ring1][Branch1][C][=C][Ring1][#C][C][#N][end][nop][nop][nop][nop][nop][nop][nop][nop][nop][nop][nop][nop][nop][nop][nop][nop][nop][nop][nop][nop][nop][nop][nop][nop][nop][nop][nop][nop][nop][nop][nop][nop][nop][nop][nop][nop][nop][nop][nop][nop][nop][nop][nop][nop][nop][nop][nop][nop][nop][nop][nop][nop][nop][nop][nop][nop][nop][nop][nop][nop][nop][nop][nop][nop][nop] \n",
      "\n",
      "Decoded:  [=N+1][=N+1][/N][/N][=O][/N][=Ring1][=Ring1][=N+1][/N][=Ring1][=Ring1][=Ring1][=Ring1][=Ring1][=Ring1][=Ring1][=Ring1][=Ring1][=Ring1][=Ring1][=Ring1][=Ring1][=Ring1][=Ring1][=Ring2][=Ring1][=Ring2][=Ring2][=Ring2][=Ring2][=Ring2][=Ring2][=Ring2][=Ring2][=Ring2][=Ring2][=Ring2][=Ring2][=Ring2][=Ring2][=Ring2][=Ring2][=Ring2][=Ring2][=Ring2][=Ring2][=Ring2][end][end][end][end][nop][nop][nop][nop][nop][nop][nop][nop][nop][nop][nop][nop][nop][nop][nop][nop][nop][nop][nop][nop][nop][nop][nop][nop][nop][nop][nop][nop][nop][nop][nop][nop][nop][nop][nop][nop][nop][nop][nop][nop][nop][nop][nop][nop][nop][nop][nop][nop][nop][nop][nop][nop][nop][nop][nop][nop][nop][nop][nop][nop][nop]\n",
      "------------------\n",
      "Original: [O][=C][Branch2][Ring1][P][C@@H1][C][C][C][=C][Branch1][C][Cl][C][=C][Branch1][O][N][C][C][=C][C][=C][C][=C][Ring1][=Branch1][C][=Branch1][C][=O][N][Ring1][S][Ring2][Ring1][Ring1][N][C][C][C][C][Ring1][Branch1][end][nop][nop][nop][nop][nop][nop][nop][nop][nop][nop][nop][nop][nop][nop][nop][nop][nop][nop][nop][nop][nop][nop][nop][nop][nop][nop][nop][nop][nop][nop][nop][nop][nop][nop][nop][nop][nop][nop][nop][nop][nop][nop][nop][nop][nop][nop][nop][nop][nop][nop][nop][nop][nop][nop][nop][nop][nop][nop][nop][nop][nop][nop][nop][nop][nop][nop][nop][nop] \n",
      "\n",
      "Decoded:  [\\C][=N+1][=N+1][=N+1][=O][=N+1][=Ring1][=N+1][=N+1][=N+1][=Ring1][=Ring1][=Ring1][=Ring2][=Ring2][=Ring2][=Ring2][=Ring2][=Ring2][=Ring2][=Ring2][=Ring2][=Ring2][=Ring1][=Ring1][=Ring1][=Ring1][=Ring1][=Ring2][=Ring2][=Ring2][=Ring2][=Ring2][=Ring2][=Ring2][=Ring2][=Ring2][=Ring2][=Ring2][=Ring2][=Ring2][=Ring2][=Ring2][=Ring2][=Ring2][=Ring2][=Ring2][=Ring2][=Ring2][=Ring2][=Ring2][=Ring2][=Ring2][=Ring2][=Ring2][=Ring2][=Ring2][=Ring2][end][end][end][end][nop][nop][nop][nop][nop][nop][nop][nop][nop][nop][nop][nop][nop][nop][nop][nop][nop][nop][nop][nop][nop][nop][nop][nop][nop][nop][nop][nop][nop][nop][nop][nop][nop][nop][nop][nop][nop][nop][nop][nop][nop][nop][nop][nop][nop][nop][nop][nop][nop][nop][nop]\n",
      "------------------\n",
      "Original: [O][=C][Branch1][#C][C][=C][N][=C][C][=C][C][=C][C][Ring1][=Branch1][=C][Ring1][#Branch2][N][C][C][C][C@H1][Ring1][Branch1][C][N][C][C][C][C][Ring1][Branch1][end][nop][nop][nop][nop][nop][nop][nop][nop][nop][nop][nop][nop][nop][nop][nop][nop][nop][nop][nop][nop][nop][nop][nop][nop][nop][nop][nop][nop][nop][nop][nop][nop][nop][nop][nop][nop][nop][nop][nop][nop][nop][nop][nop][nop][nop][nop][nop][nop][nop][nop][nop][nop][nop][nop][nop][nop][nop][nop][nop][nop][nop][nop][nop][nop][nop][nop][nop][nop][nop][nop][nop][nop][nop][nop][nop][nop][nop][nop][nop] \n",
      "\n",
      "Decoded:  [O][=N+1][NH1][NH1][NH1][Ring2][=Ring1][=N+1][=N+1][=N+1][=Ring1][=Ring2][=Ring1][=Ring2][=Ring2][=Ring2][=Ring2][=Ring2][=Ring2][=Ring2][=Ring2][=Ring2][=Ring2][=Ring2][=Ring2][=Ring2][=Ring2][=Ring2][=Ring2][=Ring2][=Ring2][=Ring2][=Ring2][=Ring2][=Ring2][=Ring2][=Ring2][=Ring2][=Ring2][=Ring2][=Ring2][=Ring2][=Ring2][=Ring2][=Ring2][=Ring2][=Ring2][=Ring2][=Ring2][=Ring2][=Ring2][=Ring2][=Ring2][=Ring2][=Ring2][=Ring2][end][end][end][nop][nop][nop][nop][nop][nop][nop][nop][nop][nop][nop][nop][nop][nop][nop][nop][nop][nop][nop][nop][nop][nop][nop][nop][nop][nop][nop][nop][nop][nop][nop][nop][nop][nop][nop][nop][nop][nop][nop][nop][nop][nop][nop][nop][nop][nop][nop][nop][nop][nop][nop][nop][nop][nop]\n",
      "------------------\n",
      "Original: [C][C][S][C][Branch2][Ring1][=C][N][C][=Branch1][C][=O][C][N][N][=C][Branch1][=Branch2][C][Branch1][C][F][Branch1][C][F][F][C][=C][Ring1][=Branch2][C][C][C][C][Ring1][=Branch1][=C][Branch1][=Branch1][C][Branch1][C][N][=O][C][=Ring2][Ring1][=Branch2][C][end][nop][nop][nop][nop][nop][nop][nop][nop][nop][nop][nop][nop][nop][nop][nop][nop][nop][nop][nop][nop][nop][nop][nop][nop][nop][nop][nop][nop][nop][nop][nop][nop][nop][nop][nop][nop][nop][nop][nop][nop][nop][nop][nop][nop][nop][nop][nop][nop][nop][nop][nop][nop][nop][nop][nop][nop][nop][nop][nop][nop][nop][nop][nop] \n",
      "\n",
      "Decoded:  [\\C][=N+1][=N+1][N+1][=O][=N+1][=Ring1][=N+1][=N+1][=O][=Ring1][=Ring1][=Ring1][=Ring1][=Ring1][=Ring1][=N+1][=Ring1][=Ring1][=Ring1][=Ring1][=Ring1][=Ring1][=Ring1][=Ring1][=Ring1][=Ring1][=Ring1][=Ring1][=Ring1][=Ring1][=Ring1][=Ring2][=Ring2][=Ring2][=Ring2][=Ring2][=Ring2][=Ring2][=Ring2][=Ring2][=Ring2][=Ring2][=Ring2][=Ring2][=Ring2][=Ring2][=Ring2][=Ring2][=Ring2][=Ring2][=Ring2][=Ring2][=Ring2][=Ring2][=Ring2][=Ring2][=Ring2][=Ring2][end][end][end][end][nop][nop][nop][nop][nop][nop][nop][nop][nop][nop][nop][nop][nop][nop][nop][nop][nop][nop][nop][nop][nop][nop][nop][nop][nop][nop][nop][nop][nop][nop][nop][nop][nop][nop][nop][nop][nop][nop][nop][nop][nop][nop][nop][nop][nop][nop][nop][nop][nop][nop]\n",
      "------------------\n",
      "Original: [N][C][=N][C][Branch1][C][Cl][=N][C][=C][Ring1][#Branch1][N][=C][N][Ring1][Branch1][C@@H1][O][C@H1][Branch1][P][C][O][C][C][=C][C][=C][C][=C][Ring1][=Branch1][N+1][=Branch1][C][=O][O-1][C@@H1][Branch1][C][O][C@@H1][Ring2][Ring1][C][F][end][nop][nop][nop][nop][nop][nop][nop][nop][nop][nop][nop][nop][nop][nop][nop][nop][nop][nop][nop][nop][nop][nop][nop][nop][nop][nop][nop][nop][nop][nop][nop][nop][nop][nop][nop][nop][nop][nop][nop][nop][nop][nop][nop][nop][nop][nop][nop][nop][nop][nop][nop][nop][nop][nop][nop][nop][nop][nop][nop][nop][nop][nop][nop][nop][nop] \n",
      "\n",
      "Decoded:  [=N+1][=N+1][/N][/N][=O][#Branch1][/N][#Branch1][C@][C@][\\O][/O][\\O][=Ring2][\\O][\\O][\\O][\\O][\\O][\\N][/O][/O][=Ring2][\\N][C@][=Ring2][=Ring2][#N][=O][=Ring2][=Ring2][=Ring2][=Ring2][=Ring2][=Ring2][=Ring2][=Ring2][=Ring2][=Ring2][end][end][end][nop][nop][nop][nop][nop][nop][nop][nop][nop][nop][nop][nop][nop][nop][nop][nop][nop][nop][nop][nop][nop][nop][nop][nop][nop][nop][nop][nop][nop][nop][nop][nop][nop][nop][nop][nop][nop][nop][nop][nop][nop][nop][nop][nop][nop][nop][nop][nop][nop][nop][nop][nop][nop][nop][nop][nop][nop][nop][nop][nop][nop][nop][nop][nop][nop][nop][nop][nop][nop][nop][nop]\n",
      "------------------\n",
      "Original: [C][C][C][Branch1][S][C][=Branch1][C][=O][C][=C][C][=C][Branch1][C][C][C][=C][Ring1][#Branch1][C][C][=C][C][=C][C][=C][Ring1][=Branch1][O][C][=Branch1][C][=O][C][Ring1][O][Ring2][Ring1][Branch1][C][=Branch1][C][=O][O][end][nop][nop][nop][nop][nop][nop][nop][nop][nop][nop][nop][nop][nop][nop][nop][nop][nop][nop][nop][nop][nop][nop][nop][nop][nop][nop][nop][nop][nop][nop][nop][nop][nop][nop][nop][nop][nop][nop][nop][nop][nop][nop][nop][nop][nop][nop][nop][nop][nop][nop][nop][nop][nop][nop][nop][nop][nop][nop][nop][nop][nop][nop][nop][nop][nop][nop][nop] \n",
      "\n",
      "Decoded:  [O][/N][/N][/N][=Ring2][=S][\\C][/N][/N][\\C][#N][#Branch1][#Branch1][/N][/N][/N][N+1][\\C][#N][=Ring2][#N][#N][#N][=Ring2][/N][#N][=Ring2][#N][=Ring2][=Ring2][=Ring2][=Ring2][=Ring2][=Ring2][F][/N][/N][=Ring2][=Ring2][#N][#N][=Ring2][=Ring2][=Ring2][=Ring2][=Ring2][#N][#N][#N][end][end][#N][#N][#N][#N][#N][#N][#N][#N][#N][#N][#N][#N][#N][#N][#N][#N][#N][#N][#N][#N][#N][#N][#N][#N][#N][#N][#N][#N][#N][#N][#N][#N][#N][#N][#N][#N][#N][#N][#N][#N][#N][#N][#N][#N][#N][#N][#N][#N][#N][#N][#N][#N][#N][#N][#N][#N][#N][#N][#N][#N][#N][#N]\n",
      "------------------\n",
      "Original: [C][O][C][=C][C][=C][C][Branch2][Ring1][S][S][=Branch1][C][=O][=Branch1][C][=O][C][=C][C][Branch1][C][Cl][=C][O][C][=C][Branch1][#Branch1][C][Ring1][Branch1][=C][Ring1][#Branch2][C][N][C][C][Ring1][Branch2][=C][Ring2][Ring1][#Branch1][end][nop][nop][nop][nop][nop][nop][nop][nop][nop][nop][nop][nop][nop][nop][nop][nop][nop][nop][nop][nop][nop][nop][nop][nop][nop][nop][nop][nop][nop][nop][nop][nop][nop][nop][nop][nop][nop][nop][nop][nop][nop][nop][nop][nop][nop][nop][nop][nop][nop][nop][nop][nop][nop][nop][nop][nop][nop][nop][nop][nop][nop][nop][nop][nop][nop][nop][nop] \n",
      "\n",
      "Decoded:  [=N+1][=N+1][NH1][\\C][#Branch1][=S][\\C][\\C][\\O][=S][\\O][\\O][\\O][=S][\\O][\\O][\\O][=S][#N][\\O][\\O][\\C][#N][=N+1][=N+1][=N+1][#N][=N+1][=N+1][=N+1][=N+1][=N+1][=N+1][=N+1][=Ring2][=Ring2][=Ring2][=Ring2][=Ring2][=Ring2][=Ring2][end][end][end][nop][nop][nop][nop][nop][nop][nop][nop][nop][nop][nop][nop][nop][nop][nop][nop][nop][nop][nop][nop][nop][nop][nop][nop][nop][nop][nop][nop][nop][nop][nop][nop][nop][nop][nop][nop][nop][nop][nop][nop][nop][nop][nop][nop][nop][nop][nop][nop][nop][nop][nop][nop][nop][nop][nop][nop][nop][nop][nop][nop][nop][nop][nop][nop][nop][nop][nop][nop][nop]\n",
      "------------------\n"
     ]
    }
   ],
   "source": [
    "# set largers value to 1 and others to 0\n",
    "decoded_indices = torch.argmax(decoded.cpu(), dim=2)\n",
    "decoded_indices = decoded_indices.numpy()\n",
    "selfies_out = []\n",
    "for i, original in zip(decoded_indices, y):\n",
    "    vectorized = []\n",
    "    #print(f'Decoded: {i}')\n",
    "    #convert to one-hot\n",
    "    for number in i:\n",
    "        v = np.zeros(42)\n",
    "        v[number] = 1\n",
    "        vectorized.append(v)\n",
    "    vectorized = np.array(vectorized)\n",
    "    selfies_out.append(vectorizer.devectorize(vectorized, remove_special=True))\n",
    "    print(f'Original: {vectorizer.devectorize(original.cpu().numpy())} \\n')\n",
    "    print(f'Decoded:  {vectorizer.devectorize(vectorized)}')\n",
    "    print('------------------')"
   ]
  },
  {
   "cell_type": "code",
   "execution_count": 46,
   "id": "1efcd595",
   "metadata": {},
   "outputs": [
    {
     "data": {
      "image/png": "[encoded data removed]",
      "text/plain": [
       "<PIL.PngImagePlugin.PngImageFile image mode=RGB size=800x800>"
      ]
     },
     "execution_count": 46,
     "metadata": {},
     "output_type": "execute_result"
    }
   ],
   "source": [
    "from rdkit import Chem\n",
    "from rdkit.Chem import Draw\n",
    "\n",
    "smiles = []\n",
    "for selfie in selfies_out:\n",
    "    smile = sf.decoder(selfie, attribute=False)\n",
    "    smiles.append(smile)\n",
    "\n",
    "ms = []\n",
    "for smile in smiles:\n",
    "    ms.append(Chem.MolFromSmiles(smile))\n",
    "Draw.MolToImage(ms[5], size=(800, 800), kekulize=True)"
   ]
  }
 ],
 "metadata": {
  "kernelspec": {
   "display_name": "Python 3 (ipykernel)",
   "language": "python",
   "name": "python3"
  },
  "language_info": {
   "codemirror_mode": {
    "name": "ipython",
    "version": 3
   },
   "file_extension": ".py",
   "mimetype": "text/x-python",
   "name": "python",
   "nbconvert_exporter": "python",
   "pygments_lexer": "ipython3",
   "version": "3.8.16"
  }
 },
 "nbformat": 4,
 "nbformat_minor": 5
}
