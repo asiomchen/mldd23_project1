{
 "cells": [
  {
   "cell_type": "code",
   "execution_count": 11,
   "metadata": {},
   "outputs": [],
   "source": [
    "import pandas as pd\n",
    "import numpy as np\n",
    "import os\n",
    "import sys\n",
    "sys.path.append('..')\n",
    "import time\n",
    "from rdkit import Chem\n",
    "from fp_gen import KlekFPGenerator, MACCSFPGenerator, SubFPGenerator"
   ]
  },
  {
   "cell_type": "code",
   "execution_count": 12,
   "metadata": {},
   "outputs": [],
   "source": [
    "def could_be_valid(smiles):\n",
    "    try:\n",
    "        mol = Chem.MolFromSmiles(smiles)\n",
    "        return mol is not None\n",
    "    except:\n",
    "        return False"
   ]
  },
  {
   "cell_type": "code",
   "execution_count": 13,
   "metadata": {},
   "outputs": [],
   "source": [
    "def sparse_to_dense(sparse):\n",
    "    return np.nonzero(sparse)[0].tolist()"
   ]
  },
  {
   "cell_type": "code",
   "execution_count": 18,
   "metadata": {},
   "outputs": [
    {
     "name": "stdout",
     "output_type": "stream",
     "text": [
      "                                                SMILES      Ki\n",
      "0                                               SMILES    \"Ki\"\n",
      "1                        COc1ccc2occ3CC[C@@H](CN)c1c23   860.0\n",
      "2                  CN1CCc2cccc-3c2[C@H]1Cc1cccc(C)c-31    14.4\n",
      "3                    CN(C)[C@@H]1Cc2cccc3nc(O)n(C1)c23    92.0\n",
      "4                  CCCN1CCC2[C@@H]1CCc1cccc(C(N)=O)c21    17.0\n",
      "..                                                 ...     ...\n",
      "995  Cl.COc1ccc2c(c1)oc1c(CN3CCN(CC3)c3ccccc3OC)ccc...    24.0\n",
      "996   Fc1ccc2cccc(N3CCN(CCCOc4ccc5CNC(=O)c5c4)CC3)c2c1  0.0447\n",
      "997  FC(F)(F)c1cccc(c1)N1CCN(CCN2C(=O)CC3(CCCC3)CC2...    8.22\n",
      "998  Cl.COc1ccc2c(c1)oc1ccc(CN3CCN(CC3)c3ccccc3OC)c...   429.0\n",
      "999  CNC(=O)c1ccc2[C@@H](CCN3CCN(CC3)c3ccc(OC)cc3)O...  3356.0\n",
      "\n",
      "[1000 rows x 2 columns]\n"
     ]
    },
    {
     "name": "stderr",
     "output_type": "stream",
     "text": [
      "[11:17:38] SMILES Parse Error: syntax error while parsing: SMILES\n",
      "[11:17:38] SMILES Parse Error: Failed parsing SMILES 'SMILES' for input: 'SMILES'\n",
      "C:\\Users\\matit\\AppData\\Local\\Temp\\ipykernel_12524\\1485409639.py:9: SettingWithCopyWarning: \n",
      "A value is trying to be set on a copy of a slice from a DataFrame.\n",
      "Try using .loc[row_indexer,col_indexer] = value instead\n",
      "\n",
      "See the caveats in the documentation: https://pandas.pydata.org/pandas-docs/stable/user_guide/indexing.html#returning-a-view-versus-a-copy\n",
      "  chunk['fps'] = list(map(sparse_to_dense, fps))\n"
     ]
    },
    {
     "name": "stdout",
     "output_type": "stream",
     "text": [
      "                                                 SMILES       Ki\n",
      "1000  O=S(=O)(N1CCC[C@H]1CCN1CCN(CC1)c1nsc2ccccc12)c...    37.00\n",
      "1001         Fc1ccc(cc1)C(=O)CCCN1CCCN(CC1)c1ccc(Cl)cc1   117.40\n",
      "1002       Clc1ccc(cc1)C1=CCN(CCN2C(=O)c3ccccc3C2=O)CC1   631.00\n",
      "1003          C(CNCCOc1cccc2[nH]cnc12)Cc1c[nH]c2ccccc12     0.87\n",
      "1004       OC(COCc1ccccc1)CN1CCC2(CC1)OCc1c2ccc2ccccc12     2.20\n",
      "...                                                 ...      ...\n",
      "1995  Clc1cccc(c1)S(=O)(=O)NCCN1CCC(=CC1)c1c[nH]c2cc...     7.40\n",
      "1996       CC1CCN(CC[C@H]2CCCN2S(=O)(=O)c2cccc(C)c2)CC1  1000.00\n",
      "1997  CCCCOC(=O)c1cc2c3OC(CN4CCC5(CC4)N(CNC5=O)c4ccc...     3.00\n",
      "1998            COc1cccc2c(CCCN3CCN(CC3)c3ccccn3)cccc12     0.38\n",
      "1999               COc1cccc2CC[C@@H]3[C@H](CCN3CC=C)c12     4.70\n",
      "\n",
      "[1000 rows x 2 columns]\n",
      "                                                 SMILES        Ki\n",
      "2000      CN1C(=N)N(C)\\\\C(=C\\\\c2c[nH]c3c(Br)cccc23)C1=O  1812.000\n",
      "2001       CC1(C)CC(=O)N(CCN2CCN(CC2)c2ccccc2Cl)C(=O)C1    65.800\n",
      "2002                      CCCCCCCOc1ccc2[nH]cc(CCN)c2c1    38.000\n",
      "2003  Cc1ccc2c(cccc2n1)N1CCN(CCc2cccc(c2)N2CCCOC2=O)CC1     2.512\n",
      "2004  COc1ccc(cc1)-c1ccccc1N1CCN(CCCCOc2ccc3OC(C)C(=...   127.000\n",
      "...                                                 ...       ...\n",
      "2995       Cl.Cl.COc1ccccc1N1CCN(CCOCCOc2cccc(C)c2C)CC1     5.000\n",
      "2996  Clc1ccc(s1)S(=O)(=O)NC1CCN(CCOc2ccccc2-c2ccccc...   190.000\n",
      "2997  NC(=O)[C@@H]1Cc2ccccc2CN1C(=O)CCCCN1CCN(CC1)c1...       NaN\n",
      "2998          COc1cc2CCN3Cc4c(OC)ccc(OC)c4C[C@H]3c2cc1O   493.480\n",
      "2999                     CCCN1CCC2Cc3c(O)cccc3C[C@@H]12    62.000\n",
      "\n",
      "[1000 rows x 2 columns]\n",
      "                                                 SMILES        Ki\n",
      "3000    Cc1ccc2c(cccc2n1)N1CCN(CCc2cccc3NC(=O)COc23)CC1    0.2512\n",
      "3001  CN1C(=O)COc2c(CCN3CCN(CC3)c3cccc4nc(C)ccc34)cc...    0.1585\n",
      "3002      CCN(CC)CCc1c[nH]c2ccc(OS(=O)(=O)C(F)(F)F)cc12   27.0000\n",
      "3003  CSc1ccccc1N1CCN(Cc2ccc(cc2)C(=O)N2CCC[C@H]2C(N...  313.0000\n",
      "3004    CC(C)c1ccccc1OCCN1CCC(CC1)NS(=O)(=O)c1ccc(N)cc1  502.0000\n",
      "...                                                 ...       ...\n",
      "3995                COc1cccc2C[C@H]3CCN(CC=C)[C@H]3Cc12  145.0000\n",
      "3996  CC(=O)c1c(OCCCN2CCN(CC2)c2ccccc2F)ccc2c(C)cc(=...    1.3000\n",
      "3997             Fc1ccc(CCCCN2CCCN(CC2)c2ccc(Cl)cc2)cc1   91.0000\n",
      "3998                          CCCCCN1CCC(C1)c1cccc(O)c1  326.0000\n",
      "3999                        CCCCCCCN1CCC(C1)c1cccc(O)c1   19.0000\n",
      "\n",
      "[1000 rows x 2 columns]\n",
      "                                                 SMILES       Ki\n",
      "4000               OC12C3C4C5C3C(C3C5CC4C13)N2CC1CCCCC1      NaN\n",
      "4001  Fc1ccc2[nH]cc(CCN3CCN(CC3)c3ccccc3-c3ccccc3F)c2c1    25.00\n",
      "4002  Clc1cccc(c1)N1CCN(CCN2CCC3(C2)C(=O)Nc2ccccc32)CC1  2687.00\n",
      "4003    CCCNC(=O)Oc1cccc2C[C@H]3N(CCC)CCc4cccc(c34)-c12    87.00\n",
      "4004  CCCN1CCc2cccc-3c2[C@H]1Cc1cccc(OC(=O)NC(C)(C)C...    96.00\n",
      "...                                                 ...      ...\n",
      "4995  COc1ccccc1N1CCN(CCN(C(=O)c2ccc(F)c(C)c2)c2cccc...     3.96\n",
      "4996                         CCCN(CCC)C1CCc2cccc(O)c2C1     3.80\n",
      "4997  COc1ccccc1N1CCN(CCCCN2C(=O)C[C@@H](NC(=O)C34CC...     9.00\n",
      "4998         COc1ccccc1N1CCN(Cc2cn3cc(C)cc(C#N)c3n2)CC1      NaN\n",
      "4999            O=C1CCc2cc(OCCCN3CCN(CC3)c3ccccn3)ccc12    19.05\n",
      "\n",
      "[1000 rows x 2 columns]\n",
      "                                                 SMILES        Ki\n",
      "5000        C(COc1ccccc1)NCC1COCC(O1)(c1ccccc1)c1ccccc1    0.5888\n",
      "5001       OC1(CCN(CCCC(=O)c2ccc(F)cc2)CC1)c1ccc(Cl)cc1       NaN\n",
      "5002  Clc1cccc(N2CCN(CCCCCN3C(=O)c4ccccc4S3(=O)=O)CC...   29.0000\n",
      "5003       Cl.COc1ccccc1N1CCN(CCCCCC(=O)NCc2ccccc2O)CC1   70.0000\n",
      "5004  Cc1c(oc2c(cccc2c1=O)C(=O)NCCCN1CCN(CC1)c1ccccc...    1.2000\n",
      "...                                                 ...       ...\n",
      "5836                       COc1cc(C[C@@H](C)N)c(OC)cc1I       NaN\n",
      "5837        Clc1ccc2C(=O)C(CCCCN3CCN(CC3)c3ccccn3)Cc2c1    4.0740\n",
      "5838         Clc1ccc2C(=O)C(CCCN3CCN(CC3)c3ccccn3)Cc2c1    2.3000\n",
      "5839        O=C1N(CCCCN2CCN(CC2)c2ccccc2)C(=O)c2ccccc12   10.0000\n",
      "5840                    Clc1ccc(cc1)-c1n[nH]cc1N1CCNCC1  121.0000\n",
      "\n",
      "[841 rows x 2 columns]\n"
     ]
    }
   ],
   "source": [
    "generator = KlekFPGenerator(n_jobs=os.cpu_count())\n",
    "data = pd.read_csv('../original_datasets/smiles/5ht1a_smiles.csv', chunksize=1000, names=['SMILES', 'Ki'])\n",
    "\n",
    "for i, chunk in enumerate(data):\n",
    "    print(chunk)\n",
    "    chunk = chunk[chunk['SMILES'].apply(could_be_valid)]\n",
    "    mols = list(map(Chem.MolFromSmiles, chunk['SMILES']))\n",
    "    fps = generator.transform(mols)\n",
    "    chunk['fps'] = list(map(sparse_to_dense, fps))\n",
    "    if i == 0:\n",
    "        chunk.to_csv('../original_datasets/klek/5ht1a_klek.csv', index=False)\n",
    "    else: # append if already exists, otherwise without else firts chunk will be written twice\n",
    "        with open('../original_datasets/klek/5ht1a_klek.csv', 'a') as f:\n",
    "            chunk.to_csv(f, header=False, index=False)"
   ]
  },
  {
   "cell_type": "code",
   "execution_count": 20,
   "metadata": {},
   "outputs": [],
   "source": [
    "import numpy as np\n",
    "import pandas as pd\n",
    "import pandas.api.types as ptypes\n",
    "import matplotlib.pyplot as plt\n",
    "import seaborn as sns\n",
    "import rdkit\n",
    "from rdkit import Chem\n",
    "from rdkit.Chem import rdFingerprintGenerator\n",
    "from rdkit.Chem import rdMolDescriptors\n",
    "from rdkit.Chem import AllChem, DataStructs\n",
    "import os\n",
    "import sys"
   ]
  },
  {
   "cell_type": "code",
   "execution_count": 28,
   "metadata": {},
   "outputs": [],
   "source": [
    "class DataProcessor():\n",
    "    \n",
    "    \"\"\"\n",
    "    This class loads molecular fingerprints into a DataFrame and performs clean-up on them.\n",
    "\n",
    "    Parameters\n",
    "    ----------\n",
    "    protein : str\n",
    "        The protein name, one of ['5ht1a', '5ht7', 'beta2', 'd2', 'h1'].\n",
    "    y_col : str, optional\n",
    "        The name of the column representing the dependent variable, default is 'Ki'.\n",
    "\n",
    "    Attributes\n",
    "    ----------\n",
    "    data_paths_ : dict\n",
    "        A dictionary containing the paths to the fingerprint files.\n",
    "    proteins_ : list of str\n",
    "        The list of valid protein names.\n",
    "    fingerprints_ : list of str\n",
    "        The list of valid fingerprint types.\n",
    "    protein : str\n",
    "        The protein name.\n",
    "    fingerprint : str\n",
    "        The fingerprint type.\n",
    "    path : str\n",
    "        The path to the fingerprint file.\n",
    "    df : pandas.DataFrame\n",
    "        The DataFrame containing the loaded fingerprint data.\n",
    "\n",
    "    Methods\n",
    "    -------\n",
    "    remove_missing()\n",
    "        Removes rows with missing values in the dependent variable column.\n",
    "    remove_duplicates()\n",
    "        Removes duplicate rows in the DataFrame.\n",
    "    remove_redundant()\n",
    "        Removes redundant columns in the DataFrame.\n",
    "    convert_data()\n",
    "        Converts the data types of the columns in the DataFrame.\n",
    "    add_classification(threshold)\n",
    "        Adds a Class column to the DataFrame based on the threshold parameter.\n",
    "    write_cleaned()\n",
    "        Writes the cleaned DataFrame to a csv file.\n",
    "    \"\"\"\n",
    "    \n",
    "    def __init__(self, protein, y_col='Ki'):\n",
    "        sys.path.append('..')\n",
    "        self.data_paths = {\n",
    "    '5ht1a': '../original_datasets/klek/5ht1a_klek.csv',\n",
    "    '5ht7': '../original_datasets/klek/5ht7_klek.csv',\n",
    "    'beta2': '../original_datasets/klek/beta2_klek.csv',\n",
    "    'd2': '../original_datasets/klek/d2_klek.csv',\n",
    "    'h1': '../original_datasets/klek/h1_klek.csv'\n",
    "    }\n",
    "            \n",
    "        self.proteins_ = ['5ht1a', '5ht7', 'beta2', 'd2', 'h1']\n",
    "        self.y_col = y_col\n",
    "        self.missing = None\n",
    "        self.duplicated = None\n",
    "        self.redundant = None\n",
    "        \n",
    "        self.protein = protein\n",
    "        self.path = self.data_paths[protein]\n",
    "        \n",
    "        self.activities = {\n",
    "    '5ht1a': 54,\n",
    "    '5ht7': 89,\n",
    "    'beta2': 270,\n",
    "    'd2': 240.1,\n",
    "    'h1': 501\n",
    "    }\n",
    "        \n",
    "        self.threshold = self.activities[self.protein]\n",
    "        \n",
    "    def load_data(self):\n",
    "        self.df = pd.read_csv(self.path)\n",
    "        self.df[self.y_col] = self.df[self.y_col].astype('float')\n",
    "        print(f\"Loaded data for {self.protein} protein\")\n",
    "        \n",
    "        \n",
    "    def remove_missing(self):\n",
    "        print(f'The initial size of dataset: {len(self.df)}')\n",
    "        missing = self.df[self.y_col].isnull()\n",
    "        zero_or_neg = self.df[self.y_col] <= 0\n",
    "        to_remove = pd.Series([a or b for a, b in zip(missing,zero_or_neg)])\n",
    "        print(f'The percent of rows with missing {self.y_col} values: {to_remove.sum()/len(self.df)*100:.2f} %')\n",
    "        self.df = self.df[~to_remove]\n",
    "        print(f'New size of the dataset: {len(self.df)}')\n",
    "        self.missing = int(to_remove.sum())\n",
    "        \n",
    "    \n",
    "    def remove_duplicates(self):\n",
    "        print(f'The initial size of dataset: {len(self.df)}')\n",
    "        duplicates = self.df.duplicated(keep = 'first')\n",
    "        print(f'The percent of duplicated rows: {duplicates.sum()/len(self.df)*100:.2f} %')\n",
    "        self.df = self.df[~duplicates]\n",
    "        print(f'New size of the dataset: {len(self.df)}')\n",
    "        self.duplicated = int(duplicates.sum())\n",
    "        \n",
    "        \n",
    "    def add_classification(self):\n",
    "        classes = [1 if x < 100 else 0 for x in self.df[self.y_col]]\n",
    "        self.df.insert(1, \"Class\", classes)\n",
    "        print(f'The percent of compounds classified as active is {self.df[\"Class\"].sum()/len(self.df)*100:.2f} %')\n",
    "        \n",
    "                \n",
    "    def write_cleaned(self):\n",
    "        write_path = '../original_datasets/klek_clean/' + self.protein + '_klek_100nM.csv'\n",
    "        self.df.to_csv(path_or_buf=write_path, sep=',', index=False)\n",
    "        print(f'Cleaned file saved at {write_path}')\n",
    "    \n",
    "    \n",
    "    def return_parameters(self): # zwraca listę list dotyczącą ile czego brakowało/usunięto w kolejności wczytania do klasy\n",
    "        parameters = []\n",
    "        parameters.append(self.missing)\n",
    "        parameters.append(self.duplicated)\n",
    "        parameters.append(self.redundant)\n",
    "        return parameters\n",
    "    \n",
    "    def write_parquet(self):\n",
    "        path = '..' + self.path.strip('.csv') + '_balanced.parquet'\n",
    "        print(path)\n",
    "        self.df.to_parquet(path)"
   ]
  },
  {
   "cell_type": "code",
   "execution_count": 24,
   "metadata": {},
   "outputs": [],
   "source": [
    "proteins = ['5ht1a','5ht7','beta2','d2','h1']"
   ]
  },
  {
   "cell_type": "code",
   "execution_count": 29,
   "metadata": {},
   "outputs": [
    {
     "name": "stdout",
     "output_type": "stream",
     "text": [
      "Loaded data for 5ht1a protein\n",
      "The initial size of dataset: 5840\n",
      "The percent of rows with missing Ki values: 3.78 %\n",
      "New size of the dataset: 5619\n",
      "The initial size of dataset: 5619\n",
      "The percent of duplicated rows: 6.57 %\n",
      "New size of the dataset: 5250\n",
      "The percent of compounds classified as active is 57.96 %\n",
      "Cleaned file saved at ../original_datasets/klek_clean/5ht1a_klek_100nM.csv\n",
      "Loaded data for 5ht7 protein\n",
      "The initial size of dataset: 3262\n",
      "The percent of rows with missing Ki values: 3.86 %\n",
      "New size of the dataset: 3136\n",
      "The initial size of dataset: 3136\n",
      "The percent of duplicated rows: 5.52 %\n",
      "New size of the dataset: 2963\n",
      "The percent of compounds classified as active is 51.50 %\n",
      "Cleaned file saved at ../original_datasets/klek_clean/5ht7_klek_100nM.csv\n",
      "Loaded data for beta2 protein\n",
      "The initial size of dataset: 1660\n",
      "The percent of rows with missing Ki values: 51.51 %\n",
      "New size of the dataset: 805\n",
      "The initial size of dataset: 805\n",
      "The percent of duplicated rows: 2.86 %\n",
      "New size of the dataset: 782\n",
      "The percent of compounds classified as active is 42.33 %\n",
      "Cleaned file saved at ../original_datasets/klek_clean/beta2_klek_100nM.csv\n",
      "Loaded data for d2 protein\n",
      "The initial size of dataset: 11816\n",
      "The percent of rows with missing Ki values: 9.09 %\n",
      "New size of the dataset: 10742\n",
      "The initial size of dataset: 10742\n",
      "The percent of duplicated rows: 5.32 %\n",
      "New size of the dataset: 10170\n",
      "The percent of compounds classified as active is 36.51 %\n",
      "Cleaned file saved at ../original_datasets/klek_clean/d2_klek_100nM.csv\n",
      "Loaded data for h1 protein\n",
      "The initial size of dataset: 2591\n",
      "The percent of rows with missing Ki values: 32.88 %\n",
      "New size of the dataset: 1739\n",
      "The initial size of dataset: 1739\n",
      "The percent of duplicated rows: 2.76 %\n",
      "New size of the dataset: 1691\n",
      "The percent of compounds classified as active is 37.91 %\n",
      "Cleaned file saved at ../original_datasets/klek_clean/h1_klek_100nM.csv\n"
     ]
    }
   ],
   "source": [
    "for protein in proteins:\n",
    "    data = DataProcessor(protein)\n",
    "    data.load_data()\n",
    "    data.remove_missing()\n",
    "    data.remove_duplicates()\n",
    "    data.add_classification()\n",
    "    data.write_cleaned()\n",
    "    #data.write_parquet()"
   ]
  },
  {
   "cell_type": "code",
   "execution_count": 37,
   "metadata": {},
   "outputs": [],
   "source": [
    "proteins = ['5ht1a','5ht7','beta2','d2','h1']\n",
    "\n",
    "read_paths = [f'../original_datasets/klek_clean/{x}_klek_balanced.csv' for x in proteins]\n",
    "write_paths = [f'../original_datasets/parquet_clean/{x}_klek_balanced.parquet' for x in proteins]\n",
    "\n",
    "def csv_to_parquet(read_path, write_path):\n",
    "    data = pd.read_csv(read_path, sep=',')\n",
    "    data.to_parquet(write_path)"
   ]
  },
  {
   "cell_type": "code",
   "execution_count": 38,
   "metadata": {},
   "outputs": [
    {
     "name": "stdout",
     "output_type": "stream",
     "text": [
      "../original_datasets/klek_clean/5ht1a_klek_balanced.csv ../original_datasets/parquet_clean/5ht1a_klek_balanced.parquet\n",
      "../original_datasets/klek_clean/5ht7_klek_balanced.csv ../original_datasets/parquet_clean/5ht7_klek_balanced.parquet\n",
      "../original_datasets/klek_clean/beta2_klek_balanced.csv ../original_datasets/parquet_clean/beta2_klek_balanced.parquet\n",
      "../original_datasets/klek_clean/d2_klek_balanced.csv ../original_datasets/parquet_clean/d2_klek_balanced.parquet\n",
      "../original_datasets/klek_clean/h1_klek_balanced.csv ../original_datasets/parquet_clean/h1_klek_balanced.parquet\n"
     ]
    }
   ],
   "source": [
    "for read_path, write_path in zip(read_paths, write_paths):\n",
    "    print(read_path, write_path)\n",
    "    csv_to_parquet(read_path, write_path)"
   ]
  },
  {
   "cell_type": "code",
   "execution_count": 185,
   "metadata": {},
   "outputs": [],
   "source": [
    "class DataProcessor2():\n",
    "    \n",
    "    def __init__(self, protein, y_col='Ki', dataset='balanced'):\n",
    "        sys.path.append('..')\n",
    "        self.data_paths = {\n",
    "            '5ht1a': f'../original_datasets/klek_clean/5ht1a_klek_{dataset}.csv',\n",
    "            '5ht7': f'../original_datasets/klek_clean/5ht7_klek_{dataset}.csv',\n",
    "            'beta2': f'../original_datasets/klek_clean/beta2_klek_{dataset}.csv',\n",
    "            'd2': f'../original_datasets/klek_clean/d2_klek_{dataset}.csv',\n",
    "            'h1': f'../original_datasets/klek_clean/h1_klek_{dataset}.csv'  \n",
    "        }\n",
    "        \n",
    "        self.y_col = y_col        \n",
    "        self.protein = protein\n",
    "        \n",
    "        self.path = self.data_paths[protein]\n",
    "        \n",
    "    def load_data(self):\n",
    "        self.df = pd.read_csv(self.path)\n",
    "        self.df[self.y_col] = self.df[self.y_col].astype('float')\n",
    "        print(f\"Loaded data for {self.protein} protein\")\n",
    "        \n",
    "    def count_keys(self):\n",
    "        keys = [f'KLEK_{x}' for x in range(0,4860)]\n",
    "        values = [0 for x in range(0,4860)]\n",
    "        self.dc = {key:value for key, value in zip(keys, values)}\n",
    "        selection = self.df['Class'] == 1\n",
    "        tenten = self.df[selection]['fps']\n",
    "        for row in tenten:\n",
    "            new = row.strip(']').strip('[').split()\n",
    "            newest = [f\"KLEK_{x.strip(',')}\" for x in new]\n",
    "            for key in newest:\n",
    "                self.dc[key] += 1         \n",
    "    \n",
    "    def combine(self):\n",
    "        Key = self.dc.keys()\n",
    "        Value = self.dc.values()\n",
    "        return Key, Value\n",
    "        #self.df2 = pd.DataFrame({'KLEK':Key, 'COUNT':Value})\n",
    "        #print(self.df2.head())\n",
    "        \n",
    "    def write_cleaned(self):\n",
    "        write_path = '../original_datasets/klek_clean/' + self.protein + '_klek_100nM.csv'\n",
    "        self.df.to_csv(path_or_buf=write_path, sep=',', index=False)\n",
    "        print(f'Cleaned file saved at {write_path}')"
   ]
  },
  {
   "cell_type": "code",
   "execution_count": 186,
   "metadata": {},
   "outputs": [],
   "source": [
    "proteins = ['5ht1a','5ht7','beta2','d2','h1']"
   ]
  },
  {
   "cell_type": "code",
   "execution_count": 187,
   "metadata": {},
   "outputs": [
    {
     "name": "stdout",
     "output_type": "stream",
     "text": [
      "Loaded data for 5ht1a protein\n"
     ]
    },
    {
     "data": {
      "text/plain": [
       "(dict_keys(['KLEK_0', 'KLEK_1', 'KLEK_2', 'KLEK_3', 'KLEK_4', 'KLEK_5', 'KLEK_6', 'KLEK_7', 'KLEK_8', 'KLEK_9', 'KLEK_10', 'KLEK_11', 'KLEK_12', 'KLEK_13', 'KLEK_14', 'KLEK_15', 'KLEK_16', 'KLEK_17', 'KLEK_18', 'KLEK_19', 'KLEK_20', 'KLEK_21', 'KLEK_22', 'KLEK_23', 'KLEK_24', 'KLEK_25', 'KLEK_26', 'KLEK_27', 'KLEK_28', 'KLEK_29', 'KLEK_30', 'KLEK_31', 'KLEK_32', 'KLEK_33', 'KLEK_34', 'KLEK_35', 'KLEK_36', 'KLEK_37', 'KLEK_38', 'KLEK_39', 'KLEK_40', 'KLEK_41', 'KLEK_42', 'KLEK_43', 'KLEK_44', 'KLEK_45', 'KLEK_46', 'KLEK_47', 'KLEK_48', 'KLEK_49', 'KLEK_50', 'KLEK_51', 'KLEK_52', 'KLEK_53', 'KLEK_54', 'KLEK_55', 'KLEK_56', 'KLEK_57', 'KLEK_58', 'KLEK_59', 'KLEK_60', 'KLEK_61', 'KLEK_62', 'KLEK_63', 'KLEK_64', 'KLEK_65', 'KLEK_66', 'KLEK_67', 'KLEK_68', 'KLEK_69', 'KLEK_70', 'KLEK_71', 'KLEK_72', 'KLEK_73', 'KLEK_74', 'KLEK_75', 'KLEK_76', 'KLEK_77', 'KLEK_78', 'KLEK_79', 'KLEK_80', 'KLEK_81', 'KLEK_82', 'KLEK_83', 'KLEK_84', 'KLEK_85', 'KLEK_86', 'KLEK_87', 'KLEK_88', 'KLEK_89', 'KLEK_90', 'KLEK_91', 'KLEK_92', 'KLEK_93', 'KLEK_94', 'KLEK_95', 'KLEK_96', 'KLEK_97', 'KLEK_98', 'KLEK_99', 'KLEK_100', 'KLEK_101', 'KLEK_102', 'KLEK_103', 'KLEK_104', 'KLEK_105', 'KLEK_106', 'KLEK_107', 'KLEK_108', 'KLEK_109', 'KLEK_110', 'KLEK_111', 'KLEK_112', 'KLEK_113', 'KLEK_114', 'KLEK_115', 'KLEK_116', 'KLEK_117', 'KLEK_118', 'KLEK_119', 'KLEK_120', 'KLEK_121', 'KLEK_122', 'KLEK_123', 'KLEK_124', 'KLEK_125', 'KLEK_126', 'KLEK_127', 'KLEK_128', 'KLEK_129', 'KLEK_130', 'KLEK_131', 'KLEK_132', 'KLEK_133', 'KLEK_134', 'KLEK_135', 'KLEK_136', 'KLEK_137', 'KLEK_138', 'KLEK_139', 'KLEK_140', 'KLEK_141', 'KLEK_142', 'KLEK_143', 'KLEK_144', 'KLEK_145', 'KLEK_146', 'KLEK_147', 'KLEK_148', 'KLEK_149', 'KLEK_150', 'KLEK_151', 'KLEK_152', 'KLEK_153', 'KLEK_154', 'KLEK_155', 'KLEK_156', 'KLEK_157', 'KLEK_158', 'KLEK_159', 'KLEK_160', 'KLEK_161', 'KLEK_162', 'KLEK_163', 'KLEK_164', 'KLEK_165', 'KLEK_166', 'KLEK_167', 'KLEK_168', 'KLEK_169', 'KLEK_170', 'KLEK_171', 'KLEK_172', 'KLEK_173', 'KLEK_174', 'KLEK_175', 'KLEK_176', 'KLEK_177', 'KLEK_178', 'KLEK_179', 'KLEK_180', 'KLEK_181', 'KLEK_182', 'KLEK_183', 'KLEK_184', 'KLEK_185', 'KLEK_186', 'KLEK_187', 'KLEK_188', 'KLEK_189', 'KLEK_190', 'KLEK_191', 'KLEK_192', 'KLEK_193', 'KLEK_194', 'KLEK_195', 'KLEK_196', 'KLEK_197', 'KLEK_198', 'KLEK_199', 'KLEK_200', 'KLEK_201', 'KLEK_202', 'KLEK_203', 'KLEK_204', 'KLEK_205', 'KLEK_206', 'KLEK_207', 'KLEK_208', 'KLEK_209', 'KLEK_210', 'KLEK_211', 'KLEK_212', 'KLEK_213', 'KLEK_214', 'KLEK_215', 'KLEK_216', 'KLEK_217', 'KLEK_218', 'KLEK_219', 'KLEK_220', 'KLEK_221', 'KLEK_222', 'KLEK_223', 'KLEK_224', 'KLEK_225', 'KLEK_226', 'KLEK_227', 'KLEK_228', 'KLEK_229', 'KLEK_230', 'KLEK_231', 'KLEK_232', 'KLEK_233', 'KLEK_234', 'KLEK_235', 'KLEK_236', 'KLEK_237', 'KLEK_238', 'KLEK_239', 'KLEK_240', 'KLEK_241', 'KLEK_242', 'KLEK_243', 'KLEK_244', 'KLEK_245', 'KLEK_246', 'KLEK_247', 'KLEK_248', 'KLEK_249', 'KLEK_250', 'KLEK_251', 'KLEK_252', 'KLEK_253', 'KLEK_254', 'KLEK_255', 'KLEK_256', 'KLEK_257', 'KLEK_258', 'KLEK_259', 'KLEK_260', 'KLEK_261', 'KLEK_262', 'KLEK_263', 'KLEK_264', 'KLEK_265', 'KLEK_266', 'KLEK_267', 'KLEK_268', 'KLEK_269', 'KLEK_270', 'KLEK_271', 'KLEK_272', 'KLEK_273', 'KLEK_274', 'KLEK_275', 'KLEK_276', 'KLEK_277', 'KLEK_278', 'KLEK_279', 'KLEK_280', 'KLEK_281', 'KLEK_282', 'KLEK_283', 'KLEK_284', 'KLEK_285', 'KLEK_286', 'KLEK_287', 'KLEK_288', 'KLEK_289', 'KLEK_290', 'KLEK_291', 'KLEK_292', 'KLEK_293', 'KLEK_294', 'KLEK_295', 'KLEK_296', 'KLEK_297', 'KLEK_298', 'KLEK_299', 'KLEK_300', 'KLEK_301', 'KLEK_302', 'KLEK_303', 'KLEK_304', 'KLEK_305', 'KLEK_306', 'KLEK_307', 'KLEK_308', 'KLEK_309', 'KLEK_310', 'KLEK_311', 'KLEK_312', 'KLEK_313', 'KLEK_314', 'KLEK_315', 'KLEK_316', 'KLEK_317', 'KLEK_318', 'KLEK_319', 'KLEK_320', 'KLEK_321', 'KLEK_322', 'KLEK_323', 'KLEK_324', 'KLEK_325', 'KLEK_326', 'KLEK_327', 'KLEK_328', 'KLEK_329', 'KLEK_330', 'KLEK_331', 'KLEK_332', 'KLEK_333', 'KLEK_334', 'KLEK_335', 'KLEK_336', 'KLEK_337', 'KLEK_338', 'KLEK_339', 'KLEK_340', 'KLEK_341', 'KLEK_342', 'KLEK_343', 'KLEK_344', 'KLEK_345', 'KLEK_346', 'KLEK_347', 'KLEK_348', 'KLEK_349', 'KLEK_350', 'KLEK_351', 'KLEK_352', 'KLEK_353', 'KLEK_354', 'KLEK_355', 'KLEK_356', 'KLEK_357', 'KLEK_358', 'KLEK_359', 'KLEK_360', 'KLEK_361', 'KLEK_362', 'KLEK_363', 'KLEK_364', 'KLEK_365', 'KLEK_366', 'KLEK_367', 'KLEK_368', 'KLEK_369', 'KLEK_370', 'KLEK_371', 'KLEK_372', 'KLEK_373', 'KLEK_374', 'KLEK_375', 'KLEK_376', 'KLEK_377', 'KLEK_378', 'KLEK_379', 'KLEK_380', 'KLEK_381', 'KLEK_382', 'KLEK_383', 'KLEK_384', 'KLEK_385', 'KLEK_386', 'KLEK_387', 'KLEK_388', 'KLEK_389', 'KLEK_390', 'KLEK_391', 'KLEK_392', 'KLEK_393', 'KLEK_394', 'KLEK_395', 'KLEK_396', 'KLEK_397', 'KLEK_398', 'KLEK_399', 'KLEK_400', 'KLEK_401', 'KLEK_402', 'KLEK_403', 'KLEK_404', 'KLEK_405', 'KLEK_406', 'KLEK_407', 'KLEK_408', 'KLEK_409', 'KLEK_410', 'KLEK_411', 'KLEK_412', 'KLEK_413', 'KLEK_414', 'KLEK_415', 'KLEK_416', 'KLEK_417', 'KLEK_418', 'KLEK_419', 'KLEK_420', 'KLEK_421', 'KLEK_422', 'KLEK_423', 'KLEK_424', 'KLEK_425', 'KLEK_426', 'KLEK_427', 'KLEK_428', 'KLEK_429', 'KLEK_430', 'KLEK_431', 'KLEK_432', 'KLEK_433', 'KLEK_434', 'KLEK_435', 'KLEK_436', 'KLEK_437', 'KLEK_438', 'KLEK_439', 'KLEK_440', 'KLEK_441', 'KLEK_442', 'KLEK_443', 'KLEK_444', 'KLEK_445', 'KLEK_446', 'KLEK_447', 'KLEK_448', 'KLEK_449', 'KLEK_450', 'KLEK_451', 'KLEK_452', 'KLEK_453', 'KLEK_454', 'KLEK_455', 'KLEK_456', 'KLEK_457', 'KLEK_458', 'KLEK_459', 'KLEK_460', 'KLEK_461', 'KLEK_462', 'KLEK_463', 'KLEK_464', 'KLEK_465', 'KLEK_466', 'KLEK_467', 'KLEK_468', 'KLEK_469', 'KLEK_470', 'KLEK_471', 'KLEK_472', 'KLEK_473', 'KLEK_474', 'KLEK_475', 'KLEK_476', 'KLEK_477', 'KLEK_478', 'KLEK_479', 'KLEK_480', 'KLEK_481', 'KLEK_482', 'KLEK_483', 'KLEK_484', 'KLEK_485', 'KLEK_486', 'KLEK_487', 'KLEK_488', 'KLEK_489', 'KLEK_490', 'KLEK_491', 'KLEK_492', 'KLEK_493', 'KLEK_494', 'KLEK_495', 'KLEK_496', 'KLEK_497', 'KLEK_498', 'KLEK_499', 'KLEK_500', 'KLEK_501', 'KLEK_502', 'KLEK_503', 'KLEK_504', 'KLEK_505', 'KLEK_506', 'KLEK_507', 'KLEK_508', 'KLEK_509', 'KLEK_510', 'KLEK_511', 'KLEK_512', 'KLEK_513', 'KLEK_514', 'KLEK_515', 'KLEK_516', 'KLEK_517', 'KLEK_518', 'KLEK_519', 'KLEK_520', 'KLEK_521', 'KLEK_522', 'KLEK_523', 'KLEK_524', 'KLEK_525', 'KLEK_526', 'KLEK_527', 'KLEK_528', 'KLEK_529', 'KLEK_530', 'KLEK_531', 'KLEK_532', 'KLEK_533', 'KLEK_534', 'KLEK_535', 'KLEK_536', 'KLEK_537', 'KLEK_538', 'KLEK_539', 'KLEK_540', 'KLEK_541', 'KLEK_542', 'KLEK_543', 'KLEK_544', 'KLEK_545', 'KLEK_546', 'KLEK_547', 'KLEK_548', 'KLEK_549', 'KLEK_550', 'KLEK_551', 'KLEK_552', 'KLEK_553', 'KLEK_554', 'KLEK_555', 'KLEK_556', 'KLEK_557', 'KLEK_558', 'KLEK_559', 'KLEK_560', 'KLEK_561', 'KLEK_562', 'KLEK_563', 'KLEK_564', 'KLEK_565', 'KLEK_566', 'KLEK_567', 'KLEK_568', 'KLEK_569', 'KLEK_570', 'KLEK_571', 'KLEK_572', 'KLEK_573', 'KLEK_574', 'KLEK_575', 'KLEK_576', 'KLEK_577', 'KLEK_578', 'KLEK_579', 'KLEK_580', 'KLEK_581', 'KLEK_582', 'KLEK_583', 'KLEK_584', 'KLEK_585', 'KLEK_586', 'KLEK_587', 'KLEK_588', 'KLEK_589', 'KLEK_590', 'KLEK_591', 'KLEK_592', 'KLEK_593', 'KLEK_594', 'KLEK_595', 'KLEK_596', 'KLEK_597', 'KLEK_598', 'KLEK_599', 'KLEK_600', 'KLEK_601', 'KLEK_602', 'KLEK_603', 'KLEK_604', 'KLEK_605', 'KLEK_606', 'KLEK_607', 'KLEK_608', 'KLEK_609', 'KLEK_610', 'KLEK_611', 'KLEK_612', 'KLEK_613', 'KLEK_614', 'KLEK_615', 'KLEK_616', 'KLEK_617', 'KLEK_618', 'KLEK_619', 'KLEK_620', 'KLEK_621', 'KLEK_622', 'KLEK_623', 'KLEK_624', 'KLEK_625', 'KLEK_626', 'KLEK_627', 'KLEK_628', 'KLEK_629', 'KLEK_630', 'KLEK_631', 'KLEK_632', 'KLEK_633', 'KLEK_634', 'KLEK_635', 'KLEK_636', 'KLEK_637', 'KLEK_638', 'KLEK_639', 'KLEK_640', 'KLEK_641', 'KLEK_642', 'KLEK_643', 'KLEK_644', 'KLEK_645', 'KLEK_646', 'KLEK_647', 'KLEK_648', 'KLEK_649', 'KLEK_650', 'KLEK_651', 'KLEK_652', 'KLEK_653', 'KLEK_654', 'KLEK_655', 'KLEK_656', 'KLEK_657', 'KLEK_658', 'KLEK_659', 'KLEK_660', 'KLEK_661', 'KLEK_662', 'KLEK_663', 'KLEK_664', 'KLEK_665', 'KLEK_666', 'KLEK_667', 'KLEK_668', 'KLEK_669', 'KLEK_670', 'KLEK_671', 'KLEK_672', 'KLEK_673', 'KLEK_674', 'KLEK_675', 'KLEK_676', 'KLEK_677', 'KLEK_678', 'KLEK_679', 'KLEK_680', 'KLEK_681', 'KLEK_682', 'KLEK_683', 'KLEK_684', 'KLEK_685', 'KLEK_686', 'KLEK_687', 'KLEK_688', 'KLEK_689', 'KLEK_690', 'KLEK_691', 'KLEK_692', 'KLEK_693', 'KLEK_694', 'KLEK_695', 'KLEK_696', 'KLEK_697', 'KLEK_698', 'KLEK_699', 'KLEK_700', 'KLEK_701', 'KLEK_702', 'KLEK_703', 'KLEK_704', 'KLEK_705', 'KLEK_706', 'KLEK_707', 'KLEK_708', 'KLEK_709', 'KLEK_710', 'KLEK_711', 'KLEK_712', 'KLEK_713', 'KLEK_714', 'KLEK_715', 'KLEK_716', 'KLEK_717', 'KLEK_718', 'KLEK_719', 'KLEK_720', 'KLEK_721', 'KLEK_722', 'KLEK_723', 'KLEK_724', 'KLEK_725', 'KLEK_726', 'KLEK_727', 'KLEK_728', 'KLEK_729', 'KLEK_730', 'KLEK_731', 'KLEK_732', 'KLEK_733', 'KLEK_734', 'KLEK_735', 'KLEK_736', 'KLEK_737', 'KLEK_738', 'KLEK_739', 'KLEK_740', 'KLEK_741', 'KLEK_742', 'KLEK_743', 'KLEK_744', 'KLEK_745', 'KLEK_746', 'KLEK_747', 'KLEK_748', 'KLEK_749', 'KLEK_750', 'KLEK_751', 'KLEK_752', 'KLEK_753', 'KLEK_754', 'KLEK_755', 'KLEK_756', 'KLEK_757', 'KLEK_758', 'KLEK_759', 'KLEK_760', 'KLEK_761', 'KLEK_762', 'KLEK_763', 'KLEK_764', 'KLEK_765', 'KLEK_766', 'KLEK_767', 'KLEK_768', 'KLEK_769', 'KLEK_770', 'KLEK_771', 'KLEK_772', 'KLEK_773', 'KLEK_774', 'KLEK_775', 'KLEK_776', 'KLEK_777', 'KLEK_778', 'KLEK_779', 'KLEK_780', 'KLEK_781', 'KLEK_782', 'KLEK_783', 'KLEK_784', 'KLEK_785', 'KLEK_786', 'KLEK_787', 'KLEK_788', 'KLEK_789', 'KLEK_790', 'KLEK_791', 'KLEK_792', 'KLEK_793', 'KLEK_794', 'KLEK_795', 'KLEK_796', 'KLEK_797', 'KLEK_798', 'KLEK_799', 'KLEK_800', 'KLEK_801', 'KLEK_802', 'KLEK_803', 'KLEK_804', 'KLEK_805', 'KLEK_806', 'KLEK_807', 'KLEK_808', 'KLEK_809', 'KLEK_810', 'KLEK_811', 'KLEK_812', 'KLEK_813', 'KLEK_814', 'KLEK_815', 'KLEK_816', 'KLEK_817', 'KLEK_818', 'KLEK_819', 'KLEK_820', 'KLEK_821', 'KLEK_822', 'KLEK_823', 'KLEK_824', 'KLEK_825', 'KLEK_826', 'KLEK_827', 'KLEK_828', 'KLEK_829', 'KLEK_830', 'KLEK_831', 'KLEK_832', 'KLEK_833', 'KLEK_834', 'KLEK_835', 'KLEK_836', 'KLEK_837', 'KLEK_838', 'KLEK_839', 'KLEK_840', 'KLEK_841', 'KLEK_842', 'KLEK_843', 'KLEK_844', 'KLEK_845', 'KLEK_846', 'KLEK_847', 'KLEK_848', 'KLEK_849', 'KLEK_850', 'KLEK_851', 'KLEK_852', 'KLEK_853', 'KLEK_854', 'KLEK_855', 'KLEK_856', 'KLEK_857', 'KLEK_858', 'KLEK_859', 'KLEK_860', 'KLEK_861', 'KLEK_862', 'KLEK_863', 'KLEK_864', 'KLEK_865', 'KLEK_866', 'KLEK_867', 'KLEK_868', 'KLEK_869', 'KLEK_870', 'KLEK_871', 'KLEK_872', 'KLEK_873', 'KLEK_874', 'KLEK_875', 'KLEK_876', 'KLEK_877', 'KLEK_878', 'KLEK_879', 'KLEK_880', 'KLEK_881', 'KLEK_882', 'KLEK_883', 'KLEK_884', 'KLEK_885', 'KLEK_886', 'KLEK_887', 'KLEK_888', 'KLEK_889', 'KLEK_890', 'KLEK_891', 'KLEK_892', 'KLEK_893', 'KLEK_894', 'KLEK_895', 'KLEK_896', 'KLEK_897', 'KLEK_898', 'KLEK_899', 'KLEK_900', 'KLEK_901', 'KLEK_902', 'KLEK_903', 'KLEK_904', 'KLEK_905', 'KLEK_906', 'KLEK_907', 'KLEK_908', 'KLEK_909', 'KLEK_910', 'KLEK_911', 'KLEK_912', 'KLEK_913', 'KLEK_914', 'KLEK_915', 'KLEK_916', 'KLEK_917', 'KLEK_918', 'KLEK_919', 'KLEK_920', 'KLEK_921', 'KLEK_922', 'KLEK_923', 'KLEK_924', 'KLEK_925', 'KLEK_926', 'KLEK_927', 'KLEK_928', 'KLEK_929', 'KLEK_930', 'KLEK_931', 'KLEK_932', 'KLEK_933', 'KLEK_934', 'KLEK_935', 'KLEK_936', 'KLEK_937', 'KLEK_938', 'KLEK_939', 'KLEK_940', 'KLEK_941', 'KLEK_942', 'KLEK_943', 'KLEK_944', 'KLEK_945', 'KLEK_946', 'KLEK_947', 'KLEK_948', 'KLEK_949', 'KLEK_950', 'KLEK_951', 'KLEK_952', 'KLEK_953', 'KLEK_954', 'KLEK_955', 'KLEK_956', 'KLEK_957', 'KLEK_958', 'KLEK_959', 'KLEK_960', 'KLEK_961', 'KLEK_962', 'KLEK_963', 'KLEK_964', 'KLEK_965', 'KLEK_966', 'KLEK_967', 'KLEK_968', 'KLEK_969', 'KLEK_970', 'KLEK_971', 'KLEK_972', 'KLEK_973', 'KLEK_974', 'KLEK_975', 'KLEK_976', 'KLEK_977', 'KLEK_978', 'KLEK_979', 'KLEK_980', 'KLEK_981', 'KLEK_982', 'KLEK_983', 'KLEK_984', 'KLEK_985', 'KLEK_986', 'KLEK_987', 'KLEK_988', 'KLEK_989', 'KLEK_990', 'KLEK_991', 'KLEK_992', 'KLEK_993', 'KLEK_994', 'KLEK_995', 'KLEK_996', 'KLEK_997', 'KLEK_998', 'KLEK_999', 'KLEK_1000', 'KLEK_1001', 'KLEK_1002', 'KLEK_1003', 'KLEK_1004', 'KLEK_1005', 'KLEK_1006', 'KLEK_1007', 'KLEK_1008', 'KLEK_1009', 'KLEK_1010', 'KLEK_1011', 'KLEK_1012', 'KLEK_1013', 'KLEK_1014', 'KLEK_1015', 'KLEK_1016', 'KLEK_1017', 'KLEK_1018', 'KLEK_1019', 'KLEK_1020', 'KLEK_1021', 'KLEK_1022', 'KLEK_1023', 'KLEK_1024', 'KLEK_1025', 'KLEK_1026', 'KLEK_1027', 'KLEK_1028', 'KLEK_1029', 'KLEK_1030', 'KLEK_1031', 'KLEK_1032', 'KLEK_1033', 'KLEK_1034', 'KLEK_1035', 'KLEK_1036', 'KLEK_1037', 'KLEK_1038', 'KLEK_1039', 'KLEK_1040', 'KLEK_1041', 'KLEK_1042', 'KLEK_1043', 'KLEK_1044', 'KLEK_1045', 'KLEK_1046', 'KLEK_1047', 'KLEK_1048', 'KLEK_1049', 'KLEK_1050', 'KLEK_1051', 'KLEK_1052', 'KLEK_1053', 'KLEK_1054', 'KLEK_1055', 'KLEK_1056', 'KLEK_1057', 'KLEK_1058', 'KLEK_1059', 'KLEK_1060', 'KLEK_1061', 'KLEK_1062', 'KLEK_1063', 'KLEK_1064', 'KLEK_1065', 'KLEK_1066', 'KLEK_1067', 'KLEK_1068', 'KLEK_1069', 'KLEK_1070', 'KLEK_1071', 'KLEK_1072', 'KLEK_1073', 'KLEK_1074', 'KLEK_1075', 'KLEK_1076', 'KLEK_1077', 'KLEK_1078', 'KLEK_1079', 'KLEK_1080', 'KLEK_1081', 'KLEK_1082', 'KLEK_1083', 'KLEK_1084', 'KLEK_1085', 'KLEK_1086', 'KLEK_1087', 'KLEK_1088', 'KLEK_1089', 'KLEK_1090', 'KLEK_1091', 'KLEK_1092', 'KLEK_1093', 'KLEK_1094', 'KLEK_1095', 'KLEK_1096', 'KLEK_1097', 'KLEK_1098', 'KLEK_1099', 'KLEK_1100', 'KLEK_1101', 'KLEK_1102', 'KLEK_1103', 'KLEK_1104', 'KLEK_1105', 'KLEK_1106', 'KLEK_1107', 'KLEK_1108', 'KLEK_1109', 'KLEK_1110', 'KLEK_1111', 'KLEK_1112', 'KLEK_1113', 'KLEK_1114', 'KLEK_1115', 'KLEK_1116', 'KLEK_1117', 'KLEK_1118', 'KLEK_1119', 'KLEK_1120', 'KLEK_1121', 'KLEK_1122', 'KLEK_1123', 'KLEK_1124', 'KLEK_1125', 'KLEK_1126', 'KLEK_1127', 'KLEK_1128', 'KLEK_1129', 'KLEK_1130', 'KLEK_1131', 'KLEK_1132', 'KLEK_1133', 'KLEK_1134', 'KLEK_1135', 'KLEK_1136', 'KLEK_1137', 'KLEK_1138', 'KLEK_1139', 'KLEK_1140', 'KLEK_1141', 'KLEK_1142', 'KLEK_1143', 'KLEK_1144', 'KLEK_1145', 'KLEK_1146', 'KLEK_1147', 'KLEK_1148', 'KLEK_1149', 'KLEK_1150', 'KLEK_1151', 'KLEK_1152', 'KLEK_1153', 'KLEK_1154', 'KLEK_1155', 'KLEK_1156', 'KLEK_1157', 'KLEK_1158', 'KLEK_1159', 'KLEK_1160', 'KLEK_1161', 'KLEK_1162', 'KLEK_1163', 'KLEK_1164', 'KLEK_1165', 'KLEK_1166', 'KLEK_1167', 'KLEK_1168', 'KLEK_1169', 'KLEK_1170', 'KLEK_1171', 'KLEK_1172', 'KLEK_1173', 'KLEK_1174', 'KLEK_1175', 'KLEK_1176', 'KLEK_1177', 'KLEK_1178', 'KLEK_1179', 'KLEK_1180', 'KLEK_1181', 'KLEK_1182', 'KLEK_1183', 'KLEK_1184', 'KLEK_1185', 'KLEK_1186', 'KLEK_1187', 'KLEK_1188', 'KLEK_1189', 'KLEK_1190', 'KLEK_1191', 'KLEK_1192', 'KLEK_1193', 'KLEK_1194', 'KLEK_1195', 'KLEK_1196', 'KLEK_1197', 'KLEK_1198', 'KLEK_1199', 'KLEK_1200', 'KLEK_1201', 'KLEK_1202', 'KLEK_1203', 'KLEK_1204', 'KLEK_1205', 'KLEK_1206', 'KLEK_1207', 'KLEK_1208', 'KLEK_1209', 'KLEK_1210', 'KLEK_1211', 'KLEK_1212', 'KLEK_1213', 'KLEK_1214', 'KLEK_1215', 'KLEK_1216', 'KLEK_1217', 'KLEK_1218', 'KLEK_1219', 'KLEK_1220', 'KLEK_1221', 'KLEK_1222', 'KLEK_1223', 'KLEK_1224', 'KLEK_1225', 'KLEK_1226', 'KLEK_1227', 'KLEK_1228', 'KLEK_1229', 'KLEK_1230', 'KLEK_1231', 'KLEK_1232', 'KLEK_1233', 'KLEK_1234', 'KLEK_1235', 'KLEK_1236', 'KLEK_1237', 'KLEK_1238', 'KLEK_1239', 'KLEK_1240', 'KLEK_1241', 'KLEK_1242', 'KLEK_1243', 'KLEK_1244', 'KLEK_1245', 'KLEK_1246', 'KLEK_1247', 'KLEK_1248', 'KLEK_1249', 'KLEK_1250', 'KLEK_1251', 'KLEK_1252', 'KLEK_1253', 'KLEK_1254', 'KLEK_1255', 'KLEK_1256', 'KLEK_1257', 'KLEK_1258', 'KLEK_1259', 'KLEK_1260', 'KLEK_1261', 'KLEK_1262', 'KLEK_1263', 'KLEK_1264', 'KLEK_1265', 'KLEK_1266', 'KLEK_1267', 'KLEK_1268', 'KLEK_1269', 'KLEK_1270', 'KLEK_1271', 'KLEK_1272', 'KLEK_1273', 'KLEK_1274', 'KLEK_1275', 'KLEK_1276', 'KLEK_1277', 'KLEK_1278', 'KLEK_1279', 'KLEK_1280', 'KLEK_1281', 'KLEK_1282', 'KLEK_1283', 'KLEK_1284', 'KLEK_1285', 'KLEK_1286', 'KLEK_1287', 'KLEK_1288', 'KLEK_1289', 'KLEK_1290', 'KLEK_1291', 'KLEK_1292', 'KLEK_1293', 'KLEK_1294', 'KLEK_1295', 'KLEK_1296', 'KLEK_1297', 'KLEK_1298', 'KLEK_1299', 'KLEK_1300', 'KLEK_1301', 'KLEK_1302', 'KLEK_1303', 'KLEK_1304', 'KLEK_1305', 'KLEK_1306', 'KLEK_1307', 'KLEK_1308', 'KLEK_1309', 'KLEK_1310', 'KLEK_1311', 'KLEK_1312', 'KLEK_1313', 'KLEK_1314', 'KLEK_1315', 'KLEK_1316', 'KLEK_1317', 'KLEK_1318', 'KLEK_1319', 'KLEK_1320', 'KLEK_1321', 'KLEK_1322', 'KLEK_1323', 'KLEK_1324', 'KLEK_1325', 'KLEK_1326', 'KLEK_1327', 'KLEK_1328', 'KLEK_1329', 'KLEK_1330', 'KLEK_1331', 'KLEK_1332', 'KLEK_1333', 'KLEK_1334', 'KLEK_1335', 'KLEK_1336', 'KLEK_1337', 'KLEK_1338', 'KLEK_1339', 'KLEK_1340', 'KLEK_1341', 'KLEK_1342', 'KLEK_1343', 'KLEK_1344', 'KLEK_1345', 'KLEK_1346', 'KLEK_1347', 'KLEK_1348', 'KLEK_1349', 'KLEK_1350', 'KLEK_1351', 'KLEK_1352', 'KLEK_1353', 'KLEK_1354', 'KLEK_1355', 'KLEK_1356', 'KLEK_1357', 'KLEK_1358', 'KLEK_1359', 'KLEK_1360', 'KLEK_1361', 'KLEK_1362', 'KLEK_1363', 'KLEK_1364', 'KLEK_1365', 'KLEK_1366', 'KLEK_1367', 'KLEK_1368', 'KLEK_1369', 'KLEK_1370', 'KLEK_1371', 'KLEK_1372', 'KLEK_1373', 'KLEK_1374', 'KLEK_1375', 'KLEK_1376', 'KLEK_1377', 'KLEK_1378', 'KLEK_1379', 'KLEK_1380', 'KLEK_1381', 'KLEK_1382', 'KLEK_1383', 'KLEK_1384', 'KLEK_1385', 'KLEK_1386', 'KLEK_1387', 'KLEK_1388', 'KLEK_1389', 'KLEK_1390', 'KLEK_1391', 'KLEK_1392', 'KLEK_1393', 'KLEK_1394', 'KLEK_1395', 'KLEK_1396', 'KLEK_1397', 'KLEK_1398', 'KLEK_1399', 'KLEK_1400', 'KLEK_1401', 'KLEK_1402', 'KLEK_1403', 'KLEK_1404', 'KLEK_1405', 'KLEK_1406', 'KLEK_1407', 'KLEK_1408', 'KLEK_1409', 'KLEK_1410', 'KLEK_1411', 'KLEK_1412', 'KLEK_1413', 'KLEK_1414', 'KLEK_1415', 'KLEK_1416', 'KLEK_1417', 'KLEK_1418', 'KLEK_1419', 'KLEK_1420', 'KLEK_1421', 'KLEK_1422', 'KLEK_1423', 'KLEK_1424', 'KLEK_1425', 'KLEK_1426', 'KLEK_1427', 'KLEK_1428', 'KLEK_1429', 'KLEK_1430', 'KLEK_1431', 'KLEK_1432', 'KLEK_1433', 'KLEK_1434', 'KLEK_1435', 'KLEK_1436', 'KLEK_1437', 'KLEK_1438', 'KLEK_1439', 'KLEK_1440', 'KLEK_1441', 'KLEK_1442', 'KLEK_1443', 'KLEK_1444', 'KLEK_1445', 'KLEK_1446', 'KLEK_1447', 'KLEK_1448', 'KLEK_1449', 'KLEK_1450', 'KLEK_1451', 'KLEK_1452', 'KLEK_1453', 'KLEK_1454', 'KLEK_1455', 'KLEK_1456', 'KLEK_1457', 'KLEK_1458', 'KLEK_1459', 'KLEK_1460', 'KLEK_1461', 'KLEK_1462', 'KLEK_1463', 'KLEK_1464', 'KLEK_1465', 'KLEK_1466', 'KLEK_1467', 'KLEK_1468', 'KLEK_1469', 'KLEK_1470', 'KLEK_1471', 'KLEK_1472', 'KLEK_1473', 'KLEK_1474', 'KLEK_1475', 'KLEK_1476', 'KLEK_1477', 'KLEK_1478', 'KLEK_1479', 'KLEK_1480', 'KLEK_1481', 'KLEK_1482', 'KLEK_1483', 'KLEK_1484', 'KLEK_1485', 'KLEK_1486', 'KLEK_1487', 'KLEK_1488', 'KLEK_1489', 'KLEK_1490', 'KLEK_1491', 'KLEK_1492', 'KLEK_1493', 'KLEK_1494', 'KLEK_1495', 'KLEK_1496', 'KLEK_1497', 'KLEK_1498', 'KLEK_1499', 'KLEK_1500', 'KLEK_1501', 'KLEK_1502', 'KLEK_1503', 'KLEK_1504', 'KLEK_1505', 'KLEK_1506', 'KLEK_1507', 'KLEK_1508', 'KLEK_1509', 'KLEK_1510', 'KLEK_1511', 'KLEK_1512', 'KLEK_1513', 'KLEK_1514', 'KLEK_1515', 'KLEK_1516', 'KLEK_1517', 'KLEK_1518', 'KLEK_1519', 'KLEK_1520', 'KLEK_1521', 'KLEK_1522', 'KLEK_1523', 'KLEK_1524', 'KLEK_1525', 'KLEK_1526', 'KLEK_1527', 'KLEK_1528', 'KLEK_1529', 'KLEK_1530', 'KLEK_1531', 'KLEK_1532', 'KLEK_1533', 'KLEK_1534', 'KLEK_1535', 'KLEK_1536', 'KLEK_1537', 'KLEK_1538', 'KLEK_1539', 'KLEK_1540', 'KLEK_1541', 'KLEK_1542', 'KLEK_1543', 'KLEK_1544', 'KLEK_1545', 'KLEK_1546', 'KLEK_1547', 'KLEK_1548', 'KLEK_1549', 'KLEK_1550', 'KLEK_1551', 'KLEK_1552', 'KLEK_1553', 'KLEK_1554', 'KLEK_1555', 'KLEK_1556', 'KLEK_1557', 'KLEK_1558', 'KLEK_1559', 'KLEK_1560', 'KLEK_1561', 'KLEK_1562', 'KLEK_1563', 'KLEK_1564', 'KLEK_1565', 'KLEK_1566', 'KLEK_1567', 'KLEK_1568', 'KLEK_1569', 'KLEK_1570', 'KLEK_1571', 'KLEK_1572', 'KLEK_1573', 'KLEK_1574', 'KLEK_1575', 'KLEK_1576', 'KLEK_1577', 'KLEK_1578', 'KLEK_1579', 'KLEK_1580', 'KLEK_1581', 'KLEK_1582', 'KLEK_1583', 'KLEK_1584', 'KLEK_1585', 'KLEK_1586', 'KLEK_1587', 'KLEK_1588', 'KLEK_1589', 'KLEK_1590', 'KLEK_1591', 'KLEK_1592', 'KLEK_1593', 'KLEK_1594', 'KLEK_1595', 'KLEK_1596', 'KLEK_1597', 'KLEK_1598', 'KLEK_1599', 'KLEK_1600', 'KLEK_1601', 'KLEK_1602', 'KLEK_1603', 'KLEK_1604', 'KLEK_1605', 'KLEK_1606', 'KLEK_1607', 'KLEK_1608', 'KLEK_1609', 'KLEK_1610', 'KLEK_1611', 'KLEK_1612', 'KLEK_1613', 'KLEK_1614', 'KLEK_1615', 'KLEK_1616', 'KLEK_1617', 'KLEK_1618', 'KLEK_1619', 'KLEK_1620', 'KLEK_1621', 'KLEK_1622', 'KLEK_1623', 'KLEK_1624', 'KLEK_1625', 'KLEK_1626', 'KLEK_1627', 'KLEK_1628', 'KLEK_1629', 'KLEK_1630', 'KLEK_1631', 'KLEK_1632', 'KLEK_1633', 'KLEK_1634', 'KLEK_1635', 'KLEK_1636', 'KLEK_1637', 'KLEK_1638', 'KLEK_1639', 'KLEK_1640', 'KLEK_1641', 'KLEK_1642', 'KLEK_1643', 'KLEK_1644', 'KLEK_1645', 'KLEK_1646', 'KLEK_1647', 'KLEK_1648', 'KLEK_1649', 'KLEK_1650', 'KLEK_1651', 'KLEK_1652', 'KLEK_1653', 'KLEK_1654', 'KLEK_1655', 'KLEK_1656', 'KLEK_1657', 'KLEK_1658', 'KLEK_1659', 'KLEK_1660', 'KLEK_1661', 'KLEK_1662', 'KLEK_1663', 'KLEK_1664', 'KLEK_1665', 'KLEK_1666', 'KLEK_1667', 'KLEK_1668', 'KLEK_1669', 'KLEK_1670', 'KLEK_1671', 'KLEK_1672', 'KLEK_1673', 'KLEK_1674', 'KLEK_1675', 'KLEK_1676', 'KLEK_1677', 'KLEK_1678', 'KLEK_1679', 'KLEK_1680', 'KLEK_1681', 'KLEK_1682', 'KLEK_1683', 'KLEK_1684', 'KLEK_1685', 'KLEK_1686', 'KLEK_1687', 'KLEK_1688', 'KLEK_1689', 'KLEK_1690', 'KLEK_1691', 'KLEK_1692', 'KLEK_1693', 'KLEK_1694', 'KLEK_1695', 'KLEK_1696', 'KLEK_1697', 'KLEK_1698', 'KLEK_1699', 'KLEK_1700', 'KLEK_1701', 'KLEK_1702', 'KLEK_1703', 'KLEK_1704', 'KLEK_1705', 'KLEK_1706', 'KLEK_1707', 'KLEK_1708', 'KLEK_1709', 'KLEK_1710', 'KLEK_1711', 'KLEK_1712', 'KLEK_1713', 'KLEK_1714', 'KLEK_1715', 'KLEK_1716', 'KLEK_1717', 'KLEK_1718', 'KLEK_1719', 'KLEK_1720', 'KLEK_1721', 'KLEK_1722', 'KLEK_1723', 'KLEK_1724', 'KLEK_1725', 'KLEK_1726', 'KLEK_1727', 'KLEK_1728', 'KLEK_1729', 'KLEK_1730', 'KLEK_1731', 'KLEK_1732', 'KLEK_1733', 'KLEK_1734', 'KLEK_1735', 'KLEK_1736', 'KLEK_1737', 'KLEK_1738', 'KLEK_1739', 'KLEK_1740', 'KLEK_1741', 'KLEK_1742', 'KLEK_1743', 'KLEK_1744', 'KLEK_1745', 'KLEK_1746', 'KLEK_1747', 'KLEK_1748', 'KLEK_1749', 'KLEK_1750', 'KLEK_1751', 'KLEK_1752', 'KLEK_1753', 'KLEK_1754', 'KLEK_1755', 'KLEK_1756', 'KLEK_1757', 'KLEK_1758', 'KLEK_1759', 'KLEK_1760', 'KLEK_1761', 'KLEK_1762', 'KLEK_1763', 'KLEK_1764', 'KLEK_1765', 'KLEK_1766', 'KLEK_1767', 'KLEK_1768', 'KLEK_1769', 'KLEK_1770', 'KLEK_1771', 'KLEK_1772', 'KLEK_1773', 'KLEK_1774', 'KLEK_1775', 'KLEK_1776', 'KLEK_1777', 'KLEK_1778', 'KLEK_1779', 'KLEK_1780', 'KLEK_1781', 'KLEK_1782', 'KLEK_1783', 'KLEK_1784', 'KLEK_1785', 'KLEK_1786', 'KLEK_1787', 'KLEK_1788', 'KLEK_1789', 'KLEK_1790', 'KLEK_1791', 'KLEK_1792', 'KLEK_1793', 'KLEK_1794', 'KLEK_1795', 'KLEK_1796', 'KLEK_1797', 'KLEK_1798', 'KLEK_1799', 'KLEK_1800', 'KLEK_1801', 'KLEK_1802', 'KLEK_1803', 'KLEK_1804', 'KLEK_1805', 'KLEK_1806', 'KLEK_1807', 'KLEK_1808', 'KLEK_1809', 'KLEK_1810', 'KLEK_1811', 'KLEK_1812', 'KLEK_1813', 'KLEK_1814', 'KLEK_1815', 'KLEK_1816', 'KLEK_1817', 'KLEK_1818', 'KLEK_1819', 'KLEK_1820', 'KLEK_1821', 'KLEK_1822', 'KLEK_1823', 'KLEK_1824', 'KLEK_1825', 'KLEK_1826', 'KLEK_1827', 'KLEK_1828', 'KLEK_1829', 'KLEK_1830', 'KLEK_1831', 'KLEK_1832', 'KLEK_1833', 'KLEK_1834', 'KLEK_1835', 'KLEK_1836', 'KLEK_1837', 'KLEK_1838', 'KLEK_1839', 'KLEK_1840', 'KLEK_1841', 'KLEK_1842', 'KLEK_1843', 'KLEK_1844', 'KLEK_1845', 'KLEK_1846', 'KLEK_1847', 'KLEK_1848', 'KLEK_1849', 'KLEK_1850', 'KLEK_1851', 'KLEK_1852', 'KLEK_1853', 'KLEK_1854', 'KLEK_1855', 'KLEK_1856', 'KLEK_1857', 'KLEK_1858', 'KLEK_1859', 'KLEK_1860', 'KLEK_1861', 'KLEK_1862', 'KLEK_1863', 'KLEK_1864', 'KLEK_1865', 'KLEK_1866', 'KLEK_1867', 'KLEK_1868', 'KLEK_1869', 'KLEK_1870', 'KLEK_1871', 'KLEK_1872', 'KLEK_1873', 'KLEK_1874', 'KLEK_1875', 'KLEK_1876', 'KLEK_1877', 'KLEK_1878', 'KLEK_1879', 'KLEK_1880', 'KLEK_1881', 'KLEK_1882', 'KLEK_1883', 'KLEK_1884', 'KLEK_1885', 'KLEK_1886', 'KLEK_1887', 'KLEK_1888', 'KLEK_1889', 'KLEK_1890', 'KLEK_1891', 'KLEK_1892', 'KLEK_1893', 'KLEK_1894', 'KLEK_1895', 'KLEK_1896', 'KLEK_1897', 'KLEK_1898', 'KLEK_1899', 'KLEK_1900', 'KLEK_1901', 'KLEK_1902', 'KLEK_1903', 'KLEK_1904', 'KLEK_1905', 'KLEK_1906', 'KLEK_1907', 'KLEK_1908', 'KLEK_1909', 'KLEK_1910', 'KLEK_1911', 'KLEK_1912', 'KLEK_1913', 'KLEK_1914', 'KLEK_1915', 'KLEK_1916', 'KLEK_1917', 'KLEK_1918', 'KLEK_1919', 'KLEK_1920', 'KLEK_1921', 'KLEK_1922', 'KLEK_1923', 'KLEK_1924', 'KLEK_1925', 'KLEK_1926', 'KLEK_1927', 'KLEK_1928', 'KLEK_1929', 'KLEK_1930', 'KLEK_1931', 'KLEK_1932', 'KLEK_1933', 'KLEK_1934', 'KLEK_1935', 'KLEK_1936', 'KLEK_1937', 'KLEK_1938', 'KLEK_1939', 'KLEK_1940', 'KLEK_1941', 'KLEK_1942', 'KLEK_1943', 'KLEK_1944', 'KLEK_1945', 'KLEK_1946', 'KLEK_1947', 'KLEK_1948', 'KLEK_1949', 'KLEK_1950', 'KLEK_1951', 'KLEK_1952', 'KLEK_1953', 'KLEK_1954', 'KLEK_1955', 'KLEK_1956', 'KLEK_1957', 'KLEK_1958', 'KLEK_1959', 'KLEK_1960', 'KLEK_1961', 'KLEK_1962', 'KLEK_1963', 'KLEK_1964', 'KLEK_1965', 'KLEK_1966', 'KLEK_1967', 'KLEK_1968', 'KLEK_1969', 'KLEK_1970', 'KLEK_1971', 'KLEK_1972', 'KLEK_1973', 'KLEK_1974', 'KLEK_1975', 'KLEK_1976', 'KLEK_1977', 'KLEK_1978', 'KLEK_1979', 'KLEK_1980', 'KLEK_1981', 'KLEK_1982', 'KLEK_1983', 'KLEK_1984', 'KLEK_1985', 'KLEK_1986', 'KLEK_1987', 'KLEK_1988', 'KLEK_1989', 'KLEK_1990', 'KLEK_1991', 'KLEK_1992', 'KLEK_1993', 'KLEK_1994', 'KLEK_1995', 'KLEK_1996', 'KLEK_1997', 'KLEK_1998', 'KLEK_1999', 'KLEK_2000', 'KLEK_2001', 'KLEK_2002', 'KLEK_2003', 'KLEK_2004', 'KLEK_2005', 'KLEK_2006', 'KLEK_2007', 'KLEK_2008', 'KLEK_2009', 'KLEK_2010', 'KLEK_2011', 'KLEK_2012', 'KLEK_2013', 'KLEK_2014', 'KLEK_2015', 'KLEK_2016', 'KLEK_2017', 'KLEK_2018', 'KLEK_2019', 'KLEK_2020', 'KLEK_2021', 'KLEK_2022', 'KLEK_2023', 'KLEK_2024', 'KLEK_2025', 'KLEK_2026', 'KLEK_2027', 'KLEK_2028', 'KLEK_2029', 'KLEK_2030', 'KLEK_2031', 'KLEK_2032', 'KLEK_2033', 'KLEK_2034', 'KLEK_2035', 'KLEK_2036', 'KLEK_2037', 'KLEK_2038', 'KLEK_2039', 'KLEK_2040', 'KLEK_2041', 'KLEK_2042', 'KLEK_2043', 'KLEK_2044', 'KLEK_2045', 'KLEK_2046', 'KLEK_2047', 'KLEK_2048', 'KLEK_2049', 'KLEK_2050', 'KLEK_2051', 'KLEK_2052', 'KLEK_2053', 'KLEK_2054', 'KLEK_2055', 'KLEK_2056', 'KLEK_2057', 'KLEK_2058', 'KLEK_2059', 'KLEK_2060', 'KLEK_2061', 'KLEK_2062', 'KLEK_2063', 'KLEK_2064', 'KLEK_2065', 'KLEK_2066', 'KLEK_2067', 'KLEK_2068', 'KLEK_2069', 'KLEK_2070', 'KLEK_2071', 'KLEK_2072', 'KLEK_2073', 'KLEK_2074', 'KLEK_2075', 'KLEK_2076', 'KLEK_2077', 'KLEK_2078', 'KLEK_2079', 'KLEK_2080', 'KLEK_2081', 'KLEK_2082', 'KLEK_2083', 'KLEK_2084', 'KLEK_2085', 'KLEK_2086', 'KLEK_2087', 'KLEK_2088', 'KLEK_2089', 'KLEK_2090', 'KLEK_2091', 'KLEK_2092', 'KLEK_2093', 'KLEK_2094', 'KLEK_2095', 'KLEK_2096', 'KLEK_2097', 'KLEK_2098', 'KLEK_2099', 'KLEK_2100', 'KLEK_2101', 'KLEK_2102', 'KLEK_2103', 'KLEK_2104', 'KLEK_2105', 'KLEK_2106', 'KLEK_2107', 'KLEK_2108', 'KLEK_2109', 'KLEK_2110', 'KLEK_2111', 'KLEK_2112', 'KLEK_2113', 'KLEK_2114', 'KLEK_2115', 'KLEK_2116', 'KLEK_2117', 'KLEK_2118', 'KLEK_2119', 'KLEK_2120', 'KLEK_2121', 'KLEK_2122', 'KLEK_2123', 'KLEK_2124', 'KLEK_2125', 'KLEK_2126', 'KLEK_2127', 'KLEK_2128', 'KLEK_2129', 'KLEK_2130', 'KLEK_2131', 'KLEK_2132', 'KLEK_2133', 'KLEK_2134', 'KLEK_2135', 'KLEK_2136', 'KLEK_2137', 'KLEK_2138', 'KLEK_2139', 'KLEK_2140', 'KLEK_2141', 'KLEK_2142', 'KLEK_2143', 'KLEK_2144', 'KLEK_2145', 'KLEK_2146', 'KLEK_2147', 'KLEK_2148', 'KLEK_2149', 'KLEK_2150', 'KLEK_2151', 'KLEK_2152', 'KLEK_2153', 'KLEK_2154', 'KLEK_2155', 'KLEK_2156', 'KLEK_2157', 'KLEK_2158', 'KLEK_2159', 'KLEK_2160', 'KLEK_2161', 'KLEK_2162', 'KLEK_2163', 'KLEK_2164', 'KLEK_2165', 'KLEK_2166', 'KLEK_2167', 'KLEK_2168', 'KLEK_2169', 'KLEK_2170', 'KLEK_2171', 'KLEK_2172', 'KLEK_2173', 'KLEK_2174', 'KLEK_2175', 'KLEK_2176', 'KLEK_2177', 'KLEK_2178', 'KLEK_2179', 'KLEK_2180', 'KLEK_2181', 'KLEK_2182', 'KLEK_2183', 'KLEK_2184', 'KLEK_2185', 'KLEK_2186', 'KLEK_2187', 'KLEK_2188', 'KLEK_2189', 'KLEK_2190', 'KLEK_2191', 'KLEK_2192', 'KLEK_2193', 'KLEK_2194', 'KLEK_2195', 'KLEK_2196', 'KLEK_2197', 'KLEK_2198', 'KLEK_2199', 'KLEK_2200', 'KLEK_2201', 'KLEK_2202', 'KLEK_2203', 'KLEK_2204', 'KLEK_2205', 'KLEK_2206', 'KLEK_2207', 'KLEK_2208', 'KLEK_2209', 'KLEK_2210', 'KLEK_2211', 'KLEK_2212', 'KLEK_2213', 'KLEK_2214', 'KLEK_2215', 'KLEK_2216', 'KLEK_2217', 'KLEK_2218', 'KLEK_2219', 'KLEK_2220', 'KLEK_2221', 'KLEK_2222', 'KLEK_2223', 'KLEK_2224', 'KLEK_2225', 'KLEK_2226', 'KLEK_2227', 'KLEK_2228', 'KLEK_2229', 'KLEK_2230', 'KLEK_2231', 'KLEK_2232', 'KLEK_2233', 'KLEK_2234', 'KLEK_2235', 'KLEK_2236', 'KLEK_2237', 'KLEK_2238', 'KLEK_2239', 'KLEK_2240', 'KLEK_2241', 'KLEK_2242', 'KLEK_2243', 'KLEK_2244', 'KLEK_2245', 'KLEK_2246', 'KLEK_2247', 'KLEK_2248', 'KLEK_2249', 'KLEK_2250', 'KLEK_2251', 'KLEK_2252', 'KLEK_2253', 'KLEK_2254', 'KLEK_2255', 'KLEK_2256', 'KLEK_2257', 'KLEK_2258', 'KLEK_2259', 'KLEK_2260', 'KLEK_2261', 'KLEK_2262', 'KLEK_2263', 'KLEK_2264', 'KLEK_2265', 'KLEK_2266', 'KLEK_2267', 'KLEK_2268', 'KLEK_2269', 'KLEK_2270', 'KLEK_2271', 'KLEK_2272', 'KLEK_2273', 'KLEK_2274', 'KLEK_2275', 'KLEK_2276', 'KLEK_2277', 'KLEK_2278', 'KLEK_2279', 'KLEK_2280', 'KLEK_2281', 'KLEK_2282', 'KLEK_2283', 'KLEK_2284', 'KLEK_2285', 'KLEK_2286', 'KLEK_2287', 'KLEK_2288', 'KLEK_2289', 'KLEK_2290', 'KLEK_2291', 'KLEK_2292', 'KLEK_2293', 'KLEK_2294', 'KLEK_2295', 'KLEK_2296', 'KLEK_2297', 'KLEK_2298', 'KLEK_2299', 'KLEK_2300', 'KLEK_2301', 'KLEK_2302', 'KLEK_2303', 'KLEK_2304', 'KLEK_2305', 'KLEK_2306', 'KLEK_2307', 'KLEK_2308', 'KLEK_2309', 'KLEK_2310', 'KLEK_2311', 'KLEK_2312', 'KLEK_2313', 'KLEK_2314', 'KLEK_2315', 'KLEK_2316', 'KLEK_2317', 'KLEK_2318', 'KLEK_2319', 'KLEK_2320', 'KLEK_2321', 'KLEK_2322', 'KLEK_2323', 'KLEK_2324', 'KLEK_2325', 'KLEK_2326', 'KLEK_2327', 'KLEK_2328', 'KLEK_2329', 'KLEK_2330', 'KLEK_2331', 'KLEK_2332', 'KLEK_2333', 'KLEK_2334', 'KLEK_2335', 'KLEK_2336', 'KLEK_2337', 'KLEK_2338', 'KLEK_2339', 'KLEK_2340', 'KLEK_2341', 'KLEK_2342', 'KLEK_2343', 'KLEK_2344', 'KLEK_2345', 'KLEK_2346', 'KLEK_2347', 'KLEK_2348', 'KLEK_2349', 'KLEK_2350', 'KLEK_2351', 'KLEK_2352', 'KLEK_2353', 'KLEK_2354', 'KLEK_2355', 'KLEK_2356', 'KLEK_2357', 'KLEK_2358', 'KLEK_2359', 'KLEK_2360', 'KLEK_2361', 'KLEK_2362', 'KLEK_2363', 'KLEK_2364', 'KLEK_2365', 'KLEK_2366', 'KLEK_2367', 'KLEK_2368', 'KLEK_2369', 'KLEK_2370', 'KLEK_2371', 'KLEK_2372', 'KLEK_2373', 'KLEK_2374', 'KLEK_2375', 'KLEK_2376', 'KLEK_2377', 'KLEK_2378', 'KLEK_2379', 'KLEK_2380', 'KLEK_2381', 'KLEK_2382', 'KLEK_2383', 'KLEK_2384', 'KLEK_2385', 'KLEK_2386', 'KLEK_2387', 'KLEK_2388', 'KLEK_2389', 'KLEK_2390', 'KLEK_2391', 'KLEK_2392', 'KLEK_2393', 'KLEK_2394', 'KLEK_2395', 'KLEK_2396', 'KLEK_2397', 'KLEK_2398', 'KLEK_2399', 'KLEK_2400', 'KLEK_2401', 'KLEK_2402', 'KLEK_2403', 'KLEK_2404', 'KLEK_2405', 'KLEK_2406', 'KLEK_2407', 'KLEK_2408', 'KLEK_2409', 'KLEK_2410', 'KLEK_2411', 'KLEK_2412', 'KLEK_2413', 'KLEK_2414', 'KLEK_2415', 'KLEK_2416', 'KLEK_2417', 'KLEK_2418', 'KLEK_2419', 'KLEK_2420', 'KLEK_2421', 'KLEK_2422', 'KLEK_2423', 'KLEK_2424', 'KLEK_2425', 'KLEK_2426', 'KLEK_2427', 'KLEK_2428', 'KLEK_2429', 'KLEK_2430', 'KLEK_2431', 'KLEK_2432', 'KLEK_2433', 'KLEK_2434', 'KLEK_2435', 'KLEK_2436', 'KLEK_2437', 'KLEK_2438', 'KLEK_2439', 'KLEK_2440', 'KLEK_2441', 'KLEK_2442', 'KLEK_2443', 'KLEK_2444', 'KLEK_2445', 'KLEK_2446', 'KLEK_2447', 'KLEK_2448', 'KLEK_2449', 'KLEK_2450', 'KLEK_2451', 'KLEK_2452', 'KLEK_2453', 'KLEK_2454', 'KLEK_2455', 'KLEK_2456', 'KLEK_2457', 'KLEK_2458', 'KLEK_2459', 'KLEK_2460', 'KLEK_2461', 'KLEK_2462', 'KLEK_2463', 'KLEK_2464', 'KLEK_2465', 'KLEK_2466', 'KLEK_2467', 'KLEK_2468', 'KLEK_2469', 'KLEK_2470', 'KLEK_2471', 'KLEK_2472', 'KLEK_2473', 'KLEK_2474', 'KLEK_2475', 'KLEK_2476', 'KLEK_2477', 'KLEK_2478', 'KLEK_2479', 'KLEK_2480', 'KLEK_2481', 'KLEK_2482', 'KLEK_2483', 'KLEK_2484', 'KLEK_2485', 'KLEK_2486', 'KLEK_2487', 'KLEK_2488', 'KLEK_2489', 'KLEK_2490', 'KLEK_2491', 'KLEK_2492', 'KLEK_2493', 'KLEK_2494', 'KLEK_2495', 'KLEK_2496', 'KLEK_2497', 'KLEK_2498', 'KLEK_2499', 'KLEK_2500', 'KLEK_2501', 'KLEK_2502', 'KLEK_2503', 'KLEK_2504', 'KLEK_2505', 'KLEK_2506', 'KLEK_2507', 'KLEK_2508', 'KLEK_2509', 'KLEK_2510', 'KLEK_2511', 'KLEK_2512', 'KLEK_2513', 'KLEK_2514', 'KLEK_2515', 'KLEK_2516', 'KLEK_2517', 'KLEK_2518', 'KLEK_2519', 'KLEK_2520', 'KLEK_2521', 'KLEK_2522', 'KLEK_2523', 'KLEK_2524', 'KLEK_2525', 'KLEK_2526', 'KLEK_2527', 'KLEK_2528', 'KLEK_2529', 'KLEK_2530', 'KLEK_2531', 'KLEK_2532', 'KLEK_2533', 'KLEK_2534', 'KLEK_2535', 'KLEK_2536', 'KLEK_2537', 'KLEK_2538', 'KLEK_2539', 'KLEK_2540', 'KLEK_2541', 'KLEK_2542', 'KLEK_2543', 'KLEK_2544', 'KLEK_2545', 'KLEK_2546', 'KLEK_2547', 'KLEK_2548', 'KLEK_2549', 'KLEK_2550', 'KLEK_2551', 'KLEK_2552', 'KLEK_2553', 'KLEK_2554', 'KLEK_2555', 'KLEK_2556', 'KLEK_2557', 'KLEK_2558', 'KLEK_2559', 'KLEK_2560', 'KLEK_2561', 'KLEK_2562', 'KLEK_2563', 'KLEK_2564', 'KLEK_2565', 'KLEK_2566', 'KLEK_2567', 'KLEK_2568', 'KLEK_2569', 'KLEK_2570', 'KLEK_2571', 'KLEK_2572', 'KLEK_2573', 'KLEK_2574', 'KLEK_2575', 'KLEK_2576', 'KLEK_2577', 'KLEK_2578', 'KLEK_2579', 'KLEK_2580', 'KLEK_2581', 'KLEK_2582', 'KLEK_2583', 'KLEK_2584', 'KLEK_2585', 'KLEK_2586', 'KLEK_2587', 'KLEK_2588', 'KLEK_2589', 'KLEK_2590', 'KLEK_2591', 'KLEK_2592', 'KLEK_2593', 'KLEK_2594', 'KLEK_2595', 'KLEK_2596', 'KLEK_2597', 'KLEK_2598', 'KLEK_2599', 'KLEK_2600', 'KLEK_2601', 'KLEK_2602', 'KLEK_2603', 'KLEK_2604', 'KLEK_2605', 'KLEK_2606', 'KLEK_2607', 'KLEK_2608', 'KLEK_2609', 'KLEK_2610', 'KLEK_2611', 'KLEK_2612', 'KLEK_2613', 'KLEK_2614', 'KLEK_2615', 'KLEK_2616', 'KLEK_2617', 'KLEK_2618', 'KLEK_2619', 'KLEK_2620', 'KLEK_2621', 'KLEK_2622', 'KLEK_2623', 'KLEK_2624', 'KLEK_2625', 'KLEK_2626', 'KLEK_2627', 'KLEK_2628', 'KLEK_2629', 'KLEK_2630', 'KLEK_2631', 'KLEK_2632', 'KLEK_2633', 'KLEK_2634', 'KLEK_2635', 'KLEK_2636', 'KLEK_2637', 'KLEK_2638', 'KLEK_2639', 'KLEK_2640', 'KLEK_2641', 'KLEK_2642', 'KLEK_2643', 'KLEK_2644', 'KLEK_2645', 'KLEK_2646', 'KLEK_2647', 'KLEK_2648', 'KLEK_2649', 'KLEK_2650', 'KLEK_2651', 'KLEK_2652', 'KLEK_2653', 'KLEK_2654', 'KLEK_2655', 'KLEK_2656', 'KLEK_2657', 'KLEK_2658', 'KLEK_2659', 'KLEK_2660', 'KLEK_2661', 'KLEK_2662', 'KLEK_2663', 'KLEK_2664', 'KLEK_2665', 'KLEK_2666', 'KLEK_2667', 'KLEK_2668', 'KLEK_2669', 'KLEK_2670', 'KLEK_2671', 'KLEK_2672', 'KLEK_2673', 'KLEK_2674', 'KLEK_2675', 'KLEK_2676', 'KLEK_2677', 'KLEK_2678', 'KLEK_2679', 'KLEK_2680', 'KLEK_2681', 'KLEK_2682', 'KLEK_2683', 'KLEK_2684', 'KLEK_2685', 'KLEK_2686', 'KLEK_2687', 'KLEK_2688', 'KLEK_2689', 'KLEK_2690', 'KLEK_2691', 'KLEK_2692', 'KLEK_2693', 'KLEK_2694', 'KLEK_2695', 'KLEK_2696', 'KLEK_2697', 'KLEK_2698', 'KLEK_2699', 'KLEK_2700', 'KLEK_2701', 'KLEK_2702', 'KLEK_2703', 'KLEK_2704', 'KLEK_2705', 'KLEK_2706', 'KLEK_2707', 'KLEK_2708', 'KLEK_2709', 'KLEK_2710', 'KLEK_2711', 'KLEK_2712', 'KLEK_2713', 'KLEK_2714', 'KLEK_2715', 'KLEK_2716', 'KLEK_2717', 'KLEK_2718', 'KLEK_2719', 'KLEK_2720', 'KLEK_2721', 'KLEK_2722', 'KLEK_2723', 'KLEK_2724', 'KLEK_2725', 'KLEK_2726', 'KLEK_2727', 'KLEK_2728', 'KLEK_2729', 'KLEK_2730', 'KLEK_2731', 'KLEK_2732', 'KLEK_2733', 'KLEK_2734', 'KLEK_2735', 'KLEK_2736', 'KLEK_2737', 'KLEK_2738', 'KLEK_2739', 'KLEK_2740', 'KLEK_2741', 'KLEK_2742', 'KLEK_2743', 'KLEK_2744', 'KLEK_2745', 'KLEK_2746', 'KLEK_2747', 'KLEK_2748', 'KLEK_2749', 'KLEK_2750', 'KLEK_2751', 'KLEK_2752', 'KLEK_2753', 'KLEK_2754', 'KLEK_2755', 'KLEK_2756', 'KLEK_2757', 'KLEK_2758', 'KLEK_2759', 'KLEK_2760', 'KLEK_2761', 'KLEK_2762', 'KLEK_2763', 'KLEK_2764', 'KLEK_2765', 'KLEK_2766', 'KLEK_2767', 'KLEK_2768', 'KLEK_2769', 'KLEK_2770', 'KLEK_2771', 'KLEK_2772', 'KLEK_2773', 'KLEK_2774', 'KLEK_2775', 'KLEK_2776', 'KLEK_2777', 'KLEK_2778', 'KLEK_2779', 'KLEK_2780', 'KLEK_2781', 'KLEK_2782', 'KLEK_2783', 'KLEK_2784', 'KLEK_2785', 'KLEK_2786', 'KLEK_2787', 'KLEK_2788', 'KLEK_2789', 'KLEK_2790', 'KLEK_2791', 'KLEK_2792', 'KLEK_2793', 'KLEK_2794', 'KLEK_2795', 'KLEK_2796', 'KLEK_2797', 'KLEK_2798', 'KLEK_2799', 'KLEK_2800', 'KLEK_2801', 'KLEK_2802', 'KLEK_2803', 'KLEK_2804', 'KLEK_2805', 'KLEK_2806', 'KLEK_2807', 'KLEK_2808', 'KLEK_2809', 'KLEK_2810', 'KLEK_2811', 'KLEK_2812', 'KLEK_2813', 'KLEK_2814', 'KLEK_2815', 'KLEK_2816', 'KLEK_2817', 'KLEK_2818', 'KLEK_2819', 'KLEK_2820', 'KLEK_2821', 'KLEK_2822', 'KLEK_2823', 'KLEK_2824', 'KLEK_2825', 'KLEK_2826', 'KLEK_2827', 'KLEK_2828', 'KLEK_2829', 'KLEK_2830', 'KLEK_2831', 'KLEK_2832', 'KLEK_2833', 'KLEK_2834', 'KLEK_2835', 'KLEK_2836', 'KLEK_2837', 'KLEK_2838', 'KLEK_2839', 'KLEK_2840', 'KLEK_2841', 'KLEK_2842', 'KLEK_2843', 'KLEK_2844', 'KLEK_2845', 'KLEK_2846', 'KLEK_2847', 'KLEK_2848', 'KLEK_2849', 'KLEK_2850', 'KLEK_2851', 'KLEK_2852', 'KLEK_2853', 'KLEK_2854', 'KLEK_2855', 'KLEK_2856', 'KLEK_2857', 'KLEK_2858', 'KLEK_2859', 'KLEK_2860', 'KLEK_2861', 'KLEK_2862', 'KLEK_2863', 'KLEK_2864', 'KLEK_2865', 'KLEK_2866', 'KLEK_2867', 'KLEK_2868', 'KLEK_2869', 'KLEK_2870', 'KLEK_2871', 'KLEK_2872', 'KLEK_2873', 'KLEK_2874', 'KLEK_2875', 'KLEK_2876', 'KLEK_2877', 'KLEK_2878', 'KLEK_2879', 'KLEK_2880', 'KLEK_2881', 'KLEK_2882', 'KLEK_2883', 'KLEK_2884', 'KLEK_2885', 'KLEK_2886', 'KLEK_2887', 'KLEK_2888', 'KLEK_2889', 'KLEK_2890', 'KLEK_2891', 'KLEK_2892', 'KLEK_2893', 'KLEK_2894', 'KLEK_2895', 'KLEK_2896', 'KLEK_2897', 'KLEK_2898', 'KLEK_2899', 'KLEK_2900', 'KLEK_2901', 'KLEK_2902', 'KLEK_2903', 'KLEK_2904', 'KLEK_2905', 'KLEK_2906', 'KLEK_2907', 'KLEK_2908', 'KLEK_2909', 'KLEK_2910', 'KLEK_2911', 'KLEK_2912', 'KLEK_2913', 'KLEK_2914', 'KLEK_2915', 'KLEK_2916', 'KLEK_2917', 'KLEK_2918', 'KLEK_2919', 'KLEK_2920', 'KLEK_2921', 'KLEK_2922', 'KLEK_2923', 'KLEK_2924', 'KLEK_2925', 'KLEK_2926', 'KLEK_2927', 'KLEK_2928', 'KLEK_2929', 'KLEK_2930', 'KLEK_2931', 'KLEK_2932', 'KLEK_2933', 'KLEK_2934', 'KLEK_2935', 'KLEK_2936', 'KLEK_2937', 'KLEK_2938', 'KLEK_2939', 'KLEK_2940', 'KLEK_2941', 'KLEK_2942', 'KLEK_2943', 'KLEK_2944', 'KLEK_2945', 'KLEK_2946', 'KLEK_2947', 'KLEK_2948', 'KLEK_2949', 'KLEK_2950', 'KLEK_2951', 'KLEK_2952', 'KLEK_2953', 'KLEK_2954', 'KLEK_2955', 'KLEK_2956', 'KLEK_2957', 'KLEK_2958', 'KLEK_2959', 'KLEK_2960', 'KLEK_2961', 'KLEK_2962', 'KLEK_2963', 'KLEK_2964', 'KLEK_2965', 'KLEK_2966', 'KLEK_2967', 'KLEK_2968', 'KLEK_2969', 'KLEK_2970', 'KLEK_2971', 'KLEK_2972', 'KLEK_2973', 'KLEK_2974', 'KLEK_2975', 'KLEK_2976', 'KLEK_2977', 'KLEK_2978', 'KLEK_2979', 'KLEK_2980', 'KLEK_2981', 'KLEK_2982', 'KLEK_2983', 'KLEK_2984', 'KLEK_2985', 'KLEK_2986', 'KLEK_2987', 'KLEK_2988', 'KLEK_2989', 'KLEK_2990', 'KLEK_2991', 'KLEK_2992', 'KLEK_2993', 'KLEK_2994', 'KLEK_2995', 'KLEK_2996', 'KLEK_2997', 'KLEK_2998', 'KLEK_2999', 'KLEK_3000', 'KLEK_3001', 'KLEK_3002', 'KLEK_3003', 'KLEK_3004', 'KLEK_3005', 'KLEK_3006', 'KLEK_3007', 'KLEK_3008', 'KLEK_3009', 'KLEK_3010', 'KLEK_3011', 'KLEK_3012', 'KLEK_3013', 'KLEK_3014', 'KLEK_3015', 'KLEK_3016', 'KLEK_3017', 'KLEK_3018', 'KLEK_3019', 'KLEK_3020', 'KLEK_3021', 'KLEK_3022', 'KLEK_3023', 'KLEK_3024', 'KLEK_3025', 'KLEK_3026', 'KLEK_3027', 'KLEK_3028', 'KLEK_3029', 'KLEK_3030', 'KLEK_3031', 'KLEK_3032', 'KLEK_3033', 'KLEK_3034', 'KLEK_3035', 'KLEK_3036', 'KLEK_3037', 'KLEK_3038', 'KLEK_3039', 'KLEK_3040', 'KLEK_3041', 'KLEK_3042', 'KLEK_3043', 'KLEK_3044', 'KLEK_3045', 'KLEK_3046', 'KLEK_3047', 'KLEK_3048', 'KLEK_3049', 'KLEK_3050', 'KLEK_3051', 'KLEK_3052', 'KLEK_3053', 'KLEK_3054', 'KLEK_3055', 'KLEK_3056', 'KLEK_3057', 'KLEK_3058', 'KLEK_3059', 'KLEK_3060', 'KLEK_3061', 'KLEK_3062', 'KLEK_3063', 'KLEK_3064', 'KLEK_3065', 'KLEK_3066', 'KLEK_3067', 'KLEK_3068', 'KLEK_3069', 'KLEK_3070', 'KLEK_3071', 'KLEK_3072', 'KLEK_3073', 'KLEK_3074', 'KLEK_3075', 'KLEK_3076', 'KLEK_3077', 'KLEK_3078', 'KLEK_3079', 'KLEK_3080', 'KLEK_3081', 'KLEK_3082', 'KLEK_3083', 'KLEK_3084', 'KLEK_3085', 'KLEK_3086', 'KLEK_3087', 'KLEK_3088', 'KLEK_3089', 'KLEK_3090', 'KLEK_3091', 'KLEK_3092', 'KLEK_3093', 'KLEK_3094', 'KLEK_3095', 'KLEK_3096', 'KLEK_3097', 'KLEK_3098', 'KLEK_3099', 'KLEK_3100', 'KLEK_3101', 'KLEK_3102', 'KLEK_3103', 'KLEK_3104', 'KLEK_3105', 'KLEK_3106', 'KLEK_3107', 'KLEK_3108', 'KLEK_3109', 'KLEK_3110', 'KLEK_3111', 'KLEK_3112', 'KLEK_3113', 'KLEK_3114', 'KLEK_3115', 'KLEK_3116', 'KLEK_3117', 'KLEK_3118', 'KLEK_3119', 'KLEK_3120', 'KLEK_3121', 'KLEK_3122', 'KLEK_3123', 'KLEK_3124', 'KLEK_3125', 'KLEK_3126', 'KLEK_3127', 'KLEK_3128', 'KLEK_3129', 'KLEK_3130', 'KLEK_3131', 'KLEK_3132', 'KLEK_3133', 'KLEK_3134', 'KLEK_3135', 'KLEK_3136', 'KLEK_3137', 'KLEK_3138', 'KLEK_3139', 'KLEK_3140', 'KLEK_3141', 'KLEK_3142', 'KLEK_3143', 'KLEK_3144', 'KLEK_3145', 'KLEK_3146', 'KLEK_3147', 'KLEK_3148', 'KLEK_3149', 'KLEK_3150', 'KLEK_3151', 'KLEK_3152', 'KLEK_3153', 'KLEK_3154', 'KLEK_3155', 'KLEK_3156', 'KLEK_3157', 'KLEK_3158', 'KLEK_3159', 'KLEK_3160', 'KLEK_3161', 'KLEK_3162', 'KLEK_3163', 'KLEK_3164', 'KLEK_3165', 'KLEK_3166', 'KLEK_3167', 'KLEK_3168', 'KLEK_3169', 'KLEK_3170', 'KLEK_3171', 'KLEK_3172', 'KLEK_3173', 'KLEK_3174', 'KLEK_3175', 'KLEK_3176', 'KLEK_3177', 'KLEK_3178', 'KLEK_3179', 'KLEK_3180', 'KLEK_3181', 'KLEK_3182', 'KLEK_3183', 'KLEK_3184', 'KLEK_3185', 'KLEK_3186', 'KLEK_3187', 'KLEK_3188', 'KLEK_3189', 'KLEK_3190', 'KLEK_3191', 'KLEK_3192', 'KLEK_3193', 'KLEK_3194', 'KLEK_3195', 'KLEK_3196', 'KLEK_3197', 'KLEK_3198', 'KLEK_3199', 'KLEK_3200', 'KLEK_3201', 'KLEK_3202', 'KLEK_3203', 'KLEK_3204', 'KLEK_3205', 'KLEK_3206', 'KLEK_3207', 'KLEK_3208', 'KLEK_3209', 'KLEK_3210', 'KLEK_3211', 'KLEK_3212', 'KLEK_3213', 'KLEK_3214', 'KLEK_3215', 'KLEK_3216', 'KLEK_3217', 'KLEK_3218', 'KLEK_3219', 'KLEK_3220', 'KLEK_3221', 'KLEK_3222', 'KLEK_3223', 'KLEK_3224', 'KLEK_3225', 'KLEK_3226', 'KLEK_3227', 'KLEK_3228', 'KLEK_3229', 'KLEK_3230', 'KLEK_3231', 'KLEK_3232', 'KLEK_3233', 'KLEK_3234', 'KLEK_3235', 'KLEK_3236', 'KLEK_3237', 'KLEK_3238', 'KLEK_3239', 'KLEK_3240', 'KLEK_3241', 'KLEK_3242', 'KLEK_3243', 'KLEK_3244', 'KLEK_3245', 'KLEK_3246', 'KLEK_3247', 'KLEK_3248', 'KLEK_3249', 'KLEK_3250', 'KLEK_3251', 'KLEK_3252', 'KLEK_3253', 'KLEK_3254', 'KLEK_3255', 'KLEK_3256', 'KLEK_3257', 'KLEK_3258', 'KLEK_3259', 'KLEK_3260', 'KLEK_3261', 'KLEK_3262', 'KLEK_3263', 'KLEK_3264', 'KLEK_3265', 'KLEK_3266', 'KLEK_3267', 'KLEK_3268', 'KLEK_3269', 'KLEK_3270', 'KLEK_3271', 'KLEK_3272', 'KLEK_3273', 'KLEK_3274', 'KLEK_3275', 'KLEK_3276', 'KLEK_3277', 'KLEK_3278', 'KLEK_3279', 'KLEK_3280', 'KLEK_3281', 'KLEK_3282', 'KLEK_3283', 'KLEK_3284', 'KLEK_3285', 'KLEK_3286', 'KLEK_3287', 'KLEK_3288', 'KLEK_3289', 'KLEK_3290', 'KLEK_3291', 'KLEK_3292', 'KLEK_3293', 'KLEK_3294', 'KLEK_3295', 'KLEK_3296', 'KLEK_3297', 'KLEK_3298', 'KLEK_3299', 'KLEK_3300', 'KLEK_3301', 'KLEK_3302', 'KLEK_3303', 'KLEK_3304', 'KLEK_3305', 'KLEK_3306', 'KLEK_3307', 'KLEK_3308', 'KLEK_3309', 'KLEK_3310', 'KLEK_3311', 'KLEK_3312', 'KLEK_3313', 'KLEK_3314', 'KLEK_3315', 'KLEK_3316', 'KLEK_3317', 'KLEK_3318', 'KLEK_3319', 'KLEK_3320', 'KLEK_3321', 'KLEK_3322', 'KLEK_3323', 'KLEK_3324', 'KLEK_3325', 'KLEK_3326', 'KLEK_3327', 'KLEK_3328', 'KLEK_3329', 'KLEK_3330', 'KLEK_3331', 'KLEK_3332', 'KLEK_3333', 'KLEK_3334', 'KLEK_3335', 'KLEK_3336', 'KLEK_3337', 'KLEK_3338', 'KLEK_3339', 'KLEK_3340', 'KLEK_3341', 'KLEK_3342', 'KLEK_3343', 'KLEK_3344', 'KLEK_3345', 'KLEK_3346', 'KLEK_3347', 'KLEK_3348', 'KLEK_3349', 'KLEK_3350', 'KLEK_3351', 'KLEK_3352', 'KLEK_3353', 'KLEK_3354', 'KLEK_3355', 'KLEK_3356', 'KLEK_3357', 'KLEK_3358', 'KLEK_3359', 'KLEK_3360', 'KLEK_3361', 'KLEK_3362', 'KLEK_3363', 'KLEK_3364', 'KLEK_3365', 'KLEK_3366', 'KLEK_3367', 'KLEK_3368', 'KLEK_3369', 'KLEK_3370', 'KLEK_3371', 'KLEK_3372', 'KLEK_3373', 'KLEK_3374', 'KLEK_3375', 'KLEK_3376', 'KLEK_3377', 'KLEK_3378', 'KLEK_3379', 'KLEK_3380', 'KLEK_3381', 'KLEK_3382', 'KLEK_3383', 'KLEK_3384', 'KLEK_3385', 'KLEK_3386', 'KLEK_3387', 'KLEK_3388', 'KLEK_3389', 'KLEK_3390', 'KLEK_3391', 'KLEK_3392', 'KLEK_3393', 'KLEK_3394', 'KLEK_3395', 'KLEK_3396', 'KLEK_3397', 'KLEK_3398', 'KLEK_3399', 'KLEK_3400', 'KLEK_3401', 'KLEK_3402', 'KLEK_3403', 'KLEK_3404', 'KLEK_3405', 'KLEK_3406', 'KLEK_3407', 'KLEK_3408', 'KLEK_3409', 'KLEK_3410', 'KLEK_3411', 'KLEK_3412', 'KLEK_3413', 'KLEK_3414', 'KLEK_3415', 'KLEK_3416', 'KLEK_3417', 'KLEK_3418', 'KLEK_3419', 'KLEK_3420', 'KLEK_3421', 'KLEK_3422', 'KLEK_3423', 'KLEK_3424', 'KLEK_3425', 'KLEK_3426', 'KLEK_3427', 'KLEK_3428', 'KLEK_3429', 'KLEK_3430', 'KLEK_3431', 'KLEK_3432', 'KLEK_3433', 'KLEK_3434', 'KLEK_3435', 'KLEK_3436', 'KLEK_3437', 'KLEK_3438', 'KLEK_3439', 'KLEK_3440', 'KLEK_3441', 'KLEK_3442', 'KLEK_3443', 'KLEK_3444', 'KLEK_3445', 'KLEK_3446', 'KLEK_3447', 'KLEK_3448', 'KLEK_3449', 'KLEK_3450', 'KLEK_3451', 'KLEK_3452', 'KLEK_3453', 'KLEK_3454', 'KLEK_3455', 'KLEK_3456', 'KLEK_3457', 'KLEK_3458', 'KLEK_3459', 'KLEK_3460', 'KLEK_3461', 'KLEK_3462', 'KLEK_3463', 'KLEK_3464', 'KLEK_3465', 'KLEK_3466', 'KLEK_3467', 'KLEK_3468', 'KLEK_3469', 'KLEK_3470', 'KLEK_3471', 'KLEK_3472', 'KLEK_3473', 'KLEK_3474', 'KLEK_3475', 'KLEK_3476', 'KLEK_3477', 'KLEK_3478', 'KLEK_3479', 'KLEK_3480', 'KLEK_3481', 'KLEK_3482', 'KLEK_3483', 'KLEK_3484', 'KLEK_3485', 'KLEK_3486', 'KLEK_3487', 'KLEK_3488', 'KLEK_3489', 'KLEK_3490', 'KLEK_3491', 'KLEK_3492', 'KLEK_3493', 'KLEK_3494', 'KLEK_3495', 'KLEK_3496', 'KLEK_3497', 'KLEK_3498', 'KLEK_3499', 'KLEK_3500', 'KLEK_3501', 'KLEK_3502', 'KLEK_3503', 'KLEK_3504', 'KLEK_3505', 'KLEK_3506', 'KLEK_3507', 'KLEK_3508', 'KLEK_3509', 'KLEK_3510', 'KLEK_3511', 'KLEK_3512', 'KLEK_3513', 'KLEK_3514', 'KLEK_3515', 'KLEK_3516', 'KLEK_3517', 'KLEK_3518', 'KLEK_3519', 'KLEK_3520', 'KLEK_3521', 'KLEK_3522', 'KLEK_3523', 'KLEK_3524', 'KLEK_3525', 'KLEK_3526', 'KLEK_3527', 'KLEK_3528', 'KLEK_3529', 'KLEK_3530', 'KLEK_3531', 'KLEK_3532', 'KLEK_3533', 'KLEK_3534', 'KLEK_3535', 'KLEK_3536', 'KLEK_3537', 'KLEK_3538', 'KLEK_3539', 'KLEK_3540', 'KLEK_3541', 'KLEK_3542', 'KLEK_3543', 'KLEK_3544', 'KLEK_3545', 'KLEK_3546', 'KLEK_3547', 'KLEK_3548', 'KLEK_3549', 'KLEK_3550', 'KLEK_3551', 'KLEK_3552', 'KLEK_3553', 'KLEK_3554', 'KLEK_3555', 'KLEK_3556', 'KLEK_3557', 'KLEK_3558', 'KLEK_3559', 'KLEK_3560', 'KLEK_3561', 'KLEK_3562', 'KLEK_3563', 'KLEK_3564', 'KLEK_3565', 'KLEK_3566', 'KLEK_3567', 'KLEK_3568', 'KLEK_3569', 'KLEK_3570', 'KLEK_3571', 'KLEK_3572', 'KLEK_3573', 'KLEK_3574', 'KLEK_3575', 'KLEK_3576', 'KLEK_3577', 'KLEK_3578', 'KLEK_3579', 'KLEK_3580', 'KLEK_3581', 'KLEK_3582', 'KLEK_3583', 'KLEK_3584', 'KLEK_3585', 'KLEK_3586', 'KLEK_3587', 'KLEK_3588', 'KLEK_3589', 'KLEK_3590', 'KLEK_3591', 'KLEK_3592', 'KLEK_3593', 'KLEK_3594', 'KLEK_3595', 'KLEK_3596', 'KLEK_3597', 'KLEK_3598', 'KLEK_3599', 'KLEK_3600', 'KLEK_3601', 'KLEK_3602', 'KLEK_3603', 'KLEK_3604', 'KLEK_3605', 'KLEK_3606', 'KLEK_3607', 'KLEK_3608', 'KLEK_3609', 'KLEK_3610', 'KLEK_3611', 'KLEK_3612', 'KLEK_3613', 'KLEK_3614', 'KLEK_3615', 'KLEK_3616', 'KLEK_3617', 'KLEK_3618', 'KLEK_3619', 'KLEK_3620', 'KLEK_3621', 'KLEK_3622', 'KLEK_3623', 'KLEK_3624', 'KLEK_3625', 'KLEK_3626', 'KLEK_3627', 'KLEK_3628', 'KLEK_3629', 'KLEK_3630', 'KLEK_3631', 'KLEK_3632', 'KLEK_3633', 'KLEK_3634', 'KLEK_3635', 'KLEK_3636', 'KLEK_3637', 'KLEK_3638', 'KLEK_3639', 'KLEK_3640', 'KLEK_3641', 'KLEK_3642', 'KLEK_3643', 'KLEK_3644', 'KLEK_3645', 'KLEK_3646', 'KLEK_3647', 'KLEK_3648', 'KLEK_3649', 'KLEK_3650', 'KLEK_3651', 'KLEK_3652', 'KLEK_3653', 'KLEK_3654', 'KLEK_3655', 'KLEK_3656', 'KLEK_3657', 'KLEK_3658', 'KLEK_3659', 'KLEK_3660', 'KLEK_3661', 'KLEK_3662', 'KLEK_3663', 'KLEK_3664', 'KLEK_3665', 'KLEK_3666', 'KLEK_3667', 'KLEK_3668', 'KLEK_3669', 'KLEK_3670', 'KLEK_3671', 'KLEK_3672', 'KLEK_3673', 'KLEK_3674', 'KLEK_3675', 'KLEK_3676', 'KLEK_3677', 'KLEK_3678', 'KLEK_3679', 'KLEK_3680', 'KLEK_3681', 'KLEK_3682', 'KLEK_3683', 'KLEK_3684', 'KLEK_3685', 'KLEK_3686', 'KLEK_3687', 'KLEK_3688', 'KLEK_3689', 'KLEK_3690', 'KLEK_3691', 'KLEK_3692', 'KLEK_3693', 'KLEK_3694', 'KLEK_3695', 'KLEK_3696', 'KLEK_3697', 'KLEK_3698', 'KLEK_3699', 'KLEK_3700', 'KLEK_3701', 'KLEK_3702', 'KLEK_3703', 'KLEK_3704', 'KLEK_3705', 'KLEK_3706', 'KLEK_3707', 'KLEK_3708', 'KLEK_3709', 'KLEK_3710', 'KLEK_3711', 'KLEK_3712', 'KLEK_3713', 'KLEK_3714', 'KLEK_3715', 'KLEK_3716', 'KLEK_3717', 'KLEK_3718', 'KLEK_3719', 'KLEK_3720', 'KLEK_3721', 'KLEK_3722', 'KLEK_3723', 'KLEK_3724', 'KLEK_3725', 'KLEK_3726', 'KLEK_3727', 'KLEK_3728', 'KLEK_3729', 'KLEK_3730', 'KLEK_3731', 'KLEK_3732', 'KLEK_3733', 'KLEK_3734', 'KLEK_3735', 'KLEK_3736', 'KLEK_3737', 'KLEK_3738', 'KLEK_3739', 'KLEK_3740', 'KLEK_3741', 'KLEK_3742', 'KLEK_3743', 'KLEK_3744', 'KLEK_3745', 'KLEK_3746', 'KLEK_3747', 'KLEK_3748', 'KLEK_3749', 'KLEK_3750', 'KLEK_3751', 'KLEK_3752', 'KLEK_3753', 'KLEK_3754', 'KLEK_3755', 'KLEK_3756', 'KLEK_3757', 'KLEK_3758', 'KLEK_3759', 'KLEK_3760', 'KLEK_3761', 'KLEK_3762', 'KLEK_3763', 'KLEK_3764', 'KLEK_3765', 'KLEK_3766', 'KLEK_3767', 'KLEK_3768', 'KLEK_3769', 'KLEK_3770', 'KLEK_3771', 'KLEK_3772', 'KLEK_3773', 'KLEK_3774', 'KLEK_3775', 'KLEK_3776', 'KLEK_3777', 'KLEK_3778', 'KLEK_3779', 'KLEK_3780', 'KLEK_3781', 'KLEK_3782', 'KLEK_3783', 'KLEK_3784', 'KLEK_3785', 'KLEK_3786', 'KLEK_3787', 'KLEK_3788', 'KLEK_3789', 'KLEK_3790', 'KLEK_3791', 'KLEK_3792', 'KLEK_3793', 'KLEK_3794', 'KLEK_3795', 'KLEK_3796', 'KLEK_3797', 'KLEK_3798', 'KLEK_3799', 'KLEK_3800', 'KLEK_3801', 'KLEK_3802', 'KLEK_3803', 'KLEK_3804', 'KLEK_3805', 'KLEK_3806', 'KLEK_3807', 'KLEK_3808', 'KLEK_3809', 'KLEK_3810', 'KLEK_3811', 'KLEK_3812', 'KLEK_3813', 'KLEK_3814', 'KLEK_3815', 'KLEK_3816', 'KLEK_3817', 'KLEK_3818', 'KLEK_3819', 'KLEK_3820', 'KLEK_3821', 'KLEK_3822', 'KLEK_3823', 'KLEK_3824', 'KLEK_3825', 'KLEK_3826', 'KLEK_3827', 'KLEK_3828', 'KLEK_3829', 'KLEK_3830', 'KLEK_3831', 'KLEK_3832', 'KLEK_3833', 'KLEK_3834', 'KLEK_3835', 'KLEK_3836', 'KLEK_3837', 'KLEK_3838', 'KLEK_3839', 'KLEK_3840', 'KLEK_3841', 'KLEK_3842', 'KLEK_3843', 'KLEK_3844', 'KLEK_3845', 'KLEK_3846', 'KLEK_3847', 'KLEK_3848', 'KLEK_3849', 'KLEK_3850', 'KLEK_3851', 'KLEK_3852', 'KLEK_3853', 'KLEK_3854', 'KLEK_3855', 'KLEK_3856', 'KLEK_3857', 'KLEK_3858', 'KLEK_3859', 'KLEK_3860', 'KLEK_3861', 'KLEK_3862', 'KLEK_3863', 'KLEK_3864', 'KLEK_3865', 'KLEK_3866', 'KLEK_3867', 'KLEK_3868', 'KLEK_3869', 'KLEK_3870', 'KLEK_3871', 'KLEK_3872', 'KLEK_3873', 'KLEK_3874', 'KLEK_3875', 'KLEK_3876', 'KLEK_3877', 'KLEK_3878', 'KLEK_3879', 'KLEK_3880', 'KLEK_3881', 'KLEK_3882', 'KLEK_3883', 'KLEK_3884', 'KLEK_3885', 'KLEK_3886', 'KLEK_3887', 'KLEK_3888', 'KLEK_3889', 'KLEK_3890', 'KLEK_3891', 'KLEK_3892', 'KLEK_3893', 'KLEK_3894', 'KLEK_3895', 'KLEK_3896', 'KLEK_3897', 'KLEK_3898', 'KLEK_3899', 'KLEK_3900', 'KLEK_3901', 'KLEK_3902', 'KLEK_3903', 'KLEK_3904', 'KLEK_3905', 'KLEK_3906', 'KLEK_3907', 'KLEK_3908', 'KLEK_3909', 'KLEK_3910', 'KLEK_3911', 'KLEK_3912', 'KLEK_3913', 'KLEK_3914', 'KLEK_3915', 'KLEK_3916', 'KLEK_3917', 'KLEK_3918', 'KLEK_3919', 'KLEK_3920', 'KLEK_3921', 'KLEK_3922', 'KLEK_3923', 'KLEK_3924', 'KLEK_3925', 'KLEK_3926', 'KLEK_3927', 'KLEK_3928', 'KLEK_3929', 'KLEK_3930', 'KLEK_3931', 'KLEK_3932', 'KLEK_3933', 'KLEK_3934', 'KLEK_3935', 'KLEK_3936', 'KLEK_3937', 'KLEK_3938', 'KLEK_3939', 'KLEK_3940', 'KLEK_3941', 'KLEK_3942', 'KLEK_3943', 'KLEK_3944', 'KLEK_3945', 'KLEK_3946', 'KLEK_3947', 'KLEK_3948', 'KLEK_3949', 'KLEK_3950', 'KLEK_3951', 'KLEK_3952', 'KLEK_3953', 'KLEK_3954', 'KLEK_3955', 'KLEK_3956', 'KLEK_3957', 'KLEK_3958', 'KLEK_3959', 'KLEK_3960', 'KLEK_3961', 'KLEK_3962', 'KLEK_3963', 'KLEK_3964', 'KLEK_3965', 'KLEK_3966', 'KLEK_3967', 'KLEK_3968', 'KLEK_3969', 'KLEK_3970', 'KLEK_3971', 'KLEK_3972', 'KLEK_3973', 'KLEK_3974', 'KLEK_3975', 'KLEK_3976', 'KLEK_3977', 'KLEK_3978', 'KLEK_3979', 'KLEK_3980', 'KLEK_3981', 'KLEK_3982', 'KLEK_3983', 'KLEK_3984', 'KLEK_3985', 'KLEK_3986', 'KLEK_3987', 'KLEK_3988', 'KLEK_3989', 'KLEK_3990', 'KLEK_3991', 'KLEK_3992', 'KLEK_3993', 'KLEK_3994', 'KLEK_3995', 'KLEK_3996', 'KLEK_3997', 'KLEK_3998', 'KLEK_3999', 'KLEK_4000', 'KLEK_4001', 'KLEK_4002', 'KLEK_4003', 'KLEK_4004', 'KLEK_4005', 'KLEK_4006', 'KLEK_4007', 'KLEK_4008', 'KLEK_4009', 'KLEK_4010', 'KLEK_4011', 'KLEK_4012', 'KLEK_4013', 'KLEK_4014', 'KLEK_4015', 'KLEK_4016', 'KLEK_4017', 'KLEK_4018', 'KLEK_4019', 'KLEK_4020', 'KLEK_4021', 'KLEK_4022', 'KLEK_4023', 'KLEK_4024', 'KLEK_4025', 'KLEK_4026', 'KLEK_4027', 'KLEK_4028', 'KLEK_4029', 'KLEK_4030', 'KLEK_4031', 'KLEK_4032', 'KLEK_4033', 'KLEK_4034', 'KLEK_4035', 'KLEK_4036', 'KLEK_4037', 'KLEK_4038', 'KLEK_4039', 'KLEK_4040', 'KLEK_4041', 'KLEK_4042', 'KLEK_4043', 'KLEK_4044', 'KLEK_4045', 'KLEK_4046', 'KLEK_4047', 'KLEK_4048', 'KLEK_4049', 'KLEK_4050', 'KLEK_4051', 'KLEK_4052', 'KLEK_4053', 'KLEK_4054', 'KLEK_4055', 'KLEK_4056', 'KLEK_4057', 'KLEK_4058', 'KLEK_4059', 'KLEK_4060', 'KLEK_4061', 'KLEK_4062', 'KLEK_4063', 'KLEK_4064', 'KLEK_4065', 'KLEK_4066', 'KLEK_4067', 'KLEK_4068', 'KLEK_4069', 'KLEK_4070', 'KLEK_4071', 'KLEK_4072', 'KLEK_4073', 'KLEK_4074', 'KLEK_4075', 'KLEK_4076', 'KLEK_4077', 'KLEK_4078', 'KLEK_4079', 'KLEK_4080', 'KLEK_4081', 'KLEK_4082', 'KLEK_4083', 'KLEK_4084', 'KLEK_4085', 'KLEK_4086', 'KLEK_4087', 'KLEK_4088', 'KLEK_4089', 'KLEK_4090', 'KLEK_4091', 'KLEK_4092', 'KLEK_4093', 'KLEK_4094', 'KLEK_4095', 'KLEK_4096', 'KLEK_4097', 'KLEK_4098', 'KLEK_4099', 'KLEK_4100', 'KLEK_4101', 'KLEK_4102', 'KLEK_4103', 'KLEK_4104', 'KLEK_4105', 'KLEK_4106', 'KLEK_4107', 'KLEK_4108', 'KLEK_4109', 'KLEK_4110', 'KLEK_4111', 'KLEK_4112', 'KLEK_4113', 'KLEK_4114', 'KLEK_4115', 'KLEK_4116', 'KLEK_4117', 'KLEK_4118', 'KLEK_4119', 'KLEK_4120', 'KLEK_4121', 'KLEK_4122', 'KLEK_4123', 'KLEK_4124', 'KLEK_4125', 'KLEK_4126', 'KLEK_4127', 'KLEK_4128', 'KLEK_4129', 'KLEK_4130', 'KLEK_4131', 'KLEK_4132', 'KLEK_4133', 'KLEK_4134', 'KLEK_4135', 'KLEK_4136', 'KLEK_4137', 'KLEK_4138', 'KLEK_4139', 'KLEK_4140', 'KLEK_4141', 'KLEK_4142', 'KLEK_4143', 'KLEK_4144', 'KLEK_4145', 'KLEK_4146', 'KLEK_4147', 'KLEK_4148', 'KLEK_4149', 'KLEK_4150', 'KLEK_4151', 'KLEK_4152', 'KLEK_4153', 'KLEK_4154', 'KLEK_4155', 'KLEK_4156', 'KLEK_4157', 'KLEK_4158', 'KLEK_4159', 'KLEK_4160', 'KLEK_4161', 'KLEK_4162', 'KLEK_4163', 'KLEK_4164', 'KLEK_4165', 'KLEK_4166', 'KLEK_4167', 'KLEK_4168', 'KLEK_4169', 'KLEK_4170', 'KLEK_4171', 'KLEK_4172', 'KLEK_4173', 'KLEK_4174', 'KLEK_4175', 'KLEK_4176', 'KLEK_4177', 'KLEK_4178', 'KLEK_4179', 'KLEK_4180', 'KLEK_4181', 'KLEK_4182', 'KLEK_4183', 'KLEK_4184', 'KLEK_4185', 'KLEK_4186', 'KLEK_4187', 'KLEK_4188', 'KLEK_4189', 'KLEK_4190', 'KLEK_4191', 'KLEK_4192', 'KLEK_4193', 'KLEK_4194', 'KLEK_4195', 'KLEK_4196', 'KLEK_4197', 'KLEK_4198', 'KLEK_4199', 'KLEK_4200', 'KLEK_4201', 'KLEK_4202', 'KLEK_4203', 'KLEK_4204', 'KLEK_4205', 'KLEK_4206', 'KLEK_4207', 'KLEK_4208', 'KLEK_4209', 'KLEK_4210', 'KLEK_4211', 'KLEK_4212', 'KLEK_4213', 'KLEK_4214', 'KLEK_4215', 'KLEK_4216', 'KLEK_4217', 'KLEK_4218', 'KLEK_4219', 'KLEK_4220', 'KLEK_4221', 'KLEK_4222', 'KLEK_4223', 'KLEK_4224', 'KLEK_4225', 'KLEK_4226', 'KLEK_4227', 'KLEK_4228', 'KLEK_4229', 'KLEK_4230', 'KLEK_4231', 'KLEK_4232', 'KLEK_4233', 'KLEK_4234', 'KLEK_4235', 'KLEK_4236', 'KLEK_4237', 'KLEK_4238', 'KLEK_4239', 'KLEK_4240', 'KLEK_4241', 'KLEK_4242', 'KLEK_4243', 'KLEK_4244', 'KLEK_4245', 'KLEK_4246', 'KLEK_4247', 'KLEK_4248', 'KLEK_4249', 'KLEK_4250', 'KLEK_4251', 'KLEK_4252', 'KLEK_4253', 'KLEK_4254', 'KLEK_4255', 'KLEK_4256', 'KLEK_4257', 'KLEK_4258', 'KLEK_4259', 'KLEK_4260', 'KLEK_4261', 'KLEK_4262', 'KLEK_4263', 'KLEK_4264', 'KLEK_4265', 'KLEK_4266', 'KLEK_4267', 'KLEK_4268', 'KLEK_4269', 'KLEK_4270', 'KLEK_4271', 'KLEK_4272', 'KLEK_4273', 'KLEK_4274', 'KLEK_4275', 'KLEK_4276', 'KLEK_4277', 'KLEK_4278', 'KLEK_4279', 'KLEK_4280', 'KLEK_4281', 'KLEK_4282', 'KLEK_4283', 'KLEK_4284', 'KLEK_4285', 'KLEK_4286', 'KLEK_4287', 'KLEK_4288', 'KLEK_4289', 'KLEK_4290', 'KLEK_4291', 'KLEK_4292', 'KLEK_4293', 'KLEK_4294', 'KLEK_4295', 'KLEK_4296', 'KLEK_4297', 'KLEK_4298', 'KLEK_4299', 'KLEK_4300', 'KLEK_4301', 'KLEK_4302', 'KLEK_4303', 'KLEK_4304', 'KLEK_4305', 'KLEK_4306', 'KLEK_4307', 'KLEK_4308', 'KLEK_4309', 'KLEK_4310', 'KLEK_4311', 'KLEK_4312', 'KLEK_4313', 'KLEK_4314', 'KLEK_4315', 'KLEK_4316', 'KLEK_4317', 'KLEK_4318', 'KLEK_4319', 'KLEK_4320', 'KLEK_4321', 'KLEK_4322', 'KLEK_4323', 'KLEK_4324', 'KLEK_4325', 'KLEK_4326', 'KLEK_4327', 'KLEK_4328', 'KLEK_4329', 'KLEK_4330', 'KLEK_4331', 'KLEK_4332', 'KLEK_4333', 'KLEK_4334', 'KLEK_4335', 'KLEK_4336', 'KLEK_4337', 'KLEK_4338', 'KLEK_4339', 'KLEK_4340', 'KLEK_4341', 'KLEK_4342', 'KLEK_4343', 'KLEK_4344', 'KLEK_4345', 'KLEK_4346', 'KLEK_4347', 'KLEK_4348', 'KLEK_4349', 'KLEK_4350', 'KLEK_4351', 'KLEK_4352', 'KLEK_4353', 'KLEK_4354', 'KLEK_4355', 'KLEK_4356', 'KLEK_4357', 'KLEK_4358', 'KLEK_4359', 'KLEK_4360', 'KLEK_4361', 'KLEK_4362', 'KLEK_4363', 'KLEK_4364', 'KLEK_4365', 'KLEK_4366', 'KLEK_4367', 'KLEK_4368', 'KLEK_4369', 'KLEK_4370', 'KLEK_4371', 'KLEK_4372', 'KLEK_4373', 'KLEK_4374', 'KLEK_4375', 'KLEK_4376', 'KLEK_4377', 'KLEK_4378', 'KLEK_4379', 'KLEK_4380', 'KLEK_4381', 'KLEK_4382', 'KLEK_4383', 'KLEK_4384', 'KLEK_4385', 'KLEK_4386', 'KLEK_4387', 'KLEK_4388', 'KLEK_4389', 'KLEK_4390', 'KLEK_4391', 'KLEK_4392', 'KLEK_4393', 'KLEK_4394', 'KLEK_4395', 'KLEK_4396', 'KLEK_4397', 'KLEK_4398', 'KLEK_4399', 'KLEK_4400', 'KLEK_4401', 'KLEK_4402', 'KLEK_4403', 'KLEK_4404', 'KLEK_4405', 'KLEK_4406', 'KLEK_4407', 'KLEK_4408', 'KLEK_4409', 'KLEK_4410', 'KLEK_4411', 'KLEK_4412', 'KLEK_4413', 'KLEK_4414', 'KLEK_4415', 'KLEK_4416', 'KLEK_4417', 'KLEK_4418', 'KLEK_4419', 'KLEK_4420', 'KLEK_4421', 'KLEK_4422', 'KLEK_4423', 'KLEK_4424', 'KLEK_4425', 'KLEK_4426', 'KLEK_4427', 'KLEK_4428', 'KLEK_4429', 'KLEK_4430', 'KLEK_4431', 'KLEK_4432', 'KLEK_4433', 'KLEK_4434', 'KLEK_4435', 'KLEK_4436', 'KLEK_4437', 'KLEK_4438', 'KLEK_4439', 'KLEK_4440', 'KLEK_4441', 'KLEK_4442', 'KLEK_4443', 'KLEK_4444', 'KLEK_4445', 'KLEK_4446', 'KLEK_4447', 'KLEK_4448', 'KLEK_4449', 'KLEK_4450', 'KLEK_4451', 'KLEK_4452', 'KLEK_4453', 'KLEK_4454', 'KLEK_4455', 'KLEK_4456', 'KLEK_4457', 'KLEK_4458', 'KLEK_4459', 'KLEK_4460', 'KLEK_4461', 'KLEK_4462', 'KLEK_4463', 'KLEK_4464', 'KLEK_4465', 'KLEK_4466', 'KLEK_4467', 'KLEK_4468', 'KLEK_4469', 'KLEK_4470', 'KLEK_4471', 'KLEK_4472', 'KLEK_4473', 'KLEK_4474', 'KLEK_4475', 'KLEK_4476', 'KLEK_4477', 'KLEK_4478', 'KLEK_4479', 'KLEK_4480', 'KLEK_4481', 'KLEK_4482', 'KLEK_4483', 'KLEK_4484', 'KLEK_4485', 'KLEK_4486', 'KLEK_4487', 'KLEK_4488', 'KLEK_4489', 'KLEK_4490', 'KLEK_4491', 'KLEK_4492', 'KLEK_4493', 'KLEK_4494', 'KLEK_4495', 'KLEK_4496', 'KLEK_4497', 'KLEK_4498', 'KLEK_4499', 'KLEK_4500', 'KLEK_4501', 'KLEK_4502', 'KLEK_4503', 'KLEK_4504', 'KLEK_4505', 'KLEK_4506', 'KLEK_4507', 'KLEK_4508', 'KLEK_4509', 'KLEK_4510', 'KLEK_4511', 'KLEK_4512', 'KLEK_4513', 'KLEK_4514', 'KLEK_4515', 'KLEK_4516', 'KLEK_4517', 'KLEK_4518', 'KLEK_4519', 'KLEK_4520', 'KLEK_4521', 'KLEK_4522', 'KLEK_4523', 'KLEK_4524', 'KLEK_4525', 'KLEK_4526', 'KLEK_4527', 'KLEK_4528', 'KLEK_4529', 'KLEK_4530', 'KLEK_4531', 'KLEK_4532', 'KLEK_4533', 'KLEK_4534', 'KLEK_4535', 'KLEK_4536', 'KLEK_4537', 'KLEK_4538', 'KLEK_4539', 'KLEK_4540', 'KLEK_4541', 'KLEK_4542', 'KLEK_4543', 'KLEK_4544', 'KLEK_4545', 'KLEK_4546', 'KLEK_4547', 'KLEK_4548', 'KLEK_4549', 'KLEK_4550', 'KLEK_4551', 'KLEK_4552', 'KLEK_4553', 'KLEK_4554', 'KLEK_4555', 'KLEK_4556', 'KLEK_4557', 'KLEK_4558', 'KLEK_4559', 'KLEK_4560', 'KLEK_4561', 'KLEK_4562', 'KLEK_4563', 'KLEK_4564', 'KLEK_4565', 'KLEK_4566', 'KLEK_4567', 'KLEK_4568', 'KLEK_4569', 'KLEK_4570', 'KLEK_4571', 'KLEK_4572', 'KLEK_4573', 'KLEK_4574', 'KLEK_4575', 'KLEK_4576', 'KLEK_4577', 'KLEK_4578', 'KLEK_4579', 'KLEK_4580', 'KLEK_4581', 'KLEK_4582', 'KLEK_4583', 'KLEK_4584', 'KLEK_4585', 'KLEK_4586', 'KLEK_4587', 'KLEK_4588', 'KLEK_4589', 'KLEK_4590', 'KLEK_4591', 'KLEK_4592', 'KLEK_4593', 'KLEK_4594', 'KLEK_4595', 'KLEK_4596', 'KLEK_4597', 'KLEK_4598', 'KLEK_4599', 'KLEK_4600', 'KLEK_4601', 'KLEK_4602', 'KLEK_4603', 'KLEK_4604', 'KLEK_4605', 'KLEK_4606', 'KLEK_4607', 'KLEK_4608', 'KLEK_4609', 'KLEK_4610', 'KLEK_4611', 'KLEK_4612', 'KLEK_4613', 'KLEK_4614', 'KLEK_4615', 'KLEK_4616', 'KLEK_4617', 'KLEK_4618', 'KLEK_4619', 'KLEK_4620', 'KLEK_4621', 'KLEK_4622', 'KLEK_4623', 'KLEK_4624', 'KLEK_4625', 'KLEK_4626', 'KLEK_4627', 'KLEK_4628', 'KLEK_4629', 'KLEK_4630', 'KLEK_4631', 'KLEK_4632', 'KLEK_4633', 'KLEK_4634', 'KLEK_4635', 'KLEK_4636', 'KLEK_4637', 'KLEK_4638', 'KLEK_4639', 'KLEK_4640', 'KLEK_4641', 'KLEK_4642', 'KLEK_4643', 'KLEK_4644', 'KLEK_4645', 'KLEK_4646', 'KLEK_4647', 'KLEK_4648', 'KLEK_4649', 'KLEK_4650', 'KLEK_4651', 'KLEK_4652', 'KLEK_4653', 'KLEK_4654', 'KLEK_4655', 'KLEK_4656', 'KLEK_4657', 'KLEK_4658', 'KLEK_4659', 'KLEK_4660', 'KLEK_4661', 'KLEK_4662', 'KLEK_4663', 'KLEK_4664', 'KLEK_4665', 'KLEK_4666', 'KLEK_4667', 'KLEK_4668', 'KLEK_4669', 'KLEK_4670', 'KLEK_4671', 'KLEK_4672', 'KLEK_4673', 'KLEK_4674', 'KLEK_4675', 'KLEK_4676', 'KLEK_4677', 'KLEK_4678', 'KLEK_4679', 'KLEK_4680', 'KLEK_4681', 'KLEK_4682', 'KLEK_4683', 'KLEK_4684', 'KLEK_4685', 'KLEK_4686', 'KLEK_4687', 'KLEK_4688', 'KLEK_4689', 'KLEK_4690', 'KLEK_4691', 'KLEK_4692', 'KLEK_4693', 'KLEK_4694', 'KLEK_4695', 'KLEK_4696', 'KLEK_4697', 'KLEK_4698', 'KLEK_4699', 'KLEK_4700', 'KLEK_4701', 'KLEK_4702', 'KLEK_4703', 'KLEK_4704', 'KLEK_4705', 'KLEK_4706', 'KLEK_4707', 'KLEK_4708', 'KLEK_4709', 'KLEK_4710', 'KLEK_4711', 'KLEK_4712', 'KLEK_4713', 'KLEK_4714', 'KLEK_4715', 'KLEK_4716', 'KLEK_4717', 'KLEK_4718', 'KLEK_4719', 'KLEK_4720', 'KLEK_4721', 'KLEK_4722', 'KLEK_4723', 'KLEK_4724', 'KLEK_4725', 'KLEK_4726', 'KLEK_4727', 'KLEK_4728', 'KLEK_4729', 'KLEK_4730', 'KLEK_4731', 'KLEK_4732', 'KLEK_4733', 'KLEK_4734', 'KLEK_4735', 'KLEK_4736', 'KLEK_4737', 'KLEK_4738', 'KLEK_4739', 'KLEK_4740', 'KLEK_4741', 'KLEK_4742', 'KLEK_4743', 'KLEK_4744', 'KLEK_4745', 'KLEK_4746', 'KLEK_4747', 'KLEK_4748', 'KLEK_4749', 'KLEK_4750', 'KLEK_4751', 'KLEK_4752', 'KLEK_4753', 'KLEK_4754', 'KLEK_4755', 'KLEK_4756', 'KLEK_4757', 'KLEK_4758', 'KLEK_4759', 'KLEK_4760', 'KLEK_4761', 'KLEK_4762', 'KLEK_4763', 'KLEK_4764', 'KLEK_4765', 'KLEK_4766', 'KLEK_4767', 'KLEK_4768', 'KLEK_4769', 'KLEK_4770', 'KLEK_4771', 'KLEK_4772', 'KLEK_4773', 'KLEK_4774', 'KLEK_4775', 'KLEK_4776', 'KLEK_4777', 'KLEK_4778', 'KLEK_4779', 'KLEK_4780', 'KLEK_4781', 'KLEK_4782', 'KLEK_4783', 'KLEK_4784', 'KLEK_4785', 'KLEK_4786', 'KLEK_4787', 'KLEK_4788', 'KLEK_4789', 'KLEK_4790', 'KLEK_4791', 'KLEK_4792', 'KLEK_4793', 'KLEK_4794', 'KLEK_4795', 'KLEK_4796', 'KLEK_4797', 'KLEK_4798', 'KLEK_4799', 'KLEK_4800', 'KLEK_4801', 'KLEK_4802', 'KLEK_4803', 'KLEK_4804', 'KLEK_4805', 'KLEK_4806', 'KLEK_4807', 'KLEK_4808', 'KLEK_4809', 'KLEK_4810', 'KLEK_4811', 'KLEK_4812', 'KLEK_4813', 'KLEK_4814', 'KLEK_4815', 'KLEK_4816', 'KLEK_4817', 'KLEK_4818', 'KLEK_4819', 'KLEK_4820', 'KLEK_4821', 'KLEK_4822', 'KLEK_4823', 'KLEK_4824', 'KLEK_4825', 'KLEK_4826', 'KLEK_4827', 'KLEK_4828', 'KLEK_4829', 'KLEK_4830', 'KLEK_4831', 'KLEK_4832', 'KLEK_4833', 'KLEK_4834', 'KLEK_4835', 'KLEK_4836', 'KLEK_4837', 'KLEK_4838', 'KLEK_4839', 'KLEK_4840', 'KLEK_4841', 'KLEK_4842', 'KLEK_4843', 'KLEK_4844', 'KLEK_4845', 'KLEK_4846', 'KLEK_4847', 'KLEK_4848', 'KLEK_4849', 'KLEK_4850', 'KLEK_4851', 'KLEK_4852', 'KLEK_4853', 'KLEK_4854', 'KLEK_4855', 'KLEK_4856', 'KLEK_4857', 'KLEK_4858', 'KLEK_4859']),\n",
       " dict_values([1423, 186, 0, 0, 0, 0, 4, 0, 0, 24, 0, 0, 4, 223, 0, 88, 242, 20, 0, 155, 0, 0, 0, 0, 2, 0, 0, 0, 0, 0, 0, 0, 32, 45, 0, 0, 1, 0, 0, 0, 0, 0, 0, 1, 11, 0, 0, 1, 0, 0, 0, 1, 0, 0, 0, 3, 0, 0, 24, 0, 0, 0, 0, 0, 0, 0, 56, 1, 11, 0, 0, 1, 4, 0, 0, 0, 0, 0, 0, 0, 0, 0, 0, 0, 0, 0, 0, 0, 0, 0, 2, 60, 2, 0, 0, 0, 0, 7, 0, 0, 0, 7, 0, 0, 0, 0, 0, 0, 0, 0, 2, 0, 2, 0, 0, 0, 0, 0, 1, 0, 0, 0, 0, 0, 0, 15, 0, 0, 0, 0, 0, 0, 5, 0, 0, 4, 0, 47, 0, 0, 0, 0, 0, 0, 0, 0, 0, 0, 0, 0, 0, 0, 0, 0, 0, 0, 0, 0, 0, 0, 3, 0, 0, 0, 0, 0, 0, 0, 0, 0, 0, 0, 0, 0, 0, 0, 0, 0, 0, 0, 0, 0, 0, 0, 0, 0, 0, 0, 0, 1, 0, 0, 0, 0, 2, 0, 0, 0, 0, 0, 8, 0, 8, 1, 8, 0, 0, 83, 0, 0, 0, 4, 0, 46, 0, 7, 0, 4, 0, 0, 0, 0, 37, 51, 0, 23, 0, 60, 0, 0, 0, 257, 0, 0, 0, 0, 0, 0, 0, 0, 0, 0, 0, 0, 0, 0, 0, 0, 0, 0, 0, 0, 0, 0, 0, 0, 0, 0, 0, 6, 0, 0, 3, 18, 0, 0, 0, 0, 0, 0, 0, 0, 0, 0, 0, 0, 0, 0, 0, 0, 0, 0, 0, 0, 0, 0, 0, 0, 0, 0, 0, 0, 2, 0, 0, 0, 2626, 1382, 152, 190, 0, 132, 21, 2, 1, 1, 6, 0, 0, 4, 0, 5, 0, 2, 0, 0, 0, 0, 0, 0, 0, 0, 0, 0, 2, 165, 43, 0, 0, 0, 123, 1, 0, 0, 1, 157, 0, 5, 46, 3, 2573, 0, 0, 1122, 0, 700, 184, 82, 6, 8, 17, 0, 34, 11, 68, 0, 0, 0, 0, 125, 1, 14, 193, 78, 49, 1, 0, 117, 31, 0, 0, 0, 0, 0, 233, 1, 0, 0, 0, 0, 12, 163, 545, 0, 0, 0, 123, 0, 0, 3, 0, 2, 0, 4, 0, 59, 69, 3, 0, 2, 211, 0, 84, 0, 0, 0, 0, 0, 0, 5, 0, 0, 15, 3, 0, 0, 0, 46, 0, 0, 1, 2, 0, 1, 63, 254, 113, 13, 1, 11, 0, 40, 121, 12, 131, 0, 70, 1620, 0, 4, 0, 12, 0, 656, 0, 0, 2, 0, 0, 0, 0, 0, 5, 0, 0, 0, 5, 31, 3, 0, 0, 0, 0, 0, 0, 251, 728, 0, 0, 5, 0, 0, 0, 0, 0, 294, 0, 0, 0, 250, 11, 0, 16, 0, 0, 2, 0, 7, 0, 0, 0, 61, 69, 12, 0, 1, 1, 0, 0, 0, 0, 0, 2, 463, 0, 173, 0, 1, 0, 0, 0, 0, 0, 0, 0, 0, 0, 0, 0, 0, 0, 0, 0, 0, 0, 0, 0, 0, 0, 0, 0, 0, 0, 0, 0, 0, 0, 0, 0, 0, 0, 0, 0, 0, 0, 0, 2, 0, 0, 2, 20, 0, 0, 20, 0, 0, 6, 0, 0, 0, 0, 1, 0, 0, 0, 64, 0, 0, 3, 2, 1, 0, 0, 2, 0, 1, 10, 1, 2, 0, 0, 37, 1, 0, 2, 0, 0, 2, 0, 6, 0, 14, 3, 0, 1, 1, 0, 0, 21, 0, 9, 0, 0, 0, 2146, 0, 20, 151, 0, 492, 0, 40, 3, 0, 0, 0, 0, 0, 0, 1621, 151, 6, 13, 0, 4, 0, 4, 0, 14, 3, 3, 0, 0, 0, 0, 0, 0, 199, 1, 65, 56, 11, 0, 1, 13, 0, 1119, 44, 2, 0, 0, 23, 70, 17, 0, 0, 0, 0, 5, 0, 0, 0, 12, 6, 49, 0, 0, 0, 1603, 0, 0, 28, 0, 0, 0, 0, 1071, 205, 0, 0, 0, 12, 21, 0, 0, 0, 0, 0, 0, 0, 0, 0, 0, 0, 0, 0, 0, 0, 0, 0, 0, 0, 0, 0, 0, 7, 0, 0, 0, 0, 0, 0, 0, 0, 0, 0, 0, 0, 0, 0, 0, 0, 0, 0, 0, 0, 0, 0, 0, 0, 0, 0, 0, 0, 0, 0, 0, 0, 0, 0, 0, 0, 0, 0, 0, 0, 0, 0, 0, 0, 0, 7, 3, 10, 0, 0, 0, 182, 0, 0, 41, 6, 0, 0, 0, 1, 0, 0, 0, 0, 0, 0, 14, 2, 0, 0, 0, 1, 0, 0, 0, 0, 6, 0, 0, 199, 0, 4, 0, 1, 0, 0, 0, 0, 0, 0, 0, 0, 0, 0, 0, 4, 0, 0, 0, 0, 0, 0, 0, 9, 0, 0, 0, 0, 0, 0, 0, 0, 0, 0, 14, 5, 4, 0, 0, 2, 0, 0, 2, 0, 0, 0, 0, 0, 0, 0, 1, 0, 558, 32, 0, 6, 0, 0, 0, 0, 0, 0, 0, 0, 0, 1, 0, 0, 0, 0, 0, 0, 0, 0, 0, 0, 0, 0, 0, 4, 0, 0, 0, 0, 0, 0, 0, 5, 0, 0, 0, 0, 0, 0, 0, 0, 0, 0, 1, 67, 1, 0, 0, 23, 18, 0, 0, 0, 0, 0, 0, 0, 0, 0, 0, 0, 0, 0, 0, 0, 0, 1, 0, 0, 3, 3, 0, 0, 0, 0, 0, 0, 3, 0, 0, 0, 1, 8, 0, 0, 0, 0, 0, 0, 3, 1, 0, 0, 0, 0, 0, 0, 0, 0, 0, 0, 0, 0, 0, 0, 0, 0, 0, 0, 0, 0, 0, 0, 0, 0, 0, 0, 0, 0, 0, 0, 0, 0, 0, 7, 0, 0, 0, 0, 0, 6, 11, 0, 0, 0, 0, 1, 0, 0, 0, 0, 1, 0, 0, 0, 1, 0, 3, 0, 2, 64, 2, 0, 1, 0, 0, 0, 0, 0, 0, 0, 0, 0, 0, 1, 2, 3, 0, 0, 0, 0, 15, 0, 0, 0, 0, 4, 2, 0, 0, 0, 0, 0, 0, 0, 0, 0, 0, 0, 0, 0, 0, 0, 0, 0, 2, 0, 0, 0, 0, 0, 0, 0, 0, 0, 0, 0, 1, 0, 0, 0, 0, 0, 1, 0, 0, 0, 0, 0, 0, 0, 0, 0, 0, 1, 0, 0, 0, 0, 0, 0, 0, 0, 0, 0, 0, 0, 0, 0, 0, 0, 0, 0, 0, 0, 0, 0, 0, 0, 0, 0, 0, 0, 0, 0, 0, 0, 0, 0, 0, 0, 0, 0, 0, 0, 0, 0, 0, 0, 0, 0, 0, 0, 0, 0, 0, 0, 0, 0, 0, 0, 0, 2, 1, 0, 0, 0, 0, 0, 0, 0, 0, 0, 0, 0, 0, 0, 96, 0, 7, 0, 0, 96, 96, 208, 34, 442, 1, 57, 1, 0, 60, 391, 2, 42, 20, 88, 0, 31, 0, 3, 0, 0, 0, 0, 0, 0, 0, 0, 0, 0, 15, 0, 0, 0, 0, 0, 0, 0, 0, 0, 0, 2, 0, 0, 0, 0, 0, 0, 0, 0, 1287, 0, 5, 0, 0, 0, 0, 0, 0, 0, 32, 5, 0, 0, 0, 0, 0, 0, 0, 0, 0, 0, 0, 0, 0, 0, 0, 0, 0, 0, 0, 0, 5, 0, 0, 0, 0, 0, 0, 1, 0, 0, 0, 5, 0, 0, 0, 0, 0, 0, 0, 0, 0, 0, 0, 0, 0, 2, 0, 0, 0, 0, 1, 0, 0, 0, 0, 0, 0, 0, 75, 0, 0, 0, 0, 0, 0, 0, 0, 2, 0, 0, 0, 0, 0, 0, 0, 0, 0, 0, 0, 0, 0, 0, 1, 0, 0, 0, 0, 0, 0, 3, 0, 0, 0, 0, 5, 0, 0, 0, 0, 0, 0, 0, 0, 0, 0, 0, 3, 0, 1, 0, 4, 0, 0, 0, 0, 0, 0, 0, 0, 0, 0, 0, 0, 0, 0, 0, 0, 0, 0, 0, 0, 0, 0, 0, 0, 0, 0, 0, 0, 0, 0, 0, 0, 0, 0, 0, 0, 0, 0, 0, 0, 0, 0, 0, 0, 0, 0, 0, 0, 0, 0, 0, 0, 0, 0, 0, 0, 0, 0, 0, 0, 0, 0, 0, 0, 0, 0, 0, 0, 0, 0, 0, 0, 0, 0, 0, 0, 0, 0, 0, 0, 0, 0, 0, 0, 0, 0, 0, 0, 0, 110, 43, 13, 0, 0, 0, 0, 3, 0, 0, 0, 0, 0, 35, 0, 0, 3, 0, 0, 4, 0, 11, 55, 0, 0, 0, 0, 0, 0, 1, 2, 0, 5, 11, 0, 0, 0, 0, 0, 0, 1, 0, 3, 3, 10, 2, 0, 59, 0, 4, 0, 2, 0, 0, 0, 0, 2, 0, 2, 0, 0, 0, 5, 1, 0, 11, 20, 0, 0, 15, 0, 1, 0, 0, 0, 0, 0, 0, 0, 0, 0, 0, 0, 0, 0, 0, 0, 0, 0, 0, 0, 1, 0, 0, 6, 7, 0, 0, 15, 2, 3, 6, 0, 0, 0, 0, 0, 0, 1, 0, 0, 0, 0, 0, 0, 7, 0, 0, 0, 10, 3, 0, 0, 0, 0, 0, 0, 0, 0, 0, 0, 56, 0, 12, 64, 0, 0, 0, 0, 0, 0, 11, 0, 0, 3, 0, 0, 0, 0, 1, 0, 0, 0, 0, 0, 0, 0, 0, 0, 372, 0, 1065, 0, 15, 4, 0, 19, 4, 11, 0, 0, 0, 4, 24, 3, 0, 0, 0, 33, 36, 0, 0, 0, 337, 159, 1, 274, 1056, 0, 21, 0, 0, 2, 0, 0, 19, 0, 0, 0, 1, 0, 19, 1, 0, 10, 6, 6, 1, 3, 10, 2, 41, 1, 57, 22, 0, 46, 52, 27, 16, 6, 12, 0, 0, 0, 0, 28, 0, 13, 89, 0, 0, 11, 11, 0, 0, 0, 247, 0, 0, 869, 222, 267, 1, 0, 3, 0, 9, 4, 60, 4, 3, 1, 0, 8, 0, 1, 0, 6, 2, 0, 0, 0, 0, 0, 13, 0, 2, 2, 0, 0, 0, 0, 0, 0, 0, 0, 0, 0, 0, 0, 1, 1, 0, 0, 0, 0, 0, 0, 0, 0, 0, 0, 0, 0, 0, 0, 0, 0, 0, 0, 0, 3, 0, 0, 0, 0, 0, 0, 0, 0, 0, 0, 0, 0, 0, 1, 0, 0, 28, 0, 0, 0, 0, 0, 0, 0, 0, 6, 0, 1, 0, 0, 0, 0, 0, 0, 0, 0, 0, 0, 0, 0, 0, 0, 19, 4, 0, 0, 0, 1, 5, 1, 1, 0, 0, 0, 0, 0, 0, 0, 0, 6, 0, 3, 0, 1, 0, 0, 0, 0, 2, 0, 0, 41, 0, 0, 0, 0, 0, 0, 36, 89, 0, 0, 0, 3, 2, 27, 0, 1, 18, 0, 84, 3, 36, 0, 0, 0, 0, 0, 0, 0, 0, 0, 0, 16, 0, 0, 0, 1, 7, 0, 0, 0, 0, 0, 2, 0, 31, 0, 11, 0, 20, 4, 0, 1, 0, 0, 0, 1, 0, 0, 0, 0, 0, 0, 0, 0, 0, 0, 0, 1, 0, 0, 0, 0, 0, 0, 1, 0, 1, 0, 1, 0, 0, 0, 0, 0, 0, 0, 0, 0, 0, 0, 0, 0, 0, 0, 1, 0, 0, 0, 0, 0, 0, 0, 0, 0, 0, 0, 0, 0, 0, 0, 0, 0, 0, 0, 2, 5, 0, 0, 0, 0, 0, 0, 0, 0, 0, 1, 0, 8, 0, 3, 14, 3, 0, 5, 1, 2, 8, 23, 0, 0, 52, 0, 273, 17, 3, 0, 11, 0, 6, 0, 0, 70, 76, 14, 3, 0, 0, 97, 0, 0, 0, 0, 0, 0, 0, 1, 0, 1, 0, 0, 0, 0, 0, 0, 0, 0, 0, 0, 0, 0, 0, 0, 0, 2, 0, 6, 0, 0, 0, 0, 0, 0, 0, 0, 0, 0, 0, 0, 0, 0, 0, 0, 0, 0, 0, 0, 3, 0, 1, 0, 0, 0, 0, 0, 0, 0, 0, 1, 0, 5, 0, 0, 0, 0, 0, 2, 0, 11, 0, 0, 0, 5, 1, 0, 19, 0, 0, 0, 3, 0, 0, 0, 0, 0, 11, 2, 0, 0, 4, 14, 11, 2, 0, 0, 1, 0, 0, 14, 3, 6, 0, 0, 0, 0, 0, 0, 0, 0, 0, 0, 0, 0, 0, 0, 0, 0, 0, 0, 0, 0, 10, 0, 0, 0, 0, 0, 0, 0, 1, 0, 0, 0, 0, 0, 0, 0, 0, 0, 0, 0, 0, 0, 2, 0, 2, 0, 0, 1, 0, 0, 0, 0, 0, 0, 0, 0, 0, 0, 0, 0, 0, 2, 0, 3, 0, 0, 0, 0, 0, 0, 0, 0, 0, 0, 0, 0, 0, 0, 0, 0, 0, 0, 0, 0, 0, 43, 0, 2, 2, 0, 0, 0, 6, 0, 0, 17, 0, 0, 0, 0, 0, 0, 0, 0, 0, 0, 0, 0, 0, 6, 3, 22, 2, 0, 0, 0, 0, 0, 0, 0, 0, 0, 0, 0, 0, 0, 0, 0, 0, 0, 0, 0, 0, 0, 0, 0, 0, 0, 0, 0, 0, 0, 0, 0, 0, 0, 0, 4, 0, 0, 0, 1, 0, 1, 12, 0, 0, 0, 0, 0, 0, 0, 8, 0, 0, 14, 0, 0, 0, 0, 0, 0, 1, 0, 0, 0, 0, 0, 3, 0, 0, 0, 0, 0, 0, 0, 0, 0, 2, 0, 0, 0, 3, 3, 0, 0, 0, 0, 0, 0, 0, 0, 41, 0, 7, 0, 4, 0, 0, 0, 1, 0, 0, 0, 0, 0, 0, 0, 0, 381, 634, 22, 2276, 10, 222, 543, 1, 86, 41, 0, 0, 0, 0, 1, 0, 0, 0, 1, 0, 0, 0, 0, 0, 0, 0, 0, 0, 0, 11, 16, 0, 0, 0, 0, 0, 0, 0, 0, 0, 0, 0, 0, 0, 0, 0, 0, 50, 0, 41, 3, 1, 0, 4, 0, 8, 26, 0, 0, 0, 0, 0, 0, 0, 0, 0, 0, 0, 0, 0, 0, 0, 0, 0, 0, 0, 0, 0, 0, 0, 0, 0, 0, 0, 0, 0, 0, 0, 0, 0, 0, 0, 0, 0, 0, 0, 0, 0, 0, 0, 0, 0, 0, 0, 0, 0, 0, 0, 4, 0, 0, 0, 0, 0, 0, 0, 0, 0, 0, 0, 0, 28, 0, 0, 0, 0, 0, 1, 0, 0, 0, 0, 0, 0, 0, 0, 0, 0, 0, 0, 0, 0, 0, 0, 0, 0, 0, 0, 6, 3, 0, 0, 0, 0, 17, 5, 3, 0, 0, 7, 25, 61, 0, 0, 3, 0, 0, 0, 0, 1356, 0, 0, 0, 0, 32, 68, 428, 285, 58, 23, 5, 12, 0, 6, 0, 39, 2, 0, 0, 8, 0, 0, 0, 0, 0, 0, 0, 0, 3, 0, 0, 0, 0, 0, 0, 0, 0, 0, 0, 0, 1, 0, 3, 0, 0, 0, 0, 0, 0, 0, 0, 0, 0, 0, 0, 0, 0, 13, 3, 3, 0, 0, 5, 0, 0, 0, 0, 0, 0, 0, 8, 0, 0, 0, 0, 0, 0, 0, 0, 0, 0, 0, 0, 1, 0, 0, 0, 0, 0, 0, 0, 0, 0, 0, 0, 0, 0, 0, 0, 0, 0, 0, 0, 0, 0, 0, 0, 0, 0, 0, 0, 0, 0, 0, 0, 0, 0, 0, 1639, 242, 0, 10, 0, 0, 0, 0, 0, 0, 0, 0, 0, 0, 0, 0, 0, 397, 0, 5, 0, 0, 0, 0, 1, 0, 0, 0, 0, 1, 0, 0, 1, 0, 1, 1, 1, 0, 4, 1, 3, 0, 0, 1, 0, 96, 0, 1, 30, 1, 0, 127, 0, 0, 0, 0, 0, 0, 0, 0, 0, 0, 0, 0, 0, 0, 0, 0, 0, 0, 0, 0, 0, 0, 0, 0, 0, 0, 0, 0, 0, 0, 0, 0, 0, 0, 0, 0, 0, 0, 0, 0, 0, 0, 0, 0, 0, 0, 0, 0, 0, 0, 0, 0, 0, 0, 0, 0, 0, 0, 7, 17, 0, 0, 0, 0, 0, 0, 0, 21, 701, 2, 0, 0, 0, 3, 35, 0, 0, 0, 0, 1, 0, 0, 0, 0, 0, 0, 0, 0, 0, 0, 0, 0, 0, 0, 0, 40, 494, 1, 0, 1, 8, 10, 0, 90, 67, 0, 0, 2, 1, 3, 5, 0, 37, 130, 1, 14, 0, 0, 0, 0, 0, 0, 3, 0, 0, 0, 0, 0, 0, 0, 0, 0, 0, 0, 0, 0, 0, 0, 0, 0, 0, 0, 0, 1, 0, 0, 0, 0, 0, 0, 0, 1, 1, 2, 0, 0, 0, 1, 0, 0, 0, 0, 0, 0, 0, 0, 0, 14, 0, 0, 0, 0, 0, 0, 6, 0, 0, 2, 0, 0, 0, 0, 194, 0, 0, 0, 0, 0, 0, 0, 0, 0, 0, 0, 0, 0, 0, 11, 0, 0, 0, 0, 0, 0, 0, 0, 0, 0, 0, 0, 0, 1, 0, 0, 0, 0, 1, 0, 0, 0, 4, 6, 0, 0, 1, 0, 0, 0, 1, 0, 0, 1, 0, 0, 9, 0, 0, 4, 0, 0, 0, 8, 0, 0, 0, 0, 0, 0, 0, 2, 0, 0, 0, 0, 0, 0, 261, 13, 0, 0, 0, 0, 0, 0, 0, 0, 0, 0, 0, 0, 0, 2, 0, 0, 0, 0, 0, 35, 1, 0, 0, 0, 0, 0, 0, 4, 8, 36, 0, 0, 0, 0, 0, 0, 0, 0, 0, 0, 0, 0, 0, 0, 0, 0, 0, 0, 4, 0, 0, 5, 0, 1, 0, 0, 0, 0, 0, 0, 0, 0, 0, 0, 0, 0, 0, 0, 0, 1, 1, 0, 0, 0, 0, 0, 0, 27, 0, 0, 0, 0, 0, 0, 0, 0, 0, 0, 0, 0, 0, 0, 442, 58, 0, 0, 0, 0, 0, 0, 0, 0, 0, 0, 0, 0, 0, 0, 0, 0, 0, 0, 53, 0, 0, 0, 0, 0, 2627, 2, 60, 0, 94, 0, 40, 0, 4, 0, 0, 151, 0, 8, 0, 0, 0, 0, 0, 0, 0, 0, 0, 0, 0, 0, 0, 0, 0, 0, 0, 0, 0, 1, 0, 16, 0, 13, 24, 0, 0, 0, 0, 0, 0, 0, 0, 0, 0, 0, 1287, 0, 0, 0, 0, 0, 0, 0, 0, 14, 0, 0, 0, 0, 0, 17, 0, 0, 8, 0, 0, 0, 0, 0, 67, 47, 4, 0, 0, 552, 0, 1, 78, 71, 0, 0, 0, 14, 0, 0, 0, 4, 0, 0, 0, 1, 0, 0, 0, 23, 0, 23, 0, 536, 0, 0, 87, 44, 18, 0, 39, 135, 0, 3, 35, 1, 0, 0, 0, 0, 0, 0, 0, 0, 0, 0, 0, 1, 0, 4, 15, 0, 9, 0, 0, 0, 0, 0, 0, 0, 2, 0, 0, 0, 0, 1, 35, 1, 0, 0, 0, 0, 4, 0, 0, 0, 0, 0, 0, 0, 0, 0, 0, 0, 180, 0, 0, 0, 318, 16, 18, 0, 0, 0, 114, 193, 25, 24, 6, 19, 0, 216, 599, 17, 53, 1, 204, 0, 1122, 108, 2, 0, 0, 0, 1, 0, 0, 0, 0, 0, 0, 0, 36, 0, 1420, 163, 11, 15, 3, 1, 0, 0, 0, 3, 0, 120, 9, 35, 0, 0, 28, 56, 4, 0, 0, 33, 0, 0, 0, 0, 0, 14, 27, 31, 0, 0, 0, 0, 0, 0, 0, 0, 1, 0, 0, 0, 1, 8, 0, 2627, 2, 0, 0, 0, 1, 0, 0, 0, 0, 0, 0, 0, 0, 0, 0, 0, 0, 0, 0, 0, 0, 0, 0, 0, 0, 0, 0, 0, 0, 0, 0, 0, 0, 0, 0, 0, 0, 0, 0, 1, 0, 0, 0, 3, 0, 0, 0, 0, 0, 0, 0, 5, 0, 2, 16, 7, 6, 0, 106, 0, 53, 0, 0, 0, 0, 0, 0, 0, 0, 0, 569, 1, 4, 0, 0, 0, 0, 52, 0, 0, 0, 0, 0, 0, 0, 0, 0, 0, 0, 0, 0, 0, 0, 0, 0, 0, 0, 0, 0, 0, 0, 0, 0, 50, 0, 0, 0, 0, 0, 0, 0, 108, 29, 0, 33, 0, 0, 0, 0, 0, 0, 0, 0, 0, 8, 0, 0, 0, 33, 0, 10, 0, 9, 0, 0, 6, 3, 2, 1, 0, 0, 0, 0, 0, 562, 0, 0, 0, 0, 0, 142, 0, 0, 0, 0, 0, 1, 227, 0, 0, 103, 0, 2, 13, 0, 105, 0, 2, 43, 8, 2, 257, 0, 30, 21, 0, 0, 743, 1, 133, 0, 127, 60, 411, 2, 4, 0, 0, 0, 2, 73, 0, 0, 67, 0, 0, 0, 0, 0, 0, 0, 0, 0, 0, 1, 132, 0, 0, 0, 359, 196, 309, 0, 0, 0, 151, 0, 0, 17, 0, 0, 0, 0, 0, 0, 0, 0, 3, 0, 0, 740, 0, 0, 0, 0, 0, 0, 0, 0, 0, 0, 0, 0, 0, 0, 0, 0, 0, 8, 0, 0, 0, 0, 12, 0, 0, 0, 0, 0, 0, 0, 0, 0, 0, 0, 358, 0, 0, 0, 0, 28, 48, 0, 0, 0, 0, 0, 0, 0, 11, 0, 0, 0, 0, 0, 6, 0, 0, 0, 0, 0, 0, 0, 0, 0, 0, 0, 0, 79, 1, 20, 0, 0, 48, 79, 0, 1, 0, 0, 26, 0, 8, 0, 3, 0, 2, 0, 9, 9, 0, 0, 71, 1, 156, 0, 57, 0, 0, 26, 53, 0, 0, 0, 0, 22, 251, 102, 0, 0, 81, 0, 0, 0, 36, 213, 0, 2, 2, 3, 154, 0, 0, 6, 1, 43, 5, 22, 0, 0, 6, 102, 124, 215, 0, 0, 136, 425, 28, 138, 2, 21, 538, 1, 197, 36, 33, 0, 148, 0, 0, 0, 433, 0, 240, 57, 30, 143, 0, 1, 0, 0, 8, 32, 10, 65, 42, 0, 3, 0, 0, 2, 0, 6, 4, 0, 20, 0, 6, 0, 0, 0, 38, 0, 35, 0, 2219, 0, 0, 3, 0, 68, 3, 374, 299, 70, 0, 0, 0, 0, 10, 3, 0, 104, 0, 482, 429, 526, 98, 12, 0, 127, 0, 0, 1, 0, 2, 465, 0, 0, 87, 355, 6, 0, 1, 0, 14, 131, 1112, 29, 0, 0, 0, 0, 0, 0, 0, 0, 1679, 290, 0, 0, 0, 8, 31, 8, 0, 352, 230, 62, 737, 0, 1159, 250, 6, 273, 407, 0, 607, 206, 0, 0, 5, 40, 218, 297, 0, 163, 118, 0, 0, 40, 148, 46, 1, 1113, 79, 1, 0, 1589, 1, 390, 123, 202, 2, 18, 2160, 1772, 473, 153, 776, 0, 3, 0, 0, 0, 2627, 2239, 2213, 60, 0, 0, 295, 2022, 26, 195, 26, 15, 0, 1404, 196, 0, 47, 23, 12, 5, 17, 0, 5, 2581, 0, 344, 9, 266, 48, 74, 0, 704, 2541, 73, 298, 73, 776, 169, 1195, 187, 1, 0, 0, 0, 0, 1, 0, 0, 0, 0, 0, 0, 0, 11, 0, 0, 17, 0, 0, 54, 0, 0, 0, 0, 16, 16, 16, 0, 8, 0, 12, 436, 0, 0, 0, 0, 0, 0, 0, 0, 0, 0, 0, 0, 0, 0, 0, 0, 0, 0, 0, 0, 0, 1, 37, 13, 0, 17, 0, 6, 0, 0, 0, 0, 0, 3, 0, 3, 1, 0, 0, 0, 0, 0, 51, 0, 6, 7, 0, 374, 0, 0, 5, 78, 1, 0, 2, 0, 0, 0, 0, 0, 2627, 0, 2239, 0, 0, 56, 3, 349, 0, 20, 1206, 61, 61, 23, 4, 39, 1, 0, 0, 80, 9, 0, 0, 0, 0, 12, 0, 0, 17, 23, 0, 0, 180, 541, 6, 17, 9, 1096, 106, 1390, 7, 0, 0, 0, 2581, 0, 401, 8, 0, 0, 66, 74, 13, 0, 30, 698, 0, 0, 10, 0, 832, 1292, 0, 94, 349, 299, 800, 3, 1, 0, 0, 0, 0, 175, 1645, 198, 0, 4, 0, 0, 0, 0, 0, 0, 0, 0, 15, 0, 0, 30, 0, 0, 0, 0, 0, 0, 0, 0, 0, 0, 0, 0, 0, 2, 0, 1, 0, 26, 72, 13, 0, 0, 1, 0, 1, 0, 75, 53, 1537, 0, 0, 22, 382, 264, 237, 1, 0, 1, 0, 0, 0, 0, 0, 92, 0, 0, 0, 93, 2, 24, 6, 32, 0, 0, 0, 0, 38, 0, 0, 0, 634, 0, 0, 0, 0, 0, 0, 3, 0, 0, 0, 0, 0, 0, 35, 0, 0, 0, 4, 4, 0, 56, 0, 0, 0, 0, 0, 122, 0, 9, 6, 0, 3, 11, 0, 544, 0, 0, 11, 38, 0, 3, 22, 0, 0, 9, 0, 0, 2627, 52, 0, 0, 0, 0, 4, 0, 0, 0, 0, 0, 0, 0, 0, 0, 0, 0, 0, 0, 0, 0, 0, 0, 0, 1, 0, 0, 0, 0, 0, 0, 0, 4, 1, 0, 4, 28, 0, 0, 0, 0, 3, 0, 0, 0, 1, 0, 0, 0, 0, 0, 0, 0, 0, 0, 3, 0, 0, 10, 0, 0, 10, 8, 0, 0, 0, 0, 0, 0, 0, 0, 0, 0, 0, 3, 1, 0, 0, 21, 1, 0, 110, 11, 1, 1, 0, 0, 15, 71, 0, 0, 0, 5, 11, 11, 25, 7, 2, 0, 0, 0, 0, 0, 0, 0, 0, 0, 1, 0, 0, 131, 3, 83, 0, 0, 0, 26, 0, 0, 0, 0, 0, 0, 0, 15, 0, 0, 0, 0, 0, 0, 0, 0, 0, 0, 0, 0, 0, 0, 0, 0, 0, 0, 0, 0, 0, 0, 0, 0, 0, 10, 0, 0, 0, 0, 0, 1113, 0, 0, 0, 0, 0, 18, 6, 0, 1, 1, 0, 3, 22, 0, 20, 0, 9, 1, 0, 1, 18, 112, 131, 11, 119, 29, 96, 2, 1, 79, 518, 228, 0, 0, 0, 0, 56, 2, 0, 0, 0, 0, 0, 98, 0, 2, 299, 126, 100, 544, 25, 5, 0, 39, 1, 458, 1532, 830, 18, 0, 0, 0, 0, 3, 1, 0, 0, 0, 0, 0, 0, 0, 0, 0, 0, 0, 0, 2, 0, 2, 2, 0, 184, 0, 1, 1, 6, 0, 131, 0, 184, 184, 0, 2460, 0, 0, 0, 0, 0, 0, 0, 0, 0, 0, 0, 0, 0, 0, 0, 4, 4, 0, 0, 0, 0, 0, 0, 0, 0, 0, 0, 0, 0, 0, 0, 0, 0, 0, 0, 0, 0, 0, 0, 0, 0, 0, 0, 0, 0, 0, 0, 0, 0, 0, 0, 0, 1, 0, 0, 13, 33, 0, 1, 0, 0, 9, 49, 0, 0, 13, 0, 3, 0, 0, 0, 0, 0, 0, 0, 0, 0, 2, 49, 38, 2, 0, 0, 0, 13, 0, 10, 0, 0, 0, 1, 0, 0, 0, 0, 0, 0, 1, 0, 0, 0, 0, 0, 0, 1, 0, 0, 6, 18, 0, 0, 0, 0, 0, 0, 0, 5, 0, 0, 0, 90, 1, 0, 0, 0, 1, 0, 0, 0, 0, 0, 0, 0, 0, 0, 0, 0, 0, 7, 0, 35, 0, 8, 0, 0, 0, 0, 7, 0, 0, 0, 0, 1, 3, 1, 0, 0, 16, 1, 0, 17, 6, 15, 71, 18, 26, 20, 11, 25, 10, 0, 2, 7, 0, 1, 0, 0, 0, 0, 0, 0, 0, 0, 0, 26, 0, 0, 35, 10, 69, 73, 4, 0, 11, 0, 0, 0, 0, 0, 79, 0, 0, 0, 0, 0, 27, 36, 71, 0, 34, 6, 0, 0, 0, 0, 0, 3, 0, 0, 7, 38, 0, 0, 1, 0, 14, 0, 0, 0, 0, 0, 0, 0, 0, 0, 0, 0, 0, 0, 0, 0, 0, 0, 0, 0, 0, 0, 0, 0, 26, 0, 5, 0, 0, 0, 0, 0, 9, 0, 135, 0, 17, 0, 0, 0, 0, 6, 0, 0, 0, 6, 0, 0, 0, 0, 0, 0, 0, 6, 0, 0, 0, 0, 0, 0, 0, 0, 0, 0, 8, 0, 0, 0, 0, 0, 0, 0, 0, 0, 0, 0, 0, 0, 0, 0, 0, 0, 0, 0, 0, 1, 0, 0, 3, 0, 0, 0, 0, 0, 0, 0, 1, 0, 0, 0, 0, 0, 0, 0, 0, 0, 0, 2, 0, 0, 0, 0, 0, 0, 0, 0, 0, 0, 0, 0, 0, 0, 0, 0, 1, 0, 0, 0, 0, 0, 0, 0, 0, 0, 0, 0, 0, 0, 78, 0, 0, 0, 0, 0, 0, 0, 0, 0, 0, 0, 0, 0, 21, 0, 0, 0, 0, 0, 0, 0, 8, 1, 0, 0, 0, 0, 0, 0, 0, 0, 0, 14, 24, 0, 0, 0, 2, 32, 9, 26, 0, 1, 0, 14, 0, 0, 0, 0, 0, 0, 138, 1, 0, 0, 33, 76, 54, 18, 7, 5, 7, 2, 21, 0, 0, 0, 61, 2, 39, 112, 2, 0, 102, 264, 0, 1, 0, 1, 0, 0, 0, 3, 0, 0, 0, 0, 0, 0, 0, 0, 0, 0, 0, 0, 0, 0, 0, 0, 0, 0, 0, 0, 0, 0, 0, 0, 35, 0, 42, 0, 0, 0, 0, 9, 169, 0, 205, 0, 0, 0, 0, 0, 0, 76, 1, 0, 10, 1, 0, 32, 114, 0, 419, 0, 6, 1, 27, 3, 0, 0, 0, 0, 0, 0, 0, 6, 263, 0, 1, 0, 0, 0, 0, 0, 0, 0, 178, 0, 0, 4, 4, 0, 4, 0]))"
      ]
     },
     "execution_count": 187,
     "metadata": {},
     "output_type": "execute_result"
    }
   ],
   "source": [
    "data = DataProcessor2('5ht1a')\n",
    "data.load_data()\n",
    "data.count_keys()\n",
    "data.combine()"
   ]
  },
  {
   "cell_type": "code",
   "execution_count": 188,
   "metadata": {},
   "outputs": [
    {
     "name": "stdout",
     "output_type": "stream",
     "text": [
      "Loaded data for 5ht1a protein\n",
      "Loaded data for 5ht7 protein\n",
      "Loaded data for beta2 protein\n",
      "Loaded data for d2 protein\n",
      "Loaded data for h1 protein\n"
     ]
    }
   ],
   "source": [
    "prot = {}\n",
    "Keys = None\n",
    "\n",
    "for i, protein in enumerate(proteins):\n",
    "    data = DataProcessor2(protein)\n",
    "    data.load_data()\n",
    "    data.count_keys()\n",
    "    Keys, prot[protein] = data.combine()"
   ]
  },
  {
   "cell_type": "code",
   "execution_count": 189,
   "metadata": {},
   "outputs": [],
   "source": [
    "with open('../keys/KlekFP_keys.txt', 'r') as file:\n",
    "    f = file.readlines()\n",
    "    \n",
    "smarts = [str(x).strip('\\n') for x in f]"
   ]
  },
  {
   "cell_type": "code",
   "execution_count": 190,
   "metadata": {},
   "outputs": [],
   "source": [
    "Combined_df = pd.DataFrame({\n",
    "    'KEYS': Keys, \n",
    "    '5ht1a': prot['5ht1a'],\n",
    "    '5ht7': prot['5ht7'],\n",
    "    'beta2': prot['beta2'],\n",
    "    'd2': prot['d2'],\n",
    "    'h1': prot['h1'],\n",
    "    'SMARTS': smarts\n",
    "})"
   ]
  },
  {
   "cell_type": "code",
   "execution_count": 191,
   "metadata": {
    "scrolled": true
   },
   "outputs": [
    {
     "name": "stdout",
     "output_type": "stream",
     "text": [
      "     KEYS  5ht1a  5ht7  beta2    d2   h1   \n",
      "0  KLEK_0   1423   703    380  2626  559  \\\n",
      "1  KLEK_1    186    40     50   345   54   \n",
      "2  KLEK_2      0     0      0     0    0   \n",
      "3  KLEK_3      0     0      0     0    0   \n",
      "4  KLEK_4      0     0      0     0    0   \n",
      "\n",
      "                                              SMARTS  \n",
      "0                              [!#1][CH]([!#1])[!#1]  \n",
      "1                   [!#1][CH]([!#1])[CH]([!#1])[!#1]  \n",
      "2    [!#1][CH]([!#1])[CH]([!#1])C([CH3])([CH3])[CH3]  \n",
      "3       [!#1][CH]([!#1])[CH](C(=O)O[CH3])C(=O)O[CH3]  \n",
      "4  [!#1][CH]([!#1])[CH]1[CH2][CH]([CH]([!#1])[!#1...  \n"
     ]
    }
   ],
   "source": [
    "print(Combined_df.head())"
   ]
  },
  {
   "cell_type": "code",
   "execution_count": 192,
   "metadata": {},
   "outputs": [],
   "source": [
    "Combined_df.to_csv('../original_datasets/counts_active.csv', sep=',', header=True, index=False)"
   ]
  },
  {
   "cell_type": "code",
   "execution_count": null,
   "metadata": {},
   "outputs": [],
   "source": []
  }
 ],
 "metadata": {
  "kernelspec": {
   "display_name": "Python 3 (ipykernel)",
   "language": "python",
   "name": "python3"
  },
  "language_info": {
   "codemirror_mode": {
    "name": "ipython",
    "version": 3
   },
   "file_extension": ".py",
   "mimetype": "text/x-python",
   "name": "python",
   "nbconvert_exporter": "python",
   "pygments_lexer": "ipython3",
   "version": "3.9.16"
  }
 },
 "nbformat": 4,
 "nbformat_minor": 2
}
