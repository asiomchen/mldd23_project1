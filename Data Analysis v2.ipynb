{
 "cells": [
  {
   "cell_type": "code",
   "execution_count": 1,
   "id": "8b0e3751",
   "metadata": {},
   "outputs": [],
   "source": [
    "import scipy \n",
    "import numpy as np\n",
    "import pandas as pd\n",
    "import pandas.api.types as ptypes\n",
    "import matplotlib.pyplot as plt\n",
    "import seaborn as sns\n",
    "import rdkit\n",
    "import os\n",
    "import sys"
   ]
  },
  {
   "cell_type": "code",
   "execution_count": 142,
   "id": "1d7daae9",
   "metadata": {},
   "outputs": [],
   "source": [
    "class DataAnalysis():\n",
    "    \n",
    "    def __init__(self, protein, fingerprint, target_value='Ki', activity_class='Class'):\n",
    "        sys.path.append('..')\n",
    "        self.data_paths_ = {\n",
    "    '5ht1a_Klek' : './cleaned_datasets/5ht1a_Klek_clean.csv',\n",
    "    '5ht1a_MACCS' : './cleaned_datasets/5ht1a_MACCS_clean.csv',\n",
    "    '5ht1a_Sub' : './cleaned_datasets/5ht1a_Sub_clean.csv',\n",
    "    '5ht7_Klek' : './cleaned_datasets/5ht7_Klek_clean.csv',\n",
    "    '5ht7_MACCS' : './cleaned_datasets/5ht7_MACCS_clean.csv',\n",
    "    '5ht7_Sub' : './cleaned_datasets/5ht7_Sub_clean.csv',\n",
    "    'beta2_Klek' : './cleaned_datasets/beta2_Klek_clean.csv',\n",
    "    'beta2_MACCS' : './cleaned_datasets/beta2_MACCS_clean.csv',\n",
    "    'beta2_Sub' : './cleaned_datasets/beta2_Sub_clean.csv',\n",
    "    'd2_Klek' : './cleaned_datasets/d2_Klek_clean.csv',\n",
    "    'd2_MACCS' : './cleaned_datasets/d2_MACCS_clean.csv',\n",
    "    'd2_Sub' : './cleaned_datasets/d2_Sub_clean.csv',\n",
    "    'h1_Klek' : './cleaned_datasets/h1_Klek_clean.csv',\n",
    "    'h1_MACCS' : './cleaned_datasets/h1_MACCS_clean.csv',\n",
    "    'h1_Sub' : './cleaned_datasets/h1_Sub_clean.csv'\n",
    "    }\n",
    "     \n",
    "        self.proteins_ = ['5ht1a', '5ht7', 'beta2', 'd2', 'h1']\n",
    "        self.fingerprints_ = ['Klek', 'Sub', 'MACCS']\n",
    "        self.y_col = target_value\n",
    "        self.act_class = activity_class\n",
    "        \n",
    "        self.protein = protein\n",
    "        self.fingerprint = fingerprint\n",
    "        self.path = self.protein + '_' + self.fingerprint\n",
    "        if self.path in self.data_paths_.keys():\n",
    "            self.df = pd.read_csv(self.data_paths_[self.path])\n",
    "            print(f'{self.fingerprint} FP for protein {self.protein} loaded')\n",
    "        else:\n",
    "            self.df = None\n",
    "            print(\"Protein and fingerprint combination not found\")\n",
    "        \n",
    "        self.frequencies = None\n",
    "        self.differences = None\n",
    "        \n",
    "        #task1 \n",
    "    def calculate_frequency(self):\n",
    "        bits_df = self.df.drop([self.y_col, self.act_class], axis=1)\n",
    "        frequency = (np.array(bits_df.sum()) / len(bits_df) * 100).round(4)\n",
    "        self.frequencies = pd.DataFrame({\"Key\": bits_df.columns, \"Frequency\": frequency})\n",
    "        self.frequencies = self.frequencies.sort_values(by='Frequency', ascending=False)\n",
    "    \n",
    "    def save_frequency(self):\n",
    "        path = './frequencies/' + self.path + '_frequency.csv'\n",
    "        self.frequencies.to_csv(path_or_buf = path, sep=',', index=False, columns=['Key', 'Frequency'])\n",
    "        \n",
    "    def calculate_difference(self):\n",
    "        selection = self.df['Class'] == 1\n",
    "        \n",
    "        active_df = self.df[selection].drop([self.y_col, self.act_class], axis=1)\n",
    "        inactive_df = self.df[~selection].drop([self.y_col, self.act_class], axis=1)\n",
    "        \n",
    "        active_frequency = (np.array(active_df.sum()) / len(active_df) * 100)\n",
    "        inactive_frequency = (np.array(inactive_df.sum()) / len(inactive_df) * 100)\n",
    "        differences = (active_frequency - inactive_frequency).round(4)\n",
    "        self.differences = pd.DataFrame({'Key': active_df.columns, 'Difference': differences}).sort_values(by='Difference')\n",
    "\n",
    "    def save_difference(self):\n",
    "        path = './differences/' + self.path + '_difference.csv'\n",
    "        self.differences.to_csv(path_or_buf = path, sep = ',', index=False, columns=['Key', 'Difference'])\n",
    "        "
   ]
  },
  {
   "cell_type": "code",
   "execution_count": 104,
   "id": "9635e401",
   "metadata": {},
   "outputs": [],
   "source": [
    "proteins = ['5ht1a', '5ht7', 'beta2', 'd2', 'h1']\n",
    "fingerprints = ['Klek', 'Sub', 'MACCS']"
   ]
  },
  {
   "cell_type": "code",
   "execution_count": null,
   "id": "fcaa3096",
   "metadata": {},
   "outputs": [],
   "source": [
    "Task 1\n",
    "Identify the most frequently occuring substructures\n",
    "\n",
    "Task 2 \n",
    "Identify substructures with biggest difference between active and inactive compounds"
   ]
  },
  {
   "cell_type": "code",
   "execution_count": 143,
   "id": "1b0cbf72",
   "metadata": {},
   "outputs": [
    {
     "name": "stdout",
     "output_type": "stream",
     "text": [
      "Klek FP for protein 5ht1a loaded\n",
      "Sub FP for protein 5ht1a loaded\n",
      "MACCS FP for protein 5ht1a loaded\n",
      "Klek FP for protein 5ht7 loaded\n",
      "Sub FP for protein 5ht7 loaded\n",
      "MACCS FP for protein 5ht7 loaded\n",
      "Klek FP for protein beta2 loaded\n",
      "Sub FP for protein beta2 loaded\n",
      "MACCS FP for protein beta2 loaded\n",
      "Klek FP for protein d2 loaded\n",
      "Sub FP for protein d2 loaded\n",
      "MACCS FP for protein d2 loaded\n",
      "Klek FP for protein h1 loaded\n",
      "Sub FP for protein h1 loaded\n",
      "MACCS FP for protein h1 loaded\n"
     ]
    }
   ],
   "source": [
    "for protein in proteins:\n",
    "    for fingerprint in fingerprints:\n",
    "        data = DataAnalysis(protein, fingerprint)\n",
    "        data.calculate_frequency()\n",
    "        data.save_frequency()\n",
    "        data.calculate_difference()\n",
    "        data.save_difference()"
   ]
  }
 ],
 "metadata": {
  "kernelspec": {
   "display_name": "Python 3 (ipykernel)",
   "language": "python",
   "name": "python3"
  },
  "language_info": {
   "codemirror_mode": {
    "name": "ipython",
    "version": 3
   },
   "file_extension": ".py",
   "mimetype": "text/x-python",
   "name": "python",
   "nbconvert_exporter": "python",
   "pygments_lexer": "ipython3",
   "version": "3.9.16"
  }
 },
 "nbformat": 4,
 "nbformat_minor": 5
}
