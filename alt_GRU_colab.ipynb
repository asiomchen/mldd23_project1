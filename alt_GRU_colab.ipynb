{
  "cells": [
    {
      "cell_type": "code",
      "execution_count": 128,
      "id": "6ef6f3f5",
      "metadata": {
        "colab": {
          "base_uri": "https://localhost:8080/"
        },
        "id": "6ef6f3f5",
        "outputId": "19683929-1f4a-4454-8df2-731cfee82922"
      },
      "outputs": [
        {
          "output_type": "execute_result",
          "data": {
            "text/plain": [
              "device(type='cpu')"
            ]
          },
          "metadata": {},
          "execution_count": 128
        }
      ],
      "source": [
        "import torch\n",
        "import torch.nn as nn\n",
        "import torch.optim as optim\n",
        "import torch.utils.data as data_utils\n",
        "import torch.functional as F\n",
        "import numpy as np\n",
        "import pandas as pd\n",
        "import time\n",
        "import random\n",
        "import matplotlib.pyplot as plt\n",
        "import re\n",
        "from tqdm import tqdm\n",
        "from IPython import display\n",
        "\n",
        "device = torch.device('cuda' if torch.cuda.is_available() else 'cpu')\n",
        "device"
      ]
    },
    {
      "cell_type": "code",
      "execution_count": 129,
      "id": "9b8b28d1",
      "metadata": {
        "colab": {
          "base_uri": "https://localhost:8080/"
        },
        "id": "9b8b28d1",
        "outputId": "9c64f803-28e2-411d-8508-1e911aea1341"
      },
      "outputs": [
        {
          "output_type": "stream",
          "name": "stdout",
          "text": [
            "Mounted at /content/drive\n",
            "Looking in indexes: https://pypi.org/simple, https://us-python.pkg.dev/colab-wheels/public/simple/\n",
            "Requirement already satisfied: selfies in /usr/local/lib/python3.10/dist-packages (2.1.1)\n"
          ]
        }
      ],
      "source": [
        "from google.colab import drive\n",
        "\n",
        "drive.mount('/content/drive', force_remount=True)\n",
        "\n",
        "!pip install selfies\n",
        "\n",
        "x_path = '/content/drive/My Drive/GRU_data/250k_klek.csv'\n",
        "y_path = '/content/drive/My Drive/GRU_data/250k_selfies.csv'"
      ]
    },
    {
      "cell_type": "markdown",
      "id": "f16dfcb1",
      "metadata": {
        "id": "f16dfcb1"
      },
      "source": [
        "# Data prep"
      ]
    },
    {
      "cell_type": "code",
      "execution_count": 130,
      "id": "8a3fbcdb",
      "metadata": {
        "id": "8a3fbcdb",
        "colab": {
          "base_uri": "https://localhost:8080/"
        },
        "outputId": "9b57daa3-d1c6-4561-8e89-1c2eef1d8d8a"
      },
      "outputs": [
        {
          "output_type": "stream",
          "name": "stdout",
          "text": [
            "0: [#Branch1]\n",
            "1: [#Branch2]\n",
            "2: [#C]\n",
            "3: [#N]\n",
            "4: [/C]\n",
            "5: [/N]\n",
            "6: [/O]\n",
            "7: [=Branch1]\n",
            "8: [=Branch2]\n",
            "9: [=C]\n",
            "10: [=N+1]\n",
            "11: [=N]\n",
            "12: [=O]\n",
            "13: [=Ring1]\n",
            "14: [=Ring2]\n",
            "15: [=S]\n",
            "16: [Br]\n",
            "17: [Branch1]\n",
            "18: [Branch2]\n",
            "19: [C@@H1]\n",
            "20: [C@@]\n",
            "21: [C@H1]\n",
            "22: [C@]\n",
            "23: [C]\n",
            "24: [Cl]\n",
            "25: [F]\n",
            "26: [I]\n",
            "27: [N+1]\n",
            "28: [NH1]\n",
            "29: [N]\n",
            "30: [O-1]\n",
            "31: [O]\n",
            "32: [P]\n",
            "33: [Ring1]\n",
            "34: [Ring2]\n",
            "35: [S]\n",
            "36: [\\C]\n",
            "37: [\\N]\n",
            "38: [\\O]\n",
            "39: [end]\n",
            "40: [nop]\n",
            "41: [start]\n"
          ]
        }
      ],
      "source": [
        "# alphabet of tokens for output\n",
        "\n",
        "import selfies as sf\n",
        "data = pd.read_csv(y_path)\n",
        "alphabet = sf.get_alphabet_from_selfies(data.selfies)\n",
        "alphabet.add(\"[start]\")\n",
        "alphabet.add(\"[end]\")\n",
        "alphabet.add(\"[nop]\") # [nop] is a special padding symbol\n",
        "alphabet = list(sorted(alphabet))\n",
        "#pad_to_len = max(sf.len_selfies(s) for s in data.selfies) + 10\n",
        "pad_to_len = 128 # for simplicities' sake\n",
        "symbol_to_idx = {s: i for i, s in enumerate(alphabet)}\n",
        "idx2char = {i: s for i, s in enumerate(alphabet)}\n",
        "for i, token in enumerate(alphabet):\n",
        "  print(f'{i}:', token)"
      ]
    },
    {
      "cell_type": "code",
      "source": [
        "class ConciousCrossEntropy(nn.Module):\n",
        "  def __init__(self):\n",
        "    super(ConciousCrossEntropy, self).__init__();\n",
        "    self.batch_size = 256\n",
        "    self.alphabet_len = 42\n",
        "    self.seq_len = 128\n",
        "    self.idx_ignore = 40 # index of token to ignore\n",
        "    self.ignore = torch.zeros(self.alphabet_len)\n",
        "    self.ignore[self.idx_ignore] = 1\n",
        "\n",
        "  def forward(self, predictions, target):\n",
        "    cross_entropy_loss = 0\n",
        "    for y_true, y in zip(target, predictions):\n",
        "      sequence_loss = 0\n",
        "      nops = 0\n",
        "      for token, true_token  in zip(y_true, y):  \n",
        "        if torch.equal(true_token, self.ignore):\n",
        "          nops += 1\n",
        "        else:\n",
        "          # we only need predicted probabilities for the correct classes\n",
        "          # so we can multiply probabilities vector and OHE true token vector\n",
        "          # to mask out all the others and then sum\n",
        "          product = torch.mul(token, true_token)\n",
        "          prob = torch.sum(product)\n",
        "          # negative logarithm of the predicted probability for the correct class\n",
        "          loss = -torch.log(prob)\n",
        "          sequence_loss = torch.add(sequence_loss, loss)\n",
        "      sequence_loss = sequence_loss/self.seq_len-nops\n",
        "      cross_entropy_loss += sequence_loss\n",
        "    loss_value = cross_entropy_loss/self.batch_size\n",
        "    return loss_value"
      ],
      "metadata": {
        "id": "ZnqSr4d6cO6A"
      },
      "id": "ZnqSr4d6cO6A",
      "execution_count": 131,
      "outputs": []
    },
    {
      "cell_type": "code",
      "source": [
        "model = train(train_loader, test_loader, device)"
      ],
      "metadata": {
        "colab": {
          "base_uri": "https://localhost:8080/",
          "height": 1000
        },
        "id": "DxZ1WQCuinct",
        "outputId": "2c170730-bcc3-4efb-e3fc-ee57b2520bb4"
      },
      "id": "DxZ1WQCuinct",
      "execution_count": 127,
      "outputs": [
        {
          "output_type": "display_data",
          "data": {
            "text/plain": [
              "<Figure size 700x300 with 2 Axes>"
            ],
            "image/png": "[encoded data removed]"
          },
          "metadata": {}
        },
        {
          "output_type": "stream",
          "name": "stdout",
          "text": [
            "Starting Training of GRU\n",
            "Device: cpu\n",
            "Epoch: 1\n"
          ]
        },
        {
          "output_type": "stream",
          "name": "stderr",
          "text": [
            "  2%|▏         | 11/646 [00:39<38:01,  3.59s/it]\n"
          ]
        },
        {
          "output_type": "error",
          "ename": "KeyboardInterrupt",
          "evalue": "ignored",
          "traceback": [
            "\u001b[0;31m---------------------------------------------------------------------------\u001b[0m",
            "\u001b[0;31mKeyboardInterrupt\u001b[0m                         Traceback (most recent call last)",
            "\u001b[0;32m<ipython-input-127-a05ea8c7c618>\u001b[0m in \u001b[0;36m<cell line: 1>\u001b[0;34m()\u001b[0m\n\u001b[0;32m----> 1\u001b[0;31m \u001b[0mmodel\u001b[0m \u001b[0;34m=\u001b[0m \u001b[0mtrain\u001b[0m\u001b[0;34m(\u001b[0m\u001b[0mtrain_loader\u001b[0m\u001b[0;34m,\u001b[0m \u001b[0mtest_loader\u001b[0m\u001b[0;34m,\u001b[0m \u001b[0mdevice\u001b[0m\u001b[0;34m)\u001b[0m\u001b[0;34m\u001b[0m\u001b[0;34m\u001b[0m\u001b[0m\n\u001b[0m",
            "\u001b[0;32m<ipython-input-97-abce0ff65a27>\u001b[0m in \u001b[0;36mtrain\u001b[0;34m(train_loader, test_loader, device)\u001b[0m\n\u001b[1;32m     40\u001b[0m \u001b[0;34m\u001b[0m\u001b[0m\n\u001b[1;32m     41\u001b[0m             \u001b[0moptimizer\u001b[0m\u001b[0;34m.\u001b[0m\u001b[0mzero_grad\u001b[0m\u001b[0;34m(\u001b[0m\u001b[0;34m)\u001b[0m\u001b[0;34m\u001b[0m\u001b[0;34m\u001b[0m\u001b[0m\n\u001b[0;32m---> 42\u001b[0;31m             \u001b[0moutput\u001b[0m \u001b[0;34m=\u001b[0m \u001b[0mmodel\u001b[0m\u001b[0;34m(\u001b[0m\u001b[0mX\u001b[0m\u001b[0;34m)\u001b[0m\u001b[0;34m\u001b[0m\u001b[0;34m\u001b[0m\u001b[0m\n\u001b[0m\u001b[1;32m     43\u001b[0m             \u001b[0mloss\u001b[0m \u001b[0;34m=\u001b[0m \u001b[0mcriterion\u001b[0m\u001b[0;34m(\u001b[0m\u001b[0my\u001b[0m\u001b[0;34m,\u001b[0m \u001b[0moutput\u001b[0m\u001b[0;34m)\u001b[0m\u001b[0;34m\u001b[0m\u001b[0;34m\u001b[0m\u001b[0m\n\u001b[1;32m     44\u001b[0m             \u001b[0mloss\u001b[0m\u001b[0;34m.\u001b[0m\u001b[0mbackward\u001b[0m\u001b[0;34m(\u001b[0m\u001b[0;34m)\u001b[0m\u001b[0;34m\u001b[0m\u001b[0;34m\u001b[0m\u001b[0m\n",
            "\u001b[0;32m/usr/local/lib/python3.10/dist-packages/torch/nn/modules/module.py\u001b[0m in \u001b[0;36m_call_impl\u001b[0;34m(self, *args, **kwargs)\u001b[0m\n\u001b[1;32m   1499\u001b[0m                 \u001b[0;32mor\u001b[0m \u001b[0m_global_backward_pre_hooks\u001b[0m \u001b[0;32mor\u001b[0m \u001b[0m_global_backward_hooks\u001b[0m\u001b[0;34m\u001b[0m\u001b[0;34m\u001b[0m\u001b[0m\n\u001b[1;32m   1500\u001b[0m                 or _global_forward_hooks or _global_forward_pre_hooks):\n\u001b[0;32m-> 1501\u001b[0;31m             \u001b[0;32mreturn\u001b[0m \u001b[0mforward_call\u001b[0m\u001b[0;34m(\u001b[0m\u001b[0;34m*\u001b[0m\u001b[0margs\u001b[0m\u001b[0;34m,\u001b[0m \u001b[0;34m**\u001b[0m\u001b[0mkwargs\u001b[0m\u001b[0;34m)\u001b[0m\u001b[0;34m\u001b[0m\u001b[0;34m\u001b[0m\u001b[0m\n\u001b[0m\u001b[1;32m   1502\u001b[0m         \u001b[0;31m# Do not call functions when jit is used\u001b[0m\u001b[0;34m\u001b[0m\u001b[0;34m\u001b[0m\u001b[0m\n\u001b[1;32m   1503\u001b[0m         \u001b[0mfull_backward_hooks\u001b[0m\u001b[0;34m,\u001b[0m \u001b[0mnon_full_backward_hooks\u001b[0m \u001b[0;34m=\u001b[0m \u001b[0;34m[\u001b[0m\u001b[0;34m]\u001b[0m\u001b[0;34m,\u001b[0m \u001b[0;34m[\u001b[0m\u001b[0;34m]\u001b[0m\u001b[0;34m\u001b[0m\u001b[0;34m\u001b[0m\u001b[0m\n",
            "\u001b[0;32m<ipython-input-58-e80207f29ff7>\u001b[0m in \u001b[0;36mforward\u001b[0;34m(self, x)\u001b[0m\n\u001b[1;32m     16\u001b[0m         \u001b[0mdecoded\u001b[0m \u001b[0;34m=\u001b[0m \u001b[0;34m[\u001b[0m\u001b[0;34m]\u001b[0m\u001b[0;34m\u001b[0m\u001b[0;34m\u001b[0m\u001b[0m\n\u001b[1;32m     17\u001b[0m         \u001b[0;32mfor\u001b[0m \u001b[0mn\u001b[0m \u001b[0;32min\u001b[0m \u001b[0mrange\u001b[0m\u001b[0;34m(\u001b[0m\u001b[0;36m128\u001b[0m\u001b[0;34m)\u001b[0m\u001b[0;34m:\u001b[0m\u001b[0;34m\u001b[0m\u001b[0;34m\u001b[0m\u001b[0m\n\u001b[0;32m---> 18\u001b[0;31m             \u001b[0mout\u001b[0m\u001b[0;34m,\u001b[0m \u001b[0mhidden\u001b[0m \u001b[0;34m=\u001b[0m \u001b[0mself\u001b[0m\u001b[0;34m.\u001b[0m\u001b[0mdecoder\u001b[0m\u001b[0;34m(\u001b[0m\u001b[0mx\u001b[0m\u001b[0;34m,\u001b[0m \u001b[0mhidden\u001b[0m\u001b[0;34m)\u001b[0m\u001b[0;34m\u001b[0m\u001b[0;34m\u001b[0m\u001b[0m\n\u001b[0m\u001b[1;32m     19\u001b[0m             \u001b[0mx\u001b[0m \u001b[0;34m=\u001b[0m \u001b[0mout\u001b[0m\u001b[0;34m\u001b[0m\u001b[0;34m\u001b[0m\u001b[0m\n\u001b[1;32m     20\u001b[0m             \u001b[0mout\u001b[0m \u001b[0;34m=\u001b[0m \u001b[0mself\u001b[0m\u001b[0;34m.\u001b[0m\u001b[0mrelu\u001b[0m\u001b[0;34m(\u001b[0m\u001b[0mself\u001b[0m\u001b[0;34m.\u001b[0m\u001b[0mfc\u001b[0m\u001b[0;34m(\u001b[0m\u001b[0mout\u001b[0m\u001b[0;34m)\u001b[0m\u001b[0;34m)\u001b[0m\u001b[0;34m\u001b[0m\u001b[0;34m\u001b[0m\u001b[0m\n",
            "\u001b[0;32m/usr/local/lib/python3.10/dist-packages/torch/nn/modules/module.py\u001b[0m in \u001b[0;36m_call_impl\u001b[0;34m(self, *args, **kwargs)\u001b[0m\n\u001b[1;32m   1499\u001b[0m                 \u001b[0;32mor\u001b[0m \u001b[0m_global_backward_pre_hooks\u001b[0m \u001b[0;32mor\u001b[0m \u001b[0m_global_backward_hooks\u001b[0m\u001b[0;34m\u001b[0m\u001b[0;34m\u001b[0m\u001b[0m\n\u001b[1;32m   1500\u001b[0m                 or _global_forward_hooks or _global_forward_pre_hooks):\n\u001b[0;32m-> 1501\u001b[0;31m             \u001b[0;32mreturn\u001b[0m \u001b[0mforward_call\u001b[0m\u001b[0;34m(\u001b[0m\u001b[0;34m*\u001b[0m\u001b[0margs\u001b[0m\u001b[0;34m,\u001b[0m \u001b[0;34m**\u001b[0m\u001b[0mkwargs\u001b[0m\u001b[0;34m)\u001b[0m\u001b[0;34m\u001b[0m\u001b[0;34m\u001b[0m\u001b[0m\n\u001b[0m\u001b[1;32m   1502\u001b[0m         \u001b[0;31m# Do not call functions when jit is used\u001b[0m\u001b[0;34m\u001b[0m\u001b[0;34m\u001b[0m\u001b[0m\n\u001b[1;32m   1503\u001b[0m         \u001b[0mfull_backward_hooks\u001b[0m\u001b[0;34m,\u001b[0m \u001b[0mnon_full_backward_hooks\u001b[0m \u001b[0;34m=\u001b[0m \u001b[0;34m[\u001b[0m\u001b[0;34m]\u001b[0m\u001b[0;34m,\u001b[0m \u001b[0;34m[\u001b[0m\u001b[0;34m]\u001b[0m\u001b[0;34m\u001b[0m\u001b[0;34m\u001b[0m\u001b[0m\n",
            "\u001b[0;32m<ipython-input-41-e2c00fdec94c>\u001b[0m in \u001b[0;36mforward\u001b[0;34m(self, x, h)\u001b[0m\n\u001b[1;32m     36\u001b[0m     \u001b[0;32mdef\u001b[0m \u001b[0mforward\u001b[0m\u001b[0;34m(\u001b[0m\u001b[0mself\u001b[0m\u001b[0;34m,\u001b[0m \u001b[0mx\u001b[0m\u001b[0;34m,\u001b[0m \u001b[0mh\u001b[0m\u001b[0;34m)\u001b[0m\u001b[0;34m:\u001b[0m\u001b[0;34m\u001b[0m\u001b[0;34m\u001b[0m\u001b[0m\n\u001b[1;32m     37\u001b[0m         \u001b[0;31m#x.shape = [batch_size, selfie_len, encoding_size] = [64, 128, 256]\u001b[0m\u001b[0;34m\u001b[0m\u001b[0;34m\u001b[0m\u001b[0m\n\u001b[0;32m---> 38\u001b[0;31m         \u001b[0mout\u001b[0m\u001b[0;34m,\u001b[0m \u001b[0mh\u001b[0m \u001b[0;34m=\u001b[0m \u001b[0mself\u001b[0m\u001b[0;34m.\u001b[0m\u001b[0mgru\u001b[0m\u001b[0;34m(\u001b[0m\u001b[0mx\u001b[0m\u001b[0;34m,\u001b[0m \u001b[0mh\u001b[0m\u001b[0;34m)\u001b[0m\u001b[0;34m\u001b[0m\u001b[0;34m\u001b[0m\u001b[0m\n\u001b[0m\u001b[1;32m     39\u001b[0m         \u001b[0;31m#out.shape = [batch_size, selfie_len, hidden_size] = [64, 128, 256]\u001b[0m\u001b[0;34m\u001b[0m\u001b[0;34m\u001b[0m\u001b[0m\n\u001b[1;32m     40\u001b[0m         \u001b[0;31m#h.shape = [num_layers, batch_size, hidden_size] = [1, 64, 256]\u001b[0m\u001b[0;34m\u001b[0m\u001b[0;34m\u001b[0m\u001b[0m\n",
            "\u001b[0;32m/usr/local/lib/python3.10/dist-packages/torch/nn/modules/module.py\u001b[0m in \u001b[0;36m_call_impl\u001b[0;34m(self, *args, **kwargs)\u001b[0m\n\u001b[1;32m   1499\u001b[0m                 \u001b[0;32mor\u001b[0m \u001b[0m_global_backward_pre_hooks\u001b[0m \u001b[0;32mor\u001b[0m \u001b[0m_global_backward_hooks\u001b[0m\u001b[0;34m\u001b[0m\u001b[0;34m\u001b[0m\u001b[0m\n\u001b[1;32m   1500\u001b[0m                 or _global_forward_hooks or _global_forward_pre_hooks):\n\u001b[0;32m-> 1501\u001b[0;31m             \u001b[0;32mreturn\u001b[0m \u001b[0mforward_call\u001b[0m\u001b[0;34m(\u001b[0m\u001b[0;34m*\u001b[0m\u001b[0margs\u001b[0m\u001b[0;34m,\u001b[0m \u001b[0;34m**\u001b[0m\u001b[0mkwargs\u001b[0m\u001b[0;34m)\u001b[0m\u001b[0;34m\u001b[0m\u001b[0;34m\u001b[0m\u001b[0m\n\u001b[0m\u001b[1;32m   1502\u001b[0m         \u001b[0;31m# Do not call functions when jit is used\u001b[0m\u001b[0;34m\u001b[0m\u001b[0;34m\u001b[0m\u001b[0m\n\u001b[1;32m   1503\u001b[0m         \u001b[0mfull_backward_hooks\u001b[0m\u001b[0;34m,\u001b[0m \u001b[0mnon_full_backward_hooks\u001b[0m \u001b[0;34m=\u001b[0m \u001b[0;34m[\u001b[0m\u001b[0;34m]\u001b[0m\u001b[0;34m,\u001b[0m \u001b[0;34m[\u001b[0m\u001b[0;34m]\u001b[0m\u001b[0;34m\u001b[0m\u001b[0;34m\u001b[0m\u001b[0m\n",
            "\u001b[0;32m/usr/local/lib/python3.10/dist-packages/torch/nn/modules/rnn.py\u001b[0m in \u001b[0;36mforward\u001b[0;34m(self, input, hx)\u001b[0m\n\u001b[1;32m    996\u001b[0m         \u001b[0mself\u001b[0m\u001b[0;34m.\u001b[0m\u001b[0mcheck_forward_args\u001b[0m\u001b[0;34m(\u001b[0m\u001b[0minput\u001b[0m\u001b[0;34m,\u001b[0m \u001b[0mhx\u001b[0m\u001b[0;34m,\u001b[0m \u001b[0mbatch_sizes\u001b[0m\u001b[0;34m)\u001b[0m\u001b[0;34m\u001b[0m\u001b[0;34m\u001b[0m\u001b[0m\n\u001b[1;32m    997\u001b[0m         \u001b[0;32mif\u001b[0m \u001b[0mbatch_sizes\u001b[0m \u001b[0;32mis\u001b[0m \u001b[0;32mNone\u001b[0m\u001b[0;34m:\u001b[0m\u001b[0;34m\u001b[0m\u001b[0;34m\u001b[0m\u001b[0m\n\u001b[0;32m--> 998\u001b[0;31m             result = _VF.gru(input, hx, self._flat_weights, self.bias, self.num_layers,\n\u001b[0m\u001b[1;32m    999\u001b[0m                              self.dropout, self.training, self.bidirectional, self.batch_first)\n\u001b[1;32m   1000\u001b[0m         \u001b[0;32melse\u001b[0m\u001b[0;34m:\u001b[0m\u001b[0;34m\u001b[0m\u001b[0;34m\u001b[0m\u001b[0m\n",
            "\u001b[0;31mKeyboardInterrupt\u001b[0m: "
          ]
        },
        {
          "output_type": "display_data",
          "data": {
            "text/plain": [
              "<Figure size 700x300 with 2 Axes>"
            ],
            "image/png": "[encoded data removed]"
          },
          "metadata": {}
        }
      ]
    },
    {
      "cell_type": "code",
      "execution_count": 9,
      "id": "f55a6d94",
      "metadata": {
        "id": "f55a6d94"
      },
      "outputs": [],
      "source": [
        "class SELFIESVectorizer:\n",
        "    def __init__(self, alphabet, pad_to_len=None):\n",
        "        self.alphabet = alphabet\n",
        "        self.char2idx = {s: i for i, s in enumerate(alphabet)}\n",
        "        self.idx2char = {i: s for i, s in enumerate(alphabet)}\n",
        "        self.pad_to_len = pad_to_len\n",
        "    def vectorize(self, selfie, no_special=False):\n",
        "        ''' Vectorize a list of SMILES strings to a numpy array of shape (len(smiles), embed, len(charset))'''\n",
        "        if no_special:\n",
        "            splited = self.split_selfi(selfie)\n",
        "        elif self.pad_to_len is None:\n",
        "            splited = ['[start]'] + self.split_selfi(selfie) + ['[end]']\n",
        "        else:\n",
        "            splited = ['[start]'] + self.split_selfi(selfie) + ['[end]'] + ['[nop]'] * (self.pad_to_len - len(self.split_selfi(selfie)) - 2)\n",
        "        X = np.zeros((len(splited), len(self.alphabet)))\n",
        "        for i in range(len(splited)):\n",
        "            X[i, self.char2idx[splited[i]]] = 1\n",
        "        return X\n",
        "    def devectorize(self, ohe, remove_special=False):\n",
        "        ''' Devectorize a numpy array of shape (len(smiles), embed, len(charset)) to a list of SMILES strings'''\n",
        "        selfie_str = ''\n",
        "        for j in range(ohe.shape[0]):\n",
        "            idx = np.argmax(ohe[j, :])\n",
        "            if remove_special and (self.idx2char[idx] == '[start]' or self.idx2char[idx] == '[end]'):\n",
        "                continue\n",
        "            selfie_str += self.idx2char[idx]\n",
        "        return selfie_str\n",
        "    def idxize(self, selfie, no_special=False):\n",
        "        if no_special:\n",
        "            splited = self.split_selfi(selfie)\n",
        "        else:\n",
        "            splited = ['[start]'] + self.split_selfi(selfie) + ['[end]'] + ['[nop]'] * (self.pad_to_len - len(self.split_selfi(selfie)) - 2)\n",
        "        return np.array([self.char2idx[s] for s in splited])\n",
        "    def deidxize(self, idx):\n",
        "        return \"\".join([self.idx2char[i] for i in idx])\n",
        "    def split_selfi(self, selfie):\n",
        "        pattern = r'(\\[[^\\[\\]]*\\])'\n",
        "        return re.findall(pattern, selfie)\n",
        "vectorizer = SELFIESVectorizer(alphabet, pad_to_len)"
      ]
    },
    {
      "cell_type": "code",
      "execution_count": 7,
      "id": "6538d564",
      "metadata": {
        "id": "6538d564"
      },
      "outputs": [],
      "source": [
        "from torch.utils.data import Dataset, DataLoader\n",
        "\n",
        "class GRUDatasetv2(Dataset):\n",
        "    def __init__(self, smiles_fp, selfies, vectorizer):\n",
        "        self.smiles_fp = pd.read_csv(smiles_fp)\n",
        "        self.selfies = pd.read_csv(selfies)\n",
        "        #self.smiles_fp = pd.read_csv(smiles_fp)\n",
        "        #self.selfies = pd.read_csv(selfies)\n",
        "        self.selfies= self.prepare_y(self.selfies)\n",
        "        self.vectorizer = vectorizer\n",
        "    def __len__(self):\n",
        "        return len(self.smiles_fp)\n",
        "    def __getitem__(self, idx):\n",
        "        raw_selfie = self.selfies[idx][0]\n",
        "        vectorized_selfie = self.vectorizer.vectorize(raw_selfie)\n",
        "        raw_X = self.smiles_fp.fps[idx]\n",
        "        X = np.array(eval(raw_X), dtype=int)\n",
        "        X_reconstructed = self.reconstruct_fp(X)\n",
        "        return torch.from_numpy(X_reconstructed).float(), torch.from_numpy(vectorized_selfie).float()\n",
        "\n",
        "    @staticmethod\n",
        "    def prepare_X(smiles_fp):\n",
        "        fps = smiles_fp.fps.apply(eval).apply(lambda x: np.array(x, dtype=int))\n",
        "        return fps\n",
        "    @staticmethod\n",
        "    def prepare_y(selfies):\n",
        "        return selfies.values\n",
        "        \n",
        "    @staticmethod\n",
        "    def reconstruct_fp(fp, length=4860):\n",
        "        fp_rec = np.zeros(length)\n",
        "        fp_rec[fp] = 1\n",
        "        return fp_rec"
      ]
    },
    {
      "cell_type": "code",
      "execution_count": 10,
      "id": "062168b4",
      "metadata": {
        "id": "062168b4"
      },
      "outputs": [],
      "source": [
        "dataset = GRUDatasetv2(x_path, y_path, vectorizer)\n",
        "train_size = int(0.9 * len(dataset))\n",
        "test_size = len(dataset) - train_size\n",
        "train_dataset, test_dataset = torch.utils.data.random_split(dataset, [train_size, test_size])"
      ]
    },
    {
      "cell_type": "code",
      "execution_count": 11,
      "id": "3a16a986",
      "metadata": {
        "colab": {
          "base_uri": "https://localhost:8080/"
        },
        "id": "3a16a986",
        "outputId": "976a8dce-5038-4c2f-d6c6-6c9524c0b6c1"
      },
      "outputs": [
        {
          "output_type": "stream",
          "name": "stdout",
          "text": [
            "Dataset size: 183879\n",
            "Train size: 165491\n",
            "Test size: 18388\n"
          ]
        }
      ],
      "source": [
        "print(\"Dataset size:\", len(dataset))\n",
        "print(\"Train size:\", len(train_dataset))\n",
        "print(\"Test size:\", len(test_dataset))"
      ]
    },
    {
      "cell_type": "code",
      "execution_count": 12,
      "id": "da4f014e",
      "metadata": {
        "id": "da4f014e"
      },
      "outputs": [],
      "source": [
        "batch_size = 256\n",
        "train_loader = DataLoader(train_dataset, shuffle=True, batch_size=batch_size, drop_last=True)\n",
        "test_loader = DataLoader(test_dataset, shuffle=False, batch_size=batch_size, drop_last=True)"
      ]
    },
    {
      "cell_type": "markdown",
      "id": "02f39daf",
      "metadata": {
        "id": "02f39daf"
      },
      "source": [
        "# NN architecture"
      ]
    },
    {
      "cell_type": "code",
      "execution_count": 41,
      "id": "8248e95c",
      "metadata": {
        "id": "8248e95c"
      },
      "outputs": [],
      "source": [
        "class EncoderNet(nn.Module):\n",
        "    def __init__(self, fp_size):\n",
        "        super(EncoderNet, self).__init__()\n",
        "        self.relu = nn.ReLU()\n",
        "        self.fc1 = nn.Linear(fp_size, 2048)\n",
        "        self.fc2 = nn.Linear(2048, 1024)\n",
        "        self.fc3 = nn.Linear(1024, 512)\n",
        "        self.fc4 = nn.Linear(512, 256)\n",
        "    def forward(self, x):\n",
        "        out = self.relu(self.fc1(x))\n",
        "        out = self.relu(self.fc2(out))\n",
        "        out = self.relu(self.fc3(out))\n",
        "        out = self.relu(self.fc4(out))\n",
        "        #out.shape = [batch_size, 256]\n",
        "        return out\n",
        "\n",
        "\n",
        "class DecoderNet(nn.Module):\n",
        "    def __init__(self, input_size, hidden_size, num_layers, output_size):\n",
        "        super(DecoderNet, self).__init__()\n",
        "        \n",
        "        # GRU parameters\n",
        "        self.input_size = input_size\n",
        "        self.hidden_size = hidden_size\n",
        "        self.num_layers = num_layers\n",
        "        \n",
        "        # output token count\n",
        "        self.output_size = output_size\n",
        "\n",
        "        # pytorch.nn\n",
        "        self.gru = nn.GRU(input_size=input_size, hidden_size=hidden_size, num_layers=num_layers, batch_first=True)\n",
        "        self.fc = nn.Linear(hidden_size, output_size)\n",
        "        self.softmax = nn.Softmax(dim=2)\n",
        "        self.relu = nn.ReLU()\n",
        "\n",
        "    def forward(self, x, h):\n",
        "        #x.shape = [batch_size, selfie_len, encoding_size] = [64, 128, 256]\n",
        "        out, h = self.gru(x, h)\n",
        "        #out.shape = [batch_size, selfie_len, hidden_size] = [64, 128, 256]\n",
        "        #h.shape = [num_layers, batch_size, hidden_size] = [1, 64, 256]\n",
        "        return out, h\n",
        "    \n",
        "    def init_hidden(self, batch_size):\n",
        "        h0 = torch.zeros(self.num_layers, batch_size, self.hidden_size)\n",
        "        return h0"
      ]
    },
    {
      "cell_type": "code",
      "execution_count": 58,
      "id": "ea11abf2",
      "metadata": {
        "id": "ea11abf2"
      },
      "outputs": [],
      "source": [
        "class EncoderDecoder(nn.Module):\n",
        "    def __init__(self, fp_size=4860, input_size=256, hidden_size=256, num_layers=1, output_size=42):\n",
        "        super(EncoderDecoder, self).__init__()\n",
        "        self.encoder = EncoderNet(fp_size=4860)\n",
        "        self.decoder = DecoderNet(input_size, hidden_size, num_layers, output_size)\n",
        "        \n",
        "        #pytorch.nn\n",
        "        self.fc = nn.Linear(256, 42)\n",
        "        self.relu = nn.ReLU()\n",
        "        self.softmax2d = nn.Softmax(dim=2)\n",
        "        \n",
        "    def forward(self, x):\n",
        "        hidden = decoder.init_hidden(batch_size=x.shape[0]).to(device)\n",
        "        encoded = self.encoder(x)\n",
        "        x = encoded.unsqueeze(1)\n",
        "        decoded = []\n",
        "        for n in range(128):\n",
        "            out, hidden = self.decoder(x, hidden)\n",
        "            x = out\n",
        "            out = self.relu(self.fc(out))\n",
        "            decoded.append(out)\n",
        "        out_cat = torch.cat(decoded, dim=1)\n",
        "        out_cat = softmax2d(out_cat)\n",
        "        return out_cat # shape [batch_size, selfie_len, alphabet_len]"
      ]
    },
    {
      "cell_type": "markdown",
      "id": "8e0cf5ff",
      "metadata": {
        "id": "8e0cf5ff"
      },
      "source": [
        "#  NN Debugging section"
      ]
    },
    {
      "cell_type": "code",
      "execution_count": 44,
      "id": "c0132236",
      "metadata": {
        "id": "c0132236"
      },
      "outputs": [],
      "source": [
        "# define encoder and decoder\n",
        "\n",
        "encoder = EncoderNet(fp_size=4860)\n",
        "decoder = DecoderNet(input_size=256, hidden_size=256, num_layers=1, output_size=42)"
      ]
    },
    {
      "cell_type": "code",
      "execution_count": 45,
      "id": "a49b4559",
      "metadata": {
        "colab": {
          "base_uri": "https://localhost:8080/"
        },
        "id": "a49b4559",
        "outputId": "2306149b-b5f7-408e-cb52-d88436f06893"
      },
      "outputs": [
        {
          "output_type": "stream",
          "name": "stdout",
          "text": [
            "Encoded shape: torch.Size([256, 1, 256])\n"
          ]
        },
        {
          "output_type": "execute_result",
          "data": {
            "text/plain": [
              "torch.Size([256, 128, 42])"
            ]
          },
          "metadata": {},
          "execution_count": 45
        }
      ],
      "source": [
        "# get test batch, encode and reshape\n",
        "\n",
        "test_src = next(iter(train_loader))[0]\n",
        "test_trg = next(iter(train_loader))[1]\n",
        "encoded = encoder(test_src)\n",
        "encoded = encoded.unsqueeze(1)\n",
        "print(f'Encoded shape: {encoded.shape}')\n",
        "test_trg.shape"
      ]
    },
    {
      "cell_type": "code",
      "execution_count": 48,
      "id": "f2893d40",
      "metadata": {
        "colab": {
          "base_uri": "https://localhost:8080/"
        },
        "id": "f2893d40",
        "outputId": "eeae7b2f-ea23-49ec-d5c5-f28234baf2ba"
      },
      "outputs": [
        {
          "output_type": "stream",
          "name": "stdout",
          "text": [
            "Src shape: torch.Size([256, 4860])\n",
            "Trg shape: torch.Size([256, 128, 42])\n"
          ]
        }
      ],
      "source": [
        "model = EncoderDecoder()\n",
        "model = model.to(device)\n",
        "test_src = next(iter(train_loader))[0].to(device)\n",
        "test_trg = next(iter(train_loader))[1].to(device)\n",
        "print(f'Src shape: {test_src.shape}')\n",
        "print(f'Trg shape: {test_trg.shape}')"
      ]
    },
    {
      "cell_type": "code",
      "execution_count": 49,
      "id": "66ead312",
      "metadata": {
        "colab": {
          "base_uri": "https://localhost:8080/"
        },
        "id": "66ead312",
        "outputId": "a160b05e-1c55-4128-adae-f3db86a468db"
      },
      "outputs": [
        {
          "output_type": "stream",
          "name": "stdout",
          "text": [
            "Outputs shape: torch.Size([256, 128, 42])\n",
            "Outputs shape after argmax: (256, 128)\n"
          ]
        },
        {
          "output_type": "execute_result",
          "data": {
            "text/plain": [
              "tensor([[0.0234, 0.0234, 0.0236,  ..., 0.0234, 0.0241, 0.0244],\n",
              "        [0.0233, 0.0233, 0.0234,  ..., 0.0233, 0.0238, 0.0243],\n",
              "        [0.0233, 0.0233, 0.0233,  ..., 0.0233, 0.0235, 0.0242],\n",
              "        ...,\n",
              "        [0.0232, 0.0232, 0.0232,  ..., 0.0232, 0.0232, 0.0246],\n",
              "        [0.0232, 0.0232, 0.0232,  ..., 0.0232, 0.0232, 0.0246],\n",
              "        [0.0232, 0.0232, 0.0232,  ..., 0.0232, 0.0232, 0.0246]],\n",
              "       grad_fn=<SelectBackward0>)"
            ]
          },
          "metadata": {},
          "execution_count": 49
        }
      ],
      "source": [
        "outputs = model(test_src)\n",
        "print(f'Outputs shape: {outputs.shape}')\n",
        "\n",
        "output = torch.argmax(outputs, dim=2)\n",
        "output = output.cpu().detach().numpy()\n",
        "print(f'Outputs shape after argmax: {output.shape}')\n",
        "outputs[0]"
      ]
    },
    {
      "cell_type": "code",
      "execution_count": null,
      "id": "041a1163",
      "metadata": {
        "colab": {
          "base_uri": "https://localhost:8080/"
        },
        "id": "041a1163",
        "outputId": "c29303d6-3eb1-4c19-8182-677af471d50a"
      },
      "outputs": [
        {
          "output_type": "stream",
          "name": "stdout",
          "text": [
            "[NH1][start][start][start][start][start][start][start][start][start][start][start][start][start][start][start][start][start][start][start][start][start][start][start][start][start][start][start][start][start][start][start][start][start][start][start][start][start][start][start][start][start][start][start][start][start][start][start][start][start][start][start][start][start][start][start][start][start][start][start][start][start][start][start][start][start][start][start][start][start][start][start][start][start][start][start][start][start][start][start][start][start][start][start][start][start][start][start][start][start][start][start][start][start][start][start][start][start][start][start][start][start][start][start][start][start][start][start][start][start][start][start][start][start][start][start][start][start][start][start][start][start][start][start][start][start][start][start] \n",
            "\n",
            "[NH1][start][start][start][start][start][start][start][start][start][start][start][start][start][start][start][start][start][start][start][start][start][start][start][start][start][start][start][start][start][start][start][start][start][start][start][start][start][start][start][start][start][start][start][start][start][start][start][start][start][start][start][start][start][start][start][start][start][start][start][start][start][start][start][start][start][start][start][start][start][start][start][start][start][start][start][start][start][start][start][start][start][start][start][start][start][start][start][start][start][start][start][start][start][start][start][start][start][start][start][start][start][start][start][start][start][start][start][start][start][start][start][start][start][start][start][start][start][start][start][start][start][start][start][start][start][start][start] \n",
            "\n",
            "[NH1][start][start][start][start][start][start][start][start][start][start][start][start][start][start][start][start][start][start][start][start][start][start][start][start][start][start][start][start][start][start][start][start][start][start][start][start][start][start][start][start][start][start][start][start][start][start][start][start][start][start][start][start][start][start][start][start][start][start][start][start][start][start][start][start][start][start][start][start][start][start][start][start][start][start][start][start][start][start][start][start][start][start][start][start][start][start][start][start][start][start][start][start][start][start][start][start][start][start][start][start][start][start][start][start][start][start][start][start][start][start][start][start][start][start][start][start][start][start][start][start][start][start][start][start][start][start][start] \n",
            "\n",
            "[NH1][start][start][start][start][start][start][start][start][start][start][start][start][start][start][start][start][start][start][start][start][start][start][start][start][start][start][start][start][start][start][start][start][start][start][start][start][start][start][start][start][start][start][start][start][start][start][start][start][start][start][start][start][start][start][start][start][start][start][start][start][start][start][start][start][start][start][start][start][start][start][start][start][start][start][start][start][start][start][start][start][start][start][start][start][start][start][start][start][start][start][start][start][start][start][start][start][start][start][start][start][start][start][start][start][start][start][start][start][start][start][start][start][start][start][start][start][start][start][start][start][start][start][start][start][start][start][start] \n",
            "\n",
            "[NH1][start][start][start][start][start][start][start][start][start][start][start][start][start][start][start][start][start][start][start][start][start][start][start][start][start][start][start][start][start][start][start][start][start][start][start][start][start][start][start][start][start][start][start][start][start][start][start][start][start][start][start][start][start][start][start][start][start][start][start][start][start][start][start][start][start][start][start][start][start][start][start][start][start][start][start][start][start][start][start][start][start][start][start][start][start][start][start][start][start][start][start][start][start][start][start][start][start][start][start][start][start][start][start][start][start][start][start][start][start][start][start][start][start][start][start][start][start][start][start][start][start][start][start][start][start][start][start] \n",
            "\n"
          ]
        }
      ],
      "source": [
        "# see SELFIES\n",
        "selfies = []\n",
        "for selfie in output[:5]:\n",
        "    vectorized = []\n",
        "    for token in selfie:;\n",
        "        v = np.zeros(42)\n",
        "        v[token] = 1\n",
        "        vectorized.append(v)\n",
        "    vectorized = np.array(vectorized)\n",
        "    selfie = vectorizer.devectorize(vectorized)\n",
        "    selfies.append(selfie)\n",
        "for selfie in selfies:\n",
        "    print(selfie, '\\n')"
      ]
    },
    {
      "cell_type": "markdown",
      "id": "c3f697df",
      "metadata": {
        "id": "c3f697df"
      },
      "source": [
        "# Training loop"
      ]
    },
    {
      "cell_type": "code",
      "execution_count": 97,
      "id": "f7b00cca",
      "metadata": {
        "id": "f7b00cca"
      },
      "outputs": [],
      "source": [
        "from IPython import display\n",
        "\n",
        "def train(train_loader, test_loader, device):\n",
        "\n",
        "    # Setting common hyperparameters\n",
        "    EPOCHS = 10\n",
        "    input_size = 256\n",
        "    hidden_size = 256\n",
        "    n_layers = 1\n",
        "    output_size = 42\n",
        "    learn_rate = 0.001\n",
        "    \n",
        "    # Define dataframe for training progess display\n",
        "    epochs_range = range(1,EPOCHS+1)\n",
        "    metrics = pd.DataFrame();\n",
        "    metrics['epoch'] = epochs_range\n",
        "    \n",
        "    # Define pyplot for plotting metrics\n",
        "    fig, ax = plt.subplots(ncols=2, figsize=(7, 3), layout=\"constrained\")\n",
        "    dh = display.display(fig, display_id=True)\n",
        "    \n",
        "    # Instantiating the model\n",
        "    model = EncoderDecoder().to(device)\n",
        "    \n",
        "    # Defining loss function and optimizer\n",
        "    optimizer = torch.optim.Adam(model.parameters(), lr=learn_rate)\n",
        "    criterion = ConciousCrossEntropy()\n",
        "    model.train()\n",
        "    print(\"Starting Training of GRU\")\n",
        "    print(f\"Device: {device}\")\n",
        "    \n",
        "    # Start training loop\n",
        "    for epoch in epochs_range:\n",
        "        print(f'Epoch: {epoch}')\n",
        "        epoch_loss = 0\n",
        "        \n",
        "        for batch_idx, (X,y) in enumerate(tqdm(train_loader)):\n",
        "            X = X.to(device)\n",
        "            y = y.to(device)\n",
        "            \n",
        "            optimizer.zero_grad()\n",
        "            output = model(X)\n",
        "            loss = criterion(y, output)\n",
        "            loss.backward()\n",
        "            optimizer.step()\n",
        "            epoch_loss += loss.item()\n",
        "            \n",
        "        avg_loss = epoch_loss / len(train_loader)\n",
        "        val_loss = evaluate(model, test_loader)\n",
        "        model.train()\n",
        "\n",
        "        # Update metrics df\n",
        "        metrics = metrics.append({'epoch': epoch, 'train_loss': avg_loss, \n",
        "                                  'val_loss': val_loss}, ignore_index=True)\n",
        "        \n",
        "        # Display metrics\n",
        "        ax[0].clear()\n",
        "        ax[0].plot(metrics.epoch, metrics.train_loss)\n",
        "        ax[0].set_title('training loss')\n",
        "        ax[0].set_xlabel('epoch')\n",
        "        ax[0].set_ylabel('CrossEntropy')\n",
        "        ax[1].clear()\n",
        "        ax[1].plot(metrics.epoch, metrics.val_loss)\n",
        "        ax[1].set_title('validation loss')\n",
        "        ax[1].set_xlabel('epoch')\n",
        "        ax[1].set_ylabel('CrossEntropy')\n",
        "        dh.update(fig)\n",
        "    plt.close()\n",
        "    return model\n",
        "\n",
        "def evaluate(model, test_loader):\n",
        "    model.eval()\n",
        "    criterion = nn.CrossEntropyLoss()\n",
        "    epoch_loss = 0\n",
        "    for batch_idx, (X, y) in enumerate(test_loader):\n",
        "        X = X.to(device)\n",
        "        y = y.to(device)\n",
        "        output = model(X)\n",
        "        loss = criterion(output, y)\n",
        "        epoch_loss += loss.item()\n",
        "    avg_loss = epoch_loss / len(test_loader)\n",
        "    return avg_loss"
      ]
    },
    {
      "cell_type": "markdown",
      "id": "c874519b",
      "metadata": {
        "id": "c874519b"
      },
      "source": [
        "# Init and train the model"
      ]
    },
    {
      "cell_type": "code",
      "execution_count": 98,
      "id": "0839d044",
      "metadata": {
        "colab": {
          "base_uri": "https://localhost:8080/",
          "height": 1000
        },
        "id": "0839d044",
        "outputId": "bab445d4-fd44-4c3d-a48e-00cbb4c51ac0"
      },
      "outputs": [
        {
          "output_type": "display_data",
          "data": {
            "text/plain": [
              "<Figure size 700x300 with 2 Axes>"
            ],
            "image/png": "[encoded data removed]"
          },
          "metadata": {}
        },
        {
          "output_type": "stream",
          "name": "stdout",
          "text": [
            "Starting Training of GRU\n",
            "Device: cpu\n",
            "Epoch: 1\n"
          ]
        },
        {
          "output_type": "stream",
          "name": "stderr",
          "text": [
            "  0%|          | 0/646 [00:00<?, ?it/s]"
          ]
        },
        {
          "output_type": "stream",
          "name": "stdout",
          "text": [
            "Nops: 128\n",
            "Self ignore: [0. 0. 0. 0. 0. 0. 0. 0. 0. 0. 0. 0. 0. 0. 0. 0. 0. 0. 0. 0. 0. 0. 0. 0.\n",
            " 0. 0. 0. 0. 0. 0. 0. 0. 0. 0. 0. 0. 0. 0. 0. 0. 1. 0.]\n"
          ]
        },
        {
          "output_type": "stream",
          "name": "stderr",
          "text": [
            "\n"
          ]
        },
        {
          "output_type": "error",
          "ename": "ZeroDivisionError",
          "evalue": "ignored",
          "traceback": [
            "\u001b[0;31m---------------------------------------------------------------------------\u001b[0m",
            "\u001b[0;31mZeroDivisionError\u001b[0m                         Traceback (most recent call last)",
            "\u001b[0;32m<ipython-input-98-a05ea8c7c618>\u001b[0m in \u001b[0;36m<cell line: 1>\u001b[0;34m()\u001b[0m\n\u001b[0;32m----> 1\u001b[0;31m \u001b[0mmodel\u001b[0m \u001b[0;34m=\u001b[0m \u001b[0mtrain\u001b[0m\u001b[0;34m(\u001b[0m\u001b[0mtrain_loader\u001b[0m\u001b[0;34m,\u001b[0m \u001b[0mtest_loader\u001b[0m\u001b[0;34m,\u001b[0m \u001b[0mdevice\u001b[0m\u001b[0;34m)\u001b[0m\u001b[0;34m\u001b[0m\u001b[0;34m\u001b[0m\u001b[0m\n\u001b[0m",
            "\u001b[0;32m<ipython-input-97-abce0ff65a27>\u001b[0m in \u001b[0;36mtrain\u001b[0;34m(train_loader, test_loader, device)\u001b[0m\n\u001b[1;32m     41\u001b[0m             \u001b[0moptimizer\u001b[0m\u001b[0;34m.\u001b[0m\u001b[0mzero_grad\u001b[0m\u001b[0;34m(\u001b[0m\u001b[0;34m)\u001b[0m\u001b[0;34m\u001b[0m\u001b[0;34m\u001b[0m\u001b[0m\n\u001b[1;32m     42\u001b[0m             \u001b[0moutput\u001b[0m \u001b[0;34m=\u001b[0m \u001b[0mmodel\u001b[0m\u001b[0;34m(\u001b[0m\u001b[0mX\u001b[0m\u001b[0;34m)\u001b[0m\u001b[0;34m\u001b[0m\u001b[0;34m\u001b[0m\u001b[0m\n\u001b[0;32m---> 43\u001b[0;31m             \u001b[0mloss\u001b[0m \u001b[0;34m=\u001b[0m \u001b[0mcriterion\u001b[0m\u001b[0;34m(\u001b[0m\u001b[0my\u001b[0m\u001b[0;34m,\u001b[0m \u001b[0moutput\u001b[0m\u001b[0;34m)\u001b[0m\u001b[0;34m\u001b[0m\u001b[0;34m\u001b[0m\u001b[0m\n\u001b[0m\u001b[1;32m     44\u001b[0m             \u001b[0mloss\u001b[0m\u001b[0;34m.\u001b[0m\u001b[0mbackward\u001b[0m\u001b[0;34m(\u001b[0m\u001b[0;34m)\u001b[0m\u001b[0;34m\u001b[0m\u001b[0;34m\u001b[0m\u001b[0m\n\u001b[1;32m     45\u001b[0m             \u001b[0moptimizer\u001b[0m\u001b[0;34m.\u001b[0m\u001b[0mstep\u001b[0m\u001b[0;34m(\u001b[0m\u001b[0;34m)\u001b[0m\u001b[0;34m\u001b[0m\u001b[0;34m\u001b[0m\u001b[0m\n",
            "\u001b[0;32m/usr/local/lib/python3.10/dist-packages/torch/nn/modules/module.py\u001b[0m in \u001b[0;36m_call_impl\u001b[0;34m(self, *args, **kwargs)\u001b[0m\n\u001b[1;32m   1499\u001b[0m                 \u001b[0;32mor\u001b[0m \u001b[0m_global_backward_pre_hooks\u001b[0m \u001b[0;32mor\u001b[0m \u001b[0m_global_backward_hooks\u001b[0m\u001b[0;34m\u001b[0m\u001b[0;34m\u001b[0m\u001b[0m\n\u001b[1;32m   1500\u001b[0m                 or _global_forward_hooks or _global_forward_pre_hooks):\n\u001b[0;32m-> 1501\u001b[0;31m             \u001b[0;32mreturn\u001b[0m \u001b[0mforward_call\u001b[0m\u001b[0;34m(\u001b[0m\u001b[0;34m*\u001b[0m\u001b[0margs\u001b[0m\u001b[0;34m,\u001b[0m \u001b[0;34m**\u001b[0m\u001b[0mkwargs\u001b[0m\u001b[0;34m)\u001b[0m\u001b[0;34m\u001b[0m\u001b[0;34m\u001b[0m\u001b[0m\n\u001b[0m\u001b[1;32m   1502\u001b[0m         \u001b[0;31m# Do not call functions when jit is used\u001b[0m\u001b[0;34m\u001b[0m\u001b[0;34m\u001b[0m\u001b[0m\n\u001b[1;32m   1503\u001b[0m         \u001b[0mfull_backward_hooks\u001b[0m\u001b[0;34m,\u001b[0m \u001b[0mnon_full_backward_hooks\u001b[0m \u001b[0;34m=\u001b[0m \u001b[0;34m[\u001b[0m\u001b[0;34m]\u001b[0m\u001b[0;34m,\u001b[0m \u001b[0;34m[\u001b[0m\u001b[0;34m]\u001b[0m\u001b[0;34m\u001b[0m\u001b[0;34m\u001b[0m\u001b[0m\n",
            "\u001b[0;32m<ipython-input-95-376d146c2f6e>\u001b[0m in \u001b[0;36mforward\u001b[0;34m(self, predictions, target)\u001b[0m\n\u001b[1;32m     27\u001b[0m       \u001b[0mprint\u001b[0m\u001b[0;34m(\u001b[0m\u001b[0;34mf'Nops: {nops}'\u001b[0m\u001b[0;34m)\u001b[0m\u001b[0;34m\u001b[0m\u001b[0;34m\u001b[0m\u001b[0m\n\u001b[1;32m     28\u001b[0m       \u001b[0mprint\u001b[0m\u001b[0;34m(\u001b[0m\u001b[0;34mf'Self ignore: {self.ignore}'\u001b[0m\u001b[0;34m)\u001b[0m\u001b[0;34m\u001b[0m\u001b[0;34m\u001b[0m\u001b[0m\n\u001b[0;32m---> 29\u001b[0;31m       \u001b[0msequence_loss\u001b[0m \u001b[0;34m=\u001b[0m \u001b[0msequence_loss\u001b[0m\u001b[0;34m/\u001b[0m\u001b[0;34m(\u001b[0m\u001b[0mself\u001b[0m\u001b[0;34m.\u001b[0m\u001b[0mseq_len\u001b[0m\u001b[0;34m-\u001b[0m\u001b[0mnops\u001b[0m\u001b[0;34m)\u001b[0m\u001b[0;34m\u001b[0m\u001b[0;34m\u001b[0m\u001b[0m\n\u001b[0m\u001b[1;32m     30\u001b[0m       \u001b[0mcross_entropy_loss\u001b[0m \u001b[0;34m+=\u001b[0m \u001b[0msequence_loss\u001b[0m\u001b[0;34m\u001b[0m\u001b[0;34m\u001b[0m\u001b[0m\n\u001b[1;32m     31\u001b[0m     \u001b[0mloss_value\u001b[0m \u001b[0;34m=\u001b[0m \u001b[0mcross_entropy_loss\u001b[0m\u001b[0;34m/\u001b[0m\u001b[0mself\u001b[0m\u001b[0;34m.\u001b[0m\u001b[0mbatch_size\u001b[0m\u001b[0;34m\u001b[0m\u001b[0;34m\u001b[0m\u001b[0m\n",
            "\u001b[0;31mZeroDivisionError\u001b[0m: division by zero"
          ]
        },
        {
          "output_type": "display_data",
          "data": {
            "text/plain": [
              "<Figure size 700x300 with 2 Axes>"
            ],
            "image/png": "[encoded data removed]"
          },
          "metadata": {}
        }
      ],
      "source": [
        "model = train(train_loader, test_loader, device)"
      ]
    },
    {
      "cell_type": "code",
      "execution_count": null,
      "id": "f8614d46",
      "metadata": {
        "id": "f8614d46"
      },
      "outputs": [],
      "source": [
        "# save model just in case\n",
        "torch.save(model.state_dict(), './GRU_data/test1.pt')"
      ]
    },
    {
      "cell_type": "code",
      "execution_count": null,
      "id": "2bad90c0",
      "metadata": {
        "id": "2bad90c0"
      },
      "outputs": [],
      "source": [
        "#loaded_model = Autoencoder(4860, 300, 300, 42, 2, 0.0).to(device)\n",
        "#loaded_model.load_state_dict(torch.load('./GRU_data/model_h300_e500_teacher_forcing.pt'))"
      ]
    },
    {
      "cell_type": "code",
      "execution_count": null,
      "id": "2e768d4a",
      "metadata": {
        "id": "2e768d4a"
      },
      "outputs": [],
      "source": [
        "x, y = next(iter(test_loader))\n",
        "x = x.to(device)\n",
        "x.size()"
      ]
    },
    {
      "cell_type": "code",
      "execution_count": null,
      "id": "9dbdfd19",
      "metadata": {
        "id": "9dbdfd19"
      },
      "outputs": [],
      "source": [
        "encoded, decoded = loaded_model(x)"
      ]
    },
    {
      "cell_type": "markdown",
      "id": "bfe6bfa9",
      "metadata": {
        "id": "bfe6bfa9"
      },
      "source": [
        "# GRU output to SELFIES"
      ]
    },
    {
      "cell_type": "code",
      "execution_count": null,
      "id": "2aab1202",
      "metadata": {
        "id": "2aab1202"
      },
      "outputs": [],
      "source": [
        "decoded_indices = torch.argmax(decoded.cpu(), dim=2)\n",
        "decoded_indices = decoded_indices.numpy()"
      ]
    },
    {
      "cell_type": "code",
      "execution_count": null,
      "id": "c4a1d92f",
      "metadata": {
        "id": "c4a1d92f"
      },
      "outputs": [],
      "source": [
        "# set largers value to 1 and others to 0\n",
        "decoded_indices = torch.argmax(decoded.cpu(), dim=2)\n",
        "decoded_indices = decoded_indices.numpy()\n",
        "selfies_out = []\n",
        "for i, original in zip(decoded_indices, y):\n",
        "    vectorized = []\n",
        "    #print(f'Decoded: {i}')\n",
        "    #convert to one-hot\n",
        "    for number in i:\n",
        "        v = np.zeros(42)\n",
        "        v[number] = 1\n",
        "        vectorized.append(v)\n",
        "    vectorized = np.array(vectorized)\n",
        "    selfies_out.append(vectorizer.devectorize(vectorized, remove_special=True))\n",
        "    print(f'Original: {vectorizer.devectorize(original.cpu().numpy())} \\n')\n",
        "    print(f'Decoded:  {vectorizer.devectorize(vectorized)}')\n",
        "    print('------------------')"
      ]
    },
    {
      "cell_type": "code",
      "execution_count": null,
      "id": "1efcd595",
      "metadata": {
        "id": "1efcd595"
      },
      "outputs": [],
      "source": [
        "from rdkit import Chem\n",
        "from rdkit.Chem import Draw\n",
        "\n",
        "smiles = []\n",
        "for selfie in selfies_out:\n",
        "    smile = sf.decoder(selfie, attribute=False)\n",
        "    smiles.append(smile)\n",
        "\n",
        "ms = []\n",
        "for smile in smiles:\n",
        "    ms.append(Chem.MolFromSmiles(smile))\n",
        "Draw.MolToImage(ms[5], size=(800, 800), kekulize=True)"
      ]
    }
  ],
  "metadata": {
    "accelerator": "GPU",
    "colab": {
      "gpuType": "T4",
      "provenance": []
    },
    "kernelspec": {
      "display_name": "Python 3 (ipykernel)",
      "language": "python",
      "name": "python3"
    },
    "language_info": {
      "codemirror_mode": {
        "name": "ipython",
        "version": 3
      },
      "file_extension": ".py",
      "mimetype": "text/x-python",
      "name": "python",
      "nbconvert_exporter": "python",
      "pygments_lexer": "ipython3",
      "version": "3.9.16"
    }
  },
  "nbformat": 4,
  "nbformat_minor": 5
}