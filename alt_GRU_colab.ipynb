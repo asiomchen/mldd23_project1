{
  "cells": [
    {
      "cell_type": "code",
      "execution_count": 13,
      "id": "6ef6f3f5",
      "metadata": {
        "colab": {
          "base_uri": "https://localhost:8080/"
        },
        "id": "6ef6f3f5",
        "outputId": "86846e92-7fff-49e5-da8d-1f3f63a830d3"
      },
      "outputs": [
        {
          "output_type": "execute_result",
          "data": {
            "text/plain": [
              "device(type='cuda')"
            ]
          },
          "metadata": {},
          "execution_count": 13
        }
      ],
      "source": [
        "import torch\n",
        "import torch.nn as nn\n",
        "import torch.optim as optim\n",
        "import torch.utils.data as data_utils\n",
        "import torch.functional as F\n",
        "import numpy as np\n",
        "import pandas as pd\n",
        "import time\n",
        "import random\n",
        "import matplotlib.pyplot as plt\n",
        "import re\n",
        "from tqdm import tqdm\n",
        "from IPython import display\n",
        "\n",
        "device = torch.device('cuda' if torch.cuda.is_available() else 'cpu')\n",
        "device"
      ]
    },
    {
      "cell_type": "code",
      "execution_count": 2,
      "id": "9b8b28d1",
      "metadata": {
        "colab": {
          "base_uri": "https://localhost:8080/"
        },
        "id": "9b8b28d1",
        "outputId": "a27fc4a9-a27e-47f0-c579-ce4a2d76ea43"
      },
      "outputs": [
        {
          "output_type": "stream",
          "name": "stdout",
          "text": [
            "Mounted at /content/drive\n",
            "Looking in indexes: https://pypi.org/simple, https://us-python.pkg.dev/colab-wheels/public/simple/\n",
            "Collecting selfies\n",
            "  Downloading selfies-2.1.1-py3-none-any.whl (35 kB)\n",
            "Installing collected packages: selfies\n",
            "Successfully installed selfies-2.1.1\n"
          ]
        }
      ],
      "source": [
        "from google.colab import drive\n",
        "\n",
        "drive.mount('/content/drive', force_remount=True)\n",
        "\n",
        "!pip install selfies\n",
        "\n",
        "x_path = '/content/drive/My Drive/GRU_data/250k_klek.csv'\n",
        "y_path = '/content/drive/My Drive/GRU_data/250k_selfies.csv'"
      ]
    },
    {
      "cell_type": "markdown",
      "id": "f16dfcb1",
      "metadata": {
        "id": "f16dfcb1"
      },
      "source": [
        "# Data prep"
      ]
    },
    {
      "cell_type": "code",
      "execution_count": 3,
      "id": "8a3fbcdb",
      "metadata": {
        "id": "8a3fbcdb",
        "colab": {
          "base_uri": "https://localhost:8080/"
        },
        "outputId": "f5670154-ed50-4405-ac92-239c66fa7733"
      },
      "outputs": [
        {
          "output_type": "execute_result",
          "data": {
            "text/plain": [
              "42"
            ]
          },
          "metadata": {},
          "execution_count": 3
        }
      ],
      "source": [
        "# alphabet of tokens for output\n",
        "\n",
        "import selfies as sf\n",
        "data = pd.read_csv(y_path)\n",
        "alphabet = sf.get_alphabet_from_selfies(data.selfies)\n",
        "alphabet.add(\"[start]\")\n",
        "alphabet.add(\"[end]\")\n",
        "alphabet.add(\"[nop]\") # [nop] is a special padding symbol\n",
        "alphabet = list(sorted(alphabet))\n",
        "#pad_to_len = max(sf.len_selfies(s) for s in data.selfies) + 10\n",
        "pad_to_len = 128 # for simplicities' sake\n",
        "symbol_to_idx = {s: i for i, s in enumerate(alphabet)}\n",
        "idx2char = {i: s for i, s in enumerate(alphabet)}\n",
        "len(alphabet)"
      ]
    },
    {
      "cell_type": "code",
      "execution_count": 4,
      "id": "f55a6d94",
      "metadata": {
        "id": "f55a6d94"
      },
      "outputs": [],
      "source": [
        "class SELFIESVectorizer:\n",
        "    def __init__(self, alphabet, pad_to_len=None):\n",
        "        self.alphabet = alphabet\n",
        "        self.char2idx = {s: i for i, s in enumerate(alphabet)}\n",
        "        self.idx2char = {i: s for i, s in enumerate(alphabet)}\n",
        "        self.pad_to_len = pad_to_len\n",
        "    def vectorize(self, selfie, no_special=False):\n",
        "        ''' Vectorize a list of SMILES strings to a numpy array of shape (len(smiles), embed, len(charset))'''\n",
        "        if no_special:\n",
        "            splited = self.split_selfi(selfie)\n",
        "        elif self.pad_to_len is None:\n",
        "            splited = ['[start]'] + self.split_selfi(selfie) + ['[end]']\n",
        "        else:\n",
        "            splited = ['[start]'] + self.split_selfi(selfie) + ['[end]'] + ['[nop]'] * (self.pad_to_len - len(self.split_selfi(selfie)) - 2)\n",
        "        X = np.zeros((len(splited), len(self.alphabet)))\n",
        "        for i in range(len(splited)):\n",
        "            X[i, self.char2idx[splited[i]]] = 1\n",
        "        return X\n",
        "    def devectorize(self, ohe, remove_special=False):\n",
        "        ''' Devectorize a numpy array of shape (len(smiles), embed, len(charset)) to a list of SMILES strings'''\n",
        "        selfie_str = ''\n",
        "        for j in range(ohe.shape[0]):\n",
        "            idx = np.argmax(ohe[j, :])\n",
        "            if remove_special and (self.idx2char[idx] == '[start]' or self.idx2char[idx] == '[end]'):\n",
        "                continue\n",
        "            selfie_str += self.idx2char[idx]\n",
        "        return selfie_str\n",
        "    def idxize(self, selfie, no_special=False):\n",
        "        if no_special:\n",
        "            splited = self.split_selfi(selfie)\n",
        "        else:\n",
        "            splited = ['[start]'] + self.split_selfi(selfie) + ['[end]'] + ['[nop]'] * (self.pad_to_len - len(self.split_selfi(selfie)) - 2)\n",
        "        return np.array([self.char2idx[s] for s in splited])\n",
        "    def deidxize(self, idx):\n",
        "        return \"\".join([self.idx2char[i] for i in idx])\n",
        "    def split_selfi(self, selfie):\n",
        "        pattern = r'(\\[[^\\[\\]]*\\])'\n",
        "        return re.findall(pattern, selfie)\n",
        "vectorizer = SELFIESVectorizer(alphabet, pad_to_len)"
      ]
    },
    {
      "cell_type": "code",
      "execution_count": 5,
      "id": "6538d564",
      "metadata": {
        "id": "6538d564"
      },
      "outputs": [],
      "source": [
        "from torch.utils.data import Dataset, DataLoader\n",
        "\n",
        "class GRUDatasetv2(Dataset):\n",
        "    def __init__(self, smiles_fp, selfies, vectorizer):\n",
        "        self.smiles_fp = pd.read_csv(smiles_fp, nrows=50000)\n",
        "        self.selfies = pd.read_csv(selfies, nrows=50000)\n",
        "        #self.smiles_fp = pd.read_csv(smiles_fp)\n",
        "        #self.selfies = pd.read_csv(selfies)\n",
        "        self.selfies= self.prepare_y(self.selfies)\n",
        "        self.vectorizer = vectorizer\n",
        "    def __len__(self):\n",
        "        return len(self.smiles_fp)\n",
        "    def __getitem__(self, idx):\n",
        "        raw_selfie = self.selfies[idx][0]\n",
        "        vectorized_selfie = self.vectorizer.vectorize(raw_selfie)\n",
        "        raw_X = self.smiles_fp.fps[idx]\n",
        "        X = np.array(eval(raw_X), dtype=int)\n",
        "        X_reconstructed = self.reconstruct_fp(X)\n",
        "        return torch.from_numpy(X_reconstructed).float(), torch.from_numpy(vectorized_selfie).float()\n",
        "\n",
        "    @staticmethod\n",
        "    def prepare_X(smiles_fp):\n",
        "        fps = smiles_fp.fps.apply(eval).apply(lambda x: np.array(x, dtype=int))\n",
        "        return fps\n",
        "    @staticmethod\n",
        "    def prepare_y(selfies):\n",
        "        return selfies.values\n",
        "        \n",
        "    @staticmethod\n",
        "    def reconstruct_fp(fp, length=4860):\n",
        "        fp_rec = np.zeros(length)\n",
        "        fp_rec[fp] = 1\n",
        "        return fp_rec"
      ]
    },
    {
      "cell_type": "code",
      "execution_count": 6,
      "id": "062168b4",
      "metadata": {
        "id": "062168b4"
      },
      "outputs": [],
      "source": [
        "dataset = GRUDatasetv2(x_path, y_path, vectorizer)\n",
        "train_size = int(0.9 * len(dataset))\n",
        "test_size = len(dataset) - train_size\n",
        "train_dataset, test_dataset = torch.utils.data.random_split(dataset, [train_size, test_size])"
      ]
    },
    {
      "cell_type": "code",
      "execution_count": 7,
      "id": "3a16a986",
      "metadata": {
        "colab": {
          "base_uri": "https://localhost:8080/"
        },
        "id": "3a16a986",
        "outputId": "ee0a5141-ff9d-4102-98b6-341d87680134"
      },
      "outputs": [
        {
          "output_type": "stream",
          "name": "stdout",
          "text": [
            "Dataset size: 50000\n",
            "Train size: 45000\n",
            "Test size: 5000\n"
          ]
        }
      ],
      "source": [
        "print(\"Dataset size:\", len(dataset))\n",
        "print(\"Train size:\", len(train_dataset))\n",
        "print(\"Test size:\", len(test_dataset))"
      ]
    },
    {
      "cell_type": "code",
      "execution_count": 8,
      "id": "da4f014e",
      "metadata": {
        "id": "da4f014e"
      },
      "outputs": [],
      "source": [
        "batch_size = 256\n",
        "train_loader = DataLoader(train_dataset, shuffle=True, batch_size=batch_size, drop_last=True)\n",
        "test_loader = DataLoader(test_dataset, shuffle=False, batch_size=batch_size, drop_last=True)"
      ]
    },
    {
      "cell_type": "markdown",
      "id": "02f39daf",
      "metadata": {
        "id": "02f39daf"
      },
      "source": [
        "# NN architecture"
      ]
    },
    {
      "cell_type": "code",
      "execution_count": 89,
      "id": "8248e95c",
      "metadata": {
        "id": "8248e95c"
      },
      "outputs": [],
      "source": [
        "class EncoderNet(nn.Module):\n",
        "    def __init__(self, fp_size):\n",
        "        super(EncoderNet, self).__init__()\n",
        "        self.relu = nn.ReLU()\n",
        "        self.fc1 = nn.Linear(fp_size, 2048)\n",
        "        self.fc2 = nn.Linear(2048, 1024)\n",
        "        self.fc3 = nn.Linear(1024, 512)\n",
        "        self.fc4 = nn.Linear(512, 256)\n",
        "    def forward(self, x):\n",
        "        out = self.relu(self.fc1(x))\n",
        "        out = self.relu(self.fc2(out))\n",
        "        out = self.relu(self.fc3(out))\n",
        "        out = self.relu(self.fc4(out))\n",
        "        #out.shape = [batch_size, 256]\n",
        "        return out\n",
        "\n",
        "\n",
        "class DecoderNet(nn.Module):\n",
        "    def __init__(self, input_size, hidden_size, num_layers, output_size):\n",
        "        super(DecoderNet, self).__init__()\n",
        "        \n",
        "        # GRU parameters\n",
        "        self.input_size = input_size\n",
        "        self.hidden_size = hidden_size\n",
        "        self.num_layers = num_layers\n",
        "        \n",
        "        # output token count\n",
        "        self.output_size = output_size\n",
        "\n",
        "        # pytorch.nn\n",
        "        self.gru = nn.GRU(input_size=input_size, hidden_size=hidden_size, num_layers=num_layers, batch_first=True)\n",
        "        self.fc = nn.Linear(hidden_size, output_size)\n",
        "        self.softmax = nn.Softmax(dim=2)\n",
        "        self.relu = nn.ReLU()\n",
        "\n",
        "    def forward(self, x, h):\n",
        "        #x.shape = [batch_size, selfie_len, encoding_size] = [64, 128, 256]\n",
        "        out, h = self.gru(x, h)\n",
        "        #out.shape = [batch_size, selfie_len, hidden_size] = [64, 128, 256]\n",
        "        #h.shape = [num_layers, batch_size, hidden_size] = [1, 64, 256]\n",
        "        out1 = self.fc(self.relu(out))\n",
        "        out1 = self.softmax(out1)\n",
        "        return out, h\n",
        "    \n",
        "    def init_hidden(self, batch_size):\n",
        "        h0 = torch.zeros(self.num_layers, batch_size, self.hidden_size)\n",
        "        return h0"
      ]
    },
    {
      "cell_type": "code",
      "execution_count": 90,
      "id": "ea11abf2",
      "metadata": {
        "id": "ea11abf2"
      },
      "outputs": [],
      "source": [
        "class EncoderDecoder(nn.Module):\n",
        "    def __init__(self, fp_size=4860, input_size=256, hidden_size=256, num_layers=1, output_size=42):\n",
        "        super(EncoderDecoder, self).__init__()\n",
        "        self.encoder = EncoderNet(fp_size=4860)\n",
        "        self.decoder = DecoderNet(input_size, hidden_size, num_layers, output_size)\n",
        "        \n",
        "        #pytorch.nn\n",
        "        self.fc = nn.Linear(256, 42)\n",
        "        self.relu = nn.ReLU()\n",
        "        \n",
        "    def forward(self, x):\n",
        "        hidden = decoder.init_hidden(batch_size=x.shape[0]).to(device)\n",
        "        encoded = self.encoder(x)\n",
        "        x = encoded.unsqueeze(1)\n",
        "        decoded = []\n",
        "        for n in range(128):\n",
        "            out, hidden = self.decoder(x, hidden)\n",
        "            x = out\n",
        "            out = self.relu(self.fc(out))\n",
        "            decoded.append(out)\n",
        "        out_cat = torch.cat(decoded, dim=1)\n",
        "        return out_cat # shape [batch_size, selfie_len, alphabet_len]"
      ]
    },
    {
      "cell_type": "markdown",
      "id": "8e0cf5ff",
      "metadata": {
        "id": "8e0cf5ff"
      },
      "source": [
        "#  NN Debugging section"
      ]
    },
    {
      "cell_type": "code",
      "execution_count": 38,
      "id": "c0132236",
      "metadata": {
        "id": "c0132236"
      },
      "outputs": [],
      "source": [
        "# define encoder and decoder\n",
        "\n",
        "encoder = EncoderNet(fp_size=4860)\n",
        "decoder = DecoderNet(input_size=256, hidden_size=256, num_layers=1, output_size=42)"
      ]
    },
    {
      "cell_type": "code",
      "execution_count": 42,
      "id": "a49b4559",
      "metadata": {
        "colab": {
          "base_uri": "https://localhost:8080/"
        },
        "id": "a49b4559",
        "outputId": "ad15d517-419f-43c2-e117-9eb23bb698b2"
      },
      "outputs": [
        {
          "output_type": "stream",
          "name": "stdout",
          "text": [
            "Encoded shape: torch.Size([256, 1, 256])\n"
          ]
        }
      ],
      "source": [
        "# get test batch, encode and reshape\n",
        "\n",
        "test_src = next(iter(train_loader))[0]\n",
        "test_trg = next(iter(train_loader))[1]\n",
        "encoded = encoder(test_src)\n",
        "encoded = encoded.unsqueeze(1)\n",
        "print(f'Encoded shape: {encoded.shape}')"
      ]
    },
    {
      "cell_type": "code",
      "execution_count": 84,
      "id": "aeea732c",
      "metadata": {
        "colab": {
          "base_uri": "https://localhost:8080/"
        },
        "id": "aeea732c",
        "outputId": "ac252fa4-6caf-41c5-a294-d9aa07a7c481"
      },
      "outputs": [
        {
          "output_type": "execute_result",
          "data": {
            "text/plain": [
              "torch.Size([256, 128])"
            ]
          },
          "metadata": {},
          "execution_count": 84
        }
      ],
      "source": [
        "fc = nn.Linear(256, 42)\n",
        "relu = nn.ReLU()\n",
        "softmax2d = nn.Softmax(dim=2)\n",
        "\n",
        "hidden = decoder.init_hidden(batch_size)\n",
        "x = encoded\n",
        "decoded = []\n",
        "for n in range(128):\n",
        "    out, hidden = decoder(x=x, h=hidden)\n",
        "    x = out\n",
        "    out = relu(fc(out))\n",
        "    decoded.append(out)\n",
        "out_cat = torch.cat(decoded, dim=1)\n",
        "out_cat = softmax2d(out_cat)\n",
        "out_cat = torch.argmax(out_cat, dim=2)\n",
        "out_cat.shape"
      ]
    },
    {
      "cell_type": "code",
      "execution_count": 91,
      "id": "f2893d40",
      "metadata": {
        "colab": {
          "base_uri": "https://localhost:8080/"
        },
        "id": "f2893d40",
        "outputId": "a00a9b3d-357f-4d53-c3b3-5aef7d292c99"
      },
      "outputs": [
        {
          "output_type": "stream",
          "name": "stdout",
          "text": [
            "Src shape: torch.Size([256, 4860])\n",
            "Trg shape: torch.Size([256, 128, 42])\n",
            "test_src on cuda? True\n",
            "test_trg on cuda? True\n"
          ]
        }
      ],
      "source": [
        "model = EncoderDecoder()\n",
        "model = model.to(device)\n",
        "test_src = next(iter(train_loader))[0].to(device)\n",
        "test_trg = next(iter(train_loader))[1].to(device)\n",
        "print(f'Src shape: {test_src.shape}')\n",
        "print(f'Trg shape: {test_trg.shape}')"
      ]
    },
    {
      "cell_type": "code",
      "execution_count": 93,
      "id": "66ead312",
      "metadata": {
        "colab": {
          "base_uri": "https://localhost:8080/"
        },
        "id": "66ead312",
        "outputId": "6dd180c5-4037-4b53-b1c9-cd7279618bfd"
      },
      "outputs": [
        {
          "output_type": "stream",
          "name": "stdout",
          "text": [
            "Outputs shape: torch.Size([256, 128, 42])\n",
            "Outputs shape after argmax: (256, 128)\n"
          ]
        }
      ],
      "source": [
        "outputs = model(test_src)\n",
        "print(f'Outputs shape: {outputs.shape}')\n",
        "\n",
        "output = torch.argmax(outputs, dim=2)\n",
        "output = output.cpu().detach().numpy()\n",
        "print(f'Outputs shape after argmax: {output.shape}')"
      ]
    },
    {
      "cell_type": "code",
      "execution_count": 94,
      "id": "041a1163",
      "metadata": {
        "colab": {
          "base_uri": "https://localhost:8080/"
        },
        "id": "041a1163",
        "outputId": "c29303d6-3eb1-4c19-8182-677af471d50a"
      },
      "outputs": [
        {
          "output_type": "stream",
          "name": "stdout",
          "text": [
            "[NH1][start][start][start][start][start][start][start][start][start][start][start][start][start][start][start][start][start][start][start][start][start][start][start][start][start][start][start][start][start][start][start][start][start][start][start][start][start][start][start][start][start][start][start][start][start][start][start][start][start][start][start][start][start][start][start][start][start][start][start][start][start][start][start][start][start][start][start][start][start][start][start][start][start][start][start][start][start][start][start][start][start][start][start][start][start][start][start][start][start][start][start][start][start][start][start][start][start][start][start][start][start][start][start][start][start][start][start][start][start][start][start][start][start][start][start][start][start][start][start][start][start][start][start][start][start][start][start] \n",
            "\n",
            "[NH1][start][start][start][start][start][start][start][start][start][start][start][start][start][start][start][start][start][start][start][start][start][start][start][start][start][start][start][start][start][start][start][start][start][start][start][start][start][start][start][start][start][start][start][start][start][start][start][start][start][start][start][start][start][start][start][start][start][start][start][start][start][start][start][start][start][start][start][start][start][start][start][start][start][start][start][start][start][start][start][start][start][start][start][start][start][start][start][start][start][start][start][start][start][start][start][start][start][start][start][start][start][start][start][start][start][start][start][start][start][start][start][start][start][start][start][start][start][start][start][start][start][start][start][start][start][start][start] \n",
            "\n",
            "[NH1][start][start][start][start][start][start][start][start][start][start][start][start][start][start][start][start][start][start][start][start][start][start][start][start][start][start][start][start][start][start][start][start][start][start][start][start][start][start][start][start][start][start][start][start][start][start][start][start][start][start][start][start][start][start][start][start][start][start][start][start][start][start][start][start][start][start][start][start][start][start][start][start][start][start][start][start][start][start][start][start][start][start][start][start][start][start][start][start][start][start][start][start][start][start][start][start][start][start][start][start][start][start][start][start][start][start][start][start][start][start][start][start][start][start][start][start][start][start][start][start][start][start][start][start][start][start][start] \n",
            "\n",
            "[NH1][start][start][start][start][start][start][start][start][start][start][start][start][start][start][start][start][start][start][start][start][start][start][start][start][start][start][start][start][start][start][start][start][start][start][start][start][start][start][start][start][start][start][start][start][start][start][start][start][start][start][start][start][start][start][start][start][start][start][start][start][start][start][start][start][start][start][start][start][start][start][start][start][start][start][start][start][start][start][start][start][start][start][start][start][start][start][start][start][start][start][start][start][start][start][start][start][start][start][start][start][start][start][start][start][start][start][start][start][start][start][start][start][start][start][start][start][start][start][start][start][start][start][start][start][start][start][start] \n",
            "\n",
            "[NH1][start][start][start][start][start][start][start][start][start][start][start][start][start][start][start][start][start][start][start][start][start][start][start][start][start][start][start][start][start][start][start][start][start][start][start][start][start][start][start][start][start][start][start][start][start][start][start][start][start][start][start][start][start][start][start][start][start][start][start][start][start][start][start][start][start][start][start][start][start][start][start][start][start][start][start][start][start][start][start][start][start][start][start][start][start][start][start][start][start][start][start][start][start][start][start][start][start][start][start][start][start][start][start][start][start][start][start][start][start][start][start][start][start][start][start][start][start][start][start][start][start][start][start][start][start][start][start] \n",
            "\n"
          ]
        }
      ],
      "source": [
        "# see SELFIES\n",
        "selfies = []\n",
        "for selfie in output[:5]:\n",
        "    vectorized = []\n",
        "    for token in selfie:;\n",
        "        v = np.zeros(42)\n",
        "        v[token] = 1\n",
        "        vectorized.append(v)\n",
        "    vectorized = np.array(vectorized)\n",
        "    selfie = vectorizer.devectorize(vectorized)\n",
        "    selfies.append(selfie)\n",
        "for selfie in selfies:\n",
        "    print(selfie, '\\n')"
      ]
    },
    {
      "cell_type": "markdown",
      "id": "c3f697df",
      "metadata": {
        "id": "c3f697df"
      },
      "source": [
        "# Training loop"
      ]
    },
    {
      "cell_type": "code",
      "execution_count": 100,
      "id": "f7b00cca",
      "metadata": {
        "id": "f7b00cca"
      },
      "outputs": [],
      "source": [
        "from IPython import display\n",
        "\n",
        "def train(train_loader, test_loader, device):\n",
        "\n",
        "    # Setting common hyperparameters\n",
        "    EPOCHS = 10\n",
        "    input_size = 256\n",
        "    hidden_size = 256\n",
        "    n_layers = 1\n",
        "    output_size = 42\n",
        "    learn_rate = 0.001\n",
        "    \n",
        "    # Define dataframe for training progess display\n",
        "    epochs_range = range(1,EPOCHS+1)\n",
        "    metrics = pd.DataFrame();\n",
        "    metrics['epoch'] = epochs_range\n",
        "    \n",
        "    # Define pyplot for plotting metrics\n",
        "    fig, ax = plt.subplots(ncols=2, figsize=(7, 3), layout=\"constrained\")\n",
        "    dh = display.display(fig, display_id=True)\n",
        "    \n",
        "    # Instantiating the model\n",
        "    model = EncoderDecoder().to(device)\n",
        "    \n",
        "    # Defining loss function and optimizer\n",
        "    criterion = nn.CrossEntropyLoss()\n",
        "    optimizer = torch.optim.Adam(model.parameters(), lr=learn_rate)\n",
        "    \n",
        "    model.train()\n",
        "    print(\"Starting Training of GRU\")\n",
        "    print(f\"Device: {device}\")\n",
        "    \n",
        "    # Start training loop\n",
        "    for epoch in epochs_range:\n",
        "        print(f'Epoch: {epoch}')\n",
        "        epoch_loss = 0\n",
        "        \n",
        "        for batch_idx, (X,y) in enumerate(tqdm(train_loader)):\n",
        "            X = X.to(device)\n",
        "            y = y.to(device)\n",
        "            \n",
        "            optimizer.zero_grad()\n",
        "            output = model(X)\n",
        "            loss = criterion(output, y)\n",
        "            loss.backward()\n",
        "            optimizer.step()\n",
        "            epoch_loss += loss.item()\n",
        "            \n",
        "        avg_loss = epoch_loss / len(train_loader)\n",
        "        val_loss = evaluate(model, test_loader)\n",
        "        model.train()\n",
        "\n",
        "        # Update metrics df\n",
        "        metrics = metrics.append({'epoch': epoch, 'train_loss': avg_loss, \n",
        "                                  'val_loss': val_loss}, ignore_index=True)\n",
        "        \n",
        "        # Display metrics\n",
        "        ax[0].clear()\n",
        "        ax[0].plot(metrics.epoch, metrics.train_loss)\n",
        "        ax[0].set_title('training loss')\n",
        "        ax[0].set_xlabel('epoch')\n",
        "        ax[0].set_ylabel('CrossEntropy')\n",
        "        ax[1].clear()\n",
        "        ax[1].plot(metrics.epoch, metrics.val_loss)\n",
        "        ax[1].set_title('validation loss')\n",
        "        ax[1].set_xlabel('epoch')\n",
        "        ax[1].set_ylabel('CrossEntropy')\n",
        "        dh.update(fig)\n",
        "    plt.close()\n",
        "    return model\n",
        "\n",
        "def evaluate(model, test_loader):\n",
        "    model.eval()\n",
        "    criterion = nn.CrossEntropyLoss()\n",
        "    epoch_loss = 0\n",
        "    for batch_idx, (X, y) in enumerate(test_loader):\n",
        "        X = X.to(device)\n",
        "        y = y.to(device)\n",
        "        output = model(X)\n",
        "        loss = criterion(output, y)\n",
        "        epoch_loss += loss.item()\n",
        "    avg_loss = epoch_loss / len(test_loader)\n",
        "    return avg_loss"
      ]
    },
    {
      "cell_type": "markdown",
      "id": "c874519b",
      "metadata": {
        "id": "c874519b"
      },
      "source": [
        "# Init and train the model"
      ]
    },
    {
      "cell_type": "code",
      "execution_count": 101,
      "id": "0839d044",
      "metadata": {
        "colab": {
          "base_uri": "https://localhost:8080/",
          "height": 1000
        },
        "id": "0839d044",
        "outputId": "8a135eea-4e91-463b-a0c4-287f5ef153ce"
      },
      "outputs": [
        {
          "output_type": "display_data",
          "data": {
            "text/plain": [
              "<Figure size 700x300 with 2 Axes>"
            ],
            "image/png": "[encoded data removed]"
          },
          "metadata": {}
        },
        {
          "output_type": "stream",
          "name": "stdout",
          "text": [
            "Starting Training of GRU\n",
            "Device = cuda\n",
            "Epoch: 1\n"
          ]
        },
        {
          "output_type": "stream",
          "name": "stderr",
          "text": [
            "100%|██████████| 175/175 [00:39<00:00,  4.42it/s]\n",
            "<ipython-input-100-4368132781ae>:54: FutureWarning: The frame.append method is deprecated and will be removed from pandas in a future version. Use pandas.concat instead.\n",
            "  metrics = metrics.append({'epoch': epoch, 'train_loss': avg_loss,\n"
          ]
        },
        {
          "output_type": "stream",
          "name": "stdout",
          "text": [
            "Epoch: 2\n"
          ]
        },
        {
          "output_type": "stream",
          "name": "stderr",
          "text": [
            "100%|██████████| 175/175 [00:38<00:00,  4.57it/s]\n",
            "<ipython-input-100-4368132781ae>:54: FutureWarning: The frame.append method is deprecated and will be removed from pandas in a future version. Use pandas.concat instead.\n",
            "  metrics = metrics.append({'epoch': epoch, 'train_loss': avg_loss,\n"
          ]
        },
        {
          "output_type": "stream",
          "name": "stdout",
          "text": [
            "Epoch: 3\n"
          ]
        },
        {
          "output_type": "stream",
          "name": "stderr",
          "text": [
            "100%|██████████| 175/175 [00:38<00:00,  4.59it/s]\n",
            "<ipython-input-100-4368132781ae>:54: FutureWarning: The frame.append method is deprecated and will be removed from pandas in a future version. Use pandas.concat instead.\n",
            "  metrics = metrics.append({'epoch': epoch, 'train_loss': avg_loss,\n"
          ]
        },
        {
          "output_type": "stream",
          "name": "stdout",
          "text": [
            "Epoch: 4\n"
          ]
        },
        {
          "output_type": "stream",
          "name": "stderr",
          "text": [
            "100%|██████████| 175/175 [00:38<00:00,  4.58it/s]\n",
            "<ipython-input-100-4368132781ae>:54: FutureWarning: The frame.append method is deprecated and will be removed from pandas in a future version. Use pandas.concat instead.\n",
            "  metrics = metrics.append({'epoch': epoch, 'train_loss': avg_loss,\n"
          ]
        },
        {
          "output_type": "stream",
          "name": "stdout",
          "text": [
            "Epoch: 5\n"
          ]
        },
        {
          "output_type": "stream",
          "name": "stderr",
          "text": [
            "100%|██████████| 175/175 [00:39<00:00,  4.43it/s]\n",
            "<ipython-input-100-4368132781ae>:54: FutureWarning: The frame.append method is deprecated and will be removed from pandas in a future version. Use pandas.concat instead.\n",
            "  metrics = metrics.append({'epoch': epoch, 'train_loss': avg_loss,\n"
          ]
        },
        {
          "output_type": "stream",
          "name": "stdout",
          "text": [
            "Epoch: 6\n"
          ]
        },
        {
          "output_type": "stream",
          "name": "stderr",
          "text": [
            "100%|██████████| 175/175 [00:39<00:00,  4.47it/s]\n",
            "<ipython-input-100-4368132781ae>:54: FutureWarning: The frame.append method is deprecated and will be removed from pandas in a future version. Use pandas.concat instead.\n",
            "  metrics = metrics.append({'epoch': epoch, 'train_loss': avg_loss,\n"
          ]
        },
        {
          "output_type": "stream",
          "name": "stdout",
          "text": [
            "Epoch: 7\n"
          ]
        },
        {
          "output_type": "stream",
          "name": "stderr",
          "text": [
            "100%|██████████| 175/175 [00:39<00:00,  4.41it/s]\n",
            "<ipython-input-100-4368132781ae>:54: FutureWarning: The frame.append method is deprecated and will be removed from pandas in a future version. Use pandas.concat instead.\n",
            "  metrics = metrics.append({'epoch': epoch, 'train_loss': avg_loss,\n"
          ]
        },
        {
          "output_type": "stream",
          "name": "stdout",
          "text": [
            "Epoch: 8\n"
          ]
        },
        {
          "output_type": "stream",
          "name": "stderr",
          "text": [
            "100%|██████████| 175/175 [00:41<00:00,  4.26it/s]\n",
            "<ipython-input-100-4368132781ae>:54: FutureWarning: The frame.append method is deprecated and will be removed from pandas in a future version. Use pandas.concat instead.\n",
            "  metrics = metrics.append({'epoch': epoch, 'train_loss': avg_loss,\n"
          ]
        },
        {
          "output_type": "stream",
          "name": "stdout",
          "text": [
            "Epoch: 9\n"
          ]
        },
        {
          "output_type": "stream",
          "name": "stderr",
          "text": [
            "100%|██████████| 175/175 [00:40<00:00,  4.31it/s]\n",
            "<ipython-input-100-4368132781ae>:54: FutureWarning: The frame.append method is deprecated and will be removed from pandas in a future version. Use pandas.concat instead.\n",
            "  metrics = metrics.append({'epoch': epoch, 'train_loss': avg_loss,\n"
          ]
        },
        {
          "output_type": "stream",
          "name": "stdout",
          "text": [
            "Epoch: 10\n"
          ]
        },
        {
          "output_type": "stream",
          "name": "stderr",
          "text": [
            "  0%|          | 0/175 [00:00<?, ?it/s]\n"
          ]
        },
        {
          "output_type": "error",
          "ename": "KeyboardInterrupt",
          "evalue": "ignored",
          "traceback": [
            "\u001b[0;31m---------------------------------------------------------------------------\u001b[0m",
            "\u001b[0;31mKeyboardInterrupt\u001b[0m                         Traceback (most recent call last)",
            "\u001b[0;32m<ipython-input-101-a05ea8c7c618>\u001b[0m in \u001b[0;36m<cell line: 1>\u001b[0;34m()\u001b[0m\n\u001b[0;32m----> 1\u001b[0;31m \u001b[0mmodel\u001b[0m \u001b[0;34m=\u001b[0m \u001b[0mtrain\u001b[0m\u001b[0;34m(\u001b[0m\u001b[0mtrain_loader\u001b[0m\u001b[0;34m,\u001b[0m \u001b[0mtest_loader\u001b[0m\u001b[0;34m,\u001b[0m \u001b[0mdevice\u001b[0m\u001b[0;34m)\u001b[0m\u001b[0;34m\u001b[0m\u001b[0;34m\u001b[0m\u001b[0m\n\u001b[0m",
            "\u001b[0;32m<ipython-input-100-4368132781ae>\u001b[0m in \u001b[0;36mtrain\u001b[0;34m(train_loader, test_loader, device)\u001b[0m\n\u001b[1;32m     36\u001b[0m         \u001b[0mepoch_loss\u001b[0m \u001b[0;34m=\u001b[0m \u001b[0;36m0\u001b[0m\u001b[0;34m\u001b[0m\u001b[0;34m\u001b[0m\u001b[0m\n\u001b[1;32m     37\u001b[0m \u001b[0;34m\u001b[0m\u001b[0m\n\u001b[0;32m---> 38\u001b[0;31m         \u001b[0;32mfor\u001b[0m \u001b[0mbatch_idx\u001b[0m\u001b[0;34m,\u001b[0m \u001b[0;34m(\u001b[0m\u001b[0mX\u001b[0m\u001b[0;34m,\u001b[0m\u001b[0my\u001b[0m\u001b[0;34m)\u001b[0m \u001b[0;32min\u001b[0m \u001b[0menumerate\u001b[0m\u001b[0;34m(\u001b[0m\u001b[0mtqdm\u001b[0m\u001b[0;34m(\u001b[0m\u001b[0mtrain_loader\u001b[0m\u001b[0;34m)\u001b[0m\u001b[0;34m)\u001b[0m\u001b[0;34m:\u001b[0m\u001b[0;34m\u001b[0m\u001b[0;34m\u001b[0m\u001b[0m\n\u001b[0m\u001b[1;32m     39\u001b[0m             \u001b[0mX\u001b[0m \u001b[0;34m=\u001b[0m \u001b[0mX\u001b[0m\u001b[0;34m.\u001b[0m\u001b[0mto\u001b[0m\u001b[0;34m(\u001b[0m\u001b[0mdevice\u001b[0m\u001b[0;34m)\u001b[0m\u001b[0;34m\u001b[0m\u001b[0;34m\u001b[0m\u001b[0m\n\u001b[1;32m     40\u001b[0m             \u001b[0my\u001b[0m \u001b[0;34m=\u001b[0m \u001b[0my\u001b[0m\u001b[0;34m.\u001b[0m\u001b[0mto\u001b[0m\u001b[0;34m(\u001b[0m\u001b[0mdevice\u001b[0m\u001b[0;34m)\u001b[0m\u001b[0;34m\u001b[0m\u001b[0;34m\u001b[0m\u001b[0m\n",
            "\u001b[0;32m/usr/local/lib/python3.10/dist-packages/tqdm/std.py\u001b[0m in \u001b[0;36m__iter__\u001b[0;34m(self)\u001b[0m\n\u001b[1;32m   1176\u001b[0m \u001b[0;34m\u001b[0m\u001b[0m\n\u001b[1;32m   1177\u001b[0m         \u001b[0;32mtry\u001b[0m\u001b[0;34m:\u001b[0m\u001b[0;34m\u001b[0m\u001b[0;34m\u001b[0m\u001b[0m\n\u001b[0;32m-> 1178\u001b[0;31m             \u001b[0;32mfor\u001b[0m \u001b[0mobj\u001b[0m \u001b[0;32min\u001b[0m \u001b[0miterable\u001b[0m\u001b[0;34m:\u001b[0m\u001b[0;34m\u001b[0m\u001b[0;34m\u001b[0m\u001b[0m\n\u001b[0m\u001b[1;32m   1179\u001b[0m                 \u001b[0;32myield\u001b[0m \u001b[0mobj\u001b[0m\u001b[0;34m\u001b[0m\u001b[0;34m\u001b[0m\u001b[0m\n\u001b[1;32m   1180\u001b[0m                 \u001b[0;31m# Update and possibly print the progressbar.\u001b[0m\u001b[0;34m\u001b[0m\u001b[0;34m\u001b[0m\u001b[0m\n",
            "\u001b[0;32m/usr/local/lib/python3.10/dist-packages/torch/utils/data/dataloader.py\u001b[0m in \u001b[0;36m__next__\u001b[0;34m(self)\u001b[0m\n\u001b[1;32m    631\u001b[0m                 \u001b[0;31m# TODO(https://github.com/pytorch/pytorch/issues/76750)\u001b[0m\u001b[0;34m\u001b[0m\u001b[0;34m\u001b[0m\u001b[0m\n\u001b[1;32m    632\u001b[0m                 \u001b[0mself\u001b[0m\u001b[0;34m.\u001b[0m\u001b[0m_reset\u001b[0m\u001b[0;34m(\u001b[0m\u001b[0;34m)\u001b[0m  \u001b[0;31m# type: ignore[call-arg]\u001b[0m\u001b[0;34m\u001b[0m\u001b[0;34m\u001b[0m\u001b[0m\n\u001b[0;32m--> 633\u001b[0;31m             \u001b[0mdata\u001b[0m \u001b[0;34m=\u001b[0m \u001b[0mself\u001b[0m\u001b[0;34m.\u001b[0m\u001b[0m_next_data\u001b[0m\u001b[0;34m(\u001b[0m\u001b[0;34m)\u001b[0m\u001b[0;34m\u001b[0m\u001b[0;34m\u001b[0m\u001b[0m\n\u001b[0m\u001b[1;32m    634\u001b[0m             \u001b[0mself\u001b[0m\u001b[0;34m.\u001b[0m\u001b[0m_num_yielded\u001b[0m \u001b[0;34m+=\u001b[0m \u001b[0;36m1\u001b[0m\u001b[0;34m\u001b[0m\u001b[0;34m\u001b[0m\u001b[0m\n\u001b[1;32m    635\u001b[0m             \u001b[0;32mif\u001b[0m \u001b[0mself\u001b[0m\u001b[0;34m.\u001b[0m\u001b[0m_dataset_kind\u001b[0m \u001b[0;34m==\u001b[0m \u001b[0m_DatasetKind\u001b[0m\u001b[0;34m.\u001b[0m\u001b[0mIterable\u001b[0m \u001b[0;32mand\u001b[0m\u001b[0;31m \u001b[0m\u001b[0;31m\\\u001b[0m\u001b[0;34m\u001b[0m\u001b[0;34m\u001b[0m\u001b[0m\n",
            "\u001b[0;32m/usr/local/lib/python3.10/dist-packages/torch/utils/data/dataloader.py\u001b[0m in \u001b[0;36m_next_data\u001b[0;34m(self)\u001b[0m\n\u001b[1;32m    675\u001b[0m     \u001b[0;32mdef\u001b[0m \u001b[0m_next_data\u001b[0m\u001b[0;34m(\u001b[0m\u001b[0mself\u001b[0m\u001b[0;34m)\u001b[0m\u001b[0;34m:\u001b[0m\u001b[0;34m\u001b[0m\u001b[0;34m\u001b[0m\u001b[0m\n\u001b[1;32m    676\u001b[0m         \u001b[0mindex\u001b[0m \u001b[0;34m=\u001b[0m \u001b[0mself\u001b[0m\u001b[0;34m.\u001b[0m\u001b[0m_next_index\u001b[0m\u001b[0;34m(\u001b[0m\u001b[0;34m)\u001b[0m  \u001b[0;31m# may raise StopIteration\u001b[0m\u001b[0;34m\u001b[0m\u001b[0;34m\u001b[0m\u001b[0m\n\u001b[0;32m--> 677\u001b[0;31m         \u001b[0mdata\u001b[0m \u001b[0;34m=\u001b[0m \u001b[0mself\u001b[0m\u001b[0;34m.\u001b[0m\u001b[0m_dataset_fetcher\u001b[0m\u001b[0;34m.\u001b[0m\u001b[0mfetch\u001b[0m\u001b[0;34m(\u001b[0m\u001b[0mindex\u001b[0m\u001b[0;34m)\u001b[0m  \u001b[0;31m# may raise StopIteration\u001b[0m\u001b[0;34m\u001b[0m\u001b[0;34m\u001b[0m\u001b[0m\n\u001b[0m\u001b[1;32m    678\u001b[0m         \u001b[0;32mif\u001b[0m \u001b[0mself\u001b[0m\u001b[0;34m.\u001b[0m\u001b[0m_pin_memory\u001b[0m\u001b[0;34m:\u001b[0m\u001b[0;34m\u001b[0m\u001b[0;34m\u001b[0m\u001b[0m\n\u001b[1;32m    679\u001b[0m             \u001b[0mdata\u001b[0m \u001b[0;34m=\u001b[0m \u001b[0m_utils\u001b[0m\u001b[0;34m.\u001b[0m\u001b[0mpin_memory\u001b[0m\u001b[0;34m.\u001b[0m\u001b[0mpin_memory\u001b[0m\u001b[0;34m(\u001b[0m\u001b[0mdata\u001b[0m\u001b[0;34m,\u001b[0m \u001b[0mself\u001b[0m\u001b[0;34m.\u001b[0m\u001b[0m_pin_memory_device\u001b[0m\u001b[0;34m)\u001b[0m\u001b[0;34m\u001b[0m\u001b[0;34m\u001b[0m\u001b[0m\n",
            "\u001b[0;32m/usr/local/lib/python3.10/dist-packages/torch/utils/data/_utils/fetch.py\u001b[0m in \u001b[0;36mfetch\u001b[0;34m(self, possibly_batched_index)\u001b[0m\n\u001b[1;32m     49\u001b[0m                 \u001b[0mdata\u001b[0m \u001b[0;34m=\u001b[0m \u001b[0mself\u001b[0m\u001b[0;34m.\u001b[0m\u001b[0mdataset\u001b[0m\u001b[0;34m.\u001b[0m\u001b[0m__getitems__\u001b[0m\u001b[0;34m(\u001b[0m\u001b[0mpossibly_batched_index\u001b[0m\u001b[0;34m)\u001b[0m\u001b[0;34m\u001b[0m\u001b[0;34m\u001b[0m\u001b[0m\n\u001b[1;32m     50\u001b[0m             \u001b[0;32melse\u001b[0m\u001b[0;34m:\u001b[0m\u001b[0;34m\u001b[0m\u001b[0;34m\u001b[0m\u001b[0m\n\u001b[0;32m---> 51\u001b[0;31m                 \u001b[0mdata\u001b[0m \u001b[0;34m=\u001b[0m \u001b[0;34m[\u001b[0m\u001b[0mself\u001b[0m\u001b[0;34m.\u001b[0m\u001b[0mdataset\u001b[0m\u001b[0;34m[\u001b[0m\u001b[0midx\u001b[0m\u001b[0;34m]\u001b[0m \u001b[0;32mfor\u001b[0m \u001b[0midx\u001b[0m \u001b[0;32min\u001b[0m \u001b[0mpossibly_batched_index\u001b[0m\u001b[0;34m]\u001b[0m\u001b[0;34m\u001b[0m\u001b[0;34m\u001b[0m\u001b[0m\n\u001b[0m\u001b[1;32m     52\u001b[0m         \u001b[0;32melse\u001b[0m\u001b[0;34m:\u001b[0m\u001b[0;34m\u001b[0m\u001b[0;34m\u001b[0m\u001b[0m\n\u001b[1;32m     53\u001b[0m             \u001b[0mdata\u001b[0m \u001b[0;34m=\u001b[0m \u001b[0mself\u001b[0m\u001b[0;34m.\u001b[0m\u001b[0mdataset\u001b[0m\u001b[0;34m[\u001b[0m\u001b[0mpossibly_batched_index\u001b[0m\u001b[0;34m]\u001b[0m\u001b[0;34m\u001b[0m\u001b[0;34m\u001b[0m\u001b[0m\n",
            "\u001b[0;32m/usr/local/lib/python3.10/dist-packages/torch/utils/data/_utils/fetch.py\u001b[0m in \u001b[0;36m<listcomp>\u001b[0;34m(.0)\u001b[0m\n\u001b[1;32m     49\u001b[0m                 \u001b[0mdata\u001b[0m \u001b[0;34m=\u001b[0m \u001b[0mself\u001b[0m\u001b[0;34m.\u001b[0m\u001b[0mdataset\u001b[0m\u001b[0;34m.\u001b[0m\u001b[0m__getitems__\u001b[0m\u001b[0;34m(\u001b[0m\u001b[0mpossibly_batched_index\u001b[0m\u001b[0;34m)\u001b[0m\u001b[0;34m\u001b[0m\u001b[0;34m\u001b[0m\u001b[0m\n\u001b[1;32m     50\u001b[0m             \u001b[0;32melse\u001b[0m\u001b[0;34m:\u001b[0m\u001b[0;34m\u001b[0m\u001b[0;34m\u001b[0m\u001b[0m\n\u001b[0;32m---> 51\u001b[0;31m                 \u001b[0mdata\u001b[0m \u001b[0;34m=\u001b[0m \u001b[0;34m[\u001b[0m\u001b[0mself\u001b[0m\u001b[0;34m.\u001b[0m\u001b[0mdataset\u001b[0m\u001b[0;34m[\u001b[0m\u001b[0midx\u001b[0m\u001b[0;34m]\u001b[0m \u001b[0;32mfor\u001b[0m \u001b[0midx\u001b[0m \u001b[0;32min\u001b[0m \u001b[0mpossibly_batched_index\u001b[0m\u001b[0;34m]\u001b[0m\u001b[0;34m\u001b[0m\u001b[0;34m\u001b[0m\u001b[0m\n\u001b[0m\u001b[1;32m     52\u001b[0m         \u001b[0;32melse\u001b[0m\u001b[0;34m:\u001b[0m\u001b[0;34m\u001b[0m\u001b[0;34m\u001b[0m\u001b[0m\n\u001b[1;32m     53\u001b[0m             \u001b[0mdata\u001b[0m \u001b[0;34m=\u001b[0m \u001b[0mself\u001b[0m\u001b[0;34m.\u001b[0m\u001b[0mdataset\u001b[0m\u001b[0;34m[\u001b[0m\u001b[0mpossibly_batched_index\u001b[0m\u001b[0;34m]\u001b[0m\u001b[0;34m\u001b[0m\u001b[0;34m\u001b[0m\u001b[0m\n",
            "\u001b[0;32m/usr/local/lib/python3.10/dist-packages/torch/utils/data/dataset.py\u001b[0m in \u001b[0;36m__getitem__\u001b[0;34m(self, idx)\u001b[0m\n\u001b[1;32m    296\u001b[0m         \u001b[0;32mif\u001b[0m \u001b[0misinstance\u001b[0m\u001b[0;34m(\u001b[0m\u001b[0midx\u001b[0m\u001b[0;34m,\u001b[0m \u001b[0mlist\u001b[0m\u001b[0;34m)\u001b[0m\u001b[0;34m:\u001b[0m\u001b[0;34m\u001b[0m\u001b[0;34m\u001b[0m\u001b[0m\n\u001b[1;32m    297\u001b[0m             \u001b[0;32mreturn\u001b[0m \u001b[0mself\u001b[0m\u001b[0;34m.\u001b[0m\u001b[0mdataset\u001b[0m\u001b[0;34m[\u001b[0m\u001b[0;34m[\u001b[0m\u001b[0mself\u001b[0m\u001b[0;34m.\u001b[0m\u001b[0mindices\u001b[0m\u001b[0;34m[\u001b[0m\u001b[0mi\u001b[0m\u001b[0;34m]\u001b[0m \u001b[0;32mfor\u001b[0m \u001b[0mi\u001b[0m \u001b[0;32min\u001b[0m \u001b[0midx\u001b[0m\u001b[0;34m]\u001b[0m\u001b[0;34m]\u001b[0m\u001b[0;34m\u001b[0m\u001b[0;34m\u001b[0m\u001b[0m\n\u001b[0;32m--> 298\u001b[0;31m         \u001b[0;32mreturn\u001b[0m \u001b[0mself\u001b[0m\u001b[0;34m.\u001b[0m\u001b[0mdataset\u001b[0m\u001b[0;34m[\u001b[0m\u001b[0mself\u001b[0m\u001b[0;34m.\u001b[0m\u001b[0mindices\u001b[0m\u001b[0;34m[\u001b[0m\u001b[0midx\u001b[0m\u001b[0;34m]\u001b[0m\u001b[0;34m]\u001b[0m\u001b[0;34m\u001b[0m\u001b[0;34m\u001b[0m\u001b[0m\n\u001b[0m\u001b[1;32m    299\u001b[0m \u001b[0;34m\u001b[0m\u001b[0m\n\u001b[1;32m    300\u001b[0m     \u001b[0;32mdef\u001b[0m \u001b[0m__len__\u001b[0m\u001b[0;34m(\u001b[0m\u001b[0mself\u001b[0m\u001b[0;34m)\u001b[0m\u001b[0;34m:\u001b[0m\u001b[0;34m\u001b[0m\u001b[0;34m\u001b[0m\u001b[0m\n",
            "\u001b[0;32m<ipython-input-5-562725a09c93>\u001b[0m in \u001b[0;36m__getitem__\u001b[0;34m(self, idx)\u001b[0m\n\u001b[1;32m     13\u001b[0m     \u001b[0;32mdef\u001b[0m \u001b[0m__getitem__\u001b[0m\u001b[0;34m(\u001b[0m\u001b[0mself\u001b[0m\u001b[0;34m,\u001b[0m \u001b[0midx\u001b[0m\u001b[0;34m)\u001b[0m\u001b[0;34m:\u001b[0m\u001b[0;34m\u001b[0m\u001b[0;34m\u001b[0m\u001b[0m\n\u001b[1;32m     14\u001b[0m         \u001b[0mraw_selfie\u001b[0m \u001b[0;34m=\u001b[0m \u001b[0mself\u001b[0m\u001b[0;34m.\u001b[0m\u001b[0mselfies\u001b[0m\u001b[0;34m[\u001b[0m\u001b[0midx\u001b[0m\u001b[0;34m]\u001b[0m\u001b[0;34m[\u001b[0m\u001b[0;36m0\u001b[0m\u001b[0;34m]\u001b[0m\u001b[0;34m\u001b[0m\u001b[0;34m\u001b[0m\u001b[0m\n\u001b[0;32m---> 15\u001b[0;31m         \u001b[0mvectorized_selfie\u001b[0m \u001b[0;34m=\u001b[0m \u001b[0mself\u001b[0m\u001b[0;34m.\u001b[0m\u001b[0mvectorizer\u001b[0m\u001b[0;34m.\u001b[0m\u001b[0mvectorize\u001b[0m\u001b[0;34m(\u001b[0m\u001b[0mraw_selfie\u001b[0m\u001b[0;34m)\u001b[0m\u001b[0;34m\u001b[0m\u001b[0;34m\u001b[0m\u001b[0m\n\u001b[0m\u001b[1;32m     16\u001b[0m         \u001b[0mraw_X\u001b[0m \u001b[0;34m=\u001b[0m \u001b[0mself\u001b[0m\u001b[0;34m.\u001b[0m\u001b[0msmiles_fp\u001b[0m\u001b[0;34m.\u001b[0m\u001b[0mfps\u001b[0m\u001b[0;34m[\u001b[0m\u001b[0midx\u001b[0m\u001b[0;34m]\u001b[0m\u001b[0;34m\u001b[0m\u001b[0;34m\u001b[0m\u001b[0m\n\u001b[1;32m     17\u001b[0m         \u001b[0mX\u001b[0m \u001b[0;34m=\u001b[0m \u001b[0mnp\u001b[0m\u001b[0;34m.\u001b[0m\u001b[0marray\u001b[0m\u001b[0;34m(\u001b[0m\u001b[0meval\u001b[0m\u001b[0;34m(\u001b[0m\u001b[0mraw_X\u001b[0m\u001b[0;34m)\u001b[0m\u001b[0;34m,\u001b[0m \u001b[0mdtype\u001b[0m\u001b[0;34m=\u001b[0m\u001b[0mint\u001b[0m\u001b[0;34m)\u001b[0m\u001b[0;34m\u001b[0m\u001b[0;34m\u001b[0m\u001b[0m\n",
            "\u001b[0;32m<ipython-input-4-060bd5ed399e>\u001b[0m in \u001b[0;36mvectorize\u001b[0;34m(self, selfie, no_special)\u001b[0m\n\u001b[1;32m     12\u001b[0m             \u001b[0msplited\u001b[0m \u001b[0;34m=\u001b[0m \u001b[0;34m[\u001b[0m\u001b[0;34m'[start]'\u001b[0m\u001b[0;34m]\u001b[0m \u001b[0;34m+\u001b[0m \u001b[0mself\u001b[0m\u001b[0;34m.\u001b[0m\u001b[0msplit_selfi\u001b[0m\u001b[0;34m(\u001b[0m\u001b[0mselfie\u001b[0m\u001b[0;34m)\u001b[0m \u001b[0;34m+\u001b[0m \u001b[0;34m[\u001b[0m\u001b[0;34m'[end]'\u001b[0m\u001b[0;34m]\u001b[0m\u001b[0;34m\u001b[0m\u001b[0;34m\u001b[0m\u001b[0m\n\u001b[1;32m     13\u001b[0m         \u001b[0;32melse\u001b[0m\u001b[0;34m:\u001b[0m\u001b[0;34m\u001b[0m\u001b[0;34m\u001b[0m\u001b[0m\n\u001b[0;32m---> 14\u001b[0;31m             \u001b[0msplited\u001b[0m \u001b[0;34m=\u001b[0m \u001b[0;34m[\u001b[0m\u001b[0;34m'[start]'\u001b[0m\u001b[0;34m]\u001b[0m \u001b[0;34m+\u001b[0m \u001b[0mself\u001b[0m\u001b[0;34m.\u001b[0m\u001b[0msplit_selfi\u001b[0m\u001b[0;34m(\u001b[0m\u001b[0mselfie\u001b[0m\u001b[0;34m)\u001b[0m \u001b[0;34m+\u001b[0m \u001b[0;34m[\u001b[0m\u001b[0;34m'[end]'\u001b[0m\u001b[0;34m]\u001b[0m \u001b[0;34m+\u001b[0m \u001b[0;34m[\u001b[0m\u001b[0;34m'[nop]'\u001b[0m\u001b[0;34m]\u001b[0m \u001b[0;34m*\u001b[0m \u001b[0;34m(\u001b[0m\u001b[0mself\u001b[0m\u001b[0;34m.\u001b[0m\u001b[0mpad_to_len\u001b[0m \u001b[0;34m-\u001b[0m \u001b[0mlen\u001b[0m\u001b[0;34m(\u001b[0m\u001b[0mself\u001b[0m\u001b[0;34m.\u001b[0m\u001b[0msplit_selfi\u001b[0m\u001b[0;34m(\u001b[0m\u001b[0mselfie\u001b[0m\u001b[0;34m)\u001b[0m\u001b[0;34m)\u001b[0m \u001b[0;34m-\u001b[0m \u001b[0;36m2\u001b[0m\u001b[0;34m)\u001b[0m\u001b[0;34m\u001b[0m\u001b[0;34m\u001b[0m\u001b[0m\n\u001b[0m\u001b[1;32m     15\u001b[0m         \u001b[0mX\u001b[0m \u001b[0;34m=\u001b[0m \u001b[0mnp\u001b[0m\u001b[0;34m.\u001b[0m\u001b[0mzeros\u001b[0m\u001b[0;34m(\u001b[0m\u001b[0;34m(\u001b[0m\u001b[0mlen\u001b[0m\u001b[0;34m(\u001b[0m\u001b[0msplited\u001b[0m\u001b[0;34m)\u001b[0m\u001b[0;34m,\u001b[0m \u001b[0mlen\u001b[0m\u001b[0;34m(\u001b[0m\u001b[0mself\u001b[0m\u001b[0;34m.\u001b[0m\u001b[0malphabet\u001b[0m\u001b[0;34m)\u001b[0m\u001b[0;34m)\u001b[0m\u001b[0;34m)\u001b[0m\u001b[0;34m\u001b[0m\u001b[0;34m\u001b[0m\u001b[0m\n\u001b[1;32m     16\u001b[0m         \u001b[0;32mfor\u001b[0m \u001b[0mi\u001b[0m \u001b[0;32min\u001b[0m \u001b[0mrange\u001b[0m\u001b[0;34m(\u001b[0m\u001b[0mlen\u001b[0m\u001b[0;34m(\u001b[0m\u001b[0msplited\u001b[0m\u001b[0;34m)\u001b[0m\u001b[0;34m)\u001b[0m\u001b[0;34m:\u001b[0m\u001b[0;34m\u001b[0m\u001b[0;34m\u001b[0m\u001b[0m\n",
            "\u001b[0;32m<ipython-input-4-060bd5ed399e>\u001b[0m in \u001b[0;36msplit_selfi\u001b[0;34m(self, selfie)\u001b[0m\n\u001b[1;32m     36\u001b[0m     \u001b[0;32mdef\u001b[0m \u001b[0msplit_selfi\u001b[0m\u001b[0;34m(\u001b[0m\u001b[0mself\u001b[0m\u001b[0;34m,\u001b[0m \u001b[0mselfie\u001b[0m\u001b[0;34m)\u001b[0m\u001b[0;34m:\u001b[0m\u001b[0;34m\u001b[0m\u001b[0;34m\u001b[0m\u001b[0m\n\u001b[1;32m     37\u001b[0m         \u001b[0mpattern\u001b[0m \u001b[0;34m=\u001b[0m \u001b[0;34mr'(\\[[^\\[\\]]*\\])'\u001b[0m\u001b[0;34m\u001b[0m\u001b[0;34m\u001b[0m\u001b[0m\n\u001b[0;32m---> 38\u001b[0;31m         \u001b[0;32mreturn\u001b[0m \u001b[0mre\u001b[0m\u001b[0;34m.\u001b[0m\u001b[0mfindall\u001b[0m\u001b[0;34m(\u001b[0m\u001b[0mpattern\u001b[0m\u001b[0;34m,\u001b[0m \u001b[0mselfie\u001b[0m\u001b[0;34m)\u001b[0m\u001b[0;34m\u001b[0m\u001b[0;34m\u001b[0m\u001b[0m\n\u001b[0m\u001b[1;32m     39\u001b[0m \u001b[0mvectorizer\u001b[0m \u001b[0;34m=\u001b[0m \u001b[0mSELFIESVectorizer\u001b[0m\u001b[0;34m(\u001b[0m\u001b[0malphabet\u001b[0m\u001b[0;34m,\u001b[0m \u001b[0mpad_to_len\u001b[0m\u001b[0;34m)\u001b[0m\u001b[0;34m\u001b[0m\u001b[0;34m\u001b[0m\u001b[0m\n",
            "\u001b[0;32m/usr/lib/python3.10/re.py\u001b[0m in \u001b[0;36mfindall\u001b[0;34m(pattern, string, flags)\u001b[0m\n\u001b[1;32m    238\u001b[0m \u001b[0;34m\u001b[0m\u001b[0m\n\u001b[1;32m    239\u001b[0m     Empty matches are included in the result.\"\"\"\n\u001b[0;32m--> 240\u001b[0;31m     \u001b[0;32mreturn\u001b[0m \u001b[0m_compile\u001b[0m\u001b[0;34m(\u001b[0m\u001b[0mpattern\u001b[0m\u001b[0;34m,\u001b[0m \u001b[0mflags\u001b[0m\u001b[0;34m)\u001b[0m\u001b[0;34m.\u001b[0m\u001b[0mfindall\u001b[0m\u001b[0;34m(\u001b[0m\u001b[0mstring\u001b[0m\u001b[0;34m)\u001b[0m\u001b[0;34m\u001b[0m\u001b[0;34m\u001b[0m\u001b[0m\n\u001b[0m\u001b[1;32m    241\u001b[0m \u001b[0;34m\u001b[0m\u001b[0m\n\u001b[1;32m    242\u001b[0m \u001b[0;32mdef\u001b[0m \u001b[0mfinditer\u001b[0m\u001b[0;34m(\u001b[0m\u001b[0mpattern\u001b[0m\u001b[0;34m,\u001b[0m \u001b[0mstring\u001b[0m\u001b[0;34m,\u001b[0m \u001b[0mflags\u001b[0m\u001b[0;34m=\u001b[0m\u001b[0;36m0\u001b[0m\u001b[0;34m)\u001b[0m\u001b[0;34m:\u001b[0m\u001b[0;34m\u001b[0m\u001b[0;34m\u001b[0m\u001b[0m\n",
            "\u001b[0;31mKeyboardInterrupt\u001b[0m: "
          ]
        },
        {
          "output_type": "display_data",
          "data": {
            "text/plain": [
              "<Figure size 700x300 with 2 Axes>"
            ],
            "image/png": "[encoded data removed]"
          },
          "metadata": {}
        }
      ],
      "source": [
        "model = train(train_loader, test_loader, device)"
      ]
    },
    {
      "cell_type": "code",
      "execution_count": null,
      "id": "f8614d46",
      "metadata": {
        "id": "f8614d46"
      },
      "outputs": [],
      "source": [
        "# save model just in case\n",
        "torch.save(model.state_dict(), './GRU_data/test1.pt')"
      ]
    },
    {
      "cell_type": "code",
      "execution_count": null,
      "id": "2bad90c0",
      "metadata": {
        "id": "2bad90c0"
      },
      "outputs": [],
      "source": [
        "#loaded_model = Autoencoder(4860, 300, 300, 42, 2, 0.0).to(device)\n",
        "#loaded_model.load_state_dict(torch.load('./GRU_data/model_h300_e500_teacher_forcing.pt'))"
      ]
    },
    {
      "cell_type": "code",
      "execution_count": null,
      "id": "2e768d4a",
      "metadata": {
        "id": "2e768d4a"
      },
      "outputs": [],
      "source": [
        "x, y = next(iter(test_loader))\n",
        "x = x.to(device)\n",
        "x.size()"
      ]
    },
    {
      "cell_type": "code",
      "execution_count": null,
      "id": "9dbdfd19",
      "metadata": {
        "id": "9dbdfd19"
      },
      "outputs": [],
      "source": [
        "encoded, decoded = loaded_model(x)"
      ]
    },
    {
      "cell_type": "markdown",
      "id": "bfe6bfa9",
      "metadata": {
        "id": "bfe6bfa9"
      },
      "source": [
        "# GRU output to SELFIES"
      ]
    },
    {
      "cell_type": "code",
      "execution_count": null,
      "id": "2aab1202",
      "metadata": {
        "id": "2aab1202"
      },
      "outputs": [],
      "source": [
        "decoded_indices = torch.argmax(decoded.cpu(), dim=2)\n",
        "decoded_indices = decoded_indices.numpy()"
      ]
    },
    {
      "cell_type": "code",
      "execution_count": null,
      "id": "c4a1d92f",
      "metadata": {
        "id": "c4a1d92f"
      },
      "outputs": [],
      "source": [
        "# set largers value to 1 and others to 0\n",
        "decoded_indices = torch.argmax(decoded.cpu(), dim=2)\n",
        "decoded_indices = decoded_indices.numpy()\n",
        "selfies_out = []\n",
        "for i, original in zip(decoded_indices, y):\n",
        "    vectorized = []\n",
        "    #print(f'Decoded: {i}')\n",
        "    #convert to one-hot\n",
        "    for number in i:\n",
        "        v = np.zeros(42)\n",
        "        v[number] = 1\n",
        "        vectorized.append(v)\n",
        "    vectorized = np.array(vectorized)\n",
        "    selfies_out.append(vectorizer.devectorize(vectorized, remove_special=True))\n",
        "    print(f'Original: {vectorizer.devectorize(original.cpu().numpy())} \\n')\n",
        "    print(f'Decoded:  {vectorizer.devectorize(vectorized)}')\n",
        "    print('------------------')"
      ]
    },
    {
      "cell_type": "code",
      "execution_count": null,
      "id": "1efcd595",
      "metadata": {
        "id": "1efcd595"
      },
      "outputs": [],
      "source": [
        "from rdkit import Chem\n",
        "from rdkit.Chem import Draw\n",
        "\n",
        "smiles = []\n",
        "for selfie in selfies_out:\n",
        "    smile = sf.decoder(selfie, attribute=False)\n",
        "    smiles.append(smile)\n",
        "\n",
        "ms = []\n",
        "for smile in smiles:\n",
        "    ms.append(Chem.MolFromSmiles(smile))\n",
        "Draw.MolToImage(ms[5], size=(800, 800), kekulize=True)"
      ]
    }
  ],
  "metadata": {
    "accelerator": "GPU",
    "colab": {
      "gpuType": "T4",
      "provenance": []
    },
    "kernelspec": {
      "display_name": "Python 3 (ipykernel)",
      "language": "python",
      "name": "python3"
    },
    "language_info": {
      "codemirror_mode": {
        "name": "ipython",
        "version": 3
      },
      "file_extension": ".py",
      "mimetype": "text/x-python",
      "name": "python",
      "nbconvert_exporter": "python",
      "pygments_lexer": "ipython3",
      "version": "3.9.16"
    }
  },
  "nbformat": 4,
  "nbformat_minor": 5
}