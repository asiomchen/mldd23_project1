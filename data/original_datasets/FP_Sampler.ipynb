{
 "cells": [
  {
   "cell_type": "code",
   "execution_count": 8,
   "id": "67ed28be",
   "metadata": {},
   "outputs": [],
   "source": [
    "import numpy as np\n",
    "import pandas as pd"
   ]
  },
  {
   "cell_type": "code",
   "execution_count": 12,
   "id": "58b5494b",
   "metadata": {},
   "outputs": [
    {
     "name": "stdout",
     "output_type": "stream",
     "text": [
      "5250\n",
      "2963\n",
      "782\n",
      "10170\n",
      "1691\n"
     ]
    }
   ],
   "source": [
    "proteins = ['5ht1a', '5ht7', 'beta2', 'd2', 'h1']\n",
    "for protein in proteins:\n",
    "    df = pd.read_csv(f\"./klek_clean/{protein}_klek_100nM.csv\")\n",
    "    print(len(df))"
   ]
  },
  {
   "cell_type": "code",
   "execution_count": 13,
   "id": "8147e98d",
   "metadata": {},
   "outputs": [],
   "source": [
    "class FP_Sampler:\n",
    "    def __init__(self, protein, dtype: ['100nM', 'balanced'], magnitude=1, add_random=False):\n",
    "        self.protein = protein\n",
    "        self.dtype = dtype\n",
    "        self.magnitude = magnitude\n",
    "        self.add_random = add_random\n",
    "        self.path = f\"./fp_frequency_{self.dtype}/{self.protein}_frequency.csv\"\n",
    "        self.df = pd.read_csv(self.path, sep=',')\n",
    "        self.sizes = {\n",
    "            '5ht1a': 5250,\n",
    "            '5ht7': 2963,\n",
    "            'beta2': 782,\n",
    "            'd2': 10170,\n",
    "            'h1': 1691\n",
    "        }\n",
    "        print(f\"{self.dtype} dataset for {self.protein.upper()} loaded\")\n",
    "        self.make_dummy_df()\n",
    "        self.read_original()\n",
    "        self.combine_df()\n",
    "        self.convert_to_proba()\n",
    "\n",
    "        #print(self.fp_df.head())\n",
    "  \n",
    "    def make_dummy_df(self):\n",
    "        dummy_dict = {'KEYS': [f\"KLEK_{n}\" for n in range(4860)]}\n",
    "        self.dummy_df = pd.DataFrame(dummy_dict)\n",
    "        \n",
    "    def read_original(self):\n",
    "        self.org_df = pd.read_csv(f\"./counts_full_{self.dtype}.csv\", sep=',')\n",
    "        self.org_df = self.org_df.loc[:,[f\"{self.protein}\", \"KEYS\"]]\n",
    "        self.org_df['Freq'] = self.org_df[f'{self.protein}'] / self.sizes[f\"{self.protein}\"]\n",
    "        #print(self.org_df.head())\n",
    "        \n",
    "    def combine_df(self):\n",
    "        self.fp_df = self.dummy_df.merge(self.org_df, on='KEYS')\n",
    "        self.fp_df = self.fp_df.merge(self.df, on='KEYS').drop(columns=['SMARTS'])\n",
    "        #print(self.fp_df.head())\n",
    "        \n",
    "    def convert_to_proba(self):\n",
    "        self.fp_df['Probability'] = self.fp_df['Freq'] * ((self.fp_df[f\"{self.protein}_percentage\"] * self.magnitude + 100)/100)\n",
    "        self.fp_df['Probability'] = self.fp_df['Probability'] / self.fp_df['Probability'].sum()\n",
    "        if self.add_random:\n",
    "            self.fp_df['Probability'] = pd.Series([0.0001 if x < 0.0001 else x for x in self.fp_df['Probability']])\n",
    "            self.fp_df['Probability'] = self.fp_df['Probability'] / self.fp_df['Probability'].sum()\n",
    "        print(self.fp_df.head())\n",
    "        \n",
    "    def generate_fingerprints(self, av_bits=60, n=1000):\n",
    "        fps = []\n",
    "        leng = []\n",
    "        for fp in range(n):\n",
    "            vec1 = np.array(self.fp_df['Probability']) * av_bits\n",
    "            vec2 = np.random.rand(4860)\n",
    "            fp = (vec1 > vec2).astype('int')\n",
    "            fps.append(fp)\n",
    "            leng.append(np.sum(fp))\n",
    "        print(f\"Generated {n} vectors with mean length of {np.mean(leng):.3f} and SD of {np.std(leng):.3f}\")\n",
    "        return np.array(fps)"
   ]
  },
  {
   "cell_type": "code",
   "execution_count": 22,
   "id": "c8607adb",
   "metadata": {},
   "outputs": [
    {
     "name": "stdout",
     "output_type": "stream",
     "text": [
      "100nM dataset for 5HT1A loaded\n",
      "     KEYS  5ht1a      Freq  5ht1a_percentage  Probability\n",
      "0  KLEK_0   2806  0.534476             9.829     0.009169\n",
      "1  KLEK_1    338  0.064381             1.638     0.000648\n",
      "2  KLEK_2      0  0.000000             0.000     0.000000\n",
      "3  KLEK_3      0  0.000000             0.000     0.000000\n",
      "4  KLEK_4      0  0.000000             0.000     0.000000\n",
      "100nM dataset for 5HT7 loaded\n",
      "     KEYS  5ht7      Freq  5ht7_percentage  Probability\n",
      "0  KLEK_0  1298  0.438070            4.792     0.008679\n",
      "1  KLEK_1   117  0.039487           -1.114     0.000470\n",
      "2  KLEK_2     0  0.000000            0.000     0.000000\n",
      "3  KLEK_3     0  0.000000            0.000     0.000000\n",
      "4  KLEK_4     0  0.000000            0.000     0.000000\n",
      "100nM dataset for BETA2 loaded\n",
      "     KEYS  beta2      Freq  beta2_percentage  Probability\n",
      "0  KLEK_0    705  0.901535            -8.312     0.003829\n",
      "1  KLEK_1     71  0.090793             2.685     0.002898\n",
      "2  KLEK_2      0  0.000000             0.000     0.000000\n",
      "3  KLEK_3      0  0.000000             0.000     0.000000\n",
      "4  KLEK_4      0  0.000000             0.000     0.000000\n",
      "100nM dataset for D2 loaded\n",
      "     KEYS    d2      Freq  d2_percentage  Probability\n",
      "0  KLEK_0  5448  0.535693        -17.935    -2.006836\n",
      "1  KLEK_1   760  0.074730         -2.340     0.270253\n",
      "2  KLEK_2     0  0.000000          0.000     0.000000\n",
      "3  KLEK_3     0  0.000000          0.000     0.000000\n",
      "4  KLEK_4     0  0.000000          0.000     0.000000\n",
      "100nM dataset for H1 loaded\n",
      "     KEYS   h1      Freq  h1_percentage  Probability\n",
      "0  KLEK_0  998  0.590183         -5.795     0.209927\n",
      "1  KLEK_1   96  0.056771         -0.828     0.044046\n",
      "2  KLEK_2    0  0.000000          0.000     0.000000\n",
      "3  KLEK_3    0  0.000000          0.000     0.000000\n",
      "4  KLEK_4    0  0.000000          0.000     0.000000\n"
     ]
    }
   ],
   "source": [
    "['5ht1a', '5ht7', 'beta2', 'd2', 'h1']\n",
    "\n",
    "sampler_5ht1a = FP_Sampler('5ht1a', '100nM', 10, False)\n",
    "sampler_5ht7 = FP_Sampler('5ht7', '100nM', 10, False)\n",
    "sampler_beta2 = FP_Sampler('beta2', '100nM', 10, False)\n",
    "sampler_d2 = FP_Sampler('d2', '100nM', 10, False)\n",
    "sampler_h1 = FP_Sampler('h1', '100nM', 10, False)"
   ]
  },
  {
   "cell_type": "code",
   "execution_count": 24,
   "id": "09b7069b",
   "metadata": {},
   "outputs": [
    {
     "name": "stdout",
     "output_type": "stream",
     "text": [
      "Generated 1000 vectors with mean length of 54.930 and SD of 5.021\n",
      "Generated 1000 vectors with mean length of 58.970 and SD of 5.368\n",
      "Generated 1000 vectors with mean length of 63.884 and SD of 5.698\n",
      "Generated 1000 vectors with mean length of 1056.047 and SD of 11.145\n",
      "Generated 1000 vectors with mean length of 504.356 and SD of 10.679\n"
     ]
    }
   ],
   "source": [
    "samples_5ht1a = sampler_5ht1a.generate_fingerprints(av_bits=60, n=1000)\n",
    "samples_5ht7 = sampler_5ht7.generate_fingerprints(av_bits=60, n=1000)\n",
    "samples_beta2 = sampler_beta2.generate_fingerprints(av_bits=60, n=1000)\n",
    "samples_d2 = sampler_d2.generate_fingerprints(av_bits=60, n=1000)\n",
    "samples_h1 = sampler_h1.generate_fingerprints(av_bits=60, n=1000)"
   ]
  },
  {
   "cell_type": "code",
   "execution_count": 26,
   "id": "876b06c9",
   "metadata": {},
   "outputs": [
    {
     "ename": "ValueError",
     "evalue": "Cannot set a frame with no defined index and a value that cannot be converted to a Series",
     "output_type": "error",
     "traceback": [
      "\u001b[0;31m---------------------------------------------------------------------------\u001b[0m",
      "\u001b[0;31mValueError\u001b[0m                                Traceback (most recent call last)",
      "File \u001b[0;32m~/miniconda3/envs/mldd/lib/python3.9/site-packages/pandas/core/frame.py:4212\u001b[0m, in \u001b[0;36mDataFrame._ensure_valid_index\u001b[0;34m(self, value)\u001b[0m\n\u001b[1;32m   4211\u001b[0m \u001b[38;5;28;01mtry\u001b[39;00m:\n\u001b[0;32m-> 4212\u001b[0m     value \u001b[38;5;241m=\u001b[39m \u001b[43mSeries\u001b[49m\u001b[43m(\u001b[49m\u001b[43mvalue\u001b[49m\u001b[43m)\u001b[49m\n\u001b[1;32m   4213\u001b[0m \u001b[38;5;28;01mexcept\u001b[39;00m (\u001b[38;5;167;01mValueError\u001b[39;00m, \u001b[38;5;167;01mNotImplementedError\u001b[39;00m, \u001b[38;5;167;01mTypeError\u001b[39;00m) \u001b[38;5;28;01mas\u001b[39;00m err:\n",
      "File \u001b[0;32m~/miniconda3/envs/mldd/lib/python3.9/site-packages/pandas/core/series.py:509\u001b[0m, in \u001b[0;36mSeries.__init__\u001b[0;34m(self, data, index, dtype, name, copy, fastpath)\u001b[0m\n\u001b[1;32m    508\u001b[0m \u001b[38;5;28;01melse\u001b[39;00m:\n\u001b[0;32m--> 509\u001b[0m     data \u001b[38;5;241m=\u001b[39m \u001b[43msanitize_array\u001b[49m\u001b[43m(\u001b[49m\u001b[43mdata\u001b[49m\u001b[43m,\u001b[49m\u001b[43m \u001b[49m\u001b[43mindex\u001b[49m\u001b[43m,\u001b[49m\u001b[43m \u001b[49m\u001b[43mdtype\u001b[49m\u001b[43m,\u001b[49m\u001b[43m \u001b[49m\u001b[43mcopy\u001b[49m\u001b[43m)\u001b[49m\n\u001b[1;32m    511\u001b[0m     manager \u001b[38;5;241m=\u001b[39m get_option(\u001b[38;5;124m\"\u001b[39m\u001b[38;5;124mmode.data_manager\u001b[39m\u001b[38;5;124m\"\u001b[39m)\n",
      "File \u001b[0;32m~/miniconda3/envs/mldd/lib/python3.9/site-packages/pandas/core/construction.py:607\u001b[0m, in \u001b[0;36msanitize_array\u001b[0;34m(data, index, dtype, copy, allow_2d)\u001b[0m\n\u001b[1;32m    605\u001b[0m             subarr \u001b[38;5;241m=\u001b[39m maybe_infer_to_datetimelike(subarr)\n\u001b[0;32m--> 607\u001b[0m subarr \u001b[38;5;241m=\u001b[39m \u001b[43m_sanitize_ndim\u001b[49m\u001b[43m(\u001b[49m\u001b[43msubarr\u001b[49m\u001b[43m,\u001b[49m\u001b[43m \u001b[49m\u001b[43mdata\u001b[49m\u001b[43m,\u001b[49m\u001b[43m \u001b[49m\u001b[43mdtype\u001b[49m\u001b[43m,\u001b[49m\u001b[43m \u001b[49m\u001b[43mindex\u001b[49m\u001b[43m,\u001b[49m\u001b[43m \u001b[49m\u001b[43mallow_2d\u001b[49m\u001b[38;5;241;43m=\u001b[39;49m\u001b[43mallow_2d\u001b[49m\u001b[43m)\u001b[49m\n\u001b[1;32m    609\u001b[0m \u001b[38;5;28;01mif\u001b[39;00m \u001b[38;5;28misinstance\u001b[39m(subarr, np\u001b[38;5;241m.\u001b[39mndarray):\n\u001b[1;32m    610\u001b[0m     \u001b[38;5;66;03m# at this point we should have dtype be None or subarr.dtype == dtype\u001b[39;00m\n",
      "File \u001b[0;32m~/miniconda3/envs/mldd/lib/python3.9/site-packages/pandas/core/construction.py:666\u001b[0m, in \u001b[0;36m_sanitize_ndim\u001b[0;34m(result, data, dtype, index, allow_2d)\u001b[0m\n\u001b[1;32m    665\u001b[0m         \u001b[38;5;28;01mreturn\u001b[39;00m result\n\u001b[0;32m--> 666\u001b[0m     \u001b[38;5;28;01mraise\u001b[39;00m \u001b[38;5;167;01mValueError\u001b[39;00m(\n\u001b[1;32m    667\u001b[0m         \u001b[38;5;124mf\u001b[39m\u001b[38;5;124m\"\u001b[39m\u001b[38;5;124mData must be 1-dimensional, got ndarray of shape \u001b[39m\u001b[38;5;132;01m{\u001b[39;00mdata\u001b[38;5;241m.\u001b[39mshape\u001b[38;5;132;01m}\u001b[39;00m\u001b[38;5;124m instead\u001b[39m\u001b[38;5;124m\"\u001b[39m\n\u001b[1;32m    668\u001b[0m     )\n\u001b[1;32m    669\u001b[0m \u001b[38;5;28;01mif\u001b[39;00m is_object_dtype(dtype) \u001b[38;5;129;01mand\u001b[39;00m \u001b[38;5;28misinstance\u001b[39m(dtype, ExtensionDtype):\n\u001b[1;32m    670\u001b[0m     \u001b[38;5;66;03m# i.e. PandasDtype(\"O\")\u001b[39;00m\n",
      "\u001b[0;31mValueError\u001b[0m: Data must be 1-dimensional, got ndarray of shape (1000, 4860) instead",
      "\nThe above exception was the direct cause of the following exception:\n",
      "\u001b[0;31mValueError\u001b[0m                                Traceback (most recent call last)",
      "\u001b[0;32m/tmp/ipykernel_77379/309369428.py\u001b[0m in \u001b[0;36m?\u001b[0;34m()\u001b[0m\n\u001b[0;32m----> 2\u001b[0;31m \u001b[0mdf\u001b[0m \u001b[0;34m=\u001b[0m \u001b[0mpd\u001b[0m\u001b[0;34m.\u001b[0m\u001b[0mDataFrame\u001b[0m\u001b[0;34m(\u001b[0m\u001b[0;34m)\u001b[0m\u001b[0;34m\u001b[0m\u001b[0;34m\u001b[0m\u001b[0m\n\u001b[0m\u001b[1;32m      3\u001b[0m \u001b[0mdf\u001b[0m\u001b[0;34m[\u001b[0m\u001b[0;34m'5ht1a'\u001b[0m\u001b[0;34m]\u001b[0m \u001b[0;34m=\u001b[0m \u001b[0msamples_5ht1a\u001b[0m\u001b[0;34m\u001b[0m\u001b[0;34m\u001b[0m\u001b[0m\n\u001b[1;32m      4\u001b[0m \u001b[0mdf\u001b[0m\u001b[0;34m[\u001b[0m\u001b[0;34m'5ht7'\u001b[0m\u001b[0;34m]\u001b[0m \u001b[0;34m=\u001b[0m \u001b[0msamples_5ht7\u001b[0m\u001b[0;34m\u001b[0m\u001b[0;34m\u001b[0m\u001b[0m\n\u001b[1;32m      5\u001b[0m \u001b[0mdf\u001b[0m\u001b[0;34m[\u001b[0m\u001b[0;34m'beta2'\u001b[0m\u001b[0;34m]\u001b[0m \u001b[0;34m=\u001b[0m \u001b[0msamples_beta2\u001b[0m\u001b[0;34m\u001b[0m\u001b[0;34m\u001b[0m\u001b[0m\n",
      "\u001b[0;32m~/miniconda3/envs/mldd/lib/python3.9/site-packages/pandas/core/frame.py\u001b[0m in \u001b[0;36m?\u001b[0;34m(self, key, value)\u001b[0m\n\u001b[1;32m   3946\u001b[0m             \u001b[0;31m# Column to set is duplicated\u001b[0m\u001b[0;34m\u001b[0m\u001b[0;34m\u001b[0m\u001b[0m\n\u001b[1;32m   3947\u001b[0m             \u001b[0mself\u001b[0m\u001b[0;34m.\u001b[0m\u001b[0m_setitem_array\u001b[0m\u001b[0;34m(\u001b[0m\u001b[0;34m[\u001b[0m\u001b[0mkey\u001b[0m\u001b[0;34m]\u001b[0m\u001b[0;34m,\u001b[0m \u001b[0mvalue\u001b[0m\u001b[0;34m)\u001b[0m\u001b[0;34m\u001b[0m\u001b[0;34m\u001b[0m\u001b[0m\n\u001b[1;32m   3948\u001b[0m         \u001b[0;32melse\u001b[0m\u001b[0;34m:\u001b[0m\u001b[0;34m\u001b[0m\u001b[0;34m\u001b[0m\u001b[0m\n\u001b[1;32m   3949\u001b[0m             \u001b[0;31m# set column\u001b[0m\u001b[0;34m\u001b[0m\u001b[0;34m\u001b[0m\u001b[0m\n\u001b[0;32m-> 3950\u001b[0;31m             \u001b[0mself\u001b[0m\u001b[0;34m.\u001b[0m\u001b[0m_set_item\u001b[0m\u001b[0;34m(\u001b[0m\u001b[0mkey\u001b[0m\u001b[0;34m,\u001b[0m \u001b[0mvalue\u001b[0m\u001b[0;34m)\u001b[0m\u001b[0;34m\u001b[0m\u001b[0;34m\u001b[0m\u001b[0m\n\u001b[0m",
      "\u001b[0;32m~/miniconda3/envs/mldd/lib/python3.9/site-packages/pandas/core/frame.py\u001b[0m in \u001b[0;36m?\u001b[0;34m(self, key, value)\u001b[0m\n\u001b[1;32m   4139\u001b[0m \u001b[0;34m\u001b[0m\u001b[0m\n\u001b[1;32m   4140\u001b[0m         \u001b[0mSeries\u001b[0m\u001b[0;34m/\u001b[0m\u001b[0mTimeSeries\u001b[0m \u001b[0mwill\u001b[0m \u001b[0mbe\u001b[0m \u001b[0mconformed\u001b[0m \u001b[0mto\u001b[0m \u001b[0mthe\u001b[0m \u001b[0mDataFrames\u001b[0m \u001b[0mindex\u001b[0m \u001b[0mto\u001b[0m\u001b[0;34m\u001b[0m\u001b[0;34m\u001b[0m\u001b[0m\n\u001b[1;32m   4141\u001b[0m         \u001b[0mensure\u001b[0m \u001b[0mhomogeneity\u001b[0m\u001b[0;34m.\u001b[0m\u001b[0;34m\u001b[0m\u001b[0;34m\u001b[0m\u001b[0m\n\u001b[1;32m   4142\u001b[0m         \"\"\"\n\u001b[0;32m-> 4143\u001b[0;31m         \u001b[0mvalue\u001b[0m \u001b[0;34m=\u001b[0m \u001b[0mself\u001b[0m\u001b[0;34m.\u001b[0m\u001b[0m_sanitize_column\u001b[0m\u001b[0;34m(\u001b[0m\u001b[0mvalue\u001b[0m\u001b[0;34m)\u001b[0m\u001b[0;34m\u001b[0m\u001b[0;34m\u001b[0m\u001b[0m\n\u001b[0m\u001b[1;32m   4144\u001b[0m \u001b[0;34m\u001b[0m\u001b[0m\n\u001b[1;32m   4145\u001b[0m         if (\n\u001b[1;32m   4146\u001b[0m             \u001b[0mkey\u001b[0m \u001b[0;32min\u001b[0m \u001b[0mself\u001b[0m\u001b[0;34m.\u001b[0m\u001b[0mcolumns\u001b[0m\u001b[0;34m\u001b[0m\u001b[0;34m\u001b[0m\u001b[0m\n",
      "\u001b[0;32m~/miniconda3/envs/mldd/lib/python3.9/site-packages/pandas/core/frame.py\u001b[0m in \u001b[0;36m?\u001b[0;34m(self, value)\u001b[0m\n\u001b[1;32m   4856\u001b[0m         \u001b[0mReturns\u001b[0m\u001b[0;34m\u001b[0m\u001b[0;34m\u001b[0m\u001b[0m\n\u001b[1;32m   4857\u001b[0m         \u001b[0;34m-\u001b[0m\u001b[0;34m-\u001b[0m\u001b[0;34m-\u001b[0m\u001b[0;34m-\u001b[0m\u001b[0;34m-\u001b[0m\u001b[0;34m-\u001b[0m\u001b[0;34m-\u001b[0m\u001b[0;34m\u001b[0m\u001b[0;34m\u001b[0m\u001b[0m\n\u001b[1;32m   4858\u001b[0m         \u001b[0mnumpy\u001b[0m\u001b[0;34m.\u001b[0m\u001b[0mndarray\u001b[0m \u001b[0;32mor\u001b[0m \u001b[0mExtensionArray\u001b[0m\u001b[0;34m\u001b[0m\u001b[0;34m\u001b[0m\u001b[0m\n\u001b[1;32m   4859\u001b[0m         \"\"\"\n\u001b[0;32m-> 4860\u001b[0;31m         \u001b[0mself\u001b[0m\u001b[0;34m.\u001b[0m\u001b[0m_ensure_valid_index\u001b[0m\u001b[0;34m(\u001b[0m\u001b[0mvalue\u001b[0m\u001b[0;34m)\u001b[0m\u001b[0;34m\u001b[0m\u001b[0;34m\u001b[0m\u001b[0m\n\u001b[0m\u001b[1;32m   4861\u001b[0m \u001b[0;34m\u001b[0m\u001b[0m\n\u001b[1;32m   4862\u001b[0m         \u001b[0;31m# We can get there through isetitem with a DataFrame\u001b[0m\u001b[0;34m\u001b[0m\u001b[0;34m\u001b[0m\u001b[0m\n\u001b[1;32m   4863\u001b[0m         \u001b[0;31m# or through loc single_block_path\u001b[0m\u001b[0;34m\u001b[0m\u001b[0;34m\u001b[0m\u001b[0m\n",
      "\u001b[0;32m~/miniconda3/envs/mldd/lib/python3.9/site-packages/pandas/core/frame.py\u001b[0m in \u001b[0;36m?\u001b[0;34m(self, value)\u001b[0m\n\u001b[1;32m   4210\u001b[0m             \u001b[0;32mif\u001b[0m \u001b[0;32mnot\u001b[0m \u001b[0misinstance\u001b[0m\u001b[0;34m(\u001b[0m\u001b[0mvalue\u001b[0m\u001b[0;34m,\u001b[0m \u001b[0mDataFrame\u001b[0m\u001b[0;34m)\u001b[0m\u001b[0;34m:\u001b[0m\u001b[0;34m\u001b[0m\u001b[0;34m\u001b[0m\u001b[0m\n\u001b[1;32m   4211\u001b[0m                 \u001b[0;32mtry\u001b[0m\u001b[0;34m:\u001b[0m\u001b[0;34m\u001b[0m\u001b[0;34m\u001b[0m\u001b[0m\n\u001b[1;32m   4212\u001b[0m                     \u001b[0mvalue\u001b[0m \u001b[0;34m=\u001b[0m \u001b[0mSeries\u001b[0m\u001b[0;34m(\u001b[0m\u001b[0mvalue\u001b[0m\u001b[0;34m)\u001b[0m\u001b[0;34m\u001b[0m\u001b[0;34m\u001b[0m\u001b[0m\n\u001b[1;32m   4213\u001b[0m                 \u001b[0;32mexcept\u001b[0m \u001b[0;34m(\u001b[0m\u001b[0mValueError\u001b[0m\u001b[0;34m,\u001b[0m \u001b[0mNotImplementedError\u001b[0m\u001b[0;34m,\u001b[0m \u001b[0mTypeError\u001b[0m\u001b[0;34m)\u001b[0m \u001b[0;32mas\u001b[0m \u001b[0merr\u001b[0m\u001b[0;34m:\u001b[0m\u001b[0;34m\u001b[0m\u001b[0;34m\u001b[0m\u001b[0m\n\u001b[0;32m-> 4214\u001b[0;31m                     raise ValueError(\n\u001b[0m\u001b[1;32m   4215\u001b[0m                         \u001b[0;34m\"Cannot set a frame with no defined index \"\u001b[0m\u001b[0;34m\u001b[0m\u001b[0;34m\u001b[0m\u001b[0m\n\u001b[1;32m   4216\u001b[0m                         \u001b[0;34m\"and a value that cannot be converted to a Series\"\u001b[0m\u001b[0;34m\u001b[0m\u001b[0;34m\u001b[0m\u001b[0m\n\u001b[1;32m   4217\u001b[0m                     ) from err\n",
      "\u001b[0;31mValueError\u001b[0m: Cannot set a frame with no defined index and a value that cannot be converted to a Series"
     ]
    }
   ],
   "source": [
    "df['5ht1a'] = samples_5ht1a\n",
    "df['5ht7'] = samples_5ht7\n",
    "df['beta2'] = samples_beta2 \n",
    "df['samples_d2'] = samples_d2\n",
    "df['samples_h1'] = samples_h1 \n",
    "df.head()"
   ]
  },
  {
   "cell_type": "code",
   "execution_count": null,
   "id": "74e2036c",
   "metadata": {},
   "outputs": [],
   "source": []
  }
 ],
 "metadata": {
  "kernelspec": {
   "display_name": "Python 3 (ipykernel)",
   "language": "python",
   "name": "python3"
  },
  "language_info": {
   "codemirror_mode": {
    "name": "ipython",
    "version": 3
   },
   "file_extension": ".py",
   "mimetype": "text/x-python",
   "name": "python",
   "nbconvert_exporter": "python",
   "pygments_lexer": "ipython3",
   "version": "3.9.16"
  }
 },
 "nbformat": 4,
 "nbformat_minor": 5
}
