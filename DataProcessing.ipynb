{
 "cells": [
  {
   "cell_type": "code",
   "execution_count": 57,
   "id": "ecbcea3b",
   "metadata": {},
   "outputs": [],
   "source": [
    "import scipy \n",
    "import numpy as np\n",
    "import pandas as pd\n",
    "import matplotlib.pyplot as plt\n",
    "import seaborn as sns\n",
    "import rdkit\n",
    "import os\n",
    "import sys"
   ]
  },
  {
   "cell_type": "code",
   "execution_count": 58,
   "id": "1f337f42",
   "metadata": {},
   "outputs": [],
   "source": [
    "data_paths = {\n",
    "    '5ht1a_Klek' : './datasets/5ht1a_KlekFP.csv',\n",
    "    '5ht1a_MACCS' : './datasets/5ht1a_MACCSFP.csv',\n",
    "    '5ht1a_SubFP' : './datasets/5ht1a_SubFP.csv',\n",
    "    '5ht7_Klek' : './datasets/5ht7_KlekFP.csv',\n",
    "    '5ht7_MACCS' : './datasets/5ht7_MACCSFP.csv',\n",
    "    '5ht7_SubFP' : './datasets/5ht7_SubFP.csv',\n",
    "    'beta2_Klek' : './datasets/beta2_KlekFP.csv',\n",
    "    'beta2_MACCS' : './datasets/beta2_MACCSFP.csv',\n",
    "    'beta2_SubFP' : './datasets/beta2_SubFP.csv',\n",
    "    'd2_Klek' : './datasets/d2_KlekFP.csv',\n",
    "    'd2_MACCS' : './datasets/d2_MACCSFP.csv',\n",
    "    'd2_SubFP' : './datasets/d2_SubFP.csv',\n",
    "    'h1_Klek' : './datasets/h1_KlekFP.csv',\n",
    "    'h1_MACCS' : './datasets/h1_MACCSFP.csv',\n",
    "    'h1_SubFP' : './datasets/h1_SubFP.csv'\n",
    "}"
   ]
  },
  {
   "cell_type": "code",
   "execution_count": 62,
   "id": "dd82bcad",
   "metadata": {},
   "outputs": [],
   "source": [
    "class DataLoader():\n",
    "    \n",
    "    def __init__(self, protein, fingerprint):\n",
    "        sys.path.append('..')\n",
    "        self.data_paths = {\n",
    "    '5ht1a_Klek' : './datasets/5ht1a_KlekFP.csv',\n",
    "    '5ht1a_MACCS' : './datasets/5ht1a_MACCSFP.csv',\n",
    "    '5ht1a_Sub' : './datasets/5ht1a_SubFP.csv',\n",
    "    '5ht7_Klek' : './datasets/5ht7_KlekFP.csv',\n",
    "    '5ht7_MACCS' : './datasets/5ht7_MACCSFP.csv',\n",
    "    '5ht7_Sub' : './datasets/5ht7_SubFP.csv',\n",
    "    'beta2_Klek' : './datasets/beta2_KlekFP.csv',\n",
    "    'beta2_MACCS' : './datasets/beta2_MACCSFP.csv',\n",
    "    'beta2_Sub' : './datasets/beta2_SubFP.csv',\n",
    "    'd2_Klek' : './datasets/d2_KlekFP.csv',\n",
    "    'd2_MACCS' : './datasets/d2_MACCSFP.csv',\n",
    "    'd2_Sub' : './datasets/d2_SubFP.csv',\n",
    "    'h1_Klek' : './datasets/h1_KlekFP.csv',\n",
    "    'h1_MACCS' : './datasets/h1_MACCSFP.csv',\n",
    "    'h1_Sub' : './datasets/h1_SubFP.csv'\n",
    "    }\n",
    "            \n",
    "        self.proteins_ = ['5ht1a', '5ht7', 'beta2', 'd2', 'h1']\n",
    "        self.fingerprints_ = ['Klek', 'Sub', 'MACCS']\n",
    "        \n",
    "        self.protein = protein\n",
    "        self.fingerprint = fingerprint\n",
    "        self.path = self.protein + '_' + self.fingerprint\n",
    "        if self.path in self.data_paths.keys():\n",
    "            self.df = pd.read_csv(self.data_paths[self.path])\n",
    "            print(f'{self.fingerprint} FP for protein {self.protein} loaded')\n",
    "        else:\n",
    "            self.df = None\n",
    "            print(\"Protein and fingerprint combination not found\")\n",
    "            "
   ]
  },
  {
   "cell_type": "code",
   "execution_count": 63,
   "id": "797767b3",
   "metadata": {},
   "outputs": [
    {
     "name": "stdout",
     "output_type": "stream",
     "text": [
      "Klek FP for protein 5ht1a loaded\n",
      "Sub FP for protein 5ht1a loaded\n",
      "MACCS FP for protein 5ht1a loaded\n",
      "Klek FP for protein 5ht7 loaded\n",
      "Sub FP for protein 5ht7 loaded\n",
      "MACCS FP for protein 5ht7 loaded\n",
      "Klek FP for protein beta2 loaded\n",
      "Sub FP for protein beta2 loaded\n",
      "MACCS FP for protein beta2 loaded\n",
      "Klek FP for protein d2 loaded\n",
      "Sub FP for protein d2 loaded\n",
      "MACCS FP for protein d2 loaded\n",
      "Klek FP for protein h1 loaded\n",
      "Sub FP for protein h1 loaded\n",
      "MACCS FP for protein h1 loaded\n"
     ]
    }
   ],
   "source": [
    "proteins = ['5ht1a', '5ht7', 'beta2', 'd2', 'h1']\n",
    "keys = ['Klek', 'Sub', 'MACCS']\n",
    "\n",
    "for protein in proteins:\n",
    "        for key in keys:\n",
    "            data = DataLoader(protein=protein, fingerprint=key)\n",
    "            del data"
   ]
  },
  {
   "cell_type": "code",
   "execution_count": null,
   "id": "e2f68763",
   "metadata": {},
   "outputs": [],
   "source": []
  }
 ],
 "metadata": {
  "kernelspec": {
   "display_name": "Python 3 (ipykernel)",
   "language": "python",
   "name": "python3"
  },
  "language_info": {
   "codemirror_mode": {
    "name": "ipython",
    "version": 3
   },
   "file_extension": ".py",
   "mimetype": "text/x-python",
   "name": "python",
   "nbconvert_exporter": "python",
   "pygments_lexer": "ipython3",
   "version": "3.9.16"
  }
 },
 "nbformat": 4,
 "nbformat_minor": 5
}
