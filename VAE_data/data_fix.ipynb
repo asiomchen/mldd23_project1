{
 "cells": [
  {
   "cell_type": "code",
   "execution_count": 13,
   "id": "1db8b076",
   "metadata": {},
   "outputs": [],
   "source": [
    "import pandas as pd"
   ]
  },
  {
   "cell_type": "code",
   "execution_count": 15,
   "id": "38c0d074",
   "metadata": {},
   "outputs": [],
   "source": [
    "paths = [\n",
    "    '5ht1a_MACCS_clean.csv',\n",
    "    '5ht1a_Sub_clean.csv',\n",
    "    '5ht7_MACCS_clean.csv',\n",
    "    '5ht7_Sub_clean.csv',\n",
    "    'beta2_MACCS_clean.csv',\n",
    "    'beta2_Sub_clean.csv',\n",
    "    'd2_MACCS_clean.csv',\n",
    "    'd2_Sub_clean.csv',\n",
    "    'h1_MACCS_clean.csv',\n",
    "    'h1_Sub_clean.csv',\n",
    "]\n",
    "\n",
    "for path in paths:\n",
    "    df = pd.read_csv(path)\n",
    "    df = df.drop(columns='Class')\n",
    "    df.to_csv(path, index=False)"
   ]
  }
 ],
 "metadata": {
  "kernelspec": {
   "display_name": "Python 3 (ipykernel)",
   "language": "python",
   "name": "python3"
  },
  "language_info": {
   "codemirror_mode": {
    "name": "ipython",
    "version": 3
   },
   "file_extension": ".py",
   "mimetype": "text/x-python",
   "name": "python",
   "nbconvert_exporter": "python",
   "pygments_lexer": "ipython3",
   "version": "3.9.16"
  }
 },
 "nbformat": 4,
 "nbformat_minor": 5
}
