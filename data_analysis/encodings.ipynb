{
 "cells": [
  {
   "cell_type": "code",
   "execution_count": 1,
   "id": "initial_id",
   "metadata": {
    "collapsed": true,
    "ExecuteTime": {
     "end_time": "2023-10-27T10:42:53.574124106Z",
     "start_time": "2023-10-27T10:42:53.093986852Z"
    }
   },
   "outputs": [],
   "source": [
    "import pandas as pd\n",
    "from rdkit import Chem\n",
    "from rdkit.Chem.Draw import rdMolDraw2D\n",
    "import rdkit.Chem.rdDepictor as rdDepictor\n",
    "import io\n",
    "from PIL import Image\n",
    "from collections import defaultdict\n",
    "from IPython.display import SVG"
   ]
  },
  {
   "cell_type": "code",
   "execution_count": 12,
   "outputs": [],
   "source": [
    "smiles = 'CCCC(C(=O)C1=CC=CC=C1)N2CCCC2'\n",
    "mol = Chem.MolFromSmiles(smiles)\n",
    "rdDepictor.Compute2DCoords(mol)\n",
    "rdDepictor.StraightenDepiction(mol)\n",
    "\n",
    "blue = (0.2, 0.0, 0.7, 0.3)\n",
    "red = (0.7, 0.0, 0.2, 0.3)\n",
    "green = (0.3,0.7,0.3, 0.3)\n",
    "\n",
    "arads = {x: 0.3 for x in range(17)}\n",
    "athighlights = {\n",
    "    0:[blue],\n",
    "    1:[blue],\n",
    "    2:[blue],\n",
    "    3:[blue],\n",
    "    4:[blue],\n",
    "    5:[blue],\n",
    "    6:[red],\n",
    "    7:[red],\n",
    "    8:[red],\n",
    "    9:[red],\n",
    "    10:[red],\n",
    "    11:[red],\n",
    "    12:[green],\n",
    "    13:[green],\n",
    "    14:[green],\n",
    "    15:[green],\n",
    "    16:[green],\n",
    "}\n",
    "\n",
    "bndhighlights = defaultdict(list)\n",
    "for bond in mol.GetBonds():\n",
    "    aid1 = bond.GetBeginAtomIdx()\n",
    "    aid2 = bond.GetEndAtomIdx()\n",
    "\n",
    "    if aid1 < 5:\n",
    "        bid = mol.GetBondBetweenAtoms(aid1,aid2).GetIdx()\n",
    "        bndhighlights[bid].append(blue)\n",
    "    elif aid1 < 12:\n",
    "        bid = mol.GetBondBetweenAtoms(aid1,aid2).GetIdx()\n",
    "        bndhighlights[bid].append(red)\n",
    "    else:\n",
    "        bid = mol.GetBondBetweenAtoms(aid1,aid2).GetIdx()\n",
    "        bndhighlights[bid].append(green)\n",
    "\n",
    "d2d = rdMolDraw2D.MolDraw2DSVG(450,600)\n",
    "#d2d.DrawMoleculeWithHighlights(mol,\"\",dict(athighlights),dict(bndhighlights),arads,{})\n",
    "d2d.DrawMolecule(mol)\n",
    "d2d.FinishDrawing()\n",
    "p = d2d.GetDrawingText()\n",
    "\n",
    "import IPython.display\n",
    "with open('molecule.svg', 'w') as file:\n",
    "    file.write(p)"
   ],
   "metadata": {
    "collapsed": false,
    "ExecuteTime": {
     "end_time": "2023-10-27T10:53:31.502488203Z",
     "start_time": "2023-10-27T10:53:31.450766834Z"
    }
   },
   "id": "b6692929a0d801d9"
  },
  {
   "cell_type": "code",
   "execution_count": 3,
   "outputs": [
    {
     "data": {
      "text/plain": "'[C][C][C][C][Branch1][=N][C][=Branch1][C][=O][C][=C][C][=C][C][=C][Ring1][=Branch1][N][C][C][C][C][Ring1][Branch1]'"
     },
     "execution_count": 3,
     "metadata": {},
     "output_type": "execute_result"
    }
   ],
   "source": [
    "import selfies as sf\n",
    "sf.encoder(smiles)"
   ],
   "metadata": {
    "collapsed": false,
    "ExecuteTime": {
     "end_time": "2023-10-27T10:42:53.609406773Z",
     "start_time": "2023-10-27T10:42:53.577516312Z"
    }
   },
   "id": "49eac0ecf186c6d2"
  },
  {
   "cell_type": "code",
   "execution_count": 6,
   "outputs": [
    {
     "name": "stdout",
     "output_type": "stream",
     "text": [
      "CCCCC=O)C=CC=CC=C6)))))))NCCCC5\n"
     ]
    }
   ],
   "source": [
    "import deepsmiles as ds\n",
    "\n",
    "converter = ds.Converter(rings=True, branches=True)\n",
    "encoded = converter.encode(smiles)\n",
    "print(encoded)"
   ],
   "metadata": {
    "collapsed": false,
    "ExecuteTime": {
     "end_time": "2023-10-27T10:43:05.762833421Z",
     "start_time": "2023-10-27T10:43:05.753505069Z"
    }
   },
   "id": "2cd867bbfacbec87"
  },
  {
   "cell_type": "code",
   "execution_count": 11,
   "outputs": [
    {
     "name": "stdout",
     "output_type": "stream",
     "text": [
      "[0 0 0 0 0 0 0 0 0 0 0 0 0 0 0 0 0 0 0 0 0 0 0 0 0 0 0 0 0 0 0 0 0 0 0 0 0\n",
      " 0 0 0 0 0 0 0 0 0 0 0 0 0 0 0 0 0 0 0 0 0 0 0 0 0 0 0 0 0 0 0 0 0 0 0 0 0\n",
      " 0 1 0 0 0 0 0 0 0 1 0 1 1 0 0 0 0 0 0 0 0 1 1 0 0 0 1 0 0 0 0 0 0 0 0 0 0\n",
      " 1 0 0 1 1 0 0 1 0 0 1 1 0 0 0 0 0 1 1 0 0 0 0 0 0 0 1 1 0 0 0 0 0 0 0 0 1\n",
      " 1 0 0 0 1 1 1 1 1 0 1 0 1 1 1 1 1 1 0]\n"
     ]
    }
   ],
   "source": [
    "from rdkit.Chem import MACCSkeys\n",
    "import numpy as np\n",
    "\n",
    "MACCS_fp = MACCSkeys.GenMACCSKeys(mol)\n",
    "print(np.array(MACCS_fp))"
   ],
   "metadata": {
    "collapsed": false,
    "ExecuteTime": {
     "end_time": "2023-10-27T10:48:55.942241977Z",
     "start_time": "2023-10-27T10:48:55.894650591Z"
    }
   },
   "id": "a516c4057dabde19"
  },
  {
   "cell_type": "code",
   "execution_count": null,
   "outputs": [],
   "source": [],
   "metadata": {
    "collapsed": false
   },
   "id": "eef2943742cfb21d"
  }
 ],
 "metadata": {
  "kernelspec": {
   "display_name": "Python 3",
   "language": "python",
   "name": "python3"
  },
  "language_info": {
   "codemirror_mode": {
    "name": "ipython",
    "version": 2
   },
   "file_extension": ".py",
   "mimetype": "text/x-python",
   "name": "python",
   "nbconvert_exporter": "python",
   "pygments_lexer": "ipython2",
   "version": "2.7.6"
  }
 },
 "nbformat": 4,
 "nbformat_minor": 5
}
