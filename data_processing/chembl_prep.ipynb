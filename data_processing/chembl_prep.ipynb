{
 "cells": [
  {
   "cell_type": "code",
   "execution_count": 1,
   "metadata": {},
   "outputs": [],
   "source": [
    "import pandas as pd\n",
    "import numpy as np\n",
    "import os\n",
    "import time\n",
    "from rdkit import Chem\n",
    "from fp_gen import KlekFPGenerator, MACCSFPGenerator, SubFPGenerator"
   ]
  },
  {
   "cell_type": "code",
   "execution_count": 10,
   "metadata": {},
   "outputs": [],
   "source": [
    "generator = KlekFPGenerator(n_jobs=16)\n",
    "data = pd.read_csv('transformer_data/smiles.csv', header=None, chunksize=5000, names=['smiles'])"
   ]
  },
  {
   "cell_type": "code",
   "execution_count": 11,
   "metadata": {},
   "outputs": [],
   "source": [
    "def could_be_valid(smiles):\n",
    "    try:\n",
    "        mol = Chem.MolFromSmiles(smiles)\n",
    "        return mol is not None\n",
    "    except:\n",
    "        return False"
   ]
  },
  {
   "cell_type": "code",
   "execution_count": 12,
   "metadata": {},
   "outputs": [],
   "source": [
    "def sparse_to_dense(sparse):\n",
    "    return np.nonzero(sparse)[0].tolist()"
   ]
  },
  {
   "cell_type": "code",
   "execution_count": 15,
   "metadata": {},
   "outputs": [
    {
     "name": "stdout",
     "output_type": "stream",
     "text": [
      "0\n",
      "1\n",
      "2\n",
      "3\n",
      "4\n",
      "5\n",
      "6\n",
      "7\n",
      "8\n",
      "9\n",
      "10\n",
      "11\n",
      "12\n",
      "13\n",
      "14\n",
      "15\n",
      "16\n",
      "17\n",
      "18\n",
      "19\n",
      "20\n",
      "21\n",
      "22\n",
      "23\n",
      "24\n",
      "25\n",
      "26\n",
      "27\n",
      "28\n",
      "29\n",
      "30\n",
      "31\n",
      "32\n",
      "33\n",
      "34\n",
      "35\n",
      "36\n",
      "37\n",
      "38\n",
      "39\n",
      "40\n",
      "41\n"
     ]
    },
    {
     "name": "stderr",
     "output_type": "stream",
     "text": [
      "[18:24:47] Can't kekulize mol.  Unkekulized atoms: 1 2 3 4 5 6 10 11 15 16 17 19 20 21\n",
      "/tmp/ipykernel_24899/4090809836.py:6: SettingWithCopyWarning: \n",
      "A value is trying to be set on a copy of a slice from a DataFrame.\n",
      "Try using .loc[row_indexer,col_indexer] = value instead\n",
      "\n",
      "See the caveats in the documentation: https://pandas.pydata.org/pandas-docs/stable/user_guide/indexing.html#returning-a-view-versus-a-copy\n",
      "  chunk['fps'] = list(map(sparse_to_dense, fps))\n"
     ]
    },
    {
     "name": "stdout",
     "output_type": "stream",
     "text": [
      "42\n"
     ]
    }
   ],
   "source": [
    "for i, chunk in enumerate(data):\n",
    "    print(i)\n",
    "    chunk = chunk[chunk['smiles'].apply(could_be_valid)]\n",
    "    mols = list(map(Chem.MolFromSmiles, chunk['smiles']))\n",
    "    fps = generator.transform(mols)\n",
    "    chunk['fps'] = list(map(sparse_to_dense, fps))\n",
    "    if i == 0:\n",
    "        chunk.to_csv('transformer_data/chembl_klek.csv', index=False)\n",
    "    with open('transformer_data/chembl_klek.csv', 'a') as f:\n",
    "        chunk.to_csv(f, header=False, index=False)"
   ]
  },
  {
   "cell_type": "code",
   "execution_count": 22,
   "metadata": {},
   "outputs": [
    {
     "data": {
      "text/html": [
       "<div>\n",
       "<style scoped>\n",
       "    .dataframe tbody tr th:only-of-type {\n",
       "        vertical-align: middle;\n",
       "    }\n",
       "\n",
       "    .dataframe tbody tr th {\n",
       "        vertical-align: top;\n",
       "    }\n",
       "\n",
       "    .dataframe thead th {\n",
       "        text-align: right;\n",
       "    }\n",
       "</style>\n",
       "<table border=\"1\" class=\"dataframe\">\n",
       "  <thead>\n",
       "    <tr style=\"text-align: right;\">\n",
       "      <th></th>\n",
       "      <th>smiles</th>\n",
       "      <th>fps</th>\n",
       "    </tr>\n",
       "  </thead>\n",
       "  <tbody>\n",
       "    <tr>\n",
       "      <th>0</th>\n",
       "      <td>Cc1ccc(C(=O)Nc2ccc(S(=O)(=O)N=C(N)N)cc2)cc1</td>\n",
       "      <td>[668, 676, 838, 1012, 1023, 1145, 1192, 1317, ...</td>\n",
       "    </tr>\n",
       "    <tr>\n",
       "      <th>1</th>\n",
       "      <td>COc1ccc(/C=C/C(C)=O)c(OCC=C(C)C)c1</td>\n",
       "      <td>[125, 132, 296, 646, 668, 1192, 1262, 1644, 25...</td>\n",
       "    </tr>\n",
       "    <tr>\n",
       "      <th>2</th>\n",
       "      <td>O=C(O)/C=C\\CCCCCn1ccnc1</td>\n",
       "      <td>[125, 132, 135, 296, 337, 340, 343, 345, 346, ...</td>\n",
       "    </tr>\n",
       "    <tr>\n",
       "      <th>3</th>\n",
       "      <td>CC(C(=O)NO)N(Cc1ccccc1[N+](=O)[O-])C(=O)Nc1ccc...</td>\n",
       "      <td>[0, 13, 19, 97, 101, 296, 609, 668, 671, 676, ...</td>\n",
       "    </tr>\n",
       "    <tr>\n",
       "      <th>4</th>\n",
       "      <td>O=C(Cc1ccncc1)NCCNC1c2ccc(Cl)cc2CCc2cccnc21</td>\n",
       "      <td>[0, 296, 340, 382, 386, 389, 466, 479, 482, 50...</td>\n",
       "    </tr>\n",
       "  </tbody>\n",
       "</table>\n",
       "</div>"
      ],
      "text/plain": [
       "                                              smiles  \\\n",
       "0        Cc1ccc(C(=O)Nc2ccc(S(=O)(=O)N=C(N)N)cc2)cc1   \n",
       "1                 COc1ccc(/C=C/C(C)=O)c(OCC=C(C)C)c1   \n",
       "2                            O=C(O)/C=C\\CCCCCn1ccnc1   \n",
       "3  CC(C(=O)NO)N(Cc1ccccc1[N+](=O)[O-])C(=O)Nc1ccc...   \n",
       "4        O=C(Cc1ccncc1)NCCNC1c2ccc(Cl)cc2CCc2cccnc21   \n",
       "\n",
       "                                                 fps  \n",
       "0  [668, 676, 838, 1012, 1023, 1145, 1192, 1317, ...  \n",
       "1  [125, 132, 296, 646, 668, 1192, 1262, 1644, 25...  \n",
       "2  [125, 132, 135, 296, 337, 340, 343, 345, 346, ...  \n",
       "3  [0, 13, 19, 97, 101, 296, 609, 668, 671, 676, ...  \n",
       "4  [0, 296, 340, 382, 386, 389, 466, 479, 482, 50...  "
      ]
     },
     "execution_count": 22,
     "metadata": {},
     "output_type": "execute_result"
    }
   ],
   "source": [
    "reload_data = pd.read_csv('transformer_data/chembl_klek.csv')\n",
    "reload_data['fps'] = reload_data['fps'].apply(eval)\n",
    "reload_data.head()"
   ]
  }
 ],
 "metadata": {
  "kernelspec": {
   "display_name": "cadd",
   "language": "python",
   "name": "python3"
  },
  "language_info": {
   "codemirror_mode": {
    "name": "ipython",
    "version": 3
   },
   "file_extension": ".py",
   "mimetype": "text/x-python",
   "name": "python",
   "nbconvert_exporter": "python",
   "pygments_lexer": "ipython3",
   "version": "3.8.16"
  },
  "orig_nbformat": 4
 },
 "nbformat": 4,
 "nbformat_minor": 2
}
