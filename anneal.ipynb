{
 "cells": [
  {
   "cell_type": "code",
   "execution_count": 1,
   "outputs": [],
   "source": [
    "from src.utils.annealing import Annealer"
   ],
   "metadata": {
    "collapsed": false,
    "ExecuteTime": {
     "end_time": "2023-08-11T15:13:27.738557450Z",
     "start_time": "2023-08-11T15:13:27.737566098Z"
    }
   },
   "id": "75130228e5606355"
  },
  {
   "cell_type": "code",
   "execution_count": 8,
   "outputs": [
    {
     "name": "stdout",
     "output_type": "stream",
     "text": [
      "cosine\n",
      "0.0002467198171342\n"
     ]
    }
   ],
   "source": [
    "agent = Annealer(total_steps=100, shape='cosine')\n",
    "\n",
    "print(agent.slope())\n"
   ],
   "metadata": {
    "collapsed": false,
    "ExecuteTime": {
     "end_time": "2023-08-11T15:13:56.442623377Z",
     "start_time": "2023-08-11T15:13:56.428762245Z"
    }
   },
   "id": "c5525d2c7463f1da"
  },
  {
   "cell_type": "code",
   "execution_count": 22,
   "outputs": [],
   "source": [
    "agent.step()"
   ],
   "metadata": {
    "collapsed": false,
    "ExecuteTime": {
     "end_time": "2023-08-11T15:14:23.317263981Z",
     "start_time": "2023-08-11T15:14:23.310996112Z"
    }
   },
   "id": "7171fc45ce4b1348"
  },
  {
   "cell_type": "code",
   "execution_count": 23,
   "outputs": [
    {
     "data": {
      "text/plain": "0.019853157161528467"
     },
     "execution_count": 23,
     "metadata": {},
     "output_type": "execute_result"
    }
   ],
   "source": [
    "agent.slope()"
   ],
   "metadata": {
    "collapsed": false,
    "ExecuteTime": {
     "end_time": "2023-08-11T15:14:23.570588005Z",
     "start_time": "2023-08-11T15:14:23.554831276Z"
    }
   },
   "id": "233f44cc463e1a0e"
  },
  {
   "cell_type": "code",
   "execution_count": 15,
   "outputs": [],
   "source": [],
   "metadata": {
    "collapsed": false,
    "ExecuteTime": {
     "end_time": "2023-08-11T15:14:14.777355133Z",
     "start_time": "2023-08-11T15:14:14.759846788Z"
    }
   },
   "id": "23cc3396290486a5"
  },
  {
   "cell_type": "code",
   "execution_count": null,
   "outputs": [],
   "source": [],
   "metadata": {
    "collapsed": false
   },
   "id": "f1d6bcf71988e4ba"
  }
 ],
 "metadata": {
  "kernelspec": {
   "display_name": "Python 3",
   "language": "python",
   "name": "python3"
  },
  "language_info": {
   "codemirror_mode": {
    "name": "ipython",
    "version": 2
   },
   "file_extension": ".py",
   "mimetype": "text/x-python",
   "name": "python",
   "nbconvert_exporter": "python",
   "pygments_lexer": "ipython2",
   "version": "2.7.6"
  }
 },
 "nbformat": 4,
 "nbformat_minor": 5
}
