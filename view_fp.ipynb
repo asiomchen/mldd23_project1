{
 "cells": [
  {
   "attachments": {},
   "cell_type": "markdown",
   "metadata": {},
   "source": [
    "### SubFP"
   ]
  },
  {
   "cell_type": "code",
   "execution_count": 1,
   "metadata": {},
   "outputs": [],
   "source": [
    "from rdkit import Chem, DataStructs\n",
    "from rdkit.Chem import AllChem, Draw\n",
    "from rdkit.Chem.Draw import IPythonConsole\n",
    "import numpy as np\n",
    "import pandas as pd"
   ]
  },
  {
   "cell_type": "code",
   "execution_count": 2,
   "metadata": {},
   "outputs": [
    {
     "name": "stdout",
     "output_type": "stream",
     "text": [
      "Number of keys: 307\n"
     ]
    }
   ],
   "source": [
    "sub_keys = pd.read_csv('./keys/SubFP_keys.txt', delimiter='\\t', header=None)\n",
    "print(f'Number of keys: {len(sub_keys)}')"
   ]
  },
  {
   "cell_type": "code",
   "execution_count": 3,
   "metadata": {},
   "outputs": [],
   "source": [
    "def key_to_rdkit_mol(key):\n",
    "    try:\n",
    "        mol = Chem.MolFromSmarts(key)\n",
    "    except:\n",
    "        mol = None\n",
    "    return mol"
   ]
  },
  {
   "cell_type": "code",
   "execution_count": 4,
   "metadata": {},
   "outputs": [
    {
     "name": "stderr",
     "output_type": "stream",
     "text": [
      "[19:47:44] SMARTS Parse Error: syntax error while parsing: *&#47[D2]=[D2]/*\n",
      "[19:47:44] SMARTS Parse Error: Failed parsing SMARTS '*&#47[D2]=[D2]/*' for input: '*&#47[D2]=[D2]/*'\n",
      "[19:47:44] SMARTS Parse Error: syntax error while parsing: *&#47[D2]=[D2]/*\n",
      "[19:47:44] SMARTS Parse Error: Failed parsing SMARTS '*&#47[D2]=[D2]/*' for input: '*&#47[D2]=[D2]/*'\n",
      "[19:47:44] SMARTS Parse Error: syntax error while parsing: ([-1,-2,-3,-4,-5,-6,-7]).([+1,+2,+3,+4,+5,+6,+7])\n",
      "[19:47:44] SMARTS Parse Error: Failed parsing SMARTS '([-1,-2,-3,-4,-5,-6,-7]).([+1,+2,+3,+4,+5,+6,+7])' for input: '([-1,-2,-3,-4,-5,-6,-7]).([+1,+2,+3,+4,+5,+6,+7])'\n"
     ]
    }
   ],
   "source": [
    "sub_keys['mol'] = sub_keys[0].apply(key_to_rdkit_mol)"
   ]
  },
  {
   "cell_type": "code",
   "execution_count": 5,
   "metadata": {},
   "outputs": [
    {
     "name": "stdout",
     "output_type": "stream",
     "text": [
      "Number of keys with valid mol: 304 of 307\n"
     ]
    }
   ],
   "source": [
    "print(f'Number of keys with valid mol: {len(sub_keys[sub_keys.mol.notnull()])} of {len(sub_keys)}')"
   ]
  },
  {
   "cell_type": "code",
   "execution_count": 6,
   "metadata": {},
   "outputs": [],
   "source": [
    "sub_keys = sub_keys[sub_keys['mol'].notnull()]"
   ]
  },
  {
   "attachments": {},
   "cell_type": "markdown",
   "metadata": {},
   "source": [
    "### MACCS"
   ]
  },
  {
   "cell_type": "code",
   "execution_count": 8,
   "metadata": {},
   "outputs": [],
   "source": [
    "smartsPatts = {\n",
    "  1: ('?', 0),  # ISOTOPE\n",
    "  #2:('[#104,#105,#106,#107,#106,#109,#110,#111,#112]',0),  # atomic num >103 Not complete\n",
    "  2: ('[#104]', 0),  # limit the above def'n since the RDKit only accepts up to #104\n",
    "  3: ('[#32,#33,#34,#50,#51,#52,#82,#83,#84]', 0),  # Group IVa,Va,VIa Rows 4-6 \n",
    "  4: ('[Ac,Th,Pa,U,Np,Pu,Am,Cm,Bk,Cf,Es,Fm,Md,No,Lr]', 0),  # actinide\n",
    "  5: ('[Sc,Ti,Y,Zr,Hf]', 0),  # Group IIIB,IVB (Sc...)  \n",
    "  6: ('[La,Ce,Pr,Nd,Pm,Sm,Eu,Gd,Tb,Dy,Ho,Er,Tm,Yb,Lu]', 0),  # Lanthanide\n",
    "  7: ('[V,Cr,Mn,Nb,Mo,Tc,Ta,W,Re]', 0),  # Group VB,VIB,VIIB\n",
    "  8: ('[!#6;!#1]1~*~*~*~1', 0),  # QAAA@1\n",
    "  9: ('[Fe,Co,Ni,Ru,Rh,Pd,Os,Ir,Pt]', 0),  # Group VIII (Fe...)\n",
    "  10: ('[Be,Mg,Ca,Sr,Ba,Ra]', 0),  # Group IIa (Alkaline earth)\n",
    "  11: ('*1~*~*~*~1', 0),  # 4M Ring\n",
    "  12: ('[Cu,Zn,Ag,Cd,Au,Hg]', 0),  # Group IB,IIB (Cu..)\n",
    "  13: ('[#8]~[#7](~[#6])~[#6]', 0),  # ON(C)C\n",
    "  14: ('[#16]-[#16]', 0),  # S-S\n",
    "  15: ('[#8]~[#6](~[#8])~[#8]', 0),  # OC(O)O\n",
    "  16: ('[!#6;!#1]1~*~*~1', 0),  # QAA@1\n",
    "  17: ('[#6]#[#6]', 0),  #CTC\n",
    "  18: ('[#5,#13,#31,#49,#81]', 0),  # Group IIIA (B...) \n",
    "  19: ('*1~*~*~*~*~*~*~1', 0),  # 7M Ring\n",
    "  20: ('[#14]', 0),  #Si\n",
    "  21: ('[#6]=[#6](~[!#6;!#1])~[!#6;!#1]', 0),  # C=C(Q)Q\n",
    "  22: ('*1~*~*~1', 0),  # 3M Ring\n",
    "  23: ('[#7]~[#6](~[#8])~[#8]', 0),  # NC(O)O\n",
    "  24: ('[#7]-[#8]', 0),  # N-O\n",
    "  25: ('[#7]~[#6](~[#7])~[#7]', 0),  # NC(N)N\n",
    "  26: ('[#6]=;@[#6](@*)@*', 0),  # C$=C($A)$A\n",
    "  27: ('[I]', 0),  # I\n",
    "  28: ('[!#6;!#1]~[CH2]~[!#6;!#1]', 0),  # QCH2Q\n",
    "  29: ('[#15]', 0),  # P\n",
    "  30: ('[#6]~[!#6;!#1](~[#6])(~[#6])~*', 0),  # CQ(C)(C)A\n",
    "  31: ('[!#6;!#1]~[F,Cl,Br,I]', 0),  # QX\n",
    "  32: ('[#6]~[#16]~[#7]', 0),  # CSN\n",
    "  33: ('[#7]~[#16]', 0),  # NS\n",
    "  34: ('[CH2]=*', 0),  # CH2=A\n",
    "  35: ('[Li,Na,K,Rb,Cs,Fr]', 0),  # Group IA (Alkali Metal)\n",
    "  36: ('[#16R]', 0),  # S Heterocycle\n",
    "  37: ('[#7]~[#6](~[#8])~[#7]', 0),  # NC(O)N\n",
    "  38: ('[#7]~[#6](~[#6])~[#7]', 0),  # NC(C)N\n",
    "  39: ('[#8]~[#16](~[#8])~[#8]', 0),  # OS(O)O\n",
    "  40: ('[#16]-[#8]', 0),  # S-O\n",
    "  41: ('[#6]#[#7]', 0),  # CTN\n",
    "  42: ('F', 0),  # F\n",
    "  43: ('[!#6;!#1;!H0]~*~[!#6;!#1;!H0]', 0),  # QHAQH\n",
    "  44: ('[!#1;!#6;!#7;!#8;!#9;!#14;!#15;!#16;!#17;!#35;!#53]', 0),  # OTHER\n",
    "  45: ('[#6]=[#6]~[#7]', 0),  # C=CN\n",
    "  46: ('Br', 0),  # BR\n",
    "  47: ('[#16]~*~[#7]', 0),  # SAN\n",
    "  48: ('[#8]~[!#6;!#1](~[#8])(~[#8])', 0),  # OQ(O)O\n",
    "  49: ('[!+0]', 0),  # CHARGE  \n",
    "  50: ('[#6]=[#6](~[#6])~[#6]', 0),  # C=C(C)C\n",
    "  51: ('[#6]~[#16]~[#8]', 0),  # CSO\n",
    "  52: ('[#7]~[#7]', 0),  # NN\n",
    "  53: ('[!#6;!#1;!H0]~*~*~*~[!#6;!#1;!H0]', 0),  # QHAAAQH\n",
    "  54: ('[!#6;!#1;!H0]~*~*~[!#6;!#1;!H0]', 0),  # QHAAQH\n",
    "  55: ('[#8]~[#16]~[#8]', 0),  #OSO\n",
    "  56: ('[#8]~[#7](~[#8])~[#6]', 0),  # ON(O)C\n",
    "  57: ('[#8R]', 0),  # O Heterocycle\n",
    "  58: ('[!#6;!#1]~[#16]~[!#6;!#1]', 0),  # QSQ\n",
    "  59: ('[#16]!:*:*', 0),  # Snot%A%A\n",
    "  60: ('[#16]=[#8]', 0),  # S=O\n",
    "  61: ('*~[#16](~*)~*', 0),  # AS(A)A\n",
    "  62: ('*@*!@*@*', 0),  # A$!A$A\n",
    "  63: ('[#7]=[#8]', 0),  # N=O\n",
    "  64: ('*@*!@[#16]', 0),  # A$A!S\n",
    "  65: ('c:n', 0),  # C%N\n",
    "  66: ('[#6]~[#6](~[#6])(~[#6])~*', 0),  # CC(C)(C)A\n",
    "  67: ('[!#6;!#1]~[#16]', 0),  # QS\n",
    "  68: ('[!#6;!#1;!H0]~[!#6;!#1;!H0]', 0),  # QHQH (&...) SPEC Incomplete\n",
    "  69: ('[!#6;!#1]~[!#6;!#1;!H0]', 0),  # QQH\n",
    "  70: ('[!#6;!#1]~[#7]~[!#6;!#1]', 0),  # QNQ\n",
    "  71: ('[#7]~[#8]', 0),  # NO\n",
    "  72: ('[#8]~*~*~[#8]', 0),  # OAAO\n",
    "  73: ('[#16]=*', 0),  # S=A\n",
    "  74: ('[CH3]~*~[CH3]', 0),  # CH3ACH3\n",
    "  75: ('*!@[#7]@*', 0),  # A!N$A\n",
    "  76: ('[#6]=[#6](~*)~*', 0),  # C=C(A)A\n",
    "  77: ('[#7]~*~[#7]', 0),  # NAN\n",
    "  78: ('[#6]=[#7]', 0),  # C=N\n",
    "  79: ('[#7]~*~*~[#7]', 0),  # NAAN\n",
    "  80: ('[#7]~*~*~*~[#7]', 0),  # NAAAN\n",
    "  81: ('[#16]~*(~*)~*', 0),  # SA(A)A\n",
    "  82: ('*~[CH2]~[!#6;!#1;!H0]', 0),  # ACH2QH\n",
    "  83: ('[!#6;!#1]1~*~*~*~*~1', 0),  # QAAAA@1\n",
    "  84: ('[NH2]', 0),  #NH2\n",
    "  85: ('[#6]~[#7](~[#6])~[#6]', 0),  # CN(C)C\n",
    "  86: ('[C;H2,H3][!#6;!#1][C;H2,H3]', 0),  # CH2QCH2\n",
    "  87: ('[F,Cl,Br,I]!@*@*', 0),  # X!A$A\n",
    "  88: ('[#16]', 0),  # S\n",
    "  89: ('[#8]~*~*~*~[#8]', 0),  # OAAAO\n",
    "  90:\n",
    "  ('[$([!#6;!#1;!H0]~*~*~[CH2]~*),$([!#6;!#1;!H0;R]1@[R]@[R]@[CH2;R]1),$([!#6;!#1;!H0]~[R]1@[R]@[CH2;R]1)]',\n",
    "   0),  # QHAACH2A\n",
    "  91:\n",
    "  ('[$([!#6;!#1;!H0]~*~*~*~[CH2]~*),$([!#6;!#1;!H0;R]1@[R]@[R]@[R]@[CH2;R]1),$([!#6;!#1;!H0]~[R]1@[R]@[R]@[CH2;R]1),$([!#6;!#1;!H0]~*~[R]1@[R]@[CH2;R]1)]',\n",
    "   0),  # QHAAACH2A\n",
    "  92: ('[#8]~[#6](~[#7])~[#6]', 0),  # OC(N)C\n",
    "  93: ('[!#6;!#1]~[CH3]', 0),  # QCH3\n",
    "  94: ('[!#6;!#1]~[#7]', 0),  # QN\n",
    "  95: ('[#7]~*~*~[#8]', 0),  # NAAO\n",
    "  96: ('*1~*~*~*~*~1', 0),  # 5 M ring\n",
    "  97: ('[#7]~*~*~*~[#8]', 0),  # NAAAO\n",
    "  98: ('[!#6;!#1]1~*~*~*~*~*~1', 0),  # QAAAAA@1\n",
    "  99: ('[#6]=[#6]', 0),  # C=C\n",
    "  100: ('*~[CH2]~[#7]', 0),  # ACH2N\n",
    "  101:\n",
    "  ('[$([R]@1@[R]@[R]@[R]@[R]@[R]@[R]@[R]1),$([R]@1@[R]@[R]@[R]@[R]@[R]@[R]@[R]@[R]1),$([R]@1@[R]@[R]@[R]@[R]@[R]@[R]@[R]@[R]@[R]1),$([R]@1@[R]@[R]@[R]@[R]@[R]@[R]@[R]@[R]@[R]@[R]1),$([R]@1@[R]@[R]@[R]@[R]@[R]@[R]@[R]@[R]@[R]@[R]@[R]1),$([R]@1@[R]@[R]@[R]@[R]@[R]@[R]@[R]@[R]@[R]@[R]@[R]@[R]1),$([R]@1@[R]@[R]@[R]@[R]@[R]@[R]@[R]@[R]@[R]@[R]@[R]@[R]@[R]1)]',\n",
    "   0),  # 8M Ring or larger. This only handles up to ring sizes of 14\n",
    "  102: ('[!#6;!#1]~[#8]', 0),  # QO\n",
    "  103: ('Cl', 0),  # CL\n",
    "  104: ('[!#6;!#1;!H0]~*~[CH2]~*', 0),  # QHACH2A\n",
    "  105: ('*@*(@*)@*', 0),  # A$A($A)$A\n",
    "  106: ('[!#6;!#1]~*(~[!#6;!#1])~[!#6;!#1]', 0),  # QA(Q)Q\n",
    "  107: ('[F,Cl,Br,I]~*(~*)~*', 0),  # XA(A)A\n",
    "  108: ('[CH3]~*~*~*~[CH2]~*', 0),  # CH3AAACH2A\n",
    "  109: ('*~[CH2]~[#8]', 0),  # ACH2O\n",
    "  110: ('[#7]~[#6]~[#8]', 0),  # NCO\n",
    "  111: ('[#7]~*~[CH2]~*', 0),  # NACH2A\n",
    "  112: ('*~*(~*)(~*)~*', 0),  # AA(A)(A)A\n",
    "  113: ('[#8]!:*:*', 0),  # Onot%A%A\n",
    "  114: ('[CH3]~[CH2]~*', 0),  # CH3CH2A\n",
    "  115: ('[CH3]~*~[CH2]~*', 0),  # CH3ACH2A\n",
    "  116: ('[$([CH3]~*~*~[CH2]~*),$([CH3]~*1~*~[CH2]1)]', 0),  # CH3AACH2A\n",
    "  117: ('[#7]~*~[#8]', 0),  # NAO\n",
    "  118: ('[$(*~[CH2]~[CH2]~*),$(*1~[CH2]~[CH2]1)]', 1),  # ACH2CH2A > 1\n",
    "  119: ('[#7]=*', 0),  # N=A\n",
    "  120: ('[!#6;R]', 1),  # Heterocyclic atom > 1 (&...) Spec Incomplete\n",
    "  121: ('[#7;R]', 0),  # N Heterocycle\n",
    "  122: ('*~[#7](~*)~*', 0),  # AN(A)A\n",
    "  123: ('[#8]~[#6]~[#8]', 0),  # OCO\n",
    "  124: ('[!#6;!#1]~[!#6;!#1]', 0),  # QQ\n",
    "  125: ('?', 0),  # Aromatic Ring > 1\n",
    "  126: ('*!@[#8]!@*', 0),  # A!O!A\n",
    "  127: ('*@*!@[#8]', 1),  # A$A!O > 1 (&...) Spec Incomplete\n",
    "  128:\n",
    "  ('[$(*~[CH2]~*~*~*~[CH2]~*),$([R]1@[CH2;R]@[R]@[R]@[R]@[CH2;R]1),$(*~[CH2]~[R]1@[R]@[R]@[CH2;R]1),$(*~[CH2]~*~[R]1@[R]@[CH2;R]1)]',\n",
    "   0),  # ACH2AAACH2A\n",
    "  129: ('[$(*~[CH2]~*~*~[CH2]~*),$([R]1@[CH2]@[R]@[R]@[CH2;R]1),$(*~[CH2]~[R]1@[R]@[CH2;R]1)]',\n",
    "        0),  # ACH2AACH2A\n",
    "  130: ('[!#6;!#1]~[!#6;!#1]', 1),  # QQ > 1 (&...)  Spec Incomplete\n",
    "  131: ('[!#6;!#1;!H0]', 1),  # QH > 1\n",
    "  132: ('[#8]~*~[CH2]~*', 0),  # OACH2A\n",
    "  133: ('*@*!@[#7]', 0),  # A$A!N\n",
    "  134: ('[F,Cl,Br,I]', 0),  # X (HALOGEN)\n",
    "  135: ('[#7]!:*:*', 0),  # Nnot%A%A\n",
    "  136: ('[#8]=*', 1),  # O=A>1 \n",
    "  137: ('[!C;!c;R]', 0),  # Heterocycle\n",
    "  138: ('[!#6;!#1]~[CH2]~*', 1),  # QCH2A>1 (&...) Spec Incomplete\n",
    "  139: ('[O;!H0]', 0),  # OH\n",
    "  140: ('[#8]', 3),  # O > 3 (&...) Spec Incomplete\n",
    "  141: ('[CH3]', 2),  # CH3 > 2  (&...) Spec Incomplete\n",
    "  142: ('[#7]', 1),  # N > 1\n",
    "  143: ('*@*!@[#8]', 0),  # A$A!O\n",
    "  144: ('*!:*:*!:*', 0),  # Anot%A%Anot%A\n",
    "  145: ('*1~*~*~*~*~*~1', 1),  # 6M ring > 1\n",
    "  146: ('[#8]', 2),  # O > 2\n",
    "  147: ('[$(*~[CH2]~[CH2]~*),$([R]1@[CH2;R]@[CH2;R]1)]', 0),  # ACH2CH2A\n",
    "  148: ('*~[!#6;!#1](~*)~*', 0),  # AQ(A)A\n",
    "  149: ('[C;H3,H4]', 1),  # CH3 > 1\n",
    "  150: ('*!@*@*!@*', 0),  # A!A$A!A\n",
    "  151: ('[#7;!H0]', 0),  # NH\n",
    "  152: ('[#8]~[#6](~[#6])~[#6]', 0),  # OC(C)C\n",
    "  153: ('[!#6;!#1]~[CH2]~*', 0),  # QCH2A\n",
    "  154: ('[#6]=[#8]', 0),  # C=O\n",
    "  155: ('*!@[CH2]!@*', 0),  # A!CH2!A\n",
    "  156: ('[#7]~*(~*)~*', 0),  # NA(A)A\n",
    "  157: ('[#6]-[#8]', 0),  # C-O\n",
    "  158: ('[#6]-[#7]', 0),  # C-N\n",
    "  159: ('[#8]', 1),  # O>1\n",
    "  160: ('[C;H3,H4]', 0),  #CH3\n",
    "  161: ('[#7]', 0),  # N\n",
    "  162: ('a', 0),  # Aromatic\n",
    "  163: ('*1~*~*~*~*~*~1', 0),  # 6M Ring\n",
    "  164: ('[#8]', 0),  # O\n",
    "  165: ('[R]', 0),  # Ring\n",
    "  166: ('?', 0),  # Fragments  FIX: this can't be done in SMARTS\n",
    "}"
   ]
  },
  {
   "cell_type": "code",
   "execution_count": 9,
   "metadata": {},
   "outputs": [
    {
     "name": "stdout",
     "output_type": "stream",
     "text": [
      "Number of MACCS keys: 166\n"
     ]
    }
   ],
   "source": [
    "maccs_keys = [keys[0] for keys in smartsPatts.values()]\n",
    "print(f'Number of MACCS keys: {len(maccs_keys)}')"
   ]
  },
  {
   "cell_type": "code",
   "execution_count": 10,
   "metadata": {},
   "outputs": [
    {
     "name": "stderr",
     "output_type": "stream",
     "text": [
      "[19:47:51] SMARTS Parse Error: syntax error while parsing: ?\n",
      "[19:47:51] SMARTS Parse Error: Failed parsing SMARTS '?' for input: '?'\n",
      "[19:47:51] SMARTS Parse Error: syntax error while parsing: ?\n",
      "[19:47:51] SMARTS Parse Error: Failed parsing SMARTS '?' for input: '?'\n",
      "[19:47:51] SMARTS Parse Error: syntax error while parsing: ?\n",
      "[19:47:51] SMARTS Parse Error: Failed parsing SMARTS '?' for input: '?'\n"
     ]
    }
   ],
   "source": [
    "maccs_mols = [key_to_rdkit_mol(key) for key in maccs_keys]"
   ]
  },
  {
   "cell_type": "code",
   "execution_count": 11,
   "metadata": {},
   "outputs": [
    {
     "name": "stdout",
     "output_type": "stream",
     "text": [
      "Number of Klek keys: 4860\n"
     ]
    }
   ],
   "source": [
    "klek_fp = pd.read_csv('./keys/KlekFP_keys', delimiter='\\t', header=None)\n",
    "print(f'Number of Klek keys: {len(klek_fp)}')"
   ]
  },
  {
   "cell_type": "code",
   "execution_count": 12,
   "metadata": {},
   "outputs": [],
   "source": [
    "klek_fp['mol'] = klek_fp[0].apply(key_to_rdkit_mol)"
   ]
  },
  {
   "cell_type": "code",
   "execution_count": 13,
   "metadata": {},
   "outputs": [
    {
     "data": {
      "application/vnd.jupyter.widget-view+json": {
       "model_id": "f4e619550acd432d889778f3d3ef4a72",
       "version_major": 2,
       "version_minor": 0
      },
      "text/plain": [
       "interactive(children=(Dropdown(description='key', options=(0, 1, 2, 3, 4, 5, 6, 7, 8, 9, 10, 11, 12, 13, 14, 1…"
      ]
     },
     "metadata": {},
     "output_type": "display_data"
    }
   ],
   "source": [
    "from ipywidgets import interact\n",
    "\n",
    "@interact\n",
    "def show_maccs_key(key=[*range(len(maccs_keys))]):\n",
    "    display(Draw.MolsToImage([maccs_mols[key]], legends=[maccs_keys[key]]))"
   ]
  },
  {
   "cell_type": "code",
   "execution_count": 14,
   "metadata": {},
   "outputs": [
    {
     "data": {
      "application/vnd.jupyter.widget-view+json": {
       "model_id": "3ec22ce2db40430588a4bff3e5993cb3",
       "version_major": 2,
       "version_minor": 0
      },
      "text/plain": [
       "interactive(children=(Dropdown(description='key', options=(0, 1, 2, 3, 4, 5, 6, 7, 8, 9, 10, 11, 12, 13, 14, 1…"
      ]
     },
     "metadata": {},
     "output_type": "display_data"
    }
   ],
   "source": [
    "@interact\n",
    "def show_sub_key(key=sub_keys.index):\n",
    "    display(Draw.MolsToImage([sub_keys.loc[key, 'mol']], legends=[sub_keys.loc[key, 0]]))"
   ]
  },
  {
   "cell_type": "code",
   "execution_count": 15,
   "metadata": {},
   "outputs": [
    {
     "data": {
      "application/vnd.jupyter.widget-view+json": {
       "model_id": "08f740fafa7e4968b84845b7eba562dc",
       "version_major": 2,
       "version_minor": 0
      },
      "text/plain": [
       "interactive(children=(Dropdown(description='key', options=(0, 1, 2, 3, 4, 5, 6, 7, 8, 9, 10, 11, 12, 13, 14, 1…"
      ]
     },
     "metadata": {},
     "output_type": "display_data"
    }
   ],
   "source": [
    "@interact\n",
    "def show_klek_key(key=klek_fp.index):\n",
    "    display(Draw.MolsToImage([klek_fp.loc[key, 'mol']], legends=[klek_fp.loc[key, 0]]))"
   ]
  }
 ],
 "metadata": {
  "kernelspec": {
   "display_name": "cadd",
   "language": "python",
   "name": "python3"
  },
  "language_info": {
   "codemirror_mode": {
    "name": "ipython",
    "version": 3
   },
   "file_extension": ".py",
   "mimetype": "text/x-python",
   "name": "python",
   "nbconvert_exporter": "python",
   "pygments_lexer": "ipython3",
   "version": "3.8.16"
  },
  "orig_nbformat": 4
 },
 "nbformat": 4,
 "nbformat_minor": 2
}
