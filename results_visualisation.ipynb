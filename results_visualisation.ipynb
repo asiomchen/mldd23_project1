{
 "cells": [
  {
   "cell_type": "markdown",
   "id": "94eede2d",
   "metadata": {},
   "source": [
    "# Manual"
   ]
  },
  {
   "cell_type": "raw",
   "id": "9536924d",
   "metadata": {},
   "source": [
    "'''\n",
    "1. Set hyperparameters and path to model weights\n",
    "\n",
    "2. Set paths to:\n",
    "    - saved model .pd file\n",
    "    - evaluation set .parquet file\n",
    "    \n",
    "    both sould be located in models/{model_name}\n",
    "\n",
    "2. Run the whole notebook\n",
    "\n",
    "3. The script will create a collection of images comparing predicted\n",
    "   and target compounds. \n",
    "   \n",
    "   Each of the images will highlight a different\n",
    "   substructure from the active bits of target molecule fingerprint.\n",
    "   The images will be generated in imgs dicrectory.\n",
    "\n",
    "After you create Highlighter cass instance you can display predictions \n",
    "for the n-th molecule and highlight the k-th fingerprint substructure by using:\n",
    "\n",
    "highlighter(n, k)\n",
    "'''"
   ]
  },
  {
   "cell_type": "code",
   "execution_count": 87,
   "id": "679afdcf",
   "metadata": {},
   "outputs": [],
   "source": [
    "# Set hyperparameters\n",
    "encoding_size = 512\n",
    "hidden_size = 512\n",
    "num_layers = 1\n",
    "learn_rate = 0.0003\n",
    "dropout = 0 # dropout must be equal 0 if num_layers = 1\n",
    "teacher_ratio = 0.5\n",
    "\n",
    "# Set paths\n",
    "\n",
    "model_path = './models/v3-revisited/model_epoch_14.pt'\n",
    "\n",
    "val_dataset_path = './models/v3-revisited/val_dataset.parquet'"
   ]
  },
  {
   "cell_type": "markdown",
   "id": "2e667260",
   "metadata": {},
   "source": [
    "# Load model"
   ]
  },
  {
   "cell_type": "code",
   "execution_count": 88,
   "id": "b935edfc",
   "metadata": {},
   "outputs": [],
   "source": [
    "from gru.gru_v3 import EncoderDecoder\n",
    "from gru.dataset import GRUDataset\n",
    "import selfies as sf\n",
    "import rdkit.Chem as Chem\n",
    "import torch\n",
    "import numpy as np\n",
    "import torch.nn as nn\n",
    "import pandas as pd\n",
    "from tqdm import tqdm\n",
    "from vectorizer import SELFIESVectorizer, determine_alphabet\n",
    "import gc\n",
    "\n",
    "gc.collect()\n",
    "torch.cuda.empty_cache()"
   ]
  },
  {
   "cell_type": "code",
   "execution_count": 89,
   "id": "c1948b2f",
   "metadata": {},
   "outputs": [
    {
     "data": {
      "text/plain": [
       "<All keys matched successfully>"
      ]
     },
     "execution_count": 89,
     "metadata": {},
     "output_type": "execute_result"
    }
   ],
   "source": [
    "# Init model\n",
    "model = EncoderDecoder(\n",
    "    fp_size=4860,\n",
    "    encoding_size=encoding_size,\n",
    "    hidden_size=hidden_size,\n",
    "    num_layers=num_layers,\n",
    "    dropout=dropout,\n",
    "    teacher_ratio = teacher_ratio).to(device)\n",
    "\n",
    "#model.load_state_dict(torch.load('PATH'))\n",
    "model.load_state_dict(torch.load(model_path))"
   ]
  },
  {
   "cell_type": "code",
   "execution_count": 90,
   "id": "5bfcedc9",
   "metadata": {
    "scrolled": true
   },
   "outputs": [],
   "source": [
    "def get_predictions(val_dataset_path, n_molecules):\n",
    "    \n",
    "    device = 'cuda' if torch.cuda.is_available() else 'cpu'\n",
    "    \n",
    "    alphabet = pd.read_csv('./GRU_data/alphabet.txt', header=None)[0].values.tolist()\n",
    "    vectorizer = SELFIESVectorizer(alphabet, pad_to_len=128)\n",
    "\n",
    "    val_df = pd.read_parquet(val_dataset_path).reset_index().drop(columns='index')\n",
    "    val_dataset = GRUDataset(val_df, vectorizer)\n",
    "\n",
    "    from torch.utils.data import DataLoader\n",
    "    batch_size = 100\n",
    "    val_loader = DataLoader(val_dataset, shuffle=False, batch_size=batch_size, drop_last=True)\n",
    "\n",
    "    x, y = next(iter(val_loader))\n",
    "    x = x.to(device)\n",
    "    y = y.to(device)\n",
    "    preds = model(x, y, teacher_forcing=False)\n",
    "    preds = preds.detach().cpu().numpy()\n",
    "    targets = y.detach().cpu().numpy()\n",
    "    fps = val_df.fps.apply(eval)\n",
    "    \n",
    "    pred_ms = []\n",
    "    target_ms = []\n",
    "\n",
    "    for n in range(n_molecules):\n",
    "        selfie_pred = vectorizer.devectorize(out[n], remove_special=True)\n",
    "        selfie_target = vectorizer.devectorize(target[n], remove_special=True)\n",
    "\n",
    "        smiles_pred = sf.decoder(selfie_pred)\n",
    "        smiles_target = sf.decoder(selfie_target)\n",
    "\n",
    "        pred_ms.append(Chem.MolFromSmiles(smiles_pred))\n",
    "        target_ms.append(Chem.MolFromSmiles(smiles_target))\n",
    "    \n",
    "    return target_ms, pred_ms, fps"
   ]
  },
  {
   "cell_type": "code",
   "execution_count": 91,
   "id": "bd53d675",
   "metadata": {},
   "outputs": [],
   "source": [
    "from ipywidgets import interact_manual, interact\n",
    "from IPython.display import display\n",
    "from ipywidgets import interact, interactive, fixed, interact_manual\n",
    "import ipywidgets as widgets\n",
    "from rdkit import Chem\n",
    "from rdkit.Chem import AllChem\n",
    "from rdkit.Chem.Draw import IPythonConsole\n",
    "\n",
    "IPythonConsole.molSize = 500,500\n",
    "\n",
    "class Highlighter():\n",
    "    \n",
    "    def __init__(self, target_ms, pred_ms, fps):\n",
    "        self.target_ms = target_ms\n",
    "        self.pred_ms = pred_ms\n",
    "        self.fps = fps\n",
    "        self.active_bits = self.idxise_fps(fps)\n",
    "        self.key = pd.read_csv('KlekFP_keys.txt', header=None, names=['smarts']).smarts.values\n",
    "        \n",
    "    def __call__(self, idx, fp_bit):\n",
    "        target_mol, pred_mol = self.prepare_molecules(idx)\n",
    "        substruct = self.prepare_substruct(fp_bit)\n",
    "        target_hits = list(target_mol.GetSubstructMatch(substruct))\n",
    "        pred_hits = list(pred_mol.GetSubstructMatch(substruct))\n",
    "        \n",
    "        custom_legends = [f'target #{idx}', 'predicted']\n",
    "\n",
    "        return(Chem.Draw.MolsToGridImage([target_mol, pred_mol],\n",
    "                                         molsPerRow=2,\n",
    "                                         highlightAtomLists = [target_hits, pred_hits],\n",
    "                                         legends = custom_legends,\n",
    "                                         subImgSize=(400,400),\n",
    "                                         returnPNG=False,\n",
    "                                         useSVG=False))\n",
    "        \n",
    "    def prepare_molecules(self, idx):\n",
    "        target_mol = self.target_ms[idx]\n",
    "        pred_mol = self.pred_ms[idx]\n",
    "        return target_mol, pred_mol\n",
    "    \n",
    "    def prepare_substruct(self, fp_bit):\n",
    "        substruct_mol = Chem.MolFromSmarts(self.key[fp_bit])\n",
    "        return substruct_mol\n",
    "        \n",
    "    def idxise_fps(self, fps):\n",
    "        fps_idxised = []\n",
    "        for fp in fps:\n",
    "            fp_idxised = [i for i in range(len(fp)) if fp[i]==1]\n",
    "            fps_idxised.append(fp_idxised)\n",
    "        return(fps_idxised)"
   ]
  },
  {
   "cell_type": "code",
   "execution_count": null,
   "id": "4ffad0e2",
   "metadata": {},
   "outputs": [],
   "source": [
    "'''\n",
    "Set idx value to generate images fo the n\n",
    "'''"
   ]
  },
  {
   "cell_type": "code",
   "execution_count": 92,
   "id": "df1b728d",
   "metadata": {},
   "outputs": [],
   "source": [
    "target_ms, pred_ms, fps = get_predictions(val_dataset_path, n_molecules=100)\n",
    "highlighter = Highlighter(target_ms, pred_ms, fps)\n",
    "\n",
    "idx = 26\n",
    "\n",
    "for fp_bit in highlighter.active_bits[idx]:\n",
    "    img = highlighter(idx, fp_bit)\n",
    "    img.save(f'imgs/{fp_bit}.png')"
   ]
  }
 ],
 "metadata": {
  "kernelspec": {
   "display_name": "Python 3 (ipykernel)",
   "language": "python",
   "name": "python3"
  },
  "language_info": {
   "codemirror_mode": {
    "name": "ipython",
    "version": 3
   },
   "file_extension": ".py",
   "mimetype": "text/x-python",
   "name": "python",
   "nbconvert_exporter": "python",
   "pygments_lexer": "ipython3",
   "version": "3.9.16"
  }
 },
 "nbformat": 4,
 "nbformat_minor": 5
}
