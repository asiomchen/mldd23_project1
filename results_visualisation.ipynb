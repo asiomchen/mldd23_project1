{
 "cells": [
  {
   "cell_type": "code",
   "execution_count": 3,
   "id": "b935edfc",
   "metadata": {},
   "outputs": [
    {
     "name": "stdout",
     "output_type": "stream",
     "text": [
      "cuda\n"
     ]
    },
    {
     "data": {
      "text/plain": [
       "<All keys matched successfully>"
      ]
     },
     "execution_count": 3,
     "metadata": {},
     "output_type": "execute_result"
    }
   ],
   "source": [
    "from gru.gru_v3 import EncoderDecoder\n",
    "from gru.dataset import GRUDataset\n",
    "from gru import example_printer\n",
    "from gru.cce import ConsciousCrossEntropy\n",
    "import torch\n",
    "import wandb\n",
    "import pandas as pd\n",
    "import torch.nn as nn\n",
    "from vectorizer import SELFIESVectorizer, determine_alphabet\n",
    "import random\n",
    "import torch\n",
    "model = EncoderDecoder\n",
    "\n",
    "device = 'cuda'\n",
    "print(device)\n",
    "\n",
    "# Set hyperparameters\n",
    "encoding_size = 512\n",
    "hidden_size = 512\n",
    "num_layers = 1\n",
    "learn_rate = 0.0003\n",
    "dropout = 0 # dropout must be equal 0 if num_layers = 1\n",
    "teacher_ratio = 0.5\n",
    "\n",
    "# Init model\n",
    "model = EncoderDecoder(\n",
    "    fp_size=4860,\n",
    "    encoding_size=encoding_size,\n",
    "    hidden_size=hidden_size,\n",
    "    num_layers=num_layers,\n",
    "    dropout=dropout,\n",
    "    teacher_ratio = teacher_ratio).to(device)\n",
    "\n",
    "#model.load_state_dict(torch.load('PATH'))\n",
    "model.load_state_dict(torch.load('./GRU_data/params/v3_w-teacher-w-enumeration-0.pt'))"
   ]
  },
  {
   "cell_type": "code",
   "execution_count": 4,
   "id": "439d138e",
   "metadata": {},
   "outputs": [],
   "source": [
    "alphabet = pd.read_csv('./GRU_data/alphabet.txt', header=None).values.flatten()"
   ]
  },
  {
   "cell_type": "code",
   "execution_count": 15,
   "id": "5bfcedc9",
   "metadata": {},
   "outputs": [
    {
     "name": "stdout",
     "output_type": "stream",
     "text": [
      "grouping compounds by murcko scaffold...\n"
     ]
    },
    {
     "name": "stderr",
     "output_type": "stream",
     "text": [
      "100%|███████████████████████████████| 1222179/1222179 [07:27<00:00, 2729.65it/s]\n"
     ]
    },
    {
     "name": "stdout",
     "output_type": "stream",
     "text": [
      "sorting keys...\n",
      "splitting...\n"
     ]
    },
    {
     "name": "stderr",
     "output_type": "stream",
     "text": [
      "100%|██████████████████████████████| 393587/393587 [00:00<00:00, 2307488.65it/s]\n"
     ]
    },
    {
     "name": "stdout",
     "output_type": "stream",
     "text": [
      "Dataset size: 1222179\n",
      "Test size: 121524\n"
     ]
    }
   ],
   "source": [
    "from split import scaffold_split\n",
    "\n",
    "df = pd.read_parquet('./GRU_data/combned_dataset.parquet')\n",
    "vectorizer = SELFIESVectorizer(alphabet, pad_to_len=128)\n",
    "\n",
    "train_size = 0.9\n",
    "_, test_df = scaffold_split(df, train_size)\n",
    "\n",
    "test_df.to_parquet('./GRU_data/test_dataset.parquet')\n",
    "test_dataset = GRUDataset(test_df, vectorizer)\n",
    "\n",
    "print(\"Dataset size:\", len(dataset))\n",
    "print(\"Test size:\", len(test_dataset))"
   ]
  },
  {
   "cell_type": "code",
   "execution_count": 4,
   "id": "d71d1294",
   "metadata": {},
   "outputs": [],
   "source": [
    "from torch.utils.data import DataLoader\n",
    "batch_size = 256\n",
    "test_loader = DataLoader(test_dataset, shuffle=False, batch_size=batch_size, drop_last=True)"
   ]
  },
  {
   "cell_type": "code",
   "execution_count": 5,
   "id": "b4ce5bdc",
   "metadata": {},
   "outputs": [],
   "source": [
    "x, y = next(iter(train_loader))\n",
    "x = x.to(device)\n",
    "y = y.to(device)"
   ]
  },
  {
   "cell_type": "code",
   "execution_count": 185,
   "id": "c079d65a",
   "metadata": {},
   "outputs": [
    {
     "data": {
      "text/plain": [
       "(256, 128, 42)"
      ]
     },
     "execution_count": 185,
     "metadata": {},
     "output_type": "execute_result"
    }
   ],
   "source": [
    "out = model(x, y, teacher_forcing=False)\n",
    "softmax = nn.Softmax(dim=2)\n",
    "out = softmax(out)\n",
    "out = out.detach().cpu().numpy()\n",
    "target = y.detach().cpu().numpy()\n",
    "\n",
    "out.shape"
   ]
  },
  {
   "cell_type": "code",
   "execution_count": 172,
   "id": "2818f63b",
   "metadata": {},
   "outputs": [],
   "source": [
    "import selfies as sf\n",
    "import rdkit.Chem as Chem\n",
    "\n",
    "preds = []\n",
    "targets = []\n",
    "\n",
    "for n in range(256):\n",
    "    selfie_out = vectorizer.devectorize(out[n], remove_special=True)\n",
    "    selfie_target = vectorizer.devectorize(target[n], remove_special=True)\n",
    "    smiles_out = sf.decoder(selfie_out)\n",
    "    smiles_target = sf.decoder(selfie_target)\n",
    "    mol_out = Chem.MolFromSmiles(smiles_out)\n",
    "    mol_target = Chem.MolFromSmiles(smiles_target)\n",
    "    preds.append(mol_out)\n",
    "    targets.append(mol_target)"
   ]
  },
  {
   "cell_type": "code",
   "execution_count": 283,
   "id": "236175f9",
   "metadata": {},
   "outputs": [
    {
     "name": "stdout",
     "output_type": "stream",
     "text": [
      "256\n"
     ]
    },
    {
     "ename": "IndexError",
     "evalue": "list index out of range",
     "output_type": "error",
     "traceback": [
      "\u001b[0;31m---------------------------------------------------------------------------\u001b[0m",
      "\u001b[0;31mIndexError\u001b[0m                                Traceback (most recent call last)",
      "Cell \u001b[0;32mIn[283], line 3\u001b[0m\n\u001b[1;32m      1\u001b[0m idx \u001b[38;5;241m+\u001b[39m\u001b[38;5;241m=\u001b[39m \u001b[38;5;241m1\u001b[39m\n\u001b[1;32m      2\u001b[0m \u001b[38;5;28mprint\u001b[39m(idx)\n\u001b[0;32m----> 3\u001b[0m Chem\u001b[38;5;241m.\u001b[39mDraw\u001b[38;5;241m.\u001b[39mMolsToImage([\u001b[43mtargets\u001b[49m\u001b[43m[\u001b[49m\u001b[43midx\u001b[49m\u001b[43m]\u001b[49m, preds[idx]], subImgSize\u001b[38;5;241m=\u001b[39m(\u001b[38;5;241m400\u001b[39m, \u001b[38;5;241m400\u001b[39m), legends\u001b[38;5;241m=\u001b[39m\u001b[38;5;28;01mNone\u001b[39;00m)\n",
      "\u001b[0;31mIndexError\u001b[0m: list index out of range"
     ]
    }
   ],
   "source": [
    "idx += 1\n",
    "print(idx)\n",
    "Chem.Draw.MolsToImage([targets[idx], preds[idx]], subImgSize=(400, 400), legends=None)"
   ]
  },
  {
   "cell_type": "code",
   "execution_count": null,
   "id": "276f1bf0",
   "metadata": {},
   "outputs": [],
   "source": []
  }
 ],
 "metadata": {
  "kernelspec": {
   "display_name": "Python 3 (ipykernel)",
   "language": "python",
   "name": "python3"
  },
  "language_info": {
   "codemirror_mode": {
    "name": "ipython",
    "version": 3
   },
   "file_extension": ".py",
   "mimetype": "text/x-python",
   "name": "python",
   "nbconvert_exporter": "python",
   "pygments_lexer": "ipython3",
   "version": "3.9.16"
  }
 },
 "nbformat": 4,
 "nbformat_minor": 5
}
