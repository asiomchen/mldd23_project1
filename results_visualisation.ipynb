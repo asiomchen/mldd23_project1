{
 "cells": [
  {
   "cell_type": "markdown",
   "id": "94eede2d",
   "metadata": {},
   "source": [
    "# Manual"
   ]
  },
  {
   "cell_type": "raw",
   "id": "9536924d",
   "metadata": {},
   "source": [
    "'''\n",
    "1. Set hyperparameters and path to model weights\n",
    "\n",
    "2. Set paths to:\n",
    "    - saved model .pd file\n",
    "    - evaluation set .parquet file\n",
    "    \n",
    "    both sould be located in models/{model_name}\n",
    "\n",
    "3. Set how many molecules to generate (default is 20)\n",
    "\n",
    "4. Run the whole notebook\n",
    "\n",
    "5. The script will create a collection of images comparing predicted\n",
    "   and target compounds. \n",
    "   \n",
    "   Each of the images will highlight a different\n",
    "   substructure from the active bits of target molecule fingerprint.\n",
    "   The images will be generated in imgs dicrectory.\n",
    "\n",
    "After you create Highlighter cass instance you can display predictions \n",
    "for the n-th molecule and highlight the k-th fingerprint substructure by using:\n",
    "\n",
    "highlighter(n, k)"
   ]
  },
  {
   "cell_type": "code",
   "execution_count": 17,
   "id": "679afdcf",
   "metadata": {},
   "outputs": [],
   "source": [
    "# Set hyperparameters\n",
    "encoding_size = 512\n",
    "hidden_size = 512\n",
    "num_layers = 3\n",
    "dropout = 0.2 # dropout must be equal 0 if num_layers = 1\n",
    "teacher_ratio = 0.5\n",
    "\n",
    "# Set paths\n",
    "\n",
    "model_path = './models/fixed_cce_3_layers/epoch_175.pt'\n",
    "\n",
    "val_dataset_path = 'data/GRU_data/val_dataset.parquet'"
   ]
  },
  {
   "cell_type": "markdown",
   "id": "2e667260",
   "metadata": {},
   "source": [
    "# Load model"
   ]
  },
  {
   "cell_type": "code",
   "execution_count": 18,
   "id": "b935edfc",
   "metadata": {},
   "outputs": [],
   "source": [
    "from src.gru.vae_gru import EncoderDecoder\n",
    "from src.gru.dataset import GRUDataset\n",
    "from src.utils.vectorizer import SELFIESVectorizer\n",
    "from src.utils.qed import mean_batch_QED\n",
    "import selfies as sf\n",
    "from tqdm import tqdm\n",
    "import rdkit.Chem as Chem\n",
    "import torch\n",
    "import numpy as np\n",
    "import torch.nn as nn\n",
    "import pandas as pd\n",
    "from tqdm import tqdm\n",
    "import gc\n",
    "\n",
    "gc.collect()\n",
    "torch.cuda.empty_cache()\n",
    "\n",
    "device = 'cuda' if torch.cuda.is_available() else 'cpu'"
   ]
  },
  {
   "cell_type": "code",
   "execution_count": 19,
   "id": "c1948b2f",
   "metadata": {},
   "outputs": [
    {
     "data": {
      "text/plain": [
       "<All keys matched successfully>"
      ]
     },
     "execution_count": 19,
     "metadata": {},
     "output_type": "execute_result"
    }
   ],
   "source": [
    "# Init model\n",
    "model = EncoderDecoder(\n",
    "    fp_size=4860,\n",
    "    encoding_size=encoding_size,\n",
    "    hidden_size=hidden_size,\n",
    "    num_layers=num_layers,\n",
    "    dropout=dropout,\n",
    "    teacher_ratio = teacher_ratio).to(device)\n",
    "\n",
    "#model.load_state_dict(torch.load('PATH'))\n",
    "model.load_state_dict(torch.load(model_path, map_location=torch.device(device)))"
   ]
  },
  {
   "cell_type": "code",
   "execution_count": 20,
   "id": "5bfcedc9",
   "metadata": {
    "scrolled": true
   },
   "outputs": [],
   "source": [
    "def get_predictions(val_dataset_path, shuffle=False):\n",
    "    \n",
    "    device = 'cuda' if torch.cuda.is_available() else 'cpu'\n",
    "\n",
    "    vectorizer = SELFIESVectorizer(pad_to_len=128)\n",
    "    \n",
    "    val_df = pd.read_csv('data/100_drugs.csv')\n",
    "    #val_df = pd.read_parquet(val_dataset_path).reset_index().drop(columns='index')\n",
    "    val_dataset = GRUDataset(val_df, vectorizer)\n",
    "\n",
    "    from torch.utils.data import DataLoader\n",
    "    batch_size = 100\n",
    "    val_loader = DataLoader(val_dataset, shuffle=shuffle, batch_size=batch_size, drop_last=True)\n",
    "    \n",
    "    pred_ms = []\n",
    "    target_ms = []\n",
    "    pred_selfies = []\n",
    "    target_selfies = []\n",
    "    \n",
    "    total_QED = 0\n",
    "    \n",
    "    X, y = next(iter(val_loader))\n",
    "    X = X.to(device)\n",
    "    y = y.to(device)\n",
    "    preds = model(X, y, teacher_forcing=False)\n",
    "    preds = preds.detach().cpu().numpy()\n",
    "    targets = y.detach().cpu().numpy()\n",
    "    fps = val_df.fps.apply(eval).tolist()\n",
    "    QED_score = mean_batch_QED(preds, vectorizer)\n",
    "    names = val_df['name']\n",
    "\n",
    "    for n in range(batch_size):\n",
    "        selfie_pred = vectorizer.devectorize(preds[n], remove_special=True)\n",
    "        selfie_target = vectorizer.devectorize(targets[n], remove_special=True)\n",
    "        pred_selfies.append(selfie_pred)\n",
    "        target_selfies.append(selfie_target)\n",
    "        try:\n",
    "            smiles_pred = sf.decoder(selfie_pred)\n",
    "        except:\n",
    "            smiles_pred = 'C'\n",
    "        smiles_target = sf.decoder(selfie_target)\n",
    "\n",
    "        pred_ms.append(Chem.MolFromSmiles(smiles_pred))\n",
    "        target_ms.append(Chem.MolFromSmiles(smiles_target))\n",
    "    print(f'QED_score: {QED_score}')\n",
    "    \n",
    "    return target_ms, pred_ms, target_selfies, pred_selfies, fps, names"
   ]
  },
  {
   "cell_type": "code",
   "execution_count": 21,
   "id": "bd53d675",
   "metadata": {},
   "outputs": [],
   "source": [
    "class Highlighter():\n",
    "    \n",
    "    def __init__(self, target_ms, pred_ms, fps, names):\n",
    "        self.target_ms = target_ms\n",
    "        self.pred_ms = pred_ms\n",
    "        self.fps = fps\n",
    "        self.names = names\n",
    "        self.key = pd.read_csv('data/KlekFP_keys.txt', header=None, names=['smarts']).smarts.values\n",
    "        \n",
    "    def __call__(self, k, fp_bit):\n",
    "        target_mol, pred_mol = self.prepare_molecules(k)\n",
    "        substruct = self.prepare_substruct(fp_bit)\n",
    "        target_hits = list(target_mol.GetSubstructMatch(substruct))\n",
    "        pred_hits = list(pred_mol.GetSubstructMatch(substruct))\n",
    "        \n",
    "        custom_legends = [f'{names[k]}', 'predicted']\n",
    "        return(Chem.Draw.MolsToGridImage([target_mol, pred_mol],\n",
    "                                         molsPerRow=2,\n",
    "                                         highlightAtomLists = [target_hits, pred_hits],\n",
    "                                         legends = custom_legends,\n",
    "                                         subImgSize=(400,400),\n",
    "                                         returnPNG=False,\n",
    "                                         useSVG=False))\n",
    "        \n",
    "    def prepare_molecules(self, k):\n",
    "        target_mol = self.target_ms[k]\n",
    "        pred_mol = self.pred_ms[k]\n",
    "        return target_mol, pred_mol\n",
    "    \n",
    "    def prepare_substruct(self, fp_bit):\n",
    "        substruct_mol = Chem.MolFromSmarts(self.key[fp_bit])\n",
    "        return substruct_mol"
   ]
  },
  {
   "cell_type": "code",
   "execution_count": 29,
   "id": "df1b728d",
   "metadata": {},
   "outputs": [
    {
     "name": "stdout",
     "output_type": "stream",
     "text": [
      "QED_score: 0.43921129757783994\n"
     ]
    }
   ],
   "source": [
    "target_ms, pred_ms, target_selfies, pred_selfies, fps, names = get_predictions(val_dataset_path)"
   ]
  },
  {
   "cell_type": "code",
   "execution_count": 32,
   "id": "a3f6bc3f",
   "metadata": {},
   "outputs": [
    {
     "name": "stdout",
     "output_type": "stream",
     "text": [
      "Target SELFIES:\n",
      "[C][N][C][C][C][C][Branch1][#C][C][=C][C][=C][Branch1][C][Cl][C][Branch1][C][Cl][=C][Ring1][Branch2][C][=C][C][=C][C][=C][Ring1][=Branch1][Ring2][Ring1][C][nop][nop][nop][nop][nop][nop][nop][nop][nop][nop][nop][nop][nop][nop][nop][nop][nop][nop][nop][nop][nop][nop][nop][nop][nop][nop][nop][nop][nop][nop][nop][nop][nop][nop][nop][nop][nop][nop][nop][nop][nop][nop][nop][nop][nop][nop][nop][nop][nop][nop][nop][nop][nop][nop][nop][nop][nop][nop][nop][nop][nop][nop][nop][nop][nop][nop][nop][nop][nop][nop][nop][nop][nop][nop][nop][nop][nop][nop][nop][nop][nop][nop][nop][nop][nop][nop][nop][nop][nop][nop][nop][nop][nop]\n",
      "\n",
      " Predicted SELFIES:\n",
      "[C][N][C][C][C][C][Branch1][#C][C][=C][C][=C][Branch1][C][Cl][C][Branch1][C][Cl][=C][Ring1][Branch2][C][=C][C][=C][C][=C][Ring1][=Branch1][Ring2][Ring1][C][Ring1][Ring1][Ring1][Ring1][=Ring2][C][C][C][C][C][C][C][C][C][C][C][C][C][C][C][C][Ring1][Ring1]\n"
     ]
    },
    {
     "data": {
      "image/png": "[encoded data removed]",
      "text/plain": [
       "<PIL.PngImagePlugin.PngImageFile image mode=RGB size=800x400>"
      ]
     },
     "execution_count": 32,
     "metadata": {},
     "output_type": "execute_result"
    }
   ],
   "source": [
    "t = 0\n",
    "highlighter = Highlighter(target_ms, pred_ms, fps, names)\n",
    "\n",
    "print('Target SELFIES:')\n",
    "print(target_selfies[t])\n",
    "print('\\n', 'Predicted SELFIES:')\n",
    "print(pred_selfies[t])\n",
    "highlighter(t,4)"
   ]
  },
  {
   "cell_type": "code",
   "execution_count": 33,
   "id": "bcd56ddf",
   "metadata": {},
   "outputs": [],
   "source": [
    "import os\n",
    "for i in range(100):\n",
    "    img = highlighter(i,4)\n",
    "    img.save(f'imgs/{i}.png')"
   ]
  }
 ],
 "metadata": {
  "kernelspec": {
   "display_name": "Python 3 (ipykernel)",
   "language": "python",
   "name": "python3"
  },
  "language_info": {
   "codemirror_mode": {
    "name": "ipython",
    "version": 3
   },
   "file_extension": ".py",
   "mimetype": "text/x-python",
   "name": "python",
   "nbconvert_exporter": "python",
   "pygments_lexer": "ipython3",
   "version": "3.9.16"
  }
 },
 "nbformat": 4,
 "nbformat_minor": 5
}
