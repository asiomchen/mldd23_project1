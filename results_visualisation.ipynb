{
 "cells": [
  {
   "cell_type": "markdown",
   "id": "94eede2d",
   "metadata": {},
   "source": [
    "# Manual"
   ]
  },
  {
   "cell_type": "raw",
   "id": "9536924d",
   "metadata": {},
   "source": [
    "'''\n",
    "1. Set hyperparameters and path to model weights\n",
    "\n",
    "2. Set paths to:\n",
    "    - saved model .pd file\n",
    "    - evaluation set .parquet file\n",
    "    \n",
    "    both sould be located in models/{model_name}\n",
    "\n",
    "3. Set how many molecules to generate (default is 20)\n",
    "\n",
    "4. Run the whole notebook\n",
    "\n",
    "5. The script will create a collection of images comparing predicted\n",
    "   and target compounds. \n",
    "   \n",
    "   Each of the images will highlight a different\n",
    "   substructure from the active bits of target molecule fingerprint.\n",
    "   The images will be generated in imgs dicrectory.\n",
    "\n",
    "After you create Highlighter cass instance you can display predictions \n",
    "for the n-th molecule and highlight the k-th fingerprint substructure by using:\n",
    "\n",
    "highlighter(n, k)\n",
    "'''"
   ]
  },
  {
   "cell_type": "code",
   "execution_count": 1,
   "id": "679afdcf",
   "metadata": {},
   "outputs": [],
   "source": [
    "# Set hyperparameters\n",
    "encoding_size = 512\n",
    "hidden_size = 512\n",
    "num_layers = 3\n",
    "dropout = 0.2 # dropout must be equal 0 if num_layers = 1\n",
    "teacher_ratio = 0.5\n",
    "\n",
    "# Set paths\n",
    "\n",
    "model_path = './models/3_layers/epoch_100.pt'\n",
    "\n",
    "val_dataset_path = 'data/GRU_data/val_dataset.parquet'\n",
    "\n",
    "# Set number of molecules to generate\n",
    "\n",
    "n_molecules = 100"
   ]
  },
  {
   "cell_type": "markdown",
   "id": "2e667260",
   "metadata": {},
   "source": [
    "# Load model"
   ]
  },
  {
   "cell_type": "code",
   "execution_count": 3,
   "id": "b935edfc",
   "metadata": {},
   "outputs": [
    {
     "name": "stderr",
     "output_type": "stream",
     "text": [
      "/home/hubert/miniconda3/envs/mldd/lib/python3.9/site-packages/torch/cuda/__init__.py:88: UserWarning: CUDA initialization: CUDA unknown error - this may be due to an incorrectly set up environment, e.g. changing env variable CUDA_VISIBLE_DEVICES after program start. Setting the available devices to be zero. (Triggered internally at /opt/conda/conda-bld/pytorch_1670525539683/work/c10/cuda/CUDAFunctions.cpp:109.)\n",
      "  return torch._C._cuda_getDeviceCount() > 0\n"
     ]
    }
   ],
   "source": [
    "from src.gru.vae_gru import EncoderDecoder\n",
    "from src.gru.dataset import GRUDataset\n",
    "import selfies as sf\n",
    "import rdkit.Chem as Chem\n",
    "import torch\n",
    "import numpy as np\n",
    "import torch.nn as nn\n",
    "import pandas as pd\n",
    "from tqdm import tqdm\n",
    "from src.utils.vectorizer import SELFIESVectorizer\n",
    "import gc\n",
    "\n",
    "gc.collect()\n",
    "torch.cuda.empty_cache()\n",
    "\n",
    "device = 'cuda' if torch.cuda.is_available() else 'cpu'\n",
    "device = 'cuda'"
   ]
  },
  {
   "cell_type": "code",
   "execution_count": 22,
   "id": "c1948b2f",
   "metadata": {},
   "outputs": [
    {
     "data": {
      "text/plain": [
       "<All keys matched successfully>"
      ]
     },
     "execution_count": 22,
     "metadata": {},
     "output_type": "execute_result"
    }
   ],
   "source": [
    "# Init model\n",
    "model = EncoderDecoder(\n",
    "    fp_size=4860,\n",
    "    encoding_size=encoding_size,\n",
    "    hidden_size=hidden_size,\n",
    "    num_layers=num_layers,\n",
    "    dropout=dropout,\n",
    "    teacher_ratio = teacher_ratio).to(device)\n",
    "\n",
    "#model.load_state_dict(torch.load('PATH'))\n",
    "model.load_state_dict(torch.load(model_path, map_location=torch.device(device)))"
   ]
  },
  {
   "cell_type": "code",
   "execution_count": 23,
   "id": "5bfcedc9",
   "metadata": {
    "scrolled": true
   },
   "outputs": [],
   "source": [
    "def get_predictions(val_dataset_path, n_molecules, shuffle=False):\n",
    "    \n",
    "    device = 'cuda' if torch.cuda.is_available() else 'cpu'\n",
    "\n",
    "    vectorizer = SELFIESVectorizer(pad_to_len=128)\n",
    "\n",
    "    val_df = pd.read_parquet(val_dataset_path).reset_index().drop(columns='index')\n",
    "    val_dataset = GRUDataset(val_df, vectorizer)\n",
    "\n",
    "    from torch.utils.data import DataLoader\n",
    "    batch_size = 100\n",
    "    val_loader = DataLoader(val_dataset, shuffle=shuffle, batch_size=batch_size, drop_last=True)\n",
    "\n",
    "    x, y = next(iter(val_loader))\n",
    "    x = x.to(device)\n",
    "    y = y.to(device)\n",
    "    preds = model(x, y, teacher_forcing=False)\n",
    "    preds = preds.detach().cpu().numpy()\n",
    "    targets = y.detach().cpu().numpy()\n",
    "    fps = val_df.fps.apply(eval).tolist()\n",
    "    \n",
    "    pred_ms = []\n",
    "    target_ms = []\n",
    "    \n",
    "    pred_selfies = []\n",
    "    target_selfies = []\n",
    "    \n",
    "    for n in range(n_molecules):\n",
    "        selfie_pred = vectorizer.devectorize(preds[n], remove_special=True)\n",
    "        selfie_target = vectorizer.devectorize(targets[n], remove_special=True)\n",
    "        pred_selfies.append(selfie_pred)\n",
    "        target_selfies.append(selfie_target)\n",
    "        try:\n",
    "            smiles_pred = sf.decoder(selfie_pred)\n",
    "        except:\n",
    "            smiles_pred = 'C'\n",
    "        smiles_target = sf.decoder(selfie_target)\n",
    "\n",
    "        pred_ms.append(Chem.MolFromSmiles(smiles_pred))\n",
    "        target_ms.append(Chem.MolFromSmiles(smiles_target))\n",
    "    \n",
    "    return target_ms, pred_ms, target_selfies, pred_selfies, fps"
   ]
  },
  {
   "cell_type": "code",
   "execution_count": 24,
   "id": "bd53d675",
   "metadata": {},
   "outputs": [],
   "source": [
    "class Highlighter():\n",
    "    \n",
    "    def __init__(self, target_ms, pred_ms, fps):\n",
    "        self.target_ms = target_ms\n",
    "        self.pred_ms = pred_ms\n",
    "        self.fps = fps\n",
    "        self.key = pd.read_csv('data/KlekFP_keys.txt', header=None, names=['smarts']).smarts.values\n",
    "        \n",
    "    def __call__(self, k, fp_bit):\n",
    "        target_mol, pred_mol = self.prepare_molecules(k)\n",
    "        substruct = self.prepare_substruct(fp_bit)\n",
    "        target_hits = list(target_mol.GetSubstructMatch(substruct))\n",
    "        pred_hits = list(pred_mol.GetSubstructMatch(substruct))\n",
    "        \n",
    "        custom_legends = [f'target #{k}', 'predicted']\n",
    "        return(Chem.Draw.MolsToGridImage([target_mol, pred_mol],\n",
    "                                         molsPerRow=2,\n",
    "                                         highlightAtomLists = [target_hits, pred_hits],\n",
    "                                         legends = custom_legends,\n",
    "                                         subImgSize=(400,400),\n",
    "                                         returnPNG=False,\n",
    "                                         useSVG=False))\n",
    "        \n",
    "    def prepare_molecules(self, k):\n",
    "        target_mol = self.target_ms[k]\n",
    "        pred_mol = self.pred_ms[k]\n",
    "        return target_mol, pred_mol\n",
    "    \n",
    "    def prepare_substruct(self, fp_bit):\n",
    "        substruct_mol = Chem.MolFromSmarts(self.key[fp_bit])\n",
    "        return substruct_mol"
   ]
  },
  {
   "cell_type": "code",
   "execution_count": 25,
   "id": "df1b728d",
   "metadata": {},
   "outputs": [],
   "source": [
    "import os\n",
    "\n",
    "target_ms, pred_ms, target_selfies, pred_selfies, fps = get_predictions(val_dataset_path, \n",
    "                                                                       n_molecules=n_molecules, shuffle=True)\n",
    "highlighter = Highlighter(target_ms, pred_ms, fps)\n",
    "\n",
    "for k in range(len(target_ms)):\n",
    "    os.mkdir(f'./imgs/{k}')\n",
    "    for fp_bit in highlighter.fps[k]:\n",
    "        img = highlighter(k, fp_bit)\n",
    "        img.save(f'./imgs/{k}/{fp_bit}.png')"
   ]
  },
  {
   "cell_type": "code",
   "execution_count": 26,
   "id": "a3f6bc3f",
   "metadata": {},
   "outputs": [
    {
     "name": "stdout",
     "output_type": "stream",
     "text": [
      "Target SELFIES:\n",
      "[C][C][N][=C][Branch1][C][S][N][N][C][=Branch1][C][=O][C][=C][C][Branch1][C][Br][=C][S][Ring1][=Branch1][nop][nop][nop][nop][nop][nop][nop][nop][nop][nop][nop][nop][nop][nop][nop][nop][nop][nop][nop][nop][nop][nop][nop][nop][nop][nop][nop][nop][nop][nop][nop][nop][nop][nop][nop][nop][nop][nop][nop][nop][nop][nop][nop][nop][nop][nop][nop][nop][nop][nop][nop][nop][nop][nop][nop][nop][nop][nop][nop][nop][nop][nop][nop][nop][nop][nop][nop][nop][nop][nop][nop][nop][nop][nop][nop][nop][nop][nop][nop][nop][nop][nop][nop][nop][nop][nop][nop][nop][nop][nop][nop][nop][nop][nop][nop][nop][nop][nop][nop][nop][nop][nop][nop]\n",
      "\n",
      " Predicted SELFIES:\n",
      "[C][C][N][=C][=Branch1][C][S][N][N][C][=Branch1][C][=O][C][=C][S][C][Branch1][Br][Br][S][Ring1][=Branch1][Ring1][Ring1][Ring1][Ring1][C][O][Ring1][Ring1][O][O][Ring1][Ring1][O][O][Ring1][Ring1][Ring1][Ring1][Ring1][Ring1][Ring1][Ring1][Ring1][Ring1][Ring1][Ring1][Ring1][Ring1][Ring1][Branch2][Ring2][Ring1][C][Ring1][C][Ring1][Ring1][Branch1][Ring2][O][Ring1][Ring1][Ring1][O][Ring1][C][Ring1]\n"
     ]
    },
    {
     "data": {
      "image/png": "[encoded data removed]",
      "text/plain": [
       "<PIL.PngImagePlugin.PngImageFile image mode=RGB size=800x400>"
      ]
     },
     "execution_count": 26,
     "metadata": {},
     "output_type": "execute_result"
    }
   ],
   "source": [
    "t = 18\n",
    "\n",
    "print('Target SELFIES:')\n",
    "print(target_selfies[t])\n",
    "print('\\n', 'Predicted SELFIES:')\n",
    "print(pred_selfies[t])\n",
    "highlighter(t,0)"
   ]
  },
  {
   "cell_type": "code",
   "execution_count": null,
   "id": "a6daa052",
   "metadata": {},
   "outputs": [],
   "source": []
  }
 ],
 "metadata": {
  "kernelspec": {
   "display_name": "Python 3 (ipykernel)",
   "language": "python",
   "name": "python3"
  },
  "language_info": {
   "codemirror_mode": {
    "name": "ipython",
    "version": 3
   },
   "file_extension": ".py",
   "mimetype": "text/x-python",
   "name": "python",
   "nbconvert_exporter": "python",
   "pygments_lexer": "ipython3",
   "version": "3.9.16"
  }
 },
 "nbformat": 4,
 "nbformat_minor": 5
}
