{
 "cells": [
  {
   "cell_type": "code",
   "execution_count": 57,
   "id": "initial_id",
   "metadata": {
    "collapsed": true
   },
   "outputs": [],
   "source": [
    "import pandas as pd\n",
    "import torch\n",
    "import numpy as np\n",
    "\n",
    "def dist(tensor) -> float:\n",
    "    \"\"\"\n",
    "    Penalize for values outside of bounds\n",
    "    Args:\n",
    "        tensor (torch.Tensor): latent tensor\n",
    "        boundary (float): value of the upper and lower bound for the latent space search\n",
    "    Returns:\n",
    "        float: penalty\n",
    "    \"\"\"\n",
    "    dist = torch.pow(tensor, 2).sum()\n",
    "    return dist\n",
    "\n",
    "df = pd.read_parquet('data/encoded_data/GRUv3_tatra/mu_d2_epoch_80.parquet')\n",
    "df = df[df['label'] == 1]\n",
    "df.drop(columns=['smiles', 'label'], inplace=True)\n",
    "b_tensor = torch.Tensor(df.to_numpy())\n",
    "distances = np.array([dist(t) for t in b_tensor])"
   ]
  },
  {
   "cell_type": "code",
   "execution_count": 56,
   "outputs": [],
   "source": [
    "print(distances.mean())"
   ],
   "metadata": {
    "collapsed": false
   },
   "id": "84944a4b0c56ecbd"
  },
  {
   "cell_type": "code",
   "execution_count": null,
   "outputs": [],
   "source": [],
   "metadata": {
    "collapsed": false
   },
   "id": "cda2c288afe37d08"
  }
 ],
 "metadata": {
  "kernelspec": {
   "display_name": "Python 3",
   "language": "python",
   "name": "python3"
  },
  "language_info": {
   "codemirror_mode": {
    "name": "ipython",
    "version": 2
   },
   "file_extension": ".py",
   "mimetype": "text/x-python",
   "name": "python",
   "nbconvert_exporter": "python",
   "pygments_lexer": "ipython2",
   "version": "2.7.6"
  }
 },
 "nbformat": 4,
 "nbformat_minor": 5
}
