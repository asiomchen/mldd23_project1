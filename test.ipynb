{
 "cells": [
  {
   "cell_type": "code",
   "execution_count": 1,
   "id": "initial_id",
   "metadata": {
    "collapsed": true,
    "ExecuteTime": {
     "end_time": "2023-09-11T06:39:53.541625842Z",
     "start_time": "2023-09-11T06:39:53.121138695Z"
    }
   },
   "outputs": [],
   "source": [
    "import multiprocessing as mp\n",
    "import queue\n",
    "import random\n",
    "import time\n",
    "import pandas as pd\n",
    "import rdkit.Chem.AllChem as AllChem\n",
    "from src.utils.finger import sparse2dense\n",
    "import numpy as np"
   ]
  },
  {
   "cell_type": "code",
   "execution_count": 2,
   "outputs": [],
   "source": [
    "def foo(chunk, return_list):\n",
    "    df = pd.DataFrame(chunk)\n",
    "    df['mol'] = df['smiles'].apply(lambda x: AllChem.MolFromSmiles(x))\n",
    "    df['fps'] = df['mol'].apply(lambda x: AllChem.GetMorganFingerprintAsBitVect(x, 2, nBits=2048))\n",
    "    df['fps'] = df['fps'].apply(lambda x: sparse2dense(x, return_numpy=False))\n",
    "    df.drop(columns=['mol'], inplace=True)\n",
    "    return_list.append(df)\n",
    "    return"
   ],
   "metadata": {
    "collapsed": false,
    "ExecuteTime": {
     "end_time": "2023-09-11T06:40:03.829604515Z",
     "start_time": "2023-09-11T06:40:03.819149321Z"
    }
   },
   "id": "4602c4d5e5a4db5f"
  },
  {
   "cell_type": "code",
   "execution_count": 3,
   "outputs": [],
   "source": [
    "df = pd.read_parquet('data/train_data/combined_dataset.parquet')['smiles']\n",
    "n = 10000\n",
    "chunks = [df[i:i+n] for i in range(0,df.shape[0],n)]"
   ],
   "metadata": {
    "collapsed": false,
    "ExecuteTime": {
     "end_time": "2023-09-11T06:40:08.807611856Z",
     "start_time": "2023-09-11T06:40:07.522984182Z"
    }
   },
   "id": "86fa0ebb8b90bdb0"
  },
  {
   "cell_type": "code",
   "execution_count": 4,
   "outputs": [
    {
     "name": "stdout",
     "output_type": "stream",
     "text": [
      "Number of cpus:  8\n",
      "(mp) Processes in queue:  120\n",
      "(mp) Processes in queue:  115\n",
      "(mp) Processes in queue:  110\n",
      "(mp) Processes in queue:  105\n",
      "(mp) Processes in queue:  100\n",
      "(mp) Processes in queue:  95\n",
      "(mp) Processes in queue:  90\n",
      "(mp) Processes in queue:  85\n",
      "(mp) Processes in queue:  80\n",
      "(mp) Processes in queue:  75\n",
      "(mp) Processes in queue:  70\n",
      "(mp) Processes in queue:  65\n",
      "(mp) Processes in queue:  60\n",
      "(mp) Processes in queue:  55\n",
      "(mp) Processes in queue:  50\n",
      "(mp) Processes in queue:  45\n",
      "(mp) Processes in queue:  40\n",
      "(mp) Processes in queue:  35\n",
      "(mp) Processes in queue:  30\n",
      "(mp) Processes in queue:  25\n",
      "(mp) Processes in queue:  20\n",
      "(mp) Processes in queue:  15\n",
      "(mp) Processes in queue:  10\n",
      "(mp) Processes in queue:  5\n",
      "(mp) Processes in queue:  0\n",
      "(mp) Queue handled successfully\n"
     ]
    }
   ],
   "source": [
    "random.seed(42)\n",
    "\"\"\"\n",
    "Multiprocessing support and queue handling\n",
    "\"\"\"\n",
    "manager = mp.Manager()\n",
    "return_list = manager.list()\n",
    "cpus = mp.cpu_count()\n",
    "print(\"Number of cpus: \", cpus)\n",
    "\n",
    "q = queue.Queue()\n",
    "\n",
    "for chunk in chunks:\n",
    "    proc = mp.Process(target=foo, args=[chunk, return_list])\n",
    "    q.put(proc)\n",
    "\n",
    "# handle the queue\n",
    "processes = []\n",
    "while True:\n",
    "    if q.empty():\n",
    "        print(\"(mp) Queue handled successfully\")\n",
    "        break\n",
    "    if len(mp.active_children()) < cpus:\n",
    "        proc = q.get()\n",
    "        proc.start()\n",
    "        if q.qsize() % 5 == 0:\n",
    "            print('(mp) Processes in queue: ', q.qsize())\n",
    "        processes.append(proc)\n",
    "    time.sleep(0.1)\n",
    "\n",
    "# complete the processes\n",
    "for proc in processes:\n",
    "    proc.join()"
   ],
   "metadata": {
    "collapsed": false,
    "ExecuteTime": {
     "end_time": "2023-09-11T06:48:48.740220812Z",
     "start_time": "2023-09-11T06:40:10.236561409Z"
    }
   },
   "id": "84944a4b0c56ecbd"
  },
  {
   "cell_type": "code",
   "execution_count": 5,
   "outputs": [],
   "source": [
    "df_out = pd.DataFrame()\n",
    "for chunk in return_list:\n",
    "    df_out = pd.concat([df_out, chunk], axis=0)"
   ],
   "metadata": {
    "collapsed": false,
    "ExecuteTime": {
     "end_time": "2023-09-11T06:51:01.557105096Z",
     "start_time": "2023-09-11T06:50:49.392525123Z"
    }
   },
   "id": "cda2c288afe37d08"
  },
  {
   "cell_type": "code",
   "execution_count": 6,
   "outputs": [
    {
     "data": {
      "text/plain": "                                              smiles  \\\n0                       Cc1ccc(C)n1-c1cccc(C(=O)O)c1   \n1         Cc1nc2c(c(C)c1CC(=O)NCc1ccco1)c(=O)[nH]n2C   \n2         O=C(c1csnn1)N1CCC[C@@]2(CCN(c3ncccn3)C2)C1   \n3  CCC(C(=O)NCc1ccco1)n1nc(C)c2c(C)n(-c3ccc(C)cc3...   \n4               O=S(=O)(NCc1ccc2c(c1)OCO2)c1c[nH]cn1   \n\n                                                 fps  \n0  [94, 389, 456, 650, 807, 875, 883, 935, 1039, ...  \n1  [24, 41, 80, 92, 197, 252, 255, 314, 325, 333,...  \n2  [18, 180, 216, 338, 369, 378, 395, 399, 407, 4...  \n3  [1, 80, 92, 122, 197, 233, 235, 255, 294, 302,...  \n4  [29, 80, 84, 255, 310, 350, 378, 441, 502, 625...  ",
      "text/html": "<div>\n<style scoped>\n    .dataframe tbody tr th:only-of-type {\n        vertical-align: middle;\n    }\n\n    .dataframe tbody tr th {\n        vertical-align: top;\n    }\n\n    .dataframe thead th {\n        text-align: right;\n    }\n</style>\n<table border=\"1\" class=\"dataframe\">\n  <thead>\n    <tr style=\"text-align: right;\">\n      <th></th>\n      <th>smiles</th>\n      <th>fps</th>\n    </tr>\n  </thead>\n  <tbody>\n    <tr>\n      <th>0</th>\n      <td>Cc1ccc(C)n1-c1cccc(C(=O)O)c1</td>\n      <td>[94, 389, 456, 650, 807, 875, 883, 935, 1039, ...</td>\n    </tr>\n    <tr>\n      <th>1</th>\n      <td>Cc1nc2c(c(C)c1CC(=O)NCc1ccco1)c(=O)[nH]n2C</td>\n      <td>[24, 41, 80, 92, 197, 252, 255, 314, 325, 333,...</td>\n    </tr>\n    <tr>\n      <th>2</th>\n      <td>O=C(c1csnn1)N1CCC[C@@]2(CCN(c3ncccn3)C2)C1</td>\n      <td>[18, 180, 216, 338, 369, 378, 395, 399, 407, 4...</td>\n    </tr>\n    <tr>\n      <th>3</th>\n      <td>CCC(C(=O)NCc1ccco1)n1nc(C)c2c(C)n(-c3ccc(C)cc3...</td>\n      <td>[1, 80, 92, 122, 197, 233, 235, 255, 294, 302,...</td>\n    </tr>\n    <tr>\n      <th>4</th>\n      <td>O=S(=O)(NCc1ccc2c(c1)OCO2)c1c[nH]cn1</td>\n      <td>[29, 80, 84, 255, 310, 350, 378, 441, 502, 625...</td>\n    </tr>\n  </tbody>\n</table>\n</div>"
     },
     "execution_count": 6,
     "metadata": {},
     "output_type": "execute_result"
    }
   ],
   "source": [
    "df_out.head()"
   ],
   "metadata": {
    "collapsed": false,
    "ExecuteTime": {
     "end_time": "2023-09-11T06:51:09.944310597Z",
     "start_time": "2023-09-11T06:51:09.881048878Z"
    }
   },
   "id": "663dd8501081d075"
  },
  {
   "cell_type": "code",
   "execution_count": 7,
   "outputs": [],
   "source": [
    "df_out.to_parquet('data/train_data/combined_dataset_ECFP.parquet', index=False)"
   ],
   "metadata": {
    "collapsed": false,
    "ExecuteTime": {
     "end_time": "2023-09-11T06:51:24.264001989Z",
     "start_time": "2023-09-11T06:51:16.754513732Z"
    }
   },
   "id": "3429ba34a017fd80"
  },
  {
   "cell_type": "code",
   "execution_count": null,
   "outputs": [],
   "source": [],
   "metadata": {
    "collapsed": false
   },
   "id": "7f97a52cf73c2958"
  }
 ],
 "metadata": {
  "kernelspec": {
   "display_name": "Python 3",
   "language": "python",
   "name": "python3"
  },
  "language_info": {
   "codemirror_mode": {
    "name": "ipython",
    "version": 2
   },
   "file_extension": ".py",
   "mimetype": "text/x-python",
   "name": "python",
   "nbconvert_exporter": "python",
   "pygments_lexer": "ipython2",
   "version": "2.7.6"
  }
 },
 "nbformat": 4,
 "nbformat_minor": 5
}
