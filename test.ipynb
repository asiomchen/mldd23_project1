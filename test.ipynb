{
 "cells": [
  {
   "cell_type": "code",
   "execution_count": 11,
   "id": "initial_id",
   "metadata": {
    "collapsed": true,
    "ExecuteTime": {
     "end_time": "2023-09-09T06:10:59.989436222Z",
     "start_time": "2023-09-09T06:10:59.927503432Z"
    }
   },
   "outputs": [
    {
     "data": {
      "text/plain": "1"
     },
     "execution_count": 11,
     "metadata": {},
     "output_type": "execute_result"
    }
   ],
   "source": [
    "import pandas as pd\n",
    "import torch\n",
    "\n",
    "def penalty(tensor, boundary) -> float:\n",
    "    \"\"\"\n",
    "    Penalize for values outside of bounds\n",
    "    Args:\n",
    "        tensor (torch.Tensor): latent tensor\n",
    "        boundary (float): value of the upper and lower bound for the latent space search\n",
    "    Returns:\n",
    "        float: penalty\n",
    "    \"\"\"\n",
    "    dist = torch.pow(tensor, 2).sum()\n",
    "    if dist < boundary/2:\n",
    "        penalty = 0\n",
    "    elif dist > boundary:\n",
    "        penalty = 1\n",
    "    else:\n",
    "        penalty = boundary - dist\n",
    "    return penalty\n",
    "\n",
    "df = pd.read_parquet('results/samples.parquet')\n",
    "df.drop(columns=['score'], inplace=True)\n",
    "b_tensor = torch.Tensor(df.to_numpy())\n",
    "penalty = penalty(b_tensor[0], 2)\n",
    "penalty"
   ]
  },
  {
   "cell_type": "code",
   "execution_count": null,
   "outputs": [],
   "source": [],
   "metadata": {
    "collapsed": false
   },
   "id": "84944a4b0c56ecbd"
  }
 ],
 "metadata": {
  "kernelspec": {
   "display_name": "Python 3",
   "language": "python",
   "name": "python3"
  },
  "language_info": {
   "codemirror_mode": {
    "name": "ipython",
    "version": 2
   },
   "file_extension": ".py",
   "mimetype": "text/x-python",
   "name": "python",
   "nbconvert_exporter": "python",
   "pygments_lexer": "ipython2",
   "version": "2.7.6"
  }
 },
 "nbformat": 4,
 "nbformat_minor": 5
}
