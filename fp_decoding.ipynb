{
 "cells": [
  {
   "cell_type": "code",
   "execution_count": 1,
   "id": "2c156a44",
   "metadata": {},
   "outputs": [],
   "source": [
    "import pandas as pd\n",
    "import numpy as np\n",
    "\n",
    "klek_key = pd.read_csv('keys/KlekFP_keys', names=['smarts'], sep='\\t')\n",
    "maccs_key = pd.read_csv('keys/MACCSFP_keys', names=['smarts'], sep='\\t')\n",
    "sub_key = pd.read_csv('keys/SubFP_keys', names=['smarts'], sep='\\t')"
   ]
  },
  {
   "cell_type": "code",
   "execution_count": 2,
   "id": "8a212b41",
   "metadata": {},
   "outputs": [],
   "source": [
    "from rdkit import Chem\n",
    "from rdkit.Chem import Draw\n",
    "\n",
    "#----------------------------------\n",
    "\n",
    "df = klek_key\n",
    "\n",
    "#----------------------------------"
   ]
  },
  {
   "cell_type": "code",
   "execution_count": 30,
   "id": "a5eb695f",
   "metadata": {},
   "outputs": [],
   "source": [
    "dataset = pd.read_csv('cleaned_datasets/5ht1a_Klek_clean.csv')\n",
    "\n",
    "fp = dataset.iloc[0]\n",
    "fp = fp[2:].astype(bool)\n",
    "\n",
    "# decode fingerptint using key\n",
    "\n",
    "fragments = []\n",
    "for item in fp.items():\n",
    "    present = item[1]\n",
    "    if present:\n",
    "        index = int(item[0][4:]) - 1\n",
    "        smarts = (df.iloc[index][0])\n",
    "        mol = Chem.rdmolfiles.MolFromSmarts(smarts)\n",
    "        fragments.append(mol)"
   ]
  },
  {
   "cell_type": "code",
   "execution_count": null,
   "id": "2c59fbc1",
   "metadata": {},
   "outputs": [],
   "source": []
  }
 ],
 "metadata": {
  "kernelspec": {
   "display_name": "Python 3 (ipykernel)",
   "language": "python",
   "name": "python3"
  },
  "language_info": {
   "codemirror_mode": {
    "name": "ipython",
    "version": 3
   },
   "file_extension": ".py",
   "mimetype": "text/x-python",
   "name": "python",
   "nbconvert_exporter": "python",
   "pygments_lexer": "ipython3",
   "version": "3.9.16"
  }
 },
 "nbformat": 4,
 "nbformat_minor": 5
}
