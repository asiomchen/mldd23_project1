{
 "cells": [
  {
   "cell_type": "code",
   "execution_count": 16,
   "id": "6ef6f3f5",
   "metadata": {
    "id": "6ef6f3f5"
   },
   "outputs": [
    {
     "name": "stderr",
     "output_type": "stream",
     "text": [
      "wandb: Appending key for api.wandb.ai to your netrc file: C:\\Users\\matit/.netrc\n"
     ]
    }
   ],
   "source": [
    "# import packages\n",
    "from gru import example_printer\n",
    "from gru.dataset import GRUDataset\n",
    "from gru.gru_v3 import EncoderNet, DecoderNet, EncoderDecoder\n",
    "from vectorizer import SELFIESVectorizer, determine_alphabet\n",
    "from gru.cce import CCE, ConsciousCrossEntropy\n",
    "from split import scaffold_split\n",
    "from tqdm import tqdm\n",
    "\n",
    "import torch\n",
    "import wandb\n",
    "import pandas as pd\n",
    "import random\n",
    "\n",
    "# weights and biases\n",
    "!wandb login 18463128757ca947acdea58348412cc9a098efd4"
   ]
  },
  {
   "cell_type": "code",
   "execution_count": 17,
   "id": "N3BCODbh2PhC",
   "metadata": {
    "id": "N3BCODbh2PhC"
   },
   "outputs": [
    {
     "name": "stdout",
     "output_type": "stream",
     "text": [
      "cuda\n"
     ]
    }
   ],
   "source": [
    "device = torch.device('cuda' if torch.cuda.is_available() else 'cpu')\n",
    "print(device)"
   ]
  },
  {
   "cell_type": "markdown",
   "id": "f16dfcb1",
   "metadata": {
    "id": "f16dfcb1"
   },
   "source": [
    "# Data prep"
   ]
  },
  {
   "cell_type": "code",
   "execution_count": 18,
   "id": "4ce528d6",
   "metadata": {},
   "outputs": [
    {
     "name": "stdout",
     "output_type": "stream",
     "text": [
      "grouping compounds by murcko scaffold...\n"
     ]
    },
    {
     "name": "stderr",
     "output_type": "stream",
     "text": [
      "100%|██████████████████████████████████████████████████████████████████████| 1222179/1222179 [10:46<00:00, 1889.31it/s]\n"
     ]
    },
    {
     "name": "stdout",
     "output_type": "stream",
     "text": [
      "sorting keys...\n",
      "splitting...\n"
     ]
    },
    {
     "name": "stderr",
     "output_type": "stream",
     "text": [
      "100%|█████████████████████████████████████████████████████████████████████| 393587/393587 [00:00<00:00, 1140176.22it/s]\n"
     ]
    },
    {
     "name": "stdout",
     "output_type": "stream",
     "text": [
      "Dataset size: 1222179\n",
      "Train size: 1093607\n",
      "Val size: 121524\n"
     ]
    }
   ],
   "source": [
    "alphabet = pd.read_csv('./GRU_data/alphabet.txt', header=None).values.flatten()\n",
    "vectorizer = SELFIESVectorizer(alphabet, pad_to_len=128)\n",
    "\n",
    "data_path = './GRU_data/combned_dataset.parquet'\n",
    "dataset = pd.read_parquet(data_path)\n",
    "\n",
    "train_size = 0.9\n",
    "\n",
    "train_df, val_df = scaffold_split(dataset, train_size)\n",
    "\n",
    "train_dataset = GRUDataset(train_df, vectorizer)\n",
    "val_dataset = GRUDataset(val_df, vectorizer)\n",
    "\n",
    "print(\"Dataset size:\", len(dataset))\n",
    "print(\"Train size:\", len(train_dataset))\n",
    "print(\"Val size:\", len(val_dataset))"
   ]
  },
  {
   "cell_type": "code",
   "execution_count": 19,
   "id": "da4f014e",
   "metadata": {
    "id": "da4f014e"
   },
   "outputs": [],
   "source": [
    "from torch.utils.data import DataLoader\n",
    "batch_size = 256\n",
    "train_loader = DataLoader(train_dataset, shuffle=True, batch_size=batch_size, drop_last=True)\n",
    "val_loader = DataLoader(val_dataset, shuffle=False, batch_size=batch_size, drop_last=True)"
   ]
  },
  {
   "cell_type": "markdown",
   "id": "02f39daf",
   "metadata": {
    "id": "02f39daf"
   },
   "source": [
    "# NN architecture"
   ]
  },
  {
   "cell_type": "code",
   "execution_count": 20,
   "id": "f598e58d",
   "metadata": {},
   "outputs": [],
   "source": [
    "run_name = 'v3_miwan'\n",
    "\n",
    "# Set hyperparameters\n",
    "encoding_size = 512\n",
    "hidden_size = 512\n",
    "num_layers = 1\n",
    "learn_rate = 0.0005\n",
    "dropout = 0 # dropout must be equal 0 if num_layers = 1\n",
    "teacher_ratio = 0.5\n",
    "\n",
    "# Init model\n",
    "model = EncoderDecoder(\n",
    "    fp_size=4860,\n",
    "    encoding_size=encoding_size,\n",
    "    hidden_size=hidden_size,\n",
    "    num_layers=num_layers,\n",
    "    dropout=dropout,\n",
    "    teacher_ratio = teacher_ratio).to(device)"
   ]
  },
  {
   "cell_type": "markdown",
   "id": "c3f697df",
   "metadata": {
    "id": "c3f697df"
   },
   "source": [
    "# Training loop"
   ]
  },
  {
   "cell_type": "code",
   "execution_count": 21,
   "id": "f7b00cca",
   "metadata": {
    "id": "f7b00cca"
   },
   "outputs": [],
   "source": [
    "import matplotlib.pyplot as plt\n",
    "\n",
    "def train(model, train_loader, val_loader, vectorizer, device):\n",
    "\n",
    "    EPOCHS = 5\n",
    "\n",
    "    # Define dataframe for training progess display\n",
    "    epochs_range = range(1,EPOCHS+1)\n",
    "    metrics = pd.DataFrame(columns=['epoch', 'train_loss', 'val_loss']);\n",
    "    metrics['epoch'] = epochs_range\n",
    "    \n",
    "    # Init example printer\n",
    "    printer = example_printer.ExamplePrinter(data_path, val_loader, num_examples=25)\n",
    "\n",
    "    # Define pyplot for plotting metrics\n",
    "    fig, ax = plt.subplots(ncols=2, figsize=(7, 3), layout=\"constrained\")\n",
    "    dh = display(fig, display_id=True)\n",
    "\n",
    "    # Define loss function and optimizer\n",
    "    optimizer = torch.optim.Adam(model.parameters(), lr=learn_rate)\n",
    "    criterion = CCE()\n",
    "\n",
    "    # wandb config and init\n",
    "    config = dict()\n",
    "    config['learning rate'] = learn_rate\n",
    "    config['encoding size'] = model.encoding_size\n",
    "    config['criterion'] = criterion\n",
    "    config['optimizer'] = optimizer\n",
    "    config['num epochs'] = EPOCHS\n",
    "    config['Trainable parameters'] = sum(p.numel() for p in model.parameters() if p.requires_grad)\n",
    "    config['hidden size'] = model.hidden_size\n",
    "    config['Number of layers'] = num_layers\n",
    "    config['Dropout'] = model.decoder.dropout\n",
    "    config['Batch size'] = batch_size\n",
    "    config['teacher_ratio'] = teacher_ratio\n",
    "    wandb.init(project=\"encoded-token-concat\", config=config)\n",
    "\n",
    "    print(\"Starting Training of GRU\")\n",
    "    print(f\"Device: {device}\")\n",
    "    \n",
    "    samples = []\n",
    "    \n",
    "    # Start training loop\n",
    "    for epoch in epochs_range:\n",
    "        print(f'Epoch: {epoch}')\n",
    "        epoch_loss = 0\n",
    "        model.train()\n",
    "        for batch_idx, (X,y) in enumerate(tqdm(train_loader)):\n",
    "            X = X.to(device)\n",
    "            y = y.to(device)\n",
    "            optimizer.zero_grad()\n",
    "            output = model(X, y, teacher_forcing=True).to(device)\n",
    "            loss = criterion(y, output)\n",
    "            loss.backward()\n",
    "            optimizer.step()\n",
    "            epoch_loss += loss.item()\n",
    "\n",
    "        # calculate loss and log to wandb\n",
    "        avg_loss = epoch_loss / len(train_loader)\n",
    "        val_loss = evaluate(model, val_loader)\n",
    "        metrics_dict = {'epoch': epoch,\n",
    "                        'train_loss': avg_loss,\n",
    "                        'val_loss': val_loss}\n",
    "        wandb.log(metrics_dict)\n",
    "\n",
    "        # Update metrics df\n",
    "        metrics.loc[len(metrics)] = metrics_dict\n",
    "\n",
    "        # Display metrics\n",
    "        ax[0].clear()\n",
    "        ax[0].plot(metrics.epoch, metrics.train_loss)\n",
    "        ax[0].set_title('training loss')\n",
    "        ax[0].set_xlabel('epoch')\n",
    "        ax[0].set_ylabel('CrossEntropy')\n",
    "        ax[1].clear()\n",
    "        ax[1].plot(metrics.epoch, metrics.val_loss)\n",
    "        ax[1].set_title('validation loss')\n",
    "        ax[1].set_xlabel('epoch')\n",
    "        ax[1].set_ylabel('CrossEntropy')\n",
    "        dh.update(fig)\n",
    "        \n",
    "        save_path = f\"./models/GRU_{run_name}_epoch_{epoch}.pt\"\n",
    "        torch.save(model.state_dict(),save_path)\n",
    "        \n",
    "        new_samples = printer(model)\n",
    "        samples.append(new_samples)\n",
    "        \n",
    "    plt.close()\n",
    "    wandb.finish()\n",
    "    return model, samples\n",
    "\n",
    "def evaluate(model, val_loader):\n",
    "    model.eval()\n",
    "    criterion = CCE()\n",
    "    epoch_loss = 0\n",
    "    for batch_idx, (X, y) in enumerate(val_loader):\n",
    "        X = X.to(device)\n",
    "        y = y.to(device)\n",
    "        output = model(X, y, teacher_forcing=False).to(device)\n",
    "        loss = criterion(y, output)\n",
    "        epoch_loss += loss.item()\n",
    "    avg_loss = epoch_loss / len(val_loader)\n",
    "    return avg_loss"
   ]
  },
  {
   "cell_type": "markdown",
   "id": "c874519b",
   "metadata": {
    "id": "c874519b"
   },
   "source": [
    "# Train the model"
   ]
  },
  {
   "cell_type": "code",
   "execution_count": null,
   "id": "0839d044",
   "metadata": {
    "id": "0839d044"
   },
   "outputs": [
    {
     "data": {
      "image/png": "[encoded data removed]",
      "text/plain": [
       "<Figure size 700x300 with 2 Axes>"
      ]
     },
     "metadata": {},
     "output_type": "display_data"
    },
    {
     "data": {
      "text/html": [
       "Finishing last run (ID:xmun1kv2) before initializing another..."
      ],
      "text/plain": [
       "<IPython.core.display.HTML object>"
      ]
     },
     "metadata": {},
     "output_type": "display_data"
    },
    {
     "data": {
      "text/html": [
       "Waiting for W&B process to finish... <strong style=\"color:green\">(success).</strong>"
      ],
      "text/plain": [
       "<IPython.core.display.HTML object>"
      ]
     },
     "metadata": {},
     "output_type": "display_data"
    },
    {
     "data": {
      "text/html": [
       "<style>\n",
       "    table.wandb td:nth-child(1) { padding: 0 10px; text-align: left ; width: auto;} td:nth-child(2) {text-align: left ; width: 100%}\n",
       "    .wandb-row { display: flex; flex-direction: row; flex-wrap: wrap; justify-content: flex-start; width: 100% }\n",
       "    .wandb-col { display: flex; flex-direction: column; flex-basis: 100%; flex: 1; padding: 10px; }\n",
       "    </style>\n",
       "<div class=\"wandb-row\"><div class=\"wandb-col\"><h3>Run history:</h3><br/><table class=\"wandb\"><tr><td>epoch</td><td>▁▂▄▅▇█</td></tr><tr><td>train_loss</td><td>█▄▃▂▁▁</td></tr><tr><td>val_loss</td><td>█▅▄▃▂▁</td></tr></table><br/></div><div class=\"wandb-col\"><h3>Run summary:</h3><br/><table class=\"wandb\"><tr><td>epoch</td><td>6</td></tr><tr><td>train_loss</td><td>0.38614</td></tr><tr><td>val_loss</td><td>0.80197</td></tr></table><br/></div></div>"
      ],
      "text/plain": [
       "<IPython.core.display.HTML object>"
      ]
     },
     "metadata": {},
     "output_type": "display_data"
    },
    {
     "data": {
      "text/html": [
       " View run <strong style=\"color:#cdcd00\">happy-glitter-49</strong> at: <a href='https://wandb.ai/mldd23/encoded-token-concat/runs/xmun1kv2' target=\"_blank\">https://wandb.ai/mldd23/encoded-token-concat/runs/xmun1kv2</a><br/>Synced 6 W&B file(s), 0 media file(s), 2 artifact file(s) and 0 other file(s)"
      ],
      "text/plain": [
       "<IPython.core.display.HTML object>"
      ]
     },
     "metadata": {},
     "output_type": "display_data"
    },
    {
     "data": {
      "text/html": [
       "Find logs at: <code>.\\wandb\\run-20230622_232407-xmun1kv2\\logs</code>"
      ],
      "text/plain": [
       "<IPython.core.display.HTML object>"
      ]
     },
     "metadata": {},
     "output_type": "display_data"
    },
    {
     "data": {
      "text/html": [
       "Successfully finished last run (ID:xmun1kv2). Initializing new run:<br/>"
      ],
      "text/plain": [
       "<IPython.core.display.HTML object>"
      ]
     },
     "metadata": {},
     "output_type": "display_data"
    },
    {
     "data": {
      "application/vnd.jupyter.widget-view+json": {
       "model_id": "0642b573100b4f1c8d33eec82fcff47a",
       "version_major": 2,
       "version_minor": 0
      },
      "text/plain": [
       "VBox(children=(Label(value='Waiting for wandb.init()...\\r'), FloatProgress(value=0.01693333333338766, max=1.0)…"
      ]
     },
     "metadata": {},
     "output_type": "display_data"
    },
    {
     "data": {
      "text/html": [
       "Tracking run with wandb version 0.15.4"
      ],
      "text/plain": [
       "<IPython.core.display.HTML object>"
      ]
     },
     "metadata": {},
     "output_type": "display_data"
    },
    {
     "data": {
      "text/html": [
       "Run data is saved locally in <code>C:\\Users\\matit\\Documents\\GitHub\\mldd23_project1\\wandb\\run-20230623_104451-npz5ik84</code>"
      ],
      "text/plain": [
       "<IPython.core.display.HTML object>"
      ]
     },
     "metadata": {},
     "output_type": "display_data"
    },
    {
     "data": {
      "text/html": [
       "Syncing run <strong><a href='https://wandb.ai/mldd23/encoded-token-concat/runs/npz5ik84' target=\"_blank\">ethereal-elevator-50</a></strong> to <a href='https://wandb.ai/mldd23/encoded-token-concat' target=\"_blank\">Weights & Biases</a> (<a href='https://wandb.me/run' target=\"_blank\">docs</a>)<br/>"
      ],
      "text/plain": [
       "<IPython.core.display.HTML object>"
      ]
     },
     "metadata": {},
     "output_type": "display_data"
    },
    {
     "data": {
      "text/html": [
       " View project at <a href='https://wandb.ai/mldd23/encoded-token-concat' target=\"_blank\">https://wandb.ai/mldd23/encoded-token-concat</a>"
      ],
      "text/plain": [
       "<IPython.core.display.HTML object>"
      ]
     },
     "metadata": {},
     "output_type": "display_data"
    },
    {
     "data": {
      "text/html": [
       " View run at <a href='https://wandb.ai/mldd23/encoded-token-concat/runs/npz5ik84' target=\"_blank\">https://wandb.ai/mldd23/encoded-token-concat/runs/npz5ik84</a>"
      ],
      "text/plain": [
       "<IPython.core.display.HTML object>"
      ]
     },
     "metadata": {},
     "output_type": "display_data"
    },
    {
     "name": "stdout",
     "output_type": "stream",
     "text": [
      "Starting Training of GRU\n",
      "Device: cuda\n",
      "Epoch: 1\n"
     ]
    },
    {
     "name": "stderr",
     "output_type": "stream",
     "text": [
      "100%|████████████████████████████████████████████████████████████████████████████| 4271/4271 [1:04:15<00:00,  1.11it/s]\n"
     ]
    },
    {
     "name": "stdout",
     "output_type": "stream",
     "text": [
      "Predicted SELFIE:\n",
      "[#Branch1][O][=C][Branch2][Ring1][C][C][C][C][C][C][C][C][C][C][C][C][C][C][C][C][C][C][C][C][C][C][C][C][C][C][C][C][C][C][C][C][C][C][C][Ring1][Ring1][Ring1][Ring1][Ring1][Ring1][Ring1][Ring1][Ring1][Ring1] \n",
      "\n",
      "True SELFIE:\n",
      "[O][=C][Branch1][Branch2][C][=C][S][N][=N][Ring1][Branch1][N][C][C][C][C][Branch1][P][C][C][N][Branch1][=Branch2][C][=N][C][=C][C][=N][Ring1][=Branch1][C][Ring1][O][C][Ring1][S]\n",
      "------------------------------------------------------------\n",
      "Predicted SELFIE:\n",
      "[#Branch1][O][C][C][N][C][C][C][C][C][C][C][C][C][C][C][C][C][C][C][C][C][C][C][C][C][C][C][C][C][C][C][C][C][C][C][C][C][C][C][C][Ring1][Ring1][Ring1][Ring1][Ring1][Ring1][Ring1][Ring1] \n",
      "\n",
      "True SELFIE:\n",
      "[O][C][C][Branch1][O][C][C][C][=C][C][=C][C][=C][Ring1][=Branch1][C][C][N][Branch1][P][C][C][=C][C][=C][N][Ring1][Branch1][C][=C][C][=C][N][=C][Ring1][=Branch1][C][C][Ring2][Ring1][#Branch2]\n",
      "------------------------------------------------------------\n",
      "Predicted SELFIE:\n",
      "[#Branch1][O][=C][Branch2][Ring1][C][C][C][C][C][C][C][C][C][C][C][C][C][C][C][C][C][C][C][C][C][C][C][C][C][C][C][C][C][C][C][C][C][Ring1][Ring1][Ring1][Ring1][Ring1][Ring1][Ring1][Ring1][Ring1][Ring1][Ring1] \n",
      "\n",
      "True SELFIE:\n",
      "[O][=C][Branch2][Ring1][#Branch2][N][C][C][C][C][C][=N][C][Branch1][=Branch2][N][C][C][C][C][C][Ring1][=Branch1][=N][C][=C][Ring1][N][Ring1][S][C][C][C][C][C][Ring1][Branch1]\n",
      "------------------------------------------------------------\n",
      "Predicted SELFIE:\n",
      "[#Branch1][C][C][C][C][C][C][C][C][C][C][C][C][C][C][C][C][C][C][C][C][C][C][C][C][C][C][=C][=C][=C][=C][=C][=C][=C][Ring1][Ring1][Ring1] \n",
      "\n",
      "True SELFIE:\n",
      "[C][C][C][Branch1][C][C][C][N][C][Branch1][C][O][=C][C][=N][N][Branch1][=C][C][=N][C][=C][C][=C][C][=C][Ring1][=Branch1][S][Ring1][=Branch2][C][=Branch1][C][=O][C][Ring1][#C][=C][Ring2][Ring1][Ring2][C]\n",
      "------------------------------------------------------------\n",
      "Predicted SELFIE:\n",
      "[#Branch1][O][=C][N][C][=Branch1][C][=O][C][=C][C][C][C][C][C][C][C][C][C][C][C][C][C][C][C][C][C][C][C][C][C][C][C][C][C][C][C][C][Ring1][Ring1][Ring1][Ring1][Ring1][Ring1][Ring1][Ring1] \n",
      "\n",
      "True SELFIE:\n",
      "[O][=C][NH1][C][=Branch1][C][=O][N][Branch2][Ring1][O][C][C][=N][C][=C][C][=C][C][=C][Ring1][=Branch1][N][Ring1][=Branch2][C][C][=C][C][=C][C][Branch1][C][F][=C][Ring1][#Branch1][C][=C][Ring2][Ring1][=Branch2][F]\n",
      "------------------------------------------------------------\n",
      "Predicted SELFIE:\n",
      "[#Branch1][C][C][=C][C][=C][C][C][C][C][C][C][C][C][C][C][C][C][C][C][C][C][C][C][C][C][C][C][C][C][C][C][C][C][C][C][C][C][C][C][C][C][C][C][C][C][C][C][C][C][C][Ring1][Ring1][Ring1][Ring1][Ring1] \n",
      "\n",
      "True SELFIE:\n",
      "[C][C][=N][C][=C][C][=C][C][=C][Ring1][=Branch1][N][=C][Ring1][#Branch2][O][C][C][=Branch1][C][=O][N][C][C][N][Branch1][=Branch2][C][=C][C][=C][C][=C][Ring1][=Branch1][C][C][Ring1][N]\n",
      "------------------------------------------------------------\n",
      "Predicted SELFIE:\n",
      "[#Branch1][C][C][=C][C][C][C][C][C][C][C][C][C][C][C][C][C][C][C][C][C][C][C][C][C][C][C][C][C][C][C][C][C][C][C][C][C][C][C] \n",
      "\n",
      "True SELFIE:\n",
      "[C][C][=C][Branch1][C][Cl][N][=C][Branch1][=N][N][C][C][C][C][Branch1][C][N][C][C][Ring1][#Branch1][C][=Branch1][C][=O][N][Ring1][S][C][C][=Branch1][C][=O][N][C][C][C][C][Branch1][C][N][C][C][Ring1][#Branch1]\n",
      "------------------------------------------------------------\n",
      "Predicted SELFIE:\n",
      "[#Branch1][C][N][C][C][C][C][C][C][C][C][C][C][C][C][C][C][C][C][C][C][C][C][C][C][C][C][C][C][C][C][C][C][C][C][C][C][C][C][C][C][C][C][C][C][C][C][C][C][C][C][C][C] \n",
      "\n",
      "True SELFIE:\n",
      "[C][N+1][Branch1][Branch1][C][C][C][F][C][C][C][C][Ring1][=Branch2][C][C][Branch2][Ring1][N][O][C][=Branch1][C][=O][C][Branch1][C][O][Branch1][=Branch2][C][=C][C][=C][C][=C][Ring1][=Branch1][C][=C][C][=C][C][=C][Ring1][=Branch1][C][Ring2][Ring1][Branch2]\n",
      "------------------------------------------------------------\n",
      "Predicted SELFIE:\n",
      "[#Branch1][N][C][C][=C][C][C][C][C][C][C][C][C][C][C][C][C][C][C][C][C][C][C][C][C][C][C][C][C][C][C][C][C][C][C][C][C][C][C][C][Ring1][Ring1][Ring1][Ring1][Ring1] \n",
      "\n",
      "True SELFIE:\n",
      "[N][#C][N][=C][Branch1][=N][N][C][C][C][C][=C][C][=C][C][=C][Ring1][=Branch1][N][C][C][C][C][C][Branch1][Branch2][C][=C][NH1][C][=N][Ring1][Branch1][C][Ring1][#Branch2]\n",
      "------------------------------------------------------------\n",
      "Predicted SELFIE:\n",
      "[#Branch1][O][=C][N][C][O][C][=O][C][C][C][C][C][C][C][C][C][C][C][C][C][C][C][C][C][C][C][C][C][C][C][C][C][C][C][C][C][C][C][C][C][C][C][C][C][C][C] \n",
      "\n",
      "True SELFIE:\n",
      "[O][=C][Branch1][C][O][C][C][Branch2][Ring1][=Branch2][C][C][=Branch1][C][=O][N][C][C][=C][C][Branch1][C][F][=C][C][=C][Ring1][#Branch1][O][C][O][C][Ring1][=Branch1][C][C][C][C][C][Ring2][Ring1][=Branch1]\n",
      "------------------------------------------------------------\n",
      "Predicted SELFIE:\n",
      "[#Branch1][C][C][O][C][=Branch1][C][=O][C][=C][C][C][C][C][C][C][C][C][C][C][C][C][C][C][C][C][C][C][C][C][C][C][C][C][C][C][C][C][C][C][C][C][C][C][Ring1][Ring1][Ring1][Ring1] \n",
      "\n",
      "True SELFIE:\n",
      "[C][C][O][C][=Branch1][C][=O][C][Branch1][=Branch2][C][=C][C][=C][C][=C][Ring1][=Branch1][C][C][Ring1][=Branch2][C][N][C][C][C][C][Ring1][Branch1]\n",
      "------------------------------------------------------------\n",
      "Predicted SELFIE:\n",
      "[#Branch1][C][C][C][C][C][C][C][C][C][C][C][C][C][C][C][C][C][C][C][C][C][C][C][C][C][C][C][C][C][C][C][C][C][C][C][C][C][C][C][C][C][C][C][C][C][C][C][C][C][C][C][C][C][C][C][C][C][C][C][Ring1][Ring1][Ring1][Ring1][Ring1] \n",
      "\n",
      "True SELFIE:\n",
      "[C][C][Branch1][C][C][C][C][C][C][Ring1][=Branch1][Branch2][Ring2][=Branch1][C][S][=Branch1][C][=O][=Branch1][C][=O][N][C][C][N][Branch2][Ring1][Ring1][C][=N][C][=C][Branch1][=Branch2][C][Branch1][C][F][Branch1][C][F][F][C][=N][Ring1][#Branch2][C][C][Ring1][S][C][=Branch1][C][=O][C][Ring2][Ring1][O]\n",
      "------------------------------------------------------------\n",
      "Predicted SELFIE:\n",
      "[#Branch1][C][O][C][=C][C][=C][C][Branch2][Ring1][S][C][C][C][C][C][C][C][C][C][C][C][C][C][C][C][C][C][C][C][C][C][C][C][C][C][C][C][C][C][=C][=C][=C][=C][=C][=C][=C][Ring1][Ring1][Ring1][Ring1][Ring1][Ring1] \n",
      "\n",
      "True SELFIE:\n",
      "[C][O][C][=C][C][=N][C][=N][C][Branch2][Ring1][O][N][C][=C][C][=C][C][Branch1][S][N][S][=Branch1][C][=O][=Branch1][C][=O][C][=C][C][=C][S][Ring1][Branch1][=C][Ring1][#C][=C][Ring2][Ring1][=Branch1][C][=C][Ring2][Ring1][#Branch2][O][C]\n",
      "------------------------------------------------------------\n",
      "Predicted SELFIE:\n",
      "[#Branch1][C][C][C][C][C][C][C][C][C][C][C][C][C][C][C][C][C][C][C][C][C][C][C][C][C][C][C][C][C][C][C][C][C][C][C][C][C][C][C][C][C][C][C][C][C][C][C][C][C][C][C][C][C][C][C][C][C][C][C][C] \n",
      "\n",
      "True SELFIE:\n",
      "[C][C][Branch1][C][C][C][C][=Branch1][C][=O][C][Branch2][Ring2][Branch1][C][Branch1][S][C][=C][C][=C][C][=Branch1][Ring2][=C][Ring1][=Branch1][O][C][O][Ring1][=Branch1][C][C][=Branch1][C][=O][C][C][Branch1][C][C][Branch1][C][C][C][C][Ring1][=Branch2][=O][C][=Branch1][C][=O][C][Ring2][Ring1][=N]\n",
      "------------------------------------------------------------\n",
      "Predicted SELFIE:\n",
      "[#Branch1][O][C][C][O][C][Branch2][Ring1][Ring2][C][C][C][C][C][C][C][C][C][C][C][C][C][C][C][C][C][C][C][C][C][C][C][C][C][C][C][C][C][C][C][C][C][C][C][C][C][C][C][Ring1][Ring1] \n",
      "\n",
      "True SELFIE:\n",
      "[O][C][C][O][C][Branch2][Ring1][#Branch2][N][C][=N][C][=C][Branch1][Branch2][N][C][C][C][C][Ring1][Ring2][N][=C][Branch1][C][O][N][=C][Ring1][N][Ring1][#C][C][Branch1][C][O][C][Ring2][Ring1][Branch1][O]\n",
      "------------------------------------------------------------\n",
      "Predicted SELFIE:\n",
      "[#Branch1][C][C][C][C][C][C][Ring2][C][C][C][C][C][C][C][C][C][C][C][C][C][C][C][C][C][C][C][C][C][C][C][C][C][C][C][C][C][C][C][C][C][C][C][C][C][C][C][C][C][C][C][Ring1][Ring1][Ring1][Ring1][Ring1][Ring1] \n",
      "\n",
      "True SELFIE:\n",
      "[C][C][=N][NH1][C][=N][C][=C][C][Branch2][Ring2][Branch2][C][=C][C][=C][Branch2][Ring1][N][N][C][=Branch1][C][=O][N][C][=C][C][=C][C][Branch1][N][N][C][C][N][Branch1][C][C][C][C][Ring1][#Branch1][=C][Ring1][=N][C][=C][Ring2][Ring1][#Branch1][=C][Ring2][Ring1][S][Ring2][Ring1][=N]\n",
      "------------------------------------------------------------\n",
      "Predicted SELFIE:\n",
      "[#Branch1][C][C][Branch2][C][C][C][C][C][C][C][C][C][C][C][C][C][C][C][C][C][C][C][C][C][C][C][C][C][C][C][C][C][C][C][C][C][C][C][C][C][C][C][C][C][Ring1] \n",
      "\n",
      "True SELFIE:\n",
      "[C][C][Branch1][C][C][C][C][=Branch1][C][=O][N][C][C][N][C][C][Ring1][=Branch1][C][=Branch1][C][=O][N][C][C][S][C][C][=C][Branch1][C][F][C][=C][C][=C][Ring1][#Branch1][Cl]\n",
      "------------------------------------------------------------\n",
      "Predicted SELFIE:\n",
      "[#Branch1][C][C][=C][C][=C][C][=C][Ring1][=Branch1][N][C][C][C][C][C][C][C][C][C][C][C][C][C][C][C][C][C][C][C][C][C][C][C][C][C][C][C][C][C][C][C][Ring1][Ring1] \n",
      "\n",
      "True SELFIE:\n",
      "[C][C][=C][C][Branch1][O][O][C][=C][C][=C][C][=C][Ring1][=Branch1][C][=N][C][Branch1][Branch2][C][C][C][C][N][Ring1][Branch1][=N][Ring2][Ring1][Ring1]\n",
      "------------------------------------------------------------\n",
      "Predicted SELFIE:\n",
      "[#Branch1][C][C][N][Branch2][Ring1][C][C][C][=Branch1][C][=O][C][C][C][C][C][C][C][C][C][C][C][C][C][C][C][C][C][C][C][C][C][C][C][C][C][C][C][C][C][Ring1][Ring1][Ring1][Ring1][Ring1][Ring1][Ring1] \n",
      "\n",
      "True SELFIE:\n",
      "[C][C][N][Branch1][Ring1][C][C][C][=Branch1][C][=O][C][=C][Branch1][C][C][N][C][=N][N][=N][N][Ring1][Branch1][C][Ring1][#Branch2][C][=C][C][=C][N][=C][Ring1][=Branch1]\n",
      "------------------------------------------------------------\n",
      "Predicted SELFIE:\n",
      "[#Branch1][C][C][C][C][C][C][C][C][C][C][C][C][C][C][C][C][C][C][C][C][C][C][C][C][C][C][C][C][C][C][C][C][C][C][C][C][C][C][C][C][C][C] \n",
      "\n",
      "True SELFIE:\n",
      "[C][C][C][Branch1][=Branch2][C][=C][C][=C][C][=N][Ring1][=Branch1][C][=C][Branch1][C][Cl][C][Branch1][C][Cl][=C][C][NH1][C][=Branch1][C][=O][C][=Branch1][C][=O][NH1][C][Ring1][=C][=Ring1][Branch2]\n",
      "------------------------------------------------------------\n",
      "Predicted SELFIE:\n",
      "[#Branch1][C][C][Branch2][C][C][C][C][C][C][=O][C][C][C][C][C][C][C][C][C][C][C][C][C][C][C][C][C][C][C][C][C][C][C][C][C][C][C][C][C][C][C][C][C][C][C][C][C][C][C][C][C][Ring1][Ring1][Ring1] \n",
      "\n",
      "True SELFIE:\n",
      "[C][C][Branch1][C][C][C][Branch2][Ring1][#Branch1][N][C][=Branch1][C][=O][N][C][C][=Branch1][C][=O][N][C][=C][C][=C][C][=C][Ring1][=Branch1][Ring1][O][C][=Branch1][C][=O][N][C][C][C][=C][NH1][C][=C][C][=C][C][=C][Ring1][=Branch2][Ring1][=Branch1]\n",
      "------------------------------------------------------------\n",
      "Predicted SELFIE:\n",
      "[#Branch1][C][O][C][=C][C][=C][Branch2][Ring1][C][C][C][C][=Branch1][C][C][C][C][C][C][C][C][C][C][C][C][C][C][C][C][C][C][C][C][C][C][C][C][C][Ring1] \n",
      "\n",
      "True SELFIE:\n",
      "[C][O][C][=C][C][=C][Branch2][Ring1][=Branch1][C][C][N][C][=Branch1][C][=O][C][=Branch1][C][=O][N][C][C][C][C][N][C][C][Ring1][=Branch1][C][=C][Ring2][Ring1][Branch1][O][C]\n",
      "------------------------------------------------------------\n",
      "Predicted SELFIE:\n",
      "[#Branch1][C][C][=C][C][=C][C][C][=C][C][=C][Ring1][Branch2][C][C][C][C][C][C][C][C][C][C][C][C][C][C][C][C][C][C][C][C][C][C][C][C][C][C][C][C][C][C] \n",
      "\n",
      "True SELFIE:\n",
      "[C][C][=C][C][=C][C][Branch1][C][C][=C][Ring1][#Branch1][N][C][=Branch1][C][=O][C][C][C][C][N][Ring1][Branch1][C][C][C][Ring1][Branch2]\n",
      "------------------------------------------------------------\n",
      "Predicted SELFIE:\n",
      "[#Branch1][O][=C][Branch2][Ring1][N][C][C][C][C][C][C][C][C][C][C][C][C][C][C][C][C][C][C][C][C][C][C][C][C][C][C][C][C][C][C][C][C][C][C][C][C][C][C][C][C][C][C][C][C][C][C][C][C][C][C][C][Ring1][Ring1][Ring1][Ring1][Ring1][Ring1][Ring1] \n",
      "\n",
      "True SELFIE:\n",
      "[O][=C][Branch2][Ring1][=Branch1][N][C][C][C][C][C][Branch1][O][C][C][Branch1][Ring2][C][Ring1][=Branch1][C][Ring1][=Branch2][C][Ring1][#Branch2][C][=C][N][C][=C][Branch1][O][C][=C][C][=C][Ring1][=Branch1][C][Ring1][#Branch2][=O][O][C][C][Ring1][N][C][C][C][Ring1][Ring1]\n",
      "------------------------------------------------------------\n",
      "Predicted SELFIE:\n",
      "[#Branch1][C][C][C][C][Branch2][C][C][C][C][C][C][C][C][C][C][C][C][C][C][C][C][C][C][C][C][C][C][C][C][C][C][C][C][C][C][C][C][C][C][C][C][C] \n",
      "\n",
      "True SELFIE:\n",
      "[C][C][C][=C][S][C][=Ring1][Branch1][C][C][C][N][Branch2][Ring1][Ring2][C][=Branch1][C][=O][C][C][C][=Branch1][C][=O][N][C][C][C][C][C][C][Ring1][#Branch1][C][C][Ring2][Ring1][Ring1][O]\n",
      "------------------------------------------------------------\n",
      "Epoch: 2\n"
     ]
    },
    {
     "name": "stderr",
     "output_type": "stream",
     "text": [
      " 31%|████████████████████████                                                      | 1315/4271 [20:49<45:45,  1.08it/s]"
     ]
    }
   ],
   "source": [
    "model, samples = train(model, train_loader, val_loader, vectorizer, device)\n",
    "\n",
    "\"\"\"\n",
    "# save model\n",
    "save_path = ''.join(['./GRU_data/params/', run_name])\n",
    "torch.save(model.state_dict(), save_path)\n",
    "\"\"\""
   ]
  },
  {
   "cell_type": "code",
   "execution_count": null,
   "id": "90ab5e57",
   "metadata": {},
   "outputs": [],
   "source": []
  }
 ],
 "metadata": {
  "accelerator": "GPU",
  "colab": {
   "gpuType": "T4",
   "provenance": []
  },
  "kernelspec": {
   "display_name": "Python 3 (ipykernel)",
   "language": "python",
   "name": "python3"
  },
  "language_info": {
   "codemirror_mode": {
    "name": "ipython",
    "version": 3
   },
   "file_extension": ".py",
   "mimetype": "text/x-python",
   "name": "python",
   "nbconvert_exporter": "python",
   "pygments_lexer": "ipython3",
   "version": "3.9.16"
  }
 },
 "nbformat": 4,
 "nbformat_minor": 5
}
