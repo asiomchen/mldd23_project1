{
 "cells": [
  {
   "cell_type": "code",
   "execution_count": 1,
   "id": "initial_id",
   "metadata": {
    "collapsed": true,
    "ExecuteTime": {
     "end_time": "2023-09-18T08:28:03.896540758Z",
     "start_time": "2023-09-18T08:28:03.485279551Z"
    }
   },
   "outputs": [],
   "source": [
    "import pandas as pd\n",
    "import numpy as np\n",
    "from src.utils.finger import sparse2dense\n",
    "import rdkit.Chem as Chem\n",
    "import rdkit.Chem.MolStandardize.rdMolStandardize as rdMolStandardize\n",
    "import rdkit.Chem.rdMolDescriptors as rdMolDescriptors\n",
    "import rdkit.Chem.rdmolops as rdmolops\n",
    "import multiprocessing as mp\n",
    "import queue\n",
    "import time\n",
    "import selfies as sf"
   ]
  },
  {
   "cell_type": "code",
   "execution_count": 130,
   "outputs": [
    {
     "data": {
      "text/plain": "9391"
     },
     "execution_count": 130,
     "metadata": {},
     "output_type": "execute_result"
    }
   ],
   "source": [
    "sf.set_semantic_constraints('hypervalent')\n",
    "\n",
    "path = 'data/activity_data/d2_klek_100nM_std.parquet'\n",
    "df = pd.read_parquet(path)\n",
    "len(df)"
   ],
   "metadata": {
    "collapsed": false,
    "ExecuteTime": {
     "end_time": "2023-09-18T09:05:09.453696500Z",
     "start_time": "2023-09-18T09:05:09.350827768Z"
    }
   },
   "id": "55c3dd34cfe492ab"
  },
  {
   "cell_type": "code",
   "execution_count": 121,
   "outputs": [],
   "source": [
    "alphabet = pd.read_csv('data/alphabet.txt', header=None)[0].tolist()\n",
    "alphabet = set(alphabet)"
   ],
   "metadata": {
    "collapsed": false,
    "ExecuteTime": {
     "end_time": "2023-09-18T08:45:00.887025888Z",
     "start_time": "2023-09-18T08:45:00.876230809Z"
    }
   },
   "id": "f8acbc7aa1f637c5"
  },
  {
   "cell_type": "code",
   "execution_count": 131,
   "outputs": [],
   "source": [
    "from src.utils.finger import smiles2dense\n",
    "\n",
    "def foo(chunk, return_list):\n",
    "    chunk_copy = chunk.copy()\n",
    "    chunk_copy['fps'] = chunk_copy['smiles'].apply(smiles2dense)\n",
    "    return_list.append(chunk_copy)\n",
    "    return None\n",
    "\n",
    "def get_ECFP(chunk, return_list):\n",
    "    chunk_copy = chunk.copy()\n",
    "    chunk_copy['mol'] = chunk_copy['smiles'].apply(lambda x: Chem.MolFromSmiles(x))\n",
    "    chunk_copy['fps'] = chunk_copy['mol'].apply(lambda x: \n",
    "        list(rdMolDescriptors.GetMorganFingerprintAsBitVect(x, 2, nBits=2048)))\n",
    "    chunk_copy.drop(columns=['mol'], inplace=True)\n",
    "    chunk_copy['fps'] = chunk_copy['fps'].apply(lambda x: sparse2dense(x).tolist())\n",
    "    return_list.append(chunk_copy)"
   ],
   "metadata": {
    "collapsed": false,
    "ExecuteTime": {
     "end_time": "2023-09-18T09:05:13.906191552Z",
     "start_time": "2023-09-18T09:05:13.896612508Z"
    }
   },
   "id": "c72efb099f0dc449"
  },
  {
   "cell_type": "code",
   "execution_count": 123,
   "outputs": [],
   "source": [
    "def process(chunk, return_list, uncharger):\n",
    "    chunk_copy = chunk.copy()\n",
    "    # robie mol\n",
    "    chunk_copy['mol'] = chunk_copy['smiles'].apply(lambda x: Chem.MolFromSmiles(x))\n",
    "    # usuwam stereo\n",
    "    chunk_copy['mol'].apply(rdmolops.RemoveStereochemistry)\n",
    "    # usuwam ładunki\n",
    "    chunk_copy['mol'] = chunk_copy['mol'].apply(uncharger.uncharge)\n",
    "    # z powrotem do smiles\n",
    "    chunk_copy['smiles'] = chunk_copy['mol'].apply(lambda x: Chem.MolToSmiles(x))\n",
    "    # wypierdalam cząsteczki które nie da sie zakodować nowym alfabetem\n",
    "    chunk_copy['selfies'] = chunk_copy['smiles'].apply(lambda x: sf.encoder(smiles=x))\n",
    "    chunk_copy['tokens'] = chunk_copy['selfies'].apply(lambda x: set(sf.split_selfies(x)))\n",
    "    chunk_copy = chunk_copy[chunk_copy['tokens'].apply(lambda x: x.issubset(alphabet))]\n",
    "    # wypierdalam niepotrzebne kolumny\n",
    "    chunk_copy.drop(columns=['mol', 'tokens', 'selfies'], inplace=True)\n",
    "    chunk_copy['fps'] = chunk_copy['smiles'].apply(smiles2dense)\n",
    "    # do return list (multiprocessing)\n",
    "    return_list.append(chunk_copy)\n",
    "    return None"
   ],
   "metadata": {
    "collapsed": false,
    "ExecuteTime": {
     "end_time": "2023-09-18T08:45:02.348540254Z",
     "start_time": "2023-09-18T08:45:02.335954994Z"
    }
   },
   "id": "8f7b1b78e6c54492"
  },
  {
   "cell_type": "code",
   "execution_count": 134,
   "outputs": [
    {
     "name": "stdout",
     "output_type": "stream",
     "text": [
      "Number of workers: 8\n",
      "(mp) Processes in queue:  10\n",
      "(mp) Processes in queue:  5\n",
      "(mp) Processes in queue:  0\n",
      "(mp) Queue handled successfully\n"
     ]
    }
   ],
   "source": [
    "from rdkit import RDLogger\n",
    "RDLogger.DisableLog('rdApp.info')  \n",
    "\n",
    "# multiprocessing\n",
    "manager = mp.Manager()\n",
    "return_list = manager.list()\n",
    "cpus = mp.cpu_count()\n",
    "verbosity = 1\n",
    "uc = rdMolStandardize.Uncharger()\n",
    "\n",
    "print(\"Number of workers:\", cpus) if verbosity > 0 else None\n",
    "q = queue.Queue()\n",
    "\n",
    "# prepare a process for each file and add to queue\n",
    "chunk_size = 1000\n",
    "chunks = []\n",
    "for start in range(0, len(df), chunk_size):\n",
    "    chunks.append(df[start:start+chunk_size])\n",
    "for chunk in chunks:\n",
    "    proc = mp.Process(target=get_ECFP, args=(chunk, return_list))\n",
    "    q.put(proc)\n",
    "\n",
    "print('(mp) Processes in queue: ', q.qsize()) if verbosity > 0 else None\n",
    "\n",
    "# handle the queue\n",
    "processes = []\n",
    "while True:\n",
    "    if q.empty():\n",
    "        print(\"(mp) Queue handled successfully\") if verbosity > 0 else None\n",
    "        break\n",
    "    if len(mp.active_children()) < cpus:\n",
    "        proc = q.get()\n",
    "        proc.start()\n",
    "        if q.qsize() % 5 == 0:\n",
    "            print('(mp) Processes in queue: ', q.qsize()) if verbosity > 0 else None\n",
    "        processes.append(proc)\n",
    "    time.sleep(1)\n",
    "\n",
    "# complete the processes\n",
    "for proc in processes:\n",
    "    proc.join()"
   ],
   "metadata": {
    "collapsed": false,
    "ExecuteTime": {
     "end_time": "2023-09-18T09:05:50.813752930Z",
     "start_time": "2023-09-18T09:05:40.231733975Z"
    }
   },
   "id": "c10b644bb33137f1"
  },
  {
   "cell_type": "code",
   "execution_count": 135,
   "outputs": [
    {
     "data": {
      "text/plain": "   activity        Ki                                                fps  \\\n0         0   5247.00  [74, 80, 216, 218, 231, 277, 310, 561, 567, 56...   \n1         0  12000.00  [40, 43, 74, 80, 95, 216, 233, 378, 407, 442, ...   \n2         1     16.00  [80, 119, 193, 296, 314, 328, 352, 463, 588, 6...   \n3         0    403.00  [1, 74, 80, 90, 227, 263, 378, 407, 448, 527, ...   \n4         0   1047.13  [9, 29, 80, 82, 114, 226, 249, 371, 387, 389, ...   \n\n                                              smiles  \n0       CC1Cc2ccccc2N1C(=O)CN1CCN(CCc2ccc(Cl)cc2)CC1  \n1            Cc1cccn2ncc(CN3CCN(c4ccc(Cl)cc4)CC3)c12  \n2  O=C1c2ccccc2C(=O)N1CCCCN1CC=C(c2c[nH]c3ccc(F)c...  \n3               OC(CCCN1CCN(c2ccccn2)CC1)c1ccc(F)cc1  \n4        COc1ccccc1C1CC1CNCCC1CCC(NC(=O)c2ccccc2)CC1  ",
      "text/html": "<div>\n<style scoped>\n    .dataframe tbody tr th:only-of-type {\n        vertical-align: middle;\n    }\n\n    .dataframe tbody tr th {\n        vertical-align: top;\n    }\n\n    .dataframe thead th {\n        text-align: right;\n    }\n</style>\n<table border=\"1\" class=\"dataframe\">\n  <thead>\n    <tr style=\"text-align: right;\">\n      <th></th>\n      <th>activity</th>\n      <th>Ki</th>\n      <th>fps</th>\n      <th>smiles</th>\n    </tr>\n  </thead>\n  <tbody>\n    <tr>\n      <th>0</th>\n      <td>0</td>\n      <td>5247.00</td>\n      <td>[74, 80, 216, 218, 231, 277, 310, 561, 567, 56...</td>\n      <td>CC1Cc2ccccc2N1C(=O)CN1CCN(CCc2ccc(Cl)cc2)CC1</td>\n    </tr>\n    <tr>\n      <th>1</th>\n      <td>0</td>\n      <td>12000.00</td>\n      <td>[40, 43, 74, 80, 95, 216, 233, 378, 407, 442, ...</td>\n      <td>Cc1cccn2ncc(CN3CCN(c4ccc(Cl)cc4)CC3)c12</td>\n    </tr>\n    <tr>\n      <th>2</th>\n      <td>1</td>\n      <td>16.00</td>\n      <td>[80, 119, 193, 296, 314, 328, 352, 463, 588, 6...</td>\n      <td>O=C1c2ccccc2C(=O)N1CCCCN1CC=C(c2c[nH]c3ccc(F)c...</td>\n    </tr>\n    <tr>\n      <th>3</th>\n      <td>0</td>\n      <td>403.00</td>\n      <td>[1, 74, 80, 90, 227, 263, 378, 407, 448, 527, ...</td>\n      <td>OC(CCCN1CCN(c2ccccn2)CC1)c1ccc(F)cc1</td>\n    </tr>\n    <tr>\n      <th>4</th>\n      <td>0</td>\n      <td>1047.13</td>\n      <td>[9, 29, 80, 82, 114, 226, 249, 371, 387, 389, ...</td>\n      <td>COc1ccccc1C1CC1CNCCC1CCC(NC(=O)c2ccccc2)CC1</td>\n    </tr>\n  </tbody>\n</table>\n</div>"
     },
     "execution_count": 135,
     "metadata": {},
     "output_type": "execute_result"
    }
   ],
   "source": [
    "return_df = pd.concat(return_list)\n",
    "return_df.head()"
   ],
   "metadata": {
    "collapsed": false,
    "ExecuteTime": {
     "end_time": "2023-09-18T09:05:53.499532423Z",
     "start_time": "2023-09-18T09:05:53.416027483Z"
    }
   },
   "id": "43a04f8498a48857"
  },
  {
   "cell_type": "code",
   "execution_count": 136,
   "outputs": [],
   "source": [
    "return_df.to_parquet(path.replace('.parquet', '_ECFP.parquet'), index=False)"
   ],
   "metadata": {
    "collapsed": false,
    "ExecuteTime": {
     "end_time": "2023-09-18T09:05:55.373470769Z",
     "start_time": "2023-09-18T09:05:55.246157980Z"
    }
   },
   "id": "5221a27c9ecaaef8"
  },
  {
   "cell_type": "code",
   "execution_count": 12,
   "outputs": [],
   "source": [
    "# to nieważne\n",
    "\n",
    "def gen_ECFP(chunk, return_list):\n",
    "    chunk_copy = chunk.copy()\n",
    "    chunk_copy.drop(columns=['fps'], inplace=True)\n",
    "    chunk_copy['mol'] = chunk_copy['smiles'].apply(lambda x: Chem.MolFromSmiles(x))\n",
    "    chunk_copy['fps'] = chunk_copy['mol'].apply(lambda x: \n",
    "        rdMolDescriptors.GetMorganFingerprintAsBitVect(x, 2, nBits=2048))\n",
    "    chunk_copy.drop(columns=['mol'], inplace=True)\n",
    "    chunk_copy['fps'] = chunk_copy['fps'].apply(lambda x: list(x))\n",
    "    chunk_copy['fps'] = chunk_copy['fps'].apply(sparse2dense)\n",
    "    return_list.append(chunk_copy)\n",
    "    return"
   ],
   "metadata": {
    "collapsed": false,
    "ExecuteTime": {
     "start_time": "2023-09-17T08:04:14.227065058Z"
    }
   },
   "id": "84ce78acfee4ba85"
  },
  {
   "cell_type": "code",
   "execution_count": 18,
   "outputs": [],
   "source": [
    "alphabet = sf.get_alphabet_from_selfies(return_df['selfies'])"
   ],
   "metadata": {
    "collapsed": false,
    "ExecuteTime": {
     "end_time": "2023-09-16T20:06:50.038809440Z",
     "start_time": "2023-09-16T20:06:49.913438376Z"
    }
   },
   "id": "df49c924800c3b42"
  },
  {
   "cell_type": "markdown",
   "source": [],
   "metadata": {
    "collapsed": false
   },
   "id": "be3d1a34a48f1930"
  },
  {
   "cell_type": "code",
   "execution_count": 19,
   "outputs": [],
   "source": [
    "return_df.to_parquet(path)"
   ],
   "metadata": {
    "collapsed": false,
    "ExecuteTime": {
     "end_time": "2023-09-16T20:06:50.127094667Z",
     "start_time": "2023-09-16T20:06:50.078857611Z"
    }
   },
   "id": "ae2554cc89b5bf0"
  },
  {
   "cell_type": "code",
   "execution_count": 20,
   "outputs": [],
   "source": [
    "alphabet = list(alphabet)"
   ],
   "metadata": {
    "collapsed": false,
    "ExecuteTime": {
     "end_time": "2023-09-16T20:06:50.127558366Z",
     "start_time": "2023-09-16T20:06:50.126967309Z"
    }
   },
   "id": "f386a7c7915d2cd4"
  },
  {
   "cell_type": "code",
   "execution_count": 21,
   "outputs": [
    {
     "name": "stdout",
     "output_type": "stream",
     "text": [
      "['[#Branch1]', '[#Branch2]', '[#C]', '[#N]', '[=Branch1]', '[=Branch2]', '[=C]', '[=N]', '[=O]', '[=Ring1]', '[=Ring2]', '[=S]', '[Br]', '[Branch1]', '[Branch2]', '[C]', '[Cl]', '[F]', '[I]', '[N+1]', '[NH1]', '[N]', '[O]', '[P]', '[Ring1]', '[Ring2]', '[S]']\n"
     ]
    }
   ],
   "source": [
    "alphabet.sort()\n",
    "print(alphabet)"
   ],
   "metadata": {
    "collapsed": false,
    "ExecuteTime": {
     "end_time": "2023-09-16T20:06:50.128987762Z",
     "start_time": "2023-09-16T20:06:50.127336184Z"
    }
   },
   "id": "22cc22d2b43cddd3"
  },
  {
   "cell_type": "code",
   "execution_count": null,
   "outputs": [],
   "source": [],
   "metadata": {
    "collapsed": false
   },
   "id": "4ac667dbc785392c"
  }
 ],
 "metadata": {
  "kernelspec": {
   "display_name": "Python 3",
   "language": "python",
   "name": "python3"
  },
  "language_info": {
   "codemirror_mode": {
    "name": "ipython",
    "version": 2
   },
   "file_extension": ".py",
   "mimetype": "text/x-python",
   "name": "python",
   "nbconvert_exporter": "python",
   "pygments_lexer": "ipython2",
   "version": "2.7.6"
  }
 },
 "nbformat": 4,
 "nbformat_minor": 5
}
