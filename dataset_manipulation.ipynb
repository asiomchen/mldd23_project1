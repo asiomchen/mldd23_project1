{
 "cells": [
  {
   "cell_type": "code",
   "execution_count": 1,
   "id": "initial_id",
   "metadata": {
    "collapsed": true,
    "ExecuteTime": {
     "end_time": "2023-09-17T08:32:53.229436992Z",
     "start_time": "2023-09-17T08:32:52.522913832Z"
    }
   },
   "outputs": [],
   "source": [
    "import pandas as pd\n",
    "import numpy as np\n",
    "import rdkit.Chem as Chem\n",
    "import rdkit.Chem.MolStandardize.rdMolStandardize as rdMolStandardize\n",
    "import rdkit.Chem.rdMolDescriptors as rdMolDescriptors\n",
    "import rdkit.Chem.rdmolops as rdmolops\n",
    "import multiprocessing as mp\n",
    "import queue\n",
    "import time\n",
    "import selfies as sf"
   ]
  },
  {
   "cell_type": "code",
   "execution_count": 24,
   "outputs": [
    {
     "data": {
      "text/plain": "1222179"
     },
     "execution_count": 24,
     "metadata": {},
     "output_type": "execute_result"
    }
   ],
   "source": [
    "sf.set_semantic_constraints('hypervalent')\n",
    "\n",
    "path = 'data/train_data/big_dataset.parquet'\n",
    "df = pd.read_parquet(path)\n",
    "len(df)"
   ],
   "metadata": {
    "collapsed": false,
    "ExecuteTime": {
     "end_time": "2023-09-17T09:30:19.457670214Z",
     "start_time": "2023-09-17T09:30:09.260274011Z"
    }
   },
   "id": "55c3dd34cfe492ab"
  },
  {
   "cell_type": "code",
   "execution_count": 14,
   "outputs": [],
   "source": [
    "alphabet = pd.read_csv('data/alphabet.txt', header=None)[0].tolist()\n",
    "alphabet = set(alphabet)"
   ],
   "metadata": {
    "collapsed": false,
    "ExecuteTime": {
     "end_time": "2023-09-17T09:04:38.823056171Z",
     "start_time": "2023-09-17T09:04:38.785876988Z"
    }
   },
   "id": "f8acbc7aa1f637c5"
  },
  {
   "cell_type": "code",
   "execution_count": 16,
   "outputs": [],
   "source": [
    "def process(chunk, return_list, uncharger):\n",
    "    chunk_copy = chunk.copy()\n",
    "    # robie mol\n",
    "    chunk_copy['mol'] = chunk_copy['smiles'].apply(lambda x: Chem.MolFromSmiles(x))\n",
    "    # usuwam stereo\n",
    "    chunk_copy['mol'].apply(rdmolops.RemoveStereochemistry)\n",
    "    # usuwam ładunki\n",
    "    chunk_copy['mol'] = chunk_copy['mol'].apply(uncharger.uncharge)\n",
    "    # z powrotem do smiles\n",
    "    chunk_copy['smiles'] = chunk_copy['mol'].apply(lambda x: Chem.MolToSmiles(x))\n",
    "    # wypierdalam cząsteczki które nie da sie zakodować nowym alfabetem\n",
    "    chunk_copy['selfies'] = chunk_copy['smiles'].apply(lambda x: sf.encoder(smiles=x))\n",
    "    chunk_copy['tokens'] = chunk_copy['selfies'].apply(lambda x: set(sf.split_selfies(x)))\n",
    "    chunk_copy = chunk_copy[chunk_copy['tokens'].apply(lambda x: x.issubset(alphabet))]\n",
    "    # wypierdalam niepotrzebne kolumny\n",
    "    chunk_copy.drop(columns=['mol', 'tokens', 'selfies'], inplace=True)\n",
    "    # do return list (multiprocessing)\n",
    "    return_list.append(chunk_copy)\n",
    "    return None"
   ],
   "metadata": {
    "collapsed": false,
    "ExecuteTime": {
     "end_time": "2023-09-17T09:04:52.027212009Z",
     "start_time": "2023-09-17T09:04:52.000252356Z"
    }
   },
   "id": "8f7b1b78e6c54492"
  },
  {
   "cell_type": "code",
   "execution_count": 22,
   "outputs": [
    {
     "name": "stdout",
     "output_type": "stream",
     "text": [
      "Number of workers: 8\n",
      "(mp) Processes in queue:  12\n",
      "(mp) Processes in queue:  10\n",
      "(mp) Processes in queue:  5\n",
      "(mp) Processes in queue:  0\n",
      "(mp) Queue handled successfully\n"
     ]
    }
   ],
   "source": [
    "from rdkit import RDLogger\n",
    "RDLogger.DisableLog('rdApp.info')  \n",
    "\n",
    "# multiprocessing\n",
    "manager = mp.Manager()\n",
    "return_list = manager.list()\n",
    "cpus = mp.cpu_count()\n",
    "verbosity = 1\n",
    "uc = rdMolStandardize.Uncharger()\n",
    "\n",
    "print(\"Number of workers:\", cpus) if verbosity > 0 else None\n",
    "q = queue.Queue()\n",
    "\n",
    "# prepare a process for each file and add to queue\n",
    "chunk_size = 100000\n",
    "n_chunks = int(len(df) / chunk_size) + 1 if len(df) % chunk_size != 0 else int(len(df) / chunk_size)\n",
    "chunks = [df[i * chunk_size:(i + 1) * chunk_size] for i in range(n_chunks)]\n",
    "for chunk in chunks:\n",
    "    proc = mp.Process(target=process, args=(chunk, return_list, uc))\n",
    "    q.put(proc)\n",
    "\n",
    "print('(mp) Processes in queue: ', q.qsize()) if verbosity > 0 else None\n",
    "\n",
    "# handle the queue\n",
    "processes = []\n",
    "while True:\n",
    "    if q.empty():\n",
    "        print(\"(mp) Queue handled successfully\") if verbosity > 0 else None\n",
    "        break\n",
    "    if len(mp.active_children()) < cpus:\n",
    "        proc = q.get()\n",
    "        proc.start()\n",
    "        if q.qsize() % 5 == 0:\n",
    "            print('(mp) Processes in queue: ', q.qsize()) if verbosity > 0 else None\n",
    "        processes.append(proc)\n",
    "    time.sleep(1)\n",
    "\n",
    "# complete the processes\n",
    "for proc in processes:\n",
    "    proc.join()"
   ],
   "metadata": {
    "collapsed": false,
    "ExecuteTime": {
     "end_time": "2023-09-17T09:19:47.528500677Z",
     "start_time": "2023-09-17T09:19:32.992485374Z"
    }
   },
   "id": "c10b644bb33137f1"
  },
  {
   "cell_type": "code",
   "execution_count": 23,
   "outputs": [
    {
     "data": {
      "text/plain": "1163393"
     },
     "execution_count": 23,
     "metadata": {},
     "output_type": "execute_result"
    }
   ],
   "source": [
    "return_df = return_list[0]\n",
    "for df_i in return_list[1:]:\n",
    "    return_df = pd.concat((return_df, df_i), axis=0)\n",
    "    return_df.reset_index(drop=True, inplace=True)\n",
    "len(return_df)"
   ],
   "metadata": {
    "collapsed": false,
    "ExecuteTime": {
     "end_time": "2023-09-17T09:20:03.007236432Z",
     "start_time": "2023-09-17T09:19:50.920209248Z"
    }
   },
   "id": "b132e6c2e9c66beb"
  },
  {
   "cell_type": "code",
   "execution_count": null,
   "outputs": [],
   "source": [
    "return_df.to_parquet(path.replace('.parquet', '_standardized.parquet')))"
   ],
   "metadata": {
    "collapsed": false
   },
   "id": "5221a27c9ecaaef8"
  },
  {
   "cell_type": "code",
   "execution_count": 12,
   "outputs": [],
   "source": [
    "# to nieważne\n",
    "\n",
    "def gen_ECFP(chunk, return_list):\n",
    "    chunk_copy = chunk.copy()\n",
    "    chunk_copy.drop(columns=['fps'], inplace=True)\n",
    "    chunk_copy['mol'] = chunk_copy['smiles'].apply(lambda x: Chem.MolFromSmiles(x))\n",
    "    chunk_copy['fps'] = chunk_copy['mol'].apply(lambda x: \n",
    "        rdMolDescriptors.GetMorganFingerprintAsBitVect(x, 2, nBits=2048))\n",
    "    chunk_copy.drop(columns=['mol'], inplace=True)\n",
    "    chunk_copy['fps'] = chunk_copy['fps'].apply(lambda x: list(x))\n",
    "    return_list.append(chunk_copy)\n",
    "    return"
   ],
   "metadata": {
    "collapsed": false,
    "ExecuteTime": {
     "start_time": "2023-09-17T08:04:14.227065058Z"
    }
   },
   "id": "84ce78acfee4ba85"
  },
  {
   "cell_type": "code",
   "execution_count": 18,
   "outputs": [],
   "source": [
    "alphabet = sf.get_alphabet_from_selfies(return_df['selfies'])"
   ],
   "metadata": {
    "collapsed": false,
    "ExecuteTime": {
     "end_time": "2023-09-16T20:06:50.038809440Z",
     "start_time": "2023-09-16T20:06:49.913438376Z"
    }
   },
   "id": "df49c924800c3b42"
  },
  {
   "cell_type": "markdown",
   "source": [],
   "metadata": {
    "collapsed": false
   },
   "id": "be3d1a34a48f1930"
  },
  {
   "cell_type": "code",
   "execution_count": 19,
   "outputs": [],
   "source": [
    "return_df.to_parquet(path)"
   ],
   "metadata": {
    "collapsed": false,
    "ExecuteTime": {
     "end_time": "2023-09-16T20:06:50.127094667Z",
     "start_time": "2023-09-16T20:06:50.078857611Z"
    }
   },
   "id": "ae2554cc89b5bf0"
  },
  {
   "cell_type": "code",
   "execution_count": 20,
   "outputs": [],
   "source": [
    "alphabet = list(alphabet)"
   ],
   "metadata": {
    "collapsed": false,
    "ExecuteTime": {
     "end_time": "2023-09-16T20:06:50.127558366Z",
     "start_time": "2023-09-16T20:06:50.126967309Z"
    }
   },
   "id": "f386a7c7915d2cd4"
  },
  {
   "cell_type": "code",
   "execution_count": 21,
   "outputs": [
    {
     "name": "stdout",
     "output_type": "stream",
     "text": [
      "['[#Branch1]', '[#Branch2]', '[#C]', '[#N]', '[=Branch1]', '[=Branch2]', '[=C]', '[=N]', '[=O]', '[=Ring1]', '[=Ring2]', '[=S]', '[Br]', '[Branch1]', '[Branch2]', '[C]', '[Cl]', '[F]', '[I]', '[N+1]', '[NH1]', '[N]', '[O]', '[P]', '[Ring1]', '[Ring2]', '[S]']\n"
     ]
    }
   ],
   "source": [
    "alphabet.sort()\n",
    "print(alphabet)"
   ],
   "metadata": {
    "collapsed": false,
    "ExecuteTime": {
     "end_time": "2023-09-16T20:06:50.128987762Z",
     "start_time": "2023-09-16T20:06:50.127336184Z"
    }
   },
   "id": "22cc22d2b43cddd3"
  },
  {
   "cell_type": "code",
   "execution_count": null,
   "outputs": [],
   "source": [],
   "metadata": {
    "collapsed": false
   },
   "id": "4ac667dbc785392c"
  }
 ],
 "metadata": {
  "kernelspec": {
   "display_name": "Python 3",
   "language": "python",
   "name": "python3"
  },
  "language_info": {
   "codemirror_mode": {
    "name": "ipython",
    "version": 2
   },
   "file_extension": ".py",
   "mimetype": "text/x-python",
   "name": "python",
   "nbconvert_exporter": "python",
   "pygments_lexer": "ipython2",
   "version": "2.7.6"
  }
 },
 "nbformat": 4,
 "nbformat_minor": 5
}
