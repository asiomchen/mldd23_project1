{
 "cells": [
  {
   "cell_type": "code",
   "execution_count": 27,
   "id": "initial_id",
   "metadata": {
    "collapsed": true,
    "ExecuteTime": {
     "end_time": "2023-09-16T12:42:51.507977313Z",
     "start_time": "2023-09-16T12:42:51.459707666Z"
    }
   },
   "outputs": [],
   "source": [
    "import pandas as pd\n",
    "import numpy as np\n",
    "import rdkit.Chem as Chem\n",
    "import rdkit.Chem.MolStandardize.rdMolStandardize as rdMolStandardize\n",
    "import rdkit.Chem.rdMolDescriptors as rdMolDescriptors\n",
    "import rdkit.Chem.rdmolops as rdmolops\n",
    "import multiprocessing as mp\n",
    "import queue\n",
    "import time\n",
    "import selfies as sf"
   ]
  },
  {
   "cell_type": "code",
   "execution_count": 61,
   "outputs": [
    {
     "data": {
      "text/plain": "10170"
     },
     "execution_count": 61,
     "metadata": {},
     "output_type": "execute_result"
    }
   ],
   "source": [
    "path = 'data/activity_data/d2_klek_100nM.parquet'\n",
    "df = pd.read_parquet(path)\n",
    "len(df)"
   ],
   "metadata": {
    "collapsed": false,
    "ExecuteTime": {
     "end_time": "2023-09-16T13:07:00.724895411Z",
     "start_time": "2023-09-16T13:07:00.622413457Z"
    }
   },
   "id": "55c3dd34cfe492ab"
  },
  {
   "cell_type": "code",
   "execution_count": 62,
   "outputs": [],
   "source": [
    "alphabet = pd.read_csv('data/alphabet.txt', header=None)[0].tolist()\n",
    "alphabet = set(alphabet)"
   ],
   "metadata": {
    "collapsed": false,
    "ExecuteTime": {
     "end_time": "2023-09-16T13:07:01.654799032Z",
     "start_time": "2023-09-16T13:07:01.642201028Z"
    }
   },
   "id": "f8acbc7aa1f637c5"
  },
  {
   "cell_type": "code",
   "execution_count": 63,
   "outputs": [],
   "source": [
    "def process(chunk, return_list, uc):\n",
    "    chunk_copy = chunk.copy()\n",
    "    chunk_copy['mol'] = chunk_copy['smiles'].apply(lambda x: Chem.MolFromSmiles(x))\n",
    "    chunk_copy['mol'].apply(rdmolops.RemoveStereochemistry)\n",
    "    chunk_copy['mol'] = chunk_copy['mol'].apply(uc.uncharge)\n",
    "    chunk_copy['smiles'] = chunk_copy['mol'].apply(lambda x: Chem.MolToSmiles(x))\n",
    "    chunk_copy['selfies'] = chunk_copy['smiles'].apply(lambda x: sf.encoder(smiles=x))\n",
    "    chunk_copy['tokens'] = chunk_copy['selfies'].apply(lambda x: set(sf.split_selfies(x)))\n",
    "    chunk_copy['is_in_alph'] = chunk_copy['tokens'].apply(lambda x: x.issubset(alphabet))\n",
    "    chunk_copy = chunk_copy[chunk_copy['is_in_alph'] == True]\n",
    "    chunk_copy.drop(columns=['mol', 'tokens', 'is_in_alph'], inplace=True)\n",
    "    return_list.append(chunk_copy)\n",
    "    return"
   ],
   "metadata": {
    "collapsed": false,
    "ExecuteTime": {
     "end_time": "2023-09-16T13:07:02.562465049Z",
     "start_time": "2023-09-16T13:07:02.553832646Z"
    }
   },
   "id": "8f7b1b78e6c54492"
  },
  {
   "cell_type": "code",
   "execution_count": 64,
   "outputs": [
    {
     "name": "stdout",
     "output_type": "stream",
     "text": [
      "Number of workers: 8\n",
      "(mp) Processes in queue:  11\n",
      "(mp) Processes in queue:  10\n",
      "(mp) Processes in queue:  5\n",
      "(mp) Processes in queue:  0\n",
      "(mp) Queue handled successfully\n"
     ]
    }
   ],
   "source": [
    "from rdkit import RDLogger\n",
    "RDLogger.DisableLog('rdApp.info')  \n",
    "sf.set_semantic_constraints('hypervalent')\n",
    "\n",
    "# multiprocessing\n",
    "manager = mp.Manager()\n",
    "return_list = manager.list()\n",
    "cpus = mp.cpu_count()\n",
    "verbosity = 1\n",
    "uc = rdMolStandardize.Uncharger()\n",
    "\n",
    "print(\"Number of workers:\", cpus) if verbosity > 0 else None\n",
    "q = queue.Queue()\n",
    "\n",
    "# prepare a process for each file and add to queue\n",
    "chunk_size = 1000\n",
    "n_chunks = int(len(df) / chunk_size) + 1 if len(df) % chunk_size != 0 else int(len(df) / chunk_size)\n",
    "chunks = [df[i * chunk_size:(i + 1) * chunk_size] for i in range(n_chunks)]\n",
    "for chunk in chunks:\n",
    "    proc = mp.Process(target=process, args=(chunk, return_list, uc))\n",
    "    q.put(proc)\n",
    "\n",
    "print('(mp) Processes in queue: ', q.qsize()) if verbosity > 0 else None\n",
    "\n",
    "# handle the queue\n",
    "processes = []\n",
    "while True:\n",
    "    if q.empty():\n",
    "        print(\"(mp) Queue handled successfully\") if verbosity > 0 else None\n",
    "        break\n",
    "    if len(mp.active_children()) < cpus:\n",
    "        proc = q.get()\n",
    "        proc.start()\n",
    "        if q.qsize() % 5 == 0:\n",
    "            print('(mp) Processes in queue: ', q.qsize()) if verbosity > 0 else None\n",
    "        processes.append(proc)\n",
    "    time.sleep(1)\n",
    "\n",
    "# complete the processes\n",
    "for proc in processes:\n",
    "    proc.join()"
   ],
   "metadata": {
    "collapsed": false,
    "ExecuteTime": {
     "end_time": "2023-09-16T13:07:15.977150062Z",
     "start_time": "2023-09-16T13:07:03.675230329Z"
    }
   },
   "id": "c10b644bb33137f1"
  },
  {
   "cell_type": "code",
   "execution_count": 65,
   "outputs": [
    {
     "data": {
      "text/plain": "9391"
     },
     "execution_count": 65,
     "metadata": {},
     "output_type": "execute_result"
    }
   ],
   "source": [
    "return_df = pd.concat(return_list)\n",
    "len(return_df)"
   ],
   "metadata": {
    "collapsed": false,
    "ExecuteTime": {
     "end_time": "2023-09-16T13:07:16.947875890Z",
     "start_time": "2023-09-16T13:07:16.827933390Z"
    }
   },
   "id": "b132e6c2e9c66beb"
  },
  {
   "cell_type": "code",
   "execution_count": 66,
   "outputs": [],
   "source": [
    "alphabet = sf.get_alphabet_from_selfies(return_df['selfies'])"
   ],
   "metadata": {
    "collapsed": false,
    "ExecuteTime": {
     "end_time": "2023-09-16T13:07:20.162733880Z",
     "start_time": "2023-09-16T13:07:19.647342406Z"
    }
   },
   "id": "df49c924800c3b42"
  },
  {
   "cell_type": "code",
   "execution_count": 67,
   "outputs": [],
   "source": [
    "return_df.drop(columns=['selfies']).to_parquet(path.replace('.parquet', '_standardized.parquet'))"
   ],
   "metadata": {
    "collapsed": false,
    "ExecuteTime": {
     "end_time": "2023-09-16T13:07:23.349391078Z",
     "start_time": "2023-09-16T13:07:23.220572089Z"
    }
   },
   "id": "ae2554cc89b5bf0"
  },
  {
   "cell_type": "code",
   "execution_count": 68,
   "outputs": [],
   "source": [
    "alphabet = list(alphabet)"
   ],
   "metadata": {
    "collapsed": false,
    "ExecuteTime": {
     "end_time": "2023-09-16T13:07:28.461894017Z",
     "start_time": "2023-09-16T13:07:28.453794911Z"
    }
   },
   "id": "f386a7c7915d2cd4"
  },
  {
   "cell_type": "code",
   "execution_count": 69,
   "outputs": [
    {
     "name": "stdout",
     "output_type": "stream",
     "text": [
      "['[#Branch1]', '[#Branch2]', '[#C]', '[#N]', '[=Branch1]', '[=Branch2]', '[=C]', '[=N]', '[=O]', '[=Ring1]', '[=Ring2]', '[=S]', '[Br]', '[Branch1]', '[Branch2]', '[C]', '[Cl]', '[F]', '[I]', '[N+1]', '[NH1]', '[N]', '[O]', '[P]', '[Ring1]', '[Ring2]', '[S]']\n"
     ]
    }
   ],
   "source": [
    "alphabet.sort()\n",
    "print(alphabet)"
   ],
   "metadata": {
    "collapsed": false,
    "ExecuteTime": {
     "end_time": "2023-09-16T13:07:28.787683096Z",
     "start_time": "2023-09-16T13:07:28.778340118Z"
    }
   },
   "id": "22cc22d2b43cddd3"
  },
  {
   "cell_type": "code",
   "execution_count": null,
   "outputs": [],
   "source": [],
   "metadata": {
    "collapsed": false
   },
   "id": "4ac667dbc785392c"
  }
 ],
 "metadata": {
  "kernelspec": {
   "display_name": "Python 3",
   "language": "python",
   "name": "python3"
  },
  "language_info": {
   "codemirror_mode": {
    "name": "ipython",
    "version": 2
   },
   "file_extension": ".py",
   "mimetype": "text/x-python",
   "name": "python",
   "nbconvert_exporter": "python",
   "pygments_lexer": "ipython2",
   "version": "2.7.6"
  }
 },
 "nbformat": 4,
 "nbformat_minor": 5
}
