{
 "cells": [
  {
   "cell_type": "code",
   "execution_count": 1,
   "id": "6ef6f3f5",
   "metadata": {},
   "outputs": [],
   "source": [
    "import torch\n",
    "import torch.nn as nn\n",
    "import torch.optim as optim\n",
    "import torch.utils.data as data_utils\n",
    "import torch.functional as F\n",
    "import numpy as np\n",
    "import pandas as pd\n",
    "from tqdm import tqdm_notebook\n",
    "import time\n",
    "\n",
    "device = torch.device('cuda' if torch.cuda.is_available() else 'cpu')"
   ]
  },
  {
   "cell_type": "markdown",
   "id": "f16dfcb1",
   "metadata": {},
   "source": [
    "# Data prep"
   ]
  },
  {
   "cell_type": "code",
   "execution_count": 2,
   "id": "8a3fbcdb",
   "metadata": {},
   "outputs": [],
   "source": [
    "import selfies as sf\n",
    "data = pd.read_csv('./GRU_data/selfies.csv', header=None, names=['selfies'])\n",
    "alphabet = sf.get_alphabet_from_selfies(data.selfies)\n",
    "alphabet.add(\"[nop]\") # [nop] is a special padding symbol\n",
    "alphabet.add(\"[start]\")\n",
    "alphabet.add(\"[end]\")\n",
    "alphabet = list(sorted(alphabet))\n",
    "#pad_to_len = max(sf.len_selfies(s) for s in data.selfies) + 5\n",
    "pad_to_len = 128\n",
    "symbol_to_idx = {s: i for i, s in enumerate(alphabet)}\n",
    "idx2char = {i: s for i, s in enumerate(alphabet)}"
   ]
  },
  {
   "cell_type": "code",
   "execution_count": 3,
   "id": "72177872",
   "metadata": {},
   "outputs": [
    {
     "data": {
      "text/plain": [
       "42"
      ]
     },
     "execution_count": 3,
     "metadata": {},
     "output_type": "execute_result"
    }
   ],
   "source": [
    "len(alphabet)"
   ]
  },
  {
   "cell_type": "code",
   "execution_count": 4,
   "id": "f3ca0a18",
   "metadata": {},
   "outputs": [],
   "source": [
    "from torch.utils.data import Dataset, DataLoader\n",
    "\n",
    "class GRUDataset(Dataset):\n",
    "    def __init__(self, smiles_fp, selfies, vectorizer):\n",
    "        self.smiles_fp = pd.read_csv(smiles_fp, sep=',', nrows=10000)\n",
    "        self.selfies = pd.read_csv(selfies, nrows=10000)\n",
    "        self.X = self.prepare_X(self.smiles_fp)\n",
    "        self.X = np.array([self.reconstruct_fp(fp) for fp in self.X])\n",
    "        self.y = self.prepare_y(self.selfies)\n",
    "    def __len__(self):\n",
    "        return len(self.smiles_fp)\n",
    "    def __getitem__(self, idx):\n",
    "        raw_selfie = self.y[idx][0]\n",
    "        vectorized_selfie = vectorizer.vectorize(raw_selfie)\n",
    "        return torch.from_numpy(self.X[idx]).float(), torch.from_numpy(vectorized_selfie).float()\n",
    "\n",
    "    @staticmethod\n",
    "    def prepare_X(smiles_fp):\n",
    "        fps = smiles_fp.fps.apply(eval).apply(lambda x: np.array(x, dtype=int))\n",
    "        return fps\n",
    "    @staticmethod\n",
    "    def prepare_y(selfies):\n",
    "        return selfies.values\n",
    "    @staticmethod\n",
    "    def reconstruct_fp(fp, length=4860):\n",
    "        fp_rec = np.zeros(length)\n",
    "        fp_rec[fp] = 1\n",
    "        return fp_rec"
   ]
  },
  {
   "cell_type": "code",
   "execution_count": 5,
   "id": "f55a6d94",
   "metadata": {},
   "outputs": [],
   "source": [
    "import re\n",
    "class SELFIESVectorizer:\n",
    "    def __init__(self, alphabet, pad_to_len):\n",
    "        self.alphabet = alphabet\n",
    "        self.pad_to_len = pad_to_len\n",
    "        self.char2idx = {s: i for i, s in enumerate(alphabet)}\n",
    "        self.idx2char = {i: s for i, s in enumerate(alphabet)}\n",
    "    def vectorize(self, selfie):\n",
    "        ''' Vectorize a list of SMILES strings to a numpy array of shape (len(smiles), embed, len(charset))'''\n",
    "        X = np.zeros((self.pad_to_len, len(self.alphabet)))\n",
    "        splited = ['[start]'] + self.split_selfi(selfie) + ['[end]'] + ['[nop]'] * (self.pad_to_len - len(self.split_selfi(selfie)) - 2)\n",
    "        for i, char in enumerate(splited):\n",
    "            X[i, self.char2idx[char]] = 1\n",
    "        return X\n",
    "    def devectorize(self, ohe):\n",
    "        ''' Devectorize a numpy array of shape (len(smiles), embed, len(charset)) to a list of SMILES strings'''\n",
    "        selfie_str = ''\n",
    "        for j in range(self.pad_to_len):\n",
    "            char = self.idx2char[np.argmax(ohe[j])]\n",
    "            if char == '[start]':\n",
    "                continue\n",
    "            elif char == '[end]':\n",
    "                break\n",
    "            else:\n",
    "                selfie_str += char\n",
    "        return selfie_str\n",
    "\n",
    "    def split_selfi(self, selfie):\n",
    "        pattern = r'(\\[[^\\[\\]]*\\])'\n",
    "        return re.findall(pattern, selfie)"
   ]
  },
  {
   "cell_type": "code",
   "execution_count": 6,
   "id": "70924816",
   "metadata": {},
   "outputs": [],
   "source": [
    "vectorizer = SELFIESVectorizer(alphabet, pad_to_len)\n",
    "dataset = GRUDataset('GRU_data/chembl_klek.csv', 'GRU_data/selfies.csv', vectorizer)"
   ]
  },
  {
   "cell_type": "code",
   "execution_count": 7,
   "id": "062168b4",
   "metadata": {},
   "outputs": [],
   "source": [
    "train_size = int(0.9 * len(dataset))\n",
    "test_size = len(dataset) - train_size\n",
    "train_dataset, test_dataset = torch.utils.data.random_split(dataset, [train_size, test_size])"
   ]
  },
  {
   "cell_type": "code",
   "execution_count": 8,
   "id": "da4f014e",
   "metadata": {},
   "outputs": [
    {
     "data": {
      "text/plain": [
       "torch.Size([64, 4860])"
      ]
     },
     "execution_count": 8,
     "metadata": {},
     "output_type": "execute_result"
    }
   ],
   "source": [
    "batch_size = 64\n",
    "train_loader = DataLoader(train_dataset, shuffle=True, batch_size=batch_size, drop_last=True)\n",
    "test_loader = DataLoader(test_dataset, shuffle=False, batch_size=batch_size, drop_last=True)\n",
    "next(iter(train_loader))[0].shape"
   ]
  },
  {
   "cell_type": "markdown",
   "id": "02f39daf",
   "metadata": {},
   "source": [
    "# NN architecture"
   ]
  },
  {
   "cell_type": "code",
   "execution_count": 63,
   "id": "8248e95c",
   "metadata": {},
   "outputs": [],
   "source": [
    "import random\n",
    "\n",
    "class EncoderNet(nn.Module):\n",
    "    def __init__(self, fp_size, encoding_size):\n",
    "        super(EncoderNet, self).__init__()\n",
    "        self.relu = nn.ReLU()\n",
    "        self.fc1 = nn.Linear(fp_size, 2048)\n",
    "        self.fc2 = nn.Linear(2048, 1024)\n",
    "        self.fc3 = nn.Linear(1024, 512)\n",
    "        self.fc4 = nn.Linear(512, 256)\n",
    "        self.fc5 = nn.Linear(256, encoding_size)\n",
    "\n",
    "    def forward(self, x):\n",
    "        out = self.relu(self.fc1(x))\n",
    "        out = self.relu(self.fc2(out))\n",
    "        out = self.relu(self.fc3(out))\n",
    "        out = self.relu(self.fc4(out))\n",
    "        out = self.relu(self.fc5(out))\n",
    "        return out\n",
    "\n",
    "class DecoderNet(nn.Module):\n",
    "    def __init__(self, input_size, hidden_size, output_size, num_layers, drop_prob):\n",
    "        super(DecoderNet, self).__init__()\n",
    "        self.hidden_size = hidden_size\n",
    "        self.num_layers = num_layers\n",
    "        self.gru = nn.GRU(input_size, hidden_size, num_layers, dropout=drop_prob, batch_first=True)\n",
    "        self.fc = nn.Linear(hidden_size, output_size)\n",
    "        self.softmax = nn.Softmax(dim=2)\n",
    "        self.max_len = vectorizer.pad_to_len\n",
    "\n",
    "    def forward(self, encoded):\n",
    "        batch_size = encoded.size(0)\n",
    "        hidden = self.init_hidden(encoded)\n",
    "        start_vector = vectorizer.vectorize('[start]')\n",
    "        start_vector = torch.from_numpy(start_vector).float().to(device)\n",
    "        start_vector = start_vector.unsqueeze(0)\n",
    "        start_vector = start_vector.repeat(batch_size, 1, 1)\n",
    "        decoded, hidden = self.gru(start_vector, hidden)\n",
    "        decoded = self.fc(decoded)\n",
    "        return decoded\n",
    "\n",
    "    def init_hidden(self, encoded):\n",
    "        return encoded.unsqueeze(0).repeat(self.num_layers, 1, 1).to(device)\n",
    "    \n",
    "class Autoencoder(nn.Module):\n",
    "    def __init__(self, input_size=4860, encoding_size=128, decoding_size=128, output_size=42, num_layers=2, drop_prob=0.1):\n",
    "        super(Autoencoder, self).__init__()\n",
    "        self.encoder = EncoderNet(input_size, encoding_size)\n",
    "        self.decoder = DecoderNet(output_size, decoding_size, output_size, num_layers, drop_prob)\n",
    "\n",
    "    def forward(self, x):\n",
    "        encoded = self.encoder(x)\n",
    "        decoded = self.decoder(encoded)\n",
    "        return encoded, decoded"
   ]
  },
  {
   "cell_type": "code",
   "execution_count": 64,
   "id": "1f37f3df",
   "metadata": {},
   "outputs": [],
   "source": [
    "encoder = EncoderNet(4860, 128).to(device)\n",
    "decoder = DecoderNet(42, 128, 42, 2, 0.1).to(device)\n",
    "test_batch = next(iter(train_loader))[0].to(device)"
   ]
  },
  {
   "cell_type": "code",
   "execution_count": 65,
   "id": "5ab9b122",
   "metadata": {},
   "outputs": [
    {
     "name": "stdout",
     "output_type": "stream",
     "text": [
      "Test batch shape: torch.Size([64, 4860])\n",
      "Encoded shape: torch.Size([64, 128])\n",
      "Encoded: tensor([0.0000, 0.0000, 0.0364, 0.0000, 0.0000], device='cuda:0',\n",
      "       grad_fn=<SliceBackward0>)\n"
     ]
    }
   ],
   "source": [
    "print(f'Test batch shape: {test_batch.shape}')\n",
    "encoded = encoder(test_batch)\n",
    "print(f'Encoded shape: {encoded.shape}')\n",
    "print(f'Encoded: {encoded[0, :5]}')"
   ]
  },
  {
   "cell_type": "code",
   "execution_count": 66,
   "id": "54cfdfba",
   "metadata": {},
   "outputs": [
    {
     "name": "stdout",
     "output_type": "stream",
     "text": [
      "Decoded shape: torch.Size([64, 128, 42])\n"
     ]
    }
   ],
   "source": [
    "decoded = decoder(encoded)\n",
    "print(f'Decoded shape: {decoded.shape}')"
   ]
  },
  {
   "cell_type": "code",
   "execution_count": 78,
   "id": "a208610a",
   "metadata": {},
   "outputs": [],
   "source": [
    "model = Autoencoder(4860, 128, 128, 42, 2, 0.1).to(device)"
   ]
  },
  {
   "cell_type": "code",
   "execution_count": 79,
   "id": "f2893d40",
   "metadata": {},
   "outputs": [
    {
     "name": "stdout",
     "output_type": "stream",
     "text": [
      "Encoded shape: torch.Size([64, 128])\n",
      "Decoded shape: torch.Size([64, 128, 42])\n"
     ]
    }
   ],
   "source": [
    "with torch.no_grad():\n",
    "    encoded, decoded = model(test_batch)\n",
    "    print(f'Encoded shape: {encoded.shape}')\n",
    "    print(f'Decoded shape: {decoded.shape}')"
   ]
  },
  {
   "cell_type": "markdown",
   "id": "c3f697df",
   "metadata": {},
   "source": [
    "# Training"
   ]
  },
  {
   "cell_type": "code",
   "execution_count": 80,
   "id": "36f20c92",
   "metadata": {},
   "outputs": [],
   "source": [
    "def train(autoencoder, dataloader, num_epochs=10, device=device):\n",
    "    learning_rate = 0.001\n",
    "\n",
    "    criterion = nn.CrossEntropyLoss()\n",
    "    optimizer = optim.Adam(autoencoder.parameters(), lr=learning_rate)\n",
    "\n",
    "    # Training loop\n",
    "    print('Training started')\n",
    "    for epoch in range(num_epochs):\n",
    "        start_time = time.time()\n",
    "        avg_loss = 0.\n",
    "        counter = 0\n",
    "        for x, y in dataloader:\n",
    "            x = x.to(device)\n",
    "            y = y.to(device)\n",
    "            optimizer.zero_grad()\n",
    "            encoded, decoded = autoencoder(x)\n",
    "            loss = criterion(decoded, y)\n",
    "            loss.backward()\n",
    "            optimizer.step()\n",
    "            \n",
    "        print(f\"Epoch [{epoch+1}/{num_epochs}], Loss: {loss.item():.4f}\")\n",
    "        \n",
    "    return autoencoder"
   ]
  },
  {
   "cell_type": "code",
   "execution_count": 81,
   "id": "8ce62391",
   "metadata": {
    "scrolled": true
   },
   "outputs": [],
   "source": [
    "# input_size = 4860\n",
    "# encoding_size = 128\n",
    "# decoding_size = 128\n",
    "# output_size = 42\n",
    "# num_layers = 2\n",
    "\n",
    "# model = Autoencoder(input_size=input_size, encoding_size=encoding_size, decoding_size=decoding_size,\n",
    "#                     output_size=output_size, num_layers=num_layers, drop_prob=0.2).to(device)\n"
   ]
  },
  {
   "cell_type": "code",
   "execution_count": 82,
   "id": "8650a0db",
   "metadata": {},
   "outputs": [
    {
     "name": "stdout",
     "output_type": "stream",
     "text": [
      "Training started\n",
      "Epoch [1/100], Loss: 13.1353\n",
      "Epoch [2/100], Loss: 13.0825\n",
      "Epoch [3/100], Loss: 13.0945\n",
      "Epoch [4/100], Loss: 12.9774\n",
      "Epoch [5/100], Loss: 12.8989\n",
      "Epoch [6/100], Loss: 13.0180\n",
      "Epoch [7/100], Loss: 13.1643\n",
      "Epoch [8/100], Loss: 12.9321\n",
      "Epoch [9/100], Loss: 13.0046\n",
      "Epoch [10/100], Loss: 12.9978\n",
      "Epoch [11/100], Loss: 12.9316\n",
      "Epoch [12/100], Loss: 12.9728\n",
      "Epoch [13/100], Loss: 13.0060\n",
      "Epoch [14/100], Loss: 12.9378\n",
      "Epoch [15/100], Loss: 12.9461\n",
      "Epoch [16/100], Loss: 12.9096\n",
      "Epoch [17/100], Loss: 12.9425\n",
      "Epoch [18/100], Loss: 12.9138\n",
      "Epoch [19/100], Loss: 12.8969\n",
      "Epoch [20/100], Loss: 12.9271\n",
      "Epoch [21/100], Loss: 12.9969\n",
      "Epoch [22/100], Loss: 12.8832\n",
      "Epoch [23/100], Loss: 12.9227\n",
      "Epoch [24/100], Loss: 12.9055\n",
      "Epoch [25/100], Loss: 12.8463\n",
      "Epoch [26/100], Loss: 12.9162\n",
      "Epoch [27/100], Loss: 12.8398\n",
      "Epoch [28/100], Loss: 12.9060\n",
      "Epoch [29/100], Loss: 12.8507\n",
      "Epoch [30/100], Loss: 12.8669\n",
      "Epoch [31/100], Loss: 12.8170\n",
      "Epoch [32/100], Loss: 12.7917\n",
      "Epoch [33/100], Loss: 12.8517\n",
      "Epoch [34/100], Loss: 12.8337\n",
      "Epoch [35/100], Loss: 12.8171\n",
      "Epoch [36/100], Loss: 12.8283\n",
      "Epoch [37/100], Loss: 12.8057\n",
      "Epoch [38/100], Loss: 12.8365\n",
      "Epoch [39/100], Loss: 12.7789\n",
      "Epoch [40/100], Loss: 12.8002\n",
      "Epoch [41/100], Loss: 12.7152\n",
      "Epoch [42/100], Loss: 12.8305\n",
      "Epoch [43/100], Loss: 12.7575\n",
      "Epoch [44/100], Loss: 12.7994\n",
      "Epoch [45/100], Loss: 12.7533\n",
      "Epoch [46/100], Loss: 12.8244\n",
      "Epoch [47/100], Loss: 12.7727\n",
      "Epoch [48/100], Loss: 12.7460\n",
      "Epoch [49/100], Loss: 12.8131\n",
      "Epoch [50/100], Loss: 12.7530\n",
      "Epoch [51/100], Loss: 12.7830\n",
      "Epoch [52/100], Loss: 12.7465\n",
      "Epoch [53/100], Loss: 12.7190\n",
      "Epoch [54/100], Loss: 12.7313\n",
      "Epoch [55/100], Loss: 12.7326\n",
      "Epoch [56/100], Loss: 12.7090\n",
      "Epoch [57/100], Loss: 12.7879\n",
      "Epoch [58/100], Loss: 12.7675\n",
      "Epoch [59/100], Loss: 12.7537\n",
      "Epoch [60/100], Loss: 12.7329\n",
      "Epoch [61/100], Loss: 12.7829\n",
      "Epoch [62/100], Loss: 12.7922\n",
      "Epoch [63/100], Loss: 12.7182\n",
      "Epoch [64/100], Loss: 12.7720\n",
      "Epoch [65/100], Loss: 12.7695\n",
      "Epoch [66/100], Loss: 12.7746\n",
      "Epoch [67/100], Loss: 12.7517\n",
      "Epoch [68/100], Loss: 12.7534\n",
      "Epoch [69/100], Loss: 12.7638\n",
      "Epoch [70/100], Loss: 12.6653\n",
      "Epoch [71/100], Loss: 12.8045\n",
      "Epoch [72/100], Loss: 12.6899\n",
      "Epoch [73/100], Loss: 12.7909\n",
      "Epoch [74/100], Loss: 12.7635\n",
      "Epoch [75/100], Loss: 12.7215\n",
      "Epoch [76/100], Loss: 12.8058\n",
      "Epoch [77/100], Loss: 12.7647\n",
      "Epoch [78/100], Loss: 12.7538\n",
      "Epoch [79/100], Loss: 12.8219\n",
      "Epoch [80/100], Loss: 12.7330\n",
      "Epoch [81/100], Loss: 12.7094\n",
      "Epoch [82/100], Loss: 12.7575\n",
      "Epoch [83/100], Loss: 12.7436\n",
      "Epoch [84/100], Loss: 12.7286\n",
      "Epoch [85/100], Loss: 12.7296\n",
      "Epoch [86/100], Loss: 12.7454\n",
      "Epoch [87/100], Loss: 12.7123\n",
      "Epoch [88/100], Loss: 12.7186\n",
      "Epoch [89/100], Loss: 12.7306\n",
      "Epoch [90/100], Loss: 12.7299\n",
      "Epoch [91/100], Loss: 12.7003\n",
      "Epoch [92/100], Loss: 12.6867\n",
      "Epoch [93/100], Loss: 12.6385\n",
      "Epoch [94/100], Loss: 12.7126\n",
      "Epoch [95/100], Loss: 12.7572\n",
      "Epoch [96/100], Loss: 12.7787\n",
      "Epoch [97/100], Loss: 12.7121\n",
      "Epoch [98/100], Loss: 12.7679\n",
      "Epoch [99/100], Loss: 12.8090\n",
      "Epoch [100/100], Loss: 12.7285\n"
     ]
    }
   ],
   "source": [
    "model = train(autoencoder=model, dataloader=train_loader, num_epochs=100)"
   ]
  },
  {
   "cell_type": "code",
   "execution_count": 83,
   "id": "2e768d4a",
   "metadata": {},
   "outputs": [
    {
     "data": {
      "text/plain": [
       "torch.Size([64, 4860])"
      ]
     },
     "execution_count": 83,
     "metadata": {},
     "output_type": "execute_result"
    }
   ],
   "source": [
    "x = next(iter(train_loader))[0]\n",
    "x = x.to(device)\n",
    "x.size()"
   ]
  },
  {
   "cell_type": "code",
   "execution_count": 84,
   "id": "9dbdfd19",
   "metadata": {},
   "outputs": [],
   "source": [
    "encoded, decoded = model(x)"
   ]
  },
  {
   "cell_type": "markdown",
   "id": "bfe6bfa9",
   "metadata": {},
   "source": [
    "# GRU output to SELFIES"
   ]
  },
  {
   "cell_type": "code",
   "execution_count": 85,
   "id": "2aab1202",
   "metadata": {},
   "outputs": [],
   "source": [
    "decoded_indices = torch.argmax(decoded.cpu(), dim=2)\n",
    "decoded_indices = decoded_indices.numpy()"
   ]
  },
  {
   "cell_type": "code",
   "execution_count": 86,
   "id": "ba9c451c",
   "metadata": {},
   "outputs": [
    {
     "data": {
      "text/plain": [
       "['[\\\\N][\\\\N][\\\\N][\\\\N][\\\\N][\\\\N][\\\\N][\\\\N][\\\\N][\\\\N][\\\\N][\\\\N][\\\\N][\\\\N][\\\\N][\\\\N][\\\\N][\\\\N][\\\\N][\\\\N][\\\\N][\\\\N][\\\\N][\\\\N][\\\\N][\\\\N][\\\\N][\\\\N][\\\\N][\\\\N][\\\\N][\\\\N][\\\\N][\\\\N][\\\\N][\\\\N][\\\\N][\\\\N][\\\\N][\\\\N][\\\\N][\\\\N][\\\\N][\\\\N][\\\\N][\\\\N][\\\\N][\\\\N][\\\\N][\\\\N][\\\\N][\\\\N][\\\\O][\\\\O][\\\\O][=Ring2]',\n",
       " '[\\\\N][\\\\N][\\\\N][\\\\N][\\\\N][\\\\N][\\\\N][\\\\N][\\\\N][\\\\N][\\\\N][\\\\N][\\\\N][\\\\N][\\\\N][\\\\N][\\\\N][\\\\N][\\\\N][\\\\N][\\\\N][\\\\N][\\\\N][\\\\N][\\\\N][\\\\N][\\\\N][\\\\N][\\\\N][\\\\N][\\\\N][\\\\N][\\\\N][\\\\N][\\\\N][\\\\N][\\\\N][\\\\N][\\\\N][\\\\N][\\\\N][\\\\N][\\\\N][\\\\N][\\\\N][\\\\N][\\\\N][\\\\N][\\\\N][\\\\N][\\\\N][\\\\N][\\\\O][\\\\O][\\\\O][=Ring2]',\n",
       " '[\\\\N][\\\\N][\\\\N][\\\\N][\\\\N][\\\\N][\\\\N][\\\\N][\\\\N][\\\\N][\\\\N][\\\\N][\\\\N][\\\\N][\\\\N][\\\\N][\\\\N][\\\\N][\\\\N][\\\\N][\\\\N][\\\\N][\\\\N][\\\\N][\\\\N][\\\\N][\\\\N][\\\\N][\\\\N][\\\\N][\\\\N][\\\\N][\\\\N][\\\\N][\\\\N][\\\\N][\\\\N][\\\\N][\\\\N][\\\\N][\\\\N][\\\\N][\\\\N][\\\\N][\\\\N][\\\\N][\\\\N][\\\\N][\\\\N][\\\\N][\\\\N][\\\\N][\\\\O][\\\\O][\\\\O][=Ring2]',\n",
       " '[\\\\N][\\\\N][\\\\N][\\\\N][\\\\N][\\\\N][\\\\N][\\\\N][\\\\N][\\\\N][\\\\N][\\\\N][\\\\N][\\\\N][\\\\N][\\\\N][\\\\N][\\\\N][\\\\N][\\\\N][\\\\N][\\\\N][\\\\N][\\\\N][\\\\N][\\\\N][\\\\N][\\\\N][\\\\N][\\\\N][\\\\N][\\\\N][\\\\N][\\\\N][\\\\N][\\\\N][\\\\N][\\\\N][\\\\N][\\\\N][\\\\N][\\\\N][\\\\N][\\\\N][\\\\N][\\\\N][\\\\N][\\\\N][\\\\N][\\\\N][\\\\N][\\\\N][\\\\O][\\\\O][\\\\O][=Ring2]',\n",
       " '[\\\\N][\\\\N][\\\\N][\\\\N][\\\\N][\\\\N][\\\\N][\\\\N][\\\\N][\\\\N][\\\\N][\\\\N][\\\\N][\\\\N][\\\\N][\\\\N][\\\\N][\\\\N][\\\\N][\\\\N][\\\\N][\\\\N][\\\\N][\\\\N][\\\\N][\\\\N][\\\\N][\\\\N][\\\\N][\\\\N][\\\\N][\\\\N][\\\\N][\\\\N][\\\\N][\\\\N][\\\\N][\\\\N][\\\\N][\\\\N][\\\\N][\\\\N][\\\\N][\\\\N][\\\\N][\\\\N][\\\\N][\\\\N][\\\\N][\\\\N][\\\\N][\\\\N][\\\\O][\\\\O][\\\\O][=Ring2]',\n",
       " '[\\\\N][\\\\N][\\\\N][\\\\N][\\\\N][\\\\N][\\\\N][\\\\N][\\\\N][\\\\N][\\\\N][\\\\N][\\\\N][\\\\N][\\\\N][\\\\N][\\\\N][\\\\N][\\\\N][\\\\N][\\\\N][\\\\N][\\\\N][\\\\N][\\\\N][\\\\N][\\\\N][\\\\N][\\\\N][\\\\N][\\\\N][\\\\N][\\\\N][\\\\N][\\\\N][\\\\N][\\\\N][\\\\N][\\\\N][\\\\N][\\\\N][\\\\N][\\\\N][\\\\N][\\\\N][\\\\N][\\\\N][\\\\N][\\\\N][\\\\N][\\\\N][\\\\N][\\\\O][\\\\O][\\\\O][=Ring2]',\n",
       " '[\\\\N][\\\\N][\\\\N][\\\\N][\\\\N][\\\\N][\\\\N][\\\\N][\\\\N][\\\\N][\\\\N][\\\\N][\\\\N][\\\\N][\\\\N][\\\\N][\\\\N][\\\\N][\\\\N][\\\\N][\\\\N][\\\\N][\\\\N][\\\\N][\\\\N][\\\\N][\\\\N][\\\\N][\\\\N][\\\\N][\\\\N][\\\\N][\\\\N][\\\\N][\\\\N][\\\\N][\\\\N][\\\\N][\\\\N][\\\\N][\\\\N][\\\\N][\\\\N][\\\\N][\\\\N][\\\\N][\\\\N][\\\\N][\\\\N][\\\\N][\\\\N][\\\\N][\\\\O][\\\\O][\\\\O][=Ring2]',\n",
       " '[\\\\N][\\\\N][\\\\N][\\\\N][\\\\N][\\\\N][\\\\N][\\\\N][\\\\N][\\\\N][\\\\N][\\\\N][\\\\N][\\\\N][\\\\N][\\\\N][\\\\N][\\\\N][\\\\N][\\\\N][\\\\N][\\\\N][\\\\N][\\\\N][\\\\N][\\\\N][\\\\N][\\\\N][\\\\N][\\\\N][\\\\N][\\\\N][\\\\N][\\\\N][\\\\N][\\\\N][\\\\N][\\\\N][\\\\N][\\\\N][\\\\N][\\\\N][\\\\N][\\\\N][\\\\N][\\\\N][\\\\N][\\\\N][\\\\N][\\\\N][\\\\N][\\\\N][\\\\O][\\\\O][\\\\O][=Ring2]',\n",
       " '[\\\\N][\\\\N][\\\\N][\\\\N][\\\\N][\\\\N][\\\\N][\\\\N][\\\\N][\\\\N][\\\\N][\\\\N][\\\\N][\\\\N][\\\\N][\\\\N][\\\\N][\\\\N][\\\\N][\\\\N][\\\\N][\\\\N][\\\\N][\\\\N][\\\\N][\\\\N][\\\\N][\\\\N][\\\\N][\\\\N][\\\\N][\\\\N][\\\\N][\\\\N][\\\\N][\\\\N][\\\\N][\\\\N][\\\\N][\\\\N][\\\\N][\\\\N][\\\\N][\\\\N][\\\\N][\\\\N][\\\\N][\\\\N][\\\\N][\\\\N][\\\\N][\\\\N][\\\\O][\\\\O][\\\\O][=Ring2]',\n",
       " '[\\\\N][\\\\N][\\\\N][\\\\N][\\\\N][\\\\N][\\\\N][\\\\N][\\\\N][\\\\N][\\\\N][\\\\N][\\\\N][\\\\N][\\\\N][\\\\N][\\\\N][\\\\N][\\\\N][\\\\N][\\\\N][\\\\N][\\\\N][\\\\N][\\\\N][\\\\N][\\\\N][\\\\N][\\\\N][\\\\N][\\\\N][\\\\N][\\\\N][\\\\N][\\\\N][\\\\N][\\\\N][\\\\N][\\\\N][\\\\N][\\\\N][\\\\N][\\\\N][\\\\N][\\\\N][\\\\N][\\\\N][\\\\N][\\\\N][\\\\N][\\\\N][\\\\N][\\\\O][\\\\O][\\\\O][=Ring2]',\n",
       " '[\\\\N][\\\\N][\\\\N][\\\\N][\\\\N][\\\\N][\\\\N][\\\\N][\\\\N][\\\\N][\\\\N][\\\\N][\\\\N][\\\\N][\\\\N][\\\\N][\\\\N][\\\\N][\\\\N][\\\\N][\\\\N][\\\\N][\\\\N][\\\\N][\\\\N][\\\\N][\\\\N][\\\\N][\\\\N][\\\\N][\\\\N][\\\\N][\\\\N][\\\\N][\\\\N][\\\\N][\\\\N][\\\\N][\\\\N][\\\\N][\\\\N][\\\\N][\\\\N][\\\\N][\\\\N][\\\\N][\\\\N][\\\\N][\\\\N][\\\\N][\\\\N][\\\\N][\\\\O][\\\\O][\\\\O][=Ring2]',\n",
       " '[\\\\N][\\\\N][\\\\N][\\\\N][\\\\N][\\\\N][\\\\N][\\\\N][\\\\N][\\\\N][\\\\N][\\\\N][\\\\N][\\\\N][\\\\N][\\\\N][\\\\N][\\\\N][\\\\N][\\\\N][\\\\N][\\\\N][\\\\N][\\\\N][\\\\N][\\\\N][\\\\N][\\\\N][\\\\N][\\\\N][\\\\N][\\\\N][\\\\N][\\\\N][\\\\N][\\\\N][\\\\N][\\\\N][\\\\N][\\\\N][\\\\N][\\\\N][\\\\N][\\\\N][\\\\N][\\\\N][\\\\N][\\\\N][\\\\N][\\\\N][\\\\N][\\\\N][\\\\O][\\\\O][\\\\O][=Ring2]',\n",
       " '[\\\\N][\\\\N][\\\\N][\\\\N][\\\\N][\\\\N][\\\\N][\\\\N][\\\\N][\\\\N][\\\\N][\\\\N][\\\\N][\\\\N][\\\\N][\\\\N][\\\\N][\\\\N][\\\\N][\\\\N][\\\\N][\\\\N][\\\\N][\\\\N][\\\\N][\\\\N][\\\\N][\\\\N][\\\\N][\\\\N][\\\\N][\\\\N][\\\\N][\\\\N][\\\\N][\\\\N][\\\\N][\\\\N][\\\\N][\\\\N][\\\\N][\\\\N][\\\\N][\\\\N][\\\\N][\\\\N][\\\\N][\\\\N][\\\\N][\\\\N][\\\\N][\\\\N][\\\\O][\\\\O][\\\\O][=Ring2]',\n",
       " '[\\\\N][\\\\N][\\\\N][\\\\N][\\\\N][\\\\N][\\\\N][\\\\N][\\\\N][\\\\N][\\\\N][\\\\N][\\\\N][\\\\N][\\\\N][\\\\N][\\\\N][\\\\N][\\\\N][\\\\N][\\\\N][\\\\N][\\\\N][\\\\N][\\\\N][\\\\N][\\\\N][\\\\N][\\\\N][\\\\N][\\\\N][\\\\N][\\\\N][\\\\N][\\\\N][\\\\N][\\\\N][\\\\N][\\\\N][\\\\N][\\\\N][\\\\N][\\\\N][\\\\N][\\\\N][\\\\N][\\\\N][\\\\N][\\\\N][\\\\N][\\\\N][\\\\N][\\\\O][\\\\O][\\\\O][=Ring2]',\n",
       " '[\\\\N][\\\\N][\\\\N][\\\\N][\\\\N][\\\\N][\\\\N][\\\\N][\\\\N][\\\\N][\\\\N][\\\\N][\\\\N][\\\\N][\\\\N][\\\\N][\\\\N][\\\\N][\\\\N][\\\\N][\\\\N][\\\\N][\\\\N][\\\\N][\\\\N][\\\\N][\\\\N][\\\\N][\\\\N][\\\\N][\\\\N][\\\\N][\\\\N][\\\\N][\\\\N][\\\\N][\\\\N][\\\\N][\\\\N][\\\\N][\\\\N][\\\\N][\\\\N][\\\\N][\\\\N][\\\\N][\\\\N][\\\\N][\\\\N][\\\\N][\\\\N][\\\\N][\\\\O][\\\\O][\\\\O][=Ring2]',\n",
       " '[\\\\N][\\\\N][\\\\N][\\\\N][\\\\N][\\\\N][\\\\N][\\\\N][\\\\N][\\\\N][\\\\N][\\\\N][\\\\N][\\\\N][\\\\N][\\\\N][\\\\N][\\\\N][\\\\N][\\\\N][\\\\N][\\\\N][\\\\N][\\\\N][\\\\N][\\\\N][\\\\N][\\\\N][\\\\N][\\\\N][\\\\N][\\\\N][\\\\N][\\\\N][\\\\N][\\\\N][\\\\N][\\\\N][\\\\N][\\\\N][\\\\N][\\\\N][\\\\N][\\\\N][\\\\N][\\\\N][\\\\N][\\\\N][\\\\N][\\\\N][\\\\N][\\\\N][\\\\O][\\\\O][\\\\O][=Ring2]',\n",
       " '[\\\\N][\\\\N][\\\\N][\\\\N][\\\\N][\\\\N][\\\\N][\\\\N][\\\\N][\\\\N][\\\\N][\\\\N][\\\\N][\\\\N][\\\\N][\\\\N][\\\\N][\\\\N][\\\\N][\\\\N][\\\\N][\\\\N][\\\\N][\\\\N][\\\\N][\\\\N][\\\\N][\\\\N][\\\\N][\\\\N][\\\\N][\\\\N][\\\\N][\\\\N][\\\\N][\\\\N][\\\\N][\\\\N][\\\\N][\\\\N][\\\\N][\\\\N][\\\\N][\\\\N][\\\\N][\\\\N][\\\\N][\\\\N][\\\\N][\\\\N][\\\\N][\\\\N][\\\\O][\\\\O][\\\\O][=Ring2]',\n",
       " '[\\\\N][\\\\N][\\\\N][\\\\N][\\\\N][\\\\N][\\\\N][\\\\N][\\\\N][\\\\N][\\\\N][\\\\N][\\\\N][\\\\N][\\\\N][\\\\N][\\\\N][\\\\N][\\\\N][\\\\N][\\\\N][\\\\N][\\\\N][\\\\N][\\\\N][\\\\N][\\\\N][\\\\N][\\\\N][\\\\N][\\\\N][\\\\N][\\\\N][\\\\N][\\\\N][\\\\N][\\\\N][\\\\N][\\\\N][\\\\N][\\\\N][\\\\N][\\\\N][\\\\N][\\\\N][\\\\N][\\\\N][\\\\N][\\\\N][\\\\N][\\\\N][\\\\N][\\\\O][\\\\O][\\\\O][=Ring2]',\n",
       " '[\\\\N][\\\\N][\\\\N][\\\\N][\\\\N][\\\\N][\\\\N][\\\\N][\\\\N][\\\\N][\\\\N][\\\\N][\\\\N][\\\\N][\\\\N][\\\\N][\\\\N][\\\\N][\\\\N][\\\\N][\\\\N][\\\\N][\\\\N][\\\\N][\\\\N][\\\\N][\\\\N][\\\\N][\\\\N][\\\\N][\\\\N][\\\\N][\\\\N][\\\\N][\\\\N][\\\\N][\\\\N][\\\\N][\\\\N][\\\\N][\\\\N][\\\\N][\\\\N][\\\\N][\\\\N][\\\\N][\\\\N][\\\\N][\\\\N][\\\\N][\\\\N][\\\\N][\\\\O][\\\\O][\\\\O][=Ring2]',\n",
       " '[\\\\N][\\\\N][\\\\N][\\\\N][\\\\N][\\\\N][\\\\N][\\\\N][\\\\N][\\\\N][\\\\N][\\\\N][\\\\N][\\\\N][\\\\N][\\\\N][\\\\N][\\\\N][\\\\N][\\\\N][\\\\N][\\\\N][\\\\N][\\\\N][\\\\N][\\\\N][\\\\N][\\\\N][\\\\N][\\\\N][\\\\N][\\\\N][\\\\N][\\\\N][\\\\N][\\\\N][\\\\N][\\\\N][\\\\N][\\\\N][\\\\N][\\\\N][\\\\N][\\\\N][\\\\N][\\\\N][\\\\N][\\\\N][\\\\N][\\\\N][\\\\N][\\\\N][\\\\O][\\\\O][\\\\O][=Ring2]',\n",
       " '[\\\\N][\\\\N][\\\\N][\\\\N][\\\\N][\\\\N][\\\\N][\\\\N][\\\\N][\\\\N][\\\\N][\\\\N][\\\\N][\\\\N][\\\\N][\\\\N][\\\\N][\\\\N][\\\\N][\\\\N][\\\\N][\\\\N][\\\\N][\\\\N][\\\\N][\\\\N][\\\\N][\\\\N][\\\\N][\\\\N][\\\\N][\\\\N][\\\\N][\\\\N][\\\\N][\\\\N][\\\\N][\\\\N][\\\\N][\\\\N][\\\\N][\\\\N][\\\\N][\\\\N][\\\\N][\\\\N][\\\\N][\\\\N][\\\\N][\\\\N][\\\\N][\\\\N][\\\\O][\\\\O][\\\\O][=Ring2]',\n",
       " '[\\\\N][\\\\N][\\\\N][\\\\N][\\\\N][\\\\N][\\\\N][\\\\N][\\\\N][\\\\N][\\\\N][\\\\N][\\\\N][\\\\N][\\\\N][\\\\N][\\\\N][\\\\N][\\\\N][\\\\N][\\\\N][\\\\N][\\\\N][\\\\N][\\\\N][\\\\N][\\\\N][\\\\N][\\\\N][\\\\N][\\\\N][\\\\N][\\\\N][\\\\N][\\\\N][\\\\N][\\\\N][\\\\N][\\\\N][\\\\N][\\\\N][\\\\N][\\\\N][\\\\N][\\\\N][\\\\N][\\\\N][\\\\N][\\\\N][\\\\N][\\\\N][\\\\N][\\\\O][\\\\O][\\\\O][=Ring2]',\n",
       " '[\\\\N][\\\\N][\\\\N][\\\\N][\\\\N][\\\\N][\\\\N][\\\\N][\\\\N][\\\\N][\\\\N][\\\\N][\\\\N][\\\\N][\\\\N][\\\\N][\\\\N][\\\\N][\\\\N][\\\\N][\\\\N][\\\\N][\\\\N][\\\\N][\\\\N][\\\\N][\\\\N][\\\\N][\\\\N][\\\\N][\\\\N][\\\\N][\\\\N][\\\\N][\\\\N][\\\\N][\\\\N][\\\\N][\\\\N][\\\\N][\\\\N][\\\\N][\\\\N][\\\\N][\\\\N][\\\\N][\\\\N][\\\\N][\\\\N][\\\\N][\\\\N][\\\\N][\\\\O][\\\\O][\\\\O][=Ring2]',\n",
       " '[\\\\N][\\\\N][\\\\N][\\\\N][\\\\N][\\\\N][\\\\N][\\\\N][\\\\N][\\\\N][\\\\N][\\\\N][\\\\N][\\\\N][\\\\N][\\\\N][\\\\N][\\\\N][\\\\N][\\\\N][\\\\N][\\\\N][\\\\N][\\\\N][\\\\N][\\\\N][\\\\N][\\\\N][\\\\N][\\\\N][\\\\N][\\\\N][\\\\N][\\\\N][\\\\N][\\\\N][\\\\N][\\\\N][\\\\N][\\\\N][\\\\N][\\\\N][\\\\N][\\\\N][\\\\N][\\\\N][\\\\N][\\\\N][\\\\N][\\\\N][\\\\N][\\\\N][\\\\O][\\\\O][\\\\O][=Ring2]',\n",
       " '[\\\\N][\\\\N][\\\\N][\\\\N][\\\\N][\\\\N][\\\\N][\\\\N][\\\\N][\\\\N][\\\\N][\\\\N][\\\\N][\\\\N][\\\\N][\\\\N][\\\\N][\\\\N][\\\\N][\\\\N][\\\\N][\\\\N][\\\\N][\\\\N][\\\\N][\\\\N][\\\\N][\\\\N][\\\\N][\\\\N][\\\\N][\\\\N][\\\\N][\\\\N][\\\\N][\\\\N][\\\\N][\\\\N][\\\\N][\\\\N][\\\\N][\\\\N][\\\\N][\\\\N][\\\\N][\\\\N][\\\\N][\\\\N][\\\\N][\\\\N][\\\\N][\\\\N][\\\\O][\\\\O][\\\\O][=Ring2]',\n",
       " '[\\\\N][\\\\N][\\\\N][\\\\N][\\\\N][\\\\N][\\\\N][\\\\N][\\\\N][\\\\N][\\\\N][\\\\N][\\\\N][\\\\N][\\\\N][\\\\N][\\\\N][\\\\N][\\\\N][\\\\N][\\\\N][\\\\N][\\\\N][\\\\N][\\\\N][\\\\N][\\\\N][\\\\N][\\\\N][\\\\N][\\\\N][\\\\N][\\\\N][\\\\N][\\\\N][\\\\N][\\\\N][\\\\N][\\\\N][\\\\N][\\\\N][\\\\N][\\\\N][\\\\N][\\\\N][\\\\N][\\\\N][\\\\N][\\\\N][\\\\N][\\\\N][\\\\N][\\\\O][\\\\O][\\\\O][=Ring2]',\n",
       " '[\\\\N][\\\\N][\\\\N][\\\\N][\\\\N][\\\\N][\\\\N][\\\\N][\\\\N][\\\\N][\\\\N][\\\\N][\\\\N][\\\\N][\\\\N][\\\\N][\\\\N][\\\\N][\\\\N][\\\\N][\\\\N][\\\\N][\\\\N][\\\\N][\\\\N][\\\\N][\\\\N][\\\\N][\\\\N][\\\\N][\\\\N][\\\\N][\\\\N][\\\\N][\\\\N][\\\\N][\\\\N][\\\\N][\\\\N][\\\\N][\\\\N][\\\\N][\\\\N][\\\\N][\\\\N][\\\\N][\\\\N][\\\\N][\\\\N][\\\\N][\\\\N][\\\\N][\\\\O][\\\\O][\\\\O][=Ring2]',\n",
       " '[\\\\N][\\\\N][\\\\N][\\\\N][\\\\N][\\\\N][\\\\N][\\\\N][\\\\N][\\\\N][\\\\N][\\\\N][\\\\N][\\\\N][\\\\N][\\\\N][\\\\N][\\\\N][\\\\N][\\\\N][\\\\N][\\\\N][\\\\N][\\\\N][\\\\N][\\\\N][\\\\N][\\\\N][\\\\N][\\\\N][\\\\N][\\\\N][\\\\N][\\\\N][\\\\N][\\\\N][\\\\N][\\\\N][\\\\N][\\\\N][\\\\N][\\\\N][\\\\N][\\\\N][\\\\N][\\\\N][\\\\N][\\\\N][\\\\N][\\\\N][\\\\N][\\\\N][\\\\O][\\\\O][\\\\O][=Ring2]',\n",
       " '[\\\\N][\\\\N][\\\\N][\\\\N][\\\\N][\\\\N][\\\\N][\\\\N][\\\\N][\\\\N][\\\\N][\\\\N][\\\\N][\\\\N][\\\\N][\\\\N][\\\\N][\\\\N][\\\\N][\\\\N][\\\\N][\\\\N][\\\\N][\\\\N][\\\\N][\\\\N][\\\\N][\\\\N][\\\\N][\\\\N][\\\\N][\\\\N][\\\\N][\\\\N][\\\\N][\\\\N][\\\\N][\\\\N][\\\\N][\\\\N][\\\\N][\\\\N][\\\\N][\\\\N][\\\\N][\\\\N][\\\\N][\\\\N][\\\\N][\\\\N][\\\\N][\\\\N][\\\\O][\\\\O][\\\\O][=Ring2]',\n",
       " '[\\\\N][\\\\N][\\\\N][\\\\N][\\\\N][\\\\N][\\\\N][\\\\N][\\\\N][\\\\N][\\\\N][\\\\N][\\\\N][\\\\N][\\\\N][\\\\N][\\\\N][\\\\N][\\\\N][\\\\N][\\\\N][\\\\N][\\\\N][\\\\N][\\\\N][\\\\N][\\\\N][\\\\N][\\\\N][\\\\N][\\\\N][\\\\N][\\\\N][\\\\N][\\\\N][\\\\N][\\\\N][\\\\N][\\\\N][\\\\N][\\\\N][\\\\N][\\\\N][\\\\N][\\\\N][\\\\N][\\\\N][\\\\N][\\\\N][\\\\N][\\\\N][\\\\N][\\\\O][\\\\O][\\\\O][=Ring2]',\n",
       " '[\\\\N][\\\\N][\\\\N][\\\\N][\\\\N][\\\\N][\\\\N][\\\\N][\\\\N][\\\\N][\\\\N][\\\\N][\\\\N][\\\\N][\\\\N][\\\\N][\\\\N][\\\\N][\\\\N][\\\\N][\\\\N][\\\\N][\\\\N][\\\\N][\\\\N][\\\\N][\\\\N][\\\\N][\\\\N][\\\\N][\\\\N][\\\\N][\\\\N][\\\\N][\\\\N][\\\\N][\\\\N][\\\\N][\\\\N][\\\\N][\\\\N][\\\\N][\\\\N][\\\\N][\\\\N][\\\\N][\\\\N][\\\\N][\\\\N][\\\\N][\\\\N][\\\\N][\\\\O][\\\\O][\\\\O][=Ring2]',\n",
       " '[\\\\N][\\\\N][\\\\N][\\\\N][\\\\N][\\\\N][\\\\N][\\\\N][\\\\N][\\\\N][\\\\N][\\\\N][\\\\N][\\\\N][\\\\N][\\\\N][\\\\N][\\\\N][\\\\N][\\\\N][\\\\N][\\\\N][\\\\N][\\\\N][\\\\N][\\\\N][\\\\N][\\\\N][\\\\N][\\\\N][\\\\N][\\\\N][\\\\N][\\\\N][\\\\N][\\\\N][\\\\N][\\\\N][\\\\N][\\\\N][\\\\N][\\\\N][\\\\N][\\\\N][\\\\N][\\\\N][\\\\N][\\\\N][\\\\N][\\\\N][\\\\N][\\\\N][\\\\O][\\\\O][\\\\O][=Ring2]',\n",
       " '[\\\\N][\\\\N][\\\\N][\\\\N][\\\\N][\\\\N][\\\\N][\\\\N][\\\\N][\\\\N][\\\\N][\\\\N][\\\\N][\\\\N][\\\\N][\\\\N][\\\\N][\\\\N][\\\\N][\\\\N][\\\\N][\\\\N][\\\\N][\\\\N][\\\\N][\\\\N][\\\\N][\\\\N][\\\\N][\\\\N][\\\\N][\\\\N][\\\\N][\\\\N][\\\\N][\\\\N][\\\\N][\\\\N][\\\\N][\\\\N][\\\\N][\\\\N][\\\\N][\\\\N][\\\\N][\\\\N][\\\\N][\\\\N][\\\\N][\\\\N][\\\\N][\\\\N][\\\\O][\\\\O][\\\\O][=Ring2]',\n",
       " '[\\\\N][\\\\N][\\\\N][\\\\N][\\\\N][\\\\N][\\\\N][\\\\N][\\\\N][\\\\N][\\\\N][\\\\N][\\\\N][\\\\N][\\\\N][\\\\N][\\\\N][\\\\N][\\\\N][\\\\N][\\\\N][\\\\N][\\\\N][\\\\N][\\\\N][\\\\N][\\\\N][\\\\N][\\\\N][\\\\N][\\\\N][\\\\N][\\\\N][\\\\N][\\\\N][\\\\N][\\\\N][\\\\N][\\\\N][\\\\N][\\\\N][\\\\N][\\\\N][\\\\N][\\\\N][\\\\N][\\\\N][\\\\N][\\\\N][\\\\N][\\\\N][\\\\N][\\\\O][\\\\O][\\\\O][=Ring2]',\n",
       " '[\\\\N][\\\\N][\\\\N][\\\\N][\\\\N][\\\\N][\\\\N][\\\\N][\\\\N][\\\\N][\\\\N][\\\\N][\\\\N][\\\\N][\\\\N][\\\\N][\\\\N][\\\\N][\\\\N][\\\\N][\\\\N][\\\\N][\\\\N][\\\\N][\\\\N][\\\\N][\\\\N][\\\\N][\\\\N][\\\\N][\\\\N][\\\\N][\\\\N][\\\\N][\\\\N][\\\\N][\\\\N][\\\\N][\\\\N][\\\\N][\\\\N][\\\\N][\\\\N][\\\\N][\\\\N][\\\\N][\\\\N][\\\\N][\\\\N][\\\\N][\\\\N][\\\\N][\\\\O][\\\\O][\\\\O][=Ring2]',\n",
       " '[\\\\N][\\\\N][\\\\N][\\\\N][\\\\N][\\\\N][\\\\N][\\\\N][\\\\N][\\\\N][\\\\N][\\\\N][\\\\N][\\\\N][\\\\N][\\\\N][\\\\N][\\\\N][\\\\N][\\\\N][\\\\N][\\\\N][\\\\N][\\\\N][\\\\N][\\\\N][\\\\N][\\\\N][\\\\N][\\\\N][\\\\N][\\\\N][\\\\N][\\\\N][\\\\N][\\\\N][\\\\N][\\\\N][\\\\N][\\\\N][\\\\N][\\\\N][\\\\N][\\\\N][\\\\N][\\\\N][\\\\N][\\\\N][\\\\N][\\\\N][\\\\N][\\\\N][\\\\O][\\\\O][\\\\O][=Ring2]',\n",
       " '[\\\\N][\\\\N][\\\\N][\\\\N][\\\\N][\\\\N][\\\\N][\\\\N][\\\\N][\\\\N][\\\\N][\\\\N][\\\\N][\\\\N][\\\\N][\\\\N][\\\\N][\\\\N][\\\\N][\\\\N][\\\\N][\\\\N][\\\\N][\\\\N][\\\\N][\\\\N][\\\\N][\\\\N][\\\\N][\\\\N][\\\\N][\\\\N][\\\\N][\\\\N][\\\\N][\\\\N][\\\\N][\\\\N][\\\\N][\\\\N][\\\\N][\\\\N][\\\\N][\\\\N][\\\\N][\\\\N][\\\\N][\\\\N][\\\\N][\\\\N][\\\\N][\\\\N][\\\\O][\\\\O][\\\\O][=Ring2]',\n",
       " '[\\\\N][\\\\N][\\\\N][\\\\N][\\\\N][\\\\N][\\\\N][\\\\N][\\\\N][\\\\N][\\\\N][\\\\N][\\\\N][\\\\N][\\\\N][\\\\N][\\\\N][\\\\N][\\\\N][\\\\N][\\\\N][\\\\N][\\\\N][\\\\N][\\\\N][\\\\N][\\\\N][\\\\N][\\\\N][\\\\N][\\\\N][\\\\N][\\\\N][\\\\N][\\\\N][\\\\N][\\\\N][\\\\N][\\\\N][\\\\N][\\\\N][\\\\N][\\\\N][\\\\N][\\\\N][\\\\N][\\\\N][\\\\N][\\\\N][\\\\N][\\\\N][\\\\N][\\\\O][\\\\O][\\\\O][=Ring2]',\n",
       " '[\\\\N][\\\\N][\\\\N][\\\\N][\\\\N][\\\\N][\\\\N][\\\\N][\\\\N][\\\\N][\\\\N][\\\\N][\\\\N][\\\\N][\\\\N][\\\\N][\\\\N][\\\\N][\\\\N][\\\\N][\\\\N][\\\\N][\\\\N][\\\\N][\\\\N][\\\\N][\\\\N][\\\\N][\\\\N][\\\\N][\\\\N][\\\\N][\\\\N][\\\\N][\\\\N][\\\\N][\\\\N][\\\\N][\\\\N][\\\\N][\\\\N][\\\\N][\\\\N][\\\\N][\\\\N][\\\\N][\\\\N][\\\\N][\\\\N][\\\\N][\\\\N][\\\\N][\\\\O][\\\\O][\\\\O][=Ring2]',\n",
       " '[\\\\N][\\\\N][\\\\N][\\\\N][\\\\N][\\\\N][\\\\N][\\\\N][\\\\N][\\\\N][\\\\N][\\\\N][\\\\N][\\\\N][\\\\N][\\\\N][\\\\N][\\\\N][\\\\N][\\\\N][\\\\N][\\\\N][\\\\N][\\\\N][\\\\N][\\\\N][\\\\N][\\\\N][\\\\N][\\\\N][\\\\N][\\\\N][\\\\N][\\\\N][\\\\N][\\\\N][\\\\N][\\\\N][\\\\N][\\\\N][\\\\N][\\\\N][\\\\N][\\\\N][\\\\N][\\\\N][\\\\N][\\\\N][\\\\N][\\\\N][\\\\N][\\\\N][\\\\O][\\\\O][\\\\O][=Ring2]',\n",
       " '[\\\\N][\\\\N][\\\\N][\\\\N][\\\\N][\\\\N][\\\\N][\\\\N][\\\\N][\\\\N][\\\\N][\\\\N][\\\\N][\\\\N][\\\\N][\\\\N][\\\\N][\\\\N][\\\\N][\\\\N][\\\\N][\\\\N][\\\\N][\\\\N][\\\\N][\\\\N][\\\\N][\\\\N][\\\\N][\\\\N][\\\\N][\\\\N][\\\\N][\\\\N][\\\\N][\\\\N][\\\\N][\\\\N][\\\\N][\\\\N][\\\\N][\\\\N][\\\\N][\\\\N][\\\\N][\\\\N][\\\\N][\\\\N][\\\\N][\\\\N][\\\\N][\\\\N][\\\\O][\\\\O][\\\\O][=Ring2]',\n",
       " '[\\\\N][\\\\N][\\\\N][\\\\N][\\\\N][\\\\N][\\\\N][\\\\N][\\\\N][\\\\N][\\\\N][\\\\N][\\\\N][\\\\N][\\\\N][\\\\N][\\\\N][\\\\N][\\\\N][\\\\N][\\\\N][\\\\N][\\\\N][\\\\N][\\\\N][\\\\N][\\\\N][\\\\N][\\\\N][\\\\N][\\\\N][\\\\N][\\\\N][\\\\N][\\\\N][\\\\N][\\\\N][\\\\N][\\\\N][\\\\N][\\\\N][\\\\N][\\\\N][\\\\N][\\\\N][\\\\N][\\\\N][\\\\N][\\\\N][\\\\N][\\\\N][\\\\N][\\\\O][\\\\O][\\\\O][=Ring2]',\n",
       " '[\\\\N][\\\\N][\\\\N][\\\\N][\\\\N][\\\\N][\\\\N][\\\\N][\\\\N][\\\\N][\\\\N][\\\\N][\\\\N][\\\\N][\\\\N][\\\\N][\\\\N][\\\\N][\\\\N][\\\\N][\\\\N][\\\\N][\\\\N][\\\\N][\\\\N][\\\\N][\\\\N][\\\\N][\\\\N][\\\\N][\\\\N][\\\\N][\\\\N][\\\\N][\\\\N][\\\\N][\\\\N][\\\\N][\\\\N][\\\\N][\\\\N][\\\\N][\\\\N][\\\\N][\\\\N][\\\\N][\\\\N][\\\\N][\\\\N][\\\\N][\\\\N][\\\\N][\\\\O][\\\\O][\\\\O][=Ring2]',\n",
       " '[\\\\N][\\\\N][\\\\N][\\\\N][\\\\N][\\\\N][\\\\N][\\\\N][\\\\N][\\\\N][\\\\N][\\\\N][\\\\N][\\\\N][\\\\N][\\\\N][\\\\N][\\\\N][\\\\N][\\\\N][\\\\N][\\\\N][\\\\N][\\\\N][\\\\N][\\\\N][\\\\N][\\\\N][\\\\N][\\\\N][\\\\N][\\\\N][\\\\N][\\\\N][\\\\N][\\\\N][\\\\N][\\\\N][\\\\N][\\\\N][\\\\N][\\\\N][\\\\N][\\\\N][\\\\N][\\\\N][\\\\N][\\\\N][\\\\N][\\\\N][\\\\N][\\\\N][\\\\O][\\\\O][\\\\O][=Ring2]',\n",
       " '[\\\\N][\\\\N][\\\\N][\\\\N][\\\\N][\\\\N][\\\\N][\\\\N][\\\\N][\\\\N][\\\\N][\\\\N][\\\\N][\\\\N][\\\\N][\\\\N][\\\\N][\\\\N][\\\\N][\\\\N][\\\\N][\\\\N][\\\\N][\\\\N][\\\\N][\\\\N][\\\\N][\\\\N][\\\\N][\\\\N][\\\\N][\\\\N][\\\\N][\\\\N][\\\\N][\\\\N][\\\\N][\\\\N][\\\\N][\\\\N][\\\\N][\\\\N][\\\\N][\\\\N][\\\\N][\\\\N][\\\\N][\\\\N][\\\\N][\\\\N][\\\\N][\\\\N][\\\\O][\\\\O][\\\\O][=Ring2]',\n",
       " '[\\\\N][\\\\N][\\\\N][\\\\N][\\\\N][\\\\N][\\\\N][\\\\N][\\\\N][\\\\N][\\\\N][\\\\N][\\\\N][\\\\N][\\\\N][\\\\N][\\\\N][\\\\N][\\\\N][\\\\N][\\\\N][\\\\N][\\\\N][\\\\N][\\\\N][\\\\N][\\\\N][\\\\N][\\\\N][\\\\N][\\\\N][\\\\N][\\\\N][\\\\N][\\\\N][\\\\N][\\\\N][\\\\N][\\\\N][\\\\N][\\\\N][\\\\N][\\\\N][\\\\N][\\\\N][\\\\N][\\\\N][\\\\N][\\\\N][\\\\N][\\\\N][\\\\N][\\\\O][\\\\O][\\\\O][=Ring2]',\n",
       " '[\\\\N][\\\\N][\\\\N][\\\\N][\\\\N][\\\\N][\\\\N][\\\\N][\\\\N][\\\\N][\\\\N][\\\\N][\\\\N][\\\\N][\\\\N][\\\\N][\\\\N][\\\\N][\\\\N][\\\\N][\\\\N][\\\\N][\\\\N][\\\\N][\\\\N][\\\\N][\\\\N][\\\\N][\\\\N][\\\\N][\\\\N][\\\\N][\\\\N][\\\\N][\\\\N][\\\\N][\\\\N][\\\\N][\\\\N][\\\\N][\\\\N][\\\\N][\\\\N][\\\\N][\\\\N][\\\\N][\\\\N][\\\\N][\\\\N][\\\\N][\\\\N][\\\\N][\\\\O][\\\\O][\\\\O][=Ring2]',\n",
       " '[\\\\N][\\\\N][\\\\N][\\\\N][\\\\N][\\\\N][\\\\N][\\\\N][\\\\N][\\\\N][\\\\N][\\\\N][\\\\N][\\\\N][\\\\N][\\\\N][\\\\N][\\\\N][\\\\N][\\\\N][\\\\N][\\\\N][\\\\N][\\\\N][\\\\N][\\\\N][\\\\N][\\\\N][\\\\N][\\\\N][\\\\N][\\\\N][\\\\N][\\\\N][\\\\N][\\\\N][\\\\N][\\\\N][\\\\N][\\\\N][\\\\N][\\\\N][\\\\N][\\\\N][\\\\N][\\\\N][\\\\N][\\\\N][\\\\N][\\\\N][\\\\N][\\\\N][\\\\O][\\\\O][\\\\O][=Ring2]',\n",
       " '[\\\\N][\\\\N][\\\\N][\\\\N][\\\\N][\\\\N][\\\\N][\\\\N][\\\\N][\\\\N][\\\\N][\\\\N][\\\\N][\\\\N][\\\\N][\\\\N][\\\\N][\\\\N][\\\\N][\\\\N][\\\\N][\\\\N][\\\\N][\\\\N][\\\\N][\\\\N][\\\\N][\\\\N][\\\\N][\\\\N][\\\\N][\\\\N][\\\\N][\\\\N][\\\\N][\\\\N][\\\\N][\\\\N][\\\\N][\\\\N][\\\\N][\\\\N][\\\\N][\\\\N][\\\\N][\\\\N][\\\\N][\\\\N][\\\\N][\\\\N][\\\\N][\\\\N][\\\\O][\\\\O][\\\\O][=Ring2]',\n",
       " '[\\\\N][\\\\N][\\\\N][\\\\N][\\\\N][\\\\N][\\\\N][\\\\N][\\\\N][\\\\N][\\\\N][\\\\N][\\\\N][\\\\N][\\\\N][\\\\N][\\\\N][\\\\N][\\\\N][\\\\N][\\\\N][\\\\N][\\\\N][\\\\N][\\\\N][\\\\N][\\\\N][\\\\N][\\\\N][\\\\N][\\\\N][\\\\N][\\\\N][\\\\N][\\\\N][\\\\N][\\\\N][\\\\N][\\\\N][\\\\N][\\\\N][\\\\N][\\\\N][\\\\N][\\\\N][\\\\N][\\\\N][\\\\N][\\\\N][\\\\N][\\\\N][\\\\N][\\\\O][\\\\O][\\\\O][=Ring2]',\n",
       " '[\\\\N][\\\\N][\\\\N][\\\\N][\\\\N][\\\\N][\\\\N][\\\\N][\\\\N][\\\\N][\\\\N][\\\\N][\\\\N][\\\\N][\\\\N][\\\\N][\\\\N][\\\\N][\\\\N][\\\\N][\\\\N][\\\\N][\\\\N][\\\\N][\\\\N][\\\\N][\\\\N][\\\\N][\\\\N][\\\\N][\\\\N][\\\\N][\\\\N][\\\\N][\\\\N][\\\\N][\\\\N][\\\\N][\\\\N][\\\\N][\\\\N][\\\\N][\\\\N][\\\\N][\\\\N][\\\\N][\\\\N][\\\\N][\\\\N][\\\\N][\\\\N][\\\\N][\\\\O][\\\\O][\\\\O][=Ring2]',\n",
       " '[\\\\N][\\\\N][\\\\N][\\\\N][\\\\N][\\\\N][\\\\N][\\\\N][\\\\N][\\\\N][\\\\N][\\\\N][\\\\N][\\\\N][\\\\N][\\\\N][\\\\N][\\\\N][\\\\N][\\\\N][\\\\N][\\\\N][\\\\N][\\\\N][\\\\N][\\\\N][\\\\N][\\\\N][\\\\N][\\\\N][\\\\N][\\\\N][\\\\N][\\\\N][\\\\N][\\\\N][\\\\N][\\\\N][\\\\N][\\\\N][\\\\N][\\\\N][\\\\N][\\\\N][\\\\N][\\\\N][\\\\N][\\\\N][\\\\N][\\\\N][\\\\N][\\\\N][\\\\O][\\\\O][\\\\O][=Ring2]',\n",
       " '[\\\\N][\\\\N][\\\\N][\\\\N][\\\\N][\\\\N][\\\\N][\\\\N][\\\\N][\\\\N][\\\\N][\\\\N][\\\\N][\\\\N][\\\\N][\\\\N][\\\\N][\\\\N][\\\\N][\\\\N][\\\\N][\\\\N][\\\\N][\\\\N][\\\\N][\\\\N][\\\\N][\\\\N][\\\\N][\\\\N][\\\\N][\\\\N][\\\\N][\\\\N][\\\\N][\\\\N][\\\\N][\\\\N][\\\\N][\\\\N][\\\\N][\\\\N][\\\\N][\\\\N][\\\\N][\\\\N][\\\\N][\\\\N][\\\\N][\\\\N][\\\\N][\\\\N][\\\\O][\\\\O][\\\\O][=Ring2]',\n",
       " '[\\\\N][\\\\N][\\\\N][\\\\N][\\\\N][\\\\N][\\\\N][\\\\N][\\\\N][\\\\N][\\\\N][\\\\N][\\\\N][\\\\N][\\\\N][\\\\N][\\\\N][\\\\N][\\\\N][\\\\N][\\\\N][\\\\N][\\\\N][\\\\N][\\\\N][\\\\N][\\\\N][\\\\N][\\\\N][\\\\N][\\\\N][\\\\N][\\\\N][\\\\N][\\\\N][\\\\N][\\\\N][\\\\N][\\\\N][\\\\N][\\\\N][\\\\N][\\\\N][\\\\N][\\\\N][\\\\N][\\\\N][\\\\N][\\\\N][\\\\N][\\\\N][\\\\N][\\\\O][\\\\O][\\\\O][=Ring2]',\n",
       " '[\\\\N][\\\\N][\\\\N][\\\\N][\\\\N][\\\\N][\\\\N][\\\\N][\\\\N][\\\\N][\\\\N][\\\\N][\\\\N][\\\\N][\\\\N][\\\\N][\\\\N][\\\\N][\\\\N][\\\\N][\\\\N][\\\\N][\\\\N][\\\\N][\\\\N][\\\\N][\\\\N][\\\\N][\\\\N][\\\\N][\\\\N][\\\\N][\\\\N][\\\\N][\\\\N][\\\\N][\\\\N][\\\\N][\\\\N][\\\\N][\\\\N][\\\\N][\\\\N][\\\\N][\\\\N][\\\\N][\\\\N][\\\\N][\\\\N][\\\\N][\\\\N][\\\\N][\\\\O][\\\\O][\\\\O][=Ring2]',\n",
       " '[\\\\N][\\\\N][\\\\N][\\\\N][\\\\N][\\\\N][\\\\N][\\\\N][\\\\N][\\\\N][\\\\N][\\\\N][\\\\N][\\\\N][\\\\N][\\\\N][\\\\N][\\\\N][\\\\N][\\\\N][\\\\N][\\\\N][\\\\N][\\\\N][\\\\N][\\\\N][\\\\N][\\\\N][\\\\N][\\\\N][\\\\N][\\\\N][\\\\N][\\\\N][\\\\N][\\\\N][\\\\N][\\\\N][\\\\N][\\\\N][\\\\N][\\\\N][\\\\N][\\\\N][\\\\N][\\\\N][\\\\N][\\\\N][\\\\N][\\\\N][\\\\N][\\\\N][\\\\O][\\\\O][\\\\O][=Ring2]',\n",
       " '[\\\\N][\\\\N][\\\\N][\\\\N][\\\\N][\\\\N][\\\\N][\\\\N][\\\\N][\\\\N][\\\\N][\\\\N][\\\\N][\\\\N][\\\\N][\\\\N][\\\\N][\\\\N][\\\\N][\\\\N][\\\\N][\\\\N][\\\\N][\\\\N][\\\\N][\\\\N][\\\\N][\\\\N][\\\\N][\\\\N][\\\\N][\\\\N][\\\\N][\\\\N][\\\\N][\\\\N][\\\\N][\\\\N][\\\\N][\\\\N][\\\\N][\\\\N][\\\\N][\\\\N][\\\\N][\\\\N][\\\\N][\\\\N][\\\\N][\\\\N][\\\\N][\\\\N][\\\\O][\\\\O][\\\\O][=Ring2]',\n",
       " '[\\\\N][\\\\N][\\\\N][\\\\N][\\\\N][\\\\N][\\\\N][\\\\N][\\\\N][\\\\N][\\\\N][\\\\N][\\\\N][\\\\N][\\\\N][\\\\N][\\\\N][\\\\N][\\\\N][\\\\N][\\\\N][\\\\N][\\\\N][\\\\N][\\\\N][\\\\N][\\\\N][\\\\N][\\\\N][\\\\N][\\\\N][\\\\N][\\\\N][\\\\N][\\\\N][\\\\N][\\\\N][\\\\N][\\\\N][\\\\N][\\\\N][\\\\N][\\\\N][\\\\N][\\\\N][\\\\N][\\\\N][\\\\N][\\\\N][\\\\N][\\\\N][\\\\N][\\\\O][\\\\O][\\\\O][=Ring2]',\n",
       " '[\\\\N][\\\\N][\\\\N][\\\\N][\\\\N][\\\\N][\\\\N][\\\\N][\\\\N][\\\\N][\\\\N][\\\\N][\\\\N][\\\\N][\\\\N][\\\\N][\\\\N][\\\\N][\\\\N][\\\\N][\\\\N][\\\\N][\\\\N][\\\\N][\\\\N][\\\\N][\\\\N][\\\\N][\\\\N][\\\\N][\\\\N][\\\\N][\\\\N][\\\\N][\\\\N][\\\\N][\\\\N][\\\\N][\\\\N][\\\\N][\\\\N][\\\\N][\\\\N][\\\\N][\\\\N][\\\\N][\\\\N][\\\\N][\\\\N][\\\\N][\\\\N][\\\\N][\\\\O][\\\\O][\\\\O][=Ring2]',\n",
       " '[\\\\N][\\\\N][\\\\N][\\\\N][\\\\N][\\\\N][\\\\N][\\\\N][\\\\N][\\\\N][\\\\N][\\\\N][\\\\N][\\\\N][\\\\N][\\\\N][\\\\N][\\\\N][\\\\N][\\\\N][\\\\N][\\\\N][\\\\N][\\\\N][\\\\N][\\\\N][\\\\N][\\\\N][\\\\N][\\\\N][\\\\N][\\\\N][\\\\N][\\\\N][\\\\N][\\\\N][\\\\N][\\\\N][\\\\N][\\\\N][\\\\N][\\\\N][\\\\N][\\\\N][\\\\N][\\\\N][\\\\N][\\\\N][\\\\N][\\\\N][\\\\N][\\\\N][\\\\O][\\\\O][\\\\O][=Ring2]',\n",
       " '[\\\\N][\\\\N][\\\\N][\\\\N][\\\\N][\\\\N][\\\\N][\\\\N][\\\\N][\\\\N][\\\\N][\\\\N][\\\\N][\\\\N][\\\\N][\\\\N][\\\\N][\\\\N][\\\\N][\\\\N][\\\\N][\\\\N][\\\\N][\\\\N][\\\\N][\\\\N][\\\\N][\\\\N][\\\\N][\\\\N][\\\\N][\\\\N][\\\\N][\\\\N][\\\\N][\\\\N][\\\\N][\\\\N][\\\\N][\\\\N][\\\\N][\\\\N][\\\\N][\\\\N][\\\\N][\\\\N][\\\\N][\\\\N][\\\\N][\\\\N][\\\\N][\\\\N][\\\\O][\\\\O][\\\\O][=Ring2]',\n",
       " '[\\\\N][\\\\N][\\\\N][\\\\N][\\\\N][\\\\N][\\\\N][\\\\N][\\\\N][\\\\N][\\\\N][\\\\N][\\\\N][\\\\N][\\\\N][\\\\N][\\\\N][\\\\N][\\\\N][\\\\N][\\\\N][\\\\N][\\\\N][\\\\N][\\\\N][\\\\N][\\\\N][\\\\N][\\\\N][\\\\N][\\\\N][\\\\N][\\\\N][\\\\N][\\\\N][\\\\N][\\\\N][\\\\N][\\\\N][\\\\N][\\\\N][\\\\N][\\\\N][\\\\N][\\\\N][\\\\N][\\\\N][\\\\N][\\\\N][\\\\N][\\\\N][\\\\N][\\\\O][\\\\O][\\\\O][=Ring2]',\n",
       " '[\\\\N][\\\\N][\\\\N][\\\\N][\\\\N][\\\\N][\\\\N][\\\\N][\\\\N][\\\\N][\\\\N][\\\\N][\\\\N][\\\\N][\\\\N][\\\\N][\\\\N][\\\\N][\\\\N][\\\\N][\\\\N][\\\\N][\\\\N][\\\\N][\\\\N][\\\\N][\\\\N][\\\\N][\\\\N][\\\\N][\\\\N][\\\\N][\\\\N][\\\\N][\\\\N][\\\\N][\\\\N][\\\\N][\\\\N][\\\\N][\\\\N][\\\\N][\\\\N][\\\\N][\\\\N][\\\\N][\\\\N][\\\\N][\\\\N][\\\\N][\\\\N][\\\\N][\\\\O][\\\\O][\\\\O][=Ring2]',\n",
       " '[\\\\N][\\\\N][\\\\N][\\\\N][\\\\N][\\\\N][\\\\N][\\\\N][\\\\N][\\\\N][\\\\N][\\\\N][\\\\N][\\\\N][\\\\N][\\\\N][\\\\N][\\\\N][\\\\N][\\\\N][\\\\N][\\\\N][\\\\N][\\\\N][\\\\N][\\\\N][\\\\N][\\\\N][\\\\N][\\\\N][\\\\N][\\\\N][\\\\N][\\\\N][\\\\N][\\\\N][\\\\N][\\\\N][\\\\N][\\\\N][\\\\N][\\\\N][\\\\N][\\\\N][\\\\N][\\\\N][\\\\N][\\\\N][\\\\N][\\\\N][\\\\N][\\\\N][\\\\O][\\\\O][\\\\O][=Ring2]']"
      ]
     },
     "execution_count": 86,
     "metadata": {},
     "output_type": "execute_result"
    }
   ],
   "source": [
    "selfies = []\n",
    "for i in decoded_indices:\n",
    "    vectorized = []\n",
    "    for number in decoded_indices[0]:\n",
    "        v = np.zeros(128)\n",
    "        v[number] = 1\n",
    "        vectorized.append(v)\n",
    "    devectorized = vectorizer.devectorize(vectorized)\n",
    "    selfies.append(devectorized)\n",
    "selfies"
   ]
  }
 ],
 "metadata": {
  "kernelspec": {
   "display_name": "Python 3 (ipykernel)",
   "language": "python",
   "name": "python3"
  },
  "language_info": {
   "codemirror_mode": {
    "name": "ipython",
    "version": 3
   },
   "file_extension": ".py",
   "mimetype": "text/x-python",
   "name": "python",
   "nbconvert_exporter": "python",
   "pygments_lexer": "ipython3",
   "version": "3.8.16"
  }
 },
 "nbformat": 4,
 "nbformat_minor": 5
}
