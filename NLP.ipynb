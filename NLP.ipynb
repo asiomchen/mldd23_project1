{
 "cells": [
  {
   "cell_type": "code",
   "execution_count": 14,
   "id": "720db94b",
   "metadata": {},
   "outputs": [],
   "source": [
    "import torch\n",
    "import torchvision.datasets as datasets\n",
    "import torchvision.transforms as transforms\n",
    "import torch.nn as nn\n",
    "import torch.optim as optim\n",
    "import torch.nn.functional as F\n",
    "from torch.utils.data import DataLoader\n",
    "from torch.utils.data import Dataset\n",
    "import torch.utils.data as data_utils\n",
    "import numpy as np\n",
    "import pandas as pd\n",
    "import math"
   ]
  },
  {
   "cell_type": "code",
   "execution_count": 4,
   "id": "2a6e9d67",
   "metadata": {},
   "outputs": [],
   "source": [
    "input_size=4860\n",
    "sequence_length=28\n",
    "num_layers=3\n",
    "hidden_size=1024\n",
    "\n",
    "learning_rate = 0.001\n",
    "num_epochs = 5\n",
    "\n",
    "num_classes =10\n",
    "batch_size = 64"
   ]
  },
  {
   "cell_type": "code",
   "execution_count": 5,
   "id": "e8eae8bc",
   "metadata": {},
   "outputs": [],
   "source": [
    "class SimpleGRU(nn.Module):\n",
    "    def __init__(self, input_size=input_size, hidden_size=hidden_size, num_layers=num_layers, num_classes=num_classes, sequence_length=sequence_length):\n",
    "        super(SimpleGRU, self).__init__()\n",
    "        self.hidden_size  = hidden_size\n",
    "        self.num_layers = num_layers\n",
    "        \n",
    "        self.gru = nn.GRU(input_size, hidden_size, num_layers, batch_first=True)\n",
    "        self.fc1 = nn.Linear(hidden_size * sequence_length, num_classes)\n",
    "    \n",
    "    def forward(self, x):\n",
    "        h0 = torch.zeros(self.num_layers, x.size(0), self.hidden_size).to(device)\n",
    "        \n",
    "        out,_ = self.gru(x, h0)\n",
    "        out = out.reshape(out.shape[0], -1)\n",
    "        out = self.fc1(out)\n",
    "        return out"
   ]
  },
  {
   "cell_type": "code",
   "execution_count": 8,
   "id": "b73bd369",
   "metadata": {},
   "outputs": [],
   "source": [
    "device = torch.device('cuda' if torch.cuda.is_available() else 'cpu')\n",
    "model = SimpleGRU().to(device=device)"
   ]
  },
  {
   "cell_type": "markdown",
   "id": "baa7f159",
   "metadata": {},
   "source": [
    "# Data Prep"
   ]
  },
  {
   "cell_type": "code",
   "execution_count": 59,
   "id": "d48c354a",
   "metadata": {},
   "outputs": [],
   "source": [
    "df = pd.DataFrame()\n",
    "x = pd.read_csv('./GRU_data/chembl_klek.csv', sep=',')\n",
    "df['x'] = x.fps.apply(eval)\n",
    "df['y'] = pd.read_csv('./GRU_data/selfies.csv', sep=' ')\n"
   ]
  },
  {
   "cell_type": "code",
   "execution_count": 60,
   "id": "cd083e05",
   "metadata": {},
   "outputs": [
    {
     "data": {
      "text/html": [
       "<div>\n",
       "<style scoped>\n",
       "    .dataframe tbody tr th:only-of-type {\n",
       "        vertical-align: middle;\n",
       "    }\n",
       "\n",
       "    .dataframe tbody tr th {\n",
       "        vertical-align: top;\n",
       "    }\n",
       "\n",
       "    .dataframe thead th {\n",
       "        text-align: right;\n",
       "    }\n",
       "</style>\n",
       "<table border=\"1\" class=\"dataframe\">\n",
       "  <thead>\n",
       "    <tr style=\"text-align: right;\">\n",
       "      <th></th>\n",
       "      <th>x</th>\n",
       "      <th>y</th>\n",
       "    </tr>\n",
       "  </thead>\n",
       "  <tbody>\n",
       "    <tr>\n",
       "      <th>0</th>\n",
       "      <td>[668, 676, 838, 1012, 1023, 1145, 1192, 1317, ...</td>\n",
       "      <td>[C][O][C][=Branch1][C][=O][C][N][C][=Branch1][...</td>\n",
       "    </tr>\n",
       "    <tr>\n",
       "      <th>1</th>\n",
       "      <td>[125, 132, 296, 646, 668, 1192, 1262, 1644, 25...</td>\n",
       "      <td>[C][O][C][=C][C][=C][Branch2][Ring1][S][C][=C]...</td>\n",
       "    </tr>\n",
       "    <tr>\n",
       "      <th>2</th>\n",
       "      <td>[125, 132, 135, 296, 337, 340, 343, 345, 346, ...</td>\n",
       "      <td>[N][S][=Branch1][C][=O][=Branch1][C][=O][O][C]...</td>\n",
       "    </tr>\n",
       "    <tr>\n",
       "      <th>3</th>\n",
       "      <td>[0, 13, 19, 97, 101, 296, 609, 668, 671, 676, ...</td>\n",
       "      <td>[N][C][=C][Branch1][=C][C][=N][C][=C][C][=C][C...</td>\n",
       "    </tr>\n",
       "    <tr>\n",
       "      <th>4</th>\n",
       "      <td>[0, 296, 340, 382, 386, 389, 466, 479, 482, 50...</td>\n",
       "      <td>[C][C][Branch1][C][C][C][N][C][C][=C][C][=C][C...</td>\n",
       "    </tr>\n",
       "  </tbody>\n",
       "</table>\n",
       "</div>"
      ],
      "text/plain": [
       "                                                   x  \\\n",
       "0  [668, 676, 838, 1012, 1023, 1145, 1192, 1317, ...   \n",
       "1  [125, 132, 296, 646, 668, 1192, 1262, 1644, 25...   \n",
       "2  [125, 132, 135, 296, 337, 340, 343, 345, 346, ...   \n",
       "3  [0, 13, 19, 97, 101, 296, 609, 668, 671, 676, ...   \n",
       "4  [0, 296, 340, 382, 386, 389, 466, 479, 482, 50...   \n",
       "\n",
       "                                                   y  \n",
       "0  [C][O][C][=Branch1][C][=O][C][N][C][=Branch1][...  \n",
       "1  [C][O][C][=C][C][=C][Branch2][Ring1][S][C][=C]...  \n",
       "2  [N][S][=Branch1][C][=O][=Branch1][C][=O][O][C]...  \n",
       "3  [N][C][=C][Branch1][=C][C][=N][C][=C][C][=C][C...  \n",
       "4  [C][C][Branch1][C][C][C][N][C][C][=C][C][=C][C...  "
      ]
     },
     "execution_count": 60,
     "metadata": {},
     "output_type": "execute_result"
    }
   ],
   "source": [
    "df.head()"
   ]
  },
  {
   "cell_type": "code",
   "execution_count": 53,
   "id": "cc994844",
   "metadata": {},
   "outputs": [
    {
     "ename": "TypeError",
     "evalue": "'tuple' object is not callable",
     "output_type": "error",
     "traceback": [
      "\u001b[0;31m---------------------------------------------------------------------------\u001b[0m",
      "\u001b[0;31mTypeError\u001b[0m                                 Traceback (most recent call last)",
      "Cell \u001b[0;32mIn[53], line 1\u001b[0m\n\u001b[0;32m----> 1\u001b[0m \u001b[38;5;28mprint\u001b[39m(\u001b[43mdf\u001b[49m\u001b[38;5;241;43m.\u001b[39;49m\u001b[43mshape\u001b[49m\u001b[43m(\u001b[49m\u001b[43m)\u001b[49m)\n\u001b[1;32m      3\u001b[0m dataset \u001b[38;5;241m=\u001b[39m torch\u001b[38;5;241m.\u001b[39mutils\u001b[38;5;241m.\u001b[39mdata\u001b[38;5;241m.\u001b[39mTensorDataset(df[\u001b[38;5;124m'\u001b[39m\u001b[38;5;124mx\u001b[39m\u001b[38;5;124m'\u001b[39m], df[\u001b[38;5;124m'\u001b[39m\u001b[38;5;124my\u001b[39m\u001b[38;5;124m'\u001b[39m])\n\u001b[1;32m      5\u001b[0m train_dataset, test_dataset \u001b[38;5;241m=\u001b[39m torch\u001b[38;5;241m.\u001b[39mutils\u001b[38;5;241m.\u001b[39mdata\u001b[38;5;241m.\u001b[39mrandom_split(dataset, [\u001b[38;5;241m0.9\u001b[39m, \u001b[38;5;241m0.1\u001b[39m])\n",
      "\u001b[0;31mTypeError\u001b[0m: 'tuple' object is not callable"
     ]
    }
   ],
   "source": [
    "print(df.shape())\n",
    "\n",
    "dataset = torch.utils.data.TensorDataset(df['x'], df['y'])\n",
    "\n",
    "train_dataset, test_dataset = torch.utils.data.random_split(dataset, [0.9, 0.1])\n",
    "\n",
    "import matplotlib.pyplot as plt\n",
    "plt.scatter(train_dataset, marker='.')\n",
    "plt.scatter(test_dataset, marker='.')"
   ]
  },
  {
   "cell_type": "code",
   "execution_count": null,
   "id": "5281cd05",
   "metadata": {},
   "outputs": [],
   "source": []
  },
  {
   "cell_type": "code",
   "execution_count": 31,
   "id": "c7d88637",
   "metadata": {},
   "outputs": [
    {
     "ename": "NameError",
     "evalue": "name 'train_dataset' is not defined",
     "output_type": "error",
     "traceback": [
      "\u001b[0;31m---------------------------------------------------------------------------\u001b[0m",
      "\u001b[0;31mNameError\u001b[0m                                 Traceback (most recent call last)",
      "Cell \u001b[0;32mIn[31], line 1\u001b[0m\n\u001b[0;32m----> 1\u001b[0m train_dataloader \u001b[38;5;241m=\u001b[39m DataLoader(dataset\u001b[38;5;241m=\u001b[39m\u001b[43mtrain_dataset\u001b[49m, batch_size\u001b[38;5;241m=\u001b[39mbatch_size, shuffle\u001b[38;5;241m=\u001b[39m\u001b[38;5;28;01mTrue\u001b[39;00m)\n\u001b[1;32m      2\u001b[0m test_dataloader \u001b[38;5;241m=\u001b[39m DataLoader(dataset\u001b[38;5;241m=\u001b[39mtest_dataset, batch_size\u001b[38;5;241m=\u001b[39mbatch_size, shuffle\u001b[38;5;241m=\u001b[39m\u001b[38;5;28;01mTrue\u001b[39;00m)\n",
      "\u001b[0;31mNameError\u001b[0m: name 'train_dataset' is not defined"
     ]
    }
   ],
   "source": [
    "train_dataloader = DataLoader(dataset=train_dataset, batch_size=batch_size, shuffle=True)\n",
    "test_dataloader = DataLoader(dataset=test_dataset, batch_size=batch_size, shuffle=True)"
   ]
  },
  {
   "cell_type": "code",
   "execution_count": null,
   "id": "ed28f5e2",
   "metadata": {},
   "outputs": [],
   "source": [
    "train_dataset"
   ]
  },
  {
   "cell_type": "code",
   "execution_count": null,
   "id": "f95d9a50",
   "metadata": {},
   "outputs": [],
   "source": [
    "loss_criterion  = nn.CrossEntropyLoss()\n",
    "optimizer = optim.Adam(model.parameters(), lr = learning_rate)"
   ]
  },
  {
   "cell_type": "code",
   "execution_count": null,
   "id": "aef5df22",
   "metadata": {},
   "outputs": [],
   "source": [
    "current_loss = 0\n",
    "for epoch in range(num_epochs):\n",
    "    for data, target in train_dataloader:\n",
    "        data = data.to(device=device)\n",
    "        target = target.to(device=device)\n",
    "        print(data.size())\n",
    "        score = model(data)\n",
    "        loss = loss_criterion(score, target)\n",
    "        current_loss = loss\n",
    "        \n",
    "        optimizer.zero_grad()\n",
    "        loss.backward()\n",
    "        \n",
    "        optimizer.step()\n",
    "    print(f\"At epoch: {epoch}, loss: {current_loss}\")"
   ]
  },
  {
   "cell_type": "code",
   "execution_count": null,
   "id": "b9dd6e79",
   "metadata": {},
   "outputs": [],
   "source": []
  },
  {
   "cell_type": "code",
   "execution_count": null,
   "id": "8675f09f",
   "metadata": {},
   "outputs": [],
   "source": []
  }
 ],
 "metadata": {
  "kernelspec": {
   "display_name": "Python 3 (ipykernel)",
   "language": "python",
   "name": "python3"
  },
  "language_info": {
   "codemirror_mode": {
    "name": "ipython",
    "version": 3
   },
   "file_extension": ".py",
   "mimetype": "text/x-python",
   "name": "python",
   "nbconvert_exporter": "python",
   "pygments_lexer": "ipython3",
   "version": "3.9.16"
  }
 },
 "nbformat": 4,
 "nbformat_minor": 5
}
