{
 "cells": [
  {
   "cell_type": "code",
   "execution_count": 1,
   "id": "720db94b",
   "metadata": {},
   "outputs": [],
   "source": [
    "import torch\n",
    "import torch.nn as nn\n",
    "import torch.optim as optim\n",
    "import torch.utils.data as data_utils\n",
    "import torch.functional as F\n",
    "import numpy as np\n",
    "import pandas as pd\n",
    "from tqdm import tqdm_notebook\n",
    "import time\n",
    "\n",
    "device = torch.device('cuda' if torch.cuda.is_available() else 'cpu')"
   ]
  },
  {
   "cell_type": "markdown",
   "id": "8a6a60ac",
   "metadata": {},
   "source": [
    "# Data Prep"
   ]
  },
  {
   "cell_type": "code",
   "execution_count": 23,
   "id": "57bba427",
   "metadata": {},
   "outputs": [],
   "source": [
    "import selfies as sf\n",
    "data = pd.read_csv('./GRU_data/selfies.csv', header=None, names=['selfies'])\n",
    "alphabet = sf.get_alphabet_from_selfies(data.selfies)\n",
    "alphabet.add(\"[nop]\") # [nop] is a special padding symbol\n",
    "alphabet.add(\"[start]\")\n",
    "alphabet.add(\"[end]\")\n",
    "alphabet = list(sorted(alphabet))\n",
    "pad_to_len = max(sf.len_selfies(s) for s in data.selfies) + 5  # 5\n",
    "symbol_to_idx = {s: i for i, s in enumerate(alphabet)}\n",
    "idx2char = {i: s for i, s in enumerate(alphabet)}"
   ]
  },
  {
   "cell_type": "code",
   "execution_count": 42,
   "id": "6fd46450",
   "metadata": {},
   "outputs": [
    {
     "data": {
      "text/plain": [
       "42"
      ]
     },
     "execution_count": 42,
     "metadata": {},
     "output_type": "execute_result"
    }
   ],
   "source": [
    "len(alphabet)"
   ]
  },
  {
   "cell_type": "code",
   "execution_count": 43,
   "id": "e9e695b8",
   "metadata": {},
   "outputs": [],
   "source": [
    "import re\n",
    "class SELFIESVectorizer:\n",
    "    def __init__(self, alphabet, pad_to_len):\n",
    "        self.alphabet = alphabet\n",
    "        self.pad_to_len = pad_to_len\n",
    "        self.char2idx = {s: i for i, s in enumerate(alphabet)}\n",
    "        self.idx2char = {i: s for i, s in enumerate(alphabet)}\n",
    "    def vectorize(self, selfie):\n",
    "        ''' Vectorize a list of SMILES strings to a numpy array of shape (len(smiles), embed, len(charset))'''\n",
    "        X = np.zeros((self.pad_to_len, len(self.alphabet)))\n",
    "        splited = ['[start]'] + self.split_selfi(selfie) + ['[end]'] + ['[nop]'] * (self.pad_to_len - len(self.split_selfi(selfie)) - 2)\n",
    "        for i, char in enumerate(splited):\n",
    "            X[i, self.char2idx[char]] = 1\n",
    "        return X\n",
    "    def devectorize(self, ohe):\n",
    "        ''' Devectorize a numpy array of shape (len(smiles), embed, len(charset)) to a list of SMILES strings'''\n",
    "        selfie_str = ''\n",
    "        for j in range(self.pad_to_len):\n",
    "            char = self.idx2char[np.argmax(ohe[j])]\n",
    "            if char == '[start]':\n",
    "                continue\n",
    "            elif char == '[end]':\n",
    "                break\n",
    "            else:\n",
    "                selfie_str += char\n",
    "        return selfie_str\n",
    "\n",
    "    def split_selfi(self, selfie):\n",
    "        pattern = r'(\\[[^\\[\\]]*\\])'\n",
    "        return re.findall(pattern, selfie)"
   ]
  },
  {
   "cell_type": "code",
   "execution_count": 44,
   "id": "21aa6b02",
   "metadata": {},
   "outputs": [],
   "source": [
    "selfi_test = '[C][O][C][=C][C][=C][Branch2][Ring1][S][C][=C][N][=C][N][=C][Branch1][C][N][N][=C][Branch1][N][N][C][C][N][Branch1][C][C][C][C][Ring1][#Branch1][C][Ring1][=C][=N][Ring2][Ring1][C][C][=C][Ring2][Ring1][Branch2]'\n",
    "vectorizer = SELFIESVectorizer(alphabet, pad_to_len)"
   ]
  },
  {
   "cell_type": "code",
   "execution_count": 52,
   "id": "191f0516",
   "metadata": {},
   "outputs": [
    {
     "name": "stdout",
     "output_type": "stream",
     "text": [
      "(114, 42)\n",
      "[[0. 0. 0. ... 0. 0. 1.]\n",
      " [0. 0. 0. ... 0. 0. 0.]\n",
      " [0. 0. 0. ... 0. 0. 0.]\n",
      " ...\n",
      " [0. 0. 0. ... 0. 1. 0.]\n",
      " [0. 0. 0. ... 0. 1. 0.]\n",
      " [0. 0. 0. ... 0. 1. 0.]]\n"
     ]
    }
   ],
   "source": [
    "vectorized = vectorizer.vectorize(selfi_test)\n",
    "print(vectorized.shape)\n",
    "print(vectorized)"
   ]
  },
  {
   "cell_type": "code",
   "execution_count": 46,
   "id": "511f779f",
   "metadata": {},
   "outputs": [
    {
     "name": "stdout",
     "output_type": "stream",
     "text": [
      "[C][O][C][=C][C][=C][Branch2][Ring1][S][C][=C][N][=C][N][=C][Branch1][C][N][N][=C][Branch1][N][N][C][C][N][Branch1][C][C][C][C][Ring1][#Branch1][C][Ring1][=C][=N][Ring2][Ring1][C][C][=C][Ring2][Ring1][Branch2]\n"
     ]
    }
   ],
   "source": [
    "devectorized = vectorizer.devectorize(vectorized)\n",
    "print(devectorized)"
   ]
  },
  {
   "cell_type": "code",
   "execution_count": 9,
   "id": "d48c354a",
   "metadata": {},
   "outputs": [],
   "source": [
    "from torch.utils.data import Dataset, DataLoader\n",
    "\n",
    "class GRUDataset(Dataset):\n",
    "    def __init__(self, smiles_fp, selfies, vectorizer):\n",
    "        self.smiles_fp = pd.read_csv(smiles_fp, sep=',', nrows=1000)\n",
    "        self.selfies = pd.read_csv(selfies, nrows=1000)\n",
    "        self.X = self.prepare_X(self.smiles_fp)\n",
    "        self.X = np.array([self.reconstruct_fp(fp) for fp in self.X])\n",
    "        self.y = self.prepare_y(self.selfies)\n",
    "    def __len__(self):\n",
    "        return len(self.smiles_fp)\n",
    "    def __getitem__(self, idx):\n",
    "        raw_selfie = self.y[idx][0]\n",
    "        vectorized_selfie = vectorizer.vectorize(raw_selfie)\n",
    "        return torch.from_numpy(self.X[idx]).float(), torch.from_numpy(vectorized_selfie).float()\n",
    "\n",
    "\n",
    "    @staticmethod\n",
    "    def prepare_X(smiles_fp):\n",
    "        fps = smiles_fp.fps.apply(eval).apply(lambda x: np.array(x, dtype=int))\n",
    "        return fps\n",
    "    @staticmethod\n",
    "    def prepare_y(selfies):\n",
    "        return selfies.values\n",
    "    @staticmethod\n",
    "    def reconstruct_fp(fp, length=4860):\n",
    "        fp_rec = np.zeros(length)\n",
    "        fp_rec[fp] = 1\n",
    "        return fp_rec"
   ]
  },
  {
   "cell_type": "code",
   "execution_count": 10,
   "id": "eca50529",
   "metadata": {},
   "outputs": [],
   "source": [
    "dataset = GRUDataset('GRU_data/chembl_klek.csv', 'GRU_data/selfies.csv', vectorizer)"
   ]
  },
  {
   "cell_type": "code",
   "execution_count": 11,
   "id": "3e9f3852",
   "metadata": {},
   "outputs": [
    {
     "data": {
      "text/plain": [
       "(torch.Size([4860]), torch.Size([114, 42]))"
      ]
     },
     "execution_count": 11,
     "metadata": {},
     "output_type": "execute_result"
    }
   ],
   "source": [
    "dataset[0][0].shape, dataset[0][1].shape"
   ]
  },
  {
   "cell_type": "code",
   "execution_count": 12,
   "id": "6fe1d41e",
   "metadata": {},
   "outputs": [
    {
     "data": {
      "text/plain": [
       "tensor([0., 0., 0.,  ..., 0., 0., 0.])"
      ]
     },
     "execution_count": 12,
     "metadata": {},
     "output_type": "execute_result"
    }
   ],
   "source": [
    "dataset[0][0]"
   ]
  },
  {
   "cell_type": "code",
   "execution_count": 13,
   "id": "1da9db43",
   "metadata": {},
   "outputs": [],
   "source": [
    "train_size = int(0.9 * len(dataset))\n",
    "test_size = len(dataset) - train_size\n",
    "train_dataset, test_dataset = torch.utils.data.random_split(dataset, [train_size, test_size])"
   ]
  },
  {
   "cell_type": "code",
   "execution_count": 14,
   "id": "c7d88637",
   "metadata": {},
   "outputs": [],
   "source": [
    "batch_size = 32\n",
    "train_loader = DataLoader(train_dataset, shuffle=True, batch_size=batch_size, drop_last=True)\n",
    "test_loader = DataLoader(test_dataset, shuffle=False, batch_size=batch_size, drop_last=True)"
   ]
  },
  {
   "cell_type": "code",
   "execution_count": 15,
   "id": "e880b405",
   "metadata": {},
   "outputs": [
    {
     "data": {
      "text/plain": [
       "torch.Size([32, 4860])"
      ]
     },
     "execution_count": 15,
     "metadata": {},
     "output_type": "execute_result"
    }
   ],
   "source": [
    "next(iter(train_loader))[0].shape"
   ]
  },
  {
   "cell_type": "markdown",
   "id": "975c39ae",
   "metadata": {},
   "source": [
    "# Model architecture"
   ]
  },
  {
   "cell_type": "code",
   "execution_count": 84,
   "id": "388a42b8",
   "metadata": {},
   "outputs": [
    {
     "name": "stdout",
     "output_type": "stream",
     "text": [
      "input_batch_size: 32\n",
      "start_token: torch.Size([114, 42])\n",
      "start_token: torch.Size([1, 114, 42])\n",
      "start_token: torch.Size([32, 114, 42])\n"
     ]
    }
   ],
   "source": [
    "input_batch_size = 32\n",
    "print(f'input_batch_size: {input_batch_size}')\n",
    "start_token = vectorizer.vectorize('[start]') # (max_len, len(charset))\n",
    "start_token = torch.from_numpy(start_token).float().to(device)\n",
    "print(f'start_token: {start_token.shape}')\n",
    "start_token = start_token.unsqueeze(0)\n",
    "print(f'start_token: {start_token.shape}')\n",
    "start_token = start_token.repeat(input_batch_size, 1, 1)\n",
    "print(f'start_token: {start_token.shape}')"
   ]
  },
  {
   "cell_type": "code",
   "execution_count": 99,
   "id": "84a523ab",
   "metadata": {},
   "outputs": [],
   "source": [
    "class Encoder(nn.Module):\n",
    "    def __init__(self, fp_size):\n",
    "        super(Encoder, self).__init__()\n",
    "        self.relu = nn.ReLU()\n",
    "        self.fc1 = nn.Linear(fp_size, 2048)\n",
    "        self.fc2 = nn.Linear(2048, 1024)\n",
    "        self.fc3 = nn.Linear(1024, 512)\n",
    "        self.fc4 = nn.Linear(512, 256)\n",
    "        self.fc5 = nn.Linear(256, 114)\n",
    "\n",
    "    def forward(self, x):\n",
    "        out = self.relu(self.fc1(x))\n",
    "        out = self.relu(self.fc2(out))\n",
    "        out = self.relu(self.fc3(out))\n",
    "        out = self.relu(self.fc4(out))\n",
    "        out = self.relu(self.fc5(out))\n",
    "        return out\n",
    "\n",
    "class Decoder(nn.Module):\n",
    "    def __init__(self, input_size, hidden_size, num_layers, output_size, drop_prob, batch_size, batch_first=True):\n",
    "        super(Decoder, self).__init__()\n",
    "        self.batch_size = batch_size\n",
    "        self.hidden_size = hidden_size\n",
    "        self.num_layers = num_layers\n",
    "        self.gru = nn.GRU(input_size, hidden_size, num_layers, batch_first=batch_first)\n",
    "        self.fc = nn.Linear(hidden_size, output_size)\n",
    "        self.relu = nn.ReLU()\n",
    "        self.dropout = nn.Dropout(drop_prob)\n",
    "\n",
    "    def forward(self, hidden):\n",
    "        input_batch_size = hidden.shape[0]\n",
    "        start_token = vectorizer.vectorize('[start]') # (max_len, len(charset))\n",
    "        start_token = torch.from_numpy(start_token).float().to(device)\n",
    "        start_token = start_token.unsqueeze(0)\n",
    "        start_token = start_token.repeat(input_batch_size, 1, 1)\n",
    "        print(f'start_token_batched: {start_token.shape}')\n",
    "        print(f'hidden: {hidden.shape}')\n",
    "        results = torch.zeros(self.batch_size, 114, 42).to(device)\n",
    "        for i in range(114):\n",
    "            out, _ = self.gru(start_token, hidden)\n",
    "            out = self.fc(out)\n",
    "            out = self.relu(out)\n",
    "            out = self.dropout(out)\n",
    "            results[:, i, :] = out\n",
    "            start_token = out\n",
    "        return results, _\n",
    "    def init_hidden(self, batch_size):\n",
    "        hidden = torch.zeros(self.num_layers, batch_size, self.hidden_size).to(device)\n",
    "        return hidden\n",
    "\n",
    "class GRUAE(nn.Module):\n",
    "    def __init__(self, fp_size, input_size, hidden_size, output_size, num_layers, batch_size, drop_prob=0.2):\n",
    "        super(GRUAE, self).__init__()\n",
    "        self.hidden_size = hidden_size\n",
    "        self.batch_size = batch_size\n",
    "        self.encoder = Encoder(fp_size=fp_size)\n",
    "        self.decoder = Decoder(input_size=input_size, hidden_size=hidden_size, num_layers=num_layers, \n",
    "                               output_size=output_size, drop_prob=drop_prob, batch_size=batch_size)\n",
    "        self.softmax = self.softmax = nn.Softmax(dim=1)\n",
    "\n",
    "    def forward(self, x):\n",
    "        encoded = self.encoder(x)  # (batch_size, 128)\n",
    "        encoded = encoded.unsqueeze(dim=2)  # (batch_size, 128, 1)\n",
    "        decoded, h = self.decoder(encoded) # (batch_size, 114, 42)\n",
    "        decoded = self.softmax(decoded)\n",
    "        #print(f\"Model out size = {decoded.size()}\")\n",
    "        #print(f\"Model out = \\n{decoded}\")\n",
    "        return decoded, h"
   ]
  },
  {
   "cell_type": "code",
   "execution_count": 100,
   "id": "a4c8de5a",
   "metadata": {},
   "outputs": [],
   "source": [
    "enc = Encoder(fp_size=4860).to(device)\n",
    "dec = Decoder(input_size=1, hidden_size=128, num_layers=1, output_size=42, drop_prob=0.2, batch_size=32).to(device)"
   ]
  },
  {
   "cell_type": "code",
   "execution_count": 101,
   "id": "b76fff19",
   "metadata": {},
   "outputs": [
    {
     "data": {
      "text/plain": [
       "torch.Size([32, 114])"
      ]
     },
     "execution_count": 101,
     "metadata": {},
     "output_type": "execute_result"
    }
   ],
   "source": [
    "test_enc = enc(next(iter(train_loader))[0].to(device))\n",
    "test_enc.shape"
   ]
  },
  {
   "cell_type": "code",
   "execution_count": 102,
   "id": "401172b3",
   "metadata": {},
   "outputs": [
    {
     "name": "stdout",
     "output_type": "stream",
     "text": [
      "start_token_batched: torch.Size([32, 114, 42])\n",
      "hidden: torch.Size([32, 114])\n"
     ]
    },
    {
     "ename": "RuntimeError",
     "evalue": "For batched 3-D input, hx should also be 3-D but got 2-D tensor",
     "output_type": "error",
     "traceback": [
      "\u001b[0;31m---------------------------------------------------------------------------\u001b[0m",
      "\u001b[0;31mRuntimeError\u001b[0m                              Traceback (most recent call last)",
      "Cell \u001b[0;32mIn[102], line 1\u001b[0m\n\u001b[0;32m----> 1\u001b[0m test_dec, _ \u001b[39m=\u001b[39m dec(test_enc)\n\u001b[1;32m      2\u001b[0m test_dec\u001b[39m.\u001b[39mshape\n",
      "File \u001b[0;32m~/miniconda3/envs/cadd/lib/python3.8/site-packages/torch/nn/modules/module.py:1130\u001b[0m, in \u001b[0;36mModule._call_impl\u001b[0;34m(self, *input, **kwargs)\u001b[0m\n\u001b[1;32m   1126\u001b[0m \u001b[39m# If we don't have any hooks, we want to skip the rest of the logic in\u001b[39;00m\n\u001b[1;32m   1127\u001b[0m \u001b[39m# this function, and just call forward.\u001b[39;00m\n\u001b[1;32m   1128\u001b[0m \u001b[39mif\u001b[39;00m \u001b[39mnot\u001b[39;00m (\u001b[39mself\u001b[39m\u001b[39m.\u001b[39m_backward_hooks \u001b[39mor\u001b[39;00m \u001b[39mself\u001b[39m\u001b[39m.\u001b[39m_forward_hooks \u001b[39mor\u001b[39;00m \u001b[39mself\u001b[39m\u001b[39m.\u001b[39m_forward_pre_hooks \u001b[39mor\u001b[39;00m _global_backward_hooks\n\u001b[1;32m   1129\u001b[0m         \u001b[39mor\u001b[39;00m _global_forward_hooks \u001b[39mor\u001b[39;00m _global_forward_pre_hooks):\n\u001b[0;32m-> 1130\u001b[0m     \u001b[39mreturn\u001b[39;00m forward_call(\u001b[39m*\u001b[39;49m\u001b[39minput\u001b[39;49m, \u001b[39m*\u001b[39;49m\u001b[39m*\u001b[39;49mkwargs)\n\u001b[1;32m   1131\u001b[0m \u001b[39m# Do not call functions when jit is used\u001b[39;00m\n\u001b[1;32m   1132\u001b[0m full_backward_hooks, non_full_backward_hooks \u001b[39m=\u001b[39m [], []\n",
      "Cell \u001b[0;32mIn[99], line 40\u001b[0m, in \u001b[0;36mDecoder.forward\u001b[0;34m(self, hidden)\u001b[0m\n\u001b[1;32m     38\u001b[0m results \u001b[39m=\u001b[39m torch\u001b[39m.\u001b[39mzeros(\u001b[39mself\u001b[39m\u001b[39m.\u001b[39mbatch_size, \u001b[39m114\u001b[39m, \u001b[39m42\u001b[39m)\u001b[39m.\u001b[39mto(device)\n\u001b[1;32m     39\u001b[0m \u001b[39mfor\u001b[39;00m i \u001b[39min\u001b[39;00m \u001b[39mrange\u001b[39m(\u001b[39m114\u001b[39m):\n\u001b[0;32m---> 40\u001b[0m     out, _ \u001b[39m=\u001b[39m \u001b[39mself\u001b[39;49m\u001b[39m.\u001b[39;49mgru(start_token, hidden)\n\u001b[1;32m     41\u001b[0m     out \u001b[39m=\u001b[39m \u001b[39mself\u001b[39m\u001b[39m.\u001b[39mfc(out)\n\u001b[1;32m     42\u001b[0m     out \u001b[39m=\u001b[39m \u001b[39mself\u001b[39m\u001b[39m.\u001b[39mrelu(out)\n",
      "File \u001b[0;32m~/miniconda3/envs/cadd/lib/python3.8/site-packages/torch/nn/modules/module.py:1130\u001b[0m, in \u001b[0;36mModule._call_impl\u001b[0;34m(self, *input, **kwargs)\u001b[0m\n\u001b[1;32m   1126\u001b[0m \u001b[39m# If we don't have any hooks, we want to skip the rest of the logic in\u001b[39;00m\n\u001b[1;32m   1127\u001b[0m \u001b[39m# this function, and just call forward.\u001b[39;00m\n\u001b[1;32m   1128\u001b[0m \u001b[39mif\u001b[39;00m \u001b[39mnot\u001b[39;00m (\u001b[39mself\u001b[39m\u001b[39m.\u001b[39m_backward_hooks \u001b[39mor\u001b[39;00m \u001b[39mself\u001b[39m\u001b[39m.\u001b[39m_forward_hooks \u001b[39mor\u001b[39;00m \u001b[39mself\u001b[39m\u001b[39m.\u001b[39m_forward_pre_hooks \u001b[39mor\u001b[39;00m _global_backward_hooks\n\u001b[1;32m   1129\u001b[0m         \u001b[39mor\u001b[39;00m _global_forward_hooks \u001b[39mor\u001b[39;00m _global_forward_pre_hooks):\n\u001b[0;32m-> 1130\u001b[0m     \u001b[39mreturn\u001b[39;00m forward_call(\u001b[39m*\u001b[39;49m\u001b[39minput\u001b[39;49m, \u001b[39m*\u001b[39;49m\u001b[39m*\u001b[39;49mkwargs)\n\u001b[1;32m   1131\u001b[0m \u001b[39m# Do not call functions when jit is used\u001b[39;00m\n\u001b[1;32m   1132\u001b[0m full_backward_hooks, non_full_backward_hooks \u001b[39m=\u001b[39m [], []\n",
      "File \u001b[0;32m~/miniconda3/envs/cadd/lib/python3.8/site-packages/torch/nn/modules/rnn.py:932\u001b[0m, in \u001b[0;36mGRU.forward\u001b[0;34m(self, input, hx)\u001b[0m\n\u001b[1;32m    930\u001b[0m \u001b[39melse\u001b[39;00m:\n\u001b[1;32m    931\u001b[0m     \u001b[39mif\u001b[39;00m hx \u001b[39mis\u001b[39;00m \u001b[39mnot\u001b[39;00m \u001b[39mNone\u001b[39;00m \u001b[39mand\u001b[39;00m hx\u001b[39m.\u001b[39mdim() \u001b[39m!=\u001b[39m \u001b[39m3\u001b[39m:\n\u001b[0;32m--> 932\u001b[0m         \u001b[39mraise\u001b[39;00m \u001b[39mRuntimeError\u001b[39;00m(\n\u001b[1;32m    933\u001b[0m             \u001b[39mf\u001b[39m\u001b[39m\"\u001b[39m\u001b[39mFor batched 3-D input, hx should also be 3-D but got \u001b[39m\u001b[39m{\u001b[39;00mhx\u001b[39m.\u001b[39mdim()\u001b[39m}\u001b[39;00m\u001b[39m-D tensor\u001b[39m\u001b[39m\"\u001b[39m)\n\u001b[1;32m    934\u001b[0m max_batch_size \u001b[39m=\u001b[39m \u001b[39minput\u001b[39m\u001b[39m.\u001b[39msize(\u001b[39m0\u001b[39m) \u001b[39mif\u001b[39;00m \u001b[39mself\u001b[39m\u001b[39m.\u001b[39mbatch_first \u001b[39melse\u001b[39;00m \u001b[39minput\u001b[39m\u001b[39m.\u001b[39msize(\u001b[39m1\u001b[39m)\n\u001b[1;32m    935\u001b[0m sorted_indices \u001b[39m=\u001b[39m \u001b[39mNone\u001b[39;00m\n",
      "\u001b[0;31mRuntimeError\u001b[0m: For batched 3-D input, hx should also be 3-D but got 2-D tensor"
     ]
    }
   ],
   "source": [
    "test_dec, _ = dec(test_enc)\n",
    "test_dec.shape"
   ]
  },
  {
   "cell_type": "markdown",
   "id": "ebfb2119",
   "metadata": {},
   "source": [
    "# Train"
   ]
  },
  {
   "cell_type": "code",
   "execution_count": 86,
   "id": "0baf453d",
   "metadata": {},
   "outputs": [],
   "source": [
    "def train(train_loader, learn_rate, device, batch_size, EPOCHS=10):\n",
    "    \n",
    "    # Setting common hyperparameters\n",
    "    input_size = 1\n",
    "    hidden_size = 128\n",
    "    num_layers = 1\n",
    "    fp_size = 4860\n",
    "    output_size = 42\n",
    "\n",
    "    model = GRUAE(input_size=input_size, hidden_size=hidden_size, num_layers=num_layers,\n",
    "                 output_size=output_size, fp_size=fp_size, batch_size=batch_size).to(device)\n",
    "    \n",
    "    # Defining loss function and optimizer\n",
    "    criterion = nn.BCELoss()\n",
    "    optimizer = torch.optim.Adam(model.parameters(), lr=learn_rate)\n",
    "    model.train()\n",
    "    print(\"Training GRU model\\n\")\n",
    "    epoch_times = []\n",
    "    # Start training loop\n",
    "    for epoch in range(1,EPOCHS+1):\n",
    "        start_time = time.time()\n",
    "        avg_loss = 0.\n",
    "        counter = 0\n",
    "        for x, label in train_loader:\n",
    "            counter += 1\n",
    "            model.zero_grad()\n",
    "            #print(f\"x size = {x.size()}\")\n",
    "            out, h = model(x.to(device).float())\n",
    "            #print(f\"label size = {label.size()}\")\n",
    "            #print(f\"label = \\n{label}\")\n",
    "            loss = criterion(out, label.to(device).float())\n",
    "            loss.backward()\n",
    "            optimizer.step()\n",
    "            avg_loss += loss.item()\n",
    "            if counter%200 == 0:\n",
    "                print(\"Epoch {}......Step: {}/{}....... Average Loss for Epoch: {}\".format(epoch, counter, len(train_loader), avg_loss/counter))\n",
    "        current_time = time.time()\n",
    "        print(\"Epoch {}/{} Done, Total Loss: {}\".format(epoch, EPOCHS, avg_loss/len(train_loader)))\n",
    "        print(\"Total Time Elapsed: {} seconds\\n\".format(str(current_time-start_time)))\n",
    "        epoch_times.append(current_time-start_time)\n",
    "    print(\"Total Training Time: {} seconds\".format(str(sum(epoch_times))))\n",
    "    return model\n",
    "\n",
    "def evaluate(model, test_x, test_y, label_scalers):\n",
    "    model.eval()\n",
    "    outputs = []\n",
    "    targets = []\n",
    "    start_time = time.time()\n",
    "    for i in test_x.keys():\n",
    "        inp = torch.from_numpy(np.array(test_x[i]))\n",
    "        labs = torch.from_numpy(np.array(test_y[i]))\n",
    "        h = model.init_hidden(inp.shape[0])\n",
    "        out, h = model(inp.to(device).float())\n",
    "        outputs.append(label_scalers[i].inverse_transform(out.cpu().detach().numpy()).reshape(-1))\n",
    "        targets.append(label_scalers[i].inverse_transform(labs.numpy()).reshape(-1))\n",
    "    print(\"Evaluation Time: {}\".format(str(time.time()-start_time)))\n",
    "    sMAPE = 0\n",
    "    for i in range(len(outputs)):\n",
    "        sMAPE += np.mean(abs(outputs[i]-targets[i])/(targets[i]+outputs[i])/2)/len(outputs)\n",
    "    print(\"sMAPE: {}%\".format(sMAPE*100))\n",
    "    return outputs, targets, sMAPE"
   ]
  },
  {
   "cell_type": "code",
   "execution_count": 87,
   "id": "8675f09f",
   "metadata": {},
   "outputs": [
    {
     "name": "stdout",
     "output_type": "stream",
     "text": [
      "Training GRU model\n",
      "\n",
      "input_batch_size: 32\n",
      "start_token: torch.Size([114, 42])\n",
      "start_token: torch.Size([32, 114, 42])\n"
     ]
    },
    {
     "ename": "RuntimeError",
     "evalue": "input.size(-1) must be equal to input_size. Expected 1, got 42",
     "output_type": "error",
     "traceback": [
      "\u001b[0;31m---------------------------------------------------------------------------\u001b[0m",
      "\u001b[0;31mRuntimeError\u001b[0m                              Traceback (most recent call last)",
      "Cell \u001b[0;32mIn[87], line 2\u001b[0m\n\u001b[1;32m      1\u001b[0m lr \u001b[39m=\u001b[39m \u001b[39m0.001\u001b[39m\n\u001b[0;32m----> 2\u001b[0m model \u001b[39m=\u001b[39m train(train_loader, lr, batch_size\u001b[39m=\u001b[39;49mbatch_size, device\u001b[39m=\u001b[39;49mdevice)\n",
      "Cell \u001b[0;32mIn[86], line 28\u001b[0m, in \u001b[0;36mtrain\u001b[0;34m(train_loader, learn_rate, device, batch_size, EPOCHS)\u001b[0m\n\u001b[1;32m     26\u001b[0m model\u001b[39m.\u001b[39mzero_grad()\n\u001b[1;32m     27\u001b[0m \u001b[39m#print(f\"x size = {x.size()}\")\u001b[39;00m\n\u001b[0;32m---> 28\u001b[0m out, h \u001b[39m=\u001b[39m model(x\u001b[39m.\u001b[39;49mto(device)\u001b[39m.\u001b[39;49mfloat())\n\u001b[1;32m     29\u001b[0m \u001b[39m#print(f\"label size = {label.size()}\")\u001b[39;00m\n\u001b[1;32m     30\u001b[0m \u001b[39m#print(f\"label = \\n{label}\")\u001b[39;00m\n\u001b[1;32m     31\u001b[0m loss \u001b[39m=\u001b[39m criterion(out, label\u001b[39m.\u001b[39mto(device)\u001b[39m.\u001b[39mfloat())\n",
      "File \u001b[0;32m~/miniconda3/envs/cadd/lib/python3.8/site-packages/torch/nn/modules/module.py:1130\u001b[0m, in \u001b[0;36mModule._call_impl\u001b[0;34m(self, *input, **kwargs)\u001b[0m\n\u001b[1;32m   1126\u001b[0m \u001b[39m# If we don't have any hooks, we want to skip the rest of the logic in\u001b[39;00m\n\u001b[1;32m   1127\u001b[0m \u001b[39m# this function, and just call forward.\u001b[39;00m\n\u001b[1;32m   1128\u001b[0m \u001b[39mif\u001b[39;00m \u001b[39mnot\u001b[39;00m (\u001b[39mself\u001b[39m\u001b[39m.\u001b[39m_backward_hooks \u001b[39mor\u001b[39;00m \u001b[39mself\u001b[39m\u001b[39m.\u001b[39m_forward_hooks \u001b[39mor\u001b[39;00m \u001b[39mself\u001b[39m\u001b[39m.\u001b[39m_forward_pre_hooks \u001b[39mor\u001b[39;00m _global_backward_hooks\n\u001b[1;32m   1129\u001b[0m         \u001b[39mor\u001b[39;00m _global_forward_hooks \u001b[39mor\u001b[39;00m _global_forward_pre_hooks):\n\u001b[0;32m-> 1130\u001b[0m     \u001b[39mreturn\u001b[39;00m forward_call(\u001b[39m*\u001b[39;49m\u001b[39minput\u001b[39;49m, \u001b[39m*\u001b[39;49m\u001b[39m*\u001b[39;49mkwargs)\n\u001b[1;32m   1131\u001b[0m \u001b[39m# Do not call functions when jit is used\u001b[39;00m\n\u001b[1;32m   1132\u001b[0m full_backward_hooks, non_full_backward_hooks \u001b[39m=\u001b[39m [], []\n",
      "Cell \u001b[0;32mIn[85], line 65\u001b[0m, in \u001b[0;36mGRUAE.forward\u001b[0;34m(self, x)\u001b[0m\n\u001b[1;32m     63\u001b[0m encoded \u001b[39m=\u001b[39m \u001b[39mself\u001b[39m\u001b[39m.\u001b[39mencoder(x)  \u001b[39m# (batch_size, 128)\u001b[39;00m\n\u001b[1;32m     64\u001b[0m encoded \u001b[39m=\u001b[39m encoded\u001b[39m.\u001b[39munsqueeze(dim\u001b[39m=\u001b[39m\u001b[39m2\u001b[39m)  \u001b[39m# (batch_size, 128, 1)\u001b[39;00m\n\u001b[0;32m---> 65\u001b[0m decoded, h \u001b[39m=\u001b[39m \u001b[39mself\u001b[39;49m\u001b[39m.\u001b[39;49mdecoder(encoded) \u001b[39m# (batch_size, 114, 42)\u001b[39;00m\n\u001b[1;32m     66\u001b[0m decoded \u001b[39m=\u001b[39m \u001b[39mself\u001b[39m\u001b[39m.\u001b[39msoftmax(decoded)\n\u001b[1;32m     67\u001b[0m \u001b[39m#print(f\"Model out size = {decoded.size()}\")\u001b[39;00m\n\u001b[1;32m     68\u001b[0m \u001b[39m#print(f\"Model out = \\n{decoded}\")\u001b[39;00m\n",
      "File \u001b[0;32m~/miniconda3/envs/cadd/lib/python3.8/site-packages/torch/nn/modules/module.py:1130\u001b[0m, in \u001b[0;36mModule._call_impl\u001b[0;34m(self, *input, **kwargs)\u001b[0m\n\u001b[1;32m   1126\u001b[0m \u001b[39m# If we don't have any hooks, we want to skip the rest of the logic in\u001b[39;00m\n\u001b[1;32m   1127\u001b[0m \u001b[39m# this function, and just call forward.\u001b[39;00m\n\u001b[1;32m   1128\u001b[0m \u001b[39mif\u001b[39;00m \u001b[39mnot\u001b[39;00m (\u001b[39mself\u001b[39m\u001b[39m.\u001b[39m_backward_hooks \u001b[39mor\u001b[39;00m \u001b[39mself\u001b[39m\u001b[39m.\u001b[39m_forward_hooks \u001b[39mor\u001b[39;00m \u001b[39mself\u001b[39m\u001b[39m.\u001b[39m_forward_pre_hooks \u001b[39mor\u001b[39;00m _global_backward_hooks\n\u001b[1;32m   1129\u001b[0m         \u001b[39mor\u001b[39;00m _global_forward_hooks \u001b[39mor\u001b[39;00m _global_forward_pre_hooks):\n\u001b[0;32m-> 1130\u001b[0m     \u001b[39mreturn\u001b[39;00m forward_call(\u001b[39m*\u001b[39;49m\u001b[39minput\u001b[39;49m, \u001b[39m*\u001b[39;49m\u001b[39m*\u001b[39;49mkwargs)\n\u001b[1;32m   1131\u001b[0m \u001b[39m# Do not call functions when jit is used\u001b[39;00m\n\u001b[1;32m   1132\u001b[0m full_backward_hooks, non_full_backward_hooks \u001b[39m=\u001b[39m [], []\n",
      "Cell \u001b[0;32mIn[85], line 41\u001b[0m, in \u001b[0;36mDecoder.forward\u001b[0;34m(self, hidden)\u001b[0m\n\u001b[1;32m     39\u001b[0m results \u001b[39m=\u001b[39m torch\u001b[39m.\u001b[39mzeros(\u001b[39mself\u001b[39m\u001b[39m.\u001b[39mbatch_size, \u001b[39m114\u001b[39m, \u001b[39m42\u001b[39m)\u001b[39m.\u001b[39mto(device)\n\u001b[1;32m     40\u001b[0m \u001b[39mfor\u001b[39;00m i \u001b[39min\u001b[39;00m \u001b[39mrange\u001b[39m(\u001b[39m114\u001b[39m):\n\u001b[0;32m---> 41\u001b[0m     out, _ \u001b[39m=\u001b[39m \u001b[39mself\u001b[39;49m\u001b[39m.\u001b[39;49mgru(start_token, hidden)\n\u001b[1;32m     42\u001b[0m     out \u001b[39m=\u001b[39m \u001b[39mself\u001b[39m\u001b[39m.\u001b[39mfc(out)\n\u001b[1;32m     43\u001b[0m     out \u001b[39m=\u001b[39m \u001b[39mself\u001b[39m\u001b[39m.\u001b[39mrelu(out)\n",
      "File \u001b[0;32m~/miniconda3/envs/cadd/lib/python3.8/site-packages/torch/nn/modules/module.py:1130\u001b[0m, in \u001b[0;36mModule._call_impl\u001b[0;34m(self, *input, **kwargs)\u001b[0m\n\u001b[1;32m   1126\u001b[0m \u001b[39m# If we don't have any hooks, we want to skip the rest of the logic in\u001b[39;00m\n\u001b[1;32m   1127\u001b[0m \u001b[39m# this function, and just call forward.\u001b[39;00m\n\u001b[1;32m   1128\u001b[0m \u001b[39mif\u001b[39;00m \u001b[39mnot\u001b[39;00m (\u001b[39mself\u001b[39m\u001b[39m.\u001b[39m_backward_hooks \u001b[39mor\u001b[39;00m \u001b[39mself\u001b[39m\u001b[39m.\u001b[39m_forward_hooks \u001b[39mor\u001b[39;00m \u001b[39mself\u001b[39m\u001b[39m.\u001b[39m_forward_pre_hooks \u001b[39mor\u001b[39;00m _global_backward_hooks\n\u001b[1;32m   1129\u001b[0m         \u001b[39mor\u001b[39;00m _global_forward_hooks \u001b[39mor\u001b[39;00m _global_forward_pre_hooks):\n\u001b[0;32m-> 1130\u001b[0m     \u001b[39mreturn\u001b[39;00m forward_call(\u001b[39m*\u001b[39;49m\u001b[39minput\u001b[39;49m, \u001b[39m*\u001b[39;49m\u001b[39m*\u001b[39;49mkwargs)\n\u001b[1;32m   1131\u001b[0m \u001b[39m# Do not call functions when jit is used\u001b[39;00m\n\u001b[1;32m   1132\u001b[0m full_backward_hooks, non_full_backward_hooks \u001b[39m=\u001b[39m [], []\n",
      "File \u001b[0;32m~/miniconda3/envs/cadd/lib/python3.8/site-packages/torch/nn/modules/rnn.py:948\u001b[0m, in \u001b[0;36mGRU.forward\u001b[0;34m(self, input, hx)\u001b[0m\n\u001b[1;32m    943\u001b[0m \u001b[39melse\u001b[39;00m:\n\u001b[1;32m    944\u001b[0m     \u001b[39m# Each batch of the hidden state should match the input sequence that\u001b[39;00m\n\u001b[1;32m    945\u001b[0m     \u001b[39m# the user believes he/she is passing in.\u001b[39;00m\n\u001b[1;32m    946\u001b[0m     hx \u001b[39m=\u001b[39m \u001b[39mself\u001b[39m\u001b[39m.\u001b[39mpermute_hidden(hx, sorted_indices)\n\u001b[0;32m--> 948\u001b[0m \u001b[39mself\u001b[39;49m\u001b[39m.\u001b[39;49mcheck_forward_args(\u001b[39minput\u001b[39;49m, hx, batch_sizes)\n\u001b[1;32m    949\u001b[0m \u001b[39mif\u001b[39;00m batch_sizes \u001b[39mis\u001b[39;00m \u001b[39mNone\u001b[39;00m:\n\u001b[1;32m    950\u001b[0m     result \u001b[39m=\u001b[39m _VF\u001b[39m.\u001b[39mgru(\u001b[39minput\u001b[39m, hx, \u001b[39mself\u001b[39m\u001b[39m.\u001b[39m_flat_weights, \u001b[39mself\u001b[39m\u001b[39m.\u001b[39mbias, \u001b[39mself\u001b[39m\u001b[39m.\u001b[39mnum_layers,\n\u001b[1;32m    951\u001b[0m                      \u001b[39mself\u001b[39m\u001b[39m.\u001b[39mdropout, \u001b[39mself\u001b[39m\u001b[39m.\u001b[39mtraining, \u001b[39mself\u001b[39m\u001b[39m.\u001b[39mbidirectional, \u001b[39mself\u001b[39m\u001b[39m.\u001b[39mbatch_first)\n",
      "File \u001b[0;32m~/miniconda3/envs/cadd/lib/python3.8/site-packages/torch/nn/modules/rnn.py:229\u001b[0m, in \u001b[0;36mRNNBase.check_forward_args\u001b[0;34m(self, input, hidden, batch_sizes)\u001b[0m\n\u001b[1;32m    228\u001b[0m \u001b[39mdef\u001b[39;00m \u001b[39mcheck_forward_args\u001b[39m(\u001b[39mself\u001b[39m, \u001b[39minput\u001b[39m: Tensor, hidden: Tensor, batch_sizes: Optional[Tensor]):\n\u001b[0;32m--> 229\u001b[0m     \u001b[39mself\u001b[39;49m\u001b[39m.\u001b[39;49mcheck_input(\u001b[39minput\u001b[39;49m, batch_sizes)\n\u001b[1;32m    230\u001b[0m     expected_hidden_size \u001b[39m=\u001b[39m \u001b[39mself\u001b[39m\u001b[39m.\u001b[39mget_expected_hidden_size(\u001b[39minput\u001b[39m, batch_sizes)\n\u001b[1;32m    232\u001b[0m     \u001b[39mself\u001b[39m\u001b[39m.\u001b[39mcheck_hidden_size(hidden, expected_hidden_size)\n",
      "File \u001b[0;32m~/miniconda3/envs/cadd/lib/python3.8/site-packages/torch/nn/modules/rnn.py:205\u001b[0m, in \u001b[0;36mRNNBase.check_input\u001b[0;34m(self, input, batch_sizes)\u001b[0m\n\u001b[1;32m    201\u001b[0m     \u001b[39mraise\u001b[39;00m \u001b[39mRuntimeError\u001b[39;00m(\n\u001b[1;32m    202\u001b[0m         \u001b[39m'\u001b[39m\u001b[39minput must have \u001b[39m\u001b[39m{}\u001b[39;00m\u001b[39m dimensions, got \u001b[39m\u001b[39m{}\u001b[39;00m\u001b[39m'\u001b[39m\u001b[39m.\u001b[39mformat(\n\u001b[1;32m    203\u001b[0m             expected_input_dim, \u001b[39minput\u001b[39m\u001b[39m.\u001b[39mdim()))\n\u001b[1;32m    204\u001b[0m \u001b[39mif\u001b[39;00m \u001b[39mself\u001b[39m\u001b[39m.\u001b[39minput_size \u001b[39m!=\u001b[39m \u001b[39minput\u001b[39m\u001b[39m.\u001b[39msize(\u001b[39m-\u001b[39m\u001b[39m1\u001b[39m):\n\u001b[0;32m--> 205\u001b[0m     \u001b[39mraise\u001b[39;00m \u001b[39mRuntimeError\u001b[39;00m(\n\u001b[1;32m    206\u001b[0m         \u001b[39m'\u001b[39m\u001b[39minput.size(-1) must be equal to input_size. Expected \u001b[39m\u001b[39m{}\u001b[39;00m\u001b[39m, got \u001b[39m\u001b[39m{}\u001b[39;00m\u001b[39m'\u001b[39m\u001b[39m.\u001b[39mformat(\n\u001b[1;32m    207\u001b[0m             \u001b[39mself\u001b[39m\u001b[39m.\u001b[39minput_size, \u001b[39minput\u001b[39m\u001b[39m.\u001b[39msize(\u001b[39m-\u001b[39m\u001b[39m1\u001b[39m)))\n",
      "\u001b[0;31mRuntimeError\u001b[0m: input.size(-1) must be equal to input_size. Expected 1, got 42"
     ]
    }
   ],
   "source": [
    "lr = 0.001\n",
    "model = train(train_loader, lr, batch_size=batch_size, device=device)"
   ]
  },
  {
   "cell_type": "markdown",
   "id": "04d504ac",
   "metadata": {},
   "source": [
    "## Model output to selfies"
   ]
  },
  {
   "cell_type": "code",
   "execution_count": 48,
   "id": "11083261",
   "metadata": {},
   "outputs": [
    {
     "data": {
      "text/plain": [
       "tensor([[0., 1., 0.,  ..., 0., 0., 1.]], device='cuda:0')"
      ]
     },
     "execution_count": 48,
     "metadata": {},
     "output_type": "execute_result"
    }
   ],
   "source": [
    "example_fp = np.random.rand(4860)\n",
    "example_fp = (example_fp > 0.5)\n",
    "example_fp = torch.from_numpy(example_fp)\n",
    "example_fp = torch.unsqueeze(example_fp, 0).to(device)\n",
    "example_fp = example_fp.float()\n",
    "example_fp"
   ]
  },
  {
   "cell_type": "code",
   "execution_count": 49,
   "id": "bb08c1a0",
   "metadata": {},
   "outputs": [
    {
     "data": {
      "text/plain": [
       "GRUAE(\n",
       "  (encoder): Encoder(\n",
       "    (relu): ReLU()\n",
       "    (fc1): Linear(in_features=4860, out_features=2048, bias=True)\n",
       "    (fc2): Linear(in_features=2048, out_features=1024, bias=True)\n",
       "    (fc3): Linear(in_features=1024, out_features=512, bias=True)\n",
       "    (fc4): Linear(in_features=512, out_features=256, bias=True)\n",
       "    (fc5): Linear(in_features=256, out_features=114, bias=True)\n",
       "  )\n",
       "  (decoder): Decoder(\n",
       "    (gru): GRU(1, 128, batch_first=True)\n",
       "    (fc): Linear(in_features=128, out_features=42, bias=True)\n",
       "    (relu): ReLU()\n",
       "    (dropout): Dropout(p=0.2, inplace=False)\n",
       "  )\n",
       "  (softmax): Softmax(dim=1)\n",
       ")"
      ]
     },
     "execution_count": 49,
     "metadata": {},
     "output_type": "execute_result"
    }
   ],
   "source": [
    "model.eval()"
   ]
  },
  {
   "cell_type": "code",
   "execution_count": 50,
   "id": "9eac50bb",
   "metadata": {},
   "outputs": [
    {
     "ename": "RuntimeError",
     "evalue": "Expected hidden size (1, 1, 128), got [1, 32, 128]",
     "output_type": "error",
     "traceback": [
      "\u001b[0;31m---------------------------------------------------------------------------\u001b[0m",
      "\u001b[0;31mRuntimeError\u001b[0m                              Traceback (most recent call last)",
      "Cell \u001b[0;32mIn[50], line 1\u001b[0m\n\u001b[0;32m----> 1\u001b[0m raw_out \u001b[39m=\u001b[39m model(example_fp)\n",
      "File \u001b[0;32m~/miniconda3/envs/cadd/lib/python3.8/site-packages/torch/nn/modules/module.py:1130\u001b[0m, in \u001b[0;36mModule._call_impl\u001b[0;34m(self, *input, **kwargs)\u001b[0m\n\u001b[1;32m   1126\u001b[0m \u001b[39m# If we don't have any hooks, we want to skip the rest of the logic in\u001b[39;00m\n\u001b[1;32m   1127\u001b[0m \u001b[39m# this function, and just call forward.\u001b[39;00m\n\u001b[1;32m   1128\u001b[0m \u001b[39mif\u001b[39;00m \u001b[39mnot\u001b[39;00m (\u001b[39mself\u001b[39m\u001b[39m.\u001b[39m_backward_hooks \u001b[39mor\u001b[39;00m \u001b[39mself\u001b[39m\u001b[39m.\u001b[39m_forward_hooks \u001b[39mor\u001b[39;00m \u001b[39mself\u001b[39m\u001b[39m.\u001b[39m_forward_pre_hooks \u001b[39mor\u001b[39;00m _global_backward_hooks\n\u001b[1;32m   1129\u001b[0m         \u001b[39mor\u001b[39;00m _global_forward_hooks \u001b[39mor\u001b[39;00m _global_forward_pre_hooks):\n\u001b[0;32m-> 1130\u001b[0m     \u001b[39mreturn\u001b[39;00m forward_call(\u001b[39m*\u001b[39;49m\u001b[39minput\u001b[39;49m, \u001b[39m*\u001b[39;49m\u001b[39m*\u001b[39;49mkwargs)\n\u001b[1;32m   1131\u001b[0m \u001b[39m# Do not call functions when jit is used\u001b[39;00m\n\u001b[1;32m   1132\u001b[0m full_backward_hooks, non_full_backward_hooks \u001b[39m=\u001b[39m [], []\n",
      "Cell \u001b[0;32mIn[41], line 54\u001b[0m, in \u001b[0;36mGRUAE.forward\u001b[0;34m(self, x)\u001b[0m\n\u001b[1;32m     52\u001b[0m encoded \u001b[39m=\u001b[39m \u001b[39mself\u001b[39m\u001b[39m.\u001b[39mencoder(x)  \u001b[39m# (batch_size, 128)\u001b[39;00m\n\u001b[1;32m     53\u001b[0m encoded \u001b[39m=\u001b[39m encoded\u001b[39m.\u001b[39munsqueeze(dim\u001b[39m=\u001b[39m\u001b[39m2\u001b[39m)  \u001b[39m# (batch_size, 128, 1)\u001b[39;00m\n\u001b[0;32m---> 54\u001b[0m decoded, h \u001b[39m=\u001b[39m \u001b[39mself\u001b[39;49m\u001b[39m.\u001b[39;49mdecoder(encoded, \u001b[39mself\u001b[39;49m\u001b[39m.\u001b[39;49mdecoder\u001b[39m.\u001b[39;49minit_hidden(\u001b[39mself\u001b[39;49m\u001b[39m.\u001b[39;49mbatch_size))\n\u001b[1;32m     55\u001b[0m decoded \u001b[39m=\u001b[39m \u001b[39mself\u001b[39m\u001b[39m.\u001b[39msoftmax(decoded)\n\u001b[1;32m     56\u001b[0m \u001b[39m#print(f\"Model out size = {decoded.size()}\")\u001b[39;00m\n\u001b[1;32m     57\u001b[0m \u001b[39m#print(f\"Model out = \\n{decoded}\")\u001b[39;00m\n",
      "File \u001b[0;32m~/miniconda3/envs/cadd/lib/python3.8/site-packages/torch/nn/modules/module.py:1130\u001b[0m, in \u001b[0;36mModule._call_impl\u001b[0;34m(self, *input, **kwargs)\u001b[0m\n\u001b[1;32m   1126\u001b[0m \u001b[39m# If we don't have any hooks, we want to skip the rest of the logic in\u001b[39;00m\n\u001b[1;32m   1127\u001b[0m \u001b[39m# this function, and just call forward.\u001b[39;00m\n\u001b[1;32m   1128\u001b[0m \u001b[39mif\u001b[39;00m \u001b[39mnot\u001b[39;00m (\u001b[39mself\u001b[39m\u001b[39m.\u001b[39m_backward_hooks \u001b[39mor\u001b[39;00m \u001b[39mself\u001b[39m\u001b[39m.\u001b[39m_forward_hooks \u001b[39mor\u001b[39;00m \u001b[39mself\u001b[39m\u001b[39m.\u001b[39m_forward_pre_hooks \u001b[39mor\u001b[39;00m _global_backward_hooks\n\u001b[1;32m   1129\u001b[0m         \u001b[39mor\u001b[39;00m _global_forward_hooks \u001b[39mor\u001b[39;00m _global_forward_pre_hooks):\n\u001b[0;32m-> 1130\u001b[0m     \u001b[39mreturn\u001b[39;00m forward_call(\u001b[39m*\u001b[39;49m\u001b[39minput\u001b[39;49m, \u001b[39m*\u001b[39;49m\u001b[39m*\u001b[39;49mkwargs)\n\u001b[1;32m   1131\u001b[0m \u001b[39m# Do not call functions when jit is used\u001b[39;00m\n\u001b[1;32m   1132\u001b[0m full_backward_hooks, non_full_backward_hooks \u001b[39m=\u001b[39m [], []\n",
      "Cell \u001b[0;32mIn[41], line 31\u001b[0m, in \u001b[0;36mDecoder.forward\u001b[0;34m(self, x, hidden)\u001b[0m\n\u001b[1;32m     30\u001b[0m \u001b[39mdef\u001b[39;00m \u001b[39mforward\u001b[39m(\u001b[39mself\u001b[39m, x, hidden):\n\u001b[0;32m---> 31\u001b[0m     out, hidden \u001b[39m=\u001b[39m \u001b[39mself\u001b[39;49m\u001b[39m.\u001b[39;49mgru(x, hidden)\n\u001b[1;32m     32\u001b[0m     out \u001b[39m=\u001b[39m \u001b[39mself\u001b[39m\u001b[39m.\u001b[39mdropout(out)\n\u001b[1;32m     33\u001b[0m     \u001b[39m#out = out.contiguous().view(-1, self.hidden_size)\u001b[39;00m\n",
      "File \u001b[0;32m~/miniconda3/envs/cadd/lib/python3.8/site-packages/torch/nn/modules/module.py:1130\u001b[0m, in \u001b[0;36mModule._call_impl\u001b[0;34m(self, *input, **kwargs)\u001b[0m\n\u001b[1;32m   1126\u001b[0m \u001b[39m# If we don't have any hooks, we want to skip the rest of the logic in\u001b[39;00m\n\u001b[1;32m   1127\u001b[0m \u001b[39m# this function, and just call forward.\u001b[39;00m\n\u001b[1;32m   1128\u001b[0m \u001b[39mif\u001b[39;00m \u001b[39mnot\u001b[39;00m (\u001b[39mself\u001b[39m\u001b[39m.\u001b[39m_backward_hooks \u001b[39mor\u001b[39;00m \u001b[39mself\u001b[39m\u001b[39m.\u001b[39m_forward_hooks \u001b[39mor\u001b[39;00m \u001b[39mself\u001b[39m\u001b[39m.\u001b[39m_forward_pre_hooks \u001b[39mor\u001b[39;00m _global_backward_hooks\n\u001b[1;32m   1129\u001b[0m         \u001b[39mor\u001b[39;00m _global_forward_hooks \u001b[39mor\u001b[39;00m _global_forward_pre_hooks):\n\u001b[0;32m-> 1130\u001b[0m     \u001b[39mreturn\u001b[39;00m forward_call(\u001b[39m*\u001b[39;49m\u001b[39minput\u001b[39;49m, \u001b[39m*\u001b[39;49m\u001b[39m*\u001b[39;49mkwargs)\n\u001b[1;32m   1131\u001b[0m \u001b[39m# Do not call functions when jit is used\u001b[39;00m\n\u001b[1;32m   1132\u001b[0m full_backward_hooks, non_full_backward_hooks \u001b[39m=\u001b[39m [], []\n",
      "File \u001b[0;32m~/miniconda3/envs/cadd/lib/python3.8/site-packages/torch/nn/modules/rnn.py:948\u001b[0m, in \u001b[0;36mGRU.forward\u001b[0;34m(self, input, hx)\u001b[0m\n\u001b[1;32m    943\u001b[0m \u001b[39melse\u001b[39;00m:\n\u001b[1;32m    944\u001b[0m     \u001b[39m# Each batch of the hidden state should match the input sequence that\u001b[39;00m\n\u001b[1;32m    945\u001b[0m     \u001b[39m# the user believes he/she is passing in.\u001b[39;00m\n\u001b[1;32m    946\u001b[0m     hx \u001b[39m=\u001b[39m \u001b[39mself\u001b[39m\u001b[39m.\u001b[39mpermute_hidden(hx, sorted_indices)\n\u001b[0;32m--> 948\u001b[0m \u001b[39mself\u001b[39;49m\u001b[39m.\u001b[39;49mcheck_forward_args(\u001b[39minput\u001b[39;49m, hx, batch_sizes)\n\u001b[1;32m    949\u001b[0m \u001b[39mif\u001b[39;00m batch_sizes \u001b[39mis\u001b[39;00m \u001b[39mNone\u001b[39;00m:\n\u001b[1;32m    950\u001b[0m     result \u001b[39m=\u001b[39m _VF\u001b[39m.\u001b[39mgru(\u001b[39minput\u001b[39m, hx, \u001b[39mself\u001b[39m\u001b[39m.\u001b[39m_flat_weights, \u001b[39mself\u001b[39m\u001b[39m.\u001b[39mbias, \u001b[39mself\u001b[39m\u001b[39m.\u001b[39mnum_layers,\n\u001b[1;32m    951\u001b[0m                      \u001b[39mself\u001b[39m\u001b[39m.\u001b[39mdropout, \u001b[39mself\u001b[39m\u001b[39m.\u001b[39mtraining, \u001b[39mself\u001b[39m\u001b[39m.\u001b[39mbidirectional, \u001b[39mself\u001b[39m\u001b[39m.\u001b[39mbatch_first)\n",
      "File \u001b[0;32m~/miniconda3/envs/cadd/lib/python3.8/site-packages/torch/nn/modules/rnn.py:232\u001b[0m, in \u001b[0;36mRNNBase.check_forward_args\u001b[0;34m(self, input, hidden, batch_sizes)\u001b[0m\n\u001b[1;32m    229\u001b[0m \u001b[39mself\u001b[39m\u001b[39m.\u001b[39mcheck_input(\u001b[39minput\u001b[39m, batch_sizes)\n\u001b[1;32m    230\u001b[0m expected_hidden_size \u001b[39m=\u001b[39m \u001b[39mself\u001b[39m\u001b[39m.\u001b[39mget_expected_hidden_size(\u001b[39minput\u001b[39m, batch_sizes)\n\u001b[0;32m--> 232\u001b[0m \u001b[39mself\u001b[39;49m\u001b[39m.\u001b[39;49mcheck_hidden_size(hidden, expected_hidden_size)\n",
      "File \u001b[0;32m~/miniconda3/envs/cadd/lib/python3.8/site-packages/torch/nn/modules/rnn.py:226\u001b[0m, in \u001b[0;36mRNNBase.check_hidden_size\u001b[0;34m(self, hx, expected_hidden_size, msg)\u001b[0m\n\u001b[1;32m    223\u001b[0m \u001b[39mdef\u001b[39;00m \u001b[39mcheck_hidden_size\u001b[39m(\u001b[39mself\u001b[39m, hx: Tensor, expected_hidden_size: Tuple[\u001b[39mint\u001b[39m, \u001b[39mint\u001b[39m, \u001b[39mint\u001b[39m],\n\u001b[1;32m    224\u001b[0m                       msg: \u001b[39mstr\u001b[39m \u001b[39m=\u001b[39m \u001b[39m'\u001b[39m\u001b[39mExpected hidden size \u001b[39m\u001b[39m{}\u001b[39;00m\u001b[39m, got \u001b[39m\u001b[39m{}\u001b[39;00m\u001b[39m'\u001b[39m) \u001b[39m-\u001b[39m\u001b[39m>\u001b[39m \u001b[39mNone\u001b[39;00m:\n\u001b[1;32m    225\u001b[0m     \u001b[39mif\u001b[39;00m hx\u001b[39m.\u001b[39msize() \u001b[39m!=\u001b[39m expected_hidden_size:\n\u001b[0;32m--> 226\u001b[0m         \u001b[39mraise\u001b[39;00m \u001b[39mRuntimeError\u001b[39;00m(msg\u001b[39m.\u001b[39mformat(expected_hidden_size, \u001b[39mlist\u001b[39m(hx\u001b[39m.\u001b[39msize())))\n",
      "\u001b[0;31mRuntimeError\u001b[0m: Expected hidden size (1, 1, 128), got [1, 32, 128]"
     ]
    }
   ],
   "source": [
    "raw_out = model(example_fp)"
   ]
  },
  {
   "cell_type": "code",
   "execution_count": null,
   "id": "453c2b84",
   "metadata": {},
   "outputs": [],
   "source": [
    "vectorized_selfie = torch.argmax(raw_out)\n",
    "devectorized_selfie = vectorizer.devectorize(vectorized_selfie)\n",
    "print(devectorized_selfie)"
   ]
  },
  {
   "cell_type": "code",
   "execution_count": null,
   "id": "13edb23c",
   "metadata": {},
   "outputs": [],
   "source": []
  }
 ],
 "metadata": {
  "kernelspec": {
   "display_name": "Python 3 (ipykernel)",
   "language": "python",
   "name": "python3"
  },
  "language_info": {
   "codemirror_mode": {
    "name": "ipython",
    "version": 3
   },
   "file_extension": ".py",
   "mimetype": "text/x-python",
   "name": "python",
   "nbconvert_exporter": "python",
   "pygments_lexer": "ipython3",
   "version": "3.8.16"
  }
 },
 "nbformat": 4,
 "nbformat_minor": 5
}
