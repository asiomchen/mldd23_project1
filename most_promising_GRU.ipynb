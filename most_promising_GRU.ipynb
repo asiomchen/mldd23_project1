{
 "cells": [
  {
   "cell_type": "code",
   "execution_count": 25,
   "id": "6ef6f3f5",
   "metadata": {},
   "outputs": [],
   "source": [
    "import torch\n",
    "import torch.nn as nn\n",
    "import torch.optim as optim\n",
    "import torch.utils.data as data_utils\n",
    "import torch.functional as F\n",
    "import numpy as np\n",
    "import pandas as pd\n",
    "import time\n",
    "import random\n",
    "from tqdm import tqdm_notebook\n",
    "\n",
    "device = torch.device('cuda' if torch.cuda.is_available() else 'cpu')"
   ]
  },
  {
   "cell_type": "markdown",
   "id": "f16dfcb1",
   "metadata": {},
   "source": [
    "# Data prep"
   ]
  },
  {
   "cell_type": "code",
   "execution_count": 26,
   "id": "8a3fbcdb",
   "metadata": {},
   "outputs": [
    {
     "name": "stdout",
     "output_type": "stream",
     "text": [
      "Pad to len: 82\n"
     ]
    }
   ],
   "source": [
    "import selfies as sf\n",
    "data = pd.read_csv('./GRU_data/250k_selfies.csv')\n",
    "alphabet = sf.get_alphabet_from_selfies(data.selfies)\n",
    "#alphabet.add(\"[nop]\") # [nop] is a special padding symbol\n",
    "alphabet.add(\"[start]\")\n",
    "alphabet.add(\"[end]\")\n",
    "alphabet.add(\"[nop]\")\n",
    "alphabet = list(sorted(alphabet))\n",
    "pad_to_len = max(sf.len_selfies(s) for s in data.selfies) + 10\n",
    "print(\"Pad to len:\", pad_to_len)\n",
    "symbol_to_idx = {s: i for i, s in enumerate(alphabet)}\n",
    "idx2char = {i: s for i, s in enumerate(alphabet)}"
   ]
  },
  {
   "cell_type": "code",
   "execution_count": 27,
   "id": "72177872",
   "metadata": {},
   "outputs": [
    {
     "data": {
      "text/plain": [
       "42"
      ]
     },
     "execution_count": 27,
     "metadata": {},
     "output_type": "execute_result"
    }
   ],
   "source": [
    "len(alphabet)"
   ]
  },
  {
   "cell_type": "code",
   "execution_count": 28,
   "id": "f55a6d94",
   "metadata": {},
   "outputs": [],
   "source": [
    "import re\n",
    "class SELFIESVectorizer:\n",
    "    def __init__(self, alphabet, pad_to_len=None):\n",
    "        self.alphabet = alphabet\n",
    "        self.char2idx = {s: i for i, s in enumerate(alphabet)}\n",
    "        self.idx2char = {i: s for i, s in enumerate(alphabet)}\n",
    "        self.pad_to_len = pad_to_len\n",
    "    def vectorize(self, selfie, no_special=False):\n",
    "        ''' Vectorize a list of SMILES strings to a numpy array of shape (len(smiles), embed, len(charset))'''\n",
    "        if no_special:\n",
    "            splited = self.split_selfi(selfie)\n",
    "        elif self.pad_to_len is None:\n",
    "            splited = ['[start]'] + self.split_selfi(selfie) + ['[end]']\n",
    "        else:\n",
    "            splited = ['[start]'] + self.split_selfi(selfie) + ['[end]'] + ['[nop]'] * (self.pad_to_len - len(self.split_selfi(selfie)) - 2)\n",
    "        X = np.zeros((len(splited), len(self.alphabet)))\n",
    "        for i in range(len(splited)):\n",
    "            X[i, self.char2idx[splited[i]]] = 1\n",
    "        return X\n",
    "    def devectorize(self, ohe, remove_special=False):\n",
    "        ''' Devectorize a numpy array of shape (len(smiles), embed, len(charset)) to a list of SMILES strings'''\n",
    "        selfie_str = ''\n",
    "        for j in range(ohe.shape[0]):\n",
    "            idx = np.argmax(ohe[j, :])\n",
    "            if remove_special and (self.idx2char[idx] == '[start]' or self.idx2char[idx] == '[end]'):\n",
    "                continue\n",
    "            selfie_str += self.idx2char[idx]\n",
    "        return selfie_str\n",
    "    def idxize(self, selfie, no_special=False):\n",
    "        if no_special:\n",
    "            splited = self.split_selfi(selfie)\n",
    "        else:\n",
    "            splited = ['[start]'] + self.split_selfi(selfie) + ['[end]'] + ['[nop]'] * (self.pad_to_len - len(self.split_selfi(selfie)) - 2)\n",
    "        return np.array([self.char2idx[s] for s in splited])\n",
    "    def deidxize(self, idx):\n",
    "        return \"\".join([self.idx2char[i] for i in idx])\n",
    "    def split_selfi(self, selfie):\n",
    "        pattern = r'(\\[[^\\[\\]]*\\])'\n",
    "        return re.findall(pattern, selfie)"
   ]
  },
  {
   "cell_type": "code",
   "execution_count": 29,
   "id": "70924816",
   "metadata": {},
   "outputs": [],
   "source": [
    "vectorizer = SELFIESVectorizer(alphabet, pad_to_len=pad_to_len)"
   ]
  },
  {
   "cell_type": "code",
   "execution_count": 30,
   "id": "ae464156",
   "metadata": {},
   "outputs": [
    {
     "name": "stdout",
     "output_type": "stream",
     "text": [
      "SELFIE: [C][C][Branch1][C][C][Branch1][C][C][C][=C][C][=C][O][C][=C][Branch1][S][C][C][=Branch1][C][=O][N][C][=C][C][=C][C][=C][Ring1][=Branch1][F][C][Ring1][S][=C][Ring2][Ring1][Ring2]\n",
      "OHE: [[0. 0. 0. ... 0. 0. 1.]\n",
      " [0. 0. 0. ... 0. 0. 0.]\n",
      " [0. 0. 0. ... 0. 0. 0.]\n",
      " ...\n",
      " [0. 0. 0. ... 0. 1. 0.]\n",
      " [0. 0. 0. ... 0. 1. 0.]\n",
      " [0. 0. 0. ... 0. 1. 0.]]\n",
      "Devectorized: [start][C][C][Branch1][C][C][Branch1][C][C][C][=C][C][=C][O][C][=C][Branch1][S][C][C][=Branch1][C][=O][N][C][=C][C][=C][C][=C][Ring1][=Branch1][F][C][Ring1][S][=C][Ring2][Ring1][Ring2][end][nop][nop][nop][nop][nop][nop][nop][nop][nop][nop][nop][nop][nop][nop][nop][nop][nop][nop][nop][nop][nop][nop][nop][nop][nop][nop][nop][nop][nop][nop][nop][nop][nop][nop][nop][nop][nop][nop][nop][nop][nop]\n"
     ]
    }
   ],
   "source": [
    "test_selfie = data.selfies[0]\n",
    "ohe = vectorizer.vectorize(test_selfie)\n",
    "print(\"SELFIE:\", test_selfie)\n",
    "print(\"OHE:\", ohe)\n",
    "print(\"Devectorized:\", vectorizer.devectorize(ohe))"
   ]
  },
  {
   "cell_type": "code",
   "execution_count": 31,
   "id": "1b95bc0d",
   "metadata": {},
   "outputs": [
    {
     "name": "stdout",
     "output_type": "stream",
     "text": [
      "IDX: [41 23 23 17 23 23 17 23 23 23  9 23  9 31 23  9 17 35 23 23  7 23 12 29\n",
      " 23  9 23  9 23  9 33  7 25 23 33 35  9 34 33 34 39 40 40 40 40 40 40 40\n",
      " 40 40 40 40 40 40 40 40 40 40 40 40 40 40 40 40 40 40 40 40 40 40 40 40\n",
      " 40 40 40 40 40 40 40 40 40 40]\n",
      "Deidxized: [start][C][C][Branch1][C][C][Branch1][C][C][C][=C][C][=C][O][C][=C][Branch1][S][C][C][=Branch1][C][=O][N][C][=C][C][=C][C][=C][Ring1][=Branch1][F][C][Ring1][S][=C][Ring2][Ring1][Ring2][end][nop][nop][nop][nop][nop][nop][nop][nop][nop][nop][nop][nop][nop][nop][nop][nop][nop][nop][nop][nop][nop][nop][nop][nop][nop][nop][nop][nop][nop][nop][nop][nop][nop][nop][nop][nop][nop][nop][nop][nop][nop]\n"
     ]
    }
   ],
   "source": [
    "idx = vectorizer.idxize(test_selfie)\n",
    "print(\"IDX:\", idx)\n",
    "print(\"Deidxized:\", vectorizer.deidxize(idx))"
   ]
  },
  {
   "cell_type": "code",
   "execution_count": 32,
   "id": "948ff36b",
   "metadata": {},
   "outputs": [],
   "source": [
    "from torch.utils.data import Dataset, DataLoader\n",
    "\n",
    "class GRUDataset(Dataset):\n",
    "    def __init__(self, smiles_fp, selfies, vectorizer):\n",
    "        self.smiles_fp = pd.read_csv(smiles_fp, sep=',', nrows=10000)\n",
    "        self.selfies = pd.read_csv(selfies, nrows=10000)\n",
    "        self.X = self.prepare_X(self.smiles_fp)\n",
    "        self.X = np.array([self.reconstruct_fp(fp) for fp in self.X])\n",
    "        self.y = self.prepare_y(self.selfies)\n",
    "        self.vectorizer = vectorizer\n",
    "    def __len__(self):\n",
    "        return len(self.smiles_fp)\n",
    "    def __getitem__(self, idx):\n",
    "        raw_selfie = self.y[idx][0]\n",
    "        vectorized_selfie = self.vectorizer.vectorize(raw_selfie)\n",
    "        # esentially, we want to predict the next symbol in the SELFIE and offset the target by one makes teaching forcing implicit\n",
    "        vectorized_selfie = vectorized_selfie[1:, :]\n",
    "        return torch.from_numpy(self.X[idx]).float(), torch.from_numpy(vectorized_selfie).float()\n",
    "\n",
    "    @staticmethod\n",
    "    def prepare_X(smiles_fp):\n",
    "        fps = smiles_fp.fps.apply(eval).apply(lambda x: np.array(x, dtype=int))\n",
    "        return fps\n",
    "    @staticmethod\n",
    "    def prepare_y(selfies):\n",
    "        return selfies.values\n",
    "    @staticmethod\n",
    "    def reconstruct_fp(fp, length=4860):\n",
    "        fp_rec = np.zeros(length)\n",
    "        fp_rec[fp] = 1\n",
    "        return fp_rec"
   ]
  },
  {
   "cell_type": "code",
   "execution_count": 33,
   "id": "6538d564",
   "metadata": {},
   "outputs": [],
   "source": [
    "class GRUDatasetv2(Dataset):\n",
    "    def __init__(self, smiles_fp, selfies, vectorizer):\n",
    "        self.smiles_fp = pd.read_csv(smiles_fp, sep=',', nrows=10000)\n",
    "        self.selfies = pd.read_csv(selfies, nrows=10000)\n",
    "        self.X = self.prepare_X(self.smiles_fp)\n",
    "        self.X = np.array([self.reconstruct_fp(fp) for fp in self.X])\n",
    "        self.y = self.prepare_y(self.selfies)\n",
    "        self.vectorizer = vectorizer\n",
    "    def __len__(self):\n",
    "        return len(self.smiles_fp)\n",
    "    def __getitem__(self, idx):\n",
    "        raw_selfie = self.y[idx][0]\n",
    "        vectorized_selfie = self.vectorizer.idxize(raw_selfie)\n",
    "        # esentially, we want to predict the next symbol in the SELFIE and offset the target by one makes teaching forcing implicit\n",
    "        vectorized_selfie = vectorized_selfie\n",
    "        return torch.from_numpy(self.X[idx]).float(), torch.from_numpy(vectorized_selfie).long()\n",
    "\n",
    "    @staticmethod\n",
    "    def prepare_X(smiles_fp):\n",
    "        fps = smiles_fp.fps.apply(eval).apply(lambda x: np.array(x, dtype=int))\n",
    "        return fps\n",
    "    @staticmethod\n",
    "    def prepare_y(selfies):\n",
    "        return selfies.values\n",
    "    @staticmethod\n",
    "    def reconstruct_fp(fp, length=4860):\n",
    "        fp_rec = np.zeros(length)\n",
    "        fp_rec[fp] = 1\n",
    "        return fp_rec"
   ]
  },
  {
   "cell_type": "code",
   "execution_count": 34,
   "id": "062168b4",
   "metadata": {},
   "outputs": [],
   "source": [
    "dataset = GRUDatasetv2('GRU_data/250k_klek.csv', 'GRU_data/250k_selfies.csv', vectorizer)\n",
    "train_size = int(0.9 * len(dataset))\n",
    "test_size = len(dataset) - train_size\n",
    "train_dataset, test_dataset = torch.utils.data.random_split(dataset, [train_size, test_size])"
   ]
  },
  {
   "cell_type": "code",
   "execution_count": 35,
   "id": "da4f014e",
   "metadata": {},
   "outputs": [
    {
     "data": {
      "text/plain": [
       "torch.Size([64, 4860])"
      ]
     },
     "execution_count": 35,
     "metadata": {},
     "output_type": "execute_result"
    }
   ],
   "source": [
    "batch_size = 64\n",
    "train_loader = DataLoader(train_dataset, shuffle=True, batch_size=batch_size, drop_last=True)\n",
    "test_loader = DataLoader(test_dataset, shuffle=False, batch_size=batch_size, drop_last=True)\n",
    "next(iter(train_loader))[0].shape"
   ]
  },
  {
   "cell_type": "code",
   "execution_count": 36,
   "id": "810d9808",
   "metadata": {},
   "outputs": [
    {
     "data": {
      "text/plain": [
       "torch.Size([82])"
      ]
     },
     "execution_count": 36,
     "metadata": {},
     "output_type": "execute_result"
    }
   ],
   "source": [
    "dataset[0][1].shape"
   ]
  },
  {
   "cell_type": "markdown",
   "id": "02f39daf",
   "metadata": {},
   "source": [
    "# NN architecture"
   ]
  },
  {
   "cell_type": "code",
   "execution_count": 37,
   "id": "8248e95c",
   "metadata": {},
   "outputs": [],
   "source": [
    "class EncoderNet(nn.Module):\n",
    "    def __init__(self, fp_size, encoding_size):\n",
    "        super(EncoderNet, self).__init__()\n",
    "        self.relu = nn.ReLU()\n",
    "        self.fc1 = nn.Linear(fp_size, 2048)\n",
    "        self.fc2 = nn.Linear(2048, 1024)\n",
    "        self.fc3 = nn.Linear(1024, 512)\n",
    "        self.fc4 = nn.Linear(512, 256)\n",
    "        self.fc5 = nn.Linear(256, encoding_size)\n",
    "    def forward(self, x):\n",
    "        out = self.relu(self.fc1(x))\n",
    "        out = self.relu(self.fc2(out))\n",
    "        out = self.relu(self.fc3(out))\n",
    "        out = self.relu(self.fc4(out))\n",
    "        out = self.relu(self.fc5(out))\n",
    "        return out\n",
    "\n",
    "\n",
    "class DecoderNet(nn.Module):\n",
    "    def __init__(self, dictionary_size, emb_size, hidden_size, num_layers, drop_prob):\n",
    "        super(DecoderNet, self).__init__()\n",
    "        self.hidden_size = hidden_size\n",
    "        self.num_layers = num_layers\n",
    "        self.drop_prob = drop_prob\n",
    "        # embedding layer [batch_size, seq_len] -> [batch_size, seq_len, emb_size]\n",
    "        self.embedding = nn.Embedding(dictionary_size, emb_size)\n",
    "        # gru layer [batch_size, seq_len, emb_size] -> [batch_size, seq_len, hidden_size]\n",
    "        self.gru = nn.GRU(emb_size, hidden_size, num_layers, dropout=drop_prob, batch_first=True)\n",
    "        # fully connected layer [batch_size, seq_len, hidden_size] -> [batch_size, seq_len, dictionary_size]\n",
    "        self.fc = nn.Linear(hidden_size, dictionary_size)\n",
    "        self.max_len = vectorizer.pad_to_len\n",
    "\n",
    "    def forward(self, input, hidden):\n",
    "        emdedded = self.embedding(input)\n",
    "        prediction, hidden = self.gru(emdedded, hidden)\n",
    "        prediction = self.fc(prediction)\n",
    "        return prediction, hidden\n",
    "\n",
    "\n",
    "    def init_hidden(self, encoded):\n",
    "        return encoded.unsqueeze(0).repeat(self.num_layers, 1, 1).to(device)\n",
    "    \n",
    "class Autoencoder(nn.Module):\n",
    "    def __init__(self, input_size=4860, \n",
    "                 encoding_size=256, \n",
    "                 dictionary_size=len(alphabet), \n",
    "                 emb_size=256, \n",
    "                 hidden_size=256, \n",
    "                 num_layers=2, \n",
    "                 drop_prob=0.2):\n",
    "        super(Autoencoder, self).__init__()\n",
    "        self.encoder = EncoderNet(input_size, encoding_size)\n",
    "        self.decoder = DecoderNet(dictionary_size, emb_size, hidden_size, num_layers, drop_prob)\n",
    "\n",
    "    def forward(self, src,trg, teacher_forcing_ratio=0.5):\n",
    "        batch_size = src.shape[0]\n",
    "        trg_len = trg.shape[1]\n",
    "        trg_vocab_size = self.decoder.fc.out_features\n",
    "        outputs = []\n",
    "        hidden = self.encoder(src)\n",
    "        hidden = hidden.unsqueeze(0).repeat(self.decoder.num_layers, 1, 1)\n",
    "        input = trg[:, 0].unsqueeze(1)\n",
    "        for t in range(1, trg_len):\n",
    "            output, hidden = self.decoder(input, hidden)\n",
    "            outputs.append(output)\n",
    "            teacher_force = random.random() < teacher_forcing_ratio\n",
    "            top1 = torch.argmax(output, dim=2)\n",
    "            input = trg[:, t].unsqueeze(1) if teacher_force else top1\n",
    "        outputs = torch.cat(outputs, dim=1)\n",
    "        return outputs"
   ]
  },
  {
   "cell_type": "code",
   "execution_count": 38,
   "id": "1f37f3df",
   "metadata": {},
   "outputs": [
    {
     "data": {
      "text/plain": [
       "torch.Size([64, 4860])"
      ]
     },
     "execution_count": 38,
     "metadata": {},
     "output_type": "execute_result"
    }
   ],
   "source": [
    "encoder = EncoderNet(4860, 300).to(device)\n",
    "decoder = DecoderNet(dictionary_size=len(alphabet), \n",
    "                     emb_size=300, \n",
    "                     hidden_size=300, \n",
    "                     num_layers=2, \n",
    "                     drop_prob=0.2).to(device)\n",
    "test_batch = next(iter(train_loader))[0].to(device)\n",
    "test_batch.shape"
   ]
  },
  {
   "cell_type": "code",
   "execution_count": 39,
   "id": "5ab9b122",
   "metadata": {},
   "outputs": [
    {
     "name": "stdout",
     "output_type": "stream",
     "text": [
      "Test batch shape: torch.Size([64, 4860])\n",
      "Encoded shape: torch.Size([64, 300])\n",
      "Encoded2Decoder shape: torch.Size([2, 64, 300])\n"
     ]
    }
   ],
   "source": [
    "print(f'Test batch shape: {test_batch.shape}')\n",
    "encoded = encoder(test_batch)\n",
    "print(f'Encoded shape: {encoded.shape}')\n",
    "encoded = encoded.unsqueeze(0) # add dim to match decoder layer\n",
    "encoded = encoded.repeat(2, 1, 1) # repeat to match decoder layer\n",
    "print(f'Encoded2Decoder shape: {encoded.shape}')"
   ]
  },
  {
   "cell_type": "code",
   "execution_count": 40,
   "id": "54cfdfba",
   "metadata": {},
   "outputs": [
    {
     "name": "stdout",
     "output_type": "stream",
     "text": [
      "Start token shape: torch.Size([64, 1])\n"
     ]
    }
   ],
   "source": [
    "start_token = vectorizer.idxize('[start]', no_special=True)\n",
    "start_token = torch.from_numpy(start_token).long().to(device).unsqueeze(0)\n",
    "start_token = start_token.repeat(test_batch.shape[0], 1)\n",
    "print(f'Start token shape: {start_token.shape}')\n",
    "#print(f'Start token: {start_token}')"
   ]
  },
  {
   "cell_type": "code",
   "execution_count": 41,
   "id": "09ccfcc7",
   "metadata": {},
   "outputs": [
    {
     "name": "stdout",
     "output_type": "stream",
     "text": [
      "Decoded shape: torch.Size([64, 1, 42])\n",
      "Decoded: tensor([[14],\n",
      "        [25],\n",
      "        [ 2],\n",
      "        [11],\n",
      "        [33],\n",
      "        [ 3],\n",
      "        [36],\n",
      "        [33],\n",
      "        [11],\n",
      "        [30],\n",
      "        [24],\n",
      "        [31],\n",
      "        [33],\n",
      "        [40],\n",
      "        [26],\n",
      "        [13],\n",
      "        [29],\n",
      "        [ 6],\n",
      "        [25],\n",
      "        [ 1],\n",
      "        [22],\n",
      "        [11],\n",
      "        [ 3],\n",
      "        [40],\n",
      "        [40],\n",
      "        [29],\n",
      "        [36],\n",
      "        [13],\n",
      "        [30],\n",
      "        [ 5],\n",
      "        [30],\n",
      "        [21],\n",
      "        [ 9],\n",
      "        [34],\n",
      "        [40],\n",
      "        [17],\n",
      "        [28],\n",
      "        [32],\n",
      "        [14],\n",
      "        [ 0],\n",
      "        [17],\n",
      "        [30],\n",
      "        [41],\n",
      "        [30],\n",
      "        [12],\n",
      "        [ 4],\n",
      "        [30],\n",
      "        [ 8],\n",
      "        [11],\n",
      "        [18],\n",
      "        [ 0],\n",
      "        [16],\n",
      "        [25],\n",
      "        [29],\n",
      "        [32],\n",
      "        [26],\n",
      "        [ 1],\n",
      "        [40],\n",
      "        [26],\n",
      "        [18],\n",
      "        [32],\n",
      "        [ 1],\n",
      "        [13],\n",
      "        [15]], device='cuda:0')\n",
      "Hidden shape: torch.Size([2, 64, 300])\n"
     ]
    }
   ],
   "source": [
    "encoded = torch.randn(decoder.num_layers,batch_size,300).to(device)\n",
    "decoded, hidden = decoder(start_token, encoded)\n",
    "print(f'Decoded shape: {decoded.shape}')\n",
    "print(f'Decoded: {torch.argmax(decoded, dim=2)}')\n",
    "print(f'Hidden shape: {hidden.shape}')"
   ]
  },
  {
   "cell_type": "code",
   "execution_count": 55,
   "id": "f2893d40",
   "metadata": {},
   "outputs": [
    {
     "name": "stdout",
     "output_type": "stream",
     "text": [
      "Outputs shape: torch.Size([64, 81, 42])\n"
     ]
    }
   ],
   "source": [
    "model = Autoencoder().to(device)\n",
    "test_src = next(iter(train_loader))[0].to(device)\n",
    "test_trg = next(iter(train_loader))[1].to(device)\n",
    "outputs = model(test_src, test_trg)\n",
    "print(f'Outputs shape: {outputs.shape}')"
   ]
  },
  {
   "cell_type": "code",
   "execution_count": 43,
   "id": "3163467c",
   "metadata": {},
   "outputs": [],
   "source": [
    "outputs_fixed = outputs"
   ]
  },
  {
   "cell_type": "code",
   "execution_count": 44,
   "id": "041a1163",
   "metadata": {},
   "outputs": [
    {
     "name": "stdout",
     "output_type": "stream",
     "text": [
      "Output shape: torch.Size([81, 42])\n",
      "Output: tensor([ 6, 19, 16, 30, 23, 23, 23, 24, 24, 24, 24, 24, 24, 40, 40, 40,  6,  6,\n",
      "         6,  9, 16, 23, 23, 23, 23, 23, 23, 23, 23, 10, 10, 41, 24, 24, 24, 24,\n",
      "        24,  9,  9,  9,  9,  1,  1,  6,  6,  4,  4, 30,  6, 30,  6, 30, 23, 23,\n",
      "        23, 23, 30, 30, 23, 23, 23, 23, 23, 23, 23, 23, 30,  6, 30, 30, 30, 30,\n",
      "        30, 30, 30, 30,  6, 23, 23, 23, 23], device='cuda:0')\n"
     ]
    }
   ],
   "source": [
    "# get first output from batch\n",
    "output = outputs_fixed[0]\n",
    "print(f'Output shape: {output.shape}')\n",
    "print(f'Output: {torch.argmax(output, dim=1)}')"
   ]
  },
  {
   "cell_type": "markdown",
   "id": "c3f697df",
   "metadata": {},
   "source": [
    "# Training"
   ]
  },
  {
   "cell_type": "code",
   "execution_count": 45,
   "id": "ce412c1f",
   "metadata": {},
   "outputs": [],
   "source": [
    "from tqdm.notebook import tqdm\n",
    "import wandb\n",
    "\n",
    "def pretty_str_compare(str, str_pred, color=True):\n",
    "    if len(str_pred) > len(str):\n",
    "        str += '-' * (len(str_pred) - len(str))\n",
    "    elif len(str_pred) < len(str):\n",
    "        str_pred += '-' * (len(str) - len(str_pred))\n",
    "    print(f'Target:  {str}', end='\\n')\n",
    "    # print difference in red color\n",
    "    print('Output:  ', end='')\n",
    "    for act, pred in zip(str, str_pred):\n",
    "        if act != pred:\n",
    "            if color:\n",
    "                print('\\033[91m', end='')\n",
    "            print(pred, end='')\n",
    "            if color:\n",
    "                print('\\033[0m', end='')\n",
    "        else:\n",
    "            print(pred, end='')\n",
    "\n",
    "def train(autoencoder, dataloader, num_epochs=50, device=device):\n",
    "    \n",
    "    learning_rate = 0.001\n",
    "    teacher_forcing_ratio = 0.5\n",
    "    criterion = nn.CrossEntropyLoss(ignore_index=vectorizer.char2idx['[nop]'])\n",
    "    optimizer = optim.Adam(autoencoder.parameters(), lr=learning_rate)\n",
    "    autoencoder.train()\n",
    "    config = dict()\n",
    "    config['learning_rate'] = learning_rate\n",
    "    config['teacher_forcing_ratio'] = teacher_forcing_ratio\n",
    "    config['criterion'] = criterion\n",
    "    config['optimizer'] = optimizer\n",
    "    config['num_epochs'] = num_epochs\n",
    "    config['Trainable parameters'] = sum(p.numel() for p in autoencoder.parameters() if p.requires_grad)\n",
    "    config['Embedding size'] = autoencoder.decoder.embedding.embedding_dim\n",
    "    config['Hidden size'] = autoencoder.decoder.hidden_size\n",
    "    config['Number of layers'] = autoencoder.decoder.num_layers\n",
    "    config['Dropout'] = autoencoder.decoder.gru.dropout\n",
    "    config['Batch size'] = batch_size\n",
    "    config['Dataset size'] = len(dataloader.dataset)\n",
    "\n",
    "    \n",
    "\n",
    "    wandb.init(project=\"selfie-autoencoder_v2\", config=config)\n",
    "    for epoch in range(num_epochs):\n",
    "        epoch_loss = 0\n",
    "        for batch_idx, (src, trg) in enumerate(tqdm(dataloader)):\n",
    "            src = src.to(device)\n",
    "            trg = trg.to(device)\n",
    "            optimizer.zero_grad()\n",
    "            output = autoencoder(src, trg, teacher_forcing_ratio)\n",
    "            trg = trg[:, 1:]\n",
    "            # print(f'Output shape: {output.shape}')\n",
    "            # print(f'Target shape: {trg.shape}')\n",
    "            # print('Target:', trg)\n",
    "            #replace 1 and 2 dimension\n",
    "            output = output.permute(0, 2, 1)\n",
    "            # print(f'Output shape after view: {output.shape}')\n",
    "            # print(f'Target shape after view: {trg.shape}')\n",
    "            loss = criterion(output, trg)\n",
    "            loss.backward()\n",
    "            optimizer.step()\n",
    "            epoch_loss += loss.item()\n",
    "        if epoch % 1 == 0:\n",
    "            autoencoder.eval()\n",
    "            with torch.no_grad():\n",
    "                visual_examples_src, visual_examples_trg = next(iter(dataloader))\n",
    "                visual_examples_src = visual_examples_src.to(device)[:5]\n",
    "                visual_examples_trg = visual_examples_trg.to(device)[:5]\n",
    "                visual_examples_outputs = autoencoder(visual_examples_src, visual_examples_trg, teacher_forcing_ratio)\n",
    "                visual_examples_outputs = visual_examples_outputs.permute(0, 2, 1)\n",
    "                visual_examples_outputs = torch.argmax(visual_examples_outputs, dim=1)\n",
    "                visual_examples_outputs = visual_examples_outputs.cpu().numpy()\n",
    "                visual_examples_outputs = np.array([vectorizer.deidxize(o) for o in visual_examples_outputs])\n",
    "                visual_examples_trg = visual_examples_trg.cpu().numpy()\n",
    "                visual_examples_trg = np.array([vectorizer.deidxize(o) for o in visual_examples_trg])\n",
    "                print(f'Epoch {epoch} loss: {epoch_loss / len(dataloader)}')\n",
    "                for i in range(len(visual_examples_outputs)):\n",
    "                    pretty_str_compare(visual_examples_trg[i][7:], visual_examples_outputs[i])\n",
    "                    print('\\n-------------------\\n')\n",
    "            autoencoder.train()\n",
    "        print(f'Epoch {epoch} loss: {epoch_loss / len(dataloader)}')\n",
    "        wandb.log({'loss': epoch_loss / len(dataloader)})\n",
    "    wandb.finish()\n",
    "    return autoencoder"
   ]
  },
  {
   "cell_type": "code",
   "execution_count": 46,
   "id": "e8eabc1b",
   "metadata": {},
   "outputs": [],
   "source": [
    "sweep_config = {\n",
    "    'method': 'random'\n",
    "    }"
   ]
  },
  {
   "cell_type": "code",
   "execution_count": 47,
   "id": "bc744700",
   "metadata": {},
   "outputs": [],
   "source": [
    "metric = {\n",
    "    'name': 'loss',\n",
    "    'goal': 'minimize'   \n",
    "    }\n",
    "\n",
    "sweep_config['metric'] = metric"
   ]
  },
  {
   "cell_type": "code",
   "execution_count": 56,
   "id": "69b39e03",
   "metadata": {},
   "outputs": [],
   "source": [
    "parameters_dict = {\n",
    "    'encoding_size': { 'values': [64, 128, 256, 512, 1024] },\n",
    "    'emb_size': { 'values': [32, 64, 128, 256, 512, 1024] }, \n",
    "    'num_layers': { 'values': [2, 3, 4] },\n",
    "    'drop_prob': { 'values': [0.0, 0.1, 0.2, 0.3, 0.4] },\n",
    "    'epochs': { 'value': 50}\n",
    "    }\n",
    "\n",
    "\n",
    "sweep_config['parameters'] = parameters_dict\n",
    "parameters_dict.update({\n",
    "    'learning_rate': {\n",
    "        # a flat distribution between 0 and 0.1\n",
    "        'distribution': 'uniform',\n",
    "        'min': 0,\n",
    "        'max': 0.1\n",
    "      },\n",
    "    'batch_size': {\n",
    "        # integers between 32 and 256\n",
    "        # with evenly-distributed logarithms \n",
    "        'distribution': 'q_log_uniform_values',\n",
    "        'q': 8,\n",
    "        'min': 32,\n",
    "        'max': 256,\n",
    "      }\n",
    "    })"
   ]
  },
  {
   "cell_type": "code",
   "execution_count": 57,
   "id": "efde4e97",
   "metadata": {},
   "outputs": [
    {
     "name": "stdout",
     "output_type": "stream",
     "text": [
      "{'method': 'random',\n",
      " 'metric': {'goal': 'minimize', 'name': 'loss'},\n",
      " 'parameters': {'batch_size': {'distribution': 'q_log_uniform_values',\n",
      "                               'max': 256,\n",
      "                               'min': 32,\n",
      "                               'q': 8},\n",
      "                'drop_prob': {'values': [0.0, 0.1, 0.2, 0.3, 0.4]},\n",
      "                'emb_size': {'values': [32, 64, 128, 256, 512, 1024]},\n",
      "                'encoding_size': {'values': [64, 128, 256, 512, 1024]},\n",
      "                'epochs': {'value': 50},\n",
      "                'learning_rate': {'distribution': 'uniform',\n",
      "                                  'max': 0.1,\n",
      "                                  'min': 0},\n",
      "                'num_layers': {'values': [2, 3, 4]}}}\n"
     ]
    }
   ],
   "source": [
    "import pprint\n",
    "\n",
    "pprint.pprint(sweep_config)"
   ]
  },
  {
   "cell_type": "code",
   "execution_count": 58,
   "id": "2f3ad4d4",
   "metadata": {},
   "outputs": [
    {
     "name": "stdout",
     "output_type": "stream",
     "text": [
      "Create sweep with ID: 7pj6cwfi\n",
      "Sweep URL: https://wandb.ai/mldd23/selfie-autoencoder_v2/sweeps/7pj6cwfi\n"
     ]
    }
   ],
   "source": [
    "sweep_id = wandb.sweep(sweep_config, project=\"selfie-autoencoder_v2\")"
   ]
  },
  {
   "cell_type": "code",
   "execution_count": 59,
   "id": "d61e3a97",
   "metadata": {},
   "outputs": [],
   "source": [
    "device = torch.device(\"cuda\" if torch.cuda.is_available() else \"cpu\")\n",
    "\n",
    "def train_hyper(config=None):\n",
    "    # Initialize a new wandb run\n",
    "    with wandb.init(config=config):\n",
    "        # Config is a variable that holds and saves hyperparameters and inputs\n",
    "        config = wandb.config\n",
    "        # Define model, optimizer, and loss function\n",
    "        autoencoder = Autoencoder(encoding_size=config.encoding_size, \n",
    "                                  emb_size=config.emb_size, \n",
    "                                  hidden_size=config.encoding_size,\n",
    "                                  num_layers=config.num_layers, \n",
    "                                  drop_prob=config.drop_prob).to(device)\n",
    "        dataloader = DataLoader(train_dataset, shuffle=True, batch_size=config.batch_size, drop_last=True)\n",
    "        for i in tqdm(range(config.epochs)):\n",
    "            avg_loss = train_epoch(autoencoder, dataloader, config.learning_rate)\n",
    "            wandb.log({'epoch': i, 'loss': avg_loss})\n",
    "\n",
    "\n",
    "def train_epoch(autoencoder, dataloader, learning_rate):\n",
    "    autoencoder.train()\n",
    "    criterion = nn.CrossEntropyLoss(ignore_index=vectorizer.char2idx['[nop]'])\n",
    "    optimizer = optim.Adam(autoencoder.parameters(), lr=learning_rate)\n",
    "    epoch_loss = 0\n",
    "    for batch_idx, (src, trg) in enumerate(tqdm(dataloader)):\n",
    "        src = src.to(device)\n",
    "        trg = trg.to(device)\n",
    "        optimizer.zero_grad()\n",
    "        output = autoencoder(src, trg)\n",
    "        trg = trg[:, 1:]\n",
    "        output = output.permute(0, 2, 1)\n",
    "        loss = criterion(output, trg)\n",
    "        loss.backward()\n",
    "        optimizer.step()\n",
    "        epoch_loss += loss.item()\n",
    "        wandb.log({'batch_loss': loss.item()})\n",
    "    return epoch_loss / len(dataloader)"
   ]
  },
  {
   "cell_type": "code",
   "execution_count": 60,
   "id": "6092af90",
   "metadata": {},
   "outputs": [
    {
     "name": "stderr",
     "output_type": "stream",
     "text": [
      "\u001b[34m\u001b[1mwandb\u001b[0m: Agent Starting Run: 64u1lh0s with config:\n",
      "\u001b[34m\u001b[1mwandb\u001b[0m: \tbatch_size: 240\n",
      "\u001b[34m\u001b[1mwandb\u001b[0m: \tdrop_prob: 0.1\n",
      "\u001b[34m\u001b[1mwandb\u001b[0m: \temb_size: 64\n",
      "\u001b[34m\u001b[1mwandb\u001b[0m: \tencoding_size: 256\n",
      "\u001b[34m\u001b[1mwandb\u001b[0m: \tepochs: 50\n",
      "\u001b[34m\u001b[1mwandb\u001b[0m: \tlearning_rate: 0.01045051664204173\n",
      "\u001b[34m\u001b[1mwandb\u001b[0m: \tnum_layers: 4\n",
      "Failed to detect the name of this notebook, you can set it manually with the WANDB_NOTEBOOK_NAME environment variable to enable code saving.\n"
     ]
    },
    {
     "data": {
      "text/html": [
       "Tracking run with wandb version 0.15.3"
      ],
      "text/plain": [
       "<IPython.core.display.HTML object>"
      ]
     },
     "metadata": {},
     "output_type": "display_data"
    },
    {
     "data": {
      "text/html": [
       "Run data is saved locally in <code>/home/anton/mldd23_project1/wandb/run-20230531_182557-64u1lh0s</code>"
      ],
      "text/plain": [
       "<IPython.core.display.HTML object>"
      ]
     },
     "metadata": {},
     "output_type": "display_data"
    },
    {
     "data": {
      "text/html": [
       "Syncing run <strong><a href='https://wandb.ai/mldd23/selfie-autoencoder_v2/runs/64u1lh0s' target=\"_blank\">rare-sweep-1</a></strong> to <a href='https://wandb.ai/mldd23/selfie-autoencoder_v2' target=\"_blank\">Weights & Biases</a> (<a href='https://wandb.me/run' target=\"_blank\">docs</a>)<br/>Sweep page: <a href='https://wandb.ai/mldd23/selfie-autoencoder_v2/sweeps/7pj6cwfi' target=\"_blank\">https://wandb.ai/mldd23/selfie-autoencoder_v2/sweeps/7pj6cwfi</a>"
      ],
      "text/plain": [
       "<IPython.core.display.HTML object>"
      ]
     },
     "metadata": {},
     "output_type": "display_data"
    },
    {
     "data": {
      "text/html": [
       " View project at <a href='https://wandb.ai/mldd23/selfie-autoencoder_v2' target=\"_blank\">https://wandb.ai/mldd23/selfie-autoencoder_v2</a>"
      ],
      "text/plain": [
       "<IPython.core.display.HTML object>"
      ]
     },
     "metadata": {},
     "output_type": "display_data"
    },
    {
     "data": {
      "text/html": [
       " View sweep at <a href='https://wandb.ai/mldd23/selfie-autoencoder_v2/sweeps/7pj6cwfi' target=\"_blank\">https://wandb.ai/mldd23/selfie-autoencoder_v2/sweeps/7pj6cwfi</a>"
      ],
      "text/plain": [
       "<IPython.core.display.HTML object>"
      ]
     },
     "metadata": {},
     "output_type": "display_data"
    },
    {
     "data": {
      "text/html": [
       " View run at <a href='https://wandb.ai/mldd23/selfie-autoencoder_v2/runs/64u1lh0s' target=\"_blank\">https://wandb.ai/mldd23/selfie-autoencoder_v2/runs/64u1lh0s</a>"
      ],
      "text/plain": [
       "<IPython.core.display.HTML object>"
      ]
     },
     "metadata": {},
     "output_type": "display_data"
    },
    {
     "data": {
      "application/vnd.jupyter.widget-view+json": {
       "model_id": "9589daa1e89b44f5aefe97e4a66e6c90",
       "version_major": 2,
       "version_minor": 0
      },
      "text/plain": [
       "  0%|          | 0/50 [00:00<?, ?it/s]"
      ]
     },
     "metadata": {},
     "output_type": "display_data"
    },
    {
     "data": {
      "application/vnd.jupyter.widget-view+json": {
       "model_id": "c987111393e84eb69c205e64f34efad3",
       "version_major": 2,
       "version_minor": 0
      },
      "text/plain": [
       "  0%|          | 0/37 [00:00<?, ?it/s]"
      ]
     },
     "metadata": {},
     "output_type": "display_data"
    },
    {
     "data": {
      "application/vnd.jupyter.widget-view+json": {
       "model_id": "54d6509b12bb48f4bcbab79c5943080e",
       "version_major": 2,
       "version_minor": 0
      },
      "text/plain": [
       "  0%|          | 0/37 [00:00<?, ?it/s]"
      ]
     },
     "metadata": {},
     "output_type": "display_data"
    },
    {
     "data": {
      "application/vnd.jupyter.widget-view+json": {
       "model_id": "65bf386c794b4a69acd862c795bce529",
       "version_major": 2,
       "version_minor": 0
      },
      "text/plain": [
       "  0%|          | 0/37 [00:00<?, ?it/s]"
      ]
     },
     "metadata": {},
     "output_type": "display_data"
    },
    {
     "data": {
      "application/vnd.jupyter.widget-view+json": {
       "model_id": "b33d89f30ba14972ad295d0e4b2b4500",
       "version_major": 2,
       "version_minor": 0
      },
      "text/plain": [
       "  0%|          | 0/37 [00:00<?, ?it/s]"
      ]
     },
     "metadata": {},
     "output_type": "display_data"
    },
    {
     "data": {
      "application/vnd.jupyter.widget-view+json": {
       "model_id": "1409b82ce8e94fe49e3d5f59ef7d3bea",
       "version_major": 2,
       "version_minor": 0
      },
      "text/plain": [
       "  0%|          | 0/37 [00:00<?, ?it/s]"
      ]
     },
     "metadata": {},
     "output_type": "display_data"
    },
    {
     "data": {
      "application/vnd.jupyter.widget-view+json": {
       "model_id": "58caefc137ed4abca90cc3dfcffedb94",
       "version_major": 2,
       "version_minor": 0
      },
      "text/plain": [
       "  0%|          | 0/37 [00:00<?, ?it/s]"
      ]
     },
     "metadata": {},
     "output_type": "display_data"
    },
    {
     "data": {
      "application/vnd.jupyter.widget-view+json": {
       "model_id": "482088cdcfe3433d96dd52147ad5c664",
       "version_major": 2,
       "version_minor": 0
      },
      "text/plain": [
       "  0%|          | 0/37 [00:00<?, ?it/s]"
      ]
     },
     "metadata": {},
     "output_type": "display_data"
    },
    {
     "data": {
      "application/vnd.jupyter.widget-view+json": {
       "model_id": "6c6b3c0740714d9e85361158844a44f8",
       "version_major": 2,
       "version_minor": 0
      },
      "text/plain": [
       "  0%|          | 0/37 [00:00<?, ?it/s]"
      ]
     },
     "metadata": {},
     "output_type": "display_data"
    },
    {
     "data": {
      "application/vnd.jupyter.widget-view+json": {
       "model_id": "bfe9611dc1dd4b6da3f34541f383f8f6",
       "version_major": 2,
       "version_minor": 0
      },
      "text/plain": [
       "  0%|          | 0/37 [00:00<?, ?it/s]"
      ]
     },
     "metadata": {},
     "output_type": "display_data"
    },
    {
     "data": {
      "application/vnd.jupyter.widget-view+json": {
       "model_id": "1ca4cd811f7342de8d0c6abae2b5f947",
       "version_major": 2,
       "version_minor": 0
      },
      "text/plain": [
       "  0%|          | 0/37 [00:00<?, ?it/s]"
      ]
     },
     "metadata": {},
     "output_type": "display_data"
    },
    {
     "data": {
      "application/vnd.jupyter.widget-view+json": {
       "model_id": "1ad9b73116cf4b9fbf3eda46bbc188cb",
       "version_major": 2,
       "version_minor": 0
      },
      "text/plain": [
       "  0%|          | 0/37 [00:00<?, ?it/s]"
      ]
     },
     "metadata": {},
     "output_type": "display_data"
    },
    {
     "data": {
      "application/vnd.jupyter.widget-view+json": {
       "model_id": "79949e88d6fa44f79cce417e1de600c2",
       "version_major": 2,
       "version_minor": 0
      },
      "text/plain": [
       "  0%|          | 0/37 [00:00<?, ?it/s]"
      ]
     },
     "metadata": {},
     "output_type": "display_data"
    },
    {
     "data": {
      "application/vnd.jupyter.widget-view+json": {
       "model_id": "d48bb57d59044d78a28754214355f7ab",
       "version_major": 2,
       "version_minor": 0
      },
      "text/plain": [
       "  0%|          | 0/37 [00:00<?, ?it/s]"
      ]
     },
     "metadata": {},
     "output_type": "display_data"
    },
    {
     "data": {
      "application/vnd.jupyter.widget-view+json": {
       "model_id": "494d09f1d2ab4eefaeac1d4255f4f5e2",
       "version_major": 2,
       "version_minor": 0
      },
      "text/plain": [
       "  0%|          | 0/37 [00:00<?, ?it/s]"
      ]
     },
     "metadata": {},
     "output_type": "display_data"
    },
    {
     "data": {
      "application/vnd.jupyter.widget-view+json": {
       "model_id": "eb031deed8af4e07867bfc89d55bcce5",
       "version_major": 2,
       "version_minor": 0
      },
      "text/plain": [
       "  0%|          | 0/37 [00:00<?, ?it/s]"
      ]
     },
     "metadata": {},
     "output_type": "display_data"
    },
    {
     "data": {
      "application/vnd.jupyter.widget-view+json": {
       "model_id": "2b5c2236db0940b8924c849f3f196434",
       "version_major": 2,
       "version_minor": 0
      },
      "text/plain": [
       "  0%|          | 0/37 [00:00<?, ?it/s]"
      ]
     },
     "metadata": {},
     "output_type": "display_data"
    },
    {
     "data": {
      "application/vnd.jupyter.widget-view+json": {
       "model_id": "2a510c5e16a44a459776632b39e61da4",
       "version_major": 2,
       "version_minor": 0
      },
      "text/plain": [
       "  0%|          | 0/37 [00:00<?, ?it/s]"
      ]
     },
     "metadata": {},
     "output_type": "display_data"
    },
    {
     "data": {
      "application/vnd.jupyter.widget-view+json": {
       "model_id": "5242f67f20974c128e75840e95673f60",
       "version_major": 2,
       "version_minor": 0
      },
      "text/plain": [
       "  0%|          | 0/37 [00:00<?, ?it/s]"
      ]
     },
     "metadata": {},
     "output_type": "display_data"
    },
    {
     "data": {
      "application/vnd.jupyter.widget-view+json": {
       "model_id": "64a7f28ffe484cb681a2d88a30577323",
       "version_major": 2,
       "version_minor": 0
      },
      "text/plain": [
       "  0%|          | 0/37 [00:00<?, ?it/s]"
      ]
     },
     "metadata": {},
     "output_type": "display_data"
    },
    {
     "data": {
      "application/vnd.jupyter.widget-view+json": {
       "model_id": "48d7544968b845959f259436aadfebec",
       "version_major": 2,
       "version_minor": 0
      },
      "text/plain": [
       "  0%|          | 0/37 [00:00<?, ?it/s]"
      ]
     },
     "metadata": {},
     "output_type": "display_data"
    },
    {
     "data": {
      "application/vnd.jupyter.widget-view+json": {
       "model_id": "d74a4a52b53e4a85bcdc035047bc6c24",
       "version_major": 2,
       "version_minor": 0
      },
      "text/plain": [
       "  0%|          | 0/37 [00:00<?, ?it/s]"
      ]
     },
     "metadata": {},
     "output_type": "display_data"
    },
    {
     "data": {
      "application/vnd.jupyter.widget-view+json": {
       "model_id": "d53ac48b95454896b1c1fdf1b141abe7",
       "version_major": 2,
       "version_minor": 0
      },
      "text/plain": [
       "  0%|          | 0/37 [00:00<?, ?it/s]"
      ]
     },
     "metadata": {},
     "output_type": "display_data"
    },
    {
     "data": {
      "application/vnd.jupyter.widget-view+json": {
       "model_id": "ca6f21e096a64fa1bcba57f169bbc03f",
       "version_major": 2,
       "version_minor": 0
      },
      "text/plain": [
       "  0%|          | 0/37 [00:00<?, ?it/s]"
      ]
     },
     "metadata": {},
     "output_type": "display_data"
    },
    {
     "data": {
      "application/vnd.jupyter.widget-view+json": {
       "model_id": "4a4411a8062440f8b67ad534665766ad",
       "version_major": 2,
       "version_minor": 0
      },
      "text/plain": [
       "  0%|          | 0/37 [00:00<?, ?it/s]"
      ]
     },
     "metadata": {},
     "output_type": "display_data"
    },
    {
     "data": {
      "application/vnd.jupyter.widget-view+json": {
       "model_id": "afecd8f4e131436095c394f5782e5109",
       "version_major": 2,
       "version_minor": 0
      },
      "text/plain": [
       "  0%|          | 0/37 [00:00<?, ?it/s]"
      ]
     },
     "metadata": {},
     "output_type": "display_data"
    },
    {
     "data": {
      "application/vnd.jupyter.widget-view+json": {
       "model_id": "39a23e9f997c426fa0e2f7609065f8e4",
       "version_major": 2,
       "version_minor": 0
      },
      "text/plain": [
       "  0%|          | 0/37 [00:00<?, ?it/s]"
      ]
     },
     "metadata": {},
     "output_type": "display_data"
    },
    {
     "data": {
      "application/vnd.jupyter.widget-view+json": {
       "model_id": "15aea6ac37634946a64749ea5a3714b3",
       "version_major": 2,
       "version_minor": 0
      },
      "text/plain": [
       "  0%|          | 0/37 [00:00<?, ?it/s]"
      ]
     },
     "metadata": {},
     "output_type": "display_data"
    },
    {
     "data": {
      "application/vnd.jupyter.widget-view+json": {
       "model_id": "6630b457f9ac4d7da3d896063f3f0b89",
       "version_major": 2,
       "version_minor": 0
      },
      "text/plain": [
       "  0%|          | 0/37 [00:00<?, ?it/s]"
      ]
     },
     "metadata": {},
     "output_type": "display_data"
    },
    {
     "data": {
      "application/vnd.jupyter.widget-view+json": {
       "model_id": "0559ff7715474b4da44ce3fee8eb0a12",
       "version_major": 2,
       "version_minor": 0
      },
      "text/plain": [
       "  0%|          | 0/37 [00:00<?, ?it/s]"
      ]
     },
     "metadata": {},
     "output_type": "display_data"
    },
    {
     "data": {
      "application/vnd.jupyter.widget-view+json": {
       "model_id": "ec7f986811054237890c69b2e1631ae1",
       "version_major": 2,
       "version_minor": 0
      },
      "text/plain": [
       "  0%|          | 0/37 [00:00<?, ?it/s]"
      ]
     },
     "metadata": {},
     "output_type": "display_data"
    },
    {
     "data": {
      "application/vnd.jupyter.widget-view+json": {
       "model_id": "fe6ca35d620343d08caee2c72487aaa8",
       "version_major": 2,
       "version_minor": 0
      },
      "text/plain": [
       "  0%|          | 0/37 [00:00<?, ?it/s]"
      ]
     },
     "metadata": {},
     "output_type": "display_data"
    },
    {
     "data": {
      "application/vnd.jupyter.widget-view+json": {
       "model_id": "0800b7c2a7ba49b089443c72ecc8b859",
       "version_major": 2,
       "version_minor": 0
      },
      "text/plain": [
       "  0%|          | 0/37 [00:00<?, ?it/s]"
      ]
     },
     "metadata": {},
     "output_type": "display_data"
    },
    {
     "data": {
      "application/vnd.jupyter.widget-view+json": {
       "model_id": "51dbd1074a124c70a9e0c05418fcd5d2",
       "version_major": 2,
       "version_minor": 0
      },
      "text/plain": [
       "  0%|          | 0/37 [00:00<?, ?it/s]"
      ]
     },
     "metadata": {},
     "output_type": "display_data"
    },
    {
     "data": {
      "application/vnd.jupyter.widget-view+json": {
       "model_id": "124556961a9d493290308de067e5605a",
       "version_major": 2,
       "version_minor": 0
      },
      "text/plain": [
       "  0%|          | 0/37 [00:00<?, ?it/s]"
      ]
     },
     "metadata": {},
     "output_type": "display_data"
    },
    {
     "data": {
      "application/vnd.jupyter.widget-view+json": {
       "model_id": "62b9041b525d4c0bab35f72fd138374c",
       "version_major": 2,
       "version_minor": 0
      },
      "text/plain": [
       "  0%|          | 0/37 [00:00<?, ?it/s]"
      ]
     },
     "metadata": {},
     "output_type": "display_data"
    },
    {
     "data": {
      "application/vnd.jupyter.widget-view+json": {
       "model_id": "4826419247494316a5ef1343bf954a55",
       "version_major": 2,
       "version_minor": 0
      },
      "text/plain": [
       "  0%|          | 0/37 [00:00<?, ?it/s]"
      ]
     },
     "metadata": {},
     "output_type": "display_data"
    },
    {
     "data": {
      "application/vnd.jupyter.widget-view+json": {
       "model_id": "c898af456a4e4da399c910604eb45cb3",
       "version_major": 2,
       "version_minor": 0
      },
      "text/plain": [
       "  0%|          | 0/37 [00:00<?, ?it/s]"
      ]
     },
     "metadata": {},
     "output_type": "display_data"
    },
    {
     "data": {
      "application/vnd.jupyter.widget-view+json": {
       "model_id": "17bb0837829b4c678f4e93d0c69ec4b3",
       "version_major": 2,
       "version_minor": 0
      },
      "text/plain": [
       "  0%|          | 0/37 [00:00<?, ?it/s]"
      ]
     },
     "metadata": {},
     "output_type": "display_data"
    },
    {
     "data": {
      "application/vnd.jupyter.widget-view+json": {
       "model_id": "cc1807cb0ac243da9cbd9b450f6371d0",
       "version_major": 2,
       "version_minor": 0
      },
      "text/plain": [
       "  0%|          | 0/37 [00:00<?, ?it/s]"
      ]
     },
     "metadata": {},
     "output_type": "display_data"
    },
    {
     "data": {
      "application/vnd.jupyter.widget-view+json": {
       "model_id": "e313a5b1425a480094abcec94f35117c",
       "version_major": 2,
       "version_minor": 0
      },
      "text/plain": [
       "  0%|          | 0/37 [00:00<?, ?it/s]"
      ]
     },
     "metadata": {},
     "output_type": "display_data"
    },
    {
     "data": {
      "application/vnd.jupyter.widget-view+json": {
       "model_id": "33231cc5b0f547d2aa28f01360c2dfce",
       "version_major": 2,
       "version_minor": 0
      },
      "text/plain": [
       "  0%|          | 0/37 [00:00<?, ?it/s]"
      ]
     },
     "metadata": {},
     "output_type": "display_data"
    },
    {
     "data": {
      "application/vnd.jupyter.widget-view+json": {
       "model_id": "8af418c5aea348b582393e4a5bba5f12",
       "version_major": 2,
       "version_minor": 0
      },
      "text/plain": [
       "  0%|          | 0/37 [00:00<?, ?it/s]"
      ]
     },
     "metadata": {},
     "output_type": "display_data"
    },
    {
     "data": {
      "application/vnd.jupyter.widget-view+json": {
       "model_id": "751875de2c394d10bccb9f32bd7a19f7",
       "version_major": 2,
       "version_minor": 0
      },
      "text/plain": [
       "  0%|          | 0/37 [00:00<?, ?it/s]"
      ]
     },
     "metadata": {},
     "output_type": "display_data"
    },
    {
     "data": {
      "application/vnd.jupyter.widget-view+json": {
       "model_id": "e71e7f07ac4b4087b117134599c159ca",
       "version_major": 2,
       "version_minor": 0
      },
      "text/plain": [
       "  0%|          | 0/37 [00:00<?, ?it/s]"
      ]
     },
     "metadata": {},
     "output_type": "display_data"
    },
    {
     "data": {
      "application/vnd.jupyter.widget-view+json": {
       "model_id": "48ec1782393a401eba7c00a93abc9e87",
       "version_major": 2,
       "version_minor": 0
      },
      "text/plain": [
       "  0%|          | 0/37 [00:00<?, ?it/s]"
      ]
     },
     "metadata": {},
     "output_type": "display_data"
    },
    {
     "data": {
      "application/vnd.jupyter.widget-view+json": {
       "model_id": "7f5eaedbebe74090b9a43c638260a968",
       "version_major": 2,
       "version_minor": 0
      },
      "text/plain": [
       "  0%|          | 0/37 [00:00<?, ?it/s]"
      ]
     },
     "metadata": {},
     "output_type": "display_data"
    },
    {
     "data": {
      "application/vnd.jupyter.widget-view+json": {
       "model_id": "34fdec2a4cb04cd3b04817d5a9dcc67a",
       "version_major": 2,
       "version_minor": 0
      },
      "text/plain": [
       "  0%|          | 0/37 [00:00<?, ?it/s]"
      ]
     },
     "metadata": {},
     "output_type": "display_data"
    },
    {
     "data": {
      "application/vnd.jupyter.widget-view+json": {
       "model_id": "b4af4c4191c348228beaf7b460978656",
       "version_major": 2,
       "version_minor": 0
      },
      "text/plain": [
       "  0%|          | 0/37 [00:00<?, ?it/s]"
      ]
     },
     "metadata": {},
     "output_type": "display_data"
    },
    {
     "data": {
      "application/vnd.jupyter.widget-view+json": {
       "model_id": "0f0a2e6ca8d6441cb03cc58c2454cb9e",
       "version_major": 2,
       "version_minor": 0
      },
      "text/plain": [
       "  0%|          | 0/37 [00:00<?, ?it/s]"
      ]
     },
     "metadata": {},
     "output_type": "display_data"
    },
    {
     "data": {
      "application/vnd.jupyter.widget-view+json": {
       "model_id": "9b89d4959400499ba291d6f18368795a",
       "version_major": 2,
       "version_minor": 0
      },
      "text/plain": [
       "  0%|          | 0/37 [00:00<?, ?it/s]"
      ]
     },
     "metadata": {},
     "output_type": "display_data"
    },
    {
     "data": {
      "text/html": [
       "Waiting for W&B process to finish... <strong style=\"color:green\">(success).</strong>"
      ],
      "text/plain": [
       "<IPython.core.display.HTML object>"
      ]
     },
     "metadata": {},
     "output_type": "display_data"
    },
    {
     "data": {
      "application/vnd.jupyter.widget-view+json": {
       "model_id": "720318f006ea4427abb209d40581fe38",
       "version_major": 2,
       "version_minor": 0
      },
      "text/plain": [
       "VBox(children=(Label(value='0.003 MB of 0.021 MB uploaded (0.000 MB deduped)\\r'), FloatProgress(value=0.128673…"
      ]
     },
     "metadata": {},
     "output_type": "display_data"
    },
    {
     "data": {
      "text/html": [
       "<style>\n",
       "    table.wandb td:nth-child(1) { padding: 0 10px; text-align: left ; width: auto;} td:nth-child(2) {text-align: left ; width: 100%}\n",
       "    .wandb-row { display: flex; flex-direction: row; flex-wrap: wrap; justify-content: flex-start; width: 100% }\n",
       "    .wandb-col { display: flex; flex-direction: column; flex-basis: 100%; flex: 1; padding: 10px; }\n",
       "    </style>\n",
       "<div class=\"wandb-row\"><div class=\"wandb-col\"><h3>Run history:</h3><br/><table class=\"wandb\"><tr><td>batch_loss</td><td>██▇▅▆▄▄▅▄▃▂▃▄▃▃▂▄▃▂▃▂▂▄▂▁▃▂▃▂▂▅▁▁▂▃▂▂▄▃▂</td></tr><tr><td>epoch</td><td>▁▁▁▁▂▂▂▂▂▃▃▃▃▃▃▄▄▄▄▄▅▅▅▅▅▅▆▆▆▆▆▆▇▇▇▇▇███</td></tr><tr><td>loss</td><td>█▅▄▄▃▃▃▂▂▂▂▂▂▁▁▂▁▁▁▁▁▁▁▁▁▁▁▁▁▁▁▁▁▁▁▁▁▁▁▁</td></tr></table><br/></div><div class=\"wandb-col\"><h3>Run summary:</h3><br/><table class=\"wandb\"><tr><td>batch_loss</td><td>1.73261</td></tr><tr><td>epoch</td><td>49</td></tr><tr><td>loss</td><td>1.79463</td></tr></table><br/></div></div>"
      ],
      "text/plain": [
       "<IPython.core.display.HTML object>"
      ]
     },
     "metadata": {},
     "output_type": "display_data"
    },
    {
     "data": {
      "text/html": [
       " View run <strong style=\"color:#cdcd00\">rare-sweep-1</strong> at: <a href='https://wandb.ai/mldd23/selfie-autoencoder_v2/runs/64u1lh0s' target=\"_blank\">https://wandb.ai/mldd23/selfie-autoencoder_v2/runs/64u1lh0s</a><br/>Synced 5 W&B file(s), 0 media file(s), 0 artifact file(s) and 0 other file(s)"
      ],
      "text/plain": [
       "<IPython.core.display.HTML object>"
      ]
     },
     "metadata": {},
     "output_type": "display_data"
    },
    {
     "data": {
      "text/html": [
       "Find logs at: <code>./wandb/run-20230531_182557-64u1lh0s/logs</code>"
      ],
      "text/plain": [
       "<IPython.core.display.HTML object>"
      ]
     },
     "metadata": {},
     "output_type": "display_data"
    },
    {
     "name": "stderr",
     "output_type": "stream",
     "text": [
      "\u001b[34m\u001b[1mwandb\u001b[0m: Agent Starting Run: 2i2u3fz8 with config:\n",
      "\u001b[34m\u001b[1mwandb\u001b[0m: \tbatch_size: 208\n",
      "\u001b[34m\u001b[1mwandb\u001b[0m: \tdrop_prob: 0.4\n",
      "\u001b[34m\u001b[1mwandb\u001b[0m: \temb_size: 128\n",
      "\u001b[34m\u001b[1mwandb\u001b[0m: \tencoding_size: 64\n",
      "\u001b[34m\u001b[1mwandb\u001b[0m: \tepochs: 50\n",
      "\u001b[34m\u001b[1mwandb\u001b[0m: \tlearning_rate: 0.013409917260376804\n",
      "\u001b[34m\u001b[1mwandb\u001b[0m: \tnum_layers: 4\n",
      "Failed to detect the name of this notebook, you can set it manually with the WANDB_NOTEBOOK_NAME environment variable to enable code saving.\n"
     ]
    },
    {
     "data": {
      "text/html": [
       "Tracking run with wandb version 0.15.3"
      ],
      "text/plain": [
       "<IPython.core.display.HTML object>"
      ]
     },
     "metadata": {},
     "output_type": "display_data"
    },
    {
     "data": {
      "text/html": [
       "Run data is saved locally in <code>/home/anton/mldd23_project1/wandb/run-20230531_183302-2i2u3fz8</code>"
      ],
      "text/plain": [
       "<IPython.core.display.HTML object>"
      ]
     },
     "metadata": {},
     "output_type": "display_data"
    },
    {
     "data": {
      "text/html": [
       "Syncing run <strong><a href='https://wandb.ai/mldd23/selfie-autoencoder_v2/runs/2i2u3fz8' target=\"_blank\">skilled-sweep-2</a></strong> to <a href='https://wandb.ai/mldd23/selfie-autoencoder_v2' target=\"_blank\">Weights & Biases</a> (<a href='https://wandb.me/run' target=\"_blank\">docs</a>)<br/>Sweep page: <a href='https://wandb.ai/mldd23/selfie-autoencoder_v2/sweeps/7pj6cwfi' target=\"_blank\">https://wandb.ai/mldd23/selfie-autoencoder_v2/sweeps/7pj6cwfi</a>"
      ],
      "text/plain": [
       "<IPython.core.display.HTML object>"
      ]
     },
     "metadata": {},
     "output_type": "display_data"
    },
    {
     "data": {
      "text/html": [
       " View project at <a href='https://wandb.ai/mldd23/selfie-autoencoder_v2' target=\"_blank\">https://wandb.ai/mldd23/selfie-autoencoder_v2</a>"
      ],
      "text/plain": [
       "<IPython.core.display.HTML object>"
      ]
     },
     "metadata": {},
     "output_type": "display_data"
    },
    {
     "data": {
      "text/html": [
       " View sweep at <a href='https://wandb.ai/mldd23/selfie-autoencoder_v2/sweeps/7pj6cwfi' target=\"_blank\">https://wandb.ai/mldd23/selfie-autoencoder_v2/sweeps/7pj6cwfi</a>"
      ],
      "text/plain": [
       "<IPython.core.display.HTML object>"
      ]
     },
     "metadata": {},
     "output_type": "display_data"
    },
    {
     "data": {
      "text/html": [
       " View run at <a href='https://wandb.ai/mldd23/selfie-autoencoder_v2/runs/2i2u3fz8' target=\"_blank\">https://wandb.ai/mldd23/selfie-autoencoder_v2/runs/2i2u3fz8</a>"
      ],
      "text/plain": [
       "<IPython.core.display.HTML object>"
      ]
     },
     "metadata": {},
     "output_type": "display_data"
    },
    {
     "data": {
      "application/vnd.jupyter.widget-view+json": {
       "model_id": "aee38bdc59e24e64bdac224a6a42632e",
       "version_major": 2,
       "version_minor": 0
      },
      "text/plain": [
       "  0%|          | 0/50 [00:00<?, ?it/s]"
      ]
     },
     "metadata": {},
     "output_type": "display_data"
    },
    {
     "data": {
      "application/vnd.jupyter.widget-view+json": {
       "model_id": "39d97e2b7cfe499181ff39dff6c3f392",
       "version_major": 2,
       "version_minor": 0
      },
      "text/plain": [
       "  0%|          | 0/43 [00:00<?, ?it/s]"
      ]
     },
     "metadata": {},
     "output_type": "display_data"
    },
    {
     "data": {
      "application/vnd.jupyter.widget-view+json": {
       "model_id": "babd2c4d8b2b48509f1a908e99dbc1f8",
       "version_major": 2,
       "version_minor": 0
      },
      "text/plain": [
       "  0%|          | 0/43 [00:00<?, ?it/s]"
      ]
     },
     "metadata": {},
     "output_type": "display_data"
    },
    {
     "data": {
      "application/vnd.jupyter.widget-view+json": {
       "model_id": "3382488745534259b591a9d2d08c64b7",
       "version_major": 2,
       "version_minor": 0
      },
      "text/plain": [
       "  0%|          | 0/43 [00:00<?, ?it/s]"
      ]
     },
     "metadata": {},
     "output_type": "display_data"
    },
    {
     "data": {
      "application/vnd.jupyter.widget-view+json": {
       "model_id": "124f1a3b4a134f32a6660ce6fbe52faa",
       "version_major": 2,
       "version_minor": 0
      },
      "text/plain": [
       "  0%|          | 0/43 [00:00<?, ?it/s]"
      ]
     },
     "metadata": {},
     "output_type": "display_data"
    },
    {
     "data": {
      "application/vnd.jupyter.widget-view+json": {
       "model_id": "43bb39cabfa042edac21d4fa3e9f9727",
       "version_major": 2,
       "version_minor": 0
      },
      "text/plain": [
       "  0%|          | 0/43 [00:00<?, ?it/s]"
      ]
     },
     "metadata": {},
     "output_type": "display_data"
    },
    {
     "data": {
      "application/vnd.jupyter.widget-view+json": {
       "model_id": "bdb83c24261a45ec926af8fa40016e13",
       "version_major": 2,
       "version_minor": 0
      },
      "text/plain": [
       "  0%|          | 0/43 [00:00<?, ?it/s]"
      ]
     },
     "metadata": {},
     "output_type": "display_data"
    },
    {
     "data": {
      "application/vnd.jupyter.widget-view+json": {
       "model_id": "66ed32cdfda94869b8f2beee084f663e",
       "version_major": 2,
       "version_minor": 0
      },
      "text/plain": [
       "  0%|          | 0/43 [00:00<?, ?it/s]"
      ]
     },
     "metadata": {},
     "output_type": "display_data"
    },
    {
     "data": {
      "application/vnd.jupyter.widget-view+json": {
       "model_id": "be7e048be358417e951a0b54544c64a2",
       "version_major": 2,
       "version_minor": 0
      },
      "text/plain": [
       "  0%|          | 0/43 [00:00<?, ?it/s]"
      ]
     },
     "metadata": {},
     "output_type": "display_data"
    },
    {
     "data": {
      "application/vnd.jupyter.widget-view+json": {
       "model_id": "4633533766554e9a8411e54022539c30",
       "version_major": 2,
       "version_minor": 0
      },
      "text/plain": [
       "  0%|          | 0/43 [00:00<?, ?it/s]"
      ]
     },
     "metadata": {},
     "output_type": "display_data"
    },
    {
     "data": {
      "application/vnd.jupyter.widget-view+json": {
       "model_id": "580aa0307c8c4668b469d927341b2e41",
       "version_major": 2,
       "version_minor": 0
      },
      "text/plain": [
       "  0%|          | 0/43 [00:00<?, ?it/s]"
      ]
     },
     "metadata": {},
     "output_type": "display_data"
    },
    {
     "data": {
      "application/vnd.jupyter.widget-view+json": {
       "model_id": "44b08f3a3cf54bf5870d4aef476d1091",
       "version_major": 2,
       "version_minor": 0
      },
      "text/plain": [
       "  0%|          | 0/43 [00:00<?, ?it/s]"
      ]
     },
     "metadata": {},
     "output_type": "display_data"
    },
    {
     "data": {
      "application/vnd.jupyter.widget-view+json": {
       "model_id": "ac1b2b65ae4948ca91b74b57158f338d",
       "version_major": 2,
       "version_minor": 0
      },
      "text/plain": [
       "  0%|          | 0/43 [00:00<?, ?it/s]"
      ]
     },
     "metadata": {},
     "output_type": "display_data"
    },
    {
     "data": {
      "application/vnd.jupyter.widget-view+json": {
       "model_id": "48414e3a0095471c96e587acd927a86b",
       "version_major": 2,
       "version_minor": 0
      },
      "text/plain": [
       "  0%|          | 0/43 [00:00<?, ?it/s]"
      ]
     },
     "metadata": {},
     "output_type": "display_data"
    },
    {
     "data": {
      "application/vnd.jupyter.widget-view+json": {
       "model_id": "d79227d70ee14890a416d47470d71b65",
       "version_major": 2,
       "version_minor": 0
      },
      "text/plain": [
       "  0%|          | 0/43 [00:00<?, ?it/s]"
      ]
     },
     "metadata": {},
     "output_type": "display_data"
    },
    {
     "data": {
      "application/vnd.jupyter.widget-view+json": {
       "model_id": "3622dc72e6bc466aa3c94742e94cf4b3",
       "version_major": 2,
       "version_minor": 0
      },
      "text/plain": [
       "  0%|          | 0/43 [00:00<?, ?it/s]"
      ]
     },
     "metadata": {},
     "output_type": "display_data"
    },
    {
     "data": {
      "application/vnd.jupyter.widget-view+json": {
       "model_id": "3029350cf4e74f7f9ff9f430f9fb3730",
       "version_major": 2,
       "version_minor": 0
      },
      "text/plain": [
       "  0%|          | 0/43 [00:00<?, ?it/s]"
      ]
     },
     "metadata": {},
     "output_type": "display_data"
    },
    {
     "data": {
      "application/vnd.jupyter.widget-view+json": {
       "model_id": "9021b7586e2449a48e25e46f07c33382",
       "version_major": 2,
       "version_minor": 0
      },
      "text/plain": [
       "  0%|          | 0/43 [00:00<?, ?it/s]"
      ]
     },
     "metadata": {},
     "output_type": "display_data"
    },
    {
     "data": {
      "application/vnd.jupyter.widget-view+json": {
       "model_id": "e90899d064f941eba0bc8d6622f3dcf6",
       "version_major": 2,
       "version_minor": 0
      },
      "text/plain": [
       "  0%|          | 0/43 [00:00<?, ?it/s]"
      ]
     },
     "metadata": {},
     "output_type": "display_data"
    },
    {
     "data": {
      "application/vnd.jupyter.widget-view+json": {
       "model_id": "78fa367e5e4041e2a2dc273a3352b603",
       "version_major": 2,
       "version_minor": 0
      },
      "text/plain": [
       "  0%|          | 0/43 [00:00<?, ?it/s]"
      ]
     },
     "metadata": {},
     "output_type": "display_data"
    },
    {
     "data": {
      "application/vnd.jupyter.widget-view+json": {
       "model_id": "495628e02c184804b3385fdfbd82e903",
       "version_major": 2,
       "version_minor": 0
      },
      "text/plain": [
       "  0%|          | 0/43 [00:00<?, ?it/s]"
      ]
     },
     "metadata": {},
     "output_type": "display_data"
    },
    {
     "data": {
      "application/vnd.jupyter.widget-view+json": {
       "model_id": "bdb8cc5b4c584071bf351524aa3b6cf4",
       "version_major": 2,
       "version_minor": 0
      },
      "text/plain": [
       "  0%|          | 0/43 [00:00<?, ?it/s]"
      ]
     },
     "metadata": {},
     "output_type": "display_data"
    },
    {
     "data": {
      "application/vnd.jupyter.widget-view+json": {
       "model_id": "83029e02c1b84cf0833f7cfdbde9c2bd",
       "version_major": 2,
       "version_minor": 0
      },
      "text/plain": [
       "  0%|          | 0/43 [00:00<?, ?it/s]"
      ]
     },
     "metadata": {},
     "output_type": "display_data"
    },
    {
     "data": {
      "application/vnd.jupyter.widget-view+json": {
       "model_id": "32fcc14ae52545c295f3f98bbcd56f03",
       "version_major": 2,
       "version_minor": 0
      },
      "text/plain": [
       "  0%|          | 0/43 [00:00<?, ?it/s]"
      ]
     },
     "metadata": {},
     "output_type": "display_data"
    },
    {
     "data": {
      "application/vnd.jupyter.widget-view+json": {
       "model_id": "65828d4cb5e14a1884e6d5de0f08af6a",
       "version_major": 2,
       "version_minor": 0
      },
      "text/plain": [
       "  0%|          | 0/43 [00:00<?, ?it/s]"
      ]
     },
     "metadata": {},
     "output_type": "display_data"
    },
    {
     "data": {
      "application/vnd.jupyter.widget-view+json": {
       "model_id": "2fd429f25ab54eb0b7bc9c1eff68102c",
       "version_major": 2,
       "version_minor": 0
      },
      "text/plain": [
       "  0%|          | 0/43 [00:00<?, ?it/s]"
      ]
     },
     "metadata": {},
     "output_type": "display_data"
    },
    {
     "data": {
      "application/vnd.jupyter.widget-view+json": {
       "model_id": "b4d54e5b957243f683231bf5dd0d2ebc",
       "version_major": 2,
       "version_minor": 0
      },
      "text/plain": [
       "  0%|          | 0/43 [00:00<?, ?it/s]"
      ]
     },
     "metadata": {},
     "output_type": "display_data"
    },
    {
     "data": {
      "application/vnd.jupyter.widget-view+json": {
       "model_id": "9b0af0f7c1204de0948d91107b6a2e6f",
       "version_major": 2,
       "version_minor": 0
      },
      "text/plain": [
       "  0%|          | 0/43 [00:00<?, ?it/s]"
      ]
     },
     "metadata": {},
     "output_type": "display_data"
    },
    {
     "data": {
      "application/vnd.jupyter.widget-view+json": {
       "model_id": "a418078c24f74e6b82301cd6c5e2e060",
       "version_major": 2,
       "version_minor": 0
      },
      "text/plain": [
       "  0%|          | 0/43 [00:00<?, ?it/s]"
      ]
     },
     "metadata": {},
     "output_type": "display_data"
    },
    {
     "data": {
      "application/vnd.jupyter.widget-view+json": {
       "model_id": "8715cd6d78a044099bd59b1c0e4f7179",
       "version_major": 2,
       "version_minor": 0
      },
      "text/plain": [
       "  0%|          | 0/43 [00:00<?, ?it/s]"
      ]
     },
     "metadata": {},
     "output_type": "display_data"
    },
    {
     "data": {
      "application/vnd.jupyter.widget-view+json": {
       "model_id": "d504189259ae4d17ac00dc6add541654",
       "version_major": 2,
       "version_minor": 0
      },
      "text/plain": [
       "  0%|          | 0/43 [00:00<?, ?it/s]"
      ]
     },
     "metadata": {},
     "output_type": "display_data"
    },
    {
     "data": {
      "application/vnd.jupyter.widget-view+json": {
       "model_id": "6adf5f7ae61b41f0957aea22a965c07b",
       "version_major": 2,
       "version_minor": 0
      },
      "text/plain": [
       "  0%|          | 0/43 [00:00<?, ?it/s]"
      ]
     },
     "metadata": {},
     "output_type": "display_data"
    },
    {
     "data": {
      "application/vnd.jupyter.widget-view+json": {
       "model_id": "beec8b2281a04693900047acd8decb97",
       "version_major": 2,
       "version_minor": 0
      },
      "text/plain": [
       "  0%|          | 0/43 [00:00<?, ?it/s]"
      ]
     },
     "metadata": {},
     "output_type": "display_data"
    },
    {
     "data": {
      "application/vnd.jupyter.widget-view+json": {
       "model_id": "8033025a72f34b0fbbb4171cbd4abfc6",
       "version_major": 2,
       "version_minor": 0
      },
      "text/plain": [
       "  0%|          | 0/43 [00:00<?, ?it/s]"
      ]
     },
     "metadata": {},
     "output_type": "display_data"
    },
    {
     "data": {
      "application/vnd.jupyter.widget-view+json": {
       "model_id": "8e19a2e30fb94f888da962345a4e700f",
       "version_major": 2,
       "version_minor": 0
      },
      "text/plain": [
       "  0%|          | 0/43 [00:00<?, ?it/s]"
      ]
     },
     "metadata": {},
     "output_type": "display_data"
    },
    {
     "data": {
      "application/vnd.jupyter.widget-view+json": {
       "model_id": "6fec222d6c604c72b42de2df8d775e4c",
       "version_major": 2,
       "version_minor": 0
      },
      "text/plain": [
       "  0%|          | 0/43 [00:00<?, ?it/s]"
      ]
     },
     "metadata": {},
     "output_type": "display_data"
    },
    {
     "data": {
      "application/vnd.jupyter.widget-view+json": {
       "model_id": "da1af93d0036483d935e5708055fdea2",
       "version_major": 2,
       "version_minor": 0
      },
      "text/plain": [
       "  0%|          | 0/43 [00:00<?, ?it/s]"
      ]
     },
     "metadata": {},
     "output_type": "display_data"
    },
    {
     "data": {
      "application/vnd.jupyter.widget-view+json": {
       "model_id": "b1f452b7d8a943589ba3e7aeefad1db6",
       "version_major": 2,
       "version_minor": 0
      },
      "text/plain": [
       "  0%|          | 0/43 [00:00<?, ?it/s]"
      ]
     },
     "metadata": {},
     "output_type": "display_data"
    },
    {
     "data": {
      "application/vnd.jupyter.widget-view+json": {
       "model_id": "aaa6d4548c7f444f956da1be60311572",
       "version_major": 2,
       "version_minor": 0
      },
      "text/plain": [
       "  0%|          | 0/43 [00:00<?, ?it/s]"
      ]
     },
     "metadata": {},
     "output_type": "display_data"
    },
    {
     "data": {
      "application/vnd.jupyter.widget-view+json": {
       "model_id": "b3e8524c6c8a4ef49b83382f87e76e81",
       "version_major": 2,
       "version_minor": 0
      },
      "text/plain": [
       "  0%|          | 0/43 [00:00<?, ?it/s]"
      ]
     },
     "metadata": {},
     "output_type": "display_data"
    },
    {
     "data": {
      "application/vnd.jupyter.widget-view+json": {
       "model_id": "3689833b541743cfa9a56306ce393105",
       "version_major": 2,
       "version_minor": 0
      },
      "text/plain": [
       "  0%|          | 0/43 [00:00<?, ?it/s]"
      ]
     },
     "metadata": {},
     "output_type": "display_data"
    },
    {
     "data": {
      "application/vnd.jupyter.widget-view+json": {
       "model_id": "9fdb4814814b42ecbe45923e0304bd59",
       "version_major": 2,
       "version_minor": 0
      },
      "text/plain": [
       "  0%|          | 0/43 [00:00<?, ?it/s]"
      ]
     },
     "metadata": {},
     "output_type": "display_data"
    },
    {
     "data": {
      "application/vnd.jupyter.widget-view+json": {
       "model_id": "5c11be976aea49549abd588d2eee35e1",
       "version_major": 2,
       "version_minor": 0
      },
      "text/plain": [
       "  0%|          | 0/43 [00:00<?, ?it/s]"
      ]
     },
     "metadata": {},
     "output_type": "display_data"
    },
    {
     "data": {
      "application/vnd.jupyter.widget-view+json": {
       "model_id": "4610cd2a51d14e87a054ee59ea85b965",
       "version_major": 2,
       "version_minor": 0
      },
      "text/plain": [
       "  0%|          | 0/43 [00:00<?, ?it/s]"
      ]
     },
     "metadata": {},
     "output_type": "display_data"
    },
    {
     "data": {
      "application/vnd.jupyter.widget-view+json": {
       "model_id": "419d42bdefa2421e8eca553f6f85e923",
       "version_major": 2,
       "version_minor": 0
      },
      "text/plain": [
       "  0%|          | 0/43 [00:00<?, ?it/s]"
      ]
     },
     "metadata": {},
     "output_type": "display_data"
    },
    {
     "data": {
      "application/vnd.jupyter.widget-view+json": {
       "model_id": "22b5460396634149abdf16279d5a82d2",
       "version_major": 2,
       "version_minor": 0
      },
      "text/plain": [
       "  0%|          | 0/43 [00:00<?, ?it/s]"
      ]
     },
     "metadata": {},
     "output_type": "display_data"
    },
    {
     "data": {
      "application/vnd.jupyter.widget-view+json": {
       "model_id": "6b3023ee5de4477b864dfc26f26a589d",
       "version_major": 2,
       "version_minor": 0
      },
      "text/plain": [
       "  0%|          | 0/43 [00:00<?, ?it/s]"
      ]
     },
     "metadata": {},
     "output_type": "display_data"
    },
    {
     "data": {
      "application/vnd.jupyter.widget-view+json": {
       "model_id": "47ccbe289514442dad34c36145bd0b4d",
       "version_major": 2,
       "version_minor": 0
      },
      "text/plain": [
       "  0%|          | 0/43 [00:00<?, ?it/s]"
      ]
     },
     "metadata": {},
     "output_type": "display_data"
    },
    {
     "data": {
      "application/vnd.jupyter.widget-view+json": {
       "model_id": "6b159bfc21504bd6a18c6074ca3a944d",
       "version_major": 2,
       "version_minor": 0
      },
      "text/plain": [
       "  0%|          | 0/43 [00:00<?, ?it/s]"
      ]
     },
     "metadata": {},
     "output_type": "display_data"
    },
    {
     "data": {
      "application/vnd.jupyter.widget-view+json": {
       "model_id": "5c02ebc87d6f46c1a73e74ec8dcac7a7",
       "version_major": 2,
       "version_minor": 0
      },
      "text/plain": [
       "  0%|          | 0/43 [00:00<?, ?it/s]"
      ]
     },
     "metadata": {},
     "output_type": "display_data"
    },
    {
     "data": {
      "application/vnd.jupyter.widget-view+json": {
       "model_id": "86708cbb2ee14e9f93fbb14bc1555ac5",
       "version_major": 2,
       "version_minor": 0
      },
      "text/plain": [
       "  0%|          | 0/43 [00:00<?, ?it/s]"
      ]
     },
     "metadata": {},
     "output_type": "display_data"
    },
    {
     "data": {
      "text/html": [
       "Waiting for W&B process to finish... <strong style=\"color:green\">(success).</strong>"
      ],
      "text/plain": [
       "<IPython.core.display.HTML object>"
      ]
     },
     "metadata": {},
     "output_type": "display_data"
    },
    {
     "data": {
      "text/html": [
       "<style>\n",
       "    table.wandb td:nth-child(1) { padding: 0 10px; text-align: left ; width: auto;} td:nth-child(2) {text-align: left ; width: 100%}\n",
       "    .wandb-row { display: flex; flex-direction: row; flex-wrap: wrap; justify-content: flex-start; width: 100% }\n",
       "    .wandb-col { display: flex; flex-direction: column; flex-basis: 100%; flex: 1; padding: 10px; }\n",
       "    </style>\n",
       "<div class=\"wandb-row\"><div class=\"wandb-col\"><h3>Run history:</h3><br/><table class=\"wandb\"><tr><td>batch_loss</td><td>██▇▆▆▅▅▅▅▃▄▅▃▄▃▅▂▃▄▂▃▁▃▄▂▃▃▅▂▂▃▂▄▃▃▂▃▁▂▁</td></tr><tr><td>epoch</td><td>▁▁▁▁▂▂▂▂▂▃▃▃▃▃▃▄▄▄▄▄▅▅▅▅▅▅▆▆▆▆▆▆▇▇▇▇▇███</td></tr><tr><td>loss</td><td>█▄▃▃▃▂▂▂▂▂▂▂▁▁▁▁▁▁▁▁▁▁▁▁▁▁▁▁▁▁▁▁▁▁▁▁▁▁▁▁</td></tr></table><br/></div><div class=\"wandb-col\"><h3>Run summary:</h3><br/><table class=\"wandb\"><tr><td>batch_loss</td><td>1.81659</td></tr><tr><td>epoch</td><td>49</td></tr><tr><td>loss</td><td>1.84518</td></tr></table><br/></div></div>"
      ],
      "text/plain": [
       "<IPython.core.display.HTML object>"
      ]
     },
     "metadata": {},
     "output_type": "display_data"
    },
    {
     "data": {
      "text/html": [
       " View run <strong style=\"color:#cdcd00\">skilled-sweep-2</strong> at: <a href='https://wandb.ai/mldd23/selfie-autoencoder_v2/runs/2i2u3fz8' target=\"_blank\">https://wandb.ai/mldd23/selfie-autoencoder_v2/runs/2i2u3fz8</a><br/>Synced 5 W&B file(s), 0 media file(s), 0 artifact file(s) and 0 other file(s)"
      ],
      "text/plain": [
       "<IPython.core.display.HTML object>"
      ]
     },
     "metadata": {},
     "output_type": "display_data"
    },
    {
     "data": {
      "text/html": [
       "Find logs at: <code>./wandb/run-20230531_183302-2i2u3fz8/logs</code>"
      ],
      "text/plain": [
       "<IPython.core.display.HTML object>"
      ]
     },
     "metadata": {},
     "output_type": "display_data"
    },
    {
     "name": "stderr",
     "output_type": "stream",
     "text": [
      "\u001b[34m\u001b[1mwandb\u001b[0m: Agent Starting Run: umnanpyx with config:\n",
      "\u001b[34m\u001b[1mwandb\u001b[0m: \tbatch_size: 72\n",
      "\u001b[34m\u001b[1mwandb\u001b[0m: \tdrop_prob: 0.1\n",
      "\u001b[34m\u001b[1mwandb\u001b[0m: \temb_size: 64\n",
      "\u001b[34m\u001b[1mwandb\u001b[0m: \tencoding_size: 512\n",
      "\u001b[34m\u001b[1mwandb\u001b[0m: \tepochs: 50\n",
      "\u001b[34m\u001b[1mwandb\u001b[0m: \tlearning_rate: 0.0009297665712177271\n",
      "\u001b[34m\u001b[1mwandb\u001b[0m: \tnum_layers: 3\n",
      "Failed to detect the name of this notebook, you can set it manually with the WANDB_NOTEBOOK_NAME environment variable to enable code saving.\n"
     ]
    },
    {
     "data": {
      "text/html": [
       "Tracking run with wandb version 0.15.3"
      ],
      "text/plain": [
       "<IPython.core.display.HTML object>"
      ]
     },
     "metadata": {},
     "output_type": "display_data"
    },
    {
     "data": {
      "text/html": [
       "Run data is saved locally in <code>/home/anton/mldd23_project1/wandb/run-20230531_183939-umnanpyx</code>"
      ],
      "text/plain": [
       "<IPython.core.display.HTML object>"
      ]
     },
     "metadata": {},
     "output_type": "display_data"
    },
    {
     "data": {
      "text/html": [
       "Syncing run <strong><a href='https://wandb.ai/mldd23/selfie-autoencoder_v2/runs/umnanpyx' target=\"_blank\">lucky-sweep-3</a></strong> to <a href='https://wandb.ai/mldd23/selfie-autoencoder_v2' target=\"_blank\">Weights & Biases</a> (<a href='https://wandb.me/run' target=\"_blank\">docs</a>)<br/>Sweep page: <a href='https://wandb.ai/mldd23/selfie-autoencoder_v2/sweeps/7pj6cwfi' target=\"_blank\">https://wandb.ai/mldd23/selfie-autoencoder_v2/sweeps/7pj6cwfi</a>"
      ],
      "text/plain": [
       "<IPython.core.display.HTML object>"
      ]
     },
     "metadata": {},
     "output_type": "display_data"
    },
    {
     "data": {
      "text/html": [
       " View project at <a href='https://wandb.ai/mldd23/selfie-autoencoder_v2' target=\"_blank\">https://wandb.ai/mldd23/selfie-autoencoder_v2</a>"
      ],
      "text/plain": [
       "<IPython.core.display.HTML object>"
      ]
     },
     "metadata": {},
     "output_type": "display_data"
    },
    {
     "data": {
      "text/html": [
       " View sweep at <a href='https://wandb.ai/mldd23/selfie-autoencoder_v2/sweeps/7pj6cwfi' target=\"_blank\">https://wandb.ai/mldd23/selfie-autoencoder_v2/sweeps/7pj6cwfi</a>"
      ],
      "text/plain": [
       "<IPython.core.display.HTML object>"
      ]
     },
     "metadata": {},
     "output_type": "display_data"
    },
    {
     "data": {
      "text/html": [
       " View run at <a href='https://wandb.ai/mldd23/selfie-autoencoder_v2/runs/umnanpyx' target=\"_blank\">https://wandb.ai/mldd23/selfie-autoencoder_v2/runs/umnanpyx</a>"
      ],
      "text/plain": [
       "<IPython.core.display.HTML object>"
      ]
     },
     "metadata": {},
     "output_type": "display_data"
    },
    {
     "data": {
      "application/vnd.jupyter.widget-view+json": {
       "model_id": "7455d1435b834cf399e1cf16babe84cb",
       "version_major": 2,
       "version_minor": 0
      },
      "text/plain": [
       "  0%|          | 0/50 [00:00<?, ?it/s]"
      ]
     },
     "metadata": {},
     "output_type": "display_data"
    },
    {
     "data": {
      "application/vnd.jupyter.widget-view+json": {
       "model_id": "cfd87aac51384473b9f16159248e93a9",
       "version_major": 2,
       "version_minor": 0
      },
      "text/plain": [
       "  0%|          | 0/125 [00:00<?, ?it/s]"
      ]
     },
     "metadata": {},
     "output_type": "display_data"
    },
    {
     "data": {
      "application/vnd.jupyter.widget-view+json": {
       "model_id": "871241849d2445fcb1250e130766ef49",
       "version_major": 2,
       "version_minor": 0
      },
      "text/plain": [
       "  0%|          | 0/125 [00:00<?, ?it/s]"
      ]
     },
     "metadata": {},
     "output_type": "display_data"
    },
    {
     "data": {
      "application/vnd.jupyter.widget-view+json": {
       "model_id": "446b1366c76f48b6ac185ed7433f4ac6",
       "version_major": 2,
       "version_minor": 0
      },
      "text/plain": [
       "  0%|          | 0/125 [00:00<?, ?it/s]"
      ]
     },
     "metadata": {},
     "output_type": "display_data"
    },
    {
     "data": {
      "application/vnd.jupyter.widget-view+json": {
       "model_id": "4b8548d8b46645f586250e2403e226d7",
       "version_major": 2,
       "version_minor": 0
      },
      "text/plain": [
       "  0%|          | 0/125 [00:00<?, ?it/s]"
      ]
     },
     "metadata": {},
     "output_type": "display_data"
    },
    {
     "data": {
      "application/vnd.jupyter.widget-view+json": {
       "model_id": "4211fc801aac4cd6b8f4f42d3efd1960",
       "version_major": 2,
       "version_minor": 0
      },
      "text/plain": [
       "  0%|          | 0/125 [00:00<?, ?it/s]"
      ]
     },
     "metadata": {},
     "output_type": "display_data"
    },
    {
     "data": {
      "application/vnd.jupyter.widget-view+json": {
       "model_id": "da507d597c264cf8815d53f784dd5919",
       "version_major": 2,
       "version_minor": 0
      },
      "text/plain": [
       "  0%|          | 0/125 [00:00<?, ?it/s]"
      ]
     },
     "metadata": {},
     "output_type": "display_data"
    },
    {
     "data": {
      "application/vnd.jupyter.widget-view+json": {
       "model_id": "65626ad210d1443299483de7839baedf",
       "version_major": 2,
       "version_minor": 0
      },
      "text/plain": [
       "  0%|          | 0/125 [00:00<?, ?it/s]"
      ]
     },
     "metadata": {},
     "output_type": "display_data"
    },
    {
     "data": {
      "application/vnd.jupyter.widget-view+json": {
       "model_id": "ee73ad88604741b19d56b5b65bc9fe04",
       "version_major": 2,
       "version_minor": 0
      },
      "text/plain": [
       "  0%|          | 0/125 [00:00<?, ?it/s]"
      ]
     },
     "metadata": {},
     "output_type": "display_data"
    },
    {
     "data": {
      "application/vnd.jupyter.widget-view+json": {
       "model_id": "74dfbbf8719e48ffa046d44c4d2cbdab",
       "version_major": 2,
       "version_minor": 0
      },
      "text/plain": [
       "  0%|          | 0/125 [00:00<?, ?it/s]"
      ]
     },
     "metadata": {},
     "output_type": "display_data"
    },
    {
     "data": {
      "application/vnd.jupyter.widget-view+json": {
       "model_id": "a961457e82254b47843790eaaead740b",
       "version_major": 2,
       "version_minor": 0
      },
      "text/plain": [
       "  0%|          | 0/125 [00:00<?, ?it/s]"
      ]
     },
     "metadata": {},
     "output_type": "display_data"
    },
    {
     "data": {
      "application/vnd.jupyter.widget-view+json": {
       "model_id": "c7ed41824d9e42428d9fc7a4f7fade9e",
       "version_major": 2,
       "version_minor": 0
      },
      "text/plain": [
       "  0%|          | 0/125 [00:00<?, ?it/s]"
      ]
     },
     "metadata": {},
     "output_type": "display_data"
    },
    {
     "data": {
      "application/vnd.jupyter.widget-view+json": {
       "model_id": "87c6812ef0ce4f0b8c3e7f33a5bf8caf",
       "version_major": 2,
       "version_minor": 0
      },
      "text/plain": [
       "  0%|          | 0/125 [00:00<?, ?it/s]"
      ]
     },
     "metadata": {},
     "output_type": "display_data"
    },
    {
     "data": {
      "application/vnd.jupyter.widget-view+json": {
       "model_id": "4a542305adf94c3995559b93798b1491",
       "version_major": 2,
       "version_minor": 0
      },
      "text/plain": [
       "  0%|          | 0/125 [00:00<?, ?it/s]"
      ]
     },
     "metadata": {},
     "output_type": "display_data"
    },
    {
     "data": {
      "application/vnd.jupyter.widget-view+json": {
       "model_id": "a498f126ccee47cfa1d0f3ea85776d7a",
       "version_major": 2,
       "version_minor": 0
      },
      "text/plain": [
       "  0%|          | 0/125 [00:00<?, ?it/s]"
      ]
     },
     "metadata": {},
     "output_type": "display_data"
    },
    {
     "data": {
      "application/vnd.jupyter.widget-view+json": {
       "model_id": "9645903c44794f229511281dc68a824e",
       "version_major": 2,
       "version_minor": 0
      },
      "text/plain": [
       "  0%|          | 0/125 [00:00<?, ?it/s]"
      ]
     },
     "metadata": {},
     "output_type": "display_data"
    },
    {
     "data": {
      "application/vnd.jupyter.widget-view+json": {
       "model_id": "d00ac98759dc464eb547a3e13ebde7cc",
       "version_major": 2,
       "version_minor": 0
      },
      "text/plain": [
       "  0%|          | 0/125 [00:00<?, ?it/s]"
      ]
     },
     "metadata": {},
     "output_type": "display_data"
    },
    {
     "data": {
      "application/vnd.jupyter.widget-view+json": {
       "model_id": "b6f50ab430f64e0cb9d1fe29b2971f8c",
       "version_major": 2,
       "version_minor": 0
      },
      "text/plain": [
       "  0%|          | 0/125 [00:00<?, ?it/s]"
      ]
     },
     "metadata": {},
     "output_type": "display_data"
    },
    {
     "data": {
      "application/vnd.jupyter.widget-view+json": {
       "model_id": "4c8ee7963c92415fa6b05730a1702b2b",
       "version_major": 2,
       "version_minor": 0
      },
      "text/plain": [
       "  0%|          | 0/125 [00:00<?, ?it/s]"
      ]
     },
     "metadata": {},
     "output_type": "display_data"
    },
    {
     "data": {
      "application/vnd.jupyter.widget-view+json": {
       "model_id": "f3ed9c83b8894107bae8af47cc820f21",
       "version_major": 2,
       "version_minor": 0
      },
      "text/plain": [
       "  0%|          | 0/125 [00:00<?, ?it/s]"
      ]
     },
     "metadata": {},
     "output_type": "display_data"
    },
    {
     "data": {
      "application/vnd.jupyter.widget-view+json": {
       "model_id": "f4c79a5ab0cd42b187590ac8ecb87f3b",
       "version_major": 2,
       "version_minor": 0
      },
      "text/plain": [
       "  0%|          | 0/125 [00:00<?, ?it/s]"
      ]
     },
     "metadata": {},
     "output_type": "display_data"
    },
    {
     "data": {
      "application/vnd.jupyter.widget-view+json": {
       "model_id": "7876b742c7414e5f920a7216135c4423",
       "version_major": 2,
       "version_minor": 0
      },
      "text/plain": [
       "  0%|          | 0/125 [00:00<?, ?it/s]"
      ]
     },
     "metadata": {},
     "output_type": "display_data"
    },
    {
     "data": {
      "application/vnd.jupyter.widget-view+json": {
       "model_id": "8e8ef011d4434ca98af9318bba1ec62e",
       "version_major": 2,
       "version_minor": 0
      },
      "text/plain": [
       "  0%|          | 0/125 [00:00<?, ?it/s]"
      ]
     },
     "metadata": {},
     "output_type": "display_data"
    },
    {
     "data": {
      "application/vnd.jupyter.widget-view+json": {
       "model_id": "6889c7d9448947ca978f373b8447ea18",
       "version_major": 2,
       "version_minor": 0
      },
      "text/plain": [
       "  0%|          | 0/125 [00:00<?, ?it/s]"
      ]
     },
     "metadata": {},
     "output_type": "display_data"
    },
    {
     "data": {
      "application/vnd.jupyter.widget-view+json": {
       "model_id": "8a44a51856284ade800e08a764743d96",
       "version_major": 2,
       "version_minor": 0
      },
      "text/plain": [
       "  0%|          | 0/125 [00:00<?, ?it/s]"
      ]
     },
     "metadata": {},
     "output_type": "display_data"
    },
    {
     "data": {
      "application/vnd.jupyter.widget-view+json": {
       "model_id": "c1687c8745e44aa5b7df8ca2fb5b3d9d",
       "version_major": 2,
       "version_minor": 0
      },
      "text/plain": [
       "  0%|          | 0/125 [00:00<?, ?it/s]"
      ]
     },
     "metadata": {},
     "output_type": "display_data"
    },
    {
     "data": {
      "application/vnd.jupyter.widget-view+json": {
       "model_id": "4176fc9221244df48ba5b82c69e6c20a",
       "version_major": 2,
       "version_minor": 0
      },
      "text/plain": [
       "  0%|          | 0/125 [00:00<?, ?it/s]"
      ]
     },
     "metadata": {},
     "output_type": "display_data"
    },
    {
     "data": {
      "application/vnd.jupyter.widget-view+json": {
       "model_id": "e501b637cfd24f318c7b4ab2fa9de21b",
       "version_major": 2,
       "version_minor": 0
      },
      "text/plain": [
       "  0%|          | 0/125 [00:00<?, ?it/s]"
      ]
     },
     "metadata": {},
     "output_type": "display_data"
    },
    {
     "data": {
      "application/vnd.jupyter.widget-view+json": {
       "model_id": "c72cd0973acf4b53bb97a9cbda23f144",
       "version_major": 2,
       "version_minor": 0
      },
      "text/plain": [
       "  0%|          | 0/125 [00:00<?, ?it/s]"
      ]
     },
     "metadata": {},
     "output_type": "display_data"
    },
    {
     "data": {
      "application/vnd.jupyter.widget-view+json": {
       "model_id": "83143b3567ba439fb26a39ba08b14dbc",
       "version_major": 2,
       "version_minor": 0
      },
      "text/plain": [
       "  0%|          | 0/125 [00:00<?, ?it/s]"
      ]
     },
     "metadata": {},
     "output_type": "display_data"
    },
    {
     "data": {
      "application/vnd.jupyter.widget-view+json": {
       "model_id": "708cb9740d2b40eab8e6589506d3456e",
       "version_major": 2,
       "version_minor": 0
      },
      "text/plain": [
       "  0%|          | 0/125 [00:00<?, ?it/s]"
      ]
     },
     "metadata": {},
     "output_type": "display_data"
    },
    {
     "data": {
      "application/vnd.jupyter.widget-view+json": {
       "model_id": "7faf5fa13ba24e74935e4f4772a68a47",
       "version_major": 2,
       "version_minor": 0
      },
      "text/plain": [
       "  0%|          | 0/125 [00:00<?, ?it/s]"
      ]
     },
     "metadata": {},
     "output_type": "display_data"
    },
    {
     "data": {
      "application/vnd.jupyter.widget-view+json": {
       "model_id": "0a259eeba6444bad88f23fffb52d6895",
       "version_major": 2,
       "version_minor": 0
      },
      "text/plain": [
       "  0%|          | 0/125 [00:00<?, ?it/s]"
      ]
     },
     "metadata": {},
     "output_type": "display_data"
    },
    {
     "data": {
      "application/vnd.jupyter.widget-view+json": {
       "model_id": "02db90d3fd51477f8ac2540937624a64",
       "version_major": 2,
       "version_minor": 0
      },
      "text/plain": [
       "  0%|          | 0/125 [00:00<?, ?it/s]"
      ]
     },
     "metadata": {},
     "output_type": "display_data"
    },
    {
     "data": {
      "application/vnd.jupyter.widget-view+json": {
       "model_id": "487a76db5ced4370bc3ca1c185e85564",
       "version_major": 2,
       "version_minor": 0
      },
      "text/plain": [
       "  0%|          | 0/125 [00:00<?, ?it/s]"
      ]
     },
     "metadata": {},
     "output_type": "display_data"
    },
    {
     "data": {
      "application/vnd.jupyter.widget-view+json": {
       "model_id": "c758895a93374dd187a23b016857fbc7",
       "version_major": 2,
       "version_minor": 0
      },
      "text/plain": [
       "  0%|          | 0/125 [00:00<?, ?it/s]"
      ]
     },
     "metadata": {},
     "output_type": "display_data"
    },
    {
     "data": {
      "application/vnd.jupyter.widget-view+json": {
       "model_id": "860c262ca9e8413790ad0aeaaa3c9b60",
       "version_major": 2,
       "version_minor": 0
      },
      "text/plain": [
       "  0%|          | 0/125 [00:00<?, ?it/s]"
      ]
     },
     "metadata": {},
     "output_type": "display_data"
    },
    {
     "data": {
      "application/vnd.jupyter.widget-view+json": {
       "model_id": "3576b24a9a5746ab839df140bc1058f5",
       "version_major": 2,
       "version_minor": 0
      },
      "text/plain": [
       "  0%|          | 0/125 [00:00<?, ?it/s]"
      ]
     },
     "metadata": {},
     "output_type": "display_data"
    },
    {
     "data": {
      "application/vnd.jupyter.widget-view+json": {
       "model_id": "6b7df74e02564163acb1f4e5117d9191",
       "version_major": 2,
       "version_minor": 0
      },
      "text/plain": [
       "  0%|          | 0/125 [00:00<?, ?it/s]"
      ]
     },
     "metadata": {},
     "output_type": "display_data"
    },
    {
     "data": {
      "application/vnd.jupyter.widget-view+json": {
       "model_id": "a6aff7875e7d41488c0019ffc94e5a9e",
       "version_major": 2,
       "version_minor": 0
      },
      "text/plain": [
       "  0%|          | 0/125 [00:00<?, ?it/s]"
      ]
     },
     "metadata": {},
     "output_type": "display_data"
    },
    {
     "data": {
      "application/vnd.jupyter.widget-view+json": {
       "model_id": "096a12388ce847c3b9c04696d12766ec",
       "version_major": 2,
       "version_minor": 0
      },
      "text/plain": [
       "  0%|          | 0/125 [00:00<?, ?it/s]"
      ]
     },
     "metadata": {},
     "output_type": "display_data"
    },
    {
     "data": {
      "application/vnd.jupyter.widget-view+json": {
       "model_id": "f8ca1ade5fbb4dd1bf7cd87948ea2c31",
       "version_major": 2,
       "version_minor": 0
      },
      "text/plain": [
       "  0%|          | 0/125 [00:00<?, ?it/s]"
      ]
     },
     "metadata": {},
     "output_type": "display_data"
    },
    {
     "data": {
      "application/vnd.jupyter.widget-view+json": {
       "model_id": "35eb2010d33443809e98e9f756e33fe9",
       "version_major": 2,
       "version_minor": 0
      },
      "text/plain": [
       "  0%|          | 0/125 [00:00<?, ?it/s]"
      ]
     },
     "metadata": {},
     "output_type": "display_data"
    },
    {
     "data": {
      "application/vnd.jupyter.widget-view+json": {
       "model_id": "b517e66dd0304a5da7bdd5449528623d",
       "version_major": 2,
       "version_minor": 0
      },
      "text/plain": [
       "  0%|          | 0/125 [00:00<?, ?it/s]"
      ]
     },
     "metadata": {},
     "output_type": "display_data"
    },
    {
     "data": {
      "application/vnd.jupyter.widget-view+json": {
       "model_id": "43f418ff16674911a6d613a077de0d92",
       "version_major": 2,
       "version_minor": 0
      },
      "text/plain": [
       "  0%|          | 0/125 [00:00<?, ?it/s]"
      ]
     },
     "metadata": {},
     "output_type": "display_data"
    },
    {
     "data": {
      "application/vnd.jupyter.widget-view+json": {
       "model_id": "b1defa3fe4ad43808cd3ba8d31eedec3",
       "version_major": 2,
       "version_minor": 0
      },
      "text/plain": [
       "  0%|          | 0/125 [00:00<?, ?it/s]"
      ]
     },
     "metadata": {},
     "output_type": "display_data"
    },
    {
     "data": {
      "application/vnd.jupyter.widget-view+json": {
       "model_id": "d087306156854d73bee28cb5c69c0d4d",
       "version_major": 2,
       "version_minor": 0
      },
      "text/plain": [
       "  0%|          | 0/125 [00:00<?, ?it/s]"
      ]
     },
     "metadata": {},
     "output_type": "display_data"
    },
    {
     "data": {
      "application/vnd.jupyter.widget-view+json": {
       "model_id": "2bede97087ad4c92b243ac76e880d87a",
       "version_major": 2,
       "version_minor": 0
      },
      "text/plain": [
       "  0%|          | 0/125 [00:00<?, ?it/s]"
      ]
     },
     "metadata": {},
     "output_type": "display_data"
    },
    {
     "data": {
      "application/vnd.jupyter.widget-view+json": {
       "model_id": "259668365dcf44f5bd6ce88a25382540",
       "version_major": 2,
       "version_minor": 0
      },
      "text/plain": [
       "  0%|          | 0/125 [00:00<?, ?it/s]"
      ]
     },
     "metadata": {},
     "output_type": "display_data"
    },
    {
     "data": {
      "application/vnd.jupyter.widget-view+json": {
       "model_id": "80065da7c9154c0da118b294a64afa5c",
       "version_major": 2,
       "version_minor": 0
      },
      "text/plain": [
       "  0%|          | 0/125 [00:00<?, ?it/s]"
      ]
     },
     "metadata": {},
     "output_type": "display_data"
    },
    {
     "data": {
      "application/vnd.jupyter.widget-view+json": {
       "model_id": "1aeefd0becb84ebfbba1813c01c50904",
       "version_major": 2,
       "version_minor": 0
      },
      "text/plain": [
       "  0%|          | 0/125 [00:00<?, ?it/s]"
      ]
     },
     "metadata": {},
     "output_type": "display_data"
    },
    {
     "data": {
      "text/html": [
       "Waiting for W&B process to finish... <strong style=\"color:green\">(success).</strong>"
      ],
      "text/plain": [
       "<IPython.core.display.HTML object>"
      ]
     },
     "metadata": {},
     "output_type": "display_data"
    },
    {
     "data": {
      "application/vnd.jupyter.widget-view+json": {
       "model_id": "c1fdce62c1bd4fb6868f5241bbba4c42",
       "version_major": 2,
       "version_minor": 0
      },
      "text/plain": [
       "VBox(children=(Label(value='0.003 MB of 0.021 MB uploaded (0.000 MB deduped)\\r'), FloatProgress(value=0.128650…"
      ]
     },
     "metadata": {},
     "output_type": "display_data"
    },
    {
     "data": {
      "text/html": [
       "<style>\n",
       "    table.wandb td:nth-child(1) { padding: 0 10px; text-align: left ; width: auto;} td:nth-child(2) {text-align: left ; width: 100%}\n",
       "    .wandb-row { display: flex; flex-direction: row; flex-wrap: wrap; justify-content: flex-start; width: 100% }\n",
       "    .wandb-col { display: flex; flex-direction: column; flex-basis: 100%; flex: 1; padding: 10px; }\n",
       "    </style>\n",
       "<div class=\"wandb-row\"><div class=\"wandb-col\"><h3>Run history:</h3><br/><table class=\"wandb\"><tr><td>batch_loss</td><td>█▇▇▆▅▇▅▄▃▅▃▅▄▄▂▂▄▄▆▂▃▂▆▃▂▃▂▂▂▃▂▃▃▁▂▃▂▃▁▂</td></tr><tr><td>epoch</td><td>▁▁▁▁▂▂▂▂▂▃▃▃▃▃▃▄▄▄▄▄▅▅▅▅▅▅▆▆▆▆▆▆▇▇▇▇▇███</td></tr><tr><td>loss</td><td>█▆▆▅▅▅▄▄▄▄▄▃▃▃▃▃▃▃▃▃▂▂▂▂▂▂▂▂▂▂▂▁▂▁▁▁▁▁▁▁</td></tr></table><br/></div><div class=\"wandb-col\"><h3>Run summary:</h3><br/><table class=\"wandb\"><tr><td>batch_loss</td><td>1.00571</td></tr><tr><td>epoch</td><td>49</td></tr><tr><td>loss</td><td>1.02914</td></tr></table><br/></div></div>"
      ],
      "text/plain": [
       "<IPython.core.display.HTML object>"
      ]
     },
     "metadata": {},
     "output_type": "display_data"
    },
    {
     "data": {
      "text/html": [
       " View run <strong style=\"color:#cdcd00\">lucky-sweep-3</strong> at: <a href='https://wandb.ai/mldd23/selfie-autoencoder_v2/runs/umnanpyx' target=\"_blank\">https://wandb.ai/mldd23/selfie-autoencoder_v2/runs/umnanpyx</a><br/>Synced 5 W&B file(s), 0 media file(s), 0 artifact file(s) and 0 other file(s)"
      ],
      "text/plain": [
       "<IPython.core.display.HTML object>"
      ]
     },
     "metadata": {},
     "output_type": "display_data"
    },
    {
     "data": {
      "text/html": [
       "Find logs at: <code>./wandb/run-20230531_183939-umnanpyx/logs</code>"
      ],
      "text/plain": [
       "<IPython.core.display.HTML object>"
      ]
     },
     "metadata": {},
     "output_type": "display_data"
    },
    {
     "name": "stderr",
     "output_type": "stream",
     "text": [
      "\u001b[34m\u001b[1mwandb\u001b[0m: Agent Starting Run: pxj5swhp with config:\n",
      "\u001b[34m\u001b[1mwandb\u001b[0m: \tbatch_size: 80\n",
      "\u001b[34m\u001b[1mwandb\u001b[0m: \tdrop_prob: 0.4\n",
      "\u001b[34m\u001b[1mwandb\u001b[0m: \temb_size: 128\n",
      "\u001b[34m\u001b[1mwandb\u001b[0m: \tencoding_size: 128\n",
      "\u001b[34m\u001b[1mwandb\u001b[0m: \tepochs: 50\n",
      "\u001b[34m\u001b[1mwandb\u001b[0m: \tlearning_rate: 0.044533573615405025\n",
      "\u001b[34m\u001b[1mwandb\u001b[0m: \tnum_layers: 2\n",
      "Failed to detect the name of this notebook, you can set it manually with the WANDB_NOTEBOOK_NAME environment variable to enable code saving.\n"
     ]
    },
    {
     "data": {
      "text/html": [
       "Tracking run with wandb version 0.15.3"
      ],
      "text/plain": [
       "<IPython.core.display.HTML object>"
      ]
     },
     "metadata": {},
     "output_type": "display_data"
    },
    {
     "data": {
      "text/html": [
       "Run data is saved locally in <code>/home/anton/mldd23_project1/wandb/run-20230531_185947-pxj5swhp</code>"
      ],
      "text/plain": [
       "<IPython.core.display.HTML object>"
      ]
     },
     "metadata": {},
     "output_type": "display_data"
    },
    {
     "data": {
      "text/html": [
       "Syncing run <strong><a href='https://wandb.ai/mldd23/selfie-autoencoder_v2/runs/pxj5swhp' target=\"_blank\">celestial-sweep-4</a></strong> to <a href='https://wandb.ai/mldd23/selfie-autoencoder_v2' target=\"_blank\">Weights & Biases</a> (<a href='https://wandb.me/run' target=\"_blank\">docs</a>)<br/>Sweep page: <a href='https://wandb.ai/mldd23/selfie-autoencoder_v2/sweeps/7pj6cwfi' target=\"_blank\">https://wandb.ai/mldd23/selfie-autoencoder_v2/sweeps/7pj6cwfi</a>"
      ],
      "text/plain": [
       "<IPython.core.display.HTML object>"
      ]
     },
     "metadata": {},
     "output_type": "display_data"
    },
    {
     "data": {
      "text/html": [
       " View project at <a href='https://wandb.ai/mldd23/selfie-autoencoder_v2' target=\"_blank\">https://wandb.ai/mldd23/selfie-autoencoder_v2</a>"
      ],
      "text/plain": [
       "<IPython.core.display.HTML object>"
      ]
     },
     "metadata": {},
     "output_type": "display_data"
    },
    {
     "data": {
      "text/html": [
       " View sweep at <a href='https://wandb.ai/mldd23/selfie-autoencoder_v2/sweeps/7pj6cwfi' target=\"_blank\">https://wandb.ai/mldd23/selfie-autoencoder_v2/sweeps/7pj6cwfi</a>"
      ],
      "text/plain": [
       "<IPython.core.display.HTML object>"
      ]
     },
     "metadata": {},
     "output_type": "display_data"
    },
    {
     "data": {
      "text/html": [
       " View run at <a href='https://wandb.ai/mldd23/selfie-autoencoder_v2/runs/pxj5swhp' target=\"_blank\">https://wandb.ai/mldd23/selfie-autoencoder_v2/runs/pxj5swhp</a>"
      ],
      "text/plain": [
       "<IPython.core.display.HTML object>"
      ]
     },
     "metadata": {},
     "output_type": "display_data"
    },
    {
     "data": {
      "application/vnd.jupyter.widget-view+json": {
       "model_id": "b193196a01e64803bfc93d2f16a5f84d",
       "version_major": 2,
       "version_minor": 0
      },
      "text/plain": [
       "  0%|          | 0/50 [00:00<?, ?it/s]"
      ]
     },
     "metadata": {},
     "output_type": "display_data"
    },
    {
     "data": {
      "application/vnd.jupyter.widget-view+json": {
       "model_id": "3cd271177e254a66bf898f4c4710a0c3",
       "version_major": 2,
       "version_minor": 0
      },
      "text/plain": [
       "  0%|          | 0/112 [00:00<?, ?it/s]"
      ]
     },
     "metadata": {},
     "output_type": "display_data"
    },
    {
     "data": {
      "application/vnd.jupyter.widget-view+json": {
       "model_id": "c651d8e13f0144e3bbc21a40469fb4cd",
       "version_major": 2,
       "version_minor": 0
      },
      "text/plain": [
       "  0%|          | 0/112 [00:00<?, ?it/s]"
      ]
     },
     "metadata": {},
     "output_type": "display_data"
    },
    {
     "data": {
      "application/vnd.jupyter.widget-view+json": {
       "model_id": "93b5ef5e432a46caa407310dab45f648",
       "version_major": 2,
       "version_minor": 0
      },
      "text/plain": [
       "  0%|          | 0/112 [00:00<?, ?it/s]"
      ]
     },
     "metadata": {},
     "output_type": "display_data"
    },
    {
     "data": {
      "application/vnd.jupyter.widget-view+json": {
       "model_id": "595e95aa5f284eababac00d51265bf3c",
       "version_major": 2,
       "version_minor": 0
      },
      "text/plain": [
       "  0%|          | 0/112 [00:00<?, ?it/s]"
      ]
     },
     "metadata": {},
     "output_type": "display_data"
    },
    {
     "data": {
      "application/vnd.jupyter.widget-view+json": {
       "model_id": "f9c26973108548879fdef8c2bf661752",
       "version_major": 2,
       "version_minor": 0
      },
      "text/plain": [
       "  0%|          | 0/112 [00:00<?, ?it/s]"
      ]
     },
     "metadata": {},
     "output_type": "display_data"
    },
    {
     "data": {
      "application/vnd.jupyter.widget-view+json": {
       "model_id": "72817d68fc0440b58df7f41ca92d3d42",
       "version_major": 2,
       "version_minor": 0
      },
      "text/plain": [
       "  0%|          | 0/112 [00:00<?, ?it/s]"
      ]
     },
     "metadata": {},
     "output_type": "display_data"
    },
    {
     "data": {
      "application/vnd.jupyter.widget-view+json": {
       "model_id": "be101952e3f7448bb418352dbbea9c3e",
       "version_major": 2,
       "version_minor": 0
      },
      "text/plain": [
       "  0%|          | 0/112 [00:00<?, ?it/s]"
      ]
     },
     "metadata": {},
     "output_type": "display_data"
    },
    {
     "data": {
      "application/vnd.jupyter.widget-view+json": {
       "model_id": "158edd8c46f040a38f987f780e68e855",
       "version_major": 2,
       "version_minor": 0
      },
      "text/plain": [
       "  0%|          | 0/112 [00:00<?, ?it/s]"
      ]
     },
     "metadata": {},
     "output_type": "display_data"
    },
    {
     "data": {
      "application/vnd.jupyter.widget-view+json": {
       "model_id": "fbd9be81de544c3e94d15295039513db",
       "version_major": 2,
       "version_minor": 0
      },
      "text/plain": [
       "  0%|          | 0/112 [00:00<?, ?it/s]"
      ]
     },
     "metadata": {},
     "output_type": "display_data"
    },
    {
     "data": {
      "application/vnd.jupyter.widget-view+json": {
       "model_id": "2d427ab0afe0429fbca12b62b14ccc91",
       "version_major": 2,
       "version_minor": 0
      },
      "text/plain": [
       "  0%|          | 0/112 [00:00<?, ?it/s]"
      ]
     },
     "metadata": {},
     "output_type": "display_data"
    },
    {
     "data": {
      "application/vnd.jupyter.widget-view+json": {
       "model_id": "095d91ea22f54439aece39199fe738f6",
       "version_major": 2,
       "version_minor": 0
      },
      "text/plain": [
       "  0%|          | 0/112 [00:00<?, ?it/s]"
      ]
     },
     "metadata": {},
     "output_type": "display_data"
    },
    {
     "data": {
      "application/vnd.jupyter.widget-view+json": {
       "model_id": "f648a4105e0e4cbb9d5f557550e1b326",
       "version_major": 2,
       "version_minor": 0
      },
      "text/plain": [
       "  0%|          | 0/112 [00:00<?, ?it/s]"
      ]
     },
     "metadata": {},
     "output_type": "display_data"
    },
    {
     "data": {
      "application/vnd.jupyter.widget-view+json": {
       "model_id": "98fc1f9d4bba4356ac9c71b85fcfb684",
       "version_major": 2,
       "version_minor": 0
      },
      "text/plain": [
       "  0%|          | 0/112 [00:00<?, ?it/s]"
      ]
     },
     "metadata": {},
     "output_type": "display_data"
    },
    {
     "data": {
      "application/vnd.jupyter.widget-view+json": {
       "model_id": "3b68d04b3ef84402aca6f085ef00ee02",
       "version_major": 2,
       "version_minor": 0
      },
      "text/plain": [
       "  0%|          | 0/112 [00:00<?, ?it/s]"
      ]
     },
     "metadata": {},
     "output_type": "display_data"
    },
    {
     "data": {
      "application/vnd.jupyter.widget-view+json": {
       "model_id": "e7b9338cb0c343afb51212ed3694b1fa",
       "version_major": 2,
       "version_minor": 0
      },
      "text/plain": [
       "  0%|          | 0/112 [00:00<?, ?it/s]"
      ]
     },
     "metadata": {},
     "output_type": "display_data"
    },
    {
     "data": {
      "application/vnd.jupyter.widget-view+json": {
       "model_id": "a2e6017d9e3543deb572c644eadda0e5",
       "version_major": 2,
       "version_minor": 0
      },
      "text/plain": [
       "  0%|          | 0/112 [00:00<?, ?it/s]"
      ]
     },
     "metadata": {},
     "output_type": "display_data"
    },
    {
     "data": {
      "application/vnd.jupyter.widget-view+json": {
       "model_id": "1c598cdd5f384cc099562e8ec5fce26c",
       "version_major": 2,
       "version_minor": 0
      },
      "text/plain": [
       "  0%|          | 0/112 [00:00<?, ?it/s]"
      ]
     },
     "metadata": {},
     "output_type": "display_data"
    },
    {
     "data": {
      "application/vnd.jupyter.widget-view+json": {
       "model_id": "eae2a795d676421c828fadf8d7044731",
       "version_major": 2,
       "version_minor": 0
      },
      "text/plain": [
       "  0%|          | 0/112 [00:00<?, ?it/s]"
      ]
     },
     "metadata": {},
     "output_type": "display_data"
    },
    {
     "data": {
      "application/vnd.jupyter.widget-view+json": {
       "model_id": "bb43f1895cfe424ebeba160b0007ef5c",
       "version_major": 2,
       "version_minor": 0
      },
      "text/plain": [
       "  0%|          | 0/112 [00:00<?, ?it/s]"
      ]
     },
     "metadata": {},
     "output_type": "display_data"
    },
    {
     "data": {
      "application/vnd.jupyter.widget-view+json": {
       "model_id": "e81b6c6d9b5440acb0d0f587a75cf2ef",
       "version_major": 2,
       "version_minor": 0
      },
      "text/plain": [
       "  0%|          | 0/112 [00:00<?, ?it/s]"
      ]
     },
     "metadata": {},
     "output_type": "display_data"
    },
    {
     "data": {
      "application/vnd.jupyter.widget-view+json": {
       "model_id": "3012b453173c4202aeb1d96e408ed666",
       "version_major": 2,
       "version_minor": 0
      },
      "text/plain": [
       "  0%|          | 0/112 [00:00<?, ?it/s]"
      ]
     },
     "metadata": {},
     "output_type": "display_data"
    },
    {
     "data": {
      "application/vnd.jupyter.widget-view+json": {
       "model_id": "7d5cd61fb1df445d8b5593e38b542147",
       "version_major": 2,
       "version_minor": 0
      },
      "text/plain": [
       "  0%|          | 0/112 [00:00<?, ?it/s]"
      ]
     },
     "metadata": {},
     "output_type": "display_data"
    },
    {
     "data": {
      "application/vnd.jupyter.widget-view+json": {
       "model_id": "c290e8ef4dbf4343bfbed09004ce9c04",
       "version_major": 2,
       "version_minor": 0
      },
      "text/plain": [
       "  0%|          | 0/112 [00:00<?, ?it/s]"
      ]
     },
     "metadata": {},
     "output_type": "display_data"
    },
    {
     "data": {
      "application/vnd.jupyter.widget-view+json": {
       "model_id": "5df0f461223a4c14bcefcbadd8306bc0",
       "version_major": 2,
       "version_minor": 0
      },
      "text/plain": [
       "  0%|          | 0/112 [00:00<?, ?it/s]"
      ]
     },
     "metadata": {},
     "output_type": "display_data"
    },
    {
     "data": {
      "application/vnd.jupyter.widget-view+json": {
       "model_id": "2805a78bbe36409ba069d41b72a0ae43",
       "version_major": 2,
       "version_minor": 0
      },
      "text/plain": [
       "  0%|          | 0/112 [00:00<?, ?it/s]"
      ]
     },
     "metadata": {},
     "output_type": "display_data"
    },
    {
     "data": {
      "application/vnd.jupyter.widget-view+json": {
       "model_id": "37adcd40bf1045d3ae1bf0edf98fea68",
       "version_major": 2,
       "version_minor": 0
      },
      "text/plain": [
       "  0%|          | 0/112 [00:00<?, ?it/s]"
      ]
     },
     "metadata": {},
     "output_type": "display_data"
    },
    {
     "data": {
      "application/vnd.jupyter.widget-view+json": {
       "model_id": "1ac86f2ce48342fd9bb16d1fb6972e0a",
       "version_major": 2,
       "version_minor": 0
      },
      "text/plain": [
       "  0%|          | 0/112 [00:00<?, ?it/s]"
      ]
     },
     "metadata": {},
     "output_type": "display_data"
    },
    {
     "data": {
      "application/vnd.jupyter.widget-view+json": {
       "model_id": "85e35f42837545cf9f69dc1cae6279b2",
       "version_major": 2,
       "version_minor": 0
      },
      "text/plain": [
       "  0%|          | 0/112 [00:00<?, ?it/s]"
      ]
     },
     "metadata": {},
     "output_type": "display_data"
    },
    {
     "data": {
      "application/vnd.jupyter.widget-view+json": {
       "model_id": "a80d5346d5c44a8a8f01074f82e36d70",
       "version_major": 2,
       "version_minor": 0
      },
      "text/plain": [
       "  0%|          | 0/112 [00:00<?, ?it/s]"
      ]
     },
     "metadata": {},
     "output_type": "display_data"
    },
    {
     "data": {
      "application/vnd.jupyter.widget-view+json": {
       "model_id": "b0343184cfd04b5eb395c5e8348d120b",
       "version_major": 2,
       "version_minor": 0
      },
      "text/plain": [
       "  0%|          | 0/112 [00:00<?, ?it/s]"
      ]
     },
     "metadata": {},
     "output_type": "display_data"
    },
    {
     "data": {
      "application/vnd.jupyter.widget-view+json": {
       "model_id": "6bb83f5a4d364339ba0114c3d72e809c",
       "version_major": 2,
       "version_minor": 0
      },
      "text/plain": [
       "  0%|          | 0/112 [00:00<?, ?it/s]"
      ]
     },
     "metadata": {},
     "output_type": "display_data"
    },
    {
     "data": {
      "application/vnd.jupyter.widget-view+json": {
       "model_id": "6be3c77380fe4bbfad68368ae593b7e8",
       "version_major": 2,
       "version_minor": 0
      },
      "text/plain": [
       "  0%|          | 0/112 [00:00<?, ?it/s]"
      ]
     },
     "metadata": {},
     "output_type": "display_data"
    },
    {
     "data": {
      "application/vnd.jupyter.widget-view+json": {
       "model_id": "7e9b6b22d2d5448d8a094aef640ed58e",
       "version_major": 2,
       "version_minor": 0
      },
      "text/plain": [
       "  0%|          | 0/112 [00:00<?, ?it/s]"
      ]
     },
     "metadata": {},
     "output_type": "display_data"
    },
    {
     "data": {
      "application/vnd.jupyter.widget-view+json": {
       "model_id": "8c3a524765f04915a593b8430da9979a",
       "version_major": 2,
       "version_minor": 0
      },
      "text/plain": [
       "  0%|          | 0/112 [00:00<?, ?it/s]"
      ]
     },
     "metadata": {},
     "output_type": "display_data"
    },
    {
     "data": {
      "application/vnd.jupyter.widget-view+json": {
       "model_id": "74396ba5acfb41718ac344fa9e58b412",
       "version_major": 2,
       "version_minor": 0
      },
      "text/plain": [
       "  0%|          | 0/112 [00:00<?, ?it/s]"
      ]
     },
     "metadata": {},
     "output_type": "display_data"
    },
    {
     "data": {
      "application/vnd.jupyter.widget-view+json": {
       "model_id": "4617b674ed9a4117b576260ec71b0ccb",
       "version_major": 2,
       "version_minor": 0
      },
      "text/plain": [
       "  0%|          | 0/112 [00:00<?, ?it/s]"
      ]
     },
     "metadata": {},
     "output_type": "display_data"
    },
    {
     "data": {
      "application/vnd.jupyter.widget-view+json": {
       "model_id": "bcb58c22b82148e789f449e91c1716f0",
       "version_major": 2,
       "version_minor": 0
      },
      "text/plain": [
       "  0%|          | 0/112 [00:00<?, ?it/s]"
      ]
     },
     "metadata": {},
     "output_type": "display_data"
    },
    {
     "data": {
      "application/vnd.jupyter.widget-view+json": {
       "model_id": "f206de9827014bb9ad09b9422cc4ae22",
       "version_major": 2,
       "version_minor": 0
      },
      "text/plain": [
       "  0%|          | 0/112 [00:00<?, ?it/s]"
      ]
     },
     "metadata": {},
     "output_type": "display_data"
    },
    {
     "data": {
      "application/vnd.jupyter.widget-view+json": {
       "model_id": "c8e92c0250a74d3abbe50d51dbdc0ba8",
       "version_major": 2,
       "version_minor": 0
      },
      "text/plain": [
       "  0%|          | 0/112 [00:00<?, ?it/s]"
      ]
     },
     "metadata": {},
     "output_type": "display_data"
    },
    {
     "data": {
      "application/vnd.jupyter.widget-view+json": {
       "model_id": "1c67106abccc44c5b5e7d7fcc46a0e2f",
       "version_major": 2,
       "version_minor": 0
      },
      "text/plain": [
       "  0%|          | 0/112 [00:00<?, ?it/s]"
      ]
     },
     "metadata": {},
     "output_type": "display_data"
    },
    {
     "data": {
      "application/vnd.jupyter.widget-view+json": {
       "model_id": "b3d783a291df42c4b1e553acba4c33b7",
       "version_major": 2,
       "version_minor": 0
      },
      "text/plain": [
       "  0%|          | 0/112 [00:00<?, ?it/s]"
      ]
     },
     "metadata": {},
     "output_type": "display_data"
    },
    {
     "data": {
      "application/vnd.jupyter.widget-view+json": {
       "model_id": "b1ffe3c8c3f541fe9218d0834e11ab17",
       "version_major": 2,
       "version_minor": 0
      },
      "text/plain": [
       "  0%|          | 0/112 [00:00<?, ?it/s]"
      ]
     },
     "metadata": {},
     "output_type": "display_data"
    },
    {
     "data": {
      "application/vnd.jupyter.widget-view+json": {
       "model_id": "3e78231986e54e3cacdba426b67b18b0",
       "version_major": 2,
       "version_minor": 0
      },
      "text/plain": [
       "  0%|          | 0/112 [00:00<?, ?it/s]"
      ]
     },
     "metadata": {},
     "output_type": "display_data"
    },
    {
     "data": {
      "application/vnd.jupyter.widget-view+json": {
       "model_id": "0d7fd319504a4f8383950137fa498ef9",
       "version_major": 2,
       "version_minor": 0
      },
      "text/plain": [
       "  0%|          | 0/112 [00:00<?, ?it/s]"
      ]
     },
     "metadata": {},
     "output_type": "display_data"
    },
    {
     "data": {
      "application/vnd.jupyter.widget-view+json": {
       "model_id": "3e34498ba59043a4903f2f6dd387d5d5",
       "version_major": 2,
       "version_minor": 0
      },
      "text/plain": [
       "  0%|          | 0/112 [00:00<?, ?it/s]"
      ]
     },
     "metadata": {},
     "output_type": "display_data"
    },
    {
     "data": {
      "application/vnd.jupyter.widget-view+json": {
       "model_id": "9a7c27508d534f17b0d16dea9375c800",
       "version_major": 2,
       "version_minor": 0
      },
      "text/plain": [
       "  0%|          | 0/112 [00:00<?, ?it/s]"
      ]
     },
     "metadata": {},
     "output_type": "display_data"
    },
    {
     "data": {
      "application/vnd.jupyter.widget-view+json": {
       "model_id": "d4850517f5484d5583b2360156ac9544",
       "version_major": 2,
       "version_minor": 0
      },
      "text/plain": [
       "  0%|          | 0/112 [00:00<?, ?it/s]"
      ]
     },
     "metadata": {},
     "output_type": "display_data"
    },
    {
     "data": {
      "application/vnd.jupyter.widget-view+json": {
       "model_id": "73d8e58778744088ad4a3aff4d76dfcd",
       "version_major": 2,
       "version_minor": 0
      },
      "text/plain": [
       "  0%|          | 0/112 [00:00<?, ?it/s]"
      ]
     },
     "metadata": {},
     "output_type": "display_data"
    },
    {
     "data": {
      "application/vnd.jupyter.widget-view+json": {
       "model_id": "e5d74e4dc915407bbedfed046a291ea2",
       "version_major": 2,
       "version_minor": 0
      },
      "text/plain": [
       "  0%|          | 0/112 [00:00<?, ?it/s]"
      ]
     },
     "metadata": {},
     "output_type": "display_data"
    },
    {
     "data": {
      "application/vnd.jupyter.widget-view+json": {
       "model_id": "5ab6b60776ae45089ed20906f981bfea",
       "version_major": 2,
       "version_minor": 0
      },
      "text/plain": [
       "  0%|          | 0/112 [00:00<?, ?it/s]"
      ]
     },
     "metadata": {},
     "output_type": "display_data"
    },
    {
     "data": {
      "text/html": [
       "Waiting for W&B process to finish... <strong style=\"color:green\">(success).</strong>"
      ],
      "text/plain": [
       "<IPython.core.display.HTML object>"
      ]
     },
     "metadata": {},
     "output_type": "display_data"
    },
    {
     "data": {
      "application/vnd.jupyter.widget-view+json": {
       "model_id": "dd43ddb18d144ddb901af035ce9a49cc",
       "version_major": 2,
       "version_minor": 0
      },
      "text/plain": [
       "VBox(children=(Label(value='0.021 MB of 0.021 MB uploaded (0.000 MB deduped)\\r'), FloatProgress(value=1.0, max…"
      ]
     },
     "metadata": {},
     "output_type": "display_data"
    },
    {
     "data": {
      "text/html": [
       "<style>\n",
       "    table.wandb td:nth-child(1) { padding: 0 10px; text-align: left ; width: auto;} td:nth-child(2) {text-align: left ; width: 100%}\n",
       "    .wandb-row { display: flex; flex-direction: row; flex-wrap: wrap; justify-content: flex-start; width: 100% }\n",
       "    .wandb-col { display: flex; flex-direction: column; flex-basis: 100%; flex: 1; padding: 10px; }\n",
       "    </style>\n",
       "<div class=\"wandb-row\"><div class=\"wandb-col\"><h3>Run history:</h3><br/><table class=\"wandb\"><tr><td>batch_loss</td><td>▄▅▂▃▇▄▁▆▃▃█▄▄▄▂▅▃▃▃▃▂▅▃▆▆▃█▅▄▃▅▂▄▄▂▂▅▂▃▄</td></tr><tr><td>epoch</td><td>▁▁▁▁▂▂▂▂▂▃▃▃▃▃▃▄▄▄▄▄▅▅▅▅▅▅▆▆▆▆▆▆▇▇▇▇▇███</td></tr><tr><td>loss</td><td>█▁▁▁▁▁▁▁▁▁▁▁▁▁▁▁▁▁▁▁▁▁▁▁▁▁▁▁▁▁▁▁▁▁▁▁▁▁▁▁</td></tr></table><br/></div><div class=\"wandb-col\"><h3>Run summary:</h3><br/><table class=\"wandb\"><tr><td>batch_loss</td><td>2.04331</td></tr><tr><td>epoch</td><td>49</td></tr><tr><td>loss</td><td>2.07788</td></tr></table><br/></div></div>"
      ],
      "text/plain": [
       "<IPython.core.display.HTML object>"
      ]
     },
     "metadata": {},
     "output_type": "display_data"
    },
    {
     "data": {
      "text/html": [
       " View run <strong style=\"color:#cdcd00\">celestial-sweep-4</strong> at: <a href='https://wandb.ai/mldd23/selfie-autoencoder_v2/runs/pxj5swhp' target=\"_blank\">https://wandb.ai/mldd23/selfie-autoencoder_v2/runs/pxj5swhp</a><br/>Synced 5 W&B file(s), 0 media file(s), 0 artifact file(s) and 0 other file(s)"
      ],
      "text/plain": [
       "<IPython.core.display.HTML object>"
      ]
     },
     "metadata": {},
     "output_type": "display_data"
    },
    {
     "data": {
      "text/html": [
       "Find logs at: <code>./wandb/run-20230531_185947-pxj5swhp/logs</code>"
      ],
      "text/plain": [
       "<IPython.core.display.HTML object>"
      ]
     },
     "metadata": {},
     "output_type": "display_data"
    },
    {
     "name": "stderr",
     "output_type": "stream",
     "text": [
      "\u001b[34m\u001b[1mwandb\u001b[0m: Agent Starting Run: 3ic8kyaw with config:\n",
      "\u001b[34m\u001b[1mwandb\u001b[0m: \tbatch_size: 64\n",
      "\u001b[34m\u001b[1mwandb\u001b[0m: \tdrop_prob: 0.1\n",
      "\u001b[34m\u001b[1mwandb\u001b[0m: \temb_size: 128\n",
      "\u001b[34m\u001b[1mwandb\u001b[0m: \tencoding_size: 128\n",
      "\u001b[34m\u001b[1mwandb\u001b[0m: \tepochs: 50\n",
      "\u001b[34m\u001b[1mwandb\u001b[0m: \tlearning_rate: 0.08374707146198111\n",
      "\u001b[34m\u001b[1mwandb\u001b[0m: \tnum_layers: 4\n",
      "Failed to detect the name of this notebook, you can set it manually with the WANDB_NOTEBOOK_NAME environment variable to enable code saving.\n"
     ]
    },
    {
     "data": {
      "text/html": [
       "Tracking run with wandb version 0.15.3"
      ],
      "text/plain": [
       "<IPython.core.display.HTML object>"
      ]
     },
     "metadata": {},
     "output_type": "display_data"
    },
    {
     "data": {
      "text/html": [
       "Run data is saved locally in <code>/home/anton/mldd23_project1/wandb/run-20230531_191018-3ic8kyaw</code>"
      ],
      "text/plain": [
       "<IPython.core.display.HTML object>"
      ]
     },
     "metadata": {},
     "output_type": "display_data"
    },
    {
     "data": {
      "text/html": [
       "Syncing run <strong><a href='https://wandb.ai/mldd23/selfie-autoencoder_v2/runs/3ic8kyaw' target=\"_blank\">kind-sweep-5</a></strong> to <a href='https://wandb.ai/mldd23/selfie-autoencoder_v2' target=\"_blank\">Weights & Biases</a> (<a href='https://wandb.me/run' target=\"_blank\">docs</a>)<br/>Sweep page: <a href='https://wandb.ai/mldd23/selfie-autoencoder_v2/sweeps/7pj6cwfi' target=\"_blank\">https://wandb.ai/mldd23/selfie-autoencoder_v2/sweeps/7pj6cwfi</a>"
      ],
      "text/plain": [
       "<IPython.core.display.HTML object>"
      ]
     },
     "metadata": {},
     "output_type": "display_data"
    },
    {
     "data": {
      "text/html": [
       " View project at <a href='https://wandb.ai/mldd23/selfie-autoencoder_v2' target=\"_blank\">https://wandb.ai/mldd23/selfie-autoencoder_v2</a>"
      ],
      "text/plain": [
       "<IPython.core.display.HTML object>"
      ]
     },
     "metadata": {},
     "output_type": "display_data"
    },
    {
     "data": {
      "text/html": [
       " View sweep at <a href='https://wandb.ai/mldd23/selfie-autoencoder_v2/sweeps/7pj6cwfi' target=\"_blank\">https://wandb.ai/mldd23/selfie-autoencoder_v2/sweeps/7pj6cwfi</a>"
      ],
      "text/plain": [
       "<IPython.core.display.HTML object>"
      ]
     },
     "metadata": {},
     "output_type": "display_data"
    },
    {
     "data": {
      "text/html": [
       " View run at <a href='https://wandb.ai/mldd23/selfie-autoencoder_v2/runs/3ic8kyaw' target=\"_blank\">https://wandb.ai/mldd23/selfie-autoencoder_v2/runs/3ic8kyaw</a>"
      ],
      "text/plain": [
       "<IPython.core.display.HTML object>"
      ]
     },
     "metadata": {},
     "output_type": "display_data"
    },
    {
     "data": {
      "application/vnd.jupyter.widget-view+json": {
       "model_id": "c1c66503cc47469d82cd8c0c95c21dce",
       "version_major": 2,
       "version_minor": 0
      },
      "text/plain": [
       "  0%|          | 0/50 [00:00<?, ?it/s]"
      ]
     },
     "metadata": {},
     "output_type": "display_data"
    },
    {
     "data": {
      "application/vnd.jupyter.widget-view+json": {
       "model_id": "a4a6e56a98304e80933bcbebff5ba5d7",
       "version_major": 2,
       "version_minor": 0
      },
      "text/plain": [
       "  0%|          | 0/140 [00:00<?, ?it/s]"
      ]
     },
     "metadata": {},
     "output_type": "display_data"
    },
    {
     "data": {
      "application/vnd.jupyter.widget-view+json": {
       "model_id": "906000d39d4f419f9c651c9893e67307",
       "version_major": 2,
       "version_minor": 0
      },
      "text/plain": [
       "  0%|          | 0/140 [00:00<?, ?it/s]"
      ]
     },
     "metadata": {},
     "output_type": "display_data"
    },
    {
     "data": {
      "application/vnd.jupyter.widget-view+json": {
       "model_id": "46bcf3207eeb4a02aa03a51c1d9bec77",
       "version_major": 2,
       "version_minor": 0
      },
      "text/plain": [
       "  0%|          | 0/140 [00:00<?, ?it/s]"
      ]
     },
     "metadata": {},
     "output_type": "display_data"
    },
    {
     "data": {
      "application/vnd.jupyter.widget-view+json": {
       "model_id": "f011ca10c394484b8537f0bbb7356236",
       "version_major": 2,
       "version_minor": 0
      },
      "text/plain": [
       "  0%|          | 0/140 [00:00<?, ?it/s]"
      ]
     },
     "metadata": {},
     "output_type": "display_data"
    },
    {
     "data": {
      "application/vnd.jupyter.widget-view+json": {
       "model_id": "c7ed567d05134f419056791cc1d90fe5",
       "version_major": 2,
       "version_minor": 0
      },
      "text/plain": [
       "  0%|          | 0/140 [00:00<?, ?it/s]"
      ]
     },
     "metadata": {},
     "output_type": "display_data"
    },
    {
     "data": {
      "application/vnd.jupyter.widget-view+json": {
       "model_id": "bf73b8a37ba4428c845fecdd2a39191f",
       "version_major": 2,
       "version_minor": 0
      },
      "text/plain": [
       "  0%|          | 0/140 [00:00<?, ?it/s]"
      ]
     },
     "metadata": {},
     "output_type": "display_data"
    },
    {
     "data": {
      "application/vnd.jupyter.widget-view+json": {
       "model_id": "eaa1460f329c4bbba4f891f05e112df3",
       "version_major": 2,
       "version_minor": 0
      },
      "text/plain": [
       "  0%|          | 0/140 [00:00<?, ?it/s]"
      ]
     },
     "metadata": {},
     "output_type": "display_data"
    },
    {
     "data": {
      "application/vnd.jupyter.widget-view+json": {
       "model_id": "76525dd90203441d812bd9c8fe49cc80",
       "version_major": 2,
       "version_minor": 0
      },
      "text/plain": [
       "  0%|          | 0/140 [00:00<?, ?it/s]"
      ]
     },
     "metadata": {},
     "output_type": "display_data"
    },
    {
     "data": {
      "application/vnd.jupyter.widget-view+json": {
       "model_id": "89dec36909454b71ab3a549ff3071f9e",
       "version_major": 2,
       "version_minor": 0
      },
      "text/plain": [
       "  0%|          | 0/140 [00:00<?, ?it/s]"
      ]
     },
     "metadata": {},
     "output_type": "display_data"
    },
    {
     "data": {
      "application/vnd.jupyter.widget-view+json": {
       "model_id": "2978f33033a1482a83eb82a31e3e71ff",
       "version_major": 2,
       "version_minor": 0
      },
      "text/plain": [
       "  0%|          | 0/140 [00:00<?, ?it/s]"
      ]
     },
     "metadata": {},
     "output_type": "display_data"
    },
    {
     "data": {
      "application/vnd.jupyter.widget-view+json": {
       "model_id": "2f96861caae046b3ac879570d6769f29",
       "version_major": 2,
       "version_minor": 0
      },
      "text/plain": [
       "  0%|          | 0/140 [00:00<?, ?it/s]"
      ]
     },
     "metadata": {},
     "output_type": "display_data"
    },
    {
     "data": {
      "application/vnd.jupyter.widget-view+json": {
       "model_id": "a00be2a7cbcf494980b97e14bd4a400f",
       "version_major": 2,
       "version_minor": 0
      },
      "text/plain": [
       "  0%|          | 0/140 [00:00<?, ?it/s]"
      ]
     },
     "metadata": {},
     "output_type": "display_data"
    },
    {
     "data": {
      "application/vnd.jupyter.widget-view+json": {
       "model_id": "53ce159f68164d72a8d9e35b95f0b596",
       "version_major": 2,
       "version_minor": 0
      },
      "text/plain": [
       "  0%|          | 0/140 [00:00<?, ?it/s]"
      ]
     },
     "metadata": {},
     "output_type": "display_data"
    },
    {
     "data": {
      "application/vnd.jupyter.widget-view+json": {
       "model_id": "e365039fcee44341b794c23dc25f4b4b",
       "version_major": 2,
       "version_minor": 0
      },
      "text/plain": [
       "  0%|          | 0/140 [00:00<?, ?it/s]"
      ]
     },
     "metadata": {},
     "output_type": "display_data"
    },
    {
     "data": {
      "application/vnd.jupyter.widget-view+json": {
       "model_id": "2aa3b74fc9c44c668290fa9d151ea560",
       "version_major": 2,
       "version_minor": 0
      },
      "text/plain": [
       "  0%|          | 0/140 [00:00<?, ?it/s]"
      ]
     },
     "metadata": {},
     "output_type": "display_data"
    },
    {
     "data": {
      "application/vnd.jupyter.widget-view+json": {
       "model_id": "fec4785d6ced4d5db29ca256c06bd6e4",
       "version_major": 2,
       "version_minor": 0
      },
      "text/plain": [
       "  0%|          | 0/140 [00:00<?, ?it/s]"
      ]
     },
     "metadata": {},
     "output_type": "display_data"
    },
    {
     "data": {
      "application/vnd.jupyter.widget-view+json": {
       "model_id": "33cf0ef6ef59486f8b67884ee2c1f716",
       "version_major": 2,
       "version_minor": 0
      },
      "text/plain": [
       "  0%|          | 0/140 [00:00<?, ?it/s]"
      ]
     },
     "metadata": {},
     "output_type": "display_data"
    },
    {
     "data": {
      "application/vnd.jupyter.widget-view+json": {
       "model_id": "77c19e08fa1a4fb389adaef3b75fa8f4",
       "version_major": 2,
       "version_minor": 0
      },
      "text/plain": [
       "  0%|          | 0/140 [00:00<?, ?it/s]"
      ]
     },
     "metadata": {},
     "output_type": "display_data"
    },
    {
     "data": {
      "application/vnd.jupyter.widget-view+json": {
       "model_id": "0b579eb4b44a488abe0e03bfc6986922",
       "version_major": 2,
       "version_minor": 0
      },
      "text/plain": [
       "  0%|          | 0/140 [00:00<?, ?it/s]"
      ]
     },
     "metadata": {},
     "output_type": "display_data"
    },
    {
     "data": {
      "application/vnd.jupyter.widget-view+json": {
       "model_id": "e67026deab944f0f916ce0350568204d",
       "version_major": 2,
       "version_minor": 0
      },
      "text/plain": [
       "  0%|          | 0/140 [00:00<?, ?it/s]"
      ]
     },
     "metadata": {},
     "output_type": "display_data"
    },
    {
     "data": {
      "application/vnd.jupyter.widget-view+json": {
       "model_id": "21a05ea098354d148f259e96f4b4b34b",
       "version_major": 2,
       "version_minor": 0
      },
      "text/plain": [
       "  0%|          | 0/140 [00:00<?, ?it/s]"
      ]
     },
     "metadata": {},
     "output_type": "display_data"
    },
    {
     "data": {
      "application/vnd.jupyter.widget-view+json": {
       "model_id": "649ceb045ab94982b95ee98ebd75d58c",
       "version_major": 2,
       "version_minor": 0
      },
      "text/plain": [
       "  0%|          | 0/140 [00:00<?, ?it/s]"
      ]
     },
     "metadata": {},
     "output_type": "display_data"
    },
    {
     "data": {
      "application/vnd.jupyter.widget-view+json": {
       "model_id": "b4b5aafa8bc64d12a930247eb96e5a64",
       "version_major": 2,
       "version_minor": 0
      },
      "text/plain": [
       "  0%|          | 0/140 [00:00<?, ?it/s]"
      ]
     },
     "metadata": {},
     "output_type": "display_data"
    },
    {
     "data": {
      "application/vnd.jupyter.widget-view+json": {
       "model_id": "f74dfe62980a4673a9cfdecc9c64593d",
       "version_major": 2,
       "version_minor": 0
      },
      "text/plain": [
       "  0%|          | 0/140 [00:00<?, ?it/s]"
      ]
     },
     "metadata": {},
     "output_type": "display_data"
    },
    {
     "data": {
      "application/vnd.jupyter.widget-view+json": {
       "model_id": "379542934dbc4835acbbb43d067f7476",
       "version_major": 2,
       "version_minor": 0
      },
      "text/plain": [
       "  0%|          | 0/140 [00:00<?, ?it/s]"
      ]
     },
     "metadata": {},
     "output_type": "display_data"
    },
    {
     "data": {
      "application/vnd.jupyter.widget-view+json": {
       "model_id": "ccbe845ef632498493e424f2cbc42bc9",
       "version_major": 2,
       "version_minor": 0
      },
      "text/plain": [
       "  0%|          | 0/140 [00:00<?, ?it/s]"
      ]
     },
     "metadata": {},
     "output_type": "display_data"
    },
    {
     "data": {
      "application/vnd.jupyter.widget-view+json": {
       "model_id": "7171967772884a708029a2dcd095e1c5",
       "version_major": 2,
       "version_minor": 0
      },
      "text/plain": [
       "  0%|          | 0/140 [00:00<?, ?it/s]"
      ]
     },
     "metadata": {},
     "output_type": "display_data"
    },
    {
     "data": {
      "application/vnd.jupyter.widget-view+json": {
       "model_id": "c856318e6e4f4e75849c037dd693b31c",
       "version_major": 2,
       "version_minor": 0
      },
      "text/plain": [
       "  0%|          | 0/140 [00:00<?, ?it/s]"
      ]
     },
     "metadata": {},
     "output_type": "display_data"
    },
    {
     "data": {
      "application/vnd.jupyter.widget-view+json": {
       "model_id": "fe46d5ddec354e2b99e5810d40cf6ddb",
       "version_major": 2,
       "version_minor": 0
      },
      "text/plain": [
       "  0%|          | 0/140 [00:00<?, ?it/s]"
      ]
     },
     "metadata": {},
     "output_type": "display_data"
    },
    {
     "data": {
      "application/vnd.jupyter.widget-view+json": {
       "model_id": "afa1c37f4f0149f8b566c58447a6c9b1",
       "version_major": 2,
       "version_minor": 0
      },
      "text/plain": [
       "  0%|          | 0/140 [00:00<?, ?it/s]"
      ]
     },
     "metadata": {},
     "output_type": "display_data"
    },
    {
     "data": {
      "application/vnd.jupyter.widget-view+json": {
       "model_id": "3104c25602634426a38b19cf8bc991a2",
       "version_major": 2,
       "version_minor": 0
      },
      "text/plain": [
       "  0%|          | 0/140 [00:00<?, ?it/s]"
      ]
     },
     "metadata": {},
     "output_type": "display_data"
    },
    {
     "data": {
      "application/vnd.jupyter.widget-view+json": {
       "model_id": "4498c0dd103b46eaaa685337331633d0",
       "version_major": 2,
       "version_minor": 0
      },
      "text/plain": [
       "  0%|          | 0/140 [00:00<?, ?it/s]"
      ]
     },
     "metadata": {},
     "output_type": "display_data"
    },
    {
     "data": {
      "application/vnd.jupyter.widget-view+json": {
       "model_id": "8d39ee9a98ee40909ec7976901100920",
       "version_major": 2,
       "version_minor": 0
      },
      "text/plain": [
       "  0%|          | 0/140 [00:00<?, ?it/s]"
      ]
     },
     "metadata": {},
     "output_type": "display_data"
    },
    {
     "data": {
      "application/vnd.jupyter.widget-view+json": {
       "model_id": "c9d11b3657754a93b3c4c999f22019a5",
       "version_major": 2,
       "version_minor": 0
      },
      "text/plain": [
       "  0%|          | 0/140 [00:00<?, ?it/s]"
      ]
     },
     "metadata": {},
     "output_type": "display_data"
    },
    {
     "data": {
      "application/vnd.jupyter.widget-view+json": {
       "model_id": "4a5e3c3c375b4aa59ecf1d15cb02565a",
       "version_major": 2,
       "version_minor": 0
      },
      "text/plain": [
       "  0%|          | 0/140 [00:00<?, ?it/s]"
      ]
     },
     "metadata": {},
     "output_type": "display_data"
    },
    {
     "data": {
      "application/vnd.jupyter.widget-view+json": {
       "model_id": "da5f1f589c73437cbfa555bc1f8eddf7",
       "version_major": 2,
       "version_minor": 0
      },
      "text/plain": [
       "  0%|          | 0/140 [00:00<?, ?it/s]"
      ]
     },
     "metadata": {},
     "output_type": "display_data"
    },
    {
     "data": {
      "application/vnd.jupyter.widget-view+json": {
       "model_id": "83f1ff30ea304ee3a400d21f7d0b7a84",
       "version_major": 2,
       "version_minor": 0
      },
      "text/plain": [
       "  0%|          | 0/140 [00:00<?, ?it/s]"
      ]
     },
     "metadata": {},
     "output_type": "display_data"
    },
    {
     "data": {
      "application/vnd.jupyter.widget-view+json": {
       "model_id": "db35d0facbac4b18a4d718f28b44f959",
       "version_major": 2,
       "version_minor": 0
      },
      "text/plain": [
       "  0%|          | 0/140 [00:00<?, ?it/s]"
      ]
     },
     "metadata": {},
     "output_type": "display_data"
    },
    {
     "data": {
      "application/vnd.jupyter.widget-view+json": {
       "model_id": "b820fb4b2fef4122b048a2564b9e1598",
       "version_major": 2,
       "version_minor": 0
      },
      "text/plain": [
       "  0%|          | 0/140 [00:00<?, ?it/s]"
      ]
     },
     "metadata": {},
     "output_type": "display_data"
    },
    {
     "data": {
      "application/vnd.jupyter.widget-view+json": {
       "model_id": "608764a5cbe64e84a0cda1ea5ccf1a4e",
       "version_major": 2,
       "version_minor": 0
      },
      "text/plain": [
       "  0%|          | 0/140 [00:00<?, ?it/s]"
      ]
     },
     "metadata": {},
     "output_type": "display_data"
    },
    {
     "data": {
      "application/vnd.jupyter.widget-view+json": {
       "model_id": "3591d2fa1b714f04ab7b3b6118a749ad",
       "version_major": 2,
       "version_minor": 0
      },
      "text/plain": [
       "  0%|          | 0/140 [00:00<?, ?it/s]"
      ]
     },
     "metadata": {},
     "output_type": "display_data"
    },
    {
     "data": {
      "application/vnd.jupyter.widget-view+json": {
       "model_id": "b37247674b04464e927f8ea3ce774f30",
       "version_major": 2,
       "version_minor": 0
      },
      "text/plain": [
       "  0%|          | 0/140 [00:00<?, ?it/s]"
      ]
     },
     "metadata": {},
     "output_type": "display_data"
    },
    {
     "data": {
      "application/vnd.jupyter.widget-view+json": {
       "model_id": "9e76b485370146a4a9c807738e6ae22a",
       "version_major": 2,
       "version_minor": 0
      },
      "text/plain": [
       "  0%|          | 0/140 [00:00<?, ?it/s]"
      ]
     },
     "metadata": {},
     "output_type": "display_data"
    },
    {
     "data": {
      "application/vnd.jupyter.widget-view+json": {
       "model_id": "fc7bf36bf52847149f5df6ab7a180e72",
       "version_major": 2,
       "version_minor": 0
      },
      "text/plain": [
       "  0%|          | 0/140 [00:00<?, ?it/s]"
      ]
     },
     "metadata": {},
     "output_type": "display_data"
    },
    {
     "data": {
      "application/vnd.jupyter.widget-view+json": {
       "model_id": "9e52a444f9164ec0ab03be3bfcc5ce1c",
       "version_major": 2,
       "version_minor": 0
      },
      "text/plain": [
       "  0%|          | 0/140 [00:00<?, ?it/s]"
      ]
     },
     "metadata": {},
     "output_type": "display_data"
    },
    {
     "data": {
      "application/vnd.jupyter.widget-view+json": {
       "model_id": "c620e671bab6456e9e7a4669190b1165",
       "version_major": 2,
       "version_minor": 0
      },
      "text/plain": [
       "  0%|          | 0/140 [00:00<?, ?it/s]"
      ]
     },
     "metadata": {},
     "output_type": "display_data"
    },
    {
     "data": {
      "application/vnd.jupyter.widget-view+json": {
       "model_id": "f0d4d7303efc4413881b9788dbcacebd",
       "version_major": 2,
       "version_minor": 0
      },
      "text/plain": [
       "  0%|          | 0/140 [00:00<?, ?it/s]"
      ]
     },
     "metadata": {},
     "output_type": "display_data"
    },
    {
     "data": {
      "application/vnd.jupyter.widget-view+json": {
       "model_id": "a508d204d0064ceb8c7dc6820d3ac560",
       "version_major": 2,
       "version_minor": 0
      },
      "text/plain": [
       "  0%|          | 0/140 [00:00<?, ?it/s]"
      ]
     },
     "metadata": {},
     "output_type": "display_data"
    },
    {
     "data": {
      "application/vnd.jupyter.widget-view+json": {
       "model_id": "f7c6cebe37354850a584e51ad9fbd24a",
       "version_major": 2,
       "version_minor": 0
      },
      "text/plain": [
       "  0%|          | 0/140 [00:00<?, ?it/s]"
      ]
     },
     "metadata": {},
     "output_type": "display_data"
    },
    {
     "data": {
      "application/vnd.jupyter.widget-view+json": {
       "model_id": "782f3aa766074b40acae05a01880d431",
       "version_major": 2,
       "version_minor": 0
      },
      "text/plain": [
       "  0%|          | 0/140 [00:00<?, ?it/s]"
      ]
     },
     "metadata": {},
     "output_type": "display_data"
    },
    {
     "data": {
      "text/html": [
       "Waiting for W&B process to finish... <strong style=\"color:green\">(success).</strong>"
      ],
      "text/plain": [
       "<IPython.core.display.HTML object>"
      ]
     },
     "metadata": {},
     "output_type": "display_data"
    },
    {
     "data": {
      "text/html": [
       "<style>\n",
       "    table.wandb td:nth-child(1) { padding: 0 10px; text-align: left ; width: auto;} td:nth-child(2) {text-align: left ; width: 100%}\n",
       "    .wandb-row { display: flex; flex-direction: row; flex-wrap: wrap; justify-content: flex-start; width: 100% }\n",
       "    .wandb-col { display: flex; flex-direction: column; flex-basis: 100%; flex: 1; padding: 10px; }\n",
       "    </style>\n",
       "<div class=\"wandb-row\"><div class=\"wandb-col\"><h3>Run history:</h3><br/><table class=\"wandb\"><tr><td>batch_loss</td><td>▃▂▁▇▁▁▁▅▁▁▁▅▁▁▁▄▁▁▁▄▁▁▁▃▁▁▁▃▁▆▂▂▁█▁▃▁▇▂▁</td></tr><tr><td>epoch</td><td>▁▁▁▁▂▂▂▂▂▃▃▃▃▃▃▄▄▄▄▄▅▅▅▅▅▅▆▆▆▆▆▆▇▇▇▇▇███</td></tr><tr><td>loss</td><td>█▁▁▁▁▁▁▁▁▁▁▁▁▁▁▁▁▁▁▁▁▁▁▁▁▁▁▁▁▁▁▁▁▁▁▁▁▁▁▁</td></tr></table><br/></div><div class=\"wandb-col\"><h3>Run summary:</h3><br/><table class=\"wandb\"><tr><td>batch_loss</td><td>2.49538</td></tr><tr><td>epoch</td><td>49</td></tr><tr><td>loss</td><td>3.51925</td></tr></table><br/></div></div>"
      ],
      "text/plain": [
       "<IPython.core.display.HTML object>"
      ]
     },
     "metadata": {},
     "output_type": "display_data"
    },
    {
     "data": {
      "text/html": [
       " View run <strong style=\"color:#cdcd00\">kind-sweep-5</strong> at: <a href='https://wandb.ai/mldd23/selfie-autoencoder_v2/runs/3ic8kyaw' target=\"_blank\">https://wandb.ai/mldd23/selfie-autoencoder_v2/runs/3ic8kyaw</a><br/>Synced 5 W&B file(s), 0 media file(s), 0 artifact file(s) and 0 other file(s)"
      ],
      "text/plain": [
       "<IPython.core.display.HTML object>"
      ]
     },
     "metadata": {},
     "output_type": "display_data"
    },
    {
     "data": {
      "text/html": [
       "Find logs at: <code>./wandb/run-20230531_191018-3ic8kyaw/logs</code>"
      ],
      "text/plain": [
       "<IPython.core.display.HTML object>"
      ]
     },
     "metadata": {},
     "output_type": "display_data"
    },
    {
     "name": "stderr",
     "output_type": "stream",
     "text": [
      "\u001b[34m\u001b[1mwandb\u001b[0m: Agent Starting Run: hlt64lih with config:\n",
      "\u001b[34m\u001b[1mwandb\u001b[0m: \tbatch_size: 240\n",
      "\u001b[34m\u001b[1mwandb\u001b[0m: \tdrop_prob: 0.1\n",
      "\u001b[34m\u001b[1mwandb\u001b[0m: \temb_size: 1024\n",
      "\u001b[34m\u001b[1mwandb\u001b[0m: \tencoding_size: 1024\n",
      "\u001b[34m\u001b[1mwandb\u001b[0m: \tepochs: 50\n",
      "\u001b[34m\u001b[1mwandb\u001b[0m: \tlearning_rate: 0.01756080931312646\n",
      "\u001b[34m\u001b[1mwandb\u001b[0m: \tnum_layers: 2\n",
      "Failed to detect the name of this notebook, you can set it manually with the WANDB_NOTEBOOK_NAME environment variable to enable code saving.\n"
     ]
    },
    {
     "data": {
      "text/html": [
       "Tracking run with wandb version 0.15.3"
      ],
      "text/plain": [
       "<IPython.core.display.HTML object>"
      ]
     },
     "metadata": {},
     "output_type": "display_data"
    },
    {
     "data": {
      "text/html": [
       "Run data is saved locally in <code>/home/anton/mldd23_project1/wandb/run-20230531_193138-hlt64lih</code>"
      ],
      "text/plain": [
       "<IPython.core.display.HTML object>"
      ]
     },
     "metadata": {},
     "output_type": "display_data"
    },
    {
     "data": {
      "text/html": [
       "Syncing run <strong><a href='https://wandb.ai/mldd23/selfie-autoencoder_v2/runs/hlt64lih' target=\"_blank\">vivid-sweep-6</a></strong> to <a href='https://wandb.ai/mldd23/selfie-autoencoder_v2' target=\"_blank\">Weights & Biases</a> (<a href='https://wandb.me/run' target=\"_blank\">docs</a>)<br/>Sweep page: <a href='https://wandb.ai/mldd23/selfie-autoencoder_v2/sweeps/7pj6cwfi' target=\"_blank\">https://wandb.ai/mldd23/selfie-autoencoder_v2/sweeps/7pj6cwfi</a>"
      ],
      "text/plain": [
       "<IPython.core.display.HTML object>"
      ]
     },
     "metadata": {},
     "output_type": "display_data"
    },
    {
     "data": {
      "text/html": [
       " View project at <a href='https://wandb.ai/mldd23/selfie-autoencoder_v2' target=\"_blank\">https://wandb.ai/mldd23/selfie-autoencoder_v2</a>"
      ],
      "text/plain": [
       "<IPython.core.display.HTML object>"
      ]
     },
     "metadata": {},
     "output_type": "display_data"
    },
    {
     "data": {
      "text/html": [
       " View sweep at <a href='https://wandb.ai/mldd23/selfie-autoencoder_v2/sweeps/7pj6cwfi' target=\"_blank\">https://wandb.ai/mldd23/selfie-autoencoder_v2/sweeps/7pj6cwfi</a>"
      ],
      "text/plain": [
       "<IPython.core.display.HTML object>"
      ]
     },
     "metadata": {},
     "output_type": "display_data"
    },
    {
     "data": {
      "text/html": [
       " View run at <a href='https://wandb.ai/mldd23/selfie-autoencoder_v2/runs/hlt64lih' target=\"_blank\">https://wandb.ai/mldd23/selfie-autoencoder_v2/runs/hlt64lih</a>"
      ],
      "text/plain": [
       "<IPython.core.display.HTML object>"
      ]
     },
     "metadata": {},
     "output_type": "display_data"
    },
    {
     "data": {
      "application/vnd.jupyter.widget-view+json": {
       "model_id": "6cddf4d0a3e942b98518391e3d115a43",
       "version_major": 2,
       "version_minor": 0
      },
      "text/plain": [
       "  0%|          | 0/50 [00:00<?, ?it/s]"
      ]
     },
     "metadata": {},
     "output_type": "display_data"
    },
    {
     "data": {
      "application/vnd.jupyter.widget-view+json": {
       "model_id": "f06b6b12c4714ef4bb46907d227e3e20",
       "version_major": 2,
       "version_minor": 0
      },
      "text/plain": [
       "  0%|          | 0/37 [00:00<?, ?it/s]"
      ]
     },
     "metadata": {},
     "output_type": "display_data"
    },
    {
     "data": {
      "application/vnd.jupyter.widget-view+json": {
       "model_id": "2bc1c2af78ce442e82419fe6c8509699",
       "version_major": 2,
       "version_minor": 0
      },
      "text/plain": [
       "  0%|          | 0/37 [00:00<?, ?it/s]"
      ]
     },
     "metadata": {},
     "output_type": "display_data"
    },
    {
     "data": {
      "application/vnd.jupyter.widget-view+json": {
       "model_id": "6768fc65ff2b4b849fcbe479b7dc923a",
       "version_major": 2,
       "version_minor": 0
      },
      "text/plain": [
       "  0%|          | 0/37 [00:00<?, ?it/s]"
      ]
     },
     "metadata": {},
     "output_type": "display_data"
    },
    {
     "data": {
      "application/vnd.jupyter.widget-view+json": {
       "model_id": "7552a7a1e0ab43ca835591b901d65915",
       "version_major": 2,
       "version_minor": 0
      },
      "text/plain": [
       "  0%|          | 0/37 [00:00<?, ?it/s]"
      ]
     },
     "metadata": {},
     "output_type": "display_data"
    },
    {
     "data": {
      "application/vnd.jupyter.widget-view+json": {
       "model_id": "feb0e63319c745888f7d5a2b626f18e0",
       "version_major": 2,
       "version_minor": 0
      },
      "text/plain": [
       "  0%|          | 0/37 [00:00<?, ?it/s]"
      ]
     },
     "metadata": {},
     "output_type": "display_data"
    },
    {
     "data": {
      "application/vnd.jupyter.widget-view+json": {
       "model_id": "edca09d881cc43cfa818c07b5e4784c4",
       "version_major": 2,
       "version_minor": 0
      },
      "text/plain": [
       "  0%|          | 0/37 [00:00<?, ?it/s]"
      ]
     },
     "metadata": {},
     "output_type": "display_data"
    },
    {
     "data": {
      "application/vnd.jupyter.widget-view+json": {
       "model_id": "e747f6e5ec4947afb72f5472c45e2470",
       "version_major": 2,
       "version_minor": 0
      },
      "text/plain": [
       "  0%|          | 0/37 [00:00<?, ?it/s]"
      ]
     },
     "metadata": {},
     "output_type": "display_data"
    },
    {
     "data": {
      "application/vnd.jupyter.widget-view+json": {
       "model_id": "f1e6bafd3a6e4cc49fdaefd805e1e67b",
       "version_major": 2,
       "version_minor": 0
      },
      "text/plain": [
       "  0%|          | 0/37 [00:00<?, ?it/s]"
      ]
     },
     "metadata": {},
     "output_type": "display_data"
    },
    {
     "data": {
      "application/vnd.jupyter.widget-view+json": {
       "model_id": "61fc276799f444e5bd35760149bdb60b",
       "version_major": 2,
       "version_minor": 0
      },
      "text/plain": [
       "  0%|          | 0/37 [00:00<?, ?it/s]"
      ]
     },
     "metadata": {},
     "output_type": "display_data"
    },
    {
     "data": {
      "application/vnd.jupyter.widget-view+json": {
       "model_id": "9b34c4d58c83496aad2d528702a956d9",
       "version_major": 2,
       "version_minor": 0
      },
      "text/plain": [
       "  0%|          | 0/37 [00:00<?, ?it/s]"
      ]
     },
     "metadata": {},
     "output_type": "display_data"
    },
    {
     "data": {
      "application/vnd.jupyter.widget-view+json": {
       "model_id": "c0b44bcd955d42aea5599922f6243394",
       "version_major": 2,
       "version_minor": 0
      },
      "text/plain": [
       "  0%|          | 0/37 [00:00<?, ?it/s]"
      ]
     },
     "metadata": {},
     "output_type": "display_data"
    },
    {
     "data": {
      "application/vnd.jupyter.widget-view+json": {
       "model_id": "ec6aeae7644f4b7791539a81d2fd4607",
       "version_major": 2,
       "version_minor": 0
      },
      "text/plain": [
       "  0%|          | 0/37 [00:00<?, ?it/s]"
      ]
     },
     "metadata": {},
     "output_type": "display_data"
    },
    {
     "data": {
      "application/vnd.jupyter.widget-view+json": {
       "model_id": "2f70cd7c6542462ebbd01d82ef6e8697",
       "version_major": 2,
       "version_minor": 0
      },
      "text/plain": [
       "  0%|          | 0/37 [00:00<?, ?it/s]"
      ]
     },
     "metadata": {},
     "output_type": "display_data"
    },
    {
     "data": {
      "application/vnd.jupyter.widget-view+json": {
       "model_id": "7c228e0b573c4c3eb1ce47199565d47f",
       "version_major": 2,
       "version_minor": 0
      },
      "text/plain": [
       "  0%|          | 0/37 [00:00<?, ?it/s]"
      ]
     },
     "metadata": {},
     "output_type": "display_data"
    },
    {
     "data": {
      "application/vnd.jupyter.widget-view+json": {
       "model_id": "5379efb76a9a42cc9cac393a6afb0503",
       "version_major": 2,
       "version_minor": 0
      },
      "text/plain": [
       "  0%|          | 0/37 [00:00<?, ?it/s]"
      ]
     },
     "metadata": {},
     "output_type": "display_data"
    },
    {
     "data": {
      "application/vnd.jupyter.widget-view+json": {
       "model_id": "cb6d8412e5fd448c9978dad8c52f0234",
       "version_major": 2,
       "version_minor": 0
      },
      "text/plain": [
       "  0%|          | 0/37 [00:00<?, ?it/s]"
      ]
     },
     "metadata": {},
     "output_type": "display_data"
    },
    {
     "data": {
      "application/vnd.jupyter.widget-view+json": {
       "model_id": "887c090bda8c49958e86689f699c3bfa",
       "version_major": 2,
       "version_minor": 0
      },
      "text/plain": [
       "  0%|          | 0/37 [00:00<?, ?it/s]"
      ]
     },
     "metadata": {},
     "output_type": "display_data"
    },
    {
     "data": {
      "application/vnd.jupyter.widget-view+json": {
       "model_id": "8ae4e273ff864d15913d24a8e392000d",
       "version_major": 2,
       "version_minor": 0
      },
      "text/plain": [
       "  0%|          | 0/37 [00:00<?, ?it/s]"
      ]
     },
     "metadata": {},
     "output_type": "display_data"
    },
    {
     "data": {
      "application/vnd.jupyter.widget-view+json": {
       "model_id": "8adaff0ce5dc4f4185a42c5356ecdb06",
       "version_major": 2,
       "version_minor": 0
      },
      "text/plain": [
       "  0%|          | 0/37 [00:00<?, ?it/s]"
      ]
     },
     "metadata": {},
     "output_type": "display_data"
    },
    {
     "data": {
      "application/vnd.jupyter.widget-view+json": {
       "model_id": "eabe736398e44b91b126128f71ef799d",
       "version_major": 2,
       "version_minor": 0
      },
      "text/plain": [
       "  0%|          | 0/37 [00:00<?, ?it/s]"
      ]
     },
     "metadata": {},
     "output_type": "display_data"
    },
    {
     "data": {
      "application/vnd.jupyter.widget-view+json": {
       "model_id": "453da79a18a047d2a4af65400c74e404",
       "version_major": 2,
       "version_minor": 0
      },
      "text/plain": [
       "  0%|          | 0/37 [00:00<?, ?it/s]"
      ]
     },
     "metadata": {},
     "output_type": "display_data"
    },
    {
     "data": {
      "application/vnd.jupyter.widget-view+json": {
       "model_id": "d17fdec5f8554e6998e714d9af85a9f9",
       "version_major": 2,
       "version_minor": 0
      },
      "text/plain": [
       "  0%|          | 0/37 [00:00<?, ?it/s]"
      ]
     },
     "metadata": {},
     "output_type": "display_data"
    },
    {
     "data": {
      "application/vnd.jupyter.widget-view+json": {
       "model_id": "01be9b66dbdc4721a693f644c1be2e92",
       "version_major": 2,
       "version_minor": 0
      },
      "text/plain": [
       "  0%|          | 0/37 [00:00<?, ?it/s]"
      ]
     },
     "metadata": {},
     "output_type": "display_data"
    },
    {
     "data": {
      "application/vnd.jupyter.widget-view+json": {
       "model_id": "65a216e853c248abb231312cf4e263c7",
       "version_major": 2,
       "version_minor": 0
      },
      "text/plain": [
       "  0%|          | 0/37 [00:00<?, ?it/s]"
      ]
     },
     "metadata": {},
     "output_type": "display_data"
    },
    {
     "data": {
      "application/vnd.jupyter.widget-view+json": {
       "model_id": "e383142831e7467e9f09adf8328a24d0",
       "version_major": 2,
       "version_minor": 0
      },
      "text/plain": [
       "  0%|          | 0/37 [00:00<?, ?it/s]"
      ]
     },
     "metadata": {},
     "output_type": "display_data"
    },
    {
     "data": {
      "application/vnd.jupyter.widget-view+json": {
       "model_id": "3dc18c69e01842b7b6a1aae5725fa5c3",
       "version_major": 2,
       "version_minor": 0
      },
      "text/plain": [
       "  0%|          | 0/37 [00:00<?, ?it/s]"
      ]
     },
     "metadata": {},
     "output_type": "display_data"
    },
    {
     "data": {
      "application/vnd.jupyter.widget-view+json": {
       "model_id": "258426b11430442ba1d3ce7f555e2f23",
       "version_major": 2,
       "version_minor": 0
      },
      "text/plain": [
       "  0%|          | 0/37 [00:00<?, ?it/s]"
      ]
     },
     "metadata": {},
     "output_type": "display_data"
    },
    {
     "data": {
      "application/vnd.jupyter.widget-view+json": {
       "model_id": "d96b839dd0e9403188486981e1ed2b89",
       "version_major": 2,
       "version_minor": 0
      },
      "text/plain": [
       "  0%|          | 0/37 [00:00<?, ?it/s]"
      ]
     },
     "metadata": {},
     "output_type": "display_data"
    },
    {
     "data": {
      "application/vnd.jupyter.widget-view+json": {
       "model_id": "5c404fedcf81447a965e3715cd546327",
       "version_major": 2,
       "version_minor": 0
      },
      "text/plain": [
       "  0%|          | 0/37 [00:00<?, ?it/s]"
      ]
     },
     "metadata": {},
     "output_type": "display_data"
    },
    {
     "data": {
      "application/vnd.jupyter.widget-view+json": {
       "model_id": "fa6e35e9a63b4fa38619c69b561e2ef5",
       "version_major": 2,
       "version_minor": 0
      },
      "text/plain": [
       "  0%|          | 0/37 [00:00<?, ?it/s]"
      ]
     },
     "metadata": {},
     "output_type": "display_data"
    },
    {
     "data": {
      "application/vnd.jupyter.widget-view+json": {
       "model_id": "a0248d95ceae47939e58ef7fc5a0e627",
       "version_major": 2,
       "version_minor": 0
      },
      "text/plain": [
       "  0%|          | 0/37 [00:00<?, ?it/s]"
      ]
     },
     "metadata": {},
     "output_type": "display_data"
    },
    {
     "data": {
      "application/vnd.jupyter.widget-view+json": {
       "model_id": "614f723f2f644e0196dfa0c223b6263f",
       "version_major": 2,
       "version_minor": 0
      },
      "text/plain": [
       "  0%|          | 0/37 [00:00<?, ?it/s]"
      ]
     },
     "metadata": {},
     "output_type": "display_data"
    },
    {
     "data": {
      "application/vnd.jupyter.widget-view+json": {
       "model_id": "57f12bf96056462c8797a7ebf326cfe7",
       "version_major": 2,
       "version_minor": 0
      },
      "text/plain": [
       "  0%|          | 0/37 [00:00<?, ?it/s]"
      ]
     },
     "metadata": {},
     "output_type": "display_data"
    },
    {
     "data": {
      "application/vnd.jupyter.widget-view+json": {
       "model_id": "968a792a0fbe4261aa208e7973386205",
       "version_major": 2,
       "version_minor": 0
      },
      "text/plain": [
       "  0%|          | 0/37 [00:00<?, ?it/s]"
      ]
     },
     "metadata": {},
     "output_type": "display_data"
    },
    {
     "data": {
      "application/vnd.jupyter.widget-view+json": {
       "model_id": "7bd2fd46e9114f648903d8e5e6bade3d",
       "version_major": 2,
       "version_minor": 0
      },
      "text/plain": [
       "  0%|          | 0/37 [00:00<?, ?it/s]"
      ]
     },
     "metadata": {},
     "output_type": "display_data"
    },
    {
     "data": {
      "application/vnd.jupyter.widget-view+json": {
       "model_id": "56e52ab0fe3343ec8f3969325d8236d8",
       "version_major": 2,
       "version_minor": 0
      },
      "text/plain": [
       "  0%|          | 0/37 [00:00<?, ?it/s]"
      ]
     },
     "metadata": {},
     "output_type": "display_data"
    },
    {
     "data": {
      "application/vnd.jupyter.widget-view+json": {
       "model_id": "4c791c3d192a4a85bd8411007cc90d38",
       "version_major": 2,
       "version_minor": 0
      },
      "text/plain": [
       "  0%|          | 0/37 [00:00<?, ?it/s]"
      ]
     },
     "metadata": {},
     "output_type": "display_data"
    },
    {
     "data": {
      "application/vnd.jupyter.widget-view+json": {
       "model_id": "5236d0d964f04644ba9de405bcf26e4c",
       "version_major": 2,
       "version_minor": 0
      },
      "text/plain": [
       "  0%|          | 0/37 [00:00<?, ?it/s]"
      ]
     },
     "metadata": {},
     "output_type": "display_data"
    },
    {
     "data": {
      "application/vnd.jupyter.widget-view+json": {
       "model_id": "cce5e6bf30524813885802db1a49dc8e",
       "version_major": 2,
       "version_minor": 0
      },
      "text/plain": [
       "  0%|          | 0/37 [00:00<?, ?it/s]"
      ]
     },
     "metadata": {},
     "output_type": "display_data"
    },
    {
     "data": {
      "application/vnd.jupyter.widget-view+json": {
       "model_id": "a3575a919451423083784554f18568c6",
       "version_major": 2,
       "version_minor": 0
      },
      "text/plain": [
       "  0%|          | 0/37 [00:00<?, ?it/s]"
      ]
     },
     "metadata": {},
     "output_type": "display_data"
    },
    {
     "data": {
      "application/vnd.jupyter.widget-view+json": {
       "model_id": "73accba1bc9340ee911107bed0460edc",
       "version_major": 2,
       "version_minor": 0
      },
      "text/plain": [
       "  0%|          | 0/37 [00:00<?, ?it/s]"
      ]
     },
     "metadata": {},
     "output_type": "display_data"
    },
    {
     "data": {
      "application/vnd.jupyter.widget-view+json": {
       "model_id": "7ff7123958264c30bcb10fc5432df9d9",
       "version_major": 2,
       "version_minor": 0
      },
      "text/plain": [
       "  0%|          | 0/37 [00:00<?, ?it/s]"
      ]
     },
     "metadata": {},
     "output_type": "display_data"
    },
    {
     "data": {
      "application/vnd.jupyter.widget-view+json": {
       "model_id": "ad0b8cdb42c943cfba4589a08e527ddb",
       "version_major": 2,
       "version_minor": 0
      },
      "text/plain": [
       "  0%|          | 0/37 [00:00<?, ?it/s]"
      ]
     },
     "metadata": {},
     "output_type": "display_data"
    },
    {
     "data": {
      "application/vnd.jupyter.widget-view+json": {
       "model_id": "d04e49b387fe48c0b8665fa17b69b1d9",
       "version_major": 2,
       "version_minor": 0
      },
      "text/plain": [
       "  0%|          | 0/37 [00:00<?, ?it/s]"
      ]
     },
     "metadata": {},
     "output_type": "display_data"
    },
    {
     "data": {
      "application/vnd.jupyter.widget-view+json": {
       "model_id": "ab756342e0a947f09fff38609e2b399f",
       "version_major": 2,
       "version_minor": 0
      },
      "text/plain": [
       "  0%|          | 0/37 [00:00<?, ?it/s]"
      ]
     },
     "metadata": {},
     "output_type": "display_data"
    },
    {
     "data": {
      "application/vnd.jupyter.widget-view+json": {
       "model_id": "4ec9da22de2541f195a5124d96dac1de",
       "version_major": 2,
       "version_minor": 0
      },
      "text/plain": [
       "  0%|          | 0/37 [00:00<?, ?it/s]"
      ]
     },
     "metadata": {},
     "output_type": "display_data"
    },
    {
     "data": {
      "application/vnd.jupyter.widget-view+json": {
       "model_id": "0c39f2dc10c64ceb9b0fbcb5d27dd120",
       "version_major": 2,
       "version_minor": 0
      },
      "text/plain": [
       "  0%|          | 0/37 [00:00<?, ?it/s]"
      ]
     },
     "metadata": {},
     "output_type": "display_data"
    },
    {
     "data": {
      "application/vnd.jupyter.widget-view+json": {
       "model_id": "a9bde2c6da85419cbf56d166e6f9dd34",
       "version_major": 2,
       "version_minor": 0
      },
      "text/plain": [
       "  0%|          | 0/37 [00:00<?, ?it/s]"
      ]
     },
     "metadata": {},
     "output_type": "display_data"
    },
    {
     "data": {
      "application/vnd.jupyter.widget-view+json": {
       "model_id": "f92aadf834eb48e98fbc6faa5168ffb6",
       "version_major": 2,
       "version_minor": 0
      },
      "text/plain": [
       "  0%|          | 0/37 [00:00<?, ?it/s]"
      ]
     },
     "metadata": {},
     "output_type": "display_data"
    },
    {
     "data": {
      "application/vnd.jupyter.widget-view+json": {
       "model_id": "066375a792a74ba6b7550e5fab8eae5e",
       "version_major": 2,
       "version_minor": 0
      },
      "text/plain": [
       "  0%|          | 0/37 [00:00<?, ?it/s]"
      ]
     },
     "metadata": {},
     "output_type": "display_data"
    },
    {
     "data": {
      "text/html": [
       "Waiting for W&B process to finish... <strong style=\"color:green\">(success).</strong>"
      ],
      "text/plain": [
       "<IPython.core.display.HTML object>"
      ]
     },
     "metadata": {},
     "output_type": "display_data"
    },
    {
     "data": {
      "text/html": [
       "<style>\n",
       "    table.wandb td:nth-child(1) { padding: 0 10px; text-align: left ; width: auto;} td:nth-child(2) {text-align: left ; width: 100%}\n",
       "    .wandb-row { display: flex; flex-direction: row; flex-wrap: wrap; justify-content: flex-start; width: 100% }\n",
       "    .wandb-col { display: flex; flex-direction: column; flex-basis: 100%; flex: 1; padding: 10px; }\n",
       "    </style>\n",
       "<div class=\"wandb-row\"><div class=\"wandb-col\"><h3>Run history:</h3><br/><table class=\"wandb\"><tr><td>batch_loss</td><td>▂▆▅▃▅▄▂█▃▂▂▃▂▁▃▁▃▂▁▃▂▁▃▃▂▁▂▃▂▁▃▂▁▁▂▁▁▂▂▁</td></tr><tr><td>epoch</td><td>▁▁▁▁▂▂▂▂▂▃▃▃▃▃▃▄▄▄▄▄▅▅▅▅▅▅▆▆▆▆▆▆▇▇▇▇▇███</td></tr><tr><td>loss</td><td>█▃▄▄▃▃▃▃▂▂▂▂▂▂▂▂▂▂▂▂▂▁▁▂▂▁▁▁▁▁▁▁▁▁▁▁▁▁▁▁</td></tr></table><br/></div><div class=\"wandb-col\"><h3>Run summary:</h3><br/><table class=\"wandb\"><tr><td>batch_loss</td><td>2.46523</td></tr><tr><td>epoch</td><td>49</td></tr><tr><td>loss</td><td>3.13183</td></tr></table><br/></div></div>"
      ],
      "text/plain": [
       "<IPython.core.display.HTML object>"
      ]
     },
     "metadata": {},
     "output_type": "display_data"
    },
    {
     "data": {
      "text/html": [
       " View run <strong style=\"color:#cdcd00\">vivid-sweep-6</strong> at: <a href='https://wandb.ai/mldd23/selfie-autoencoder_v2/runs/hlt64lih' target=\"_blank\">https://wandb.ai/mldd23/selfie-autoencoder_v2/runs/hlt64lih</a><br/>Synced 5 W&B file(s), 0 media file(s), 0 artifact file(s) and 0 other file(s)"
      ],
      "text/plain": [
       "<IPython.core.display.HTML object>"
      ]
     },
     "metadata": {},
     "output_type": "display_data"
    },
    {
     "data": {
      "text/html": [
       "Find logs at: <code>./wandb/run-20230531_193138-hlt64lih/logs</code>"
      ],
      "text/plain": [
       "<IPython.core.display.HTML object>"
      ]
     },
     "metadata": {},
     "output_type": "display_data"
    },
    {
     "name": "stderr",
     "output_type": "stream",
     "text": [
      "\u001b[34m\u001b[1mwandb\u001b[0m: Sweep Agent: Waiting for job.\n",
      "\u001b[34m\u001b[1mwandb\u001b[0m: Job received.\n",
      "\u001b[34m\u001b[1mwandb\u001b[0m: Agent Starting Run: lg3a7ec3 with config:\n",
      "\u001b[34m\u001b[1mwandb\u001b[0m: \tbatch_size: 64\n",
      "\u001b[34m\u001b[1mwandb\u001b[0m: \tdrop_prob: 0.2\n",
      "\u001b[34m\u001b[1mwandb\u001b[0m: \temb_size: 256\n",
      "\u001b[34m\u001b[1mwandb\u001b[0m: \tencoding_size: 256\n",
      "\u001b[34m\u001b[1mwandb\u001b[0m: \tepochs: 50\n",
      "\u001b[34m\u001b[1mwandb\u001b[0m: \tlearning_rate: 0.057675501266533605\n",
      "\u001b[34m\u001b[1mwandb\u001b[0m: \tnum_layers: 2\n",
      "Failed to detect the name of this notebook, you can set it manually with the WANDB_NOTEBOOK_NAME environment variable to enable code saving.\n"
     ]
    },
    {
     "data": {
      "text/html": [
       "Tracking run with wandb version 0.15.3"
      ],
      "text/plain": [
       "<IPython.core.display.HTML object>"
      ]
     },
     "metadata": {},
     "output_type": "display_data"
    },
    {
     "data": {
      "text/html": [
       "Run data is saved locally in <code>/home/anton/mldd23_project1/wandb/run-20230531_195916-lg3a7ec3</code>"
      ],
      "text/plain": [
       "<IPython.core.display.HTML object>"
      ]
     },
     "metadata": {},
     "output_type": "display_data"
    },
    {
     "data": {
      "text/html": [
       "Syncing run <strong><a href='https://wandb.ai/mldd23/selfie-autoencoder_v2/runs/lg3a7ec3' target=\"_blank\">olive-sweep-7</a></strong> to <a href='https://wandb.ai/mldd23/selfie-autoencoder_v2' target=\"_blank\">Weights & Biases</a> (<a href='https://wandb.me/run' target=\"_blank\">docs</a>)<br/>Sweep page: <a href='https://wandb.ai/mldd23/selfie-autoencoder_v2/sweeps/7pj6cwfi' target=\"_blank\">https://wandb.ai/mldd23/selfie-autoencoder_v2/sweeps/7pj6cwfi</a>"
      ],
      "text/plain": [
       "<IPython.core.display.HTML object>"
      ]
     },
     "metadata": {},
     "output_type": "display_data"
    },
    {
     "data": {
      "text/html": [
       " View project at <a href='https://wandb.ai/mldd23/selfie-autoencoder_v2' target=\"_blank\">https://wandb.ai/mldd23/selfie-autoencoder_v2</a>"
      ],
      "text/plain": [
       "<IPython.core.display.HTML object>"
      ]
     },
     "metadata": {},
     "output_type": "display_data"
    },
    {
     "data": {
      "text/html": [
       " View sweep at <a href='https://wandb.ai/mldd23/selfie-autoencoder_v2/sweeps/7pj6cwfi' target=\"_blank\">https://wandb.ai/mldd23/selfie-autoencoder_v2/sweeps/7pj6cwfi</a>"
      ],
      "text/plain": [
       "<IPython.core.display.HTML object>"
      ]
     },
     "metadata": {},
     "output_type": "display_data"
    },
    {
     "data": {
      "text/html": [
       " View run at <a href='https://wandb.ai/mldd23/selfie-autoencoder_v2/runs/lg3a7ec3' target=\"_blank\">https://wandb.ai/mldd23/selfie-autoencoder_v2/runs/lg3a7ec3</a>"
      ],
      "text/plain": [
       "<IPython.core.display.HTML object>"
      ]
     },
     "metadata": {},
     "output_type": "display_data"
    },
    {
     "data": {
      "application/vnd.jupyter.widget-view+json": {
       "model_id": "833671de23584f8b86cedd309b6412f4",
       "version_major": 2,
       "version_minor": 0
      },
      "text/plain": [
       "  0%|          | 0/50 [00:00<?, ?it/s]"
      ]
     },
     "metadata": {},
     "output_type": "display_data"
    },
    {
     "data": {
      "application/vnd.jupyter.widget-view+json": {
       "model_id": "a2877036915b489a824ffc3b8c1ca8ca",
       "version_major": 2,
       "version_minor": 0
      },
      "text/plain": [
       "  0%|          | 0/140 [00:00<?, ?it/s]"
      ]
     },
     "metadata": {},
     "output_type": "display_data"
    },
    {
     "data": {
      "application/vnd.jupyter.widget-view+json": {
       "model_id": "dc3897f393684af78d9e21db03b13568",
       "version_major": 2,
       "version_minor": 0
      },
      "text/plain": [
       "  0%|          | 0/140 [00:00<?, ?it/s]"
      ]
     },
     "metadata": {},
     "output_type": "display_data"
    },
    {
     "data": {
      "application/vnd.jupyter.widget-view+json": {
       "model_id": "6a161c66f88b480396191b4f019e08b4",
       "version_major": 2,
       "version_minor": 0
      },
      "text/plain": [
       "  0%|          | 0/140 [00:00<?, ?it/s]"
      ]
     },
     "metadata": {},
     "output_type": "display_data"
    },
    {
     "data": {
      "application/vnd.jupyter.widget-view+json": {
       "model_id": "41071f36b9a742cebd3a75627f698c57",
       "version_major": 2,
       "version_minor": 0
      },
      "text/plain": [
       "  0%|          | 0/140 [00:00<?, ?it/s]"
      ]
     },
     "metadata": {},
     "output_type": "display_data"
    },
    {
     "data": {
      "application/vnd.jupyter.widget-view+json": {
       "model_id": "a114c74198d144b89f09a67ec383c4d8",
       "version_major": 2,
       "version_minor": 0
      },
      "text/plain": [
       "  0%|          | 0/140 [00:00<?, ?it/s]"
      ]
     },
     "metadata": {},
     "output_type": "display_data"
    },
    {
     "data": {
      "application/vnd.jupyter.widget-view+json": {
       "model_id": "c267a62fadd34159b223565a9a9e6b74",
       "version_major": 2,
       "version_minor": 0
      },
      "text/plain": [
       "  0%|          | 0/140 [00:00<?, ?it/s]"
      ]
     },
     "metadata": {},
     "output_type": "display_data"
    },
    {
     "data": {
      "application/vnd.jupyter.widget-view+json": {
       "model_id": "f52cc5cceb7c44a082b31005ac6d5b2d",
       "version_major": 2,
       "version_minor": 0
      },
      "text/plain": [
       "  0%|          | 0/140 [00:00<?, ?it/s]"
      ]
     },
     "metadata": {},
     "output_type": "display_data"
    },
    {
     "data": {
      "application/vnd.jupyter.widget-view+json": {
       "model_id": "993b6245362d41e3b606d3981adda792",
       "version_major": 2,
       "version_minor": 0
      },
      "text/plain": [
       "  0%|          | 0/140 [00:00<?, ?it/s]"
      ]
     },
     "metadata": {},
     "output_type": "display_data"
    },
    {
     "data": {
      "application/vnd.jupyter.widget-view+json": {
       "model_id": "7168b35bf614493888241a9c94ce41d4",
       "version_major": 2,
       "version_minor": 0
      },
      "text/plain": [
       "  0%|          | 0/140 [00:00<?, ?it/s]"
      ]
     },
     "metadata": {},
     "output_type": "display_data"
    },
    {
     "data": {
      "application/vnd.jupyter.widget-view+json": {
       "model_id": "73a895a277f2412a8d4015b7fe3376b7",
       "version_major": 2,
       "version_minor": 0
      },
      "text/plain": [
       "  0%|          | 0/140 [00:00<?, ?it/s]"
      ]
     },
     "metadata": {},
     "output_type": "display_data"
    },
    {
     "data": {
      "application/vnd.jupyter.widget-view+json": {
       "model_id": "49d984fbf2114d9fadadd8584b667243",
       "version_major": 2,
       "version_minor": 0
      },
      "text/plain": [
       "  0%|          | 0/140 [00:00<?, ?it/s]"
      ]
     },
     "metadata": {},
     "output_type": "display_data"
    },
    {
     "data": {
      "application/vnd.jupyter.widget-view+json": {
       "model_id": "33c61ca25a434fc4ba0f6c85f5720e0a",
       "version_major": 2,
       "version_minor": 0
      },
      "text/plain": [
       "  0%|          | 0/140 [00:00<?, ?it/s]"
      ]
     },
     "metadata": {},
     "output_type": "display_data"
    },
    {
     "data": {
      "application/vnd.jupyter.widget-view+json": {
       "model_id": "341a65df1a5b485c876834fa18e137ec",
       "version_major": 2,
       "version_minor": 0
      },
      "text/plain": [
       "  0%|          | 0/140 [00:00<?, ?it/s]"
      ]
     },
     "metadata": {},
     "output_type": "display_data"
    },
    {
     "data": {
      "application/vnd.jupyter.widget-view+json": {
       "model_id": "93500bb1f41849ed8751f18b15b336e8",
       "version_major": 2,
       "version_minor": 0
      },
      "text/plain": [
       "  0%|          | 0/140 [00:00<?, ?it/s]"
      ]
     },
     "metadata": {},
     "output_type": "display_data"
    },
    {
     "data": {
      "application/vnd.jupyter.widget-view+json": {
       "model_id": "20c1dcb91d544dc68655771a70e6bfb8",
       "version_major": 2,
       "version_minor": 0
      },
      "text/plain": [
       "  0%|          | 0/140 [00:00<?, ?it/s]"
      ]
     },
     "metadata": {},
     "output_type": "display_data"
    },
    {
     "data": {
      "application/vnd.jupyter.widget-view+json": {
       "model_id": "0e1772edd55b4c47bba234ea41d29eac",
       "version_major": 2,
       "version_minor": 0
      },
      "text/plain": [
       "  0%|          | 0/140 [00:00<?, ?it/s]"
      ]
     },
     "metadata": {},
     "output_type": "display_data"
    },
    {
     "data": {
      "application/vnd.jupyter.widget-view+json": {
       "model_id": "235a68d804cb46d5b3c755f3059de952",
       "version_major": 2,
       "version_minor": 0
      },
      "text/plain": [
       "  0%|          | 0/140 [00:00<?, ?it/s]"
      ]
     },
     "metadata": {},
     "output_type": "display_data"
    },
    {
     "data": {
      "application/vnd.jupyter.widget-view+json": {
       "model_id": "c30bfab2f0834bf1b7467ac2daab82de",
       "version_major": 2,
       "version_minor": 0
      },
      "text/plain": [
       "  0%|          | 0/140 [00:00<?, ?it/s]"
      ]
     },
     "metadata": {},
     "output_type": "display_data"
    },
    {
     "data": {
      "application/vnd.jupyter.widget-view+json": {
       "model_id": "bf7848547e48494e8e5f489f41380794",
       "version_major": 2,
       "version_minor": 0
      },
      "text/plain": [
       "  0%|          | 0/140 [00:00<?, ?it/s]"
      ]
     },
     "metadata": {},
     "output_type": "display_data"
    },
    {
     "data": {
      "application/vnd.jupyter.widget-view+json": {
       "model_id": "96553fcaffb643e386c0f2b674526aa5",
       "version_major": 2,
       "version_minor": 0
      },
      "text/plain": [
       "  0%|          | 0/140 [00:00<?, ?it/s]"
      ]
     },
     "metadata": {},
     "output_type": "display_data"
    },
    {
     "data": {
      "application/vnd.jupyter.widget-view+json": {
       "model_id": "cb32066c5a3a4e82b4d72cced03ea7bd",
       "version_major": 2,
       "version_minor": 0
      },
      "text/plain": [
       "  0%|          | 0/140 [00:00<?, ?it/s]"
      ]
     },
     "metadata": {},
     "output_type": "display_data"
    },
    {
     "data": {
      "application/vnd.jupyter.widget-view+json": {
       "model_id": "05ff9eec2c894fa6a5b8b02cb0f51cf0",
       "version_major": 2,
       "version_minor": 0
      },
      "text/plain": [
       "  0%|          | 0/140 [00:00<?, ?it/s]"
      ]
     },
     "metadata": {},
     "output_type": "display_data"
    },
    {
     "data": {
      "application/vnd.jupyter.widget-view+json": {
       "model_id": "2a62ac6d54c249da80c1fa520f0547cd",
       "version_major": 2,
       "version_minor": 0
      },
      "text/plain": [
       "  0%|          | 0/140 [00:00<?, ?it/s]"
      ]
     },
     "metadata": {},
     "output_type": "display_data"
    },
    {
     "data": {
      "application/vnd.jupyter.widget-view+json": {
       "model_id": "9c25df94ba554ea490d101ee73df4258",
       "version_major": 2,
       "version_minor": 0
      },
      "text/plain": [
       "  0%|          | 0/140 [00:00<?, ?it/s]"
      ]
     },
     "metadata": {},
     "output_type": "display_data"
    },
    {
     "data": {
      "application/vnd.jupyter.widget-view+json": {
       "model_id": "f253dfda0b2e4e808735728730058e6e",
       "version_major": 2,
       "version_minor": 0
      },
      "text/plain": [
       "  0%|          | 0/140 [00:00<?, ?it/s]"
      ]
     },
     "metadata": {},
     "output_type": "display_data"
    },
    {
     "data": {
      "application/vnd.jupyter.widget-view+json": {
       "model_id": "48419ef509b345eb9878010124175b89",
       "version_major": 2,
       "version_minor": 0
      },
      "text/plain": [
       "  0%|          | 0/140 [00:00<?, ?it/s]"
      ]
     },
     "metadata": {},
     "output_type": "display_data"
    },
    {
     "data": {
      "application/vnd.jupyter.widget-view+json": {
       "model_id": "c4a8099475f741a987c1bab1c1f1b8d7",
       "version_major": 2,
       "version_minor": 0
      },
      "text/plain": [
       "  0%|          | 0/140 [00:00<?, ?it/s]"
      ]
     },
     "metadata": {},
     "output_type": "display_data"
    },
    {
     "data": {
      "application/vnd.jupyter.widget-view+json": {
       "model_id": "8989b025be334c47b6748ef23f75cdd5",
       "version_major": 2,
       "version_minor": 0
      },
      "text/plain": [
       "  0%|          | 0/140 [00:00<?, ?it/s]"
      ]
     },
     "metadata": {},
     "output_type": "display_data"
    },
    {
     "data": {
      "application/vnd.jupyter.widget-view+json": {
       "model_id": "d099b04f98a8436d87d3e1486d5348c9",
       "version_major": 2,
       "version_minor": 0
      },
      "text/plain": [
       "  0%|          | 0/140 [00:00<?, ?it/s]"
      ]
     },
     "metadata": {},
     "output_type": "display_data"
    },
    {
     "data": {
      "application/vnd.jupyter.widget-view+json": {
       "model_id": "e2f9f3ce6c8d4255b81c66b806772d06",
       "version_major": 2,
       "version_minor": 0
      },
      "text/plain": [
       "  0%|          | 0/140 [00:00<?, ?it/s]"
      ]
     },
     "metadata": {},
     "output_type": "display_data"
    },
    {
     "data": {
      "application/vnd.jupyter.widget-view+json": {
       "model_id": "09a6a619f4524d8db44103569c3ad383",
       "version_major": 2,
       "version_minor": 0
      },
      "text/plain": [
       "  0%|          | 0/140 [00:00<?, ?it/s]"
      ]
     },
     "metadata": {},
     "output_type": "display_data"
    },
    {
     "data": {
      "application/vnd.jupyter.widget-view+json": {
       "model_id": "bc001f814c404aba883e0921f746691a",
       "version_major": 2,
       "version_minor": 0
      },
      "text/plain": [
       "  0%|          | 0/140 [00:00<?, ?it/s]"
      ]
     },
     "metadata": {},
     "output_type": "display_data"
    },
    {
     "data": {
      "application/vnd.jupyter.widget-view+json": {
       "model_id": "74eb44e5aded49e999866079beb366c9",
       "version_major": 2,
       "version_minor": 0
      },
      "text/plain": [
       "  0%|          | 0/140 [00:00<?, ?it/s]"
      ]
     },
     "metadata": {},
     "output_type": "display_data"
    },
    {
     "data": {
      "application/vnd.jupyter.widget-view+json": {
       "model_id": "5b317bbd81514cb9a538df9c636493be",
       "version_major": 2,
       "version_minor": 0
      },
      "text/plain": [
       "  0%|          | 0/140 [00:00<?, ?it/s]"
      ]
     },
     "metadata": {},
     "output_type": "display_data"
    },
    {
     "data": {
      "application/vnd.jupyter.widget-view+json": {
       "model_id": "defd84d150fb486c93e19b39940a980b",
       "version_major": 2,
       "version_minor": 0
      },
      "text/plain": [
       "  0%|          | 0/140 [00:00<?, ?it/s]"
      ]
     },
     "metadata": {},
     "output_type": "display_data"
    },
    {
     "data": {
      "application/vnd.jupyter.widget-view+json": {
       "model_id": "2b3fa0861d4749da800227f5d51101d2",
       "version_major": 2,
       "version_minor": 0
      },
      "text/plain": [
       "  0%|          | 0/140 [00:00<?, ?it/s]"
      ]
     },
     "metadata": {},
     "output_type": "display_data"
    },
    {
     "data": {
      "application/vnd.jupyter.widget-view+json": {
       "model_id": "c892d9e9c13c492b9bb56004944a6e84",
       "version_major": 2,
       "version_minor": 0
      },
      "text/plain": [
       "  0%|          | 0/140 [00:00<?, ?it/s]"
      ]
     },
     "metadata": {},
     "output_type": "display_data"
    },
    {
     "data": {
      "application/vnd.jupyter.widget-view+json": {
       "model_id": "eeec36dffb0342488aec968378e8e4b5",
       "version_major": 2,
       "version_minor": 0
      },
      "text/plain": [
       "  0%|          | 0/140 [00:00<?, ?it/s]"
      ]
     },
     "metadata": {},
     "output_type": "display_data"
    },
    {
     "data": {
      "application/vnd.jupyter.widget-view+json": {
       "model_id": "4466b31ea31c4f38a9b1088633ca7d69",
       "version_major": 2,
       "version_minor": 0
      },
      "text/plain": [
       "  0%|          | 0/140 [00:00<?, ?it/s]"
      ]
     },
     "metadata": {},
     "output_type": "display_data"
    },
    {
     "data": {
      "application/vnd.jupyter.widget-view+json": {
       "model_id": "0fd8c25eb089403a8de92a5484ab2797",
       "version_major": 2,
       "version_minor": 0
      },
      "text/plain": [
       "  0%|          | 0/140 [00:00<?, ?it/s]"
      ]
     },
     "metadata": {},
     "output_type": "display_data"
    },
    {
     "data": {
      "application/vnd.jupyter.widget-view+json": {
       "model_id": "954e3443f7dc49909306611e6e0ad527",
       "version_major": 2,
       "version_minor": 0
      },
      "text/plain": [
       "  0%|          | 0/140 [00:00<?, ?it/s]"
      ]
     },
     "metadata": {},
     "output_type": "display_data"
    },
    {
     "data": {
      "application/vnd.jupyter.widget-view+json": {
       "model_id": "2f7ad7046f0a49eea78eba1bee67d065",
       "version_major": 2,
       "version_minor": 0
      },
      "text/plain": [
       "  0%|          | 0/140 [00:00<?, ?it/s]"
      ]
     },
     "metadata": {},
     "output_type": "display_data"
    },
    {
     "data": {
      "application/vnd.jupyter.widget-view+json": {
       "model_id": "16a82981e01d4d388d0d4d58cd4dbc73",
       "version_major": 2,
       "version_minor": 0
      },
      "text/plain": [
       "  0%|          | 0/140 [00:00<?, ?it/s]"
      ]
     },
     "metadata": {},
     "output_type": "display_data"
    },
    {
     "data": {
      "application/vnd.jupyter.widget-view+json": {
       "model_id": "e9cd5c59c542430597f8ed9473e732a6",
       "version_major": 2,
       "version_minor": 0
      },
      "text/plain": [
       "  0%|          | 0/140 [00:00<?, ?it/s]"
      ]
     },
     "metadata": {},
     "output_type": "display_data"
    },
    {
     "data": {
      "application/vnd.jupyter.widget-view+json": {
       "model_id": "22813747c3f74c77b56d09ae9ba499fb",
       "version_major": 2,
       "version_minor": 0
      },
      "text/plain": [
       "  0%|          | 0/140 [00:00<?, ?it/s]"
      ]
     },
     "metadata": {},
     "output_type": "display_data"
    },
    {
     "data": {
      "application/vnd.jupyter.widget-view+json": {
       "model_id": "69f73b23168b41fa9e57850abeb44454",
       "version_major": 2,
       "version_minor": 0
      },
      "text/plain": [
       "  0%|          | 0/140 [00:00<?, ?it/s]"
      ]
     },
     "metadata": {},
     "output_type": "display_data"
    },
    {
     "data": {
      "application/vnd.jupyter.widget-view+json": {
       "model_id": "0d56282b7dff41b096e74c2b45698e2f",
       "version_major": 2,
       "version_minor": 0
      },
      "text/plain": [
       "  0%|          | 0/140 [00:00<?, ?it/s]"
      ]
     },
     "metadata": {},
     "output_type": "display_data"
    },
    {
     "data": {
      "application/vnd.jupyter.widget-view+json": {
       "model_id": "09471448bb484a08bfa3093143b0ed57",
       "version_major": 2,
       "version_minor": 0
      },
      "text/plain": [
       "  0%|          | 0/140 [00:00<?, ?it/s]"
      ]
     },
     "metadata": {},
     "output_type": "display_data"
    },
    {
     "data": {
      "application/vnd.jupyter.widget-view+json": {
       "model_id": "8f5df5d50d3643e18bc6c8a5c6460b92",
       "version_major": 2,
       "version_minor": 0
      },
      "text/plain": [
       "  0%|          | 0/140 [00:00<?, ?it/s]"
      ]
     },
     "metadata": {},
     "output_type": "display_data"
    },
    {
     "data": {
      "application/vnd.jupyter.widget-view+json": {
       "model_id": "7a112f2ee301467a8931a96168837bf5",
       "version_major": 2,
       "version_minor": 0
      },
      "text/plain": [
       "  0%|          | 0/140 [00:00<?, ?it/s]"
      ]
     },
     "metadata": {},
     "output_type": "display_data"
    },
    {
     "data": {
      "text/html": [
       "Waiting for W&B process to finish... <strong style=\"color:green\">(success).</strong>"
      ],
      "text/plain": [
       "<IPython.core.display.HTML object>"
      ]
     },
     "metadata": {},
     "output_type": "display_data"
    },
    {
     "data": {
      "text/html": [
       "<style>\n",
       "    table.wandb td:nth-child(1) { padding: 0 10px; text-align: left ; width: auto;} td:nth-child(2) {text-align: left ; width: 100%}\n",
       "    .wandb-row { display: flex; flex-direction: row; flex-wrap: wrap; justify-content: flex-start; width: 100% }\n",
       "    .wandb-col { display: flex; flex-direction: column; flex-basis: 100%; flex: 1; padding: 10px; }\n",
       "    </style>\n",
       "<div class=\"wandb-row\"><div class=\"wandb-col\"><h3>Run history:</h3><br/><table class=\"wandb\"><tr><td>batch_loss</td><td>▂▂▂█▂▂▁█▂▂▁▄▂▂▁▃▁▁▁▃▁▁▁▃▂▂▂▂▁▄▁▂▁▆▁▂▁▄▁▁</td></tr><tr><td>epoch</td><td>▁▁▁▁▂▂▂▂▂▃▃▃▃▃▃▄▄▄▄▄▅▅▅▅▅▅▆▆▆▆▆▆▇▇▇▇▇███</td></tr><tr><td>loss</td><td>█▁▁▁▁▁▁▁▁▁▁▁▁▁▁▁▁▁▁▁▁▁▁▁▁▁▁▁▁▁▁▁▁▁▁▁▁▁▁▁</td></tr></table><br/></div><div class=\"wandb-col\"><h3>Run summary:</h3><br/><table class=\"wandb\"><tr><td>batch_loss</td><td>2.02464</td></tr><tr><td>epoch</td><td>49</td></tr><tr><td>loss</td><td>2.38622</td></tr></table><br/></div></div>"
      ],
      "text/plain": [
       "<IPython.core.display.HTML object>"
      ]
     },
     "metadata": {},
     "output_type": "display_data"
    },
    {
     "data": {
      "text/html": [
       " View run <strong style=\"color:#cdcd00\">olive-sweep-7</strong> at: <a href='https://wandb.ai/mldd23/selfie-autoencoder_v2/runs/lg3a7ec3' target=\"_blank\">https://wandb.ai/mldd23/selfie-autoencoder_v2/runs/lg3a7ec3</a><br/>Synced 5 W&B file(s), 0 media file(s), 0 artifact file(s) and 0 other file(s)"
      ],
      "text/plain": [
       "<IPython.core.display.HTML object>"
      ]
     },
     "metadata": {},
     "output_type": "display_data"
    },
    {
     "data": {
      "text/html": [
       "Find logs at: <code>./wandb/run-20230531_195916-lg3a7ec3/logs</code>"
      ],
      "text/plain": [
       "<IPython.core.display.HTML object>"
      ]
     },
     "metadata": {},
     "output_type": "display_data"
    },
    {
     "name": "stderr",
     "output_type": "stream",
     "text": [
      "\u001b[34m\u001b[1mwandb\u001b[0m: Agent Starting Run: uxsk6xw1 with config:\n",
      "\u001b[34m\u001b[1mwandb\u001b[0m: \tbatch_size: 168\n",
      "\u001b[34m\u001b[1mwandb\u001b[0m: \tdrop_prob: 0.4\n",
      "\u001b[34m\u001b[1mwandb\u001b[0m: \temb_size: 32\n",
      "\u001b[34m\u001b[1mwandb\u001b[0m: \tencoding_size: 512\n",
      "\u001b[34m\u001b[1mwandb\u001b[0m: \tepochs: 50\n",
      "\u001b[34m\u001b[1mwandb\u001b[0m: \tlearning_rate: 0.07874414118011061\n",
      "\u001b[34m\u001b[1mwandb\u001b[0m: \tnum_layers: 3\n",
      "Failed to detect the name of this notebook, you can set it manually with the WANDB_NOTEBOOK_NAME environment variable to enable code saving.\n"
     ]
    },
    {
     "data": {
      "text/html": [
       "Tracking run with wandb version 0.15.3"
      ],
      "text/plain": [
       "<IPython.core.display.HTML object>"
      ]
     },
     "metadata": {},
     "output_type": "display_data"
    },
    {
     "data": {
      "text/html": [
       "Run data is saved locally in <code>/home/anton/mldd23_project1/wandb/run-20230531_201523-uxsk6xw1</code>"
      ],
      "text/plain": [
       "<IPython.core.display.HTML object>"
      ]
     },
     "metadata": {},
     "output_type": "display_data"
    },
    {
     "data": {
      "text/html": [
       "Syncing run <strong><a href='https://wandb.ai/mldd23/selfie-autoencoder_v2/runs/uxsk6xw1' target=\"_blank\">effortless-sweep-8</a></strong> to <a href='https://wandb.ai/mldd23/selfie-autoencoder_v2' target=\"_blank\">Weights & Biases</a> (<a href='https://wandb.me/run' target=\"_blank\">docs</a>)<br/>Sweep page: <a href='https://wandb.ai/mldd23/selfie-autoencoder_v2/sweeps/7pj6cwfi' target=\"_blank\">https://wandb.ai/mldd23/selfie-autoencoder_v2/sweeps/7pj6cwfi</a>"
      ],
      "text/plain": [
       "<IPython.core.display.HTML object>"
      ]
     },
     "metadata": {},
     "output_type": "display_data"
    },
    {
     "data": {
      "text/html": [
       " View project at <a href='https://wandb.ai/mldd23/selfie-autoencoder_v2' target=\"_blank\">https://wandb.ai/mldd23/selfie-autoencoder_v2</a>"
      ],
      "text/plain": [
       "<IPython.core.display.HTML object>"
      ]
     },
     "metadata": {},
     "output_type": "display_data"
    },
    {
     "data": {
      "text/html": [
       " View sweep at <a href='https://wandb.ai/mldd23/selfie-autoencoder_v2/sweeps/7pj6cwfi' target=\"_blank\">https://wandb.ai/mldd23/selfie-autoencoder_v2/sweeps/7pj6cwfi</a>"
      ],
      "text/plain": [
       "<IPython.core.display.HTML object>"
      ]
     },
     "metadata": {},
     "output_type": "display_data"
    },
    {
     "data": {
      "text/html": [
       " View run at <a href='https://wandb.ai/mldd23/selfie-autoencoder_v2/runs/uxsk6xw1' target=\"_blank\">https://wandb.ai/mldd23/selfie-autoencoder_v2/runs/uxsk6xw1</a>"
      ],
      "text/plain": [
       "<IPython.core.display.HTML object>"
      ]
     },
     "metadata": {},
     "output_type": "display_data"
    },
    {
     "data": {
      "application/vnd.jupyter.widget-view+json": {
       "model_id": "f5c30f2d990d4f8d9a6fa0459e7a5e13",
       "version_major": 2,
       "version_minor": 0
      },
      "text/plain": [
       "  0%|          | 0/50 [00:00<?, ?it/s]"
      ]
     },
     "metadata": {},
     "output_type": "display_data"
    },
    {
     "data": {
      "application/vnd.jupyter.widget-view+json": {
       "model_id": "2878b639a20f4d7b817b6426537e3059",
       "version_major": 2,
       "version_minor": 0
      },
      "text/plain": [
       "  0%|          | 0/53 [00:00<?, ?it/s]"
      ]
     },
     "metadata": {},
     "output_type": "display_data"
    },
    {
     "data": {
      "application/vnd.jupyter.widget-view+json": {
       "model_id": "6d63926616704cf29611811f1bb8861a",
       "version_major": 2,
       "version_minor": 0
      },
      "text/plain": [
       "  0%|          | 0/53 [00:00<?, ?it/s]"
      ]
     },
     "metadata": {},
     "output_type": "display_data"
    },
    {
     "data": {
      "application/vnd.jupyter.widget-view+json": {
       "model_id": "455252f47ca349c1a68b82afc178d91d",
       "version_major": 2,
       "version_minor": 0
      },
      "text/plain": [
       "  0%|          | 0/53 [00:00<?, ?it/s]"
      ]
     },
     "metadata": {},
     "output_type": "display_data"
    },
    {
     "data": {
      "application/vnd.jupyter.widget-view+json": {
       "model_id": "02ae5ee14f7448229c9894a6f6e82fa4",
       "version_major": 2,
       "version_minor": 0
      },
      "text/plain": [
       "  0%|          | 0/53 [00:00<?, ?it/s]"
      ]
     },
     "metadata": {},
     "output_type": "display_data"
    },
    {
     "data": {
      "application/vnd.jupyter.widget-view+json": {
       "model_id": "f4088d21659a460c89ee7d0e9cc286df",
       "version_major": 2,
       "version_minor": 0
      },
      "text/plain": [
       "  0%|          | 0/53 [00:00<?, ?it/s]"
      ]
     },
     "metadata": {},
     "output_type": "display_data"
    },
    {
     "data": {
      "application/vnd.jupyter.widget-view+json": {
       "model_id": "a3798d9371ed48c29bb99519b15c430b",
       "version_major": 2,
       "version_minor": 0
      },
      "text/plain": [
       "  0%|          | 0/53 [00:00<?, ?it/s]"
      ]
     },
     "metadata": {},
     "output_type": "display_data"
    },
    {
     "data": {
      "application/vnd.jupyter.widget-view+json": {
       "model_id": "6522d8ea4be94e308d78e0117c5f4491",
       "version_major": 2,
       "version_minor": 0
      },
      "text/plain": [
       "  0%|          | 0/53 [00:00<?, ?it/s]"
      ]
     },
     "metadata": {},
     "output_type": "display_data"
    },
    {
     "data": {
      "application/vnd.jupyter.widget-view+json": {
       "model_id": "ac29833928bf4990922ac6345d16a6e5",
       "version_major": 2,
       "version_minor": 0
      },
      "text/plain": [
       "  0%|          | 0/53 [00:00<?, ?it/s]"
      ]
     },
     "metadata": {},
     "output_type": "display_data"
    },
    {
     "data": {
      "application/vnd.jupyter.widget-view+json": {
       "model_id": "91359c1b74654d1cbee5c723fe746675",
       "version_major": 2,
       "version_minor": 0
      },
      "text/plain": [
       "  0%|          | 0/53 [00:00<?, ?it/s]"
      ]
     },
     "metadata": {},
     "output_type": "display_data"
    },
    {
     "data": {
      "application/vnd.jupyter.widget-view+json": {
       "model_id": "d01cee86a51441a18d7af20f1e2386dc",
       "version_major": 2,
       "version_minor": 0
      },
      "text/plain": [
       "  0%|          | 0/53 [00:00<?, ?it/s]"
      ]
     },
     "metadata": {},
     "output_type": "display_data"
    },
    {
     "data": {
      "application/vnd.jupyter.widget-view+json": {
       "model_id": "7e301588571145839a7990d34a91f5cb",
       "version_major": 2,
       "version_minor": 0
      },
      "text/plain": [
       "  0%|          | 0/53 [00:00<?, ?it/s]"
      ]
     },
     "metadata": {},
     "output_type": "display_data"
    },
    {
     "data": {
      "application/vnd.jupyter.widget-view+json": {
       "model_id": "ea0ccc191318417483dc007d44211b34",
       "version_major": 2,
       "version_minor": 0
      },
      "text/plain": [
       "  0%|          | 0/53 [00:00<?, ?it/s]"
      ]
     },
     "metadata": {},
     "output_type": "display_data"
    },
    {
     "data": {
      "application/vnd.jupyter.widget-view+json": {
       "model_id": "e12035ed884043569a67417e3475c869",
       "version_major": 2,
       "version_minor": 0
      },
      "text/plain": [
       "  0%|          | 0/53 [00:00<?, ?it/s]"
      ]
     },
     "metadata": {},
     "output_type": "display_data"
    },
    {
     "data": {
      "application/vnd.jupyter.widget-view+json": {
       "model_id": "db498f8211e74b1896a05900cbc9d596",
       "version_major": 2,
       "version_minor": 0
      },
      "text/plain": [
       "  0%|          | 0/53 [00:00<?, ?it/s]"
      ]
     },
     "metadata": {},
     "output_type": "display_data"
    },
    {
     "data": {
      "application/vnd.jupyter.widget-view+json": {
       "model_id": "7453aa6c161e4c6fa2d9c93bfdba0304",
       "version_major": 2,
       "version_minor": 0
      },
      "text/plain": [
       "  0%|          | 0/53 [00:00<?, ?it/s]"
      ]
     },
     "metadata": {},
     "output_type": "display_data"
    },
    {
     "data": {
      "application/vnd.jupyter.widget-view+json": {
       "model_id": "7d9bc0bc0bad43ad96f7db9628402ddc",
       "version_major": 2,
       "version_minor": 0
      },
      "text/plain": [
       "  0%|          | 0/53 [00:00<?, ?it/s]"
      ]
     },
     "metadata": {},
     "output_type": "display_data"
    },
    {
     "data": {
      "application/vnd.jupyter.widget-view+json": {
       "model_id": "461ba646707644908c587c6ca166ece0",
       "version_major": 2,
       "version_minor": 0
      },
      "text/plain": [
       "  0%|          | 0/53 [00:00<?, ?it/s]"
      ]
     },
     "metadata": {},
     "output_type": "display_data"
    },
    {
     "data": {
      "application/vnd.jupyter.widget-view+json": {
       "model_id": "e8825a77f7b64c08b22e631dfb9c486d",
       "version_major": 2,
       "version_minor": 0
      },
      "text/plain": [
       "  0%|          | 0/53 [00:00<?, ?it/s]"
      ]
     },
     "metadata": {},
     "output_type": "display_data"
    },
    {
     "data": {
      "application/vnd.jupyter.widget-view+json": {
       "model_id": "26a1f62d63574100b700455a0247e314",
       "version_major": 2,
       "version_minor": 0
      },
      "text/plain": [
       "  0%|          | 0/53 [00:00<?, ?it/s]"
      ]
     },
     "metadata": {},
     "output_type": "display_data"
    },
    {
     "data": {
      "application/vnd.jupyter.widget-view+json": {
       "model_id": "cc39522f50b94fda96b4dee6c5838372",
       "version_major": 2,
       "version_minor": 0
      },
      "text/plain": [
       "  0%|          | 0/53 [00:00<?, ?it/s]"
      ]
     },
     "metadata": {},
     "output_type": "display_data"
    },
    {
     "data": {
      "application/vnd.jupyter.widget-view+json": {
       "model_id": "1e12b98a7195454f97a0a814b30c5ddc",
       "version_major": 2,
       "version_minor": 0
      },
      "text/plain": [
       "  0%|          | 0/53 [00:00<?, ?it/s]"
      ]
     },
     "metadata": {},
     "output_type": "display_data"
    },
    {
     "data": {
      "application/vnd.jupyter.widget-view+json": {
       "model_id": "95d0ee52f3f848bf973dc73e8056cf31",
       "version_major": 2,
       "version_minor": 0
      },
      "text/plain": [
       "  0%|          | 0/53 [00:00<?, ?it/s]"
      ]
     },
     "metadata": {},
     "output_type": "display_data"
    },
    {
     "data": {
      "application/vnd.jupyter.widget-view+json": {
       "model_id": "058c41d3071d46f1aed184c56812ffd8",
       "version_major": 2,
       "version_minor": 0
      },
      "text/plain": [
       "  0%|          | 0/53 [00:00<?, ?it/s]"
      ]
     },
     "metadata": {},
     "output_type": "display_data"
    },
    {
     "data": {
      "application/vnd.jupyter.widget-view+json": {
       "model_id": "0ea777d3d5ee4a38ac9315ad060af20a",
       "version_major": 2,
       "version_minor": 0
      },
      "text/plain": [
       "  0%|          | 0/53 [00:00<?, ?it/s]"
      ]
     },
     "metadata": {},
     "output_type": "display_data"
    },
    {
     "data": {
      "application/vnd.jupyter.widget-view+json": {
       "model_id": "e40c281dda6041d789b6c8776b88b7bb",
       "version_major": 2,
       "version_minor": 0
      },
      "text/plain": [
       "  0%|          | 0/53 [00:00<?, ?it/s]"
      ]
     },
     "metadata": {},
     "output_type": "display_data"
    },
    {
     "data": {
      "application/vnd.jupyter.widget-view+json": {
       "model_id": "70e480f8480443da902bd60271d94f54",
       "version_major": 2,
       "version_minor": 0
      },
      "text/plain": [
       "  0%|          | 0/53 [00:00<?, ?it/s]"
      ]
     },
     "metadata": {},
     "output_type": "display_data"
    },
    {
     "data": {
      "application/vnd.jupyter.widget-view+json": {
       "model_id": "f7cfcd5c70324d1daa65ee2d6868b63f",
       "version_major": 2,
       "version_minor": 0
      },
      "text/plain": [
       "  0%|          | 0/53 [00:00<?, ?it/s]"
      ]
     },
     "metadata": {},
     "output_type": "display_data"
    },
    {
     "data": {
      "application/vnd.jupyter.widget-view+json": {
       "model_id": "9140066d571e41c6b1ebe3544397e29f",
       "version_major": 2,
       "version_minor": 0
      },
      "text/plain": [
       "  0%|          | 0/53 [00:00<?, ?it/s]"
      ]
     },
     "metadata": {},
     "output_type": "display_data"
    },
    {
     "data": {
      "application/vnd.jupyter.widget-view+json": {
       "model_id": "096e2c21d039471ba0e0ee6467d741c0",
       "version_major": 2,
       "version_minor": 0
      },
      "text/plain": [
       "  0%|          | 0/53 [00:00<?, ?it/s]"
      ]
     },
     "metadata": {},
     "output_type": "display_data"
    },
    {
     "data": {
      "application/vnd.jupyter.widget-view+json": {
       "model_id": "0cbb3151aef24f2ca8855305c45af40a",
       "version_major": 2,
       "version_minor": 0
      },
      "text/plain": [
       "  0%|          | 0/53 [00:00<?, ?it/s]"
      ]
     },
     "metadata": {},
     "output_type": "display_data"
    },
    {
     "data": {
      "application/vnd.jupyter.widget-view+json": {
       "model_id": "1f1b1c8623e94c9ca9f9eaa923eac0e3",
       "version_major": 2,
       "version_minor": 0
      },
      "text/plain": [
       "  0%|          | 0/53 [00:00<?, ?it/s]"
      ]
     },
     "metadata": {},
     "output_type": "display_data"
    },
    {
     "data": {
      "application/vnd.jupyter.widget-view+json": {
       "model_id": "63f4decb26044285b1b2cebe0d47e614",
       "version_major": 2,
       "version_minor": 0
      },
      "text/plain": [
       "  0%|          | 0/53 [00:00<?, ?it/s]"
      ]
     },
     "metadata": {},
     "output_type": "display_data"
    },
    {
     "data": {
      "application/vnd.jupyter.widget-view+json": {
       "model_id": "c518944cdfee4cc9a791d68a55e958c4",
       "version_major": 2,
       "version_minor": 0
      },
      "text/plain": [
       "  0%|          | 0/53 [00:00<?, ?it/s]"
      ]
     },
     "metadata": {},
     "output_type": "display_data"
    },
    {
     "data": {
      "application/vnd.jupyter.widget-view+json": {
       "model_id": "319404d33f704c7c9448a57b2980ae93",
       "version_major": 2,
       "version_minor": 0
      },
      "text/plain": [
       "  0%|          | 0/53 [00:00<?, ?it/s]"
      ]
     },
     "metadata": {},
     "output_type": "display_data"
    },
    {
     "data": {
      "application/vnd.jupyter.widget-view+json": {
       "model_id": "1fcfd7ed71a74fc2a7bc847d37bd3342",
       "version_major": 2,
       "version_minor": 0
      },
      "text/plain": [
       "  0%|          | 0/53 [00:00<?, ?it/s]"
      ]
     },
     "metadata": {},
     "output_type": "display_data"
    },
    {
     "data": {
      "application/vnd.jupyter.widget-view+json": {
       "model_id": "11cff9f7e35a4408b6808b539a20f410",
       "version_major": 2,
       "version_minor": 0
      },
      "text/plain": [
       "  0%|          | 0/53 [00:00<?, ?it/s]"
      ]
     },
     "metadata": {},
     "output_type": "display_data"
    },
    {
     "data": {
      "application/vnd.jupyter.widget-view+json": {
       "model_id": "f84fa16b8ef04c9a86c600596e324112",
       "version_major": 2,
       "version_minor": 0
      },
      "text/plain": [
       "  0%|          | 0/53 [00:00<?, ?it/s]"
      ]
     },
     "metadata": {},
     "output_type": "display_data"
    },
    {
     "data": {
      "application/vnd.jupyter.widget-view+json": {
       "model_id": "e3e880b601494b11a51fd9bae61548fa",
       "version_major": 2,
       "version_minor": 0
      },
      "text/plain": [
       "  0%|          | 0/53 [00:00<?, ?it/s]"
      ]
     },
     "metadata": {},
     "output_type": "display_data"
    },
    {
     "data": {
      "application/vnd.jupyter.widget-view+json": {
       "model_id": "f648cf4e864d4cb285057a5c7fd2fb6b",
       "version_major": 2,
       "version_minor": 0
      },
      "text/plain": [
       "  0%|          | 0/53 [00:00<?, ?it/s]"
      ]
     },
     "metadata": {},
     "output_type": "display_data"
    },
    {
     "data": {
      "application/vnd.jupyter.widget-view+json": {
       "model_id": "cc251677f4584d2987506e82c787c9d8",
       "version_major": 2,
       "version_minor": 0
      },
      "text/plain": [
       "  0%|          | 0/53 [00:00<?, ?it/s]"
      ]
     },
     "metadata": {},
     "output_type": "display_data"
    },
    {
     "data": {
      "application/vnd.jupyter.widget-view+json": {
       "model_id": "0d9d50691cd64708ab2b24eacf8f983f",
       "version_major": 2,
       "version_minor": 0
      },
      "text/plain": [
       "  0%|          | 0/53 [00:00<?, ?it/s]"
      ]
     },
     "metadata": {},
     "output_type": "display_data"
    },
    {
     "data": {
      "application/vnd.jupyter.widget-view+json": {
       "model_id": "258e1accd0f647938901244fc3288fe1",
       "version_major": 2,
       "version_minor": 0
      },
      "text/plain": [
       "  0%|          | 0/53 [00:00<?, ?it/s]"
      ]
     },
     "metadata": {},
     "output_type": "display_data"
    },
    {
     "data": {
      "application/vnd.jupyter.widget-view+json": {
       "model_id": "5a0e00b5c7a6453c9ef8cce9d8676299",
       "version_major": 2,
       "version_minor": 0
      },
      "text/plain": [
       "  0%|          | 0/53 [00:00<?, ?it/s]"
      ]
     },
     "metadata": {},
     "output_type": "display_data"
    },
    {
     "data": {
      "application/vnd.jupyter.widget-view+json": {
       "model_id": "b66ee3a600ee49fdab6daeb6a6360431",
       "version_major": 2,
       "version_minor": 0
      },
      "text/plain": [
       "  0%|          | 0/53 [00:00<?, ?it/s]"
      ]
     },
     "metadata": {},
     "output_type": "display_data"
    },
    {
     "data": {
      "application/vnd.jupyter.widget-view+json": {
       "model_id": "e539031221bd410897d0d2d4c967fba8",
       "version_major": 2,
       "version_minor": 0
      },
      "text/plain": [
       "  0%|          | 0/53 [00:00<?, ?it/s]"
      ]
     },
     "metadata": {},
     "output_type": "display_data"
    },
    {
     "data": {
      "application/vnd.jupyter.widget-view+json": {
       "model_id": "568f9039e7284b068ee5edba6c7bc036",
       "version_major": 2,
       "version_minor": 0
      },
      "text/plain": [
       "  0%|          | 0/53 [00:00<?, ?it/s]"
      ]
     },
     "metadata": {},
     "output_type": "display_data"
    },
    {
     "data": {
      "application/vnd.jupyter.widget-view+json": {
       "model_id": "18247c7b8a114210af12957bf5cc11ea",
       "version_major": 2,
       "version_minor": 0
      },
      "text/plain": [
       "  0%|          | 0/53 [00:00<?, ?it/s]"
      ]
     },
     "metadata": {},
     "output_type": "display_data"
    },
    {
     "data": {
      "application/vnd.jupyter.widget-view+json": {
       "model_id": "67dc953cb7814c349b0966f230cbe477",
       "version_major": 2,
       "version_minor": 0
      },
      "text/plain": [
       "  0%|          | 0/53 [00:00<?, ?it/s]"
      ]
     },
     "metadata": {},
     "output_type": "display_data"
    },
    {
     "data": {
      "application/vnd.jupyter.widget-view+json": {
       "model_id": "813623af5d6445b49d21a2c570c7fdb8",
       "version_major": 2,
       "version_minor": 0
      },
      "text/plain": [
       "  0%|          | 0/53 [00:00<?, ?it/s]"
      ]
     },
     "metadata": {},
     "output_type": "display_data"
    },
    {
     "data": {
      "application/vnd.jupyter.widget-view+json": {
       "model_id": "07b40a748cc04b539109251ab965abbe",
       "version_major": 2,
       "version_minor": 0
      },
      "text/plain": [
       "  0%|          | 0/53 [00:00<?, ?it/s]"
      ]
     },
     "metadata": {},
     "output_type": "display_data"
    },
    {
     "data": {
      "text/html": [
       "Waiting for W&B process to finish... <strong style=\"color:green\">(success).</strong>"
      ],
      "text/plain": [
       "<IPython.core.display.HTML object>"
      ]
     },
     "metadata": {},
     "output_type": "display_data"
    },
    {
     "data": {
      "application/vnd.jupyter.widget-view+json": {
       "model_id": "1303688165794996a30ecb217bcbf6d5",
       "version_major": 2,
       "version_minor": 0
      },
      "text/plain": [
       "VBox(children=(Label(value='0.021 MB of 0.021 MB uploaded (0.000 MB deduped)\\r'), FloatProgress(value=0.970742…"
      ]
     },
     "metadata": {},
     "output_type": "display_data"
    },
    {
     "data": {
      "text/html": [
       "<style>\n",
       "    table.wandb td:nth-child(1) { padding: 0 10px; text-align: left ; width: auto;} td:nth-child(2) {text-align: left ; width: 100%}\n",
       "    .wandb-row { display: flex; flex-direction: row; flex-wrap: wrap; justify-content: flex-start; width: 100% }\n",
       "    .wandb-col { display: flex; flex-direction: column; flex-basis: 100%; flex: 1; padding: 10px; }\n",
       "    </style>\n",
       "<div class=\"wandb-row\"><div class=\"wandb-col\"><h3>Run history:</h3><br/><table class=\"wandb\"><tr><td>batch_loss</td><td>█▂▁▃▂▂▁▂▂▁▁▁▂▁▂▂▁▁▁▃▁▁▁▁▃▂▂▁▁▁▂▂▂▁▁▃▃▂▂▂</td></tr><tr><td>epoch</td><td>▁▁▁▁▂▂▂▂▂▃▃▃▃▃▃▄▄▄▄▄▅▅▅▅▅▅▆▆▆▆▆▆▇▇▇▇▇███</td></tr><tr><td>loss</td><td>█▁▁▁▁▁▁▁▁▁▁▁▁▁▁▁▁▁▁▁▁▁▁▁▁▁▁▁▁▁▁▁▁▁▁▁▁▁▁▁</td></tr></table><br/></div><div class=\"wandb-col\"><h3>Run summary:</h3><br/><table class=\"wandb\"><tr><td>batch_loss</td><td>6.34175</td></tr><tr><td>epoch</td><td>49</td></tr><tr><td>loss</td><td>16.52381</td></tr></table><br/></div></div>"
      ],
      "text/plain": [
       "<IPython.core.display.HTML object>"
      ]
     },
     "metadata": {},
     "output_type": "display_data"
    },
    {
     "data": {
      "text/html": [
       " View run <strong style=\"color:#cdcd00\">effortless-sweep-8</strong> at: <a href='https://wandb.ai/mldd23/selfie-autoencoder_v2/runs/uxsk6xw1' target=\"_blank\">https://wandb.ai/mldd23/selfie-autoencoder_v2/runs/uxsk6xw1</a><br/>Synced 5 W&B file(s), 0 media file(s), 0 artifact file(s) and 0 other file(s)"
      ],
      "text/plain": [
       "<IPython.core.display.HTML object>"
      ]
     },
     "metadata": {},
     "output_type": "display_data"
    },
    {
     "data": {
      "text/html": [
       "Find logs at: <code>./wandb/run-20230531_201523-uxsk6xw1/logs</code>"
      ],
      "text/plain": [
       "<IPython.core.display.HTML object>"
      ]
     },
     "metadata": {},
     "output_type": "display_data"
    },
    {
     "name": "stderr",
     "output_type": "stream",
     "text": [
      "\u001b[34m\u001b[1mwandb\u001b[0m: Agent Starting Run: 3tm4ke7i with config:\n",
      "\u001b[34m\u001b[1mwandb\u001b[0m: \tbatch_size: 48\n",
      "\u001b[34m\u001b[1mwandb\u001b[0m: \tdrop_prob: 0.1\n",
      "\u001b[34m\u001b[1mwandb\u001b[0m: \temb_size: 128\n",
      "\u001b[34m\u001b[1mwandb\u001b[0m: \tencoding_size: 64\n",
      "\u001b[34m\u001b[1mwandb\u001b[0m: \tepochs: 50\n",
      "\u001b[34m\u001b[1mwandb\u001b[0m: \tlearning_rate: 0.031309360704805965\n",
      "\u001b[34m\u001b[1mwandb\u001b[0m: \tnum_layers: 3\n",
      "Failed to detect the name of this notebook, you can set it manually with the WANDB_NOTEBOOK_NAME environment variable to enable code saving.\n"
     ]
    },
    {
     "data": {
      "text/html": [
       "Tracking run with wandb version 0.15.3"
      ],
      "text/plain": [
       "<IPython.core.display.HTML object>"
      ]
     },
     "metadata": {},
     "output_type": "display_data"
    },
    {
     "data": {
      "text/html": [
       "Run data is saved locally in <code>/home/anton/mldd23_project1/wandb/run-20230531_202943-3tm4ke7i</code>"
      ],
      "text/plain": [
       "<IPython.core.display.HTML object>"
      ]
     },
     "metadata": {},
     "output_type": "display_data"
    },
    {
     "data": {
      "text/html": [
       "Syncing run <strong><a href='https://wandb.ai/mldd23/selfie-autoencoder_v2/runs/3tm4ke7i' target=\"_blank\">summer-sweep-9</a></strong> to <a href='https://wandb.ai/mldd23/selfie-autoencoder_v2' target=\"_blank\">Weights & Biases</a> (<a href='https://wandb.me/run' target=\"_blank\">docs</a>)<br/>Sweep page: <a href='https://wandb.ai/mldd23/selfie-autoencoder_v2/sweeps/7pj6cwfi' target=\"_blank\">https://wandb.ai/mldd23/selfie-autoencoder_v2/sweeps/7pj6cwfi</a>"
      ],
      "text/plain": [
       "<IPython.core.display.HTML object>"
      ]
     },
     "metadata": {},
     "output_type": "display_data"
    },
    {
     "data": {
      "text/html": [
       " View project at <a href='https://wandb.ai/mldd23/selfie-autoencoder_v2' target=\"_blank\">https://wandb.ai/mldd23/selfie-autoencoder_v2</a>"
      ],
      "text/plain": [
       "<IPython.core.display.HTML object>"
      ]
     },
     "metadata": {},
     "output_type": "display_data"
    },
    {
     "data": {
      "text/html": [
       " View sweep at <a href='https://wandb.ai/mldd23/selfie-autoencoder_v2/sweeps/7pj6cwfi' target=\"_blank\">https://wandb.ai/mldd23/selfie-autoencoder_v2/sweeps/7pj6cwfi</a>"
      ],
      "text/plain": [
       "<IPython.core.display.HTML object>"
      ]
     },
     "metadata": {},
     "output_type": "display_data"
    },
    {
     "data": {
      "text/html": [
       " View run at <a href='https://wandb.ai/mldd23/selfie-autoencoder_v2/runs/3tm4ke7i' target=\"_blank\">https://wandb.ai/mldd23/selfie-autoencoder_v2/runs/3tm4ke7i</a>"
      ],
      "text/plain": [
       "<IPython.core.display.HTML object>"
      ]
     },
     "metadata": {},
     "output_type": "display_data"
    },
    {
     "data": {
      "application/vnd.jupyter.widget-view+json": {
       "model_id": "c67715f75c584aaeb8bd9de697616e3d",
       "version_major": 2,
       "version_minor": 0
      },
      "text/plain": [
       "  0%|          | 0/50 [00:00<?, ?it/s]"
      ]
     },
     "metadata": {},
     "output_type": "display_data"
    },
    {
     "data": {
      "application/vnd.jupyter.widget-view+json": {
       "model_id": "a49ac1890c134c4c98240dfffc2de277",
       "version_major": 2,
       "version_minor": 0
      },
      "text/plain": [
       "  0%|          | 0/187 [00:00<?, ?it/s]"
      ]
     },
     "metadata": {},
     "output_type": "display_data"
    },
    {
     "data": {
      "application/vnd.jupyter.widget-view+json": {
       "model_id": "4320db84c46e43b197f56846bfde2222",
       "version_major": 2,
       "version_minor": 0
      },
      "text/plain": [
       "  0%|          | 0/187 [00:00<?, ?it/s]"
      ]
     },
     "metadata": {},
     "output_type": "display_data"
    },
    {
     "data": {
      "application/vnd.jupyter.widget-view+json": {
       "model_id": "0e7cd391bf8740b7a8b969a8a2e2aaaa",
       "version_major": 2,
       "version_minor": 0
      },
      "text/plain": [
       "  0%|          | 0/187 [00:00<?, ?it/s]"
      ]
     },
     "metadata": {},
     "output_type": "display_data"
    },
    {
     "data": {
      "application/vnd.jupyter.widget-view+json": {
       "model_id": "135682babaae4404abac6282a6732a08",
       "version_major": 2,
       "version_minor": 0
      },
      "text/plain": [
       "  0%|          | 0/187 [00:00<?, ?it/s]"
      ]
     },
     "metadata": {},
     "output_type": "display_data"
    },
    {
     "data": {
      "application/vnd.jupyter.widget-view+json": {
       "model_id": "32f6af42f61547438684b044c6484e52",
       "version_major": 2,
       "version_minor": 0
      },
      "text/plain": [
       "  0%|          | 0/187 [00:00<?, ?it/s]"
      ]
     },
     "metadata": {},
     "output_type": "display_data"
    },
    {
     "data": {
      "application/vnd.jupyter.widget-view+json": {
       "model_id": "3699fe61c42247f6935589b1c281a81f",
       "version_major": 2,
       "version_minor": 0
      },
      "text/plain": [
       "  0%|          | 0/187 [00:00<?, ?it/s]"
      ]
     },
     "metadata": {},
     "output_type": "display_data"
    },
    {
     "data": {
      "application/vnd.jupyter.widget-view+json": {
       "model_id": "e731b4c75b284f9a95cc80db62c6bfcc",
       "version_major": 2,
       "version_minor": 0
      },
      "text/plain": [
       "  0%|          | 0/187 [00:00<?, ?it/s]"
      ]
     },
     "metadata": {},
     "output_type": "display_data"
    },
    {
     "data": {
      "application/vnd.jupyter.widget-view+json": {
       "model_id": "fe5192d0b61e4420a425cd6a75106d28",
       "version_major": 2,
       "version_minor": 0
      },
      "text/plain": [
       "  0%|          | 0/187 [00:00<?, ?it/s]"
      ]
     },
     "metadata": {},
     "output_type": "display_data"
    },
    {
     "data": {
      "application/vnd.jupyter.widget-view+json": {
       "model_id": "b3690424480d4a668745044e32143ee6",
       "version_major": 2,
       "version_minor": 0
      },
      "text/plain": [
       "  0%|          | 0/187 [00:00<?, ?it/s]"
      ]
     },
     "metadata": {},
     "output_type": "display_data"
    },
    {
     "data": {
      "application/vnd.jupyter.widget-view+json": {
       "model_id": "aa40d38d735e4932ac819b1e66a7941c",
       "version_major": 2,
       "version_minor": 0
      },
      "text/plain": [
       "  0%|          | 0/187 [00:00<?, ?it/s]"
      ]
     },
     "metadata": {},
     "output_type": "display_data"
    },
    {
     "data": {
      "application/vnd.jupyter.widget-view+json": {
       "model_id": "4d3decb8e62e44c585ad91dc61d927ae",
       "version_major": 2,
       "version_minor": 0
      },
      "text/plain": [
       "  0%|          | 0/187 [00:00<?, ?it/s]"
      ]
     },
     "metadata": {},
     "output_type": "display_data"
    },
    {
     "data": {
      "application/vnd.jupyter.widget-view+json": {
       "model_id": "c182c5fe20c548cbbd3388589acfef52",
       "version_major": 2,
       "version_minor": 0
      },
      "text/plain": [
       "  0%|          | 0/187 [00:00<?, ?it/s]"
      ]
     },
     "metadata": {},
     "output_type": "display_data"
    },
    {
     "data": {
      "application/vnd.jupyter.widget-view+json": {
       "model_id": "b5537c65094642b09d1079b1aa1b0ae6",
       "version_major": 2,
       "version_minor": 0
      },
      "text/plain": [
       "  0%|          | 0/187 [00:00<?, ?it/s]"
      ]
     },
     "metadata": {},
     "output_type": "display_data"
    },
    {
     "data": {
      "application/vnd.jupyter.widget-view+json": {
       "model_id": "3c9e7451da3f4ba5b0025af9885c0980",
       "version_major": 2,
       "version_minor": 0
      },
      "text/plain": [
       "  0%|          | 0/187 [00:00<?, ?it/s]"
      ]
     },
     "metadata": {},
     "output_type": "display_data"
    },
    {
     "data": {
      "application/vnd.jupyter.widget-view+json": {
       "model_id": "aa3743ce2f0e4801a67e2ae5ef0d38be",
       "version_major": 2,
       "version_minor": 0
      },
      "text/plain": [
       "  0%|          | 0/187 [00:00<?, ?it/s]"
      ]
     },
     "metadata": {},
     "output_type": "display_data"
    },
    {
     "data": {
      "application/vnd.jupyter.widget-view+json": {
       "model_id": "95a10283b54a47719ecc21299f68fc53",
       "version_major": 2,
       "version_minor": 0
      },
      "text/plain": [
       "  0%|          | 0/187 [00:00<?, ?it/s]"
      ]
     },
     "metadata": {},
     "output_type": "display_data"
    },
    {
     "data": {
      "application/vnd.jupyter.widget-view+json": {
       "model_id": "ae0228e59a724f65abcc4a93ce55729c",
       "version_major": 2,
       "version_minor": 0
      },
      "text/plain": [
       "  0%|          | 0/187 [00:00<?, ?it/s]"
      ]
     },
     "metadata": {},
     "output_type": "display_data"
    },
    {
     "data": {
      "application/vnd.jupyter.widget-view+json": {
       "model_id": "bb5976ba228942dabff1cb7b6d56b470",
       "version_major": 2,
       "version_minor": 0
      },
      "text/plain": [
       "  0%|          | 0/187 [00:00<?, ?it/s]"
      ]
     },
     "metadata": {},
     "output_type": "display_data"
    },
    {
     "data": {
      "application/vnd.jupyter.widget-view+json": {
       "model_id": "46c1413e875849da803cf34f0b4877d9",
       "version_major": 2,
       "version_minor": 0
      },
      "text/plain": [
       "  0%|          | 0/187 [00:00<?, ?it/s]"
      ]
     },
     "metadata": {},
     "output_type": "display_data"
    },
    {
     "data": {
      "application/vnd.jupyter.widget-view+json": {
       "model_id": "6f89458dbe1c4e9694d4de12c67af7a7",
       "version_major": 2,
       "version_minor": 0
      },
      "text/plain": [
       "  0%|          | 0/187 [00:00<?, ?it/s]"
      ]
     },
     "metadata": {},
     "output_type": "display_data"
    },
    {
     "data": {
      "application/vnd.jupyter.widget-view+json": {
       "model_id": "4f2238ee75b240808e3c26e59f8a25a8",
       "version_major": 2,
       "version_minor": 0
      },
      "text/plain": [
       "  0%|          | 0/187 [00:00<?, ?it/s]"
      ]
     },
     "metadata": {},
     "output_type": "display_data"
    },
    {
     "data": {
      "application/vnd.jupyter.widget-view+json": {
       "model_id": "2f0c93004b354946b63239aa1f56c447",
       "version_major": 2,
       "version_minor": 0
      },
      "text/plain": [
       "  0%|          | 0/187 [00:00<?, ?it/s]"
      ]
     },
     "metadata": {},
     "output_type": "display_data"
    },
    {
     "data": {
      "application/vnd.jupyter.widget-view+json": {
       "model_id": "dc041ed07f584280a2074cf7b466e210",
       "version_major": 2,
       "version_minor": 0
      },
      "text/plain": [
       "  0%|          | 0/187 [00:00<?, ?it/s]"
      ]
     },
     "metadata": {},
     "output_type": "display_data"
    },
    {
     "data": {
      "application/vnd.jupyter.widget-view+json": {
       "model_id": "f1b12d54f48c4e7ab59723ba822e7816",
       "version_major": 2,
       "version_minor": 0
      },
      "text/plain": [
       "  0%|          | 0/187 [00:00<?, ?it/s]"
      ]
     },
     "metadata": {},
     "output_type": "display_data"
    },
    {
     "data": {
      "application/vnd.jupyter.widget-view+json": {
       "model_id": "8eac01e87b354a53a369e7dd4018ef6f",
       "version_major": 2,
       "version_minor": 0
      },
      "text/plain": [
       "  0%|          | 0/187 [00:00<?, ?it/s]"
      ]
     },
     "metadata": {},
     "output_type": "display_data"
    },
    {
     "data": {
      "application/vnd.jupyter.widget-view+json": {
       "model_id": "330ea03c643d4ed0b41adf3904c48768",
       "version_major": 2,
       "version_minor": 0
      },
      "text/plain": [
       "  0%|          | 0/187 [00:00<?, ?it/s]"
      ]
     },
     "metadata": {},
     "output_type": "display_data"
    },
    {
     "data": {
      "application/vnd.jupyter.widget-view+json": {
       "model_id": "3e40d559e90d4f7cae112d6b65018752",
       "version_major": 2,
       "version_minor": 0
      },
      "text/plain": [
       "  0%|          | 0/187 [00:00<?, ?it/s]"
      ]
     },
     "metadata": {},
     "output_type": "display_data"
    },
    {
     "data": {
      "application/vnd.jupyter.widget-view+json": {
       "model_id": "38e6cb1fdbc141658ad35fd8a8eb791b",
       "version_major": 2,
       "version_minor": 0
      },
      "text/plain": [
       "  0%|          | 0/187 [00:00<?, ?it/s]"
      ]
     },
     "metadata": {},
     "output_type": "display_data"
    },
    {
     "data": {
      "application/vnd.jupyter.widget-view+json": {
       "model_id": "ca2b1da576d2421e9dccd3749dc6a665",
       "version_major": 2,
       "version_minor": 0
      },
      "text/plain": [
       "  0%|          | 0/187 [00:00<?, ?it/s]"
      ]
     },
     "metadata": {},
     "output_type": "display_data"
    },
    {
     "data": {
      "application/vnd.jupyter.widget-view+json": {
       "model_id": "e45fa73b328946b9b81703a664b7cf0d",
       "version_major": 2,
       "version_minor": 0
      },
      "text/plain": [
       "  0%|          | 0/187 [00:00<?, ?it/s]"
      ]
     },
     "metadata": {},
     "output_type": "display_data"
    },
    {
     "data": {
      "application/vnd.jupyter.widget-view+json": {
       "model_id": "efd20bc301b14923a9acc4fe8aaa38cc",
       "version_major": 2,
       "version_minor": 0
      },
      "text/plain": [
       "  0%|          | 0/187 [00:00<?, ?it/s]"
      ]
     },
     "metadata": {},
     "output_type": "display_data"
    },
    {
     "data": {
      "application/vnd.jupyter.widget-view+json": {
       "model_id": "6c09c411c593456082ba3d35b2320b4a",
       "version_major": 2,
       "version_minor": 0
      },
      "text/plain": [
       "  0%|          | 0/187 [00:00<?, ?it/s]"
      ]
     },
     "metadata": {},
     "output_type": "display_data"
    },
    {
     "data": {
      "application/vnd.jupyter.widget-view+json": {
       "model_id": "ce3c68870d584f07b6570b927dc0c00f",
       "version_major": 2,
       "version_minor": 0
      },
      "text/plain": [
       "  0%|          | 0/187 [00:00<?, ?it/s]"
      ]
     },
     "metadata": {},
     "output_type": "display_data"
    },
    {
     "data": {
      "application/vnd.jupyter.widget-view+json": {
       "model_id": "4470f7e0ae214230961b181ae22596e1",
       "version_major": 2,
       "version_minor": 0
      },
      "text/plain": [
       "  0%|          | 0/187 [00:00<?, ?it/s]"
      ]
     },
     "metadata": {},
     "output_type": "display_data"
    },
    {
     "data": {
      "application/vnd.jupyter.widget-view+json": {
       "model_id": "92163adba6f04c299c20252be726597c",
       "version_major": 2,
       "version_minor": 0
      },
      "text/plain": [
       "  0%|          | 0/187 [00:00<?, ?it/s]"
      ]
     },
     "metadata": {},
     "output_type": "display_data"
    },
    {
     "data": {
      "application/vnd.jupyter.widget-view+json": {
       "model_id": "815ad888fa25438194ff402f2fa80355",
       "version_major": 2,
       "version_minor": 0
      },
      "text/plain": [
       "  0%|          | 0/187 [00:00<?, ?it/s]"
      ]
     },
     "metadata": {},
     "output_type": "display_data"
    },
    {
     "data": {
      "application/vnd.jupyter.widget-view+json": {
       "model_id": "dfea2be9dede4a868cae62cb15b65287",
       "version_major": 2,
       "version_minor": 0
      },
      "text/plain": [
       "  0%|          | 0/187 [00:00<?, ?it/s]"
      ]
     },
     "metadata": {},
     "output_type": "display_data"
    },
    {
     "data": {
      "application/vnd.jupyter.widget-view+json": {
       "model_id": "07d8c71a725f4401aa646a7703ea673a",
       "version_major": 2,
       "version_minor": 0
      },
      "text/plain": [
       "  0%|          | 0/187 [00:00<?, ?it/s]"
      ]
     },
     "metadata": {},
     "output_type": "display_data"
    },
    {
     "data": {
      "application/vnd.jupyter.widget-view+json": {
       "model_id": "5966771f7f6c42d6b7a38255b4eb4c2a",
       "version_major": 2,
       "version_minor": 0
      },
      "text/plain": [
       "  0%|          | 0/187 [00:00<?, ?it/s]"
      ]
     },
     "metadata": {},
     "output_type": "display_data"
    },
    {
     "data": {
      "application/vnd.jupyter.widget-view+json": {
       "model_id": "5659d8fddb504313b33485ee616e8580",
       "version_major": 2,
       "version_minor": 0
      },
      "text/plain": [
       "  0%|          | 0/187 [00:00<?, ?it/s]"
      ]
     },
     "metadata": {},
     "output_type": "display_data"
    },
    {
     "data": {
      "application/vnd.jupyter.widget-view+json": {
       "model_id": "2ff9f544568e408b99862e18f79560da",
       "version_major": 2,
       "version_minor": 0
      },
      "text/plain": [
       "  0%|          | 0/187 [00:00<?, ?it/s]"
      ]
     },
     "metadata": {},
     "output_type": "display_data"
    },
    {
     "data": {
      "application/vnd.jupyter.widget-view+json": {
       "model_id": "2e640a8ec17f43c99854b4c09f719348",
       "version_major": 2,
       "version_minor": 0
      },
      "text/plain": [
       "  0%|          | 0/187 [00:00<?, ?it/s]"
      ]
     },
     "metadata": {},
     "output_type": "display_data"
    },
    {
     "data": {
      "application/vnd.jupyter.widget-view+json": {
       "model_id": "2a45fa8fb6b4432883aa08190bf338dd",
       "version_major": 2,
       "version_minor": 0
      },
      "text/plain": [
       "  0%|          | 0/187 [00:00<?, ?it/s]"
      ]
     },
     "metadata": {},
     "output_type": "display_data"
    },
    {
     "data": {
      "application/vnd.jupyter.widget-view+json": {
       "model_id": "1ec970e63bff41b49c474421b7e66eb3",
       "version_major": 2,
       "version_minor": 0
      },
      "text/plain": [
       "  0%|          | 0/187 [00:00<?, ?it/s]"
      ]
     },
     "metadata": {},
     "output_type": "display_data"
    },
    {
     "data": {
      "application/vnd.jupyter.widget-view+json": {
       "model_id": "fdfe11a685a74db5a202b49fb824ff77",
       "version_major": 2,
       "version_minor": 0
      },
      "text/plain": [
       "  0%|          | 0/187 [00:00<?, ?it/s]"
      ]
     },
     "metadata": {},
     "output_type": "display_data"
    },
    {
     "data": {
      "application/vnd.jupyter.widget-view+json": {
       "model_id": "a2b760ab6b104409be16fd2166618819",
       "version_major": 2,
       "version_minor": 0
      },
      "text/plain": [
       "  0%|          | 0/187 [00:00<?, ?it/s]"
      ]
     },
     "metadata": {},
     "output_type": "display_data"
    },
    {
     "data": {
      "application/vnd.jupyter.widget-view+json": {
       "model_id": "a78807e07195443195d8a7c922ba0934",
       "version_major": 2,
       "version_minor": 0
      },
      "text/plain": [
       "  0%|          | 0/187 [00:00<?, ?it/s]"
      ]
     },
     "metadata": {},
     "output_type": "display_data"
    },
    {
     "data": {
      "application/vnd.jupyter.widget-view+json": {
       "model_id": "5a6fe6ec7e0d42d48feee0c7f208adbf",
       "version_major": 2,
       "version_minor": 0
      },
      "text/plain": [
       "  0%|          | 0/187 [00:00<?, ?it/s]"
      ]
     },
     "metadata": {},
     "output_type": "display_data"
    },
    {
     "data": {
      "application/vnd.jupyter.widget-view+json": {
       "model_id": "4b59eb3edb3c45a0a1bc3bd2072b7f09",
       "version_major": 2,
       "version_minor": 0
      },
      "text/plain": [
       "  0%|          | 0/187 [00:00<?, ?it/s]"
      ]
     },
     "metadata": {},
     "output_type": "display_data"
    },
    {
     "data": {
      "application/vnd.jupyter.widget-view+json": {
       "model_id": "437f96d5fe8342eca267e0349ddfd060",
       "version_major": 2,
       "version_minor": 0
      },
      "text/plain": [
       "  0%|          | 0/187 [00:00<?, ?it/s]"
      ]
     },
     "metadata": {},
     "output_type": "display_data"
    },
    {
     "data": {
      "text/html": [
       "Waiting for W&B process to finish... <strong style=\"color:green\">(success).</strong>"
      ],
      "text/plain": [
       "<IPython.core.display.HTML object>"
      ]
     },
     "metadata": {},
     "output_type": "display_data"
    },
    {
     "data": {
      "application/vnd.jupyter.widget-view+json": {
       "model_id": "50a899b0053d45a1b95efceece042385",
       "version_major": 2,
       "version_minor": 0
      },
      "text/plain": [
       "VBox(children=(Label(value='0.003 MB of 0.021 MB uploaded (0.000 MB deduped)\\r'), FloatProgress(value=0.128668…"
      ]
     },
     "metadata": {},
     "output_type": "display_data"
    },
    {
     "data": {
      "text/html": [
       "<style>\n",
       "    table.wandb td:nth-child(1) { padding: 0 10px; text-align: left ; width: auto;} td:nth-child(2) {text-align: left ; width: 100%}\n",
       "    .wandb-row { display: flex; flex-direction: row; flex-wrap: wrap; justify-content: flex-start; width: 100% }\n",
       "    .wandb-col { display: flex; flex-direction: column; flex-basis: 100%; flex: 1; padding: 10px; }\n",
       "    </style>\n",
       "<div class=\"wandb-row\"><div class=\"wandb-col\"><h3>Run history:</h3><br/><table class=\"wandb\"><tr><td>batch_loss</td><td>▆▄▄▄▅▅▅▂▆▅▄▄▅▆▆▃▄▄▃▄▄▅▇▃▄▄▄▄▃▅▅▁█▅▅▃▅▃▅▄</td></tr><tr><td>epoch</td><td>▁▁▁▁▂▂▂▂▂▃▃▃▃▃▃▄▄▄▄▄▅▅▅▅▅▅▆▆▆▆▆▆▇▇▇▇▇███</td></tr><tr><td>loss</td><td>█▁▁▁▁▁▁▁▁▁▁▁▁▁▁▁▁▁▁▁▁▁▁▁▁▁▁▁▁▁▁▁▁▁▁▁▁▁▁▁</td></tr></table><br/></div><div class=\"wandb-col\"><h3>Run summary:</h3><br/><table class=\"wandb\"><tr><td>batch_loss</td><td>1.86385</td></tr><tr><td>epoch</td><td>49</td></tr><tr><td>loss</td><td>1.97925</td></tr></table><br/></div></div>"
      ],
      "text/plain": [
       "<IPython.core.display.HTML object>"
      ]
     },
     "metadata": {},
     "output_type": "display_data"
    },
    {
     "data": {
      "text/html": [
       " View run <strong style=\"color:#cdcd00\">summer-sweep-9</strong> at: <a href='https://wandb.ai/mldd23/selfie-autoencoder_v2/runs/3tm4ke7i' target=\"_blank\">https://wandb.ai/mldd23/selfie-autoencoder_v2/runs/3tm4ke7i</a><br/>Synced 5 W&B file(s), 0 media file(s), 0 artifact file(s) and 0 other file(s)"
      ],
      "text/plain": [
       "<IPython.core.display.HTML object>"
      ]
     },
     "metadata": {},
     "output_type": "display_data"
    },
    {
     "data": {
      "text/html": [
       "Find logs at: <code>./wandb/run-20230531_202943-3tm4ke7i/logs</code>"
      ],
      "text/plain": [
       "<IPython.core.display.HTML object>"
      ]
     },
     "metadata": {},
     "output_type": "display_data"
    },
    {
     "name": "stderr",
     "output_type": "stream",
     "text": [
      "\u001b[34m\u001b[1mwandb\u001b[0m: Agent Starting Run: tftx8b7l with config:\n",
      "\u001b[34m\u001b[1mwandb\u001b[0m: \tbatch_size: 40\n",
      "\u001b[34m\u001b[1mwandb\u001b[0m: \tdrop_prob: 0\n",
      "\u001b[34m\u001b[1mwandb\u001b[0m: \temb_size: 64\n",
      "\u001b[34m\u001b[1mwandb\u001b[0m: \tencoding_size: 256\n",
      "\u001b[34m\u001b[1mwandb\u001b[0m: \tepochs: 50\n",
      "\u001b[34m\u001b[1mwandb\u001b[0m: \tlearning_rate: 0.05535549806508222\n",
      "\u001b[34m\u001b[1mwandb\u001b[0m: \tnum_layers: 3\n",
      "Failed to detect the name of this notebook, you can set it manually with the WANDB_NOTEBOOK_NAME environment variable to enable code saving.\n"
     ]
    },
    {
     "data": {
      "text/html": [
       "Tracking run with wandb version 0.15.3"
      ],
      "text/plain": [
       "<IPython.core.display.HTML object>"
      ]
     },
     "metadata": {},
     "output_type": "display_data"
    },
    {
     "data": {
      "text/html": [
       "Run data is saved locally in <code>/home/anton/mldd23_project1/wandb/run-20230531_204822-tftx8b7l</code>"
      ],
      "text/plain": [
       "<IPython.core.display.HTML object>"
      ]
     },
     "metadata": {},
     "output_type": "display_data"
    },
    {
     "data": {
      "text/html": [
       "Syncing run <strong><a href='https://wandb.ai/mldd23/selfie-autoencoder_v2/runs/tftx8b7l' target=\"_blank\">worldly-sweep-10</a></strong> to <a href='https://wandb.ai/mldd23/selfie-autoencoder_v2' target=\"_blank\">Weights & Biases</a> (<a href='https://wandb.me/run' target=\"_blank\">docs</a>)<br/>Sweep page: <a href='https://wandb.ai/mldd23/selfie-autoencoder_v2/sweeps/7pj6cwfi' target=\"_blank\">https://wandb.ai/mldd23/selfie-autoencoder_v2/sweeps/7pj6cwfi</a>"
      ],
      "text/plain": [
       "<IPython.core.display.HTML object>"
      ]
     },
     "metadata": {},
     "output_type": "display_data"
    },
    {
     "data": {
      "text/html": [
       " View project at <a href='https://wandb.ai/mldd23/selfie-autoencoder_v2' target=\"_blank\">https://wandb.ai/mldd23/selfie-autoencoder_v2</a>"
      ],
      "text/plain": [
       "<IPython.core.display.HTML object>"
      ]
     },
     "metadata": {},
     "output_type": "display_data"
    },
    {
     "data": {
      "text/html": [
       " View sweep at <a href='https://wandb.ai/mldd23/selfie-autoencoder_v2/sweeps/7pj6cwfi' target=\"_blank\">https://wandb.ai/mldd23/selfie-autoencoder_v2/sweeps/7pj6cwfi</a>"
      ],
      "text/plain": [
       "<IPython.core.display.HTML object>"
      ]
     },
     "metadata": {},
     "output_type": "display_data"
    },
    {
     "data": {
      "text/html": [
       " View run at <a href='https://wandb.ai/mldd23/selfie-autoencoder_v2/runs/tftx8b7l' target=\"_blank\">https://wandb.ai/mldd23/selfie-autoencoder_v2/runs/tftx8b7l</a>"
      ],
      "text/plain": [
       "<IPython.core.display.HTML object>"
      ]
     },
     "metadata": {},
     "output_type": "display_data"
    },
    {
     "data": {
      "application/vnd.jupyter.widget-view+json": {
       "model_id": "8d9341708e1a41eeb21114d60e0e3260",
       "version_major": 2,
       "version_minor": 0
      },
      "text/plain": [
       "  0%|          | 0/50 [00:00<?, ?it/s]"
      ]
     },
     "metadata": {},
     "output_type": "display_data"
    },
    {
     "data": {
      "application/vnd.jupyter.widget-view+json": {
       "model_id": "ce006455e27b49b8a3a748ca0ae9d5dc",
       "version_major": 2,
       "version_minor": 0
      },
      "text/plain": [
       "  0%|          | 0/225 [00:00<?, ?it/s]"
      ]
     },
     "metadata": {},
     "output_type": "display_data"
    },
    {
     "data": {
      "application/vnd.jupyter.widget-view+json": {
       "model_id": "2dc90a780c304f31890c6d739138c49b",
       "version_major": 2,
       "version_minor": 0
      },
      "text/plain": [
       "  0%|          | 0/225 [00:00<?, ?it/s]"
      ]
     },
     "metadata": {},
     "output_type": "display_data"
    },
    {
     "data": {
      "application/vnd.jupyter.widget-view+json": {
       "model_id": "7b67680639564a3cbfc4667e881f2c5f",
       "version_major": 2,
       "version_minor": 0
      },
      "text/plain": [
       "  0%|          | 0/225 [00:00<?, ?it/s]"
      ]
     },
     "metadata": {},
     "output_type": "display_data"
    },
    {
     "data": {
      "application/vnd.jupyter.widget-view+json": {
       "model_id": "9f59470684d24f8c973a7f1dd91f6c2e",
       "version_major": 2,
       "version_minor": 0
      },
      "text/plain": [
       "  0%|          | 0/225 [00:00<?, ?it/s]"
      ]
     },
     "metadata": {},
     "output_type": "display_data"
    },
    {
     "data": {
      "application/vnd.jupyter.widget-view+json": {
       "model_id": "d58d4688588f4cf0af017c4f5081994c",
       "version_major": 2,
       "version_minor": 0
      },
      "text/plain": [
       "  0%|          | 0/225 [00:00<?, ?it/s]"
      ]
     },
     "metadata": {},
     "output_type": "display_data"
    },
    {
     "data": {
      "application/vnd.jupyter.widget-view+json": {
       "model_id": "7a2c234864e3429086740c69997cd10f",
       "version_major": 2,
       "version_minor": 0
      },
      "text/plain": [
       "  0%|          | 0/225 [00:00<?, ?it/s]"
      ]
     },
     "metadata": {},
     "output_type": "display_data"
    },
    {
     "data": {
      "application/vnd.jupyter.widget-view+json": {
       "model_id": "957590c7ff1244f3bd6f2abc8adac73e",
       "version_major": 2,
       "version_minor": 0
      },
      "text/plain": [
       "  0%|          | 0/225 [00:00<?, ?it/s]"
      ]
     },
     "metadata": {},
     "output_type": "display_data"
    },
    {
     "data": {
      "application/vnd.jupyter.widget-view+json": {
       "model_id": "3fa8a4edfad04bc196378b174346de73",
       "version_major": 2,
       "version_minor": 0
      },
      "text/plain": [
       "  0%|          | 0/225 [00:00<?, ?it/s]"
      ]
     },
     "metadata": {},
     "output_type": "display_data"
    },
    {
     "data": {
      "application/vnd.jupyter.widget-view+json": {
       "model_id": "c1b96b7c0f904368b2dafa4fd2cbebe3",
       "version_major": 2,
       "version_minor": 0
      },
      "text/plain": [
       "  0%|          | 0/225 [00:00<?, ?it/s]"
      ]
     },
     "metadata": {},
     "output_type": "display_data"
    },
    {
     "data": {
      "application/vnd.jupyter.widget-view+json": {
       "model_id": "5a45099a4366469eb301a40a79f0703d",
       "version_major": 2,
       "version_minor": 0
      },
      "text/plain": [
       "  0%|          | 0/225 [00:00<?, ?it/s]"
      ]
     },
     "metadata": {},
     "output_type": "display_data"
    },
    {
     "data": {
      "application/vnd.jupyter.widget-view+json": {
       "model_id": "19e3bfeaa7d843f79ec110dfc1c7b858",
       "version_major": 2,
       "version_minor": 0
      },
      "text/plain": [
       "  0%|          | 0/225 [00:00<?, ?it/s]"
      ]
     },
     "metadata": {},
     "output_type": "display_data"
    },
    {
     "data": {
      "application/vnd.jupyter.widget-view+json": {
       "model_id": "d9918615c5424214961fd18006c12c4d",
       "version_major": 2,
       "version_minor": 0
      },
      "text/plain": [
       "  0%|          | 0/225 [00:00<?, ?it/s]"
      ]
     },
     "metadata": {},
     "output_type": "display_data"
    },
    {
     "data": {
      "application/vnd.jupyter.widget-view+json": {
       "model_id": "292988538bad4ebb82850877eb3a9718",
       "version_major": 2,
       "version_minor": 0
      },
      "text/plain": [
       "  0%|          | 0/225 [00:00<?, ?it/s]"
      ]
     },
     "metadata": {},
     "output_type": "display_data"
    },
    {
     "data": {
      "application/vnd.jupyter.widget-view+json": {
       "model_id": "089114e80e9f473580aed2385edc182d",
       "version_major": 2,
       "version_minor": 0
      },
      "text/plain": [
       "  0%|          | 0/225 [00:00<?, ?it/s]"
      ]
     },
     "metadata": {},
     "output_type": "display_data"
    },
    {
     "data": {
      "application/vnd.jupyter.widget-view+json": {
       "model_id": "edf4bd3793454783b964be2aea4c5592",
       "version_major": 2,
       "version_minor": 0
      },
      "text/plain": [
       "  0%|          | 0/225 [00:00<?, ?it/s]"
      ]
     },
     "metadata": {},
     "output_type": "display_data"
    },
    {
     "data": {
      "application/vnd.jupyter.widget-view+json": {
       "model_id": "6323d96f54f64634bae395ddd14935df",
       "version_major": 2,
       "version_minor": 0
      },
      "text/plain": [
       "  0%|          | 0/225 [00:00<?, ?it/s]"
      ]
     },
     "metadata": {},
     "output_type": "display_data"
    },
    {
     "data": {
      "application/vnd.jupyter.widget-view+json": {
       "model_id": "3c9ad8a5d3e24f8fa3c85b78c6949475",
       "version_major": 2,
       "version_minor": 0
      },
      "text/plain": [
       "  0%|          | 0/225 [00:00<?, ?it/s]"
      ]
     },
     "metadata": {},
     "output_type": "display_data"
    },
    {
     "data": {
      "application/vnd.jupyter.widget-view+json": {
       "model_id": "42505910361d4e4788b7ce05c5b5d6d1",
       "version_major": 2,
       "version_minor": 0
      },
      "text/plain": [
       "  0%|          | 0/225 [00:00<?, ?it/s]"
      ]
     },
     "metadata": {},
     "output_type": "display_data"
    },
    {
     "data": {
      "application/vnd.jupyter.widget-view+json": {
       "model_id": "6aaebd688114498786af4a1f256ec13e",
       "version_major": 2,
       "version_minor": 0
      },
      "text/plain": [
       "  0%|          | 0/225 [00:00<?, ?it/s]"
      ]
     },
     "metadata": {},
     "output_type": "display_data"
    },
    {
     "data": {
      "application/vnd.jupyter.widget-view+json": {
       "model_id": "2f62022d696a408d96ddb3b1da834a1a",
       "version_major": 2,
       "version_minor": 0
      },
      "text/plain": [
       "  0%|          | 0/225 [00:00<?, ?it/s]"
      ]
     },
     "metadata": {},
     "output_type": "display_data"
    },
    {
     "data": {
      "application/vnd.jupyter.widget-view+json": {
       "model_id": "6c7a52de83b44323abc91386666643ce",
       "version_major": 2,
       "version_minor": 0
      },
      "text/plain": [
       "  0%|          | 0/225 [00:00<?, ?it/s]"
      ]
     },
     "metadata": {},
     "output_type": "display_data"
    },
    {
     "data": {
      "application/vnd.jupyter.widget-view+json": {
       "model_id": "d94e9bac905e427c9c448c92fed14c36",
       "version_major": 2,
       "version_minor": 0
      },
      "text/plain": [
       "  0%|          | 0/225 [00:00<?, ?it/s]"
      ]
     },
     "metadata": {},
     "output_type": "display_data"
    },
    {
     "data": {
      "application/vnd.jupyter.widget-view+json": {
       "model_id": "d4abed1faad542e5bf6abf3478040644",
       "version_major": 2,
       "version_minor": 0
      },
      "text/plain": [
       "  0%|          | 0/225 [00:00<?, ?it/s]"
      ]
     },
     "metadata": {},
     "output_type": "display_data"
    },
    {
     "data": {
      "application/vnd.jupyter.widget-view+json": {
       "model_id": "2b5a5b31ba4a4f47b172268ff902267f",
       "version_major": 2,
       "version_minor": 0
      },
      "text/plain": [
       "  0%|          | 0/225 [00:00<?, ?it/s]"
      ]
     },
     "metadata": {},
     "output_type": "display_data"
    },
    {
     "data": {
      "application/vnd.jupyter.widget-view+json": {
       "model_id": "2eecec2486be4d43a3ef5fd1835e82c5",
       "version_major": 2,
       "version_minor": 0
      },
      "text/plain": [
       "  0%|          | 0/225 [00:00<?, ?it/s]"
      ]
     },
     "metadata": {},
     "output_type": "display_data"
    },
    {
     "data": {
      "application/vnd.jupyter.widget-view+json": {
       "model_id": "19d03f4a08334b3990e12ff9c9a19357",
       "version_major": 2,
       "version_minor": 0
      },
      "text/plain": [
       "  0%|          | 0/225 [00:00<?, ?it/s]"
      ]
     },
     "metadata": {},
     "output_type": "display_data"
    },
    {
     "data": {
      "application/vnd.jupyter.widget-view+json": {
       "model_id": "fe210e2cec584fb7a4bfd93ee8365cb5",
       "version_major": 2,
       "version_minor": 0
      },
      "text/plain": [
       "  0%|          | 0/225 [00:00<?, ?it/s]"
      ]
     },
     "metadata": {},
     "output_type": "display_data"
    },
    {
     "data": {
      "application/vnd.jupyter.widget-view+json": {
       "model_id": "78272214388b45c58b3865f9f0e379a5",
       "version_major": 2,
       "version_minor": 0
      },
      "text/plain": [
       "  0%|          | 0/225 [00:00<?, ?it/s]"
      ]
     },
     "metadata": {},
     "output_type": "display_data"
    },
    {
     "data": {
      "application/vnd.jupyter.widget-view+json": {
       "model_id": "94a552b2f2f44eed8a56845643975612",
       "version_major": 2,
       "version_minor": 0
      },
      "text/plain": [
       "  0%|          | 0/225 [00:00<?, ?it/s]"
      ]
     },
     "metadata": {},
     "output_type": "display_data"
    },
    {
     "data": {
      "application/vnd.jupyter.widget-view+json": {
       "model_id": "8f66eed59bc44ca68964a432e86da5f5",
       "version_major": 2,
       "version_minor": 0
      },
      "text/plain": [
       "  0%|          | 0/225 [00:00<?, ?it/s]"
      ]
     },
     "metadata": {},
     "output_type": "display_data"
    },
    {
     "data": {
      "application/vnd.jupyter.widget-view+json": {
       "model_id": "390ddf1929e843888b8f44c8086b0164",
       "version_major": 2,
       "version_minor": 0
      },
      "text/plain": [
       "  0%|          | 0/225 [00:00<?, ?it/s]"
      ]
     },
     "metadata": {},
     "output_type": "display_data"
    },
    {
     "data": {
      "application/vnd.jupyter.widget-view+json": {
       "model_id": "52714cc2ed8c48979bc7a562129ee086",
       "version_major": 2,
       "version_minor": 0
      },
      "text/plain": [
       "  0%|          | 0/225 [00:00<?, ?it/s]"
      ]
     },
     "metadata": {},
     "output_type": "display_data"
    },
    {
     "data": {
      "application/vnd.jupyter.widget-view+json": {
       "model_id": "71b3ed33839343bfb49fd759390c03c6",
       "version_major": 2,
       "version_minor": 0
      },
      "text/plain": [
       "  0%|          | 0/225 [00:00<?, ?it/s]"
      ]
     },
     "metadata": {},
     "output_type": "display_data"
    },
    {
     "data": {
      "application/vnd.jupyter.widget-view+json": {
       "model_id": "ae439498ce684bd99e7c3805f5369e82",
       "version_major": 2,
       "version_minor": 0
      },
      "text/plain": [
       "  0%|          | 0/225 [00:00<?, ?it/s]"
      ]
     },
     "metadata": {},
     "output_type": "display_data"
    },
    {
     "data": {
      "application/vnd.jupyter.widget-view+json": {
       "model_id": "aad87f40ffc9444f8ba4d23f19ba9f2f",
       "version_major": 2,
       "version_minor": 0
      },
      "text/plain": [
       "  0%|          | 0/225 [00:00<?, ?it/s]"
      ]
     },
     "metadata": {},
     "output_type": "display_data"
    },
    {
     "data": {
      "application/vnd.jupyter.widget-view+json": {
       "model_id": "d18cf7cb628841de918fd3fd4a9e9e5a",
       "version_major": 2,
       "version_minor": 0
      },
      "text/plain": [
       "  0%|          | 0/225 [00:00<?, ?it/s]"
      ]
     },
     "metadata": {},
     "output_type": "display_data"
    },
    {
     "data": {
      "application/vnd.jupyter.widget-view+json": {
       "model_id": "1a31f345264040f790ad3bf25603e0d9",
       "version_major": 2,
       "version_minor": 0
      },
      "text/plain": [
       "  0%|          | 0/225 [00:00<?, ?it/s]"
      ]
     },
     "metadata": {},
     "output_type": "display_data"
    },
    {
     "data": {
      "application/vnd.jupyter.widget-view+json": {
       "model_id": "9e2b7a4f2b8044a5a22f83b5e395892b",
       "version_major": 2,
       "version_minor": 0
      },
      "text/plain": [
       "  0%|          | 0/225 [00:00<?, ?it/s]"
      ]
     },
     "metadata": {},
     "output_type": "display_data"
    },
    {
     "data": {
      "application/vnd.jupyter.widget-view+json": {
       "model_id": "7829562143b0472cb3f150586bc9db35",
       "version_major": 2,
       "version_minor": 0
      },
      "text/plain": [
       "  0%|          | 0/225 [00:00<?, ?it/s]"
      ]
     },
     "metadata": {},
     "output_type": "display_data"
    },
    {
     "data": {
      "application/vnd.jupyter.widget-view+json": {
       "model_id": "bfb556f27bcd4e5ebd89e90bc3d20698",
       "version_major": 2,
       "version_minor": 0
      },
      "text/plain": [
       "  0%|          | 0/225 [00:00<?, ?it/s]"
      ]
     },
     "metadata": {},
     "output_type": "display_data"
    },
    {
     "data": {
      "application/vnd.jupyter.widget-view+json": {
       "model_id": "f2464f627ef04385b50d9a24d383fbe5",
       "version_major": 2,
       "version_minor": 0
      },
      "text/plain": [
       "  0%|          | 0/225 [00:00<?, ?it/s]"
      ]
     },
     "metadata": {},
     "output_type": "display_data"
    },
    {
     "data": {
      "application/vnd.jupyter.widget-view+json": {
       "model_id": "7f9907f3c7bb4bb797aeb145363be056",
       "version_major": 2,
       "version_minor": 0
      },
      "text/plain": [
       "  0%|          | 0/225 [00:00<?, ?it/s]"
      ]
     },
     "metadata": {},
     "output_type": "display_data"
    },
    {
     "data": {
      "application/vnd.jupyter.widget-view+json": {
       "model_id": "b94a4493dadc4385b723b11b7c58d5fa",
       "version_major": 2,
       "version_minor": 0
      },
      "text/plain": [
       "  0%|          | 0/225 [00:00<?, ?it/s]"
      ]
     },
     "metadata": {},
     "output_type": "display_data"
    },
    {
     "data": {
      "application/vnd.jupyter.widget-view+json": {
       "model_id": "abbc6668390945d9af734ad251b3a3da",
       "version_major": 2,
       "version_minor": 0
      },
      "text/plain": [
       "  0%|          | 0/225 [00:00<?, ?it/s]"
      ]
     },
     "metadata": {},
     "output_type": "display_data"
    },
    {
     "data": {
      "application/vnd.jupyter.widget-view+json": {
       "model_id": "be9e3a7e76854f1c9a242292e3027e63",
       "version_major": 2,
       "version_minor": 0
      },
      "text/plain": [
       "  0%|          | 0/225 [00:00<?, ?it/s]"
      ]
     },
     "metadata": {},
     "output_type": "display_data"
    },
    {
     "data": {
      "application/vnd.jupyter.widget-view+json": {
       "model_id": "e3cf5ede2e4f495bb1b318aba284f709",
       "version_major": 2,
       "version_minor": 0
      },
      "text/plain": [
       "  0%|          | 0/225 [00:00<?, ?it/s]"
      ]
     },
     "metadata": {},
     "output_type": "display_data"
    },
    {
     "data": {
      "application/vnd.jupyter.widget-view+json": {
       "model_id": "ee848e1b75f8418a8aab33c41fa55235",
       "version_major": 2,
       "version_minor": 0
      },
      "text/plain": [
       "  0%|          | 0/225 [00:00<?, ?it/s]"
      ]
     },
     "metadata": {},
     "output_type": "display_data"
    },
    {
     "data": {
      "application/vnd.jupyter.widget-view+json": {
       "model_id": "e7ec9fae56ba41508b91ce7c04cbd6a7",
       "version_major": 2,
       "version_minor": 0
      },
      "text/plain": [
       "  0%|          | 0/225 [00:00<?, ?it/s]"
      ]
     },
     "metadata": {},
     "output_type": "display_data"
    },
    {
     "data": {
      "application/vnd.jupyter.widget-view+json": {
       "model_id": "dfa6eca4e87049f38f4d34e545b08340",
       "version_major": 2,
       "version_minor": 0
      },
      "text/plain": [
       "  0%|          | 0/225 [00:00<?, ?it/s]"
      ]
     },
     "metadata": {},
     "output_type": "display_data"
    },
    {
     "data": {
      "application/vnd.jupyter.widget-view+json": {
       "model_id": "b0b8e5222cc9419eabdc3f362c8ba9ca",
       "version_major": 2,
       "version_minor": 0
      },
      "text/plain": [
       "  0%|          | 0/225 [00:00<?, ?it/s]"
      ]
     },
     "metadata": {},
     "output_type": "display_data"
    },
    {
     "data": {
      "text/html": [
       "Waiting for W&B process to finish... <strong style=\"color:green\">(success).</strong>"
      ],
      "text/plain": [
       "<IPython.core.display.HTML object>"
      ]
     },
     "metadata": {},
     "output_type": "display_data"
    },
    {
     "data": {
      "text/html": [
       "<style>\n",
       "    table.wandb td:nth-child(1) { padding: 0 10px; text-align: left ; width: auto;} td:nth-child(2) {text-align: left ; width: 100%}\n",
       "    .wandb-row { display: flex; flex-direction: row; flex-wrap: wrap; justify-content: flex-start; width: 100% }\n",
       "    .wandb-col { display: flex; flex-direction: column; flex-basis: 100%; flex: 1; padding: 10px; }\n",
       "    </style>\n",
       "<div class=\"wandb-row\"><div class=\"wandb-col\"><h3>Run history:</h3><br/><table class=\"wandb\"><tr><td>batch_loss</td><td>▁▁▁▁▂▁▁▃▁▁▄▁▁▁▁▁▁▁▁▁▁▁▁█▂▁▁▂▁▁▄▁▁▁▁▁▁▁▁▁</td></tr><tr><td>epoch</td><td>▁▁▁▁▂▂▂▂▂▃▃▃▃▃▃▄▄▄▄▄▅▅▅▅▅▅▆▆▆▆▆▆▇▇▇▇▇███</td></tr><tr><td>loss</td><td>█▁▁▁▁▁▁▁▁▁▁▁▁▁▁▁▁▁▁▁▁▁▁▁▁▁▁▁▁▁▁▁▁▁▁▁▁▁▁▁</td></tr></table><br/></div><div class=\"wandb-col\"><h3>Run summary:</h3><br/><table class=\"wandb\"><tr><td>batch_loss</td><td>2.37516</td></tr><tr><td>epoch</td><td>49</td></tr><tr><td>loss</td><td>2.85015</td></tr></table><br/></div></div>"
      ],
      "text/plain": [
       "<IPython.core.display.HTML object>"
      ]
     },
     "metadata": {},
     "output_type": "display_data"
    },
    {
     "data": {
      "text/html": [
       " View run <strong style=\"color:#cdcd00\">worldly-sweep-10</strong> at: <a href='https://wandb.ai/mldd23/selfie-autoencoder_v2/runs/tftx8b7l' target=\"_blank\">https://wandb.ai/mldd23/selfie-autoencoder_v2/runs/tftx8b7l</a><br/>Synced 5 W&B file(s), 0 media file(s), 0 artifact file(s) and 0 other file(s)"
      ],
      "text/plain": [
       "<IPython.core.display.HTML object>"
      ]
     },
     "metadata": {},
     "output_type": "display_data"
    },
    {
     "data": {
      "text/html": [
       "Find logs at: <code>./wandb/run-20230531_204822-tftx8b7l/logs</code>"
      ],
      "text/plain": [
       "<IPython.core.display.HTML object>"
      ]
     },
     "metadata": {},
     "output_type": "display_data"
    }
   ],
   "source": [
    "wandb.agent(sweep_id, train_hyper, count=10)"
   ]
  },
  {
   "cell_type": "code",
   "execution_count": 23,
   "id": "031da2cc",
   "metadata": {},
   "outputs": [
    {
     "name": "stderr",
     "output_type": "stream",
     "text": [
      "Failed to detect the name of this notebook, you can set it manually with the WANDB_NOTEBOOK_NAME environment variable to enable code saving.\n",
      "\u001b[34m\u001b[1mwandb\u001b[0m: Currently logged in as: \u001b[33manton-siomchen\u001b[0m (\u001b[33mmldd23\u001b[0m). Use \u001b[1m`wandb login --relogin`\u001b[0m to force relogin\n"
     ]
    },
    {
     "data": {
      "text/html": [
       "Tracking run with wandb version 0.15.3"
      ],
      "text/plain": [
       "<IPython.core.display.HTML object>"
      ]
     },
     "metadata": {},
     "output_type": "display_data"
    },
    {
     "data": {
      "text/html": [
       "Run data is saved locally in <code>/home/anton/mldd23_project1/wandb/run-20230531_153334-9tnyk5e7</code>"
      ],
      "text/plain": [
       "<IPython.core.display.HTML object>"
      ]
     },
     "metadata": {},
     "output_type": "display_data"
    },
    {
     "data": {
      "text/html": [
       "Syncing run <strong><a href='https://wandb.ai/mldd23/selfie-autoencoder_v2/runs/9tnyk5e7' target=\"_blank\">desert-pine-7</a></strong> to <a href='https://wandb.ai/mldd23/selfie-autoencoder_v2' target=\"_blank\">Weights & Biases</a> (<a href='https://wandb.me/run' target=\"_blank\">docs</a>)<br/>"
      ],
      "text/plain": [
       "<IPython.core.display.HTML object>"
      ]
     },
     "metadata": {},
     "output_type": "display_data"
    },
    {
     "data": {
      "text/html": [
       " View project at <a href='https://wandb.ai/mldd23/selfie-autoencoder_v2' target=\"_blank\">https://wandb.ai/mldd23/selfie-autoencoder_v2</a>"
      ],
      "text/plain": [
       "<IPython.core.display.HTML object>"
      ]
     },
     "metadata": {},
     "output_type": "display_data"
    },
    {
     "data": {
      "text/html": [
       " View run at <a href='https://wandb.ai/mldd23/selfie-autoencoder_v2/runs/9tnyk5e7' target=\"_blank\">https://wandb.ai/mldd23/selfie-autoencoder_v2/runs/9tnyk5e7</a>"
      ],
      "text/plain": [
       "<IPython.core.display.HTML object>"
      ]
     },
     "metadata": {},
     "output_type": "display_data"
    },
    {
     "data": {
      "application/vnd.jupyter.widget-view+json": {
       "model_id": "6df3168dee7146f685b8da7e09748cbf",
       "version_major": 2,
       "version_minor": 0
      },
      "text/plain": [
       "  0%|          | 0/140 [00:00<?, ?it/s]"
      ]
     },
     "metadata": {},
     "output_type": "display_data"
    },
    {
     "name": "stdout",
     "output_type": "stream",
     "text": [
      "Epoch 0 loss: 2.133074177162988\n",
      "Target:  [C][C][=C][Branch1][C][Cl][C][=C][C][=C][Ring1][#Branch1][N][C][=Branch1][C][=O][N][Branch1][C][C][C@@H1][Branch1][C][C][C][=C][C][=C][C][Branch1][C][O][=C][Ring1][#Branch1][end][nop][nop][nop][nop][nop][nop][nop][nop][nop][nop][nop][nop][nop][nop][nop][nop][nop][nop][nop][nop][nop][nop][nop][nop][nop][nop][nop][nop][nop][nop][nop][nop][nop][nop][nop][nop][nop][nop][nop][nop][nop][nop][nop][nop]-------------\n",
      "Output:  [C][C][\u001b[91mC\u001b[0m\u001b[91m]\u001b[0m\u001b[91m[\u001b[0m\u001b[91mC\u001b[0m\u001b[91m]\u001b[0m\u001b[91m[\u001b[0m\u001b[91m=\u001b[0m\u001b[91mC\u001b[0m\u001b[91m]\u001b[0m\u001b[91m[\u001b[0m\u001b[91mC\u001b[0m][C][C\u001b[91m]\u001b[0m\u001b[91m[\u001b[0m\u001b[91mC\u001b[0m\u001b[91m]\u001b[0m\u001b[91m[\u001b[0m\u001b[91mC\u001b[0m\u001b[91m]\u001b[0m\u001b[91m[\u001b[0m\u001b[91mC\u001b[0m\u001b[91m]\u001b[0m\u001b[91m[\u001b[0m\u001b[91mC\u001b[0m\u001b[91m]\u001b[0m\u001b[91m[\u001b[0mC][\u001b[91mC\u001b[0m\u001b[91m]\u001b[0m\u001b[91m[\u001b[0m\u001b[91m=\u001b[0m\u001b[91mB\u001b[0m\u001b[91mr\u001b[0m\u001b[91ma\u001b[0m\u001b[91mn\u001b[0m\u001b[91mc\u001b[0m\u001b[91mh\u001b[0m\u001b[91m1\u001b[0m\u001b[91m]\u001b[0m\u001b[91m[\u001b[0m\u001b[91mC\u001b[0m\u001b[91m]\u001b[0m\u001b[91m[\u001b[0m\u001b[91m=\u001b[0m\u001b[91mO\u001b[0m][C][\u001b[91mC\u001b[0m\u001b[91m]\u001b[0m\u001b[91m[\u001b[0m\u001b[91mC\u001b[0m\u001b[91m]\u001b[0m\u001b[91m[\u001b[0m\u001b[91mC\u001b[0m\u001b[91m]\u001b[0m\u001b[91m[\u001b[0m\u001b[91mC\u001b[0m\u001b[91m]\u001b[0m\u001b[91m[\u001b[0m\u001b[91mC\u001b[0m\u001b[91m]\u001b[0m\u001b[91m[\u001b[0m\u001b[91mC\u001b[0m\u001b[91m]\u001b[0m\u001b[91m[\u001b[0m\u001b[91mC\u001b[0m\u001b[91m]\u001b[0m\u001b[91m[\u001b[0m\u001b[91mC\u001b[0m\u001b[91m]\u001b[0m\u001b[91m[\u001b[0m\u001b[91mC\u001b[0m\u001b[91m]\u001b[0m\u001b[91m[\u001b[0m\u001b[91mC\u001b[0m\u001b[91m]\u001b[0m\u001b[91m[\u001b[0m\u001b[91m=\u001b[0m\u001b[91mC\u001b[0m\u001b[91m]\u001b[0m\u001b[91m[\u001b[0m\u001b[91mR\u001b[0m\u001b[91mi\u001b[0m\u001b[91mn\u001b[0m\u001b[91mg\u001b[0m\u001b[91m1\u001b[0m\u001b[91m]\u001b[0m\u001b[91m[\u001b[0m\u001b[91m=\u001b[0m\u001b[91mC\u001b[0m\u001b[91m]\u001b[0m\u001b[91m[\u001b[0m\u001b[91mC\u001b[0m\u001b[91m]\u001b[0m\u001b[91m[\u001b[0m\u001b[91mC\u001b[0m][C][\u001b[91m=\u001b[0m\u001b[91mC\u001b[0m\u001b[91m]\u001b[0m\u001b[91m[\u001b[0m\u001b[91mR\u001b[0m\u001b[91mi\u001b[0m\u001b[91mn\u001b[0m\u001b[91mg\u001b[0m\u001b[91m1\u001b[0m\u001b[91m]\u001b[0m\u001b[91m[\u001b[0m\u001b[91me\u001b[0m\u001b[91mn\u001b[0m\u001b[91md\u001b[0m\u001b[91m]\u001b[0m\u001b[91m[\u001b[0m\u001b[91mC\u001b[0m\u001b[91m]\u001b[0m\u001b[91m[\u001b[0m\u001b[91mC\u001b[0m\u001b[91m]\u001b[0m\u001b[91m[\u001b[0m\u001b[91mR\u001b[0m\u001b[91mi\u001b[0m\u001b[91mn\u001b[0m\u001b[91mg\u001b[0m1][\u001b[91mR\u001b[0m\u001b[91mi\u001b[0m\u001b[91mn\u001b[0m\u001b[91mg\u001b[0m\u001b[91m1\u001b[0m\u001b[91m]\u001b[0m\u001b[91m[\u001b[0m\u001b[91me\u001b[0m\u001b[91mn\u001b[0m\u001b[91md\u001b[0m\u001b[91m]\u001b[0m\u001b[91m[\u001b[0m\u001b[91me\u001b[0m\u001b[91mn\u001b[0m\u001b[91md\u001b[0m][\u001b[91mC\u001b[0m\u001b[91m]\u001b[0m\u001b[91m[\u001b[0m\u001b[91mC\u001b[0m\u001b[91m]\u001b[0m\u001b[91m[\u001b[0m\u001b[91mR\u001b[0m\u001b[91mi\u001b[0m\u001b[91mn\u001b[0m\u001b[91mg\u001b[0m\u001b[91m1\u001b[0m\u001b[91m]\u001b[0m\u001b[91m[\u001b[0m\u001b[91mR\u001b[0m\u001b[91mi\u001b[0mn\u001b[91mg\u001b[0m\u001b[91m1\u001b[0m][\u001b[91mR\u001b[0m\u001b[91mi\u001b[0m\u001b[91mn\u001b[0m\u001b[91mg\u001b[0m\u001b[91m1\u001b[0m\u001b[91m]\u001b[0m\u001b[91m[\u001b[0m\u001b[91mR\u001b[0m\u001b[91mi\u001b[0m\u001b[91mn\u001b[0m\u001b[91mg\u001b[0m\u001b[91m1\u001b[0m\u001b[91m]\u001b[0m\u001b[91m[\u001b[0m\u001b[91me\u001b[0mn\u001b[91md\u001b[0m\u001b[91m]\u001b[0m\u001b[91m[\u001b[0m\u001b[91me\u001b[0mn\u001b[91md\u001b[0m\u001b[91m]\u001b[0m\u001b[91m[\u001b[0m\u001b[91me\u001b[0mn\u001b[91md\u001b[0m\u001b[91m]\u001b[0m\u001b[91m[\u001b[0m\u001b[91mR\u001b[0m\u001b[91mi\u001b[0m\u001b[91mn\u001b[0m\u001b[91mg\u001b[0m\u001b[91m1\u001b[0m\u001b[91m]\u001b[0m\u001b[91m[\u001b[0m\u001b[91mR\u001b[0m\u001b[91mi\u001b[0m\u001b[91mn\u001b[0m\u001b[91mg\u001b[0m\u001b[91m1\u001b[0m\u001b[91m]\u001b[0m\u001b[91m[\u001b[0m\u001b[91mR\u001b[0m\u001b[91mi\u001b[0mn\u001b[91mg\u001b[0m\u001b[91m1\u001b[0m][\u001b[91mR\u001b[0m\u001b[91mi\u001b[0m\u001b[91mn\u001b[0m\u001b[91mg\u001b[0m\u001b[91m1\u001b[0m\u001b[91m]\u001b[0m\u001b[91m[\u001b[0m\u001b[91mR\u001b[0m\u001b[91mi\u001b[0m\u001b[91mn\u001b[0m\u001b[91mg\u001b[0m\u001b[91m1\u001b[0m\u001b[91m]\u001b[0m\u001b[91m[\u001b[0m\u001b[91mR\u001b[0m\u001b[91mi\u001b[0m\u001b[91mn\u001b[0m\u001b[91mg\u001b[0m\u001b[91m1\u001b[0m\u001b[91m]\u001b[0m\u001b[91m[\u001b[0m\u001b[91mR\u001b[0m\u001b[91mi\u001b[0m\u001b[91mn\u001b[0m\u001b[91mg\u001b[0m\u001b[91m2\u001b[0m\u001b[91m]\u001b[0m\u001b[91m[\u001b[0m\u001b[91mR\u001b[0m\u001b[91mi\u001b[0mn\u001b[91mg\u001b[0m\u001b[91m2\u001b[0m][\u001b[91mR\u001b[0m\u001b[91mi\u001b[0m\u001b[91mn\u001b[0m\u001b[91mg\u001b[0m\u001b[91m2\u001b[0m\u001b[91m]\u001b[0m\u001b[91m[\u001b[0m\u001b[91mR\u001b[0m\u001b[91mi\u001b[0m\u001b[91mn\u001b[0m\u001b[91mg\u001b[0m\u001b[91m2\u001b[0m\u001b[91m]\u001b[0m\u001b[91m[\u001b[0m\u001b[91mR\u001b[0m\u001b[91mi\u001b[0m\u001b[91mn\u001b[0m\u001b[91mg\u001b[0m\u001b[91m2\u001b[0m\u001b[91m]\u001b[0m\u001b[91m[\u001b[0m\u001b[91mR\u001b[0m\u001b[91mi\u001b[0m\u001b[91mn\u001b[0m\u001b[91mg\u001b[0m\u001b[91m2\u001b[0m\u001b[91m]\u001b[0m\u001b[91m[\u001b[0m\u001b[91mR\u001b[0m\u001b[91mi\u001b[0mn\u001b[91mg\u001b[0m\u001b[91m1\u001b[0m][\u001b[91mR\u001b[0m\u001b[91mi\u001b[0m\u001b[91mn\u001b[0m\u001b[91mg\u001b[0m\u001b[91m2\u001b[0m\u001b[91m]\u001b[0m\u001b[91m[\u001b[0m\u001b[91me\u001b[0m\u001b[91mn\u001b[0m\u001b[91md\u001b[0m\u001b[91m]\u001b[0m\u001b[91m[\u001b[0m\u001b[91me\u001b[0m\u001b[91mn\u001b[0m\u001b[91md\u001b[0m\u001b[91m]\u001b[0m\u001b[91m[\u001b[0m\u001b[91mR\u001b[0m\u001b[91mi\u001b[0m\u001b[91mn\u001b[0m\u001b[91mg\u001b[0m\u001b[91m2\u001b[0m\u001b[91m]\u001b[0m\u001b[91m[\u001b[0m\u001b[91mR\u001b[0m\u001b[91mi\u001b[0m\u001b[91mn\u001b[0m\u001b[91mg\u001b[0m\u001b[91m2\u001b[0m\u001b[91m]\u001b[0m\u001b[91m[\u001b[0m\u001b[91mR\u001b[0m\u001b[91mi\u001b[0m\u001b[91mn\u001b[0m\u001b[91mg\u001b[0m\u001b[91m2\u001b[0m\u001b[91m]\u001b[0m\u001b[91m[\u001b[0m\u001b[91mR\u001b[0m\u001b[91mi\u001b[0mn\u001b[91mg\u001b[0m\u001b[91m2\u001b[0m][\u001b[91mR\u001b[0m\u001b[91mi\u001b[0m\u001b[91mn\u001b[0m\u001b[91mg\u001b[0m\u001b[91m2\u001b[0m\u001b[91m]\u001b[0m\u001b[91m[\u001b[0m\u001b[91mR\u001b[0m\u001b[91mi\u001b[0m\u001b[91mn\u001b[0m\u001b[91mg\u001b[0m\u001b[91m2\u001b[0m\u001b[91m]\u001b[0m\u001b[91m[\u001b[0m\u001b[91mR\u001b[0m\u001b[91mi\u001b[0m\u001b[91mn\u001b[0m\u001b[91mg\u001b[0m\u001b[91m2\u001b[0m\u001b[91m]\u001b[0m\u001b[91m[\u001b[0m\u001b[91mR\u001b[0m\u001b[91mi\u001b[0m\u001b[91mn\u001b[0m\u001b[91mg\u001b[0m\u001b[91m2\u001b[0m\u001b[91m]\u001b[0m\u001b[91m[\u001b[0m\u001b[91mR\u001b[0m\u001b[91mi\u001b[0mn\u001b[91mg\u001b[0m\u001b[91m2\u001b[0m][\u001b[91mR\u001b[0m\u001b[91mi\u001b[0m\u001b[91mn\u001b[0m\u001b[91mg\u001b[0m\u001b[91m2\u001b[0m\u001b[91m]\u001b[0m\u001b[91m[\u001b[0m\u001b[91mR\u001b[0m\u001b[91mi\u001b[0m\u001b[91mn\u001b[0m\u001b[91mg\u001b[0m\u001b[91m2\u001b[0m\u001b[91m]\u001b[0m\u001b[91m[\u001b[0m\u001b[91mR\u001b[0m\u001b[91mi\u001b[0m\u001b[91mn\u001b[0m\u001b[91mg\u001b[0m\u001b[91m2\u001b[0m\u001b[91m]\u001b[0m\u001b[91m[\u001b[0m\u001b[91ms\u001b[0m\u001b[91mt\u001b[0m\u001b[91ma\u001b[0m\u001b[91mr\u001b[0m\u001b[91mt\u001b[0m\u001b[91m]\u001b[0m\n",
      "-------------------\n",
      "\n",
      "Target:  [C][C][Branch1][C][C][C][C][=Branch1][C][=O][C][Branch1][C][C][Branch1][O][C][C][C][=C][C][=C][C][=C][Ring1][=Branch1][C][=Branch1][C][=O][C][Ring2][Ring1][C][end][nop][nop][nop][nop][nop][nop][nop][nop][nop][nop][nop][nop][nop][nop][nop][nop][nop][nop][nop][nop][nop][nop][nop][nop][nop][nop][nop][nop][nop][nop][nop][nop][nop][nop][nop][nop][nop][nop][nop][nop][nop][nop][nop][nop][nop][nop]---------------------\n",
      "Output:  [C][C][\u001b[91mC\u001b[0m\u001b[91m]\u001b[0m\u001b[91m[\u001b[0m\u001b[91mC\u001b[0m\u001b[91m]\u001b[0m\u001b[91m[\u001b[0m\u001b[91mC\u001b[0m][C][C][C][C][\u001b[91mC\u001b[0m\u001b[91m]\u001b[0m\u001b[91m[\u001b[0m\u001b[91mC\u001b[0m\u001b[91m]\u001b[0m\u001b[91m[\u001b[0m\u001b[91mC\u001b[0m\u001b[91m]\u001b[0m\u001b[91m[\u001b[0m\u001b[91mC\u001b[0m\u001b[91m]\u001b[0m\u001b[91m[\u001b[0m\u001b[91mC\u001b[0m\u001b[91m]\u001b[0m\u001b[91m[\u001b[0m\u001b[91mC\u001b[0m\u001b[91m]\u001b[0m\u001b[91m[\u001b[0m\u001b[91mC\u001b[0m\u001b[91m]\u001b[0m\u001b[91m[\u001b[0m\u001b[91mC\u001b[0m\u001b[91m]\u001b[0m\u001b[91m[\u001b[0m\u001b[91m=\u001b[0m\u001b[91mC\u001b[0m\u001b[91m]\u001b[0m\u001b[91m[\u001b[0m\u001b[91mC\u001b[0m\u001b[91m]\u001b[0m\u001b[91m[\u001b[0m\u001b[91mC\u001b[0m\u001b[91m]\u001b[0m\u001b[91m[\u001b[0m\u001b[91mC\u001b[0m\u001b[91m]\u001b[0m\u001b[91m[\u001b[0m\u001b[91m=\u001b[0m\u001b[91mC\u001b[0m\u001b[91m]\u001b[0m\u001b[91m[\u001b[0m\u001b[91mC\u001b[0m][\u001b[91m=\u001b[0m\u001b[91mC\u001b[0m\u001b[91m]\u001b[0m\u001b[91m[\u001b[0m\u001b[91mC\u001b[0m\u001b[91m]\u001b[0m\u001b[91m[\u001b[0m\u001b[91m=\u001b[0m\u001b[91mB\u001b[0m\u001b[91mr\u001b[0m\u001b[91ma\u001b[0m\u001b[91mn\u001b[0m\u001b[91mc\u001b[0m\u001b[91mh\u001b[0m\u001b[91m1\u001b[0m\u001b[91m]\u001b[0m\u001b[91m[\u001b[0m\u001b[91mC\u001b[0m\u001b[91m]\u001b[0m\u001b[91m[\u001b[0mC][C][=\u001b[91mO\u001b[0m][\u001b[91mC\u001b[0m\u001b[91m]\u001b[0m\u001b[91m[\u001b[0m\u001b[91m=\u001b[0m\u001b[91mC\u001b[0m][\u001b[91mC\u001b[0m\u001b[91m]\u001b[0m\u001b[91m[\u001b[0m\u001b[91m=\u001b[0m\u001b[91mB\u001b[0m\u001b[91mr\u001b[0m\u001b[91ma\u001b[0m\u001b[91mn\u001b[0m\u001b[91mc\u001b[0m\u001b[91mh\u001b[0m\u001b[91m1\u001b[0m][\u001b[91me\u001b[0m\u001b[91mn\u001b[0m\u001b[91md\u001b[0m\u001b[91m]\u001b[0m\u001b[91m[\u001b[0m\u001b[91mC\u001b[0m\u001b[91m]\u001b[0m\u001b[91m[\u001b[0m\u001b[91mR\u001b[0m\u001b[91mi\u001b[0m\u001b[91mn\u001b[0m\u001b[91mg\u001b[0m\u001b[91m1\u001b[0m\u001b[91m]\u001b[0m\u001b[91m[\u001b[0m\u001b[91mR\u001b[0m\u001b[91mi\u001b[0m\u001b[91mn\u001b[0m\u001b[91mg\u001b[0m\u001b[91m1\u001b[0m\u001b[91m]\u001b[0m\u001b[91m[\u001b[0m\u001b[91mR\u001b[0m\u001b[91mi\u001b[0m\u001b[91mn\u001b[0m\u001b[91mg\u001b[0m\u001b[91m1\u001b[0m\u001b[91m]\u001b[0m\u001b[91m[\u001b[0m\u001b[91me\u001b[0m\u001b[91mn\u001b[0m\u001b[91md\u001b[0m][\u001b[91me\u001b[0m\u001b[91mn\u001b[0m\u001b[91md\u001b[0m\u001b[91m]\u001b[0m\u001b[91m[\u001b[0m\u001b[91mC\u001b[0m][\u001b[91mC\u001b[0m\u001b[91m]\u001b[0m\u001b[91m[\u001b[0m\u001b[91mC\u001b[0m\u001b[91m]\u001b[0m\u001b[91m[\u001b[0m\u001b[91mC\u001b[0m\u001b[91m]\u001b[0m\u001b[91m[\u001b[0m\u001b[91mR\u001b[0m\u001b[91mi\u001b[0m\u001b[91mn\u001b[0m\u001b[91mg\u001b[0m\u001b[91m1\u001b[0m\u001b[91m]\u001b[0m\u001b[91m[\u001b[0m\u001b[91mR\u001b[0m\u001b[91mi\u001b[0m\u001b[91mn\u001b[0m\u001b[91mg\u001b[0m\u001b[91m1\u001b[0m\u001b[91m]\u001b[0m\u001b[91m[\u001b[0m\u001b[91mR\u001b[0m\u001b[91mi\u001b[0mn\u001b[91mg\u001b[0m\u001b[91m1\u001b[0m][\u001b[91mR\u001b[0m\u001b[91mi\u001b[0m\u001b[91mn\u001b[0m\u001b[91mg\u001b[0m\u001b[91m1\u001b[0m\u001b[91m]\u001b[0m\u001b[91m[\u001b[0m\u001b[91me\u001b[0m\u001b[91mn\u001b[0m\u001b[91md\u001b[0m\u001b[91m]\u001b[0m\u001b[91m[\u001b[0m\u001b[91me\u001b[0m\u001b[91mn\u001b[0m\u001b[91md\u001b[0m\u001b[91m]\u001b[0m\u001b[91m[\u001b[0m\u001b[91me\u001b[0m\u001b[91mn\u001b[0m\u001b[91md\u001b[0m\u001b[91m]\u001b[0m\u001b[91m[\u001b[0m\u001b[91mR\u001b[0m\u001b[91mi\u001b[0m\u001b[91mn\u001b[0m\u001b[91mg\u001b[0m\u001b[91m1\u001b[0m\u001b[91m]\u001b[0m\u001b[91m[\u001b[0m\u001b[91mR\u001b[0m\u001b[91mi\u001b[0m\u001b[91mn\u001b[0m\u001b[91mg\u001b[0m\u001b[91m1\u001b[0m\u001b[91m]\u001b[0m\u001b[91m[\u001b[0m\u001b[91mR\u001b[0m\u001b[91mi\u001b[0m\u001b[91mn\u001b[0m\u001b[91mg\u001b[0m\u001b[91m1\u001b[0m\u001b[91m]\u001b[0m\u001b[91m[\u001b[0m\u001b[91mR\u001b[0m\u001b[91mi\u001b[0mn\u001b[91mg\u001b[0m\u001b[91m1\u001b[0m][\u001b[91mR\u001b[0m\u001b[91mi\u001b[0m\u001b[91mn\u001b[0m\u001b[91mg\u001b[0m\u001b[91m1\u001b[0m\u001b[91m]\u001b[0m\u001b[91m[\u001b[0m\u001b[91mR\u001b[0m\u001b[91mi\u001b[0m\u001b[91mn\u001b[0m\u001b[91mg\u001b[0m\u001b[91m1\u001b[0m\u001b[91m]\u001b[0m\u001b[91m[\u001b[0m\u001b[91mR\u001b[0m\u001b[91mi\u001b[0m\u001b[91mn\u001b[0m\u001b[91mg\u001b[0m\u001b[91m2\u001b[0m\u001b[91m]\u001b[0m\u001b[91m[\u001b[0m\u001b[91mR\u001b[0m\u001b[91mi\u001b[0m\u001b[91mn\u001b[0m\u001b[91mg\u001b[0m\u001b[91m2\u001b[0m\u001b[91m]\u001b[0m\u001b[91m[\u001b[0m\u001b[91mR\u001b[0m\u001b[91mi\u001b[0mn\u001b[91mg\u001b[0m\u001b[91m2\u001b[0m][\u001b[91mR\u001b[0m\u001b[91mi\u001b[0m\u001b[91mn\u001b[0m\u001b[91mg\u001b[0m\u001b[91m2\u001b[0m\u001b[91m]\u001b[0m\u001b[91m[\u001b[0m\u001b[91mR\u001b[0m\u001b[91mi\u001b[0m\u001b[91mn\u001b[0m\u001b[91mg\u001b[0m\u001b[91m2\u001b[0m\u001b[91m]\u001b[0m\u001b[91m[\u001b[0m\u001b[91mR\u001b[0m\u001b[91mi\u001b[0m\u001b[91mn\u001b[0m\u001b[91mg\u001b[0m\u001b[91m2\u001b[0m\u001b[91m]\u001b[0m\u001b[91m[\u001b[0m\u001b[91mR\u001b[0m\u001b[91mi\u001b[0m\u001b[91mn\u001b[0m\u001b[91mg\u001b[0m\u001b[91m1\u001b[0m\u001b[91m]\u001b[0m\u001b[91m[\u001b[0m\u001b[91mR\u001b[0m\u001b[91mi\u001b[0mn\u001b[91mg\u001b[0m\u001b[91m2\u001b[0m][\u001b[91me\u001b[0m\u001b[91mn\u001b[0m\u001b[91md\u001b[0m][\u001b[91me\u001b[0m\u001b[91mn\u001b[0m\u001b[91md\u001b[0m][\u001b[91mR\u001b[0m\u001b[91mi\u001b[0m\u001b[91mn\u001b[0m\u001b[91mg\u001b[0m\u001b[91m2\u001b[0m\u001b[91m]\u001b[0m\u001b[91m[\u001b[0m\u001b[91mR\u001b[0m\u001b[91mi\u001b[0m\u001b[91mn\u001b[0m\u001b[91mg\u001b[0m\u001b[91m2\u001b[0m\u001b[91m]\u001b[0m\u001b[91m[\u001b[0m\u001b[91mR\u001b[0m\u001b[91mi\u001b[0m\u001b[91mn\u001b[0m\u001b[91mg\u001b[0m\u001b[91m2\u001b[0m\u001b[91m]\u001b[0m\u001b[91m[\u001b[0m\u001b[91mR\u001b[0m\u001b[91mi\u001b[0m\u001b[91mn\u001b[0m\u001b[91mg\u001b[0m\u001b[91m2\u001b[0m\u001b[91m]\u001b[0m\u001b[91m[\u001b[0m\u001b[91mR\u001b[0m\u001b[91mi\u001b[0mn\u001b[91mg\u001b[0m\u001b[91m2\u001b[0m][\u001b[91mR\u001b[0m\u001b[91mi\u001b[0m\u001b[91mn\u001b[0m\u001b[91mg\u001b[0m\u001b[91m2\u001b[0m\u001b[91m]\u001b[0m\u001b[91m[\u001b[0m\u001b[91mR\u001b[0m\u001b[91mi\u001b[0m\u001b[91mn\u001b[0m\u001b[91mg\u001b[0m\u001b[91m2\u001b[0m\u001b[91m]\u001b[0m\u001b[91m[\u001b[0m\u001b[91mR\u001b[0m\u001b[91mi\u001b[0m\u001b[91mn\u001b[0m\u001b[91mg\u001b[0m\u001b[91m2\u001b[0m\u001b[91m]\u001b[0m\u001b[91m[\u001b[0m\u001b[91mR\u001b[0m\u001b[91mi\u001b[0m\u001b[91mn\u001b[0m\u001b[91mg\u001b[0m\u001b[91m2\u001b[0m\u001b[91m]\u001b[0m\u001b[91m[\u001b[0m\u001b[91mR\u001b[0m\u001b[91mi\u001b[0mn\u001b[91mg\u001b[0m\u001b[91m2\u001b[0m]\u001b[91m[\u001b[0m\u001b[91mR\u001b[0m\u001b[91mi\u001b[0m\u001b[91mn\u001b[0m\u001b[91mg\u001b[0m\u001b[91m2\u001b[0m\u001b[91m]\u001b[0m\u001b[91m[\u001b[0m\u001b[91ms\u001b[0m\u001b[91mt\u001b[0m\u001b[91ma\u001b[0m\u001b[91mr\u001b[0m\u001b[91mt\u001b[0m\u001b[91m]\u001b[0m\u001b[91m[\u001b[0m\u001b[91mR\u001b[0m\u001b[91mi\u001b[0m\u001b[91mn\u001b[0m\u001b[91mg\u001b[0m\u001b[91m2\u001b[0m\u001b[91m]\u001b[0m\n",
      "-------------------\n",
      "\n",
      "Target:  [C][C][C][=Branch1][C][=O][N][C][C][C][=C][C][Branch2][Ring1][Branch1][C][=Branch1][C][=O][N][C][C@@][Branch1][C][C][Branch1][C][O][C][C][C][Branch1][C][C][C][=C][C][=C][Ring2][Ring1][C][Ring2][Ring1][Branch1][end][nop][nop][nop][nop][nop][nop][nop][nop][nop][nop][nop][nop][nop][nop][nop][nop][nop][nop][nop][nop][nop][nop][nop][nop][nop][nop][nop][nop][nop][nop][nop][nop][nop][nop][nop][nop]------------\n",
      "Output:  [C][C][C][\u001b[91mC\u001b[0m\u001b[91m]\u001b[0m\u001b[91m[\u001b[0m\u001b[91mC\u001b[0m\u001b[91m]\u001b[0m\u001b[91m[\u001b[0m\u001b[91mC\u001b[0m\u001b[91m]\u001b[0m\u001b[91m[\u001b[0m\u001b[91mC\u001b[0m\u001b[91m]\u001b[0m\u001b[91m[\u001b[0m\u001b[91mC\u001b[0m\u001b[91m]\u001b[0m\u001b[91m[\u001b[0m\u001b[91m=\u001b[0m\u001b[91mB\u001b[0m\u001b[91mr\u001b[0m\u001b[91ma\u001b[0m\u001b[91mn\u001b[0m\u001b[91mc\u001b[0m\u001b[91mh\u001b[0m\u001b[91m1\u001b[0m\u001b[91m]\u001b[0m\u001b[91m[\u001b[0m\u001b[91mC\u001b[0m\u001b[91m]\u001b[0m\u001b[91m[\u001b[0m\u001b[91mC\u001b[0m\u001b[91m]\u001b[0m\u001b[91m[\u001b[0m\u001b[91mC\u001b[0m\u001b[91m]\u001b[0m\u001b[91m[\u001b[0m\u001b[91mC\u001b[0m\u001b[91m]\u001b[0m\u001b[91m[\u001b[0m\u001b[91mR\u001b[0m\u001b[91mi\u001b[0mn\u001b[91mg\u001b[0m\u001b[91m1\u001b[0m\u001b[91m]\u001b[0m\u001b[91m[\u001b[0m\u001b[91mC\u001b[0m\u001b[91m]\u001b[0m\u001b[91m[\u001b[0m\u001b[91mC\u001b[0m\u001b[91m]\u001b[0m\u001b[91m[\u001b[0m\u001b[91m=\u001b[0m\u001b[91mB\u001b[0m\u001b[91mr\u001b[0m\u001b[91ma\u001b[0m\u001b[91mn\u001b[0m\u001b[91mc\u001b[0m\u001b[91mh\u001b[0m\u001b[91m1\u001b[0m\u001b[91m]\u001b[0m\u001b[91m[\u001b[0m\u001b[91mC\u001b[0m\u001b[91m]\u001b[0m\u001b[91m[\u001b[0m\u001b[91m=\u001b[0m\u001b[91mO\u001b[0m\u001b[91m]\u001b[0m\u001b[91m[\u001b[0m\u001b[91mN\u001b[0m\u001b[91m]\u001b[0m\u001b[91m[\u001b[0m\u001b[91mC\u001b[0m\u001b[91m]\u001b[0m\u001b[91m[\u001b[0m\u001b[91mC\u001b[0m\u001b[91m]\u001b[0m\u001b[91m[\u001b[0m\u001b[91mC\u001b[0m\u001b[91m]\u001b[0m\u001b[91m[\u001b[0m\u001b[91mC\u001b[0m\u001b[91m]\u001b[0m\u001b[91m[\u001b[0m\u001b[91mC\u001b[0m\u001b[91m]\u001b[0m\u001b[91m[\u001b[0m\u001b[91mC\u001b[0m\u001b[91m]\u001b[0m\u001b[91m[\u001b[0m\u001b[91mC\u001b[0m\u001b[91m]\u001b[0m\u001b[91m[\u001b[0m\u001b[91mC\u001b[0m\u001b[91m]\u001b[0m\u001b[91m[\u001b[0m\u001b[91mC\u001b[0m\u001b[91m]\u001b[0m\u001b[91m[\u001b[0m\u001b[91m=\u001b[0m\u001b[91mC\u001b[0m][C][C][\u001b[91mC\u001b[0m\u001b[91m]\u001b[0m\u001b[91m[\u001b[0m\u001b[91mC\u001b[0m\u001b[91m]\u001b[0m\u001b[91m[\u001b[0m\u001b[91mC\u001b[0m][C][\u001b[91mC\u001b[0m][\u001b[91m=\u001b[0m\u001b[91mC\u001b[0m\u001b[91m]\u001b[0m\u001b[91m[\u001b[0m\u001b[91mR\u001b[0m\u001b[91mi\u001b[0m\u001b[91mn\u001b[0m\u001b[91mg\u001b[0m\u001b[91m1\u001b[0m\u001b[91m]\u001b[0m\u001b[91m[\u001b[0m\u001b[91mR\u001b[0m\u001b[91mi\u001b[0m\u001b[91mn\u001b[0m\u001b[91mg\u001b[0m1][\u001b[91mR\u001b[0m\u001b[91mi\u001b[0m\u001b[91mn\u001b[0m\u001b[91mg\u001b[0m\u001b[91m1\u001b[0m\u001b[91m]\u001b[0m\u001b[91m[\u001b[0m\u001b[91me\u001b[0m\u001b[91mn\u001b[0m\u001b[91md\u001b[0m\u001b[91m]\u001b[0m\u001b[91m[\u001b[0m\u001b[91me\u001b[0m\u001b[91mn\u001b[0m\u001b[91md\u001b[0m\u001b[91m]\u001b[0m\u001b[91m[\u001b[0mC][\u001b[91mC\u001b[0m\u001b[91m]\u001b[0m\u001b[91m[\u001b[0m\u001b[91mR\u001b[0m\u001b[91mi\u001b[0m\u001b[91mn\u001b[0m\u001b[91mg\u001b[0m\u001b[91m1\u001b[0m\u001b[91m]\u001b[0m\u001b[91m[\u001b[0m\u001b[91mR\u001b[0m\u001b[91mi\u001b[0m\u001b[91mn\u001b[0m\u001b[91mg\u001b[0m\u001b[91m1\u001b[0m][Ring\u001b[91m1\u001b[0m][Ring1][\u001b[91me\u001b[0m\u001b[91mn\u001b[0m\u001b[91md\u001b[0m\u001b[91m]\u001b[0m\u001b[91m[\u001b[0m\u001b[91me\u001b[0m\u001b[91mn\u001b[0m\u001b[91md\u001b[0m\u001b[91m]\u001b[0m\u001b[91m[\u001b[0m\u001b[91me\u001b[0m\u001b[91mn\u001b[0m\u001b[91md\u001b[0m\u001b[91m]\u001b[0m\u001b[91m[\u001b[0m\u001b[91mR\u001b[0m\u001b[91mi\u001b[0m\u001b[91mn\u001b[0m\u001b[91mg\u001b[0m\u001b[91m1\u001b[0m\u001b[91m]\u001b[0m\u001b[91m[\u001b[0m\u001b[91mR\u001b[0m\u001b[91mi\u001b[0mn\u001b[91mg\u001b[0m\u001b[91m1\u001b[0m][\u001b[91mR\u001b[0m\u001b[91mi\u001b[0m\u001b[91mn\u001b[0m\u001b[91mg\u001b[0m\u001b[91m1\u001b[0m\u001b[91m]\u001b[0m\u001b[91m[\u001b[0m\u001b[91mR\u001b[0m\u001b[91mi\u001b[0m\u001b[91mn\u001b[0m\u001b[91mg\u001b[0m\u001b[91m1\u001b[0m\u001b[91m]\u001b[0m\u001b[91m[\u001b[0m\u001b[91mR\u001b[0m\u001b[91mi\u001b[0m\u001b[91mn\u001b[0m\u001b[91mg\u001b[0m\u001b[91m1\u001b[0m\u001b[91m]\u001b[0m\u001b[91m[\u001b[0m\u001b[91mR\u001b[0m\u001b[91mi\u001b[0m\u001b[91mn\u001b[0m\u001b[91mg\u001b[0m\u001b[91m1\u001b[0m\u001b[91m]\u001b[0m\u001b[91m[\u001b[0m\u001b[91mR\u001b[0m\u001b[91mi\u001b[0mn\u001b[91mg\u001b[0m\u001b[91m2\u001b[0m][\u001b[91mR\u001b[0m\u001b[91mi\u001b[0m\u001b[91mn\u001b[0m\u001b[91mg\u001b[0m\u001b[91m2\u001b[0m\u001b[91m]\u001b[0m\u001b[91m[\u001b[0m\u001b[91mR\u001b[0m\u001b[91mi\u001b[0m\u001b[91mn\u001b[0m\u001b[91mg\u001b[0m\u001b[91m2\u001b[0m\u001b[91m]\u001b[0m\u001b[91m[\u001b[0m\u001b[91mR\u001b[0m\u001b[91mi\u001b[0m\u001b[91mn\u001b[0m\u001b[91mg\u001b[0m\u001b[91m2\u001b[0m\u001b[91m]\u001b[0m\u001b[91m[\u001b[0m\u001b[91mR\u001b[0m\u001b[91mi\u001b[0m\u001b[91mn\u001b[0m\u001b[91mg\u001b[0m\u001b[91m2\u001b[0m\u001b[91m]\u001b[0m\u001b[91m[\u001b[0m\u001b[91mR\u001b[0m\u001b[91mi\u001b[0mn\u001b[91mg\u001b[0m\u001b[91m1\u001b[0m][\u001b[91mR\u001b[0m\u001b[91mi\u001b[0m\u001b[91mn\u001b[0m\u001b[91mg\u001b[0m\u001b[91m2\u001b[0m\u001b[91m]\u001b[0m\u001b[91m[\u001b[0m\u001b[91me\u001b[0m\u001b[91mn\u001b[0m\u001b[91md\u001b[0m\u001b[91m]\u001b[0m\u001b[91m[\u001b[0m\u001b[91me\u001b[0m\u001b[91mn\u001b[0m\u001b[91md\u001b[0m\u001b[91m]\u001b[0m\u001b[91m[\u001b[0m\u001b[91mR\u001b[0m\u001b[91mi\u001b[0m\u001b[91mn\u001b[0m\u001b[91mg\u001b[0m\u001b[91m2\u001b[0m\u001b[91m]\u001b[0m\u001b[91m[\u001b[0m\u001b[91mR\u001b[0m\u001b[91mi\u001b[0m\u001b[91mn\u001b[0m\u001b[91mg\u001b[0m\u001b[91m1\u001b[0m\u001b[91m]\u001b[0m\u001b[91m[\u001b[0m\u001b[91mR\u001b[0m\u001b[91mi\u001b[0m\u001b[91mn\u001b[0m\u001b[91mg\u001b[0m\u001b[91m1\u001b[0m\u001b[91m]\u001b[0m\u001b[91m[\u001b[0m\u001b[91mR\u001b[0m\u001b[91mi\u001b[0mn\u001b[91mg\u001b[0m\u001b[91m2\u001b[0m][\u001b[91me\u001b[0m\u001b[91mn\u001b[0m\u001b[91md\u001b[0m][\u001b[91mR\u001b[0m\u001b[91mi\u001b[0m\u001b[91mn\u001b[0m\u001b[91mg\u001b[0m\u001b[91m2\u001b[0m\u001b[91m]\u001b[0m\u001b[91m[\u001b[0m\u001b[91mR\u001b[0m\u001b[91mi\u001b[0m\u001b[91mn\u001b[0m\u001b[91mg\u001b[0m\u001b[91m1\u001b[0m\u001b[91m]\u001b[0m\u001b[91m[\u001b[0m\u001b[91mR\u001b[0m\u001b[91mi\u001b[0m\u001b[91mn\u001b[0m\u001b[91mg\u001b[0m\u001b[91m1\u001b[0m\u001b[91m]\u001b[0m\u001b[91m[\u001b[0m\u001b[91mR\u001b[0m\u001b[91mi\u001b[0m\u001b[91mn\u001b[0m\u001b[91mg\u001b[0m\u001b[91m2\u001b[0m\u001b[91m]\u001b[0m\u001b[91m[\u001b[0m\u001b[91mR\u001b[0m\u001b[91mi\u001b[0mn\u001b[91mg\u001b[0m\u001b[91m1\u001b[0m][\u001b[91mR\u001b[0m\u001b[91mi\u001b[0m\u001b[91mn\u001b[0m\u001b[91mg\u001b[0m\u001b[91m2\u001b[0m\u001b[91m]\u001b[0m\u001b[91m[\u001b[0m\u001b[91me\u001b[0m\u001b[91mn\u001b[0m\u001b[91md\u001b[0m\u001b[91m]\u001b[0m\u001b[91m[\u001b[0m\u001b[91me\u001b[0m\u001b[91mn\u001b[0m\u001b[91md\u001b[0m\u001b[91m]\u001b[0m\u001b[91m[\u001b[0m\u001b[91me\u001b[0m\u001b[91mn\u001b[0m\u001b[91md\u001b[0m\u001b[91m]\u001b[0m\n",
      "-------------------\n",
      "\n",
      "Target:  [C][C][=C][Branch1][=C][N][N][=N][C][=C][C][=C][C][=C][Ring1][=Branch1][Ring1][=Branch2][C@@H1][Branch1][=Branch2][C][=C][C][=C][C][=C][Ring1][=Branch1][C][Branch1][Ring1][C][#N][=C][Branch1][C][N][O][Ring2][Ring1][Branch2][end][nop][nop][nop][nop][nop][nop][nop][nop][nop][nop][nop][nop][nop][nop][nop][nop][nop][nop][nop][nop][nop][nop][nop][nop][nop][nop][nop][nop][nop][nop][nop][nop][nop][nop][nop][nop][nop][nop]\n",
      "Output:  [C][C][\u001b[91mC\u001b[0m\u001b[91m]\u001b[0m\u001b[91m[\u001b[0m\u001b[91mC\u001b[0m\u001b[91m]\u001b[0m\u001b[91m[\u001b[0m\u001b[91m=\u001b[0m\u001b[91mC\u001b[0m\u001b[91m]\u001b[0m\u001b[91m[\u001b[0m\u001b[91mC\u001b[0m][=C][\u001b[91mC\u001b[0m][\u001b[91mC\u001b[0m][\u001b[91mC\u001b[0m\u001b[91m]\u001b[0m\u001b[91m[\u001b[0m\u001b[91mC\u001b[0m\u001b[91m]\u001b[0m\u001b[91m[\u001b[0m\u001b[91mC\u001b[0m\u001b[91m]\u001b[0m\u001b[91m[\u001b[0m\u001b[91mC\u001b[0m\u001b[91m]\u001b[0m\u001b[91m[\u001b[0m\u001b[91m=\u001b[0m\u001b[91mC\u001b[0m\u001b[91m]\u001b[0m\u001b[91m[\u001b[0m\u001b[91mC\u001b[0m\u001b[91m]\u001b[0m\u001b[91m[\u001b[0m\u001b[91m=\u001b[0m\u001b[91mC\u001b[0m\u001b[91m]\u001b[0m\u001b[91m[\u001b[0m\u001b[91mC\u001b[0m\u001b[91m]\u001b[0m\u001b[91m[\u001b[0m\u001b[91m=\u001b[0m\u001b[91mO\u001b[0m\u001b[91m]\u001b[0m\u001b[91m[\u001b[0m\u001b[91mC\u001b[0m\u001b[91m]\u001b[0m\u001b[91m[\u001b[0m\u001b[91m=\u001b[0m\u001b[91mC\u001b[0m\u001b[91m]\u001b[0m\u001b[91m[\u001b[0m\u001b[91mC\u001b[0m\u001b[91m]\u001b[0m\u001b[91m[\u001b[0m\u001b[91mC\u001b[0m\u001b[91m]\u001b[0m\u001b[91m[\u001b[0m\u001b[91mC\u001b[0m\u001b[91m]\u001b[0m\u001b[91m[\u001b[0m\u001b[91mC\u001b[0m][=\u001b[91mC\u001b[0m\u001b[91m]\u001b[0m\u001b[91m[\u001b[0m\u001b[91mC\u001b[0m\u001b[91m]\u001b[0m\u001b[91m[\u001b[0m\u001b[91m=\u001b[0m\u001b[91mC\u001b[0m\u001b[91m]\u001b[0m\u001b[91m[\u001b[0m\u001b[91mC\u001b[0m\u001b[91m]\u001b[0m\u001b[91m[\u001b[0m\u001b[91m=\u001b[0m\u001b[91mB\u001b[0m\u001b[91mr\u001b[0m\u001b[91ma\u001b[0m\u001b[91mn\u001b[0m\u001b[91mc\u001b[0m\u001b[91mh\u001b[0m\u001b[91m1\u001b[0m\u001b[91m]\u001b[0m\u001b[91m[\u001b[0m\u001b[91mC\u001b[0m\u001b[91m]\u001b[0m\u001b[91m[\u001b[0m\u001b[91mC\u001b[0m\u001b[91m]\u001b[0m\u001b[91m[\u001b[0m\u001b[91mC\u001b[0m\u001b[91m]\u001b[0m\u001b[91m[\u001b[0m\u001b[91mC\u001b[0m][C][\u001b[91mC\u001b[0m\u001b[91m]\u001b[0m\u001b[91m[\u001b[0m\u001b[91mC\u001b[0m\u001b[91m]\u001b[0m\u001b[91m[\u001b[0m\u001b[91mC\u001b[0m\u001b[91m]\u001b[0m\u001b[91m[\u001b[0m\u001b[91mC\u001b[0m\u001b[91m]\u001b[0m\u001b[91m[\u001b[0m\u001b[91mC\u001b[0m\u001b[91m]\u001b[0m\u001b[91m[\u001b[0mC][\u001b[91m=\u001b[0m\u001b[91mC\u001b[0m\u001b[91m]\u001b[0m\u001b[91m[\u001b[0m\u001b[91mC\u001b[0m][=\u001b[91mC\u001b[0m\u001b[91m]\u001b[0m\u001b[91m[\u001b[0m\u001b[91mR\u001b[0m\u001b[91mi\u001b[0m\u001b[91mn\u001b[0m\u001b[91mg\u001b[0m\u001b[91m1\u001b[0m\u001b[91m]\u001b[0m\u001b[91m[\u001b[0m\u001b[91m=\u001b[0m\u001b[91mB\u001b[0m\u001b[91mr\u001b[0m\u001b[91ma\u001b[0m\u001b[91mn\u001b[0m\u001b[91mc\u001b[0m\u001b[91mh\u001b[0m\u001b[91m1\u001b[0m\u001b[91m]\u001b[0m\u001b[91m[\u001b[0m\u001b[91me\u001b[0m\u001b[91mn\u001b[0m\u001b[91md\u001b[0m\u001b[91m]\u001b[0m\u001b[91m[\u001b[0m\u001b[91mR\u001b[0m\u001b[91mi\u001b[0m\u001b[91mn\u001b[0m\u001b[91mg\u001b[0m\u001b[91m1\u001b[0m\u001b[91m]\u001b[0m\u001b[91m[\u001b[0m\u001b[91mR\u001b[0m\u001b[91mi\u001b[0m\u001b[91mn\u001b[0m\u001b[91mg\u001b[0m\u001b[91m1\u001b[0m][\u001b[91mR\u001b[0m\u001b[91mi\u001b[0m\u001b[91mn\u001b[0m\u001b[91mg\u001b[0m\u001b[91m1\u001b[0m\u001b[91m]\u001b[0m\u001b[91m[\u001b[0m\u001b[91me\u001b[0m\u001b[91mn\u001b[0m\u001b[91md\u001b[0m][\u001b[91me\u001b[0m\u001b[91mn\u001b[0m\u001b[91md\u001b[0m\u001b[91m]\u001b[0m\u001b[91m[\u001b[0m\u001b[91me\u001b[0m\u001b[91mn\u001b[0m\u001b[91md\u001b[0m\u001b[91m]\u001b[0m\u001b[91m[\u001b[0m\u001b[91mR\u001b[0m\u001b[91mi\u001b[0m\u001b[91mn\u001b[0m\u001b[91mg\u001b[0m\u001b[91m1\u001b[0m\u001b[91m]\u001b[0m\u001b[91m[\u001b[0m\u001b[91mR\u001b[0m\u001b[91mi\u001b[0m\u001b[91mn\u001b[0m\u001b[91mg\u001b[0m\u001b[91m1\u001b[0m\u001b[91m]\u001b[0m\u001b[91m[\u001b[0m\u001b[91mR\u001b[0m\u001b[91mi\u001b[0m\u001b[91mn\u001b[0m\u001b[91mg\u001b[0m\u001b[91m1\u001b[0m\u001b[91m]\u001b[0m\u001b[91m[\u001b[0m\u001b[91mR\u001b[0m\u001b[91mi\u001b[0m\u001b[91mn\u001b[0m\u001b[91mg\u001b[0m\u001b[91m1\u001b[0m\u001b[91m]\u001b[0m\u001b[91m[\u001b[0m\u001b[91mR\u001b[0m\u001b[91mi\u001b[0m\u001b[91mn\u001b[0m\u001b[91mg\u001b[0m\u001b[91m1\u001b[0m\u001b[91m]\u001b[0m\u001b[91m[\u001b[0m\u001b[91mR\u001b[0m\u001b[91mi\u001b[0m\u001b[91mn\u001b[0m\u001b[91mg\u001b[0m\u001b[91m1\u001b[0m\u001b[91m]\u001b[0m\u001b[91m[\u001b[0m\u001b[91mR\u001b[0m\u001b[91mi\u001b[0mn\u001b[91mg\u001b[0m\u001b[91m2\u001b[0m][\u001b[91mR\u001b[0m\u001b[91mi\u001b[0m\u001b[91mn\u001b[0m\u001b[91mg\u001b[0m\u001b[91m2\u001b[0m\u001b[91m]\u001b[0m\u001b[91m[\u001b[0m\u001b[91mR\u001b[0m\u001b[91mi\u001b[0m\u001b[91mn\u001b[0m\u001b[91mg\u001b[0m\u001b[91m2\u001b[0m\u001b[91m]\u001b[0m\u001b[91m[\u001b[0m\u001b[91mR\u001b[0m\u001b[91mi\u001b[0m\u001b[91mn\u001b[0m\u001b[91mg\u001b[0m\u001b[91m2\u001b[0m\u001b[91m]\u001b[0m\u001b[91m[\u001b[0m\u001b[91mR\u001b[0m\u001b[91mi\u001b[0m\u001b[91mn\u001b[0m\u001b[91mg\u001b[0m\u001b[91m2\u001b[0m\u001b[91m]\u001b[0m\u001b[91m[\u001b[0m\u001b[91mR\u001b[0m\u001b[91mi\u001b[0mn\u001b[91mg\u001b[0m\u001b[91m1\u001b[0m][\u001b[91mR\u001b[0m\u001b[91mi\u001b[0m\u001b[91mn\u001b[0m\u001b[91mg\u001b[0m\u001b[91m2\u001b[0m\u001b[91m]\u001b[0m\u001b[91m[\u001b[0m\u001b[91me\u001b[0m\u001b[91mn\u001b[0m\u001b[91md\u001b[0m\u001b[91m]\u001b[0m\u001b[91m[\u001b[0m\u001b[91me\u001b[0m\u001b[91mn\u001b[0m\u001b[91md\u001b[0m\u001b[91m]\u001b[0m\u001b[91m[\u001b[0m\u001b[91mR\u001b[0m\u001b[91mi\u001b[0m\u001b[91mn\u001b[0m\u001b[91mg\u001b[0m\u001b[91m2\u001b[0m\u001b[91m]\u001b[0m\u001b[91m[\u001b[0m\u001b[91mR\u001b[0m\u001b[91mi\u001b[0m\u001b[91mn\u001b[0m\u001b[91mg\u001b[0m\u001b[91m1\u001b[0m\u001b[91m]\u001b[0m\u001b[91m[\u001b[0m\u001b[91mR\u001b[0m\u001b[91mi\u001b[0m\u001b[91mn\u001b[0m\u001b[91mg\u001b[0m\u001b[91m1\u001b[0m\u001b[91m]\u001b[0m\u001b[91m[\u001b[0m\u001b[91mR\u001b[0m\u001b[91mi\u001b[0mn\u001b[91mg\u001b[0m\u001b[91m2\u001b[0m][\u001b[91me\u001b[0m\u001b[91mn\u001b[0m\u001b[91md\u001b[0m][\u001b[91mR\u001b[0m\u001b[91mi\u001b[0m\u001b[91mn\u001b[0m\u001b[91mg\u001b[0m\u001b[91m2\u001b[0m\u001b[91m]\u001b[0m\u001b[91m[\u001b[0m\u001b[91mR\u001b[0m\u001b[91mi\u001b[0m\u001b[91mn\u001b[0m\u001b[91mg\u001b[0m\u001b[91m1\u001b[0m\u001b[91m]\u001b[0m\u001b[91m[\u001b[0m\u001b[91mR\u001b[0m\u001b[91mi\u001b[0m\u001b[91mn\u001b[0m\u001b[91mg\u001b[0m\u001b[91m1\u001b[0m\u001b[91m]\u001b[0m\u001b[91m[\u001b[0m\u001b[91mR\u001b[0m\u001b[91mi\u001b[0m\u001b[91mn\u001b[0m\u001b[91mg\u001b[0m\u001b[91m2\u001b[0m\u001b[91m]\u001b[0m\u001b[91m[\u001b[0m\u001b[91mR\u001b[0m\u001b[91mi\u001b[0mn\u001b[91mg\u001b[0m\u001b[91m1\u001b[0m][\u001b[91mR\u001b[0m\u001b[91mi\u001b[0m\u001b[91mn\u001b[0m\u001b[91mg\u001b[0m\u001b[91m2\u001b[0m\u001b[91m]\u001b[0m\u001b[91m[\u001b[0m\u001b[91me\u001b[0m\u001b[91mn\u001b[0m\u001b[91md\u001b[0m\u001b[91m]\u001b[0m\u001b[91m[\u001b[0m\u001b[91me\u001b[0m\u001b[91mn\u001b[0m\u001b[91md\u001b[0m\u001b[91m]\u001b[0m\u001b[91m[\u001b[0m\u001b[91me\u001b[0m\u001b[91mn\u001b[0m\u001b[91md\u001b[0m\u001b[91m]\u001b[0m\u001b[91m-\u001b[0m\u001b[91m-\u001b[0m\u001b[91m-\u001b[0m\u001b[91m-\u001b[0m\u001b[91m-\u001b[0m\u001b[91m-\u001b[0m\u001b[91m-\u001b[0m\u001b[91m-\u001b[0m\u001b[91m-\u001b[0m\u001b[91m-\u001b[0m\u001b[91m-\u001b[0m\u001b[91m-\u001b[0m\u001b[91m-\u001b[0m\u001b[91m-\u001b[0m\u001b[91m-\u001b[0m\u001b[91m-\u001b[0m\u001b[91m-\u001b[0m\u001b[91m-\u001b[0m\u001b[91m-\u001b[0m\u001b[91m-\u001b[0m\u001b[91m-\u001b[0m\u001b[91m-\u001b[0m\u001b[91m-\u001b[0m\n",
      "-------------------\n",
      "\n",
      "Target:  [C][O][C][C][N][C][=C][Branch2][Ring1][#Branch1][N][C][=Branch1][C][=O][C@H1][Branch1][C][C][O][C][=C][C][=C][Branch1][C][C][C][=C][Ring1][#Branch1][Br][C][=N][Ring2][Ring1][Ring1][end][nop][nop][nop][nop][nop][nop][nop][nop][nop][nop][nop][nop][nop][nop][nop][nop][nop][nop][nop][nop][nop][nop][nop][nop][nop][nop][nop][nop][nop][nop][nop][nop][nop][nop][nop][nop][nop][nop][nop][nop][nop][nop][nop]----------------\n",
      "Output:  [C][\u001b[91mC\u001b[0m][C][\u001b[91m=\u001b[0m\u001b[91mC\u001b[0m\u001b[91m]\u001b[0m\u001b[91m[\u001b[0m\u001b[91mC\u001b[0m\u001b[91m]\u001b[0m\u001b[91m[\u001b[0m\u001b[91mC\u001b[0m\u001b[91m]\u001b[0m\u001b[91m[\u001b[0mC][\u001b[91mC\u001b[0m\u001b[91m]\u001b[0m\u001b[91m[\u001b[0m\u001b[91m=\u001b[0m\u001b[91mC\u001b[0m\u001b[91m]\u001b[0m\u001b[91m[\u001b[0m\u001b[91m=\u001b[0m\u001b[91mB\u001b[0m\u001b[91mr\u001b[0m\u001b[91ma\u001b[0mn\u001b[91mc\u001b[0m\u001b[91mh\u001b[0m\u001b[91m1\u001b[0m\u001b[91m]\u001b[0m\u001b[91m[\u001b[0m\u001b[91mC\u001b[0m\u001b[91m]\u001b[0m\u001b[91m[\u001b[0m\u001b[91mC\u001b[0m\u001b[91m]\u001b[0m\u001b[91m[\u001b[0m\u001b[91mC\u001b[0m][\u001b[91mC\u001b[0m][\u001b[91m=\u001b[0m\u001b[91mO\u001b[0m\u001b[91m]\u001b[0m\u001b[91m[\u001b[0m\u001b[91mN\u001b[0m\u001b[91m]\u001b[0m\u001b[91m[\u001b[0m\u001b[91mC\u001b[0m\u001b[91m]\u001b[0m\u001b[91m[\u001b[0m\u001b[91mC\u001b[0m][C][\u001b[91mC\u001b[0m\u001b[91m]\u001b[0m\u001b[91m[\u001b[0m\u001b[91mC\u001b[0m\u001b[91m]\u001b[0m\u001b[91m[\u001b[0m\u001b[91m=\u001b[0m\u001b[91mC\u001b[0m][\u001b[91mC\u001b[0m\u001b[91m]\u001b[0m\u001b[91m[\u001b[0m\u001b[91m=\u001b[0m\u001b[91mC\u001b[0m\u001b[91m]\u001b[0m\u001b[91m[\u001b[0m\u001b[91mC\u001b[0m\u001b[91m]\u001b[0m\u001b[91m[\u001b[0m\u001b[91mC\u001b[0m\u001b[91m]\u001b[0m\u001b[91m[\u001b[0m\u001b[91mC\u001b[0m\u001b[91m]\u001b[0m\u001b[91m[\u001b[0m\u001b[91mC\u001b[0m\u001b[91m]\u001b[0m\u001b[91m[\u001b[0m\u001b[91mC\u001b[0m\u001b[91m]\u001b[0m\u001b[91m[\u001b[0mC][\u001b[91m=\u001b[0m\u001b[91mB\u001b[0m\u001b[91mr\u001b[0m\u001b[91ma\u001b[0m\u001b[91mn\u001b[0m\u001b[91mc\u001b[0m\u001b[91mh\u001b[0m\u001b[91m1\u001b[0m\u001b[91m]\u001b[0m\u001b[91m[\u001b[0m\u001b[91mC\u001b[0m\u001b[91m]\u001b[0m\u001b[91m[\u001b[0m\u001b[91mC\u001b[0m][C][C][C][\u001b[91mR\u001b[0m\u001b[91mi\u001b[0m\u001b[91mn\u001b[0m\u001b[91mg\u001b[0m\u001b[91m1\u001b[0m\u001b[91m]\u001b[0m\u001b[91m[\u001b[0m\u001b[91me\u001b[0m\u001b[91mn\u001b[0m\u001b[91md\u001b[0m\u001b[91m]\u001b[0m\u001b[91m[\u001b[0m\u001b[91me\u001b[0m\u001b[91mn\u001b[0m\u001b[91md\u001b[0m\u001b[91m]\u001b[0m\u001b[91m[\u001b[0m\u001b[91mR\u001b[0m\u001b[91mi\u001b[0m\u001b[91mn\u001b[0m\u001b[91mg\u001b[0m\u001b[91m1\u001b[0m\u001b[91m]\u001b[0m\u001b[91m[\u001b[0m\u001b[91mR\u001b[0m\u001b[91mi\u001b[0m\u001b[91mn\u001b[0m\u001b[91mg\u001b[0m\u001b[91m1\u001b[0m\u001b[91m]\u001b[0m\u001b[91m[\u001b[0m\u001b[91me\u001b[0m\u001b[91mn\u001b[0m\u001b[91md\u001b[0m\u001b[91m]\u001b[0m\u001b[91m[\u001b[0m\u001b[91me\u001b[0m\u001b[91mn\u001b[0m\u001b[91md\u001b[0m\u001b[91m]\u001b[0m\u001b[91m[\u001b[0m\u001b[91mC\u001b[0m\u001b[91m]\u001b[0m\u001b[91m[\u001b[0m\u001b[91mC\u001b[0m\u001b[91m]\u001b[0m\u001b[91m[\u001b[0m\u001b[91mR\u001b[0m\u001b[91mi\u001b[0m\u001b[91mn\u001b[0m\u001b[91mg\u001b[0m\u001b[91m1\u001b[0m\u001b[91m]\u001b[0m\u001b[91m[\u001b[0m\u001b[91mR\u001b[0m\u001b[91mi\u001b[0m\u001b[91mn\u001b[0m\u001b[91mg\u001b[0m\u001b[91m1\u001b[0m\u001b[91m]\u001b[0m\u001b[91m[\u001b[0m\u001b[91mR\u001b[0m\u001b[91mi\u001b[0mn\u001b[91mg\u001b[0m\u001b[91m1\u001b[0m][\u001b[91mR\u001b[0m\u001b[91mi\u001b[0m\u001b[91mn\u001b[0m\u001b[91mg\u001b[0m\u001b[91m1\u001b[0m\u001b[91m]\u001b[0m\u001b[91m[\u001b[0m\u001b[91me\u001b[0m\u001b[91mn\u001b[0m\u001b[91md\u001b[0m\u001b[91m]\u001b[0m\u001b[91m[\u001b[0m\u001b[91me\u001b[0m\u001b[91mn\u001b[0m\u001b[91md\u001b[0m\u001b[91m]\u001b[0m\u001b[91m[\u001b[0m\u001b[91me\u001b[0m\u001b[91mn\u001b[0m\u001b[91md\u001b[0m\u001b[91m]\u001b[0m\u001b[91m[\u001b[0m\u001b[91mR\u001b[0m\u001b[91mi\u001b[0m\u001b[91mn\u001b[0m\u001b[91mg\u001b[0m\u001b[91m1\u001b[0m\u001b[91m]\u001b[0m\u001b[91m[\u001b[0m\u001b[91mR\u001b[0m\u001b[91mi\u001b[0m\u001b[91mn\u001b[0m\u001b[91mg\u001b[0m\u001b[91m1\u001b[0m\u001b[91m]\u001b[0m\u001b[91m[\u001b[0m\u001b[91mR\u001b[0m\u001b[91mi\u001b[0m\u001b[91mn\u001b[0m\u001b[91mg\u001b[0m\u001b[91m1\u001b[0m\u001b[91m]\u001b[0m\u001b[91m[\u001b[0m\u001b[91mR\u001b[0m\u001b[91mi\u001b[0mn\u001b[91mg\u001b[0m\u001b[91m1\u001b[0m][\u001b[91mR\u001b[0m\u001b[91mi\u001b[0m\u001b[91mn\u001b[0m\u001b[91mg\u001b[0m\u001b[91m1\u001b[0m\u001b[91m]\u001b[0m\u001b[91m[\u001b[0m\u001b[91mR\u001b[0m\u001b[91mi\u001b[0m\u001b[91mn\u001b[0m\u001b[91mg\u001b[0m\u001b[91m1\u001b[0m\u001b[91m]\u001b[0m\u001b[91m[\u001b[0m\u001b[91mR\u001b[0m\u001b[91mi\u001b[0m\u001b[91mn\u001b[0m\u001b[91mg\u001b[0m\u001b[91m2\u001b[0m\u001b[91m]\u001b[0m\u001b[91m[\u001b[0m\u001b[91mR\u001b[0m\u001b[91mi\u001b[0m\u001b[91mn\u001b[0m\u001b[91mg\u001b[0m\u001b[91m2\u001b[0m\u001b[91m]\u001b[0m\u001b[91m[\u001b[0m\u001b[91mR\u001b[0m\u001b[91mi\u001b[0mn\u001b[91mg\u001b[0m\u001b[91m2\u001b[0m][\u001b[91mR\u001b[0m\u001b[91mi\u001b[0m\u001b[91mn\u001b[0m\u001b[91mg\u001b[0m\u001b[91m2\u001b[0m\u001b[91m]\u001b[0m\u001b[91m[\u001b[0m\u001b[91mR\u001b[0m\u001b[91mi\u001b[0m\u001b[91mn\u001b[0m\u001b[91mg\u001b[0m\u001b[91m2\u001b[0m\u001b[91m]\u001b[0m\u001b[91m[\u001b[0m\u001b[91mR\u001b[0m\u001b[91mi\u001b[0m\u001b[91mn\u001b[0m\u001b[91mg\u001b[0m\u001b[91m2\u001b[0m\u001b[91m]\u001b[0m\u001b[91m[\u001b[0m\u001b[91mR\u001b[0m\u001b[91mi\u001b[0m\u001b[91mn\u001b[0m\u001b[91mg\u001b[0m\u001b[91m1\u001b[0m\u001b[91m]\u001b[0m\u001b[91m[\u001b[0m\u001b[91mR\u001b[0m\u001b[91mi\u001b[0mn\u001b[91mg\u001b[0m\u001b[91m2\u001b[0m][\u001b[91me\u001b[0m\u001b[91mn\u001b[0m\u001b[91md\u001b[0m][\u001b[91me\u001b[0m\u001b[91mn\u001b[0m\u001b[91md\u001b[0m][\u001b[91mR\u001b[0m\u001b[91mi\u001b[0m\u001b[91mn\u001b[0m\u001b[91mg\u001b[0m\u001b[91m2\u001b[0m\u001b[91m]\u001b[0m\u001b[91m[\u001b[0m\u001b[91mR\u001b[0m\u001b[91mi\u001b[0m\u001b[91mn\u001b[0m\u001b[91mg\u001b[0m\u001b[91m2\u001b[0m\u001b[91m]\u001b[0m\u001b[91m[\u001b[0m\u001b[91mR\u001b[0m\u001b[91mi\u001b[0m\u001b[91mn\u001b[0m\u001b[91mg\u001b[0m\u001b[91m2\u001b[0m\u001b[91m]\u001b[0m\u001b[91m[\u001b[0m\u001b[91mR\u001b[0m\u001b[91mi\u001b[0m\u001b[91mn\u001b[0m\u001b[91mg\u001b[0m\u001b[91m2\u001b[0m\u001b[91m]\u001b[0m\u001b[91m[\u001b[0m\u001b[91mR\u001b[0m\u001b[91mi\u001b[0mn\u001b[91mg\u001b[0m\u001b[91m2\u001b[0m][\u001b[91mR\u001b[0m\u001b[91mi\u001b[0m\u001b[91mn\u001b[0m\u001b[91mg\u001b[0m\u001b[91m2\u001b[0m\u001b[91m]\u001b[0m\u001b[91m[\u001b[0m\u001b[91mR\u001b[0m\u001b[91mi\u001b[0m\u001b[91mn\u001b[0m\u001b[91mg\u001b[0m\u001b[91m2\u001b[0m\u001b[91m]\u001b[0m\u001b[91m[\u001b[0m\u001b[91mR\u001b[0m\u001b[91mi\u001b[0m\u001b[91mn\u001b[0m\u001b[91mg\u001b[0m\u001b[91m2\u001b[0m\u001b[91m]\u001b[0m\u001b[91m[\u001b[0m\u001b[91mR\u001b[0m\u001b[91mi\u001b[0m\u001b[91mn\u001b[0m\u001b[91mg\u001b[0m\u001b[91m2\u001b[0m\u001b[91m]\u001b[0m\u001b[91m[\u001b[0m\u001b[91mR\u001b[0m\u001b[91mi\u001b[0mn\u001b[91mg\u001b[0m\u001b[91m2\u001b[0m][\u001b[91mR\u001b[0m\u001b[91mi\u001b[0m\u001b[91mn\u001b[0m\u001b[91mg\u001b[0m\u001b[91m2\u001b[0m\u001b[91m]\u001b[0m\u001b[91m[\u001b[0m\u001b[91mR\u001b[0m\u001b[91mi\u001b[0m\u001b[91mn\u001b[0m\u001b[91mg\u001b[0m\u001b[91m2\u001b[0m\u001b[91m]\u001b[0m\u001b[91m[\u001b[0m\u001b[91ms\u001b[0m\u001b[91mt\u001b[0m\u001b[91ma\u001b[0m\u001b[91mr\u001b[0m\u001b[91mt\u001b[0m\u001b[91m]\u001b[0m\n",
      "-------------------\n",
      "\n",
      "Epoch 0 loss: 2.133074177162988\n"
     ]
    },
    {
     "data": {
      "application/vnd.jupyter.widget-view+json": {
       "model_id": "5576a5c5734f4eb183d933f0969d9fe5",
       "version_major": 2,
       "version_minor": 0
      },
      "text/plain": [
       "  0%|          | 0/140 [00:00<?, ?it/s]"
      ]
     },
     "metadata": {},
     "output_type": "display_data"
    },
    {
     "name": "stdout",
     "output_type": "stream",
     "text": [
      "Epoch 1 loss: 1.8522996025426046\n",
      "Target:  [N][C][=Branch1][C][=O][C@@H1][C][C][C][N][Branch2][Ring2][C][C][=Branch1][C][=O][/C][=C][/C][=C][N][Branch1][O][C][C][=C][C][=C][C][=C][Ring1][=Branch1][Cl][N][=C][Ring1][=N][C][=C][C][=C][C][=C][Ring1][=Branch1][C][Ring2][Ring1][=N][end][nop][nop][nop][nop][nop][nop][nop][nop][nop][nop][nop][nop][nop][nop][nop][nop][nop][nop][nop][nop][nop][nop][nop][nop][nop][nop][nop][nop][nop][nop]\n",
      "Output:  [\u001b[91mC\u001b[0m][C][=Branch1][C][=O][\u001b[91mN\u001b[0m\u001b[91m]\u001b[0m\u001b[91m[\u001b[0m\u001b[91mC\u001b[0m\u001b[91m]\u001b[0m\u001b[91m[\u001b[0m\u001b[91mC\u001b[0m\u001b[91m]\u001b[0m\u001b[91m[\u001b[0m\u001b[91mC\u001b[0m\u001b[91m]\u001b[0m\u001b[91m[\u001b[0m\u001b[91mC\u001b[0m\u001b[91m]\u001b[0m\u001b[91m[\u001b[0m\u001b[91mC\u001b[0m\u001b[91m]\u001b[0m\u001b[91m[\u001b[0m\u001b[91m=\u001b[0mBranch\u001b[91m1\u001b[0m][Ring\u001b[91m1\u001b[0m][C][C][\u001b[91mC\u001b[0m\u001b[91m]\u001b[0m\u001b[91m[\u001b[0m\u001b[91mC\u001b[0m\u001b[91m]\u001b[0m\u001b[91m[\u001b[0m\u001b[91mC\u001b[0m\u001b[91m]\u001b[0m\u001b[91m[\u001b[0m\u001b[91mC\u001b[0m\u001b[91m]\u001b[0m\u001b[91m[\u001b[0m\u001b[91mC\u001b[0m\u001b[91m]\u001b[0m\u001b[91m[\u001b[0m\u001b[91m=\u001b[0m\u001b[91mC\u001b[0m\u001b[91m]\u001b[0m\u001b[91m[\u001b[0m\u001b[91mR\u001b[0m\u001b[91mi\u001b[0m\u001b[91mn\u001b[0m\u001b[91mg\u001b[0m\u001b[91m1\u001b[0m\u001b[91m]\u001b[0m\u001b[91m[\u001b[0m\u001b[91m=\u001b[0m\u001b[91mB\u001b[0m\u001b[91mr\u001b[0m\u001b[91ma\u001b[0m\u001b[91mn\u001b[0m\u001b[91mc\u001b[0m\u001b[91mh\u001b[0m\u001b[91m1\u001b[0m][\u001b[91mC\u001b[0m\u001b[91m]\u001b[0m\u001b[91m[\u001b[0m\u001b[91mC\u001b[0m\u001b[91m]\u001b[0m\u001b[91m[\u001b[0m\u001b[91mC\u001b[0m][\u001b[91mC\u001b[0m][C][\u001b[91m=\u001b[0m\u001b[91mC\u001b[0m\u001b[91m]\u001b[0m\u001b[91m[\u001b[0mC][\u001b[91m=\u001b[0m\u001b[91mC\u001b[0m\u001b[91m]\u001b[0m\u001b[91m[\u001b[0m\u001b[91mR\u001b[0m\u001b[91mi\u001b[0m\u001b[91mn\u001b[0m\u001b[91mg\u001b[0m\u001b[91m1\u001b[0m\u001b[91m]\u001b[0m\u001b[91m[\u001b[0m\u001b[91m=\u001b[0m\u001b[91mB\u001b[0m\u001b[91mr\u001b[0m\u001b[91ma\u001b[0m\u001b[91mn\u001b[0m\u001b[91mc\u001b[0m\u001b[91mh\u001b[0m1][\u001b[91mC\u001b[0m\u001b[91m]\u001b[0m\u001b[91m[\u001b[0m\u001b[91mR\u001b[0m\u001b[91mi\u001b[0m\u001b[91mn\u001b[0m\u001b[91mg\u001b[0m1][C\u001b[91m]\u001b[0m\u001b[91m[\u001b[0m\u001b[91mR\u001b[0m\u001b[91mi\u001b[0m\u001b[91mn\u001b[0m\u001b[91mg\u001b[0m\u001b[91m1\u001b[0m\u001b[91m]\u001b[0m\u001b[91m[\u001b[0m\u001b[91mR\u001b[0m\u001b[91mi\u001b[0m\u001b[91mn\u001b[0m\u001b[91mg\u001b[0m\u001b[91m1\u001b[0m\u001b[91m]\u001b[0m\u001b[91m[\u001b[0m\u001b[91mC\u001b[0m\u001b[91m]\u001b[0m\u001b[91m[\u001b[0m\u001b[91me\u001b[0m\u001b[91mn\u001b[0m\u001b[91md\u001b[0m][\u001b[91mC\u001b[0m\u001b[91m]\u001b[0m\u001b[91m[\u001b[0m\u001b[91mC\u001b[0m\u001b[91m]\u001b[0m\u001b[91m[\u001b[0m\u001b[91mC\u001b[0m\u001b[91m]\u001b[0m\u001b[91m[\u001b[0m\u001b[91m=\u001b[0m\u001b[91mC\u001b[0m\u001b[91m]\u001b[0m\u001b[91m[\u001b[0m\u001b[91mC\u001b[0m\u001b[91m]\u001b[0m\u001b[91m[\u001b[0m\u001b[91m=\u001b[0m\u001b[91mC\u001b[0m\u001b[91m]\u001b[0m\u001b[91m[\u001b[0m\u001b[91mC\u001b[0m\u001b[91m]\u001b[0m\u001b[91m[\u001b[0m\u001b[91m=\u001b[0m\u001b[91mO\u001b[0m\u001b[91m]\u001b[0m\u001b[91m[\u001b[0m\u001b[91mR\u001b[0m\u001b[91mi\u001b[0mn\u001b[91mg\u001b[0m\u001b[91m1\u001b[0m\u001b[91m]\u001b[0m\u001b[91m[\u001b[0m\u001b[91mR\u001b[0m\u001b[91mi\u001b[0m\u001b[91mn\u001b[0m\u001b[91mg\u001b[0m\u001b[91m1\u001b[0m\u001b[91m]\u001b[0m\u001b[91m[\u001b[0m\u001b[91me\u001b[0m\u001b[91mn\u001b[0m\u001b[91md\u001b[0m\u001b[91m]\u001b[0m\u001b[91m[\u001b[0m\u001b[91me\u001b[0mn\u001b[91md\u001b[0m\u001b[91m]\u001b[0m\u001b[91m[\u001b[0m\u001b[91mR\u001b[0m\u001b[91mi\u001b[0m\u001b[91mn\u001b[0m\u001b[91mg\u001b[0m\u001b[91m1\u001b[0m\u001b[91m]\u001b[0m\u001b[91m[\u001b[0m\u001b[91mR\u001b[0m\u001b[91mi\u001b[0m\u001b[91mn\u001b[0m\u001b[91mg\u001b[0m\u001b[91m1\u001b[0m\u001b[91m]\u001b[0m\u001b[91m[\u001b[0m\u001b[91mR\u001b[0m\u001b[91mi\u001b[0m\u001b[91mn\u001b[0m\u001b[91mg\u001b[0m\u001b[91m1\u001b[0m\u001b[91m]\u001b[0m\u001b[91m[\u001b[0m\u001b[91mR\u001b[0m\u001b[91mi\u001b[0m\u001b[91mn\u001b[0m\u001b[91mg\u001b[0m\u001b[91m1\u001b[0m\u001b[91m]\u001b[0m\u001b[91m[\u001b[0m\u001b[91me\u001b[0m\u001b[91mn\u001b[0m\u001b[91md\u001b[0m\u001b[91m]\u001b[0m\u001b[91m[\u001b[0m\u001b[91me\u001b[0m\u001b[91mn\u001b[0m\u001b[91md\u001b[0m\u001b[91m]\u001b[0m\u001b[91m[\u001b[0m\u001b[91mC\u001b[0m\u001b[91m]\u001b[0m\u001b[91m[\u001b[0m\u001b[91m=\u001b[0m\u001b[91mC\u001b[0m][\u001b[91mC\u001b[0m\u001b[91m]\u001b[0m\u001b[91m[\u001b[0m\u001b[91m=\u001b[0m\u001b[91mC\u001b[0m\u001b[91m]\u001b[0m\u001b[91m[\u001b[0m\u001b[91mR\u001b[0m\u001b[91mi\u001b[0m\u001b[91mn\u001b[0m\u001b[91mg\u001b[0m\u001b[91m1\u001b[0m\u001b[91m]\u001b[0m\u001b[91m[\u001b[0m\u001b[91mR\u001b[0m\u001b[91mi\u001b[0m\u001b[91mn\u001b[0m\u001b[91mg\u001b[0m\u001b[91m1\u001b[0m\u001b[91m]\u001b[0m\u001b[91m[\u001b[0m\u001b[91mB\u001b[0m\u001b[91mr\u001b[0m\u001b[91ma\u001b[0m\u001b[91mn\u001b[0m\u001b[91mc\u001b[0m\u001b[91mh\u001b[0m\u001b[91m1\u001b[0m][\u001b[91mC\u001b[0m\u001b[91m]\u001b[0m\u001b[91m[\u001b[0m\u001b[91mC\u001b[0m\u001b[91m]\u001b[0m\u001b[91m[\u001b[0m\u001b[91mR\u001b[0m\u001b[91mi\u001b[0m\u001b[91mn\u001b[0m\u001b[91mg\u001b[0m\u001b[91m1\u001b[0m\u001b[91m]\u001b[0m\u001b[91m[\u001b[0m\u001b[91mC\u001b[0m\u001b[91m]\u001b[0m\u001b[91m[\u001b[0m\u001b[91mC\u001b[0m\u001b[91m]\u001b[0m\u001b[91m[\u001b[0m\u001b[91mC\u001b[0m\u001b[91m]\u001b[0m\u001b[91m[\u001b[0m\u001b[91mR\u001b[0m\u001b[91mi\u001b[0m\u001b[91mn\u001b[0m\u001b[91mg\u001b[0m\u001b[91m1\u001b[0m\u001b[91m]\u001b[0m\u001b[91m[\u001b[0m\u001b[91m#\u001b[0m\u001b[91mB\u001b[0m\u001b[91mr\u001b[0m\u001b[91ma\u001b[0m\u001b[91mn\u001b[0m\u001b[91mc\u001b[0m\u001b[91mh\u001b[0m\u001b[91m1\u001b[0m\u001b[91m]\u001b[0m\u001b[91m[\u001b[0m\u001b[91mC\u001b[0m\u001b[91m]\u001b[0m\u001b[91m[\u001b[0m\u001b[91mC\u001b[0m][\u001b[91mC\u001b[0m\u001b[91m]\u001b[0m\u001b[91m[\u001b[0m\u001b[91mC\u001b[0m\u001b[91m]\u001b[0m\u001b[91m[\u001b[0m\u001b[91mC\u001b[0m\u001b[91m]\u001b[0m\u001b[91m[\u001b[0m\u001b[91mB\u001b[0m\u001b[91mr\u001b[0m\u001b[91ma\u001b[0m\u001b[91mn\u001b[0m\u001b[91mc\u001b[0m\u001b[91mh\u001b[0m\u001b[91m2\u001b[0m\u001b[91m]\u001b[0m\u001b[91m[\u001b[0m\u001b[91m=\u001b[0m\u001b[91mB\u001b[0m\u001b[91mr\u001b[0m\u001b[91ma\u001b[0m\u001b[91mn\u001b[0m\u001b[91mc\u001b[0m\u001b[91mh\u001b[0m\u001b[91m2\u001b[0m\u001b[91m]\u001b[0m\u001b[91m[\u001b[0m\u001b[91m\\\u001b[0m\u001b[91mC\u001b[0m\u001b[91m]\u001b[0m\u001b[91m-\u001b[0m\u001b[91m-\u001b[0m\u001b[91m-\u001b[0m\u001b[91m-\u001b[0m\u001b[91m-\u001b[0m\u001b[91m-\u001b[0m\u001b[91m-\u001b[0m\u001b[91m-\u001b[0m\n",
      "-------------------\n",
      "\n",
      "Target:  [C][C][C][=Branch1][C][=O][N][Branch1][=Branch2][C][C][=C][C][=C][O][Ring1][Branch1][C][C][=C][C][=C][C][=C][Branch1][C][C][C][=C][Ring1][#Branch1][NH1][C][Ring1][O][=O][end][nop][nop][nop][nop][nop][nop][nop][nop][nop][nop][nop][nop][nop][nop][nop][nop][nop][nop][nop][nop][nop][nop][nop][nop][nop][nop][nop][nop][nop][nop][nop][nop][nop][nop][nop][nop][nop][nop][nop][nop][nop][nop][nop][nop]---------------------------------------------------------\n",
      "Output:  [C][C][\u001b[91m=\u001b[0m\u001b[91mC\u001b[0m\u001b[91m]\u001b[0m\u001b[91m[\u001b[0m\u001b[91mC\u001b[0m\u001b[91m]\u001b[0m\u001b[91m[\u001b[0m\u001b[91m=\u001b[0m\u001b[91mC\u001b[0m\u001b[91m]\u001b[0m\u001b[91m[\u001b[0m\u001b[91mC\u001b[0m\u001b[91m]\u001b[0m\u001b[91m[\u001b[0m\u001b[91m=\u001b[0m\u001b[91mC\u001b[0m\u001b[91m]\u001b[0m\u001b[91m[\u001b[0m\u001b[91mC\u001b[0m\u001b[91m]\u001b[0m\u001b[91m[\u001b[0m\u001b[91mC\u001b[0m\u001b[91m]\u001b[0m\u001b[91m[\u001b[0m\u001b[91mC\u001b[0m\u001b[91m]\u001b[0m\u001b[91m[\u001b[0m\u001b[91mC\u001b[0m\u001b[91m]\u001b[0m\u001b[91m[\u001b[0m\u001b[91mC\u001b[0m\u001b[91m]\u001b[0m\u001b[91m[\u001b[0m\u001b[91mC\u001b[0m\u001b[91m]\u001b[0m\u001b[91m[\u001b[0m\u001b[91m=\u001b[0m\u001b[91mC\u001b[0m\u001b[91m]\u001b[0m\u001b[91m[\u001b[0m\u001b[91mC\u001b[0m\u001b[91m]\u001b[0m\u001b[91m[\u001b[0m\u001b[91m=\u001b[0m\u001b[91mC\u001b[0m\u001b[91m]\u001b[0m\u001b[91m[\u001b[0m\u001b[91mB\u001b[0m\u001b[91mr\u001b[0m\u001b[91ma\u001b[0m\u001b[91mn\u001b[0m\u001b[91mc\u001b[0m\u001b[91mh\u001b[0m\u001b[91m1\u001b[0m\u001b[91m]\u001b[0m\u001b[91m[\u001b[0mC][\u001b[91m=\u001b[0m\u001b[91mB\u001b[0m\u001b[91mr\u001b[0m\u001b[91ma\u001b[0m\u001b[91mn\u001b[0m\u001b[91mc\u001b[0m\u001b[91mh\u001b[0m1][\u001b[91mC\u001b[0m\u001b[91m]\u001b[0m\u001b[91m[\u001b[0m\u001b[91mC\u001b[0m\u001b[91m]\u001b[0m\u001b[91m[\u001b[0m\u001b[91mC\u001b[0m][C][C][\u001b[91mC\u001b[0m\u001b[91m]\u001b[0m\u001b[91m[\u001b[0m\u001b[91mC\u001b[0m\u001b[91m]\u001b[0m\u001b[91m[\u001b[0m\u001b[91mC\u001b[0m\u001b[91m]\u001b[0m\u001b[91m[\u001b[0m\u001b[91mC\u001b[0m\u001b[91m]\u001b[0m\u001b[91m[\u001b[0m\u001b[91mC\u001b[0m\u001b[91m]\u001b[0m\u001b[91m[\u001b[0mC][\u001b[91m#\u001b[0m\u001b[91mB\u001b[0m\u001b[91mr\u001b[0m\u001b[91ma\u001b[0m\u001b[91mn\u001b[0m\u001b[91mc\u001b[0m\u001b[91mh\u001b[0m\u001b[91m1\u001b[0m\u001b[91m]\u001b[0m\u001b[91m[\u001b[0m\u001b[91mC\u001b[0m\u001b[91m]\u001b[0m\u001b[91m[\u001b[0m\u001b[91mC\u001b[0m\u001b[91m]\u001b[0m\u001b[91m[\u001b[0m\u001b[91mR\u001b[0m\u001b[91mi\u001b[0m\u001b[91mn\u001b[0m\u001b[91mg\u001b[0m\u001b[91m1\u001b[0m\u001b[91m]\u001b[0m\u001b[91m[\u001b[0m\u001b[91mC\u001b[0m\u001b[91m]\u001b[0m\u001b[91m[\u001b[0m\u001b[91me\u001b[0m\u001b[91mn\u001b[0m\u001b[91md\u001b[0m\u001b[91m]\u001b[0m\u001b[91m[\u001b[0m\u001b[91me\u001b[0m\u001b[91mn\u001b[0m\u001b[91md\u001b[0m\u001b[91m]\u001b[0m\u001b[91m[\u001b[0m\u001b[91mR\u001b[0m\u001b[91mi\u001b[0m\u001b[91mn\u001b[0m\u001b[91mg\u001b[0m\u001b[91m2\u001b[0m\u001b[91m]\u001b[0m\u001b[91m[\u001b[0m\u001b[91mR\u001b[0m\u001b[91mi\u001b[0m\u001b[91mn\u001b[0m\u001b[91mg\u001b[0m\u001b[91m1\u001b[0m\u001b[91m]\u001b[0m\u001b[91m[\u001b[0m\u001b[91mR\u001b[0m\u001b[91mi\u001b[0m\u001b[91mn\u001b[0m\u001b[91mg\u001b[0m\u001b[91m1\u001b[0m][\u001b[91mC\u001b[0m\u001b[91m]\u001b[0m\u001b[91m[\u001b[0m\u001b[91me\u001b[0m\u001b[91mn\u001b[0m\u001b[91md\u001b[0m\u001b[91m]\u001b[0m\u001b[91m[\u001b[0m\u001b[91mR\u001b[0m\u001b[91mi\u001b[0m\u001b[91mn\u001b[0m\u001b[91mg\u001b[0m\u001b[91m2\u001b[0m\u001b[91m]\u001b[0m\u001b[91m[\u001b[0m\u001b[91mR\u001b[0m\u001b[91mi\u001b[0m\u001b[91mn\u001b[0m\u001b[91mg\u001b[0m\u001b[91m1\u001b[0m\u001b[91m]\u001b[0m\u001b[91m[\u001b[0m\u001b[91m#\u001b[0m\u001b[91mB\u001b[0m\u001b[91mr\u001b[0m\u001b[91ma\u001b[0m\u001b[91mn\u001b[0m\u001b[91mc\u001b[0m\u001b[91mh\u001b[0m\u001b[91m1\u001b[0m\u001b[91m]\u001b[0m\u001b[91m[\u001b[0m\u001b[91me\u001b[0m\u001b[91mn\u001b[0m\u001b[91md\u001b[0m\u001b[91m]\u001b[0m\u001b[91m[\u001b[0m\u001b[91me\u001b[0m\u001b[91mn\u001b[0m\u001b[91md\u001b[0m\u001b[91m]\u001b[0m\u001b[91m[\u001b[0m\u001b[91me\u001b[0m\u001b[91mn\u001b[0m\u001b[91md\u001b[0m\u001b[91m]\u001b[0m\u001b[91m[\u001b[0m\u001b[91mR\u001b[0m\u001b[91mi\u001b[0mn\u001b[91mg\u001b[0m\u001b[91m2\u001b[0m][\u001b[91mR\u001b[0m\u001b[91mi\u001b[0m\u001b[91mn\u001b[0m\u001b[91mg\u001b[0m\u001b[91m1\u001b[0m\u001b[91m]\u001b[0m\u001b[91m[\u001b[0m\u001b[91mR\u001b[0m\u001b[91mi\u001b[0m\u001b[91mn\u001b[0m\u001b[91mg\u001b[0m\u001b[91m1\u001b[0m\u001b[91m]\u001b[0m\u001b[91m[\u001b[0m\u001b[91mR\u001b[0m\u001b[91mi\u001b[0m\u001b[91mn\u001b[0m\u001b[91mg\u001b[0m\u001b[91m1\u001b[0m\u001b[91m]\u001b[0m\u001b[91m[\u001b[0m\u001b[91mR\u001b[0m\u001b[91mi\u001b[0m\u001b[91mn\u001b[0m\u001b[91mg\u001b[0m\u001b[91m1\u001b[0m\u001b[91m]\u001b[0m\u001b[91m[\u001b[0m\u001b[91mR\u001b[0m\u001b[91mi\u001b[0mn\u001b[91mg\u001b[0m\u001b[91m1\u001b[0m][\u001b[91mR\u001b[0m\u001b[91mi\u001b[0m\u001b[91mn\u001b[0m\u001b[91mg\u001b[0m\u001b[91m1\u001b[0m\u001b[91m]\u001b[0m\u001b[91m[\u001b[0m\u001b[91m#\u001b[0m\u001b[91mB\u001b[0m\u001b[91mr\u001b[0m\u001b[91ma\u001b[0m\u001b[91mn\u001b[0m\u001b[91mc\u001b[0m\u001b[91mh\u001b[0m\u001b[91m1\u001b[0m\u001b[91m]\u001b[0m\u001b[91m[\u001b[0m\u001b[91m#\u001b[0m\u001b[91mB\u001b[0m\u001b[91mr\u001b[0m\u001b[91ma\u001b[0m\u001b[91mn\u001b[0m\u001b[91mc\u001b[0m\u001b[91mh\u001b[0m\u001b[91m1\u001b[0m\u001b[91m]\u001b[0m\u001b[91m[\u001b[0m\u001b[91ms\u001b[0m\u001b[91mt\u001b[0m\u001b[91ma\u001b[0m\u001b[91mr\u001b[0m\u001b[91mt\u001b[0m\u001b[91m]\u001b[0m\u001b[91m[\u001b[0m\u001b[91ms\u001b[0m\u001b[91mt\u001b[0m\u001b[91ma\u001b[0m\u001b[91mr\u001b[0m\u001b[91mt\u001b[0m\u001b[91m]\u001b[0m\u001b[91m[\u001b[0m\u001b[91ms\u001b[0m\u001b[91mt\u001b[0m\u001b[91ma\u001b[0m\u001b[91mr\u001b[0m\u001b[91mt\u001b[0m\u001b[91m]\u001b[0m\u001b[91m[\u001b[0m\u001b[91mn\u001b[0m\u001b[91mo\u001b[0m\u001b[91mp\u001b[0m\u001b[91m]\u001b[0m\u001b[91m[\u001b[0m\u001b[91mB\u001b[0m\u001b[91mr\u001b[0m\u001b[91ma\u001b[0m\u001b[91mn\u001b[0m\u001b[91mc\u001b[0m\u001b[91mh\u001b[0m\u001b[91m1\u001b[0m\u001b[91m]\u001b[0m\u001b[91m[\u001b[0m\u001b[91mB\u001b[0m\u001b[91mr\u001b[0m\u001b[91ma\u001b[0mn\u001b[91mc\u001b[0m\u001b[91mh\u001b[0m\u001b[91m2\u001b[0m\u001b[91m]\u001b[0m\u001b[91m[\u001b[0m\u001b[91mn\u001b[0m\u001b[91mo\u001b[0m\u001b[91mp\u001b[0m\u001b[91m]\u001b[0m\u001b[91m[\u001b[0m\u001b[91mn\u001b[0m\u001b[91mo\u001b[0m\u001b[91mp\u001b[0m\u001b[91m]\u001b[0m\u001b[91m[\u001b[0m\u001b[91ms\u001b[0m\u001b[91mt\u001b[0m\u001b[91ma\u001b[0m\u001b[91mr\u001b[0m\u001b[91mt\u001b[0m\u001b[91m]\u001b[0m\u001b[91m[\u001b[0m\u001b[91ms\u001b[0m\u001b[91mt\u001b[0m\u001b[91ma\u001b[0m\u001b[91mr\u001b[0m\u001b[91mt\u001b[0m][\u001b[91ms\u001b[0m\u001b[91mt\u001b[0m\u001b[91ma\u001b[0m\u001b[91mr\u001b[0m\u001b[91mt\u001b[0m\u001b[91m]\u001b[0m\u001b[91m[\u001b[0m\u001b[91ms\u001b[0m\u001b[91mt\u001b[0m\u001b[91ma\u001b[0m\u001b[91mr\u001b[0m\u001b[91mt\u001b[0m\u001b[91m]\u001b[0m\u001b[91m[\u001b[0m\u001b[91m#\u001b[0m\u001b[91mB\u001b[0m\u001b[91mr\u001b[0m\u001b[91ma\u001b[0m\u001b[91mn\u001b[0m\u001b[91mc\u001b[0m\u001b[91mh\u001b[0m\u001b[91m1\u001b[0m\u001b[91m]\u001b[0m\u001b[91m[\u001b[0m\u001b[91mB\u001b[0m\u001b[91mr\u001b[0m\u001b[91ma\u001b[0m\u001b[91mn\u001b[0m\u001b[91mc\u001b[0m\u001b[91mh\u001b[0m\u001b[91m1\u001b[0m\u001b[91m]\u001b[0m\u001b[91m[\u001b[0m\u001b[91mB\u001b[0m\u001b[91mr\u001b[0m\u001b[91ma\u001b[0m\u001b[91mn\u001b[0m\u001b[91mc\u001b[0m\u001b[91mh\u001b[0m\u001b[91m1\u001b[0m\u001b[91m]\u001b[0m\u001b[91m[\u001b[0m\u001b[91m#\u001b[0m\u001b[91mB\u001b[0m\u001b[91mr\u001b[0m\u001b[91ma\u001b[0m\u001b[91mn\u001b[0m\u001b[91mc\u001b[0m\u001b[91mh\u001b[0m\u001b[91m1\u001b[0m\u001b[91m]\u001b[0m\u001b[91m[\u001b[0m\u001b[91m#\u001b[0m\u001b[91mB\u001b[0m\u001b[91mr\u001b[0m\u001b[91ma\u001b[0m\u001b[91mn\u001b[0m\u001b[91mc\u001b[0m\u001b[91mh\u001b[0m\u001b[91m1\u001b[0m\u001b[91m]\u001b[0m\u001b[91m[\u001b[0m\u001b[91m=\u001b[0m\u001b[91mB\u001b[0m\u001b[91mr\u001b[0m\u001b[91ma\u001b[0m\u001b[91mn\u001b[0m\u001b[91mc\u001b[0m\u001b[91mh\u001b[0m\u001b[91m2\u001b[0m\u001b[91m]\u001b[0m\u001b[91m[\u001b[0m\u001b[91mn\u001b[0m\u001b[91mo\u001b[0m\u001b[91mp\u001b[0m\u001b[91m]\u001b[0m\u001b[91m[\u001b[0m\u001b[91mn\u001b[0m\u001b[91mo\u001b[0m\u001b[91mp\u001b[0m\u001b[91m]\u001b[0m\u001b[91m[\u001b[0m\u001b[91mn\u001b[0m\u001b[91mo\u001b[0m\u001b[91mp\u001b[0m\u001b[91m]\u001b[0m\u001b[91m[\u001b[0m\u001b[91mn\u001b[0m\u001b[91mo\u001b[0m\u001b[91mp\u001b[0m\u001b[91m]\u001b[0m\u001b[91m[\u001b[0m\u001b[91mn\u001b[0m\u001b[91mo\u001b[0m\u001b[91mp\u001b[0m\u001b[91m]\u001b[0m\u001b[91m[\u001b[0m\u001b[91mn\u001b[0m\u001b[91mo\u001b[0m\u001b[91mp\u001b[0m\u001b[91m]\u001b[0m\n",
      "-------------------\n",
      "\n",
      "Target:  [C][C][Branch1][C][C][Branch1][C][O][C@H1][C][C][C@@][Branch1][C][C][C][C][C][C@@][Branch1][C][C][Branch1][C][O][C@@H1][Ring1][=Branch2][C][Ring1][=N][end][nop][nop][nop][nop][nop][nop][nop][nop][nop][nop][nop][nop][nop][nop][nop][nop][nop][nop][nop][nop][nop][nop][nop][nop][nop][nop][nop][nop][nop][nop][nop][nop][nop][nop][nop][nop][nop][nop][nop][nop][nop][nop][nop][nop][nop][nop][nop][nop][nop]\n",
      "Output:  [C][C][Branch1][C][C][\u001b[91mC\u001b[0m\u001b[91m]\u001b[0m\u001b[91m[\u001b[0m\u001b[91mC\u001b[0m\u001b[91m]\u001b[0m\u001b[91m[\u001b[0m\u001b[91mC\u001b[0m][C][\u001b[91m=\u001b[0m\u001b[91mB\u001b[0m\u001b[91mr\u001b[0m\u001b[91ma\u001b[0m\u001b[91mn\u001b[0m\u001b[91mc\u001b[0m\u001b[91mh\u001b[0m\u001b[91m1\u001b[0m\u001b[91m]\u001b[0m\u001b[91m[\u001b[0m\u001b[91mC\u001b[0m\u001b[91m]\u001b[0m\u001b[91m[\u001b[0m\u001b[91mC\u001b[0m\u001b[91m]\u001b[0m\u001b[91m[\u001b[0m\u001b[91mB\u001b[0m\u001b[91mr\u001b[0m\u001b[91ma\u001b[0m\u001b[91mn\u001b[0m\u001b[91mc\u001b[0m\u001b[91mh\u001b[0m\u001b[91m1\u001b[0m\u001b[91m]\u001b[0m\u001b[91m[\u001b[0m\u001b[91mC\u001b[0m\u001b[91m]\u001b[0m\u001b[91m[\u001b[0m\u001b[91mC\u001b[0m\u001b[91m]\u001b[0m\u001b[91m[\u001b[0m\u001b[91mC\u001b[0m\u001b[91m]\u001b[0m\u001b[91m[\u001b[0m\u001b[91mC\u001b[0m\u001b[91m]\u001b[0m\u001b[91m[\u001b[0m\u001b[91mC\u001b[0m\u001b[91m]\u001b[0m\u001b[91m[\u001b[0m\u001b[91mC\u001b[0m\u001b[91m]\u001b[0m\u001b[91m[\u001b[0m\u001b[91mB\u001b[0m\u001b[91mr\u001b[0m\u001b[91ma\u001b[0m\u001b[91mn\u001b[0m\u001b[91mc\u001b[0m\u001b[91mh\u001b[0m\u001b[91m1\u001b[0m\u001b[91m]\u001b[0m\u001b[91m[\u001b[0m\u001b[91mC\u001b[0m\u001b[91m]\u001b[0m\u001b[91m[\u001b[0m\u001b[91mC\u001b[0m][C][C][\u001b[91mC\u001b[0m\u001b[91m]\u001b[0m\u001b[91m[\u001b[0m\u001b[91mC\u001b[0m\u001b[91m]\u001b[0m\u001b[91m[\u001b[0m\u001b[91mC\u001b[0m][\u001b[91m#\u001b[0m\u001b[91mB\u001b[0m\u001b[91mr\u001b[0m\u001b[91ma\u001b[0m\u001b[91mn\u001b[0m\u001b[91mc\u001b[0m\u001b[91mh\u001b[0m\u001b[91m1\u001b[0m\u001b[91m]\u001b[0m\u001b[91m[\u001b[0m\u001b[91mC\u001b[0m][\u001b[91mC\u001b[0m\u001b[91m]\u001b[0m\u001b[91m[\u001b[0m\u001b[91mC\u001b[0m\u001b[91m]\u001b[0m\u001b[91m[\u001b[0m\u001b[91mC\u001b[0m\u001b[91m]\u001b[0m\u001b[91m[\u001b[0m\u001b[91mC\u001b[0m\u001b[91m]\u001b[0m\u001b[91m[\u001b[0m\u001b[91mR\u001b[0m\u001b[91mi\u001b[0m\u001b[91mn\u001b[0m\u001b[91mg\u001b[0m\u001b[91m1\u001b[0m\u001b[91m]\u001b[0m\u001b[91m[\u001b[0m\u001b[91mC\u001b[0m\u001b[91m]\u001b[0m\u001b[91m[\u001b[0m\u001b[91mC\u001b[0m\u001b[91m]\u001b[0m\u001b[91m[\u001b[0m\u001b[91mR\u001b[0m\u001b[91mi\u001b[0m\u001b[91mn\u001b[0m\u001b[91mg\u001b[0m\u001b[91m2\u001b[0m\u001b[91m]\u001b[0m\u001b[91m[\u001b[0m\u001b[91mR\u001b[0m\u001b[91mi\u001b[0m\u001b[91mn\u001b[0m\u001b[91mg\u001b[0m\u001b[91m1\u001b[0m\u001b[91m]\u001b[0m\u001b[91m[\u001b[0m\u001b[91mR\u001b[0m\u001b[91mi\u001b[0mn\u001b[91mg\u001b[0m\u001b[91m2\u001b[0m][\u001b[91me\u001b[0m\u001b[91mn\u001b[0m\u001b[91md\u001b[0m][\u001b[91me\u001b[0m\u001b[91mn\u001b[0m\u001b[91md\u001b[0m][\u001b[91mC\u001b[0m\u001b[91m]\u001b[0m\u001b[91m[\u001b[0m\u001b[91mR\u001b[0m\u001b[91mi\u001b[0mn\u001b[91mg\u001b[0m\u001b[91m1\u001b[0m][\u001b[91mR\u001b[0m\u001b[91mi\u001b[0m\u001b[91mn\u001b[0m\u001b[91mg\u001b[0m\u001b[91m2\u001b[0m\u001b[91m]\u001b[0m\u001b[91m[\u001b[0m\u001b[91me\u001b[0m\u001b[91mn\u001b[0m\u001b[91md\u001b[0m\u001b[91m]\u001b[0m\u001b[91m[\u001b[0m\u001b[91mC\u001b[0m][\u001b[91mR\u001b[0m\u001b[91mi\u001b[0m\u001b[91mn\u001b[0m\u001b[91mg\u001b[0m\u001b[91m2\u001b[0m\u001b[91m]\u001b[0m\u001b[91m[\u001b[0m\u001b[91mR\u001b[0m\u001b[91mi\u001b[0m\u001b[91mn\u001b[0m\u001b[91mg\u001b[0m\u001b[91m1\u001b[0m\u001b[91m]\u001b[0m\u001b[91m[\u001b[0m\u001b[91mR\u001b[0m\u001b[91mi\u001b[0m\u001b[91mn\u001b[0m\u001b[91mg\u001b[0m\u001b[91m1\u001b[0m\u001b[91m]\u001b[0m\u001b[91m[\u001b[0m\u001b[91mR\u001b[0m\u001b[91mi\u001b[0m\u001b[91mn\u001b[0m\u001b[91mg\u001b[0m\u001b[91m1\u001b[0m\u001b[91m]\u001b[0m\u001b[91m[\u001b[0m\u001b[91me\u001b[0m\u001b[91mn\u001b[0m\u001b[91md\u001b[0m\u001b[91m]\u001b[0m\u001b[91m[\u001b[0m\u001b[91mC\u001b[0m\u001b[91m]\u001b[0m\u001b[91m[\u001b[0m\u001b[91mC\u001b[0m\u001b[91m]\u001b[0m\u001b[91m[\u001b[0m\u001b[91mC\u001b[0m\u001b[91m]\u001b[0m\u001b[91m[\u001b[0m\u001b[91mC\u001b[0m][\u001b[91mC\u001b[0m\u001b[91m]\u001b[0m\u001b[91m[\u001b[0m\u001b[91m=\u001b[0m\u001b[91mC\u001b[0m\u001b[91m]\u001b[0m\u001b[91m[\u001b[0m\u001b[91mB\u001b[0m\u001b[91mr\u001b[0m\u001b[91ma\u001b[0mn\u001b[91mc\u001b[0m\u001b[91mh\u001b[0m\u001b[91m1\u001b[0m\u001b[91m]\u001b[0m\u001b[91m[\u001b[0m\u001b[91mR\u001b[0m\u001b[91mi\u001b[0m\u001b[91mn\u001b[0m\u001b[91mg\u001b[0m\u001b[91m1\u001b[0m\u001b[91m]\u001b[0m\u001b[91m[\u001b[0m\u001b[91mB\u001b[0m\u001b[91mr\u001b[0m\u001b[91ma\u001b[0m\u001b[91mn\u001b[0m\u001b[91mc\u001b[0m\u001b[91mh\u001b[0m\u001b[91m1\u001b[0m\u001b[91m]\u001b[0m\u001b[91m[\u001b[0m\u001b[91mC\u001b[0m][\u001b[91m=\u001b[0m\u001b[91mC\u001b[0m\u001b[91m]\u001b[0m\u001b[91m[\u001b[0m\u001b[91mC\u001b[0m\u001b[91m]\u001b[0m\u001b[91m[\u001b[0m\u001b[91mR\u001b[0m\u001b[91mi\u001b[0m\u001b[91mn\u001b[0m\u001b[91mg\u001b[0m\u001b[91m1\u001b[0m\u001b[91m]\u001b[0m\u001b[91m[\u001b[0m\u001b[91mB\u001b[0m\u001b[91mr\u001b[0m\u001b[91ma\u001b[0m\u001b[91mn\u001b[0m\u001b[91mc\u001b[0m\u001b[91mh\u001b[0m\u001b[91m1\u001b[0m\u001b[91m]\u001b[0m\u001b[91m[\u001b[0m\u001b[91mC\u001b[0m\u001b[91m]\u001b[0m\u001b[91m[\u001b[0m\u001b[91mC\u001b[0m\u001b[91m]\u001b[0m\u001b[91m[\u001b[0m\u001b[91mR\u001b[0m\u001b[91mi\u001b[0m\u001b[91mn\u001b[0m\u001b[91mg\u001b[0m\u001b[91m1\u001b[0m\u001b[91m]\u001b[0m\u001b[91m[\u001b[0m\u001b[91mC\u001b[0m\u001b[91m]\u001b[0m\u001b[91m[\u001b[0m\u001b[91mC\u001b[0m\u001b[91m]\u001b[0m\u001b[91m[\u001b[0m\u001b[91mC\u001b[0m][\u001b[91mR\u001b[0m\u001b[91mi\u001b[0m\u001b[91mn\u001b[0m\u001b[91mg\u001b[0m\u001b[91m1\u001b[0m\u001b[91m]\u001b[0m\u001b[91m[\u001b[0m\u001b[91m#\u001b[0m\u001b[91mB\u001b[0m\u001b[91mr\u001b[0m\u001b[91ma\u001b[0m\u001b[91mn\u001b[0m\u001b[91mc\u001b[0m\u001b[91mh\u001b[0m\u001b[91m1\u001b[0m\u001b[91m]\u001b[0m\u001b[91m[\u001b[0m\u001b[91mC\u001b[0m][\u001b[91mC\u001b[0m\u001b[91m]\u001b[0m\u001b[91m[\u001b[0m\u001b[91mC\u001b[0m\u001b[91m]\u001b[0m\u001b[91m[\u001b[0m\u001b[91mC\u001b[0m\u001b[91m]\u001b[0m\u001b[91m[\u001b[0m\u001b[91mC\u001b[0m\u001b[91m]\u001b[0m\u001b[91m[\u001b[0m\u001b[91mB\u001b[0m\u001b[91mr\u001b[0m\u001b[91ma\u001b[0mn\u001b[91mc\u001b[0m\u001b[91mh\u001b[0m\u001b[91m1\u001b[0m\u001b[91m]\u001b[0m\u001b[91m[\u001b[0m\u001b[91m=\u001b[0m\u001b[91mB\u001b[0m\u001b[91mr\u001b[0m\u001b[91ma\u001b[0mn\u001b[91mc\u001b[0m\u001b[91mh\u001b[0m\u001b[91m2\u001b[0m\u001b[91m]\u001b[0m\u001b[91m[\u001b[0m\u001b[91m=\u001b[0m\u001b[91mB\u001b[0m\u001b[91mr\u001b[0m\u001b[91ma\u001b[0mn\u001b[91mc\u001b[0m\u001b[91mh\u001b[0m\u001b[91m2\u001b[0m\u001b[91m]\u001b[0m\u001b[91m-\u001b[0m\u001b[91m-\u001b[0m\u001b[91m-\u001b[0m\u001b[91m-\u001b[0m\u001b[91m-\u001b[0m\u001b[91m-\u001b[0m\u001b[91m-\u001b[0m\u001b[91m-\u001b[0m\u001b[91m-\u001b[0m\u001b[91m-\u001b[0m\u001b[91m-\u001b[0m\u001b[91m-\u001b[0m\u001b[91m-\u001b[0m\u001b[91m-\u001b[0m\n",
      "-------------------\n",
      "\n",
      "Target:  [C][O][C][=Branch1][C][=O][C@H1][Branch1][C][C][N][C][=Branch1][C][=O][S][/C][=Branch2][Ring1][#Branch2][=C][/C][=C][C][Branch1][C][Br][=C][C][=C][Ring1][#Branch1][O][C][C][=C][C][=C][C][Branch1][C][C][=C][Ring1][#Branch1][C][Ring2][Ring1][#Branch1][=O][end][nop][nop][nop][nop][nop][nop][nop][nop][nop][nop][nop][nop][nop][nop][nop][nop][nop][nop][nop][nop][nop][nop][nop][nop][nop][nop][nop][nop][nop][nop]\n",
      "Output:  [C][\u001b[91mC\u001b[0m][C][=\u001b[91mC\u001b[0m\u001b[91m]\u001b[0m\u001b[91m[\u001b[0m\u001b[91mC\u001b[0m\u001b[91m]\u001b[0m\u001b[91m[\u001b[0m\u001b[91m=\u001b[0m\u001b[91mC\u001b[0m\u001b[91m]\u001b[0m\u001b[91m[\u001b[0m\u001b[91mC\u001b[0m\u001b[91m]\u001b[0m\u001b[91m[\u001b[0m\u001b[91mC\u001b[0m][C\u001b[91m]\u001b[0m\u001b[91m[\u001b[0m\u001b[91mC\u001b[0m][\u001b[91mC\u001b[0m\u001b[91m]\u001b[0m\u001b[91m[\u001b[0m\u001b[91mC\u001b[0m\u001b[91m]\u001b[0m\u001b[91m[\u001b[0m\u001b[91mC\u001b[0m][C][\u001b[91m=\u001b[0m\u001b[91mO\u001b[0m\u001b[91m]\u001b[0m\u001b[91m[\u001b[0m\u001b[91mN\u001b[0m\u001b[91m]\u001b[0m\u001b[91m[\u001b[0m\u001b[91mC\u001b[0m\u001b[91m]\u001b[0m\u001b[91m[\u001b[0m\u001b[91mC\u001b[0m\u001b[91m]\u001b[0m\u001b[91m[\u001b[0m\u001b[91mC\u001b[0m\u001b[91m]\u001b[0m\u001b[91m[\u001b[0m\u001b[91m=\u001b[0m\u001b[91mB\u001b[0m\u001b[91mr\u001b[0m\u001b[91ma\u001b[0m\u001b[91mn\u001b[0m\u001b[91mc\u001b[0m\u001b[91mh\u001b[0m\u001b[91m1\u001b[0m][\u001b[91mC\u001b[0m][\u001b[91mC\u001b[0m\u001b[91m]\u001b[0m\u001b[91m[\u001b[0m\u001b[91m=\u001b[0m\u001b[91mC\u001b[0m\u001b[91m]\u001b[0m\u001b[91m[\u001b[0m\u001b[91mC\u001b[0m\u001b[91m]\u001b[0m\u001b[91m[\u001b[0m\u001b[91m=\u001b[0m\u001b[91mC\u001b[0m][\u001b[91mC\u001b[0m\u001b[91m]\u001b[0m\u001b[91m[\u001b[0m\u001b[91mC\u001b[0m\u001b[91m]\u001b[0m\u001b[91m[\u001b[0m\u001b[91m=\u001b[0m\u001b[91mC\u001b[0m\u001b[91m]\u001b[0m\u001b[91m[\u001b[0m\u001b[91mR\u001b[0m\u001b[91mi\u001b[0m\u001b[91mn\u001b[0m\u001b[91mg\u001b[0m\u001b[91m1\u001b[0m][\u001b[91m#\u001b[0m\u001b[91mB\u001b[0m\u001b[91mr\u001b[0m\u001b[91ma\u001b[0m\u001b[91mn\u001b[0m\u001b[91mc\u001b[0m\u001b[91mh\u001b[0m\u001b[91m1\u001b[0m\u001b[91m]\u001b[0m\u001b[91m[\u001b[0m\u001b[91mR\u001b[0m\u001b[91mi\u001b[0m\u001b[91mn\u001b[0m\u001b[91mg\u001b[0m\u001b[91m1\u001b[0m\u001b[91m]\u001b[0m\u001b[91m[\u001b[0m\u001b[91m#\u001b[0m\u001b[91mB\u001b[0m\u001b[91mr\u001b[0m\u001b[91ma\u001b[0m\u001b[91mn\u001b[0m\u001b[91mc\u001b[0m\u001b[91mh\u001b[0m\u001b[91m1\u001b[0m][\u001b[91mC\u001b[0m\u001b[91m]\u001b[0m\u001b[91m[\u001b[0m\u001b[91mC\u001b[0m\u001b[91m]\u001b[0m\u001b[91m[\u001b[0m\u001b[91mC\u001b[0m\u001b[91m]\u001b[0m\u001b[91m[\u001b[0m\u001b[91mC\u001b[0m\u001b[91m]\u001b[0m\u001b[91m[\u001b[0m\u001b[91mR\u001b[0m\u001b[91mi\u001b[0m\u001b[91mn\u001b[0m\u001b[91mg\u001b[0m\u001b[91m2\u001b[0m\u001b[91m]\u001b[0m\u001b[91m[\u001b[0m\u001b[91mR\u001b[0m\u001b[91mi\u001b[0m\u001b[91mn\u001b[0m\u001b[91mg\u001b[0m\u001b[91m1\u001b[0m\u001b[91m]\u001b[0m\u001b[91m[\u001b[0m\u001b[91mR\u001b[0m\u001b[91mi\u001b[0m\u001b[91mn\u001b[0m\u001b[91mg\u001b[0m\u001b[91m2\u001b[0m\u001b[91m]\u001b[0m\u001b[91m[\u001b[0m\u001b[91me\u001b[0m\u001b[91mn\u001b[0m\u001b[91md\u001b[0m][\u001b[91me\u001b[0m\u001b[91mn\u001b[0m\u001b[91md\u001b[0m\u001b[91m]\u001b[0m\u001b[91m[\u001b[0m\u001b[91mR\u001b[0m\u001b[91mi\u001b[0m\u001b[91mn\u001b[0m\u001b[91mg\u001b[0m\u001b[91m2\u001b[0m\u001b[91m]\u001b[0m\u001b[91m[\u001b[0m\u001b[91mR\u001b[0m\u001b[91mi\u001b[0m\u001b[91mn\u001b[0m\u001b[91mg\u001b[0m\u001b[91m2\u001b[0m\u001b[91m]\u001b[0m\u001b[91m[\u001b[0m\u001b[91mR\u001b[0m\u001b[91mi\u001b[0m\u001b[91mn\u001b[0m\u001b[91mg\u001b[0m1][\u001b[91mR\u001b[0m\u001b[91mi\u001b[0m\u001b[91mn\u001b[0m\u001b[91mg\u001b[0m\u001b[91m2\u001b[0m\u001b[91m]\u001b[0m\u001b[91m[\u001b[0m\u001b[91me\u001b[0m\u001b[91mn\u001b[0m\u001b[91md\u001b[0m\u001b[91m]\u001b[0m\u001b[91m[\u001b[0m\u001b[91me\u001b[0m\u001b[91mn\u001b[0m\u001b[91md\u001b[0m][\u001b[91mR\u001b[0m\u001b[91mi\u001b[0m\u001b[91mn\u001b[0m\u001b[91mg\u001b[0m\u001b[91m2\u001b[0m\u001b[91m]\u001b[0m\u001b[91m[\u001b[0m\u001b[91mR\u001b[0m\u001b[91mi\u001b[0m\u001b[91mn\u001b[0m\u001b[91mg\u001b[0m\u001b[91m1\u001b[0m\u001b[91m]\u001b[0m\u001b[91m[\u001b[0m\u001b[91me\u001b[0mn\u001b[91md\u001b[0m\u001b[91m]\u001b[0m\u001b[91m[\u001b[0m\u001b[91me\u001b[0m\u001b[91mn\u001b[0m\u001b[91md\u001b[0m\u001b[91m]\u001b[0m\u001b[91m[\u001b[0m\u001b[91mR\u001b[0m\u001b[91mi\u001b[0m\u001b[91mn\u001b[0m\u001b[91mg\u001b[0m\u001b[91m2\u001b[0m\u001b[91m]\u001b[0m\u001b[91m[\u001b[0m\u001b[91mR\u001b[0m\u001b[91mi\u001b[0m\u001b[91mn\u001b[0m\u001b[91mg\u001b[0m\u001b[91m1\u001b[0m\u001b[91m]\u001b[0m\u001b[91m[\u001b[0m\u001b[91mR\u001b[0m\u001b[91mi\u001b[0m\u001b[91mn\u001b[0m\u001b[91mg\u001b[0m\u001b[91m1\u001b[0m\u001b[91m]\u001b[0m\u001b[91m[\u001b[0m\u001b[91mR\u001b[0m\u001b[91mi\u001b[0m\u001b[91mn\u001b[0m\u001b[91mg\u001b[0m\u001b[91m1\u001b[0m\u001b[91m]\u001b[0m\u001b[91m[\u001b[0m\u001b[91mR\u001b[0m\u001b[91mi\u001b[0m\u001b[91mn\u001b[0m\u001b[91mg\u001b[0m\u001b[91m2\u001b[0m\u001b[91m]\u001b[0m\u001b[91m[\u001b[0m\u001b[91mR\u001b[0m\u001b[91mi\u001b[0mn\u001b[91mg\u001b[0m\u001b[91m1\u001b[0m][\u001b[91mR\u001b[0m\u001b[91mi\u001b[0m\u001b[91mn\u001b[0m\u001b[91mg\u001b[0m\u001b[91m1\u001b[0m\u001b[91m]\u001b[0m\u001b[91m[\u001b[0m\u001b[91mR\u001b[0m\u001b[91mi\u001b[0m\u001b[91mn\u001b[0m\u001b[91mg\u001b[0m\u001b[91m1\u001b[0m\u001b[91m]\u001b[0m\u001b[91m[\u001b[0m\u001b[91mR\u001b[0m\u001b[91mi\u001b[0m\u001b[91mn\u001b[0m\u001b[91mg\u001b[0m\u001b[91m2\u001b[0m\u001b[91m]\u001b[0m\u001b[91m[\u001b[0m\u001b[91mC\u001b[0m\u001b[91m]\u001b[0m\u001b[91m[\u001b[0m\u001b[91mC\u001b[0m\u001b[91m]\u001b[0m\u001b[91m[\u001b[0m\u001b[91mC\u001b[0m][\u001b[91mR\u001b[0m\u001b[91mi\u001b[0m\u001b[91mn\u001b[0m\u001b[91mg\u001b[0m\u001b[91m1\u001b[0m\u001b[91m]\u001b[0m\u001b[91m[\u001b[0m\u001b[91mB\u001b[0m\u001b[91mr\u001b[0m\u001b[91ma\u001b[0mn\u001b[91mc\u001b[0m\u001b[91mh\u001b[0m\u001b[91m1\u001b[0m\u001b[91m]\u001b[0m\u001b[91m[\u001b[0m\u001b[91mC\u001b[0m\u001b[91m]\u001b[0m\u001b[91m[\u001b[0m\u001b[91mC\u001b[0m\u001b[91m]\u001b[0m\u001b[91m[\u001b[0m\u001b[91mC\u001b[0m][\u001b[91mC\u001b[0m\u001b[91m]\u001b[0m\u001b[91m[\u001b[0m\u001b[91mC\u001b[0m\u001b[91m]\u001b[0m\u001b[91m[\u001b[0m\u001b[91mR\u001b[0m\u001b[91mi\u001b[0m\u001b[91mn\u001b[0m\u001b[91mg\u001b[0m\u001b[91m1\u001b[0m\u001b[91m]\u001b[0m\u001b[91m[\u001b[0m\u001b[91mR\u001b[0m\u001b[91mi\u001b[0mn\u001b[91mg\u001b[0m\u001b[91m1\u001b[0m][\u001b[91mB\u001b[0m\u001b[91mr\u001b[0m\u001b[91ma\u001b[0m\u001b[91mn\u001b[0m\u001b[91mc\u001b[0m\u001b[91mh\u001b[0m\u001b[91m1\u001b[0m\u001b[91m]\u001b[0m\u001b[91m[\u001b[0m\u001b[91mC\u001b[0m\u001b[91m]\u001b[0m\u001b[91m[\u001b[0m\u001b[91mC\u001b[0m][\u001b[91mC\u001b[0m\u001b[91m]\u001b[0m\u001b[91m[\u001b[0m\u001b[91mC\u001b[0m\u001b[91m]\u001b[0m\u001b[91m[\u001b[0m\u001b[91mR\u001b[0m\u001b[91mi\u001b[0m\u001b[91mn\u001b[0m\u001b[91mg\u001b[0m\u001b[91m1\u001b[0m\u001b[91m]\u001b[0m\u001b[91m[\u001b[0m\u001b[91mR\u001b[0m\u001b[91mi\u001b[0mn\u001b[91mg\u001b[0m\u001b[91m1\u001b[0m][\u001b[91m#\u001b[0m\u001b[91mB\u001b[0m\u001b[91mr\u001b[0m\u001b[91ma\u001b[0m\u001b[91mn\u001b[0m\u001b[91mc\u001b[0m\u001b[91mh\u001b[0m\u001b[91m1\u001b[0m][\u001b[91m#\u001b[0m\u001b[91mB\u001b[0m\u001b[91mr\u001b[0m\u001b[91ma\u001b[0m\u001b[91mn\u001b[0m\u001b[91mc\u001b[0m\u001b[91mh\u001b[0m\u001b[91m1\u001b[0m]\n",
      "-------------------\n",
      "\n",
      "Target:  [C][C][Branch1][C][C][C][C@H1][N][C][=Branch1][C][=O][C@@H1][C][C@H1][Branch2][Ring1][Branch2][N][C][=Branch1][C][=O][C][=C][C][=C][Branch1][=Branch2][C][Branch1][C][F][Branch1][C][F][F][C][=C][Ring1][#Branch2][C][N][Ring2][Ring1][C][C][Ring2][Ring1][#Branch1][=O][end][nop][nop][nop][nop][nop][nop][nop][nop][nop][nop][nop][nop][nop][nop][nop][nop][nop][nop][nop][nop][nop][nop][nop][nop][nop][nop][nop][nop][nop]\n",
      "Output:  [C][C][Branch1][C][C][C][C\u001b[91m]\u001b[0m\u001b[91m[\u001b[0m\u001b[91mB\u001b[0m\u001b[91mr\u001b[0m\u001b[91ma\u001b[0m\u001b[91mn\u001b[0m\u001b[91mc\u001b[0m\u001b[91mh\u001b[0m\u001b[91m1\u001b[0m][\u001b[91mC\u001b[0m\u001b[91m]\u001b[0m\u001b[91m[\u001b[0m\u001b[91m=\u001b[0m\u001b[91mB\u001b[0m\u001b[91mr\u001b[0m\u001b[91ma\u001b[0m\u001b[91mn\u001b[0m\u001b[91mc\u001b[0m\u001b[91mh\u001b[0m\u001b[91m1\u001b[0m][\u001b[91mC\u001b[0m\u001b[91m]\u001b[0m\u001b[91m[\u001b[0m\u001b[91m=\u001b[0m\u001b[91mO\u001b[0m\u001b[91m]\u001b[0m\u001b[91m[\u001b[0m\u001b[91mN\u001b[0m\u001b[91m]\u001b[0m\u001b[91m[\u001b[0m\u001b[91mC\u001b[0m\u001b[91m]\u001b[0m\u001b[91m[\u001b[0m\u001b[91mC\u001b[0m\u001b[91m]\u001b[0m\u001b[91m[\u001b[0m\u001b[91mC\u001b[0m\u001b[91m]\u001b[0m\u001b[91m[\u001b[0m\u001b[91mR\u001b[0m\u001b[91mi\u001b[0m\u001b[91mn\u001b[0m\u001b[91mg\u001b[0m\u001b[91m1\u001b[0m\u001b[91m]\u001b[0m\u001b[91m[\u001b[0m\u001b[91mC\u001b[0m][\u001b[91mC\u001b[0m\u001b[91m]\u001b[0m\u001b[91m[\u001b[0m\u001b[91mC\u001b[0m\u001b[91m]\u001b[0m\u001b[91m[\u001b[0m\u001b[91m=\u001b[0mBranch\u001b[91m1\u001b[0m][\u001b[91mC\u001b[0m][\u001b[91m=\u001b[0m\u001b[91mO\u001b[0m\u001b[91m]\u001b[0m\u001b[91m[\u001b[0m\u001b[91mN\u001b[0m\u001b[91m]\u001b[0m\u001b[91m[\u001b[0m\u001b[91mC\u001b[0m\u001b[91m]\u001b[0m\u001b[91m[\u001b[0m\u001b[91mC\u001b[0m][\u001b[91m=\u001b[0m\u001b[91mC\u001b[0m\u001b[91m]\u001b[0m\u001b[91m[\u001b[0m\u001b[91mC\u001b[0m][C][\u001b[91mC\u001b[0m\u001b[91m]\u001b[0m\u001b[91m[\u001b[0m\u001b[91mC\u001b[0m\u001b[91m]\u001b[0m\u001b[91m[\u001b[0m\u001b[91mC\u001b[0m\u001b[91m]\u001b[0m\u001b[91m[\u001b[0m\u001b[91mC\u001b[0m\u001b[91m]\u001b[0m\u001b[91m[\u001b[0m\u001b[91mC\u001b[0m\u001b[91m]\u001b[0m\u001b[91m[\u001b[0m\u001b[91m=\u001b[0m\u001b[91mC\u001b[0m\u001b[91m]\u001b[0m\u001b[91m[\u001b[0m\u001b[91mC\u001b[0m\u001b[91m]\u001b[0m\u001b[91m[\u001b[0m\u001b[91mC\u001b[0m\u001b[91m]\u001b[0m\u001b[91m[\u001b[0m\u001b[91m=\u001b[0m\u001b[91mC\u001b[0m\u001b[91m]\u001b[0m\u001b[91m[\u001b[0m\u001b[91mR\u001b[0m\u001b[91mi\u001b[0m\u001b[91mn\u001b[0m\u001b[91mg\u001b[0m\u001b[91m1\u001b[0m\u001b[91m]\u001b[0m\u001b[91m[\u001b[0m\u001b[91mR\u001b[0m\u001b[91mi\u001b[0m\u001b[91mn\u001b[0m\u001b[91mg\u001b[0m\u001b[91m1\u001b[0m\u001b[91m]\u001b[0m\u001b[91m[\u001b[0m\u001b[91m#\u001b[0m\u001b[91mB\u001b[0m\u001b[91mr\u001b[0m\u001b[91ma\u001b[0m\u001b[91mn\u001b[0m\u001b[91mc\u001b[0m\u001b[91mh\u001b[0m\u001b[91m1\u001b[0m\u001b[91m]\u001b[0m\u001b[91m[\u001b[0m\u001b[91mC\u001b[0m\u001b[91m]\u001b[0m\u001b[91m[\u001b[0m\u001b[91mC\u001b[0m\u001b[91m]\u001b[0m\u001b[91m[\u001b[0m\u001b[91mC\u001b[0m\u001b[91m]\u001b[0m\u001b[91m[\u001b[0m\u001b[91mR\u001b[0m\u001b[91mi\u001b[0m\u001b[91mn\u001b[0m\u001b[91mg\u001b[0m\u001b[91m1\u001b[0m][\u001b[91mR\u001b[0m\u001b[91mi\u001b[0m\u001b[91mn\u001b[0m\u001b[91mg\u001b[0m\u001b[91m1\u001b[0m\u001b[91m]\u001b[0m\u001b[91m[\u001b[0m\u001b[91me\u001b[0m\u001b[91mn\u001b[0m\u001b[91md\u001b[0m\u001b[91m]\u001b[0m\u001b[91m[\u001b[0m\u001b[91mC\u001b[0m\u001b[91m]\u001b[0m\u001b[91m[\u001b[0m\u001b[91mR\u001b[0m\u001b[91mi\u001b[0m\u001b[91mn\u001b[0m\u001b[91mg\u001b[0m\u001b[91m1\u001b[0m\u001b[91m]\u001b[0m\u001b[91m[\u001b[0m\u001b[91mR\u001b[0m\u001b[91mi\u001b[0m\u001b[91mn\u001b[0m\u001b[91mg\u001b[0m\u001b[91m1\u001b[0m\u001b[91m]\u001b[0m\u001b[91m[\u001b[0m\u001b[91me\u001b[0m\u001b[91mn\u001b[0m\u001b[91md\u001b[0m][\u001b[91me\u001b[0m\u001b[91mn\u001b[0m\u001b[91md\u001b[0m\u001b[91m]\u001b[0m\u001b[91m[\u001b[0m\u001b[91mR\u001b[0m\u001b[91mi\u001b[0m\u001b[91mn\u001b[0m\u001b[91mg\u001b[0m\u001b[91m2\u001b[0m\u001b[91m]\u001b[0m\u001b[91m[\u001b[0m\u001b[91mR\u001b[0m\u001b[91mi\u001b[0m\u001b[91mn\u001b[0m\u001b[91mg\u001b[0m\u001b[91m1\u001b[0m\u001b[91m]\u001b[0m\u001b[91m[\u001b[0m\u001b[91mR\u001b[0m\u001b[91mi\u001b[0m\u001b[91mn\u001b[0m\u001b[91mg\u001b[0m\u001b[91m1\u001b[0m\u001b[91m]\u001b[0m\u001b[91m[\u001b[0m\u001b[91mR\u001b[0m\u001b[91mi\u001b[0m\u001b[91mn\u001b[0m\u001b[91mg\u001b[0m\u001b[91m2\u001b[0m\u001b[91m]\u001b[0m\u001b[91m[\u001b[0m\u001b[91me\u001b[0m\u001b[91mn\u001b[0m\u001b[91md\u001b[0m\u001b[91m]\u001b[0m\u001b[91m[\u001b[0m\u001b[91mR\u001b[0m\u001b[91mi\u001b[0m\u001b[91mn\u001b[0m\u001b[91mg\u001b[0m\u001b[91m1\u001b[0m\u001b[91m]\u001b[0m\u001b[91m[\u001b[0m\u001b[91mR\u001b[0m\u001b[91mi\u001b[0m\u001b[91mn\u001b[0m\u001b[91mg\u001b[0m\u001b[91m1\u001b[0m\u001b[91m]\u001b[0m\u001b[91m[\u001b[0m\u001b[91mR\u001b[0m\u001b[91mi\u001b[0m\u001b[91mn\u001b[0m\u001b[91mg\u001b[0m\u001b[91m2\u001b[0m\u001b[91m]\u001b[0m\u001b[91m[\u001b[0m\u001b[91mC\u001b[0m\u001b[91m]\u001b[0m\u001b[91m[\u001b[0m\u001b[91me\u001b[0m\u001b[91mn\u001b[0m\u001b[91md\u001b[0m\u001b[91m]\u001b[0m\u001b[91m[\u001b[0m\u001b[91mC\u001b[0m\u001b[91m]\u001b[0m\u001b[91m[\u001b[0m\u001b[91mR\u001b[0m\u001b[91mi\u001b[0m\u001b[91mn\u001b[0m\u001b[91mg\u001b[0m\u001b[91m1\u001b[0m\u001b[91m]\u001b[0m\u001b[91m[\u001b[0m\u001b[91mB\u001b[0m\u001b[91mr\u001b[0m\u001b[91ma\u001b[0m\u001b[91mn\u001b[0m\u001b[91mc\u001b[0m\u001b[91mh\u001b[0m\u001b[91m1\u001b[0m][\u001b[91mC\u001b[0m\u001b[91m]\u001b[0m\u001b[91m[\u001b[0m\u001b[91mC\u001b[0m\u001b[91m]\u001b[0m\u001b[91m[\u001b[0m\u001b[91mC\u001b[0m\u001b[91m]\u001b[0m\u001b[91m[\u001b[0m\u001b[91mC\u001b[0m\u001b[91m]\u001b[0m\u001b[91m[\u001b[0m\u001b[91mC\u001b[0m][\u001b[91mR\u001b[0m\u001b[91mi\u001b[0m\u001b[91mn\u001b[0m\u001b[91mg\u001b[0m\u001b[91m1\u001b[0m\u001b[91m]\u001b[0m\u001b[91m[\u001b[0m\u001b[91mR\u001b[0m\u001b[91mi\u001b[0m\u001b[91mn\u001b[0m\u001b[91mg\u001b[0m\u001b[91m1\u001b[0m\u001b[91m]\u001b[0m\u001b[91m[\u001b[0m\u001b[91mB\u001b[0m\u001b[91mr\u001b[0m\u001b[91ma\u001b[0m\u001b[91mn\u001b[0m\u001b[91mc\u001b[0m\u001b[91mh\u001b[0m\u001b[91m1\u001b[0m\u001b[91m]\u001b[0m\u001b[91m[\u001b[0m\u001b[91mC\u001b[0m\u001b[91m]\u001b[0m\u001b[91m[\u001b[0m\u001b[91mC\u001b[0m\u001b[91m]\u001b[0m\u001b[91m[\u001b[0m\u001b[91mC\u001b[0m\u001b[91m]\u001b[0m\u001b[91m[\u001b[0m\u001b[91mC\u001b[0m][\u001b[91mR\u001b[0m\u001b[91mi\u001b[0m\u001b[91mn\u001b[0m\u001b[91mg\u001b[0m\u001b[91m1\u001b[0m\u001b[91m]\u001b[0m\u001b[91m[\u001b[0m\u001b[91mR\u001b[0m\u001b[91mi\u001b[0m\u001b[91mn\u001b[0m\u001b[91mg\u001b[0m\u001b[91m1\u001b[0m\u001b[91m]\u001b[0m\u001b[91m[\u001b[0m\u001b[91m#\u001b[0m\u001b[91mB\u001b[0m\u001b[91mr\u001b[0m\u001b[91ma\u001b[0m\u001b[91mn\u001b[0m\u001b[91mc\u001b[0m\u001b[91mh\u001b[0m\u001b[91m1\u001b[0m\u001b[91m]\u001b[0m\u001b[91m[\u001b[0m\u001b[91m#\u001b[0m\u001b[91mB\u001b[0m\u001b[91mr\u001b[0m\u001b[91ma\u001b[0m\u001b[91mn\u001b[0m\u001b[91mc\u001b[0m\u001b[91mh\u001b[0m\u001b[91m1\u001b[0m\u001b[91m]\u001b[0m\u001b[91m-\u001b[0m\u001b[91m-\u001b[0m\u001b[91m-\u001b[0m\u001b[91m-\u001b[0m\u001b[91m-\u001b[0m\u001b[91m-\u001b[0m\u001b[91m-\u001b[0m\u001b[91m-\u001b[0m\u001b[91m-\u001b[0m\u001b[91m-\u001b[0m\u001b[91m-\u001b[0m\u001b[91m-\u001b[0m\u001b[91m-\u001b[0m\u001b[91m-\u001b[0m\u001b[91m-\u001b[0m\u001b[91m-\u001b[0m\u001b[91m-\u001b[0m\u001b[91m-\u001b[0m\u001b[91m-\u001b[0m\u001b[91m-\u001b[0m\u001b[91m-\u001b[0m\n",
      "-------------------\n",
      "\n",
      "Epoch 1 loss: 1.8522996025426046\n"
     ]
    },
    {
     "data": {
      "application/vnd.jupyter.widget-view+json": {
       "model_id": "0e06f168b99a418badb47dc3c41be082",
       "version_major": 2,
       "version_minor": 0
      },
      "text/plain": [
       "  0%|          | 0/140 [00:00<?, ?it/s]"
      ]
     },
     "metadata": {},
     "output_type": "display_data"
    },
    {
     "name": "stdout",
     "output_type": "stream",
     "text": [
      "Epoch 2 loss: 1.744419024671827\n",
      "Target:  [C][C][C][=N][O][C][Branch1][C][C][=C][Ring1][=Branch1][C][=Branch1][C][=O][N][C][=C][C][=C][C][=C][C][=C][C][Ring1][=Branch1][=C][Ring1][#Branch2][end][nop][nop][nop][nop][nop][nop][nop][nop][nop][nop][nop][nop][nop][nop][nop][nop][nop][nop][nop][nop][nop][nop][nop][nop][nop][nop][nop][nop][nop][nop][nop][nop][nop][nop][nop][nop][nop][nop][nop][nop][nop][nop][nop][nop][nop][nop][nop][nop][nop]\n",
      "Output:  [C][C][\u001b[91m=\u001b[0m\u001b[91mC\u001b[0m\u001b[91m]\u001b[0m\u001b[91m[\u001b[0m\u001b[91mC\u001b[0m][\u001b[91mC\u001b[0m][C][\u001b[91m=\u001b[0m\u001b[91mC\u001b[0m\u001b[91m]\u001b[0m\u001b[91m[\u001b[0m\u001b[91mC\u001b[0m\u001b[91m]\u001b[0m\u001b[91m[\u001b[0m\u001b[91m=\u001b[0m\u001b[91mC\u001b[0m\u001b[91m]\u001b[0m\u001b[91m[\u001b[0m\u001b[91mC\u001b[0m\u001b[91m]\u001b[0m\u001b[91m[\u001b[0m\u001b[91mC\u001b[0m\u001b[91m]\u001b[0m\u001b[91m[\u001b[0m\u001b[91m=\u001b[0m\u001b[91mB\u001b[0m\u001b[91mr\u001b[0m\u001b[91ma\u001b[0mn\u001b[91mc\u001b[0m\u001b[91mh\u001b[0m\u001b[91m1\u001b[0m\u001b[91m]\u001b[0m\u001b[91m[\u001b[0m\u001b[91mC\u001b[0m\u001b[91m]\u001b[0m\u001b[91m[\u001b[0m\u001b[91mC\u001b[0m\u001b[91m]\u001b[0m\u001b[91m[\u001b[0m\u001b[91mC\u001b[0m][\u001b[91m=\u001b[0m\u001b[91mO\u001b[0m\u001b[91m]\u001b[0m\u001b[91m[\u001b[0m\u001b[91mN\u001b[0m\u001b[91m]\u001b[0m\u001b[91m[\u001b[0m\u001b[91mC\u001b[0m\u001b[91m]\u001b[0m\u001b[91m[\u001b[0m\u001b[91mC\u001b[0m][C][=\u001b[91mC\u001b[0m][\u001b[91mC\u001b[0m][\u001b[91m=\u001b[0m\u001b[91mC\u001b[0m\u001b[91m]\u001b[0m\u001b[91m[\u001b[0m\u001b[91mR\u001b[0m\u001b[91mi\u001b[0m\u001b[91mn\u001b[0m\u001b[91mg\u001b[0m\u001b[91m1\u001b[0m\u001b[91m]\u001b[0m\u001b[91m[\u001b[0m\u001b[91m=\u001b[0m\u001b[91mC\u001b[0m\u001b[91m]\u001b[0m\u001b[91m[\u001b[0m\u001b[91mR\u001b[0m\u001b[91mi\u001b[0m\u001b[91mn\u001b[0m\u001b[91mg\u001b[0m\u001b[91m1\u001b[0m\u001b[91m]\u001b[0m\u001b[91m[\u001b[0m\u001b[91m=\u001b[0m\u001b[91mC\u001b[0m\u001b[91m]\u001b[0m\u001b[91m[\u001b[0m\u001b[91m=\u001b[0m\u001b[91mB\u001b[0m\u001b[91mr\u001b[0m\u001b[91ma\u001b[0m\u001b[91mn\u001b[0m\u001b[91mc\u001b[0m\u001b[91mh\u001b[0m\u001b[91m1\u001b[0m\u001b[91m]\u001b[0m\u001b[91m[\u001b[0m\u001b[91mC\u001b[0m\u001b[91m]\u001b[0m\u001b[91m[\u001b[0m\u001b[91mC\u001b[0m\u001b[91m]\u001b[0m\u001b[91m[\u001b[0m\u001b[91mR\u001b[0m\u001b[91mi\u001b[0m\u001b[91mn\u001b[0m\u001b[91mg\u001b[0m\u001b[91m1\u001b[0m\u001b[91m]\u001b[0m\u001b[91m[\u001b[0m\u001b[91me\u001b[0m\u001b[91mn\u001b[0m\u001b[91md\u001b[0m\u001b[91m]\u001b[0m\u001b[91m[\u001b[0m\u001b[91mC\u001b[0m\u001b[91m]\u001b[0m\u001b[91m[\u001b[0m\u001b[91m=\u001b[0m\u001b[91mC\u001b[0m\u001b[91m]\u001b[0m\u001b[91m[\u001b[0m\u001b[91mC\u001b[0m\u001b[91m]\u001b[0m\u001b[91m[\u001b[0m\u001b[91m=\u001b[0m\u001b[91mC\u001b[0m\u001b[91m]\u001b[0m\u001b[91m[\u001b[0m\u001b[91mR\u001b[0m\u001b[91mi\u001b[0mn\u001b[91mg\u001b[0m\u001b[91m1\u001b[0m\u001b[91m]\u001b[0m\u001b[91m[\u001b[0m\u001b[91mR\u001b[0m\u001b[91mi\u001b[0m\u001b[91mn\u001b[0m\u001b[91mg\u001b[0m\u001b[91m1\u001b[0m\u001b[91m]\u001b[0m\u001b[91m[\u001b[0m\u001b[91mR\u001b[0m\u001b[91mi\u001b[0mn\u001b[91mg\u001b[0m\u001b[91m1\u001b[0m][\u001b[91mR\u001b[0m\u001b[91mi\u001b[0m\u001b[91mn\u001b[0m\u001b[91mg\u001b[0m\u001b[91m1\u001b[0m\u001b[91m]\u001b[0m\u001b[91m[\u001b[0m\u001b[91mB\u001b[0m\u001b[91mr\u001b[0m\u001b[91ma\u001b[0mn\u001b[91mc\u001b[0m\u001b[91mh\u001b[0m\u001b[91m1\u001b[0m\u001b[91m]\u001b[0m\u001b[91m[\u001b[0m\u001b[91mB\u001b[0m\u001b[91mr\u001b[0m\u001b[91ma\u001b[0m\u001b[91mn\u001b[0m\u001b[91mc\u001b[0m\u001b[91mh\u001b[0m\u001b[91m1\u001b[0m][\u001b[91mC\u001b[0m\u001b[91m]\u001b[0m\u001b[91m[\u001b[0m\u001b[91mC\u001b[0m\u001b[91m]\u001b[0m\u001b[91m[\u001b[0m\u001b[91mC\u001b[0m\u001b[91m]\u001b[0m\u001b[91m[\u001b[0m\u001b[91mC\u001b[0m\u001b[91m]\u001b[0m\u001b[91m[\u001b[0m\u001b[91m\\\u001b[0m\u001b[91mC\u001b[0m\u001b[91m]\u001b[0m\u001b[91m[\u001b[0m\u001b[91m\\\u001b[0m\u001b[91mC\u001b[0m][\u001b[91m\\\u001b[0m\u001b[91mC\u001b[0m\u001b[91m]\u001b[0m\u001b[91m[\u001b[0m\u001b[91m/\u001b[0m\u001b[91mC\u001b[0m\u001b[91m]\u001b[0m\u001b[91m[\u001b[0m\u001b[91m/\u001b[0m\u001b[91mC\u001b[0m\u001b[91m]\u001b[0m\u001b[91m[\u001b[0m\u001b[91m/\u001b[0m\u001b[91mC\u001b[0m\u001b[91m]\u001b[0m\u001b[91m[\u001b[0m\u001b[91m/\u001b[0m\u001b[91mC\u001b[0m][\u001b[91m/\u001b[0m\u001b[91mC\u001b[0m\u001b[91m]\u001b[0m\u001b[91m[\u001b[0m\u001b[91m/\u001b[0m\u001b[91mC\u001b[0m\u001b[91m]\u001b[0m\u001b[91m[\u001b[0m\u001b[91m/\u001b[0m\u001b[91mC\u001b[0m\u001b[91m]\u001b[0m\u001b[91m[\u001b[0m\u001b[91m/\u001b[0m\u001b[91mC\u001b[0m\u001b[91m]\u001b[0m\u001b[91m[\u001b[0m\u001b[91m/\u001b[0m\u001b[91mC\u001b[0m][\u001b[91m/\u001b[0m\u001b[91mC\u001b[0m\u001b[91m]\u001b[0m\u001b[91m[\u001b[0m\u001b[91m/\u001b[0m\u001b[91mC\u001b[0m\u001b[91m]\u001b[0m\u001b[91m[\u001b[0m\u001b[91m/\u001b[0m\u001b[91mC\u001b[0m\u001b[91m]\u001b[0m\u001b[91m[\u001b[0m\u001b[91m/\u001b[0m\u001b[91mC\u001b[0m\u001b[91m]\u001b[0m\u001b[91m[\u001b[0m\u001b[91m/\u001b[0m\u001b[91mC\u001b[0m][\u001b[91m/\u001b[0m\u001b[91mC\u001b[0m\u001b[91m]\u001b[0m\u001b[91m[\u001b[0m\u001b[91m/\u001b[0m\u001b[91mC\u001b[0m\u001b[91m]\u001b[0m\u001b[91m[\u001b[0m\u001b[91m/\u001b[0m\u001b[91mC\u001b[0m\u001b[91m]\u001b[0m\u001b[91m[\u001b[0m\u001b[91m/\u001b[0m\u001b[91mC\u001b[0m\u001b[91m]\u001b[0m\u001b[91m[\u001b[0m\u001b[91m/\u001b[0m\u001b[91mC\u001b[0m][\u001b[91m/\u001b[0m\u001b[91mC\u001b[0m\u001b[91m]\u001b[0m\u001b[91m[\u001b[0m\u001b[91ms\u001b[0m\u001b[91mt\u001b[0m\u001b[91ma\u001b[0m\u001b[91mr\u001b[0m\u001b[91mt\u001b[0m\u001b[91m]\u001b[0m\u001b[91m[\u001b[0m\u001b[91ms\u001b[0m\u001b[91mt\u001b[0m\u001b[91ma\u001b[0m\u001b[91mr\u001b[0m\u001b[91mt\u001b[0m\u001b[91m]\u001b[0m\u001b[91m[\u001b[0m\u001b[91m/\u001b[0m\u001b[91mC\u001b[0m\u001b[91m]\u001b[0m\u001b[91m[\u001b[0m\u001b[91m/\u001b[0m\u001b[91mC\u001b[0m\u001b[91m]\u001b[0m\u001b[91m[\u001b[0m\u001b[91m/\u001b[0m\u001b[91mC\u001b[0m][\u001b[91m/\u001b[0m\u001b[91mC\u001b[0m\u001b[91m]\u001b[0m\u001b[91m[\u001b[0m\u001b[91m/\u001b[0m\u001b[91mC\u001b[0m\u001b[91m]\u001b[0m\u001b[91m[\u001b[0m\u001b[91m/\u001b[0m\u001b[91mC\u001b[0m\u001b[91m]\u001b[0m\u001b[91m[\u001b[0m\u001b[91m/\u001b[0m\u001b[91mC\u001b[0m\u001b[91m]\u001b[0m\u001b[91m[\u001b[0m\u001b[91m/\u001b[0m\u001b[91mC\u001b[0m][\u001b[91ms\u001b[0m\u001b[91mt\u001b[0m\u001b[91ma\u001b[0m\u001b[91mr\u001b[0m\u001b[91mt\u001b[0m\u001b[91m]\u001b[0m\u001b[91m[\u001b[0m\u001b[91ms\u001b[0m\u001b[91mt\u001b[0m\u001b[91ma\u001b[0m\u001b[91mr\u001b[0m\u001b[91mt\u001b[0m\u001b[91m]\u001b[0m\u001b[91m-\u001b[0m\u001b[91m-\u001b[0m\u001b[91m-\u001b[0m\u001b[91m-\u001b[0m\u001b[91m-\u001b[0m\u001b[91m-\u001b[0m\u001b[91m-\u001b[0m\u001b[91m-\u001b[0m\u001b[91m-\u001b[0m\u001b[91m-\u001b[0m\u001b[91m-\u001b[0m\u001b[91m-\u001b[0m\u001b[91m-\u001b[0m\u001b[91m-\u001b[0m\u001b[91m-\u001b[0m\u001b[91m-\u001b[0m\u001b[91m-\u001b[0m\u001b[91m-\u001b[0m\u001b[91m-\u001b[0m\u001b[91m-\u001b[0m\u001b[91m-\u001b[0m\u001b[91m-\u001b[0m\u001b[91m-\u001b[0m\u001b[91m-\u001b[0m\u001b[91m-\u001b[0m\u001b[91m-\u001b[0m\u001b[91m-\u001b[0m\u001b[91m-\u001b[0m\u001b[91m-\u001b[0m\u001b[91m-\u001b[0m\u001b[91m-\u001b[0m\u001b[91m-\u001b[0m\u001b[91m-\u001b[0m\u001b[91m-\u001b[0m\u001b[91m-\u001b[0m\u001b[91m-\u001b[0m\u001b[91m-\u001b[0m\u001b[91m-\u001b[0m\u001b[91m-\u001b[0m\u001b[91m-\u001b[0m\u001b[91m-\u001b[0m\n",
      "-------------------\n",
      "\n",
      "Target:  [C][C][C][N][Branch1][Ring2][C][C][O][C][=Branch1][C][=O][N][C][=C][C][=C][C][Branch1][Ring1][O][C][=C][Ring1][Branch2][end][nop][nop][nop][nop][nop][nop][nop][nop][nop][nop][nop][nop][nop][nop][nop][nop][nop][nop][nop][nop][nop][nop][nop][nop][nop][nop][nop][nop][nop][nop][nop][nop][nop][nop][nop][nop][nop][nop][nop][nop][nop][nop][nop][nop][nop][nop][nop][nop][nop][nop][nop][nop][nop][nop]\n",
      "Output:  [C][\u001b[91mO\u001b[0m][C][\u001b[91m=\u001b[0m\u001b[91mC\u001b[0m\u001b[91m]\u001b[0m\u001b[91m[\u001b[0m\u001b[91mC\u001b[0m\u001b[91m]\u001b[0m\u001b[91m[\u001b[0m\u001b[91mC\u001b[0m\u001b[91m]\u001b[0m\u001b[91m[\u001b[0m\u001b[91mC\u001b[0m\u001b[91m]\u001b[0m\u001b[91m[\u001b[0m\u001b[91mC\u001b[0m\u001b[91m]\u001b[0m\u001b[91m[\u001b[0m\u001b[91mC\u001b[0m][C][\u001b[91m=\u001b[0m\u001b[91mC\u001b[0m\u001b[91m]\u001b[0m\u001b[91m[\u001b[0m\u001b[91mC\u001b[0m\u001b[91m]\u001b[0m\u001b[91m[\u001b[0m\u001b[91m=\u001b[0m\u001b[91mO\u001b[0m\u001b[91m]\u001b[0m\u001b[91m[\u001b[0m\u001b[91mC\u001b[0m\u001b[91m]\u001b[0m\u001b[91m[\u001b[0m\u001b[91mC\u001b[0m\u001b[91m]\u001b[0m\u001b[91m[\u001b[0m\u001b[91mC\u001b[0m\u001b[91m]\u001b[0m\u001b[91m[\u001b[0m\u001b[91mC\u001b[0m\u001b[91m]\u001b[0m\u001b[91m[\u001b[0m\u001b[91m=\u001b[0m\u001b[91mC\u001b[0m\u001b[91m]\u001b[0m\u001b[91m[\u001b[0m\u001b[91mC\u001b[0m\u001b[91m]\u001b[0m\u001b[91m[\u001b[0m\u001b[91m=\u001b[0m\u001b[91mC\u001b[0m\u001b[91m]\u001b[0m\u001b[91m[\u001b[0m\u001b[91mR\u001b[0m\u001b[91mi\u001b[0m\u001b[91mn\u001b[0m\u001b[91mg\u001b[0m\u001b[91m1\u001b[0m\u001b[91m]\u001b[0m\u001b[91m[\u001b[0m\u001b[91m=\u001b[0m\u001b[91mB\u001b[0m\u001b[91mr\u001b[0m\u001b[91ma\u001b[0m\u001b[91mn\u001b[0m\u001b[91mc\u001b[0m\u001b[91mh\u001b[0m\u001b[91m1\u001b[0m\u001b[91m]\u001b[0m\u001b[91m[\u001b[0m\u001b[91mC\u001b[0m\u001b[91m]\u001b[0m\u001b[91m[\u001b[0m\u001b[91mC\u001b[0m\u001b[91m]\u001b[0m\u001b[91m[\u001b[0m\u001b[91mC\u001b[0m\u001b[91m]\u001b[0m\u001b[91m[\u001b[0m\u001b[91m#\u001b[0m\u001b[91mB\u001b[0m\u001b[91mr\u001b[0m\u001b[91ma\u001b[0m\u001b[91mn\u001b[0m\u001b[91mc\u001b[0m\u001b[91mh\u001b[0m\u001b[91m1\u001b[0m\u001b[91m]\u001b[0m\u001b[91m[\u001b[0m\u001b[91mC\u001b[0m\u001b[91m]\u001b[0m\u001b[91m[\u001b[0m\u001b[91mC\u001b[0m\u001b[91m]\u001b[0m\u001b[91m[\u001b[0m\u001b[91mR\u001b[0m\u001b[91mi\u001b[0m\u001b[91mn\u001b[0m\u001b[91mg\u001b[0m\u001b[91m1\u001b[0m\u001b[91m]\u001b[0m\u001b[91m[\u001b[0m\u001b[91mC\u001b[0m\u001b[91m]\u001b[0m\u001b[91m[\u001b[0m\u001b[91mC\u001b[0m\u001b[91m]\u001b[0m\u001b[91m[\u001b[0m\u001b[91mB\u001b[0m\u001b[91mr\u001b[0m\u001b[91ma\u001b[0m\u001b[91mn\u001b[0m\u001b[91mc\u001b[0m\u001b[91mh\u001b[0m\u001b[91m1\u001b[0m][\u001b[91mR\u001b[0m\u001b[91mi\u001b[0m\u001b[91mn\u001b[0m\u001b[91mg\u001b[0m\u001b[91m1\u001b[0m\u001b[91m]\u001b[0m\u001b[91m[\u001b[0m\u001b[91mB\u001b[0m\u001b[91mr\u001b[0m\u001b[91ma\u001b[0mn\u001b[91mc\u001b[0m\u001b[91mh\u001b[0m\u001b[91m1\u001b[0m\u001b[91m]\u001b[0m\u001b[91m[\u001b[0m\u001b[91mC\u001b[0m\u001b[91m]\u001b[0m\u001b[91m[\u001b[0m\u001b[91m=\u001b[0m\u001b[91mC\u001b[0m\u001b[91m]\u001b[0m\u001b[91m[\u001b[0m\u001b[91mR\u001b[0m\u001b[91mi\u001b[0mn\u001b[91mg\u001b[0m\u001b[91m1\u001b[0m][\u001b[91mR\u001b[0m\u001b[91mi\u001b[0m\u001b[91mn\u001b[0m\u001b[91mg\u001b[0m\u001b[91m1\u001b[0m\u001b[91m]\u001b[0m\u001b[91m[\u001b[0m\u001b[91mR\u001b[0m\u001b[91mi\u001b[0m\u001b[91mn\u001b[0m\u001b[91mg\u001b[0m\u001b[91m1\u001b[0m\u001b[91m]\u001b[0m\u001b[91m[\u001b[0m\u001b[91mB\u001b[0m\u001b[91mr\u001b[0m\u001b[91ma\u001b[0m\u001b[91mn\u001b[0m\u001b[91mc\u001b[0m\u001b[91mh\u001b[0m\u001b[91m1\u001b[0m\u001b[91m]\u001b[0m\u001b[91m[\u001b[0m\u001b[91mC\u001b[0m\u001b[91m]\u001b[0m\u001b[91m[\u001b[0m\u001b[91mB\u001b[0m\u001b[91mr\u001b[0m\u001b[91ma\u001b[0m\u001b[91mn\u001b[0m\u001b[91mc\u001b[0m\u001b[91mh\u001b[0m\u001b[91m1\u001b[0m][\u001b[91mC\u001b[0m\u001b[91m]\u001b[0m\u001b[91m[\u001b[0m\u001b[91mC\u001b[0m\u001b[91m]\u001b[0m\u001b[91m[\u001b[0m\u001b[91mC\u001b[0m\u001b[91m]\u001b[0m\u001b[91m[\u001b[0m\u001b[91m/\u001b[0m\u001b[91mC\u001b[0m\u001b[91m]\u001b[0m\u001b[91m[\u001b[0m\u001b[91m/\u001b[0m\u001b[91mC\u001b[0m\u001b[91m]\u001b[0m\u001b[91m[\u001b[0m\u001b[91m\\\u001b[0m\u001b[91mC\u001b[0m\u001b[91m]\u001b[0m\u001b[91m[\u001b[0m\u001b[91m\\\u001b[0m\u001b[91mC\u001b[0m][\u001b[91m/\u001b[0m\u001b[91mC\u001b[0m\u001b[91m]\u001b[0m\u001b[91m[\u001b[0m\u001b[91m/\u001b[0m\u001b[91mC\u001b[0m\u001b[91m]\u001b[0m\u001b[91m[\u001b[0m\u001b[91m/\u001b[0m\u001b[91mC\u001b[0m\u001b[91m]\u001b[0m\u001b[91m[\u001b[0m\u001b[91m/\u001b[0m\u001b[91mC\u001b[0m\u001b[91m]\u001b[0m\u001b[91m[\u001b[0m\u001b[91m/\u001b[0m\u001b[91mC\u001b[0m][\u001b[91m/\u001b[0m\u001b[91mC\u001b[0m\u001b[91m]\u001b[0m\u001b[91m[\u001b[0m\u001b[91m/\u001b[0m\u001b[91mC\u001b[0m\u001b[91m]\u001b[0m\u001b[91m[\u001b[0m\u001b[91m/\u001b[0m\u001b[91mC\u001b[0m\u001b[91m]\u001b[0m\u001b[91m[\u001b[0m\u001b[91m/\u001b[0m\u001b[91mC\u001b[0m\u001b[91m]\u001b[0m\u001b[91m[\u001b[0m\u001b[91m/\u001b[0m\u001b[91mC\u001b[0m][\u001b[91m/\u001b[0m\u001b[91mC\u001b[0m\u001b[91m]\u001b[0m\u001b[91m[\u001b[0m\u001b[91m/\u001b[0m\u001b[91mC\u001b[0m\u001b[91m]\u001b[0m\u001b[91m[\u001b[0m\u001b[91m/\u001b[0m\u001b[91mC\u001b[0m\u001b[91m]\u001b[0m\u001b[91m[\u001b[0m\u001b[91m/\u001b[0m\u001b[91mC\u001b[0m\u001b[91m]\u001b[0m\u001b[91m[\u001b[0m\u001b[91m/\u001b[0m\u001b[91mC\u001b[0m][\u001b[91m/\u001b[0m\u001b[91mC\u001b[0m\u001b[91m]\u001b[0m\u001b[91m[\u001b[0m\u001b[91m/\u001b[0m\u001b[91mC\u001b[0m\u001b[91m]\u001b[0m\u001b[91m[\u001b[0m\u001b[91m/\u001b[0m\u001b[91mC\u001b[0m\u001b[91m]\u001b[0m\u001b[91m[\u001b[0m\u001b[91m/\u001b[0m\u001b[91mC\u001b[0m\u001b[91m]\u001b[0m\u001b[91m[\u001b[0m\u001b[91ms\u001b[0m\u001b[91mt\u001b[0m\u001b[91ma\u001b[0m\u001b[91mr\u001b[0m\u001b[91mt\u001b[0m\u001b[91m]\u001b[0m\u001b[91m[\u001b[0m\u001b[91ms\u001b[0m\u001b[91mt\u001b[0m\u001b[91ma\u001b[0m\u001b[91mr\u001b[0m\u001b[91mt\u001b[0m][\u001b[91ms\u001b[0m\u001b[91mt\u001b[0m\u001b[91ma\u001b[0m\u001b[91mr\u001b[0m\u001b[91mt\u001b[0m\u001b[91m]\u001b[0m\u001b[91m[\u001b[0m\u001b[91ms\u001b[0m\u001b[91mt\u001b[0m\u001b[91ma\u001b[0m\u001b[91mr\u001b[0m\u001b[91mt\u001b[0m\u001b[91m]\u001b[0m\u001b[91m[\u001b[0m\u001b[91m/\u001b[0m\u001b[91mC\u001b[0m\u001b[91m]\u001b[0m\u001b[91m[\u001b[0m\u001b[91m/\u001b[0m\u001b[91mC\u001b[0m\u001b[91m]\u001b[0m\u001b[91m[\u001b[0m\u001b[91m/\u001b[0m\u001b[91mC\u001b[0m\u001b[91m]\u001b[0m\u001b[91m[\u001b[0m\u001b[91m/\u001b[0m\u001b[91mC\u001b[0m][\u001b[91m/\u001b[0m\u001b[91mC\u001b[0m\u001b[91m]\u001b[0m\u001b[91m[\u001b[0m\u001b[91m/\u001b[0m\u001b[91mC\u001b[0m\u001b[91m]\u001b[0m\u001b[91m[\u001b[0m\u001b[91ms\u001b[0m\u001b[91mt\u001b[0m\u001b[91ma\u001b[0m\u001b[91mr\u001b[0m\u001b[91mt\u001b[0m][\u001b[91ms\u001b[0m\u001b[91mt\u001b[0m\u001b[91ma\u001b[0m\u001b[91mr\u001b[0m\u001b[91mt\u001b[0m\u001b[91m]\u001b[0m\u001b[91m[\u001b[0m\u001b[91ms\u001b[0m\u001b[91mt\u001b[0m\u001b[91ma\u001b[0m\u001b[91mr\u001b[0m\u001b[91mt\u001b[0m\u001b[91m]\u001b[0m\u001b[91m-\u001b[0m\u001b[91m-\u001b[0m\u001b[91m-\u001b[0m\u001b[91m-\u001b[0m\u001b[91m-\u001b[0m\u001b[91m-\u001b[0m\u001b[91m-\u001b[0m\u001b[91m-\u001b[0m\u001b[91m-\u001b[0m\u001b[91m-\u001b[0m\u001b[91m-\u001b[0m\u001b[91m-\u001b[0m\u001b[91m-\u001b[0m\u001b[91m-\u001b[0m\u001b[91m-\u001b[0m\u001b[91m-\u001b[0m\u001b[91m-\u001b[0m\u001b[91m-\u001b[0m\u001b[91m-\u001b[0m\u001b[91m-\u001b[0m\u001b[91m-\u001b[0m\u001b[91m-\u001b[0m\u001b[91m-\u001b[0m\u001b[91m-\u001b[0m\u001b[91m-\u001b[0m\u001b[91m-\u001b[0m\n",
      "-------------------\n",
      "\n",
      "Target:  [C][C][C][=C][S][C][=Ring1][Branch1][C][=Branch1][C][=O][O][C][C][=Branch1][C][=O][N][C][C][=C][C][=C][Branch1][C][F][C][Branch1][C][Cl][=C][Ring1][Branch2][end][nop][nop][nop][nop][nop][nop][nop][nop][nop][nop][nop][nop][nop][nop][nop][nop][nop][nop][nop][nop][nop][nop][nop][nop][nop][nop][nop][nop][nop][nop][nop][nop][nop][nop][nop][nop][nop][nop][nop][nop][nop][nop][nop][nop][nop][nop]------\n",
      "Output:  [C][C][\u001b[91m=\u001b[0m\u001b[91mC\u001b[0m\u001b[91m]\u001b[0m\u001b[91m[\u001b[0mC][\u001b[91mC\u001b[0m][C][=\u001b[91mC\u001b[0m\u001b[91m]\u001b[0m\u001b[91m[\u001b[0m\u001b[91mC\u001b[0m\u001b[91m]\u001b[0m\u001b[91m[\u001b[0m\u001b[91mC\u001b[0m\u001b[91m]\u001b[0m\u001b[91m[\u001b[0m\u001b[91mC\u001b[0m\u001b[91m]\u001b[0m\u001b[91m[\u001b[0m\u001b[91mC\u001b[0m\u001b[91m]\u001b[0m\u001b[91m[\u001b[0m\u001b[91mC\u001b[0m\u001b[91m]\u001b[0m\u001b[91m[\u001b[0m\u001b[91mC\u001b[0m\u001b[91m]\u001b[0m\u001b[91m[\u001b[0m\u001b[91mC\u001b[0m\u001b[91m]\u001b[0m\u001b[91m[\u001b[0m\u001b[91mC\u001b[0m\u001b[91m]\u001b[0m\u001b[91m[\u001b[0m\u001b[91mC\u001b[0m\u001b[91m]\u001b[0m\u001b[91m[\u001b[0m\u001b[91mC\u001b[0m\u001b[91m]\u001b[0m\u001b[91m[\u001b[0m\u001b[91m=\u001b[0m\u001b[91mO\u001b[0m\u001b[91m]\u001b[0m\u001b[91m[\u001b[0m\u001b[91mC\u001b[0m\u001b[91m]\u001b[0m\u001b[91m[\u001b[0m\u001b[91mC\u001b[0m\u001b[91m]\u001b[0m\u001b[91m[\u001b[0m\u001b[91mC\u001b[0m\u001b[91m]\u001b[0m\u001b[91m[\u001b[0m\u001b[91mC\u001b[0m\u001b[91m]\u001b[0m\u001b[91m[\u001b[0m\u001b[91mC\u001b[0m\u001b[91m]\u001b[0m\u001b[91m[\u001b[0m\u001b[91mC\u001b[0m][C][\u001b[91mC\u001b[0m\u001b[91m]\u001b[0m\u001b[91m[\u001b[0m\u001b[91mC\u001b[0m\u001b[91ml\u001b[0m][C][\u001b[91m=\u001b[0m\u001b[91mC\u001b[0m\u001b[91m]\u001b[0m\u001b[91m[\u001b[0m\u001b[91mR\u001b[0m\u001b[91mi\u001b[0m\u001b[91mn\u001b[0m\u001b[91mg\u001b[0m\u001b[91m1\u001b[0m\u001b[91m]\u001b[0m\u001b[91m[\u001b[0m\u001b[91m#\u001b[0m\u001b[91mB\u001b[0m\u001b[91mr\u001b[0m\u001b[91ma\u001b[0m\u001b[91mn\u001b[0m\u001b[91mc\u001b[0m\u001b[91mh\u001b[0m\u001b[91m1\u001b[0m\u001b[91m]\u001b[0m\u001b[91m[\u001b[0m\u001b[91m=\u001b[0m\u001b[91mC\u001b[0m\u001b[91m]\u001b[0m\u001b[91m[\u001b[0m\u001b[91mR\u001b[0m\u001b[91mi\u001b[0m\u001b[91mn\u001b[0m\u001b[91mg\u001b[0m\u001b[91m1\u001b[0m][\u001b[91m#\u001b[0m\u001b[91mB\u001b[0m\u001b[91mr\u001b[0m\u001b[91ma\u001b[0m\u001b[91mn\u001b[0m\u001b[91mc\u001b[0m\u001b[91mh\u001b[0m\u001b[91m1\u001b[0m\u001b[91m]\u001b[0m\u001b[91m[\u001b[0m\u001b[91me\u001b[0m\u001b[91mn\u001b[0m\u001b[91md\u001b[0m\u001b[91m]\u001b[0m\u001b[91m[\u001b[0m\u001b[91mR\u001b[0m\u001b[91mi\u001b[0m\u001b[91mn\u001b[0m\u001b[91mg\u001b[0m\u001b[91m1\u001b[0m\u001b[91m]\u001b[0m\u001b[91m[\u001b[0m\u001b[91mR\u001b[0m\u001b[91mi\u001b[0m\u001b[91mn\u001b[0m\u001b[91mg\u001b[0m\u001b[91m1\u001b[0m\u001b[91m]\u001b[0m\u001b[91m[\u001b[0m\u001b[91mR\u001b[0m\u001b[91mi\u001b[0m\u001b[91mn\u001b[0m\u001b[91mg\u001b[0m\u001b[91m1\u001b[0m][\u001b[91mR\u001b[0m\u001b[91mi\u001b[0m\u001b[91mn\u001b[0m\u001b[91mg\u001b[0m\u001b[91m1\u001b[0m\u001b[91m]\u001b[0m\u001b[91m[\u001b[0m\u001b[91mR\u001b[0m\u001b[91mi\u001b[0m\u001b[91mn\u001b[0m\u001b[91mg\u001b[0m\u001b[91m1\u001b[0m\u001b[91m]\u001b[0m\u001b[91m[\u001b[0m\u001b[91mC\u001b[0m\u001b[91m]\u001b[0m\u001b[91m[\u001b[0m\u001b[91mC\u001b[0m][\u001b[91mC\u001b[0m\u001b[91m]\u001b[0m\u001b[91m[\u001b[0m\u001b[91mC\u001b[0m\u001b[91m]\u001b[0m\u001b[91m[\u001b[0m\u001b[91mR\u001b[0m\u001b[91mi\u001b[0m\u001b[91mn\u001b[0m\u001b[91mg\u001b[0m\u001b[91m1\u001b[0m\u001b[91m]\u001b[0m\u001b[91m[\u001b[0m\u001b[91mR\u001b[0m\u001b[91mi\u001b[0mn\u001b[91mg\u001b[0m\u001b[91m1\u001b[0m][\u001b[91mR\u001b[0m\u001b[91mi\u001b[0m\u001b[91mn\u001b[0m\u001b[91mg\u001b[0m\u001b[91m1\u001b[0m\u001b[91m]\u001b[0m\u001b[91m[\u001b[0m\u001b[91mB\u001b[0m\u001b[91mr\u001b[0m\u001b[91ma\u001b[0mn\u001b[91mc\u001b[0m\u001b[91mh\u001b[0m\u001b[91m1\u001b[0m\u001b[91m]\u001b[0m\u001b[91m[\u001b[0m\u001b[91mC\u001b[0m\u001b[91m]\u001b[0m\u001b[91m[\u001b[0m\u001b[91mC\u001b[0m\u001b[91m]\u001b[0m\u001b[91m[\u001b[0m\u001b[91mC\u001b[0m][\u001b[91m=\u001b[0m\u001b[91mC\u001b[0m\u001b[91m]\u001b[0m\u001b[91m[\u001b[0m\u001b[91mR\u001b[0m\u001b[91mi\u001b[0m\u001b[91mn\u001b[0m\u001b[91mg\u001b[0m\u001b[91m1\u001b[0m\u001b[91m]\u001b[0m\u001b[91m[\u001b[0m\u001b[91m#\u001b[0m\u001b[91mB\u001b[0m\u001b[91mr\u001b[0m\u001b[91ma\u001b[0mn\u001b[91mc\u001b[0m\u001b[91mh\u001b[0m\u001b[91m1\u001b[0m\u001b[91m]\u001b[0m\u001b[91m[\u001b[0m\u001b[91me\u001b[0m\u001b[91mn\u001b[0m\u001b[91md\u001b[0m\u001b[91m]\u001b[0m\u001b[91m[\u001b[0m\u001b[91mR\u001b[0m\u001b[91mi\u001b[0m\u001b[91mn\u001b[0m\u001b[91mg\u001b[0m\u001b[91m1\u001b[0m\u001b[91m]\u001b[0m\u001b[91m[\u001b[0m\u001b[91mR\u001b[0m\u001b[91mi\u001b[0mn\u001b[91mg\u001b[0m\u001b[91m1\u001b[0m][\u001b[91m#\u001b[0m\u001b[91mB\u001b[0m\u001b[91mr\u001b[0m\u001b[91ma\u001b[0m\u001b[91mn\u001b[0m\u001b[91mc\u001b[0m\u001b[91mh\u001b[0m\u001b[91m2\u001b[0m][\u001b[91me\u001b[0m\u001b[91mn\u001b[0m\u001b[91md\u001b[0m][\u001b[91me\u001b[0m\u001b[91mn\u001b[0m\u001b[91md\u001b[0m][\u001b[91mB\u001b[0m\u001b[91mr\u001b[0m\u001b[91ma\u001b[0m\u001b[91mn\u001b[0m\u001b[91mc\u001b[0m\u001b[91mh\u001b[0m\u001b[91m1\u001b[0m\u001b[91m]\u001b[0m\u001b[91m[\u001b[0m\u001b[91mC\u001b[0m\u001b[91m]\u001b[0m\u001b[91m[\u001b[0m\u001b[91mC\u001b[0m][\u001b[91mC\u001b[0m\u001b[91m]\u001b[0m\u001b[91m[\u001b[0m\u001b[91mO\u001b[0m\u001b[91m]\u001b[0m\u001b[91m[\u001b[0m\u001b[91mB\u001b[0m\u001b[91mr\u001b[0m\u001b[91ma\u001b[0m\u001b[91mn\u001b[0m\u001b[91mc\u001b[0m\u001b[91mh\u001b[0m\u001b[91m1\u001b[0m][\u001b[91mC\u001b[0m\u001b[91m]\u001b[0m\u001b[91m[\u001b[0m\u001b[91m#\u001b[0m\u001b[91mB\u001b[0m\u001b[91mr\u001b[0m\u001b[91ma\u001b[0m\u001b[91mn\u001b[0m\u001b[91mc\u001b[0m\u001b[91mh\u001b[0m\u001b[91m2\u001b[0m\u001b[91m]\u001b[0m\u001b[91m[\u001b[0m\u001b[91m/\u001b[0m\u001b[91mC\u001b[0m\u001b[91m]\u001b[0m\u001b[91m[\u001b[0m\u001b[91m\\\u001b[0m\u001b[91mC\u001b[0m\u001b[91m]\u001b[0m\u001b[91m[\u001b[0m\u001b[91m\\\u001b[0m\u001b[91mC\u001b[0m][\u001b[91m\\\u001b[0m\u001b[91mC\u001b[0m\u001b[91m]\u001b[0m\u001b[91m[\u001b[0m\u001b[91m\\\u001b[0m\u001b[91mC\u001b[0m\u001b[91m]\u001b[0m\u001b[91m[\u001b[0m\u001b[91m/\u001b[0m\u001b[91mC\u001b[0m\u001b[91m]\u001b[0m\u001b[91m[\u001b[0m\u001b[91m/\u001b[0m\u001b[91mC\u001b[0m\u001b[91m]\u001b[0m\u001b[91m[\u001b[0m\u001b[91m/\u001b[0m\u001b[91mC\u001b[0m][\u001b[91m#\u001b[0m\u001b[91mB\u001b[0m\u001b[91mr\u001b[0m\u001b[91ma\u001b[0m\u001b[91mn\u001b[0m\u001b[91mc\u001b[0m\u001b[91mh\u001b[0m\u001b[91m1\u001b[0m][\u001b[91m#\u001b[0m\u001b[91mB\u001b[0m\u001b[91mr\u001b[0m\u001b[91ma\u001b[0m\u001b[91mn\u001b[0m\u001b[91mc\u001b[0m\u001b[91mh\u001b[0m\u001b[91m1\u001b[0m][\u001b[91m#\u001b[0m\u001b[91mB\u001b[0m\u001b[91mr\u001b[0m\u001b[91ma\u001b[0m\u001b[91mn\u001b[0m\u001b[91mc\u001b[0m\u001b[91mh\u001b[0m\u001b[91m1\u001b[0m][\u001b[91m\\\u001b[0m\u001b[91mC\u001b[0m\u001b[91m]\u001b[0m\u001b[91m[\u001b[0m\u001b[91ms\u001b[0m\u001b[91mt\u001b[0m\u001b[91ma\u001b[0m\u001b[91mr\u001b[0m\u001b[91mt\u001b[0m\u001b[91m]\u001b[0m\n",
      "-------------------\n",
      "\n",
      "Target:  [C][C][C@H1][Branch1][#C][C][=N][O][C][Branch1][=Branch1][C][C][C][Ring1][Ring1][=N][Ring1][Branch2][N][Branch1][=C][C][C][=N][N][=N][N][Ring1][Branch1][C][C][C][Ring1][Ring1][C][Ring2][Ring1][=Branch1][end][nop][nop][nop][nop][nop][nop][nop][nop][nop][nop][nop][nop][nop][nop][nop][nop][nop][nop][nop][nop][nop][nop][nop][nop][nop][nop][nop][nop][nop][nop][nop][nop][nop][nop][nop][nop][nop][nop][nop][nop][nop]\n",
      "Output:  [\u001b[91mO\u001b[0m][\u001b[91m=\u001b[0m\u001b[91mC\u001b[0m\u001b[91m]\u001b[0m\u001b[91m[\u001b[0m\u001b[91mB\u001b[0m\u001b[91mr\u001b[0m\u001b[91ma\u001b[0m\u001b[91mn\u001b[0m\u001b[91mc\u001b[0m\u001b[91mh\u001b[0m\u001b[91m1\u001b[0m\u001b[91m]\u001b[0m\u001b[91m[\u001b[0m\u001b[91mR\u001b[0m\u001b[91mi\u001b[0m\u001b[91mn\u001b[0m\u001b[91mg\u001b[0m\u001b[91m1\u001b[0m\u001b[91m]\u001b[0m\u001b[91m[\u001b[0m\u001b[91mC\u001b[0m\u001b[91m]\u001b[0m\u001b[91m[\u001b[0m\u001b[91mC\u001b[0m\u001b[91m]\u001b[0m\u001b[91m[\u001b[0m\u001b[91mC\u001b[0m][\u001b[91mC\u001b[0m][C][\u001b[91m=\u001b[0m\u001b[91mC\u001b[0m\u001b[91m]\u001b[0m\u001b[91m[\u001b[0m\u001b[91mC\u001b[0m\u001b[91m]\u001b[0m\u001b[91m[\u001b[0m\u001b[91mC\u001b[0m\u001b[91m]\u001b[0m\u001b[91m[\u001b[0m\u001b[91m=\u001b[0m\u001b[91mO\u001b[0m\u001b[91m]\u001b[0m\u001b[91m[\u001b[0m\u001b[91mC\u001b[0m\u001b[91m]\u001b[0m\u001b[91m[\u001b[0m\u001b[91mC\u001b[0m\u001b[91m]\u001b[0m\u001b[91m[\u001b[0m\u001b[91m=\u001b[0m\u001b[91mB\u001b[0m\u001b[91mr\u001b[0m\u001b[91ma\u001b[0m\u001b[91mn\u001b[0m\u001b[91mc\u001b[0m\u001b[91mh\u001b[0m\u001b[91m1\u001b[0m\u001b[91m]\u001b[0m\u001b[91m[\u001b[0m\u001b[91mC\u001b[0m\u001b[91m]\u001b[0m\u001b[91m[\u001b[0m\u001b[91mC\u001b[0m\u001b[91m]\u001b[0m\u001b[91m[\u001b[0m\u001b[91m=\u001b[0m\u001b[91mC\u001b[0m\u001b[91m]\u001b[0m\u001b[91m[\u001b[0m\u001b[91mR\u001b[0m\u001b[91mi\u001b[0m\u001b[91mn\u001b[0m\u001b[91mg\u001b[0m\u001b[91m1\u001b[0m\u001b[91m]\u001b[0m\u001b[91m[\u001b[0m\u001b[91mC\u001b[0m\u001b[91m]\u001b[0m\u001b[91m[\u001b[0m\u001b[91mC\u001b[0m][\u001b[91mC\u001b[0m\u001b[91m]\u001b[0m\u001b[91m[\u001b[0m\u001b[91mC\u001b[0m\u001b[91m]\u001b[0m\u001b[91m[\u001b[0m\u001b[91mC\u001b[0m][\u001b[91mC\u001b[0m][\u001b[91m=\u001b[0m\u001b[91mC\u001b[0m\u001b[91m]\u001b[0m\u001b[91m[\u001b[0m\u001b[91mC\u001b[0m\u001b[91m]\u001b[0m\u001b[91m[\u001b[0m\u001b[91m=\u001b[0m\u001b[91mC\u001b[0m\u001b[91m]\u001b[0m\u001b[91m[\u001b[0m\u001b[91mB\u001b[0m\u001b[91mr\u001b[0m\u001b[91ma\u001b[0m\u001b[91mn\u001b[0m\u001b[91mc\u001b[0m\u001b[91mh\u001b[0m\u001b[91m1\u001b[0m\u001b[91m]\u001b[0m\u001b[91m[\u001b[0m\u001b[91mC\u001b[0m][\u001b[91mC\u001b[0m][\u001b[91mC\u001b[0m\u001b[91m]\u001b[0m\u001b[91m[\u001b[0m\u001b[91m=\u001b[0m\u001b[91mC\u001b[0m][\u001b[91mC\u001b[0m\u001b[91m]\u001b[0m\u001b[91m[\u001b[0m\u001b[91m=\u001b[0m\u001b[91mC\u001b[0m][\u001b[91m=\u001b[0m\u001b[91mC\u001b[0m\u001b[91m]\u001b[0m\u001b[91m[\u001b[0m\u001b[91mR\u001b[0m\u001b[91mi\u001b[0m\u001b[91mn\u001b[0m\u001b[91mg\u001b[0m\u001b[91m1\u001b[0m\u001b[91m]\u001b[0m\u001b[91m[\u001b[0m\u001b[91mR\u001b[0m\u001b[91mi\u001b[0m\u001b[91mn\u001b[0m\u001b[91mg\u001b[0m\u001b[91m1\u001b[0m][\u001b[91me\u001b[0m\u001b[91mn\u001b[0m\u001b[91md\u001b[0m\u001b[91m]\u001b[0m\u001b[91m[\u001b[0m\u001b[91me\u001b[0m\u001b[91mn\u001b[0m\u001b[91md\u001b[0m\u001b[91m]\u001b[0m\u001b[91m[\u001b[0m\u001b[91mR\u001b[0m\u001b[91mi\u001b[0m\u001b[91mn\u001b[0m\u001b[91mg\u001b[0m\u001b[91m1\u001b[0m][\u001b[91mC\u001b[0m\u001b[91m]\u001b[0m\u001b[91m[\u001b[0m\u001b[91me\u001b[0m\u001b[91mn\u001b[0m\u001b[91md\u001b[0m\u001b[91m]\u001b[0m\u001b[91m[\u001b[0m\u001b[91me\u001b[0mn\u001b[91md\u001b[0m\u001b[91m]\u001b[0m\u001b[91m[\u001b[0m\u001b[91mC\u001b[0m\u001b[91m]\u001b[0m\u001b[91m[\u001b[0m\u001b[91mC\u001b[0m\u001b[91m]\u001b[0m\u001b[91m[\u001b[0m\u001b[91mC\u001b[0m\u001b[91m]\u001b[0m\u001b[91m[\u001b[0m\u001b[91mC\u001b[0m\u001b[91m]\u001b[0m\u001b[91m[\u001b[0m\u001b[91mC\u001b[0m\u001b[91m]\u001b[0m\u001b[91m[\u001b[0m\u001b[91mC\u001b[0m\u001b[91m]\u001b[0m\u001b[91m[\u001b[0m\u001b[91mC\u001b[0m][\u001b[91mR\u001b[0m\u001b[91mi\u001b[0m\u001b[91mn\u001b[0m\u001b[91mg\u001b[0m\u001b[91m1\u001b[0m\u001b[91m]\u001b[0m\u001b[91m[\u001b[0m\u001b[91mB\u001b[0m\u001b[91mr\u001b[0m\u001b[91ma\u001b[0mn\u001b[91mc\u001b[0m\u001b[91mh\u001b[0m\u001b[91m1\u001b[0m\u001b[91m]\u001b[0m\u001b[91m[\u001b[0m\u001b[91mC\u001b[0m\u001b[91m]\u001b[0m\u001b[91m[\u001b[0m\u001b[91mR\u001b[0m\u001b[91mi\u001b[0m\u001b[91mn\u001b[0m\u001b[91mg\u001b[0m\u001b[91m1\u001b[0m\u001b[91m]\u001b[0m\u001b[91m[\u001b[0m\u001b[91mR\u001b[0m\u001b[91mi\u001b[0m\u001b[91mn\u001b[0m\u001b[91mg\u001b[0m\u001b[91m1\u001b[0m\u001b[91m]\u001b[0m\u001b[91m[\u001b[0m\u001b[91mR\u001b[0m\u001b[91mi\u001b[0mn\u001b[91mg\u001b[0m\u001b[91m1\u001b[0m][\u001b[91mC\u001b[0m\u001b[91m]\u001b[0m\u001b[91m[\u001b[0m\u001b[91me\u001b[0m\u001b[91mn\u001b[0m\u001b[91md\u001b[0m\u001b[91m]\u001b[0m\u001b[91m[\u001b[0m\u001b[91mB\u001b[0m\u001b[91mr\u001b[0m\u001b[91ma\u001b[0m\u001b[91mn\u001b[0m\u001b[91mc\u001b[0m\u001b[91mh\u001b[0m\u001b[91m1\u001b[0m\u001b[91m]\u001b[0m\u001b[91m[\u001b[0m\u001b[91mC\u001b[0m][\u001b[91mC\u001b[0m\u001b[91m]\u001b[0m\u001b[91m[\u001b[0m\u001b[91mC\u001b[0m\u001b[91m]\u001b[0m\u001b[91m[\u001b[0m\u001b[91mC\u001b[0m\u001b[91m]\u001b[0m\u001b[91m[\u001b[0m\u001b[91mB\u001b[0m\u001b[91mr\u001b[0m\u001b[91ma\u001b[0m\u001b[91mn\u001b[0m\u001b[91mc\u001b[0m\u001b[91mh\u001b[0m\u001b[91m1\u001b[0m\u001b[91m]\u001b[0m\u001b[91m[\u001b[0m\u001b[91mC\u001b[0m\u001b[91m]\u001b[0m\u001b[91m[\u001b[0m\u001b[91mC\u001b[0m\u001b[91m]\u001b[0m\u001b[91m[\u001b[0m\u001b[91mC\u001b[0m\u001b[91m]\u001b[0m\u001b[91m[\u001b[0m\u001b[91m\\\u001b[0m\u001b[91mC\u001b[0m\u001b[91m]\u001b[0m\u001b[91m[\u001b[0m\u001b[91m\\\u001b[0m\u001b[91mC\u001b[0m][\u001b[91m\\\u001b[0m\u001b[91mC\u001b[0m\u001b[91m]\u001b[0m\u001b[91m[\u001b[0m\u001b[91m\\\u001b[0m\u001b[91mC\u001b[0m\u001b[91m]\u001b[0m\u001b[91m[\u001b[0m\u001b[91m\\\u001b[0m\u001b[91mC\u001b[0m\u001b[91m]\u001b[0m\u001b[91m[\u001b[0m\u001b[91m/\u001b[0m\u001b[91mC\u001b[0m\u001b[91m]\u001b[0m\u001b[91m[\u001b[0m\u001b[91m#\u001b[0m\u001b[91mB\u001b[0m\u001b[91mr\u001b[0m\u001b[91ma\u001b[0mn\u001b[91mc\u001b[0m\u001b[91mh\u001b[0m\u001b[91m1\u001b[0m\u001b[91m]\u001b[0m\u001b[91m[\u001b[0m\u001b[91m#\u001b[0m\u001b[91mB\u001b[0m\u001b[91mr\u001b[0m\u001b[91ma\u001b[0mn\u001b[91mc\u001b[0m\u001b[91mh\u001b[0m\u001b[91m1\u001b[0m\u001b[91m]\u001b[0m\u001b[91m[\u001b[0m\u001b[91m#\u001b[0m\u001b[91mB\u001b[0m\u001b[91mr\u001b[0m\u001b[91ma\u001b[0mn\u001b[91mc\u001b[0m\u001b[91mh\u001b[0m\u001b[91m1\u001b[0m\u001b[91m]\u001b[0m\u001b[91m[\u001b[0m\u001b[91m#\u001b[0m\u001b[91mB\u001b[0m\u001b[91mr\u001b[0m\u001b[91ma\u001b[0mn\u001b[91mc\u001b[0m\u001b[91mh\u001b[0m\u001b[91m1\u001b[0m\u001b[91m]\u001b[0m\u001b[91m[\u001b[0m\u001b[91m#\u001b[0m\u001b[91mB\u001b[0m\u001b[91mr\u001b[0m\u001b[91ma\u001b[0mn\u001b[91mc\u001b[0m\u001b[91mh\u001b[0m\u001b[91m1\u001b[0m\u001b[91m]\u001b[0m\u001b[91m[\u001b[0m\u001b[91m#\u001b[0m\u001b[91mB\u001b[0m\u001b[91mr\u001b[0m\u001b[91ma\u001b[0mn\u001b[91mc\u001b[0m\u001b[91mh\u001b[0m\u001b[91m1\u001b[0m\u001b[91m]\u001b[0m\u001b[91m-\u001b[0m\u001b[91m-\u001b[0m\u001b[91m-\u001b[0m\u001b[91m-\u001b[0m\u001b[91m-\u001b[0m\u001b[91m-\u001b[0m\u001b[91m-\u001b[0m\u001b[91m-\u001b[0m\u001b[91m-\u001b[0m\u001b[91m-\u001b[0m\u001b[91m-\u001b[0m\u001b[91m-\u001b[0m\u001b[91m-\u001b[0m\u001b[91m-\u001b[0m\u001b[91m-\u001b[0m\u001b[91m-\u001b[0m\u001b[91m-\u001b[0m\u001b[91m-\u001b[0m\u001b[91m-\u001b[0m\u001b[91m-\u001b[0m\u001b[91m-\u001b[0m\u001b[91m-\u001b[0m\u001b[91m-\u001b[0m\u001b[91m-\u001b[0m\u001b[91m-\u001b[0m\u001b[91m-\u001b[0m\u001b[91m-\u001b[0m\u001b[91m-\u001b[0m\u001b[91m-\u001b[0m\n",
      "-------------------\n",
      "\n",
      "Target:  [C][C][=N][C][Branch2][Ring1][=C][S][C][C][=Branch1][C][=O][N][Branch1][C][C][C][C][C][=N][N][Branch1][#Branch2][C][C][=C][C][=C][C][=C][Ring1][=Branch1][C][=Ring1][N][=C][C][Branch1][C][C][=C][Branch1][C][C][S][C][Ring1][#Branch1][=N][Ring2][Ring1][=C][end][nop][nop][nop][nop][nop][nop][nop][nop][nop][nop][nop][nop][nop][nop][nop][nop][nop][nop][nop][nop][nop][nop][nop][nop][nop][nop][nop]\n",
      "Output:  [C][C][=\u001b[91mC\u001b[0m][C][\u001b[91m=\u001b[0m\u001b[91mC\u001b[0m\u001b[91m]\u001b[0m\u001b[91m[\u001b[0m\u001b[91mR\u001b[0m\u001b[91mi\u001b[0m\u001b[91mn\u001b[0m\u001b[91mg\u001b[0m\u001b[91m1\u001b[0m\u001b[91m]\u001b[0m\u001b[91m[\u001b[0m\u001b[91mS\u001b[0m\u001b[91m]\u001b[0m\u001b[91m[\u001b[0m\u001b[91mC\u001b[0m\u001b[91m]\u001b[0m\u001b[91m[\u001b[0m\u001b[91m=\u001b[0m\u001b[91mB\u001b[0m\u001b[91mr\u001b[0m\u001b[91ma\u001b[0m\u001b[91mn\u001b[0m\u001b[91mc\u001b[0m\u001b[91mh\u001b[0m\u001b[91m1\u001b[0m\u001b[91m]\u001b[0m\u001b[91m[\u001b[0m\u001b[91m=\u001b[0m\u001b[91mB\u001b[0m\u001b[91mr\u001b[0m\u001b[91ma\u001b[0m\u001b[91mn\u001b[0m\u001b[91mc\u001b[0m\u001b[91mh\u001b[0m\u001b[91m1\u001b[0m\u001b[91m]\u001b[0m\u001b[91m[\u001b[0m\u001b[91mC\u001b[0m\u001b[91m]\u001b[0m\u001b[91m[\u001b[0m\u001b[91mC\u001b[0m\u001b[91m]\u001b[0m\u001b[91m[\u001b[0m\u001b[91m=\u001b[0m\u001b[91mO\u001b[0m\u001b[91m]\u001b[0m\u001b[91m[\u001b[0m\u001b[91mC\u001b[0m\u001b[91m]\u001b[0m\u001b[91m[\u001b[0m\u001b[91mC\u001b[0m\u001b[91m]\u001b[0m\u001b[91m[\u001b[0m\u001b[91mC\u001b[0m\u001b[91m]\u001b[0m\u001b[91m[\u001b[0m\u001b[91mC\u001b[0m\u001b[91m]\u001b[0m\u001b[91m[\u001b[0m\u001b[91mC\u001b[0m\u001b[91m]\u001b[0m\u001b[91m[\u001b[0m\u001b[91mC\u001b[0m\u001b[91m]\u001b[0m\u001b[91m[\u001b[0m\u001b[91mC\u001b[0m\u001b[91m]\u001b[0m\u001b[91m[\u001b[0m\u001b[91mC\u001b[0m\u001b[91m]\u001b[0m\u001b[91m[\u001b[0m\u001b[91mC\u001b[0m\u001b[91m]\u001b[0m\u001b[91m[\u001b[0m\u001b[91m=\u001b[0m\u001b[91mC\u001b[0m\u001b[91m]\u001b[0m\u001b[91m[\u001b[0m\u001b[91mC\u001b[0m\u001b[91m]\u001b[0m\u001b[91m[\u001b[0m\u001b[91mC\u001b[0m\u001b[91m]\u001b[0m\u001b[91m[\u001b[0m\u001b[91m=\u001b[0m\u001b[91mC\u001b[0m\u001b[91m]\u001b[0m\u001b[91m[\u001b[0m\u001b[91m=\u001b[0m\u001b[91mC\u001b[0m\u001b[91m]\u001b[0m\u001b[91m[\u001b[0m\u001b[91mC\u001b[0m\u001b[91m]\u001b[0m\u001b[91m[\u001b[0m\u001b[91m=\u001b[0m\u001b[91mC\u001b[0m][C][\u001b[91m=\u001b[0m\u001b[91mC\u001b[0m\u001b[91m]\u001b[0m\u001b[91m[\u001b[0m\u001b[91mR\u001b[0m\u001b[91mi\u001b[0m\u001b[91mn\u001b[0m\u001b[91mg\u001b[0m\u001b[91m1\u001b[0m\u001b[91m]\u001b[0m\u001b[91m[\u001b[0m\u001b[91m=\u001b[0m\u001b[91mB\u001b[0m\u001b[91mr\u001b[0m\u001b[91ma\u001b[0m\u001b[91mn\u001b[0m\u001b[91mc\u001b[0m\u001b[91mh\u001b[0m\u001b[91m1\u001b[0m][\u001b[91mC\u001b[0m\u001b[91m]\u001b[0m\u001b[91m[\u001b[0m\u001b[91mC\u001b[0m\u001b[91m]\u001b[0m\u001b[91m[\u001b[0m\u001b[91mC\u001b[0m\u001b[91m]\u001b[0m\u001b[91m[\u001b[0m\u001b[91mC\u001b[0m\u001b[91m]\u001b[0m\u001b[91m[\u001b[0m\u001b[91mR\u001b[0m\u001b[91mi\u001b[0m\u001b[91mn\u001b[0m\u001b[91mg\u001b[0m\u001b[91m1\u001b[0m\u001b[91m]\u001b[0m\u001b[91m[\u001b[0m\u001b[91m=\u001b[0m\u001b[91mC\u001b[0m\u001b[91m]\u001b[0m\u001b[91m[\u001b[0m\u001b[91mC\u001b[0m\u001b[91m]\u001b[0m\u001b[91m[\u001b[0m\u001b[91m=\u001b[0m\u001b[91mC\u001b[0m\u001b[91m]\u001b[0m\u001b[91m[\u001b[0m\u001b[91mC\u001b[0m\u001b[91m]\u001b[0m\u001b[91m[\u001b[0m\u001b[91mC\u001b[0m\u001b[91m]\u001b[0m\u001b[91m[\u001b[0m\u001b[91mC\u001b[0m\u001b[91m]\u001b[0m\u001b[91m[\u001b[0m\u001b[91mC\u001b[0m\u001b[91m]\u001b[0m\u001b[91m[\u001b[0m\u001b[91m=\u001b[0m\u001b[91mC\u001b[0m\u001b[91m]\u001b[0m\u001b[91m[\u001b[0m\u001b[91mR\u001b[0m\u001b[91mi\u001b[0m\u001b[91mn\u001b[0m\u001b[91mg\u001b[0m\u001b[91m1\u001b[0m][\u001b[91mR\u001b[0m\u001b[91mi\u001b[0m\u001b[91mn\u001b[0m\u001b[91mg\u001b[0m\u001b[91m1\u001b[0m\u001b[91m]\u001b[0m\u001b[91m[\u001b[0m\u001b[91mR\u001b[0m\u001b[91mi\u001b[0m\u001b[91mn\u001b[0m\u001b[91mg\u001b[0m\u001b[91m1\u001b[0m\u001b[91m]\u001b[0m\u001b[91m[\u001b[0m\u001b[91mC\u001b[0m\u001b[91m]\u001b[0m\u001b[91m[\u001b[0m\u001b[91m=\u001b[0m\u001b[91mC\u001b[0m\u001b[91m]\u001b[0m\u001b[91m[\u001b[0m\u001b[91mR\u001b[0m\u001b[91mi\u001b[0m\u001b[91mn\u001b[0m\u001b[91mg\u001b[0m\u001b[91m2\u001b[0m\u001b[91m]\u001b[0m\u001b[91m[\u001b[0m\u001b[91mR\u001b[0m\u001b[91mi\u001b[0m\u001b[91mn\u001b[0m\u001b[91mg\u001b[0m\u001b[91m1\u001b[0m\u001b[91m]\u001b[0m\u001b[91m[\u001b[0m\u001b[91mC\u001b[0m\u001b[91m]\u001b[0m\u001b[91m[\u001b[0m\u001b[91me\u001b[0m\u001b[91mn\u001b[0m\u001b[91md\u001b[0m\u001b[91m]\u001b[0m\u001b[91m[\u001b[0m\u001b[91mR\u001b[0m\u001b[91mi\u001b[0m\u001b[91mn\u001b[0m\u001b[91mg\u001b[0m\u001b[91m2\u001b[0m\u001b[91m]\u001b[0m\u001b[91m[\u001b[0m\u001b[91mR\u001b[0m\u001b[91mi\u001b[0m\u001b[91mn\u001b[0m\u001b[91mg\u001b[0m\u001b[91m1\u001b[0m\u001b[91m]\u001b[0m\u001b[91m[\u001b[0m\u001b[91mR\u001b[0m\u001b[91mi\u001b[0m\u001b[91mn\u001b[0m\u001b[91mg\u001b[0m\u001b[91m1\u001b[0m][\u001b[91mC\u001b[0m\u001b[91m]\u001b[0m\u001b[91m[\u001b[0m\u001b[91m=\u001b[0m\u001b[91mC\u001b[0m\u001b[91m]\u001b[0m\u001b[91m[\u001b[0m\u001b[91mR\u001b[0m\u001b[91mi\u001b[0m\u001b[91mn\u001b[0m\u001b[91mg\u001b[0m\u001b[91m2\u001b[0m\u001b[91m]\u001b[0m\u001b[91m[\u001b[0m\u001b[91mR\u001b[0m\u001b[91mi\u001b[0m\u001b[91mn\u001b[0m\u001b[91mg\u001b[0m\u001b[91m1\u001b[0m\u001b[91m]\u001b[0m\u001b[91m[\u001b[0m\u001b[91mR\u001b[0m\u001b[91mi\u001b[0m\u001b[91mn\u001b[0m\u001b[91mg\u001b[0m\u001b[91m1\u001b[0m\u001b[91m]\u001b[0m\u001b[91m[\u001b[0m\u001b[91mR\u001b[0m\u001b[91mi\u001b[0mn\u001b[91mg\u001b[0m\u001b[91m1\u001b[0m][\u001b[91mR\u001b[0m\u001b[91mi\u001b[0m\u001b[91mn\u001b[0m\u001b[91mg\u001b[0m\u001b[91m1\u001b[0m\u001b[91m]\u001b[0m\u001b[91m[\u001b[0m\u001b[91mC\u001b[0m][\u001b[91mC\u001b[0m\u001b[91m]\u001b[0m\u001b[91m[\u001b[0m\u001b[91mC\u001b[0m\u001b[91m]\u001b[0m\u001b[91m[\u001b[0m\u001b[91mR\u001b[0m\u001b[91mi\u001b[0m\u001b[91mn\u001b[0m\u001b[91mg\u001b[0m\u001b[91m1\u001b[0m\u001b[91m]\u001b[0m\u001b[91m[\u001b[0m\u001b[91mR\u001b[0m\u001b[91mi\u001b[0mn\u001b[91mg\u001b[0m\u001b[91m1\u001b[0m][\u001b[91mB\u001b[0m\u001b[91mr\u001b[0m\u001b[91ma\u001b[0m\u001b[91mn\u001b[0m\u001b[91mc\u001b[0m\u001b[91mh\u001b[0m\u001b[91m1\u001b[0m\u001b[91m]\u001b[0m\u001b[91m[\u001b[0m\u001b[91mC\u001b[0m\u001b[91m]\u001b[0m\u001b[91m[\u001b[0m\u001b[91mC\u001b[0m][\u001b[91mC\u001b[0m\u001b[91m]\u001b[0m\u001b[91m[\u001b[0m\u001b[91mB\u001b[0m\u001b[91mr\u001b[0m\u001b[91ma\u001b[0m\u001b[91mn\u001b[0m\u001b[91mc\u001b[0m\u001b[91mh\u001b[0m\u001b[91m1\u001b[0m\u001b[91m]\u001b[0m\u001b[91m[\u001b[0m\u001b[91mC\u001b[0m][\u001b[91mC\u001b[0m\u001b[91m]\u001b[0m\u001b[91m[\u001b[0m\u001b[91mC\u001b[0m\u001b[91m]\u001b[0m\u001b[91m[\u001b[0m\u001b[91m\\\u001b[0m\u001b[91mC\u001b[0m][\u001b[91m\\\u001b[0m\u001b[91mC\u001b[0m\u001b[91m]\u001b[0m\u001b[91m[\u001b[0m\u001b[91m\\\u001b[0m\u001b[91mC\u001b[0m\u001b[91m]\u001b[0m\u001b[91m-\u001b[0m\u001b[91m-\u001b[0m\u001b[91m-\u001b[0m\u001b[91m-\u001b[0m\u001b[91m-\u001b[0m\u001b[91m-\u001b[0m\u001b[91m-\u001b[0m\u001b[91m-\u001b[0m\u001b[91m-\u001b[0m\u001b[91m-\u001b[0m\u001b[91m-\u001b[0m\u001b[91m-\u001b[0m\u001b[91m-\u001b[0m\u001b[91m-\u001b[0m\u001b[91m-\u001b[0m\u001b[91m-\u001b[0m\u001b[91m-\u001b[0m\u001b[91m-\u001b[0m\u001b[91m-\u001b[0m\u001b[91m-\u001b[0m\u001b[91m-\u001b[0m\u001b[91m-\u001b[0m\u001b[91m-\u001b[0m\u001b[91m-\u001b[0m\u001b[91m-\u001b[0m\u001b[91m-\u001b[0m\u001b[91m-\u001b[0m\n",
      "-------------------\n",
      "\n",
      "Epoch 2 loss: 1.744419024671827\n"
     ]
    },
    {
     "data": {
      "application/vnd.jupyter.widget-view+json": {
       "model_id": "99e8af53a91d4d418b84b45a084c0cee",
       "version_major": 2,
       "version_minor": 0
      },
      "text/plain": [
       "  0%|          | 0/140 [00:00<?, ?it/s]"
      ]
     },
     "metadata": {},
     "output_type": "display_data"
    },
    {
     "name": "stdout",
     "output_type": "stream",
     "text": [
      "Epoch 3 loss: 1.705408160175596\n",
      "Target:  [C][C][=Branch1][C][=O][C][=C][C][Branch2][Ring1][#Branch1][C][C][=Branch1][C][=O][N][C][C][N][C][C][N][C][=Branch1][C][=O][C@H1][Ring1][#Branch1][C][Ring1][O][=C][S][Ring2][Ring1][Ring1][end][nop][nop][nop][nop][nop][nop][nop][nop][nop][nop][nop][nop][nop][nop][nop][nop][nop][nop][nop][nop][nop][nop][nop][nop][nop][nop][nop][nop][nop][nop][nop][nop][nop][nop][nop][nop][nop][nop][nop][nop][nop][nop]\n",
      "Output:  [C][C][\u001b[91mB\u001b[0m\u001b[91mr\u001b[0m\u001b[91ma\u001b[0m\u001b[91mn\u001b[0m\u001b[91mc\u001b[0m\u001b[91mh\u001b[0m\u001b[91m1\u001b[0m\u001b[91m]\u001b[0m\u001b[91m[\u001b[0m\u001b[91mC\u001b[0m\u001b[91m]\u001b[0m\u001b[91m[\u001b[0m\u001b[91mC\u001b[0m\u001b[91m]\u001b[0m\u001b[91m[\u001b[0m\u001b[91mN\u001b[0m\u001b[91m]\u001b[0m\u001b[91m[\u001b[0m\u001b[91mC\u001b[0m\u001b[91m]\u001b[0m\u001b[91m[\u001b[0mC][C][\u001b[91mR\u001b[0m\u001b[91mi\u001b[0m\u001b[91mn\u001b[0m\u001b[91mg\u001b[0m\u001b[91m1\u001b[0m\u001b[91m]\u001b[0m\u001b[91m[\u001b[0m\u001b[91m=\u001b[0m\u001b[91mB\u001b[0m\u001b[91mr\u001b[0m\u001b[91ma\u001b[0mn\u001b[91mc\u001b[0m\u001b[91mh\u001b[0m\u001b[91m1\u001b[0m\u001b[91m]\u001b[0m\u001b[91m[\u001b[0m\u001b[91mC\u001b[0m\u001b[91m]\u001b[0m\u001b[91m[\u001b[0m\u001b[91m=\u001b[0m\u001b[91mB\u001b[0m\u001b[91mr\u001b[0m\u001b[91ma\u001b[0m\u001b[91mn\u001b[0m\u001b[91mc\u001b[0m\u001b[91mh\u001b[0m\u001b[91m1\u001b[0m\u001b[91m]\u001b[0m\u001b[91m[\u001b[0m\u001b[91mC\u001b[0m\u001b[91m]\u001b[0m\u001b[91m[\u001b[0m\u001b[91mC\u001b[0m\u001b[91m]\u001b[0m\u001b[91m[\u001b[0m\u001b[91m=\u001b[0m\u001b[91mO\u001b[0m\u001b[91m]\u001b[0m\u001b[91m[\u001b[0m\u001b[91mN\u001b[0m\u001b[91m]\u001b[0m\u001b[91m[\u001b[0m\u001b[91mC\u001b[0m\u001b[91m]\u001b[0m\u001b[91m[\u001b[0m\u001b[91mC\u001b[0m][\u001b[91mC\u001b[0m][C][C][\u001b[91mC\u001b[0m][C][C][\u001b[91mC\u001b[0m][C][\u001b[91mC\u001b[0m\u001b[91m]\u001b[0m\u001b[91m[\u001b[0m\u001b[91mC\u001b[0m\u001b[91m]\u001b[0m\u001b[91m[\u001b[0m\u001b[91m#\u001b[0m\u001b[91mB\u001b[0m\u001b[91mr\u001b[0m\u001b[91ma\u001b[0m\u001b[91mn\u001b[0m\u001b[91mc\u001b[0m\u001b[91mh\u001b[0m\u001b[91m1\u001b[0m\u001b[91m]\u001b[0m\u001b[91m[\u001b[0m\u001b[91mC\u001b[0m\u001b[91m]\u001b[0m\u001b[91m[\u001b[0m\u001b[91mC\u001b[0m\u001b[91m]\u001b[0m\u001b[91m[\u001b[0m\u001b[91mC\u001b[0m\u001b[91m]\u001b[0m\u001b[91m[\u001b[0m\u001b[91mC\u001b[0m\u001b[91m]\u001b[0m\u001b[91m[\u001b[0m\u001b[91mR\u001b[0m\u001b[91mi\u001b[0m\u001b[91mn\u001b[0m\u001b[91mg\u001b[0m\u001b[91m2\u001b[0m\u001b[91m]\u001b[0m\u001b[91m[\u001b[0m\u001b[91mR\u001b[0m\u001b[91mi\u001b[0m\u001b[91mn\u001b[0m\u001b[91mg\u001b[0m\u001b[91m2\u001b[0m\u001b[91m]\u001b[0m\u001b[91m[\u001b[0m\u001b[91mR\u001b[0m\u001b[91mi\u001b[0m\u001b[91mn\u001b[0m\u001b[91mg\u001b[0m\u001b[91m1\u001b[0m\u001b[91m]\u001b[0m\u001b[91m[\u001b[0m\u001b[91mB\u001b[0m\u001b[91mr\u001b[0m\u001b[91ma\u001b[0m\u001b[91mn\u001b[0m\u001b[91mc\u001b[0m\u001b[91mh\u001b[0m\u001b[91m1\u001b[0m\u001b[91m]\u001b[0m\u001b[91m[\u001b[0m\u001b[91me\u001b[0m\u001b[91mn\u001b[0m\u001b[91md\u001b[0m\u001b[91m]\u001b[0m\u001b[91m[\u001b[0m\u001b[91me\u001b[0m\u001b[91mn\u001b[0m\u001b[91md\u001b[0m\u001b[91m]\u001b[0m\u001b[91m[\u001b[0m\u001b[91mR\u001b[0m\u001b[91mi\u001b[0m\u001b[91mn\u001b[0m\u001b[91mg\u001b[0m\u001b[91m2\u001b[0m\u001b[91m]\u001b[0m\u001b[91m[\u001b[0m\u001b[91mR\u001b[0m\u001b[91mi\u001b[0m\u001b[91mn\u001b[0m\u001b[91mg\u001b[0m\u001b[91m1\u001b[0m\u001b[91m]\u001b[0m\u001b[91m[\u001b[0m\u001b[91mR\u001b[0m\u001b[91mi\u001b[0m\u001b[91mn\u001b[0m\u001b[91mg\u001b[0m\u001b[91m1\u001b[0m\u001b[91m]\u001b[0m\u001b[91m[\u001b[0m\u001b[91mR\u001b[0m\u001b[91mi\u001b[0mn\u001b[91mg\u001b[0m\u001b[91m1\u001b[0m][\u001b[91mR\u001b[0m\u001b[91mi\u001b[0m\u001b[91mn\u001b[0m\u001b[91mg\u001b[0m\u001b[91m1\u001b[0m\u001b[91m]\u001b[0m\u001b[91m[\u001b[0m\u001b[91mR\u001b[0m\u001b[91mi\u001b[0m\u001b[91mn\u001b[0m\u001b[91mg\u001b[0m\u001b[91m1\u001b[0m\u001b[91m]\u001b[0m\u001b[91m[\u001b[0m\u001b[91mC\u001b[0m\u001b[91m]\u001b[0m\u001b[91m[\u001b[0m\u001b[91m=\u001b[0m\u001b[91mC\u001b[0m\u001b[91m]\u001b[0m\u001b[91m[\u001b[0m\u001b[91mB\u001b[0m\u001b[91mr\u001b[0m\u001b[91ma\u001b[0m\u001b[91mn\u001b[0m\u001b[91mc\u001b[0m\u001b[91mh\u001b[0m\u001b[91m1\u001b[0m][\u001b[91mC\u001b[0m\u001b[91m]\u001b[0m\u001b[91m[\u001b[0m\u001b[91mC\u001b[0m\u001b[91m]\u001b[0m\u001b[91m[\u001b[0m\u001b[91mC\u001b[0m\u001b[91m]\u001b[0m\u001b[91m[\u001b[0m\u001b[91mC\u001b[0m\u001b[91m]\u001b[0m\u001b[91m[\u001b[0m\u001b[91mC\u001b[0m][\u001b[91m=\u001b[0m\u001b[91mC\u001b[0m\u001b[91m]\u001b[0m\u001b[91m[\u001b[0m\u001b[91mC\u001b[0m\u001b[91m]\u001b[0m\u001b[91m[\u001b[0m\u001b[91m=\u001b[0m\u001b[91mC\u001b[0m\u001b[91m]\u001b[0m\u001b[91m[\u001b[0m\u001b[91mB\u001b[0m\u001b[91mr\u001b[0m\u001b[91ma\u001b[0m\u001b[91mn\u001b[0m\u001b[91mc\u001b[0m\u001b[91mh\u001b[0m\u001b[91m1\u001b[0m][\u001b[91mR\u001b[0m\u001b[91mi\u001b[0m\u001b[91mn\u001b[0m\u001b[91mg\u001b[0m\u001b[91m1\u001b[0m\u001b[91m]\u001b[0m\u001b[91m[\u001b[0m\u001b[91mR\u001b[0m\u001b[91mi\u001b[0m\u001b[91mn\u001b[0m\u001b[91mg\u001b[0m\u001b[91m1\u001b[0m\u001b[91m]\u001b[0m\u001b[91m[\u001b[0m\u001b[91mR\u001b[0m\u001b[91mi\u001b[0m\u001b[91mn\u001b[0m\u001b[91mg\u001b[0m\u001b[91m1\u001b[0m\u001b[91m]\u001b[0m\u001b[91m[\u001b[0m\u001b[91mR\u001b[0m\u001b[91mi\u001b[0m\u001b[91mn\u001b[0m\u001b[91mg\u001b[0m\u001b[91m1\u001b[0m\u001b[91m]\u001b[0m\u001b[91m[\u001b[0m\u001b[91mB\u001b[0m\u001b[91mr\u001b[0m\u001b[91ma\u001b[0m\u001b[91mn\u001b[0m\u001b[91mc\u001b[0m\u001b[91mh\u001b[0m\u001b[91m1\u001b[0m\u001b[91m]\u001b[0m\u001b[91m[\u001b[0m\u001b[91mC\u001b[0m][\u001b[91mC\u001b[0m\u001b[91m]\u001b[0m\u001b[91m[\u001b[0m\u001b[91m=\u001b[0m\u001b[91mC\u001b[0m\u001b[91m]\u001b[0m\u001b[91m[\u001b[0m\u001b[91mB\u001b[0m\u001b[91mr\u001b[0m\u001b[91ma\u001b[0mn\u001b[91mc\u001b[0m\u001b[91mh\u001b[0m\u001b[91m1\u001b[0m\u001b[91m]\u001b[0m\u001b[91m[\u001b[0m\u001b[91mC\u001b[0m\u001b[91m]\u001b[0m\u001b[91m[\u001b[0m\u001b[91mC\u001b[0m\u001b[91m]\u001b[0m\u001b[91m[\u001b[0m\u001b[91mC\u001b[0m][\u001b[91mC\u001b[0m\u001b[91m]\u001b[0m\u001b[91m[\u001b[0m\u001b[91mB\u001b[0m\u001b[91mr\u001b[0m\u001b[91ma\u001b[0m\u001b[91mn\u001b[0m\u001b[91mc\u001b[0m\u001b[91mh\u001b[0m\u001b[91m1\u001b[0m\u001b[91m]\u001b[0m\u001b[91m[\u001b[0m\u001b[91mC\u001b[0m][\u001b[91m=\u001b[0m\u001b[91mC\u001b[0m\u001b[91m]\u001b[0m\u001b[91m[\u001b[0m\u001b[91mC\u001b[0m\u001b[91m]\u001b[0m\u001b[91m[\u001b[0m\u001b[91m=\u001b[0m\u001b[91mC\u001b[0m\u001b[91m]\u001b[0m\u001b[91m[\u001b[0m\u001b[91mC\u001b[0m\u001b[91m]\u001b[0m\u001b[91m[\u001b[0m\u001b[91mR\u001b[0m\u001b[91mi\u001b[0m\u001b[91mn\u001b[0m\u001b[91mg\u001b[0m\u001b[91m1\u001b[0m\u001b[91m]\u001b[0m\u001b[91m[\u001b[0m\u001b[91mB\u001b[0m\u001b[91mr\u001b[0m\u001b[91ma\u001b[0m\u001b[91mn\u001b[0m\u001b[91mc\u001b[0m\u001b[91mh\u001b[0m\u001b[91m1\u001b[0m][\u001b[91mC\u001b[0m\u001b[91m]\u001b[0m\u001b[91m[\u001b[0m\u001b[91m=\u001b[0m\u001b[91mC\u001b[0m\u001b[91m]\u001b[0m\u001b[91m-\u001b[0m\u001b[91m-\u001b[0m\u001b[91m-\u001b[0m\u001b[91m-\u001b[0m\u001b[91m-\u001b[0m\u001b[91m-\u001b[0m\u001b[91m-\u001b[0m\u001b[91m-\u001b[0m\u001b[91m-\u001b[0m\u001b[91m-\u001b[0m\u001b[91m-\u001b[0m\u001b[91m-\u001b[0m\u001b[91m-\u001b[0m\u001b[91m-\u001b[0m\u001b[91m-\u001b[0m\u001b[91m-\u001b[0m\u001b[91m-\u001b[0m\u001b[91m-\u001b[0m\n",
      "-------------------\n",
      "\n",
      "Target:  [O][=C][Branch1][=Branch2][O][C@H1][C][C][O][C][Ring1][Branch1][C][Branch1][#C][C][=C][C][=C][Branch1][C][Cl][C][Branch1][C][Cl][=C][Ring1][Branch2][C][C][C][Ring1][N][end][nop][nop][nop][nop][nop][nop][nop][nop][nop][nop][nop][nop][nop][nop][nop][nop][nop][nop][nop][nop][nop][nop][nop][nop][nop][nop][nop][nop][nop][nop][nop][nop][nop][nop][nop][nop][nop][nop][nop][nop][nop][nop][nop][nop][nop][nop]\n",
      "Output:  [O][=C][Branch1][\u001b[91mC\u001b[0m\u001b[91m]\u001b[0m\u001b[91m[\u001b[0m\u001b[91mC\u001b[0m\u001b[91m]\u001b[0m\u001b[91m[\u001b[0m\u001b[91mC\u001b[0m\u001b[91m]\u001b[0m\u001b[91m[\u001b[0m\u001b[91mC\u001b[0m\u001b[91m]\u001b[0m\u001b[91m[\u001b[0m\u001b[91mC\u001b[0m\u001b[91m]\u001b[0m\u001b[91m[\u001b[0m\u001b[91mC\u001b[0m\u001b[91m]\u001b[0m\u001b[91m[\u001b[0m\u001b[91mC\u001b[0m\u001b[91m]\u001b[0m\u001b[91m[\u001b[0m\u001b[91m=\u001b[0mC][\u001b[91mB\u001b[0m\u001b[91mr\u001b[0m\u001b[91ma\u001b[0m\u001b[91mn\u001b[0m\u001b[91mc\u001b[0m\u001b[91mh\u001b[0m\u001b[91m1\u001b[0m\u001b[91m]\u001b[0m\u001b[91m[\u001b[0m\u001b[91mC\u001b[0m\u001b[91m]\u001b[0m\u001b[91m[\u001b[0m\u001b[91mC\u001b[0m\u001b[91m]\u001b[0m\u001b[91m[\u001b[0m\u001b[91mC\u001b[0m\u001b[91m]\u001b[0m\u001b[91m[\u001b[0m\u001b[91mF\u001b[0m\u001b[91m]\u001b[0m\u001b[91m[\u001b[0m\u001b[91mC\u001b[0m\u001b[91m]\u001b[0m\u001b[91m[\u001b[0m\u001b[91mC\u001b[0m\u001b[91m]\u001b[0m\u001b[91m[\u001b[0m\u001b[91m=\u001b[0m\u001b[91mC\u001b[0m\u001b[91m]\u001b[0m\u001b[91m[\u001b[0m\u001b[91mC\u001b[0m][\u001b[91m=\u001b[0mC][\u001b[91mR\u001b[0m\u001b[91mi\u001b[0m\u001b[91mn\u001b[0m\u001b[91mg\u001b[0m\u001b[91m1\u001b[0m][C][=C][\u001b[91mC\u001b[0m\u001b[91m]\u001b[0m\u001b[91m[\u001b[0m\u001b[91mF\u001b[0m\u001b[91m]\u001b[0m\u001b[91m[\u001b[0m\u001b[91m=\u001b[0m\u001b[91mC\u001b[0m\u001b[91m]\u001b[0m\u001b[91m[\u001b[0m\u001b[91mR\u001b[0m\u001b[91mi\u001b[0m\u001b[91mn\u001b[0m\u001b[91mg\u001b[0m\u001b[91m1\u001b[0m\u001b[91m]\u001b[0m\u001b[91m[\u001b[0m\u001b[91m#\u001b[0m\u001b[91mB\u001b[0m\u001b[91mr\u001b[0m\u001b[91ma\u001b[0m\u001b[91mn\u001b[0m\u001b[91mc\u001b[0m\u001b[91mh\u001b[0m\u001b[91m1\u001b[0m\u001b[91m]\u001b[0m\u001b[91m[\u001b[0m\u001b[91me\u001b[0m\u001b[91mn\u001b[0m\u001b[91md\u001b[0m\u001b[91m]\u001b[0m\u001b[91m[\u001b[0m\u001b[91mC\u001b[0m][\u001b[91mC\u001b[0m\u001b[91m]\u001b[0m\u001b[91m[\u001b[0m\u001b[91mC\u001b[0m\u001b[91m]\u001b[0m\u001b[91m[\u001b[0m\u001b[91mR\u001b[0m\u001b[91mi\u001b[0m\u001b[91mn\u001b[0m\u001b[91mg\u001b[0m\u001b[91m1\u001b[0m\u001b[91m]\u001b[0m\u001b[91m[\u001b[0m\u001b[91me\u001b[0mn\u001b[91md\u001b[0m\u001b[91m]\u001b[0m\u001b[91m[\u001b[0m\u001b[91mC\u001b[0m\u001b[91m]\u001b[0m\u001b[91m[\u001b[0m\u001b[91mR\u001b[0m\u001b[91mi\u001b[0m\u001b[91mn\u001b[0m\u001b[91mg\u001b[0m\u001b[91m1\u001b[0m\u001b[91m]\u001b[0m\u001b[91m[\u001b[0m\u001b[91mR\u001b[0m\u001b[91mi\u001b[0m\u001b[91mn\u001b[0m\u001b[91mg\u001b[0m\u001b[91m1\u001b[0m\u001b[91m]\u001b[0m\u001b[91m[\u001b[0m\u001b[91mB\u001b[0m\u001b[91mr\u001b[0m\u001b[91ma\u001b[0m\u001b[91mn\u001b[0m\u001b[91mc\u001b[0m\u001b[91mh\u001b[0m\u001b[91m1\u001b[0m][\u001b[91mC\u001b[0m\u001b[91m]\u001b[0m\u001b[91m[\u001b[0m\u001b[91m=\u001b[0m\u001b[91mC\u001b[0m\u001b[91m]\u001b[0m\u001b[91m[\u001b[0m\u001b[91mC\u001b[0m][\u001b[91mR\u001b[0m\u001b[91mi\u001b[0m\u001b[91mn\u001b[0m\u001b[91mg\u001b[0m\u001b[91m1\u001b[0m\u001b[91m]\u001b[0m\u001b[91m[\u001b[0m\u001b[91mB\u001b[0m\u001b[91mr\u001b[0m\u001b[91ma\u001b[0mn\u001b[91mc\u001b[0m\u001b[91mh\u001b[0m\u001b[91m1\u001b[0m\u001b[91m]\u001b[0m\u001b[91m[\u001b[0m\u001b[91mR\u001b[0m\u001b[91mi\u001b[0m\u001b[91mn\u001b[0m\u001b[91mg\u001b[0m\u001b[91m1\u001b[0m\u001b[91m]\u001b[0m\u001b[91m[\u001b[0m\u001b[91mB\u001b[0m\u001b[91mr\u001b[0m\u001b[91ma\u001b[0m\u001b[91mn\u001b[0m\u001b[91mc\u001b[0m\u001b[91mh\u001b[0m\u001b[91m1\u001b[0m\u001b[91m]\u001b[0m\u001b[91m[\u001b[0m\u001b[91mC\u001b[0m][\u001b[91m=\u001b[0m\u001b[91mC\u001b[0m\u001b[91m]\u001b[0m\u001b[91m[\u001b[0m\u001b[91mB\u001b[0m\u001b[91mr\u001b[0m\u001b[91ma\u001b[0m\u001b[91mn\u001b[0m\u001b[91mc\u001b[0m\u001b[91mh\u001b[0m\u001b[91m1\u001b[0m\u001b[91m]\u001b[0m\u001b[91m[\u001b[0m\u001b[91mC\u001b[0m\u001b[91m]\u001b[0m\u001b[91m[\u001b[0m\u001b[91mC\u001b[0m\u001b[91m]\u001b[0m\u001b[91m[\u001b[0m\u001b[91mC\u001b[0m\u001b[91m]\u001b[0m\u001b[91m[\u001b[0m\u001b[91mC\u001b[0m][\u001b[91mC\u001b[0m\u001b[91m]\u001b[0m\u001b[91m[\u001b[0m\u001b[91m=\u001b[0m\u001b[91mC\u001b[0m\u001b[91m]\u001b[0m\u001b[91m[\u001b[0m\u001b[91mC\u001b[0m][\u001b[91m=\u001b[0m\u001b[91mC\u001b[0m\u001b[91m]\u001b[0m\u001b[91m[\u001b[0m\u001b[91mB\u001b[0m\u001b[91mr\u001b[0m\u001b[91ma\u001b[0m\u001b[91mn\u001b[0m\u001b[91mc\u001b[0m\u001b[91mh\u001b[0m\u001b[91m1\u001b[0m\u001b[91m]\u001b[0m\u001b[91m[\u001b[0m\u001b[91mR\u001b[0m\u001b[91mi\u001b[0mn\u001b[91mg\u001b[0m\u001b[91m1\u001b[0m][\u001b[91mR\u001b[0m\u001b[91mi\u001b[0m\u001b[91mn\u001b[0m\u001b[91mg\u001b[0m\u001b[91m1\u001b[0m\u001b[91m]\u001b[0m\u001b[91m[\u001b[0m\u001b[91mR\u001b[0m\u001b[91mi\u001b[0m\u001b[91mn\u001b[0m\u001b[91mg\u001b[0m\u001b[91m1\u001b[0m\u001b[91m]\u001b[0m\u001b[91m[\u001b[0m\u001b[91mR\u001b[0m\u001b[91mi\u001b[0m\u001b[91mn\u001b[0m\u001b[91mg\u001b[0m\u001b[91m1\u001b[0m\u001b[91m]\u001b[0m\u001b[91m[\u001b[0m\u001b[91mB\u001b[0m\u001b[91mr\u001b[0m\u001b[91ma\u001b[0m\u001b[91mn\u001b[0m\u001b[91mc\u001b[0m\u001b[91mh\u001b[0m\u001b[91m1\u001b[0m][\u001b[91mC\u001b[0m\u001b[91m]\u001b[0m\u001b[91m[\u001b[0m\u001b[91mC\u001b[0m\u001b[91m]\u001b[0m\u001b[91m[\u001b[0m\u001b[91m=\u001b[0m\u001b[91mC\u001b[0m][\u001b[91mB\u001b[0m\u001b[91mr\u001b[0m\u001b[91ma\u001b[0m\u001b[91mn\u001b[0m\u001b[91mc\u001b[0m\u001b[91mh\u001b[0m\u001b[91m1\u001b[0m\u001b[91m]\u001b[0m\u001b[91m[\u001b[0m\u001b[91mC\u001b[0m\u001b[91m]\u001b[0m\u001b[91m[\u001b[0m\u001b[91mC\u001b[0m][\u001b[91mC\u001b[0m\u001b[91m]\u001b[0m\u001b[91m[\u001b[0m\u001b[91mC\u001b[0m\u001b[91m]\u001b[0m\u001b[91m[\u001b[0m\u001b[91mB\u001b[0m\u001b[91mr\u001b[0m\u001b[91ma\u001b[0m\u001b[91mn\u001b[0m\u001b[91mc\u001b[0m\u001b[91mh\u001b[0m\u001b[91m1\u001b[0m][\u001b[91mB\u001b[0m\u001b[91mr\u001b[0m\u001b[91ma\u001b[0m\u001b[91mn\u001b[0m\u001b[91mc\u001b[0m\u001b[91mh\u001b[0m\u001b[91m1\u001b[0m\u001b[91m]\u001b[0m\u001b[91m[\u001b[0m\u001b[91mC\u001b[0m\u001b[91m]\u001b[0m\u001b[91m[\u001b[0m\u001b[91mC\u001b[0m][\u001b[91mC\u001b[0m\u001b[91m]\u001b[0m\u001b[91m[\u001b[0m\u001b[91mB\u001b[0m\u001b[91mr\u001b[0m\u001b[91ma\u001b[0m\u001b[91mn\u001b[0m\u001b[91mc\u001b[0m\u001b[91mh\u001b[0m\u001b[91m1\u001b[0m\u001b[91m]\u001b[0m\u001b[91m[\u001b[0m\u001b[91mB\u001b[0m\u001b[91mr\u001b[0m\u001b[91ma\u001b[0mn\u001b[91mc\u001b[0m\u001b[91mh\u001b[0m\u001b[91m1\u001b[0m\u001b[91m]\u001b[0m\u001b[91m[\u001b[0m\u001b[91mC\u001b[0m\u001b[91m]\u001b[0m\u001b[91m[\u001b[0m\u001b[91mC\u001b[0m\u001b[91m]\u001b[0m\u001b[91m[\u001b[0m\u001b[91mC\u001b[0m]\u001b[91m-\u001b[0m\u001b[91m-\u001b[0m\u001b[91m-\u001b[0m\u001b[91m-\u001b[0m\u001b[91m-\u001b[0m\u001b[91m-\u001b[0m\u001b[91m-\u001b[0m\u001b[91m-\u001b[0m\u001b[91m-\u001b[0m\u001b[91m-\u001b[0m\u001b[91m-\u001b[0m\u001b[91m-\u001b[0m\u001b[91m-\u001b[0m\u001b[91m-\u001b[0m\u001b[91m-\u001b[0m\n",
      "-------------------\n",
      "\n",
      "Target:  [C][C@H1][Branch2][Ring1][=Branch2][C][N][Branch1][C][C][C][=Branch1][C][=O][C][=C][C][=C][Branch1][C][F][C][Branch1][C][F][=C][Ring1][Branch2][F][C][=Branch1][C][=O][O-1][end][nop][nop][nop][nop][nop][nop][nop][nop][nop][nop][nop][nop][nop][nop][nop][nop][nop][nop][nop][nop][nop][nop][nop][nop][nop][nop][nop][nop][nop][nop][nop][nop][nop][nop][nop][nop][nop][nop][nop][nop][nop][nop][nop][nop][nop][nop]\n",
      "Output:  [\u001b[91mO\u001b[0m][\u001b[91m=\u001b[0m\u001b[91mC\u001b[0m\u001b[91m]\u001b[0m\u001b[91m[\u001b[0m\u001b[91mB\u001b[0m\u001b[91mr\u001b[0m\u001b[91ma\u001b[0m\u001b[91mn\u001b[0m\u001b[91mc\u001b[0m\u001b[91mh\u001b[0m\u001b[91m1\u001b[0m\u001b[91m]\u001b[0m\u001b[91m[\u001b[0m\u001b[91mC\u001b[0m\u001b[91m]\u001b[0m\u001b[91m[\u001b[0m\u001b[91mC\u001b[0m\u001b[91m]\u001b[0m\u001b[91m[\u001b[0m\u001b[91mC\u001b[0m][\u001b[91mC\u001b[0m\u001b[91m]\u001b[0m\u001b[91m[\u001b[0m\u001b[91mC\u001b[0m\u001b[91m]\u001b[0m\u001b[91m[\u001b[0m\u001b[91mC\u001b[0m\u001b[91m]\u001b[0m\u001b[91m[\u001b[0m\u001b[91mC\u001b[0m\u001b[91m]\u001b[0m\u001b[91m[\u001b[0m\u001b[91mC\u001b[0m\u001b[91m]\u001b[0m\u001b[91m[\u001b[0m\u001b[91mC\u001b[0m\u001b[91m]\u001b[0m\u001b[91m[\u001b[0m\u001b[91mC\u001b[0m\u001b[91m]\u001b[0m\u001b[91m[\u001b[0m\u001b[91mC\u001b[0m\u001b[91m]\u001b[0m\u001b[91m[\u001b[0m\u001b[91mN\u001b[0m\u001b[91m]\u001b[0m\u001b[91m[\u001b[0m\u001b[91mC\u001b[0m\u001b[91m]\u001b[0m\u001b[91m[\u001b[0m\u001b[91mC\u001b[0m\u001b[91m]\u001b[0m\u001b[91m[\u001b[0m\u001b[91m=\u001b[0m\u001b[91mC\u001b[0m\u001b[91m]\u001b[0m\u001b[91m[\u001b[0m\u001b[91mC\u001b[0m\u001b[91m]\u001b[0m\u001b[91m[\u001b[0m\u001b[91m=\u001b[0m\u001b[91mC\u001b[0m][\u001b[91mR\u001b[0m\u001b[91mi\u001b[0m\u001b[91mn\u001b[0m\u001b[91mg\u001b[0m\u001b[91m1\u001b[0m][\u001b[91m=\u001b[0m\u001b[91mB\u001b[0m\u001b[91mr\u001b[0m\u001b[91ma\u001b[0m\u001b[91mn\u001b[0m\u001b[91mc\u001b[0m\u001b[91mh\u001b[0m\u001b[91m1\u001b[0m][=C][\u001b[91mC\u001b[0m\u001b[91m]\u001b[0m\u001b[91m[\u001b[0m\u001b[91m=\u001b[0m\u001b[91mC\u001b[0m\u001b[91m]\u001b[0m\u001b[91m[\u001b[0m\u001b[91mC\u001b[0m\u001b[91m]\u001b[0m\u001b[91m[\u001b[0m\u001b[91mR\u001b[0m\u001b[91mi\u001b[0m\u001b[91mn\u001b[0m\u001b[91mg\u001b[0m\u001b[91m1\u001b[0m\u001b[91m]\u001b[0m\u001b[91m[\u001b[0m\u001b[91m#\u001b[0mBranch1][C][\u001b[91mC\u001b[0m][\u001b[91mC\u001b[0m\u001b[91m]\u001b[0m\u001b[91m[\u001b[0m\u001b[91mC\u001b[0m\u001b[91m]\u001b[0m\u001b[91m[\u001b[0m\u001b[91m=\u001b[0m\u001b[91mO\u001b[0m\u001b[91m]\u001b[0m\u001b[91m[\u001b[0m\u001b[91mN\u001b[0m\u001b[91m]\u001b[0m\u001b[91m[\u001b[0m\u001b[91mC\u001b[0m\u001b[91m]\u001b[0m\u001b[91m[\u001b[0m\u001b[91mC\u001b[0m\u001b[91m]\u001b[0m\u001b[91m[\u001b[0m\u001b[91mR\u001b[0m\u001b[91mi\u001b[0m\u001b[91mn\u001b[0m\u001b[91mg\u001b[0m\u001b[91m1\u001b[0m][\u001b[91mR\u001b[0m\u001b[91mi\u001b[0m\u001b[91mn\u001b[0m\u001b[91mg\u001b[0m\u001b[91m1\u001b[0m\u001b[91m]\u001b[0m\u001b[91m[\u001b[0m\u001b[91mC\u001b[0m][C][\u001b[91mC\u001b[0m\u001b[91m]\u001b[0m\u001b[91m[\u001b[0m\u001b[91mC\u001b[0m\u001b[91m]\u001b[0m\u001b[91m[\u001b[0m\u001b[91mB\u001b[0m\u001b[91mr\u001b[0m\u001b[91ma\u001b[0m\u001b[91mn\u001b[0m\u001b[91mc\u001b[0m\u001b[91mh\u001b[0m\u001b[91m1\u001b[0m\u001b[91m]\u001b[0m\u001b[91m[\u001b[0m\u001b[91mB\u001b[0m\u001b[91mr\u001b[0m\u001b[91ma\u001b[0m\u001b[91mn\u001b[0m\u001b[91mc\u001b[0m\u001b[91mh\u001b[0m\u001b[91m1\u001b[0m][\u001b[91mB\u001b[0m\u001b[91mr\u001b[0m\u001b[91ma\u001b[0m\u001b[91mn\u001b[0m\u001b[91mc\u001b[0m\u001b[91mh\u001b[0m\u001b[91m1\u001b[0m\u001b[91m]\u001b[0m\u001b[91m[\u001b[0m\u001b[91mC\u001b[0m\u001b[91m]\u001b[0m\u001b[91m[\u001b[0m\u001b[91mC\u001b[0m][\u001b[91mC\u001b[0m\u001b[91m]\u001b[0m\u001b[91m[\u001b[0m\u001b[91mB\u001b[0m\u001b[91mr\u001b[0m\u001b[91ma\u001b[0m\u001b[91mn\u001b[0m\u001b[91mc\u001b[0m\u001b[91mh\u001b[0m\u001b[91m1\u001b[0m\u001b[91m]\u001b[0m\u001b[91m[\u001b[0m\u001b[91mC\u001b[0m][\u001b[91mC\u001b[0m\u001b[91m]\u001b[0m\u001b[91m[\u001b[0m\u001b[91mC\u001b[0m\u001b[91m]\u001b[0m\u001b[91m[\u001b[0m\u001b[91mR\u001b[0m\u001b[91mi\u001b[0m\u001b[91mn\u001b[0m\u001b[91mg\u001b[0m\u001b[91m1\u001b[0m\u001b[91m]\u001b[0m\u001b[91m[\u001b[0m\u001b[91mR\u001b[0m\u001b[91mi\u001b[0mn\u001b[91mg\u001b[0m\u001b[91m1\u001b[0m][\u001b[91mC\u001b[0m\u001b[91m]\u001b[0m\u001b[91m[\u001b[0m\u001b[91mC\u001b[0m\u001b[91m]\u001b[0m\u001b[91m[\u001b[0m\u001b[91m=\u001b[0m\u001b[91mC\u001b[0m][\u001b[91mB\u001b[0m\u001b[91mr\u001b[0m\u001b[91ma\u001b[0m\u001b[91mn\u001b[0m\u001b[91mc\u001b[0m\u001b[91mh\u001b[0m\u001b[91m1\u001b[0m\u001b[91m]\u001b[0m\u001b[91m[\u001b[0m\u001b[91mR\u001b[0m\u001b[91mi\u001b[0m\u001b[91mn\u001b[0m\u001b[91mg\u001b[0m\u001b[91m1\u001b[0m\u001b[91m]\u001b[0m\u001b[91m[\u001b[0m\u001b[91mB\u001b[0m\u001b[91mr\u001b[0m\u001b[91ma\u001b[0m\u001b[91mn\u001b[0m\u001b[91mc\u001b[0m\u001b[91mh\u001b[0m\u001b[91m1\u001b[0m][\u001b[91mB\u001b[0m\u001b[91mr\u001b[0m\u001b[91ma\u001b[0m\u001b[91mn\u001b[0m\u001b[91mc\u001b[0m\u001b[91mh\u001b[0m\u001b[91m1\u001b[0m\u001b[91m]\u001b[0m\u001b[91m[\u001b[0m\u001b[91mB\u001b[0m\u001b[91mr\u001b[0m\u001b[91ma\u001b[0m\u001b[91mn\u001b[0m\u001b[91mc\u001b[0m\u001b[91mh\u001b[0m\u001b[91m1\u001b[0m\u001b[91m]\u001b[0m\u001b[91m[\u001b[0m\u001b[91mC\u001b[0m\u001b[91m]\u001b[0m\u001b[91m[\u001b[0m\u001b[91mC\u001b[0m\u001b[91m]\u001b[0m\u001b[91m[\u001b[0m\u001b[91mB\u001b[0m\u001b[91mr\u001b[0m\u001b[91ma\u001b[0m\u001b[91mn\u001b[0m\u001b[91mc\u001b[0m\u001b[91mh\u001b[0m\u001b[91m1\u001b[0m\u001b[91m]\u001b[0m\u001b[91m[\u001b[0m\u001b[91mC\u001b[0m\u001b[91m]\u001b[0m\u001b[91m[\u001b[0m\u001b[91mC\u001b[0m\u001b[91m]\u001b[0m\u001b[91m[\u001b[0m\u001b[91mC\u001b[0m\u001b[91m]\u001b[0m\u001b[91m[\u001b[0m\u001b[91mB\u001b[0m\u001b[91mr\u001b[0m\u001b[91ma\u001b[0mn\u001b[91mc\u001b[0m\u001b[91mh\u001b[0m\u001b[91m1\u001b[0m\u001b[91m]\u001b[0m\u001b[91m[\u001b[0m\u001b[91mB\u001b[0m\u001b[91mr\u001b[0m\u001b[91ma\u001b[0m\u001b[91mn\u001b[0m\u001b[91mc\u001b[0m\u001b[91mh\u001b[0m\u001b[91m1\u001b[0m][\u001b[91mC\u001b[0m\u001b[91m]\u001b[0m\u001b[91m[\u001b[0m\u001b[91mC\u001b[0m\u001b[91m]\u001b[0m\u001b[91m[\u001b[0m\u001b[91mC\u001b[0m\u001b[91m]\u001b[0m\u001b[91m[\u001b[0m\u001b[91mC\u001b[0m\u001b[91m]\u001b[0m\u001b[91m[\u001b[0m\u001b[91mB\u001b[0m\u001b[91mr\u001b[0m\u001b[91ma\u001b[0mn\u001b[91mc\u001b[0m\u001b[91mh\u001b[0m\u001b[91m1\u001b[0m\u001b[91m]\u001b[0m\u001b[91m[\u001b[0m\u001b[91mC\u001b[0m\u001b[91m]\u001b[0m\u001b[91m[\u001b[0m\u001b[91mC\u001b[0m\u001b[91m]\u001b[0m\u001b[91m[\u001b[0m\u001b[91mC\u001b[0m][\u001b[91mC\u001b[0m\u001b[91m]\u001b[0m\u001b[91m[\u001b[0m\u001b[91mB\u001b[0m\u001b[91mr\u001b[0m\u001b[91ma\u001b[0m\u001b[91mn\u001b[0m\u001b[91mc\u001b[0m\u001b[91mh\u001b[0m\u001b[91m1\u001b[0m\u001b[91m]\u001b[0m\u001b[91m[\u001b[0m\u001b[91mC\u001b[0m]\u001b[91m-\u001b[0m\u001b[91m-\u001b[0m\u001b[91m-\u001b[0m\u001b[91m-\u001b[0m\u001b[91m-\u001b[0m\u001b[91m-\u001b[0m\u001b[91m-\u001b[0m\u001b[91m-\u001b[0m\u001b[91m-\u001b[0m\u001b[91m-\u001b[0m\u001b[91m-\u001b[0m\u001b[91m-\u001b[0m\u001b[91m-\u001b[0m\u001b[91m-\u001b[0m\u001b[91m-\u001b[0m\u001b[91m-\u001b[0m\u001b[91m-\u001b[0m\u001b[91m-\u001b[0m\u001b[91m-\u001b[0m\u001b[91m-\u001b[0m\u001b[91m-\u001b[0m\u001b[91m-\u001b[0m\u001b[91m-\u001b[0m\u001b[91m-\u001b[0m\u001b[91m-\u001b[0m\u001b[91m-\u001b[0m\u001b[91m-\u001b[0m\u001b[91m-\u001b[0m\u001b[91m-\u001b[0m\u001b[91m-\u001b[0m\n",
      "-------------------\n",
      "\n",
      "Target:  [C][C][=C][C][=C][Branch2][Ring1][=Branch2][C][N][C][C][C][=N][N][=C][Branch1][Branch2][C@@H1][C][C][C][O][Ring1][Branch1][N][Ring1][#Branch2][C][C][Ring1][#C][C][=C][Ring2][Ring1][=Branch1][C][end][nop][nop][nop][nop][nop][nop][nop][nop][nop][nop][nop][nop][nop][nop][nop][nop][nop][nop][nop][nop][nop][nop][nop][nop][nop][nop][nop][nop][nop][nop][nop][nop][nop][nop][nop][nop][nop][nop][nop][nop][nop][nop]\n",
      "Output:  [C][C][=C][C][=C][\u001b[91mC\u001b[0m\u001b[91m]\u001b[0m\u001b[91m[\u001b[0m\u001b[91mR\u001b[0m\u001b[91mi\u001b[0m\u001b[91mn\u001b[0m\u001b[91mg\u001b[0m\u001b[91m1\u001b[0m\u001b[91m]\u001b[0m\u001b[91m[\u001b[0m\u001b[91mR\u001b[0m\u001b[91mi\u001b[0m\u001b[91mn\u001b[0m\u001b[91mg\u001b[0m\u001b[91m1\u001b[0m\u001b[91m]\u001b[0m\u001b[91m[\u001b[0m\u001b[91mC\u001b[0m\u001b[91m]\u001b[0m\u001b[91m[\u001b[0m\u001b[91mC\u001b[0m\u001b[91m]\u001b[0m\u001b[91m[\u001b[0m\u001b[91mC\u001b[0m][\u001b[91m=\u001b[0m\u001b[91mB\u001b[0m\u001b[91mr\u001b[0m\u001b[91ma\u001b[0m\u001b[91mn\u001b[0m\u001b[91mc\u001b[0m\u001b[91mh\u001b[0m\u001b[91m1\u001b[0m\u001b[91m]\u001b[0m\u001b[91m[\u001b[0m\u001b[91mC\u001b[0m\u001b[91m]\u001b[0m\u001b[91m[\u001b[0m\u001b[91m=\u001b[0m\u001b[91mO\u001b[0m\u001b[91m]\u001b[0m\u001b[91m[\u001b[0m\u001b[91mC\u001b[0m\u001b[91m]\u001b[0m\u001b[91m[\u001b[0m\u001b[91mB\u001b[0m\u001b[91mr\u001b[0m\u001b[91ma\u001b[0m\u001b[91mn\u001b[0m\u001b[91mc\u001b[0m\u001b[91mh\u001b[0m\u001b[91m1\u001b[0m\u001b[91m]\u001b[0m\u001b[91m[\u001b[0m\u001b[91mC\u001b[0m\u001b[91m]\u001b[0m\u001b[91m[\u001b[0m\u001b[91mC\u001b[0m][\u001b[91mC\u001b[0m\u001b[91m]\u001b[0m\u001b[91m[\u001b[0m\u001b[91mC\u001b[0m\u001b[91m]\u001b[0m\u001b[91m[\u001b[0m\u001b[91mC\u001b[0m][C\u001b[91m]\u001b[0m\u001b[91m[\u001b[0m\u001b[91mC\u001b[0m\u001b[91m]\u001b[0m\u001b[91m[\u001b[0m\u001b[91mC\u001b[0m\u001b[91m]\u001b[0m\u001b[91m[\u001b[0m\u001b[91m=\u001b[0m\u001b[91mB\u001b[0m\u001b[91mr\u001b[0m\u001b[91ma\u001b[0m\u001b[91mn\u001b[0m\u001b[91mc\u001b[0m\u001b[91mh\u001b[0m\u001b[91m1\u001b[0m][\u001b[91mC\u001b[0m\u001b[91m]\u001b[0m\u001b[91m[\u001b[0m\u001b[91mC\u001b[0m\u001b[91m]\u001b[0m\u001b[91m[\u001b[0m\u001b[91m#\u001b[0mBranch\u001b[91m2\u001b[0m][\u001b[91mC\u001b[0m][\u001b[91m=\u001b[0m\u001b[91mC\u001b[0m\u001b[91m]\u001b[0m\u001b[91m[\u001b[0m\u001b[91mR\u001b[0m\u001b[91mi\u001b[0m\u001b[91mn\u001b[0m\u001b[91mg\u001b[0m\u001b[91m2\u001b[0m\u001b[91m]\u001b[0m\u001b[91m[\u001b[0m\u001b[91m=\u001b[0m\u001b[91mC\u001b[0m\u001b[91m]\u001b[0m\u001b[91m[\u001b[0m\u001b[91mC\u001b[0m\u001b[91m]\u001b[0m\u001b[91m[\u001b[0m\u001b[91m=\u001b[0m\u001b[91mC\u001b[0m\u001b[91m]\u001b[0m\u001b[91m[\u001b[0m\u001b[91mR\u001b[0m\u001b[91mi\u001b[0m\u001b[91mn\u001b[0m\u001b[91mg\u001b[0m\u001b[91m2\u001b[0m\u001b[91m]\u001b[0m\u001b[91m[\u001b[0m\u001b[91mR\u001b[0m\u001b[91mi\u001b[0m\u001b[91mn\u001b[0m\u001b[91mg\u001b[0m\u001b[91m1\u001b[0m\u001b[91m]\u001b[0m\u001b[91m[\u001b[0m\u001b[91mR\u001b[0m\u001b[91mi\u001b[0m\u001b[91mn\u001b[0m\u001b[91mg\u001b[0m\u001b[91m2\u001b[0m\u001b[91m]\u001b[0m\u001b[91m[\u001b[0m\u001b[91me\u001b[0m\u001b[91mn\u001b[0m\u001b[91md\u001b[0m][\u001b[91me\u001b[0m\u001b[91mn\u001b[0m\u001b[91md\u001b[0m\u001b[91m]\u001b[0m\u001b[91m[\u001b[0m\u001b[91mR\u001b[0m\u001b[91mi\u001b[0m\u001b[91mn\u001b[0m\u001b[91mg\u001b[0m\u001b[91m2\u001b[0m\u001b[91m]\u001b[0m\u001b[91m[\u001b[0m\u001b[91mR\u001b[0m\u001b[91mi\u001b[0m\u001b[91mn\u001b[0m\u001b[91mg\u001b[0m\u001b[91m1\u001b[0m\u001b[91m]\u001b[0m\u001b[91m[\u001b[0m\u001b[91m=\u001b[0m\u001b[91mB\u001b[0m\u001b[91mr\u001b[0m\u001b[91ma\u001b[0m\u001b[91mn\u001b[0m\u001b[91mc\u001b[0m\u001b[91mh\u001b[0m\u001b[91m1\u001b[0m\u001b[91m]\u001b[0m\u001b[91m[\u001b[0m\u001b[91me\u001b[0mn\u001b[91md\u001b[0m\u001b[91m]\u001b[0m\u001b[91m[\u001b[0m\u001b[91mR\u001b[0m\u001b[91mi\u001b[0m\u001b[91mn\u001b[0m\u001b[91mg\u001b[0m\u001b[91m2\u001b[0m\u001b[91m]\u001b[0m\u001b[91m[\u001b[0m\u001b[91mR\u001b[0m\u001b[91mi\u001b[0m\u001b[91mn\u001b[0m\u001b[91mg\u001b[0m\u001b[91m2\u001b[0m\u001b[91m]\u001b[0m\u001b[91m[\u001b[0m\u001b[91mR\u001b[0m\u001b[91mi\u001b[0mn\u001b[91mg\u001b[0m\u001b[91m1\u001b[0m][\u001b[91mO\u001b[0m\u001b[91m]\u001b[0m\u001b[91m[\u001b[0m\u001b[91me\u001b[0m\u001b[91mn\u001b[0m\u001b[91md\u001b[0m\u001b[91m]\u001b[0m\u001b[91m[\u001b[0m\u001b[91mC\u001b[0m\u001b[91m]\u001b[0m\u001b[91m[\u001b[0m\u001b[91me\u001b[0m\u001b[91mn\u001b[0m\u001b[91md\u001b[0m\u001b[91m]\u001b[0m\u001b[91m[\u001b[0m\u001b[91mB\u001b[0m\u001b[91mr\u001b[0m\u001b[91ma\u001b[0m\u001b[91mn\u001b[0m\u001b[91mc\u001b[0m\u001b[91mh\u001b[0m\u001b[91m1\u001b[0m][\u001b[91mB\u001b[0m\u001b[91mr\u001b[0m\u001b[91ma\u001b[0m\u001b[91mn\u001b[0m\u001b[91mc\u001b[0m\u001b[91mh\u001b[0m\u001b[91m1\u001b[0m\u001b[91m]\u001b[0m\u001b[91m[\u001b[0m\u001b[91mB\u001b[0m\u001b[91mr\u001b[0m\u001b[91ma\u001b[0m\u001b[91mn\u001b[0m\u001b[91mc\u001b[0m\u001b[91mh\u001b[0m\u001b[91m1\u001b[0m\u001b[91m]\u001b[0m\u001b[91m[\u001b[0m\u001b[91mC\u001b[0m\u001b[91m]\u001b[0m\u001b[91m[\u001b[0m\u001b[91mC\u001b[0m\u001b[91m]\u001b[0m\u001b[91m[\u001b[0m\u001b[91mC\u001b[0m\u001b[91m]\u001b[0m\u001b[91m[\u001b[0m\u001b[91m=\u001b[0m\u001b[91mC\u001b[0m\u001b[91m]\u001b[0m\u001b[91m[\u001b[0m\u001b[91mR\u001b[0m\u001b[91mi\u001b[0m\u001b[91mn\u001b[0m\u001b[91mg\u001b[0m\u001b[91m1\u001b[0m\u001b[91m]\u001b[0m\u001b[91m[\u001b[0m\u001b[91mR\u001b[0m\u001b[91mi\u001b[0mn\u001b[91mg\u001b[0m\u001b[91m1\u001b[0m][\u001b[91mR\u001b[0m\u001b[91mi\u001b[0m\u001b[91mn\u001b[0m\u001b[91mg\u001b[0m\u001b[91m1\u001b[0m\u001b[91m]\u001b[0m\u001b[91m[\u001b[0m\u001b[91mR\u001b[0m\u001b[91mi\u001b[0m\u001b[91mn\u001b[0m\u001b[91mg\u001b[0m\u001b[91m1\u001b[0m\u001b[91m]\u001b[0m\u001b[91m[\u001b[0m\u001b[91mB\u001b[0m\u001b[91mr\u001b[0m\u001b[91ma\u001b[0m\u001b[91mn\u001b[0m\u001b[91mc\u001b[0m\u001b[91mh\u001b[0m\u001b[91m1\u001b[0m\u001b[91m]\u001b[0m\u001b[91m[\u001b[0m\u001b[91mC\u001b[0m\u001b[91m]\u001b[0m\u001b[91m[\u001b[0m\u001b[91mC\u001b[0m\u001b[91m]\u001b[0m\u001b[91m[\u001b[0m\u001b[91mC\u001b[0m\u001b[91m]\u001b[0m\u001b[91m[\u001b[0m\u001b[91mC\u001b[0m][\u001b[91mB\u001b[0m\u001b[91mr\u001b[0m\u001b[91ma\u001b[0m\u001b[91mn\u001b[0m\u001b[91mc\u001b[0m\u001b[91mh\u001b[0m\u001b[91m1\u001b[0m\u001b[91m]\u001b[0m\u001b[91m[\u001b[0m\u001b[91mC\u001b[0m\u001b[91m]\u001b[0m\u001b[91m[\u001b[0m\u001b[91mC\u001b[0m][\u001b[91mC\u001b[0m\u001b[91m]\u001b[0m\u001b[91m[\u001b[0m\u001b[91mC\u001b[0m\u001b[91m]\u001b[0m\u001b[91m[\u001b[0m\u001b[91mB\u001b[0m\u001b[91mr\u001b[0m\u001b[91ma\u001b[0m\u001b[91mn\u001b[0m\u001b[91mc\u001b[0m\u001b[91mh\u001b[0m\u001b[91m1\u001b[0m][\u001b[91mC\u001b[0m\u001b[91m]\u001b[0m\u001b[91m[\u001b[0m\u001b[91m=\u001b[0m\u001b[91mC\u001b[0m\u001b[91m]\u001b[0m\u001b[91m[\u001b[0m\u001b[91mC\u001b[0m][\u001b[91m=\u001b[0m\u001b[91mC\u001b[0m\u001b[91m]\u001b[0m\u001b[91m[\u001b[0m\u001b[91mR\u001b[0m\u001b[91mi\u001b[0m\u001b[91mn\u001b[0m\u001b[91mg\u001b[0m\u001b[91m1\u001b[0m\u001b[91m]\u001b[0m\u001b[91m[\u001b[0m\u001b[91mR\u001b[0m\u001b[91mi\u001b[0m\u001b[91mn\u001b[0m\u001b[91mg\u001b[0m\u001b[91m1\u001b[0m\u001b[91m]\u001b[0m\u001b[91m[\u001b[0m\u001b[91mB\u001b[0m\u001b[91mr\u001b[0m\u001b[91ma\u001b[0m\u001b[91mn\u001b[0m\u001b[91mc\u001b[0m\u001b[91mh\u001b[0m\u001b[91m1\u001b[0m\u001b[91m]\u001b[0m\u001b[91m[\u001b[0m\u001b[91mC\u001b[0m][\u001b[91m=\u001b[0m\u001b[91mC\u001b[0m\u001b[91m]\u001b[0m\u001b[91m-\u001b[0m\n",
      "-------------------\n",
      "\n",
      "Target:  [C][C][N][C][C@H1][Branch1][#C][C][=Branch1][C][=O][N][C][C][=C][C][=N][C][=C][Ring1][=Branch1][C][C][Ring1][#C][=O][end][nop][nop][nop][nop][nop][nop][nop][nop][nop][nop][nop][nop][nop][nop][nop][nop][nop][nop][nop][nop][nop][nop][nop][nop][nop][nop][nop][nop][nop][nop][nop][nop][nop][nop][nop][nop][nop][nop][nop][nop][nop][nop][nop][nop][nop][nop][nop][nop][nop][nop][nop][nop][nop][nop]\n",
      "Output:  [C][C][\u001b[91mB\u001b[0m\u001b[91mr\u001b[0m\u001b[91ma\u001b[0m\u001b[91mn\u001b[0m\u001b[91mc\u001b[0m\u001b[91mh\u001b[0m\u001b[91m1\u001b[0m\u001b[91m]\u001b[0m\u001b[91m[\u001b[0m\u001b[91mC\u001b[0m][\u001b[91mC\u001b[0m\u001b[91m]\u001b[0m\u001b[91m[\u001b[0m\u001b[91mB\u001b[0m\u001b[91mr\u001b[0m\u001b[91ma\u001b[0m\u001b[91mn\u001b[0m\u001b[91mc\u001b[0m\u001b[91mh\u001b[0m\u001b[91m1\u001b[0m\u001b[91m]\u001b[0m\u001b[91m[\u001b[0m\u001b[91mC\u001b[0m\u001b[91m]\u001b[0m\u001b[91m[\u001b[0m\u001b[91mC\u001b[0m\u001b[91m]\u001b[0m\u001b[91m[\u001b[0m\u001b[91mC\u001b[0m\u001b[91m]\u001b[0m\u001b[91m[\u001b[0m\u001b[91mC\u001b[0m\u001b[91m]\u001b[0m\u001b[91m[\u001b[0m\u001b[91m=\u001b[0m\u001b[91mO\u001b[0m\u001b[91m]\u001b[0m\u001b[91m[\u001b[0m\u001b[91mN\u001b[0m\u001b[91m]\u001b[0m\u001b[91m[\u001b[0m\u001b[91mC\u001b[0m\u001b[91m]\u001b[0m\u001b[91m[\u001b[0m\u001b[91mC\u001b[0m\u001b[91m]\u001b[0m\u001b[91m[\u001b[0m\u001b[91mC\u001b[0m\u001b[91m]\u001b[0m\u001b[91m[\u001b[0m\u001b[91mC\u001b[0m\u001b[91m]\u001b[0m\u001b[91m[\u001b[0mC][C][=\u001b[91mC\u001b[0m][C][=C][\u001b[91mC\u001b[0m\u001b[91m]\u001b[0m\u001b[91m[\u001b[0m\u001b[91m=\u001b[0m\u001b[91mC\u001b[0m][\u001b[91mR\u001b[0m\u001b[91mi\u001b[0m\u001b[91mn\u001b[0m\u001b[91mg\u001b[0m\u001b[91m1\u001b[0m\u001b[91m]\u001b[0m\u001b[91m[\u001b[0m\u001b[91m=\u001b[0m\u001b[91mB\u001b[0m\u001b[91mr\u001b[0m\u001b[91ma\u001b[0m\u001b[91mn\u001b[0m\u001b[91mc\u001b[0m\u001b[91mh\u001b[0m\u001b[91m1\u001b[0m\u001b[91m]\u001b[0m\u001b[91m[\u001b[0m\u001b[91mC\u001b[0m\u001b[91m]\u001b[0m\u001b[91m[\u001b[0m\u001b[91mC\u001b[0m][\u001b[91mC\u001b[0m\u001b[91m]\u001b[0m\u001b[91m[\u001b[0m\u001b[91mR\u001b[0m\u001b[91mi\u001b[0m\u001b[91mn\u001b[0m\u001b[91mg\u001b[0m\u001b[91m1\u001b[0m\u001b[91m]\u001b[0m\u001b[91m[\u001b[0m\u001b[91mR\u001b[0m\u001b[91mi\u001b[0m\u001b[91mn\u001b[0m\u001b[91mg\u001b[0m\u001b[91m1\u001b[0m\u001b[91m]\u001b[0m\u001b[91m[\u001b[0m\u001b[91mC\u001b[0m\u001b[91m]\u001b[0m\u001b[91m[\u001b[0m\u001b[91mC\u001b[0m][\u001b[91mC\u001b[0m\u001b[91m]\u001b[0m\u001b[91m[\u001b[0m\u001b[91mB\u001b[0m\u001b[91mr\u001b[0m\u001b[91ma\u001b[0m\u001b[91mn\u001b[0m\u001b[91mc\u001b[0m\u001b[91mh\u001b[0m\u001b[91m1\u001b[0m\u001b[91m]\u001b[0m\u001b[91m[\u001b[0m\u001b[91mB\u001b[0m\u001b[91mr\u001b[0m\u001b[91ma\u001b[0mn\u001b[91mc\u001b[0m\u001b[91mh\u001b[0m\u001b[91m1\u001b[0m\u001b[91m]\u001b[0m\u001b[91m[\u001b[0m\u001b[91mB\u001b[0m\u001b[91mr\u001b[0m\u001b[91ma\u001b[0m\u001b[91mn\u001b[0m\u001b[91mc\u001b[0m\u001b[91mh\u001b[0m\u001b[91m1\u001b[0m][\u001b[91mB\u001b[0m\u001b[91mr\u001b[0m\u001b[91ma\u001b[0m\u001b[91mn\u001b[0m\u001b[91mc\u001b[0m\u001b[91mh\u001b[0m\u001b[91m1\u001b[0m\u001b[91m]\u001b[0m\u001b[91m[\u001b[0m\u001b[91mB\u001b[0m\u001b[91mr\u001b[0m\u001b[91ma\u001b[0m\u001b[91mn\u001b[0m\u001b[91mc\u001b[0m\u001b[91mh\u001b[0m\u001b[91m1\u001b[0m\u001b[91m]\u001b[0m\u001b[91m[\u001b[0m\u001b[91mC\u001b[0m\u001b[91m]\u001b[0m\u001b[91m[\u001b[0m\u001b[91mC\u001b[0m\u001b[91m]\u001b[0m\u001b[91m[\u001b[0m\u001b[91mC\u001b[0m\u001b[91m]\u001b[0m\u001b[91m[\u001b[0m\u001b[91m=\u001b[0m\u001b[91mC\u001b[0m\u001b[91m]\u001b[0m\u001b[91m[\u001b[0m\u001b[91mR\u001b[0m\u001b[91mi\u001b[0m\u001b[91mn\u001b[0m\u001b[91mg\u001b[0m\u001b[91m1\u001b[0m\u001b[91m]\u001b[0m\u001b[91m[\u001b[0m\u001b[91mR\u001b[0m\u001b[91mi\u001b[0mn\u001b[91mg\u001b[0m\u001b[91m1\u001b[0m][\u001b[91mR\u001b[0m\u001b[91mi\u001b[0m\u001b[91mn\u001b[0m\u001b[91mg\u001b[0m\u001b[91m1\u001b[0m\u001b[91m]\u001b[0m\u001b[91m[\u001b[0m\u001b[91mB\u001b[0m\u001b[91mr\u001b[0m\u001b[91ma\u001b[0mn\u001b[91mc\u001b[0m\u001b[91mh\u001b[0m\u001b[91m1\u001b[0m\u001b[91m]\u001b[0m\u001b[91m[\u001b[0m\u001b[91mC\u001b[0m\u001b[91m]\u001b[0m\u001b[91m[\u001b[0m\u001b[91m=\u001b[0m\u001b[91mC\u001b[0m\u001b[91m]\u001b[0m\u001b[91m[\u001b[0m\u001b[91mB\u001b[0m\u001b[91mr\u001b[0m\u001b[91ma\u001b[0m\u001b[91mn\u001b[0m\u001b[91mc\u001b[0m\u001b[91mh\u001b[0m\u001b[91m1\u001b[0m\u001b[91m]\u001b[0m\u001b[91m[\u001b[0m\u001b[91mC\u001b[0m][\u001b[91mC\u001b[0m\u001b[91m]\u001b[0m\u001b[91m[\u001b[0m\u001b[91mC\u001b[0m\u001b[91m]\u001b[0m\u001b[91m[\u001b[0m\u001b[91mC\u001b[0m\u001b[91m]\u001b[0m\u001b[91m[\u001b[0m\u001b[91mC\u001b[0m\u001b[91m]\u001b[0m\u001b[91m[\u001b[0m\u001b[91m=\u001b[0m\u001b[91mC\u001b[0m\u001b[91m]\u001b[0m\u001b[91m[\u001b[0m\u001b[91mC\u001b[0m\u001b[91m]\u001b[0m\u001b[91m[\u001b[0m\u001b[91m=\u001b[0m\u001b[91mC\u001b[0m\u001b[91m]\u001b[0m\u001b[91m[\u001b[0m\u001b[91mB\u001b[0m\u001b[91mr\u001b[0m\u001b[91ma\u001b[0m\u001b[91mn\u001b[0m\u001b[91mc\u001b[0m\u001b[91mh\u001b[0m\u001b[91m1\u001b[0m\u001b[91m]\u001b[0m\u001b[91m[\u001b[0m\u001b[91mR\u001b[0m\u001b[91mi\u001b[0m\u001b[91mn\u001b[0m\u001b[91mg\u001b[0m\u001b[91m1\u001b[0m\u001b[91m]\u001b[0m\u001b[91m[\u001b[0m\u001b[91mR\u001b[0m\u001b[91mi\u001b[0m\u001b[91mn\u001b[0m\u001b[91mg\u001b[0m\u001b[91m1\u001b[0m\u001b[91m]\u001b[0m\u001b[91m[\u001b[0m\u001b[91mR\u001b[0m\u001b[91mi\u001b[0m\u001b[91mn\u001b[0m\u001b[91mg\u001b[0m\u001b[91m1\u001b[0m\u001b[91m]\u001b[0m\u001b[91m[\u001b[0m\u001b[91mR\u001b[0m\u001b[91mi\u001b[0mn\u001b[91mg\u001b[0m\u001b[91m1\u001b[0m][\u001b[91mB\u001b[0m\u001b[91mr\u001b[0m\u001b[91ma\u001b[0m\u001b[91mn\u001b[0m\u001b[91mc\u001b[0m\u001b[91mh\u001b[0m\u001b[91m1\u001b[0m\u001b[91m]\u001b[0m\u001b[91m[\u001b[0m\u001b[91mC\u001b[0m\u001b[91m]\u001b[0m\u001b[91m[\u001b[0m\u001b[91mC\u001b[0m][\u001b[91m=\u001b[0m\u001b[91mC\u001b[0m\u001b[91m]\u001b[0m\u001b[91m[\u001b[0m\u001b[91mB\u001b[0m\u001b[91mr\u001b[0m\u001b[91ma\u001b[0m\u001b[91mn\u001b[0m\u001b[91mc\u001b[0m\u001b[91mh\u001b[0m\u001b[91m1\u001b[0m\u001b[91m]\u001b[0m\u001b[91m[\u001b[0m\u001b[91mC\u001b[0m\u001b[91m]\u001b[0m\u001b[91m[\u001b[0m\u001b[91mC\u001b[0m\u001b[91m]\u001b[0m\u001b[91m[\u001b[0m\u001b[91mC\u001b[0m\u001b[91m]\u001b[0m\u001b[91m[\u001b[0m\u001b[91mC\u001b[0m][\u001b[91mB\u001b[0m\u001b[91mr\u001b[0m\u001b[91ma\u001b[0m\u001b[91mn\u001b[0m\u001b[91mc\u001b[0m\u001b[91mh\u001b[0m\u001b[91m1\u001b[0m\u001b[91m]\u001b[0m\u001b[91m[\u001b[0m\u001b[91mC\u001b[0m\u001b[91m]\u001b[0m\u001b[91m[\u001b[0m\u001b[91m=\u001b[0m\u001b[91mC\u001b[0m\u001b[91m]\u001b[0m\u001b[91m[\u001b[0m\u001b[91mC\u001b[0m\u001b[91m]\u001b[0m\u001b[91m[\u001b[0m\u001b[91m=\u001b[0m\u001b[91mC\u001b[0m\u001b[91m]\u001b[0m\u001b[91m[\u001b[0m\u001b[91mC\u001b[0m\u001b[91m]\u001b[0m\u001b[91m[\u001b[0m\u001b[91mR\u001b[0m\u001b[91mi\u001b[0m\u001b[91mn\u001b[0m\u001b[91mg\u001b[0m\u001b[91m1\u001b[0m\u001b[91m]\u001b[0m\u001b[91m[\u001b[0m\u001b[91mB\u001b[0m\u001b[91mr\u001b[0m\u001b[91ma\u001b[0m\u001b[91mn\u001b[0m\u001b[91mc\u001b[0m\u001b[91mh\u001b[0m\u001b[91m1\u001b[0m\u001b[91m]\u001b[0m\u001b[91m[\u001b[0m\u001b[91mC\u001b[0m][\u001b[91m=\u001b[0m\u001b[91mC\u001b[0m\u001b[91m]\u001b[0m\u001b[91m-\u001b[0m\n",
      "-------------------\n",
      "\n",
      "Epoch 3 loss: 1.705408160175596\n"
     ]
    },
    {
     "data": {
      "application/vnd.jupyter.widget-view+json": {
       "model_id": "f2092a72a0ab439590d92f3772ea00ff",
       "version_major": 2,
       "version_minor": 0
      },
      "text/plain": [
       "  0%|          | 0/140 [00:00<?, ?it/s]"
      ]
     },
     "metadata": {},
     "output_type": "display_data"
    },
    {
     "name": "stdout",
     "output_type": "stream",
     "text": [
      "Epoch 4 loss: 1.6635019191673823\n",
      "Target:  [N][C][=C][Branch1][C][N][C][=Branch1][C][=O][C][=N][C][=C][C][=C][Ring1][=Branch1][C][Ring1][N][=O][end][nop][nop][nop][nop][nop][nop][nop][nop][nop][nop][nop][nop][nop][nop][nop][nop][nop][nop][nop][nop][nop][nop][nop][nop][nop][nop][nop][nop][nop][nop][nop][nop][nop][nop][nop][nop][nop][nop][nop][nop][nop][nop][nop][nop][nop][nop][nop][nop][nop][nop][nop][nop][nop][nop][nop][nop][nop][nop]\n",
      "Output:  [\u001b[91mO\u001b[0m][C][=C][\u001b[91mC\u001b[0m\u001b[91m]\u001b[0m\u001b[91m[\u001b[0m\u001b[91mC\u001b[0m\u001b[91m]\u001b[0m\u001b[91m[\u001b[0m\u001b[91mC\u001b[0m][C][\u001b[91m=\u001b[0m\u001b[91mC\u001b[0m\u001b[91m]\u001b[0m\u001b[91m[\u001b[0m\u001b[91mC\u001b[0m\u001b[91m]\u001b[0m\u001b[91m[\u001b[0m\u001b[91m=\u001b[0m\u001b[91mC\u001b[0m\u001b[91m]\u001b[0m\u001b[91m[\u001b[0m\u001b[91mC\u001b[0m\u001b[91m]\u001b[0m\u001b[91m[\u001b[0m\u001b[91m=\u001b[0m\u001b[91mC\u001b[0m\u001b[91m]\u001b[0m\u001b[91m[\u001b[0m\u001b[91mR\u001b[0m\u001b[91mi\u001b[0m\u001b[91mn\u001b[0m\u001b[91mg\u001b[0m\u001b[91m1\u001b[0m\u001b[91m]\u001b[0m\u001b[91m[\u001b[0m\u001b[91m=\u001b[0m\u001b[91mB\u001b[0m\u001b[91mr\u001b[0m\u001b[91ma\u001b[0m\u001b[91mn\u001b[0m\u001b[91mc\u001b[0m\u001b[91mh\u001b[0m\u001b[91m1\u001b[0m\u001b[91m]\u001b[0m\u001b[91m[\u001b[0m\u001b[91mC\u001b[0m\u001b[91m]\u001b[0m\u001b[91m[\u001b[0m\u001b[91m=\u001b[0m\u001b[91mC\u001b[0m\u001b[91m]\u001b[0m\u001b[91m[\u001b[0m\u001b[91mC\u001b[0m\u001b[91m]\u001b[0m\u001b[91m[\u001b[0m\u001b[91mC\u001b[0m\u001b[91m]\u001b[0m\u001b[91m[\u001b[0m\u001b[91mC\u001b[0m][=\u001b[91mC\u001b[0m\u001b[91m]\u001b[0m\u001b[91m[\u001b[0m\u001b[91mC\u001b[0m\u001b[91m]\u001b[0m\u001b[91m[\u001b[0m\u001b[91m=\u001b[0m\u001b[91mC\u001b[0m\u001b[91m]\u001b[0m\u001b[91m[\u001b[0m\u001b[91mC\u001b[0m\u001b[91m]\u001b[0m\u001b[91m[\u001b[0m\u001b[91m=\u001b[0m\u001b[91mC\u001b[0m\u001b[91m]\u001b[0m\u001b[91m[\u001b[0m\u001b[91mR\u001b[0m\u001b[91mi\u001b[0m\u001b[91mn\u001b[0m\u001b[91mg\u001b[0m\u001b[91m1\u001b[0m\u001b[91m]\u001b[0m\u001b[91m[\u001b[0m\u001b[91mC\u001b[0m\u001b[91m]\u001b[0m\u001b[91m[\u001b[0m\u001b[91mC\u001b[0m\u001b[91m]\u001b[0m\u001b[91m[\u001b[0m\u001b[91m=\u001b[0m\u001b[91mC\u001b[0m\u001b[91m]\u001b[0m\u001b[91m[\u001b[0m\u001b[91mC\u001b[0m\u001b[91m]\u001b[0m\u001b[91m[\u001b[0m\u001b[91m=\u001b[0m\u001b[91mC\u001b[0m][\u001b[91mC\u001b[0m\u001b[91m]\u001b[0m\u001b[91m[\u001b[0m\u001b[91m=\u001b[0m\u001b[91mC\u001b[0m\u001b[91m]\u001b[0m\u001b[91m[\u001b[0m\u001b[91mB\u001b[0m\u001b[91mr\u001b[0m\u001b[91ma\u001b[0mn\u001b[91mc\u001b[0m\u001b[91mh\u001b[0m\u001b[91m1\u001b[0m\u001b[91m]\u001b[0m\u001b[91m[\u001b[0m\u001b[91mC\u001b[0m\u001b[91m]\u001b[0m\u001b[91m[\u001b[0m\u001b[91mC\u001b[0m\u001b[91m]\u001b[0m\u001b[91m[\u001b[0m\u001b[91mC\u001b[0m][\u001b[91mC\u001b[0m\u001b[91m]\u001b[0m\u001b[91m[\u001b[0m\u001b[91m=\u001b[0m\u001b[91mC\u001b[0m\u001b[91m]\u001b[0m\u001b[91m[\u001b[0m\u001b[91mC\u001b[0m][\u001b[91mC\u001b[0m\u001b[91m]\u001b[0m\u001b[91m[\u001b[0m\u001b[91mB\u001b[0m\u001b[91mr\u001b[0m\u001b[91ma\u001b[0m\u001b[91mn\u001b[0m\u001b[91mc\u001b[0m\u001b[91mh\u001b[0m\u001b[91m1\u001b[0m\u001b[91m]\u001b[0m\u001b[91m[\u001b[0m\u001b[91mR\u001b[0m\u001b[91mi\u001b[0m\u001b[91mn\u001b[0m\u001b[91mg\u001b[0m\u001b[91m1\u001b[0m\u001b[91m]\u001b[0m\u001b[91m[\u001b[0m\u001b[91mR\u001b[0m\u001b[91mi\u001b[0m\u001b[91mn\u001b[0m\u001b[91mg\u001b[0m\u001b[91m1\u001b[0m\u001b[91m]\u001b[0m\u001b[91m[\u001b[0m\u001b[91mR\u001b[0m\u001b[91mi\u001b[0m\u001b[91mn\u001b[0m\u001b[91mg\u001b[0m\u001b[91m1\u001b[0m\u001b[91m]\u001b[0m\u001b[91m[\u001b[0m\u001b[91mR\u001b[0m\u001b[91mi\u001b[0mn\u001b[91mg\u001b[0m\u001b[91m1\u001b[0m][\u001b[91mB\u001b[0m\u001b[91mr\u001b[0m\u001b[91ma\u001b[0m\u001b[91mn\u001b[0m\u001b[91mc\u001b[0m\u001b[91mh\u001b[0m\u001b[91m1\u001b[0m\u001b[91m]\u001b[0m\u001b[91m[\u001b[0m\u001b[91mB\u001b[0m\u001b[91mr\u001b[0m\u001b[91ma\u001b[0m\u001b[91mn\u001b[0m\u001b[91mc\u001b[0m\u001b[91mh\u001b[0m\u001b[91m1\u001b[0m\u001b[91m]\u001b[0m\u001b[91m[\u001b[0m\u001b[91mC\u001b[0m\u001b[91m]\u001b[0m\u001b[91m[\u001b[0m\u001b[91mC\u001b[0m\u001b[91m]\u001b[0m\u001b[91m[\u001b[0m\u001b[91mC\u001b[0m\u001b[91m]\u001b[0m\u001b[91m[\u001b[0m\u001b[91mC\u001b[0m][\u001b[91mC\u001b[0m\u001b[91m]\u001b[0m\u001b[91m[\u001b[0m\u001b[91m=\u001b[0m\u001b[91mC\u001b[0m\u001b[91m]\u001b[0m\u001b[91m[\u001b[0m\u001b[91mC\u001b[0m][\u001b[91m=\u001b[0m\u001b[91mC\u001b[0m\u001b[91m]\u001b[0m\u001b[91m[\u001b[0m\u001b[91mC\u001b[0m\u001b[91m]\u001b[0m\u001b[91m[\u001b[0m\u001b[91m=\u001b[0m\u001b[91mC\u001b[0m\u001b[91m]\u001b[0m\u001b[91m[\u001b[0m\u001b[91mR\u001b[0m\u001b[91mi\u001b[0m\u001b[91mn\u001b[0m\u001b[91mg\u001b[0m\u001b[91m1\u001b[0m\u001b[91m]\u001b[0m\u001b[91m[\u001b[0m\u001b[91mR\u001b[0m\u001b[91mi\u001b[0mn\u001b[91mg\u001b[0m\u001b[91m1\u001b[0m][\u001b[91mB\u001b[0m\u001b[91mr\u001b[0m\u001b[91ma\u001b[0m\u001b[91mn\u001b[0m\u001b[91mc\u001b[0m\u001b[91mh\u001b[0m\u001b[91m1\u001b[0m\u001b[91m]\u001b[0m\u001b[91m[\u001b[0m\u001b[91mC\u001b[0m\u001b[91m]\u001b[0m\u001b[91m[\u001b[0m\u001b[91m=\u001b[0m\u001b[91mC\u001b[0m\u001b[91m]\u001b[0m\u001b[91m[\u001b[0m\u001b[91mC\u001b[0m\u001b[91m]\u001b[0m\u001b[91m[\u001b[0m\u001b[91m=\u001b[0m\u001b[91mC\u001b[0m\u001b[91m]\u001b[0m\u001b[91m[\u001b[0m\u001b[91mB\u001b[0m\u001b[91mr\u001b[0m\u001b[91ma\u001b[0m\u001b[91mn\u001b[0m\u001b[91mc\u001b[0m\u001b[91mh\u001b[0m\u001b[91m1\u001b[0m\u001b[91m]\u001b[0m\u001b[91m[\u001b[0m\u001b[91mC\u001b[0m][\u001b[91mC\u001b[0m\u001b[91m]\u001b[0m\u001b[91m[\u001b[0m\u001b[91mB\u001b[0m\u001b[91mr\u001b[0m\u001b[91ma\u001b[0m\u001b[91mn\u001b[0m\u001b[91mc\u001b[0m\u001b[91mh\u001b[0m\u001b[91m1\u001b[0m\u001b[91m]\u001b[0m\u001b[91m[\u001b[0m\u001b[91mC\u001b[0m][\u001b[91mC\u001b[0m\u001b[91m]\u001b[0m\u001b[91m[\u001b[0m\u001b[91m=\u001b[0m\u001b[91mC\u001b[0m\u001b[91m]\u001b[0m\u001b[91m[\u001b[0m\u001b[91mC\u001b[0m][\u001b[91m=\u001b[0m\u001b[91mC\u001b[0m\u001b[91m]\u001b[0m\u001b[91m[\u001b[0m\u001b[91mC\u001b[0m\u001b[91m]\u001b[0m\u001b[91m[\u001b[0m\u001b[91m=\u001b[0m\u001b[91mC\u001b[0m\u001b[91m]\u001b[0m\u001b[91m[\u001b[0m\u001b[91mR\u001b[0m\u001b[91mi\u001b[0m\u001b[91mn\u001b[0m\u001b[91mg\u001b[0m\u001b[91m1\u001b[0m\u001b[91m]\u001b[0m\u001b[91m[\u001b[0m\u001b[91m=\u001b[0m\u001b[91mB\u001b[0m\u001b[91mr\u001b[0m\u001b[91ma\u001b[0m\u001b[91mn\u001b[0m\u001b[91mc\u001b[0m\u001b[91mh\u001b[0m\u001b[91m1\u001b[0m\u001b[91m]\u001b[0m\u001b[91m[\u001b[0m\u001b[91mR\u001b[0m\u001b[91mi\u001b[0mn\u001b[91mg\u001b[0m\u001b[91m1\u001b[0m][\u001b[91mB\u001b[0m\u001b[91mr\u001b[0m\u001b[91ma\u001b[0m\u001b[91mn\u001b[0m\u001b[91mc\u001b[0m\u001b[91mh\u001b[0m\u001b[91m1\u001b[0m\u001b[91m]\u001b[0m\u001b[91m[\u001b[0m\u001b[91me\u001b[0mn\u001b[91md\u001b[0m\u001b[91m]\u001b[0m\u001b[91m[\u001b[0m\u001b[91me\u001b[0mn\u001b[91md\u001b[0m\u001b[91m]\u001b[0m\u001b[91m-\u001b[0m\u001b[91m-\u001b[0m\u001b[91m-\u001b[0m\u001b[91m-\u001b[0m\u001b[91m-\u001b[0m\u001b[91m-\u001b[0m\u001b[91m-\u001b[0m\u001b[91m-\u001b[0m\u001b[91m-\u001b[0m\u001b[91m-\u001b[0m\u001b[91m-\u001b[0m\u001b[91m-\u001b[0m\u001b[91m-\u001b[0m\u001b[91m-\u001b[0m\u001b[91m-\u001b[0m\u001b[91m-\u001b[0m\u001b[91m-\u001b[0m\u001b[91m-\u001b[0m\u001b[91m-\u001b[0m\u001b[91m-\u001b[0m\u001b[91m-\u001b[0m\u001b[91m-\u001b[0m\u001b[91m-\u001b[0m\u001b[91m-\u001b[0m\u001b[91m-\u001b[0m\u001b[91m-\u001b[0m\n",
      "-------------------\n",
      "\n",
      "Target:  [C][C][Branch1][C][C][C@@H1][C][C][C@@][Ring1][=Branch1][Branch1][C][C][C@H1][Branch2][Ring2][C][N][S][=Branch1][C][=O][=Branch1][C][=O][C][=C][C][=C][Branch1][S][N][N][=C][C][Branch1][C][Cl][=C][Branch1][C][Cl][C][Ring1][Branch2][=O][C][=C][Ring1][#C][C][Ring2][Ring1][#Branch2][end][nop][nop][nop][nop][nop][nop][nop][nop][nop][nop][nop][nop][nop][nop][nop][nop][nop][nop][nop][nop][nop][nop][nop][nop][nop]\n",
      "Output:  [C][C][\u001b[91m=\u001b[0m\u001b[91mC\u001b[0m\u001b[91m]\u001b[0m\u001b[91m[\u001b[0m\u001b[91mC\u001b[0m\u001b[91m]\u001b[0m\u001b[91m[\u001b[0m\u001b[91mC\u001b[0m\u001b[91m]\u001b[0m\u001b[91m[\u001b[0m\u001b[91mC\u001b[0m\u001b[91m]\u001b[0m\u001b[91m[\u001b[0m\u001b[91mC\u001b[0m\u001b[91m]\u001b[0m\u001b[91m[\u001b[0m\u001b[91mC\u001b[0m\u001b[91m]\u001b[0m\u001b[91m[\u001b[0m\u001b[91mC\u001b[0m][C][C][C\u001b[91m]\u001b[0m\u001b[91m[\u001b[0m\u001b[91mC\u001b[0m\u001b[91m]\u001b[0m\u001b[91m[\u001b[0m\u001b[91mC\u001b[0m\u001b[91m]\u001b[0m\u001b[91m[\u001b[0m\u001b[91mC\u001b[0m][\u001b[91mC\u001b[0m\u001b[91m]\u001b[0m\u001b[91m[\u001b[0m\u001b[91mR\u001b[0m\u001b[91mi\u001b[0m\u001b[91mn\u001b[0m\u001b[91mg\u001b[0m1][\u001b[91m=\u001b[0m\u001b[91mB\u001b[0m\u001b[91mr\u001b[0m\u001b[91ma\u001b[0m\u001b[91mn\u001b[0m\u001b[91mc\u001b[0m\u001b[91mh\u001b[0m\u001b[91m1\u001b[0m\u001b[91m]\u001b[0m\u001b[91m[\u001b[0m\u001b[91mC\u001b[0m\u001b[91m]\u001b[0m\u001b[91m[\u001b[0m\u001b[91m=\u001b[0m\u001b[91mB\u001b[0m\u001b[91mr\u001b[0m\u001b[91ma\u001b[0m\u001b[91mn\u001b[0m\u001b[91mc\u001b[0m\u001b[91mh\u001b[0m\u001b[91m1\u001b[0m\u001b[91m]\u001b[0m\u001b[91m[\u001b[0m\u001b[91mC\u001b[0m\u001b[91m]\u001b[0m\u001b[91m[\u001b[0m\u001b[91mC\u001b[0m\u001b[91m]\u001b[0m\u001b[91m[\u001b[0m\u001b[91m=\u001b[0m\u001b[91mO\u001b[0m\u001b[91m]\u001b[0m\u001b[91m[\u001b[0m\u001b[91mN\u001b[0m\u001b[91m]\u001b[0m\u001b[91m[\u001b[0m\u001b[91mC\u001b[0m\u001b[91m]\u001b[0m\u001b[91m[\u001b[0m\u001b[91m=\u001b[0m\u001b[91mO\u001b[0m][\u001b[91mN\u001b[0m][\u001b[91mC\u001b[0m\u001b[91m]\u001b[0m\u001b[91m[\u001b[0m\u001b[91mC\u001b[0m\u001b[91m]\u001b[0m\u001b[91m[\u001b[0m\u001b[91mC\u001b[0m\u001b[91m]\u001b[0m\u001b[91m[\u001b[0m\u001b[91mC\u001b[0m\u001b[91m]\u001b[0m\u001b[91m[\u001b[0m\u001b[91mC\u001b[0m\u001b[91m]\u001b[0m\u001b[91m[\u001b[0m\u001b[91mC\u001b[0m\u001b[91m]\u001b[0m\u001b[91m[\u001b[0mBranch1][C][\u001b[91mB\u001b[0m\u001b[91mr\u001b[0m\u001b[91ma\u001b[0m\u001b[91mn\u001b[0m\u001b[91mc\u001b[0m\u001b[91mh\u001b[0m\u001b[91m1\u001b[0m\u001b[91m]\u001b[0m\u001b[91m[\u001b[0m\u001b[91mC\u001b[0m\u001b[91m]\u001b[0m\u001b[91m[\u001b[0m\u001b[91mC\u001b[0m\u001b[91m]\u001b[0m\u001b[91m[\u001b[0mC][\u001b[91mC\u001b[0m\u001b[91m]\u001b[0m\u001b[91m[\u001b[0m\u001b[91mR\u001b[0m\u001b[91mi\u001b[0m\u001b[91mn\u001b[0m\u001b[91mg\u001b[0m\u001b[91m1\u001b[0m\u001b[91m]\u001b[0m\u001b[91m[\u001b[0m\u001b[91mC\u001b[0m\u001b[91m]\u001b[0m\u001b[91m[\u001b[0m\u001b[91mF\u001b[0m\u001b[91m]\u001b[0m\u001b[91m[\u001b[0m\u001b[91mC\u001b[0m\u001b[91m]\u001b[0m\u001b[91m[\u001b[0m\u001b[91m=\u001b[0m\u001b[91mC\u001b[0m\u001b[91m]\u001b[0m\u001b[91m[\u001b[0m\u001b[91mB\u001b[0m\u001b[91mr\u001b[0m\u001b[91ma\u001b[0m\u001b[91mn\u001b[0m\u001b[91mc\u001b[0m\u001b[91mh\u001b[0m\u001b[91m2\u001b[0m\u001b[91m]\u001b[0m\u001b[91m[\u001b[0m\u001b[91mC\u001b[0m\u001b[91m]\u001b[0m\u001b[91m[\u001b[0m\u001b[91mC\u001b[0m\u001b[91m]\u001b[0m\u001b[91m[\u001b[0m\u001b[91mR\u001b[0m\u001b[91mi\u001b[0m\u001b[91mn\u001b[0m\u001b[91mg\u001b[0m\u001b[91m1\u001b[0m][\u001b[91mR\u001b[0m\u001b[91mi\u001b[0m\u001b[91mn\u001b[0m\u001b[91mg\u001b[0m\u001b[91m2\u001b[0m\u001b[91m]\u001b[0m\u001b[91m[\u001b[0m\u001b[91mR\u001b[0m\u001b[91mi\u001b[0m\u001b[91mn\u001b[0m\u001b[91mg\u001b[0m\u001b[91m1\u001b[0m\u001b[91m]\u001b[0m\u001b[91m[\u001b[0m\u001b[91me\u001b[0m\u001b[91mn\u001b[0m\u001b[91md\u001b[0m][\u001b[91me\u001b[0m\u001b[91mn\u001b[0m\u001b[91md\u001b[0m\u001b[91m]\u001b[0m\u001b[91m[\u001b[0m\u001b[91mR\u001b[0m\u001b[91mi\u001b[0m\u001b[91mn\u001b[0m\u001b[91mg\u001b[0m\u001b[91m2\u001b[0m\u001b[91m]\u001b[0m\u001b[91m[\u001b[0m\u001b[91mR\u001b[0m\u001b[91mi\u001b[0m\u001b[91mn\u001b[0m\u001b[91mg\u001b[0m\u001b[91m1\u001b[0m\u001b[91m]\u001b[0m\u001b[91m[\u001b[0m\u001b[91m=\u001b[0m\u001b[91mB\u001b[0m\u001b[91mr\u001b[0m\u001b[91ma\u001b[0m\u001b[91mn\u001b[0m\u001b[91mc\u001b[0m\u001b[91mh\u001b[0m\u001b[91m1\u001b[0m\u001b[91m]\u001b[0m\u001b[91m[\u001b[0m\u001b[91me\u001b[0m\u001b[91mn\u001b[0m\u001b[91md\u001b[0m][\u001b[91mR\u001b[0m\u001b[91mi\u001b[0m\u001b[91mn\u001b[0m\u001b[91mg\u001b[0m\u001b[91m2\u001b[0m][Ring\u001b[91m1\u001b[0m][\u001b[91m=\u001b[0m\u001b[91mB\u001b[0m\u001b[91mr\u001b[0m\u001b[91ma\u001b[0m\u001b[91mn\u001b[0m\u001b[91mc\u001b[0m\u001b[91mh\u001b[0m\u001b[91m2\u001b[0m\u001b[91m]\u001b[0m\u001b[91m[\u001b[0m\u001b[91me\u001b[0mn\u001b[91md\u001b[0m\u001b[91m]\u001b[0m\u001b[91m[\u001b[0m\u001b[91me\u001b[0m\u001b[91mn\u001b[0m\u001b[91md\u001b[0m\u001b[91m]\u001b[0m\u001b[91m[\u001b[0m\u001b[91mC\u001b[0m\u001b[91m]\u001b[0m\u001b[91m[\u001b[0m\u001b[91mC\u001b[0m\u001b[91m]\u001b[0m\u001b[91m[\u001b[0m\u001b[91mB\u001b[0m\u001b[91mr\u001b[0m\u001b[91ma\u001b[0m\u001b[91mn\u001b[0m\u001b[91mc\u001b[0m\u001b[91mh\u001b[0m\u001b[91m1\u001b[0m\u001b[91m]\u001b[0m\u001b[91m[\u001b[0m\u001b[91mC\u001b[0m\u001b[91m]\u001b[0m\u001b[91m[\u001b[0m\u001b[91mC\u001b[0m\u001b[91m]\u001b[0m\u001b[91m[\u001b[0m\u001b[91mB\u001b[0m\u001b[91mr\u001b[0m\u001b[91ma\u001b[0m\u001b[91mn\u001b[0m\u001b[91mc\u001b[0m\u001b[91mh\u001b[0m\u001b[91m1\u001b[0m\u001b[91m]\u001b[0m\u001b[91m[\u001b[0m\u001b[91mC\u001b[0m\u001b[91m]\u001b[0m\u001b[91m[\u001b[0m\u001b[91mC\u001b[0m\u001b[91m]\u001b[0m\u001b[91m[\u001b[0m\u001b[91mC\u001b[0m\u001b[91m]\u001b[0m\u001b[91m[\u001b[0m\u001b[91mC\u001b[0m][\u001b[91mR\u001b[0m\u001b[91mi\u001b[0m\u001b[91mn\u001b[0m\u001b[91mg\u001b[0m\u001b[91m1\u001b[0m\u001b[91m]\u001b[0m\u001b[91m[\u001b[0m\u001b[91mR\u001b[0m\u001b[91mi\u001b[0m\u001b[91mn\u001b[0m\u001b[91mg\u001b[0m\u001b[91m1\u001b[0m\u001b[91m]\u001b[0m\u001b[91m[\u001b[0m\u001b[91me\u001b[0mn\u001b[91md\u001b[0m\u001b[91m]\u001b[0m\u001b[91m[\u001b[0m\u001b[91mR\u001b[0m\u001b[91mi\u001b[0m\u001b[91mn\u001b[0m\u001b[91mg\u001b[0m\u001b[91m1\u001b[0m\u001b[91m]\u001b[0m\u001b[91m[\u001b[0m\u001b[91mR\u001b[0m\u001b[91mi\u001b[0m\u001b[91mn\u001b[0m\u001b[91mg\u001b[0m\u001b[91m1\u001b[0m\u001b[91m]\u001b[0m\u001b[91m[\u001b[0m\u001b[91me\u001b[0m\u001b[91mn\u001b[0m\u001b[91md\u001b[0m\u001b[91m]\u001b[0m\u001b[91m[\u001b[0m\u001b[91me\u001b[0m\u001b[91mn\u001b[0m\u001b[91md\u001b[0m\u001b[91m]\u001b[0m\u001b[91m[\u001b[0m\u001b[91mR\u001b[0m\u001b[91mi\u001b[0mn\u001b[91mg\u001b[0m\u001b[91m1\u001b[0m][\u001b[91mR\u001b[0m\u001b[91mi\u001b[0m\u001b[91mn\u001b[0m\u001b[91mg\u001b[0m\u001b[91m1\u001b[0m\u001b[91m]\u001b[0m\u001b[91m-\u001b[0m\u001b[91m-\u001b[0m\u001b[91m-\u001b[0m\u001b[91m-\u001b[0m\u001b[91m-\u001b[0m\u001b[91m-\u001b[0m\u001b[91m-\u001b[0m\u001b[91m-\u001b[0m\u001b[91m-\u001b[0m\u001b[91m-\u001b[0m\u001b[91m-\u001b[0m\u001b[91m-\u001b[0m\u001b[91m-\u001b[0m\u001b[91m-\u001b[0m\u001b[91m-\u001b[0m\u001b[91m-\u001b[0m\u001b[91m-\u001b[0m\u001b[91m-\u001b[0m\u001b[91m-\u001b[0m\u001b[91m-\u001b[0m\u001b[91m-\u001b[0m\u001b[91m-\u001b[0m\u001b[91m-\u001b[0m\u001b[91m-\u001b[0m\u001b[91m-\u001b[0m\u001b[91m-\u001b[0m\u001b[91m-\u001b[0m\u001b[91m-\u001b[0m\n",
      "-------------------\n",
      "\n",
      "Target:  [O][=C][Branch1][C][O-1][C][=N][C][=C][C][=C][C][=C][C][Ring1][=Branch1][=N][Ring1][#Branch2][end][nop][nop][nop][nop][nop][nop][nop][nop][nop][nop][nop][nop][nop][nop][nop][nop][nop][nop][nop][nop][nop][nop][nop][nop][nop][nop][nop][nop][nop][nop][nop][nop][nop][nop][nop][nop][nop][nop][nop][nop][nop][nop][nop][nop][nop][nop][nop][nop][nop][nop][nop][nop][nop][nop][nop][nop][nop][nop][nop][nop][nop]--------------------\n",
      "Output:  [O][=C][Branch1][C][O-1][C][=\u001b[91mC\u001b[0m][C][=C][C][=C][C][=C][C][\u001b[91m=\u001b[0m\u001b[91mC\u001b[0m\u001b[91m]\u001b[0m\u001b[91m[\u001b[0m\u001b[91mC\u001b[0m][\u001b[91mC\u001b[0m\u001b[91m]\u001b[0m\u001b[91m[\u001b[0m\u001b[91mR\u001b[0m\u001b[91mi\u001b[0m\u001b[91mn\u001b[0m\u001b[91mg\u001b[0m1][\u001b[91m#\u001b[0m\u001b[91mB\u001b[0m\u001b[91mr\u001b[0m\u001b[91ma\u001b[0m\u001b[91mn\u001b[0m\u001b[91mc\u001b[0m\u001b[91mh\u001b[0m\u001b[91m2\u001b[0m\u001b[91m]\u001b[0m\u001b[91m[\u001b[0m\u001b[91mC\u001b[0m\u001b[91m]\u001b[0m\u001b[91m[\u001b[0m\u001b[91m=\u001b[0m\u001b[91mC\u001b[0m\u001b[91m]\u001b[0m\u001b[91m[\u001b[0m\u001b[91mR\u001b[0m\u001b[91mi\u001b[0m\u001b[91mn\u001b[0m\u001b[91mg\u001b[0m\u001b[91m1\u001b[0m\u001b[91m]\u001b[0m\u001b[91m[\u001b[0m\u001b[91mC\u001b[0m\u001b[91m]\u001b[0m\u001b[91m[\u001b[0m\u001b[91mB\u001b[0m\u001b[91mr\u001b[0m\u001b[91ma\u001b[0m\u001b[91mn\u001b[0m\u001b[91mc\u001b[0m\u001b[91mh\u001b[0m\u001b[91m1\u001b[0m][\u001b[91mB\u001b[0m\u001b[91mr\u001b[0m\u001b[91ma\u001b[0m\u001b[91mn\u001b[0m\u001b[91mc\u001b[0m\u001b[91mh\u001b[0m\u001b[91m1\u001b[0m\u001b[91m]\u001b[0m\u001b[91m[\u001b[0m\u001b[91mC\u001b[0m\u001b[91m]\u001b[0m\u001b[91m[\u001b[0m\u001b[91mC\u001b[0m][\u001b[91mC\u001b[0m\u001b[91m]\u001b[0m\u001b[91m[\u001b[0m\u001b[91m=\u001b[0m\u001b[91mC\u001b[0m\u001b[91m]\u001b[0m\u001b[91m[\u001b[0m\u001b[91mC\u001b[0m][\u001b[91m=\u001b[0m\u001b[91mC\u001b[0m\u001b[91m]\u001b[0m\u001b[91m[\u001b[0m\u001b[91mC\u001b[0m\u001b[91m]\u001b[0m\u001b[91m[\u001b[0m\u001b[91mR\u001b[0m\u001b[91mi\u001b[0m\u001b[91mn\u001b[0m\u001b[91mg\u001b[0m\u001b[91m1\u001b[0m\u001b[91m]\u001b[0m\u001b[91m[\u001b[0m\u001b[91mB\u001b[0m\u001b[91mr\u001b[0m\u001b[91ma\u001b[0m\u001b[91mn\u001b[0m\u001b[91mc\u001b[0m\u001b[91mh\u001b[0m\u001b[91m1\u001b[0m\u001b[91m]\u001b[0m\u001b[91m[\u001b[0m\u001b[91mB\u001b[0m\u001b[91mr\u001b[0m\u001b[91ma\u001b[0m\u001b[91mn\u001b[0m\u001b[91mc\u001b[0m\u001b[91mh\u001b[0m\u001b[91m1\u001b[0m\u001b[91m]\u001b[0m\u001b[91m[\u001b[0m\u001b[91mB\u001b[0m\u001b[91mr\u001b[0m\u001b[91ma\u001b[0mn\u001b[91mc\u001b[0m\u001b[91mh\u001b[0m\u001b[91m1\u001b[0m\u001b[91m]\u001b[0m\u001b[91m[\u001b[0m\u001b[91mC\u001b[0m\u001b[91m]\u001b[0m\u001b[91m[\u001b[0m\u001b[91mC\u001b[0m\u001b[91m]\u001b[0m\u001b[91m[\u001b[0m\u001b[91mC\u001b[0m][\u001b[91mB\u001b[0m\u001b[91mr\u001b[0m\u001b[91ma\u001b[0m\u001b[91mn\u001b[0m\u001b[91mc\u001b[0m\u001b[91mh\u001b[0m\u001b[91m1\u001b[0m\u001b[91m]\u001b[0m\u001b[91m[\u001b[0m\u001b[91mB\u001b[0m\u001b[91mr\u001b[0m\u001b[91ma\u001b[0m\u001b[91mn\u001b[0m\u001b[91mc\u001b[0m\u001b[91mh\u001b[0m\u001b[91m1\u001b[0m\u001b[91m]\u001b[0m\u001b[91m[\u001b[0m\u001b[91mB\u001b[0m\u001b[91mr\u001b[0m\u001b[91ma\u001b[0m\u001b[91mn\u001b[0m\u001b[91mc\u001b[0m\u001b[91mh\u001b[0m\u001b[91m1\u001b[0m\u001b[91m]\u001b[0m\u001b[91m[\u001b[0m\u001b[91mB\u001b[0m\u001b[91mr\u001b[0m\u001b[91ma\u001b[0mn\u001b[91mc\u001b[0m\u001b[91mh\u001b[0m\u001b[91m1\u001b[0m\u001b[91m]\u001b[0m\u001b[91m[\u001b[0m\u001b[91mB\u001b[0m\u001b[91mr\u001b[0m\u001b[91ma\u001b[0m\u001b[91mn\u001b[0m\u001b[91mc\u001b[0m\u001b[91mh\u001b[0m\u001b[91m1\u001b[0m][\u001b[91mB\u001b[0m\u001b[91mr\u001b[0m\u001b[91ma\u001b[0m\u001b[91mn\u001b[0m\u001b[91mc\u001b[0m\u001b[91mh\u001b[0m\u001b[91m1\u001b[0m\u001b[91m]\u001b[0m\u001b[91m[\u001b[0m\u001b[91mB\u001b[0m\u001b[91mr\u001b[0m\u001b[91ma\u001b[0m\u001b[91mn\u001b[0m\u001b[91mc\u001b[0m\u001b[91mh\u001b[0m\u001b[91m1\u001b[0m\u001b[91m]\u001b[0m\u001b[91m[\u001b[0m\u001b[91mB\u001b[0m\u001b[91mr\u001b[0m\u001b[91ma\u001b[0m\u001b[91mn\u001b[0m\u001b[91mc\u001b[0m\u001b[91mh\u001b[0m\u001b[91m1\u001b[0m\u001b[91m]\u001b[0m\u001b[91m[\u001b[0m\u001b[91mC\u001b[0m][\u001b[91mC\u001b[0m\u001b[91m]\u001b[0m\u001b[91m[\u001b[0m\u001b[91mC\u001b[0m\u001b[91m]\u001b[0m\u001b[91m[\u001b[0m\u001b[91mC\u001b[0m\u001b[91m]\u001b[0m\u001b[91m[\u001b[0m\u001b[91mB\u001b[0m\u001b[91mr\u001b[0m\u001b[91ma\u001b[0m\u001b[91mn\u001b[0m\u001b[91mc\u001b[0m\u001b[91mh\u001b[0m\u001b[91m1\u001b[0m\u001b[91m]\u001b[0m\u001b[91m[\u001b[0m\u001b[91mC\u001b[0m\u001b[91m]\u001b[0m\u001b[91m[\u001b[0m\u001b[91mC\u001b[0m\u001b[91m]\u001b[0m\u001b[91m[\u001b[0m\u001b[91m=\u001b[0m\u001b[91mC\u001b[0m\u001b[91m]\u001b[0m\u001b[91m[\u001b[0m\u001b[91mC\u001b[0m\u001b[91m]\u001b[0m\u001b[91m[\u001b[0m\u001b[91m=\u001b[0m\u001b[91mC\u001b[0m][\u001b[91mB\u001b[0m\u001b[91mr\u001b[0m\u001b[91ma\u001b[0m\u001b[91mn\u001b[0m\u001b[91mc\u001b[0m\u001b[91mh\u001b[0m\u001b[91m1\u001b[0m\u001b[91m]\u001b[0m\u001b[91m[\u001b[0m\u001b[91mR\u001b[0m\u001b[91mi\u001b[0m\u001b[91mn\u001b[0m\u001b[91mg\u001b[0m\u001b[91m1\u001b[0m\u001b[91m]\u001b[0m\u001b[91m[\u001b[0m\u001b[91mB\u001b[0m\u001b[91mr\u001b[0m\u001b[91ma\u001b[0m\u001b[91mn\u001b[0m\u001b[91mc\u001b[0m\u001b[91mh\u001b[0m\u001b[91m1\u001b[0m][\u001b[91mC\u001b[0m\u001b[91m]\u001b[0m\u001b[91m[\u001b[0m\u001b[91m=\u001b[0m\u001b[91mC\u001b[0m\u001b[91m]\u001b[0m\u001b[91m[\u001b[0m\u001b[91mC\u001b[0m][\u001b[91m=\u001b[0m\u001b[91mC\u001b[0m\u001b[91m]\u001b[0m\u001b[91m[\u001b[0m\u001b[91mB\u001b[0m\u001b[91mr\u001b[0m\u001b[91ma\u001b[0m\u001b[91mn\u001b[0m\u001b[91mc\u001b[0m\u001b[91mh\u001b[0m\u001b[91m1\u001b[0m\u001b[91m]\u001b[0m\u001b[91m[\u001b[0m\u001b[91mC\u001b[0m\u001b[91m]\u001b[0m\u001b[91m[\u001b[0m\u001b[91mC\u001b[0m\u001b[91m]\u001b[0m\u001b[91m[\u001b[0m\u001b[91mB\u001b[0m\u001b[91mr\u001b[0m\u001b[91ma\u001b[0m\u001b[91mn\u001b[0m\u001b[91mc\u001b[0m\u001b[91mh\u001b[0m\u001b[91m1\u001b[0m\u001b[91m]\u001b[0m\u001b[91m[\u001b[0m\u001b[91mC\u001b[0m\u001b[91m]\u001b[0m\u001b[91m[\u001b[0m\u001b[91mC\u001b[0m\u001b[91m]\u001b[0m\u001b[91m[\u001b[0m\u001b[91m=\u001b[0m\u001b[91mC\u001b[0m\u001b[91m]\u001b[0m\u001b[91m[\u001b[0m\u001b[91mC\u001b[0m\u001b[91m]\u001b[0m\u001b[91m[\u001b[0m\u001b[91m=\u001b[0m\u001b[91mC\u001b[0m][\u001b[91mC\u001b[0m\u001b[91m]\u001b[0m\u001b[91m[\u001b[0m\u001b[91m=\u001b[0m\u001b[91mC\u001b[0m\u001b[91m]\u001b[0m\u001b[91m[\u001b[0m\u001b[91mR\u001b[0m\u001b[91mi\u001b[0m\u001b[91mn\u001b[0m\u001b[91mg\u001b[0m\u001b[91m1\u001b[0m\u001b[91m]\u001b[0m\u001b[91m[\u001b[0m\u001b[91m=\u001b[0m\u001b[91mB\u001b[0m\u001b[91mr\u001b[0m\u001b[91ma\u001b[0m\u001b[91mn\u001b[0m\u001b[91mc\u001b[0m\u001b[91mh\u001b[0m\u001b[91m1\u001b[0m\u001b[91m]\u001b[0m\u001b[91m[\u001b[0m\u001b[91mR\u001b[0m\u001b[91mi\u001b[0m\u001b[91mn\u001b[0m\u001b[91mg\u001b[0m\u001b[91m1\u001b[0m\u001b[91m]\u001b[0m\u001b[91m[\u001b[0m\u001b[91mB\u001b[0m\u001b[91mr\u001b[0m\u001b[91ma\u001b[0m\u001b[91mn\u001b[0m\u001b[91mc\u001b[0m\u001b[91mh\u001b[0m\u001b[91m1\u001b[0m\u001b[91m]\u001b[0m\u001b[91m[\u001b[0m\u001b[91me\u001b[0m\u001b[91mn\u001b[0m\u001b[91md\u001b[0m\u001b[91m]\u001b[0m\u001b[91m[\u001b[0m\u001b[91me\u001b[0m\u001b[91mn\u001b[0m\u001b[91md\u001b[0m\u001b[91m]\u001b[0m\n",
      "-------------------\n",
      "\n",
      "Target:  [C][C][Branch1][C][C][Branch1][C][C][O][C][=Branch1][C][=O][N][C][C][N][Branch1][Branch2][C][/C][Branch1][C][N][=N][\\O][C][C][Ring1][O][end][nop][nop][nop][nop][nop][nop][nop][nop][nop][nop][nop][nop][nop][nop][nop][nop][nop][nop][nop][nop][nop][nop][nop][nop][nop][nop][nop][nop][nop][nop][nop][nop][nop][nop][nop][nop][nop][nop][nop][nop][nop][nop][nop][nop][nop][nop][nop][nop][nop][nop]\n",
      "Output:  [C][C][Branch1][C][C][\u001b[91mC\u001b[0m\u001b[91m]\u001b[0m\u001b[91m[\u001b[0m\u001b[91mC\u001b[0m\u001b[91m]\u001b[0m\u001b[91m[\u001b[0m\u001b[91mC\u001b[0m][C][C][\u001b[91mC\u001b[0m][C][=\u001b[91mO\u001b[0m\u001b[91m]\u001b[0m\u001b[91m[\u001b[0m\u001b[91mN\u001b[0m\u001b[91m]\u001b[0m\u001b[91m[\u001b[0m\u001b[91mC\u001b[0m][C][\u001b[91mC\u001b[0m\u001b[91m]\u001b[0m\u001b[91m[\u001b[0m\u001b[91mB\u001b[0m\u001b[91mr\u001b[0m\u001b[91ma\u001b[0m\u001b[91mn\u001b[0m\u001b[91mc\u001b[0m\u001b[91mh\u001b[0m\u001b[91m1\u001b[0m\u001b[91m]\u001b[0m\u001b[91m[\u001b[0m\u001b[91mC\u001b[0m\u001b[91m]\u001b[0m\u001b[91m[\u001b[0m\u001b[91mC\u001b[0m\u001b[91m]\u001b[0m\u001b[91m[\u001b[0m\u001b[91mC\u001b[0m\u001b[91m]\u001b[0m\u001b[91m[\u001b[0m\u001b[91m=\u001b[0m\u001b[91mC\u001b[0m][\u001b[91mC\u001b[0m\u001b[91m]\u001b[0m\u001b[91m[\u001b[0m\u001b[91mC\u001b[0m\u001b[91m]\u001b[0m\u001b[91m[\u001b[0m\u001b[91mC\u001b[0m][C][\u001b[91mC\u001b[0m\u001b[91m]\u001b[0m\u001b[91m[\u001b[0m\u001b[91m=\u001b[0m\u001b[91mC\u001b[0m\u001b[91m]\u001b[0m\u001b[91m[\u001b[0m\u001b[91mC\u001b[0m\u001b[91m]\u001b[0m\u001b[91m[\u001b[0m\u001b[91m=\u001b[0m\u001b[91mC\u001b[0m\u001b[91m]\u001b[0m\u001b[91m[\u001b[0m\u001b[91mC\u001b[0m\u001b[91m]\u001b[0m\u001b[91m[\u001b[0m\u001b[91m=\u001b[0m\u001b[91mC\u001b[0m\u001b[91m]\u001b[0m\u001b[91m[\u001b[0m\u001b[91mR\u001b[0m\u001b[91mi\u001b[0m\u001b[91mn\u001b[0m\u001b[91mg\u001b[0m\u001b[91m1\u001b[0m\u001b[91m]\u001b[0m\u001b[91m[\u001b[0m\u001b[91m=\u001b[0m\u001b[91mB\u001b[0m\u001b[91mr\u001b[0m\u001b[91ma\u001b[0m\u001b[91mn\u001b[0m\u001b[91mc\u001b[0m\u001b[91mh\u001b[0m\u001b[91m1\u001b[0m\u001b[91m]\u001b[0m\u001b[91m[\u001b[0m\u001b[91mC\u001b[0m\u001b[91m]\u001b[0m\u001b[91m[\u001b[0m\u001b[91mB\u001b[0m\u001b[91mr\u001b[0m\u001b[91ma\u001b[0mn\u001b[91mc\u001b[0m\u001b[91mh\u001b[0m\u001b[91m1\u001b[0m\u001b[91m]\u001b[0m\u001b[91m[\u001b[0m\u001b[91mC\u001b[0m][\u001b[91mC\u001b[0m\u001b[91m]\u001b[0m\u001b[91m[\u001b[0m\u001b[91mC\u001b[0m\u001b[91m]\u001b[0m\u001b[91m[\u001b[0m\u001b[91mB\u001b[0m\u001b[91mr\u001b[0m\u001b[91ma\u001b[0m\u001b[91mn\u001b[0m\u001b[91mc\u001b[0m\u001b[91mh\u001b[0m\u001b[91m1\u001b[0m][\u001b[91mB\u001b[0m\u001b[91mr\u001b[0m\u001b[91ma\u001b[0m\u001b[91mn\u001b[0m\u001b[91mc\u001b[0m\u001b[91mh\u001b[0m\u001b[91m1\u001b[0m\u001b[91m]\u001b[0m\u001b[91m[\u001b[0m\u001b[91mB\u001b[0m\u001b[91mr\u001b[0m\u001b[91ma\u001b[0m\u001b[91mn\u001b[0m\u001b[91mc\u001b[0m\u001b[91mh\u001b[0m\u001b[91m1\u001b[0m\u001b[91m]\u001b[0m\u001b[91m[\u001b[0m\u001b[91mB\u001b[0m\u001b[91mr\u001b[0m\u001b[91ma\u001b[0m\u001b[91mn\u001b[0m\u001b[91mc\u001b[0m\u001b[91mh\u001b[0m\u001b[91m1\u001b[0m\u001b[91m]\u001b[0m\u001b[91m[\u001b[0m\u001b[91mB\u001b[0m\u001b[91mr\u001b[0m\u001b[91ma\u001b[0mn\u001b[91mc\u001b[0m\u001b[91mh\u001b[0m\u001b[91m1\u001b[0m\u001b[91m]\u001b[0m\u001b[91m[\u001b[0m\u001b[91mB\u001b[0m\u001b[91mr\u001b[0m\u001b[91ma\u001b[0m\u001b[91mn\u001b[0m\u001b[91mc\u001b[0m\u001b[91mh\u001b[0m\u001b[91m1\u001b[0m][\u001b[91mB\u001b[0m\u001b[91mr\u001b[0m\u001b[91ma\u001b[0m\u001b[91mn\u001b[0m\u001b[91mc\u001b[0m\u001b[91mh\u001b[0m\u001b[91m1\u001b[0m\u001b[91m]\u001b[0m\u001b[91m[\u001b[0m\u001b[91mB\u001b[0m\u001b[91mr\u001b[0m\u001b[91ma\u001b[0m\u001b[91mn\u001b[0m\u001b[91mc\u001b[0m\u001b[91mh\u001b[0m\u001b[91m1\u001b[0m\u001b[91m]\u001b[0m\u001b[91m[\u001b[0m\u001b[91mC\u001b[0m\u001b[91m]\u001b[0m\u001b[91m[\u001b[0m\u001b[91mC\u001b[0m\u001b[91m]\u001b[0m\u001b[91m[\u001b[0m\u001b[91mC\u001b[0m\u001b[91m]\u001b[0m\u001b[91m[\u001b[0m\u001b[91mC\u001b[0m][\u001b[91mB\u001b[0m\u001b[91mr\u001b[0m\u001b[91ma\u001b[0m\u001b[91mn\u001b[0m\u001b[91mc\u001b[0m\u001b[91mh\u001b[0m\u001b[91m1\u001b[0m\u001b[91m]\u001b[0m\u001b[91m[\u001b[0m\u001b[91mC\u001b[0m\u001b[91m]\u001b[0m\u001b[91m[\u001b[0m\u001b[91mC\u001b[0m][\u001b[91mC\u001b[0m\u001b[91m]\u001b[0m\u001b[91m[\u001b[0m\u001b[91m=\u001b[0m\u001b[91mC\u001b[0m\u001b[91m]\u001b[0m\u001b[91m[\u001b[0m\u001b[91mC\u001b[0m][\u001b[91mR\u001b[0m\u001b[91mi\u001b[0m\u001b[91mn\u001b[0m\u001b[91mg\u001b[0m\u001b[91m1\u001b[0m\u001b[91m]\u001b[0m\u001b[91m[\u001b[0m\u001b[91mR\u001b[0m\u001b[91mi\u001b[0m\u001b[91mn\u001b[0m\u001b[91mg\u001b[0m\u001b[91m1\u001b[0m\u001b[91m]\u001b[0m\u001b[91m[\u001b[0m\u001b[91mB\u001b[0m\u001b[91mr\u001b[0m\u001b[91ma\u001b[0m\u001b[91mn\u001b[0m\u001b[91mc\u001b[0m\u001b[91mh\u001b[0m\u001b[91m1\u001b[0m\u001b[91m]\u001b[0m\u001b[91m[\u001b[0m\u001b[91mC\u001b[0m\u001b[91m]\u001b[0m\u001b[91m[\u001b[0m\u001b[91m=\u001b[0m\u001b[91mC\u001b[0m][\u001b[91mC\u001b[0m\u001b[91m]\u001b[0m\u001b[91m[\u001b[0m\u001b[91m=\u001b[0m\u001b[91mC\u001b[0m\u001b[91m]\u001b[0m\u001b[91m[\u001b[0m\u001b[91mB\u001b[0m\u001b[91mr\u001b[0m\u001b[91ma\u001b[0mn\u001b[91mc\u001b[0m\u001b[91mh\u001b[0m\u001b[91m1\u001b[0m\u001b[91m]\u001b[0m\u001b[91m[\u001b[0m\u001b[91mC\u001b[0m\u001b[91m]\u001b[0m\u001b[91m[\u001b[0m\u001b[91mC\u001b[0m\u001b[91m]\u001b[0m\u001b[91m[\u001b[0m\u001b[91mB\u001b[0m\u001b[91mr\u001b[0m\u001b[91ma\u001b[0mn\u001b[91mc\u001b[0m\u001b[91mh\u001b[0m\u001b[91m1\u001b[0m\u001b[91m]\u001b[0m\u001b[91m[\u001b[0m\u001b[91mC\u001b[0m\u001b[91m]\u001b[0m\u001b[91m[\u001b[0m\u001b[91mC\u001b[0m\u001b[91m]\u001b[0m\u001b[91m[\u001b[0m\u001b[91m=\u001b[0m\u001b[91mC\u001b[0m\u001b[91m]\u001b[0m\u001b[91m[\u001b[0m\u001b[91mC\u001b[0m\u001b[91m]\u001b[0m\u001b[91m[\u001b[0m\u001b[91m=\u001b[0m\u001b[91mC\u001b[0m\u001b[91m]\u001b[0m\u001b[91m[\u001b[0m\u001b[91mC\u001b[0m\u001b[91m]\u001b[0m\u001b[91m[\u001b[0m\u001b[91m=\u001b[0m\u001b[91mC\u001b[0m][\u001b[91mR\u001b[0m\u001b[91mi\u001b[0m\u001b[91mn\u001b[0m\u001b[91mg\u001b[0m\u001b[91m1\u001b[0m\u001b[91m]\u001b[0m\u001b[91m[\u001b[0m\u001b[91m=\u001b[0m\u001b[91mB\u001b[0m\u001b[91mr\u001b[0m\u001b[91ma\u001b[0m\u001b[91mn\u001b[0m\u001b[91mc\u001b[0m\u001b[91mh\u001b[0m\u001b[91m1\u001b[0m\u001b[91m]\u001b[0m\u001b[91m[\u001b[0m\u001b[91mR\u001b[0m\u001b[91mi\u001b[0m\u001b[91mn\u001b[0m\u001b[91mg\u001b[0m\u001b[91m1\u001b[0m\u001b[91m]\u001b[0m\u001b[91m[\u001b[0m\u001b[91m=\u001b[0m\u001b[91mB\u001b[0m\u001b[91mr\u001b[0m\u001b[91ma\u001b[0m\u001b[91mn\u001b[0m\u001b[91mc\u001b[0m\u001b[91mh\u001b[0m\u001b[91m1\u001b[0m\u001b[91m]\u001b[0m\u001b[91m[\u001b[0m\u001b[91me\u001b[0mn\u001b[91md\u001b[0m\u001b[91m]\u001b[0m\u001b[91m[\u001b[0m\u001b[91m=\u001b[0m\u001b[91mC\u001b[0m\u001b[91m]\u001b[0m\u001b[91m-\u001b[0m\u001b[91m-\u001b[0m\n",
      "-------------------\n",
      "\n",
      "Target:  [O][=C][Branch2][Ring1][Ring1][C][N][N][=N][N][Branch1][Branch2][C][=C][C][=C][S][Ring1][Branch1][C][Ring1][#Branch2][=O][O][C][C][C][C][C][C][Ring1][=Branch1][end][nop][nop][nop][nop][nop][nop][nop][nop][nop][nop][nop][nop][nop][nop][nop][nop][nop][nop][nop][nop][nop][nop][nop][nop][nop][nop][nop][nop][nop][nop][nop][nop][nop][nop][nop][nop][nop][nop][nop][nop][nop][nop][nop][nop][nop][nop][nop][nop]\n",
      "Output:  [O][=C][Branch\u001b[91m1\u001b[0m][Ring1][\u001b[91mC\u001b[0m\u001b[91m]\u001b[0m\u001b[91m[\u001b[0m\u001b[91mN\u001b[0m\u001b[91m]\u001b[0m\u001b[91m[\u001b[0m\u001b[91mC\u001b[0m\u001b[91m]\u001b[0m\u001b[91m[\u001b[0m\u001b[91mC\u001b[0m\u001b[91m]\u001b[0m\u001b[91m[\u001b[0m\u001b[91m=\u001b[0m\u001b[91mB\u001b[0m\u001b[91mr\u001b[0m\u001b[91ma\u001b[0m\u001b[91mn\u001b[0m\u001b[91mc\u001b[0m\u001b[91mh\u001b[0m\u001b[91m1\u001b[0m\u001b[91m]\u001b[0m\u001b[91m[\u001b[0m\u001b[91mC\u001b[0m\u001b[91m]\u001b[0m\u001b[91m[\u001b[0m\u001b[91m=\u001b[0m\u001b[91mO\u001b[0m\u001b[91m]\u001b[0m\u001b[91m[\u001b[0m\u001b[91mC\u001b[0m][\u001b[91mC\u001b[0m\u001b[91m]\u001b[0m\u001b[91m[\u001b[0m\u001b[91mC\u001b[0m\u001b[91m]\u001b[0m\u001b[91m[\u001b[0m\u001b[91mC\u001b[0m][C][\u001b[91mC\u001b[0m\u001b[91m]\u001b[0m\u001b[91m[\u001b[0m\u001b[91mR\u001b[0m\u001b[91mi\u001b[0m\u001b[91mn\u001b[0m\u001b[91mg\u001b[0m\u001b[91m1\u001b[0m\u001b[91m]\u001b[0m\u001b[91m[\u001b[0m\u001b[91mB\u001b[0m\u001b[91mr\u001b[0m\u001b[91ma\u001b[0m\u001b[91mn\u001b[0m\u001b[91mc\u001b[0m\u001b[91mh\u001b[0m\u001b[91m1\u001b[0m\u001b[91m]\u001b[0m\u001b[91m[\u001b[0m\u001b[91mC\u001b[0m\u001b[91m]\u001b[0m\u001b[91m[\u001b[0m\u001b[91mC\u001b[0m\u001b[91m]\u001b[0m\u001b[91m[\u001b[0m\u001b[91mO\u001b[0m\u001b[91m]\u001b[0m\u001b[91m[\u001b[0m\u001b[91mC\u001b[0m\u001b[91m]\u001b[0m\u001b[91m[\u001b[0m\u001b[91mC\u001b[0m\u001b[91m]\u001b[0m\u001b[91m[\u001b[0m\u001b[91mC\u001b[0m\u001b[91m]\u001b[0m\u001b[91m[\u001b[0m\u001b[91m=\u001b[0m\u001b[91mC\u001b[0m\u001b[91m]\u001b[0m\u001b[91m[\u001b[0m\u001b[91mC\u001b[0m\u001b[91m]\u001b[0m\u001b[91m[\u001b[0m\u001b[91mC\u001b[0m\u001b[91m]\u001b[0m\u001b[91m[\u001b[0m\u001b[91mC\u001b[0m][\u001b[91mC\u001b[0m\u001b[91m]\u001b[0m\u001b[91m[\u001b[0m\u001b[91mC\u001b[0m\u001b[91m]\u001b[0m\u001b[91m[\u001b[0m\u001b[91mC\u001b[0m\u001b[91m]\u001b[0m\u001b[91m[\u001b[0m\u001b[91me\u001b[0m\u001b[91mn\u001b[0m\u001b[91md\u001b[0m\u001b[91m]\u001b[0m\u001b[91m[\u001b[0m\u001b[91m=\u001b[0m\u001b[91mC\u001b[0m\u001b[91m]\u001b[0m\u001b[91m[\u001b[0m\u001b[91mR\u001b[0m\u001b[91mi\u001b[0m\u001b[91mn\u001b[0m\u001b[91mg\u001b[0m\u001b[91m1\u001b[0m][Ring1][\u001b[91mC\u001b[0m\u001b[91m]\u001b[0m\u001b[91m[\u001b[0m\u001b[91mC\u001b[0m\u001b[91m]\u001b[0m\u001b[91m[\u001b[0m\u001b[91mC\u001b[0m\u001b[91m]\u001b[0m\u001b[91m[\u001b[0m\u001b[91mB\u001b[0m\u001b[91mr\u001b[0m\u001b[91ma\u001b[0m\u001b[91mn\u001b[0m\u001b[91mc\u001b[0m\u001b[91mh\u001b[0m\u001b[91m1\u001b[0m\u001b[91m]\u001b[0m\u001b[91m[\u001b[0m\u001b[91mB\u001b[0m\u001b[91mr\u001b[0m\u001b[91ma\u001b[0m\u001b[91mn\u001b[0m\u001b[91mc\u001b[0m\u001b[91mh\u001b[0m\u001b[91m1\u001b[0m\u001b[91m]\u001b[0m\u001b[91m[\u001b[0m\u001b[91mB\u001b[0m\u001b[91mr\u001b[0m\u001b[91ma\u001b[0mn\u001b[91mc\u001b[0m\u001b[91mh\u001b[0m\u001b[91m1\u001b[0m\u001b[91m]\u001b[0m\u001b[91m[\u001b[0m\u001b[91mB\u001b[0m\u001b[91mr\u001b[0m\u001b[91ma\u001b[0m\u001b[91mn\u001b[0m\u001b[91mc\u001b[0m\u001b[91mh\u001b[0m\u001b[91m1\u001b[0m][\u001b[91mB\u001b[0m\u001b[91mr\u001b[0m\u001b[91ma\u001b[0m\u001b[91mn\u001b[0m\u001b[91mc\u001b[0m\u001b[91mh\u001b[0m\u001b[91m1\u001b[0m\u001b[91m]\u001b[0m\u001b[91m[\u001b[0m\u001b[91mB\u001b[0m\u001b[91mr\u001b[0m\u001b[91ma\u001b[0m\u001b[91mn\u001b[0m\u001b[91mc\u001b[0m\u001b[91mh\u001b[0m\u001b[91m1\u001b[0m\u001b[91m]\u001b[0m\u001b[91m[\u001b[0m\u001b[91mB\u001b[0m\u001b[91mr\u001b[0m\u001b[91ma\u001b[0m\u001b[91mn\u001b[0m\u001b[91mc\u001b[0m\u001b[91mh\u001b[0m\u001b[91m1\u001b[0m\u001b[91m]\u001b[0m\u001b[91m[\u001b[0m\u001b[91mB\u001b[0m\u001b[91mr\u001b[0m\u001b[91ma\u001b[0mn\u001b[91mc\u001b[0m\u001b[91mh\u001b[0m\u001b[91m1\u001b[0m\u001b[91m]\u001b[0m\u001b[91m[\u001b[0m\u001b[91mC\u001b[0m\u001b[91m]\u001b[0m\u001b[91m[\u001b[0m\u001b[91mC\u001b[0m\u001b[91m]\u001b[0m\u001b[91m[\u001b[0m\u001b[91mC\u001b[0m][\u001b[91mC\u001b[0m\u001b[91m]\u001b[0m\u001b[91m[\u001b[0m\u001b[91mB\u001b[0m\u001b[91mr\u001b[0m\u001b[91ma\u001b[0m\u001b[91mn\u001b[0m\u001b[91mc\u001b[0m\u001b[91mh\u001b[0m\u001b[91m1\u001b[0m\u001b[91m]\u001b[0m\u001b[91m[\u001b[0m\u001b[91mC\u001b[0m][\u001b[91mC\u001b[0m\u001b[91m]\u001b[0m\u001b[91m[\u001b[0m\u001b[91mC\u001b[0m\u001b[91m]\u001b[0m\u001b[91m[\u001b[0m\u001b[91m=\u001b[0m\u001b[91mC\u001b[0m][\u001b[91mC\u001b[0m\u001b[91m]\u001b[0m\u001b[91m[\u001b[0m\u001b[91mR\u001b[0m\u001b[91mi\u001b[0mn\u001b[91mg\u001b[0m\u001b[91m1\u001b[0m][\u001b[91mR\u001b[0m\u001b[91mi\u001b[0m\u001b[91mn\u001b[0m\u001b[91mg\u001b[0m\u001b[91m1\u001b[0m\u001b[91m]\u001b[0m\u001b[91m[\u001b[0m\u001b[91mB\u001b[0m\u001b[91mr\u001b[0m\u001b[91ma\u001b[0mn\u001b[91mc\u001b[0m\u001b[91mh\u001b[0m\u001b[91m1\u001b[0m\u001b[91m]\u001b[0m\u001b[91m[\u001b[0m\u001b[91mC\u001b[0m\u001b[91m]\u001b[0m\u001b[91m[\u001b[0m\u001b[91m=\u001b[0m\u001b[91mC\u001b[0m\u001b[91m]\u001b[0m\u001b[91m[\u001b[0m\u001b[91mC\u001b[0m\u001b[91m]\u001b[0m\u001b[91m[\u001b[0m\u001b[91m=\u001b[0m\u001b[91mC\u001b[0m][\u001b[91mB\u001b[0m\u001b[91mr\u001b[0m\u001b[91ma\u001b[0m\u001b[91mn\u001b[0m\u001b[91mc\u001b[0m\u001b[91mh\u001b[0m\u001b[91m1\u001b[0m\u001b[91m]\u001b[0m\u001b[91m[\u001b[0m\u001b[91mC\u001b[0m\u001b[91m]\u001b[0m\u001b[91m[\u001b[0m\u001b[91mC\u001b[0m][\u001b[91mB\u001b[0m\u001b[91mr\u001b[0m\u001b[91ma\u001b[0m\u001b[91mn\u001b[0m\u001b[91mc\u001b[0m\u001b[91mh\u001b[0m\u001b[91m1\u001b[0m\u001b[91m]\u001b[0m\u001b[91m[\u001b[0m\u001b[91mC\u001b[0m\u001b[91m]\u001b[0m\u001b[91m[\u001b[0m\u001b[91mC\u001b[0m][\u001b[91m=\u001b[0m\u001b[91mC\u001b[0m\u001b[91m]\u001b[0m\u001b[91m[\u001b[0m\u001b[91mC\u001b[0m\u001b[91m]\u001b[0m\u001b[91m[\u001b[0m\u001b[91m=\u001b[0m\u001b[91mC\u001b[0m\u001b[91m]\u001b[0m\u001b[91m[\u001b[0m\u001b[91mC\u001b[0m\u001b[91m]\u001b[0m\u001b[91m[\u001b[0m\u001b[91m=\u001b[0m\u001b[91mC\u001b[0m\u001b[91m]\u001b[0m\u001b[91m[\u001b[0m\u001b[91mR\u001b[0m\u001b[91mi\u001b[0mn\u001b[91mg\u001b[0m\u001b[91m1\u001b[0m][\u001b[91m=\u001b[0m\u001b[91mB\u001b[0m\u001b[91mr\u001b[0m\u001b[91ma\u001b[0m\u001b[91mn\u001b[0m\u001b[91mc\u001b[0m\u001b[91mh\u001b[0m\u001b[91m1\u001b[0m][\u001b[91mR\u001b[0m\u001b[91mi\u001b[0m\u001b[91mn\u001b[0m\u001b[91mg\u001b[0m\u001b[91m1\u001b[0m\u001b[91m]\u001b[0m\u001b[91m[\u001b[0m\u001b[91mB\u001b[0m\u001b[91mr\u001b[0m\u001b[91ma\u001b[0mn\u001b[91mc\u001b[0m\u001b[91mh\u001b[0m\u001b[91m1\u001b[0m\u001b[91m]\u001b[0m\u001b[91m[\u001b[0m\u001b[91me\u001b[0m\u001b[91mn\u001b[0m\u001b[91md\u001b[0m\u001b[91m]\u001b[0m\u001b[91m[\u001b[0m\u001b[91me\u001b[0m\u001b[91mn\u001b[0m\u001b[91md\u001b[0m\u001b[91m]\u001b[0m\u001b[91m-\u001b[0m\u001b[91m-\u001b[0m\u001b[91m-\u001b[0m\u001b[91m-\u001b[0m\u001b[91m-\u001b[0m\u001b[91m-\u001b[0m\u001b[91m-\u001b[0m\u001b[91m-\u001b[0m\u001b[91m-\u001b[0m\n",
      "-------------------\n",
      "\n",
      "Epoch 4 loss: 1.6635019191673823\n"
     ]
    },
    {
     "data": {
      "text/html": [
       "Waiting for W&B process to finish... <strong style=\"color:green\">(success).</strong>"
      ],
      "text/plain": [
       "<IPython.core.display.HTML object>"
      ]
     },
     "metadata": {},
     "output_type": "display_data"
    },
    {
     "data": {
      "text/html": [
       "<style>\n",
       "    table.wandb td:nth-child(1) { padding: 0 10px; text-align: left ; width: auto;} td:nth-child(2) {text-align: left ; width: 100%}\n",
       "    .wandb-row { display: flex; flex-direction: row; flex-wrap: wrap; justify-content: flex-start; width: 100% }\n",
       "    .wandb-col { display: flex; flex-direction: column; flex-basis: 100%; flex: 1; padding: 10px; }\n",
       "    </style>\n",
       "<div class=\"wandb-row\"><div class=\"wandb-col\"><h3>Run history:</h3><br/><table class=\"wandb\"><tr><td>loss</td><td>█▄▂▂▁</td></tr></table><br/></div><div class=\"wandb-col\"><h3>Run summary:</h3><br/><table class=\"wandb\"><tr><td>loss</td><td>1.6635</td></tr></table><br/></div></div>"
      ],
      "text/plain": [
       "<IPython.core.display.HTML object>"
      ]
     },
     "metadata": {},
     "output_type": "display_data"
    },
    {
     "data": {
      "text/html": [
       " View run <strong style=\"color:#cdcd00\">desert-pine-7</strong> at: <a href='https://wandb.ai/mldd23/selfie-autoencoder_v2/runs/9tnyk5e7' target=\"_blank\">https://wandb.ai/mldd23/selfie-autoencoder_v2/runs/9tnyk5e7</a><br/>Synced 6 W&B file(s), 0 media file(s), 0 artifact file(s) and 0 other file(s)"
      ],
      "text/plain": [
       "<IPython.core.display.HTML object>"
      ]
     },
     "metadata": {},
     "output_type": "display_data"
    },
    {
     "data": {
      "text/html": [
       "Find logs at: <code>./wandb/run-20230531_153334-9tnyk5e7/logs</code>"
      ],
      "text/plain": [
       "<IPython.core.display.HTML object>"
      ]
     },
     "metadata": {},
     "output_type": "display_data"
    }
   ],
   "source": [
    "# #----HYPERPARAMETERS----CONSTANTS----#\n",
    "input_size=4860\n",
    "dictionary_size=len(alphabet)\n",
    "# #----HYPERPARAMETERS----TUNABLE----#\n",
    "# encoding_size=256\n",
    "# emb_size=256\n",
    "# hidden_size=encoding_size\n",
    "# num_layers=3\n",
    "# drop_prob=0.2\n",
    "# conf = dict()\n",
    "# conf['input_size'] = input_size\n",
    "# conf['encoding_size'] = encoding_size\n",
    "# conf['dictionary_size'] = dictionary_size\n",
    "# conf['emb_size'] = emb_size\n",
    "# conf['hidden_size'] = hidden_size\n",
    "# conf['num_layers'] = num_layers\n",
    "# conf['drop_prob'] = drop_prob\n",
    "\n",
    "model = Autoencoder(**conf).to(device)\n",
    "ae = train(model, train_loader, num_epochs=5, device='cuda')"
   ]
  },
  {
   "cell_type": "code",
   "execution_count": null,
   "id": "f8614d46",
   "metadata": {},
   "outputs": [],
   "source": [
    "# save model just in case\n",
    "torch.save(model.state_dict(), './GRU_data/model_v2_h256_e100_teacher_forcing.pt')"
   ]
  },
  {
   "cell_type": "code",
   "execution_count": 38,
   "id": "2bad90c0",
   "metadata": {},
   "outputs": [
    {
     "data": {
      "text/plain": [
       "<All keys matched successfully>"
      ]
     },
     "execution_count": 38,
     "metadata": {},
     "output_type": "execute_result"
    }
   ],
   "source": [
    "# Hubert jakby co, to możesz wczytać model z pliku, \n",
    "# żeby nie trzeba było czekać 200 epok\n",
    "loaded_model = Autoencoder(4860, 300, 300, 42, 2, 0.0).to(device)\n",
    "loaded_model.load_state_dict(torch.load('./GRU_data/model_h300_e500_teacher_forcing.pt'))"
   ]
  },
  {
   "cell_type": "code",
   "execution_count": 39,
   "id": "2e768d4a",
   "metadata": {},
   "outputs": [
    {
     "data": {
      "text/plain": [
       "torch.Size([64, 4860])"
      ]
     },
     "execution_count": 39,
     "metadata": {},
     "output_type": "execute_result"
    }
   ],
   "source": [
    "x, y = next(iter(test_loader))\n",
    "x = x.to(device)\n",
    "x.size()"
   ]
  },
  {
   "cell_type": "code",
   "execution_count": 40,
   "id": "9dbdfd19",
   "metadata": {},
   "outputs": [],
   "source": [
    "encoded, decoded = loaded_model(x)"
   ]
  },
  {
   "cell_type": "markdown",
   "id": "bfe6bfa9",
   "metadata": {},
   "source": [
    "# GRU output to SELFIES"
   ]
  },
  {
   "cell_type": "code",
   "execution_count": 41,
   "id": "2aab1202",
   "metadata": {},
   "outputs": [],
   "source": [
    "decoded_indices = torch.argmax(decoded.cpu(), dim=2)\n",
    "decoded_indices = decoded_indices.numpy()"
   ]
  },
  {
   "cell_type": "code",
   "execution_count": 42,
   "id": "c4a1d92f",
   "metadata": {},
   "outputs": [
    {
     "name": "stdout",
     "output_type": "stream",
     "text": [
      "Original: [C][C][Branch2][Ring1][=Branch1][C][=Branch1][C][=O][N][S][=Branch1][C][=O][=Branch1][C][=O][C][=C][C][=C][C][=C][Ring1][=Branch1][Cl][C][C][N][Ring1][P][C][=Branch1][C][=O][C][C][C][C][C][C][Ring1][=Branch1][end][nop][nop][nop][nop][nop][nop][nop][nop][nop][nop][nop][nop][nop][nop][nop][nop][nop][nop][nop][nop][nop][nop][nop][nop][nop][nop][nop][nop][nop][nop][nop][nop][nop][nop][nop][nop][nop][nop][nop][nop][nop][nop][nop][nop][nop][nop][nop][nop][nop][nop][nop][nop][nop][nop][nop][nop][nop][nop][nop][nop][nop][nop][nop][nop][nop][nop][nop][nop][nop] \n",
      "\n",
      "Decoded:  [O-1][#C][=N][\\O][=N][NH1][Branch2][I][#N][#N][=O][#N][=S][/O][#N][=O][=S][=S][/O][\\O][=S][\\O][=Ring1][#N][P][#N][#N][#N][#Branch2][#Branch2][#N][#N][=Ring2][=Ring2][#Branch2][end][end][nop][nop][nop][nop][nop][nop][nop][nop][nop][nop][nop][nop][nop][nop][nop][nop][nop][nop][nop][nop][nop][nop][nop][nop][nop][nop][nop][nop][nop][nop][nop][nop][nop][nop][nop][nop][nop][nop][nop][nop][nop][nop][nop][nop][nop][nop][nop][nop][nop][nop][nop][nop][nop][nop][nop][nop][nop][nop][nop][nop][nop][nop][nop][nop][nop][nop][nop][nop][nop][nop][nop][nop][nop][nop][nop][nop]\n",
      "------------------\n",
      "Original: [C][O][C][=Branch1][C][=O][C][=C][C][=C][C][=Branch1][N][=C][C][Branch1][C][O][=C][Ring1][#Branch1][NH1][Ring1][#Branch2][N][Branch2][Ring1][#Branch2][C][=Branch1][C][=O][C][=C][C][=C][C][Branch1][#Branch1][N][C][Branch1][C][C][=O][=C][C][=C][Ring1][#Branch2][NH1][Ring1][=N][C][C@H1][Ring2][Ring1][=Branch2][C][Cl][end][nop][nop][nop][nop][nop][nop][nop][nop][nop][nop][nop][nop][nop][nop][nop][nop][nop][nop][nop][nop][nop][nop][nop][nop][nop][nop][nop][nop][nop][nop][nop][nop][nop][nop][nop][nop][nop][nop][nop][nop][nop][nop][nop][nop][nop][nop][nop][nop][nop][nop][nop][nop] \n",
      "\n",
      "Decoded:  [=N+1][=N+1][Branch2][Ring2][=N+1][=N+1][=N+1][=N+1][=N+1][=N+1][C@@][=Ring1][=N+1][=N+1][=N+1][C@@][=Ring2][=Ring2][O-1][=Ring2][O-1][O-1][O-1][O-1][=Ring2][=Ring2][=Ring2][=Ring2][=Ring2][=Ring2][=Ring2][=Ring2][=Ring2][=Ring2][=Ring2][=Ring2][=Ring2][=Ring2][=Ring2][=Ring2][=Ring2][=Ring2][=Ring2][=Ring2][=Ring2][=Ring2][=Ring2][=Ring2][=Ring2][=Ring2][=Ring2][=Ring2][=Ring2][=Ring2][end][end][end][end][end][end][end][end][end][end][end][end][end][nop][nop][nop][nop][nop][nop][nop][nop][nop][nop][nop][nop][nop][nop][nop][nop][nop][nop][nop][nop][nop][nop][nop][nop][nop][nop][nop][nop][nop][nop][nop][nop][nop][nop][nop][nop][nop][nop][nop][nop][nop][nop][nop][nop][nop][nop]\n",
      "------------------\n",
      "Original: [O][C][=C][Branch1][#Branch1][C][C][C][C][Ring1][Ring2][C][=C][C][Branch1][=C][C][=C][N][=C][NH1][C][=C][C][Ring1][Branch1][=N][Ring1][=Branch2][=C][Ring2][Ring1][Ring1][F][end][nop][nop][nop][nop][nop][nop][nop][nop][nop][nop][nop][nop][nop][nop][nop][nop][nop][nop][nop][nop][nop][nop][nop][nop][nop][nop][nop][nop][nop][nop][nop][nop][nop][nop][nop][nop][nop][nop][nop][nop][nop][nop][nop][nop][nop][nop][nop][nop][nop][nop][nop][nop][nop][nop][nop][nop][nop][nop][nop][nop][nop][nop][nop][nop][nop][nop][nop][nop][nop][nop][nop][nop][nop][nop][nop][nop][nop][nop] \n",
      "\n",
      "Decoded:  [=N+1][=N+1][NH1][Branch2][=Ring2][Ring2][=Ring1][=N+1][=N+1][=N+1][=Ring1][=Ring2][=Ring1][=Ring2][=Ring1][=Ring2][=Ring2][=Ring2][=O][=O][/O][=O][=O][/O][=Ring2][=Ring2][=Ring2][=Ring2][=Ring2][=Ring2][=Ring2][=Ring2][=Ring2][=Ring2][=Ring2][=Ring2][=Ring2][=Ring2][=Ring2][=Ring2][=Ring2][=Ring2][=Ring2][=Ring2][=Ring2][=Ring2][=Ring2][=Ring2][=Ring2][=Ring2][=Ring2][=Ring2][=Ring2][end][end][end][end][nop][nop][nop][nop][nop][nop][nop][nop][nop][nop][nop][nop][nop][nop][nop][nop][nop][nop][nop][nop][nop][nop][nop][nop][nop][nop][nop][nop][nop][nop][nop][nop][nop][nop][nop][nop][nop][nop][nop][nop][nop][nop][nop][nop][nop][nop][nop][nop][nop][nop][nop][nop][nop][nop][nop][nop]\n",
      "------------------\n",
      "Original: [C][C][C][Branch1][#C][C][=C][C][Branch1][C][Cl][=C][C][Branch1][C][Cl][=C][Ring1][Branch2][N][C][Branch1][#Branch1][C][=Branch1][C][=O][O][C][=C][N][=C][Ring1][=Branch2][S][end][nop][nop][nop][nop][nop][nop][nop][nop][nop][nop][nop][nop][nop][nop][nop][nop][nop][nop][nop][nop][nop][nop][nop][nop][nop][nop][nop][nop][nop][nop][nop][nop][nop][nop][nop][nop][nop][nop][nop][nop][nop][nop][nop][nop][nop][nop][nop][nop][nop][nop][nop][nop][nop][nop][nop][nop][nop][nop][nop][nop][nop][nop][nop][nop][nop][nop][nop][nop][nop][nop][nop][nop][nop][nop][nop][nop][nop] \n",
      "\n",
      "Decoded:  [Cl][=N+1][/N][/N][=Ring2][=S][\\C][/N][#N][\\C][#N][N+1][#Branch1][/N][/N][/N][/N][/N][#N][#N][#N][#N][#N][=Ring2][#N][#N][=Ring2][=Ring2][=Ring2][=Ring2][=Ring2][=Ring2][=Ring2][=Ring2][=Ring2][=Ring2][=Ring2][=Ring2][=Ring2][=Ring2][=Ring2][=Ring2][=Ring2][=Ring2][=Ring2][=Ring2][=Ring2][#N][#N][end][end][nop][nop][nop][nop][nop][nop][nop][nop][nop][nop][nop][nop][nop][nop][nop][nop][nop][nop][nop][nop][nop][nop][nop][nop][nop][nop][nop][nop][nop][nop][nop][nop][nop][nop][nop][nop][nop][nop][nop][nop][nop][nop][nop][nop][nop][nop][nop][nop][nop][nop][nop][nop][nop][nop][nop][nop][nop][nop][nop][nop][nop][nop]\n",
      "------------------\n",
      "Original: [C][O][C][=C][C][=C][Branch1][C][O][C][Branch2][Ring2][=Branch1][/C][=N][/N][C][=Branch1][C][=O][C][=C][C][=C][Branch2][Ring1][Ring1][C][=N][N][=C][Branch1][#Branch2][C][=C][C][=C][C][=C][Ring1][=Branch1][O][O][Ring1][N][C][=C][Ring2][Ring1][C][=C][Ring2][Ring1][=C][end][nop][nop][nop][nop][nop][nop][nop][nop][nop][nop][nop][nop][nop][nop][nop][nop][nop][nop][nop][nop][nop][nop][nop][nop][nop][nop][nop][nop][nop][nop][nop][nop][nop][nop][nop][nop][nop][nop][nop][nop][nop][nop][nop][nop][nop][nop][nop][nop][nop][nop][nop][nop][nop][nop][nop][nop][nop][nop] \n",
      "\n",
      "Decoded:  [=N+1][=N+1][=N+1][=N+1][O-1][=N+1][=Ring1][=N+1][=N+1][=N+1][=Ring1][=Ring1][=Ring1][=Ring1][=Ring1][=Ring1][=Ring1][=Ring1][=Ring1][=Ring1][=Ring1][=Ring1][=Ring1][=Ring1][=Ring2][=Ring2][=Ring2][=Ring2][=Ring2][=Ring2][=Ring2][=Ring2][=Ring2][=Ring2][=Ring2][=Ring2][=Ring2][=Ring2][=Ring2][=Ring2][=Ring2][=Ring2][=Ring2][=Ring2][=Ring2][=Ring2][=Ring2][=Ring2][=Ring2][=Ring2][=Ring2][=Ring2][=Ring2][=Ring2][=Ring2][end][end][nop][nop][nop][nop][nop][nop][nop][nop][nop][nop][nop][nop][nop][nop][nop][nop][nop][nop][nop][nop][nop][nop][nop][nop][nop][nop][nop][nop][nop][nop][nop][nop][nop][nop][nop][nop][nop][nop][nop][nop][nop][nop][nop][nop][nop][nop][nop][nop][nop][nop][nop][nop][nop][nop][nop][nop]\n",
      "------------------\n",
      "Original: [C][C][Branch1][C][C][C][N][C][=Branch1][C][=O][C][=C][C][=C][C][C][Branch1][=Branch2][C][=C][C][=C][N][=C][Ring1][=Branch1][=C][O][C][Ring1][#C][=Ring1][O][end][nop][nop][nop][nop][nop][nop][nop][nop][nop][nop][nop][nop][nop][nop][nop][nop][nop][nop][nop][nop][nop][nop][nop][nop][nop][nop][nop][nop][nop][nop][nop][nop][nop][nop][nop][nop][nop][nop][nop][nop][nop][nop][nop][nop][nop][nop][nop][nop][nop][nop][nop][nop][nop][nop][nop][nop][nop][nop][nop][nop][nop][nop][nop][nop][nop][nop][nop][nop][nop][nop][nop][nop][nop][nop][nop][nop][nop][nop] \n",
      "\n",
      "Decoded:  [\\O][C@H1][C@H1][C@H1][#N][/O][C@@][\\O][\\O][\\N][NH1][#N][=Ring1][\\O][\\O][=Ring1][#N][#N][=Ring1][=Ring2][=Ring2][=Ring2][#Branch2][end][end][end][end][nop][nop][nop][nop][nop][nop][nop][nop][nop][nop][nop][nop][nop][nop][nop][nop][nop][nop][nop][nop][nop][nop][nop][nop][nop][nop][nop][nop][nop][nop][nop][nop][nop][nop][nop][nop][nop][nop][nop][nop][nop][nop][nop][nop][nop][nop][nop][nop][nop][nop][nop][nop][nop][nop][nop][nop][nop][nop][nop][nop][nop][nop][nop][nop][nop][nop][nop][nop][nop][nop][nop][nop][nop][nop][nop][nop][nop][nop][nop][nop][nop][nop][nop][nop][nop][nop]\n",
      "------------------\n",
      "Original: [C][O][C][=C][C][=C][Branch2][Ring2][C][C][=N][C][Branch2][Ring1][#Branch1][C][N][Branch1][#Branch2][C][C][=C][C][=C][C][=N][Ring1][=Branch1][C][C][=C][C][=C][C][=N][Ring1][=Branch1][=C][O][Ring2][Ring1][Branch1][C][=C][Ring2][Ring1][O][end][nop][nop][nop][nop][nop][nop][nop][nop][nop][nop][nop][nop][nop][nop][nop][nop][nop][nop][nop][nop][nop][nop][nop][nop][nop][nop][nop][nop][nop][nop][nop][nop][nop][nop][nop][nop][nop][nop][nop][nop][nop][nop][nop][nop][nop][nop][nop][nop][nop][nop][nop][nop][nop][nop][nop][nop][nop][nop][nop][nop][nop][nop][nop][nop][nop] \n",
      "\n",
      "Decoded:  [=N+1][=N+1][=N+1][/O][=O][=N+1][=O][=N+1][=N+1][=N+1][\\N][/O][\\O][=N+1][\\O][\\O][\\O][\\O][\\O][/O][=N+1][/O][/O][/O][=Ring2][=Ring2][=Ring2][=Ring2][=Ring2][=Ring2][=Ring2][=Ring2][=Ring2][=Ring2][=Ring2][=Ring2][=Ring2][=Ring2][=Ring2][=Ring2][=Ring2][=Ring2][=Ring2][=Ring2][=Ring2][=Ring2][=Ring2][=Ring2][=Ring2][=Ring1][end][end][end][end][nop][nop][nop][nop][nop][nop][nop][nop][nop][nop][nop][nop][nop][nop][nop][nop][nop][nop][nop][nop][nop][nop][nop][nop][nop][nop][nop][nop][nop][nop][nop][nop][nop][nop][nop][nop][nop][nop][nop][nop][nop][nop][nop][nop][nop][nop][nop][nop][nop][nop][nop][nop][nop][nop][nop][nop][nop][nop][nop]\n",
      "------------------\n",
      "Original: [C][O][C][C][=Branch1][C][=O][N][C][=C][C][=C][C][Branch2][Ring1][Branch1][C][=N][NH1][C][=C][C][=C][Branch1][=Branch1][C][Branch1][C][N][=O][C][=C][Ring1][N][Ring1][=Branch2][=C][Ring2][Ring1][C][end][nop][nop][nop][nop][nop][nop][nop][nop][nop][nop][nop][nop][nop][nop][nop][nop][nop][nop][nop][nop][nop][nop][nop][nop][nop][nop][nop][nop][nop][nop][nop][nop][nop][nop][nop][nop][nop][nop][nop][nop][nop][nop][nop][nop][nop][nop][nop][nop][nop][nop][nop][nop][nop][nop][nop][nop][nop][nop][nop][nop][nop][nop][nop][nop][nop][nop][nop][nop][nop][nop][nop][nop] \n",
      "\n",
      "Decoded:  [=N+1][=N+1][=S][\\C][=O][=O][=Ring1][=Ring1][=N+1][=S][=Ring1][/O][=Ring1][=Ring1][=Ring1][=Ring1][=Ring1][=Ring1][=Ring1][\\O][=Ring1][=Ring1][=Ring1][=Ring1][=Ring1][=Ring1][=Ring1][=Ring1][=Ring1][=Ring1][=Ring1][=Ring1][=Ring1][=Ring1][=Ring1][=Ring1][=Ring1][=Ring1][=Ring1][=Ring1][=Ring1][=Ring2][=Ring2][=Ring2][=Ring1][=Ring1][=Ring1][end][end][end][nop][nop][nop][nop][nop][nop][nop][nop][nop][nop][nop][nop][nop][nop][nop][nop][nop][nop][nop][nop][nop][nop][nop][nop][nop][nop][nop][nop][nop][nop][nop][nop][nop][nop][nop][nop][nop][nop][nop][nop][nop][nop][nop][nop][nop][nop][nop][nop][nop][nop][nop][nop][nop][nop][nop][nop][nop][nop][nop][nop][nop][nop][nop]\n",
      "------------------\n",
      "Original: [C][C][C][C][C][C][=Branch1][C][=O][N][C][C][C][N][C][C][C][C@H1][Ring1][Branch1][C][C][=Branch1][C][=O][O][end][nop][nop][nop][nop][nop][nop][nop][nop][nop][nop][nop][nop][nop][nop][nop][nop][nop][nop][nop][nop][nop][nop][nop][nop][nop][nop][nop][nop][nop][nop][nop][nop][nop][nop][nop][nop][nop][nop][nop][nop][nop][nop][nop][nop][nop][nop][nop][nop][nop][nop][nop][nop][nop][nop][nop][nop][nop][nop][nop][nop][nop][nop][nop][nop][nop][nop][nop][nop][nop][nop][nop][nop][nop][nop][nop][nop][nop][nop][nop][nop][nop][nop][nop][nop][nop][nop] \n",
      "\n",
      "Decoded:  [=N+1][=N+1][=N+1][/N][=O][/N][#N][/N][=N+1][/N][/N][=Ring2][=Ring2][=Ring1][/N][=Ring1][=Ring1][=Ring1][=Ring1][=Ring1][=Ring1][=Ring1][/O][/O][=Ring2][=Ring2][=Ring2][=Ring2][=Ring2][=Ring2][=Ring2][=Ring2][=Ring2][=Ring2][=Ring2][=Ring2][=Ring2][=Ring2][=Ring2][=Ring2][=Ring2][=Ring2][=Ring2][=Ring2][=Ring2][=Ring2][=Ring2][=Ring2][=Ring2][=Ring2][=Ring2][end][end][end][nop][nop][nop][nop][nop][nop][nop][nop][nop][nop][nop][nop][nop][nop][nop][nop][nop][nop][nop][nop][nop][nop][nop][nop][nop][nop][nop][nop][nop][nop][nop][nop][nop][nop][nop][nop][nop][nop][nop][nop][nop][nop][nop][nop][nop][nop][nop][nop][nop][nop][nop][nop][nop][nop][nop][nop][nop][nop][nop]\n",
      "------------------\n",
      "Original: [C][/C][=Branch1][P][=N][\\C][C][/N][=C][Branch1][C][\\C][C][=C][C][=C][C][=C][Ring1][=Branch1][C][=C][C][=C][C][=C][Ring1][=Branch1][end][nop][nop][nop][nop][nop][nop][nop][nop][nop][nop][nop][nop][nop][nop][nop][nop][nop][nop][nop][nop][nop][nop][nop][nop][nop][nop][nop][nop][nop][nop][nop][nop][nop][nop][nop][nop][nop][nop][nop][nop][nop][nop][nop][nop][nop][nop][nop][nop][nop][nop][nop][nop][nop][nop][nop][nop][nop][nop][nop][nop][nop][nop][nop][nop][nop][nop][nop][nop][nop][nop][nop][nop][nop][nop][nop][nop][nop][nop][nop][nop][nop][nop][nop][nop] \n",
      "\n",
      "Decoded:  [I][=N+1][Branch2][/N][Branch2][/N][#N][/N][\\O][\\N][I][I][\\O][/N][#N][#N][/N][\\C][\\C][#N][=S][#N][#N][\\N][\\N][#N][#N][#N][#N][#N][#N][#N][#N][#N][#N][#N][=Ring2][Branch2][#N][#N][end][nop][nop][nop][nop][nop][nop][nop][nop][nop][nop][nop][nop][nop][nop][nop][nop][nop][nop][nop][nop][nop][nop][nop][nop][nop][nop][nop][nop][nop][nop][nop][nop][nop][nop][nop][nop][nop][nop][nop][nop][nop][nop][nop][nop][nop][nop][nop][nop][nop][nop][nop][nop][nop][nop][nop][nop][nop][nop][nop][nop][nop][nop][nop][nop][nop][nop][nop][nop][nop][nop][nop][nop]\n",
      "------------------\n",
      "Original: [O][=C][Branch1][C][O][C][=C][C][Branch1][C][F][=C][C][Branch2][Ring1][Branch1][C][C][=C][C][Branch1][C][F][=C][C][Branch1][=Branch1][C][=Branch1][C][=O][O][=C][Ring1][#Branch2][O][=C][Ring2][Ring1][Ring1][O][end][nop][nop][nop][nop][nop][nop][nop][nop][nop][nop][nop][nop][nop][nop][nop][nop][nop][nop][nop][nop][nop][nop][nop][nop][nop][nop][nop][nop][nop][nop][nop][nop][nop][nop][nop][nop][nop][nop][nop][nop][nop][nop][nop][nop][nop][nop][nop][nop][nop][nop][nop][nop][nop][nop][nop][nop][nop][nop][nop][nop][nop][nop][nop][nop][nop][nop][nop][nop][nop][nop][nop] \n",
      "\n",
      "Decoded:  [=N+1][=N+1][/N][/N][=O][/N][\\N][/N][/N][\\N][/N][/O][\\O][=Ring2][\\O][\\O][/N][\\O][\\O][\\N][\\O][\\O][#Branch2][=Ring1][=Ring1][=Ring2][=Ring2][=Ring1][=Ring2][=Ring2][=Ring2][=Ring2][=Ring2][=Ring2][=Ring2][=Ring2][=Ring2][=Ring2][=Ring2][=Ring2][end][end][nop][nop][nop][nop][nop][nop][nop][nop][nop][nop][nop][nop][nop][nop][nop][nop][nop][nop][nop][nop][nop][nop][nop][nop][nop][nop][nop][nop][nop][nop][nop][nop][nop][nop][nop][nop][nop][nop][nop][nop][nop][nop][nop][nop][nop][nop][nop][nop][nop][nop][nop][nop][nop][nop][nop][nop][nop][nop][nop][nop][nop][nop][nop][nop][nop][nop][nop][nop][nop][nop][nop]\n",
      "------------------\n",
      "Original: [C][C][=N][C][=C][Branch1][=Branch1][N+1][=Branch1][C][=O][O-1][N][Ring1][Branch2][C][C][N][C][=C][Branch1][O][C][N][C][=C][C][=C][C][=C][Ring1][=Branch1][N][=N][Ring1][=N][end][nop][nop][nop][nop][nop][nop][nop][nop][nop][nop][nop][nop][nop][nop][nop][nop][nop][nop][nop][nop][nop][nop][nop][nop][nop][nop][nop][nop][nop][nop][nop][nop][nop][nop][nop][nop][nop][nop][nop][nop][nop][nop][nop][nop][nop][nop][nop][nop][nop][nop][nop][nop][nop][nop][nop][nop][nop][nop][nop][nop][nop][nop][nop][nop][nop][nop][nop][nop][nop][nop][nop][nop][nop][nop][nop][nop] \n",
      "\n",
      "Decoded:  [=N+1][=N+1][/N][\\C][#Branch1][/N][/N][/N][=N+1][=S][/N][/N][#Branch1][#Branch1][/N][#Branch1][/N][/N][N+1][#Branch1][=Ring2][/N][/N][/N][=Ring2][=Ring2][#N][\\N][=Ring2][\\N][#N][#N][#N][=Ring2][=Ring2][=Ring2][=Ring2][=Ring2][=Ring2][=Ring2][=Ring2][=Ring2][=Ring2][end][end][end][nop][nop][nop][nop][nop][nop][nop][nop][nop][nop][nop][nop][nop][nop][nop][nop][nop][nop][nop][nop][nop][nop][nop][nop][nop][nop][nop][nop][nop][nop][nop][nop][nop][nop][nop][nop][nop][nop][nop][nop][nop][nop][nop][nop][nop][nop][nop][nop][nop][nop][nop][nop][nop][nop][nop][nop][nop][nop][nop][nop][nop][nop][nop][nop][nop][nop][nop]\n",
      "------------------\n",
      "Original: [C][C][N][Branch1][=Branch1][C][Branch1][C][C][=O][C][C][C][N][Branch2][Ring2][Ring1][C][C][C@@H1][Branch2][Ring1][Branch1][C][N][Branch1][C][C][S][=Branch1][C][=O][=Branch1][C][=O][C][=C][C][=C][C][=C][Ring1][=Branch1][C][=C][C][=C][C][=C][Ring1][=Branch1][C][C][Ring2][Ring1][O][end][nop][nop][nop][nop][nop][nop][nop][nop][nop][nop][nop][nop][nop][nop][nop][nop][nop][nop][nop][nop][nop][nop][nop][nop][nop][nop][nop][nop][nop][nop][nop][nop][nop][nop][nop][nop][nop][nop][nop][nop][nop][nop][nop][nop][nop][nop][nop][nop][nop][nop][nop][nop][nop][nop][nop][nop] \n",
      "\n",
      "Decoded:  [Cl][O][=S][=Branch1][Branch2][=N+1][=N+1][=N+1][=N+1][=N+1][\\C][=Ring1][=N+1][=N+1][=Ring1][=N+1][=N+1][=Ring2][=Ring1][=N+1][=Ring2][=Ring1][=N+1][=N+1][=N+1][=N+1][=Ring2][=Ring2][=Ring2][=Ring2][=Ring2][=Ring2][=Ring2][=Ring2][=Ring2][=Ring2][=Ring2][=Ring2][=Ring2][=Ring2][=Ring2][=Ring2][=Ring2][=Ring2][=Ring2][=Ring2][=Ring2][=Ring2][=Ring2][=Ring2][=Ring2][=Ring2][=Ring2][=Ring2][=Ring2][=Ring2][=Ring2][end][end][end][nop][nop][nop][nop][nop][nop][nop][nop][nop][nop][nop][nop][nop][nop][nop][nop][nop][nop][nop][nop][nop][nop][nop][nop][nop][nop][nop][nop][nop][nop][nop][nop][nop][nop][nop][nop][nop][nop][nop][nop][nop][nop][nop][nop][nop][nop][nop][nop][nop][nop][nop][nop][nop]\n",
      "------------------\n",
      "Original: [O][=C][Branch1][C][O][C][C@H1][Branch2][Ring1][=Branch2][N][C][=Branch1][C][=O][C][=C][C][=C][C][Branch1][#Branch2][C][=C][C][=C][C][=C][Ring1][=Branch1][F][=N][Ring1][=N][C][=C][C][=C][C][=C][Ring1][=Branch1][F][end][nop][nop][nop][nop][nop][nop][nop][nop][nop][nop][nop][nop][nop][nop][nop][nop][nop][nop][nop][nop][nop][nop][nop][nop][nop][nop][nop][nop][nop][nop][nop][nop][nop][nop][nop][nop][nop][nop][nop][nop][nop][nop][nop][nop][nop][nop][nop][nop][nop][nop][nop][nop][nop][nop][nop][nop][nop][nop][nop][nop][nop][nop][nop][nop][nop][nop][nop][nop][nop] \n",
      "\n",
      "Decoded:  [=N+1][=N+1][/N][#Branch2][F][#Branch1][/N][/N][#N][Branch2][/N][\\O][=Ring1][/N][/N][/N][\\C][#N][#N][#Branch1][=Ring1][=Ring2][=Ring1][=Ring1][=Ring2][=Ring2][=Ring2][=Ring2][=Ring2][=Ring2][=Ring2][=Ring2][=Ring2][=Ring2][=Ring2][=Ring2][=Ring2][end][end][P][nop][nop][nop][nop][nop][nop][nop][nop][nop][nop][nop][nop][nop][nop][nop][nop][nop][nop][nop][nop][nop][nop][nop][nop][nop][nop][nop][nop][nop][nop][nop][nop][nop][nop][nop][nop][nop][nop][nop][nop][nop][nop][nop][nop][nop][nop][nop][nop][nop][nop][nop][nop][nop][nop][nop][nop][nop][nop][nop][nop][nop][nop][nop][nop][nop][nop][nop][nop][nop][nop][nop][nop][nop]\n",
      "------------------\n",
      "Original: [O][C][Branch1][N][C][N][C][C][=C][C][=C][C][=C][Ring1][=Branch1][C][=C][C][=C][Branch1][C][Cl][C][Branch1][C][Cl][=C][Ring1][Branch2][end][nop][nop][nop][nop][nop][nop][nop][nop][nop][nop][nop][nop][nop][nop][nop][nop][nop][nop][nop][nop][nop][nop][nop][nop][nop][nop][nop][nop][nop][nop][nop][nop][nop][nop][nop][nop][nop][nop][nop][nop][nop][nop][nop][nop][nop][nop][nop][nop][nop][nop][nop][nop][nop][nop][nop][nop][nop][nop][nop][nop][nop][nop][nop][nop][nop][nop][nop][nop][nop][nop][nop][nop][nop][nop][nop][nop][nop][nop][nop][nop][nop][nop][nop] \n",
      "\n",
      "Decoded:  [O][/N][/N][=Branch1][=Ring2][=O][\\C][\\C][\\C][\\O][\\O][\\O][\\O][\\O][/N][\\O][=Ring2][\\C][=Ring1][\\O][=Ring2][\\C][\\C][=Ring2][=Ring2][=Ring2][=Ring2][=Ring2][=Ring2][=Ring2][=Ring2][=Ring2][=Ring2][=Ring2][=Ring2][=Ring2][=Ring2][=Ring2][=Ring2][=Ring2][=Ring2][=Ring2][=Ring2][=Ring2][end][end][end][end][nop][nop][nop][nop][nop][nop][nop][nop][nop][nop][nop][nop][nop][nop][nop][nop][nop][nop][nop][nop][nop][nop][nop][nop][nop][nop][nop][nop][nop][nop][nop][nop][nop][nop][nop][nop][nop][nop][nop][nop][nop][nop][nop][nop][nop][nop][nop][nop][nop][nop][nop][nop][nop][nop][nop][nop][nop][nop][nop][nop][nop][nop][nop][nop][nop]\n",
      "------------------\n",
      "Original: [C][O][C][=C][C][=C][Branch2][Ring1][Branch1][O][C][C][=C][N][Branch1][#Branch2][C][C][=C][C][=C][C][=C][Ring1][=Branch1][N][=N][Ring1][N][C][=C][Ring2][Ring1][Ring2][end][nop][nop][nop][nop][nop][nop][nop][nop][nop][nop][nop][nop][nop][nop][nop][nop][nop][nop][nop][nop][nop][nop][nop][nop][nop][nop][nop][nop][nop][nop][nop][nop][nop][nop][nop][nop][nop][nop][nop][nop][nop][nop][nop][nop][nop][nop][nop][nop][nop][nop][nop][nop][nop][nop][nop][nop][nop][nop][nop][nop][nop][nop][nop][nop][nop][nop][nop][nop][nop][nop][nop][nop][nop][nop][nop][nop][nop][nop] \n",
      "\n",
      "Decoded:  [Cl][=N+1][/N][\\O][=Ring2][=O][#Branch1][=O][=N+1][\\O][\\O][\\O][\\O][\\O][\\O][#N][\\O][#N][=Ring1][#N][#N][#N][=Ring1][=Ring1][=Ring1][\\O][=Ring1][\\O][=Ring2][\\O][=Ring1][=Ring2][=Ring2][=Ring2][=Ring2][=Ring2][=Ring2][=Ring2][=Ring2][=Ring2][=Ring2][end][#N][end][end][nop][nop][nop][nop][nop][nop][nop][nop][nop][nop][nop][nop][nop][nop][nop][nop][nop][nop][nop][nop][nop][nop][nop][nop][nop][nop][nop][nop][nop][nop][nop][nop][nop][nop][nop][nop][nop][nop][nop][nop][nop][nop][nop][nop][nop][nop][nop][nop][nop][nop][nop][nop][nop][nop][nop][nop][nop][nop][nop][nop][nop][nop][nop][nop][nop][nop][nop][nop]\n",
      "------------------\n",
      "Original: [O][=C][Branch1][#Branch2][C][C][=C][C][=C][C][=C][Ring1][=Branch1][N][C][C][=Branch1][C][=O][N][C][C][C][=Branch2][Ring1][=Branch2][=C][C][=C][C][=C][Branch1][C][Cl][C][=C][Ring1][#Branch1][C][C][C][=C][C][=C][N][=C][Ring1][=Branch1][Ring1][S][C][C][Ring2][Ring1][=Branch1][end][nop][nop][nop][nop][nop][nop][nop][nop][nop][nop][nop][nop][nop][nop][nop][nop][nop][nop][nop][nop][nop][nop][nop][nop][nop][nop][nop][nop][nop][nop][nop][nop][nop][nop][nop][nop][nop][nop][nop][nop][nop][nop][nop][nop][nop][nop][nop][nop][nop][nop][nop][nop][nop][nop][nop][nop][nop] \n",
      "\n",
      "Decoded:  [Branch1][C@][Branch1][Branch1][Branch1][Branch1][Branch1][Branch1][Branch1][Branch1][Branch1][Branch1][Branch1][Branch1][Branch1][Branch1][Branch1][Branch1][Branch1][Branch1][Branch1][Branch1][Branch1][Branch1][Branch1][Branch1][Branch1][Branch1][Branch1][Branch1][Branch1][Branch1][Branch1][Branch1][Branch1][Branch1][Branch1][Branch1][Branch1][Branch1][Branch1][Branch1][Branch1][Branch1][Branch1][Branch1][Branch1][Branch1][Branch1][Branch1][Branch1][Branch1][Branch1][Branch1][Branch1][Branch1][Branch1][Branch1][Branch1][Branch1][Branch1][Branch1][Branch1][Branch1][Branch1][Branch1][Branch1][Branch1][Branch1][Branch1][Branch1][Branch1][Branch1][Branch1][Branch1][Branch1][Branch1][Branch1][Branch1][Branch1][Branch1][Branch1][Branch1][Branch1][Branch1][Branch1][Branch1][Branch1][Branch1][Branch1][Branch1][Branch1][Branch1][Branch1][Branch1][Branch1][Branch1][Branch1][Branch1][Branch1][Branch1][Branch1][Branch1][Branch1][Branch1][Branch1][Branch1][Branch1][Branch1][Branch1][Branch1][Branch1][Branch1]\n",
      "------------------\n",
      "Original: [C][O][C][=C][C][Branch2][Ring1][S][C][=N][C][Branch1][N][C][=C][C][=N][C][Branch1][C][C][=C][Ring1][#Branch1][=C][N][Ring1][N][C][C@@H1][Branch1][Ring1][C][F][O][C][C][Ring1][=Branch2][=C][C][=C][Ring2][Ring1][=Branch2][C][Branch1][C][F][F][end][nop][nop][nop][nop][nop][nop][nop][nop][nop][nop][nop][nop][nop][nop][nop][nop][nop][nop][nop][nop][nop][nop][nop][nop][nop][nop][nop][nop][nop][nop][nop][nop][nop][nop][nop][nop][nop][nop][nop][nop][nop][nop][nop][nop][nop][nop][nop][nop][nop][nop][nop][nop][nop][nop][nop][nop][nop][nop][nop][nop][nop][nop] \n",
      "\n",
      "Decoded:  [Br][#C][C@@H1][\\O][=Ring2][=O][#Branch1][=Ring1][=Ring1][\\O][\\O][\\O][\\O][\\O][=Ring1][#N][\\O][=Ring1][=Ring1][\\C][=Ring1][=Ring1][=Ring1][=Ring1][/O][=Ring2][=Ring2][=Ring1][=Ring2][=Ring2][=Ring1][=Ring1][=Ring2][=Ring2][=Ring2][=Ring2][=Ring2][=Ring2][=Ring2][=Ring2][=Ring2][=Ring2][end][end][end][end][end][end][end][end][end][end][end][end][end][end][end][end][end][end][end][end][end][end][end][end][end][end][end][end][end][end][end][end][end][end][end][end][end][end][end][end][end][end][end][end][end][end][end][end][end][end][end][end][end][end][end][end][end][end][end][end][end][end][end][end][end][end][end][end][end][end][end]\n",
      "------------------\n",
      "Original: [C][O][C][=C][C][Branch1][O][O][C][=Branch1][C][=O][N][Branch1][C][C][C][=C][C][O][C][=Branch1][C][=O][C][Branch1][#Branch2][C][C][=C][C][=C][C][=C][Ring1][=Branch1][=C][Branch1][C][C][C][Ring2][Ring1][=Branch2][=Ring1][#C][end][nop][nop][nop][nop][nop][nop][nop][nop][nop][nop][nop][nop][nop][nop][nop][nop][nop][nop][nop][nop][nop][nop][nop][nop][nop][nop][nop][nop][nop][nop][nop][nop][nop][nop][nop][nop][nop][nop][nop][nop][nop][nop][nop][nop][nop][nop][nop][nop][nop][nop][nop][nop][nop][nop][nop][nop][nop][nop][nop][nop][nop][nop][nop][nop][nop][nop] \n",
      "\n",
      "Decoded:  [=N+1][=N+1][/O][\\C][=O][/N][\\C][\\C][=N+1][\\O][\\O][\\O][\\O][=N+1][\\O][=Ring1][=N+1][\\O][=Ring1][\\N][=N+1][=N+1][=Ring1][#N][C@][/O][#N][#N][=N+1][=N+1][=N+1][=N+1][=N+1][=N+1][=N+1][=N+1][=N+1][=Ring2][=Ring2][=N+1][=Ring2][=Ring2][=Ring1][=Ring1][end][end][nop][nop][nop][nop][nop][nop][nop][nop][nop][nop][nop][nop][nop][nop][nop][nop][nop][nop][nop][nop][nop][nop][nop][nop][nop][nop][nop][nop][nop][nop][nop][nop][nop][nop][nop][nop][nop][nop][nop][nop][nop][nop][nop][nop][nop][nop][nop][nop][nop][nop][nop][nop][nop][nop][nop][nop][nop][nop][nop][nop][nop][nop][nop][nop][nop][nop][nop]\n",
      "------------------\n",
      "Original: [N][C@H1][C][C][C@H1][Branch2][Ring2][Branch2][N][C][=N][C][=C][N][C][Branch2][Ring1][Branch1][C][=C][C][=C][C][Branch1][O][N][C][C][=C][C][=C][C][=C][Ring1][=Branch1][=N][Ring1][=C][=C][N][=C][Ring2][Ring1][#Branch1][Ring2][Ring1][Ring1][C][C][Ring2][Ring1][=C][end][nop][nop][nop][nop][nop][nop][nop][nop][nop][nop][nop][nop][nop][nop][nop][nop][nop][nop][nop][nop][nop][nop][nop][nop][nop][nop][nop][nop][nop][nop][nop][nop][nop][nop][nop][nop][nop][nop][nop][nop][nop][nop][nop][nop][nop][nop][nop][nop][nop][nop][nop][nop][nop][nop][nop][nop][nop][nop][nop][nop] \n",
      "\n",
      "Decoded:  [F][O][C@][Branch1][Branch1][NH1][NH1][Branch1][=N+1][=N+1][\\O][#N][=S][\\O][\\O][\\O][=N+1][\\O][=S][=Ring1][=N+1][/O][=N+1][=N+1][=N+1][=N+1][=N+1][=N+1][=N+1][=N+1][=N+1][=N+1][#N][=N+1][#N][#N][=N+1][=N+1][=Ring2][=Ring2][=Ring1][=O][#N][#N][#N][nop][nop][nop][nop][nop][nop][nop][nop][nop][nop][nop][nop][nop][nop][nop][nop][nop][nop][nop][nop][nop][nop][nop][nop][nop][nop][nop][nop][nop][nop][nop][nop][nop][nop][nop][nop][nop][nop][nop][nop][nop][nop][nop][nop][nop][nop][nop][nop][nop][nop][nop][nop][nop][nop][nop][nop][nop][nop][nop][nop][nop][nop][nop][nop][nop][nop][nop][nop]\n",
      "------------------\n",
      "Original: [C][O][C][=C][C][=C][Branch2][Ring1][Ring2][C][=Branch1][=Branch1][=C][Branch1][C][Cl][Cl][C][=C][C][=C][Branch1][C][O][C][=C][Ring1][#Branch1][C][=C][Ring1][P][end][nop][nop][nop][nop][nop][nop][nop][nop][nop][nop][nop][nop][nop][nop][nop][nop][nop][nop][nop][nop][nop][nop][nop][nop][nop][nop][nop][nop][nop][nop][nop][nop][nop][nop][nop][nop][nop][nop][nop][nop][nop][nop][nop][nop][nop][nop][nop][nop][nop][nop][nop][nop][nop][nop][nop][nop][nop][nop][nop][nop][nop][nop][nop][nop][nop][nop][nop][nop][nop][nop][nop][nop][nop][nop][nop][nop][nop][nop][nop][nop] \n",
      "\n",
      "Decoded:  [F][O][C@][Branch1][Branch1][=O][Branch2][Branch2][=N+1][=N+1][\\O][#N][=S][/O][#N][#N][/O][=S][=Ring1][=Ring1][/O][=N+1][=N+1][=N+1][=N+1][=N+1][=N+1][=N+1][=N+1][=N+1][#N][#N][=Ring1][=Ring1][=Ring1][#N][=Ring2][=Ring2][=Ring1][=Ring1][end][end][nop][nop][nop][nop][nop][nop][nop][nop][nop][nop][nop][nop][nop][nop][nop][nop][nop][nop][nop][nop][nop][nop][nop][nop][nop][nop][nop][nop][nop][nop][nop][nop][nop][nop][nop][nop][nop][nop][nop][nop][nop][nop][nop][nop][nop][nop][nop][nop][nop][nop][nop][nop][nop][nop][nop][nop][nop][nop][nop][nop][nop][nop][nop][nop][nop][nop][nop][nop][nop][nop][nop]\n",
      "------------------\n",
      "Original: [O][=C][Branch1][C][O][C][C][=C][N][Branch2][Ring2][C][C][=C][N][=C][C][Branch2][Ring1][=Branch1][N][C][=C][Branch1][#Branch1][C][C][=Branch1][C][=O][O][C][=C][C][=C][C][=C][Ring1][=Branch1][Ring1][=N][=N][Ring2][Ring1][Ring1][C][=C][C][=C][C][=C][Ring2][Ring1][N][Ring1][=Branch1][end][nop][nop][nop][nop][nop][nop][nop][nop][nop][nop][nop][nop][nop][nop][nop][nop][nop][nop][nop][nop][nop][nop][nop][nop][nop][nop][nop][nop][nop][nop][nop][nop][nop][nop][nop][nop][nop][nop][nop][nop][nop][nop][nop][nop][nop][nop][nop][nop][nop][nop][nop][nop][nop][nop][nop][nop] \n",
      "\n",
      "Decoded:  [=N+1][=N+1][=N+1][/O][=O][=N+1][=N+1][=N+1][=N+1][/N][=Ring1][=Ring1][=Ring2][=Ring1][=Ring2][=Ring1][=Ring1][=Ring1][=Ring1][=Ring1][=Ring1][=Ring1][=Ring1][=Ring1][=Ring1][=Ring2][=Ring2][=Ring2][=Ring2][=Ring2][=Ring2][=Ring2][=Ring2][=Ring2][=Ring2][=Ring2][=Ring2][=Ring2][=Ring2][=Ring2][=Ring2][=Ring2][=Ring2][=Ring2][=Ring2][=Ring2][=Ring2][=Ring2][=Ring2][=Ring2][=Ring2][end][end][end][nop][nop][nop][nop][nop][nop][nop][nop][nop][nop][nop][nop][nop][nop][nop][nop][nop][nop][nop][nop][nop][nop][nop][nop][nop][nop][nop][nop][nop][nop][nop][nop][nop][nop][nop][nop][nop][nop][nop][nop][nop][nop][nop][nop][nop][nop][nop][nop][nop][nop][nop][nop][nop][nop][nop][nop][nop][nop][nop]\n",
      "------------------\n",
      "Original: [C][S][=Branch1][C][=O][=Branch1][C][=O][O][C][C][Branch1][=Branch2][C][=C][C][=C][C][=C][Ring1][=Branch1][=C][Branch1][=Branch2][C][=C][C][=C][C][=C][Ring1][=Branch1][N][C][=C][C][Branch1][Ring1][C][#N][=C][C][=Ring2][Ring1][#Branch1][Ring1][Branch2][end][nop][nop][nop][nop][nop][nop][nop][nop][nop][nop][nop][nop][nop][nop][nop][nop][nop][nop][nop][nop][nop][nop][nop][nop][nop][nop][nop][nop][nop][nop][nop][nop][nop][nop][nop][nop][nop][nop][nop][nop][nop][nop][nop][nop][nop][nop][nop][nop][nop][nop][nop][nop][nop][nop][nop][nop][nop][nop][nop][nop][nop][nop][nop][nop][nop] \n",
      "\n",
      "Decoded:  [O][O][=S][NH1][Branch2][=N+1][=N+1][=N+1][=N+1][=N+1][=Ring1][\\C][=N+1][=N+1][=N+1][=Ring1][=N+1][=N+1][=Ring1][=N+1][=N+1][=N+1][=N+1][=N+1][=N+1][=N+1][=N+1][=N+1][=N+1][=Ring2][=Ring2][=Ring2][=Ring2][=Ring2][=Ring2][=Ring2][=Ring2][=Ring2][=Ring2][=Ring2][=Ring2][=Ring2][=Ring2][=Ring2][=Ring2][=Ring2][=Ring2][=Ring2][=Ring2][=Ring2][=Ring2][=Ring2][=Ring2][=Ring2][=Ring2][=Ring2][=Ring2][end][end][end][nop][nop][nop][nop][nop][nop][nop][nop][nop][nop][nop][nop][nop][nop][nop][nop][nop][nop][nop][nop][nop][nop][nop][nop][nop][nop][nop][nop][nop][nop][nop][nop][nop][nop][nop][nop][nop][nop][nop][nop][nop][nop][nop][nop][nop][nop][nop][nop][nop][nop][nop][nop][nop]\n",
      "------------------\n",
      "Original: [C][O][C][=C][C][=C][Branch2][Ring1][Ring1][S][=Branch1][C][=O][=Branch1][C][=O][C][C][Branch1][C][C][=N][O][N+1][=Ring1][=Branch1][O-1][C][=C][Ring1][S][end][nop][nop][nop][nop][nop][nop][nop][nop][nop][nop][nop][nop][nop][nop][nop][nop][nop][nop][nop][nop][nop][nop][nop][nop][nop][nop][nop][nop][nop][nop][nop][nop][nop][nop][nop][nop][nop][nop][nop][nop][nop][nop][nop][nop][nop][nop][nop][nop][nop][nop][nop][nop][nop][nop][nop][nop][nop][nop][nop][nop][nop][nop][nop][nop][nop][nop][nop][nop][nop][nop][nop][nop][nop][nop][nop][nop][nop][nop][nop][nop][nop] \n",
      "\n",
      "Decoded:  [O][=N+1][/N][/N][=S][=S][#N][/N][/N][#N][#N][/N][/N][/N][/N][/N][/N][/N][#N][/N][#N][#N][#N][#N][/N][/N][#N][/N][=Ring2][=Ring2][=Ring2][=Ring2][=Ring2][=Ring2][\\O][\\O][#N][#N][#N][#N][#N][#N][=Ring2][=Ring2][=Ring2][=Ring2][#N][#N][#N][end][#N][#N][#N][#N][#N][#N][#N][#N][#N][#N][nop][nop][nop][nop][nop][nop][nop][nop][nop][nop][nop][nop][nop][nop][nop][nop][nop][nop][nop][nop][nop][nop][nop][nop][nop][nop][nop][nop][nop][nop][nop][nop][nop][nop][nop][nop][nop][nop][nop][nop][nop][nop][nop][nop][nop][nop][nop][nop][nop][nop][nop][nop][nop]\n",
      "------------------\n",
      "Original: [C][C][N][Branch1][Ring1][C][C][S][=Branch1][C][=O][=Branch1][C][=O][C][=C][C][=C][C][=Branch1][Ring2][=C][Ring1][=Branch1][N][Branch1][=N][C][C][=Branch1][C][=O][N][C][C][C][C][Ring1][Branch1][C][=Branch1][C][=O][C][O][Ring1][S][end][nop][nop][nop][nop][nop][nop][nop][nop][nop][nop][nop][nop][nop][nop][nop][nop][nop][nop][nop][nop][nop][nop][nop][nop][nop][nop][nop][nop][nop][nop][nop][nop][nop][nop][nop][nop][nop][nop][nop][nop][nop][nop][nop][nop][nop][nop][nop][nop][nop][nop][nop][nop][nop][nop][nop][nop][nop][nop][nop][nop][nop][nop][nop][nop][nop] \n",
      "\n",
      "Decoded:  [=N+1][=N+1][=S][Branch1][=O][=S][=S][=S][#N][=S][Branch1][=S][=N+1][=N+1][=S][=N+1][=N+1][=N+1][=N+1][=N+1][=N+1][=N+1][=N+1][=N+1][=S][=N+1][=N+1][=S][#N][#N][=N+1][=N+1][#N][#N][#N][#N][=N+1][=Ring2][=N+1][=S][=Ring2][=Ring2][=Ring2][=Ring2][=Ring2][=Ring2][=Ring2][=Ring2][#N][#N][#N][end][nop][nop][nop][nop][nop][nop][nop][nop][nop][nop][nop][nop][nop][nop][nop][nop][nop][nop][nop][nop][nop][nop][nop][nop][nop][nop][nop][nop][nop][nop][nop][nop][nop][nop][nop][nop][nop][nop][nop][nop][nop][nop][nop][nop][nop][nop][nop][nop][nop][nop][nop][nop][nop][nop][nop][nop][nop][nop][nop][nop][nop]\n",
      "------------------\n",
      "Original: [C][C][Branch1][C][C][Branch1][C][C][O][C][=Branch1][C][=O][C][C][=N][N][=C][Branch1][=C][C][=C][C][=C][C][=C][C][=C][Ring1][=Branch1][NH1][Ring1][=Branch2][S][Ring1][=C][end][nop][nop][nop][nop][nop][nop][nop][nop][nop][nop][nop][nop][nop][nop][nop][nop][nop][nop][nop][nop][nop][nop][nop][nop][nop][nop][nop][nop][nop][nop][nop][nop][nop][nop][nop][nop][nop][nop][nop][nop][nop][nop][nop][nop][nop][nop][nop][nop][nop][nop][nop][nop][nop][nop][nop][nop][nop][nop][nop][nop][nop][nop][nop][nop][nop][nop][nop][nop][nop][nop][nop][nop][nop][nop][nop][nop] \n",
      "\n",
      "Decoded:  [=N+1][=N+1][=N+1][Branch2][=N+1][=N+1][\\C][=N+1][=N+1][=O][=Ring2][=Ring2][=Ring2][=Ring2][=Ring2][=Ring2][=Ring2][=Ring2][=Ring1][=Ring2][=Ring1][=Ring2][=Ring1][=Ring2][=Ring2][=Ring2][=Ring2][=Ring2][=Ring2][=Ring2][=Ring2][=Ring2][=Ring2][=Ring2][=Ring2][=Ring2][=Ring2][=Ring2][=Ring2][=Ring2][=Ring2][=Ring2][=Ring2][=Ring2][=Ring2][=Ring2][=Ring2][=Ring2][=Ring2][=Ring2][=Ring2][=Ring2][=Ring2][=Ring2][end][end][end][nop][nop][nop][nop][nop][nop][nop][nop][nop][nop][nop][nop][nop][nop][nop][nop][nop][nop][nop][nop][nop][nop][nop][nop][nop][nop][nop][nop][nop][nop][nop][nop][nop][nop][nop][nop][nop][nop][nop][nop][nop][nop][nop][nop][nop][nop][nop][nop][nop][nop][nop][nop][nop][nop][nop][nop]\n",
      "------------------\n",
      "Original: [C][N][C][=C][C][C][Branch2][Ring2][#C][C][=Branch1][C][=O][N][C][C][C][=C][C][=C][Branch1][=C][O][C][=Branch1][C][=O][C][Branch1][C][C][Branch1][C][C][C][C][Branch1][=C][O][C][=Branch1][C][=O][C][Branch1][C][C][Branch1][C][C][C][=C][Ring2][Ring1][Ring2][=C][Ring2][Ring1][#C][end][nop][nop][nop][nop][nop][nop][nop][nop][nop][nop][nop][nop][nop][nop][nop][nop][nop][nop][nop][nop][nop][nop][nop][nop][nop][nop][nop][nop][nop][nop][nop][nop][nop][nop][nop][nop][nop][nop][nop][nop][nop][nop][nop][nop][nop][nop][nop][nop][nop][nop][nop][nop][nop] \n",
      "\n",
      "Decoded:  [=Ring2][#C][Br][C@@H1][Br][Branch2][Ring2][I][=O][C@@H1][C@@H1][=O][O-1][Br][=Ring1][#Branch2][Br][Br][=Ring1][\\C][/O][/O][/O][/O][/O][/O][/O][/O][/O][/O][/O][/O][=Ring2][=Ring2][=Ring2][=Ring2][=Ring2][=Ring2][=Ring2][=Ring2][=Ring2][=Ring2][=Ring2][end][#N][end][end][nop][nop][nop][nop][nop][nop][nop][nop][nop][nop][nop][nop][nop][nop][nop][nop][nop][nop][nop][nop][nop][nop][nop][nop][nop][nop][nop][nop][nop][nop][nop][nop][nop][nop][nop][nop][nop][nop][nop][nop][nop][nop][nop][nop][nop][nop][nop][nop][nop][nop][nop][nop][nop][nop][nop][nop][nop][nop][nop][nop][nop][nop][nop][nop][nop][nop]\n",
      "------------------\n",
      "Original: [C][N][C][=Branch1][C][=O][C][=C][C][=C][Branch2][Ring1][#C][N][C][=Branch1][C][=O][N][C@@H1][C][C@][Branch1][C][C][Branch1][Ring1][C][F][O][C][=C][C][Branch1][C][Cl][=C][C][=C][Ring1][#Branch1][Ring1][=C][C][=C][C][=C][Ring2][Ring1][Branch2][Ring2][Ring1][=N][end][nop][nop][nop][nop][nop][nop][nop][nop][nop][nop][nop][nop][nop][nop][nop][nop][nop][nop][nop][nop][nop][nop][nop][nop][nop][nop][nop][nop][nop][nop][nop][nop][nop][nop][nop][nop][nop][nop][nop][nop][nop][nop][nop][nop][nop][nop][nop][nop][nop][nop][nop][nop][nop][nop][nop][nop][nop][nop][nop] \n",
      "\n",
      "Decoded:  [=N+1][=N+1][=N+1][Branch2][\\O][\\O][\\O][\\O][\\O][\\O][\\O][\\O][\\O][/O][Branch2][\\O][\\O][\\O][\\O][\\N][=O][/O][=Ring2][\\N][\\N][#N][=Ring2][N+1][#N][=Ring2][=Ring2][=Ring2][=Ring2][=Ring2][=Ring2][=Ring2][=Ring2][=Ring2][=Ring2][end][end][nop][nop][nop][nop][nop][nop][nop][nop][nop][nop][nop][nop][nop][nop][nop][nop][nop][nop][nop][nop][nop][nop][nop][nop][nop][nop][nop][nop][nop][nop][nop][nop][nop][nop][nop][nop][nop][nop][nop][nop][nop][nop][nop][nop][nop][nop][nop][nop][nop][nop][nop][nop][nop][nop][nop][nop][nop][nop][nop][nop][nop][nop][nop][nop][nop][nop][nop][nop][nop][nop][nop][nop]\n",
      "------------------\n",
      "Original: [C][C][=N][C][Branch1][=N][C][=Branch1][C][=O][N][C][C][C][=Branch1][C][=O][O][=C][Branch1][C][O][C][C][=C][Branch1][=Branch2][C][=C][C][=C][C][=C][Ring1][=Branch1][C][=Branch1][C][=O][N][Branch1][#Branch2][C][C][=C][C][=C][C][=C][Ring1][=Branch1][C][Ring2][Ring1][P][=Ring2][Ring1][Ring2][end][nop][nop][nop][nop][nop][nop][nop][nop][nop][nop][nop][nop][nop][nop][nop][nop][nop][nop][nop][nop][nop][nop][nop][nop][nop][nop][nop][nop][nop][nop][nop][nop][nop][nop][nop][nop][nop][nop][nop][nop][nop][nop][nop][nop][nop][nop][nop][nop][nop][nop][nop][nop][nop][nop] \n",
      "\n",
      "Decoded:  [F][C@][/N][/N][=Ring2][/N][\\C][#N][/N][\\O][/N][\\O][\\O][\\O][#N][/N][/N][#N][=Ring1][/N][/N][/N][=Ring1][/N][=Ring2][=Ring2][\\N][\\O][=Ring2][#N][#N][=Ring2][=Ring2][#N][=Ring2][=Ring2][=Ring2][=Ring2][=Ring2][=Ring2][=Ring2][=Ring2][end][end][end][end][nop][nop][nop][nop][nop][nop][nop][nop][nop][nop][nop][nop][nop][nop][nop][nop][nop][nop][nop][nop][nop][nop][nop][nop][nop][nop][nop][nop][nop][nop][nop][nop][nop][nop][nop][nop][nop][nop][nop][nop][nop][nop][nop][nop][nop][nop][nop][nop][nop][nop][nop][nop][nop][nop][nop][nop][nop][nop][nop][nop][nop][nop][nop][nop][nop][nop][nop]\n",
      "------------------\n",
      "Original: [C][O][C][=C][C][=C][Branch2][Ring1][=N][N][C][=Branch1][C][=O][O][C][Branch1][S][C][C][=C][C][=C][Branch1][C][O][C][Branch1][C][Br][=C][Ring1][Branch2][C][Ring1][#C][=O][C][=C][Ring2][Ring1][=Branch1][end][nop][nop][nop][nop][nop][nop][nop][nop][nop][nop][nop][nop][nop][nop][nop][nop][nop][nop][nop][nop][nop][nop][nop][nop][nop][nop][nop][nop][nop][nop][nop][nop][nop][nop][nop][nop][nop][nop][nop][nop][nop][nop][nop][nop][nop][nop][nop][nop][nop][nop][nop][nop][nop][nop][nop][nop][nop][nop][nop][nop][nop][nop][nop][nop][nop][nop][nop][nop][nop][nop] \n",
      "\n",
      "Decoded:  [=N+1][=N+1][=N+1][/O][=O][=N+1][=Ring1][=Ring1][=N+1][=Ring1][=Ring1][=Ring1][=Ring1][=Ring1][=Ring1][=Ring1][=Ring1][=Ring1][=Ring1][=Ring1][=Ring1][=Ring1][=Ring1][=Ring1][=Ring1][=Ring1][=Ring2][=Ring1][=Ring1][=Ring2][=Ring2][=Ring2][=Ring2][=Ring2][=Ring2][=Ring2][=Ring2][=Ring2][=Ring2][=Ring2][=Ring2][=Ring2][=Ring2][=Ring2][=Ring2][=Ring2][=Ring2][=Ring2][=Ring1][=Ring1][end][end][end][end][nop][nop][nop][nop][nop][nop][nop][nop][nop][nop][nop][nop][nop][nop][nop][nop][nop][nop][nop][nop][nop][nop][nop][nop][nop][nop][nop][nop][nop][nop][nop][nop][nop][nop][nop][nop][nop][nop][nop][nop][nop][nop][nop][nop][nop][nop][nop][nop][nop][nop][nop][nop][nop][nop][nop][nop][nop][nop][nop]\n",
      "------------------\n",
      "Original: [C][C][C@H1][Branch2][Ring1][=Branch2][C][N][N][=N][C][=C][Ring1][Branch1][C][C][C][C][N][C][=C][C][=Branch1][C][=O][NH1][C][Ring1][#Branch1][=O][C][=C][C][=C][C][Branch1][Branch2][O][C][C][C][C][Ring1][Ring1][=C][Ring1][O][end][nop][nop][nop][nop][nop][nop][nop][nop][nop][nop][nop][nop][nop][nop][nop][nop][nop][nop][nop][nop][nop][nop][nop][nop][nop][nop][nop][nop][nop][nop][nop][nop][nop][nop][nop][nop][nop][nop][nop][nop][nop][nop][nop][nop][nop][nop][nop][nop][nop][nop][nop][nop][nop][nop][nop][nop][nop][nop][nop][nop][nop][nop][nop][nop][nop] \n",
      "\n",
      "Decoded:  [=N+1][=N+1][\\O][#Branch2][\\O][\\C][\\O][\\O][\\O][\\O][\\N][\\N][\\O][/O][/O][#N][\\C][=N+1][#N][#N][=Ring1][=Ring1][=Ring1][=Ring1][=Ring1][#N][=Ring2][=Ring2][=Ring2][=Ring2][=Ring2][=Ring2][=Ring2][=Ring2][#N][end][end][nop][nop][nop][nop][nop][nop][nop][nop][nop][nop][nop][nop][nop][nop][nop][nop][nop][nop][nop][nop][nop][nop][nop][nop][nop][nop][nop][nop][nop][nop][nop][nop][nop][nop][nop][nop][nop][nop][nop][nop][nop][nop][nop][nop][nop][nop][nop][nop][nop][nop][nop][nop][nop][nop][nop][nop][nop][nop][nop][nop][nop][nop][nop][nop][nop][nop][nop][nop][nop][nop][nop][nop][nop][nop][nop][nop]\n",
      "------------------\n",
      "Original: [O][=C][C][C@H1][Branch2][Ring2][P][C][=Branch1][C][=O][N][C][C][=C][Branch2][Ring1][#Branch1][C][=C][C][=C][C][Branch1][=N][O][C][C][C][C][Branch1][C][F][Branch1][C][F][F][=C][Ring1][=C][N][Branch1][=Branch2][C][=C][C][=C][C][=C][Ring1][=Branch1][N][=Ring2][Ring1][=Branch2][C][N][Ring2][Ring1][P][end][nop][nop][nop][nop][nop][nop][nop][nop][nop][nop][nop][nop][nop][nop][nop][nop][nop][nop][nop][nop][nop][nop][nop][nop][nop][nop][nop][nop][nop][nop][nop][nop][nop][nop][nop][nop][nop][nop][nop][nop][nop][nop][nop][nop][nop][nop][nop][nop][nop][nop][nop][nop] \n",
      "\n",
      "Decoded:  [=Ring2][#C][Br][Br][Br][Branch2][Ring2][I][I][\\C][=Ring1][=Ring1][O-1][=Ring1][=Ring1][=Ring1][=Ring1][=Ring1][=Ring1][=Ring1][=Ring1][=Ring1][=Ring1][/O][/O][/O][/O][/O][/O][/O][/O][/O][/O][/O][/O][=Ring2][=Ring2][=Ring2][=Ring2][=Ring2][=Ring2][=Ring2][=Ring2][=Ring2][=Ring2][=Ring2][=Ring2][end][#N][end][end][end][#N][#N][#N][#N][#N][#N][#N][#N][#N][#N][#N][#N][#N][#N][#N][#N][#N][#N][#N][#N][#N][#N][#N][#N][#N][#N][#N][#N][#N][#N][#N][#N][#N][#N][#N][#N][#N][#N][#N][#N][#N][#N][#N][#N][#N][#N][#N][#N][#N][#N][#N][#N][#N][#N][#N][#N][#N][#N][#N][#N][#N]\n",
      "------------------\n",
      "Original: [C][C][Branch1][C][C][Branch1][C][C][C][=C][C][=C][Branch1][P][C][N][C][=N][C][=N][C][=C][C][=C][C][=C][Ring1][#Branch2][Ring1][=Branch1][C][=C][Ring2][Ring1][C][end][nop][nop][nop][nop][nop][nop][nop][nop][nop][nop][nop][nop][nop][nop][nop][nop][nop][nop][nop][nop][nop][nop][nop][nop][nop][nop][nop][nop][nop][nop][nop][nop][nop][nop][nop][nop][nop][nop][nop][nop][nop][nop][nop][nop][nop][nop][nop][nop][nop][nop][nop][nop][nop][nop][nop][nop][nop][nop][nop][nop][nop][nop][nop][nop][nop][nop][nop][nop][nop][nop][nop][nop][nop][nop][nop][nop][nop] \n",
      "\n",
      "Decoded:  [=N+1][=N+1][=N+1][=N+1][=O][=N+1][=Ring1][=N+1][=N+1][=Ring1][=Ring1][=Ring1][=Ring1][=Ring1][=Ring1][=Ring1][=Ring1][=Ring1][=Ring1][=Ring1][=Ring1][=Ring1][=Ring1][=Ring1][=Ring1][=Ring1][=Ring1][=Ring1][=Ring1][=Ring1][=Ring1][=Ring1][=Ring1][=Ring1][=Ring1][=Ring2][=Ring2][=Ring2][=Ring2][=Ring2][=Ring2][=Ring2][=Ring2][=Ring2][=Ring2][=Ring2][=Ring2][=Ring2][=Ring2][=Ring2][=Ring2][=Ring2][=Ring2][=Ring2][=Ring2][=Ring1][=Ring1][end][end][end][=Ring1][nop][nop][nop][nop][nop][nop][nop][nop][nop][nop][nop][nop][nop][nop][nop][nop][nop][nop][nop][nop][nop][nop][nop][nop][nop][nop][nop][nop][nop][nop][nop][nop][nop][nop][nop][nop][nop][nop][nop][nop][nop][nop][nop][nop][nop][nop][nop][nop][nop][nop][nop][nop]\n",
      "------------------\n",
      "Original: [C][C][=Branch1][C][=O][N][C][=N][C][=C][C][=C][Branch1][#C][C][=C][N][=C][N][=C][C][=N][C][Ring1][=Branch1][=C][Ring1][#Branch2][C][=C][Ring1][S][S][Ring2][Ring1][Ring1][end][nop][nop][nop][nop][nop][nop][nop][nop][nop][nop][nop][nop][nop][nop][nop][nop][nop][nop][nop][nop][nop][nop][nop][nop][nop][nop][nop][nop][nop][nop][nop][nop][nop][nop][nop][nop][nop][nop][nop][nop][nop][nop][nop][nop][nop][nop][nop][nop][nop][nop][nop][nop][nop][nop][nop][nop][nop][nop][nop][nop][nop][nop][nop][nop][nop][nop][nop][nop][nop][nop][nop][nop][nop][nop][nop][nop] \n",
      "\n",
      "Decoded:  [O][=N+1][=S][\\O][=O][=N+1][=O][=S][=N+1][\\O][=O][/O][/O][=N+1][=N+1][=N+1][=N+1][=N+1][/O][=N+1][=N+1][/O][=O][=N+1][=N+1][=N+1][=N+1][=N+1][=N+1][=N+1][=N+1][=N+1][=Ring2][=N+1][=N+1][=N+1][=N+1][=Ring2][=Ring2][=N+1][=N+1][=Ring2][=Ring2][=Ring2][=Ring2][=O][=O][end][end][end][nop][nop][nop][nop][nop][nop][nop][nop][nop][nop][nop][nop][nop][nop][nop][nop][nop][nop][nop][nop][nop][nop][nop][nop][nop][nop][nop][nop][nop][nop][nop][nop][nop][nop][nop][nop][nop][nop][nop][nop][nop][nop][nop][nop][nop][nop][nop][nop][nop][nop][nop][nop][nop][nop][nop][nop][nop][nop][nop][nop][nop][nop][nop]\n",
      "------------------\n",
      "Original: [C][C][N][C][C][N][C][Branch1][C][O][=N][C][=C][C][=C][C][Ring1][=N][=C][Ring1][=Branch1][Ring1][#Branch2][end][nop][nop][nop][nop][nop][nop][nop][nop][nop][nop][nop][nop][nop][nop][nop][nop][nop][nop][nop][nop][nop][nop][nop][nop][nop][nop][nop][nop][nop][nop][nop][nop][nop][nop][nop][nop][nop][nop][nop][nop][nop][nop][nop][nop][nop][nop][nop][nop][nop][nop][nop][nop][nop][nop][nop][nop][nop][nop][nop][nop][nop][nop][nop][nop][nop][nop][nop][nop][nop][nop][nop][nop][nop][nop][nop][nop][nop][nop][nop][nop][nop][nop][nop][nop][nop][nop][nop][nop][nop] \n",
      "\n",
      "Decoded:  [F][C@][Branch1][Branch1][Branch1][Branch1][Branch1][Branch1][Branch1][Branch1][Branch1][Branch1][Branch1][Branch1][Branch1][Branch1][Branch1][Branch1][Branch1][Branch1][Branch1][Branch1][Branch1][Branch1][Branch1][Branch1][Branch1][Branch1][Branch1][Branch1][Branch1][Branch1][Branch1][Branch1][Branch1][Branch1][Branch1][Branch1][Branch1][Branch1][Branch1][Branch1][Branch1][Branch1][Branch1][Branch1][Branch1][Branch1][Branch1][Branch1][Branch1][Branch1][Branch1][=Ring1][Branch1][Branch1][Branch1][Branch1][Branch1][Branch1][Branch1][Branch1][Branch1][Branch1][Branch1][Branch1][Branch1][Branch1][Branch1][Branch1][Branch1][Branch1][Branch1][Branch1][Branch1][Branch1][Branch1][Branch1][Branch1][Branch1][Branch1][Branch1][Branch1][Branch1][Branch1][Branch1][Branch1][Branch1][Branch1][Branch1][Branch1][Branch1][Branch1][Branch1][Branch1][Branch1][Branch1][Branch1][Branch1][Branch1][Branch1][Branch1][Branch1][Branch1][Branch1][Branch1][Branch1][Branch1][Branch1][Branch1][Branch1][Branch1][Branch1]\n",
      "------------------\n",
      "Original: [C][C][=N][C][Branch2][Ring1][Ring2][C@@H1][C][C@H1][Ring1][Ring1][C][=N][C][=C][C][=C][C][=C][Ring1][=Branch1][N][Ring1][=Branch2][C][=C][C][Branch1][O][N][C][=N][C][Branch1][C][C][=N][Ring1][=Branch1][=N][Ring2][Ring1][=Branch2][end][nop][nop][nop][nop][nop][nop][nop][nop][nop][nop][nop][nop][nop][nop][nop][nop][nop][nop][nop][nop][nop][nop][nop][nop][nop][nop][nop][nop][nop][nop][nop][nop][nop][nop][nop][nop][nop][nop][nop][nop][nop][nop][nop][nop][nop][nop][nop][nop][nop][nop][nop][nop][nop][nop][nop][nop][nop][nop][nop][nop][nop][nop][nop][nop][nop][nop][nop][nop] \n",
      "\n",
      "Decoded:  [=N+1][=N+1][=S][\\C][=O][=S][=Ring1][=Ring1][=N+1][=N+1][=O][=Ring1][=Ring1][=Ring1][=Ring1][=Ring1][=Ring1][=Ring1][=Ring1][=N+1][=Ring1][=Ring1][=Ring1][=Ring1][=Ring1][=Ring1][=Ring1][=Ring1][=Ring1][=Ring1][=Ring1][=Ring1][=Ring1][=Ring1][=Ring1][=Ring1][=Ring1][=Ring1][=Ring1][=Ring1][=Ring1][=Ring1][=Ring1][=Ring1][=Ring1][=N+1][=Ring2][=Ring2][=Ring2][=Ring1][=Ring1][end][#N][#N][#N][nop][nop][nop][nop][nop][nop][nop][nop][nop][nop][nop][nop][nop][nop][nop][nop][nop][nop][nop][nop][nop][nop][nop][nop][nop][nop][nop][nop][nop][nop][nop][nop][nop][nop][nop][nop][nop][nop][nop][nop][nop][nop][nop][nop][nop][nop][nop][nop][nop][nop][nop][nop][nop][nop][nop][nop][nop][nop]\n",
      "------------------\n",
      "Original: [C][C][C][C][C][Branch1][Ring1][C][C][C][N][C][=Branch1][C][=O][C][=C][C][=C][C][Branch1][=N][N][N][=C][C][=Branch1][C][=O][NH1][C][Ring1][#Branch1][=O][=C][Ring1][=C][end][nop][nop][nop][nop][nop][nop][nop][nop][nop][nop][nop][nop][nop][nop][nop][nop][nop][nop][nop][nop][nop][nop][nop][nop][nop][nop][nop][nop][nop][nop][nop][nop][nop][nop][nop][nop][nop][nop][nop][nop][nop][nop][nop][nop][nop][nop][nop][nop][nop][nop][nop][nop][nop][nop][nop][nop][nop][nop][nop][nop][nop][nop][nop][nop][nop][nop][nop][nop][nop][nop][nop][nop][nop][nop][nop] \n",
      "\n",
      "Decoded:  [=N+1][=N+1][=N+1][=N+1][=N+1][=N+1][\\C][=N+1][=N+1][=N+1][=Ring1][=Ring1][=N+1][=Ring1][=Ring1][=Ring1][=Ring2][=N+1][=Ring2][=Ring2][=Ring2][=Ring2][=Ring2][=Ring1][=Ring1][=Ring1][=Ring1][=Ring1][=Ring2][=Ring2][=Ring2][=Ring2][=Ring2][=Ring2][=Ring2][=Ring2][=Ring2][=Ring2][=Ring2][=Ring2][=Ring2][=Ring2][=Ring2][=Ring2][=Ring2][=Ring2][=Ring2][=Ring2][=Ring2][=Ring2][=Ring2][=Ring2][=Ring2][=Ring2][=Ring2][=Ring2][=Ring2][=Ring2][end][end][end][nop][nop][nop][nop][nop][nop][nop][nop][nop][nop][nop][nop][nop][nop][nop][nop][nop][nop][nop][nop][nop][nop][nop][nop][nop][nop][nop][nop][nop][nop][nop][nop][nop][nop][nop][nop][nop][nop][nop][nop][nop][nop][nop][nop][nop][nop][nop][nop][nop][nop][nop][nop]\n",
      "------------------\n",
      "Original: [C][C][C][=Branch1][C][=O][N][Branch1][C][C][C][=C][C][=C][Branch1][=C][C][=Branch1][C][=O][N][C][=C][C][=C][C][=C][Ring1][=Branch1][C][=C][Ring1][#C][N][Ring2][Ring1][Branch1][C][C][C][Ring1][Ring1][end][nop][nop][nop][nop][nop][nop][nop][nop][nop][nop][nop][nop][nop][nop][nop][nop][nop][nop][nop][nop][nop][nop][nop][nop][nop][nop][nop][nop][nop][nop][nop][nop][nop][nop][nop][nop][nop][nop][nop][nop][nop][nop][nop][nop][nop][nop][nop][nop][nop][nop][nop][nop][nop][nop][nop][nop][nop][nop][nop][nop][nop][nop][nop][nop][nop][nop][nop][nop][nop][nop] \n",
      "\n",
      "Decoded:  [=N+1][=N+1][=S][Branch1][=O][=S][=S][=S][#N][=S][Branch1][=S][=N+1][=N+1][=S][=N+1][=N+1][=N+1][=N+1][=N+1][=N+1][=N+1][=N+1][=N+1][=S][=N+1][=N+1][=S][#N][#N][=N+1][=N+1][#N][#N][#N][#N][=N+1][=Ring2][=N+1][=S][=Ring2][=Ring2][=Ring2][=Ring2][=Ring2][=Ring2][=Ring2][=Ring2][#N][#N][#N][end][nop][nop][nop][nop][nop][nop][nop][nop][nop][nop][nop][nop][nop][nop][nop][nop][nop][nop][nop][nop][nop][nop][nop][nop][nop][nop][nop][nop][nop][nop][nop][nop][nop][nop][nop][nop][nop][nop][nop][nop][nop][nop][nop][nop][nop][nop][nop][nop][nop][nop][nop][nop][nop][nop][nop][nop][nop][nop][nop][nop][nop]\n",
      "------------------\n",
      "Original: [C][C][N][C][=C][C][Branch1][Branch2][C][C][=N][NH1][C][=Ring1][Branch1][=C][C][=C][Ring1][O][C][=Branch1][C][=O][N][C][Ring1][S][Branch1][C][C][C][end][nop][nop][nop][nop][nop][nop][nop][nop][nop][nop][nop][nop][nop][nop][nop][nop][nop][nop][nop][nop][nop][nop][nop][nop][nop][nop][nop][nop][nop][nop][nop][nop][nop][nop][nop][nop][nop][nop][nop][nop][nop][nop][nop][nop][nop][nop][nop][nop][nop][nop][nop][nop][nop][nop][nop][nop][nop][nop][nop][nop][nop][nop][nop][nop][nop][nop][nop][nop][nop][nop][nop][nop][nop][nop][nop][nop][nop][nop][nop][nop] \n",
      "\n",
      "Decoded:  [=N+1][=N+1][C@][\\O][C@][C@][\\O][\\O][=N+1][\\O][\\O][\\O][\\O][\\O][\\O][\\O][\\O][\\O][\\O][\\O][/O][=N+1][/O][=N+1][=N+1][=N+1][=N+1][=N+1][=N+1][=N+1][=N+1][=N+1][=N+1][=N+1][=N+1][=Ring1][=Ring1][=Ring1][=Ring1][=Ring2][=Ring1][=Ring1][=Ring1][end][end][nop][nop][nop][nop][nop][nop][nop][nop][nop][nop][nop][nop][nop][nop][nop][nop][nop][nop][nop][nop][nop][nop][nop][nop][nop][nop][nop][nop][nop][nop][nop][nop][nop][nop][nop][nop][nop][nop][nop][nop][nop][nop][nop][nop][nop][nop][nop][nop][nop][nop][nop][nop][nop][nop][nop][nop][nop][nop][nop][nop][nop][nop][nop][nop][nop][nop][nop][nop]\n",
      "------------------\n",
      "Original: [C][O][C@H1][O][C@][Branch1][C][C][C][C][C@H1][C][C][C][C@@H1][Branch1][Ring2][C][C][O][C][Ring1][=Branch2][Ring1][#C][O][O][Ring1][#C][end][nop][nop][nop][nop][nop][nop][nop][nop][nop][nop][nop][nop][nop][nop][nop][nop][nop][nop][nop][nop][nop][nop][nop][nop][nop][nop][nop][nop][nop][nop][nop][nop][nop][nop][nop][nop][nop][nop][nop][nop][nop][nop][nop][nop][nop][nop][nop][nop][nop][nop][nop][nop][nop][nop][nop][nop][nop][nop][nop][nop][nop][nop][nop][nop][nop][nop][nop][nop][nop][nop][nop][nop][nop][nop][nop][nop][nop][nop][nop][nop][nop][nop][nop] \n",
      "\n",
      "Decoded:  [=N+1][=N+1][=Ring2][=Ring2][=N+1][=Ring2][\\C][=N+1][=N+1][=Ring2][=Ring2][=Ring2][=Ring2][=Ring2][=Ring2][=Ring2][=Ring2][=Ring2][=Ring2][=Ring2][=Ring2][=Ring2][=Ring2][=Ring2][=Ring2][=Ring2][=Ring2][=Ring2][=Ring2][=Ring2][=Ring2][=Ring2][=Ring2][=Ring2][=Ring2][=Ring2][=Ring2][=Ring2][=Ring2][=Ring2][=Ring2][=Ring2][=Ring2][=Ring2][=Ring2][=Ring2][=Ring2][=Ring2][=Ring2][=Ring2][=Ring2][=Ring2][=Ring2][=Ring2][=Ring2][=Ring2][end][end][end][end][end][nop][nop][nop][nop][nop][nop][nop][nop][nop][nop][nop][nop][nop][nop][nop][nop][nop][nop][nop][nop][nop][nop][nop][nop][nop][nop][nop][nop][nop][nop][nop][nop][nop][nop][nop][nop][nop][nop][nop][nop][nop][nop][nop][nop][nop][nop][nop][nop][nop][nop][nop][nop]\n",
      "------------------\n",
      "Original: [O][=C][Branch2][Ring2][C][N][C][=C][C][=C][Branch2][Ring1][Branch1][C][=Branch1][C][=O][N][C][C][C][Branch1][#Branch1][C][C][C][N][Ring1][Branch1][C][C][Ring1][#Branch2][C][=C][Ring2][Ring1][C][N][C][C][=C][C][=N][C][=C][Ring1][=Branch1][C][Ring1][=Branch2][end][nop][nop][nop][nop][nop][nop][nop][nop][nop][nop][nop][nop][nop][nop][nop][nop][nop][nop][nop][nop][nop][nop][nop][nop][nop][nop][nop][nop][nop][nop][nop][nop][nop][nop][nop][nop][nop][nop][nop][nop][nop][nop][nop][nop][nop][nop][nop][nop][nop][nop][nop][nop][nop][nop][nop][nop][nop][nop][nop][nop][nop] \n",
      "\n",
      "Decoded:  [F][=N+1][Branch1][Branch1][Branch1][\\O][\\O][\\O][\\O][\\O][Branch1][=S][C@][C@][Branch1][Branch1][=N+1][=N+1][=N+1][=N+1][=N+1][=N+1][=Ring1][Branch1][C@][C@][C@][C@][C@][C@][Branch1][C@][F][Branch1][#N][end][nop][nop][nop][nop][nop][nop][nop][nop][nop][nop][nop][nop][nop][nop][nop][nop][nop][nop][nop][nop][nop][nop][nop][nop][nop][nop][nop][nop][nop][nop][nop][nop][nop][nop][nop][nop][nop][nop][nop][nop][nop][nop][nop][nop][nop][nop][nop][nop][nop][nop][nop][nop][nop][nop][nop][nop][nop][nop][nop][nop][nop][nop][nop][nop][nop][nop][nop][nop][nop][nop][nop][nop][nop][nop][nop][nop][nop]\n",
      "------------------\n",
      "Original: [O][=C][Branch2][Ring2][=Branch1][C][C][C][C][C][N][C][=Branch1][C][=O][N][C][=C][C][=C][C][Branch1][P][C][=N][C][=C][C][Branch1][C][F][=C][C][=C][Ring1][#Branch1][O][Ring1][#Branch2][=C][Ring1][S][N][O][end][nop][nop][nop][nop][nop][nop][nop][nop][nop][nop][nop][nop][nop][nop][nop][nop][nop][nop][nop][nop][nop][nop][nop][nop][nop][nop][nop][nop][nop][nop][nop][nop][nop][nop][nop][nop][nop][nop][nop][nop][nop][nop][nop][nop][nop][nop][nop][nop][nop][nop][nop][nop][nop][nop][nop][nop][nop][nop][nop][nop][nop][nop][nop][nop][nop][nop][nop][nop] \n",
      "\n",
      "Decoded:  [=N+1][#C][/N][/N][Branch2][/N][I][/N][\\O][\\O][#N][#N][I][C@@][C@@][#N][#N][\\O][#N][#N][\\N][#N][#N][#N][#N][#N][#N][#N][C@@][#N][C@@][#N][#N][=Ring1][#N][end][end][end][end][end][#N][nop][nop][nop][nop][nop][nop][nop][nop][nop][nop][nop][nop][nop][nop][nop][nop][nop][nop][nop][nop][nop][nop][nop][nop][nop][nop][nop][nop][nop][nop][nop][nop][nop][nop][nop][nop][nop][nop][nop][nop][nop][nop][nop][nop][nop][nop][nop][nop][nop][nop][nop][nop][nop][nop][nop][nop][nop][nop][nop][nop][nop][nop][nop][nop][nop][nop][nop][nop][nop][nop][nop][nop]\n",
      "------------------\n",
      "Original: [O][=C][C][=C][Branch1][Branch2][C][C][C][C][C][Ring1][Branch1][C][=C][C][=C][C][=C][Ring1][=Branch1][C][Ring1][#C][=O][end][nop][nop][nop][nop][nop][nop][nop][nop][nop][nop][nop][nop][nop][nop][nop][nop][nop][nop][nop][nop][nop][nop][nop][nop][nop][nop][nop][nop][nop][nop][nop][nop][nop][nop][nop][nop][nop][nop][nop][nop][nop][nop][nop][nop][nop][nop][nop][nop][nop][nop][nop][nop][nop][nop][nop][nop][nop][nop][nop][nop][nop][nop][nop][nop][nop][nop][nop][nop][nop][nop][nop][nop][nop][nop][nop][nop][nop][nop][nop][nop][nop][nop][nop][nop][nop][nop][nop] \n",
      "\n",
      "Decoded:  [\\O][/N][=S][=S][=S][=S][=S][=S][=S][=S][=S][=S][=S][=S][=S][I][I][I][I][F][F][F][F][=Ring2][=Ring2][=Ring2][end][end][end][end][end][end][end][end][end][end][end][end][end][end][end][end][end][end][end][end][end][end][end][end][end][end][end][end][end][end][end][end][end][end][end][end][end][end][end][end][end][end][end][end][end][end][end][end][end][end][end][end][end][end][end][end][end][end][end][end][end][end][end][end][end][end][end][end][end][end][end][end][end][end][end][end][end][end][end][end][end][end][end][end][end][end][end]\n",
      "------------------\n",
      "Original: [C][C][N][C][=Branch1][C][=O][C][=C][C][Branch1][Ring1][O][C][=C][C][=C][Ring1][Branch2][N][C][Branch1][Ring1][C][Cl][=N][N][=C][Ring2][Ring1][C][Ring1][#Branch1][end][nop][nop][nop][nop][nop][nop][nop][nop][nop][nop][nop][nop][nop][nop][nop][nop][nop][nop][nop][nop][nop][nop][nop][nop][nop][nop][nop][nop][nop][nop][nop][nop][nop][nop][nop][nop][nop][nop][nop][nop][nop][nop][nop][nop][nop][nop][nop][nop][nop][nop][nop][nop][nop][nop][nop][nop][nop][nop][nop][nop][nop][nop][nop][nop][nop][nop][nop][nop][nop][nop][nop][nop][nop][nop][nop][nop][nop][nop][nop] \n",
      "\n",
      "Decoded:  [=N+1][=N+1][\\O][#Branch2][=O][\\O][\\O][\\C][=N+1][C@][C@][\\O][\\O][=Ring2][=Ring1][/O][\\O][\\O][\\O][#Branch2][\\O][/O][=Ring2][#N][#Branch2][=Ring2][=Ring2][=Ring1][=Ring1][=Ring2][=Ring2][=Ring2][=Ring2][=Ring2][=Ring2][=Ring2][=Ring2][=Ring2][=Ring2][end][end][end][nop][nop][nop][nop][nop][nop][nop][nop][nop][nop][nop][nop][nop][nop][nop][nop][nop][nop][nop][nop][nop][nop][nop][nop][nop][nop][nop][nop][nop][nop][nop][nop][nop][nop][nop][nop][nop][nop][nop][nop][nop][nop][nop][nop][nop][nop][nop][nop][nop][nop][nop][nop][nop][nop][nop][nop][nop][nop][nop][nop][nop][nop][nop][nop][nop][nop][nop][nop][nop][nop][nop]\n",
      "------------------\n",
      "Original: [C][C][Branch1][C][C][Branch2][Ring1][Branch1][C][N][C][=Branch1][C][=O][C][=C][N][=C][C][=C][C][=C][C][Ring1][=Branch1][=N][Ring1][#Branch2][C][=C][C][=C][C][=N][Ring1][=Branch1][end][nop][nop][nop][nop][nop][nop][nop][nop][nop][nop][nop][nop][nop][nop][nop][nop][nop][nop][nop][nop][nop][nop][nop][nop][nop][nop][nop][nop][nop][nop][nop][nop][nop][nop][nop][nop][nop][nop][nop][nop][nop][nop][nop][nop][nop][nop][nop][nop][nop][nop][nop][nop][nop][nop][nop][nop][nop][nop][nop][nop][nop][nop][nop][nop][nop][nop][nop][nop][nop][nop][nop][nop][nop][nop][nop][nop] \n",
      "\n",
      "Decoded:  [=N+1][=N+1][=N+1][=N+1][=O][/N][/N][=N+1][=N+1][/N][=Ring2][=Ring2][=Ring2][=Ring2][=Ring2][=Ring2][=Ring2][=Ring2][=Ring2][=Ring2][=Ring2][=Ring2][#N][=Ring2][=Ring2][=Ring2][=Ring2][=Ring2][=Ring2][=Ring2][=Ring2][=Ring2][=Ring2][=Ring2][=Ring2][=Ring2][=Ring2][=Ring2][=Ring2][=Ring2][=Ring2][=Ring2][=Ring2][=Ring2][=Ring2][=Ring2][=Ring2][=Ring2][=Ring2][=Ring2][=Ring2][=Ring2][=Ring2][end][end][nop][nop][nop][nop][nop][nop][nop][nop][nop][nop][nop][nop][nop][nop][nop][nop][nop][nop][nop][nop][nop][nop][nop][nop][nop][nop][nop][nop][nop][nop][nop][nop][nop][nop][nop][nop][nop][nop][nop][nop][nop][nop][nop][nop][nop][nop][nop][nop][nop][nop][nop][nop][nop][nop][nop][nop][nop][nop]\n",
      "------------------\n",
      "Original: [N][#C][C][=C][C][=C][Branch2][Ring1][O][N][C][=Branch1][C][=O][N][C][C][C][Branch1][C][O][C][=C][C][=C][Branch1][Ring1][C][=O][N][=C][Ring1][Branch2][Ring1][=N][N][=C][Ring2][Ring1][=Branch1][end][nop][nop][nop][nop][nop][nop][nop][nop][nop][nop][nop][nop][nop][nop][nop][nop][nop][nop][nop][nop][nop][nop][nop][nop][nop][nop][nop][nop][nop][nop][nop][nop][nop][nop][nop][nop][nop][nop][nop][nop][nop][nop][nop][nop][nop][nop][nop][nop][nop][nop][nop][nop][nop][nop][nop][nop][nop][nop][nop][nop][nop][nop][nop][nop][nop][nop][nop][nop][nop][nop][nop][nop] \n",
      "\n",
      "Decoded:  [O][=N+1][=S][NH1][NH1][=N+1][=Ring1][=N+1][=N+1][=N+1][=Ring1][=Ring1][=Ring1][=Ring1][=Ring1][=Ring1][=Ring1][=Ring1][=Ring1][=Ring1][=Ring1][=Ring1][=Ring1][=Ring1][=Ring1][=Ring1][=Ring1][=Ring1][=Ring1][=Ring1][=Ring1][=Ring1][=Ring1][=Ring1][=Ring1][=Ring1][=Ring1][=Ring1][=Ring1][=Ring1][=Ring1][=Ring2][=Ring2][=Ring1][=Ring1][=Ring1][=Ring2][=Ring1][=Ring1][=Ring1][=Ring2][=Ring2][=Ring1][=Ring1][end][end][end][end][nop][nop][nop][nop][nop][nop][nop][nop][nop][nop][nop][nop][nop][nop][nop][nop][nop][nop][nop][nop][nop][nop][nop][nop][nop][nop][nop][nop][nop][nop][nop][nop][nop][nop][nop][nop][nop][nop][nop][nop][nop][nop][nop][nop][nop][nop][nop][nop][nop][nop][nop][nop][nop][nop][nop]\n",
      "------------------\n",
      "Original: [C][O][C][=C][C][=C][C][=C][Branch2][Ring1][#Branch2][C][Branch1][C][O][Branch1][N][C][=C][C][=C][Branch1][C][Cl][C][=C][Ring1][#Branch1][C][=C][C][=C][N][=C][Ring1][=Branch1][O][C][Ring2][Ring1][Ring2][=C][Ring2][Ring1][Branch2][end][nop][nop][nop][nop][nop][nop][nop][nop][nop][nop][nop][nop][nop][nop][nop][nop][nop][nop][nop][nop][nop][nop][nop][nop][nop][nop][nop][nop][nop][nop][nop][nop][nop][nop][nop][nop][nop][nop][nop][nop][nop][nop][nop][nop][nop][nop][nop][nop][nop][nop][nop][nop][nop][nop][nop][nop][nop][nop][nop][nop][nop][nop][nop][nop][nop][nop][nop] \n",
      "\n",
      "Decoded:  [=N+1][=N+1][=N+1][\\C][=O][/N][/N][=N+1][=N+1][=N+1][#N][#N][=N+1][=N+1][#N][#N][=N+1][=N+1][#N][=N+1][=N+1][=N+1][/N][=N+1][=N+1][/N][=N+1][=N+1][=N+1][=Ring2][=Ring2][=Ring2][=Ring2][=Ring2][=Ring2][=Ring2][=Ring2][=Ring2][=Ring2][=Ring2][=Ring2][=Ring2][=Ring2][=Ring2][=Ring2][=Ring2][=Ring2][end][end][end][nop][nop][nop][nop][nop][nop][nop][nop][nop][nop][nop][nop][nop][nop][nop][nop][nop][nop][nop][nop][nop][nop][nop][nop][nop][nop][nop][nop][nop][nop][nop][nop][nop][nop][nop][nop][nop][nop][nop][nop][nop][nop][nop][nop][nop][nop][nop][nop][nop][nop][nop][nop][nop][nop][nop][nop][nop][nop][nop][nop][nop][nop][nop]\n",
      "------------------\n",
      "Original: [C][C][O][C][=Branch1][C][=O][C][=C][N][=C][N][Branch1][Branch1][C][Ring1][=Branch1][=O][C][C][C][C][/C][Ring1][=Branch2][=N][\\N][C][=C][C][=C][C][=C][Ring1][=Branch1][end][nop][nop][nop][nop][nop][nop][nop][nop][nop][nop][nop][nop][nop][nop][nop][nop][nop][nop][nop][nop][nop][nop][nop][nop][nop][nop][nop][nop][nop][nop][nop][nop][nop][nop][nop][nop][nop][nop][nop][nop][nop][nop][nop][nop][nop][nop][nop][nop][nop][nop][nop][nop][nop][nop][nop][nop][nop][nop][nop][nop][nop][nop][nop][nop][nop][nop][nop][nop][nop][nop][nop][nop][nop][nop][nop][nop][nop] \n",
      "\n",
      "Decoded:  [F][/N][C@][/C][C@H1][=Ring2][C@][#N][\\O][\\C][C@][C@H1][=Ring1][=Branch2][=Ring2][#N][\\O][\\O][#N][C@@][\\O][=Ring2][=Ring2][#N][#N][=Ring2][=Ring2][=Ring2][=Ring2][=Ring2][end][#N][#N][nop][nop][nop][nop][nop][nop][nop][nop][nop][nop][nop][nop][nop][nop][nop][nop][nop][nop][nop][nop][nop][nop][nop][nop][nop][nop][nop][nop][nop][nop][nop][nop][nop][nop][nop][nop][nop][nop][nop][nop][nop][nop][nop][nop][nop][nop][nop][nop][nop][nop][nop][nop][nop][nop][nop][nop][nop][nop][nop][nop][nop][nop][nop][nop][nop][nop][nop][nop][nop][nop][nop][nop][nop][nop][nop][nop][nop][nop][nop][nop]\n",
      "------------------\n",
      "Original: [C][C][=Branch1][C][=O][C][=C][C][=C][Branch1][=Branch1][C][Branch1][C][C][=O][C][C][Branch1][C][C][=C][Branch2][Ring1][S][C][=Branch1][C][=O][N][C][=C][C][Branch1][O][C][N][C][C][Branch1][C][O][C][Ring1][Branch1][=C][C][=C][C][=C][C][Ring1][=Branch1][=N][Ring1][S][S][C][Ring2][Ring1][S][=Ring2][Ring1][=Branch2][end][nop][nop][nop][nop][nop][nop][nop][nop][nop][nop][nop][nop][nop][nop][nop][nop][nop][nop][nop][nop][nop][nop][nop][nop][nop][nop][nop][nop][nop][nop][nop][nop][nop][nop][nop][nop][nop][nop][nop][nop][nop][nop][nop][nop][nop][nop][nop][nop] \n",
      "\n",
      "Decoded:  [=N+1][=N+1][Branch2][Ring2][=N+1][=N+1][=Ring1][=N+1][=N+1][=N+1][=Ring1][#N][=N+1][=N+1][C@@][=Ring1][=Ring1][=N+1][=Ring1][=Ring1][=Ring1][=N+1][=Ring1][=Ring1][=Ring2][=Ring1][=Ring1][=Ring1][=Ring1][=Ring1][=Ring1][=Ring1][=Ring2][=Ring2][=Ring2][=Ring2][=Ring2][=Ring2][=Ring2][=Ring2][=Ring2][=Ring2][=Ring2][=Ring2][=Ring2][=Ring2][=Ring2][=Ring2][=Ring2][=Ring2][=Ring2][=Ring2][=Ring2][=Ring2][=Ring2][=Ring2][=Ring2][=Ring2][=Ring2][=Ring2][=Ring2][=Ring2][=Ring2][=Ring2][=Ring2][end][end][end][nop][nop][nop][nop][nop][nop][nop][nop][nop][nop][nop][nop][nop][nop][nop][nop][nop][nop][nop][nop][nop][nop][nop][nop][nop][nop][nop][nop][nop][nop][nop][nop][nop][nop][nop][nop][nop][nop][nop][nop][nop][nop][nop][nop][nop]\n",
      "------------------\n",
      "Original: [C][O][C][=C][C][=C][C][Branch2][Ring1][#C][C][N][C][C][N][Branch2][Ring1][Ring1][C][=C][C][=C][Branch1][Branch2][C][C][=N][NH1][C][=Ring1][Branch1][C][=C][Ring1][O][F][C][Ring1][P][=O][=C][Ring2][Ring1][=Branch2][end][nop][nop][nop][nop][nop][nop][nop][nop][nop][nop][nop][nop][nop][nop][nop][nop][nop][nop][nop][nop][nop][nop][nop][nop][nop][nop][nop][nop][nop][nop][nop][nop][nop][nop][nop][nop][nop][nop][nop][nop][nop][nop][nop][nop][nop][nop][nop][nop][nop][nop][nop][nop][nop][nop][nop][nop][nop][nop][nop][nop][nop][nop][nop][nop][nop][nop][nop][nop] \n",
      "\n",
      "Decoded:  [O][=N+1][/N][C@@H1][=Ring2][=O][\\C][\\C][\\C][\\O][\\O][\\O][\\O][\\O][\\O][\\O][\\O][\\C][=Ring1][\\O][\\C][=Ring1][=Ring1][=Ring1][=Ring1][#N][=Ring2][=Ring2][=Ring2][=Ring2][=Ring2][=Ring2][=Ring2][=Ring2][=Ring2][=Ring2][=Ring2][=Ring2][=Ring2][=Ring2][=Ring2][=Ring2][=Ring2][=Ring2][end][end][end][end][end][end][end][end][end][end][nop][nop][nop][nop][nop][nop][nop][nop][nop][nop][nop][nop][nop][nop][nop][nop][nop][nop][nop][nop][nop][nop][nop][nop][nop][nop][nop][nop][nop][nop][nop][nop][nop][nop][nop][nop][nop][nop][nop][nop][nop][nop][nop][nop][nop][nop][nop][nop][nop][nop][nop][nop][nop][nop][nop][nop][nop][nop][nop]\n",
      "------------------\n",
      "Original: [O][=C][Branch1][=N][O][C][=C][C][=C][C][Branch1][C][I][=C][Ring1][#Branch1][C][=C][C][=C][C][Branch1][=Branch1][N+1][=Branch1][C][=O][O-1][=C][C][=C][Ring1][=Branch2][O][C][Ring1][=N][=O][end][nop][nop][nop][nop][nop][nop][nop][nop][nop][nop][nop][nop][nop][nop][nop][nop][nop][nop][nop][nop][nop][nop][nop][nop][nop][nop][nop][nop][nop][nop][nop][nop][nop][nop][nop][nop][nop][nop][nop][nop][nop][nop][nop][nop][nop][nop][nop][nop][nop][nop][nop][nop][nop][nop][nop][nop][nop][nop][nop][nop][nop][nop][nop][nop][nop][nop][nop][nop][nop][nop][nop][nop][nop][nop] \n",
      "\n",
      "Decoded:  [=N+1][=N+1][/N][/N][=Ring2][/N][=O][/N][=N+1][\\O][\\O][\\O][\\O][\\O][\\O][\\O][\\O][\\O][\\O][#N][\\O][\\O][=Ring1][=Ring1][=N+1][=N+1][\\O][=Ring1][=N+1][\\O][\\O][\\O][=Ring2][=Ring2][=Ring2][=Ring2][=Ring2][=Ring2][=Ring2][=Ring2][=Ring2][=Ring2][end][#N][#N][end][end][nop][nop][nop][nop][nop][nop][nop][nop][nop][nop][nop][nop][nop][nop][nop][nop][nop][nop][nop][nop][nop][nop][nop][nop][nop][nop][nop][nop][nop][nop][nop][nop][nop][nop][nop][nop][nop][nop][nop][nop][nop][nop][nop][nop][nop][nop][nop][nop][nop][nop][nop][nop][nop][nop][nop][nop][nop][nop][nop][nop][nop][nop][nop][nop][nop][nop]\n",
      "------------------\n",
      "Original: [C][C][=C][C][Branch2][Ring2][=N][N][S][=Branch1][C][=O][=Branch1][C][=O][C][=C][C][=C][Branch2][Ring1][=Branch2][N][/C][=N][/C][=N][C][=C][Branch1][#Branch2][C][Branch1][C][C][=C][Ring1][#Branch1][C][#N][C][C][C][C][Ring1][O][C][=C][Ring2][Ring1][=Branch1][=N][O][Ring2][Ring1][#C][end][nop][nop][nop][nop][nop][nop][nop][nop][nop][nop][nop][nop][nop][nop][nop][nop][nop][nop][nop][nop][nop][nop][nop][nop][nop][nop][nop][nop][nop][nop][nop][nop][nop][nop][nop][nop][nop][nop][nop][nop][nop][nop][nop][nop][nop][nop][nop][nop][nop][nop][nop][nop][nop][nop][nop][nop] \n",
      "\n",
      "Decoded:  [=Ring2][#C][C@@H1][Br][Br][Branch2][Ring2][I][=Ring1][=Ring1][=Ring1][=Ring1][=Ring1][=Ring1][=Ring1][=Ring1][=Ring1][=Ring1][=Ring1][=Ring1][=Ring1][Br][=Ring1][Br][=Ring1][#N][/O][/O][/O][/O][/O][#N][/O][/O][=Ring2][=Ring2][=Ring2][=Ring2][=Ring2][=Ring2][=Ring2][=Ring2][=Ring2][=Ring2][=Ring2][end][end][end][end][end][end][#N][#N][#N][#N][#N][#N][#N][#N][#N][#N][#N][#N][#N][#N][#N][#N][#N][#N][#N][#N][#N][#N][#N][#N][#N][#N][#N][#N][#N][#N][#N][#N][#N][#N][#N][#N][#N][#N][#N][#N][#N][#N][#N][#N][nop][nop][nop][nop][nop][nop][nop][nop][nop][nop][nop][nop][nop][nop][nop][nop][nop][nop]\n",
      "------------------\n",
      "Original: [C][O][C][=Branch1][C][=O][C][C][N][C][=Branch1][C][=O][C][=C][Branch1][C][C][N][=C][C][=C][C][=C][C][Ring1][=Branch1][=C][Ring1][O][C][Ring1][#C][=O][end][nop][nop][nop][nop][nop][nop][nop][nop][nop][nop][nop][nop][nop][nop][nop][nop][nop][nop][nop][nop][nop][nop][nop][nop][nop][nop][nop][nop][nop][nop][nop][nop][nop][nop][nop][nop][nop][nop][nop][nop][nop][nop][nop][nop][nop][nop][nop][nop][nop][nop][nop][nop][nop][nop][nop][nop][nop][nop][nop][nop][nop][nop][nop][nop][nop][nop][nop][nop][nop][nop][nop][nop][nop][nop][nop][nop][nop][nop] \n",
      "\n",
      "Decoded:  [=N+1][=N+1][=N+1][#Branch1][=O][=O][=Ring1][=N+1][=N+1][=N+1][=Ring1][=Ring1][=Ring2][=Ring2][=Ring1][=Ring1][=Ring2][=Ring1][=Ring1][=Ring2][=Ring2][=Ring2][=Ring2][=Ring2][=Ring1][=Ring2][=Ring2][=Ring2][=Ring2][=Ring2][=Ring2][=Ring2][=Ring2][=Ring2][=Ring2][=Ring2][=Ring2][=Ring2][=Ring2][=Ring2][=Ring2][=Ring2][=Ring2][=Ring2][=Ring2][=Ring2][=Ring2][=Ring2][=Ring2][=Ring2][=Ring2][=Ring2][=Ring2][=Ring2][=Ring2][=Ring2][=Ring2][end][end][end][end][nop][nop][nop][nop][nop][nop][nop][nop][nop][nop][nop][nop][nop][nop][nop][nop][nop][nop][nop][nop][nop][nop][nop][nop][nop][nop][nop][nop][nop][nop][nop][nop][nop][nop][nop][nop][nop][nop][nop][nop][nop][nop][nop][nop][nop][nop][nop][nop][nop][nop][nop][nop]\n",
      "------------------\n",
      "Original: [C][C][=N][C][Branch1][=C][C][#C][C][=C][C][=C][Branch1][C][F][N][=C][Ring1][#Branch1][=C][S][Ring1][=C][end][nop][nop][nop][nop][nop][nop][nop][nop][nop][nop][nop][nop][nop][nop][nop][nop][nop][nop][nop][nop][nop][nop][nop][nop][nop][nop][nop][nop][nop][nop][nop][nop][nop][nop][nop][nop][nop][nop][nop][nop][nop][nop][nop][nop][nop][nop][nop][nop][nop][nop][nop][nop][nop][nop][nop][nop][nop][nop][nop][nop][nop][nop][nop][nop][nop][nop][nop][nop][nop][nop][nop][nop][nop][nop][nop][nop][nop][nop][nop][nop][nop][nop][nop][nop][nop][nop][nop][nop][nop] \n",
      "\n",
      "Decoded:  [=N+1][=N+1][=S][/O][=O][=N+1][=O][=Ring1][=N+1][#N][\\O][\\O][=N+1][=N+1][=Ring1][\\O][=N+1][=N+1][/O][=N+1][=N+1][=N+1][=O][=O][=N+1][=S][=O][=N+1][=N+1][=N+1][=N+1][=Ring2][=Ring2][=Ring2][=Ring2][=Ring2][=Ring2][=N+1][=Ring2][=Ring2][=Ring2][=N+1][=N+1][=Ring2][=Ring2][=O][end][end][end][nop][nop][nop][nop][nop][nop][nop][nop][nop][nop][nop][nop][nop][nop][nop][nop][nop][nop][nop][nop][nop][nop][nop][nop][nop][nop][nop][nop][nop][nop][nop][nop][nop][nop][nop][nop][nop][nop][nop][nop][nop][nop][nop][nop][nop][nop][nop][nop][nop][nop][nop][nop][nop][nop][nop][nop][nop][nop][nop][nop][nop][nop][nop][nop]\n",
      "------------------\n",
      "Original: [C][/C][=Branch1][=Branch1][=N][\\O][C][C][#N][C][=C][C][=C][Branch2][Ring1][O][S][C][=N][C][=C][Branch1][P][C@@][Branch1][C][C][C][O][C][Branch1][C][C][Branch1][C][C][O][Ring1][Branch2][S][Ring1][=N][C][=C][Ring2][Ring1][Ring2][end][nop][nop][nop][nop][nop][nop][nop][nop][nop][nop][nop][nop][nop][nop][nop][nop][nop][nop][nop][nop][nop][nop][nop][nop][nop][nop][nop][nop][nop][nop][nop][nop][nop][nop][nop][nop][nop][nop][nop][nop][nop][nop][nop][nop][nop][nop][nop][nop][nop][nop][nop][nop][nop][nop][nop][nop][nop][nop][nop][nop][nop][nop][nop][nop][nop] \n",
      "\n",
      "Decoded:  [=Ring2][#C][/N][C@@H1][Branch2][=N+1][#Branch1][Ring2][Ring2][=Ring1][=Ring1][#N][\\O][=N+1][#N][#N][=Ring1][=Ring2][#N][=Ring2][=Ring2][=Ring1][=Ring2][=Ring2][=Ring2][=Ring2][=Ring2][=Ring2][=Ring2][=Ring2][=Ring2][=Ring2][=Ring2][=Ring2][=Ring2][=Ring2][=Ring2][=Ring2][=Ring2][=Ring2][=Ring2][=Ring2][=Ring2][=Ring2][=Ring2][=Ring2][=Ring2][=Ring2][end][end][end][end][nop][nop][nop][nop][nop][nop][nop][nop][nop][nop][nop][nop][nop][nop][nop][nop][nop][nop][nop][nop][nop][nop][nop][nop][nop][nop][nop][nop][nop][nop][nop][nop][nop][nop][nop][nop][nop][nop][nop][nop][nop][nop][nop][nop][nop][nop][nop][nop][nop][nop][nop][nop][nop][nop][nop][nop][nop][nop][nop][nop][nop]\n",
      "------------------\n",
      "Original: [C][C][Branch1][C][C][C][N][C][C][=C][Ring1][#Branch1][C][=C][C][NH1][C][Branch1][=C][N][C][=C][Branch1][C][Cl][C][=C][C][=C][Ring1][#Branch1][Cl][=N][C][Ring2][Ring1][C][=Ring1][=C][end][nop][nop][nop][nop][nop][nop][nop][nop][nop][nop][nop][nop][nop][nop][nop][nop][nop][nop][nop][nop][nop][nop][nop][nop][nop][nop][nop][nop][nop][nop][nop][nop][nop][nop][nop][nop][nop][nop][nop][nop][nop][nop][nop][nop][nop][nop][nop][nop][nop][nop][nop][nop][nop][nop][nop][nop][nop][nop][nop][nop][nop][nop][nop][nop][nop][nop][nop][nop][nop][nop][nop][nop][nop] \n",
      "\n",
      "Decoded:  [Cl][=N+1][=N+1][\\O][=O][=N+1][=Ring1][=Ring1][=N+1][=Ring1][=Ring1][=Ring1][=Ring1][=Ring1][=Ring1][=Ring1][=Ring1][=Ring1][=Ring1][=Ring1][=Ring1][=Ring1][=Ring1][=Ring1][=Ring1][=Ring1][=Ring2][=Ring2][=Ring2][=Ring2][=Ring2][=Ring2][=Ring2][=Ring2][=Ring2][=Ring2][=Ring2][=Ring2][=Ring2][=Ring2][=Ring2][=Ring2][=Ring2][=Ring2][=Ring2][=Ring2][=Ring2][=Ring2][=Ring2][=Ring2][=Ring2][=Ring2][=Ring1][end][end][end][nop][nop][nop][nop][nop][nop][nop][nop][nop][nop][nop][nop][nop][nop][nop][nop][nop][nop][nop][nop][nop][nop][nop][nop][nop][nop][nop][nop][nop][nop][nop][nop][nop][nop][nop][nop][nop][nop][nop][nop][nop][nop][nop][nop][nop][nop][nop][nop][nop][nop][nop][nop][nop][nop][nop][nop][nop]\n",
      "------------------\n",
      "Original: [O][=C][Branch2][Ring2][=Branch2][C][N][C][=N][C][Branch1][N][N][C][C@@H1][C][C@H1][Ring1][Branch1][C][O][Ring1][Branch1][=C][C][=Branch1][C][=O][N][Ring1][=C][C][C][C@H1][Ring2][Ring1][C][C][Branch1][C][F][Branch1][C][F][F][C][=C][C][=C][Branch1][#Branch1][N][C][C][C][Ring1][Ring1][N][=C][Ring1][#Branch2][end][nop][nop][nop][nop][nop][nop][nop][nop][nop][nop][nop][nop][nop][nop][nop][nop][nop][nop][nop][nop][nop][nop][nop][nop][nop][nop][nop][nop][nop][nop][nop][nop][nop][nop][nop][nop][nop][nop][nop][nop][nop][nop][nop][nop][nop][nop][nop][nop][nop][nop][nop] \n",
      "\n",
      "Decoded:  [Branch1][=N+1][Branch1][Branch1][Branch1][Branch1][Branch1][Branch1][Branch1][Branch1][Branch1][Branch1][Branch1][Branch1][Branch1][Branch1][Branch1][Branch1][Branch1][Branch1][Branch1][Branch1][Branch1][Branch1][Branch1][Branch1][Branch1][Branch1][Branch1][Branch1][Branch1][Branch1][Branch1][Branch1][Branch1][Branch1][Branch1][Branch1][Branch1][Branch1][Branch1][Branch1][Branch1][Branch1][Branch1][Branch1][Branch1][Branch1][Branch1][Branch1][Branch1][Branch1][Branch1][Branch1][Branch1][Branch1][Branch1][Branch1][Branch1][Branch1][Branch1][Branch1][Branch1][Branch1][Branch1][Branch1][Branch1][Branch1][Branch1][Branch1][Branch1][Branch1][Branch1][Branch1][Branch1][Branch1][Branch1][Branch1][Branch1][Branch1][Branch1][Branch1][Branch1][Branch1][Branch1][Branch1][Branch1][Branch1][Branch1][Branch1][Branch1][Branch1][Branch1][Branch1][Branch1][Branch1][Branch1][Branch1][Branch1][Branch1][Branch1][Branch1][Branch1][Branch1][Branch1][Branch1][Branch1][Branch1][Branch1][Branch1][Branch1][Branch1][Branch1]\n",
      "------------------\n",
      "Original: [C][N][N][=C][N][=C][Ring1][Branch1][C][=C][C][Branch1][C][Cl][=C][C][=C][Ring1][#Branch1][O][C][=C][C][=C][Branch1][S][S][=Branch1][C][=O][=Branch1][C][=O][N][C][=N][C][=C][S][Ring1][Branch1][C][=C][Ring1][#C][C][#N][end][nop][nop][nop][nop][nop][nop][nop][nop][nop][nop][nop][nop][nop][nop][nop][nop][nop][nop][nop][nop][nop][nop][nop][nop][nop][nop][nop][nop][nop][nop][nop][nop][nop][nop][nop][nop][nop][nop][nop][nop][nop][nop][nop][nop][nop][nop][nop][nop][nop][nop][nop][nop][nop][nop][nop][nop][nop][nop][nop][nop][nop][nop][nop][nop][nop] \n",
      "\n",
      "Decoded:  [=N+1][=N+1][/N][/N][=O][/N][=Ring1][=Ring1][=N+1][/N][=Ring1][=Ring1][=Ring1][=Ring1][=Ring1][=Ring1][=Ring1][=Ring1][=Ring1][=Ring1][=Ring1][=Ring1][=Ring1][=Ring1][=Ring1][=Ring2][=Ring1][=Ring2][=Ring2][=Ring2][=Ring2][=Ring2][=Ring2][=Ring2][=Ring2][=Ring2][=Ring2][=Ring2][=Ring2][=Ring2][=Ring2][=Ring2][=Ring2][=Ring2][=Ring2][=Ring2][=Ring2][=Ring2][end][end][end][end][nop][nop][nop][nop][nop][nop][nop][nop][nop][nop][nop][nop][nop][nop][nop][nop][nop][nop][nop][nop][nop][nop][nop][nop][nop][nop][nop][nop][nop][nop][nop][nop][nop][nop][nop][nop][nop][nop][nop][nop][nop][nop][nop][nop][nop][nop][nop][nop][nop][nop][nop][nop][nop][nop][nop][nop][nop][nop][nop][nop][nop]\n",
      "------------------\n",
      "Original: [O][=C][Branch2][Ring1][P][C@@H1][C][C][C][=C][Branch1][C][Cl][C][=C][Branch1][O][N][C][C][=C][C][=C][C][=C][Ring1][=Branch1][C][=Branch1][C][=O][N][Ring1][S][Ring2][Ring1][Ring1][N][C][C][C][C][Ring1][Branch1][end][nop][nop][nop][nop][nop][nop][nop][nop][nop][nop][nop][nop][nop][nop][nop][nop][nop][nop][nop][nop][nop][nop][nop][nop][nop][nop][nop][nop][nop][nop][nop][nop][nop][nop][nop][nop][nop][nop][nop][nop][nop][nop][nop][nop][nop][nop][nop][nop][nop][nop][nop][nop][nop][nop][nop][nop][nop][nop][nop][nop][nop][nop][nop][nop][nop][nop][nop][nop] \n",
      "\n",
      "Decoded:  [\\C][=N+1][=N+1][=N+1][=O][=N+1][=Ring1][=N+1][=N+1][=N+1][=Ring1][=Ring1][=Ring1][=Ring2][=Ring2][=Ring2][=Ring2][=Ring2][=Ring2][=Ring2][=Ring2][=Ring2][=Ring2][=Ring1][=Ring1][=Ring1][=Ring1][=Ring1][=Ring2][=Ring2][=Ring2][=Ring2][=Ring2][=Ring2][=Ring2][=Ring2][=Ring2][=Ring2][=Ring2][=Ring2][=Ring2][=Ring2][=Ring2][=Ring2][=Ring2][=Ring2][=Ring2][=Ring2][=Ring2][=Ring2][=Ring2][=Ring2][=Ring2][=Ring2][=Ring2][=Ring2][=Ring2][=Ring2][end][end][end][end][nop][nop][nop][nop][nop][nop][nop][nop][nop][nop][nop][nop][nop][nop][nop][nop][nop][nop][nop][nop][nop][nop][nop][nop][nop][nop][nop][nop][nop][nop][nop][nop][nop][nop][nop][nop][nop][nop][nop][nop][nop][nop][nop][nop][nop][nop][nop][nop][nop][nop][nop]\n",
      "------------------\n",
      "Original: [O][=C][Branch1][#C][C][=C][N][=C][C][=C][C][=C][C][Ring1][=Branch1][=C][Ring1][#Branch2][N][C][C][C][C@H1][Ring1][Branch1][C][N][C][C][C][C][Ring1][Branch1][end][nop][nop][nop][nop][nop][nop][nop][nop][nop][nop][nop][nop][nop][nop][nop][nop][nop][nop][nop][nop][nop][nop][nop][nop][nop][nop][nop][nop][nop][nop][nop][nop][nop][nop][nop][nop][nop][nop][nop][nop][nop][nop][nop][nop][nop][nop][nop][nop][nop][nop][nop][nop][nop][nop][nop][nop][nop][nop][nop][nop][nop][nop][nop][nop][nop][nop][nop][nop][nop][nop][nop][nop][nop][nop][nop][nop][nop][nop][nop] \n",
      "\n",
      "Decoded:  [O][=N+1][NH1][NH1][NH1][Ring2][=Ring1][=N+1][=N+1][=N+1][=Ring1][=Ring2][=Ring1][=Ring2][=Ring2][=Ring2][=Ring2][=Ring2][=Ring2][=Ring2][=Ring2][=Ring2][=Ring2][=Ring2][=Ring2][=Ring2][=Ring2][=Ring2][=Ring2][=Ring2][=Ring2][=Ring2][=Ring2][=Ring2][=Ring2][=Ring2][=Ring2][=Ring2][=Ring2][=Ring2][=Ring2][=Ring2][=Ring2][=Ring2][=Ring2][=Ring2][=Ring2][=Ring2][=Ring2][=Ring2][=Ring2][=Ring2][=Ring2][=Ring2][=Ring2][=Ring2][end][end][end][nop][nop][nop][nop][nop][nop][nop][nop][nop][nop][nop][nop][nop][nop][nop][nop][nop][nop][nop][nop][nop][nop][nop][nop][nop][nop][nop][nop][nop][nop][nop][nop][nop][nop][nop][nop][nop][nop][nop][nop][nop][nop][nop][nop][nop][nop][nop][nop][nop][nop][nop][nop][nop][nop]\n",
      "------------------\n",
      "Original: [C][C][S][C][Branch2][Ring1][=C][N][C][=Branch1][C][=O][C][N][N][=C][Branch1][=Branch2][C][Branch1][C][F][Branch1][C][F][F][C][=C][Ring1][=Branch2][C][C][C][C][Ring1][=Branch1][=C][Branch1][=Branch1][C][Branch1][C][N][=O][C][=Ring2][Ring1][=Branch2][C][end][nop][nop][nop][nop][nop][nop][nop][nop][nop][nop][nop][nop][nop][nop][nop][nop][nop][nop][nop][nop][nop][nop][nop][nop][nop][nop][nop][nop][nop][nop][nop][nop][nop][nop][nop][nop][nop][nop][nop][nop][nop][nop][nop][nop][nop][nop][nop][nop][nop][nop][nop][nop][nop][nop][nop][nop][nop][nop][nop][nop][nop][nop][nop] \n",
      "\n",
      "Decoded:  [\\C][=N+1][=N+1][N+1][=O][=N+1][=Ring1][=N+1][=N+1][=O][=Ring1][=Ring1][=Ring1][=Ring1][=Ring1][=Ring1][=N+1][=Ring1][=Ring1][=Ring1][=Ring1][=Ring1][=Ring1][=Ring1][=Ring1][=Ring1][=Ring1][=Ring1][=Ring1][=Ring1][=Ring1][=Ring1][=Ring2][=Ring2][=Ring2][=Ring2][=Ring2][=Ring2][=Ring2][=Ring2][=Ring2][=Ring2][=Ring2][=Ring2][=Ring2][=Ring2][=Ring2][=Ring2][=Ring2][=Ring2][=Ring2][=Ring2][=Ring2][=Ring2][=Ring2][=Ring2][=Ring2][=Ring2][=Ring2][end][end][end][end][nop][nop][nop][nop][nop][nop][nop][nop][nop][nop][nop][nop][nop][nop][nop][nop][nop][nop][nop][nop][nop][nop][nop][nop][nop][nop][nop][nop][nop][nop][nop][nop][nop][nop][nop][nop][nop][nop][nop][nop][nop][nop][nop][nop][nop][nop][nop][nop][nop][nop]\n",
      "------------------\n",
      "Original: [N][C][=N][C][Branch1][C][Cl][=N][C][=C][Ring1][#Branch1][N][=C][N][Ring1][Branch1][C@@H1][O][C@H1][Branch1][P][C][O][C][C][=C][C][=C][C][=C][Ring1][=Branch1][N+1][=Branch1][C][=O][O-1][C@@H1][Branch1][C][O][C@@H1][Ring2][Ring1][C][F][end][nop][nop][nop][nop][nop][nop][nop][nop][nop][nop][nop][nop][nop][nop][nop][nop][nop][nop][nop][nop][nop][nop][nop][nop][nop][nop][nop][nop][nop][nop][nop][nop][nop][nop][nop][nop][nop][nop][nop][nop][nop][nop][nop][nop][nop][nop][nop][nop][nop][nop][nop][nop][nop][nop][nop][nop][nop][nop][nop][nop][nop][nop][nop][nop][nop] \n",
      "\n",
      "Decoded:  [=N+1][=N+1][/N][/N][=O][#Branch1][/N][#Branch1][C@][C@][\\O][/O][\\O][=Ring2][\\O][\\O][\\O][\\O][\\O][\\N][/O][/O][=Ring2][\\N][C@][=Ring2][=Ring2][#N][=O][=Ring2][=Ring2][=Ring2][=Ring2][=Ring2][=Ring2][=Ring2][=Ring2][=Ring2][=Ring2][end][end][end][nop][nop][nop][nop][nop][nop][nop][nop][nop][nop][nop][nop][nop][nop][nop][nop][nop][nop][nop][nop][nop][nop][nop][nop][nop][nop][nop][nop][nop][nop][nop][nop][nop][nop][nop][nop][nop][nop][nop][nop][nop][nop][nop][nop][nop][nop][nop][nop][nop][nop][nop][nop][nop][nop][nop][nop][nop][nop][nop][nop][nop][nop][nop][nop][nop][nop][nop][nop][nop][nop][nop]\n",
      "------------------\n",
      "Original: [C][C][C][Branch1][S][C][=Branch1][C][=O][C][=C][C][=C][Branch1][C][C][C][=C][Ring1][#Branch1][C][C][=C][C][=C][C][=C][Ring1][=Branch1][O][C][=Branch1][C][=O][C][Ring1][O][Ring2][Ring1][Branch1][C][=Branch1][C][=O][O][end][nop][nop][nop][nop][nop][nop][nop][nop][nop][nop][nop][nop][nop][nop][nop][nop][nop][nop][nop][nop][nop][nop][nop][nop][nop][nop][nop][nop][nop][nop][nop][nop][nop][nop][nop][nop][nop][nop][nop][nop][nop][nop][nop][nop][nop][nop][nop][nop][nop][nop][nop][nop][nop][nop][nop][nop][nop][nop][nop][nop][nop][nop][nop][nop][nop][nop][nop] \n",
      "\n",
      "Decoded:  [O][/N][/N][/N][=Ring2][=S][\\C][/N][/N][\\C][#N][#Branch1][#Branch1][/N][/N][/N][N+1][\\C][#N][=Ring2][#N][#N][#N][=Ring2][/N][#N][=Ring2][#N][=Ring2][=Ring2][=Ring2][=Ring2][=Ring2][=Ring2][F][/N][/N][=Ring2][=Ring2][#N][#N][=Ring2][=Ring2][=Ring2][=Ring2][=Ring2][#N][#N][#N][end][end][#N][#N][#N][#N][#N][#N][#N][#N][#N][#N][#N][#N][#N][#N][#N][#N][#N][#N][#N][#N][#N][#N][#N][#N][#N][#N][#N][#N][#N][#N][#N][#N][#N][#N][#N][#N][#N][#N][#N][#N][#N][#N][#N][#N][#N][#N][#N][#N][#N][#N][#N][#N][#N][#N][#N][#N][#N][#N][#N][#N][#N][#N]\n",
      "------------------\n",
      "Original: [C][O][C][=C][C][=C][C][Branch2][Ring1][S][S][=Branch1][C][=O][=Branch1][C][=O][C][=C][C][Branch1][C][Cl][=C][O][C][=C][Branch1][#Branch1][C][Ring1][Branch1][=C][Ring1][#Branch2][C][N][C][C][Ring1][Branch2][=C][Ring2][Ring1][#Branch1][end][nop][nop][nop][nop][nop][nop][nop][nop][nop][nop][nop][nop][nop][nop][nop][nop][nop][nop][nop][nop][nop][nop][nop][nop][nop][nop][nop][nop][nop][nop][nop][nop][nop][nop][nop][nop][nop][nop][nop][nop][nop][nop][nop][nop][nop][nop][nop][nop][nop][nop][nop][nop][nop][nop][nop][nop][nop][nop][nop][nop][nop][nop][nop][nop][nop][nop][nop] \n",
      "\n",
      "Decoded:  [=N+1][=N+1][NH1][\\C][#Branch1][=S][\\C][\\C][\\O][=S][\\O][\\O][\\O][=S][\\O][\\O][\\O][=S][#N][\\O][\\O][\\C][#N][=N+1][=N+1][=N+1][#N][=N+1][=N+1][=N+1][=N+1][=N+1][=N+1][=N+1][=Ring2][=Ring2][=Ring2][=Ring2][=Ring2][=Ring2][=Ring2][end][end][end][nop][nop][nop][nop][nop][nop][nop][nop][nop][nop][nop][nop][nop][nop][nop][nop][nop][nop][nop][nop][nop][nop][nop][nop][nop][nop][nop][nop][nop][nop][nop][nop][nop][nop][nop][nop][nop][nop][nop][nop][nop][nop][nop][nop][nop][nop][nop][nop][nop][nop][nop][nop][nop][nop][nop][nop][nop][nop][nop][nop][nop][nop][nop][nop][nop][nop][nop][nop][nop]\n",
      "------------------\n"
     ]
    }
   ],
   "source": [
    "# set largers value to 1 and others to 0\n",
    "decoded_indices = torch.argmax(decoded.cpu(), dim=2)\n",
    "decoded_indices = decoded_indices.numpy()\n",
    "selfies_out = []\n",
    "for i, original in zip(decoded_indices, y):\n",
    "    vectorized = []\n",
    "    #print(f'Decoded: {i}')\n",
    "    #convert to one-hot\n",
    "    for number in i:\n",
    "        v = np.zeros(42)\n",
    "        v[number] = 1\n",
    "        vectorized.append(v)\n",
    "    vectorized = np.array(vectorized)\n",
    "    selfies_out.append(vectorizer.devectorize(vectorized, remove_special=True))\n",
    "    print(f'Original: {vectorizer.devectorize(original.cpu().numpy())} \\n')\n",
    "    print(f'Decoded:  {vectorizer.devectorize(vectorized)}')\n",
    "    print('------------------')"
   ]
  },
  {
   "cell_type": "code",
   "execution_count": 46,
   "id": "1efcd595",
   "metadata": {},
   "outputs": [
    {
     "data": {
      "image/png": "[encoded data removed]",
      "text/plain": [
       "<PIL.PngImagePlugin.PngImageFile image mode=RGB size=800x800>"
      ]
     },
     "execution_count": 46,
     "metadata": {},
     "output_type": "execute_result"
    }
   ],
   "source": [
    "from rdkit import Chem\n",
    "from rdkit.Chem import Draw\n",
    "\n",
    "smiles = []\n",
    "for selfie in selfies_out:\n",
    "    smile = sf.decoder(selfie, attribute=False)\n",
    "    smiles.append(smile)\n",
    "\n",
    "ms = []\n",
    "for smile in smiles:\n",
    "    ms.append(Chem.MolFromSmiles(smile))\n",
    "Draw.MolToImage(ms[5], size=(800, 800), kekulize=True)"
   ]
  }
 ],
 "metadata": {
  "kernelspec": {
   "display_name": "Python 3 (ipykernel)",
   "language": "python",
   "name": "python3"
  },
  "language_info": {
   "codemirror_mode": {
    "name": "ipython",
    "version": 3
   },
   "file_extension": ".py",
   "mimetype": "text/x-python",
   "name": "python",
   "nbconvert_exporter": "python",
   "pygments_lexer": "ipython3",
   "version": "3.8.16"
  }
 },
 "nbformat": 4,
 "nbformat_minor": 5
}
