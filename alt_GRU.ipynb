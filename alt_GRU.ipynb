{
 "cells": [
  {
   "cell_type": "code",
   "execution_count": 13,
   "id": "6ef6f3f5",
   "metadata": {
    "colab": {
     "base_uri": "https://localhost:8080/"
    },
    "executionInfo": {
     "elapsed": 7,
     "status": "ok",
     "timestamp": 1686162931150,
     "user": {
      "displayName": "Hubert Rybka",
      "userId": "05494656428041101228"
     },
     "user_tz": -120
    },
    "id": "6ef6f3f5",
    "outputId": "b7ffd9f9-98f1-4977-8fed-0201cd7e382b"
   },
   "outputs": [
    {
     "data": {
      "text/plain": [
       "device(type='cpu')"
      ]
     },
     "execution_count": 13,
     "metadata": {},
     "output_type": "execute_result"
    }
   ],
   "source": [
    "import torch\n",
    "import torch.nn as nn\n",
    "import torch.optim as optim\n",
    "import torch.utils.data as data_utils\n",
    "import torch.functional as F\n",
    "import numpy as np\n",
    "import pandas as pd\n",
    "import time\n",
    "import random\n",
    "import re\n",
    "import matplotlib.pyplot as plt\n",
    "from tqdm import tqdm\n",
    "from IPython import display\n",
    "\n",
    "device = torch.device('cuda' if torch.cuda.is_available() else 'cpu')\n",
    "device"
   ]
  },
  {
   "cell_type": "markdown",
   "id": "f16dfcb1",
   "metadata": {
    "id": "f16dfcb1"
   },
   "source": [
    "# Data prep"
   ]
  },
  {
   "cell_type": "code",
   "execution_count": 2,
   "id": "8a3fbcdb",
   "metadata": {
    "id": "8a3fbcdb"
   },
   "outputs": [
    {
     "data": {
      "text/plain": [
       "42"
      ]
     },
     "execution_count": 2,
     "metadata": {},
     "output_type": "execute_result"
    }
   ],
   "source": [
    "# alphabet of tokens for output\n",
    "\n",
    "import selfies as sf\n",
    "data = pd.read_csv('./GRU_data/250k_selfies.csv')\n",
    "alphabet = sf.get_alphabet_from_selfies(data.selfies)\n",
    "alphabet.add(\"[start]\")\n",
    "alphabet.add(\"[end]\")\n",
    "alphabet.add(\"[nop]\") # [nop] is a special padding symbol\n",
    "alphabet = list(sorted(alphabet))\n",
    "#pad_to_len = max(sf.len_selfies(s) for s in data.selfies) + 10\n",
    "pad_to_len = 128 # for simplicities' sake\n",
    "symbol_to_idx = {s: i for i, s in enumerate(alphabet)}\n",
    "idx2char = {i: s for i, s in enumerate(alphabet)}\n",
    "len(alphabet)"
   ]
  },
  {
   "cell_type": "code",
   "execution_count": 3,
   "id": "f55a6d94",
   "metadata": {
    "id": "f55a6d94"
   },
   "outputs": [],
   "source": [
    "class SELFIESVectorizer:\n",
    "    def __init__(self, alphabet, pad_to_len=None):\n",
    "        self.alphabet = alphabet\n",
    "        self.char2idx = {s: i for i, s in enumerate(alphabet)}\n",
    "        self.idx2char = {i: s for i, s in enumerate(alphabet)}\n",
    "        self.pad_to_len = pad_to_len\n",
    "    def vectorize(self, selfie, no_special=False):\n",
    "        ''' Vectorize a list of SMILES strings to a numpy array of shape (len(smiles), embed, len(charset))'''\n",
    "        if no_special:\n",
    "            splited = self.split_selfi(selfie)\n",
    "        elif self.pad_to_len is None:\n",
    "            splited = ['[start]'] + self.split_selfi(selfie) + ['[end]']\n",
    "        else:\n",
    "            splited = ['[start]'] + self.split_selfi(selfie) + ['[end]'] + ['[nop]'] * (self.pad_to_len - len(self.split_selfi(selfie)) - 2)\n",
    "        X = np.zeros((len(splited), len(self.alphabet)))\n",
    "        for i in range(len(splited)):\n",
    "            X[i, self.char2idx[splited[i]]] = 1\n",
    "        return X\n",
    "    def devectorize(self, ohe, remove_special=False):\n",
    "        ''' Devectorize a numpy array of shape (len(smiles), embed, len(charset)) to a list of SMILES strings'''\n",
    "        selfie_str = ''\n",
    "        for j in range(ohe.shape[0]):\n",
    "            idx = np.argmax(ohe[j, :])\n",
    "            if remove_special and (self.idx2char[idx] == '[start]' or self.idx2char[idx] == '[end]'):\n",
    "                continue\n",
    "            selfie_str += self.idx2char[idx]\n",
    "        return selfie_str\n",
    "    def idxize(self, selfie, no_special=False):\n",
    "        if no_special:\n",
    "            splited = self.split_selfi(selfie)\n",
    "        else:\n",
    "            splited = ['[start]'] + self.split_selfi(selfie) + ['[end]'] + ['[nop]'] * (self.pad_to_len - len(self.split_selfi(selfie)) - 2)\n",
    "        return np.array([self.char2idx[s] for s in splited])\n",
    "    def deidxize(self, idx):\n",
    "        return \"\".join([self.idx2char[i] for i in idx])\n",
    "    def split_selfi(self, selfie):\n",
    "        pattern = r'(\\[[^\\[\\]]*\\])'\n",
    "        return re.findall(pattern, selfie)\n",
    "vectorizer = SELFIESVectorizer(alphabet, pad_to_len)"
   ]
  },
  {
   "cell_type": "code",
   "execution_count": 4,
   "id": "6538d564",
   "metadata": {
    "executionInfo": {
     "elapsed": 247,
     "status": "ok",
     "timestamp": 1686161079219,
     "user": {
      "displayName": "Hubert Rybka",
      "userId": "05494656428041101228"
     },
     "user_tz": -120
    },
    "id": "6538d564"
   },
   "outputs": [],
   "source": [
    "from torch.utils.data import Dataset, DataLoader\n",
    "\n",
    "class GRUDatasetv2(Dataset):\n",
    "    def __init__(self, smiles_fp, selfies, vectorizer):\n",
    "        self.smiles_fp = pd.read_csv(smiles_fp, nrows=50000)\n",
    "        self.selfies = pd.read_csv(selfies, nrows=50000)\n",
    "        #self.smiles_fp = pd.read_csv(smiles_fp)\n",
    "        #self.selfies = pd.read_csv(selfies)\n",
    "        self.selfies= self.prepare_y(self.selfies)\n",
    "        self.vectorizer = vectorizer\n",
    "    def __len__(self):\n",
    "        return len(self.smiles_fp)\n",
    "    def __getitem__(self, idx):\n",
    "        raw_selfie = self.selfies[idx][0]\n",
    "        vectorized_selfie = self.vectorizer.vectorize(raw_selfie)\n",
    "        raw_X = self.smiles_fp.fps[idx]\n",
    "        X = np.array(eval(raw_X), dtype=int)\n",
    "        X_reconstructed = self.reconstruct_fp(X)\n",
    "        return torch.from_numpy(X_reconstructed).float(), torch.from_numpy(vectorized_selfie).float()\n",
    "\n",
    "    @staticmethod\n",
    "    def prepare_X(smiles_fp):\n",
    "        fps = smiles_fp.fps.apply(eval).apply(lambda x: np.array(x, dtype=int))\n",
    "        return fps\n",
    "    @staticmethod\n",
    "    def prepare_y(selfies):\n",
    "        return selfies.values\n",
    "        \n",
    "    @staticmethod\n",
    "    def reconstruct_fp(fp, length=4860):\n",
    "        fp_rec = np.zeros(length)\n",
    "        fp_rec[fp] = 1\n",
    "        return fp_rec"
   ]
  },
  {
   "cell_type": "code",
   "execution_count": 5,
   "id": "062168b4",
   "metadata": {
    "executionInfo": {
     "elapsed": 2163,
     "status": "ok",
     "timestamp": 1686161083709,
     "user": {
      "displayName": "Hubert Rybka",
      "userId": "05494656428041101228"
     },
     "user_tz": -120
    },
    "id": "062168b4"
   },
   "outputs": [],
   "source": [
    "dataset = GRUDatasetv2('./GRU_data/250k_klek.csv', './GRU_data/250k_selfies.csv', vectorizer)\n",
    "train_size = int(0.9 * len(dataset))\n",
    "test_size = len(dataset) - train_size\n",
    "train_dataset, test_dataset = torch.utils.data.random_split(dataset, [train_size, test_size])"
   ]
  },
  {
   "cell_type": "code",
   "execution_count": 6,
   "id": "3a16a986",
   "metadata": {
    "colab": {
     "base_uri": "https://localhost:8080/"
    },
    "executionInfo": {
     "elapsed": 241,
     "status": "ok",
     "timestamp": 1686161085877,
     "user": {
      "displayName": "Hubert Rybka",
      "userId": "05494656428041101228"
     },
     "user_tz": -120
    },
    "id": "3a16a986",
    "outputId": "f2bde771-1321-4a4e-c72a-0a5f4f60dcc4"
   },
   "outputs": [
    {
     "name": "stdout",
     "output_type": "stream",
     "text": [
      "Dataset size: 50000\n",
      "Train size: 45000\n",
      "Test size: 5000\n"
     ]
    }
   ],
   "source": [
    "print(\"Dataset size:\", len(dataset))\n",
    "print(\"Train size:\", len(train_dataset))\n",
    "print(\"Test size:\", len(test_dataset))"
   ]
  },
  {
   "cell_type": "code",
   "execution_count": 7,
   "id": "da4f014e",
   "metadata": {
    "colab": {
     "base_uri": "https://localhost:8080/"
    },
    "executionInfo": {
     "elapsed": 252,
     "status": "ok",
     "timestamp": 1686162674319,
     "user": {
      "displayName": "Hubert Rybka",
      "userId": "05494656428041101228"
     },
     "user_tz": -120
    },
    "id": "da4f014e",
    "outputId": "5da54a79-6a1d-4b5f-b477-f3da58ba7479"
   },
   "outputs": [],
   "source": [
    "batch_size = 256\n",
    "train_loader = DataLoader(train_dataset, shuffle=True, batch_size=batch_size, drop_last=True)\n",
    "test_loader = DataLoader(test_dataset, shuffle=False, batch_size=batch_size, drop_last=True)"
   ]
  },
  {
   "cell_type": "markdown",
   "id": "02f39daf",
   "metadata": {
    "id": "02f39daf"
   },
   "source": [
    "# NN architecture"
   ]
  },
  {
   "cell_type": "code",
   "execution_count": 8,
   "id": "8248e95c",
   "metadata": {
    "executionInfo": {
     "elapsed": 253,
     "status": "ok",
     "timestamp": 1686162875733,
     "user": {
      "displayName": "Hubert Rybka",
      "userId": "05494656428041101228"
     },
     "user_tz": -120
    },
    "id": "8248e95c"
   },
   "outputs": [],
   "source": [
    "class EncoderNet(nn.Module):\n",
    "    def __init__(self, fp_size):\n",
    "        super(EncoderNet, self).__init__()\n",
    "        self.relu = nn.ReLU()\n",
    "        self.fc1 = nn.Linear(fp_size, 2048)\n",
    "        self.fc2 = nn.Linear(2048, 1024)\n",
    "        self.fc3 = nn.Linear(1024, 512)\n",
    "        self.fc4 = nn.Linear(512, 256)\n",
    "    def forward(self, x):\n",
    "        out = self.relu(self.fc1(x))\n",
    "        out = self.relu(self.fc2(out))\n",
    "        out = self.relu(self.fc3(out))\n",
    "        out = self.relu(self.fc4(out))\n",
    "        #out.shape = [batch_size, 256]\n",
    "        return out\n",
    "\n",
    "\n",
    "class DecoderNet(nn.Module):\n",
    "    def __init__(self, input_size, hidden_size, num_layers, output_size):\n",
    "        super(DecoderNet, self).__init__()\n",
    "        \n",
    "        # GRU parameters\n",
    "        self.input_size = input_size\n",
    "        self.hidden_size = hidden_size\n",
    "        self.num_layers = num_layers\n",
    "        \n",
    "        # output token count\n",
    "        self.output_size = output_size\n",
    "\n",
    "        # pytorch.nn\n",
    "        self.gru = nn.GRU(input_size=input_size, hidden_size=hidden_size, num_layers=num_layers, batch_first=True)\n",
    "        self.fc = nn.Linear(hidden_size, output_size)\n",
    "        self.softmax = nn.Softmax(dim=2)\n",
    "        self.relu = nn.ReLU()\n",
    "\n",
    "    def forward(self, x, h):\n",
    "        #x.shape = [batch_size, selfie_len, encoding_size] = [64, 128, 256]\n",
    "        out, h = self.gru(x, h)\n",
    "        #out.shape = [batch_size, selfie_len, hidden_size] = [64, 128, 256]\n",
    "        #h.shape = [num_layers, batch_size, hidden_size] = [1, 64, 256]\n",
    "        out1 = self.fc(self.relu(out))\n",
    "        out1 = self.softmax(out1)\n",
    "        return out, h\n",
    "    \n",
    "    def init_hidden(self, batch_size):\n",
    "        h0 = torch.zeros(self.num_layers, batch_size, self.hidden_size)\n",
    "        return h0"
   ]
  },
  {
   "cell_type": "code",
   "execution_count": 9,
   "id": "ea11abf2",
   "metadata": {},
   "outputs": [],
   "source": [
    "class EncoderDecoder(nn.Module):\n",
    "    def __init__(self, fp_size=4860, input_size=256, hidden_size=256, num_layers=1, output_size=42):\n",
    "        super(EncoderDecoder, self).__init__()\n",
    "        self.encoder = EncoderNet(fp_size=4860)\n",
    "        self.decoder = DecoderNet(input_size, hidden_size, num_layers, output_size)\n",
    "        \n",
    "        #pytorch.nn\n",
    "        self.fc = nn.Linear(256, 42)\n",
    "        self.relu = nn.ReLU()\n",
    "        \n",
    "    def forward(self, x):\n",
    "        hidden = decoder.init_hidden(batch_size=x.shape[0]).to(device)\n",
    "        encoded = self.encoder(x)\n",
    "        x = encoded.unsqueeze(1)\n",
    "        decoded = []\n",
    "        for n in range(128):\n",
    "            out, hidden = self.decoder(x, hidden)\n",
    "            x = out\n",
    "            out = self.relu(self.fc(out))\n",
    "            decoded.append(out)\n",
    "        out_cat = torch.cat(decoded, dim=1)\n",
    "        return out_cat # shape [batch_size, selfie_len, alphabet_len]"
   ]
  },
  {
   "cell_type": "markdown",
   "id": "8e0cf5ff",
   "metadata": {},
   "source": [
    "#  NN Debugging section"
   ]
  },
  {
   "cell_type": "code",
   "execution_count": 10,
   "id": "c0132236",
   "metadata": {},
   "outputs": [],
   "source": [
    "# define encoder and decoder\n",
    "\n",
    "encoder = EncoderNet(fp_size=4860)\n",
    "decoder = DecoderNet(input_size=256, hidden_size=256, num_layers=1, output_size=42)"
   ]
  },
  {
   "cell_type": "code",
   "execution_count": 14,
   "id": "a49b4559",
   "metadata": {},
   "outputs": [
    {
     "name": "stdout",
     "output_type": "stream",
     "text": [
      "Encoded shape: torch.Size([256, 1, 256])\n"
     ]
    }
   ],
   "source": [
    "# get test batch, encode and reshape\n",
    "\n",
    "test_src = next(iter(train_loader))[0]\n",
    "test_trg = next(iter(train_loader))[1]\n",
    "encoded = encoder(test_src)\n",
    "encoded = encoded.unsqueeze(1)\n",
    "print(f'Encoded shape: {encoded.shape}')"
   ]
  },
  {
   "cell_type": "code",
   "execution_count": 16,
   "id": "aeea732c",
   "metadata": {},
   "outputs": [
    {
     "data": {
      "text/plain": [
       "torch.Size([256, 128])"
      ]
     },
     "execution_count": 16,
     "metadata": {},
     "output_type": "execute_result"
    }
   ],
   "source": [
    "fc = nn.Linear(256, 42)\n",
    "relu = nn.ReLU()\n",
    "softmax2d = nn.Softmax(dim=2)\n",
    "\n",
    "hidden = decoder.init_hidden(batch_size)\n",
    "x = encoded\n",
    "decoded = []\n",
    "for n in range(128):\n",
    "    out, hidden = decoder(x, hidden)\n",
    "    x = out\n",
    "    out = relu(fc(out))\n",
    "    decoded.append(out)\n",
    "out_cat = torch.cat(decoded, dim=1)\n",
    "out_cat = softmax2d(out_cat)\n",
    "out_cat = torch.argmax(out_cat, dim=2)\n",
    "out_cat.shape"
   ]
  },
  {
   "cell_type": "code",
   "execution_count": 17,
   "id": "f2893d40",
   "metadata": {
    "colab": {
     "base_uri": "https://localhost:8080/"
    },
    "executionInfo": {
     "elapsed": 365,
     "status": "ok",
     "timestamp": 1686162879520,
     "user": {
      "displayName": "Hubert Rybka",
      "userId": "05494656428041101228"
     },
     "user_tz": -120
    },
    "id": "f2893d40",
    "outputId": "24411adf-29bd-4fb1-b572-48812a6e464f"
   },
   "outputs": [
    {
     "name": "stdout",
     "output_type": "stream",
     "text": [
      "Src shape: torch.Size([256, 4860])\n",
      "Trg shape: torch.Size([256, 128, 42])\n"
     ]
    }
   ],
   "source": [
    "model = EncoderDecoder().to(device)\n",
    "test_src = next(iter(train_loader))[0].to(device)\n",
    "test_trg = next(iter(train_loader))[1].to(device)\n",
    "print(f'Src shape: {test_src.shape}')\n",
    "print(f'Trg shape: {test_trg.shape}')"
   ]
  },
  {
   "cell_type": "code",
   "execution_count": 18,
   "id": "66ead312",
   "metadata": {
    "colab": {
     "base_uri": "https://localhost:8080/"
    },
    "executionInfo": {
     "elapsed": 515,
     "status": "ok",
     "timestamp": 1686162883547,
     "user": {
      "displayName": "Hubert Rybka",
      "userId": "05494656428041101228"
     },
     "user_tz": -120
    },
    "id": "F6-wuiP4QNU8",
    "outputId": "412eb4f3-32e4-440c-ea6a-cdf12cf767a2"
   },
   "outputs": [
    {
     "name": "stdout",
     "output_type": "stream",
     "text": [
      "Outputs shape: torch.Size([256, 128, 42])\n",
      "Outputs shape after argmax: (256, 128)\n"
     ]
    }
   ],
   "source": [
    "outputs = model(test_src)\n",
    "print(f'Outputs shape: {outputs.shape}')\n",
    "\n",
    "output = torch.argmax(outputs, dim=2)\n",
    "output = output.detach().numpy()\n",
    "print(f'Outputs shape after argmax: {output.shape}')"
   ]
  },
  {
   "cell_type": "code",
   "execution_count": 19,
   "id": "041a1163",
   "metadata": {
    "colab": {
     "base_uri": "https://localhost:8080/"
    },
    "executionInfo": {
     "elapsed": 287,
     "status": "ok",
     "timestamp": 1686162892070,
     "user": {
      "displayName": "Hubert Rybka",
      "userId": "05494656428041101228"
     },
     "user_tz": -120
    },
    "id": "041a1163",
    "outputId": "4ba3c403-0bea-4440-9230-40ec7bee9414"
   },
   "outputs": [
    {
     "name": "stdout",
     "output_type": "stream",
     "text": [
      "[=Ring1][=Ring1][#C][#C][#C][#C][#C][#C][#C][#C][#C][NH1][NH1][NH1][NH1][NH1][NH1][NH1][NH1][NH1][NH1][NH1][NH1][NH1][NH1][NH1][NH1][NH1][NH1][NH1][NH1][NH1][NH1][NH1][NH1][NH1][NH1][NH1][NH1][NH1][NH1][NH1][NH1][NH1][NH1][NH1][NH1][NH1][NH1][NH1][NH1][NH1][NH1][NH1][NH1][NH1][NH1][NH1][NH1][NH1][NH1][NH1][NH1][NH1][NH1][NH1][NH1][NH1][NH1][NH1][NH1][NH1][NH1][NH1][NH1][NH1][NH1][NH1][NH1][NH1][NH1][NH1][NH1][NH1][NH1][NH1][NH1][NH1][NH1][NH1][NH1][NH1][NH1][NH1][NH1][NH1][NH1][NH1][NH1][NH1][NH1][NH1][NH1][NH1][NH1][NH1][NH1][NH1][NH1][NH1][NH1][NH1][NH1][NH1][NH1][NH1][NH1][NH1][NH1][NH1][NH1][NH1][NH1][NH1][NH1][NH1][NH1][NH1] \n",
      "\n",
      "[=Ring1][#C][#C][#C][#C][#C][#C][#C][#C][#C][#C][NH1][NH1][NH1][NH1][NH1][NH1][NH1][NH1][NH1][NH1][NH1][NH1][NH1][NH1][NH1][NH1][NH1][NH1][NH1][NH1][NH1][NH1][NH1][NH1][NH1][NH1][NH1][NH1][NH1][NH1][NH1][NH1][NH1][NH1][NH1][NH1][NH1][NH1][NH1][NH1][NH1][NH1][NH1][NH1][NH1][NH1][NH1][NH1][NH1][NH1][NH1][NH1][NH1][NH1][NH1][NH1][NH1][NH1][NH1][NH1][NH1][NH1][NH1][NH1][NH1][NH1][NH1][NH1][NH1][NH1][NH1][NH1][NH1][NH1][NH1][NH1][NH1][NH1][NH1][NH1][NH1][NH1][NH1][NH1][NH1][NH1][NH1][NH1][NH1][NH1][NH1][NH1][NH1][NH1][NH1][NH1][NH1][NH1][NH1][NH1][NH1][NH1][NH1][NH1][NH1][NH1][NH1][NH1][NH1][NH1][NH1][NH1][NH1][NH1][NH1][NH1][NH1] \n",
      "\n",
      "[=Ring1][#C][#C][#C][#C][#C][#C][#C][#C][#C][#C][NH1][NH1][NH1][NH1][NH1][NH1][NH1][NH1][NH1][NH1][NH1][NH1][NH1][NH1][NH1][NH1][NH1][NH1][NH1][NH1][NH1][NH1][NH1][NH1][NH1][NH1][NH1][NH1][NH1][NH1][NH1][NH1][NH1][NH1][NH1][NH1][NH1][NH1][NH1][NH1][NH1][NH1][NH1][NH1][NH1][NH1][NH1][NH1][NH1][NH1][NH1][NH1][NH1][NH1][NH1][NH1][NH1][NH1][NH1][NH1][NH1][NH1][NH1][NH1][NH1][NH1][NH1][NH1][NH1][NH1][NH1][NH1][NH1][NH1][NH1][NH1][NH1][NH1][NH1][NH1][NH1][NH1][NH1][NH1][NH1][NH1][NH1][NH1][NH1][NH1][NH1][NH1][NH1][NH1][NH1][NH1][NH1][NH1][NH1][NH1][NH1][NH1][NH1][NH1][NH1][NH1][NH1][NH1][NH1][NH1][NH1][NH1][NH1][NH1][NH1][NH1][NH1] \n",
      "\n",
      "[=Ring1][#C][#C][#C][#C][#C][#C][#C][#C][#C][#C][NH1][NH1][NH1][NH1][NH1][NH1][NH1][NH1][NH1][NH1][NH1][NH1][NH1][NH1][NH1][NH1][NH1][NH1][NH1][NH1][NH1][NH1][NH1][NH1][NH1][NH1][NH1][NH1][NH1][NH1][NH1][NH1][NH1][NH1][NH1][NH1][NH1][NH1][NH1][NH1][NH1][NH1][NH1][NH1][NH1][NH1][NH1][NH1][NH1][NH1][NH1][NH1][NH1][NH1][NH1][NH1][NH1][NH1][NH1][NH1][NH1][NH1][NH1][NH1][NH1][NH1][NH1][NH1][NH1][NH1][NH1][NH1][NH1][NH1][NH1][NH1][NH1][NH1][NH1][NH1][NH1][NH1][NH1][NH1][NH1][NH1][NH1][NH1][NH1][NH1][NH1][NH1][NH1][NH1][NH1][NH1][NH1][NH1][NH1][NH1][NH1][NH1][NH1][NH1][NH1][NH1][NH1][NH1][NH1][NH1][NH1][NH1][NH1][NH1][NH1][NH1][NH1] \n",
      "\n",
      "[=Ring1][#C][#C][#C][#C][#C][#C][#C][#C][#C][#C][NH1][NH1][NH1][NH1][NH1][NH1][NH1][NH1][NH1][NH1][NH1][NH1][NH1][NH1][NH1][NH1][NH1][NH1][NH1][NH1][NH1][NH1][NH1][NH1][NH1][NH1][NH1][NH1][NH1][NH1][NH1][NH1][NH1][NH1][NH1][NH1][NH1][NH1][NH1][NH1][NH1][NH1][NH1][NH1][NH1][NH1][NH1][NH1][NH1][NH1][NH1][NH1][NH1][NH1][NH1][NH1][NH1][NH1][NH1][NH1][NH1][NH1][NH1][NH1][NH1][NH1][NH1][NH1][NH1][NH1][NH1][NH1][NH1][NH1][NH1][NH1][NH1][NH1][NH1][NH1][NH1][NH1][NH1][NH1][NH1][NH1][NH1][NH1][NH1][NH1][NH1][NH1][NH1][NH1][NH1][NH1][NH1][NH1][NH1][NH1][NH1][NH1][NH1][NH1][NH1][NH1][NH1][NH1][NH1][NH1][NH1][NH1][NH1][NH1][NH1][NH1][NH1] \n",
      "\n"
     ]
    }
   ],
   "source": [
    "# see SELFIES\n",
    "selfies = []\n",
    "for selfie in output[:5]:\n",
    "    vectorized = []\n",
    "    for token in selfie:\n",
    "        v = np.zeros(42)\n",
    "        v[token] = 1\n",
    "        vectorized.append(v)\n",
    "    vectorized = np.array(vectorized)\n",
    "    selfie = vectorizer.devectorize(vectorized)\n",
    "    selfies.append(selfie)\n",
    "for selfie in selfies:\n",
    "    print(selfie, '\\n')"
   ]
  },
  {
   "cell_type": "markdown",
   "id": "c3f697df",
   "metadata": {
    "id": "c3f697df"
   },
   "source": [
    "# Training loop"
   ]
  },
  {
   "cell_type": "code",
   "execution_count": 20,
   "id": "f7b00cca",
   "metadata": {},
   "outputs": [],
   "source": [
    "from IPython import display\n",
    "\n",
    "def train(train_loader, test_loader, device):\n",
    "\n",
    "    # Setting common hyperparameters\n",
    "    EPOCHS = 10\n",
    "    input_size = 256\n",
    "    hidden_size = 256\n",
    "    n_layers = 1\n",
    "    output_size = 42\n",
    "    learn_rate = 0.001\n",
    "    \n",
    "    # Define dataframe for training progess display\n",
    "    epochs_range = range(1,EPOCHS+1)\n",
    "    metrics = pd.DataFrame();\n",
    "    metrics['epoch'] = epochs_range\n",
    "    \n",
    "    # Define pyplot for plotting metrics\n",
    "    fig, ax = plt.subplots(ncols=2, figsize=(7, 3), layout=\"constrained\")\n",
    "    dh = display.display(fig, display_id=True)\n",
    "    \n",
    "    # Instantiating the model\n",
    "    model = EncoderDecoder().to(device)\n",
    "    \n",
    "    # Defining loss function and optimizer\n",
    "    criterion = nn.CrossEntropyLoss()\n",
    "    optimizer = torch.optim.Adam(model.parameters(), lr=learn_rate)\n",
    "    \n",
    "    model.train()\n",
    "    print(\"Starting Training of GRU\")\n",
    "    print(f\"Device: {device}\")\n",
    "    \n",
    "    # Start training loop\n",
    "    for epoch in epochs_range:\n",
    "        print(f'Epoch: {epoch}')\n",
    "        epoch_loss = 0\n",
    "        \n",
    "        for batch_idx, (X,y) in enumerate(tqdm(train_loader)):\n",
    "            X = X.to(device)\n",
    "            y = y.to(device)\n",
    "            \n",
    "            optimizer.zero_grad()\n",
    "            output = model(X)\n",
    "            loss = criterion(output, y)\n",
    "            loss.backward()\n",
    "            optimizer.step()\n",
    "            epoch_loss += loss.item()\n",
    "            \n",
    "        avg_loss = epoch_loss / len(train_loader)\n",
    "        val_loss = evaluate(model, test_loader)\n",
    "        model.train()\n",
    "\n",
    "        # Update metrics df\n",
    "        metrics = metrics.append({'epoch': epoch, 'train_loss': avg_loss, \n",
    "                                  'val_loss': val_loss}, ignore_index=True)\n",
    "        \n",
    "        # Display metrics\n",
    "        ax[0].clear()\n",
    "        ax[0].plot(metrics.epoch, metrics.train_loss)\n",
    "        ax[0].set_title('training loss')\n",
    "        ax[0].set_xlabel('epoch')\n",
    "        ax[0].set_ylabel('CrossEntropy')\n",
    "        ax[1].clear()\n",
    "        ax[1].plot(metrics.epoch, metrics.val_loss)\n",
    "        ax[1].set_title('validation loss')\n",
    "        ax[1].set_xlabel('epoch')\n",
    "        ax[1].set_ylabel('CrossEntropy')\n",
    "        dh.update(fig)\n",
    "    plt.close()\n",
    "    return model\n",
    "\n",
    "def evaluate(model, test_loader):\n",
    "    model.eval()\n",
    "    criterion = nn.CrossEntropyLoss()\n",
    "    epoch_loss = 0\n",
    "    for batch_idx, (X, y) in enumerate(test_loader):\n",
    "        X = X.to(device)\n",
    "        y = y.to(device)\n",
    "        output = model(X)\n",
    "        loss = criterion(output, y)\n",
    "        epoch_loss += loss.item()\n",
    "    avg_loss = epoch_loss / len(test_loader)\n",
    "    return avg_loss"
   ]
  },
  {
   "cell_type": "markdown",
   "id": "c874519b",
   "metadata": {},
   "source": [
    "# Init and train the model"
   ]
  },
  {
   "cell_type": "code",
   "execution_count": 21,
   "id": "0839d044",
   "metadata": {
    "colab": {
     "base_uri": "https://localhost:8080/",
     "height": 980
    },
    "executionInfo": {
     "elapsed": 1483,
     "status": "error",
     "timestamp": 1686162903542,
     "user": {
      "displayName": "Hubert Rybka",
      "userId": "05494656428041101228"
     },
     "user_tz": -120
    },
    "id": "0839d044",
    "outputId": "ea7a5487-849c-4115-cc43-6b255ea102d2"
   },
   "outputs": [
    {
     "data": {
      "image/png": "[encoded data removed]",
      "text/plain": [
       "<Figure size 700x300 with 2 Axes>"
      ]
     },
     "metadata": {},
     "output_type": "display_data"
    },
    {
     "name": "stdout",
     "output_type": "stream",
     "text": [
      "Starting Training of GRU\n",
      "Device: cpu\n",
      "Epoch: 1\n"
     ]
    },
    {
     "name": "stderr",
     "output_type": "stream",
     "text": [
      "100%|█████████████████████████████████████████| 175/175 [05:06<00:00,  1.75s/it]\n",
      "/tmp/ipykernel_3215/1685732529.py:54: FutureWarning: The frame.append method is deprecated and will be removed from pandas in a future version. Use pandas.concat instead.\n",
      "  metrics = metrics.append({'epoch': epoch, 'train_loss': avg_loss,\n"
     ]
    },
    {
     "name": "stdout",
     "output_type": "stream",
     "text": [
      "Epoch: 2\n"
     ]
    },
    {
     "name": "stderr",
     "output_type": "stream",
     "text": [
      "  1%|▍                                          | 2/175 [00:04<06:44,  2.34s/it]\n"
     ]
    },
    {
     "ename": "KeyboardInterrupt",
     "evalue": "",
     "output_type": "error",
     "traceback": [
      "\u001b[0;31m---------------------------------------------------------------------------\u001b[0m",
      "\u001b[0;31mKeyboardInterrupt\u001b[0m                         Traceback (most recent call last)",
      "Cell \u001b[0;32mIn[21], line 1\u001b[0m\n\u001b[0;32m----> 1\u001b[0m model \u001b[38;5;241m=\u001b[39m \u001b[43mtrain\u001b[49m\u001b[43m(\u001b[49m\u001b[43mtrain_loader\u001b[49m\u001b[43m,\u001b[49m\u001b[43m \u001b[49m\u001b[43mtest_loader\u001b[49m\u001b[43m,\u001b[49m\u001b[43m \u001b[49m\u001b[43mdevice\u001b[49m\u001b[43m)\u001b[49m\n",
      "Cell \u001b[0;32mIn[20], line 43\u001b[0m, in \u001b[0;36mtrain\u001b[0;34m(train_loader, test_loader, device)\u001b[0m\n\u001b[1;32m     40\u001b[0m y \u001b[38;5;241m=\u001b[39m y\u001b[38;5;241m.\u001b[39mto(device)\n\u001b[1;32m     42\u001b[0m optimizer\u001b[38;5;241m.\u001b[39mzero_grad()\n\u001b[0;32m---> 43\u001b[0m output \u001b[38;5;241m=\u001b[39m \u001b[43mmodel\u001b[49m\u001b[43m(\u001b[49m\u001b[43mX\u001b[49m\u001b[43m)\u001b[49m\n\u001b[1;32m     44\u001b[0m loss \u001b[38;5;241m=\u001b[39m criterion(output, y)\n\u001b[1;32m     45\u001b[0m loss\u001b[38;5;241m.\u001b[39mbackward()\n",
      "File \u001b[0;32m~/miniconda3/envs/mldd23/lib/python3.9/site-packages/torch/nn/modules/module.py:1194\u001b[0m, in \u001b[0;36mModule._call_impl\u001b[0;34m(self, *input, **kwargs)\u001b[0m\n\u001b[1;32m   1190\u001b[0m \u001b[38;5;66;03m# If we don't have any hooks, we want to skip the rest of the logic in\u001b[39;00m\n\u001b[1;32m   1191\u001b[0m \u001b[38;5;66;03m# this function, and just call forward.\u001b[39;00m\n\u001b[1;32m   1192\u001b[0m \u001b[38;5;28;01mif\u001b[39;00m \u001b[38;5;129;01mnot\u001b[39;00m (\u001b[38;5;28mself\u001b[39m\u001b[38;5;241m.\u001b[39m_backward_hooks \u001b[38;5;129;01mor\u001b[39;00m \u001b[38;5;28mself\u001b[39m\u001b[38;5;241m.\u001b[39m_forward_hooks \u001b[38;5;129;01mor\u001b[39;00m \u001b[38;5;28mself\u001b[39m\u001b[38;5;241m.\u001b[39m_forward_pre_hooks \u001b[38;5;129;01mor\u001b[39;00m _global_backward_hooks\n\u001b[1;32m   1193\u001b[0m         \u001b[38;5;129;01mor\u001b[39;00m _global_forward_hooks \u001b[38;5;129;01mor\u001b[39;00m _global_forward_pre_hooks):\n\u001b[0;32m-> 1194\u001b[0m     \u001b[38;5;28;01mreturn\u001b[39;00m \u001b[43mforward_call\u001b[49m\u001b[43m(\u001b[49m\u001b[38;5;241;43m*\u001b[39;49m\u001b[38;5;28;43minput\u001b[39;49m\u001b[43m,\u001b[49m\u001b[43m \u001b[49m\u001b[38;5;241;43m*\u001b[39;49m\u001b[38;5;241;43m*\u001b[39;49m\u001b[43mkwargs\u001b[49m\u001b[43m)\u001b[49m\n\u001b[1;32m   1195\u001b[0m \u001b[38;5;66;03m# Do not call functions when jit is used\u001b[39;00m\n\u001b[1;32m   1196\u001b[0m full_backward_hooks, non_full_backward_hooks \u001b[38;5;241m=\u001b[39m [], []\n",
      "Cell \u001b[0;32mIn[9], line 17\u001b[0m, in \u001b[0;36mEncoderDecoder.forward\u001b[0;34m(self, x)\u001b[0m\n\u001b[1;32m     15\u001b[0m decoded \u001b[38;5;241m=\u001b[39m []\n\u001b[1;32m     16\u001b[0m \u001b[38;5;28;01mfor\u001b[39;00m n \u001b[38;5;129;01min\u001b[39;00m \u001b[38;5;28mrange\u001b[39m(\u001b[38;5;241m128\u001b[39m):\n\u001b[0;32m---> 17\u001b[0m     out, hidden \u001b[38;5;241m=\u001b[39m \u001b[38;5;28;43mself\u001b[39;49m\u001b[38;5;241;43m.\u001b[39;49m\u001b[43mdecoder\u001b[49m\u001b[43m(\u001b[49m\u001b[43mx\u001b[49m\u001b[43m,\u001b[49m\u001b[43m \u001b[49m\u001b[43mhidden\u001b[49m\u001b[43m)\u001b[49m\n\u001b[1;32m     18\u001b[0m     x \u001b[38;5;241m=\u001b[39m out\n\u001b[1;32m     19\u001b[0m     out \u001b[38;5;241m=\u001b[39m \u001b[38;5;28mself\u001b[39m\u001b[38;5;241m.\u001b[39mrelu(\u001b[38;5;28mself\u001b[39m\u001b[38;5;241m.\u001b[39mfc(out))\n",
      "File \u001b[0;32m~/miniconda3/envs/mldd23/lib/python3.9/site-packages/torch/nn/modules/module.py:1194\u001b[0m, in \u001b[0;36mModule._call_impl\u001b[0;34m(self, *input, **kwargs)\u001b[0m\n\u001b[1;32m   1190\u001b[0m \u001b[38;5;66;03m# If we don't have any hooks, we want to skip the rest of the logic in\u001b[39;00m\n\u001b[1;32m   1191\u001b[0m \u001b[38;5;66;03m# this function, and just call forward.\u001b[39;00m\n\u001b[1;32m   1192\u001b[0m \u001b[38;5;28;01mif\u001b[39;00m \u001b[38;5;129;01mnot\u001b[39;00m (\u001b[38;5;28mself\u001b[39m\u001b[38;5;241m.\u001b[39m_backward_hooks \u001b[38;5;129;01mor\u001b[39;00m \u001b[38;5;28mself\u001b[39m\u001b[38;5;241m.\u001b[39m_forward_hooks \u001b[38;5;129;01mor\u001b[39;00m \u001b[38;5;28mself\u001b[39m\u001b[38;5;241m.\u001b[39m_forward_pre_hooks \u001b[38;5;129;01mor\u001b[39;00m _global_backward_hooks\n\u001b[1;32m   1193\u001b[0m         \u001b[38;5;129;01mor\u001b[39;00m _global_forward_hooks \u001b[38;5;129;01mor\u001b[39;00m _global_forward_pre_hooks):\n\u001b[0;32m-> 1194\u001b[0m     \u001b[38;5;28;01mreturn\u001b[39;00m \u001b[43mforward_call\u001b[49m\u001b[43m(\u001b[49m\u001b[38;5;241;43m*\u001b[39;49m\u001b[38;5;28;43minput\u001b[39;49m\u001b[43m,\u001b[49m\u001b[43m \u001b[49m\u001b[38;5;241;43m*\u001b[39;49m\u001b[38;5;241;43m*\u001b[39;49m\u001b[43mkwargs\u001b[49m\u001b[43m)\u001b[49m\n\u001b[1;32m   1195\u001b[0m \u001b[38;5;66;03m# Do not call functions when jit is used\u001b[39;00m\n\u001b[1;32m   1196\u001b[0m full_backward_hooks, non_full_backward_hooks \u001b[38;5;241m=\u001b[39m [], []\n",
      "Cell \u001b[0;32mIn[8], line 38\u001b[0m, in \u001b[0;36mDecoderNet.forward\u001b[0;34m(self, x, h)\u001b[0m\n\u001b[1;32m     36\u001b[0m \u001b[38;5;28;01mdef\u001b[39;00m \u001b[38;5;21mforward\u001b[39m(\u001b[38;5;28mself\u001b[39m, x, h):\n\u001b[1;32m     37\u001b[0m     \u001b[38;5;66;03m#x.shape = [batch_size, selfie_len, encoding_size] = [64, 128, 256]\u001b[39;00m\n\u001b[0;32m---> 38\u001b[0m     out, h \u001b[38;5;241m=\u001b[39m \u001b[38;5;28;43mself\u001b[39;49m\u001b[38;5;241;43m.\u001b[39;49m\u001b[43mgru\u001b[49m\u001b[43m(\u001b[49m\u001b[43mx\u001b[49m\u001b[43m,\u001b[49m\u001b[43m \u001b[49m\u001b[43mh\u001b[49m\u001b[43m)\u001b[49m\n\u001b[1;32m     39\u001b[0m     \u001b[38;5;66;03m#out.shape = [batch_size, selfie_len, hidden_size] = [64, 128, 256]\u001b[39;00m\n\u001b[1;32m     40\u001b[0m     \u001b[38;5;66;03m#h.shape = [num_layers, batch_size, hidden_size] = [1, 64, 256]\u001b[39;00m\n\u001b[1;32m     41\u001b[0m     out1 \u001b[38;5;241m=\u001b[39m \u001b[38;5;28mself\u001b[39m\u001b[38;5;241m.\u001b[39mfc(\u001b[38;5;28mself\u001b[39m\u001b[38;5;241m.\u001b[39mrelu(out))\n",
      "File \u001b[0;32m~/miniconda3/envs/mldd23/lib/python3.9/site-packages/torch/nn/modules/module.py:1194\u001b[0m, in \u001b[0;36mModule._call_impl\u001b[0;34m(self, *input, **kwargs)\u001b[0m\n\u001b[1;32m   1190\u001b[0m \u001b[38;5;66;03m# If we don't have any hooks, we want to skip the rest of the logic in\u001b[39;00m\n\u001b[1;32m   1191\u001b[0m \u001b[38;5;66;03m# this function, and just call forward.\u001b[39;00m\n\u001b[1;32m   1192\u001b[0m \u001b[38;5;28;01mif\u001b[39;00m \u001b[38;5;129;01mnot\u001b[39;00m (\u001b[38;5;28mself\u001b[39m\u001b[38;5;241m.\u001b[39m_backward_hooks \u001b[38;5;129;01mor\u001b[39;00m \u001b[38;5;28mself\u001b[39m\u001b[38;5;241m.\u001b[39m_forward_hooks \u001b[38;5;129;01mor\u001b[39;00m \u001b[38;5;28mself\u001b[39m\u001b[38;5;241m.\u001b[39m_forward_pre_hooks \u001b[38;5;129;01mor\u001b[39;00m _global_backward_hooks\n\u001b[1;32m   1193\u001b[0m         \u001b[38;5;129;01mor\u001b[39;00m _global_forward_hooks \u001b[38;5;129;01mor\u001b[39;00m _global_forward_pre_hooks):\n\u001b[0;32m-> 1194\u001b[0m     \u001b[38;5;28;01mreturn\u001b[39;00m \u001b[43mforward_call\u001b[49m\u001b[43m(\u001b[49m\u001b[38;5;241;43m*\u001b[39;49m\u001b[38;5;28;43minput\u001b[39;49m\u001b[43m,\u001b[49m\u001b[43m \u001b[49m\u001b[38;5;241;43m*\u001b[39;49m\u001b[38;5;241;43m*\u001b[39;49m\u001b[43mkwargs\u001b[49m\u001b[43m)\u001b[49m\n\u001b[1;32m   1195\u001b[0m \u001b[38;5;66;03m# Do not call functions when jit is used\u001b[39;00m\n\u001b[1;32m   1196\u001b[0m full_backward_hooks, non_full_backward_hooks \u001b[38;5;241m=\u001b[39m [], []\n",
      "File \u001b[0;32m~/miniconda3/envs/mldd23/lib/python3.9/site-packages/torch/nn/modules/rnn.py:955\u001b[0m, in \u001b[0;36mGRU.forward\u001b[0;34m(self, input, hx)\u001b[0m\n\u001b[1;32m    953\u001b[0m \u001b[38;5;28mself\u001b[39m\u001b[38;5;241m.\u001b[39mcheck_forward_args(\u001b[38;5;28minput\u001b[39m, hx, batch_sizes)\n\u001b[1;32m    954\u001b[0m \u001b[38;5;28;01mif\u001b[39;00m batch_sizes \u001b[38;5;129;01mis\u001b[39;00m \u001b[38;5;28;01mNone\u001b[39;00m:\n\u001b[0;32m--> 955\u001b[0m     result \u001b[38;5;241m=\u001b[39m \u001b[43m_VF\u001b[49m\u001b[38;5;241;43m.\u001b[39;49m\u001b[43mgru\u001b[49m\u001b[43m(\u001b[49m\u001b[38;5;28;43minput\u001b[39;49m\u001b[43m,\u001b[49m\u001b[43m \u001b[49m\u001b[43mhx\u001b[49m\u001b[43m,\u001b[49m\u001b[43m \u001b[49m\u001b[38;5;28;43mself\u001b[39;49m\u001b[38;5;241;43m.\u001b[39;49m\u001b[43m_flat_weights\u001b[49m\u001b[43m,\u001b[49m\u001b[43m \u001b[49m\u001b[38;5;28;43mself\u001b[39;49m\u001b[38;5;241;43m.\u001b[39;49m\u001b[43mbias\u001b[49m\u001b[43m,\u001b[49m\u001b[43m \u001b[49m\u001b[38;5;28;43mself\u001b[39;49m\u001b[38;5;241;43m.\u001b[39;49m\u001b[43mnum_layers\u001b[49m\u001b[43m,\u001b[49m\n\u001b[1;32m    956\u001b[0m \u001b[43m                     \u001b[49m\u001b[38;5;28;43mself\u001b[39;49m\u001b[38;5;241;43m.\u001b[39;49m\u001b[43mdropout\u001b[49m\u001b[43m,\u001b[49m\u001b[43m \u001b[49m\u001b[38;5;28;43mself\u001b[39;49m\u001b[38;5;241;43m.\u001b[39;49m\u001b[43mtraining\u001b[49m\u001b[43m,\u001b[49m\u001b[43m \u001b[49m\u001b[38;5;28;43mself\u001b[39;49m\u001b[38;5;241;43m.\u001b[39;49m\u001b[43mbidirectional\u001b[49m\u001b[43m,\u001b[49m\u001b[43m \u001b[49m\u001b[38;5;28;43mself\u001b[39;49m\u001b[38;5;241;43m.\u001b[39;49m\u001b[43mbatch_first\u001b[49m\u001b[43m)\u001b[49m\n\u001b[1;32m    957\u001b[0m \u001b[38;5;28;01melse\u001b[39;00m:\n\u001b[1;32m    958\u001b[0m     result \u001b[38;5;241m=\u001b[39m _VF\u001b[38;5;241m.\u001b[39mgru(\u001b[38;5;28minput\u001b[39m, batch_sizes, hx, \u001b[38;5;28mself\u001b[39m\u001b[38;5;241m.\u001b[39m_flat_weights, \u001b[38;5;28mself\u001b[39m\u001b[38;5;241m.\u001b[39mbias,\n\u001b[1;32m    959\u001b[0m                      \u001b[38;5;28mself\u001b[39m\u001b[38;5;241m.\u001b[39mnum_layers, \u001b[38;5;28mself\u001b[39m\u001b[38;5;241m.\u001b[39mdropout, \u001b[38;5;28mself\u001b[39m\u001b[38;5;241m.\u001b[39mtraining, \u001b[38;5;28mself\u001b[39m\u001b[38;5;241m.\u001b[39mbidirectional)\n",
      "\u001b[0;31mKeyboardInterrupt\u001b[0m: "
     ]
    },
    {
     "data": {
      "image/png": "[encoded data removed]",
      "text/plain": [
       "<Figure size 700x300 with 2 Axes>"
      ]
     },
     "metadata": {},
     "output_type": "display_data"
    }
   ],
   "source": [
    "model = train(train_loader, test_loader, device)"
   ]
  },
  {
   "cell_type": "code",
   "execution_count": null,
   "id": "f8614d46",
   "metadata": {
    "id": "f8614d46"
   },
   "outputs": [],
   "source": [
    "# save model just in case\n",
    "torch.save(model.state_dict(), './GRU_data/test1.pt')"
   ]
  },
  {
   "cell_type": "code",
   "execution_count": null,
   "id": "2bad90c0",
   "metadata": {
    "id": "2bad90c0"
   },
   "outputs": [],
   "source": [
    "#loaded_model = Autoencoder(4860, 300, 300, 42, 2, 0.0).to(device)\n",
    "#loaded_model.load_state_dict(torch.load('./GRU_data/model_h300_e500_teacher_forcing.pt'))"
   ]
  },
  {
   "cell_type": "code",
   "execution_count": null,
   "id": "2e768d4a",
   "metadata": {
    "id": "2e768d4a"
   },
   "outputs": [],
   "source": [
    "x, y = next(iter(test_loader))\n",
    "x = x.to(device)\n",
    "x.size()"
   ]
  },
  {
   "cell_type": "code",
   "execution_count": null,
   "id": "9dbdfd19",
   "metadata": {
    "id": "9dbdfd19"
   },
   "outputs": [],
   "source": [
    "encoded, decoded = loaded_model(x)"
   ]
  },
  {
   "cell_type": "markdown",
   "id": "bfe6bfa9",
   "metadata": {
    "id": "bfe6bfa9"
   },
   "source": [
    "# GRU output to SELFIES"
   ]
  },
  {
   "cell_type": "code",
   "execution_count": null,
   "id": "2aab1202",
   "metadata": {
    "id": "2aab1202"
   },
   "outputs": [],
   "source": [
    "decoded_indices = torch.argmax(decoded.cpu(), dim=2)\n",
    "decoded_indices = decoded_indices.numpy()"
   ]
  },
  {
   "cell_type": "code",
   "execution_count": null,
   "id": "c4a1d92f",
   "metadata": {
    "id": "c4a1d92f"
   },
   "outputs": [],
   "source": [
    "# set largers value to 1 and others to 0\n",
    "decoded_indices = torch.argmax(decoded.cpu(), dim=2)\n",
    "decoded_indices = decoded_indices.numpy()\n",
    "selfies_out = []\n",
    "for i, original in zip(decoded_indices, y):\n",
    "    vectorized = []\n",
    "    #print(f'Decoded: {i}')\n",
    "    #convert to one-hot\n",
    "    for number in i:\n",
    "        v = np.zeros(42)\n",
    "        v[number] = 1\n",
    "        vectorized.append(v)\n",
    "    vectorized = np.array(vectorized)\n",
    "    selfies_out.append(vectorizer.devectorize(vectorized, remove_special=True))\n",
    "    print(f'Original: {vectorizer.devectorize(original.cpu().numpy())} \\n')\n",
    "    print(f'Decoded:  {vectorizer.devectorize(vectorized)}')\n",
    "    print('------------------')"
   ]
  },
  {
   "cell_type": "code",
   "execution_count": null,
   "id": "1efcd595",
   "metadata": {
    "id": "1efcd595"
   },
   "outputs": [],
   "source": [
    "from rdkit import Chem\n",
    "from rdkit.Chem import Draw\n",
    "\n",
    "smiles = []\n",
    "for selfie in selfies_out:\n",
    "    smile = sf.decoder(selfie, attribute=False)\n",
    "    smiles.append(smile)\n",
    "\n",
    "ms = []\n",
    "for smile in smiles:\n",
    "    ms.append(Chem.MolFromSmiles(smile))\n",
    "Draw.MolToImage(ms[5], size=(800, 800), kekulize=True)"
   ]
  }
 ],
 "metadata": {
  "accelerator": "GPU",
  "colab": {
   "gpuType": "T4",
   "provenance": []
  },
  "kernelspec": {
   "display_name": "Python 3 (ipykernel)",
   "language": "python",
   "name": "python3"
  },
  "language_info": {
   "codemirror_mode": {
    "name": "ipython",
    "version": 3
   },
   "file_extension": ".py",
   "mimetype": "text/x-python",
   "name": "python",
   "nbconvert_exporter": "python",
   "pygments_lexer": "ipython3",
   "version": "3.9.16"
  }
 },
 "nbformat": 4,
 "nbformat_minor": 5
}
