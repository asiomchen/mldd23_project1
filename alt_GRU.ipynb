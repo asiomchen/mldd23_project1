{
 "cells": [
  {
   "cell_type": "code",
   "execution_count": 49,
   "id": "6ef6f3f5",
   "metadata": {
    "id": "6ef6f3f5"
   },
   "outputs": [],
   "source": [
    "# import packages\n",
    "import torch\n",
    "import torch.nn as nn\n",
    "import torch.optim as optim\n",
    "import torch.utils.data as data_utils\n",
    "import torch.functional as F\n",
    "import numpy as np\n",
    "import pandas as pd\n",
    "import time\n",
    "import random\n",
    "import matplotlib.pyplot as plt\n",
    "import re\n",
    "from tqdm import tqdm\n",
    "from IPython import display"
   ]
  },
  {
   "cell_type": "code",
   "execution_count": 50,
   "id": "N3BCODbh2PhC",
   "metadata": {
    "colab": {
     "base_uri": "https://localhost:8080/"
    },
    "id": "N3BCODbh2PhC",
    "outputId": "8bd492a5-ce65-45bc-b0dd-e4df02d124ee"
   },
   "outputs": [
    {
     "name": "stdout",
     "output_type": "stream",
     "text": [
      "cuda\n"
     ]
    }
   ],
   "source": [
    "# set colab/local and cpu/cuda\n",
    "COLAB = False\n",
    "device = torch.device('cuda' if torch.cuda.is_available() else 'cpu')\n",
    "print(device)"
   ]
  },
  {
   "cell_type": "code",
   "execution_count": 51,
   "id": "9b8b28d1",
   "metadata": {
    "colab": {
     "base_uri": "https://localhost:8080/"
    },
    "id": "9b8b28d1",
    "outputId": "b6250594-0a9a-44ec-a2ad-97e33e86c466"
   },
   "outputs": [],
   "source": [
    "if COLAB:\n",
    "    # iload data from google drive\n",
    "    from google.colab import drive\n",
    "\n",
    "    drive.mount('/content/drive', force_remount=True)\n",
    "\n",
    "    !pip install selfies\n",
    "    !pip install wandb\n",
    "\n",
    "    x_path = '/content/drive/My Drive/GRU_data/250k_klek.csv'\n",
    "    y_path = '/content/drive/My Drive/GRU_data/250k_selfies.csv'\n",
    "else:\n",
    "    # load data from local directory\n",
    "    x_path = './GRU_data/250k_klek.csv'\n",
    "    y_path = './GRU_data/250k_selfies.csv'\n",
    "import wandb"
   ]
  },
  {
   "cell_type": "code",
   "execution_count": 52,
   "id": "a846df51",
   "metadata": {
    "colab": {
     "base_uri": "https://localhost:8080/"
    },
    "id": "a846df51",
    "outputId": "3bc1bd44-6af1-40a2-f032-bae2d9b64dd6"
   },
   "outputs": [
    {
     "name": "stdout",
     "output_type": "stream",
     "text": [
      "\u001b[34m\u001b[1mwandb\u001b[0m: Currently logged in as: \u001b[33mhubertrybka1\u001b[0m (\u001b[33mmldd23\u001b[0m). Use \u001b[1m`wandb login --relogin`\u001b[0m to force relogin\r\n"
     ]
    }
   ],
   "source": [
    "# weights and biases\n",
    "!wandb login"
   ]
  },
  {
   "cell_type": "markdown",
   "id": "f16dfcb1",
   "metadata": {
    "id": "f16dfcb1"
   },
   "source": [
    "# Data prep"
   ]
  },
  {
   "cell_type": "code",
   "execution_count": 53,
   "id": "8a3fbcdb",
   "metadata": {
    "id": "8a3fbcdb"
   },
   "outputs": [],
   "source": [
    "# alphabet of tokens for output\n",
    "\n",
    "import selfies as sf\n",
    "data = pd.read_csv(y_path)\n",
    "alphabet = sf.get_alphabet_from_selfies(data.selfies)\n",
    "alphabet.add(\"[start]\")\n",
    "alphabet.add(\"[end]\")\n",
    "alphabet.add(\"[nop]\") # [nop] is a special padding symbol\n",
    "alphabet = list(sorted(alphabet))\n",
    "#pad_to_len = max(sf.len_selfies(s) for s in data.selfies) + 10\n",
    "pad_to_len = 128 # for simplicities' sake\n",
    "symbol_to_idx = {s: i for i, s in enumerate(alphabet)}\n",
    "idx2char = {i: s for i, s in enumerate(alphabet)}"
   ]
  },
  {
   "cell_type": "code",
   "execution_count": 54,
   "id": "f55a6d94",
   "metadata": {
    "id": "f55a6d94"
   },
   "outputs": [],
   "source": [
    "class SELFIESVectorizer:\n",
    "    def __init__(self, alphabet, pad_to_len=None):\n",
    "        self.alphabet = alphabet\n",
    "        self.char2idx = {s: i for i, s in enumerate(alphabet)}\n",
    "        self.idx2char = {i: s for i, s in enumerate(alphabet)}\n",
    "        self.pad_to_len = pad_to_len\n",
    "    def vectorize(self, selfie, no_special=False):\n",
    "        ''' Vectorize a list of SMILES strings to a numpy array of shape (len(smiles), embed, len(charset))'''\n",
    "        if no_special:\n",
    "            splited = self.split_selfi(selfie)\n",
    "        elif self.pad_to_len is None:\n",
    "            splited = ['[start]'] + self.split_selfi(selfie) + ['[end]']\n",
    "        else:\n",
    "            splited = ['[start]'] + self.split_selfi(selfie) + ['[end]'] + ['[nop]'] * (self.pad_to_len - len(self.split_selfi(selfie)) - 2)\n",
    "        X = np.zeros((len(splited), len(self.alphabet)))\n",
    "        for i in range(len(splited)):\n",
    "            X[i, self.char2idx[splited[i]]] = 1\n",
    "        return X\n",
    "    def devectorize(self, ohe, remove_special=False):\n",
    "        ''' Devectorize a numpy array of shape (len(smiles), embed, len(charset)) to a list of SMILES strings'''\n",
    "        selfie_str = ''\n",
    "        for j in range(ohe.shape[0]):\n",
    "            idx = np.argmax(ohe[j, :])\n",
    "            if remove_special and (self.idx2char[idx] == '[start]' or self.idx2char[idx] == '[end]'):\n",
    "                continue\n",
    "            selfie_str += self.idx2char[idx]\n",
    "        return selfie_str\n",
    "    def idxize(self, selfie, no_special=False):\n",
    "        if no_special:\n",
    "            splited = self.split_selfi(selfie)\n",
    "        else:\n",
    "            splited = ['[start]'] + self.split_selfi(selfie) + ['[end]'] + ['[nop]'] * (self.pad_to_len - len(self.split_selfi(selfie)) - 2)\n",
    "        return np.array([self.char2idx[s] for s in splited])\n",
    "    def deidxize(self, idx):\n",
    "        return \"\".join([self.idx2char[i] for i in idx])\n",
    "    def split_selfi(self, selfie):\n",
    "        pattern = r'(\\[[^\\[\\]]*\\])'\n",
    "        return re.findall(pattern, selfie)\n",
    "vectorizer = SELFIESVectorizer(alphabet, pad_to_len)"
   ]
  },
  {
   "cell_type": "code",
   "execution_count": 55,
   "id": "6538d564",
   "metadata": {
    "id": "6538d564"
   },
   "outputs": [],
   "source": [
    "from torch.utils.data import Dataset, DataLoader\n",
    "\n",
    "class GRUDatasetv2(Dataset):\n",
    "    def __init__(self, smiles_fp, selfies, vectorizer):\n",
    "        self.smiles_fp = pd.read_csv(smiles_fp)\n",
    "        self.selfies = pd.read_csv(selfies)\n",
    "        self.selfies= self.prepare_y(self.selfies)\n",
    "        self.vectorizer = vectorizer\n",
    "    def __len__(self):\n",
    "        return len(self.smiles_fp)\n",
    "    def __getitem__(self, idx):\n",
    "        raw_selfie = self.selfies[idx][0]\n",
    "        vectorized_selfie = self.vectorizer.vectorize(raw_selfie)\n",
    "        raw_X = self.smiles_fp.fps[idx]\n",
    "        X = np.array(eval(raw_X), dtype=int)\n",
    "        X_reconstructed = self.reconstruct_fp(X)\n",
    "        return torch.from_numpy(X_reconstructed).float(), torch.from_numpy(vectorized_selfie).float()\n",
    "\n",
    "    @staticmethod\n",
    "    def prepare_X(smiles_fp):\n",
    "        fps = smiles_fp.fps.apply(eval).apply(lambda x: np.array(x, dtype=int))\n",
    "        return fps\n",
    "    @staticmethod\n",
    "    def prepare_y(selfies):\n",
    "        return selfies.values\n",
    "        \n",
    "    @staticmethod\n",
    "    def reconstruct_fp(fp, length=4860):\n",
    "        fp_rec = np.zeros(length)\n",
    "        fp_rec[fp] = 1\n",
    "        return fp_rec"
   ]
  },
  {
   "cell_type": "code",
   "execution_count": 56,
   "id": "062168b4",
   "metadata": {
    "id": "062168b4"
   },
   "outputs": [],
   "source": [
    "dataset = GRUDatasetv2(x_path, y_path, vectorizer)\n",
    "train_size = int(0.9 * len(dataset))\n",
    "test_size = len(dataset) - train_size\n",
    "train_dataset, test_dataset = torch.utils.data.random_split(dataset, [train_size, test_size])"
   ]
  },
  {
   "cell_type": "code",
   "execution_count": 57,
   "id": "3a16a986",
   "metadata": {
    "colab": {
     "base_uri": "https://localhost:8080/"
    },
    "id": "3a16a986",
    "outputId": "80f485a2-261c-4c76-a219-a7679febb5d1"
   },
   "outputs": [
    {
     "name": "stdout",
     "output_type": "stream",
     "text": [
      "Dataset size: 183879\n",
      "Train size: 165491\n",
      "Test size: 18388\n"
     ]
    }
   ],
   "source": [
    "print(\"Dataset size:\", len(dataset))\n",
    "print(\"Train size:\", len(train_dataset))\n",
    "print(\"Test size:\", len(test_dataset))"
   ]
  },
  {
   "cell_type": "code",
   "execution_count": 58,
   "id": "da4f014e",
   "metadata": {
    "id": "da4f014e"
   },
   "outputs": [],
   "source": [
    "batch_size = 256\n",
    "train_loader = DataLoader(train_dataset, shuffle=True, batch_size=batch_size, drop_last=True)\n",
    "test_loader = DataLoader(test_dataset, shuffle=False, batch_size=batch_size, drop_last=True)"
   ]
  },
  {
   "cell_type": "markdown",
   "id": "02f39daf",
   "metadata": {
    "id": "02f39daf"
   },
   "source": [
    "# NN architecture"
   ]
  },
  {
   "cell_type": "code",
   "execution_count": 59,
   "id": "8248e95c",
   "metadata": {
    "id": "8248e95c"
   },
   "outputs": [],
   "source": [
    "class EncoderNet(nn.Module):\n",
    "    def __init__(self, fp_size, encoding_size):\n",
    "        super(EncoderNet, self).__init__()\n",
    "        self.relu = nn.ReLU()\n",
    "        self.fc1 = nn.Linear(fp_size, 2048)\n",
    "        self.fc2 = nn.Linear(2048, 1024)\n",
    "        self.fc3 = nn.Linear(1024, 512)\n",
    "        self.fc4 = nn.Linear(512, encoding_size)\n",
    "    def forward(self, x):\n",
    "        out = self.relu(self.fc1(x))\n",
    "        out = self.relu(self.fc2(out))\n",
    "        out = self.relu(self.fc3(out))\n",
    "        out = self.relu(self.fc4(out))\n",
    "        #out.shape = [batch_size, 256]\n",
    "        return out\n",
    "\n",
    "\n",
    "class DecoderNet(nn.Module):\n",
    "    def __init__(self, input_size, hidden_size, num_layers, output_size, dropout):\n",
    "        super(DecoderNet, self).__init__()\n",
    "        \n",
    "        # GRU parameters\n",
    "        self.input_size = input_size\n",
    "        self.hidden_size = hidden_size\n",
    "        self.num_layers = num_layers\n",
    "        self.dropout = dropout\n",
    "        \n",
    "        # output token count\n",
    "        self.output_size = output_size\n",
    "\n",
    "        # pytorch.nn\n",
    "        self.gru = nn.GRU(input_size=input_size, hidden_size=hidden_size, num_layers=num_layers, \n",
    "                          dropout=dropout, batch_first=True)\n",
    "        self.fc = nn.Linear(hidden_size, output_size)\n",
    "        self.softmax = nn.Softmax(dim=2)\n",
    "        self.relu = nn.ReLU()\n",
    "\n",
    "    def forward(self, x, h):\n",
    "        #x.shape = [batch_size, selfie_len, encoding_size] = [64, 128, 256]\n",
    "        out, h = self.gru(x, h)\n",
    "        #out.shape = [batch_size, selfie_len, hidden_size] = [64, 128, 256]\n",
    "        #h.shape = [num_layers, batch_size, hidden_size] = [1, 64, 256]\n",
    "        return out, h\n",
    "    \n",
    "    def init_hidden(self, batch_size):\n",
    "        h0 = torch.zeros(self.num_layers, batch_size, self.hidden_size)\n",
    "        return h0"
   ]
  },
  {
   "cell_type": "code",
   "execution_count": 60,
   "id": "ea11abf2",
   "metadata": {
    "id": "ea11abf2"
   },
   "outputs": [],
   "source": [
    "class EncoderDecoder(nn.Module):\n",
    "    def __init__(self, fp_size=4860, encoding_size=256, hidden_size=256, num_layers=2, output_size=42, dropout=0.2):\n",
    "        super(EncoderDecoder, self).__init__()\n",
    "        self.encoder = EncoderNet(fp_size, encoding_size)\n",
    "        self.decoder = DecoderNet(encoding_size, hidden_size, num_layers, output_size, dropout)\n",
    "        self.encoding_size = encoding_size\n",
    "        self.hidden_size = hidden_size\n",
    "\n",
    "        #pytorch.nn\n",
    "        self.fc = nn.Linear(hidden_size, 42)\n",
    "        self.relu = nn.ReLU()\n",
    "        self.softmax2d = nn.Softmax(dim=2)\n",
    "        \n",
    "    def forward(self, x):\n",
    "        hidden = self.decoder.init_hidden(batch_size=x.shape[0]).to(device)\n",
    "        encoded = self.encoder(x)\n",
    "        x = encoded.unsqueeze(1)\n",
    "        decoded = []\n",
    "        for n in range(128):\n",
    "            out, hidden = self.decoder(x, hidden)\n",
    "            x = out\n",
    "            out = self.relu(self.fc(out))\n",
    "            decoded.append(out)\n",
    "        out_cat = torch.cat(decoded, dim=1)\n",
    "        out_cat = self.softmax2d(out_cat)\n",
    "        return out_cat # shape [batch_size, selfie_len, alphabet_len]"
   ]
  },
  {
   "cell_type": "markdown",
   "id": "c3f697df",
   "metadata": {
    "id": "c3f697df"
   },
   "source": [
    "# Training loop"
   ]
  },
  {
   "cell_type": "code",
   "execution_count": 61,
   "id": "Xp8fh69W_hNo",
   "metadata": {
    "id": "Xp8fh69W_hNo"
   },
   "outputs": [],
   "source": [
    "class ConsciousCrossEntropy(nn.Module):\n",
    "    def __init__(self):\n",
    "        super(ConsciousCrossEntropy, self).__init__();\n",
    "        self.batch_size = 256\n",
    "        self.alphabet_len = 42\n",
    "        self.seq_len = 128\n",
    "        self.idx_ignore = 40 # index of token to ignore\n",
    "        self.ignore = self.prep_token_to_ignore()\n",
    "\n",
    "    def forward(self, target, predictions):\n",
    "        cross_entropy_loss = 0\n",
    "        for y_true, y in zip(target, predictions):\n",
    "            sequence_loss = 0\n",
    "            mask = self.prep_mask(y_true)\n",
    "            nops = torch.sum(mask)\n",
    "            product = torch.mul(y_true, y)\n",
    "            prob = torch.sum(product, dim=1)\n",
    "            loss = -torch.log(prob)\n",
    "            loss_masked = torch.mul(loss, mask)\n",
    "            sequence_loss = torch.sum(loss_masked)/(self.seq_len - nops)\n",
    "            cross_entropy_loss += sequence_loss\n",
    "        loss_value = cross_entropy_loss/self.batch_size\n",
    "        return loss_value\n",
    "\n",
    "    def prep_token_to_ignore(self):\n",
    "        ignore = torch.zeros(self.alphabet_len).to(device)\n",
    "        ignore[self.idx_ignore] = 1\n",
    "        ignore = ignore.unsqueeze(0).repeat(128,1)\n",
    "        return ignore\n",
    "\n",
    "    def prep_mask(self, y_true): \n",
    "        # look through target SELFIES sequence and prepare mask\n",
    "        # as a tensor of size [128] with 0s on [nop] symbol\n",
    "        # and 1s for all the other tokens\n",
    "        v1 = torch.zeros(self.alphabet_len).to(device)\n",
    "        v1[self.idx_ignore] = 1\n",
    "        m1 = v1.unsqueeze(0).repeat(y_true.shape[0], 1)\n",
    "        product = torch.mul(y_true, m1)\n",
    "        output = ~torch.sum(product, dim=1).bool()\n",
    "        output = output.float()\n",
    "        return output "
   ]
  },
  {
   "cell_type": "code",
   "execution_count": 62,
   "id": "f7b00cca",
   "metadata": {
    "id": "f7b00cca"
   },
   "outputs": [],
   "source": [
    "from IPython import display\n",
    "\n",
    "def train(train_loader, test_loader, device):\n",
    "    \n",
    "    # Setting common hyperparameters\n",
    "    EPOCHS = 50\n",
    "    hidden_size = 256\n",
    "    num_layers = 1\n",
    "    output_size = 42\n",
    "    learn_rate = 0.0005\n",
    "    \n",
    "    # Define dataframe for training progess display\n",
    "    epochs_range = range(1,EPOCHS+1)\n",
    "    metrics = pd.DataFrame(columns=['epoch', 'train_loss', 'val_loss']);\n",
    "    \n",
    "    # Define pyplot for plotting metrics\n",
    "    fig, ax = plt.subplots(ncols=2, figsize=(7, 3), layout=\"constrained\")\n",
    "    dh = display.display(fig, display_id=True)\n",
    "    \n",
    "    # Instantiating the model\n",
    "    model = EncoderDecoder(\n",
    "        fp_size=4860, \n",
    "        encoding_size=256, \n",
    "        hidden_size=256, \n",
    "        num_layers=1, \n",
    "        dropout=0).to(device)\n",
    "    \n",
    "    # Defining loss function and optimizer\n",
    "    optimizer = torch.optim.Adam(model.parameters(), lr=learn_rate)\n",
    "    criterion = ConsciousCrossEntropy()\n",
    "\n",
    "    # wandb config and init\n",
    "    config = dict()\n",
    "    config['learning rate'] = learn_rate\n",
    "    config['encoding size'] = model.encoding_size\n",
    "    config['criterion'] = criterion\n",
    "    config['optimizer'] = optimizer\n",
    "    config['num epochs'] = EPOCHS\n",
    "    config['Trainable parameters'] = sum(p.numel() for p in model.parameters() if p.requires_grad)\n",
    "    config['hidden size'] = model.hidden_size\n",
    "    config['Number of layers'] = num_layers\n",
    "    config['Dropout'] = model.decoder.dropout\n",
    "    config['Batch size'] = batch_size\n",
    "    wandb.init(project=\"encoded-to-GRU-input\", config=config)\n",
    "    \n",
    "    model.train()\n",
    "    print(\"Starting Training of GRU\")\n",
    "    print(f\"Device: {device}\")\n",
    "    # Start training loop\n",
    "    for epoch in epochs_range:\n",
    "        print(f'Epoch: {epoch}')\n",
    "        epoch_loss = 0\n",
    "        \n",
    "        for batch_idx, (X,y) in enumerate(tqdm(train_loader)):\n",
    "            X = X.to(device)\n",
    "            y = y.to(device)\n",
    "            optimizer.zero_grad()\n",
    "            output = model(X).to(device)\n",
    "            loss = criterion(y, output)\n",
    "            loss.backward()\n",
    "            optimizer.step()\n",
    "            epoch_loss += loss.item()\n",
    "            \n",
    "        # calculate loss and log to wandb\n",
    "\n",
    "        avg_loss = epoch_loss / len(train_loader)\n",
    "        val_loss = evaluate(model, test_loader)\n",
    "        metrics_dict = {'epoch': epoch, \n",
    "                        'train_loss': avg_loss, \n",
    "                        'val_loss': val_loss}\n",
    "        wandb.log(metrics_dict)\n",
    "\n",
    "        model.train()\n",
    "        # Update metrics df\n",
    "        metrics.loc[len(metrics)] = metrics_dict\n",
    "        \n",
    "        # Display metrics\n",
    "        ax[0].clear()\n",
    "        ax[0].plot(metrics.epoch, metrics.train_loss)\n",
    "        ax[0].set_title('training loss')\n",
    "        ax[0].set_xlabel('epoch')\n",
    "        ax[0].set_ylabel('CrossEntropy')\n",
    "        ax[1].clear()\n",
    "        ax[1].plot(metrics.epoch, metrics.val_loss)\n",
    "        ax[1].set_title('validation loss')\n",
    "        ax[1].set_xlabel('epoch')\n",
    "        ax[1].set_ylabel('CrossEntropy')\n",
    "        dh.update(fig)\n",
    "    plt.close()\n",
    "    wandb.finish()\n",
    "    return model\n",
    "\n",
    "def evaluate(model, test_loader):\n",
    "    model.eval()\n",
    "    criterion = ConsciousCrossEntropy()\n",
    "    epoch_loss = 0\n",
    "    for batch_idx, (X, y) in enumerate(test_loader):\n",
    "        X = X.to(device)\n",
    "        y = y.to(device)\n",
    "        output = model(X).to(device)\n",
    "        loss = criterion(y, output)\n",
    "        epoch_loss += loss.item()\n",
    "    avg_loss = epoch_loss / len(test_loader)\n",
    "    return avg_loss"
   ]
  },
  {
   "cell_type": "markdown",
   "id": "c874519b",
   "metadata": {
    "id": "c874519b"
   },
   "source": [
    "# Init and train the model"
   ]
  },
  {
   "cell_type": "code",
   "execution_count": null,
   "id": "0839d044",
   "metadata": {
    "colab": {
     "base_uri": "https://localhost:8080/",
     "height": 1000
    },
    "id": "0839d044",
    "outputId": "d39dab50-831e-446e-dc54-aff5b884bdfe"
   },
   "outputs": [
    {
     "data": {
      "image/png": "[encoded data removed]",
      "text/plain": [
       "<Figure size 700x300 with 2 Axes>"
      ]
     },
     "metadata": {},
     "output_type": "display_data"
    },
    {
     "data": {
      "text/html": [
       "Finishing last run (ID:wv0e4x3k) before initializing another..."
      ],
      "text/plain": [
       "<IPython.core.display.HTML object>"
      ]
     },
     "metadata": {},
     "output_type": "display_data"
    },
    {
     "data": {
      "text/html": [
       "Waiting for W&B process to finish... <strong style=\"color:green\">(success).</strong>"
      ],
      "text/plain": [
       "<IPython.core.display.HTML object>"
      ]
     },
     "metadata": {},
     "output_type": "display_data"
    },
    {
     "data": {
      "text/html": [
       "<style>\n",
       "    table.wandb td:nth-child(1) { padding: 0 10px; text-align: left ; width: auto;} td:nth-child(2) {text-align: left ; width: 100%}\n",
       "    .wandb-row { display: flex; flex-direction: row; flex-wrap: wrap; justify-content: flex-start; width: 100% }\n",
       "    .wandb-col { display: flex; flex-direction: column; flex-basis: 100%; flex: 1; padding: 10px; }\n",
       "    </style>\n",
       "<div class=\"wandb-row\"><div class=\"wandb-col\"><h3>Run history:</h3><br/><table class=\"wandb\"><tr><td>epoch</td><td>▁</td></tr><tr><td>train_loss</td><td>▁</td></tr><tr><td>val_loss</td><td>▁</td></tr></table><br/></div><div class=\"wandb-col\"><h3>Run summary:</h3><br/><table class=\"wandb\"><tr><td>epoch</td><td>1</td></tr><tr><td>train_loss</td><td>1.43384</td></tr><tr><td>val_loss</td><td>1.31015</td></tr></table><br/></div></div>"
      ],
      "text/plain": [
       "<IPython.core.display.HTML object>"
      ]
     },
     "metadata": {},
     "output_type": "display_data"
    },
    {
     "data": {
      "text/html": [
       " View run <strong style=\"color:#cdcd00\">light-glade-20</strong> at: <a href='https://wandb.ai/mldd23/encoded-to-GRU-input/runs/wv0e4x3k' target=\"_blank\">https://wandb.ai/mldd23/encoded-to-GRU-input/runs/wv0e4x3k</a><br/>Synced 6 W&B file(s), 0 media file(s), 0 artifact file(s) and 0 other file(s)"
      ],
      "text/plain": [
       "<IPython.core.display.HTML object>"
      ]
     },
     "metadata": {},
     "output_type": "display_data"
    },
    {
     "data": {
      "text/html": [
       "Find logs at: <code>./wandb/run-20230613_165308-wv0e4x3k/logs</code>"
      ],
      "text/plain": [
       "<IPython.core.display.HTML object>"
      ]
     },
     "metadata": {},
     "output_type": "display_data"
    },
    {
     "data": {
      "text/html": [
       "Successfully finished last run (ID:wv0e4x3k). Initializing new run:<br/>"
      ],
      "text/plain": [
       "<IPython.core.display.HTML object>"
      ]
     },
     "metadata": {},
     "output_type": "display_data"
    },
    {
     "data": {
      "application/vnd.jupyter.widget-view+json": {
       "model_id": "145e0e276d5244a99c5dc40fa43ebcdf",
       "version_major": 2,
       "version_minor": 0
      },
      "text/plain": [
       "VBox(children=(Label(value='Waiting for wandb.init()...\\r'), FloatProgress(value=0.016668875033322667, max=1.0…"
      ]
     },
     "metadata": {},
     "output_type": "display_data"
    },
    {
     "data": {
      "text/html": [
       "Tracking run with wandb version 0.15.4"
      ],
      "text/plain": [
       "<IPython.core.display.HTML object>"
      ]
     },
     "metadata": {},
     "output_type": "display_data"
    },
    {
     "data": {
      "text/html": [
       "Run data is saved locally in <code>/home/hubert/github/mldd23_project1/wandb/run-20230613_165403-1765y22e</code>"
      ],
      "text/plain": [
       "<IPython.core.display.HTML object>"
      ]
     },
     "metadata": {},
     "output_type": "display_data"
    },
    {
     "data": {
      "text/html": [
       "Syncing run <strong><a href='https://wandb.ai/mldd23/encoded-to-GRU-input/runs/1765y22e' target=\"_blank\">amber-planet-21</a></strong> to <a href='https://wandb.ai/mldd23/encoded-to-GRU-input' target=\"_blank\">Weights & Biases</a> (<a href='https://wandb.me/run' target=\"_blank\">docs</a>)<br/>"
      ],
      "text/plain": [
       "<IPython.core.display.HTML object>"
      ]
     },
     "metadata": {},
     "output_type": "display_data"
    },
    {
     "data": {
      "text/html": [
       " View project at <a href='https://wandb.ai/mldd23/encoded-to-GRU-input' target=\"_blank\">https://wandb.ai/mldd23/encoded-to-GRU-input</a>"
      ],
      "text/plain": [
       "<IPython.core.display.HTML object>"
      ]
     },
     "metadata": {},
     "output_type": "display_data"
    },
    {
     "data": {
      "text/html": [
       " View run at <a href='https://wandb.ai/mldd23/encoded-to-GRU-input/runs/1765y22e' target=\"_blank\">https://wandb.ai/mldd23/encoded-to-GRU-input/runs/1765y22e</a>"
      ],
      "text/plain": [
       "<IPython.core.display.HTML object>"
      ]
     },
     "metadata": {},
     "output_type": "display_data"
    },
    {
     "name": "stdout",
     "output_type": "stream",
     "text": [
      "Starting Training of GRU\n",
      "Device: cuda\n",
      "Epoch: 1\n"
     ]
    },
    {
     "name": "stderr",
     "output_type": "stream",
     "text": [
      "100%|█████████████████████████████████████████| 646/646 [07:18<00:00,  1.47it/s]\n"
     ]
    },
    {
     "name": "stdout",
     "output_type": "stream",
     "text": [
      "Epoch: 2\n"
     ]
    },
    {
     "name": "stderr",
     "output_type": "stream",
     "text": [
      "100%|█████████████████████████████████████████| 646/646 [05:29<00:00,  1.96it/s]\n"
     ]
    },
    {
     "name": "stdout",
     "output_type": "stream",
     "text": [
      "Epoch: 3\n"
     ]
    },
    {
     "name": "stderr",
     "output_type": "stream",
     "text": [
      "100%|█████████████████████████████████████████| 646/646 [05:37<00:00,  1.91it/s]\n"
     ]
    },
    {
     "name": "stdout",
     "output_type": "stream",
     "text": [
      "Epoch: 4\n"
     ]
    },
    {
     "name": "stderr",
     "output_type": "stream",
     "text": [
      "100%|█████████████████████████████████████████| 646/646 [05:44<00:00,  1.87it/s]\n"
     ]
    },
    {
     "name": "stdout",
     "output_type": "stream",
     "text": [
      "Epoch: 5\n"
     ]
    },
    {
     "name": "stderr",
     "output_type": "stream",
     "text": [
      "100%|█████████████████████████████████████████| 646/646 [05:50<00:00,  1.84it/s]\n"
     ]
    },
    {
     "name": "stdout",
     "output_type": "stream",
     "text": [
      "Epoch: 6\n"
     ]
    },
    {
     "name": "stderr",
     "output_type": "stream",
     "text": [
      "100%|█████████████████████████████████████████| 646/646 [05:51<00:00,  1.84it/s]\n"
     ]
    },
    {
     "name": "stdout",
     "output_type": "stream",
     "text": [
      "Epoch: 7\n"
     ]
    },
    {
     "name": "stderr",
     "output_type": "stream",
     "text": [
      "100%|█████████████████████████████████████████| 646/646 [12:51<00:00,  1.19s/it]\n"
     ]
    },
    {
     "name": "stdout",
     "output_type": "stream",
     "text": [
      "Epoch: 8\n"
     ]
    },
    {
     "name": "stderr",
     "output_type": "stream",
     "text": [
      "100%|█████████████████████████████████████████| 646/646 [08:14<00:00,  1.31it/s]\n"
     ]
    },
    {
     "name": "stdout",
     "output_type": "stream",
     "text": [
      "Epoch: 9\n"
     ]
    },
    {
     "name": "stderr",
     "output_type": "stream",
     "text": [
      "100%|█████████████████████████████████████████| 646/646 [15:32<00:00,  1.44s/it]\n"
     ]
    },
    {
     "name": "stdout",
     "output_type": "stream",
     "text": [
      "Epoch: 10\n"
     ]
    },
    {
     "name": "stderr",
     "output_type": "stream",
     "text": [
      "100%|█████████████████████████████████████████| 646/646 [15:31<00:00,  1.44s/it]\n"
     ]
    },
    {
     "name": "stdout",
     "output_type": "stream",
     "text": [
      "Epoch: 11\n"
     ]
    },
    {
     "name": "stderr",
     "output_type": "stream",
     "text": [
      "100%|█████████████████████████████████████████| 646/646 [15:37<00:00,  1.45s/it]\n"
     ]
    },
    {
     "name": "stdout",
     "output_type": "stream",
     "text": [
      "Epoch: 12\n"
     ]
    },
    {
     "name": "stderr",
     "output_type": "stream",
     "text": [
      "100%|█████████████████████████████████████████| 646/646 [15:33<00:00,  1.45s/it]\n"
     ]
    },
    {
     "name": "stdout",
     "output_type": "stream",
     "text": [
      "Epoch: 13\n"
     ]
    },
    {
     "name": "stderr",
     "output_type": "stream",
     "text": [
      "100%|█████████████████████████████████████████| 646/646 [15:34<00:00,  1.45s/it]\n"
     ]
    },
    {
     "name": "stdout",
     "output_type": "stream",
     "text": [
      "Epoch: 14\n"
     ]
    },
    {
     "name": "stderr",
     "output_type": "stream",
     "text": [
      "100%|█████████████████████████████████████████| 646/646 [15:34<00:00,  1.45s/it]\n"
     ]
    },
    {
     "name": "stdout",
     "output_type": "stream",
     "text": [
      "Epoch: 15\n"
     ]
    },
    {
     "name": "stderr",
     "output_type": "stream",
     "text": [
      "100%|█████████████████████████████████████████| 646/646 [15:33<00:00,  1.45s/it]\n"
     ]
    },
    {
     "name": "stdout",
     "output_type": "stream",
     "text": [
      "Epoch: 16\n"
     ]
    },
    {
     "name": "stderr",
     "output_type": "stream",
     "text": [
      "100%|█████████████████████████████████████████| 646/646 [15:32<00:00,  1.44s/it]\n"
     ]
    },
    {
     "name": "stdout",
     "output_type": "stream",
     "text": [
      "Epoch: 17\n"
     ]
    },
    {
     "name": "stderr",
     "output_type": "stream",
     "text": [
      "100%|█████████████████████████████████████████| 646/646 [15:33<00:00,  1.44s/it]\n"
     ]
    },
    {
     "name": "stdout",
     "output_type": "stream",
     "text": [
      "Epoch: 18\n"
     ]
    },
    {
     "name": "stderr",
     "output_type": "stream",
     "text": [
      " 62%|█████████████████████████▌               | 402/646 [08:58<02:30,  1.62it/s]"
     ]
    }
   ],
   "source": [
    "model = train(train_loader, test_loader, device)"
   ]
  },
  {
   "cell_type": "code",
   "execution_count": null,
   "id": "f8614d46",
   "metadata": {
    "id": "f8614d46"
   },
   "outputs": [],
   "source": [
    "# save model just in case\n",
    "if COLAB:\n",
    "    torch.save(model.state_dict(), '/content/drive/My Drive/GRU_data/params/my_model.pt')\n",
    "else:\n",
    "    torch.save(model.state_dict(), './GRU_data/params/chriss-moltisanti.pt')"
   ]
  },
  {
   "cell_type": "code",
   "execution_count": null,
   "id": "2bad90c0",
   "metadata": {
    "id": "2bad90c0"
   },
   "outputs": [],
   "source": [
    "#loaded_model = Autoencoder(4860, 300, 300, 42, 2, 0.0).to(device)\n",
    "#loaded_model.load_state_dict(torch.load('./GRU_data/model_h300_e500_teacher_forcing.pt'))"
   ]
  },
  {
   "cell_type": "code",
   "execution_count": null,
   "id": "2e768d4a",
   "metadata": {
    "id": "2e768d4a"
   },
   "outputs": [],
   "source": [
    "x, y = next(iter(test_loader))\n",
    "x = x.to(device)\n",
    "x.size()"
   ]
  },
  {
   "cell_type": "code",
   "execution_count": null,
   "id": "9dbdfd19",
   "metadata": {
    "id": "9dbdfd19"
   },
   "outputs": [],
   "source": [
    "encoded, decoded = loaded_model(x)"
   ]
  },
  {
   "cell_type": "markdown",
   "id": "bfe6bfa9",
   "metadata": {
    "id": "bfe6bfa9"
   },
   "source": [
    "# GRU output to SELFIES"
   ]
  },
  {
   "cell_type": "code",
   "execution_count": null,
   "id": "2aab1202",
   "metadata": {
    "id": "2aab1202"
   },
   "outputs": [],
   "source": [
    "decoded_indices = torch.argmax(decoded.cpu(), dim=2)\n",
    "decoded_indices = decoded_indices.numpy()"
   ]
  },
  {
   "cell_type": "code",
   "execution_count": null,
   "id": "c4a1d92f",
   "metadata": {
    "id": "c4a1d92f"
   },
   "outputs": [],
   "source": [
    "# set largers value to 1 and others to 0\n",
    "decoded_indices = torch.argmax(decoded.cpu(), dim=2)\n",
    "decoded_indices = decoded_indices.numpy()\n",
    "selfies_out = []\n",
    "for i, original in zip(decoded_indices, y):\n",
    "    vectorized = []\n",
    "    #print(f'Decoded: {i}')\n",
    "    #convert to one-hot\n",
    "    for number in i:\n",
    "        v = np.zeros(42)\n",
    "        v[number] = 1\n",
    "        vectorized.append(v)\n",
    "    vectorized = np.array(vectorized)\n",
    "    selfies_out.append(vectorizer.devectorize(vectorized, remove_special=True))\n",
    "    print(f'Original: {vectorizer.devectorize(original.cpu().numpy())} \\n')\n",
    "    print(f'Decoded:  {vectorizer.devectorize(vectorized)}')\n",
    "    print('------------------')"
   ]
  },
  {
   "cell_type": "code",
   "execution_count": null,
   "id": "1efcd595",
   "metadata": {
    "id": "1efcd595"
   },
   "outputs": [],
   "source": [
    "from rdkit import Chem\n",
    "from rdkit.Chem import Draw\n",
    "\n",
    "smiles = []\n",
    "for selfie in selfies_out:\n",
    "    smile = sf.decoder(selfie, attribute=False)\n",
    "    smiles.append(smile)\n",
    "\n",
    "ms = []\n",
    "for smile in smiles:\n",
    "    ms.append(Chem.MolFromSmiles(smile))\n",
    "Draw.MolToImage(ms[5], size=(800, 800), kekulize=True)"
   ]
  }
 ],
 "metadata": {
  "accelerator": "GPU",
  "colab": {
   "gpuType": "T4",
   "provenance": []
  },
  "kernelspec": {
   "display_name": "Python 3 (ipykernel)",
   "language": "python",
   "name": "python3"
  },
  "language_info": {
   "codemirror_mode": {
    "name": "ipython",
    "version": 3
   },
   "file_extension": ".py",
   "mimetype": "text/x-python",
   "name": "python",
   "nbconvert_exporter": "python",
   "pygments_lexer": "ipython3",
   "version": "3.9.16"
  }
 },
 "nbformat": 4,
 "nbformat_minor": 5
}
