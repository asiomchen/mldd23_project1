{
 "cells": [
  {
   "cell_type": "code",
   "execution_count": 76,
   "id": "6ef6f3f5",
   "metadata": {
    "colab": {
     "base_uri": "https://localhost:8080/"
    },
    "executionInfo": {
     "elapsed": 7,
     "status": "ok",
     "timestamp": 1686162931150,
     "user": {
      "displayName": "Hubert Rybka",
      "userId": "05494656428041101228"
     },
     "user_tz": -120
    },
    "id": "6ef6f3f5",
    "outputId": "b7ffd9f9-98f1-4977-8fed-0201cd7e382b"
   },
   "outputs": [
    {
     "data": {
      "text/plain": [
       "device(type='cpu')"
      ]
     },
     "execution_count": 76,
     "metadata": {},
     "output_type": "execute_result"
    }
   ],
   "source": [
    "import torch\n",
    "import torch.nn as nn\n",
    "import torch.optim as optim\n",
    "import torch.utils.data as data_utils\n",
    "import torch.functional as F\n",
    "import numpy as np\n",
    "import pandas as pd\n",
    "import time\n",
    "import random\n",
    "import matplotlib.pyplot as plt\n",
    "from tqdm import tqdm\n",
    "from IPython import display\n",
    "\n",
    "device = torch.device('cuda' if torch.cuda.is_available() else 'cpu')\n",
    "device"
   ]
  },
  {
   "cell_type": "markdown",
   "id": "f16dfcb1",
   "metadata": {
    "id": "f16dfcb1"
   },
   "source": [
    "# Data prep"
   ]
  },
  {
   "cell_type": "code",
   "execution_count": 35,
   "id": "8a3fbcdb",
   "metadata": {
    "id": "8a3fbcdb"
   },
   "outputs": [
    {
     "name": "stdout",
     "output_type": "stream",
     "text": [
      "Pad to len: 128\n"
     ]
    },
    {
     "data": {
      "text/plain": [
       "42"
      ]
     },
     "execution_count": 35,
     "metadata": {},
     "output_type": "execute_result"
    }
   ],
   "source": [
    "# alphabet of tokens for output\n",
    "\n",
    "import selfies as sf\n",
    "data = pd.read_csv('./GRU_data/250k_selfies.csv')\n",
    "alphabet = sf.get_alphabet_from_selfies(data.selfies)\n",
    "alphabet.add(\"[start]\")\n",
    "alphabet.add(\"[end]\")\n",
    "alphabet.add(\"[nop]\") # [nop] is a special padding symbol\n",
    "alphabet = list(sorted(alphabet))\n",
    "#pad_to_len = max(sf.len_selfies(s) for s in data.selfies) + 10\n",
    "pad_to_len = 128 # for simplicities sake\n",
    "print(\"Pad to len:\", pad_to_len)\n",
    "symbol_to_idx = {s: i for i, s in enumerate(alphabet)}\n",
    "idx2char = {i: s for i, s in enumerate(alphabet)}\n",
    "len(alphabet)"
   ]
  },
  {
   "cell_type": "code",
   "execution_count": 36,
   "id": "f55a6d94",
   "metadata": {
    "id": "f55a6d94"
   },
   "outputs": [],
   "source": [
    "class SELFIESVectorizer:\n",
    "    def __init__(self, alphabet, pad_to_len=None):\n",
    "        self.alphabet = alphabet\n",
    "        self.char2idx = {s: i for i, s in enumerate(alphabet)}\n",
    "        self.idx2char = {i: s for i, s in enumerate(alphabet)}\n",
    "        self.pad_to_len = pad_to_len\n",
    "    def vectorize(self, selfie, no_special=False):\n",
    "        ''' Vectorize a list of SMILES strings to a numpy array of shape (len(smiles), embed, len(charset))'''\n",
    "        if no_special:\n",
    "            splited = self.split_selfi(selfie)\n",
    "        elif self.pad_to_len is None:\n",
    "            splited = ['[start]'] + self.split_selfi(selfie) + ['[end]']\n",
    "        else:\n",
    "            splited = ['[start]'] + self.split_selfi(selfie) + ['[end]'] + ['[nop]'] * (self.pad_to_len - len(self.split_selfi(selfie)) - 2)\n",
    "        X = np.zeros((len(splited), len(self.alphabet)))\n",
    "        for i in range(len(splited)):\n",
    "            X[i, self.char2idx[splited[i]]] = 1\n",
    "        return X\n",
    "    def devectorize(self, ohe, remove_special=False):\n",
    "        ''' Devectorize a numpy array of shape (len(smiles), embed, len(charset)) to a list of SMILES strings'''\n",
    "        selfie_str = ''\n",
    "        for j in range(ohe.shape[0]):\n",
    "            idx = np.argmax(ohe[j, :])\n",
    "            if remove_special and (self.idx2char[idx] == '[start]' or self.idx2char[idx] == '[end]'):\n",
    "                continue\n",
    "            selfie_str += self.idx2char[idx]\n",
    "        return selfie_str\n",
    "    def idxize(self, selfie, no_special=False):\n",
    "        if no_special:\n",
    "            splited = self.split_selfi(selfie)\n",
    "        else:\n",
    "            splited = ['[start]'] + self.split_selfi(selfie) + ['[end]'] + ['[nop]'] * (self.pad_to_len - len(self.split_selfi(selfie)) - 2)\n",
    "        return np.array([self.char2idx[s] for s in splited])\n",
    "    def deidxize(self, idx):\n",
    "        return \"\".join([self.idx2char[i] for i in idx])\n",
    "    def split_selfi(self, selfie):\n",
    "        pattern = r'(\\[[^\\[\\]]*\\])'\n",
    "        return re.findall(pattern, selfie)\n",
    "vectorizer = SELFIESVectorizer(alphabet, pad_to_len)"
   ]
  },
  {
   "cell_type": "code",
   "execution_count": 38,
   "id": "6538d564",
   "metadata": {
    "executionInfo": {
     "elapsed": 247,
     "status": "ok",
     "timestamp": 1686161079219,
     "user": {
      "displayName": "Hubert Rybka",
      "userId": "05494656428041101228"
     },
     "user_tz": -120
    },
    "id": "6538d564"
   },
   "outputs": [],
   "source": [
    "from torch.utils.data import Dataset, DataLoader\n",
    "class GRUDatasetv2(Dataset):\n",
    "    def __init__(self, smiles_fp, selfies, vectorizer):\n",
    "        self.smiles_fp = pd.read_csv(smiles_fp, nrows=50000)\n",
    "        self.selfies = pd.read_csv(selfies, nrows=50000)\n",
    "        #self.smiles_fp = pd.read_csv(smiles_fp)\n",
    "        #self.selfies = pd.read_csv(selfies)\n",
    "        self.selfies= self.prepare_y(self.selfies)\n",
    "        self.vectorizer = vectorizer\n",
    "    def __len__(self):\n",
    "        return len(self.smiles_fp)\n",
    "    def __getitem__(self, idx):\n",
    "        raw_selfie = self.selfies[idx][0]\n",
    "        vectorized_selfie = self.vectorizer.idxize(raw_selfie)\n",
    "        # esentially, we want to predict the next symbol in the SELFIE and offset the target by one makes teaching forcing implicit\n",
    "        vectorized_selfie = vectorized_selfie\n",
    "        raw_X = self.smiles_fp.fps[idx]\n",
    "        X = np.array(eval(raw_X), dtype=int)\n",
    "        X_reconstructed = self.reconstruct_fp(X)\n",
    "\n",
    "        return torch.from_numpy(X_reconstructed).float(), torch.from_numpy(vectorized_selfie).long()\n",
    "\n",
    "    @staticmethod\n",
    "    def prepare_X(smiles_fp):\n",
    "        fps = smiles_fp.fps.apply(eval).apply(lambda x: np.array(x, dtype=int))\n",
    "        return fps\n",
    "    @staticmethod\n",
    "    def prepare_y(selfies):\n",
    "        return selfies.values\n",
    "    @staticmethod\n",
    "    def reconstruct_fp(fp, length=4860):\n",
    "        fp_rec = np.zeros(length)\n",
    "        fp_rec[fp] = 1\n",
    "        return fp_rec"
   ]
  },
  {
   "cell_type": "code",
   "execution_count": 39,
   "id": "062168b4",
   "metadata": {
    "executionInfo": {
     "elapsed": 2163,
     "status": "ok",
     "timestamp": 1686161083709,
     "user": {
      "displayName": "Hubert Rybka",
      "userId": "05494656428041101228"
     },
     "user_tz": -120
    },
    "id": "062168b4"
   },
   "outputs": [],
   "source": [
    "dataset = GRUDatasetv2('./GRU_data/250k_klek.csv', './GRU_data/250k_selfies.csv', vectorizer)\n",
    "train_size = int(0.9 * len(dataset))\n",
    "test_size = len(dataset) - train_size\n",
    "train_dataset, test_dataset = torch.utils.data.random_split(dataset, [train_size, test_size])"
   ]
  },
  {
   "cell_type": "code",
   "execution_count": 40,
   "id": "3a16a986",
   "metadata": {
    "colab": {
     "base_uri": "https://localhost:8080/"
    },
    "executionInfo": {
     "elapsed": 241,
     "status": "ok",
     "timestamp": 1686161085877,
     "user": {
      "displayName": "Hubert Rybka",
      "userId": "05494656428041101228"
     },
     "user_tz": -120
    },
    "id": "3a16a986",
    "outputId": "f2bde771-1321-4a4e-c72a-0a5f4f60dcc4"
   },
   "outputs": [
    {
     "name": "stdout",
     "output_type": "stream",
     "text": [
      "Dataset size: 50000\n",
      "Train size: 45000\n",
      "Test size: 5000\n"
     ]
    }
   ],
   "source": [
    "print(\"Dataset size:\", len(dataset))\n",
    "print(\"Train size:\", len(train_dataset))\n",
    "print(\"Test size:\", len(test_dataset))"
   ]
  },
  {
   "cell_type": "code",
   "execution_count": 79,
   "id": "da4f014e",
   "metadata": {
    "colab": {
     "base_uri": "https://localhost:8080/"
    },
    "executionInfo": {
     "elapsed": 252,
     "status": "ok",
     "timestamp": 1686162674319,
     "user": {
      "displayName": "Hubert Rybka",
      "userId": "05494656428041101228"
     },
     "user_tz": -120
    },
    "id": "da4f014e",
    "outputId": "5da54a79-6a1d-4b5f-b477-f3da58ba7479"
   },
   "outputs": [],
   "source": [
    "batch_size = 256\n",
    "train_loader = DataLoader(train_dataset, shuffle=True, batch_size=batch_size, drop_last=True)\n",
    "test_loader = DataLoader(test_dataset, shuffle=False, batch_size=batch_size, drop_last=True)"
   ]
  },
  {
   "cell_type": "markdown",
   "id": "02f39daf",
   "metadata": {
    "id": "02f39daf"
   },
   "source": [
    "# NN architecture"
   ]
  },
  {
   "cell_type": "code",
   "execution_count": 80,
   "id": "8248e95c",
   "metadata": {
    "executionInfo": {
     "elapsed": 253,
     "status": "ok",
     "timestamp": 1686162875733,
     "user": {
      "displayName": "Hubert Rybka",
      "userId": "05494656428041101228"
     },
     "user_tz": -120
    },
    "id": "8248e95c"
   },
   "outputs": [],
   "source": [
    "class EncoderNet(nn.Module):\n",
    "    def __init__(self, fp_size, encoding_size):\n",
    "        super(EncoderNet, self).__init__()\n",
    "        self.relu = nn.ReLU()\n",
    "        self.fc1 = nn.Linear(fp_size, 2048)\n",
    "        self.fc2 = nn.Linear(2048, 1024)\n",
    "        self.fc3 = nn.Linear(1024, 512)\n",
    "        self.fc4 = nn.Linear(512, 256)\n",
    "        self.fc5 = nn.Linear(256, encoding_size)\n",
    "    def forward(self, x):\n",
    "        out = self.relu(self.fc1(x))\n",
    "        out = self.relu(self.fc2(out))\n",
    "        out = self.relu(self.fc3(out))\n",
    "        out = self.relu(self.fc4(out))\n",
    "        out = self.relu(self.fc5(out))\n",
    "        return out\n",
    "\n",
    "\n",
    "class DecoderNet(nn.Module):\n",
    "    def __init__(self, dictionary_size, encoding_size, hidden_size, num_layers, drop_prob):\n",
    "        super(DecoderNet, self).__init__()\n",
    "        self.hidden_size = hidden_size\n",
    "        self.num_layers = num_layers\n",
    "        self.drop_prob = drop_prob\n",
    "        self.embedding = nn.Embedding(dictionary_size, encoding_size)\n",
    "        self.gru = nn.GRU(encoding_size, hidden_size, num_layers, dropout=drop_prob, batch_first=True)\n",
    "        self.fc = nn.Linear(hidden_size, dictionary_size)\n",
    "        self.max_len = vectorizer.pad_to_len\n",
    "\n",
    "    def forward(self, input, hidden):\n",
    "        prediction, hidden = self.gru(input, hidden)\n",
    "        prediction = self.fc(prediction)\n",
    "        return prediction, hidden\n",
    "    \n",
    "class Autoencoder(nn.Module):\n",
    "    def __init__(self, input_size=4860, \n",
    "                 encoding_size=128, \n",
    "                 dictionary_size=len(alphabet), \n",
    "                 hidden_size=128, \n",
    "                 num_layers=2, \n",
    "                 teacher_forcing_ratio=0.5,\n",
    "                 drop_prob=0.2):\n",
    "        super(Autoencoder, self).__init__()\n",
    "        self.encoder = EncoderNet(input_size, encoding_size)\n",
    "        self.num_layers = num_layers  \n",
    "        self.hidden_size = hidden_size\n",
    "        self.encoding_size = encoding_size\n",
    "        self.decoder = DecoderNet(dictionary_size, encoding_size, hidden_size, num_layers, drop_prob)\n",
    "        self.teacher_forcing_ratio = teacher_forcing_ratio\n",
    "\n",
    "    def forward(self, src, trg, teacher_forcing_ratio=None):\n",
    "        teacher_forcing_ratio = self.teacher_forcing_ratio if teacher_forcing_ratio is None else teacher_forcing_ratio\n",
    "        # if in evaluation mode we don't use teacher forcing\n",
    "        if not self.training:\n",
    "            teacher_forcing_ratio = 0\n",
    "        batch_size = src.shape[0]\n",
    "        trg_vocab_size = self.decoder.fc.out_features\n",
    "        outputs = []\n",
    "        hidden = torch.zeros(self.num_layers, src.shape[0], self.hidden_size)\n",
    "        input = self.encoder(src).unsqueeze(1)\n",
    "        for t in range(1, self.encoding_size):\n",
    "            input[:, :, t]\n",
    "            #print(f'Input shape: {input.shape}')\n",
    "            #print(f'Hidden shape: {hidden.shape}')\n",
    "            output, hidden = self.decoder(input, hidden)\n",
    "            outputs.append(output)\n",
    "            teacher_force = 0 #random.random() < teacher_forcing_ratio\n",
    "            top1 = torch.argmax(output, dim=2)\n",
    "        outputs = torch.cat(outputs, dim=1)\n",
    "        return outputs"
   ]
  },
  {
   "cell_type": "markdown",
   "id": "8e0cf5ff",
   "metadata": {},
   "source": [
    "#  NN Debugging section"
   ]
  },
  {
   "cell_type": "code",
   "execution_count": 81,
   "id": "1f37f3df",
   "metadata": {
    "colab": {
     "base_uri": "https://localhost:8080/"
    },
    "executionInfo": {
     "elapsed": 256,
     "status": "ok",
     "timestamp": 1686161526418,
     "user": {
      "displayName": "Hubert Rybka",
      "userId": "05494656428041101228"
     },
     "user_tz": -120
    },
    "id": "1f37f3df",
    "outputId": "4f5021c7-4b91-4a11-82b8-2d6142b424f0"
   },
   "outputs": [],
   "source": [
    "encoder = EncoderNet(4860, 128).to(device)\n",
    "decoder = DecoderNet(dictionary_size=len(alphabet),\n",
    "                     encoding_size=128,\n",
    "                     hidden_size=128, \n",
    "                     num_layers=2, \n",
    "                     drop_prob=0.2).to(device)\n",
    "test_batch = next(iter(train_loader))[0].to(device)"
   ]
  },
  {
   "cell_type": "code",
   "execution_count": 82,
   "id": "5ab9b122",
   "metadata": {
    "colab": {
     "base_uri": "https://localhost:8080/"
    },
    "executionInfo": {
     "elapsed": 252,
     "status": "ok",
     "timestamp": 1686161756639,
     "user": {
      "displayName": "Hubert Rybka",
      "userId": "05494656428041101228"
     },
     "user_tz": -120
    },
    "id": "5ab9b122",
    "outputId": "3498bac5-1a2b-455b-c44f-66854e05eaa4"
   },
   "outputs": [
    {
     "name": "stdout",
     "output_type": "stream",
     "text": [
      "Test batch shape: torch.Size([256, 4860])\n",
      "Encoded shape: torch.Size([256, 1, 128])\n"
     ]
    }
   ],
   "source": [
    "print(f'Test batch shape: {test_batch.shape}')\n",
    "encoded = encoder(test_batch)\n",
    "encoded = encoded.unsqueeze(1)\n",
    "print(f'Encoded shape: {encoded.shape}')"
   ]
  },
  {
   "cell_type": "code",
   "execution_count": 86,
   "id": "09ccfcc7",
   "metadata": {
    "colab": {
     "base_uri": "https://localhost:8080/",
     "height": 400
    },
    "executionInfo": {
     "elapsed": 476,
     "status": "error",
     "timestamp": 1686162528991,
     "user": {
      "displayName": "Hubert Rybka",
      "userId": "05494656428041101228"
     },
     "user_tz": -120
    },
    "id": "09ccfcc7",
    "outputId": "a7cd20fe-4580-4373-c132-a3c5c9152d36"
   },
   "outputs": [
    {
     "name": "stdout",
     "output_type": "stream",
     "text": [
      "Encoded shape: torch.Size([256, 1, 128])\n",
      "Decoded shape: torch.Size([256, 1, 42])\n",
      "Hidden shape: torch.Size([2, 256, 128])\n"
     ]
    }
   ],
   "source": [
    "hidden = torch.zeros(2, batch_size, 128).to(device)\n",
    "decoded, hidden = decoder(encoded, hidden)\n",
    "print(f'Encoded shape: {encoded.shape}')\n",
    "print(f'Decoded shape: {decoded.shape}')\n",
    "print(f'Hidden shape: {hidden.shape}')"
   ]
  },
  {
   "cell_type": "code",
   "execution_count": 87,
   "id": "f2893d40",
   "metadata": {
    "colab": {
     "base_uri": "https://localhost:8080/"
    },
    "executionInfo": {
     "elapsed": 365,
     "status": "ok",
     "timestamp": 1686162879520,
     "user": {
      "displayName": "Hubert Rybka",
      "userId": "05494656428041101228"
     },
     "user_tz": -120
    },
    "id": "f2893d40",
    "outputId": "24411adf-29bd-4fb1-b572-48812a6e464f"
   },
   "outputs": [
    {
     "data": {
      "text/plain": [
       "torch.Size([256, 4860])"
      ]
     },
     "execution_count": 87,
     "metadata": {},
     "output_type": "execute_result"
    }
   ],
   "source": [
    "model = Autoencoder().to(device)\n",
    "test_src = next(iter(train_loader))[0].to(device)\n",
    "test_trg = next(iter(train_loader))[1].to(device)\n",
    "test_src.shape"
   ]
  },
  {
   "cell_type": "code",
   "execution_count": 88,
   "id": "F6-wuiP4QNU8",
   "metadata": {
    "colab": {
     "base_uri": "https://localhost:8080/"
    },
    "executionInfo": {
     "elapsed": 515,
     "status": "ok",
     "timestamp": 1686162883547,
     "user": {
      "displayName": "Hubert Rybka",
      "userId": "05494656428041101228"
     },
     "user_tz": -120
    },
    "id": "F6-wuiP4QNU8",
    "outputId": "412eb4f3-32e4-440c-ea6a-cdf12cf767a2"
   },
   "outputs": [
    {
     "name": "stdout",
     "output_type": "stream",
     "text": [
      "Outputs shape: torch.Size([256, 127, 42])\n"
     ]
    }
   ],
   "source": [
    "outputs = model(src=test_src, trg=test_trg)\n",
    "print(f'Outputs shape: {outputs.shape}')"
   ]
  },
  {
   "cell_type": "code",
   "execution_count": 89,
   "id": "3163467c",
   "metadata": {
    "executionInfo": {
     "elapsed": 259,
     "status": "ok",
     "timestamp": 1686162889212,
     "user": {
      "displayName": "Hubert Rybka",
      "userId": "05494656428041101228"
     },
     "user_tz": -120
    },
    "id": "3163467c"
   },
   "outputs": [],
   "source": [
    "outputs_fixed = outputs"
   ]
  },
  {
   "cell_type": "code",
   "execution_count": 90,
   "id": "041a1163",
   "metadata": {
    "colab": {
     "base_uri": "https://localhost:8080/"
    },
    "executionInfo": {
     "elapsed": 287,
     "status": "ok",
     "timestamp": 1686162892070,
     "user": {
      "displayName": "Hubert Rybka",
      "userId": "05494656428041101228"
     },
     "user_tz": -120
    },
    "id": "041a1163",
    "outputId": "4ba3c403-0bea-4440-9230-40ec7bee9414"
   },
   "outputs": [
    {
     "name": "stdout",
     "output_type": "stream",
     "text": [
      "Output shape: torch.Size([127, 42])\n",
      "[=Branch2][=S][=S][=S][=S][=S][=S][=S][=S][=S][=S][=S][=S][=S][=S][=S][=S][=S][=S][=S][=S][=S][=S][=S][=S][=S][=S][=S][=S][=S][=S][=S][=S][=S][=S][=S][=S][=S][=S][=S][=S][=S][=S][=S][=S][=S][=S][=S][=S][=S][=S][=S][=S][=S][=S][=S][=S][=S][=S][=S][=S][=S][=S][=S][=S][=S][=S][=S][=S][=S][=S][=S][=S][=S][=S][=S][=S][=S][=S][=S][=S][=S][=S][=S][=S][=S][=S][=S][=S][=S][=S][=S][=S][=S][=S][=S][=S][=S][=S][=S][=S][=S][=S][=S][=S][=S][=S][=S][=S][=S][=S][=S][=S][=S][=S][=S][=S][=S][=S][=S][=S][=S][=S][=S][=S][=S][=S]\n"
     ]
    }
   ],
   "source": [
    "# get first output from batch\n",
    "output = outputs_fixed[0]\n",
    "print(f'Output shape: {output.shape}')\n",
    "decoded_indices = torch.argmax(output, dim=1)\n",
    "decoded_indices = decoded_indices.numpy()\n",
    "vectorized = []\n",
    "for number in decoded_indices:\n",
    "    v = np.zeros(42)\n",
    "    v[number] = 1\n",
    "    vectorized.append(v)\n",
    "vectorized = np.array(vectorized)\n",
    "print(vectorizer.devectorize(vectorized))"
   ]
  },
  {
   "cell_type": "markdown",
   "id": "c3f697df",
   "metadata": {
    "id": "c3f697df"
   },
   "source": [
    "# Training"
   ]
  },
  {
   "cell_type": "code",
   "execution_count": 91,
   "id": "ce412c1f",
   "metadata": {
    "executionInfo": {
     "elapsed": 241,
     "status": "ok",
     "timestamp": 1686162899086,
     "user": {
      "displayName": "Hubert Rybka",
      "userId": "05494656428041101228"
     },
     "user_tz": -120
    },
    "id": "ce412c1f"
   },
   "outputs": [],
   "source": [
    "def train_epoch(autoencoder, dataloader, learning_rate):\n",
    "    autoencoder.train()\n",
    "    criterion = nn.CrossEntropyLoss(ignore_index=vectorizer.char2idx['[nop]'])\n",
    "    optimizer = optim.Adam(autoencoder.parameters(), lr=learning_rate)\n",
    "    epoch_loss = 0\n",
    "    for batch_idx, (src, trg) in enumerate(tqdm(dataloader)):\n",
    "        src = src.to(device)\n",
    "        trg = trg.to(device)\n",
    "        optimizer.zero_grad()\n",
    "        output = autoencoder(src, trg)\n",
    "        trg = trg[:, 1:]\n",
    "        output = output.permute(0, 2, 1)\n",
    "        loss = criterion(output, trg)\n",
    "        loss.backward()\n",
    "        optimizer.step()\n",
    "        epoch_loss += loss.item()\n",
    "    avg_loss = epoch_loss / len(dataloader)\n",
    "\n",
    "    return avg_loss\n",
    "  \n",
    "def evaluate(autoencoder, dataloader):\n",
    "    autoencoder.eval()\n",
    "    criterion = nn.CrossEntropyLoss(ignore_index=vectorizer.char2idx['[nop]'])\n",
    "    epoch_loss = 0\n",
    "    for batch_idx, (src, trg) in enumerate(dataloader):\n",
    "        src = src.to(device)\n",
    "        trg = trg.to(device)\n",
    "        output = autoencoder(src, trg)\n",
    "        trg = trg[:, 1:]\n",
    "        output = output.permute(0, 2, 1)\n",
    "        loss = criterion(output, trg)\n",
    "        epoch_loss += loss.item()\n",
    "    avg_loss = epoch_loss / len(dataloader)\n",
    "    return avg_loss"
   ]
  },
  {
   "cell_type": "code",
   "execution_count": 92,
   "id": "0839d044",
   "metadata": {
    "colab": {
     "base_uri": "https://localhost:8080/",
     "height": 980
    },
    "executionInfo": {
     "elapsed": 1483,
     "status": "error",
     "timestamp": 1686162903542,
     "user": {
      "displayName": "Hubert Rybka",
      "userId": "05494656428041101228"
     },
     "user_tz": -120
    },
    "id": "0839d044",
    "outputId": "ea7a5487-849c-4115-cc43-6b255ea102d2"
   },
   "outputs": [
    {
     "data": {
      "image/png": "[encoded data removed]",
      "text/plain": [
       "<Figure size 700x300 with 2 Axes>"
      ]
     },
     "metadata": {},
     "output_type": "display_data"
    },
    {
     "name": "stderr",
     "output_type": "stream",
     "text": [
      "  7%|██▉                                       | 12/175 [00:21<04:47,  1.77s/it]\n"
     ]
    },
    {
     "ename": "KeyboardInterrupt",
     "evalue": "",
     "output_type": "error",
     "traceback": [
      "\u001b[0;31m---------------------------------------------------------------------------\u001b[0m",
      "\u001b[0;31mKeyboardInterrupt\u001b[0m                         Traceback (most recent call last)",
      "Cell \u001b[0;32mIn[92], line 12\u001b[0m\n\u001b[1;32m      9\u001b[0m dh \u001b[38;5;241m=\u001b[39m display\u001b[38;5;241m.\u001b[39mdisplay(fig, display_id\u001b[38;5;241m=\u001b[39m\u001b[38;5;28;01mTrue\u001b[39;00m)\n\u001b[1;32m     11\u001b[0m \u001b[38;5;28;01mfor\u001b[39;00m epoch \u001b[38;5;129;01min\u001b[39;00m \u001b[38;5;28mrange\u001b[39m(num_epochs):\n\u001b[0;32m---> 12\u001b[0m     train_loss \u001b[38;5;241m=\u001b[39m \u001b[43mtrain_epoch\u001b[49m\u001b[43m(\u001b[49m\u001b[43mmodel\u001b[49m\u001b[43m,\u001b[49m\u001b[43m \u001b[49m\u001b[43mtrain_loader\u001b[49m\u001b[43m,\u001b[49m\u001b[43m \u001b[49m\u001b[43mlearning_rate\u001b[49m\u001b[38;5;241;43m=\u001b[39;49m\u001b[38;5;241;43m0.001\u001b[39;49m\u001b[43m)\u001b[49m\n\u001b[1;32m     13\u001b[0m     val_loss \u001b[38;5;241m=\u001b[39m evaluate(model, test_loader)\n\u001b[1;32m     14\u001b[0m     train_losses\u001b[38;5;241m.\u001b[39mappend(train_loss)\n",
      "Cell \u001b[0;32mIn[91], line 14\u001b[0m, in \u001b[0;36mtrain_epoch\u001b[0;34m(autoencoder, dataloader, learning_rate)\u001b[0m\n\u001b[1;32m     12\u001b[0m output \u001b[38;5;241m=\u001b[39m output\u001b[38;5;241m.\u001b[39mpermute(\u001b[38;5;241m0\u001b[39m, \u001b[38;5;241m2\u001b[39m, \u001b[38;5;241m1\u001b[39m)\n\u001b[1;32m     13\u001b[0m loss \u001b[38;5;241m=\u001b[39m criterion(output, trg)\n\u001b[0;32m---> 14\u001b[0m \u001b[43mloss\u001b[49m\u001b[38;5;241;43m.\u001b[39;49m\u001b[43mbackward\u001b[49m\u001b[43m(\u001b[49m\u001b[43m)\u001b[49m\n\u001b[1;32m     15\u001b[0m optimizer\u001b[38;5;241m.\u001b[39mstep()\n\u001b[1;32m     16\u001b[0m epoch_loss \u001b[38;5;241m+\u001b[39m\u001b[38;5;241m=\u001b[39m loss\u001b[38;5;241m.\u001b[39mitem()\n",
      "File \u001b[0;32m~/miniconda3/envs/mldd23/lib/python3.9/site-packages/torch/_tensor.py:488\u001b[0m, in \u001b[0;36mTensor.backward\u001b[0;34m(self, gradient, retain_graph, create_graph, inputs)\u001b[0m\n\u001b[1;32m    478\u001b[0m \u001b[38;5;28;01mif\u001b[39;00m has_torch_function_unary(\u001b[38;5;28mself\u001b[39m):\n\u001b[1;32m    479\u001b[0m     \u001b[38;5;28;01mreturn\u001b[39;00m handle_torch_function(\n\u001b[1;32m    480\u001b[0m         Tensor\u001b[38;5;241m.\u001b[39mbackward,\n\u001b[1;32m    481\u001b[0m         (\u001b[38;5;28mself\u001b[39m,),\n\u001b[0;32m   (...)\u001b[0m\n\u001b[1;32m    486\u001b[0m         inputs\u001b[38;5;241m=\u001b[39minputs,\n\u001b[1;32m    487\u001b[0m     )\n\u001b[0;32m--> 488\u001b[0m \u001b[43mtorch\u001b[49m\u001b[38;5;241;43m.\u001b[39;49m\u001b[43mautograd\u001b[49m\u001b[38;5;241;43m.\u001b[39;49m\u001b[43mbackward\u001b[49m\u001b[43m(\u001b[49m\n\u001b[1;32m    489\u001b[0m \u001b[43m    \u001b[49m\u001b[38;5;28;43mself\u001b[39;49m\u001b[43m,\u001b[49m\u001b[43m \u001b[49m\u001b[43mgradient\u001b[49m\u001b[43m,\u001b[49m\u001b[43m \u001b[49m\u001b[43mretain_graph\u001b[49m\u001b[43m,\u001b[49m\u001b[43m \u001b[49m\u001b[43mcreate_graph\u001b[49m\u001b[43m,\u001b[49m\u001b[43m \u001b[49m\u001b[43minputs\u001b[49m\u001b[38;5;241;43m=\u001b[39;49m\u001b[43minputs\u001b[49m\n\u001b[1;32m    490\u001b[0m \u001b[43m\u001b[49m\u001b[43m)\u001b[49m\n",
      "File \u001b[0;32m~/miniconda3/envs/mldd23/lib/python3.9/site-packages/torch/autograd/__init__.py:197\u001b[0m, in \u001b[0;36mbackward\u001b[0;34m(tensors, grad_tensors, retain_graph, create_graph, grad_variables, inputs)\u001b[0m\n\u001b[1;32m    192\u001b[0m     retain_graph \u001b[38;5;241m=\u001b[39m create_graph\n\u001b[1;32m    194\u001b[0m \u001b[38;5;66;03m# The reason we repeat same the comment below is that\u001b[39;00m\n\u001b[1;32m    195\u001b[0m \u001b[38;5;66;03m# some Python versions print out the first line of a multi-line function\u001b[39;00m\n\u001b[1;32m    196\u001b[0m \u001b[38;5;66;03m# calls in the traceback and some print out the last line\u001b[39;00m\n\u001b[0;32m--> 197\u001b[0m \u001b[43mVariable\u001b[49m\u001b[38;5;241;43m.\u001b[39;49m\u001b[43m_execution_engine\u001b[49m\u001b[38;5;241;43m.\u001b[39;49m\u001b[43mrun_backward\u001b[49m\u001b[43m(\u001b[49m\u001b[43m  \u001b[49m\u001b[38;5;66;43;03m# Calls into the C++ engine to run the backward pass\u001b[39;49;00m\n\u001b[1;32m    198\u001b[0m \u001b[43m    \u001b[49m\u001b[43mtensors\u001b[49m\u001b[43m,\u001b[49m\u001b[43m \u001b[49m\u001b[43mgrad_tensors_\u001b[49m\u001b[43m,\u001b[49m\u001b[43m \u001b[49m\u001b[43mretain_graph\u001b[49m\u001b[43m,\u001b[49m\u001b[43m \u001b[49m\u001b[43mcreate_graph\u001b[49m\u001b[43m,\u001b[49m\u001b[43m \u001b[49m\u001b[43minputs\u001b[49m\u001b[43m,\u001b[49m\n\u001b[1;32m    199\u001b[0m \u001b[43m    \u001b[49m\u001b[43mallow_unreachable\u001b[49m\u001b[38;5;241;43m=\u001b[39;49m\u001b[38;5;28;43;01mTrue\u001b[39;49;00m\u001b[43m,\u001b[49m\u001b[43m \u001b[49m\u001b[43maccumulate_grad\u001b[49m\u001b[38;5;241;43m=\u001b[39;49m\u001b[38;5;28;43;01mTrue\u001b[39;49;00m\u001b[43m)\u001b[49m\n",
      "\u001b[0;31mKeyboardInterrupt\u001b[0m: "
     ]
    },
    {
     "data": {
      "image/png": "[encoded data removed]",
      "text/plain": [
       "<Figure size 700x300 with 2 Axes>"
      ]
     },
     "metadata": {},
     "output_type": "display_data"
    }
   ],
   "source": [
    "batch_size = 256\n",
    "num_epochs = 10\n",
    "\n",
    "epochs = []\n",
    "train_losses = []\n",
    "val_losses = []\n",
    "\n",
    "fig, ax = plt.subplots(ncols=2, figsize=(7, 3), layout=\"constrained\")\n",
    "dh = display.display(fig, display_id=True)\n",
    "\n",
    "for epoch in range(num_epochs):\n",
    "    train_loss = train_epoch(model, train_loader, learning_rate=0.001)\n",
    "    val_loss = evaluate(model, test_loader)\n",
    "    train_losses.append(train_loss)\n",
    "    val_losses.append(val_loss)\n",
    "    epochs.append(epoch+1)\n",
    "\n",
    "    ax[0].clear()\n",
    "    ax[0].plot(epochs, train_losses)\n",
    "    ax[0].set_title('training loss')\n",
    "    ax[0].set_xlabel('epoch')\n",
    "    ax[0].set_ylabel('CrossEntropy')\n",
    "    ax[1].clear()\n",
    "    ax[1].plot(epochs, val_losses)\n",
    "    ax[1].set_title('validation loss')\n",
    "    ax[1].set_xlabel('epoch')\n",
    "    ax[1].set_ylabel('CrossEntropy')\n",
    "    dh.update(fig)\n",
    "plt.close()"
   ]
  },
  {
   "cell_type": "code",
   "execution_count": null,
   "id": "f8614d46",
   "metadata": {
    "id": "f8614d46"
   },
   "outputs": [],
   "source": [
    "# save model just in case\n",
    "torch.save(model.state_dict(), './GRU_data/test1.pt')"
   ]
  },
  {
   "cell_type": "code",
   "execution_count": null,
   "id": "2bad90c0",
   "metadata": {
    "id": "2bad90c0"
   },
   "outputs": [],
   "source": [
    "#loaded_model = Autoencoder(4860, 300, 300, 42, 2, 0.0).to(device)\n",
    "#loaded_model.load_state_dict(torch.load('./GRU_data/model_h300_e500_teacher_forcing.pt'))"
   ]
  },
  {
   "cell_type": "code",
   "execution_count": null,
   "id": "2e768d4a",
   "metadata": {
    "id": "2e768d4a"
   },
   "outputs": [],
   "source": [
    "x, y = next(iter(test_loader))\n",
    "x = x.to(device)\n",
    "x.size()"
   ]
  },
  {
   "cell_type": "code",
   "execution_count": null,
   "id": "9dbdfd19",
   "metadata": {
    "id": "9dbdfd19"
   },
   "outputs": [],
   "source": [
    "encoded, decoded = loaded_model(x)"
   ]
  },
  {
   "cell_type": "markdown",
   "id": "bfe6bfa9",
   "metadata": {
    "id": "bfe6bfa9"
   },
   "source": [
    "# GRU output to SELFIES"
   ]
  },
  {
   "cell_type": "code",
   "execution_count": null,
   "id": "2aab1202",
   "metadata": {
    "id": "2aab1202"
   },
   "outputs": [],
   "source": [
    "decoded_indices = torch.argmax(decoded.cpu(), dim=2)\n",
    "decoded_indices = decoded_indices.numpy()"
   ]
  },
  {
   "cell_type": "code",
   "execution_count": null,
   "id": "c4a1d92f",
   "metadata": {
    "id": "c4a1d92f"
   },
   "outputs": [],
   "source": [
    "# set largers value to 1 and others to 0\n",
    "decoded_indices = torch.argmax(decoded.cpu(), dim=2)\n",
    "decoded_indices = decoded_indices.numpy()\n",
    "selfies_out = []\n",
    "for i, original in zip(decoded_indices, y):\n",
    "    vectorized = []\n",
    "    #print(f'Decoded: {i}')\n",
    "    #convert to one-hot\n",
    "    for number in i:\n",
    "        v = np.zeros(42)\n",
    "        v[number] = 1\n",
    "        vectorized.append(v)\n",
    "    vectorized = np.array(vectorized)\n",
    "    selfies_out.append(vectorizer.devectorize(vectorized, remove_special=True))\n",
    "    print(f'Original: {vectorizer.devectorize(original.cpu().numpy())} \\n')\n",
    "    print(f'Decoded:  {vectorizer.devectorize(vectorized)}')\n",
    "    print('------------------')"
   ]
  },
  {
   "cell_type": "code",
   "execution_count": null,
   "id": "1efcd595",
   "metadata": {
    "id": "1efcd595"
   },
   "outputs": [],
   "source": [
    "from rdkit import Chem\n",
    "from rdkit.Chem import Draw\n",
    "\n",
    "smiles = []\n",
    "for selfie in selfies_out:\n",
    "    smile = sf.decoder(selfie, attribute=False)\n",
    "    smiles.append(smile)\n",
    "\n",
    "ms = []\n",
    "for smile in smiles:\n",
    "    ms.append(Chem.MolFromSmiles(smile))\n",
    "Draw.MolToImage(ms[5], size=(800, 800), kekulize=True)"
   ]
  }
 ],
 "metadata": {
  "accelerator": "GPU",
  "colab": {
   "gpuType": "T4",
   "provenance": []
  },
  "kernelspec": {
   "display_name": "Python 3 (ipykernel)",
   "language": "python",
   "name": "python3"
  },
  "language_info": {
   "codemirror_mode": {
    "name": "ipython",
    "version": 3
   },
   "file_extension": ".py",
   "mimetype": "text/x-python",
   "name": "python",
   "nbconvert_exporter": "python",
   "pygments_lexer": "ipython3",
   "version": "3.9.16"
  }
 },
 "nbformat": 4,
 "nbformat_minor": 5
}
