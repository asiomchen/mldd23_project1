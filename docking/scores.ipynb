{
 "cells": [
  {
   "cell_type": "code",
   "execution_count": 16,
   "outputs": [],
   "source": [
    "import pandas as pd\n",
    "import numpy as np\n",
    "from tqdm import tqdm"
   ],
   "metadata": {
    "collapsed": false,
    "ExecuteTime": {
     "end_time": "2023-10-12T06:36:51.326743989Z",
     "start_time": "2023-10-12T06:36:51.311270258Z"
    }
   },
   "id": "9d627249c5b30ba1"
  },
  {
   "cell_type": "code",
   "execution_count": 8,
   "outputs": [
    {
     "data": {
      "text/plain": "0          COC1=NOCC=C1C(O)C2=CC=NC=C2N3CC=CC=C3OCC=C\n1                         CCNS(=O)(=O)CCC1=CC=CC=C1CC\n2           OC(C)C=NC=C(N1C=NC(C2=CC=CC=N2)=N1)C(CF)F\n3                          C=1NCCCC=1S(=O)(C)CCC(CF)F\n4                    CCCS(=O)(=O)C1=CC=CC=C1N2C=NCC2S\n                            ...                      \n995                     C=CC=C1C(C=CC=C1)C2=CC=CC=C2O\n996                            CC=CC1=CC=CC(=C1)OCC=O\n997    CCCC1=NC=CC=C1S(=O)(=O)N2C=NC3=CC(F)=CC(F)=C32\n998                        O=C(C=CC1=CC=CC=C1NC=C)CBr\n999                           C=CCN(CC(=O)C)C1CCCC1=N\nName: smiles, Length: 1000, dtype: object"
     },
     "execution_count": 8,
     "metadata": {},
     "output_type": "execute_result"
    }
   ],
   "source": [
    "df = pd.read_csv('d2_ligands_docked.csv')"
   ],
   "metadata": {
    "collapsed": false,
    "ExecuteTime": {
     "end_time": "2023-10-12T06:28:32.449065342Z",
     "start_time": "2023-10-12T06:28:32.433430757Z"
    }
   },
   "id": "1f3ba42342422073"
  },
  {
   "cell_type": "code",
   "execution_count": 15,
   "outputs": [],
   "source": [
    "from rdkit import Chem\n",
    "from rdkit.Chem import AllChem\n",
    "from rdkit import DataStructs\n",
    "\n",
    "def get_max_train_similarity(mol):\n",
    "    train = pd.read_parquet('../data/train_data/big_dataset_std.parquet')\n",
    "    tanimotos = []\n",
    "    for smile in tqdm(train['smiles'].values):\n",
    "        train_mol = Chem.MolFromSmiles(smile)\n",
    "        train_fp = AllChem.GetMorganFingerprintAsBitVect(train_mol, 2, nBits=512)\n",
    "        query_mol = Chem.MolFromSmiles(smile)\n",
    "        query_fp = AllChem.GetMorganFingerprintAsBitVect(query_mol, 2, nBits=512)\n",
    "        sim = DataStructs.TanimotoSimilarity(train_fp, query_fp)\n",
    "        tanimotos.append(sim)\n",
    "    return max(tanimotos)"
   ],
   "metadata": {
    "collapsed": false,
    "ExecuteTime": {
     "end_time": "2023-10-12T06:36:40.678395335Z",
     "start_time": "2023-10-12T06:36:40.637426797Z"
    }
   },
   "id": "d2f2d6abb631b99d"
  },
  {
   "cell_type": "code",
   "execution_count": null,
   "outputs": [],
   "source": [
    "test_smile = 'COC1=NOCC=C1C(O)C2=CC=NC=C2N3CC=CC=C3OCC=C'\n",
    "test_mol = Chem.MolFromSmiles(test_smile)\n",
    "get_max_train_similarity(test_mol)"
   ],
   "metadata": {
    "collapsed": false,
    "is_executing": true,
    "ExecuteTime": {
     "start_time": "2023-10-12T07:23:12.853843529Z"
    }
   },
   "id": "88e7cd5cdb539525"
  },
  {
   "cell_type": "code",
   "execution_count": null,
   "outputs": [],
   "source": [],
   "metadata": {
    "collapsed": false
   },
   "id": "1b1c8a0dd11893b0"
  }
 ],
 "metadata": {
  "kernelspec": {
   "display_name": "Python 3",
   "language": "python",
   "name": "python3"
  },
  "language_info": {
   "codemirror_mode": {
    "name": "ipython",
    "version": 2
   },
   "file_extension": ".py",
   "mimetype": "text/x-python",
   "name": "python",
   "nbconvert_exporter": "python",
   "pygments_lexer": "ipython2",
   "version": "2.7.6"
  }
 },
 "nbformat": 4,
 "nbformat_minor": 5
}
