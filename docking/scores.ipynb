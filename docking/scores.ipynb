{
 "cells": [
  {
   "cell_type": "code",
   "execution_count": 16,
   "outputs": [],
   "source": [
    "import pandas as pd\n",
    "import numpy as np\n",
    "from tqdm import tqdm"
   ],
   "metadata": {
    "collapsed": false,
    "ExecuteTime": {
     "end_time": "2023-10-12T09:14:30.234355193Z",
     "start_time": "2023-10-12T09:14:30.194053388Z"
    }
   },
   "id": "9d627249c5b30ba1"
  },
  {
   "cell_type": "code",
   "execution_count": 17,
   "outputs": [],
   "source": [
    "df = pd.read_csv('d2_ligands_docked.csv')"
   ],
   "metadata": {
    "collapsed": false,
    "ExecuteTime": {
     "end_time": "2023-10-12T09:14:31.978355009Z",
     "start_time": "2023-10-12T09:14:31.454001582Z"
    }
   },
   "id": "1f3ba42342422073"
  },
  {
   "cell_type": "code",
   "execution_count": 23,
   "outputs": [],
   "source": [
    "from rdkit import Chem\n",
    "from rdkit.Chem import AllChem\n",
    "from rdkit import DataStructs\n",
    "from src.utils.finger import dense2sparse\n",
    "\n",
    "class SimilarityCalculator():\n",
    "\n",
    "    def __init__(self):\n",
    "        train = pd.read_parquet('../data/train_data/train_morgan_512bits.parquet')\n",
    "        train['fps'] = train['fps'].apply(eval).apply(lambda x: dense2sparse(x, 512))\n",
    "        self.fps = train['fps'].values\n",
    "\n",
    "    def get_max_train_similarity(self, smile):\n",
    "        query_mol = Chem.MolFromSmiles(smile)\n",
    "        query_fp = AllChem.GetMorganFingerprintAsBitVect(query_mol, 2, nBits=512)\n",
    "        tanimotos = []\n",
    "        for fp in tqdm(self.fps):\n",
    "            train_fp = self.np_to_bv(fp)\n",
    "            sim = DataStructs.TanimotoSimilarity(train_fp, query_fp)\n",
    "            tanimotos.append(sim)\n",
    "        return max(tanimotos)\n",
    "\n",
    "    def np_to_bv(self,fv):\n",
    "        bv = DataStructs.ExplicitBitVect(len(fv))\n",
    "        for i,v in enumerate(fv):\n",
    "            if v:\n",
    "                bv.SetBit(i)\n",
    "        return bv"
   ],
   "metadata": {
    "collapsed": false,
    "ExecuteTime": {
     "end_time": "2023-10-12T09:38:44.398399436Z",
     "start_time": "2023-10-12T09:38:44.358021814Z"
    }
   },
   "id": "d2f2d6abb631b99d"
  },
  {
   "cell_type": "code",
   "execution_count": 24,
   "outputs": [
    {
     "name": "stderr",
     "output_type": "stream",
     "text": [
      "100%|██████████| 977743/977743 [01:13<00:00, 13371.64it/s]\n",
      " 47%|████▋     | 463039/977743 [00:39<00:43, 11724.19it/s]\n"
     ]
    },
    {
     "ename": "KeyboardInterrupt",
     "evalue": "",
     "output_type": "error",
     "traceback": [
      "\u001B[0;31m---------------------------------------------------------------------------\u001B[0m",
      "\u001B[0;31mKeyboardInterrupt\u001B[0m                         Traceback (most recent call last)",
      "Cell \u001B[0;32mIn[24], line 2\u001B[0m\n\u001B[1;32m      1\u001B[0m calculator \u001B[38;5;241m=\u001B[39m SimilarityCalculator()\n\u001B[0;32m----> 2\u001B[0m df[\u001B[38;5;124m'\u001B[39m\u001B[38;5;124mmax_train_similarity\u001B[39m\u001B[38;5;124m'\u001B[39m] \u001B[38;5;241m=\u001B[39m \u001B[43mdf\u001B[49m\u001B[43m[\u001B[49m\u001B[38;5;124;43m'\u001B[39;49m\u001B[38;5;124;43msmiles\u001B[39;49m\u001B[38;5;124;43m'\u001B[39;49m\u001B[43m]\u001B[49m\u001B[38;5;241;43m.\u001B[39;49m\u001B[43mapply\u001B[49m\u001B[43m(\u001B[49m\u001B[43mcalculator\u001B[49m\u001B[38;5;241;43m.\u001B[39;49m\u001B[43mget_max_train_similarity\u001B[49m\u001B[43m)\u001B[49m\n",
      "File \u001B[0;32m~/miniconda3/envs/mldd/lib/python3.9/site-packages/pandas/core/series.py:4630\u001B[0m, in \u001B[0;36mSeries.apply\u001B[0;34m(self, func, convert_dtype, args, **kwargs)\u001B[0m\n\u001B[1;32m   4520\u001B[0m \u001B[38;5;28;01mdef\u001B[39;00m \u001B[38;5;21mapply\u001B[39m(\n\u001B[1;32m   4521\u001B[0m     \u001B[38;5;28mself\u001B[39m,\n\u001B[1;32m   4522\u001B[0m     func: AggFuncType,\n\u001B[0;32m   (...)\u001B[0m\n\u001B[1;32m   4525\u001B[0m     \u001B[38;5;241m*\u001B[39m\u001B[38;5;241m*\u001B[39mkwargs,\n\u001B[1;32m   4526\u001B[0m ) \u001B[38;5;241m-\u001B[39m\u001B[38;5;241m>\u001B[39m DataFrame \u001B[38;5;241m|\u001B[39m Series:\n\u001B[1;32m   4527\u001B[0m \u001B[38;5;250m    \u001B[39m\u001B[38;5;124;03m\"\"\"\u001B[39;00m\n\u001B[1;32m   4528\u001B[0m \u001B[38;5;124;03m    Invoke function on values of Series.\u001B[39;00m\n\u001B[1;32m   4529\u001B[0m \n\u001B[0;32m   (...)\u001B[0m\n\u001B[1;32m   4628\u001B[0m \u001B[38;5;124;03m    dtype: float64\u001B[39;00m\n\u001B[1;32m   4629\u001B[0m \u001B[38;5;124;03m    \"\"\"\u001B[39;00m\n\u001B[0;32m-> 4630\u001B[0m     \u001B[38;5;28;01mreturn\u001B[39;00m \u001B[43mSeriesApply\u001B[49m\u001B[43m(\u001B[49m\u001B[38;5;28;43mself\u001B[39;49m\u001B[43m,\u001B[49m\u001B[43m \u001B[49m\u001B[43mfunc\u001B[49m\u001B[43m,\u001B[49m\u001B[43m \u001B[49m\u001B[43mconvert_dtype\u001B[49m\u001B[43m,\u001B[49m\u001B[43m \u001B[49m\u001B[43margs\u001B[49m\u001B[43m,\u001B[49m\u001B[43m \u001B[49m\u001B[43mkwargs\u001B[49m\u001B[43m)\u001B[49m\u001B[38;5;241;43m.\u001B[39;49m\u001B[43mapply\u001B[49m\u001B[43m(\u001B[49m\u001B[43m)\u001B[49m\n",
      "File \u001B[0;32m~/miniconda3/envs/mldd/lib/python3.9/site-packages/pandas/core/apply.py:1025\u001B[0m, in \u001B[0;36mSeriesApply.apply\u001B[0;34m(self)\u001B[0m\n\u001B[1;32m   1022\u001B[0m     \u001B[38;5;28;01mreturn\u001B[39;00m \u001B[38;5;28mself\u001B[39m\u001B[38;5;241m.\u001B[39mapply_str()\n\u001B[1;32m   1024\u001B[0m \u001B[38;5;66;03m# self.f is Callable\u001B[39;00m\n\u001B[0;32m-> 1025\u001B[0m \u001B[38;5;28;01mreturn\u001B[39;00m \u001B[38;5;28;43mself\u001B[39;49m\u001B[38;5;241;43m.\u001B[39;49m\u001B[43mapply_standard\u001B[49m\u001B[43m(\u001B[49m\u001B[43m)\u001B[49m\n",
      "File \u001B[0;32m~/miniconda3/envs/mldd/lib/python3.9/site-packages/pandas/core/apply.py:1076\u001B[0m, in \u001B[0;36mSeriesApply.apply_standard\u001B[0;34m(self)\u001B[0m\n\u001B[1;32m   1074\u001B[0m     \u001B[38;5;28;01melse\u001B[39;00m:\n\u001B[1;32m   1075\u001B[0m         values \u001B[38;5;241m=\u001B[39m obj\u001B[38;5;241m.\u001B[39mastype(\u001B[38;5;28mobject\u001B[39m)\u001B[38;5;241m.\u001B[39m_values\n\u001B[0;32m-> 1076\u001B[0m         mapped \u001B[38;5;241m=\u001B[39m \u001B[43mlib\u001B[49m\u001B[38;5;241;43m.\u001B[39;49m\u001B[43mmap_infer\u001B[49m\u001B[43m(\u001B[49m\n\u001B[1;32m   1077\u001B[0m \u001B[43m            \u001B[49m\u001B[43mvalues\u001B[49m\u001B[43m,\u001B[49m\n\u001B[1;32m   1078\u001B[0m \u001B[43m            \u001B[49m\u001B[43mf\u001B[49m\u001B[43m,\u001B[49m\n\u001B[1;32m   1079\u001B[0m \u001B[43m            \u001B[49m\u001B[43mconvert\u001B[49m\u001B[38;5;241;43m=\u001B[39;49m\u001B[38;5;28;43mself\u001B[39;49m\u001B[38;5;241;43m.\u001B[39;49m\u001B[43mconvert_dtype\u001B[49m\u001B[43m,\u001B[49m\n\u001B[1;32m   1080\u001B[0m \u001B[43m        \u001B[49m\u001B[43m)\u001B[49m\n\u001B[1;32m   1082\u001B[0m \u001B[38;5;28;01mif\u001B[39;00m \u001B[38;5;28mlen\u001B[39m(mapped) \u001B[38;5;129;01mand\u001B[39;00m \u001B[38;5;28misinstance\u001B[39m(mapped[\u001B[38;5;241m0\u001B[39m], ABCSeries):\n\u001B[1;32m   1083\u001B[0m     \u001B[38;5;66;03m# GH#43986 Need to do list(mapped) in order to get treated as nested\u001B[39;00m\n\u001B[1;32m   1084\u001B[0m     \u001B[38;5;66;03m#  See also GH#25959 regarding EA support\u001B[39;00m\n\u001B[1;32m   1085\u001B[0m     \u001B[38;5;28;01mreturn\u001B[39;00m obj\u001B[38;5;241m.\u001B[39m_constructor_expanddim(\u001B[38;5;28mlist\u001B[39m(mapped), index\u001B[38;5;241m=\u001B[39mobj\u001B[38;5;241m.\u001B[39mindex)\n",
      "File \u001B[0;32m~/miniconda3/envs/mldd/lib/python3.9/site-packages/pandas/_libs/lib.pyx:2834\u001B[0m, in \u001B[0;36mpandas._libs.lib.map_infer\u001B[0;34m()\u001B[0m\n",
      "Cell \u001B[0;32mIn[23], line 18\u001B[0m, in \u001B[0;36mSimilarityCalculator.get_max_train_similarity\u001B[0;34m(self, smile)\u001B[0m\n\u001B[1;32m     16\u001B[0m tanimotos \u001B[38;5;241m=\u001B[39m []\n\u001B[1;32m     17\u001B[0m \u001B[38;5;28;01mfor\u001B[39;00m fp \u001B[38;5;129;01min\u001B[39;00m tqdm(\u001B[38;5;28mself\u001B[39m\u001B[38;5;241m.\u001B[39mfps):\n\u001B[0;32m---> 18\u001B[0m     train_fp \u001B[38;5;241m=\u001B[39m \u001B[38;5;28;43mself\u001B[39;49m\u001B[38;5;241;43m.\u001B[39;49m\u001B[43mnp_to_bv\u001B[49m\u001B[43m(\u001B[49m\u001B[43mfp\u001B[49m\u001B[43m)\u001B[49m\n\u001B[1;32m     19\u001B[0m     sim \u001B[38;5;241m=\u001B[39m DataStructs\u001B[38;5;241m.\u001B[39mTanimotoSimilarity(train_fp, query_fp)\n\u001B[1;32m     20\u001B[0m     tanimotos\u001B[38;5;241m.\u001B[39mappend(sim)\n",
      "Cell \u001B[0;32mIn[23], line 26\u001B[0m, in \u001B[0;36mSimilarityCalculator.np_to_bv\u001B[0;34m(self, fv)\u001B[0m\n\u001B[1;32m     24\u001B[0m bv \u001B[38;5;241m=\u001B[39m DataStructs\u001B[38;5;241m.\u001B[39mExplicitBitVect(\u001B[38;5;28mlen\u001B[39m(fv))\n\u001B[1;32m     25\u001B[0m \u001B[38;5;28;01mfor\u001B[39;00m i,v \u001B[38;5;129;01min\u001B[39;00m \u001B[38;5;28menumerate\u001B[39m(fv):\n\u001B[0;32m---> 26\u001B[0m     \u001B[38;5;28;01mif\u001B[39;00m v:\n\u001B[1;32m     27\u001B[0m         bv\u001B[38;5;241m.\u001B[39mSetBit(i)\n\u001B[1;32m     28\u001B[0m \u001B[38;5;28;01mreturn\u001B[39;00m bv\n",
      "\u001B[0;31mKeyboardInterrupt\u001B[0m: "
     ]
    }
   ],
   "source": [
    "calculator = SimilarityCalculator()\n",
    "df['max_train_similarity'] = df['smiles'].apply(calculator.get_max_train_similarity)"
   ],
   "metadata": {
    "collapsed": false,
    "ExecuteTime": {
     "end_time": "2023-10-12T09:41:41.654676837Z",
     "start_time": "2023-10-12T09:38:44.890460066Z"
    }
   },
   "id": "bdb07dc54483f9b6"
  },
  {
   "cell_type": "code",
   "execution_count": 14,
   "outputs": [],
   "source": [
    "import pandas as pd\n",
    "df = pd.read_parquet('d2_ligands_w_tanimotos.parquet', index=False)"
   ],
   "metadata": {
    "collapsed": false,
    "ExecuteTime": {
     "end_time": "2023-10-13T06:54:45.803116720Z",
     "start_time": "2023-10-13T06:54:45.790151224Z"
    }
   },
   "id": "f9398e9d3ad99f79"
  },
  {
   "cell_type": "code",
   "execution_count": 15,
   "outputs": [],
   "source": [
    "df['max_train_similarity'] = df['max_train_similarity'].apply(lambda x: round(x, 2))\n",
    "df.drop(columns=['Unnamed: 0', 'mol']).to_csv('d2_ligands_w_tanimotos.csv', header=True)"
   ],
   "metadata": {
    "collapsed": false,
    "ExecuteTime": {
     "end_time": "2023-10-13T06:54:46.470415414Z",
     "start_time": "2023-10-13T06:54:46.455158309Z"
    }
   },
   "id": "bc99cd994c293cc3"
  },
  {
   "cell_type": "code",
   "execution_count": 16,
   "outputs": [
    {
     "data": {
      "text/plain": "     Unnamed: 0   idx                                          smiles  \\\n0             0  7635      COC1=NOCC=C1C(O)C2=CC=NC=C2N3CC=CC=C3OCC=C   \n1             1  6484                     CCNS(=O)(=O)CCC1=CC=CC=C1CC   \n2             2   240       OC(C)C=NC=C(N1C=NC(C2=CC=CC=N2)=N1)C(CF)F   \n3             3  3427                      C=1NCCCC=1S(=O)(C)CCC(CF)F   \n4             4    91                CCCS(=O)(=O)C1=CC=CC=C1N2C=NCC2S   \n..          ...   ...                                             ...   \n995          95   364                   C=CC=C1C(C=CC=C1)C2=CC=CC=C2O   \n996          96  8543                          CC=CC1=CC=CC(=C1)OCC=O   \n997          97  6736  CCCC1=NC=CC=C1S(=O)(=O)N2C=NC3=CC(F)=CC(F)=C32   \n998          98   252                      O=C(C=CC1=CC=CC=C1NC=C)CBr   \n999          99   296                         C=CCN(CC(=O)C)C1CCCC1=N   \n\n     largest_ring  num_rings       qed  no_unwanted_frags      mol_wt  \\\n0               6          3  0.790171               True  355.153206   \n1               6          1  0.824177               True  241.113650   \n2               6          2  0.826979               True  307.124467   \n3               6          1  0.712871               True  239.115542   \n4               6          2  0.860119               True  284.065320   \n..            ...        ...       ...                ...         ...   \n995             6          2  0.788444               True  210.104465   \n996             6          1  0.657801               True  176.083730   \n997             6          3  0.734181               True  337.069654   \n998             6          1  0.654517               True  265.010226   \n999             5          1  0.676023               True  194.141913   \n\n     num_HBA  num_HBD     logP  num_rotatable_bonds   tpsa  bridgehead_atoms  \\\n0          7        1  2.45170                    6  76.41                 0   \n1          2        1  1.73080                    6  46.17                 0   \n2          6        1  1.89770                    6  76.19                 0   \n3          2        2  1.55540                    5  29.10                 0   \n4          5        1  1.97450                    4  49.74                 0   \n..       ...      ...      ...                  ...    ...               ...   \n995        1        1  3.71420                    2  20.23                 0   \n996        2        0  2.29740                    4  26.30                 0   \n997        5        0  2.89900                    4  64.85                 0   \n998        2        1  3.21920                    5  29.10                 0   \n999        3        1  1.63567                    5  44.16                 0   \n\n     spiro_atoms                                               mol    score  \\\n0              0  <rdkit.Chem.rdchem.Mol object at 0x14e69ece4460> -6.89006   \n1              0  <rdkit.Chem.rdchem.Mol object at 0x14e69ece4520> -7.17283   \n2              0  <rdkit.Chem.rdchem.Mol object at 0x14e69ece45e0> -7.68856   \n3              0  <rdkit.Chem.rdchem.Mol object at 0x14e69ece4640> -6.94619   \n4              0  <rdkit.Chem.rdchem.Mol object at 0x14e69ece4580> -5.92116   \n..           ...                                               ...      ...   \n995            0  <rdkit.Chem.rdchem.Mol object at 0x148a8eb3a6a0> -7.05284   \n996            0  <rdkit.Chem.rdchem.Mol object at 0x148a8eb3a700> -6.89813   \n997            0  <rdkit.Chem.rdchem.Mol object at 0x148a8eb3a760> -8.59195   \n998            0  <rdkit.Chem.rdchem.Mol object at 0x148a8eb3a7c0> -7.06293   \n999            0  <rdkit.Chem.rdchem.Mol object at 0x148a8eb3a820> -5.81110   \n\n     max_train_similarity  \n0                    0.32  \n1                    0.42  \n2                    0.39  \n3                    0.27  \n4                    0.41  \n..                    ...  \n995                  0.33  \n996                  0.51  \n997                  0.42  \n998                  0.50  \n999                  0.37  \n\n[1000 rows x 18 columns]",
      "text/html": "<div>\n<style scoped>\n    .dataframe tbody tr th:only-of-type {\n        vertical-align: middle;\n    }\n\n    .dataframe tbody tr th {\n        vertical-align: top;\n    }\n\n    .dataframe thead th {\n        text-align: right;\n    }\n</style>\n<table border=\"1\" class=\"dataframe\">\n  <thead>\n    <tr style=\"text-align: right;\">\n      <th></th>\n      <th>Unnamed: 0</th>\n      <th>idx</th>\n      <th>smiles</th>\n      <th>largest_ring</th>\n      <th>num_rings</th>\n      <th>qed</th>\n      <th>no_unwanted_frags</th>\n      <th>mol_wt</th>\n      <th>num_HBA</th>\n      <th>num_HBD</th>\n      <th>logP</th>\n      <th>num_rotatable_bonds</th>\n      <th>tpsa</th>\n      <th>bridgehead_atoms</th>\n      <th>spiro_atoms</th>\n      <th>mol</th>\n      <th>score</th>\n      <th>max_train_similarity</th>\n    </tr>\n  </thead>\n  <tbody>\n    <tr>\n      <th>0</th>\n      <td>0</td>\n      <td>7635</td>\n      <td>COC1=NOCC=C1C(O)C2=CC=NC=C2N3CC=CC=C3OCC=C</td>\n      <td>6</td>\n      <td>3</td>\n      <td>0.790171</td>\n      <td>True</td>\n      <td>355.153206</td>\n      <td>7</td>\n      <td>1</td>\n      <td>2.45170</td>\n      <td>6</td>\n      <td>76.41</td>\n      <td>0</td>\n      <td>0</td>\n      <td>&lt;rdkit.Chem.rdchem.Mol object at 0x14e69ece4460&gt;</td>\n      <td>-6.89006</td>\n      <td>0.32</td>\n    </tr>\n    <tr>\n      <th>1</th>\n      <td>1</td>\n      <td>6484</td>\n      <td>CCNS(=O)(=O)CCC1=CC=CC=C1CC</td>\n      <td>6</td>\n      <td>1</td>\n      <td>0.824177</td>\n      <td>True</td>\n      <td>241.113650</td>\n      <td>2</td>\n      <td>1</td>\n      <td>1.73080</td>\n      <td>6</td>\n      <td>46.17</td>\n      <td>0</td>\n      <td>0</td>\n      <td>&lt;rdkit.Chem.rdchem.Mol object at 0x14e69ece4520&gt;</td>\n      <td>-7.17283</td>\n      <td>0.42</td>\n    </tr>\n    <tr>\n      <th>2</th>\n      <td>2</td>\n      <td>240</td>\n      <td>OC(C)C=NC=C(N1C=NC(C2=CC=CC=N2)=N1)C(CF)F</td>\n      <td>6</td>\n      <td>2</td>\n      <td>0.826979</td>\n      <td>True</td>\n      <td>307.124467</td>\n      <td>6</td>\n      <td>1</td>\n      <td>1.89770</td>\n      <td>6</td>\n      <td>76.19</td>\n      <td>0</td>\n      <td>0</td>\n      <td>&lt;rdkit.Chem.rdchem.Mol object at 0x14e69ece45e0&gt;</td>\n      <td>-7.68856</td>\n      <td>0.39</td>\n    </tr>\n    <tr>\n      <th>3</th>\n      <td>3</td>\n      <td>3427</td>\n      <td>C=1NCCCC=1S(=O)(C)CCC(CF)F</td>\n      <td>6</td>\n      <td>1</td>\n      <td>0.712871</td>\n      <td>True</td>\n      <td>239.115542</td>\n      <td>2</td>\n      <td>2</td>\n      <td>1.55540</td>\n      <td>5</td>\n      <td>29.10</td>\n      <td>0</td>\n      <td>0</td>\n      <td>&lt;rdkit.Chem.rdchem.Mol object at 0x14e69ece4640&gt;</td>\n      <td>-6.94619</td>\n      <td>0.27</td>\n    </tr>\n    <tr>\n      <th>4</th>\n      <td>4</td>\n      <td>91</td>\n      <td>CCCS(=O)(=O)C1=CC=CC=C1N2C=NCC2S</td>\n      <td>6</td>\n      <td>2</td>\n      <td>0.860119</td>\n      <td>True</td>\n      <td>284.065320</td>\n      <td>5</td>\n      <td>1</td>\n      <td>1.97450</td>\n      <td>4</td>\n      <td>49.74</td>\n      <td>0</td>\n      <td>0</td>\n      <td>&lt;rdkit.Chem.rdchem.Mol object at 0x14e69ece4580&gt;</td>\n      <td>-5.92116</td>\n      <td>0.41</td>\n    </tr>\n    <tr>\n      <th>...</th>\n      <td>...</td>\n      <td>...</td>\n      <td>...</td>\n      <td>...</td>\n      <td>...</td>\n      <td>...</td>\n      <td>...</td>\n      <td>...</td>\n      <td>...</td>\n      <td>...</td>\n      <td>...</td>\n      <td>...</td>\n      <td>...</td>\n      <td>...</td>\n      <td>...</td>\n      <td>...</td>\n      <td>...</td>\n      <td>...</td>\n    </tr>\n    <tr>\n      <th>995</th>\n      <td>95</td>\n      <td>364</td>\n      <td>C=CC=C1C(C=CC=C1)C2=CC=CC=C2O</td>\n      <td>6</td>\n      <td>2</td>\n      <td>0.788444</td>\n      <td>True</td>\n      <td>210.104465</td>\n      <td>1</td>\n      <td>1</td>\n      <td>3.71420</td>\n      <td>2</td>\n      <td>20.23</td>\n      <td>0</td>\n      <td>0</td>\n      <td>&lt;rdkit.Chem.rdchem.Mol object at 0x148a8eb3a6a0&gt;</td>\n      <td>-7.05284</td>\n      <td>0.33</td>\n    </tr>\n    <tr>\n      <th>996</th>\n      <td>96</td>\n      <td>8543</td>\n      <td>CC=CC1=CC=CC(=C1)OCC=O</td>\n      <td>6</td>\n      <td>1</td>\n      <td>0.657801</td>\n      <td>True</td>\n      <td>176.083730</td>\n      <td>2</td>\n      <td>0</td>\n      <td>2.29740</td>\n      <td>4</td>\n      <td>26.30</td>\n      <td>0</td>\n      <td>0</td>\n      <td>&lt;rdkit.Chem.rdchem.Mol object at 0x148a8eb3a700&gt;</td>\n      <td>-6.89813</td>\n      <td>0.51</td>\n    </tr>\n    <tr>\n      <th>997</th>\n      <td>97</td>\n      <td>6736</td>\n      <td>CCCC1=NC=CC=C1S(=O)(=O)N2C=NC3=CC(F)=CC(F)=C32</td>\n      <td>6</td>\n      <td>3</td>\n      <td>0.734181</td>\n      <td>True</td>\n      <td>337.069654</td>\n      <td>5</td>\n      <td>0</td>\n      <td>2.89900</td>\n      <td>4</td>\n      <td>64.85</td>\n      <td>0</td>\n      <td>0</td>\n      <td>&lt;rdkit.Chem.rdchem.Mol object at 0x148a8eb3a760&gt;</td>\n      <td>-8.59195</td>\n      <td>0.42</td>\n    </tr>\n    <tr>\n      <th>998</th>\n      <td>98</td>\n      <td>252</td>\n      <td>O=C(C=CC1=CC=CC=C1NC=C)CBr</td>\n      <td>6</td>\n      <td>1</td>\n      <td>0.654517</td>\n      <td>True</td>\n      <td>265.010226</td>\n      <td>2</td>\n      <td>1</td>\n      <td>3.21920</td>\n      <td>5</td>\n      <td>29.10</td>\n      <td>0</td>\n      <td>0</td>\n      <td>&lt;rdkit.Chem.rdchem.Mol object at 0x148a8eb3a7c0&gt;</td>\n      <td>-7.06293</td>\n      <td>0.50</td>\n    </tr>\n    <tr>\n      <th>999</th>\n      <td>99</td>\n      <td>296</td>\n      <td>C=CCN(CC(=O)C)C1CCCC1=N</td>\n      <td>5</td>\n      <td>1</td>\n      <td>0.676023</td>\n      <td>True</td>\n      <td>194.141913</td>\n      <td>3</td>\n      <td>1</td>\n      <td>1.63567</td>\n      <td>5</td>\n      <td>44.16</td>\n      <td>0</td>\n      <td>0</td>\n      <td>&lt;rdkit.Chem.rdchem.Mol object at 0x148a8eb3a820&gt;</td>\n      <td>-5.81110</td>\n      <td>0.37</td>\n    </tr>\n  </tbody>\n</table>\n<p>1000 rows × 18 columns</p>\n</div>"
     },
     "execution_count": 16,
     "metadata": {},
     "output_type": "execute_result"
    }
   ],
   "source": [
    "df"
   ],
   "metadata": {
    "collapsed": false,
    "ExecuteTime": {
     "end_time": "2023-10-13T06:54:46.982703973Z",
     "start_time": "2023-10-13T06:54:46.972538035Z"
    }
   },
   "id": "d1af681fb57f01bc"
  },
  {
   "cell_type": "code",
   "execution_count": 17,
   "outputs": [],
   "source": [
    "import seaborn as sns"
   ],
   "metadata": {
    "collapsed": false,
    "ExecuteTime": {
     "end_time": "2023-10-13T07:11:35.672406749Z",
     "start_time": "2023-10-13T07:11:34.798282470Z"
    }
   },
   "id": "2891b41929b5e30e"
  },
  {
   "cell_type": "code",
   "execution_count": 21,
   "outputs": [
    {
     "data": {
      "text/plain": "<Axes: xlabel='max_train_similarity', ylabel='Count'>"
     },
     "execution_count": 21,
     "metadata": {},
     "output_type": "execute_result"
    },
    {
     "data": {
      "text/plain": "<Figure size 640x480 with 1 Axes>",
      "image/png": "[encoded data removed]"
     },
     "metadata": {},
     "output_type": "display_data"
    }
   ],
   "source": [
    "sns.histplot(df, x='max_train_similarity', bins=12)"
   ],
   "metadata": {
    "collapsed": false,
    "ExecuteTime": {
     "end_time": "2023-10-13T07:12:28.792351520Z",
     "start_time": "2023-10-13T07:12:28.610258684Z"
    }
   },
   "id": "84ca8529fa6c2539"
  },
  {
   "cell_type": "code",
   "execution_count": null,
   "outputs": [],
   "source": [],
   "metadata": {
    "collapsed": false
   },
   "id": "95988966fdfb33e5"
  }
 ],
 "metadata": {
  "kernelspec": {
   "display_name": "Python 3",
   "language": "python",
   "name": "python3"
  },
  "language_info": {
   "codemirror_mode": {
    "name": "ipython",
    "version": 2
   },
   "file_extension": ".py",
   "mimetype": "text/x-python",
   "name": "python",
   "nbconvert_exporter": "python",
   "pygments_lexer": "ipython2",
   "version": "2.7.6"
  }
 },
 "nbformat": 4,
 "nbformat_minor": 5
}
