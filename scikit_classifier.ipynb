{
 "cells": [
  {
   "cell_type": "code",
   "execution_count": 1,
   "id": "b844a0a4",
   "metadata": {
    "ExecuteTime": {
     "end_time": "2023-09-20T10:43:26.095798745Z",
     "start_time": "2023-09-20T10:43:24.344997992Z"
    }
   },
   "outputs": [],
   "source": [
    "import time\n",
    "import pandas as pd\n",
    "import pickle\n",
    "from sklearn.ensemble import RandomForestClassifier as Rfc\n",
    "from sklearn.svm import SVC\n",
    "from xgboost import XGBClassifier\n",
    "import sklearn.model_selection\n",
    "from sklearn.metrics import roc_auc_score, confusion_matrix\n",
    "import wandb\n",
    "import os"
   ]
  },
  {
   "cell_type": "code",
   "execution_count": 27,
   "id": "83ad26ea",
   "metadata": {
    "ExecuteTime": {
     "end_time": "2023-09-20T10:53:17.141863161Z",
     "start_time": "2023-09-20T10:53:17.042999344Z"
    }
   },
   "outputs": [],
   "source": [
    "data_path = f'./data/encoded_data/GRUv3_std_tails/mu_d2_epoch_140.parquet'\n",
    "data = pd.read_parquet(data_path)\n",
    "model_name = data_path.split('/')[-2].split('_')[-1]\n",
    "model_epoch = data_path.split('/')[-1].split('_')[-1].split('.')[0]\n",
    "train, test = sklearn.model_selection.train_test_split(data, test_size=0.1, random_state=42)\n",
    "\n",
    "RF_params = {'n_estimators': 200, \n",
    "             'max_depth': None, \n",
    "             'min_samples_split': 2, \n",
    "             'min_samples_leaf': 1, \n",
    "             'min_weight_fraction_leaf': 0.0, \n",
    "             'max_features': 'sqrt',\n",
    "             'n_jobs': -1\n",
    "             }\n",
    "SV_params = {'C': 50, \n",
    "             'kernel': 'rbf', \n",
    "             'degree': 3, \n",
    "             'gamma': 'scale', \n",
    "             'shrinking': True, \n",
    "             'probability': True, \n",
    "             'max_iter': -1}\n",
    "XGB_params = {'tree_method':'gpu_hist'}\n",
    "\n",
    "RF = Rfc(**RF_params)\n",
    "SV = SVC(**SV_params)\n",
    "XGB = XGBClassifier(**XGB_params)"
   ]
  },
  {
   "cell_type": "code",
   "execution_count": 28,
   "id": "2b0861f6",
   "metadata": {
    "ExecuteTime": {
     "end_time": "2023-09-20T10:53:17.759572680Z",
     "start_time": "2023-09-20T10:53:17.751634693Z"
    }
   },
   "outputs": [],
   "source": [
    "train_X = train.drop(['label', 'smiles'], axis=1)\n",
    "train_y = train['label']\n",
    "test_X = test.drop(['label', 'smiles'], axis=1)\n",
    "test_y = test['label']"
   ]
  },
  {
   "cell_type": "code",
   "execution_count": 29,
   "id": "3380c131",
   "metadata": {
    "ExecuteTime": {
     "end_time": "2023-09-20T10:54:03.065213596Z",
     "start_time": "2023-09-20T10:53:18.176491331Z"
    }
   },
   "outputs": [
    {
     "data": {
      "text/plain": "SVC(C=50, probability=True)",
      "text/html": "<style>#sk-container-id-5 {color: black;background-color: white;}#sk-container-id-5 pre{padding: 0;}#sk-container-id-5 div.sk-toggleable {background-color: white;}#sk-container-id-5 label.sk-toggleable__label {cursor: pointer;display: block;width: 100%;margin-bottom: 0;padding: 0.3em;box-sizing: border-box;text-align: center;}#sk-container-id-5 label.sk-toggleable__label-arrow:before {content: \"▸\";float: left;margin-right: 0.25em;color: #696969;}#sk-container-id-5 label.sk-toggleable__label-arrow:hover:before {color: black;}#sk-container-id-5 div.sk-estimator:hover label.sk-toggleable__label-arrow:before {color: black;}#sk-container-id-5 div.sk-toggleable__content {max-height: 0;max-width: 0;overflow: hidden;text-align: left;background-color: #f0f8ff;}#sk-container-id-5 div.sk-toggleable__content pre {margin: 0.2em;color: black;border-radius: 0.25em;background-color: #f0f8ff;}#sk-container-id-5 input.sk-toggleable__control:checked~div.sk-toggleable__content {max-height: 200px;max-width: 100%;overflow: auto;}#sk-container-id-5 input.sk-toggleable__control:checked~label.sk-toggleable__label-arrow:before {content: \"▾\";}#sk-container-id-5 div.sk-estimator input.sk-toggleable__control:checked~label.sk-toggleable__label {background-color: #d4ebff;}#sk-container-id-5 div.sk-label input.sk-toggleable__control:checked~label.sk-toggleable__label {background-color: #d4ebff;}#sk-container-id-5 input.sk-hidden--visually {border: 0;clip: rect(1px 1px 1px 1px);clip: rect(1px, 1px, 1px, 1px);height: 1px;margin: -1px;overflow: hidden;padding: 0;position: absolute;width: 1px;}#sk-container-id-5 div.sk-estimator {font-family: monospace;background-color: #f0f8ff;border: 1px dotted black;border-radius: 0.25em;box-sizing: border-box;margin-bottom: 0.5em;}#sk-container-id-5 div.sk-estimator:hover {background-color: #d4ebff;}#sk-container-id-5 div.sk-parallel-item::after {content: \"\";width: 100%;border-bottom: 1px solid gray;flex-grow: 1;}#sk-container-id-5 div.sk-label:hover label.sk-toggleable__label {background-color: #d4ebff;}#sk-container-id-5 div.sk-serial::before {content: \"\";position: absolute;border-left: 1px solid gray;box-sizing: border-box;top: 0;bottom: 0;left: 50%;z-index: 0;}#sk-container-id-5 div.sk-serial {display: flex;flex-direction: column;align-items: center;background-color: white;padding-right: 0.2em;padding-left: 0.2em;position: relative;}#sk-container-id-5 div.sk-item {position: relative;z-index: 1;}#sk-container-id-5 div.sk-parallel {display: flex;align-items: stretch;justify-content: center;background-color: white;position: relative;}#sk-container-id-5 div.sk-item::before, #sk-container-id-5 div.sk-parallel-item::before {content: \"\";position: absolute;border-left: 1px solid gray;box-sizing: border-box;top: 0;bottom: 0;left: 50%;z-index: -1;}#sk-container-id-5 div.sk-parallel-item {display: flex;flex-direction: column;z-index: 1;position: relative;background-color: white;}#sk-container-id-5 div.sk-parallel-item:first-child::after {align-self: flex-end;width: 50%;}#sk-container-id-5 div.sk-parallel-item:last-child::after {align-self: flex-start;width: 50%;}#sk-container-id-5 div.sk-parallel-item:only-child::after {width: 0;}#sk-container-id-5 div.sk-dashed-wrapped {border: 1px dashed gray;margin: 0 0.4em 0.5em 0.4em;box-sizing: border-box;padding-bottom: 0.4em;background-color: white;}#sk-container-id-5 div.sk-label label {font-family: monospace;font-weight: bold;display: inline-block;line-height: 1.2em;}#sk-container-id-5 div.sk-label-container {text-align: center;}#sk-container-id-5 div.sk-container {/* jupyter's `normalize.less` sets `[hidden] { display: none; }` but bootstrap.min.css set `[hidden] { display: none !important; }` so we also need the `!important` here to be able to override the default hidden behavior on the sphinx rendered scikit-learn.org. See: https://github.com/scikit-learn/scikit-learn/issues/21755 */display: inline-block !important;position: relative;}#sk-container-id-5 div.sk-text-repr-fallback {display: none;}</style><div id=\"sk-container-id-5\" class=\"sk-top-container\"><div class=\"sk-text-repr-fallback\"><pre>SVC(C=50, probability=True)</pre><b>In a Jupyter environment, please rerun this cell to show the HTML representation or trust the notebook. <br />On GitHub, the HTML representation is unable to render, please try loading this page with nbviewer.org.</b></div><div class=\"sk-container\" hidden><div class=\"sk-item\"><div class=\"sk-estimator sk-toggleable\"><input class=\"sk-toggleable__control sk-hidden--visually\" id=\"sk-estimator-id-5\" type=\"checkbox\" checked><label for=\"sk-estimator-id-5\" class=\"sk-toggleable__label sk-toggleable__label-arrow\">SVC</label><div class=\"sk-toggleable__content\"><pre>SVC(C=50, probability=True)</pre></div></div></div></div></div>"
     },
     "execution_count": 29,
     "metadata": {},
     "output_type": "execute_result"
    }
   ],
   "source": [
    "#-------------------------#\n",
    "# model can be RF, XGB, SV\n",
    "model = SV\n",
    "#-------------------------#\n",
    "\n",
    "if model == RF:\n",
    "    model_params = RF_params\n",
    "elif model == XGB:\n",
    "    model_params = XGB_params\n",
    "elif model == SV:\n",
    "    model_params = SV_params\n",
    "else:\n",
    "    raise ValueError('model not supported')\n",
    "\n",
    "model.fit(train_X, train_y)"
   ]
  },
  {
   "cell_type": "code",
   "execution_count": 30,
   "outputs": [],
   "source": [
    "name = model.__str__().split('(')[0]\n",
    "timestamp = (str(time.localtime()[3]) + '-' +\n",
    "             str(time.localtime()[4]) + '-' +\n",
    "             str(time.localtime()[5])\n",
    "             )\n",
    "name_extended = (name + '_' \n",
    "                 + model_name + '_'\n",
    "                 + model_epoch + '_'\n",
    "                 + timestamp)"
   ],
   "metadata": {
    "collapsed": false,
    "ExecuteTime": {
     "end_time": "2023-09-20T10:54:03.066023364Z",
     "start_time": "2023-09-20T10:54:03.063993220Z"
    }
   },
   "id": "6701caef0001cfc9"
  },
  {
   "cell_type": "code",
   "execution_count": 31,
   "id": "bdf7bde7",
   "metadata": {
    "ExecuteTime": {
     "end_time": "2023-09-20T10:54:03.066907540Z",
     "start_time": "2023-09-20T10:54:03.064704196Z"
    }
   },
   "outputs": [],
   "source": [
    "def evaluate(model, test_X, test_y):  \n",
    "    predictions = model.predict_proba(test_X)[:, 1]\n",
    "    df = pd.DataFrame()\n",
    "    df['pred'] = predictions\n",
    "    df['label'] = test_y.values\n",
    "    df['pred'] = df['pred'].apply(lambda x: 1 if x>0.5 else 0)\n",
    "    accuracy = df[df['pred']==df['label']].shape[0]/df.shape[0]\n",
    "    roc_auc = roc_auc_score(df['label'], df['pred'])\n",
    "    tn, fp, fn, tp = confusion_matrix(df['label'], df['pred']).ravel()\n",
    "    metrics = {\n",
    "        'accuracy': round(accuracy, 4),\n",
    "        'roc_auc': round(roc_auc, 4),\n",
    "        'true_positive': round(tp / df.shape[0], 4),\n",
    "        'true_negative': round(tn / df.shape[0], 4),\n",
    "        'false_positive': round(fp / df.shape[0], 4),\n",
    "        'false_negative': round(fn / df.shape[0], 4)\n",
    "    }\n",
    "    return metrics"
   ]
  },
  {
   "cell_type": "code",
   "execution_count": 32,
   "outputs": [
    {
     "data": {
      "text/plain": "<IPython.core.display.HTML object>",
      "text/html": "wandb version 0.15.10 is available!  To upgrade, please run:\n $ pip install wandb --upgrade"
     },
     "metadata": {},
     "output_type": "display_data"
    },
    {
     "data": {
      "text/plain": "<IPython.core.display.HTML object>",
      "text/html": "Tracking run with wandb version 0.15.4"
     },
     "metadata": {},
     "output_type": "display_data"
    },
    {
     "data": {
      "text/plain": "<IPython.core.display.HTML object>",
      "text/html": "Run data is saved locally in <code>/home/hubert/github/mldd23_project1/wandb/run-20230920_125403-g7ogv8yu</code>"
     },
     "metadata": {},
     "output_type": "display_data"
    },
    {
     "data": {
      "text/plain": "<IPython.core.display.HTML object>",
      "text/html": "Syncing run <strong><a href='https://wandb.ai/mldd23/sklearn-clf/runs/g7ogv8yu' target=\"_blank\">SVC_tails_140_12-54-3</a></strong> to <a href='https://wandb.ai/mldd23/sklearn-clf' target=\"_blank\">Weights & Biases</a> (<a href='https://wandb.me/run' target=\"_blank\">docs</a>)<br/>"
     },
     "metadata": {},
     "output_type": "display_data"
    },
    {
     "data": {
      "text/plain": "<IPython.core.display.HTML object>",
      "text/html": " View project at <a href='https://wandb.ai/mldd23/sklearn-clf' target=\"_blank\">https://wandb.ai/mldd23/sklearn-clf</a>"
     },
     "metadata": {},
     "output_type": "display_data"
    },
    {
     "data": {
      "text/plain": "<IPython.core.display.HTML object>",
      "text/html": " View run at <a href='https://wandb.ai/mldd23/sklearn-clf/runs/g7ogv8yu' target=\"_blank\">https://wandb.ai/mldd23/sklearn-clf/runs/g7ogv8yu</a>"
     },
     "metadata": {},
     "output_type": "display_data"
    },
    {
     "data": {
      "text/plain": "<IPython.core.display.HTML object>",
      "text/html": "Waiting for W&B process to finish... <strong style=\"color:green\">(success).</strong>"
     },
     "metadata": {},
     "output_type": "display_data"
    },
    {
     "data": {
      "text/plain": "<IPython.core.display.HTML object>",
      "text/html": "<style>\n    table.wandb td:nth-child(1) { padding: 0 10px; text-align: left ; width: auto;} td:nth-child(2) {text-align: left ; width: 100%}\n    .wandb-row { display: flex; flex-direction: row; flex-wrap: wrap; justify-content: flex-start; width: 100% }\n    .wandb-col { display: flex; flex-direction: column; flex-basis: 100%; flex: 1; padding: 10px; }\n    </style>\n<div class=\"wandb-row\"><div class=\"wandb-col\"><h3>Run history:</h3><br/><table class=\"wandb\"><tr><td>accuracy</td><td>▁</td></tr><tr><td>false_negative</td><td>▁</td></tr><tr><td>false_positive</td><td>▁</td></tr><tr><td>roc_auc</td><td>▁</td></tr><tr><td>true_negative</td><td>▁</td></tr><tr><td>true_positive</td><td>▁</td></tr></table><br/></div><div class=\"wandb-col\"><h3>Run summary:</h3><br/><table class=\"wandb\"><tr><td>accuracy</td><td>0.8436</td></tr><tr><td>false_negative</td><td>0.0915</td></tr><tr><td>false_positive</td><td>0.0649</td></tr><tr><td>roc_auc</td><td>0.8224</td></tr><tr><td>true_negative</td><td>0.5745</td></tr><tr><td>true_positive</td><td>0.2691</td></tr></table><br/></div></div>"
     },
     "metadata": {},
     "output_type": "display_data"
    },
    {
     "data": {
      "text/plain": "<IPython.core.display.HTML object>",
      "text/html": " View run <strong style=\"color:#cdcd00\">SVC_tails_140_12-54-3</strong> at: <a href='https://wandb.ai/mldd23/sklearn-clf/runs/g7ogv8yu' target=\"_blank\">https://wandb.ai/mldd23/sklearn-clf/runs/g7ogv8yu</a><br/>Synced 5 W&B file(s), 0 media file(s), 0 artifact file(s) and 0 other file(s)"
     },
     "metadata": {},
     "output_type": "display_data"
    },
    {
     "data": {
      "text/plain": "<IPython.core.display.HTML object>",
      "text/html": "Find logs at: <code>./wandb/run-20230920_125403-g7ogv8yu/logs</code>"
     },
     "metadata": {},
     "output_type": "display_data"
    }
   ],
   "source": [
    "# save model\n",
    "\n",
    "if not os.path.exists(f'models/{name_extended}'):\n",
    "    os.mkdir(f'models/{name_extended}')\n",
    "with open(f'./models/{name_extended}/model.pkl', 'wb') as file:\n",
    "    pickle.dump(model, file)\n",
    "\n",
    "metrics = evaluate(model, test_X, test_y)\n",
    "# wandb\n",
    "\n",
    "wandb.init(\n",
    "    project='sklearn-clf',\n",
    "    config=model_params,\n",
    "    name=name_extended\n",
    ")\n",
    "wandb.log(metrics)\n",
    "wandb.finish()\n",
    "\n",
    "metrics_df = pd.DataFrame(metrics, index=[0])\n",
    "metrics_df.to_csv(f'models/{name_extended}/metrics.csv', index=False)"
   ],
   "metadata": {
    "collapsed": false,
    "ExecuteTime": {
     "end_time": "2023-09-20T10:54:22.228253164Z",
     "start_time": "2023-09-20T10:54:03.065638830Z"
    }
   },
   "id": "3a89cca18f7d76a0"
  },
  {
   "cell_type": "code",
   "execution_count": 38,
   "outputs": [],
   "source": [
    "df1 = pd.read_parquet('data/encoded_data/GRUv3_std_tails/mu_d2_epoch_140.parquet')"
   ],
   "metadata": {
    "collapsed": false,
    "ExecuteTime": {
     "end_time": "2023-09-20T11:40:34.514771132Z",
     "start_time": "2023-09-20T11:40:34.453965611Z"
    }
   },
   "id": "9beade9dafd907a5"
  },
  {
   "cell_type": "code",
   "execution_count": 39,
   "outputs": [
    {
     "data": {
      "text/plain": "          0         1         2         3         4         5         6  \\\n0 -0.138566  0.617441  1.290718  1.703221 -1.111823  2.402695  0.165580   \n1 -0.823956  0.422209 -0.068458 -0.443445 -0.308531  1.511106  0.863407   \n2  1.725901  0.218435  1.128266 -1.707688 -0.399019  0.722445  0.212358   \n3 -1.804558 -0.694444  0.026563  0.078850  1.026008  1.243023  0.653969   \n4 -1.098961  0.892145 -0.300179 -0.390060 -2.805569  0.463258 -0.140106   \n\n          7         8         9  ...        24        25        26        27  \\\n0 -0.134978  0.496483 -1.410663  ...  0.539092 -1.202745  0.217991 -1.530631   \n1 -0.581193 -0.039079  0.724934  ...  0.709161  0.111472 -0.108498 -0.921411   \n2 -0.258817  2.234128  1.188225  ...  2.507658 -0.217076 -0.829548 -2.212125   \n3 -0.652287 -2.110506  1.543770  ...  1.203577  1.038115 -1.467167 -2.079267   \n4 -0.316375 -0.199842  1.342545  ...  0.921991 -1.141605  0.283501 -1.154359   \n\n         28        29        30        31  label  \\\n0 -0.079655 -0.450289 -1.527470  0.862628      0   \n1 -1.142715 -1.543491  0.604726 -1.098411      0   \n2 -1.726268 -0.464046  0.865684 -0.067523      1   \n3 -1.073771  1.047264  0.008989 -0.955094      0   \n4 -2.020115  1.055170  0.953195  1.256225      0   \n\n                                              smiles  \n0       CC1Cc2ccccc2N1C(=O)CN1CCN(CCc2ccc(Cl)cc2)CC1  \n1            Cc1cccn2ncc(CN3CCN(c4ccc(Cl)cc4)CC3)c12  \n2  O=C1c2ccccc2C(=O)N1CCCCN1CC=C(c2c[nH]c3ccc(F)c...  \n3               OC(CCCN1CCN(c2ccccn2)CC1)c1ccc(F)cc1  \n4        COc1ccccc1C1CC1CNCCC1CCC(NC(=O)c2ccccc2)CC1  \n\n[5 rows x 34 columns]",
      "text/html": "<div>\n<style scoped>\n    .dataframe tbody tr th:only-of-type {\n        vertical-align: middle;\n    }\n\n    .dataframe tbody tr th {\n        vertical-align: top;\n    }\n\n    .dataframe thead th {\n        text-align: right;\n    }\n</style>\n<table border=\"1\" class=\"dataframe\">\n  <thead>\n    <tr style=\"text-align: right;\">\n      <th></th>\n      <th>0</th>\n      <th>1</th>\n      <th>2</th>\n      <th>3</th>\n      <th>4</th>\n      <th>5</th>\n      <th>6</th>\n      <th>7</th>\n      <th>8</th>\n      <th>9</th>\n      <th>...</th>\n      <th>24</th>\n      <th>25</th>\n      <th>26</th>\n      <th>27</th>\n      <th>28</th>\n      <th>29</th>\n      <th>30</th>\n      <th>31</th>\n      <th>label</th>\n      <th>smiles</th>\n    </tr>\n  </thead>\n  <tbody>\n    <tr>\n      <th>0</th>\n      <td>-0.138566</td>\n      <td>0.617441</td>\n      <td>1.290718</td>\n      <td>1.703221</td>\n      <td>-1.111823</td>\n      <td>2.402695</td>\n      <td>0.165580</td>\n      <td>-0.134978</td>\n      <td>0.496483</td>\n      <td>-1.410663</td>\n      <td>...</td>\n      <td>0.539092</td>\n      <td>-1.202745</td>\n      <td>0.217991</td>\n      <td>-1.530631</td>\n      <td>-0.079655</td>\n      <td>-0.450289</td>\n      <td>-1.527470</td>\n      <td>0.862628</td>\n      <td>0</td>\n      <td>CC1Cc2ccccc2N1C(=O)CN1CCN(CCc2ccc(Cl)cc2)CC1</td>\n    </tr>\n    <tr>\n      <th>1</th>\n      <td>-0.823956</td>\n      <td>0.422209</td>\n      <td>-0.068458</td>\n      <td>-0.443445</td>\n      <td>-0.308531</td>\n      <td>1.511106</td>\n      <td>0.863407</td>\n      <td>-0.581193</td>\n      <td>-0.039079</td>\n      <td>0.724934</td>\n      <td>...</td>\n      <td>0.709161</td>\n      <td>0.111472</td>\n      <td>-0.108498</td>\n      <td>-0.921411</td>\n      <td>-1.142715</td>\n      <td>-1.543491</td>\n      <td>0.604726</td>\n      <td>-1.098411</td>\n      <td>0</td>\n      <td>Cc1cccn2ncc(CN3CCN(c4ccc(Cl)cc4)CC3)c12</td>\n    </tr>\n    <tr>\n      <th>2</th>\n      <td>1.725901</td>\n      <td>0.218435</td>\n      <td>1.128266</td>\n      <td>-1.707688</td>\n      <td>-0.399019</td>\n      <td>0.722445</td>\n      <td>0.212358</td>\n      <td>-0.258817</td>\n      <td>2.234128</td>\n      <td>1.188225</td>\n      <td>...</td>\n      <td>2.507658</td>\n      <td>-0.217076</td>\n      <td>-0.829548</td>\n      <td>-2.212125</td>\n      <td>-1.726268</td>\n      <td>-0.464046</td>\n      <td>0.865684</td>\n      <td>-0.067523</td>\n      <td>1</td>\n      <td>O=C1c2ccccc2C(=O)N1CCCCN1CC=C(c2c[nH]c3ccc(F)c...</td>\n    </tr>\n    <tr>\n      <th>3</th>\n      <td>-1.804558</td>\n      <td>-0.694444</td>\n      <td>0.026563</td>\n      <td>0.078850</td>\n      <td>1.026008</td>\n      <td>1.243023</td>\n      <td>0.653969</td>\n      <td>-0.652287</td>\n      <td>-2.110506</td>\n      <td>1.543770</td>\n      <td>...</td>\n      <td>1.203577</td>\n      <td>1.038115</td>\n      <td>-1.467167</td>\n      <td>-2.079267</td>\n      <td>-1.073771</td>\n      <td>1.047264</td>\n      <td>0.008989</td>\n      <td>-0.955094</td>\n      <td>0</td>\n      <td>OC(CCCN1CCN(c2ccccn2)CC1)c1ccc(F)cc1</td>\n    </tr>\n    <tr>\n      <th>4</th>\n      <td>-1.098961</td>\n      <td>0.892145</td>\n      <td>-0.300179</td>\n      <td>-0.390060</td>\n      <td>-2.805569</td>\n      <td>0.463258</td>\n      <td>-0.140106</td>\n      <td>-0.316375</td>\n      <td>-0.199842</td>\n      <td>1.342545</td>\n      <td>...</td>\n      <td>0.921991</td>\n      <td>-1.141605</td>\n      <td>0.283501</td>\n      <td>-1.154359</td>\n      <td>-2.020115</td>\n      <td>1.055170</td>\n      <td>0.953195</td>\n      <td>1.256225</td>\n      <td>0</td>\n      <td>COc1ccccc1C1CC1CNCCC1CCC(NC(=O)c2ccccc2)CC1</td>\n    </tr>\n  </tbody>\n</table>\n<p>5 rows × 34 columns</p>\n</div>"
     },
     "execution_count": 39,
     "metadata": {},
     "output_type": "execute_result"
    }
   ],
   "source": [
    "df1.head()"
   ],
   "metadata": {
    "collapsed": false,
    "ExecuteTime": {
     "end_time": "2023-09-20T11:40:35.078755648Z",
     "start_time": "2023-09-20T11:40:35.020576922Z"
    }
   },
   "id": "2fc2ab397cbdcea5"
  },
  {
   "cell_type": "code",
   "execution_count": 43,
   "outputs": [],
   "source": [
    "import numpy as np\n",
    "fps = np.array(df1)"
   ],
   "metadata": {
    "collapsed": false,
    "ExecuteTime": {
     "end_time": "2023-09-20T11:43:31.792696971Z",
     "start_time": "2023-09-20T11:43:31.775857143Z"
    }
   },
   "id": "34f2cd40b638e2fd"
  },
  {
   "cell_type": "code",
   "execution_count": 53,
   "outputs": [
    {
     "name": "stdout",
     "output_type": "stream",
     "text": [
      "Norm: 6.465952396392822 +- 1.224114179611206\n"
     ]
    }
   ],
   "source": [
    "norm = np.linalg.norm(fps, axis=1)\n",
    "print(f'Norm: {norm.mean()} +- {norm.std()}')"
   ],
   "metadata": {
    "collapsed": false,
    "ExecuteTime": {
     "end_time": "2023-09-20T11:48:46.957011742Z",
     "start_time": "2023-09-20T11:48:46.941352549Z"
    }
   },
   "id": "a5a9333075d4b539"
  },
  {
   "cell_type": "code",
   "execution_count": 54,
   "outputs": [],
   "source": [
    "df2 = pd.read_csv('results/SVC_tails_140_12-50-54_14-23-21/latent_vectors.csv')"
   ],
   "metadata": {
    "collapsed": false,
    "ExecuteTime": {
     "end_time": "2023-09-20T12:50:39.453193978Z",
     "start_time": "2023-09-20T12:50:39.403129438Z"
    }
   },
   "id": "822636ae8c1837ac"
  },
  {
   "cell_type": "code",
   "execution_count": 58,
   "outputs": [
    {
     "name": "stdout",
     "output_type": "stream",
     "text": [
      "Score: 0.9494201575324068 +- 0.03319092361817382\n",
      "Norm: 11.456172135882905 +- 1.1029274760723307\n"
     ]
    }
   ],
   "source": [
    "mean_score = df2['score'].mean()\n",
    "std_score = df2['score'].std()\n",
    "mean_norm = df2['norm'].mean()\n",
    "std_norm = df2['norm'].std()\n",
    "print(f'Score: {mean_score} +- {std_score}')\n",
    "print(f'Norm: {mean_norm} +- {std_norm}')"
   ],
   "metadata": {
    "collapsed": false,
    "ExecuteTime": {
     "end_time": "2023-09-20T12:52:39.434404693Z",
     "start_time": "2023-09-20T12:52:39.386472476Z"
    }
   },
   "id": "461c11ea26074759"
  },
  {
   "cell_type": "code",
   "execution_count": null,
   "outputs": [],
   "source": [],
   "metadata": {
    "collapsed": false
   },
   "id": "8171a2a51e9c7f9"
  }
 ],
 "metadata": {
  "kernelspec": {
   "display_name": "Python 3 (ipykernel)",
   "language": "python",
   "name": "python3"
  },
  "language_info": {
   "codemirror_mode": {
    "name": "ipython",
    "version": 3
   },
   "file_extension": ".py",
   "mimetype": "text/x-python",
   "name": "python",
   "nbconvert_exporter": "python",
   "pygments_lexer": "ipython3",
   "version": "3.9.16"
  }
 },
 "nbformat": 4,
 "nbformat_minor": 5
}
