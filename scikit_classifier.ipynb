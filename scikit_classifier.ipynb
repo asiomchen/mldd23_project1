{
 "cells": [
  {
   "cell_type": "code",
   "execution_count": 26,
   "id": "b844a0a4",
   "metadata": {
    "ExecuteTime": {
     "end_time": "2023-09-14T21:51:16.064383064Z",
     "start_time": "2023-09-14T21:51:16.023705984Z"
    }
   },
   "outputs": [],
   "source": [
    "import time\n",
    "import pandas as pd\n",
    "import pickle\n",
    "from sklearn.ensemble import RandomForestClassifier as Rfc\n",
    "from sklearn.svm import SVC\n",
    "from xgboost import XGBClassifier\n",
    "import sklearn.model_selection\n",
    "from sklearn.metrics import roc_auc_score, confusion_matrix\n",
    "import wandb\n",
    "import os"
   ]
  },
  {
   "cell_type": "code",
   "execution_count": 49,
   "id": "83ad26ea",
   "metadata": {
    "ExecuteTime": {
     "end_time": "2023-09-14T21:56:55.298825786Z",
     "start_time": "2023-09-14T21:56:55.267486655Z"
    }
   },
   "outputs": [],
   "source": [
    "data_path = f'./data/encoded_data/GRUv3_gelu/mu_d2_epoch_200.parquet'\n",
    "data = pd.read_parquet(data_path)\n",
    "model_name = data_path.split('/')[-2].split('_')[-1]\n",
    "model_epoch = data_path.split('/')[-1].split('_')[-1].split('.')[0]\n",
    "train, test = sklearn.model_selection.train_test_split(data, test_size=0.1, random_state=42)\n",
    "\n",
    "RF_params = {'n_estimators': 200, \n",
    "             'max_depth': None, \n",
    "             'min_samples_split': 2, \n",
    "             'min_samples_leaf': 1, \n",
    "             'min_weight_fraction_leaf': 0.0, \n",
    "             'max_features': 'sqrt',\n",
    "             'n_jobs': -1\n",
    "             }\n",
    "SV_params = {'C': 1.0, \n",
    "             'kernel': 'rbf', \n",
    "             'degree': 3, \n",
    "             'gamma': 'scale', \n",
    "             'shrinking': True, \n",
    "             'probability': True, \n",
    "             'max_iter': -1}\n",
    "XGB_params = {'tree_method':'gpu_hist'}\n",
    "\n",
    "RF = Rfc(**RF_params)\n",
    "SV = SVC(**SV_params)\n",
    "XGB = XGBClassifier(**XGB_params)"
   ]
  },
  {
   "cell_type": "code",
   "execution_count": 50,
   "id": "2b0861f6",
   "metadata": {
    "ExecuteTime": {
     "end_time": "2023-09-14T21:56:55.979969008Z",
     "start_time": "2023-09-14T21:56:55.970057158Z"
    }
   },
   "outputs": [],
   "source": [
    "train_X = train.drop(['label', 'smiles'], axis=1)\n",
    "train_y = train['label']\n",
    "test_X = test.drop(['label', 'smiles'], axis=1)\n",
    "test_y = test['label']"
   ]
  },
  {
   "cell_type": "code",
   "execution_count": 51,
   "id": "3380c131",
   "metadata": {
    "ExecuteTime": {
     "end_time": "2023-09-14T21:57:18.932446946Z",
     "start_time": "2023-09-14T21:56:57.313662216Z"
    }
   },
   "outputs": [
    {
     "data": {
      "text/plain": "SVC(probability=True)",
      "text/html": "<style>#sk-container-id-8 {color: black;background-color: white;}#sk-container-id-8 pre{padding: 0;}#sk-container-id-8 div.sk-toggleable {background-color: white;}#sk-container-id-8 label.sk-toggleable__label {cursor: pointer;display: block;width: 100%;margin-bottom: 0;padding: 0.3em;box-sizing: border-box;text-align: center;}#sk-container-id-8 label.sk-toggleable__label-arrow:before {content: \"▸\";float: left;margin-right: 0.25em;color: #696969;}#sk-container-id-8 label.sk-toggleable__label-arrow:hover:before {color: black;}#sk-container-id-8 div.sk-estimator:hover label.sk-toggleable__label-arrow:before {color: black;}#sk-container-id-8 div.sk-toggleable__content {max-height: 0;max-width: 0;overflow: hidden;text-align: left;background-color: #f0f8ff;}#sk-container-id-8 div.sk-toggleable__content pre {margin: 0.2em;color: black;border-radius: 0.25em;background-color: #f0f8ff;}#sk-container-id-8 input.sk-toggleable__control:checked~div.sk-toggleable__content {max-height: 200px;max-width: 100%;overflow: auto;}#sk-container-id-8 input.sk-toggleable__control:checked~label.sk-toggleable__label-arrow:before {content: \"▾\";}#sk-container-id-8 div.sk-estimator input.sk-toggleable__control:checked~label.sk-toggleable__label {background-color: #d4ebff;}#sk-container-id-8 div.sk-label input.sk-toggleable__control:checked~label.sk-toggleable__label {background-color: #d4ebff;}#sk-container-id-8 input.sk-hidden--visually {border: 0;clip: rect(1px 1px 1px 1px);clip: rect(1px, 1px, 1px, 1px);height: 1px;margin: -1px;overflow: hidden;padding: 0;position: absolute;width: 1px;}#sk-container-id-8 div.sk-estimator {font-family: monospace;background-color: #f0f8ff;border: 1px dotted black;border-radius: 0.25em;box-sizing: border-box;margin-bottom: 0.5em;}#sk-container-id-8 div.sk-estimator:hover {background-color: #d4ebff;}#sk-container-id-8 div.sk-parallel-item::after {content: \"\";width: 100%;border-bottom: 1px solid gray;flex-grow: 1;}#sk-container-id-8 div.sk-label:hover label.sk-toggleable__label {background-color: #d4ebff;}#sk-container-id-8 div.sk-serial::before {content: \"\";position: absolute;border-left: 1px solid gray;box-sizing: border-box;top: 0;bottom: 0;left: 50%;z-index: 0;}#sk-container-id-8 div.sk-serial {display: flex;flex-direction: column;align-items: center;background-color: white;padding-right: 0.2em;padding-left: 0.2em;position: relative;}#sk-container-id-8 div.sk-item {position: relative;z-index: 1;}#sk-container-id-8 div.sk-parallel {display: flex;align-items: stretch;justify-content: center;background-color: white;position: relative;}#sk-container-id-8 div.sk-item::before, #sk-container-id-8 div.sk-parallel-item::before {content: \"\";position: absolute;border-left: 1px solid gray;box-sizing: border-box;top: 0;bottom: 0;left: 50%;z-index: -1;}#sk-container-id-8 div.sk-parallel-item {display: flex;flex-direction: column;z-index: 1;position: relative;background-color: white;}#sk-container-id-8 div.sk-parallel-item:first-child::after {align-self: flex-end;width: 50%;}#sk-container-id-8 div.sk-parallel-item:last-child::after {align-self: flex-start;width: 50%;}#sk-container-id-8 div.sk-parallel-item:only-child::after {width: 0;}#sk-container-id-8 div.sk-dashed-wrapped {border: 1px dashed gray;margin: 0 0.4em 0.5em 0.4em;box-sizing: border-box;padding-bottom: 0.4em;background-color: white;}#sk-container-id-8 div.sk-label label {font-family: monospace;font-weight: bold;display: inline-block;line-height: 1.2em;}#sk-container-id-8 div.sk-label-container {text-align: center;}#sk-container-id-8 div.sk-container {/* jupyter's `normalize.less` sets `[hidden] { display: none; }` but bootstrap.min.css set `[hidden] { display: none !important; }` so we also need the `!important` here to be able to override the default hidden behavior on the sphinx rendered scikit-learn.org. See: https://github.com/scikit-learn/scikit-learn/issues/21755 */display: inline-block !important;position: relative;}#sk-container-id-8 div.sk-text-repr-fallback {display: none;}</style><div id=\"sk-container-id-8\" class=\"sk-top-container\"><div class=\"sk-text-repr-fallback\"><pre>SVC(probability=True)</pre><b>In a Jupyter environment, please rerun this cell to show the HTML representation or trust the notebook. <br />On GitHub, the HTML representation is unable to render, please try loading this page with nbviewer.org.</b></div><div class=\"sk-container\" hidden><div class=\"sk-item\"><div class=\"sk-estimator sk-toggleable\"><input class=\"sk-toggleable__control sk-hidden--visually\" id=\"sk-estimator-id-8\" type=\"checkbox\" checked><label for=\"sk-estimator-id-8\" class=\"sk-toggleable__label sk-toggleable__label-arrow\">SVC</label><div class=\"sk-toggleable__content\"><pre>SVC(probability=True)</pre></div></div></div></div></div>"
     },
     "execution_count": 51,
     "metadata": {},
     "output_type": "execute_result"
    }
   ],
   "source": [
    "#-------------------------#\n",
    "# model can be RF, XGB, SV\n",
    "model = SV\n",
    "#-------------------------#\n",
    "\n",
    "if model == RF:\n",
    "    model_params = RF_params\n",
    "elif model == XGB:\n",
    "    model_params = XGB_params\n",
    "elif model == SV:\n",
    "    model_params = SV_params\n",
    "else:\n",
    "    raise ValueError('model not supported')\n",
    "\n",
    "model.fit(train_X, train_y)"
   ]
  },
  {
   "cell_type": "code",
   "execution_count": 52,
   "outputs": [],
   "source": [
    "name = model.__str__().split('(')[0]\n",
    "timestamp = (str(time.localtime()[3]) + '-' +\n",
    "             str(time.localtime()[4]) + '-' +\n",
    "             str(time.localtime()[5])\n",
    "             )\n",
    "name_extended = (name + '_' \n",
    "                 + model_name + '_'\n",
    "                 + model_epoch + '_'\n",
    "                 + timestamp)"
   ],
   "metadata": {
    "collapsed": false,
    "ExecuteTime": {
     "end_time": "2023-09-14T21:57:38.874489549Z",
     "start_time": "2023-09-14T21:57:38.830356523Z"
    }
   },
   "id": "6701caef0001cfc9"
  },
  {
   "cell_type": "code",
   "execution_count": 53,
   "id": "bdf7bde7",
   "metadata": {
    "ExecuteTime": {
     "end_time": "2023-09-14T21:57:39.326217687Z",
     "start_time": "2023-09-14T21:57:39.305467024Z"
    }
   },
   "outputs": [],
   "source": [
    "def evaluate(model, test_X, test_y):  \n",
    "    predictions = model.predict_proba(test_X)[:, 1]\n",
    "    df = pd.DataFrame()\n",
    "    df['pred'] = predictions\n",
    "    df['label'] = test_y.values\n",
    "    df['pred'] = df['pred'].apply(lambda x: 1 if x>0.5 else 0)\n",
    "    accuracy = df[df['pred']==df['label']].shape[0]/df.shape[0]\n",
    "    roc_auc = roc_auc_score(df['label'], df['pred'])\n",
    "    tn, fp, fn, tp = confusion_matrix(df['label'], df['pred']).ravel()\n",
    "    metrics = {\n",
    "        'accuracy': round(accuracy, 4),\n",
    "        'roc_auc': round(roc_auc, 4),\n",
    "        'true_positive': round(tp / df.shape[0], 4),\n",
    "        'true_negative': round(tn / df.shape[0], 4),\n",
    "        'false_positive': round(fp / df.shape[0], 4),\n",
    "        'false_negative': round(fn / df.shape[0], 4)\n",
    "    }\n",
    "    return metrics"
   ]
  },
  {
   "cell_type": "code",
   "execution_count": 54,
   "outputs": [
    {
     "data": {
      "text/plain": "<IPython.core.display.HTML object>",
      "text/html": "wandb version 0.15.10 is available!  To upgrade, please run:\n $ pip install wandb --upgrade"
     },
     "metadata": {},
     "output_type": "display_data"
    },
    {
     "data": {
      "text/plain": "<IPython.core.display.HTML object>",
      "text/html": "Tracking run with wandb version 0.15.4"
     },
     "metadata": {},
     "output_type": "display_data"
    },
    {
     "data": {
      "text/plain": "<IPython.core.display.HTML object>",
      "text/html": "Run data is saved locally in <code>/home/hubert/github/mldd23_project1/wandb/run-20230914_235741-6sf5w2wb</code>"
     },
     "metadata": {},
     "output_type": "display_data"
    },
    {
     "data": {
      "text/plain": "<IPython.core.display.HTML object>",
      "text/html": "Syncing run <strong><a href='https://wandb.ai/mldd23/sklearn-clf/runs/6sf5w2wb' target=\"_blank\">SVC_gelu_200_23-57-38</a></strong> to <a href='https://wandb.ai/mldd23/sklearn-clf' target=\"_blank\">Weights & Biases</a> (<a href='https://wandb.me/run' target=\"_blank\">docs</a>)<br/>"
     },
     "metadata": {},
     "output_type": "display_data"
    },
    {
     "data": {
      "text/plain": "<IPython.core.display.HTML object>",
      "text/html": " View project at <a href='https://wandb.ai/mldd23/sklearn-clf' target=\"_blank\">https://wandb.ai/mldd23/sklearn-clf</a>"
     },
     "metadata": {},
     "output_type": "display_data"
    },
    {
     "data": {
      "text/plain": "<IPython.core.display.HTML object>",
      "text/html": " View run at <a href='https://wandb.ai/mldd23/sklearn-clf/runs/6sf5w2wb' target=\"_blank\">https://wandb.ai/mldd23/sklearn-clf/runs/6sf5w2wb</a>"
     },
     "metadata": {},
     "output_type": "display_data"
    },
    {
     "data": {
      "text/plain": "<IPython.core.display.HTML object>",
      "text/html": "Waiting for W&B process to finish... <strong style=\"color:green\">(success).</strong>"
     },
     "metadata": {},
     "output_type": "display_data"
    },
    {
     "data": {
      "text/plain": "<IPython.core.display.HTML object>",
      "text/html": "<style>\n    table.wandb td:nth-child(1) { padding: 0 10px; text-align: left ; width: auto;} td:nth-child(2) {text-align: left ; width: 100%}\n    .wandb-row { display: flex; flex-direction: row; flex-wrap: wrap; justify-content: flex-start; width: 100% }\n    .wandb-col { display: flex; flex-direction: column; flex-basis: 100%; flex: 1; padding: 10px; }\n    </style>\n<div class=\"wandb-row\"><div class=\"wandb-col\"><h3>Run history:</h3><br/><table class=\"wandb\"><tr><td>accuracy</td><td>▁</td></tr><tr><td>false_negative</td><td>▁</td></tr><tr><td>false_positive</td><td>▁</td></tr><tr><td>roc_auc</td><td>▁</td></tr><tr><td>true_negative</td><td>▁</td></tr><tr><td>true_positive</td><td>▁</td></tr></table><br/></div><div class=\"wandb-col\"><h3>Run summary:</h3><br/><table class=\"wandb\"><tr><td>accuracy</td><td>0.8358</td></tr><tr><td>false_negative</td><td>0.0964</td></tr><tr><td>false_positive</td><td>0.0678</td></tr><tr><td>roc_auc</td><td>0.8066</td></tr><tr><td>true_negative</td><td>0.5929</td></tr><tr><td>true_positive</td><td>0.2429</td></tr></table><br/></div></div>"
     },
     "metadata": {},
     "output_type": "display_data"
    },
    {
     "data": {
      "text/plain": "<IPython.core.display.HTML object>",
      "text/html": " View run <strong style=\"color:#cdcd00\">SVC_gelu_200_23-57-38</strong> at: <a href='https://wandb.ai/mldd23/sklearn-clf/runs/6sf5w2wb' target=\"_blank\">https://wandb.ai/mldd23/sklearn-clf/runs/6sf5w2wb</a><br/>Synced 5 W&B file(s), 0 media file(s), 0 artifact file(s) and 0 other file(s)"
     },
     "metadata": {},
     "output_type": "display_data"
    },
    {
     "data": {
      "text/plain": "<IPython.core.display.HTML object>",
      "text/html": "Find logs at: <code>./wandb/run-20230914_235741-6sf5w2wb/logs</code>"
     },
     "metadata": {},
     "output_type": "display_data"
    }
   ],
   "source": [
    "# save model\n",
    "\n",
    "if not os.path.exists(f'models/{name_extended}'):\n",
    "    os.mkdir(f'models/{name_extended}')\n",
    "with open(f'./models/{name_extended}/model.pkl', 'wb') as file:\n",
    "    pickle.dump(model, file)\n",
    "\n",
    "metrics = evaluate(model, test_X, test_y)\n",
    "# wandb\n",
    "\n",
    "wandb.init(\n",
    "    project='sklearn-clf',\n",
    "    config=model_params,\n",
    "    name=name_extended\n",
    ")\n",
    "wandb.log(metrics)\n",
    "wandb.finish()\n",
    "\n",
    "metrics_df = pd.DataFrame(metrics, index=[0])\n",
    "metrics_df.to_csv(f'models/{name_extended}/metrics.csv', index=False)"
   ],
   "metadata": {
    "collapsed": false,
    "ExecuteTime": {
     "end_time": "2023-09-14T21:57:57.379221281Z",
     "start_time": "2023-09-14T21:57:40.320722491Z"
    }
   },
   "id": "3a89cca18f7d76a0"
  },
  {
   "cell_type": "code",
   "execution_count": null,
   "outputs": [],
   "source": [],
   "metadata": {
    "collapsed": false
   },
   "id": "2fc2ab397cbdcea5"
  }
 ],
 "metadata": {
  "kernelspec": {
   "display_name": "Python 3 (ipykernel)",
   "language": "python",
   "name": "python3"
  },
  "language_info": {
   "codemirror_mode": {
    "name": "ipython",
    "version": 3
   },
   "file_extension": ".py",
   "mimetype": "text/x-python",
   "name": "python",
   "nbconvert_exporter": "python",
   "pygments_lexer": "ipython3",
   "version": "3.9.16"
  }
 },
 "nbformat": 4,
 "nbformat_minor": 5
}
