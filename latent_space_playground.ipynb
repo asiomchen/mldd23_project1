{
 "cells": [
  {
   "cell_type": "code",
   "execution_count": 48,
   "outputs": [],
   "source": [
    "import pandas as pd\n",
    "\n",
    "dataset = pd.read_parquet('data/train_data/big_dataset.parquet')\n",
    "small_dataset = dataset.sample(2000)\n",
    "small_dataset.to_parquet('data/train_data/small.parquet')"
   ],
   "metadata": {
    "collapsed": false,
    "ExecuteTime": {
     "end_time": "2023-09-13T13:13:09.808014095Z",
     "start_time": "2023-09-13T13:12:54.334996383Z"
    }
   },
   "id": "b548479ab7d75db7"
  },
  {
   "cell_type": "markdown",
   "source": [],
   "metadata": {
    "collapsed": false
   },
   "id": "f18612387798be28"
  },
  {
   "cell_type": "markdown",
   "source": [],
   "metadata": {
    "collapsed": false
   },
   "id": "b732b1918277a196"
  },
  {
   "cell_type": "code",
   "execution_count": 47,
   "outputs": [
    {
     "data": {
      "text/plain": "[668,\n 1147,\n 1192,\n 1405,\n 1437,\n 1590,\n 1598,\n 2458,\n 2948,\n 2974,\n 3024,\n 3153,\n 3529,\n 3955,\n 4330,\n 4644,\n 4694,\n 4812]"
     },
     "execution_count": 47,
     "metadata": {},
     "output_type": "execute_result"
    }
   ],
   "source": [
    "dataset['fps'][0]"
   ],
   "metadata": {
    "collapsed": false,
    "ExecuteTime": {
     "end_time": "2023-09-13T13:12:10.834928292Z",
     "start_time": "2023-09-13T13:12:10.775301061Z"
    }
   },
   "id": "2ae9d8a812f2b75e"
  },
  {
   "cell_type": "code",
   "execution_count": null,
   "outputs": [],
   "source": [],
   "metadata": {
    "collapsed": false
   },
   "id": "2c8f90cfa0b02325"
  }
 ],
 "metadata": {
  "kernelspec": {
   "display_name": "Python 3",
   "language": "python",
   "name": "python3"
  },
  "language_info": {
   "codemirror_mode": {
    "name": "ipython",
    "version": 2
   },
   "file_extension": ".py",
   "mimetype": "text/x-python",
   "name": "python",
   "nbconvert_exporter": "python",
   "pygments_lexer": "ipython2",
   "version": "2.7.6"
  }
 },
 "nbformat": 4,
 "nbformat_minor": 5
}
