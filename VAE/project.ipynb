{
 "cells": [
  {
   "cell_type": "code",
   "execution_count": 1,
   "id": "3ac739a6",
   "metadata": {},
   "outputs": [],
   "source": [
    "import csv\n",
    "import numpy as np\n",
    "import pandas as pd\n",
    "import torch\n",
    "import torch.nn as nn\n",
    "\n",
    "# featurizer class definition\n",
    "\n",
    "class Featurizer():\n",
    "    \n",
    "    def __call__(self, df):\n",
    "        fingerprints = []\n",
    "        labels = []\n",
    "        \n",
    "        df = df[df['Ki']<=1e4]\n",
    "        df = df[df['Ki']>0.01]\n",
    "        labels = df['Ki']\n",
    "        \n",
    "        fp = []\n",
    "        for index, row in df.iterrows():\n",
    "            fp = row[1:]\n",
    "            fingerprints.append(fp)\n",
    "            \n",
    "        fingerprints = np.array(fingerprints)\n",
    "        labels = np.array(labels)\n",
    "        return fingerprints, labels"
   ]
  },
  {
   "cell_type": "code",
   "execution_count": 2,
   "id": "4d8c8b3f",
   "metadata": {},
   "outputs": [],
   "source": [
    "# text file to DataFrame object\n",
    "\n",
    "filename = '../cleaned_datasets/d2_Sub_clean.csv'\n",
    "df = pd.read_csv(filename)\n",
    "df = df.dropna()\n",
    "\n",
    "featurizer = Featurizer()\n",
    "fp_train, ki_train = featurizer(df)\n",
    "\n",
    "fp_train = torch.from_numpy(fp_train)\n",
    "ki_train = torch.from_numpy(ki_train)\n",
    "\n",
    "assert fp_train.shape[0] == ki_train.shape[0], 'X_train and y_train rows do not match'"
   ]
  },
  {
   "cell_type": "code",
   "execution_count": 3,
   "id": "ab62b1d9",
   "metadata": {},
   "outputs": [
    {
     "data": {
      "text/plain": [
       "torch.Size([9249, 139])"
      ]
     },
     "execution_count": 3,
     "metadata": {},
     "output_type": "execute_result"
    }
   ],
   "source": [
    "fp_train.shape"
   ]
  },
  {
   "cell_type": "code",
   "execution_count": 4,
   "id": "d93f9cde",
   "metadata": {},
   "outputs": [],
   "source": [
    "# data loader\n",
    "\n",
    "from torch.utils.data import DataLoader, TensorDataset\n",
    "\n",
    "tensor_ds = TensorDataset(fp_train, ki_train)\n",
    "train = tensor_ds\n",
    "\n",
    "train_dataloader = DataLoader(train, batch_size=64, shuffle=True)"
   ]
  },
  {
   "cell_type": "code",
   "execution_count": 5,
   "id": "9f2672d0",
   "metadata": {},
   "outputs": [
    {
     "name": "stdout",
     "output_type": "stream",
     "text": [
      "cpu\n"
     ]
    }
   ],
   "source": [
    "device = torch.device('cuda' if torch.cuda.is_available() else 'cpu')\n",
    "print(device)"
   ]
  },
  {
   "cell_type": "code",
   "execution_count": 6,
   "id": "f8e3447b",
   "metadata": {},
   "outputs": [],
   "source": [
    "import torch\n",
    "import torch.nn as nn\n",
    "import torch.optim as optim\n",
    "from torch.autograd import Variable\n",
    "\n",
    "# define variational autoencoder class\n",
    "\n",
    "class Encoder(nn.Module):\n",
    "    def __init__(self, input_size, output_size):\n",
    "        super(Encoder, self).__init__()\n",
    "        self.fc1 = nn.Linear(input_size, 128)\n",
    "        self.fc2 = nn.Linear(128, 64)\n",
    "        self.fc3 = nn.Linear(64, 16)\n",
    "        self.fc41 = nn.Linear(16, output_size)\n",
    "        self.fc42 = nn.Linear(16, output_size)\n",
    "        self.relu = nn.ReLU()\n",
    "        self.sigmoid = nn.Sigmoid()\n",
    "\n",
    "    def forward(self, x):\n",
    "        h1 = self.relu(self.fc1(x))\n",
    "        h2 = self.relu(self.fc2(h1))\n",
    "        h3 = self.relu(self.fc3(h2))\n",
    "        mu = self.fc41(h3)\n",
    "        logvar = self.fc41(h3)\n",
    "        return mu, logvar\n",
    "\n",
    "class Decoder(nn.Module):\n",
    "    def __init__(self, input_size, hidden_size, output_size):\n",
    "        super(Decoder, self).__init__()\n",
    "        self.fc1 = nn.Linear(input_size, hidden_size)\n",
    "        self.fc2 = nn.Linear(hidden_size, 64)\n",
    "        self.fc3 = nn.Linear(64, 128)\n",
    "        self.fc4 = nn.Linear(128, output_size)\n",
    "        self.relu = nn.ReLU()\n",
    "        self.sigmoid = nn.Sigmoid()\n",
    "\n",
    "    def forward(self, x):\n",
    "        h1 = self.relu(self.fc1(x))\n",
    "        h2 = self.relu(self.fc2(h1))\n",
    "        h3 = self.relu(self.fc3(h2))\n",
    "        out = self.fc4(h3)\n",
    "        return self.sigmoid(out)\n",
    "\n",
    "class VAE(nn.Module):\n",
    "    def __init__(self, input_size, latent_size):\n",
    "        torch.set_default_dtype(torch.float64)\n",
    "        super(VAE, self).__init__()\n",
    "        self.encoder = Encoder(input_size, latent_size)\n",
    "        self.decoder = Decoder(latent_size, 128, input_size)\n",
    "\n",
    "    def reparameterize(self, mu, logvar):\n",
    "        std = torch.exp(0.5 * logvar)\n",
    "        eps = torch.randn_like(std)\n",
    "        return eps.mul(std).add_(mu)\n",
    "\n",
    "    def forward(self, x):\n",
    "        mu, logvar = self.encoder(x)\n",
    "        z = self.reparameterize(mu, logvar)\n",
    "        return self.decoder(z), mu, logvar\n"
   ]
  },
  {
   "cell_type": "code",
   "execution_count": 7,
   "id": "447434a2",
   "metadata": {},
   "outputs": [],
   "source": [
    "# define VAE loss function\n",
    "\n",
    "class VAELoss(nn.Module):\n",
    "    def __init__(self):\n",
    "        super(VAELoss, self).__init__()\n",
    "\n",
    "    def forward(self, recon_x, x, mu, logvar):\n",
    "        BCE = nn.functional.binary_cross_entropy(recon_x, x, reduction='sum')\n",
    "        KLD = -0.5 * torch.sum(1 + logvar - mu.pow(2) - logvar.exp())\n",
    "        return BCE + KLD"
   ]
  },
  {
   "cell_type": "code",
   "execution_count": 8,
   "id": "8a8cadbd",
   "metadata": {},
   "outputs": [],
   "source": [
    "# train\n",
    "\n",
    "def train_VAE(train_dataloader, fp_len, epochs=40, device=device, code_len=8):\n",
    "    model = VAE(fp_len, code_len)\n",
    "    criterion = VAELoss()\n",
    "    if device == 'cuda':\n",
    "        model.cuda()\n",
    "    optimizer = torch.optim.Adam(model.parameters(), lr=0.00001)\n",
    "    \n",
    "    for epoch in range(epochs):\n",
    "        for (fp, _) in train_dataloader:\n",
    "            if device == 'cuda':\n",
    "                fp = fp.cuda()\n",
    "            encoded, mu, logvar = model(fp)\n",
    "            loss = criterion(encoded, fp, mu, logvar)\n",
    "            optimizer.zero_grad()\n",
    "            loss.backward()\n",
    "            optimizer.step()\n",
    "        print(f'Epoch: {epoch+1}, Loss: {loss.item():.4f}')\n",
    "    return model"
   ]
  },
  {
   "cell_type": "code",
   "execution_count": 9,
   "id": "db9f5b9a",
   "metadata": {},
   "outputs": [
    {
     "name": "stdout",
     "output_type": "stream",
     "text": [
      "Epoch: 1, Loss: 3159.2476\n",
      "Epoch: 2, Loss: 3114.5109\n",
      "Epoch: 3, Loss: 3035.9676\n",
      "Epoch: 4, Loss: 2901.1650\n",
      "Epoch: 5, Loss: 2629.7011\n",
      "Epoch: 6, Loss: 2263.7502\n",
      "Epoch: 7, Loss: 1878.7771\n",
      "Epoch: 8, Loss: 1478.6566\n",
      "Epoch: 9, Loss: 1232.4461\n",
      "Epoch: 10, Loss: 1022.3400\n",
      "Epoch: 11, Loss: 974.5571\n",
      "Epoch: 12, Loss: 829.9723\n",
      "Epoch: 13, Loss: 779.2710\n",
      "Epoch: 14, Loss: 844.5443\n",
      "Epoch: 15, Loss: 685.2414\n",
      "Epoch: 16, Loss: 745.9238\n",
      "Epoch: 17, Loss: 762.9936\n",
      "Epoch: 18, Loss: 721.9691\n",
      "Epoch: 19, Loss: 706.0238\n",
      "Epoch: 20, Loss: 637.0776\n",
      "Epoch: 21, Loss: 667.4802\n",
      "Epoch: 22, Loss: 594.7723\n",
      "Epoch: 23, Loss: 706.7089\n",
      "Epoch: 24, Loss: 622.7901\n",
      "Epoch: 25, Loss: 660.6580\n",
      "Epoch: 26, Loss: 670.1354\n",
      "Epoch: 27, Loss: 652.3331\n",
      "Epoch: 28, Loss: 663.0715\n",
      "Epoch: 29, Loss: 627.8684\n",
      "Epoch: 30, Loss: 638.0880\n",
      "Epoch: 31, Loss: 754.6127\n",
      "Epoch: 32, Loss: 682.6509\n",
      "Epoch: 33, Loss: 668.4012\n",
      "Epoch: 34, Loss: 662.4492\n",
      "Epoch: 35, Loss: 582.8796\n",
      "Epoch: 36, Loss: 636.8236\n",
      "Epoch: 37, Loss: 641.5531\n",
      "Epoch: 38, Loss: 638.8915\n",
      "Epoch: 39, Loss: 618.5282\n",
      "Epoch: 40, Loss: 665.4800\n"
     ]
    }
   ],
   "source": [
    "model = train_VAE(train_dataloader, fp_len=fp_train.size(dim=1))"
   ]
  },
  {
   "cell_type": "code",
   "execution_count": 10,
   "id": "138d0f5a",
   "metadata": {},
   "outputs": [],
   "source": [
    "# encode all data to latent space\n",
    "encoded = []\n",
    "for fp in fp_train:\n",
    "    encoder = model.encoder\n",
    "    if device == 'cuda':\n",
    "        fp = fp.cuda()\n",
    "        mu, logvar = encoder(fp)\n",
    "        latent = model.reparameterize(mu, logvar)\n",
    "        encoded.append(latent.detach().cpu().numpy())\n",
    "    else:\n",
    "        mu, logvar = encoder(fp)\n",
    "        latent = model.reparameterize(mu, logvar)\n",
    "        encoded.append(latent.detach().numpy())"
   ]
  },
  {
   "cell_type": "code",
   "execution_count": 11,
   "id": "025e6857",
   "metadata": {},
   "outputs": [],
   "source": [
    "encoded = np.array(encoded)"
   ]
  },
  {
   "cell_type": "code",
   "execution_count": 12,
   "id": "b9844628",
   "metadata": {},
   "outputs": [
    {
     "name": "stdout",
     "output_type": "stream",
     "text": [
      "(9249, 8) (9249,)\n"
     ]
    }
   ],
   "source": [
    "# filter for active compounds only\n",
    "\n",
    "activity = (ki_train < 10)\n",
    "activity = np.array(activity)\n",
    "vae_results = pd.DataFrame(encoded)\n",
    "vae_results['activity'] = activity\n",
    "\n",
    "print(encoded.shape, activity.shape)"
   ]
  },
  {
   "cell_type": "code",
   "execution_count": 36,
   "id": "d92a55fd",
   "metadata": {},
   "outputs": [],
   "source": [
    "# latent space data prep\n",
    "\n",
    "from sklearn.model_selection import train_test_split\n",
    "\n",
    "X_train, X_test, y_train, y_test = train_test_split(encoded, activity, test_size=0.3, random_state=42)\n",
    "                                    \n",
    "X_train = torch.from_numpy(X_train)\n",
    "X_test = torch.from_numpy(X_test)\n",
    "y_train = torch.from_numpy(y_train)\n",
    "y_test = torch.from_numpy(y_test)\n",
    "\n",
    "assert X_train.shape[0] == y_train.shape[0], 'X_train and y_train rows do not match'\n",
    "\n",
    "train_dataset = TensorDataset(X_train, y_train)\n",
    "                                    \n",
    "latent_dataloader = DataLoader(train_dataset, batch_size=64, shuffle=True)"
   ]
  },
  {
   "cell_type": "code",
   "execution_count": 14,
   "id": "a4d2923a",
   "metadata": {},
   "outputs": [],
   "source": [
    "# define prediction neural net class\n",
    "\n",
    "class Predictor(nn.Module):\n",
    "    def __init__(self, hidden_size=32, input_size=8):\n",
    "        super(Predictor, self).__init__()\n",
    "        self.fc1 = nn.Linear(input_size, hidden_size)\n",
    "        self.fc2 = nn.Linear(hidden_size, 2)\n",
    "        self.relu = nn.ReLU()\n",
    "        self.sigmoid = nn.Sigmoid()\n",
    "        \n",
    "    def forward(self, x):\n",
    "        h1 = self.relu(self.fc1(x))\n",
    "        h2 = self.relu(self.fc2(h1))\n",
    "        out = self.sigmoid(h2)\n",
    "        return out"
   ]
  },
  {
   "cell_type": "code",
   "execution_count": 15,
   "id": "5b1482b6",
   "metadata": {},
   "outputs": [],
   "source": [
    "def train_predictor(latent_dataloader, epochs=100, device=device):\n",
    "    \n",
    "    # TODO"
   ]
  },
  {
   "cell_type": "code",
   "execution_count": 16,
   "id": "494ed5f1",
   "metadata": {},
   "outputs": [
    {
     "ename": "ValueError",
     "evalue": "Using a target size (torch.Size([64, 8])) that is different to the input size (torch.Size([64, 2])) is deprecated. Please ensure they have the same size.",
     "output_type": "error",
     "traceback": [
      "\u001b[0;31m---------------------------------------------------------------------------\u001b[0m",
      "\u001b[0;31mValueError\u001b[0m                                Traceback (most recent call last)",
      "Cell \u001b[0;32mIn[16], line 3\u001b[0m\n\u001b[1;32m      1\u001b[0m \u001b[38;5;66;03m# train predictor nn\u001b[39;00m\n\u001b[0;32m----> 3\u001b[0m predictor \u001b[38;5;241m=\u001b[39m \u001b[43mtrain_predictor\u001b[49m\u001b[43m(\u001b[49m\u001b[43mlatent_dataloader\u001b[49m\u001b[43m)\u001b[49m\n",
      "Cell \u001b[0;32mIn[15], line 14\u001b[0m, in \u001b[0;36mtrain_predictor\u001b[0;34m(latent_dataloader, epochs, device)\u001b[0m\n\u001b[1;32m     12\u001b[0m     code \u001b[38;5;241m=\u001b[39m fp\u001b[38;5;241m.\u001b[39mcuda()\n\u001b[1;32m     13\u001b[0m result \u001b[38;5;241m=\u001b[39m model(code)\n\u001b[0;32m---> 14\u001b[0m loss \u001b[38;5;241m=\u001b[39m \u001b[43mcriterion\u001b[49m\u001b[43m(\u001b[49m\u001b[43mresult\u001b[49m\u001b[43m,\u001b[49m\u001b[43m \u001b[49m\u001b[43mcode\u001b[49m\u001b[43m)\u001b[49m\n\u001b[1;32m     15\u001b[0m optimizer\u001b[38;5;241m.\u001b[39mzero_grad()\n\u001b[1;32m     16\u001b[0m loss\u001b[38;5;241m.\u001b[39mbackward()\n",
      "File \u001b[0;32m~/miniconda3/envs/mldd23/lib/python3.9/site-packages/torch/nn/modules/module.py:1194\u001b[0m, in \u001b[0;36mModule._call_impl\u001b[0;34m(self, *input, **kwargs)\u001b[0m\n\u001b[1;32m   1190\u001b[0m \u001b[38;5;66;03m# If we don't have any hooks, we want to skip the rest of the logic in\u001b[39;00m\n\u001b[1;32m   1191\u001b[0m \u001b[38;5;66;03m# this function, and just call forward.\u001b[39;00m\n\u001b[1;32m   1192\u001b[0m \u001b[38;5;28;01mif\u001b[39;00m \u001b[38;5;129;01mnot\u001b[39;00m (\u001b[38;5;28mself\u001b[39m\u001b[38;5;241m.\u001b[39m_backward_hooks \u001b[38;5;129;01mor\u001b[39;00m \u001b[38;5;28mself\u001b[39m\u001b[38;5;241m.\u001b[39m_forward_hooks \u001b[38;5;129;01mor\u001b[39;00m \u001b[38;5;28mself\u001b[39m\u001b[38;5;241m.\u001b[39m_forward_pre_hooks \u001b[38;5;129;01mor\u001b[39;00m _global_backward_hooks\n\u001b[1;32m   1193\u001b[0m         \u001b[38;5;129;01mor\u001b[39;00m _global_forward_hooks \u001b[38;5;129;01mor\u001b[39;00m _global_forward_pre_hooks):\n\u001b[0;32m-> 1194\u001b[0m     \u001b[38;5;28;01mreturn\u001b[39;00m \u001b[43mforward_call\u001b[49m\u001b[43m(\u001b[49m\u001b[38;5;241;43m*\u001b[39;49m\u001b[38;5;28;43minput\u001b[39;49m\u001b[43m,\u001b[49m\u001b[43m \u001b[49m\u001b[38;5;241;43m*\u001b[39;49m\u001b[38;5;241;43m*\u001b[39;49m\u001b[43mkwargs\u001b[49m\u001b[43m)\u001b[49m\n\u001b[1;32m   1195\u001b[0m \u001b[38;5;66;03m# Do not call functions when jit is used\u001b[39;00m\n\u001b[1;32m   1196\u001b[0m full_backward_hooks, non_full_backward_hooks \u001b[38;5;241m=\u001b[39m [], []\n",
      "File \u001b[0;32m~/miniconda3/envs/mldd23/lib/python3.9/site-packages/torch/nn/modules/loss.py:619\u001b[0m, in \u001b[0;36mBCELoss.forward\u001b[0;34m(self, input, target)\u001b[0m\n\u001b[1;32m    618\u001b[0m \u001b[38;5;28;01mdef\u001b[39;00m \u001b[38;5;21mforward\u001b[39m(\u001b[38;5;28mself\u001b[39m, \u001b[38;5;28minput\u001b[39m: Tensor, target: Tensor) \u001b[38;5;241m-\u001b[39m\u001b[38;5;241m>\u001b[39m Tensor:\n\u001b[0;32m--> 619\u001b[0m     \u001b[38;5;28;01mreturn\u001b[39;00m \u001b[43mF\u001b[49m\u001b[38;5;241;43m.\u001b[39;49m\u001b[43mbinary_cross_entropy\u001b[49m\u001b[43m(\u001b[49m\u001b[38;5;28;43minput\u001b[39;49m\u001b[43m,\u001b[49m\u001b[43m \u001b[49m\u001b[43mtarget\u001b[49m\u001b[43m,\u001b[49m\u001b[43m \u001b[49m\u001b[43mweight\u001b[49m\u001b[38;5;241;43m=\u001b[39;49m\u001b[38;5;28;43mself\u001b[39;49m\u001b[38;5;241;43m.\u001b[39;49m\u001b[43mweight\u001b[49m\u001b[43m,\u001b[49m\u001b[43m \u001b[49m\u001b[43mreduction\u001b[49m\u001b[38;5;241;43m=\u001b[39;49m\u001b[38;5;28;43mself\u001b[39;49m\u001b[38;5;241;43m.\u001b[39;49m\u001b[43mreduction\u001b[49m\u001b[43m)\u001b[49m\n",
      "File \u001b[0;32m~/miniconda3/envs/mldd23/lib/python3.9/site-packages/torch/nn/functional.py:3086\u001b[0m, in \u001b[0;36mbinary_cross_entropy\u001b[0;34m(input, target, weight, size_average, reduce, reduction)\u001b[0m\n\u001b[1;32m   3084\u001b[0m     reduction_enum \u001b[38;5;241m=\u001b[39m _Reduction\u001b[38;5;241m.\u001b[39mget_enum(reduction)\n\u001b[1;32m   3085\u001b[0m \u001b[38;5;28;01mif\u001b[39;00m target\u001b[38;5;241m.\u001b[39msize() \u001b[38;5;241m!=\u001b[39m \u001b[38;5;28minput\u001b[39m\u001b[38;5;241m.\u001b[39msize():\n\u001b[0;32m-> 3086\u001b[0m     \u001b[38;5;28;01mraise\u001b[39;00m \u001b[38;5;167;01mValueError\u001b[39;00m(\n\u001b[1;32m   3087\u001b[0m         \u001b[38;5;124m\"\u001b[39m\u001b[38;5;124mUsing a target size (\u001b[39m\u001b[38;5;132;01m{}\u001b[39;00m\u001b[38;5;124m) that is different to the input size (\u001b[39m\u001b[38;5;132;01m{}\u001b[39;00m\u001b[38;5;124m) is deprecated. \u001b[39m\u001b[38;5;124m\"\u001b[39m\n\u001b[1;32m   3088\u001b[0m         \u001b[38;5;124m\"\u001b[39m\u001b[38;5;124mPlease ensure they have the same size.\u001b[39m\u001b[38;5;124m\"\u001b[39m\u001b[38;5;241m.\u001b[39mformat(target\u001b[38;5;241m.\u001b[39msize(), \u001b[38;5;28minput\u001b[39m\u001b[38;5;241m.\u001b[39msize())\n\u001b[1;32m   3089\u001b[0m     )\n\u001b[1;32m   3091\u001b[0m \u001b[38;5;28;01mif\u001b[39;00m weight \u001b[38;5;129;01mis\u001b[39;00m \u001b[38;5;129;01mnot\u001b[39;00m \u001b[38;5;28;01mNone\u001b[39;00m:\n\u001b[1;32m   3092\u001b[0m     new_size \u001b[38;5;241m=\u001b[39m _infer_size(target\u001b[38;5;241m.\u001b[39msize(), weight\u001b[38;5;241m.\u001b[39msize())\n",
      "\u001b[0;31mValueError\u001b[0m: Using a target size (torch.Size([64, 8])) that is different to the input size (torch.Size([64, 2])) is deprecated. Please ensure they have the same size."
     ]
    }
   ],
   "source": [
    "# train predictor nn\n",
    "\n",
    "predictor = train_predictor(latent_dataloader)\n"
   ]
  },
  {
   "cell_type": "code",
   "execution_count": null,
   "id": "52bb87c5",
   "metadata": {},
   "outputs": [],
   "source": [
    "# plot latent space\n",
    "\n",
    "from sklearn.decomposition import PCA\n",
    "from sklearn.manifold import TSNE\n",
    "import matplotlib.pyplot as plt\n",
    "\n",
    "# pca reduction\n",
    "\n",
    "pca = PCA(n_components=2)\n",
    "pca_results = pca.fit_transform(encoded)\n",
    "pca_results = pd.DataFrame(pca_results)\n",
    "pca_results['activity'] = activity\n"
   ]
  },
  {
   "cell_type": "code",
   "execution_count": null,
   "id": "df6f9d31",
   "metadata": {},
   "outputs": [],
   "source": [
    "# t-SNE reduction\n",
    "\n",
    "print('...tSNE...')\n",
    "tsne = tsne = TSNE(perplexity=20, learning_rate=100, verbose=1)\n",
    "tsne_results = pd.DataFrame(tsne.fit_transform(encoded))\n",
    "tsne_results['activity'] = activity"
   ]
  },
  {
   "cell_type": "code",
   "execution_count": null,
   "id": "20c82697",
   "metadata": {},
   "outputs": [],
   "source": [
    "import seaborn as sns\n",
    "\n",
    "# plot PCA\n",
    "\n",
    "sns.set_style('whitegrid')\n",
    "colors = ['#D3D3D3', '#880808']\n",
    "sns.scatterplot(x=0, y=1, hue='activity', data=pca_results, marker='.', palette=colors)\n",
    "plt.title('VAE PCA')\n",
    "plt.xlabel('PC1')\n",
    "plt.ylabel('PC2')"
   ]
  },
  {
   "cell_type": "code",
   "execution_count": null,
   "id": "2cc68436",
   "metadata": {},
   "outputs": [],
   "source": [
    "# plot t-SNE\n",
    "\n",
    "sns.scatterplot(x=0, y=1, hue='activity', data=tsne_results, marker='.', palette=colors)\n",
    "plt.title('VAE t-SNE')\n",
    "plt.xlabel('Ax1')\n",
    "plt.ylabel('Ax2')"
   ]
  }
 ],
 "metadata": {
  "kernelspec": {
   "display_name": "Python 3 (ipykernel)",
   "language": "python",
   "name": "python3"
  },
  "language_info": {
   "codemirror_mode": {
    "name": "ipython",
    "version": 3
   },
   "file_extension": ".py",
   "mimetype": "text/x-python",
   "name": "python",
   "nbconvert_exporter": "python",
   "pygments_lexer": "ipython3",
   "version": "3.9.16"
  }
 },
 "nbformat": 4,
 "nbformat_minor": 5
}
