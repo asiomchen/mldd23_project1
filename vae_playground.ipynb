{
 "cells": [
  {
   "cell_type": "code",
   "execution_count": null,
   "id": "initial_id",
   "metadata": {
    "collapsed": true
   },
   "outputs": [],
   "source": [
    "import numpy as np\n",
    "import torch\n",
    "import pandas as pd\n",
    "import matplotlib.pyplot as plt\n",
    "from src.vae.vae import VAE\n",
    "from src.vae.vae_dataset import VAEDataset\n",
    "\n",
    "device = torch.device('cuda' if torch.cuda.is_available() else 'cpu')"
   ]
  },
  {
   "cell_type": "code",
   "execution_count": null,
   "outputs": [],
   "source": [
    "#-------------------------------------------------------#\n",
    "model_path = 'models/VAE_32/vae_epoch_150.pt'\n",
    "latent_size = 32\n",
    "\n",
    "# model_path = 'models/VAE_64/vae_epoch_150.pt'\n",
    "# latent_size = 64\n",
    "\n",
    "# model_path = 'models/VAE_128/vae_epoch_150.pt'\n",
    "# latent_size = 128\n",
    "\n",
    "# model_path = 'models/VAE_256/vae_epoch_150.pt'\n",
    "# latent_size = 256\n",
    "#-------------------------------------------------------#\n",
    "\n",
    "model = VAE(input_size=4860, latent_size=latent_size).to(device)\n",
    "model.load_state_dict(torch.load(model_path, map_location=torch.device(device)))"
   ],
   "metadata": {
    "collapsed": false
   },
   "id": "9d0b66e275db03c1"
  },
  {
   "cell_type": "markdown",
   "source": [
    "1. Run mldd23_project1/get_datasets.sh to download datasets automatically\n",
    "2. Read data from .parquet file (column 'fps' must contain dense Klekota&Roth fingerprints)\n",
    "3. Use VAEDataset instance to convert dense fps dataset to sparse torch.Tensor\n",
    "4. Run model on dataset\n",
    "\n",
    "When model is called on data, it returns:\n",
    "torch.Tensor: (batch_size, fp_size) - reconstruction of X (after sigmoid)\n",
    "torch.Tensor: (batch_size, latent_size) - latent mu\n",
    "torch.Tensor: (batch_size, latent_size) - latent logvar\n",
    "\n",
    "You can sample vae latent space like this:\n",
    "sample = model.reparameterize(mu, logvar)\n",
    "\n",
    "And decode it to fp like this:\n",
    "reconstruction = model.decoder(sample)"
   ],
   "metadata": {
    "collapsed": false
   },
   "id": "b0ab7e7e453897f6"
  },
  {
   "cell_type": "code",
   "execution_count": null,
   "outputs": [],
   "source": [
    "df = pd.read_parquet('data/activity_data/train_data/combined')\n",
    "dataset = VAEDataset(df, fp_len=4860)\n",
    "\n",
    "with torch.no_grad():\n",
    "    ### TODO: run model on dataset\n",
    "    pass"
   ],
   "metadata": {
    "collapsed": false
   },
   "id": "c23b96818338417d"
  }
 ],
 "metadata": {
  "kernelspec": {
   "display_name": "Python 3",
   "language": "python",
   "name": "python3"
  },
  "language_info": {
   "codemirror_mode": {
    "name": "ipython",
    "version": 2
   },
   "file_extension": ".py",
   "mimetype": "text/x-python",
   "name": "python",
   "nbconvert_exporter": "python",
   "pygments_lexer": "ipython2",
   "version": "2.7.6"
  }
 },
 "nbformat": 4,
 "nbformat_minor": 5
}
