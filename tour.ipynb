{
 "cells": [
  {
   "cell_type": "raw",
   "source": [
    "# Generating potential novel ligands for any target"
   ],
   "metadata": {
    "collapsed": false
   },
   "id": "7459016d7c207cf1"
  },
  {
   "cell_type": "raw",
   "source": [
    "Prepare a dataset (preferably over 1,000 compunds). \n",
    "\n",
    "Put the data into pandas.DataFrame object. The dataframe must contain the following columns:\n",
    "'smiles' - SMILES strings of known ligands.\n",
    "'fps - Klekota&Roth or Morgan (radius=2) fingerprints of the ligands.\n",
    "    The fingerprints have to be saved as ordinary pthon lists, in dense format (a list of ints\n",
    "    designating the indices of active bits in the original fingerprint). \n",
    "    For help, see src.utils.finger.sparse2dense().\n",
    "'activity' - Activity class (True, False). By default, we define active compounds as those having\n",
    "    Ki value <= 100nM and inactive as those of Ki > 100nM.\n",
    "Save dataframe to .parquet file using:"
   ],
   "metadata": {
    "collapsed": false
   },
   "id": "64102fcf77d9036"
  },
  {
   "cell_type": "code",
   "execution_count": null,
   "outputs": [],
   "source": [
    "import pandas as pd\n",
    "df = pd.DataFrame(columns=['smiles', 'fps', 'activity'])\n",
    "\n",
    "# ... load data into the dataframe\n",
    "name = '5ht7_ECFP' # example name for the dataset\n",
    "\n",
    "df.to_parquet(f'data/activity_data/{name}.parquet', index=False)"
   ],
   "metadata": {
    "collapsed": false
   },
   "id": "c7e1d61cada3559c"
  },
  {
   "cell_type": "markdown",
   "source": [
    "Example dataset:"
   ],
   "metadata": {
    "collapsed": false
   },
   "id": "b4e7c226da64fbb7"
  },
  {
   "cell_type": "code",
   "execution_count": 46,
   "outputs": [
    {
     "data": {
      "text/plain": "                                              smiles  \\\n0       CC1Cc2ccccc2N1C(=O)CN1CCN(CCc2ccc(Cl)cc2)CC1   \n1            Cc1cccn2ncc(CN3CCN(c4ccc(Cl)cc4)CC3)c12   \n2  O=C1c2ccccc2C(=O)N1CCCCN1CC=C(c2c[nH]c3ccc(F)c...   \n3               OC(CCCN1CCN(c2ccccn2)CC1)c1ccc(F)cc1   \n4        COc1ccccc1C1CC1CNCCC1CCC(NC(=O)c2ccccc2)CC1   \n\n                                                 fps  activity  \n0  [74, 80, 216, 218, 231, 277, 310, 561, 567, 56...         0  \n1  [40, 43, 74, 80, 95, 216, 233, 378, 407, 442, ...         0  \n2  [80, 119, 193, 296, 314, 328, 352, 463, 588, 6...         1  \n3  [1, 74, 80, 90, 227, 263, 378, 407, 448, 527, ...         0  \n4  [9, 29, 80, 82, 114, 226, 249, 371, 387, 389, ...         0  ",
      "text/html": "<div>\n<style scoped>\n    .dataframe tbody tr th:only-of-type {\n        vertical-align: middle;\n    }\n\n    .dataframe tbody tr th {\n        vertical-align: top;\n    }\n\n    .dataframe thead th {\n        text-align: right;\n    }\n</style>\n<table border=\"1\" class=\"dataframe\">\n  <thead>\n    <tr style=\"text-align: right;\">\n      <th></th>\n      <th>smiles</th>\n      <th>fps</th>\n      <th>activity</th>\n    </tr>\n  </thead>\n  <tbody>\n    <tr>\n      <th>0</th>\n      <td>CC1Cc2ccccc2N1C(=O)CN1CCN(CCc2ccc(Cl)cc2)CC1</td>\n      <td>[74, 80, 216, 218, 231, 277, 310, 561, 567, 56...</td>\n      <td>0</td>\n    </tr>\n    <tr>\n      <th>1</th>\n      <td>Cc1cccn2ncc(CN3CCN(c4ccc(Cl)cc4)CC3)c12</td>\n      <td>[40, 43, 74, 80, 95, 216, 233, 378, 407, 442, ...</td>\n      <td>0</td>\n    </tr>\n    <tr>\n      <th>2</th>\n      <td>O=C1c2ccccc2C(=O)N1CCCCN1CC=C(c2c[nH]c3ccc(F)c...</td>\n      <td>[80, 119, 193, 296, 314, 328, 352, 463, 588, 6...</td>\n      <td>1</td>\n    </tr>\n    <tr>\n      <th>3</th>\n      <td>OC(CCCN1CCN(c2ccccn2)CC1)c1ccc(F)cc1</td>\n      <td>[1, 74, 80, 90, 227, 263, 378, 407, 448, 527, ...</td>\n      <td>0</td>\n    </tr>\n    <tr>\n      <th>4</th>\n      <td>COc1ccccc1C1CC1CNCCC1CCC(NC(=O)c2ccccc2)CC1</td>\n      <td>[9, 29, 80, 82, 114, 226, 249, 371, 387, 389, ...</td>\n      <td>0</td>\n    </tr>\n  </tbody>\n</table>\n</div>"
     },
     "execution_count": 46,
     "metadata": {},
     "output_type": "execute_result"
    }
   ],
   "source": [
    "example_df = pd.read_parquet('data/activity_data/example_dataset_ECFP.parquet', \n",
    "                columns=['smiles', 'fps', 'activity'])\n",
    "example_df.head()"
   ],
   "metadata": {
    "collapsed": false,
    "ExecuteTime": {
     "end_time": "2023-09-25T18:36:20.983869855Z",
     "start_time": "2023-09-25T18:36:20.701184132Z"
    }
   },
   "id": "e2310a2af23125d3"
  },
  {
   "cell_type": "raw",
   "source": [
    "Encode the dataset into latent space, and train the activity predictor.\n",
    "Use the following command:\n",
    "  \n",
    "    python train_clf.py\n",
    "\n",
    "and provide the path to the dataset file using the -d flag.\n",
    "Other parameters are optional and can be set using the command line arguments."
   ],
   "metadata": {
    "collapsed": false
   },
   "id": "2afd6367631460f1"
  },
  {
   "cell_type": "raw",
   "source": [
    "  --data_path DATA_PATH, -d DATA_PATH\n",
    "                        Path to data file (prepared as described in above)\n",
    "  --c_param C_PARAM, -c C_PARAM\n",
    "                        C parameter for SVM (default: 50)\n",
    "                        Commonly a float in the range [0.01, 100]\n",
    "  --kernel KERNEL, -k KERNEL\n",
    "                        Kernel type for SVM\n",
    "                        One of: linear, poly, rbf, sigmoid\n",
    "  --degree DEGREE, -deg DEGREE\n",
    "                        Degree of polynomial kernel\n",
    "                        Ignored by other kernels\n",
    "  --gamma GAMMA, -g GAMMA\n",
    "                        Gamma parameter for SVM"
   ],
   "metadata": {
    "collapsed": false
   },
   "id": "42dc4ff6f6994552"
  },
  {
   "cell_type": "markdown",
   "source": [
    "Now a file with the trained model should be saved in the 'models' directory. Locate the directory,\n",
    "and save path to a model.pkl file created by the training script inside.\n",
    "\n",
    "It should look like this:\n",
    "    \n",
    "   models/name_of_the_model/model.pkl"
   ],
   "metadata": {
    "collapsed": false
   },
   "id": "f2d524c26d84bfec"
  },
  {
   "cell_type": "raw",
   "source": [
    "To perform bayesian search on the latent space, use the following command:\n",
    "\n",
    "    python bayesian_search.py\n",
    "\n",
    "and provide the path to the model file using the -m flag.\n",
    "\n",
    "    python bayesian_search.py -m models/name_of_the_model/model.pkl\n",
    "\n",
    "Other parameters can be set using the command line arguments:\n",
    "\n",
    "  -m MODEL_PATH, --model_path MODEL_PATH\n",
    "                        Path to the saved activity predictor model\n",
    "  -n N_SAMPLES, --n_samples N_SAMPLES\n",
    "                        Number of samples to generate\n",
    "  -p INIT_POINTS, --init_points INIT_POINTS\n",
    "                        Number of initial points to sample\n",
    "  -i N_ITER, --n_iter N_ITER\n",
    "                        Number of iterations to perform\n",
    "  -b BOUNDS, --bounds BOUNDS\n",
    "                        Bounds for the latent space search\n",
    "  -v VERBOSITY, --verbosity VERBOSITY\n",
    "                        Verbosity: 0 - silent, 1 - normal, 2 - verbose\n",
    "  -w N_WORKERS, --n_workers N_WORKERS\n",
    "                        Number of workers to use. Default: -1 (all available CPU cores)"
   ],
   "metadata": {
    "collapsed": false
   },
   "id": "4664a2bbaa74c254"
  }
 ],
 "metadata": {
  "kernelspec": {
   "display_name": "Python 3",
   "language": "python",
   "name": "python3"
  },
  "language_info": {
   "codemirror_mode": {
    "name": "ipython",
    "version": 2
   },
   "file_extension": ".py",
   "mimetype": "text/x-python",
   "name": "python",
   "nbconvert_exporter": "python",
   "pygments_lexer": "ipython2",
   "version": "2.7.6"
  }
 },
 "nbformat": 4,
 "nbformat_minor": 5
}
