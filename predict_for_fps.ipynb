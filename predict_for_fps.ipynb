{
 "cells": [
  {
   "cell_type": "code",
   "execution_count": 171,
   "id": "9acfcc33",
   "metadata": {},
   "outputs": [],
   "source": [
    "from src.gru.vae_gru import EncoderDecoder\n",
    "from src.gru.dataset import PredictionDataset\n",
    "from src.utils.vectorizer import SELFIESVectorizer\n",
    "import selfies as sf\n",
    "from torch.utils.data import DataLoader\n",
    "import rdkit.Chem as Chem\n",
    "import torch\n",
    "import numpy as np\n",
    "import torch.nn as nn\n",
    "import pandas as pd\n",
    "from tqdm import tqdm\n",
    "vectorizer = SELFIESVectorizer(pad_to_len=128)\n",
    "device = 'cuda' if torch.cuda.is_available() else 'cpu'\n",
    "\n",
    "#--------------------------------------------------------------------------#\n",
    "\n",
    "model_path = 'models/fixed_cce_3_layers/epoch_175.pt'\n",
    "data_path = 'data/GRU_data/5ht1a_fps.parquet'\n",
    "\n",
    "encoding_size = 512\n",
    "hidden_size = 512\n",
    "num_layers = 3\n",
    "dropout = 0 # dropout must be equal 0 if num_layers = 1\n",
    "teacher_ratio = 0.5\n",
    "\n",
    "batch_size = 100\n",
    "\n",
    "name = 'fixed_cce_3_layers_epoch_175'\n",
    "\n",
    "#-------------------------------------------------------------------------#"
   ]
  },
  {
   "cell_type": "raw",
   "id": "295eaa4d",
   "metadata": {},
   "source": [
    "data_path = '...'\n",
    "\n",
    "data = pd.read_parquet(data_path).to_numpy()\n",
    "dense_fps = []\n",
    "for fp in data:\n",
    "    fp = sparse2dense(fp)\n",
    "    dense_fps.append(fp.tolist())\n",
    "df = pd.DataFrame()\n",
    "df['fps'] = dense_fps\n",
    "df.to_parquet('5ht1a_fps.parquet', index=False)"
   ]
  },
  {
   "cell_type": "code",
   "execution_count": 172,
   "id": "753fe7e8",
   "metadata": {},
   "outputs": [],
   "source": [
    "model = EncoderDecoder(\n",
    "    fp_size=4860,\n",
    "    encoding_size=encoding_size,\n",
    "    hidden_size=hidden_size,\n",
    "    num_layers=num_layers,\n",
    "    dropout=dropout,\n",
    "    teacher_ratio = teacher_ratio).to(device)\n",
    "\n",
    "model.load_state_dict(torch.load(model_path, map_location=torch.device(device)))\n",
    "\n",
    "df = pd.read_parquet(data_path)"
   ]
  },
  {
   "cell_type": "code",
   "execution_count": 173,
   "id": "06b657ac",
   "metadata": {},
   "outputs": [],
   "source": [
    "def get_predictions(model, df):\n",
    "    dataset = PredictionDataset(df, vectorizer)\n",
    "    loader = DataLoader(dataset, shuffle=False, batch_size=batch_size, drop_last=True)\n",
    "    preds_smiles = []\n",
    "    for X in loader:\n",
    "        X = X.to(device)\n",
    "        preds = model(X, None, teacher_forcing=False)\n",
    "        preds = preds.detach().cpu().numpy()\n",
    "        fps = df.fps.apply(eval).tolist()\n",
    "        for seq in preds:\n",
    "            selfie = vectorizer.devectorize(seq, remove_special=True)\n",
    "            try:\n",
    "                preds_smiles.append(sf.decoder(selfie))\n",
    "            except:\n",
    "                preds_smiles.append('C')\n",
    "    return preds_smiles"
   ]
  },
  {
   "cell_type": "code",
   "execution_count": 174,
   "id": "2eac9bcf",
   "metadata": {},
   "outputs": [],
   "source": [
    "def filter_out_nondruglike(predictions, threshold):\n",
    "    raw_mols = [Chem.MolFromSmiles(s) for s in predictions]\n",
    "    raw_qeds = [Chem.QED.qed(m) for m in raw_mols]\n",
    "    filtered_mols = []\n",
    "    filtered_qeds = []\n",
    "    \n",
    "    for i, value in enumerate(raw_qeds):\n",
    "        if (value > threshold):\n",
    "            filtered_mols.append(raw_mols[i])\n",
    "            filtered_qeds.append(value)\n",
    "    return filtered_mols, filtered_qeds\n",
    "\n",
    "predictions = get_predictions(model, df)\n",
    "predictions_druglike, qeds = filter_out_nondruglike(predictions, 0.4)"
   ]
  },
  {
   "cell_type": "code",
   "execution_count": 175,
   "id": "5affb4c5",
   "metadata": {},
   "outputs": [
    {
     "name": "stderr",
     "output_type": "stream",
     "text": [
      "[13:46:15] \n",
      "\n",
      "****\n",
      "Pre-condition Violation\n",
      "no draw context\n",
      "Violation occurred on line 214 in file /home/conda/feedstock_root/build_artifacts/rdkit_1666697261712/work/Code/GraphMol/MolDraw2D/MolDraw2DCairo.cpp\n",
      "Failed Expression: dp_cr\n",
      "****\n",
      "\n"
     ]
    },
    {
     "ename": "RuntimeError",
     "evalue": "Pre-condition Violation\n\tno draw context\n\tViolation occurred on line 214 in file Code/GraphMol/MolDraw2D/MolDraw2DCairo.cpp\n\tFailed Expression: dp_cr\n\tRDKIT: 2022.09.1\n\tBOOST: 1_74\n",
     "output_type": "error",
     "traceback": [
      "\u001b[0;31m---------------------------------------------------------------------------\u001b[0m",
      "\u001b[0;31mRuntimeError\u001b[0m                              Traceback (most recent call last)",
      "Cell \u001b[0;32mIn[175], line 9\u001b[0m\n\u001b[1;32m      7\u001b[0m qed4 \u001b[38;5;241m=\u001b[39m qeds[i:(i\u001b[38;5;241m+\u001b[39m\u001b[38;5;241m4\u001b[39m)]\n\u001b[1;32m      8\u001b[0m qed4 \u001b[38;5;241m=\u001b[39m [\u001b[38;5;124m'\u001b[39m\u001b[38;5;132;01m{:.2f}\u001b[39;00m\u001b[38;5;124m'\u001b[39m\u001b[38;5;241m.\u001b[39mformat(x) \u001b[38;5;28;01mfor\u001b[39;00m x \u001b[38;5;129;01min\u001b[39;00m qed4]\n\u001b[0;32m----> 9\u001b[0m img \u001b[38;5;241m=\u001b[39m \u001b[43mChem\u001b[49m\u001b[38;5;241;43m.\u001b[39;49m\u001b[43mDraw\u001b[49m\u001b[38;5;241;43m.\u001b[39;49m\u001b[43mMolsToGridImage\u001b[49m\u001b[43m(\u001b[49m\u001b[43mmol4\u001b[49m\u001b[43m,\u001b[49m\u001b[43m \u001b[49m\u001b[43mmolsPerRow\u001b[49m\u001b[38;5;241;43m=\u001b[39;49m\u001b[38;5;241;43m2\u001b[39;49m\u001b[43m,\u001b[49m\u001b[43m \u001b[49m\u001b[43msubImgSize\u001b[49m\u001b[38;5;241;43m=\u001b[39;49m\u001b[43m(\u001b[49m\u001b[38;5;241;43m400\u001b[39;49m\u001b[43m,\u001b[49m\u001b[43m \u001b[49m\u001b[38;5;241;43m400\u001b[39;49m\u001b[43m)\u001b[49m\u001b[43m,\u001b[49m\u001b[43m \u001b[49m\n\u001b[1;32m     10\u001b[0m \u001b[43m                                \u001b[49m\u001b[43mlegends\u001b[49m\u001b[38;5;241;43m=\u001b[39;49m\u001b[43m[\u001b[49m\u001b[38;5;124;43mf\u001b[39;49m\u001b[38;5;124;43m'\u001b[39;49m\u001b[38;5;124;43mQED: \u001b[39;49m\u001b[38;5;132;43;01m{\u001b[39;49;00m\u001b[43mqed\u001b[49m\u001b[38;5;132;43;01m}\u001b[39;49;00m\u001b[38;5;124;43m'\u001b[39;49m\u001b[43m \u001b[49m\u001b[38;5;28;43;01mfor\u001b[39;49;00m\u001b[43m \u001b[49m\u001b[43mqed\u001b[49m\u001b[43m \u001b[49m\u001b[38;5;129;43;01min\u001b[39;49;00m\u001b[43m \u001b[49m\u001b[43mqed4\u001b[49m\u001b[43m]\u001b[49m\u001b[43m,\u001b[49m\u001b[43m \u001b[49m\u001b[43mreturnPNG\u001b[49m\u001b[38;5;241;43m=\u001b[39;49m\u001b[38;5;28;43;01mFalse\u001b[39;49;00m\u001b[43m)\u001b[49m\n\u001b[1;32m     11\u001b[0m img\u001b[38;5;241m.\u001b[39msave(\u001b[38;5;124mf\u001b[39m\u001b[38;5;124m'\u001b[39m\u001b[38;5;124mimgs/\u001b[39m\u001b[38;5;132;01m{\u001b[39;00mname\u001b[38;5;132;01m}\u001b[39;00m\u001b[38;5;124m/\u001b[39m\u001b[38;5;132;01m{\u001b[39;00mi\u001b[38;5;132;01m}\u001b[39;00m\u001b[38;5;124m.png\u001b[39m\u001b[38;5;124m'\u001b[39m)\n\u001b[1;32m     12\u001b[0m i \u001b[38;5;241m+\u001b[39m\u001b[38;5;241m=\u001b[39m \u001b[38;5;241m4\u001b[39m\n",
      "File \u001b[0;32m~/miniconda3/envs/mldd/lib/python3.9/site-packages/rdkit/Chem/Draw/IPythonConsole.py:268\u001b[0m, in \u001b[0;36mShowMols\u001b[0;34m(mols, maxMols, **kwargs)\u001b[0m\n\u001b[1;32m    265\u001b[0m \u001b[38;5;28;01mif\u001b[39;00m \u001b[38;5;124m\"\u001b[39m\u001b[38;5;124mdrawOptions\u001b[39m\u001b[38;5;124m\"\u001b[39m \u001b[38;5;129;01mnot\u001b[39;00m \u001b[38;5;129;01min\u001b[39;00m kwargs:\n\u001b[1;32m    266\u001b[0m   kwargs[\u001b[38;5;124m\"\u001b[39m\u001b[38;5;124mdrawOptions\u001b[39m\u001b[38;5;124m\"\u001b[39m] \u001b[38;5;241m=\u001b[39m drawOptions\n\u001b[0;32m--> 268\u001b[0m res \u001b[38;5;241m=\u001b[39m \u001b[43mfn\u001b[49m\u001b[43m(\u001b[49m\u001b[43mmols\u001b[49m\u001b[43m,\u001b[49m\u001b[43m \u001b[49m\u001b[38;5;241;43m*\u001b[39;49m\u001b[38;5;241;43m*\u001b[39;49m\u001b[43mkwargs\u001b[49m\u001b[43m)\u001b[49m\n\u001b[1;32m    269\u001b[0m \u001b[38;5;28;01mif\u001b[39;00m InteractiveRenderer\u001b[38;5;241m.\u001b[39misEnabled():\n\u001b[1;32m    270\u001b[0m   \u001b[38;5;28;01mreturn\u001b[39;00m HTML(res)\n",
      "File \u001b[0;32m~/miniconda3/envs/mldd/lib/python3.9/site-packages/rdkit/Chem/Draw/__init__.py:622\u001b[0m, in \u001b[0;36mMolsToGridImage\u001b[0;34m(mols, molsPerRow, subImgSize, legends, highlightAtomLists, highlightBondLists, useSVG, returnPNG, **kwargs)\u001b[0m\n\u001b[1;32m    618\u001b[0m   \u001b[38;5;28;01mreturn\u001b[39;00m _MolsToGridSVG(mols, molsPerRow\u001b[38;5;241m=\u001b[39mmolsPerRow, subImgSize\u001b[38;5;241m=\u001b[39msubImgSize, legends\u001b[38;5;241m=\u001b[39mlegends,\n\u001b[1;32m    619\u001b[0m                         highlightAtomLists\u001b[38;5;241m=\u001b[39mhighlightAtomLists,\n\u001b[1;32m    620\u001b[0m                         highlightBondLists\u001b[38;5;241m=\u001b[39mhighlightBondLists, \u001b[38;5;241m*\u001b[39m\u001b[38;5;241m*\u001b[39mkwargs)\n\u001b[1;32m    621\u001b[0m \u001b[38;5;28;01melse\u001b[39;00m:\n\u001b[0;32m--> 622\u001b[0m   \u001b[38;5;28;01mreturn\u001b[39;00m \u001b[43m_MolsToGridImage\u001b[49m\u001b[43m(\u001b[49m\u001b[43mmols\u001b[49m\u001b[43m,\u001b[49m\u001b[43m \u001b[49m\u001b[43mmolsPerRow\u001b[49m\u001b[38;5;241;43m=\u001b[39;49m\u001b[43mmolsPerRow\u001b[49m\u001b[43m,\u001b[49m\u001b[43m \u001b[49m\u001b[43msubImgSize\u001b[49m\u001b[38;5;241;43m=\u001b[39;49m\u001b[43msubImgSize\u001b[49m\u001b[43m,\u001b[49m\u001b[43m \u001b[49m\u001b[43mlegends\u001b[49m\u001b[38;5;241;43m=\u001b[39;49m\u001b[43mlegends\u001b[49m\u001b[43m,\u001b[49m\n\u001b[1;32m    623\u001b[0m \u001b[43m                          \u001b[49m\u001b[43mhighlightAtomLists\u001b[49m\u001b[38;5;241;43m=\u001b[39;49m\u001b[43mhighlightAtomLists\u001b[49m\u001b[43m,\u001b[49m\n\u001b[1;32m    624\u001b[0m \u001b[43m                          \u001b[49m\u001b[43mhighlightBondLists\u001b[49m\u001b[38;5;241;43m=\u001b[39;49m\u001b[43mhighlightBondLists\u001b[49m\u001b[43m,\u001b[49m\u001b[43m \u001b[49m\u001b[43mreturnPNG\u001b[49m\u001b[38;5;241;43m=\u001b[39;49m\u001b[43mreturnPNG\u001b[49m\u001b[43m,\u001b[49m\u001b[43m \u001b[49m\u001b[38;5;241;43m*\u001b[39;49m\u001b[38;5;241;43m*\u001b[39;49m\u001b[43mkwargs\u001b[49m\u001b[43m)\u001b[49m\n",
      "File \u001b[0;32m~/miniconda3/envs/mldd/lib/python3.9/site-packages/rdkit/Chem/Draw/__init__.py:569\u001b[0m, in \u001b[0;36m_MolsToGridImage\u001b[0;34m(mols, molsPerRow, subImgSize, legends, highlightAtomLists, highlightBondLists, drawOptions, returnPNG, **kwargs)\u001b[0m\n\u001b[1;32m    567\u001b[0m d2d\u001b[38;5;241m.\u001b[39mFinishDrawing()\n\u001b[1;32m    568\u001b[0m \u001b[38;5;28;01mif\u001b[39;00m \u001b[38;5;129;01mnot\u001b[39;00m returnPNG:\n\u001b[0;32m--> 569\u001b[0m   res \u001b[38;5;241m=\u001b[39m \u001b[43m_drawerToImage\u001b[49m\u001b[43m(\u001b[49m\u001b[43md2d\u001b[49m\u001b[43m)\u001b[49m\n\u001b[1;32m    570\u001b[0m \u001b[38;5;28;01melse\u001b[39;00m:\n\u001b[1;32m    571\u001b[0m   res \u001b[38;5;241m=\u001b[39m d2d\u001b[38;5;241m.\u001b[39mGetDrawingText()\n",
      "File \u001b[0;32m~/miniconda3/envs/mldd/lib/python3.9/site-packages/rdkit/Chem/Draw/__init__.py:445\u001b[0m, in \u001b[0;36m_drawerToImage\u001b[0;34m(d2d)\u001b[0m\n\u001b[1;32m    443\u001b[0m \u001b[38;5;28;01mdef\u001b[39;00m \u001b[38;5;21m_drawerToImage\u001b[39m(d2d):\n\u001b[1;32m    444\u001b[0m   \u001b[38;5;28;01mfrom\u001b[39;00m \u001b[38;5;21;01mPIL\u001b[39;00m \u001b[38;5;28;01mimport\u001b[39;00m Image\n\u001b[0;32m--> 445\u001b[0m   sio \u001b[38;5;241m=\u001b[39m BytesIO(\u001b[43md2d\u001b[49m\u001b[38;5;241;43m.\u001b[39;49m\u001b[43mGetDrawingText\u001b[49m\u001b[43m(\u001b[49m\u001b[43m)\u001b[49m)\n\u001b[1;32m    446\u001b[0m   \u001b[38;5;28;01mreturn\u001b[39;00m Image\u001b[38;5;241m.\u001b[39mopen(sio)\n",
      "\u001b[0;31mRuntimeError\u001b[0m: Pre-condition Violation\n\tno draw context\n\tViolation occurred on line 214 in file Code/GraphMol/MolDraw2D/MolDraw2DCairo.cpp\n\tFailed Expression: dp_cr\n\tRDKIT: 2022.09.1\n\tBOOST: 1_74\n"
     ]
    }
   ],
   "source": [
    "if not os.path.isdir(f'imgs/{name}'):\n",
    "    os.mkdir(f'imgs/{name}')\n",
    "\n",
    "i = 0    \n",
    "while i < 1000:\n",
    "    mol4 = predictions_druglike[i:(i+4)]\n",
    "    qed4 = qeds[i:(i+4)]\n",
    "    qed4 = ['{:.2f}'.format(x) for x in qed4]\n",
    "    img = Chem.Draw.MolsToGridImage(mol4, molsPerRow=2, subImgSize=(400, 400), \n",
    "                                    legends=[f'QED: {qed}' for qed in qed4], returnPNG=False)\n",
    "    img.save(f'imgs/{name}/{i}.png')\n",
    "    i += 4"
   ]
  }
 ],
 "metadata": {
  "kernelspec": {
   "display_name": "Python 3 (ipykernel)",
   "language": "python",
   "name": "python3"
  },
  "language_info": {
   "codemirror_mode": {
    "name": "ipython",
    "version": 3
   },
   "file_extension": ".py",
   "mimetype": "text/x-python",
   "name": "python",
   "nbconvert_exporter": "python",
   "pygments_lexer": "ipython3",
   "version": "3.9.16"
  }
 },
 "nbformat": 4,
 "nbformat_minor": 5
}
