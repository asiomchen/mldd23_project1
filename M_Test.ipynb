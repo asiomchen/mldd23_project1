{
 "cells": [
  {
   "cell_type": "code",
   "execution_count": 1,
   "id": "f168cdce",
   "metadata": {},
   "outputs": [],
   "source": [
    "import numpy as np\n",
    "import pandas as pd\n",
    "import pickle"
   ]
  },
  {
   "cell_type": "code",
   "execution_count": 23,
   "id": "4f8d727b",
   "metadata": {},
   "outputs": [],
   "source": [
    "class VectorDiscriminator:\n",
    "    def __init__(self, data_path:str , model, model_params:dict, target_col:str = 'label', smiles_col: str='smiles'):\n",
    "        self.data = pd.read_parquet(data_path)\n",
    "        self.X = self.data.drop([target_col]+[smiles_col], axis=1)\n",
    "        self.y = self.data[target_col]\n",
    "        self.model = model(**model_params).fit(self.X, self.y)\n",
    "        \n",
    "    def save_model(self, path):\n",
    "        with open(path, 'wb') as file:\n",
    "            pickle.dump(self.model, file)\n",
    "        \n",
    "    def predict(self, X_vector):\n",
    "        preds = self.model.predict_proba(X_vector)[:,1]\n",
    "        return preds\n",
    "    \n",
    "    def __call__(self):\n",
    "        return self.model\n",
    "        \n",
    "        "
   ]
  },
  {
   "cell_type": "code",
   "execution_count": 8,
   "id": "5142b694",
   "metadata": {},
   "outputs": [],
   "source": [
    "from sklearn.ensemble import RandomForestClassifier\n",
    "from sklearn.svm import SVC\n",
    "from xgboost import XGBClassifier"
   ]
  },
  {
   "cell_type": "code",
   "execution_count": 2,
   "id": "b1682cf4",
   "metadata": {},
   "outputs": [
    {
     "data": {
      "text/html": [
       "<div>\n",
       "<style scoped>\n",
       "    .dataframe tbody tr th:only-of-type {\n",
       "        vertical-align: middle;\n",
       "    }\n",
       "\n",
       "    .dataframe tbody tr th {\n",
       "        vertical-align: top;\n",
       "    }\n",
       "\n",
       "    .dataframe thead th {\n",
       "        text-align: right;\n",
       "    }\n",
       "</style>\n",
       "<table border=\"1\" class=\"dataframe\">\n",
       "  <thead>\n",
       "    <tr style=\"text-align: right;\">\n",
       "      <th></th>\n",
       "      <th>0</th>\n",
       "      <th>1</th>\n",
       "      <th>2</th>\n",
       "      <th>3</th>\n",
       "      <th>4</th>\n",
       "      <th>5</th>\n",
       "      <th>6</th>\n",
       "      <th>7</th>\n",
       "      <th>8</th>\n",
       "      <th>9</th>\n",
       "      <th>...</th>\n",
       "      <th>24</th>\n",
       "      <th>25</th>\n",
       "      <th>26</th>\n",
       "      <th>27</th>\n",
       "      <th>28</th>\n",
       "      <th>29</th>\n",
       "      <th>30</th>\n",
       "      <th>31</th>\n",
       "      <th>label</th>\n",
       "      <th>smiles</th>\n",
       "    </tr>\n",
       "  </thead>\n",
       "  <tbody>\n",
       "    <tr>\n",
       "      <th>0</th>\n",
       "      <td>2.103291</td>\n",
       "      <td>0.843166</td>\n",
       "      <td>0.661608</td>\n",
       "      <td>-0.493326</td>\n",
       "      <td>-1.515839</td>\n",
       "      <td>-2.089014</td>\n",
       "      <td>0.606348</td>\n",
       "      <td>-0.469643</td>\n",
       "      <td>0.877941</td>\n",
       "      <td>-0.208975</td>\n",
       "      <td>...</td>\n",
       "      <td>-0.873071</td>\n",
       "      <td>-0.145492</td>\n",
       "      <td>1.004696</td>\n",
       "      <td>-1.318560</td>\n",
       "      <td>-0.145407</td>\n",
       "      <td>0.285080</td>\n",
       "      <td>-0.300703</td>\n",
       "      <td>0.882296</td>\n",
       "      <td>0</td>\n",
       "      <td>CCOc1ccccc1N1CCN(Cc2csc3ccccc23)CC1</td>\n",
       "    </tr>\n",
       "    <tr>\n",
       "      <th>1</th>\n",
       "      <td>0.084732</td>\n",
       "      <td>0.248637</td>\n",
       "      <td>-0.556829</td>\n",
       "      <td>0.009932</td>\n",
       "      <td>1.081340</td>\n",
       "      <td>-0.282894</td>\n",
       "      <td>-0.088232</td>\n",
       "      <td>-0.499152</td>\n",
       "      <td>-1.568471</td>\n",
       "      <td>1.201898</td>\n",
       "      <td>...</td>\n",
       "      <td>0.337907</td>\n",
       "      <td>0.026669</td>\n",
       "      <td>-0.503294</td>\n",
       "      <td>-1.266375</td>\n",
       "      <td>-0.828005</td>\n",
       "      <td>-1.141059</td>\n",
       "      <td>-1.180983</td>\n",
       "      <td>0.555649</td>\n",
       "      <td>1</td>\n",
       "      <td>Clc1cccc(N2CCCN(CCCOc3ccc4CCC(=O)Nc4c3)CC2)c1Cl</td>\n",
       "    </tr>\n",
       "    <tr>\n",
       "      <th>2</th>\n",
       "      <td>-0.397815</td>\n",
       "      <td>0.610840</td>\n",
       "      <td>-0.476965</td>\n",
       "      <td>0.347521</td>\n",
       "      <td>0.481587</td>\n",
       "      <td>-0.262544</td>\n",
       "      <td>1.504975</td>\n",
       "      <td>-0.690981</td>\n",
       "      <td>-2.350592</td>\n",
       "      <td>-0.537407</td>\n",
       "      <td>...</td>\n",
       "      <td>-0.901967</td>\n",
       "      <td>-0.225223</td>\n",
       "      <td>-2.738622</td>\n",
       "      <td>0.549640</td>\n",
       "      <td>-1.079602</td>\n",
       "      <td>-1.573063</td>\n",
       "      <td>-1.271712</td>\n",
       "      <td>1.253689</td>\n",
       "      <td>0</td>\n",
       "      <td>Clc1cccc(N2CCN(C\\\\C=C\\\\CNC(=O)c3ccc-4c(Cc5cccc...</td>\n",
       "    </tr>\n",
       "    <tr>\n",
       "      <th>3</th>\n",
       "      <td>0.736050</td>\n",
       "      <td>0.191576</td>\n",
       "      <td>-0.276621</td>\n",
       "      <td>0.154883</td>\n",
       "      <td>1.483294</td>\n",
       "      <td>-1.731227</td>\n",
       "      <td>0.902199</td>\n",
       "      <td>-1.820714</td>\n",
       "      <td>1.994340</td>\n",
       "      <td>-0.670644</td>\n",
       "      <td>...</td>\n",
       "      <td>-0.545237</td>\n",
       "      <td>-0.073662</td>\n",
       "      <td>-0.094587</td>\n",
       "      <td>-0.723571</td>\n",
       "      <td>-0.014981</td>\n",
       "      <td>-0.762199</td>\n",
       "      <td>0.931147</td>\n",
       "      <td>-0.096931</td>\n",
       "      <td>1</td>\n",
       "      <td>CCCCn1cc(COc2ccc(CN3CCN(CC3)c3ccccc3OC)cc2OC)nn1</td>\n",
       "    </tr>\n",
       "    <tr>\n",
       "      <th>4</th>\n",
       "      <td>0.324591</td>\n",
       "      <td>1.113374</td>\n",
       "      <td>0.858957</td>\n",
       "      <td>0.610884</td>\n",
       "      <td>-0.696307</td>\n",
       "      <td>-0.364246</td>\n",
       "      <td>-0.487522</td>\n",
       "      <td>1.782806</td>\n",
       "      <td>-1.641602</td>\n",
       "      <td>-1.595864</td>\n",
       "      <td>...</td>\n",
       "      <td>0.343896</td>\n",
       "      <td>0.047728</td>\n",
       "      <td>0.137577</td>\n",
       "      <td>-1.361735</td>\n",
       "      <td>-1.940879</td>\n",
       "      <td>0.435595</td>\n",
       "      <td>-1.717773</td>\n",
       "      <td>1.121779</td>\n",
       "      <td>1</td>\n",
       "      <td>O=C1N(CCCCCCN2CCN(CC2)c2cccc3ccccc23)S(=O)(=O)...</td>\n",
       "    </tr>\n",
       "  </tbody>\n",
       "</table>\n",
       "<p>5 rows × 34 columns</p>\n",
       "</div>"
      ],
      "text/plain": [
       "          0         1         2         3         4         5         6  \\\n",
       "0  2.103291  0.843166  0.661608 -0.493326 -1.515839 -2.089014  0.606348   \n",
       "1  0.084732  0.248637 -0.556829  0.009932  1.081340 -0.282894 -0.088232   \n",
       "2 -0.397815  0.610840 -0.476965  0.347521  0.481587 -0.262544  1.504975   \n",
       "3  0.736050  0.191576 -0.276621  0.154883  1.483294 -1.731227  0.902199   \n",
       "4  0.324591  1.113374  0.858957  0.610884 -0.696307 -0.364246 -0.487522   \n",
       "\n",
       "          7         8         9  ...        24        25        26        27  \\\n",
       "0 -0.469643  0.877941 -0.208975  ... -0.873071 -0.145492  1.004696 -1.318560   \n",
       "1 -0.499152 -1.568471  1.201898  ...  0.337907  0.026669 -0.503294 -1.266375   \n",
       "2 -0.690981 -2.350592 -0.537407  ... -0.901967 -0.225223 -2.738622  0.549640   \n",
       "3 -1.820714  1.994340 -0.670644  ... -0.545237 -0.073662 -0.094587 -0.723571   \n",
       "4  1.782806 -1.641602 -1.595864  ...  0.343896  0.047728  0.137577 -1.361735   \n",
       "\n",
       "         28        29        30        31  label  \\\n",
       "0 -0.145407  0.285080 -0.300703  0.882296      0   \n",
       "1 -0.828005 -1.141059 -1.180983  0.555649      1   \n",
       "2 -1.079602 -1.573063 -1.271712  1.253689      0   \n",
       "3 -0.014981 -0.762199  0.931147 -0.096931      1   \n",
       "4 -1.940879  0.435595 -1.717773  1.121779      1   \n",
       "\n",
       "                                              smiles  \n",
       "0                CCOc1ccccc1N1CCN(Cc2csc3ccccc23)CC1  \n",
       "1    Clc1cccc(N2CCCN(CCCOc3ccc4CCC(=O)Nc4c3)CC2)c1Cl  \n",
       "2  Clc1cccc(N2CCN(C\\\\C=C\\\\CNC(=O)c3ccc-4c(Cc5cccc...  \n",
       "3   CCCCn1cc(COc2ccc(CN3CCN(CC3)c3ccccc3OC)cc2OC)nn1  \n",
       "4  O=C1N(CCCCCCN2CCN(CC2)c2cccc3ccccc23)S(=O)(=O)...  \n",
       "\n",
       "[5 rows x 34 columns]"
      ]
     },
     "execution_count": 2,
     "metadata": {},
     "output_type": "execute_result"
    }
   ],
   "source": [
    "data_path = f'./data/encoded_data/GRUv3_tatra/mu_d2_epoch_80.parquet'\n",
    "data = pd.read_parquet(data_path)\n",
    "data.head()"
   ]
  },
  {
   "cell_type": "code",
   "execution_count": 29,
   "id": "c531f560",
   "metadata": {},
   "outputs": [],
   "source": [
    "model_params = {'n_estimators':100, 'max_depth': 7, 'tree_method':'auto'}\n",
    "\n",
    "XG = VectorDiscriminator(data_path = data_path, model=XGBClassifier, model_params=model_params)\n",
    "XG.save_model(f'./models/XGBC.pkl')"
   ]
  },
  {
   "cell_type": "code",
   "execution_count": 3,
   "id": "b844a0a4",
   "metadata": {},
   "outputs": [],
   "source": [
    "import numpy as np\n",
    "import pandas as pd\n",
    "import pickle"
   ]
  },
  {
   "cell_type": "code",
   "execution_count": 4,
   "id": "83ad26ea",
   "metadata": {},
   "outputs": [],
   "source": [
    "data_path = f'./data/encoded_data/GRUv3_tatra/mu_d2_epoch_80.parquet'"
   ]
  },
  {
   "cell_type": "code",
   "execution_count": 7,
   "id": "2ae25a98",
   "metadata": {},
   "outputs": [],
   "source": [
    "from sklearn.ensemble import RandomForestClassifier as RFC"
   ]
  },
  {
   "cell_type": "code",
   "execution_count": 6,
   "id": "36b91004",
   "metadata": {},
   "outputs": [],
   "source": [
    "RF_params = {'max_depth':7, 'n_estimators':200}"
   ]
  },
  {
   "cell_type": "code",
   "execution_count": 8,
   "id": "07a4addf",
   "metadata": {},
   "outputs": [],
   "source": [
    "RF = RFC(**RF_params)"
   ]
  },
  {
   "cell_type": "code",
   "execution_count": 9,
   "id": "01216f78",
   "metadata": {},
   "outputs": [
    {
     "name": "stdout",
     "output_type": "stream",
     "text": [
      "RandomForestClassifier(max_depth=7, n_estimators=200)\n"
     ]
    }
   ],
   "source": [
    "print(RF)"
   ]
  },
  {
   "cell_type": "code",
   "execution_count": null,
   "id": "7210a9d0",
   "metadata": {},
   "outputs": [],
   "source": [
    "for file in os.scandir(f'./folder'):\n",
    "    print(file.path)"
   ]
  },
  {
   "cell_type": "code",
   "execution_count": 13,
   "id": "8b2096ec",
   "metadata": {},
   "outputs": [
    {
     "data": {
      "text/html": [
       "<div>\n",
       "<style scoped>\n",
       "    .dataframe tbody tr th:only-of-type {\n",
       "        vertical-align: middle;\n",
       "    }\n",
       "\n",
       "    .dataframe tbody tr th {\n",
       "        vertical-align: top;\n",
       "    }\n",
       "\n",
       "    .dataframe thead th {\n",
       "        text-align: right;\n",
       "    }\n",
       "</style>\n",
       "<table border=\"1\" class=\"dataframe\">\n",
       "  <thead>\n",
       "    <tr style=\"text-align: right;\">\n",
       "      <th></th>\n",
       "      <th>0</th>\n",
       "      <th>1</th>\n",
       "      <th>2</th>\n",
       "      <th>3</th>\n",
       "      <th>4</th>\n",
       "      <th>5</th>\n",
       "      <th>6</th>\n",
       "      <th>7</th>\n",
       "      <th>8</th>\n",
       "      <th>9</th>\n",
       "      <th>...</th>\n",
       "      <th>24</th>\n",
       "      <th>25</th>\n",
       "      <th>26</th>\n",
       "      <th>27</th>\n",
       "      <th>28</th>\n",
       "      <th>29</th>\n",
       "      <th>30</th>\n",
       "      <th>31</th>\n",
       "      <th>label</th>\n",
       "      <th>smiles</th>\n",
       "    </tr>\n",
       "  </thead>\n",
       "  <tbody>\n",
       "    <tr>\n",
       "      <th>0</th>\n",
       "      <td>2.103291</td>\n",
       "      <td>0.843166</td>\n",
       "      <td>0.661608</td>\n",
       "      <td>-0.493326</td>\n",
       "      <td>-1.515839</td>\n",
       "      <td>-2.089014</td>\n",
       "      <td>0.606348</td>\n",
       "      <td>-0.469643</td>\n",
       "      <td>0.877941</td>\n",
       "      <td>-0.208975</td>\n",
       "      <td>...</td>\n",
       "      <td>-0.873071</td>\n",
       "      <td>-0.145492</td>\n",
       "      <td>1.004696</td>\n",
       "      <td>-1.318560</td>\n",
       "      <td>-0.145407</td>\n",
       "      <td>0.285080</td>\n",
       "      <td>-0.300703</td>\n",
       "      <td>0.882296</td>\n",
       "      <td>0</td>\n",
       "      <td>CCOc1ccccc1N1CCN(Cc2csc3ccccc23)CC1</td>\n",
       "    </tr>\n",
       "    <tr>\n",
       "      <th>1</th>\n",
       "      <td>0.084732</td>\n",
       "      <td>0.248637</td>\n",
       "      <td>-0.556829</td>\n",
       "      <td>0.009932</td>\n",
       "      <td>1.081340</td>\n",
       "      <td>-0.282894</td>\n",
       "      <td>-0.088232</td>\n",
       "      <td>-0.499152</td>\n",
       "      <td>-1.568471</td>\n",
       "      <td>1.201898</td>\n",
       "      <td>...</td>\n",
       "      <td>0.337907</td>\n",
       "      <td>0.026669</td>\n",
       "      <td>-0.503294</td>\n",
       "      <td>-1.266375</td>\n",
       "      <td>-0.828005</td>\n",
       "      <td>-1.141059</td>\n",
       "      <td>-1.180983</td>\n",
       "      <td>0.555649</td>\n",
       "      <td>1</td>\n",
       "      <td>Clc1cccc(N2CCCN(CCCOc3ccc4CCC(=O)Nc4c3)CC2)c1Cl</td>\n",
       "    </tr>\n",
       "    <tr>\n",
       "      <th>2</th>\n",
       "      <td>-0.397815</td>\n",
       "      <td>0.610840</td>\n",
       "      <td>-0.476965</td>\n",
       "      <td>0.347521</td>\n",
       "      <td>0.481587</td>\n",
       "      <td>-0.262544</td>\n",
       "      <td>1.504975</td>\n",
       "      <td>-0.690981</td>\n",
       "      <td>-2.350592</td>\n",
       "      <td>-0.537407</td>\n",
       "      <td>...</td>\n",
       "      <td>-0.901967</td>\n",
       "      <td>-0.225223</td>\n",
       "      <td>-2.738622</td>\n",
       "      <td>0.549640</td>\n",
       "      <td>-1.079602</td>\n",
       "      <td>-1.573063</td>\n",
       "      <td>-1.271712</td>\n",
       "      <td>1.253689</td>\n",
       "      <td>0</td>\n",
       "      <td>Clc1cccc(N2CCN(C\\\\C=C\\\\CNC(=O)c3ccc-4c(Cc5cccc...</td>\n",
       "    </tr>\n",
       "    <tr>\n",
       "      <th>3</th>\n",
       "      <td>0.736050</td>\n",
       "      <td>0.191576</td>\n",
       "      <td>-0.276621</td>\n",
       "      <td>0.154883</td>\n",
       "      <td>1.483294</td>\n",
       "      <td>-1.731227</td>\n",
       "      <td>0.902199</td>\n",
       "      <td>-1.820714</td>\n",
       "      <td>1.994340</td>\n",
       "      <td>-0.670644</td>\n",
       "      <td>...</td>\n",
       "      <td>-0.545237</td>\n",
       "      <td>-0.073662</td>\n",
       "      <td>-0.094587</td>\n",
       "      <td>-0.723571</td>\n",
       "      <td>-0.014981</td>\n",
       "      <td>-0.762199</td>\n",
       "      <td>0.931147</td>\n",
       "      <td>-0.096931</td>\n",
       "      <td>1</td>\n",
       "      <td>CCCCn1cc(COc2ccc(CN3CCN(CC3)c3ccccc3OC)cc2OC)nn1</td>\n",
       "    </tr>\n",
       "    <tr>\n",
       "      <th>4</th>\n",
       "      <td>0.324591</td>\n",
       "      <td>1.113374</td>\n",
       "      <td>0.858957</td>\n",
       "      <td>0.610884</td>\n",
       "      <td>-0.696307</td>\n",
       "      <td>-0.364246</td>\n",
       "      <td>-0.487522</td>\n",
       "      <td>1.782806</td>\n",
       "      <td>-1.641602</td>\n",
       "      <td>-1.595864</td>\n",
       "      <td>...</td>\n",
       "      <td>0.343896</td>\n",
       "      <td>0.047728</td>\n",
       "      <td>0.137577</td>\n",
       "      <td>-1.361735</td>\n",
       "      <td>-1.940879</td>\n",
       "      <td>0.435595</td>\n",
       "      <td>-1.717773</td>\n",
       "      <td>1.121779</td>\n",
       "      <td>1</td>\n",
       "      <td>O=C1N(CCCCCCN2CCN(CC2)c2cccc3ccccc23)S(=O)(=O)...</td>\n",
       "    </tr>\n",
       "  </tbody>\n",
       "</table>\n",
       "<p>5 rows × 34 columns</p>\n",
       "</div>"
      ],
      "text/plain": [
       "          0         1         2         3         4         5         6  \\\n",
       "0  2.103291  0.843166  0.661608 -0.493326 -1.515839 -2.089014  0.606348   \n",
       "1  0.084732  0.248637 -0.556829  0.009932  1.081340 -0.282894 -0.088232   \n",
       "2 -0.397815  0.610840 -0.476965  0.347521  0.481587 -0.262544  1.504975   \n",
       "3  0.736050  0.191576 -0.276621  0.154883  1.483294 -1.731227  0.902199   \n",
       "4  0.324591  1.113374  0.858957  0.610884 -0.696307 -0.364246 -0.487522   \n",
       "\n",
       "          7         8         9  ...        24        25        26        27  \\\n",
       "0 -0.469643  0.877941 -0.208975  ... -0.873071 -0.145492  1.004696 -1.318560   \n",
       "1 -0.499152 -1.568471  1.201898  ...  0.337907  0.026669 -0.503294 -1.266375   \n",
       "2 -0.690981 -2.350592 -0.537407  ... -0.901967 -0.225223 -2.738622  0.549640   \n",
       "3 -1.820714  1.994340 -0.670644  ... -0.545237 -0.073662 -0.094587 -0.723571   \n",
       "4  1.782806 -1.641602 -1.595864  ...  0.343896  0.047728  0.137577 -1.361735   \n",
       "\n",
       "         28        29        30        31  label  \\\n",
       "0 -0.145407  0.285080 -0.300703  0.882296      0   \n",
       "1 -0.828005 -1.141059 -1.180983  0.555649      1   \n",
       "2 -1.079602 -1.573063 -1.271712  1.253689      0   \n",
       "3 -0.014981 -0.762199  0.931147 -0.096931      1   \n",
       "4 -1.940879  0.435595 -1.717773  1.121779      1   \n",
       "\n",
       "                                              smiles  \n",
       "0                CCOc1ccccc1N1CCN(Cc2csc3ccccc23)CC1  \n",
       "1    Clc1cccc(N2CCCN(CCCOc3ccc4CCC(=O)Nc4c3)CC2)c1Cl  \n",
       "2  Clc1cccc(N2CCN(C\\\\C=C\\\\CNC(=O)c3ccc-4c(Cc5cccc...  \n",
       "3   CCCCn1cc(COc2ccc(CN3CCN(CC3)c3ccccc3OC)cc2OC)nn1  \n",
       "4  O=C1N(CCCCCCN2CCN(CC2)c2cccc3ccccc23)S(=O)(=O)...  \n",
       "\n",
       "[5 rows x 34 columns]"
      ]
     },
     "execution_count": 13,
     "metadata": {},
     "output_type": "execute_result"
    }
   ],
   "source": [
    "data = pd.read_parquet(data_path)\n",
    "data.head()"
   ]
  },
  {
   "cell_type": "code",
   "execution_count": 15,
   "id": "2b0861f6",
   "metadata": {},
   "outputs": [],
   "source": [
    "X_data = data.drop(['label', 'smiles'], axis=1)\n",
    "y_data = data['label']"
   ]
  },
  {
   "cell_type": "code",
   "execution_count": 16,
   "id": "3380c131",
   "metadata": {},
   "outputs": [
    {
     "data": {
      "text/html": [
       "<style>#sk-container-id-1 {color: black;background-color: white;}#sk-container-id-1 pre{padding: 0;}#sk-container-id-1 div.sk-toggleable {background-color: white;}#sk-container-id-1 label.sk-toggleable__label {cursor: pointer;display: block;width: 100%;margin-bottom: 0;padding: 0.3em;box-sizing: border-box;text-align: center;}#sk-container-id-1 label.sk-toggleable__label-arrow:before {content: \"▸\";float: left;margin-right: 0.25em;color: #696969;}#sk-container-id-1 label.sk-toggleable__label-arrow:hover:before {color: black;}#sk-container-id-1 div.sk-estimator:hover label.sk-toggleable__label-arrow:before {color: black;}#sk-container-id-1 div.sk-toggleable__content {max-height: 0;max-width: 0;overflow: hidden;text-align: left;background-color: #f0f8ff;}#sk-container-id-1 div.sk-toggleable__content pre {margin: 0.2em;color: black;border-radius: 0.25em;background-color: #f0f8ff;}#sk-container-id-1 input.sk-toggleable__control:checked~div.sk-toggleable__content {max-height: 200px;max-width: 100%;overflow: auto;}#sk-container-id-1 input.sk-toggleable__control:checked~label.sk-toggleable__label-arrow:before {content: \"▾\";}#sk-container-id-1 div.sk-estimator input.sk-toggleable__control:checked~label.sk-toggleable__label {background-color: #d4ebff;}#sk-container-id-1 div.sk-label input.sk-toggleable__control:checked~label.sk-toggleable__label {background-color: #d4ebff;}#sk-container-id-1 input.sk-hidden--visually {border: 0;clip: rect(1px 1px 1px 1px);clip: rect(1px, 1px, 1px, 1px);height: 1px;margin: -1px;overflow: hidden;padding: 0;position: absolute;width: 1px;}#sk-container-id-1 div.sk-estimator {font-family: monospace;background-color: #f0f8ff;border: 1px dotted black;border-radius: 0.25em;box-sizing: border-box;margin-bottom: 0.5em;}#sk-container-id-1 div.sk-estimator:hover {background-color: #d4ebff;}#sk-container-id-1 div.sk-parallel-item::after {content: \"\";width: 100%;border-bottom: 1px solid gray;flex-grow: 1;}#sk-container-id-1 div.sk-label:hover label.sk-toggleable__label {background-color: #d4ebff;}#sk-container-id-1 div.sk-serial::before {content: \"\";position: absolute;border-left: 1px solid gray;box-sizing: border-box;top: 0;bottom: 0;left: 50%;z-index: 0;}#sk-container-id-1 div.sk-serial {display: flex;flex-direction: column;align-items: center;background-color: white;padding-right: 0.2em;padding-left: 0.2em;position: relative;}#sk-container-id-1 div.sk-item {position: relative;z-index: 1;}#sk-container-id-1 div.sk-parallel {display: flex;align-items: stretch;justify-content: center;background-color: white;position: relative;}#sk-container-id-1 div.sk-item::before, #sk-container-id-1 div.sk-parallel-item::before {content: \"\";position: absolute;border-left: 1px solid gray;box-sizing: border-box;top: 0;bottom: 0;left: 50%;z-index: -1;}#sk-container-id-1 div.sk-parallel-item {display: flex;flex-direction: column;z-index: 1;position: relative;background-color: white;}#sk-container-id-1 div.sk-parallel-item:first-child::after {align-self: flex-end;width: 50%;}#sk-container-id-1 div.sk-parallel-item:last-child::after {align-self: flex-start;width: 50%;}#sk-container-id-1 div.sk-parallel-item:only-child::after {width: 0;}#sk-container-id-1 div.sk-dashed-wrapped {border: 1px dashed gray;margin: 0 0.4em 0.5em 0.4em;box-sizing: border-box;padding-bottom: 0.4em;background-color: white;}#sk-container-id-1 div.sk-label label {font-family: monospace;font-weight: bold;display: inline-block;line-height: 1.2em;}#sk-container-id-1 div.sk-label-container {text-align: center;}#sk-container-id-1 div.sk-container {/* jupyter's `normalize.less` sets `[hidden] { display: none; }` but bootstrap.min.css set `[hidden] { display: none !important; }` so we also need the `!important` here to be able to override the default hidden behavior on the sphinx rendered scikit-learn.org. See: https://github.com/scikit-learn/scikit-learn/issues/21755 */display: inline-block !important;position: relative;}#sk-container-id-1 div.sk-text-repr-fallback {display: none;}</style><div id=\"sk-container-id-1\" class=\"sk-top-container\"><div class=\"sk-text-repr-fallback\"><pre>RandomForestClassifier(max_depth=7, n_estimators=200)</pre><b>In a Jupyter environment, please rerun this cell to show the HTML representation or trust the notebook. <br />On GitHub, the HTML representation is unable to render, please try loading this page with nbviewer.org.</b></div><div class=\"sk-container\" hidden><div class=\"sk-item\"><div class=\"sk-estimator sk-toggleable\"><input class=\"sk-toggleable__control sk-hidden--visually\" id=\"sk-estimator-id-1\" type=\"checkbox\" checked><label for=\"sk-estimator-id-1\" class=\"sk-toggleable__label sk-toggleable__label-arrow\">RandomForestClassifier</label><div class=\"sk-toggleable__content\"><pre>RandomForestClassifier(max_depth=7, n_estimators=200)</pre></div></div></div></div></div>"
      ],
      "text/plain": [
       "RandomForestClassifier(max_depth=7, n_estimators=200)"
      ]
     },
     "execution_count": 16,
     "metadata": {},
     "output_type": "execute_result"
    }
   ],
   "source": [
    "RF.fit(X_data, y_data)"
   ]
  },
  {
   "cell_type": "code",
   "execution_count": 18,
   "id": "39dd18a7",
   "metadata": {},
   "outputs": [],
   "source": [
    "with open(f'./models/RF.pkl', 'wb') as file:\n",
    "    pickle.dump(RF, file)"
   ]
  },
  {
   "cell_type": "code",
   "execution_count": 19,
   "id": "5b1cc011",
   "metadata": {},
   "outputs": [],
   "source": [
    "with open(f'./models/RF.pkl', 'rb') as file:\n",
    "    model = pickle.load(file)"
   ]
  },
  {
   "cell_type": "code",
   "execution_count": 20,
   "id": "e91a0b08",
   "metadata": {},
   "outputs": [
    {
     "name": "stdout",
     "output_type": "stream",
     "text": [
      "RandomForestClassifier(max_depth=7, n_estimators=200)\n"
     ]
    }
   ],
   "source": [
    "print(model)"
   ]
  },
  {
   "cell_type": "code",
   "execution_count": 33,
   "id": "1118efbb",
   "metadata": {},
   "outputs": [],
   "source": [
    "predictions = pd.Series(model.predict_proba(X_data)[:, 1], name='Prob')"
   ]
  },
  {
   "cell_type": "code",
   "execution_count": 32,
   "id": "bdf7bde7",
   "metadata": {},
   "outputs": [
    {
     "name": "stdout",
     "output_type": "stream",
     "text": [
      "0    0.754400\n",
      "1    0.246716\n",
      "2    0.655308\n",
      "3    0.564946\n",
      "4    0.363109\n",
      "Name: Prob, dtype: float64\n"
     ]
    }
   ],
   "source": [
    "print(predictions.head())"
   ]
  },
  {
   "cell_type": "code",
   "execution_count": 34,
   "id": "c52376ac",
   "metadata": {},
   "outputs": [],
   "source": [
    "from xgboost import XGBClassifier"
   ]
  },
  {
   "cell_type": "code",
   "execution_count": 35,
   "id": "2c23435b",
   "metadata": {},
   "outputs": [],
   "source": [
    "model = XGBClassifier(tree_method='gpu_hist')"
   ]
  },
  {
   "cell_type": "code",
   "execution_count": 38,
   "id": "0102dd62",
   "metadata": {},
   "outputs": [],
   "source": [
    "from sklearn.svm import SVC\n",
    "SV = SVC(probability=True)\n"
   ]
  },
  {
   "cell_type": "code",
   "execution_count": null,
   "id": "643a6068",
   "metadata": {},
   "outputs": [],
   "source": []
  }
 ],
 "metadata": {
  "kernelspec": {
   "display_name": "Python 3 (ipykernel)",
   "language": "python",
   "name": "python3"
  },
  "language_info": {
   "codemirror_mode": {
    "name": "ipython",
    "version": 3
   },
   "file_extension": ".py",
   "mimetype": "text/x-python",
   "name": "python",
   "nbconvert_exporter": "python",
   "pygments_lexer": "ipython3",
   "version": "3.9.16"
  }
 },
 "nbformat": 4,
 "nbformat_minor": 5
}
