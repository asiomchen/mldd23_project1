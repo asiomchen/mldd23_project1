{
 "cells": [
  {
   "cell_type": "code",
   "execution_count": 1,
   "id": "06f43340",
   "metadata": {},
   "outputs": [],
   "source": [
    "import numpy as np\n",
    "import pandas as pd\n",
    "import matplotlib.pyplot as plt\n",
    "import rdkit\n",
    "from rdkit import Chem\n",
    "from rdkit.Chem import Descriptors\n",
    "from rdkit.Chem import AllChem\n",
    "from rdkit.Chem import rdChemReactions\n",
    "import os\n",
    "import selfies as sf\n",
    "from IPython.display import display_png\n",
    "from rdkit.Chem.Draw import IPythonConsole"
   ]
  },
  {
   "cell_type": "code",
   "execution_count": 3,
   "id": "e3053596",
   "metadata": {},
   "outputs": [],
   "source": [
    "class CompVal():\n",
    "    \n",
    "    def __init__(self, selfie):\n",
    "        IPythonConsole.ipython_useSVG = True\n",
    "        self.selfie = selfie\n",
    "        self.smiles = sf.decoder(self.selfie)\n",
    "        self.mol = rdkit.Chem.MolFromSmiles(self.smiles)\n",
    "        #self.mol = Chem.AddHs(self.mol)\n",
    "        self.HBA = Descriptors.NumHAcceptors(self.mol) \n",
    "        self.HBD = Descriptors.NumHDonors(self.mol)\n",
    "        self.ClogP = Descriptors.MolLogP(self.mol)\n",
    "        self.MW = Descriptors.MolWt(self.mol)\n",
    "        self.is_drug_like = None\n",
    "    \n",
    "    def draw_mol(self):\n",
    "        img = Chem.Draw.MolToImage(self.mol)\n",
    "        display_png(img)\n",
    "        \n",
    "    def validate(self):\n",
    "        self.is_drug_like = (self.HBA) <= 10 & (self.HBD <= 5) & (self.ClogP >= 0 ) & (self.ClogP <= 5) & (self.MW <= 500)\n",
    "        \n",
    "    def remove_pentyl(self):\n",
    "        pattern = Chem.MolFromSmarts('[CH2]-[CH2]-[CH2]-[CH2]-[CH3]')\n",
    "        replacement = Chem.MolFromSmarts('[CH3]')\n",
    "        mol = Chem.ReplaceSubstructs(self.mol, pattern, replacement)[0]\n",
    "        mol = Chem.AddHs(mol)\n",
    "        mol = Chem.RemoveHs(mol)\n",
    "        self.mol = mol\n",
    "        self.smiles = Chem.MolToSmiles(self.mol)\n",
    "        \n",
    "    def remove_allen(self):\n",
    "        pattern = Chem.MolFromSmarts('[CH]=[CH]=[CH]=[CH2]')\n",
    "        replacement = Chem.MolFromSmarts('[CH3]')\n",
    "        mol = Chem.ReplaceSubstructs(self.mol, pattern, replacement)[0]\n",
    "        mol = Chem.AddHs(mol)\n",
    "        mol = Chem.RemoveHs(mol)\n",
    "        self.mol = mol\n",
    "        self.smiles = Chem.MolToSmiles(self.mol)\n",
    "    \n",
    "    #def remove_cycloprop(self):\n",
    "        \n",
    "    \n",
    "    def remove_inner(self): # W sumie to nie działa xd\n",
    "        pattern = Chem.MolFromSmarts('[CH2]-[CH2]-[CH2]-[CH2]')\n",
    "        replacement = Chem.MolFromSmarts('[CH2]')\n",
    "        mol = Chem.ReplaceSubstructs(self.mol, pattern, replacement)[0]\n",
    "        components = Chem.GetMolFrags(mol, asMols=True)\n",
    "        mol = Chem.CombineMols(components[0], components[1])\n",
    "        mol = Chem.AddHs(mol)\n",
    "        mol = Chem.RemoveHs(mol)\n",
    "        self.mol = mol\n",
    "        self.smiles = Chem.MolToSmiles(self.mol).replace('.','')\n",
    "        self.mol = Chem.MolFromSmiles(self.smiles)\n",
    "        \n",
    "    def make_benzen(self):\n",
    "        pass\n",
    "        #reaction_smarts = \n",
    "        "
   ]
  },
  {
   "cell_type": "code",
   "execution_count": 16,
   "id": "fccffaac",
   "metadata": {},
   "outputs": [
    {
     "data": {
      "image/png": "[encoded data removed]"
     },
     "metadata": {},
     "output_type": "display_data"
    },
    {
     "data": {
      "image/png": "[encoded data removed]"
     },
     "metadata": {},
     "output_type": "display_data"
    }
   ],
   "source": [
    "selfie = \"[#Branch1][C][O][C][=C][C][=C][Branch2][Ring1][C][C][C][C][=Branch1][C][C][C][C][C][C][C][C][C][C][C][C][C][C][C][C][C][C][C][C][C][C][C][C][C][Ring1]\"\n",
    "\n",
    "comp_val = CompVal(selfie)\n",
    "comp_val.draw_mol()\n",
    "comp_val.remove_inner()\n",
    "comp_val.remove_pentyl()\n",
    "comp_val.remove_inner()\n",
    "comp_val.remove_inner()\n",
    "comp_val.draw_mol()"
   ]
  },
  {
   "cell_type": "code",
   "execution_count": null,
   "id": "59f22d3a",
   "metadata": {},
   "outputs": [],
   "source": []
  },
  {
   "cell_type": "code",
   "execution_count": null,
   "id": "bb08f53a",
   "metadata": {},
   "outputs": [],
   "source": []
  }
 ],
 "metadata": {
  "kernelspec": {
   "display_name": "Python 3 (ipykernel)",
   "language": "python",
   "name": "python3"
  },
  "language_info": {
   "codemirror_mode": {
    "name": "ipython",
    "version": 3
   },
   "file_extension": ".py",
   "mimetype": "text/x-python",
   "name": "python",
   "nbconvert_exporter": "python",
   "pygments_lexer": "ipython3",
   "version": "3.9.16"
  }
 },
 "nbformat": 4,
 "nbformat_minor": 5
}
