{
 "cells": [
  {
   "cell_type": "code",
   "execution_count": 2,
   "id": "06f43340",
   "metadata": {},
   "outputs": [],
   "source": [
    "import numpy as np\n",
    "import pandas as pd\n",
    "import matplotlib.pyplot as plt\n",
    "import rdkit\n",
    "from rdkit import Chem\n",
    "from rdkit.Chem import Descriptors\n",
    "from rdkit.Chem import AllChem\n",
    "from rdkit.Chem import rdChemReactions\n",
    "import os\n",
    "import selfies as sf\n",
    "from IPython.display import display_png\n",
    "from rdkit.Chem.Draw import IPythonConsole\n",
    "import re"
   ]
  },
  {
   "cell_type": "code",
   "execution_count": 112,
   "id": "e3053596",
   "metadata": {},
   "outputs": [],
   "source": [
    "class CompVal():\n",
    "    \n",
    "    def __init__(self, selfie):\n",
    "        IPythonConsole.ipython_useSVG = True\n",
    "        self.selfie = selfie\n",
    "        self.smiles = sf.decoder(self.selfie)\n",
    "        self.mol = rdkit.Chem.MolFromSmiles(self.smiles)\n",
    "        self.is_drug_like = None\n",
    "    \n",
    "    def draw_mol(self):\n",
    "        img = Chem.Draw.MolToImage(self.mol)\n",
    "        display_png(img)\n",
    "        \n",
    "    def validate(self):\n",
    "        self.HBA = Descriptors.NumHAcceptors(self.mol) \n",
    "        self.HBD = Descriptors.NumHDonors(self.mol)\n",
    "        self.ClogP = Descriptors.MolLogP(self.mol)\n",
    "        self.MW = Descriptors.MolWt(self.mol)\n",
    "        self.is_drug_like = {\n",
    "            'HBA': self.HBA <= 10,\n",
    "            'HBD': self.HBD <= 5,\n",
    "            'ClogP': (self.ClogP >=0) & (self.ClogP <= 5),\n",
    "            'MW': self.MW <= 500\n",
    "        }\n",
    "        print(self.is_drug_like)\n",
    "        \n",
    "    def remove_pentyl(self):\n",
    "        pattern = Chem.MolFromSmarts('[CH2]-[CH2]-[CH2]-[CH2]-[CH3]')\n",
    "        replacement = Chem.MolFromSmarts('[CH3]')\n",
    "        mol = Chem.ReplaceSubstructs(self.mol, pattern, replacement)[0]\n",
    "        mol = Chem.AddHs(mol)\n",
    "        mol = Chem.RemoveHs(mol)\n",
    "        self.mol = mol\n",
    "        self.smiles = Chem.MolToSmiles(self.mol)\n",
    "        self.selfie = sf.encoder(self.smiles)\n",
    "        \n",
    "    def remove_allene_mol(self): \n",
    "        \"\"\"\n",
    "        Method for removing allene parts using mol objects\n",
    "        \"\"\"\n",
    "        pattern = Chem.MolFromSmarts('[CH]=[CH]=[CH]=[CH2]')\n",
    "        replacement = Chem.MolFromSmarts('[CH3]')\n",
    "        mol = Chem.ReplaceSubstructs(self.mol, pattern, replacement)[0]\n",
    "        mol = Chem.AddHs(mol)\n",
    "        mol = Chem.RemoveHs(mol)\n",
    "        self.mol = mol\n",
    "        self.smiles = Chem.MolToSmiles(self.mol)\n",
    "        self.selfie = sf.encoder(self.smiles)\n",
    "    \n",
    "    def remove_cps_mol(self):\n",
    "        \"\"\"\n",
    "        Method for removing unsaturated tricyclic carbon rings\n",
    "        \"\"\"\n",
    "        patterns = [Chem.MolFromSmarts('[!R]~[C]1=[CH]~[C]1'), Chem.MolFromSmarts('[!R]~[C]1#[C]~[C]1'),\n",
    "                   Chem.MolFromSmarts('[!R]~[C]1~[C]=[C]1'), Chem.MolFromSmarts('[!R]~[C]1~[C]#[C]1')]\n",
    "        replacement = Chem.MolFromSmarts('[CH3]')\n",
    "        for pattern in patterns:\n",
    "            try:\n",
    "                mol = Chem.ReplaceSubstructs(self.mol, pattern, replacement)[0]\n",
    "                mol = Chem.AddHs(mol)\n",
    "                mol = Chem.RemoveHs(mol)\n",
    "                self.mol = mol\n",
    "                self.smiles = Chem.MolToSmiles(self.mol)\n",
    "                self.selfie = sf.encoder(self.smiles) \n",
    "            except:\n",
    "                print('Doesn\"t work')      \n",
    "    \n",
    "    def remove_alkane_reg(self):\n",
    "        \"\"\"\n",
    "        Method for removing long carbon chains (>3 -CH2-) using RegEx on selfies\n",
    "        \"\"\"\n",
    "        reg = r'(\\[C\\]\\[C\\])(?:\\[C\\]){4,8}(\\[C\\])'\n",
    "        new_selfie = re.sub(reg, r'\\1\\2', self.selfie)\n",
    "        if new_selfie == self.selfie:\n",
    "            pass\n",
    "        else:\n",
    "            self.selfie = new_selfie\n",
    "            self.smiles = sf.decoder(self.selfie)\n",
    "            self.mol = Chem.MolFromSmiles(self.smiles)\n",
    "        \n",
    "    def remove_allene_reg(self):\n",
    "        \"\"\"\n",
    "        Method for removing allene groups (~CH=CH=CH~) using RegEx on selfies\n",
    "        \"\"\"\n",
    "        reg = r'(.)(?:\\[=C\\]){,5}(\\[=C\\])'\n",
    "        new_selfie = re.sub(reg, r'\\1\\2', self.selfie)\n",
    "        if new_selfie == self.selfie:\n",
    "            pass\n",
    "        else:\n",
    "            self.selfie = new_selfie\n",
    "            self.smiles = sf.decoder(self.selfie)\n",
    "            self.mol = Chem.MolFromSmiles(self.smiles)\n",
    "        \n",
    "    def make_benzen(self):\n",
    "        pass\n",
    "        #reaction_smarts = \n",
    "        "
   ]
  },
  {
   "cell_type": "code",
   "execution_count": 117,
   "id": "b8bd685b",
   "metadata": {},
   "outputs": [
    {
     "data": {
      "image/png": "[encoded data removed]"
     },
     "metadata": {},
     "output_type": "display_data"
    },
    {
     "data": {
      "image/png": "[encoded data removed]"
     },
     "metadata": {},
     "output_type": "display_data"
    },
    {
     "name": "stdout",
     "output_type": "stream",
     "text": [
      "{'HBA': True, 'HBD': True, 'ClogP': True, 'MW': True}\n"
     ]
    }
   ],
   "source": [
    "selfie = \"[N][C][=Branch1][C][=O][C][=C][C][Branch2][Ring1][P][C][=C][C][=C][Branch2][Ring1][Branch1][O][C][=C][C][=C][Branch1][#Branch2][O][C][Branch1][C][F][Branch1][C][F][F][C][=C][Ring1][O][C][=C][Ring2][Ring1][C][=C][C][Branch1][#Branch1][C][Branch1][C][O][C][O][=N][Ring2][Ring1][N]\"\n",
    "\n",
    "comp_val = CompVal(selfie)\n",
    "comp_val.draw_mol()\n",
    "comp_val.remove_alkane_reg()\n",
    "comp_val.remove_allene_reg()\n",
    "comp_val.remove_cps_mol()\n",
    "comp_val.draw_mol()\n",
    "comp_val.validate()"
   ]
  },
  {
   "cell_type": "code",
   "execution_count": null,
   "id": "1e8f4aa3",
   "metadata": {},
   "outputs": [],
   "source": []
  },
  {
   "cell_type": "code",
   "execution_count": null,
   "id": "544ad1b0",
   "metadata": {},
   "outputs": [],
   "source": []
  }
 ],
 "metadata": {
  "kernelspec": {
   "display_name": "Python 3 (ipykernel)",
   "language": "python",
   "name": "python3"
  },
  "language_info": {
   "codemirror_mode": {
    "name": "ipython",
    "version": 3
   },
   "file_extension": ".py",
   "mimetype": "text/x-python",
   "name": "python",
   "nbconvert_exporter": "python",
   "pygments_lexer": "ipython3",
   "version": "3.9.16"
  }
 },
 "nbformat": 4,
 "nbformat_minor": 5
}
