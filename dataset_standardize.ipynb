{
 "cells": [
  {
   "cell_type": "code",
   "execution_count": 18,
   "id": "958da8e2",
   "metadata": {},
   "outputs": [],
   "source": [
    "import pandas as pd\n",
    "import numpy as np\n",
    "import rdkit\n",
    "import rdkit.Chem as Chem\n",
    "import rdkit.Chem.MolStandardize.rdMolStandardize as rdMolStandardize\n",
    "import rdkit.Chem.rdMolDescriptors as rdMolDescriptors\n",
    "import rdkit.Chem.rdmolops as rdmolops\n",
    "import multiprocessing as mp\n",
    "import queue\n",
    "import time\n",
    "import selfies as sf\n",
    "import copy"
   ]
  },
  {
   "cell_type": "code",
   "execution_count": 4,
   "id": "d89de695",
   "metadata": {},
   "outputs": [
    {
     "data": {
      "text/plain": [
       "5079"
      ]
     },
     "execution_count": 4,
     "metadata": {},
     "output_type": "execute_result"
    }
   ],
   "source": [
    "sf.set_semantic_constraints('hypervalent')\n",
    "path = f'./C1.parquet'\n",
    "df = pd.read_parquet(path)\n",
    "len(df)"
   ]
  },
  {
   "cell_type": "code",
   "execution_count": 24,
   "id": "25014d12",
   "metadata": {},
   "outputs": [],
   "source": [
    "def process_smiles(smiles):\n",
    "    try:\n",
    "        uc = rdMolStandardize.Uncharger()\n",
    "        mol = Chem.MolFromSmiles(smiles)\n",
    "        rdmolops.RemoveStereochemistry(mol)\n",
    "        mol = uc.uncharge(mol)\n",
    "        new_smiles = Chem.MolToSmiles(mol)\n",
    "        return new_smiles\n",
    "    except Exception as e:\n",
    "        print(e)\n",
    "        return None\n",
    "\n",
    "def smiles2dense(smiles):\n",
    "    mol = Chem.MolFromSmiles(smiles)\n",
    "    keys = 'data/KlekFP_keys.txt'\n",
    "    klek_keys = [line.strip() for line in open(keys)]\n",
    "    klek_keys_mols = list(map(Chem.MolFromSmarts, klek_keys))\n",
    "    fp_list = []\n",
    "    for i, key in enumerate(klek_keys_mols):\n",
    "        if mol.HasSubstructMatch(key):\n",
    "            fp_list.append(i)\n",
    "    return np.array(fp_list)\n",
    "\n",
    "def smiles2ECFP(smiles):\n",
    "    mol = Chem.MolFromSmiles(smiles)\n",
    "    vec = rdkit.Chem.rdMolDescriptors.GetMorganFingerprintAsBitVect(mol, radius=2, nBits=2048)\n",
    "    vec = np.nonzero(vec)[0]\n",
    "    return vec"
   ]
  },
  {
   "cell_type": "code",
   "execution_count": 15,
   "id": "398b8387",
   "metadata": {},
   "outputs": [],
   "source": [
    "df['cleaned_smiles'] = df['smiles'].apply(process_smiles)\n",
    "print(df.isna().sum())"
   ]
  },
  {
   "cell_type": "code",
   "execution_count": 12,
   "id": "d03c83e5",
   "metadata": {},
   "outputs": [],
   "source": [
    "df = df.dropna().reset_index(drop=True)"
   ]
  },
  {
   "cell_type": "code",
   "execution_count": 25,
   "id": "f75f0534",
   "metadata": {},
   "outputs": [],
   "source": [
    "df['Klek'] = df['cleaned_smiles'].apply(smiles2dense)\n",
    "df['ECFP'] = df['cleaned_smiles'].apply(smiles2ECFP)"
   ]
  },
  {
   "cell_type": "code",
   "execution_count": 27,
   "id": "d499a581",
   "metadata": {},
   "outputs": [],
   "source": [
    "df.to_parquet(f'./C1_cleaned.parquet')"
   ]
  }
 ],
 "metadata": {
  "kernelspec": {
   "display_name": "Python 3 (ipykernel)",
   "language": "python",
   "name": "python3"
  },
  "language_info": {
   "codemirror_mode": {
    "name": "ipython",
    "version": 3
   },
   "file_extension": ".py",
   "mimetype": "text/x-python",
   "name": "python",
   "nbconvert_exporter": "python",
   "pygments_lexer": "ipython3",
   "version": "3.9.16"
  }
 },
 "nbformat": 4,
 "nbformat_minor": 5
}
